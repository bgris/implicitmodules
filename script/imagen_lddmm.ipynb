{
 "cells": [
  {
   "cell_type": "code",
   "execution_count": null,
   "metadata": {
    "autoscroll": false,
    "collapsed": false,
    "ein.hycell": false,
    "ein.tags": "worksheet-0",
    "slideshow": {
     "slide_type": "-"
    }
   },
   "outputs": [],
   "source": [
    "%load_ext autoreload\n",
    "%autoreload 2\n",
    "\n",
    "#\n",
    "# Python module import.\n",
    "#\n",
    "\n",
    "import sys\n",
    "sys.path.append(\"../\")\n",
    "import math\n",
    "import copy\n",
    "import pickle\n",
    "import time\n",
    "\n",
    "import torch\n",
    "import matplotlib.pyplot as plt\n",
    "import nibabel as nib\n",
    "import numpy as np\n",
    "\n",
    "import imodal\n",
    "\n",
    "device = 'cpu'\n",
    "torch.set_default_dtype(torch.float32)\n",
    "imodal.Utilities.set_compute_backend('keops')"
   ]
  },
  {
   "cell_type": "code",
   "execution_count": null,
   "metadata": {
    "autoscroll": false,
    "collapsed": false,
    "ein.hycell": false,
    "ein.tags": "worksheet-0",
    "slideshow": {
     "slide_type": "-"
    }
   },
   "outputs": [],
   "source": [
    "bas = imodal.Models.Deformable3DImage.load_from_file(\"../../../data/imagen/27113512/regions/nat_amyg_000027113512_bas_roi.nii.gz\")\n",
    "fu2 = imodal.Models.Deformable3DImage.load_from_file(\"../../../data/imagen/27113512/regions/nat_amyg_000027113512_fu2_roi.nii.gz\")\n",
    "fu3 = imodal.Models.Deformable3DImage.load_from_file(\"../../../data/imagen/27113512/regions/nat_amyg_000027113512_fu3_roi.nii.gz\")"
   ]
  },
  {
   "cell_type": "code",
   "execution_count": null,
   "metadata": {
    "collapsed": false
   },
   "outputs": [],
   "source": [
    "def apply_rigid_deformation(image, offset, angles):\n",
    "    rigid_deformation = imodal.Utilities.rigid_deformation3d(angles, offset)\n",
    "    # image.apply_affine(rigid_deformation)"
   ]
  },
  {
   "cell_type": "code",
   "execution_count": null,
   "metadata": {
    "autoscroll": false,
    "collapsed": false,
    "ein.hycell": false,
    "ein.tags": "worksheet-0",
    "slideshow": {
     "slide_type": "-"
    }
   },
   "outputs": [],
   "source": [
    "fu2_offset = [6.9561116e+01, 3.0417949e+01, -5.6975957e+01]\n",
    "fu2_angles = [1.7219040e+00, 4.5891569e-02, -1.6196764e+00]\n",
    "#fu2_angles = [angle/180.*math.pi for angle in fu2_angles]\n",
    "\n",
    "fu3_offset = [1.0997878e+00, -1.2219526e+01, 6.5309704e+00]\n",
    "fu3_angles = [9.6657110e-02, 1.8558108e-02, 4.6080920e-02]\n",
    "fu3_angles = [angle/180.*math.pi for angle in fu3_angles]\n",
    "\n",
    "# Rigid registration to better match baseline and thus accelerate convergence.\n",
    "imodal.Utilities.apply_rigid_deformation(fu2, fu2_offset, fu2_angles)\n",
    "imodal.Utilities.apply_rigid_deformation(fu3, fu3_offset, fu3_angles)\n",
    "\n",
    "fu2.save_to_file(\"fu2_registered.nii.gz\")\n",
    "fu3.save_to_file(\"fu3_registered.nii.gz\")"
   ]
  },
  {
   "cell_type": "code",
   "execution_count": null,
   "metadata": {
    "collapsed": false
   },
   "outputs": [],
   "source": [
    "bas_points = imodal.Utilities.apply_linear_transform_3d(imodal.Utilities.mask_to_indices(bas.bitmap > 0.), bas.affine)\n",
    "\n",
    "aabb = imodal.Utilities.AABB.build_from_points(bas_points)\n",
    "bas_points_left = bas_points[bas_points[:, 0] < 0.]\n",
    "bas_points_right = bas_points[bas_points[:, 0] >= 0.]\n",
    "\n",
    "aabb_left = imodal.Utilities.AABB.build_from_points(bas_points_left)\n",
    "aabb_right = imodal.Utilities.AABB.build_from_points(bas_points_right)\n",
    "\n",
    "print(aabb_left.shape)\n",
    "print(aabb_right.shape)"
   ]
  },
  {
   "cell_type": "code",
   "execution_count": null,
   "metadata": {
    "collapsed": false
   },
   "outputs": [],
   "source": [
    "lddmm_sigma = 5.\n",
    "lddmm_points_density = 1./lddmm_sigma**2\n",
    "print(lddmm_points_density)\n",
    "lddmm_points_left = aabb_left.fill_uniform_density(lddmm_points_density)\n",
    "lddmm_points_right = aabb_right.fill_uniform_density(lddmm_points_density)\n",
    "\n",
    "lddmm_points = torch.cat([lddmm_points_left, lddmm_points_right])\n",
    "print(\"LDDMM control points={}\".format(lddmm_points.shape[0]))"
   ]
  },
  {
   "cell_type": "code",
   "execution_count": null,
   "metadata": {
    "collapsed": false
   },
   "outputs": [],
   "source": [
    "print(lddmm_points_density*aabb_left.volume)\n",
    "print(lddmm_points_density*aabb_right.volume)\n",
    "print(lddmm_points_density*aabb_left.volume+lddmm_points_density*aabb_right.volume)"
   ]
  },
  {
   "cell_type": "code",
   "execution_count": null,
   "metadata": {
    "collapsed": false
   },
   "outputs": [],
   "source": [
    "lddmm = imodal.DeformationModules.ImplicitModule0(3, lddmm_points.shape[0], lddmm_sigma, nu=0.1, gd=lddmm_points)"
   ]
  },
  {
   "cell_type": "code",
   "execution_count": null,
   "metadata": {
    "autoscroll": false,
    "collapsed": false,
    "ein.hycell": false,
    "ein.tags": "worksheet-0",
    "slideshow": {
     "slide_type": "-"
    }
   },
   "outputs": [],
   "source": [
    "global_translation = imodal.DeformationModules.GlobalTranslation(3)"
   ]
  },
  {
   "cell_type": "code",
   "execution_count": null,
   "metadata": {
    "autoscroll": false,
    "collapsed": false,
    "ein.hycell": false,
    "ein.tags": "worksheet-0",
    "slideshow": {
     "slide_type": "-"
    }
   },
   "outputs": [],
   "source": [
    "model = imodal.Models.RegistrationModel(copy.deepcopy(bas), [lddmm], imodal.Attachment.L2NormAttachment())"
   ]
  },
  {
   "cell_type": "code",
   "execution_count": null,
   "metadata": {
    "autoscroll": false,
    "collapsed": false,
    "ein.hycell": false,
    "ein.tags": "worksheet-0",
    "slideshow": {
     "slide_type": "-"
    }
   },
   "outputs": [],
   "source": [
    "model.to_device(device)\n",
    "fu3.to_device(device)"
   ]
  },
  {
   "cell_type": "code",
   "execution_count": null,
   "metadata": {
    "collapsed": false
   },
   "outputs": [],
   "source": [
    "shoot_solver = 'euler'\n",
    "shoot_it = 10\n",
    "costs = {}\n",
    "#fitter = imodal.Models.Fitter(model, optimizer='gd')\n",
    "fitter = imodal.Models.Fitter(model, optimizer='torch_lbfgs')\n"
   ]
  },
  {
   "cell_type": "code",
   "execution_count": null,
   "metadata": {
    "autoscroll": false,
    "collapsed": false,
    "ein.hycell": false,
    "ein.tags": "worksheet-0",
    "slideshow": {
     "slide_type": "-"
    }
   },
   "outputs": [],
   "source": [
    "#fitter.fit([fu3], 100, costs=costs, options={'shoot_solver': shoot_solver, 'shoot_it': shoot_it, 'init_step_length': 1e-13})\n",
    "fitter.fit([fu3], 100, costs=costs, options={'shoot_solver': shoot_solver, 'shoot_it': shoot_it, 'line_search_fn': 'strong_wolfe'})\n"
   ]
  },
  {
   "cell_type": "code",
   "execution_count": null,
   "metadata": {
    "autoscroll": false,
    "collapsed": false,
    "ein.hycell": false,
    "ein.tags": "worksheet-0",
    "slideshow": {
     "slide_type": "-"
    }
   },
   "outputs": [],
   "source": [
    "with torch.autograd.no_grad():\n",
    "    intermediates = {}\n",
    "    start = time.perf_counter()\n",
    "    deformed_bitmap = model.compute_deformed(shoot_solver, shoot_it, intermediates=intermediates)[0][0]\n",
    "    print(\"Elapsed time={} sec\".format(time.perf_counter() - start))"
   ]
  },
  {
   "cell_type": "code",
   "execution_count": null,
   "metadata": {
    "collapsed": false
   },
   "outputs": [],
   "source": [
    "%matplotlib qt5\n",
    "plt.figure()\n",
    "plt.subplot(1, 2, 1)\n",
    "plt.imshow(fu3.bitmap[:, :, 59])\n",
    "plt.subplot(1, 2, 2)\n",
    "plt.imshow(deformed_bitmap[:, :, 59])\n",
    "plt.show()"
   ]
  },
  {
   "cell_type": "code",
   "execution_count": null,
   "metadata": {
    "collapsed": false
   },
   "outputs": [],
   "source": [
    "%matplotlib qt5\n",
    "plt.figure()\n",
    "plt.subplot(1, 2, 1)\n",
    "plt.imshow(fu3.bitmap[:, 22, :])\n",
    "plt.subplot(1, 2, 2)\n",
    "plt.imshow(deformed_bitmap[:, 22, :])\n",
    "plt.show()"
   ]
  },
  {
   "cell_type": "code",
   "execution_count": null,
   "metadata": {
    "autoscroll": false,
    "collapsed": false,
    "ein.hycell": false,
    "ein.tags": "worksheet-0",
    "slideshow": {
     "slide_type": "-"
    }
   },
   "outputs": [],
   "source": [
    "import nibabel as nib\n",
    "nib.save(nib.Nifti1Image(deformed_bitmap.cpu().numpy(), bas.affine.numpy()), \"deformed.nii.gz\")"
   ]
  },
  {
   "cell_type": "code",
   "execution_count": null,
   "metadata": {
    "autoscroll": false,
    "collapsed": false,
    "ein.hycell": false,
    "ein.tags": "worksheet-0",
    "slideshow": {
     "slide_type": "-"
    }
   },
   "outputs": [],
   "source": []
  }
 ],
 "metadata": {
  "kernelspec": {
   "argv": [
    "python",
    "-m",
    "ipykernel_launcher",
    "-f",
    "{connection_file}"
   ],
   "display_name": "Python 3",
   "env": null,
   "interrupt_mode": "signal",
   "language": "python",
   "metadata": null,
   "name": "python3"
  },
  "name": "imagen_lddmm.ipynb"
 },
 "nbformat": 4,
 "nbformat_minor": 4
}
