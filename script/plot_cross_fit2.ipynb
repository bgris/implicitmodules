{
 "cells": [
  {
   "cell_type": "code",
   "execution_count": 1,
   "metadata": {},
   "outputs": [],
   "source": [
    "%matplotlib inline"
   ]
  },
  {
   "cell_type": "markdown",
   "metadata": {},
   "source": [
    "\n",
    "# Fitting an image and points\n",
    "\n",
    "In this example, we will fit a cross onto the same cross, but rotated. We will take advantage of this knowledge and use a rotation deformation module. We will also add some noise on the initial center guess to show how to fit the geometrical descriptors. In addition to images, we add points at the extremity of each branch that will also get matched in order to illustrate multi deformables matching. This also helps the fitting process by adding more information to the model.\n",
    "\n",
    "\n"
   ]
  },
  {
   "cell_type": "markdown",
   "metadata": {},
   "source": [
    "Import relevant modules.\n",
    "\n",
    "\n"
   ]
  },
  {
   "cell_type": "code",
   "execution_count": 2,
   "metadata": {},
   "outputs": [],
   "source": [
    "import sys\n",
    "sys.path.append(\"../\")\n",
    "\n",
    "import math\n",
    "\n",
    "import torch\n",
    "import matplotlib.pyplot as plt\n",
    "import scipy.ndimage\n",
    "\n",
    "import imodal\n",
    "\n",
    "imodal.Utilities.set_compute_backend('torch')"
   ]
  },
  {
   "cell_type": "markdown",
   "metadata": {},
   "source": [
    "Load image data and generate dots.\n",
    "\n",
    "\n"
   ]
  },
  {
   "cell_type": "code",
   "execution_count": 3,
   "metadata": {},
   "outputs": [
    {
     "name": "stdout",
     "output_type": "stream",
     "text": [
      "tensor([[9.3000, 3.1000]])\n"
     ]
    }
   ],
   "source": [
    "source_image = imodal.Utilities.load_greyscale_image(\"../data/images/cross_+_30.png\", origin='lower')\n",
    "target_image = imodal.Utilities.load_greyscale_image(\"../data/images/cross_+.png\", origin='lower')\n",
    "\n",
    "# Smoothing\n",
    "sig_smooth = 0.\n",
    "source_image = torch.tensor(scipy.ndimage.gaussian_filter(source_image, sig_smooth))\n",
    "target_image = torch.tensor(scipy.ndimage.gaussian_filter(target_image, sig_smooth))\n",
    "\n",
    "extent_length = 31.\n",
    "extent = imodal.Utilities.AABB(0., extent_length, 0., extent_length)\n",
    "\n",
    "center = extent_length*torch.tensor([[0.3, 0.1]])\n",
    "print(center)\n",
    "#center = extent_length*torch.tensor([[0.5, 0.5]])"
   ]
  },
  {
   "cell_type": "markdown",
   "metadata": {},
   "source": [
    "Plot everything.\n",
    "\n",
    "\n"
   ]
  },
  {
   "cell_type": "code",
   "execution_count": 4,
   "metadata": {},
   "outputs": [
    {
     "data": {
      "image/png": "[encoded data removed]",
      "text/plain": [
       "<Figure size 432x288 with 2 Axes>"
      ]
     },
     "metadata": {
      "needs_background": "light"
     },
     "output_type": "display_data"
    }
   ],
   "source": [
    "plt.subplot(1, 2, 1)\n",
    "plt.title(\"Source image\")\n",
    "plt.imshow(source_image, origin='lower', extent=extent.totuple())\n",
    "plt.plot(center.numpy()[:, 0], center.numpy()[:, 1], '.')\n",
    "\n",
    "plt.subplot(1, 2, 2)\n",
    "plt.title(\"Target image\")\n",
    "plt.imshow(target_image, origin='lower', extent=extent.totuple())\n",
    "\n",
    "plt.show()"
   ]
  },
  {
   "cell_type": "markdown",
   "metadata": {},
   "source": [
    "We know that the target cross is the result of some rotation at its origin,\n",
    "so we use a local rotation deformation module, with an imprecise center\n",
    "position to simulate data aquisition noise.\n",
    "\n",
    "\n"
   ]
  },
  {
   "cell_type": "code",
   "execution_count": 5,
   "metadata": {},
   "outputs": [],
   "source": [
    "rotation = imodal.DeformationModules.LocalRotation(2, 2.*extent_length, gd=center)"
   ]
  },
  {
   "cell_type": "markdown",
   "metadata": {},
   "source": [
    "Create the model by setting `True` for `fit_gd` so that it also optimize the\n",
    "rotation center.\n",
    "\n",
    "\n"
   ]
  },
  {
   "cell_type": "code",
   "execution_count": 6,
   "metadata": {},
   "outputs": [],
   "source": [
    "source_deformable = imodal.Models.DeformableImage(source_image, output='bitmap', extent='match', backward=False)\n",
    "source_deformable2 = imodal.Models.DeformableImage(source_image, output='bitmap', extent='match', backward=True)\n",
    "target_deformable = imodal.Models.DeformableImage(target_image, output='bitmap', extent='match', backward=False)\n",
    "\n",
    "attachment = imodal.Attachment.L2NormAttachment(transform=None)\n",
    "\n",
    "model = imodal.Models.RegistrationModel([source_deformable, source_deformable2], [rotation], [attachment, attachment], fit_gd=[True], lam=1000.)"
   ]
  },
  {
   "cell_type": "markdown",
   "metadata": {},
   "source": [
    "Fit the model.\n",
    "\n",
    "\n"
   ]
  },
  {
   "cell_type": "code",
   "execution_count": 7,
   "metadata": {
    "scrolled": true
   },
   "outputs": [
    {
     "name": "stdout",
     "output_type": "stream",
     "text": [
      "Starting optimization with method torch LBFGS, using solver rk4 with 10 iterations.\n",
      "Initial cost={'deformation': 0.0, 'attach': 396647.0}\n",
      "1e-10\n",
      "Evaluated model with costs=396647.0\n",
      "Evaluated model with costs=393346.6080885427\n",
      "Evaluated model with costs=391780.3756231442\n",
      "Evaluated model with costs=373639.5272409916\n",
      "Evaluated model with costs=323734.10282325745\n",
      "Evaluated model with costs=488457.0319824219\n",
      "Evaluated model with costs=273381.8834075928\n",
      "Evaluated model with costs=269910.7558898926\n",
      "Evaluated model with costs=269651.69456481934\n",
      "Evaluated model with costs=269353.24479675293\n",
      "Evaluated model with costs=268245.1169433594\n",
      "Evaluated model with costs=264886.37327575684\n",
      "Evaluated model with costs=260957.46774291992\n",
      "Evaluated model with costs=266821.5690765381\n",
      "Evaluated model with costs=246672.01768493652\n",
      "Evaluated model with costs=231096.31871032715\n",
      "Evaluated model with costs=353250.1518301964\n",
      "Evaluated model with costs=218551.45790100098\n",
      "Evaluated model with costs=260482.3228149414\n",
      "Evaluated model with costs=169091.22009277344\n",
      "Evaluated model with costs=320194.3898925781\n",
      "Evaluated model with costs=90753.91705322266\n",
      "Evaluated model with costs=53603.606872558594\n",
      "Evaluated model with costs=41322.058044433594\n",
      "Evaluated model with costs=269796.1882324219\n",
      "Evaluated model with costs=18964.969482421875\n",
      "================================================================================\n",
      "Time: 36.57853086000023\n",
      "Iteration: 0\n",
      "Costs\n",
      "deformation=1126.358154296875\n",
      "attach=17838.611328125\n",
      "Total cost=18964.969482421875\n",
      "1e-10\n",
      "Evaluated model with costs=18964.969482421875\n",
      "Evaluated model with costs=141861.06408691406\n",
      "Evaluated model with costs=12253.223754882812\n",
      "Evaluated model with costs=10426.68798828125\n",
      "Evaluated model with costs=10273.702270507812\n",
      "Evaluated model with costs=10267.265625\n",
      "Evaluated model with costs=10266.530029296875\n",
      "Evaluated model with costs=10266.520141601562\n",
      "Evaluated model with costs=10266.513061523438\n",
      "Evaluated model with costs=10266.521118164062\n",
      "Evaluated model with costs=10266.515258789062\n",
      "Evaluated model with costs=10266.517211914062\n",
      "Evaluated model with costs=10266.513061523438\n",
      "================================================================================\n",
      "Time: 55.416064257000016\n",
      "Iteration: 1\n",
      "Costs\n",
      "deformation=1107.1536865234375\n",
      "attach=9159.359375\n",
      "Total cost=10266.513061523438\n",
      "1e-10\n",
      "Evaluated model with costs=10266.513061523438\n",
      "Evaluated model with costs=10266.521118164062\n",
      "Evaluated model with costs=10266.515258789062\n",
      "Evaluated model with costs=10266.517211914062\n",
      "Evaluated model with costs=10266.513061523438\n",
      "================================================================================\n",
      "Time: 62.536772417000066\n",
      "Iteration: 2\n",
      "Costs\n",
      "deformation=1107.1536865234375\n",
      "attach=9159.359375\n",
      "Total cost=10266.513061523438\n",
      "================================================================================\n",
      "Optimisation process exited with message: Convergence achieved.\n",
      "Final cost=10266.513061523438\n",
      "Model evaluation count=44\n",
      "Time elapsed = 62.53686811000034\n"
     ]
    }
   ],
   "source": [
    "shoot_solver = 'rk4'\n",
    "shoot_it = 10\n",
    "max_it = 100\n",
    "\n",
    "costs = {}\n",
    "fitter = imodal.Models.Fitter(model, optimizer='torch_lbfgs')\n",
    "\n",
    "fitter.fit([target_deformable, target_deformable], max_it, costs=costs, options={'shoot_solver': shoot_solver, 'shoot_it': shoot_it, 'line_search_fn': 'strong_wolfe'})"
   ]
  },
  {
   "cell_type": "markdown",
   "metadata": {},
   "source": [
    "Compute the final deformed source and plot it.\n",
    "\n",
    "\n"
   ]
  },
  {
   "cell_type": "code",
   "execution_count": 8,
   "metadata": {},
   "outputs": [
    {
     "data": {
      "text/plain": [
       "(0.0, 31.0, 0.0, 31.0)"
      ]
     },
     "execution_count": 8,
     "metadata": {},
     "output_type": "execute_result"
    },
    {
     "data": {
      "image/png": "[encoded data removed]",
      "text/plain": [
       "<Figure size 432x288 with 2 Axes>"
      ]
     },
     "metadata": {
      "needs_background": "light"
     },
     "output_type": "display_data"
    }
   ],
   "source": [
    "intermediates = {}\n",
    "with torch.autograd.no_grad():\n",
    "    model.deformables[0].output = 'bitmap'\n",
    "    deformed = model.compute_deformed(shoot_solver, shoot_it, intermediates=intermediates)\n",
    "\n",
    "    deformed_image = deformed[0][0].view_as(source_image)\n",
    "\n",
    "    deformed_image2 = deformed[1][0].view_as(source_image)\n",
    "\n",
    "plt.subplot(1, 2, 1)\n",
    "plt.title(\"Fitted image\")\n",
    "plt.imshow(deformed_image.numpy(), origin='lower', extent=extent.totuple())\n",
    "plt.axis('off')\n",
    "plt.subplot(1, 2, 2)\n",
    "plt.title(\"Fitted image\")\n",
    "plt.imshow(deformed_image2.numpy(), origin='lower', extent=extent.totuple())\n",
    "plt.axis('off')"
   ]
  },
  {
   "cell_type": "code",
   "execution_count": 9,
   "metadata": {},
   "outputs": [
    {
     "data": {
      "text/plain": [
       "(0.0, 31.0, 0.0, 31.0)"
      ]
     },
     "execution_count": 9,
     "metadata": {},
     "output_type": "execute_result"
    },
    {
     "data": {
      "image/png": "[encoded data removed]",
      "text/plain": [
       "<Figure size 432x288 with 2 Axes>"
      ]
     },
     "metadata": {
      "needs_background": "light"
     },
     "output_type": "display_data"
    }
   ],
   "source": [
    "intermediates = {}\n",
    "with torch.autograd.no_grad():\n",
    "    model.deformables[0].output = 'bitmap'\n",
    "    deformed = model.compute_deformed(shoot_solver, shoot_it, intermediates=intermediates)\n",
    "\n",
    "    deformed_image = deformed[0][0].view_as(source_image)\n",
    "\n",
    "    deformed_image2 = deformed[1][0].view_as(source_image)\n",
    "\n",
    "plt.subplot(1, 2, 1)\n",
    "plt.title(\"Fitted image\")\n",
    "plt.imshow(deformed_image.numpy(), origin='lower', extent=extent.totuple())\n",
    "plt.axis('off')\n",
    "plt.subplot(1, 2, 2)\n",
    "plt.title(\"Fitted image\")\n",
    "plt.imshow(deformed_image2.numpy(), origin='lower', extent=extent.totuple())\n",
    "plt.axis('off')"
   ]
  },
  {
   "cell_type": "code",
   "execution_count": 8,
   "metadata": {},
   "outputs": [
    {
     "name": "stdout",
     "output_type": "stream",
     "text": [
      "Fitted rotatation center: [[15.523167610168457, 15.47747802734375]]\n"
     ]
    },
    {
     "data": {
      "image/png": "[encoded data removed]",
      "text/plain": [
       "<Figure size 432x288 with 3 Axes>"
      ]
     },
     "metadata": {
      "needs_background": "light"
     },
     "output_type": "display_data"
    }
   ],
   "source": [
    "intermediates = {}\n",
    "with torch.autograd.no_grad():\n",
    "    model.deformables[0].output = 'bitmap'\n",
    "    deformed = model.compute_deformed(shoot_solver, shoot_it, intermediates=intermediates)\n",
    "\n",
    "    deformed_image = deformed[0][0].view_as(source_image)\n",
    "\n",
    "    deformed_image2 = deformed[1][0].view_as(source_image)\n",
    "\n",
    "fitted_center = model.init_manifold[1].gd.detach()\n",
    "fitted_center_final = intermediates['states'][-1][1].gd.detach()\n",
    "\n",
    "print(\"Fitted rotatation center: {center}\".format(center=fitted_center.detach().tolist()))\n",
    "\n",
    "plt.subplot(1, 3, 1)\n",
    "plt.title(\"Source image\")\n",
    "plt.imshow(source_image.numpy(), origin='lower', extent=extent.totuple())\n",
    "plt.plot(center.numpy()[0, 0], center.numpy()[0, 1], 'X')\n",
    "plt.axis('off')\n",
    "\n",
    "plt.subplot(1, 3, 2)\n",
    "plt.title(\"Fitted image\")\n",
    "plt.imshow(deformed_image.numpy(), origin='lower', extent=extent.totuple())\n",
    "plt.plot(fitted_center.numpy()[0, 0], fitted_center.numpy()[0, 1], 'X')\n",
    "plt.plot(fitted_center_final.numpy()[0, 0], fitted_center_final.numpy()[0, 1], 'X')\n",
    "plt.axis('off')\n",
    "\n",
    "plt.subplot(1, 3, 3)\n",
    "plt.title(\"Target image\")\n",
    "plt.imshow(target_image.numpy(), origin='lower', extent=extent.totuple())\n",
    "plt.axis('off')\n",
    "\n",
    "plt.show()"
   ]
  },
  {
   "cell_type": "code",
   "execution_count": 9,
   "metadata": {},
   "outputs": [
    {
     "ename": "AttributeError",
     "evalue": "can't set attribute",
     "output_type": "error",
     "traceback": [
      "\u001b[0;31m---------------------------------------------------------------------------\u001b[0m",
      "\u001b[0;31mAttributeError\u001b[0m                            Traceback (most recent call last)",
      "\u001b[0;32m<ipython-input-9-799317d6a651>\u001b[0m in \u001b[0;36m<module>\u001b[0;34m\u001b[0m\n\u001b[0;32m----> 1\u001b[0;31m \u001b[0mmodel\u001b[0m\u001b[0;34m.\u001b[0m\u001b[0mdeformables\u001b[0m \u001b[0;34m=\u001b[0m \u001b[0;34m[\u001b[0m\u001b[0msource_deformable\u001b[0m\u001b[0;34m]\u001b[0m\u001b[0;34m\u001b[0m\u001b[0;34m\u001b[0m\u001b[0m\n\u001b[0m",
      "\u001b[0;31mAttributeError\u001b[0m: can't set attribute"
     ]
    }
   ],
   "source": [
    "model.deformables = [source_deformable]"
   ]
  },
  {
   "cell_type": "code",
   "execution_count": null,
   "metadata": {},
   "outputs": [],
   "source": []
  },
  {
   "cell_type": "code",
   "execution_count": null,
   "metadata": {},
   "outputs": [],
   "source": []
  },
  {
   "cell_type": "code",
   "execution_count": null,
   "metadata": {},
   "outputs": [],
   "source": []
  },
  {
   "cell_type": "code",
   "execution_count": null,
   "metadata": {},
   "outputs": [],
   "source": []
  },
  {
   "cell_type": "code",
   "execution_count": null,
   "metadata": {},
   "outputs": [],
   "source": []
  },
  {
   "cell_type": "code",
   "execution_count": null,
   "metadata": {},
   "outputs": [],
   "source": []
  }
 ],
 "metadata": {
  "kernelspec": {
   "display_name": "Python 3",
   "language": "python",
   "name": "python3"
  },
  "language_info": {
   "codemirror_mode": {
    "name": "ipython",
    "version": 3
   },
   "file_extension": ".py",
   "mimetype": "text/x-python",
   "name": "python",
   "nbconvert_exporter": "python",
   "pygments_lexer": "ipython3",
   "version": "3.6.12"
  }
 },
 "nbformat": 4,
 "nbformat_minor": 1
}
