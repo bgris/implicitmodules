{
 "cells": [
  {
   "cell_type": "code",
   "execution_count": 1,
   "metadata": {},
   "outputs": [],
   "source": [
    "%matplotlib inline"
   ]
  },
  {
   "cell_type": "markdown",
   "metadata": {},
   "source": [
    "\n",
    "# Fitting an image and points\n",
    "\n",
    "In this example, we will fit a cross onto the same cross, but rotated. We will take advantage of this knowledge and use a rotation deformation module. We will also add some noise on the initial center guess to show how to fit the geometrical descriptors. In addition to images, we add points at the extremity of each branch that will also get matched in order to illustrate multi deformables matching. This also helps the fitting process by adding more information to the model.\n",
    "\n",
    "\n"
   ]
  },
  {
   "cell_type": "markdown",
   "metadata": {},
   "source": [
    "Import relevant modules.\n",
    "\n",
    "\n"
   ]
  },
  {
   "cell_type": "code",
   "execution_count": 2,
   "metadata": {},
   "outputs": [],
   "source": [
    "import sys\n",
    "sys.path.append(\"../\")\n",
    "\n",
    "import math\n",
    "\n",
    "import torch\n",
    "import matplotlib.pyplot as plt\n",
    "import scipy.ndimage\n",
    "\n",
    "import imodal\n",
    "\n",
    "imodal.Utilities.set_compute_backend('torch')"
   ]
  },
  {
   "cell_type": "markdown",
   "metadata": {},
   "source": [
    "Load image data and generate dots.\n",
    "\n",
    "\n"
   ]
  },
  {
   "cell_type": "code",
   "execution_count": 3,
   "metadata": {},
   "outputs": [
    {
     "name": "stdout",
     "output_type": "stream",
     "text": [
      "tensor([[9.3000, 3.1000]])\n"
     ]
    }
   ],
   "source": [
    "source_image = imodal.Utilities.load_greyscale_image(\"../data/images/cross_+_30.png\", origin='lower')\n",
    "target_image = imodal.Utilities.load_greyscale_image(\"../data/images/cross_+.png\", origin='lower')\n",
    "\n",
    "# Smoothing\n",
    "sig_smooth = 0.\n",
    "source_image = torch.tensor(scipy.ndimage.gaussian_filter(source_image, sig_smooth))\n",
    "target_image = torch.tensor(scipy.ndimage.gaussian_filter(target_image, sig_smooth))\n",
    "\n",
    "extent_length = 31.\n",
    "extent = imodal.Utilities.AABB(0., extent_length, 0., extent_length)\n",
    "\n",
    "center = extent_length*torch.tensor([[0.3, 0.1]])\n",
    "print(center)\n",
    "#center = extent_length*torch.tensor([[0.5, 0.5]])"
   ]
  },
  {
   "cell_type": "markdown",
   "metadata": {},
   "source": [
    "Plot everything.\n",
    "\n",
    "\n"
   ]
  },
  {
   "cell_type": "code",
   "execution_count": 4,
   "metadata": {},
   "outputs": [
    {
     "data": {
      "image/png": "[encoded data removed]",
      "text/plain": [
       "<Figure size 432x288 with 2 Axes>"
      ]
     },
     "metadata": {},
     "output_type": "display_data"
    }
   ],
   "source": [
    "plt.subplot(1, 2, 1)\n",
    "plt.title(\"Source image\")\n",
    "plt.imshow(source_image, origin='lower', extent=extent.totuple())\n",
    "plt.plot(center.numpy()[:, 0], center.numpy()[:, 1], '.')\n",
    "\n",
    "plt.subplot(1, 2, 2)\n",
    "plt.title(\"Target image\")\n",
    "plt.imshow(target_image, origin='lower', extent=extent.totuple())\n",
    "\n",
    "plt.show()"
   ]
  },
  {
   "cell_type": "markdown",
   "metadata": {},
   "source": [
    "We know that the target cross is the result of some rotation at its origin,\n",
    "so we use a local rotation deformation module, with an imprecise center\n",
    "position to simulate data aquisition noise.\n",
    "\n",
    "\n"
   ]
  },
  {
   "cell_type": "code",
   "execution_count": 5,
   "metadata": {},
   "outputs": [],
   "source": [
    "rotation = imodal.DeformationModules.LocalRotation(2, 2.*extent_length, gd=center)"
   ]
  },
  {
   "cell_type": "markdown",
   "metadata": {},
   "source": [
    "Create the model by setting `True` for `fit_gd` so that it also optimize the\n",
    "rotation center.\n",
    "\n",
    "\n"
   ]
  },
  {
   "cell_type": "code",
   "execution_count": 6,
   "metadata": {},
   "outputs": [],
   "source": [
    "source_deformable = imodal.Models.DeformableImage(source_image, output='bitmap', extent='match', backward=False)\n",
    "target_deformable = imodal.Models.DeformableImage(target_image, output='bitmap', extent='match', backward=False)\n",
    "\n",
    "attachment = imodal.Attachment.L2NormAttachment(transform=None)\n",
    "\n",
    "model = imodal.Models.RegistrationModel([source_deformable], [rotation], [attachment], fit_gd=[True], lam=200.)"
   ]
  },
  {
   "cell_type": "markdown",
   "metadata": {},
   "source": [
    "Fit the model.\n",
    "\n",
    "\n"
   ]
  },
  {
   "cell_type": "code",
   "execution_count": 7,
   "metadata": {
    "scrolled": true
   },
   "outputs": [
    {
     "name": "stdout",
     "output_type": "stream",
     "text": [
      "Starting optimization with method torch LBFGS, using solver rk4 with 10 iterations.\n",
      "Initial cost={'deformation': 0.0, 'attach': 39664.69921875}\n",
      "1e-10\n",
      "Evaluated model with costs=39664.69921875\n",
      "Evaluated model with costs=39334.67449479271\n",
      "Evaluated model with costs=39178.0787467435\n",
      "Evaluated model with costs=37364.847511053085\n",
      "Evaluated model with costs=32399.906215667725\n",
      "Evaluated model with costs=50492.83642578125\n",
      "Evaluated model with costs=27298.386795043945\n",
      "Evaluated model with costs=27170.28480529785\n",
      "Evaluated model with costs=27115.617904663086\n",
      "Evaluated model with costs=26629.894775390625\n",
      "Evaluated model with costs=25077.144821166992\n",
      "Evaluated model with costs=28586.999588012695\n",
      "Evaluated model with costs=24583.671798706055\n",
      "Evaluated model with costs=23327.672149658203\n",
      "Evaluated model with costs=20510.842864990234\n",
      "Evaluated model with costs=34919.15869140625\n",
      "Evaluated model with costs=13910.57778930664\n",
      "Evaluated model with costs=12276.884307861328\n",
      "Evaluated model with costs=11865.018432617188\n",
      "Evaluated model with costs=79726.6875\n",
      "Evaluated model with costs=45698.076171875\n",
      "Evaluated model with costs=11119.097412109375\n",
      "Evaluated model with costs=18359.534545898438\n",
      "Evaluated model with costs=2980.5428466796875\n",
      "Evaluated model with costs=18063.206420898438\n",
      "Evaluated model with costs=2232.460693359375\n",
      "================================================================================\n",
      "Time: 11.541400866999538\n",
      "Iteration: 0\n",
      "Costs\n",
      "deformation=1065.4927978515625\n",
      "attach=1166.9678955078125\n",
      "Total cost=2232.460693359375\n",
      "1e-10\n",
      "Evaluated model with costs=2232.460693359375\n",
      "Evaluated model with costs=2132.3568115234375\n",
      "Evaluated model with costs=2014.8889770507812\n",
      "Evaluated model with costs=2014.7171630859375\n",
      "Evaluated model with costs=2014.7157592773438\n",
      "Evaluated model with costs=2014.716552734375\n",
      "Evaluated model with costs=2014.7163696289062\n",
      "Evaluated model with costs=2014.715576171875\n",
      "Evaluated model with costs=2014.715576171875\n",
      "Evaluated model with costs=2014.7149047851562\n",
      "Evaluated model with costs=2014.7166748046875\n",
      "Evaluated model with costs=2014.7149047851562\n",
      "Evaluated model with costs=2014.7149047851562\n",
      "================================================================================\n",
      "Time: 17.803250232998835\n",
      "Iteration: 1\n",
      "Costs\n",
      "deformation=1093.4976806640625\n",
      "attach=921.2172241210938\n",
      "Total cost=2014.7149047851562\n",
      "1e-10\n",
      "Evaluated model with costs=2014.7149047851562\n",
      "Evaluated model with costs=2014.7166748046875\n",
      "Evaluated model with costs=2014.7149047851562\n",
      "Evaluated model with costs=2014.7149047851562\n",
      "================================================================================\n",
      "Time: 19.592777002999355\n",
      "Iteration: 2\n",
      "Costs\n",
      "deformation=1093.4976806640625\n",
      "attach=921.2172241210938\n",
      "Total cost=2014.7149047851562\n",
      "================================================================================\n",
      "Optimisation process exited with message: Convergence achieved.\n",
      "Final cost=2014.7149047851562\n",
      "Model evaluation count=43\n",
      "Time elapsed = 19.593112798998845\n"
     ]
    }
   ],
   "source": [
    "shoot_solver = 'rk4'\n",
    "shoot_it = 10\n",
    "max_it = 100\n",
    "\n",
    "costs = {}\n",
    "fitter = imodal.Models.Fitter(model, optimizer='torch_lbfgs')\n",
    "\n",
    "fitter.fit([target_deformable], max_it, costs=costs, options={'shoot_solver': shoot_solver, 'shoot_it': shoot_it, 'line_search_fn': 'strong_wolfe'})"
   ]
  },
  {
   "cell_type": "markdown",
   "metadata": {},
   "source": [
    "Compute the final deformed source and plot it.\n",
    "\n",
    "\n"
   ]
  },
  {
   "cell_type": "code",
   "execution_count": 8,
   "metadata": {},
   "outputs": [
    {
     "name": "stdout",
     "output_type": "stream",
     "text": [
      "Fitted rotatation center: [[15.522558212280273, 15.475604057312012]]\n"
     ]
    },
    {
     "data": {
      "image/png": "[encoded data removed]",
      "text/plain": [
       "<Figure size 432x288 with 3 Axes>"
      ]
     },
     "metadata": {},
     "output_type": "display_data"
    }
   ],
   "source": [
    "intermediates = {}\n",
    "with torch.autograd.no_grad():\n",
    "    model.deformables[0].output = 'bitmap'\n",
    "    deformed = model.compute_deformed(shoot_solver, shoot_it, intermediates=intermediates)\n",
    "\n",
    "    deformed_image = deformed[0][0].view_as(source_image)\n",
    "\n",
    "fitted_center = model.init_manifold[1].gd.detach()\n",
    "fitted_center_final = intermediates['states'][-1][1].gd.detach()\n",
    "\n",
    "print(\"Fitted rotatation center: {center}\".format(center=fitted_center.detach().tolist()))\n",
    "\n",
    "plt.subplot(1, 3, 1)\n",
    "plt.title(\"Source image\")\n",
    "plt.imshow(source_image.numpy(), origin='lower', extent=extent.totuple())\n",
    "plt.plot(center.numpy()[0, 0], center.numpy()[0, 1], 'X')\n",
    "plt.axis('off')\n",
    "\n",
    "plt.subplot(1, 3, 2)\n",
    "plt.title(\"Fitted image\")\n",
    "plt.imshow(deformed_image.numpy(), origin='lower', extent=extent.totuple())\n",
    "plt.plot(fitted_center.numpy()[0, 0], fitted_center.numpy()[0, 1], 'X')\n",
    "plt.plot(fitted_center_final.numpy()[0, 0], fitted_center_final.numpy()[0, 1], 'X')\n",
    "plt.axis('off')\n",
    "\n",
    "plt.subplot(1, 3, 3)\n",
    "plt.title(\"Target image\")\n",
    "plt.imshow(target_image.numpy(), origin='lower', extent=extent.totuple())\n",
    "plt.axis('off')\n",
    "\n",
    "plt.show()"
   ]
  }
 ],
 "metadata": {
  "kernelspec": {
   "display_name": "Python 3",
   "language": "python",
   "name": "python3"
  },
  "language_info": {
   "codemirror_mode": {
    "name": "ipython",
    "version": 3
   },
   "file_extension": ".py",
   "mimetype": "text/x-python",
   "name": "python",
   "nbconvert_exporter": "python",
   "pygments_lexer": "ipython3",
   "version": "3.6.9"
  }
 },
 "nbformat": 4,
 "nbformat_minor": 1
}
