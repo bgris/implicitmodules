{
 "cells": [
  {
   "cell_type": "code",
   "execution_count": 1,
   "metadata": {},
   "outputs": [],
   "source": [
    "%matplotlib inline"
   ]
  },
  {
   "cell_type": "markdown",
   "metadata": {},
   "source": [
    "\n",
    "# Fitting an image and points\n",
    "\n",
    "In this example, we will fit a cross onto the same cross, but rotated. We will take advantage of this knowledge and use a rotation deformation module. We will also add some noise on the initial center guess to show how to fit the geometrical descriptors. In addition to images, we add points at the extremity of each branch that will also get matched in order to illustrate multi deformables matching. This also helps the fitting process by adding more information to the model.\n",
    "\n",
    "\n"
   ]
  },
  {
   "cell_type": "markdown",
   "metadata": {},
   "source": [
    "Import relevant modules.\n",
    "\n",
    "\n"
   ]
  },
  {
   "cell_type": "code",
   "execution_count": 2,
   "metadata": {},
   "outputs": [],
   "source": [
    "import sys\n",
    "sys.path.append(\"../\")\n",
    "\n",
    "import math\n",
    "\n",
    "import torch\n",
    "import matplotlib.pyplot as plt\n",
    "import scipy.ndimage\n",
    "\n",
    "import imodal\n",
    "\n",
    "imodal.Utilities.set_compute_backend('torch')"
   ]
  },
  {
   "cell_type": "markdown",
   "metadata": {},
   "source": [
    "Load image data and generate dots.\n",
    "\n",
    "\n"
   ]
  },
  {
   "cell_type": "code",
   "execution_count": 3,
   "metadata": {},
   "outputs": [
    {
     "name": "stdout",
     "output_type": "stream",
     "text": [
      "tensor([[9.3000, 3.1000]])\n"
     ]
    }
   ],
   "source": [
    "source_image = imodal.Utilities.load_greyscale_image(\"../data/images/cross_+_30.png\", origin='lower')\n",
    "target_image = imodal.Utilities.load_greyscale_image(\"../data/images/cross_+.png\", origin='lower')\n",
    "\n",
    "# Smoothing\n",
    "sig_smooth = 0.\n",
    "source_image = torch.tensor(scipy.ndimage.gaussian_filter(source_image, sig_smooth))\n",
    "target_image = torch.tensor(scipy.ndimage.gaussian_filter(target_image, sig_smooth))\n",
    "\n",
    "extent_length = 31.\n",
    "extent = imodal.Utilities.AABB(0., extent_length, 0., extent_length)\n",
    "\n",
    "center = extent_length*torch.tensor([[0.3, 0.1]])\n",
    "print(center)\n",
    "#center = extent_length*torch.tensor([[0.5, 0.5]])"
   ]
  },
  {
   "cell_type": "markdown",
   "metadata": {},
   "source": [
    "Plot everything.\n",
    "\n",
    "\n"
   ]
  },
  {
   "cell_type": "code",
   "execution_count": 4,
   "metadata": {},
   "outputs": [
    {
     "data": {
      "image/png": "[encoded data removed]",
      "text/plain": [
       "<Figure size 432x288 with 2 Axes>"
      ]
     },
     "metadata": {},
     "output_type": "display_data"
    }
   ],
   "source": [
    "plt.subplot(1, 2, 1)\n",
    "plt.title(\"Source image\")\n",
    "plt.imshow(source_image, origin='lower', extent=extent.totuple())\n",
    "plt.plot(center.numpy()[:, 0], center.numpy()[:, 1], '.')\n",
    "\n",
    "plt.subplot(1, 2, 2)\n",
    "plt.title(\"Target image\")\n",
    "plt.imshow(target_image, origin='lower', extent=extent.totuple())\n",
    "\n",
    "plt.show()"
   ]
  },
  {
   "cell_type": "markdown",
   "metadata": {},
   "source": [
    "We know that the target cross is the result of some rotation at its origin,\n",
    "so we use a local rotation deformation module, with an imprecise center\n",
    "position to simulate data aquisition noise.\n",
    "\n",
    "\n"
   ]
  },
  {
   "cell_type": "code",
   "execution_count": 5,
   "metadata": {},
   "outputs": [],
   "source": [
    "rotation = imodal.DeformationModules.LocalRotation(2, 2.*extent_length, gd=center)"
   ]
  },
  {
   "cell_type": "markdown",
   "metadata": {},
   "source": [
    "Create the model by setting `True` for `fit_gd` so that it also optimize the\n",
    "rotation center.\n",
    "\n",
    "\n"
   ]
  },
  {
   "cell_type": "code",
   "execution_count": 6,
   "metadata": {},
   "outputs": [],
   "source": [
    "source_deformable = imodal.Models.DeformableImage(source_image, output='bitmap', extent='match', backward=True)\n",
    "target_deformable = imodal.Models.DeformableImage(target_image, output='bitmap', extent='match', backward=True)\n",
    "\n",
    "attachment = imodal.Attachment.L2NormAttachment(transform=None)\n",
    "\n",
    "model = imodal.Models.RegistrationModel([source_deformable], [rotation], [attachment], fit_gd=[True], lam=200.)"
   ]
  },
  {
   "cell_type": "markdown",
   "metadata": {},
   "source": [
    "Fit the model.\n",
    "\n",
    "\n"
   ]
  },
  {
   "cell_type": "code",
   "execution_count": 7,
   "metadata": {
    "scrolled": true
   },
   "outputs": [
    {
     "name": "stdout",
     "output_type": "stream",
     "text": [
      "Starting optimization with method torch LBFGS, using solver rk4 with 10 iterations.\n",
      "Initial cost={'deformation': 0.0, 'attach': 39664.69921875}\n",
      "1e-10\n",
      "Evaluated model with costs=39664.69921875\n",
      "Evaluated model with costs=39334.66277604271\n",
      "Evaluated model with costs=39178.10218179971\n",
      "Evaluated model with costs=37364.9489993453\n",
      "Evaluated model with costs=32400.013343811035\n",
      "Evaluated model with costs=50659.447021484375\n",
      "Evaluated model with costs=27385.777938842773\n",
      "Evaluated model with costs=27297.760528564453\n",
      "Evaluated model with costs=27155.149154663086\n",
      "Evaluated model with costs=27101.665405273438\n",
      "Evaluated model with costs=26936.163345336914\n",
      "Evaluated model with costs=24648.13201904297\n",
      "Evaluated model with costs=35466.75481748581\n",
      "Evaluated model with costs=19757.602111816406\n",
      "Evaluated model with costs=19376.454071044922\n",
      "Evaluated model with costs=27455.487579345703\n",
      "Evaluated model with costs=19253.66928100586\n",
      "Evaluated model with costs=16188.386596679688\n",
      "Evaluated model with costs=6078.590515136719\n",
      "Evaluated model with costs=36780.3408203125\n",
      "Evaluated model with costs=3261.774658203125\n",
      "Evaluated model with costs=25250.616821289062\n",
      "Evaluated model with costs=2244.302001953125\n",
      "Evaluated model with costs=2049.9820556640625\n",
      "Evaluated model with costs=2020.82568359375\n",
      "================================================================================\n",
      "Time: 50.81077549499969\n",
      "Iteration: 0\n",
      "Costs\n",
      "deformation=1089.8751220703125\n",
      "attach=930.9505615234375\n",
      "Total cost=2020.82568359375\n",
      "1e-10\n",
      "Evaluated model with costs=2020.82568359375\n",
      "Evaluated model with costs=2020.5094604492188\n",
      "Evaluated model with costs=2019.6119384765625\n",
      "Evaluated model with costs=2019.6112670898438\n",
      "Evaluated model with costs=2019.60888671875\n",
      "Evaluated model with costs=2019.6103515625\n",
      "Evaluated model with costs=2019.60888671875\n",
      "================================================================================\n",
      "Time: 65.37160448999975\n",
      "Iteration: 1\n",
      "Costs\n",
      "deformation=1093.411376953125\n",
      "attach=926.197509765625\n",
      "Total cost=2019.60888671875\n",
      "1e-10\n",
      "Evaluated model with costs=2019.60888671875\n",
      "Evaluated model with costs=2019.6103515625\n",
      "Evaluated model with costs=2019.60888671875\n",
      "================================================================================\n",
      "Time: 71.2172812079998\n",
      "Iteration: 2\n",
      "Costs\n",
      "deformation=1093.411376953125\n",
      "attach=926.197509765625\n",
      "Total cost=2019.60888671875\n",
      "================================================================================\n",
      "Optimisation process exited with message: Convergence achieved.\n",
      "Final cost=2019.60888671875\n",
      "Model evaluation count=35\n",
      "Time elapsed = 71.21767897900008\n"
     ]
    }
   ],
   "source": [
    "shoot_solver = 'rk4'\n",
    "shoot_it = 10\n",
    "max_it = 100\n",
    "\n",
    "costs = {}\n",
    "fitter = imodal.Models.Fitter(model, optimizer='torch_lbfgs')\n",
    "\n",
    "fitter.fit([target_deformable], max_it, costs=costs, options={'shoot_solver': shoot_solver, 'shoot_it': shoot_it, 'line_search_fn': 'strong_wolfe'})"
   ]
  },
  {
   "cell_type": "markdown",
   "metadata": {},
   "source": [
    "Compute the final deformed source and plot it.\n",
    "\n",
    "\n"
   ]
  },
  {
   "cell_type": "code",
   "execution_count": 8,
   "metadata": {},
   "outputs": [
    {
     "name": "stdout",
     "output_type": "stream",
     "text": [
      "Fitted rotatation center: [[15.522151947021484, 15.476102828979492]]\n"
     ]
    },
    {
     "data": {
      "image/png": "[encoded data removed]",
      "text/plain": [
       "<Figure size 432x288 with 3 Axes>"
      ]
     },
     "metadata": {},
     "output_type": "display_data"
    }
   ],
   "source": [
    "with torch.autograd.no_grad():\n",
    "    model.deformables[0].output = 'bitmap'\n",
    "    deformed = model.compute_deformed(shoot_solver, shoot_it)\n",
    "\n",
    "    deformed_image = deformed[0][0].view_as(source_image)\n",
    "\n",
    "fitted_center = model.init_manifold[1].gd.detach()\n",
    "\n",
    "print(\"Fitted rotatation center: {center}\".format(center=fitted_center.detach().tolist()))\n",
    "\n",
    "plt.subplot(1, 3, 1)\n",
    "plt.title(\"Source image\")\n",
    "plt.imshow(source_image.numpy(), origin='lower', extent=extent.totuple())\n",
    "plt.plot(center.numpy()[0, 0], center.numpy()[0, 1], 'X')\n",
    "plt.axis('off')\n",
    "\n",
    "plt.subplot(1, 3, 2)\n",
    "plt.title(\"Fitted image\")\n",
    "plt.imshow(deformed_image.numpy(), origin='lower', extent=extent.totuple())\n",
    "plt.plot(fitted_center.numpy()[0, 0], fitted_center.numpy()[0, 1], 'X')\n",
    "plt.axis('off')\n",
    "\n",
    "plt.subplot(1, 3, 3)\n",
    "plt.title(\"Target image\")\n",
    "plt.imshow(target_image.numpy(), origin='lower', extent=extent.totuple())\n",
    "plt.axis('off')\n",
    "\n",
    "plt.show()"
   ]
  },
  {
   "cell_type": "code",
   "execution_count": 9,
   "metadata": {},
   "outputs": [
    {
     "name": "stdout",
     "output_type": "stream",
     "text": [
      "Fitted rotatation center: [[15.5, 15.5]]\n"
     ]
    },
    {
     "data": {
      "image/png": "[encoded data removed]",
      "text/plain": [
       "<Figure size 432x288 with 3 Axes>"
      ]
     },
     "metadata": {},
     "output_type": "display_data"
    }
   ],
   "source": [
    "with torch.autograd.no_grad():\n",
    "    model.deformables[0].output = 'bitmap'\n",
    "    deformed = model.compute_deformed(shoot_solver, shoot_it)\n",
    "\n",
    "    deformed_image = deformed[0][0].view_as(source_image)\n",
    "\n",
    "fitted_center = model.init_manifold[1].gd.detach()\n",
    "\n",
    "print(\"Fitted rotatation center: {center}\".format(center=fitted_center.detach().tolist()))\n",
    "\n",
    "plt.subplot(1, 3, 1)\n",
    "plt.title(\"Source image\")\n",
    "plt.imshow(source_image.numpy(), origin='lower', extent=extent.totuple())\n",
    "plt.plot(center.numpy()[0, 0], center.numpy()[0, 1], 'X')\n",
    "plt.axis('off')\n",
    "\n",
    "plt.subplot(1, 3, 2)\n",
    "plt.title(\"Fitted image\")\n",
    "plt.imshow(deformed_image.numpy(), origin='lower', extent=extent.totuple())\n",
    "plt.plot(fitted_center.numpy()[0, 0], fitted_center.numpy()[0, 1], 'X')\n",
    "plt.axis('off')\n",
    "\n",
    "plt.subplot(1, 3, 3)\n",
    "plt.title(\"Target image\")\n",
    "plt.imshow(target_image.numpy(), origin='lower', extent=extent.totuple())\n",
    "plt.axis('off')\n",
    "\n",
    "plt.show()"
   ]
  },
  {
   "cell_type": "code",
   "execution_count": 17,
   "metadata": {},
   "outputs": [
    {
     "name": "stdout",
     "output_type": "stream",
     "text": [
      "Fitted rotatation center: [[15.5, 15.5]]\n"
     ]
    },
    {
     "data": {
      "image/png": "[encoded data removed]",
      "text/plain": [
       "<Figure size 432x288 with 3 Axes>"
      ]
     },
     "metadata": {},
     "output_type": "display_data"
    }
   ],
   "source": [
    "with torch.autograd.no_grad():\n",
    "    model.deformables[0].output = 'bitmap'\n",
    "    deformed = model.compute_deformed(shoot_solver, shoot_it)\n",
    "\n",
    "    deformed_image = deformed[0][0].view_as(source_image)\n",
    "\n",
    "fitted_center = model.init_manifold[1].gd.detach()\n",
    "\n",
    "print(\"Fitted rotatation center: {center}\".format(center=fitted_center.detach().tolist()))\n",
    "\n",
    "plt.subplot(1, 3, 1)\n",
    "plt.title(\"Source image\")\n",
    "plt.imshow(source_image.numpy(), origin='lower', extent=extent.totuple())\n",
    "plt.plot(center.numpy()[0, 0], center.numpy()[0, 1], 'X')\n",
    "plt.axis('off')\n",
    "\n",
    "plt.subplot(1, 3, 2)\n",
    "plt.title(\"Fitted image\")\n",
    "plt.imshow(deformed_image.numpy(), origin='lower', extent=extent.totuple())\n",
    "plt.plot(fitted_center.numpy()[0, 0], fitted_center.numpy()[0, 1], 'X')\n",
    "plt.axis('off')\n",
    "\n",
    "plt.subplot(1, 3, 3)\n",
    "plt.title(\"Target image\")\n",
    "plt.imshow(target_image.numpy(), origin='lower', extent=extent.totuple())\n",
    "plt.axis('off')\n",
    "\n",
    "plt.show()"
   ]
  },
  {
   "cell_type": "code",
   "execution_count": null,
   "metadata": {},
   "outputs": [],
   "source": []
  },
  {
   "cell_type": "code",
   "execution_count": null,
   "metadata": {},
   "outputs": [],
   "source": [
    "\n",
    "            normdiff = torch.sum((gd.unsqueeze(0).transpose(1, 2) - pixel_grid.unsqueeze(2))**2, dim=1)\n",
    "            # _, ind_nearest = torch.topk(normdiff, k=1, dim=1, largest=False)\n",
    "            ind_nearest = torch.argmin(normdiff, dim=1, keepdim=True)\n",
    "\n",
    "            gd = torch.mean(pixel_grid[ind_nearest], 1)\n"
   ]
  },
  {
   "cell_type": "code",
   "execution_count": 51,
   "metadata": {},
   "outputs": [],
   "source": [
    "gd = torch.rand(25, 2)\n",
    "pixel_grid = torch.rand(5, 2)"
   ]
  },
  {
   "cell_type": "code",
   "execution_count": 52,
   "metadata": {},
   "outputs": [],
   "source": [
    "# 1) we want to project pixel_grid on gd ie for each i, find ind_nearest[i] so that gd[ind_nearest[i]]\n",
    "# is the point of gd the closest to pixel_grid[i]\n",
    "\n",
    "# 2) We use this to approximate \\varphi^{-1} (pixel_grid) because gd(t=0) = pixel_grid so \n",
    "#  \\varphi^{-1} (pixel_grid[i]) = pixel_grid[ind_nearest[i]]"
   ]
  },
  {
   "cell_type": "code",
   "execution_count": 63,
   "metadata": {},
   "outputs": [],
   "source": [
    "normdiff = torch.sum((gd.unsqueeze(0).transpose(1, 2) - pixel_grid.unsqueeze(2))**2, dim=1)\n",
    "ind_nearest = torch.argmin(normdiff, dim=1, keepdim=True)\n",
    "#ind_nearest2[u,v] is the v-st closet point of gd for pixel_grid[u]\n",
    "kmax = 2\n",
    "_, ind_nearest2 = torch.topk(normdiff, k=kmax, dim=1, largest=False)"
   ]
  },
  {
   "cell_type": "code",
   "execution_count": 64,
   "metadata": {},
   "outputs": [
    {
     "data": {
      "text/plain": [
       "torch.Size([5, 25])"
      ]
     },
     "execution_count": 64,
     "metadata": {},
     "output_type": "execute_result"
    }
   ],
   "source": [
    "normdiff.shape"
   ]
  },
  {
   "cell_type": "code",
   "execution_count": 65,
   "metadata": {},
   "outputs": [],
   "source": [
    "# max_dist[u] is the k-th smallest dist of points in gd for pixel_grid[u]\n",
    "max_dist = torch.stack([normdiff[u, ind_nearest2[u,kmax-1]] for u in range(pixel_grid.shape[0])])\n",
    "coeff = torch.stack([torch.stack([max_dist[u] - normdiff[u, ind_nearest2[u, v]] for v in range(kmax)]) for u in range(pixel_grid.shape[0])])\n",
    "coeff = torch.stack([torch.stack([normdiff[u, ind_nearest2[u, kmax - 1 - v]] for v in range(kmax)]) for u in range(pixel_grid.shape[0])])\n",
    "coeff = coeff/torch.sum(coeff, 1).unsqueeze(1)\n",
    "gd_interp = torch.sum(gd[ind_nearest2] * coeff.unsqueeze(2).repeat(1, 1, 2), 1)"
   ]
  },
  {
   "cell_type": "code",
   "execution_count": 60,
   "metadata": {},
   "outputs": [
    {
     "data": {
      "text/plain": [
       "tensor([[0.4557, 0.3144, 0.2298],\n",
       "        [0.3885, 0.3121, 0.2994],\n",
       "        [0.7072, 0.2128, 0.0800],\n",
       "        [0.4746, 0.3024, 0.2229],\n",
       "        [0.4107, 0.3228, 0.2665]])"
      ]
     },
     "execution_count": 60,
     "metadata": {},
     "output_type": "execute_result"
    }
   ],
   "source": [
    "coeff"
   ]
  },
  {
   "cell_type": "code",
   "execution_count": 62,
   "metadata": {},
   "outputs": [
    {
     "data": {
      "text/plain": [
       "tensor([[0.6151, 0.3849, 0.0000],\n",
       "        [0.5383, 0.4617, 0.0000],\n",
       "        [0.5592, 0.4408, 0.0000],\n",
       "        [0.5937, 0.4063, 0.0000],\n",
       "        [0.6212, 0.3788, 0.0000]])"
      ]
     },
     "execution_count": 62,
     "metadata": {},
     "output_type": "execute_result"
    }
   ],
   "source": [
    "coeff"
   ]
  },
  {
   "cell_type": "code",
   "execution_count": 66,
   "metadata": {},
   "outputs": [
    {
     "data": {
      "text/plain": [
       "tensor([[0.5777, 0.4223],\n",
       "        [0.5104, 0.4896],\n",
       "        [0.7267, 0.2733],\n",
       "        [0.5756, 0.4244],\n",
       "        [0.5478, 0.4522]])"
      ]
     },
     "execution_count": 66,
     "metadata": {},
     "output_type": "execute_result"
    }
   ],
   "source": [
    "coeff"
   ]
  },
  {
   "cell_type": "code",
   "execution_count": 58,
   "metadata": {},
   "outputs": [
    {
     "data": {
      "text/plain": [
       "(-0.031016415357589727,\n",
       " 1.0383165538311006,\n",
       " -0.04808554649353028,\n",
       " 1.0435611963272096)"
      ]
     },
     "execution_count": 58,
     "metadata": {},
     "output_type": "execute_result"
    },
    {
     "data": {
      "image/png": "[encoded data removed]",
      "text/plain": [
       "<Figure size 432x288 with 1 Axes>"
      ]
     },
     "metadata": {},
     "output_type": "display_data"
    }
   ],
   "source": [
    "plt.plot(pixel_grid[:,0], pixel_grid[:,1], 'ob')\n",
    "plt.plot(gd[:,0], gd[:,1], 'xr')\n",
    "plt.plot(gd_interp[:,0], gd_interp[:,1], '.k')\n",
    "plt.axis('equal')"
   ]
  },
  {
   "cell_type": "code",
   "execution_count": 56,
   "metadata": {},
   "outputs": [
    {
     "data": {
      "text/plain": [
       "(-0.031016415357589727,\n",
       " 1.0383165538311006,\n",
       " -0.04808554649353028,\n",
       " 1.0435611963272096)"
      ]
     },
     "execution_count": 56,
     "metadata": {},
     "output_type": "execute_result"
    },
    {
     "data": {
      "image/png": "[encoded data removed]",
      "text/plain": [
       "<Figure size 432x288 with 1 Axes>"
      ]
     },
     "metadata": {},
     "output_type": "display_data"
    }
   ],
   "source": [
    "plt.plot(pixel_grid[:,0], pixel_grid[:,1], 'ob')\n",
    "plt.plot(gd[:,0], gd[:,1], 'xr')\n",
    "plt.plot(gd_interp[:,0], gd_interp[:,1], '.k')\n",
    "plt.axis('equal')"
   ]
  },
  {
   "cell_type": "code",
   "execution_count": 36,
   "metadata": {},
   "outputs": [
    {
     "ename": "IndexError",
     "evalue": "index 8 is out of bounds for dimension 0 with size 5",
     "output_type": "error",
     "traceback": [
      "\u001b[0;31m---------------------------------------------------------------------------\u001b[0m",
      "\u001b[0;31mIndexError\u001b[0m                                Traceback (most recent call last)",
      "\u001b[0;32m<ipython-input-36-0e1c220a534d>\u001b[0m in \u001b[0;36m<module>\u001b[0;34m()\u001b[0m\n\u001b[0;32m----> 1\u001b[0;31m \u001b[0mgd\u001b[0m\u001b[0;34m[\u001b[0m\u001b[0mind_nearest2\u001b[0m\u001b[0;34m]\u001b[0m\u001b[0;34m.\u001b[0m\u001b[0mshape\u001b[0m\u001b[0;34m\u001b[0m\u001b[0;34m\u001b[0m\u001b[0m\n\u001b[0m",
      "\u001b[0;31mIndexError\u001b[0m: index 8 is out of bounds for dimension 0 with size 5"
     ]
    }
   ],
   "source": [
    "gd[ind_nearest2].shape"
   ]
  },
  {
   "cell_type": "code",
   "execution_count": 92,
   "metadata": {},
   "outputs": [
    {
     "data": {
      "text/plain": [
       "torch.Size([25, 4, 2])"
      ]
     },
     "execution_count": 92,
     "metadata": {},
     "output_type": "execute_result"
    }
   ],
   "source": [
    "coeff.unsqueeze(2).repeat(1, 1, 2).shape"
   ]
  },
  {
   "cell_type": "code",
   "execution_count": 93,
   "metadata": {},
   "outputs": [
    {
     "data": {
      "text/plain": [
       "tensor(0.0238)"
      ]
     },
     "execution_count": 93,
     "metadata": {},
     "output_type": "execute_result"
    }
   ],
   "source": [
    "u=0\n",
    "v=0\n",
    "normdiff[u, ind_nearest2[u, v]]"
   ]
  },
  {
   "cell_type": "code",
   "execution_count": 94,
   "metadata": {},
   "outputs": [
    {
     "data": {
      "text/plain": [
       "tensor([ 8, 23, 11, 22])"
      ]
     },
     "execution_count": 94,
     "metadata": {},
     "output_type": "execute_result"
    }
   ],
   "source": [
    "ind_nearest2[0]"
   ]
  },
  {
   "cell_type": "code",
   "execution_count": 95,
   "metadata": {},
   "outputs": [
    {
     "data": {
      "text/plain": [
       "tensor([23, 12,  8,  2,  9, 22, 20, 20,  4, 21, 12, 14,  4, 23,  5,  7,  6, 12,\n",
       "        21,  0,  0,  9, 18, 11,  6])"
      ]
     },
     "execution_count": 95,
     "metadata": {},
     "output_type": "execute_result"
    }
   ],
   "source": [
    "ind_nearest2[:,1]"
   ]
  },
  {
   "cell_type": "code",
   "execution_count": 23,
   "metadata": {},
   "outputs": [
    {
     "data": {
      "text/plain": [
       "torch.Size([3, 4])"
      ]
     },
     "execution_count": 23,
     "metadata": {},
     "output_type": "execute_result"
    }
   ],
   "source": [
    "ind_nearest2.shape"
   ]
  },
  {
   "cell_type": "code",
   "execution_count": 43,
   "metadata": {},
   "outputs": [
    {
     "data": {
      "text/plain": [
       "tensor([[4],\n",
       "        [4],\n",
       "        [2]])"
      ]
     },
     "execution_count": 43,
     "metadata": {},
     "output_type": "execute_result"
    }
   ],
   "source": [
    "ind_nearest2"
   ]
  },
  {
   "cell_type": "code",
   "execution_count": 44,
   "metadata": {},
   "outputs": [
    {
     "data": {
      "text/plain": [
       "tensor([[4],\n",
       "        [4],\n",
       "        [2]])"
      ]
     },
     "execution_count": 44,
     "metadata": {},
     "output_type": "execute_result"
    }
   ],
   "source": [
    "ind_nearest"
   ]
  },
  {
   "cell_type": "code",
   "execution_count": 26,
   "metadata": {},
   "outputs": [
    {
     "data": {
      "text/plain": [
       "tensor([[0.2707, 0.3307],\n",
       "        [0.4849, 0.1184],\n",
       "        [0.3825, 0.0266],\n",
       "        [0.7347, 0.3532],\n",
       "        [0.5568, 0.0125]])"
      ]
     },
     "execution_count": 26,
     "metadata": {},
     "output_type": "execute_result"
    }
   ],
   "source": [
    "gd"
   ]
  },
  {
   "cell_type": "code",
   "execution_count": 27,
   "metadata": {},
   "outputs": [
    {
     "data": {
      "text/plain": [
       "tensor([[0.7078, 0.4398],\n",
       "        [0.5253, 0.7585],\n",
       "        [0.5395, 0.3297]])"
      ]
     },
     "execution_count": 27,
     "metadata": {},
     "output_type": "execute_result"
    }
   ],
   "source": [
    "pixel_grid"
   ]
  }
 ],
 "metadata": {
  "kernelspec": {
   "display_name": "Python 3",
   "language": "python",
   "name": "python3"
  },
  "language_info": {
   "codemirror_mode": {
    "name": "ipython",
    "version": 3
   },
   "file_extension": ".py",
   "mimetype": "text/x-python",
   "name": "python",
   "nbconvert_exporter": "python",
   "pygments_lexer": "ipython3",
   "version": "3.6.9"
  }
 },
 "nbformat": 4,
 "nbformat_minor": 1
}
