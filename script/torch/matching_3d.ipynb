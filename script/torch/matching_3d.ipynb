{
 "cells": [
  {
   "cell_type": "code",
   "execution_count": null,
   "metadata": {
    "autoscroll": false,
    "collapsed": false,
    "ein.hycell": false,
    "ein.tags": "worksheet-0",
    "slideshow": {
     "slide_type": "-"
    }
   },
   "outputs": [],
   "source": [
    "%load_ext autoreload\n",
    "%autoreload 2\n",
    "\n",
    "import sys\n",
    "import copy\n",
    "import math\n",
    "import pickle\n",
    "\n",
    "sys.path.append(\"../../\")\n",
    "\n",
    "import numpy as np\n",
    "import torch\n",
    "import matplotlib.pyplot as plt\n",
    "from mpl_toolkits.mplot3d import Axes3D\n",
    "import meshio\n",
    "\n",
    "import implicitmodules.torch as dm\n",
    "\n",
    "torch.set_default_tensor_type(torch.FloatTensor)\n",
    "\n",
    "dm.Utilities.set_compute_backend('keops')\n",
    "device = 'cuda:0'"
   ]
  },
  {
   "cell_type": "code",
   "execution_count": null,
   "metadata": {
    "autoscroll": false,
    "collapsed": false,
    "ein.hycell": false,
    "ein.tags": "worksheet-0",
    "slideshow": {
     "slide_type": "-"
    }
   },
   "outputs": [],
   "source": [
    "source_mesh = meshio.read(\"../../data/sphere.stl\")\n",
    "target_mesh = meshio.read(\"../../data/unit_cube.stl\")\n",
    "\n",
    "source_pts = torch.tensor(source_mesh.points).to(dtype=torch.get_default_dtype())\n",
    "\n",
    "source_faces = torch.tensor(source_mesh.cells['triangle'])\n",
    "\n",
    "target_pts = torch.tensor(target_mesh.points).to(dtype=torch.get_default_dtype()).abs()\n",
    "target_pts = 2.*(target_pts - 0.5)\n",
    "target_faces = torch.tensor(target_mesh.cells['triangle'])"
   ]
  },
  {
   "cell_type": "code",
   "execution_count": null,
   "metadata": {
    "autoscroll": false,
    "collapsed": false,
    "ein.hycell": false,
    "ein.tags": "worksheet-0",
    "slideshow": {
     "slide_type": "-"
    }
   },
   "outputs": [],
   "source": [
    "def set_aspect_equal_3d(ax):\n",
    "    \"\"\"Fix equal aspect bug for 3D plots.\"\"\"\n",
    "\n",
    "    xlim = ax.get_xlim3d()\n",
    "    ylim = ax.get_ylim3d()\n",
    "    zlim = ax.get_zlim3d()\n",
    "\n",
    "    from numpy import mean\n",
    "    xmean = mean(xlim)\n",
    "    ymean = mean(ylim)\n",
    "    zmean = mean(zlim)\n",
    "\n",
    "    plot_radius = max([abs(lim - mean_)\n",
    "                       for lims, mean_ in ((xlim, xmean),\n",
    "                                           (ylim, ymean),\n",
    "                                           (zlim, zmean))\n",
    "                       for lim in lims])\n",
    "\n",
    "    ax.set_xlim3d([xmean - plot_radius, xmean + plot_radius])\n",
    "    ax.set_ylim3d([ymean - plot_radius, ymean + plot_radius])\n",
    "    ax.set_zlim3d([zmean - plot_radius, zmean + plot_radius])"
   ]
  },
  {
   "cell_type": "code",
   "execution_count": null,
   "metadata": {
    "autoscroll": false,
    "collapsed": false,
    "ein.hycell": false,
    "ein.tags": "worksheet-0",
    "slideshow": {
     "slide_type": "-"
    }
   },
   "outputs": [],
   "source": [
    "%matplotlib qt5\n",
    "fig = plt.figure()\n",
    "\n",
    "ax = fig.add_subplot(121, projection='3d')\n",
    "ax.scatter(source_pts[:, 0].numpy(), source_pts[:, 1].numpy(), source_pts[:, 2].numpy(), marker='o')\n",
    "set_aspect_equal_3d(ax)\n",
    "\n",
    "ax = fig.add_subplot(122, projection='3d')\n",
    "ax.scatter(target_pts[:, 0].numpy(), target_pts[:, 1].numpy(), target_pts[:, 2].numpy(), marker='o')\n",
    "set_aspect_equal_3d(ax)\n",
    "\n",
    "plt.show()"
   ]
  },
  {
   "cell_type": "code",
   "execution_count": null,
   "metadata": {
    "autoscroll": false,
    "collapsed": false,
    "ein.hycell": false,
    "ein.tags": "worksheet-0",
    "slideshow": {
     "slide_type": "-"
    }
   },
   "outputs": [],
   "source": [
    "source_pts = source_pts.to(device=device)\n",
    "target_pts = target_pts.to(device=device)\n",
    "                          \n",
    "source_faces = source_faces.to(device=device)                          \n",
    "target_faces = target_faces.to(device=device)\n",
    "\n",
    "nu = 0.01\n",
    "\n",
    "sigma0 = 0.2\n",
    "\n",
    "mini, maxi = -1.1, 1.1\n",
    "nb_pts = 20\n",
    "\n",
    "grid_xyz = torch.meshgrid([torch.linspace(mini, maxi, nb_pts), torch.linspace(mini, maxi, nb_pts), torch.linspace(mini, maxi, nb_pts)])\n",
    "\n",
    "pts_implicit0 = dm.Utilities.grid2vec(grid_xyz[0], grid_xyz[1], grid_xyz[2]).to(device=device)\n",
    "\n",
    "implicit0 = dm.DeformationModules.ImplicitModule0(3, pts_implicit0.shape[0], sigma0, nu=nu, coeff=1., gd=pts_implicit0.requires_grad_())\n",
    "\n",
    "implicit0.to_(device)"
   ]
  },
  {
   "cell_type": "code",
   "execution_count": null,
   "metadata": {
    "autoscroll": false,
    "collapsed": false,
    "ein.hycell": false,
    "ein.tags": "worksheet-0",
    "slideshow": {
     "slide_type": "-"
    }
   },
   "outputs": [],
   "source": [
    "model = dm.Models.ModelPointsRegistration([(source_pts, source_faces)], [implicit0], [dm.Attachment.VarifoldAttachment(3, [1.])], lam=100.)\n",
    "fitter = dm.Models.ModelFittingScipy(model)"
   ]
  },
  {
   "cell_type": "code",
   "execution_count": null,
   "metadata": {
    "autoscroll": false,
    "collapsed": false,
    "ein.hycell": false,
    "ein.tags": "worksheet-0",
    "slideshow": {
     "slide_type": "-"
    }
   },
   "outputs": [],
   "source": [
    "costs = fitter.fit([(target_pts, target_faces)], 30, log_interval=1)"
   ]
  },
  {
   "cell_type": "code",
   "execution_count": null,
   "metadata": {
    "autoscroll": false,
    "collapsed": false,
    "ein.hycell": false,
    "ein.tags": "worksheet-0",
    "slideshow": {
     "slide_type": "-"
    }
   },
   "outputs": [],
   "source": [
    "trans = model.modules[0].manifold.gd.to('cpu').detach().view(-1, 3)\n",
    "target = target_pts.to('cpu')\n",
    "\n",
    "%matplotlib qt5\n",
    "fig = plt.figure()\n",
    "ax = fig.add_subplot(111, projection='3d')\n",
    "#ax.scatter(trans[:, 0].numpy(), trans[:, 1].numpy(), trans[:, 2].numpy(), marker='o', color='b')\n",
    "#ax.scatter(target[:, 0].numpy(), target[:, 1].numpy(), target[:, 2].numpy(), marker='o', color='r')\n",
    "ax.plot_trisurf(trans[:, 0].numpy(), trans[:, 1].numpy(), trans[:, 2].numpy(), triangles=source_faces.cpu())\n",
    "ax.plot_trisurf(target[:, 0].numpy(), target[:, 1].numpy(), target[:, 2].numpy(), triangles=target_faces.cpu(), color= (0,1,0,0.2), edgecolor=(0, 1, 0, 0.2))\n",
    "set_aspect_equal_3d(ax)\n",
    "plt.show()\n"
   ]
  },
  {
   "cell_type": "code",
   "execution_count": null,
   "metadata": {
    "autoscroll": false,
    "collapsed": false,
    "ein.hycell": false,
    "ein.tags": "worksheet-0",
    "slideshow": {
     "slide_type": "-"
    }
   },
   "outputs": [],
   "source": []
  }
 ],
 "metadata": {
  "kernelspec": {
   "display_name": "Python 3",
   "name": "python3"
  },
  "language_info": {
   "codemirror_mode": {
    "name": "ipython",
    "version": 3
   },
   "file_extension": ".py",
   "mimetype": "text/x-python",
   "name": "python",
   "nbconvert_exporter": "python",
   "pygments_lexer": "ipython3",
   "version": "3.5.2"
  },
  "name": "matching_3d.ipynb"
 },
 "nbformat": 4,
 "nbformat_minor": 2
}
