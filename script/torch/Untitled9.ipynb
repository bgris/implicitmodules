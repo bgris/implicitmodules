{
 "cells": [
  {
   "cell_type": "code",
   "execution_count": 1,
   "metadata": {},
   "outputs": [],
   "source": [
    "%load_ext autoreload\n",
    "%autoreload 2\n",
    "\n",
    "import sys\n",
    "import math\n",
    "import pickle\n",
    "import random\n",
    "\n",
    "import torch\n",
    "import matplotlib.pyplot as plt\n",
    "from mpl_toolkits.mplot3d import Axes3D\n",
    "import pymesh\n",
    "\n",
    "sys.path.append(\"../../\")\n",
    "\n",
    "import implicitmodules.torch as dm"
   ]
  },
  {
   "cell_type": "code",
   "execution_count": 2,
   "metadata": {},
   "outputs": [
    {
     "name": "stdout",
     "output_type": "stream",
     "text": [
      "Vertices count=162\n"
     ]
    }
   ],
   "source": [
    "seed = 1337\n",
    "refinement_order = 2\n",
    "sigma = 2.\n",
    "sphere_count = 5\n",
    "spheres = []\n",
    "spheres_data = []\n",
    "\n",
    "random.seed(seed)\n",
    "\n",
    "for i in range(sphere_count):\n",
    "    mesh = pymesh.generate_icosphere(0.5, [0., 0., 0.], refinement_order)\n",
    "\n",
    "    # axis = random.randint(0, 2)\n",
    "    axis = 0\n",
    "    scale = random.gauss(0., sigma)\n",
    "    scale_matrix = torch.eye(3)\n",
    "    scale_matrix[axis, axis] = scale\n",
    "\n",
    "    deformed_vertices = dm.Utilities.linear_transform(torch.tensor(mesh.vertices, dtype=torch.get_default_dtype()), scale_matrix)\n",
    "    spheres.append(dm.Models.DeformableMesh(deformed_vertices, torch.tensor(mesh.faces, dtype=torch.long)))\n",
    "    spheres_data.append({'axis': axis, 'scale': scale})\n",
    "\n",
    "template_mesh = pymesh.generate_icosphere(0.5, [0., 0., 0.], refinement_order)\n",
    "template = dm.Models.DeformableMesh(torch.tensor(template_mesh.vertices, dtype=torch.get_default_dtype()), torch.tensor(template_mesh.faces, dtype=torch.long))\n",
    "\n",
    "with open(\"spheres.pickle\", 'wb') as f:\n",
    "    pickle.dump(spheres, f)\n",
    "\n",
    "print(\"Vertices count={vertices_count}\".format(vertices_count=template_mesh.vertices.shape[0]))"
   ]
  },
  {
   "cell_type": "code",
   "execution_count": 3,
   "metadata": {},
   "outputs": [
    {
     "name": "stdout",
     "output_type": "stream",
     "text": [
      "[{'axis': 0, 'scale': -1.8235065865953255}, {'axis': 0, 'scale': -1.6645668007019474}, {'axis': 0, 'scale': -1.7666219715494316}, {'axis': 0, 'scale': 1.9824361786675635}, {'axis': 0, 'scale': 1.8849967465189708}]\n"
     ]
    }
   ],
   "source": [
    "print(spheres_data)"
   ]
  },
  {
   "cell_type": "code",
   "execution_count": 4,
   "metadata": {},
   "outputs": [],
   "source": [
    "target = spheres[-1]"
   ]
  },
  {
   "cell_type": "code",
   "execution_count": 5,
   "metadata": {},
   "outputs": [],
   "source": [
    "sigma = 0.5\n",
    "aabb = dm.Utilities.AABB.build_from_points(torch.tensor(template_mesh.vertices))\n",
    "\n",
    "implicit1_points = aabb.fill_uniform_density(50)\n",
    "implicit1_rot = torch.eye(3).repeat(implicit1_points.shape[0], 1, 1)\n",
    "\n",
    "# implicit1_c = 0.2*torch.randn(implicit1_points.shape[0], 3, 1) + 1.\n",
    "# implicit1_c.requires_grad_()\n",
    "\n",
    "# implicit1_c = torch.zeros(implicit1_points.shape[0], 3, 3)\n",
    "# implicit1_c[:, 0, 0] = 1.\n",
    "# implicit1_c[:, 1, 1] = 1.\n",
    "# implicit1_c[:, 2, 2] = 1.\n",
    "implicit1_c = torch.zeros(implicit1_points.shape[0], 3, 1)\n",
    "implicit1_c[:, 0, 0] = 1."
   ]
  },
  {
   "cell_type": "code",
   "execution_count": 6,
   "metadata": {},
   "outputs": [],
   "source": [
    "global_translation = dm.DeformationModules.GlobalTranslation(3)\n",
    "\n",
    "implicit1 = dm.DeformationModules.ImplicitModule1(3, implicit1_points.shape[0], sigma, implicit1_c, nu=0.1, gd=(implicit1_points, implicit1_rot))"
   ]
  },
  {
   "cell_type": "code",
   "execution_count": 7,
   "metadata": {},
   "outputs": [],
   "source": [
    "sigmas_varifold = [0.5]\n",
    "attachment = dm.Attachment.VarifoldAttachment(3, sigmas_varifold)\n",
    "\n",
    "atlas = dm.Models.RegistrationModel([template], [global_translation, implicit1], [attachment], lam=100.)"
   ]
  },
  {
   "cell_type": "code",
   "execution_count": 8,
   "metadata": {},
   "outputs": [
    {
     "name": "stdout",
     "output_type": "stream",
     "text": [
      "Starting optimization with method torch LBFGS\n",
      "Initial cost={'deformation': tensor(0.), 'attach': tensor(69.9232)}\n",
      "================================================================================\n",
      "Time: 56.898127212014515\n",
      "Iteration: 0\n",
      "Costs\n",
      "deformation=0.2017395794391632\n",
      "attach=0.14252662658691406\n",
      "Total cost=0.34426620602607727\n",
      "================================================================================\n",
      "Time: 73.22745961300097\n",
      "Iteration: 1\n",
      "Costs\n",
      "deformation=0.20173963904380798\n",
      "attach=0.14252662658691406\n",
      "Total cost=0.34426626563072205\n",
      "================================================================================\n",
      "Optimisation process exited with message: Convergence achieved.\n",
      "Final cost=0.34426626563072205\n",
      "Model evaluation count=31\n",
      "Time elapsed = 73.22765529499156\n"
     ]
    }
   ],
   "source": [
    "shoot_solver = 'euler'\n",
    "shoot_it = 10\n",
    "\n",
    "costs = {}\n",
    "fitter = dm.Models.Fitter(atlas, optimizer='torch_lbfgs')\n",
    "\n",
    "fitter.fit(target, 50, costs=costs, options={'shoot_solver': shoot_solver, 'shoot_it': shoot_it, 'line_search_fn': 'strong_wolfe'})"
   ]
  },
  {
   "cell_type": "code",
   "execution_count": null,
   "metadata": {},
   "outputs": [],
   "source": [
    "deformed = model.compute_deformed(shoot_solver, shoot_it)"
   ]
  },
  {
   "cell_type": "code",
   "execution_count": null,
   "metadata": {},
   "outputs": [],
   "source": [
    "%matplotlib qt5\n",
    "ax = plt.subplot()\n",
    "ax.plot_trisurf("
   ]
  },
  {
   "cell_type": "code",
   "execution_count": 2,
   "metadata": {},
   "outputs": [],
   "source": [
    "with open(\"../../data/deformed_sphere.pickle\", 'rb') as f:\n",
    "    spheres = pickle.load(f)"
   ]
  },
  {
   "cell_type": "code",
   "execution_count": 3,
   "metadata": {},
   "outputs": [],
   "source": [
    "template_points = spheres[0]\n",
    "target_points = spheres[2]\n",
    "triangles = spheres[3]\n",
    "deformed = spheres[1]"
   ]
  },
  {
   "cell_type": "code",
   "execution_count": 9,
   "metadata": {},
   "outputs": [],
   "source": [
    "%matplotlib qt5\n",
    "ax = plt.subplot(projection='3d')\n",
    "ax.plot_trisurf(template_points[:, 0].numpy(), template_points[:, 1].numpy(), template_points[:, 2].numpy(), triangles=triangles)\n",
    "#ax.plot_trisurf(target_points[:, 0].numpy(), target_points[:, 1].numpy(), target_points[:, 2].numpy(), triangles=triangles)\n",
    "#ax.plot_trisurf(deformed[:, 0].numpy(), deformed[:, 1].numpy(), deformed[:, 2].numpy(), triangles=triangles)\n",
    "#ax.plot(deformed[:, 0].numpy(), deformed[:, 1].numpy(), deformed[:, 2].numpy(), '.b')\n",
    "ax.plot_trisurf(target_points[:, 0].numpy(), target_points[:, 1].numpy(), target_points[:, 2].numpy(), triangles=triangles, color= (0,1,0,0.2), edgecolor=(1, 1, 0, 0.2))\n",
    "ax.plot_trisurf(deformed[:, 0].numpy(), deformed[:, 1].numpy(), deformed[:, 2].numpy(), triangles=triangles, color= (0,1,0,0.2), edgecolor=(0, 1, 0, 0.2))\n",
    "dm.Utilities.set_aspect_equal_3d(ax)\n",
    "plt.show()"
   ]
  },
  {
   "cell_type": "code",
   "execution_count": null,
   "metadata": {},
   "outputs": [],
   "source": []
  }
 ],
 "metadata": {
  "kernelspec": {
   "display_name": "Python 3",
   "language": "python",
   "name": "python3"
  },
  "language_info": {
   "codemirror_mode": {
    "name": "ipython",
    "version": 3
   },
   "file_extension": ".py",
   "mimetype": "text/x-python",
   "name": "python",
   "nbconvert_exporter": "python",
   "pygments_lexer": "ipython3",
   "version": "3.6.9"
  },
  "name": "Untitled9.ipynb"
 },
 "nbformat": 4,
 "nbformat_minor": 4
}
