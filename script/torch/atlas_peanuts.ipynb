{
 "cells": [
  {
   "cell_type": "code",
   "execution_count": null,
   "metadata": {
    "autoscroll": false,
    "collapsed": false,
    "ein.hycell": false,
    "ein.tags": "worksheet-0",
    "slideshow": {
     "slide_type": "-"
    }
   },
   "outputs": [],
   "source": [
    "%load_ext autoreload\n",
    "%autoreload 2\n",
    "\n",
    "import pickle\n",
    "import math\n",
    "\n",
    "# The deformation module library is not automatically installed yet, we need to add its path manually\n",
    "import sys\n",
    "sys.path.append(\"../../\")\n",
    "\n",
    "import numpy as np\n",
    "import matplotlib.pyplot as plt\n",
    "import torch\n",
    "\n",
    "import implicitmodules.torch as dm\n",
    "\n",
    "torch.set_default_tensor_type(torch.FloatTensor)"
   ]
  },
  {
   "cell_type": "code",
   "execution_count": null,
   "metadata": {
    "autoscroll": false,
    "collapsed": false,
    "ein.hycell": false,
    "ein.tags": "worksheet-0",
    "slideshow": {
     "slide_type": "-"
    }
   },
   "outputs": [],
   "source": [
    "# Lets load all peanuts\n",
    "peanuts = []\n",
    "raw_data = pickle.load(open(\"../../data/peanuts.pickle\", \"rb\"))\n",
    "\n",
    "raw_pickles = raw_data[0]\n",
    "for i in range(len(raw_pickles)):\n",
    "    peanuts.append(torch.tensor(raw_pickles[i], dtype=torch.get_default_dtype()))\n",
    "\n",
    "n_peanuts = 10\n",
    "template = peanuts[0][:-1]\n",
    "peanuts = [p[:-1] for p in peanuts[-n_peanuts:]]\n",
    "\n",
    "aabb_trans = dm.Utilities.AABB.build_from_points(torch.cat([p for p in peanuts]))"
   ]
  },
  {
   "cell_type": "code",
   "execution_count": null,
   "metadata": {
    "autoscroll": false,
    "collapsed": false,
    "ein.hycell": false,
    "ein.tags": "worksheet-0",
    "slideshow": {
     "slide_type": "-"
    }
   },
   "outputs": [],
   "source": [
    "length = 15\n",
    "implicit0_pos_x, implicit0_pos_y = torch.meshgrid([\n",
    "    torch.linspace(aabb_trans.xmin, aabb_trans.xmax, length),\n",
    "    torch.linspace(aabb_trans.ymin, aabb_trans.ymax, length)])\n",
    "\n",
    "implicit0_pos = dm.Utilities.grid2vec(implicit0_pos_x, implicit0_pos_y)"
   ]
  },
  {
   "cell_type": "code",
   "execution_count": null,
   "metadata": {
    "autoscroll": false,
    "collapsed": false,
    "ein.hycell": false,
    "ein.tags": "worksheet-0",
    "slideshow": {
     "slide_type": "-"
    }
   },
   "outputs": [],
   "source": [
    "for i in range(len(peanuts)):\n",
    "    plt.plot(peanuts[i].numpy()[:, 0], peanuts[i].numpy()[:, 1])\n",
    "\n",
    "plt.plot(template.numpy()[:, 0], template.numpy()[:, 1], \"--\")\n",
    "plt.plot(implicit0_pos[:, 0].numpy(), implicit0_pos[:, 1].numpy(), \".\")    \n",
    "\n",
    "plt.show()"
   ]
  },
  {
   "cell_type": "code",
   "execution_count": null,
   "metadata": {
    "autoscroll": false,
    "collapsed": false,
    "ein.hycell": false,
    "ein.tags": "worksheet-0",
    "slideshow": {
     "slide_type": "-"
    }
   },
   "outputs": [],
   "source": [
    "sigma0 = 0.5\n",
    "nu0 = 0.01\n",
    "implicit0 = dm.DeformationModules.ImplicitModule0.build_from_points(2, implicit0_pos.shape[0], sigma0, nu0, gd=implicit0_pos.clone().view(-1).requires_grad_())"
   ]
  },
  {
   "cell_type": "code",
   "execution_count": null,
   "metadata": {
    "autoscroll": false,
    "collapsed": false,
    "ein.hycell": false,
    "ein.tags": "worksheet-0",
    "slideshow": {
     "slide_type": "-"
    }
   },
   "outputs": [],
   "source": [
    "sigma1 = 0.5\n",
    "nu1 = 0.01\n",
    "coeff1 = 0.001\n",
    "th = 0. * math.pi * torch.ones(template.shape[0])\n",
    "R = torch.stack([dm.Utilities.rot2d(t) for t in th])\n",
    "C_init = torch.ones(template.shape[0], 2, 1)\n",
    "implicit1 = dm.DeformationModules.ImplicitModule1(dm.Manifolds.Stiefel(2, template.shape[0], gd=(template.view(-1).requires_grad_(), R.view(-1).requires_grad_())), C_init, sigma1, nu1, coeff1)"
   ]
  },
  {
   "cell_type": "code",
   "execution_count": null,
   "metadata": {
    "autoscroll": false,
    "collapsed": false,
    "ein.hycell": false,
    "ein.tags": "worksheet-0",
    "slideshow": {
     "slide_type": "-"
    }
   },
   "outputs": [],
   "source": [
    "my_atlas = dm.Models.Atlas(template, [implicit0], [dm.Attachment.VarifoldAttachement([0.5])], len(peanuts), 0.3, fit_gd=[True])\n",
    "\n",
    "my_fitter = dm.Models.ModelFittingScipy(my_atlas, 1., 50000.)"
   ]
  },
  {
   "cell_type": "code",
   "execution_count": null,
   "metadata": {
    "autoscroll": false,
    "collapsed": false,
    "ein.hycell": false,
    "ein.tags": "worksheet-0",
    "slideshow": {
     "slide_type": "-"
    }
   },
   "outputs": [],
   "source": [
    "shoot_it = 10\n",
    "shoot_method = \"euler\"\n",
    "costs = my_fitter.fit(peanuts, 150, log_interval=1, options={\"shoot_method\": shoot_method, \"shoot_it\": shoot_it})"
   ]
  },
  {
   "cell_type": "code",
   "execution_count": null,
   "metadata": {
    "autoscroll": false,
    "collapsed": false,
    "ein.hycell": false,
    "ein.tags": "worksheet-0",
    "slideshow": {
     "slide_type": "-"
    }
   },
   "outputs": [],
   "source": [
    "%matplotlib qt5\n",
    "it_per_snapshot = 1\n",
    "snapshots = int(shoot_it/it_per_snapshot)\n",
    "\n",
    "ht = my_atlas.compute_template().detach().view(-1, 2)\n",
    "\n",
    "for i in range(len(peanuts)):\n",
    "    implicit0_pos = my_atlas.models[0].init_manifold[1].gd.detach().clone().view(-1, 2)\n",
    "    implicit0 = dm.DeformationModules.ImplicitModule0.build_from_points(2, implicit0_pos.shape[0], sigma0, nu0, gd= implicit0_pos.view(-1).requires_grad_(), cotan=my_atlas.models[i].init_manifold[1].cotan)\n",
    "    #implicit1 = dm.DeformationModules.ImplicitModule1(dm.Manifolds.Stiefel(2, template.shape[0], gd=(template.view(-1).requires_grad_(), R.view(-1).requires_grad_()), cotan=my_atlas.models[i].init_manifold[1].cotan), C_init, sigma1, nu1, coeff1)\n",
    "    silent = dm.DeformationModules.SilentLandmarks.build_from_points(ht)\n",
    "    silent.manifold.fill_cotan(my_atlas.models[i].init_manifold[0].cotan)\n",
    "    h = dm.HamiltonianDynamic.Hamiltonian([silent, implicit0])\n",
    "    intermediate_states, _ = dm.HamiltonianDynamic.shoot(h, shoot_it, shoot_method, intermediates=True)\n",
    "\n",
    "    for j in range(snapshots):\n",
    "        pos = intermediate_states[it_per_snapshot*j].gd[0].view(-1, 2).numpy()\n",
    "        pos_impl1 = intermediate_states[it_per_snapshot*j].gd[1].view(-1, 2).numpy()\n",
    "        plt.subplot(len(peanuts), snapshots + 1, i*snapshots + j + i + 1)\n",
    "        plt.plot(pos[:, 0], pos[:, 1])\n",
    "        plt.plot(pos_impl1[:, 0], pos_impl1[:, 1], '.')\n",
    "        plt.axis(\"equal\")\n",
    "\n",
    "\n",
    "    plt.subplot(len(peanuts), snapshots + 1, i*snapshots + snapshots + i + 1)\n",
    "    plt.plot(peanuts[i].numpy()[:, 0], peanuts[i].numpy()[:, 1])\n",
    "    plt.axis(\"equal\")"
   ]
  }
 ],
 "metadata": {
  "kernelspec": {
   "display_name": "Python 3",
   "name": "python3"
  },
  "name": "Untitled1.ipynb"
 },
 "nbformat": 4,
 "nbformat_minor": 2
}
