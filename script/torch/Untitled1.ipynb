{
 "cells": [
  {
   "cell_type": "code",
   "execution_count": 1,
   "metadata": {},
   "outputs": [],
   "source": [
    "%load_ext autoreload\n",
    "%autoreload 2\n",
    "\n",
    "import sys\n",
    "import copy\n",
    "import math\n",
    "import pickle\n",
    "\n",
    "#sys.path.append(\"../../\")\n",
    "\n",
    "import numpy as np\n",
    "import torch\n",
    "import matplotlib.pyplot as plt\n",
    "from mpl_toolkits.mplot3d import Axes3D\n",
    "import meshio\n",
    "\n",
    "#import implicitmodules.torch as dm"
   ]
  },
  {
   "cell_type": "code",
   "execution_count": 2,
   "metadata": {},
   "outputs": [],
   "source": [
    "import os\n",
    "os.chdir('/home/gris/projects_py3/implicitmodules')"
   ]
  },
  {
   "cell_type": "code",
   "execution_count": 3,
   "metadata": {},
   "outputs": [],
   "source": [
    "import implicitmodules.torch as dm"
   ]
  },
  {
   "cell_type": "code",
   "execution_count": 4,
   "metadata": {},
   "outputs": [],
   "source": [
    "torch.set_default_tensor_type(torch.FloatTensor)\n",
    "\n",
    "dm.Utilities.set_compute_backend('torch')"
   ]
  },
  {
   "cell_type": "code",
   "execution_count": 5,
   "metadata": {},
   "outputs": [],
   "source": [
    "\n",
    "def eta(dim, device=None):\n",
    "    cst = 1 / math.sqrt(2)\n",
    "    if dim == 2:\n",
    "        return torch.tensor([[[1., 0., 0.], [0., cst, 0.]],\n",
    "                             [[0., cst, 0.], [0., 0., 1.]]],\n",
    "                            dtype=torch.get_default_dtype(), device=device)\n",
    "    elif dim == 3:\n",
    "        eta = torch.zeros(dim, dim, int(dim*(dim+1)/2))\n",
    "        for i in range(3):\n",
    "            eta[i, i, i] = 1.\n",
    "\n",
    "        eta[0, 1, 3] = cst\n",
    "        eta[1, 0, 3] = cst\n",
    "        eta[0, 2, 4] = cst\n",
    "        eta[2, 0, 4] = cst\n",
    "        eta[1, 2, 5] = cst\n",
    "        eta[2, 1, 5] = cst\n",
    "\n",
    "        return eta.to(device=device)\n",
    "    else:\n",
    "        raise NotImplementedError\n",
    "\n"
   ]
  },
  {
   "cell_type": "code",
   "execution_count": 9,
   "metadata": {},
   "outputs": [],
   "source": [
    "d= 2\n",
    "eta2 = eta(d)"
   ]
  },
  {
   "cell_type": "code",
   "execution_count": 10,
   "metadata": {},
   "outputs": [
    {
     "data": {
      "text/plain": [
       "torch.Size([2, 2, 3])"
      ]
     },
     "execution_count": 10,
     "metadata": {},
     "output_type": "execute_result"
    }
   ],
   "source": [
    "eta2.shape"
   ]
  },
  {
   "cell_type": "code",
   "execution_count": 11,
   "metadata": {},
   "outputs": [],
   "source": [
    "N = 1\n",
    "K = torch.zeros([N, d,d,d,d,d])"
   ]
  },
  {
   "cell_type": "code",
   "execution_count": 13,
   "metadata": {},
   "outputs": [
    {
     "data": {
      "text/plain": [
       "torch.Size([1, 2, 2, 2, 3])"
      ]
     },
     "execution_count": 13,
     "metadata": {},
     "output_type": "execute_result"
    }
   ],
   "source": [
    "torch.tensordot(torch.transpose(K, 2, 3), eta(dim)).shape"
   ]
  },
  {
   "cell_type": "code",
   "execution_count": 14,
   "metadata": {},
   "outputs": [
    {
     "data": {
      "text/plain": [
       "torch.Size([1, 2, 2, 2, 2, 2])"
      ]
     },
     "execution_count": 14,
     "metadata": {},
     "output_type": "execute_result"
    }
   ],
   "source": [
    "K.shape"
   ]
  },
  {
   "cell_type": "code",
   "execution_count": 18,
   "metadata": {},
   "outputs": [
    {
     "data": {
      "text/plain": [
       "tensor([[0.0000, 0.7071],\n",
       "        [0.7071, 0.0000]])"
      ]
     },
     "execution_count": 18,
     "metadata": {},
     "output_type": "execute_result"
    }
   ],
   "source": [
    "eta2[:,:,1]"
   ]
  },
  {
   "cell_type": "code",
   "execution_count": 20,
   "metadata": {},
   "outputs": [],
   "source": [
    "d= 3\n",
    "eta3 = eta(d)"
   ]
  },
  {
   "cell_type": "code",
   "execution_count": 21,
   "metadata": {},
   "outputs": [
    {
     "data": {
      "text/plain": [
       "torch.Size([3, 3, 6])"
      ]
     },
     "execution_count": 21,
     "metadata": {},
     "output_type": "execute_result"
    }
   ],
   "source": [
    "eta3.shape"
   ]
  },
  {
   "cell_type": "code",
   "execution_count": 24,
   "metadata": {},
   "outputs": [
    {
     "data": {
      "text/plain": [
       "tensor([[0., 0., 0.],\n",
       "        [0., 0., 0.],\n",
       "        [0., 0., 1.]])"
      ]
     },
     "execution_count": 24,
     "metadata": {},
     "output_type": "execute_result"
    }
   ],
   "source": [
    "eta3[:,:,2]"
   ]
  },
  {
   "cell_type": "code",
   "execution_count": 25,
   "metadata": {},
   "outputs": [
    {
     "name": "stdout",
     "output_type": "stream",
     "text": [
      "[tensor([[1., 0., 0.],\n",
      "        [0., 0., 0.],\n",
      "        [0., 0., 0.]]), tensor([[0., 0., 0.],\n",
      "        [0., 1., 0.],\n",
      "        [0., 0., 0.]]), tensor([[0., 0., 0.],\n",
      "        [0., 0., 0.],\n",
      "        [0., 0., 1.]]), tensor([[0.0000, 0.7071, 0.0000],\n",
      "        [0.7071, 0.0000, 0.0000],\n",
      "        [0.0000, 0.0000, 0.0000]]), tensor([[0.0000, 0.0000, 0.7071],\n",
      "        [0.0000, 0.0000, 0.0000],\n",
      "        [0.7071, 0.0000, 0.0000]]), tensor([[0.0000, 0.0000, 0.0000],\n",
      "        [0.0000, 0.0000, 0.7071],\n",
      "        [0.0000, 0.7071, 0.0000]])]\n"
     ]
    }
   ],
   "source": [
    "print([eta3[:, :, i] for i in range(6)])"
   ]
  },
  {
   "cell_type": "code",
   "execution_count": 27,
   "metadata": {},
   "outputs": [
    {
     "name": "stdout",
     "output_type": "stream",
     "text": [
      "tensor([[1., 0., 0.],\n",
      "        [0., 0., 0.],\n",
      "        [0., 0., 0.]])\n",
      "====================\n",
      "tensor([[0., 0., 0.],\n",
      "        [0., 1., 0.],\n",
      "        [0., 0., 0.]])\n",
      "====================\n",
      "tensor([[0., 0., 0.],\n",
      "        [0., 0., 0.],\n",
      "        [0., 0., 1.]])\n",
      "====================\n",
      "tensor([[0.0000, 0.7071, 0.0000],\n",
      "        [0.7071, 0.0000, 0.0000],\n",
      "        [0.0000, 0.0000, 0.0000]])\n",
      "====================\n",
      "tensor([[0.0000, 0.0000, 0.7071],\n",
      "        [0.0000, 0.0000, 0.0000],\n",
      "        [0.7071, 0.0000, 0.0000]])\n",
      "====================\n",
      "tensor([[0.0000, 0.0000, 0.0000],\n",
      "        [0.0000, 0.0000, 0.7071],\n",
      "        [0.0000, 0.7071, 0.0000]])\n",
      "====================\n"
     ]
    }
   ],
   "source": [
    "for i in range(6):\n",
    "    print(eta3[:,:,i])\n",
    "    print(\"=\"*20)"
   ]
  },
  {
   "cell_type": "code",
   "execution_count": null,
   "metadata": {},
   "outputs": [],
   "source": []
  },
  {
   "cell_type": "code",
   "execution_count": null,
   "metadata": {},
   "outputs": [],
   "source": []
  }
 ],
 "metadata": {
  "kernelspec": {
   "display_name": "Python 3",
   "language": "python",
   "name": "python3"
  },
  "language_info": {
   "codemirror_mode": {
    "name": "ipython",
    "version": 3
   },
   "file_extension": ".py",
   "mimetype": "text/x-python",
   "name": "python",
   "nbconvert_exporter": "python",
   "pygments_lexer": "ipython3",
   "version": "3.6.7"
  }
 },
 "nbformat": 4,
 "nbformat_minor": 2
}
