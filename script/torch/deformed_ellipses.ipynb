{
 "cells": [
  {
   "cell_type": "code",
   "execution_count": null,
   "metadata": {
    "autoscroll": false,
    "collapsed": false,
    "ein.hycell": false,
    "ein.tags": "worksheet-0",
    "slideshow": {
     "slide_type": "-"
    }
   },
   "outputs": [],
   "source": [
    "%env OMP_PLACES {0:11:4}\n",
    "%env OMP_NUM_THREADS 11\n",
    "\n",
    "import sys\n",
    "import copy\n",
    "import math\n",
    "import pickle\n",
    "\n",
    "sys.path.append(\"../../\")\n",
    "\n",
    "import numpy as np\n",
    "import torch\n",
    "import matplotlib.pyplot as plt\n",
    "\n",
    "import implicitmodules.torch as dm\n",
    "\n",
    "torch.set_default_tensor_type(torch.FloatTensor)"
   ]
  },
  {
   "cell_type": "code",
   "execution_count": null,
   "metadata": {
    "autoscroll": false,
    "collapsed": false,
    "ein.hycell": false,
    "ein.tags": "worksheet-0",
    "slideshow": {
     "slide_type": "-"
    }
   },
   "outputs": [],
   "source": [
    "def sample(pts_silent, pts_implicit1, R, C, sigma):\n",
    "    while True:\n",
    "        # We first pick a random index in pts_silent and get the normal position\n",
    "        # We substract 1 to the possible index so we can easily get the tangent vector\n",
    "        # ind = np.asscalar(np.random.choice(pts_silent.shape[0] - 1, 1))\n",
    "        # tan = (pts_silent[ind + 1] - pts_silent[ind]).numpy()\n",
    "        # norm = np.array([tan[1], -tan[0]])\n",
    "        # norm /= np.linalg.norm(norm)\n",
    "        # norm *= -150.\n",
    "        # cotan = torch.zeros_like(pts_silent)\n",
    "        # cotan[ind] = torch.tensor(norm)\n",
    "\n",
    "        #cotan = 20.*torch.randn_like(pts_silent)\n",
    "        cotan = 10.*torch.randn_like(pts_silent)\n",
    "        #cotan = torch.zeros_like(pts_silent)\n",
    "        # cotan[:10, 0] = -10.\n",
    "        # cotan[120:130, 0] = -10.\n",
    "        #cotan[pts_silent[:, 0] <= 0, 0] = -2.\n",
    "\n",
    "        # val_left = -1.\n",
    "        # val_right = 1.\n",
    "        # cotan[30:39, 1] = val_left\n",
    "        # cotan[212:221, 1] = -val_left\n",
    "        # cotan[92:101, 1] = val_right\n",
    "        # cotan[149:158, 1] = -val_right\n",
    "\n",
    "        # plt.plot(pts_silent[:, 0].numpy(), pts_silent[:, 1].numpy())\n",
    "        # plt.quiver(pts_silent[:, 0].numpy(), pts_silent[:, 1].numpy(), cotan[:, 0].numpy(), cotan[:, 1].numpy())\n",
    "        # plt.show()\n",
    "\n",
    "        silent = dm.DeformationModules.SilentLandmarks.build_from_points(pts_silent)\n",
    "        silent.manifold.fill_cotan(cotan.view(-1).requires_grad_())\n",
    "        # implicit1 = dm.DeformationModules.ImplicitModule1.build_and_fill(2, pts_implicit1.shape[0], C[:, :, 0].unsqueeze(2), sigma, 0.001, gd=(pts_implicit1.view(-1).requires_grad_(), R.view(-1).requires_grad_()))\n",
    "        # implicit1_2 = dm.DeformationModules.ImplicitModule1.build_and_fill(2, pts_implicit1.shape[0], C[:, :, 1].unsqueeze(2), sigma, 0.001, gd=(pts_implicit1.view(-1).requires_grad_(), R.view(-1).requires_grad_()))\n",
    "        implicit1 = dm.DeformationModules.ImplicitModule1.build_and_fill(2, pts_implicit1.shape[0], C, sigma, 0.001, gd=(pts_implicit1.view(-1).requires_grad_(), R.view(-1).requires_grad_()))\n",
    "        with torch.autograd.no_grad():\n",
    "            dm.HamiltonianDynamic.shoot(dm.HamiltonianDynamic.Hamiltonian([silent, implicit1]), 100, 'euler')\n",
    "            sample = silent.manifold.gd.detach().view(-1, 2)\n",
    "            sample = sample - torch.mean(sample, dim=0)\n",
    "            print(torch.norm(sample).item())\n",
    "        if torch.norm(sample).item() > 100. or torch.norm(sample).item() < 5. or math.isnan(torch.norm(sample).item()):\n",
    "            continue\n",
    "        else:\n",
    "            return sample"
   ]
  },
  {
   "cell_type": "code",
   "execution_count": null,
   "metadata": {
    "autoscroll": false,
    "collapsed": false,
    "ein.hycell": false,
    "ein.tags": "worksheet-0",
    "slideshow": {
     "slide_type": "-"
    }
   },
   "outputs": [],
   "source": [
    "n_pts = 200\n",
    "vertical_scaling = 2.\n",
    "ellipse = torch.stack([torch.cos(torch.linspace(0., 2.*math.pi, n_pts)),\n",
    "                     vertical_scaling*torch.sin(torch.linspace(0., 2.*math.pi, n_pts))], dim=1)\n",
    "\n",
    "aabb_ellipse = dm.Utilities.AABB.build_from_points(ellipse)\n",
    "\n",
    "density = 30\n",
    "print(3./math.sqrt(density))\n",
    "\n",
    "pts_implicit1 = dm.Utilities.fill_aabb(aabb_ellipse, density)"
   ]
  },
  {
   "cell_type": "code",
   "execution_count": null,
   "metadata": {
    "autoscroll": false,
    "collapsed": false,
    "ein.hycell": false,
    "ein.tags": "worksheet-0",
    "slideshow": {
     "slide_type": "-"
    }
   },
   "outputs": [],
   "source": [
    "plt.plot(ellipse.numpy()[:-1, 0], ellipse.numpy()[:-1, 1])\n",
    "plt.plot(pts_implicit1.numpy()[:, 0], pts_implicit1.numpy()[:, 1], '.')\n",
    "plt.axis('equal')\n",
    "plt.show()"
   ]
  },
  {
   "cell_type": "code",
   "execution_count": null,
   "metadata": {
    "autoscroll": false,
    "collapsed": false,
    "ein.hycell": false,
    "ein.tags": "worksheet-0",
    "slideshow": {
     "slide_type": "-"
    }
   },
   "outputs": [],
   "source": [
    "C = torch.ones(pts_implicit1.shape[0], 2, 2)\n",
    "C[:, 1 , 0] = torch.linspace(0., 10., pts_implicit1.shape[0])\n",
    "C[:, 0, 0] = 0."
   ]
  },
  {
   "cell_type": "code",
   "execution_count": null,
   "metadata": {
    "autoscroll": false,
    "collapsed": false,
    "ein.hycell": false,
    "ein.tags": "worksheet-0",
    "slideshow": {
     "slide_type": "-"
    }
   },
   "outputs": [],
   "source": [
    "%matplotlib qt5\n",
    "ax_left = plt.subplot(1, 2, 1)\n",
    "dm.Utilities.plot_C_ellipse(ax_left, pts_implicit1, C, c_index=0, scale=0.1, color='red')\n",
    "dm.Utilities.plot_C_arrow(ax_left, pts_implicit1, C, c_index=0, scale=0.1, color='black', zorder=3, mutation_scale=10)\n",
    "plt.axis(aabb_ellipse.get_list())\n",
    "plt.axis('equal')\n",
    "\n",
    "ax_right = plt.subplot(1, 2, 2)\n",
    "dm.Utilities.plot_C_ellipse(ax_right, pts_implicit1, C, c_index=1, scale=0.1, color='blue')\n",
    "dm.Utilities.plot_C_arrow(ax_right, pts_implicit1, C, c_index=1, scale=0.1, color='black', zorder=3, mutation_scale=10)\n",
    "plt.axis(aabb_ellipse.get_list())\n",
    "plt.axis('equal')\n",
    "\n",
    "plt.show()"
   ]
  },
  {
   "cell_type": "code",
   "execution_count": null,
   "metadata": {
    "autoscroll": false,
    "collapsed": false,
    "ein.hycell": false,
    "ein.tags": "worksheet-0",
    "slideshow": {
     "slide_type": "-"
    }
   },
   "outputs": [],
   "source": [
    "angles = 0. * math.pi * torch.ones(pts_implicit1.shape[0])\n",
    "R = torch.stack([dm.Utilities.rot2d(a) for a in angles])"
   ]
  },
  {
   "cell_type": "code",
   "execution_count": null,
   "metadata": {
    "autoscroll": false,
    "collapsed": false,
    "ein.hycell": false,
    "ein.tags": "worksheet-0",
    "slideshow": {
     "slide_type": "-"
    }
   },
   "outputs": [],
   "source": [
    "my_sample = sample(ellipse, pts_implicit1, R, C, 3./math.sqrt(density))\n",
    "\n",
    "ax = plt.subplot()\n",
    "plt.plot(ellipse[:, 0].numpy(), ellipse[:, 1].numpy(), '--')\n",
    "plt.plot(my_sample[:, 0].numpy(), my_sample[:, 1].numpy())\n",
    "plt.axis(aabb_ellipse.get_list())\n",
    "plt.axis('equal')\n",
    "plt.show()"
   ]
  },
  {
   "cell_type": "code",
   "execution_count": null,
   "metadata": {
    "autoscroll": false,
    "collapsed": false,
    "ein.hycell": false,
    "ein.tags": "worksheet-0",
    "slideshow": {
     "slide_type": "-"
    }
   },
   "outputs": [],
   "source": [
    "sample_count = 30\n",
    "samples = [ellipse.tolist()]\n",
    "for i in range(sample_count):\n",
    "    print(\"Generating sample\", i)\n",
    "    samples.append(sample(ellipse, pts_implicit1, R, C, 3./math.sqrt(density)).tolist())"
   ]
  },
  {
   "cell_type": "code",
   "execution_count": null,
   "metadata": {
    "autoscroll": false,
    "collapsed": false,
    "ein.hycell": false,
    "ein.tags": "worksheet-0",
    "slideshow": {
     "slide_type": "-"
    }
   },
   "outputs": [],
   "source": [
    "# Does not work somehow\n",
    "\n",
    "nb_plot_row = 5\n",
    "nb_plot_col = 5\n",
    "cur_plot_index = 0\n",
    "cont = True\n",
    "while cont:\n",
    "    for i in range(nb_plot_row):\n",
    "        for j in range(nb_plot_col):\n",
    "            if cur_plot_index < len(samples):\n",
    "                plt.subplot(nb_plot_row, nb_plot_col, nb_plot_row*i+j+1)\n",
    "                plt.axis(aabb_ellipse.get_list())\n",
    "                plt.axis('equal')\n",
    "                plt.plot(np.asarray(samples[cur_plot_index])[:, 0], np.asarray(samples[cur_plot_index])[:, 1])\n",
    "                cur_plot_index = cur_plot_index + 1\n",
    "            else:\n",
    "                plt.show()\n",
    "                cont = False\n",
    "                break\n",
    "\n",
    "    plt.show()        "
   ]
  },
  {
   "cell_type": "code",
   "execution_count": null,
   "metadata": {
    "autoscroll": false,
    "collapsed": false,
    "ein.hycell": false,
    "ein.tags": "worksheet-0",
    "slideshow": {
     "slide_type": "-"
    }
   },
   "outputs": [],
   "source": [
    "pickle.dump({'c_gt_pos': pts_implicit1, 'c_gt': C, 'dataset': samples}, open(\"../../data/deformed_ellipses.pkl\", 'wb'))"
   ]
  }
 ],
 "metadata": {
  "kernelspec": {
   "display_name": "Python 3",
   "name": "python3"
  },
  "name": "deformed_ellipses.ipynb"
 },
 "nbformat": 4,
 "nbformat_minor": 2
}
