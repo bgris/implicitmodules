{
 "cells": [
  {
   "cell_type": "code",
   "execution_count": null,
   "metadata": {
    "autoscroll": false,
    "collapsed": false,
    "ein.hycell": false,
    "ein.tags": "worksheet-0",
    "slideshow": {
     "slide_type": "-"
    }
   },
   "outputs": [],
   "source": [
    "%load_ext autoreload\n",
    "%autoreload 2\n",
    "\n",
    "import pickle\n",
    "import math\n",
    "\n",
    "# The deformation module library is not automatically installed yet, we need to add its path manually\n",
    "import sys\n",
    "sys.path.append(\"../../\")\n",
    "\n",
    "import numpy as np\n",
    "import matplotlib.pyplot as plt\n",
    "import torch\n",
    "\n",
    "import implicitmodules.torch as dm\n",
    "\n",
    "torch.set_default_tensor_type(torch.FloatTensor)\n",
    "dm.Utilities.set_compute_backend('torch')\n",
    "\n",
    "torch.manual_seed(5)"
   ]
  },
  {
   "cell_type": "code",
   "execution_count": null,
   "metadata": {
    "autoscroll": false,
    "collapsed": false,
    "ein.hycell": false,
    "ein.tags": "worksheet-0",
    "slideshow": {
     "slide_type": "-"
    }
   },
   "outputs": [],
   "source": [
    "dim = 2\n",
    "nb_pts = 8\n",
    "\n",
    "gd_pos = 0.2*torch.randn(nb_pts, dim)\n",
    "gd_dir = 0.2*torch.randn(nb_pts, dim)\n",
    "\n",
    "mom_pos = 0.7*torch.randn(nb_pts, dim)\n",
    "mom_dir = 0.7*torch.randn(nb_pts, dim)\n",
    "\n",
    "sigma = 0.02#torch.mean(dm.Kernels.distances(gd_pos, gd_pos))\n",
    "\n",
    "oriented = dm.DeformationModules.OrientedTranslations(dim, nb_pts, sigma, 'vector', nu=0.0001, gd=(gd_pos.clone().requires_grad_(), gd_dir.clone().requires_grad_()), cotan=(mom_pos.clone().requires_grad_(), mom_dir.clone().requires_grad_()))"
   ]
  },
  {
   "cell_type": "code",
   "execution_count": null,
   "metadata": {
    "autoscroll": false,
    "collapsed": false,
    "ein.hycell": false,
    "ein.tags": "worksheet-0",
    "slideshow": {
     "slide_type": "-"
    }
   },
   "outputs": [],
   "source": [
    "intermediate_states, intermediate_controls = dm.HamiltonianDynamic.shoot(dm.HamiltonianDynamic.Hamiltonian([oriented]), 400, 'euler', intermediates=True)"
   ]
  },
  {
   "cell_type": "code",
   "execution_count": null,
   "metadata": {
    "autoscroll": false,
    "collapsed": false,
    "ein.hycell": false,
    "ein.tags": "worksheet-0",
    "slideshow": {
     "slide_type": "-"
    }
   },
   "outputs": [],
   "source": [
    "trajectories = [torch.stack(trajectory) for trajectory in list(zip(*(state[0].gd[0] for state in intermediate_states)))]\n",
    "\n",
    "trajectories_dir = [torch.stack(trajectory_dir) for trajectory_dir in list(zip(*(state[0].gd[1] for state in intermediate_states)))]\n",
    "\n",
    "trajectories_controls = torch.stack(tuple(control[0] for control in intermediate_controls))\n",
    "trajectories_controls = torch.cat([torch.zeros(1, nb_pts), trajectories_controls]).T\n",
    "\n",
    "trajectories_dir = [control.repeat(2, 1).T*trajectory_dir for control, trajectory_dir in zip(trajectories_controls, trajectories_dir)]"
   ]
  },
  {
   "cell_type": "code",
   "execution_count": null,
   "metadata": {
    "autoscroll": false,
    "collapsed": false,
    "ein.hycell": false,
    "ein.tags": "worksheet-0",
    "slideshow": {
     "slide_type": "-"
    }
   },
   "outputs": [],
   "source": [
    "aabb = dm.Utilities.AABB.build_from_points(torch.cat([trajectory for trajectory in trajectories])).scale(2.)\n",
    "print(\"{width}:{height}\".format(width=aabb.width, height=aabb.height))\n",
    "\n",
    "oriented = dm.DeformationModules.OrientedTranslations(dim, nb_pts, sigma, 'orthogonal', gd=(gd_pos.clone().requires_grad_(), gd_dir.clone().requires_grad_()), cotan=(mom_pos.clone().requires_grad_(), mom_dir.clone().requires_grad_()))\n",
    "width = 256\n",
    "height = 256\n",
    "gd_grid = aabb.fill([width, height])\n",
    "nb_pts_silent = gd_grid.shape[0]\n",
    "grid = dm.DeformationModules.SilentLandmarks(dim, nb_pts_silent, gd=gd_grid.clone().requires_grad_(), cotan=torch.zeros_like(gd_grid, requires_grad=True))"
   ]
  },
  {
   "cell_type": "code",
   "execution_count": null,
   "metadata": {
    "autoscroll": false,
    "collapsed": false,
    "ein.hycell": false,
    "ein.tags": "worksheet-0",
    "slideshow": {
     "slide_type": "-"
    }
   },
   "outputs": [],
   "source": [
    "dm.HamiltonianDynamic.shoot(dm.HamiltonianDynamic.Hamiltonian([oriented, grid]), 200, 'euler')"
   ]
  },
  {
   "cell_type": "code",
   "execution_count": null,
   "metadata": {
    "autoscroll": false,
    "collapsed": false,
    "ein.hycell": false,
    "ein.tags": "worksheet-0",
    "slideshow": {
     "slide_type": "-"
    }
   },
   "outputs": [],
   "source": [
    "%matplotlib qt5\n",
    "\n",
    "ax = plt.subplot()\n",
    "\n",
    "for trajectory, trajectory_dir in zip(trajectories, trajectories_dir):\n",
    "    plt.plot(trajectory[:, 0], trajectory[:, 1], '-')\n",
    "    plt.quiver(trajectory[:, 0], trajectory[:, 1], trajectory_dir[:, 0], trajectory_dir[:, 1], scale=10.)\n",
    "\n",
    "defgrid_x, defgrid_y = dm.Utilities.vec2grid(grid.manifold.gd.detach(), width, height)\n",
    "dm.Utilities.plot_grid(ax, defgrid_x, defgrid_y, color='blue')\n",
    "\n",
    "plt.axis('equal')\n",
    "plt.show()"
   ]
  },
  {
   "cell_type": "code",
   "execution_count": null,
   "metadata": {
    "autoscroll": false,
    "collapsed": false,
    "ein.hycell": false,
    "ein.tags": "worksheet-0",
    "slideshow": {
     "slide_type": "-"
    }
   },
   "outputs": [],
   "source": [
    "ax = plt.subplot()\n",
    "\n",
    "for trajectory, trajectory_dir in zip(trajectories, trajectories_dir):\n",
    "    plt.plot(trajectory[:, 0], trajectory[:, 1], '-')\n",
    "    plt.quiver(trajectory[:, 0], trajectory[:, 1], trajectory_dir[:, 0], trajectory_dir[:, 1], scale=100.)\n",
    "\n",
    "#defgrid_x, defgrid_y = dm.Utilities.vec2grid(grid.manifold.gd.detach(), 17, 32)\n",
    "#dm.Utilities.plot_grid(ax, defgrid_x, defgrid_y, color='blue')\n",
    "\n",
    "plt.show()"
   ]
  },
  {
   "cell_type": "code",
   "execution_count": null,
   "metadata": {
    "autoscroll": false,
    "collapsed": false,
    "ein.hycell": false,
    "ein.tags": "worksheet-0",
    "slideshow": {
     "slide_type": "-"
    }
   },
   "outputs": [],
   "source": [
    "vector_field = oriented(gd_grid).detach()\n",
    "\n",
    "plt.quiver(gd_grid.detach().numpy()[:, 0], gd_grid.detach().numpy()[:, 1], vector_field.numpy()[:, 0], vector_field.numpy()[:, 1], scale=100.)\n",
    "plt.axis('equal')\n",
    "plt.show()"
   ]
  },
  {
   "cell_type": "code",
   "execution_count": null,
   "metadata": {
    "autoscroll": false,
    "collapsed": false,
    "ein.hycell": false,
    "ein.tags": "worksheet-0",
    "slideshow": {
     "slide_type": "-"
    }
   },
   "outputs": [],
   "source": []
  }
 ],
 "metadata": {
  "kernelspec": {
   "display_name": "Python 3",
   "name": "python3"
  },
  "name": "test_orientedtranslations.ipynb"
 },
 "nbformat": 4,
 "nbformat_minor": 2
}
