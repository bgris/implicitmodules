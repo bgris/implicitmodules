{
 "cells": [
  {
   "cell_type": "code",
   "execution_count": 1,
   "metadata": {},
   "outputs": [],
   "source": [
    "import json\n",
    "import csv\n",
    "\n",
    "import sys\n",
    "sys.path.append(\"../../\")\n",
    "#sys.path.append(\"/home/rosa/DefmodEnv/lib/python3.7/site-packages/\")\n",
    "\n",
    "import numpy as np\n",
    "import matplotlib.pyplot as plt\n",
    "import torch\n",
    "import copy\n",
    "import math\n",
    "import pickle\n",
    "\n",
    "torch.set_default_tensor_type(torch.DoubleTensor)\n",
    "\n",
    "import implicitmodules.torch as dm\n",
    "from implicitmodules.torch.HamiltonianDynamic import Hamiltonian, shoot\n",
    "from implicitmodules.torch.MultiShape import MultiShapeHamiltonian\n",
    "\n",
    "dm.Utilities.set_compute_backend('keops')\n"
   ]
  },
  {
   "cell_type": "code",
   "execution_count": 2,
   "metadata": {},
   "outputs": [
    {
     "name": "stdout",
     "output_type": "stream",
     "text": [
      "Compiling libKeOpstorch205c85ff5b in /users/home/gris/.cache/pykeops-1.3-cpython-36/build-libKeOpstorch205c85ff5b:\n",
      "       formula: Sum_Reduction(SqNorm2(x - y),1)\n",
      "       aliases: x = Vi(0,3); y = Vj(1,3); \n",
      "       dtype  : float32\n",
      "... Done.\n",
      "\n",
      "pyKeOps with torch bindings is working!\n",
      "\n"
     ]
    }
   ],
   "source": [
    "import pykeops\n",
    "#pykeops.clean_pykeops()          # just in case old build files are still present\n",
    "pykeops.test_torch_bindings()  "
   ]
  },
  {
   "cell_type": "code",
   "execution_count": 2,
   "metadata": {},
   "outputs": [],
   "source": []
  },
  {
   "cell_type": "code",
   "execution_count": 3,
   "metadata": {},
   "outputs": [
    {
     "data": {
      "text/plain": [
       "'3.6.8 (default, Oct  7 2019, 12:59:55) \\n[GCC 8.3.0]'"
      ]
     },
     "execution_count": 3,
     "metadata": {},
     "output_type": "execute_result"
    }
   ],
   "source": [
    "sys.version"
   ]
  },
  {
   "cell_type": "code",
   "execution_count": 4,
   "metadata": {},
   "outputs": [
    {
     "name": "stdout",
     "output_type": "stream",
     "text": [
      "1.4.0\n"
     ]
    }
   ],
   "source": [
    "print(torch.__version__)"
   ]
  },
  {
   "cell_type": "code",
   "execution_count": 5,
   "metadata": {},
   "outputs": [
    {
     "name": "stdout",
     "output_type": "stream",
     "text": [
      "1.3\n"
     ]
    }
   ],
   "source": [
    "print(pykeops.__version__)"
   ]
  },
  {
   "cell_type": "code",
   "execution_count": 6,
   "metadata": {},
   "outputs": [],
   "source": [
    "from PIL import Image\n",
    "path_image = '/users/home/gris/Data/Multishape/'\n",
    "source = torch.tensor(np.asarray(Image.open(path_image + \"Lung_Moving.tif\")))\n",
    "target = torch.tensor(np.asarray(Image.open(path_image + \"Lung_Fixed.tif\")))\n",
    "\n",
    "# load boundaries from csv file\n",
    "from numpy import loadtxt\n",
    "boundary0_pix = torch.tensor(loadtxt('boundary0.csv', delimiter=',')).t()#.flip(dims=[0])\n",
    "boundary1_pix = torch.tensor(loadtxt('boundary1.csv', delimiter=',')).t()#.flip(dims=[0])\n"
   ]
  },
  {
   "cell_type": "code",
   "execution_count": 7,
   "metadata": {},
   "outputs": [],
   "source": [
    "# convert the rgb image to grayscale\n",
    "def rgb2gray(rgb):\n",
    "    return np.dot(rgb[...,:3], [0.2989, 0.5870, 0.1140])\n",
    "\n",
    "source_tot = torch.tensor(rgb2gray(source))\n",
    "target_tot = torch.tensor(rgb2gray(target))"
   ]
  },
  {
   "cell_type": "raw",
   "metadata": {},
   "source": [
    "plt.imshow(source_tot)"
   ]
  },
  {
   "cell_type": "raw",
   "metadata": {},
   "source": [
    "plt.imshow(source_tot[60:335, 35:400])"
   ]
  },
  {
   "cell_type": "code",
   "execution_count": 8,
   "metadata": {
    "scrolled": true
   },
   "outputs": [
    {
     "data": {
      "text/plain": [
       "(torch.Size([400, 400, 3]), torch.Size([404, 408, 3]))"
      ]
     },
     "execution_count": 8,
     "metadata": {},
     "output_type": "execute_result"
    }
   ],
   "source": [
    "source.shape, target.shape"
   ]
  },
  {
   "cell_type": "code",
   "execution_count": 9,
   "metadata": {},
   "outputs": [
    {
     "data": {
      "text/plain": [
       "torch.Size([400, 400])"
      ]
     },
     "execution_count": 9,
     "metadata": {},
     "output_type": "execute_result"
    }
   ],
   "source": [
    "# cropping the target so source and target are of the same size\n",
    "target_tot = target_tot[2:-2, 4:-4]\n",
    "target_tot.shape"
   ]
  },
  {
   "cell_type": "code",
   "execution_count": 10,
   "metadata": {},
   "outputs": [],
   "source": [
    "step=15\n",
    "source = source_tot[::step, ::step]\n",
    "target = target_tot[::step, ::step]"
   ]
  },
  {
   "cell_type": "raw",
   "metadata": {},
   "source": [
    "step=3\n",
    "si = 365\n",
    "imin = 10\n",
    "jmin = 35\n",
    "source = source_tot[imin:imin+si, jmin:jmin+si]\n",
    "target = target_tot[imin:imin+si, jmin:jmin+si]\n",
    "source = source[::step, ::step]\n",
    "target = target[::step, ::step]"
   ]
  },
  {
   "cell_type": "code",
   "execution_count": 11,
   "metadata": {},
   "outputs": [
    {
     "data": {
      "text/plain": [
       "torch.Size([27, 27])"
      ]
     },
     "execution_count": 11,
     "metadata": {},
     "output_type": "execute_result"
    }
   ],
   "source": [
    "source.shape"
   ]
  },
  {
   "cell_type": "code",
   "execution_count": 14,
   "metadata": {},
   "outputs": [
    {
     "data": {
      "text/plain": [
       "<matplotlib.image.AxesImage at 0x7f021055aac8>"
      ]
     },
     "execution_count": 14,
     "metadata": {},
     "output_type": "execute_result"
    },
    {
     "data": {
      "image/png": "[encoded data removed]",
      "text/plain": [
       "<Figure size 432x288 with 1 Axes>"
      ]
     },
     "metadata": {
      "needs_background": "light"
     },
     "output_type": "display_data"
    }
   ],
   "source": [
    "plt.imshow(source)# - target)"
   ]
  },
  {
   "cell_type": "code",
   "execution_count": 12,
   "metadata": {},
   "outputs": [],
   "source": [
    "source_deformable_tot = dm.Models.DeformableImage(source_tot)\n",
    "target_deformable_tot = dm.Models.DeformableImage(target_tot)\n",
    "source_deformable = dm.Models.DeformableImage(source)\n",
    "target_deformable = dm.Models.DeformableImage(target)"
   ]
  },
  {
   "cell_type": "code",
   "execution_count": 13,
   "metadata": {},
   "outputs": [],
   "source": [
    "boundary0_pts = dm.Utilities.pixels2points(boundary0_pix, source_deformable_tot.shape, source_deformable_tot.extent)\n",
    "boundary1_pts = dm.Utilities.pixels2points(boundary1_pix, source_deformable_tot.shape, source_deformable_tot.extent)\n",
    "\n",
    "boundary0_pts = torch.load(path_image + 'curve_boundary0')\n",
    "boundary1_pts = torch.load(path_image + 'curve_boundary1')"
   ]
  },
  {
   "cell_type": "code",
   "execution_count": 14,
   "metadata": {},
   "outputs": [
    {
     "data": {
      "text/plain": [
       "torch.Size([538, 2])"
      ]
     },
     "execution_count": 14,
     "metadata": {},
     "output_type": "execute_result"
    }
   ],
   "source": [
    "boundary0_pts.shape"
   ]
  },
  {
   "cell_type": "code",
   "execution_count": 15,
   "metadata": {},
   "outputs": [
    {
     "data": {
      "image/png": "[encoded data removed]",
      "text/plain": [
       "<Figure size 720x720 with 3 Axes>"
      ]
     },
     "metadata": {},
     "output_type": "display_data"
    }
   ],
   "source": [
    "plt.figure(figsize=(10,10))\n",
    "\n",
    "plt.subplot(1, 3, 1)\n",
    "plt.imshow(source_deformable.geometry[0], origin='lower', extent=source_deformable.extent.totuple())\n",
    "plt.plot(boundary0_pts[:,0], boundary0_pts[:,1], '-r')\n",
    "plt.plot(boundary1_pts[:,0], boundary1_pts[:,1], '-')\n",
    "\n",
    "\n",
    "plt.subplot(1, 3, 2)\n",
    "plt.imshow(target_deformable.geometry[0], origin='lower', extent=source_deformable.extent.totuple())\n",
    "\n",
    "plt.subplot(1, 3, 3)\n",
    "plt.imshow(target_deformable.geometry[0]-source_deformable.geometry[0], origin='lower', extent=source_deformable.extent.totuple())\n",
    "\n",
    "\n",
    "plt.show()"
   ]
  },
  {
   "cell_type": "code",
   "execution_count": 15,
   "metadata": {},
   "outputs": [],
   "source": [
    "scale_translation = 10.\n",
    "translation0 = dm.DeformationModules.Translations(2, 1, scale_translation, gd=torch.tensor([[0.5, 0.5]]))\n",
    "scale_translation = 10.\n",
    "translation1 = dm.DeformationModules.Translations(2, 1, scale_translation, gd=torch.tensor([[0.8, 0.6]]))"
   ]
  },
  {
   "cell_type": "code",
   "execution_count": 16,
   "metadata": {},
   "outputs": [],
   "source": [
    "attach = dm.Attachment.L2NormAttachment(transform=None)"
   ]
  },
  {
   "cell_type": "code",
   "execution_count": 17,
   "metadata": {},
   "outputs": [],
   "source": [
    "shoot_solver = 'torch_euler'\n",
    "shoot_it = 10"
   ]
  },
  {
   "cell_type": "code",
   "execution_count": 18,
   "metadata": {},
   "outputs": [],
   "source": [
    "sigma_bck = 0.2"
   ]
  },
  {
   "cell_type": "code",
   "execution_count": 19,
   "metadata": {},
   "outputs": [
    {
     "data": {
      "text/plain": [
       "torch.Size([22, 2])"
      ]
     },
     "execution_count": 19,
     "metadata": {},
     "output_type": "execute_result"
    }
   ],
   "source": [
    "boundary0 = dm.MultiShape.Boundary(copy.copy(boundary0_pts[::25]))\n",
    "boundary1 = dm.MultiShape.Boundary(copy.copy(boundary1_pts[::25]))\n",
    "boundary0.geometry[0].shape"
   ]
  },
  {
   "cell_type": "code",
   "execution_count": 20,
   "metadata": {},
   "outputs": [],
   "source": [
    "constraints0 = dm.Constraints.Constraints.ConstraintsPointIdentityBackground(0,torch.prod(torch.tensor(boundary0.geometry[0].shape)))#, compound_man)\n",
    "constraints1 = dm.Constraints.Constraints.ConstraintsPointIdentityBackground(1,torch.prod(torch.tensor(boundary1.geometry[0].shape)))#, compound_man)\n",
    "constraints = dm.Constraints.Constraints.CompoundConstraints([constraints0, constraints1])\n"
   ]
  },
  {
   "cell_type": "code",
   "execution_count": 21,
   "metadata": {},
   "outputs": [],
   "source": [
    "model = dm.Models.RegistrationModelMultishape([boundary0, boundary1], [source_deformable], [[translation0], [translation1]], [attach], sigma_bck, lam=10., constraints=constraints, backgroundtype='dense')"
   ]
  },
  {
   "cell_type": "code",
   "execution_count": 23,
   "metadata": {},
   "outputs": [
    {
     "data": {
      "text/plain": [
       "[<matplotlib.lines.Line2D at 0x7f988fbefa58>]"
      ]
     },
     "execution_count": 23,
     "metadata": {},
     "output_type": "execute_result"
    },
    {
     "data": {
      "image/png": "[encoded data removed]",
      "text/plain": [
       "<Figure size 432x288 with 1 Axes>"
      ]
     },
     "metadata": {},
     "output_type": "display_data"
    }
   ],
   "source": [
    "pts0 = model.modules[0].manifold[0].gd.detach()\n",
    "pts1 = model.modules[1].manifold[0].gd.detach()\n",
    "pts2 = model.modules[2].manifold[0].gd.detach()\n",
    "\n",
    "plt.imshow(source_deformable.geometry[0], origin='lower', extent=source_deformable.extent.totuple())\n",
    "plt.plot(boundary0_pts[:,0], boundary0_pts[:,1], '-r')\n",
    "plt.plot(boundary1_pts[:,0], boundary1_pts[:,1], '-b')\n",
    "plt.plot(pts0[:,0], pts0[:,1], '.r')\n",
    "plt.plot(pts1[:,0], pts1[:,1], '.b')\n",
    "plt.plot(pts2[:,0], pts2[:,1], '.g')"
   ]
  },
  {
   "cell_type": "code",
   "execution_count": 22,
   "metadata": {},
   "outputs": [],
   "source": [
    "shoot_solver = 'torch_euler'\n",
    "shoot_it = 10"
   ]
  },
  {
   "cell_type": "code",
   "execution_count": null,
   "metadata": {},
   "outputs": [],
   "source": [
    "fitter = dm.Models.Fitter(model)\n",
    "shoot_solver = 'torch_euler'\n",
    "costs = fitter.fit([target_deformable], 40, options={'shoot_solver': shoot_solver, 'shoot_it': shoot_it})"
   ]
  },
  {
   "cell_type": "code",
   "execution_count": null,
   "metadata": {},
   "outputs": [],
   "source": []
  },
  {
   "cell_type": "code",
   "execution_count": null,
   "metadata": {},
   "outputs": [],
   "source": []
  },
  {
   "cell_type": "code",
   "execution_count": null,
   "metadata": {},
   "outputs": [],
   "source": []
  },
  {
   "cell_type": "code",
   "execution_count": null,
   "metadata": {
    "scrolled": true
   },
   "outputs": [
    {
     "name": "stdout",
     "output_type": "stream",
     "text": [
      "Compiling libKeOpstorchaeba68d942 in /users/home/gris/.cache/pykeops-1.3-cpython-36/build-libKeOpstorchaeba68d942:\n",
      "       formula: Sum_Reduction(Exp(-S*SqNorm2(x - y)/IntCst(2))*p,0)\n",
      "       aliases: x = Vi(0,2); y = Vj(1,2); p = Vj(2,2); S = Pm(3,1); \n",
      "       dtype  : float64\n",
      "... Done.\n",
      "Compiling libKeOpstorch30eff84f24 in /users/home/gris/.cache/pykeops-1.3-cpython-36/build-libKeOpstorch30eff84f24:\n",
      "       formula: Sum_Reduction(Exp(-S*SqNorm2(x - y)/IntCst(2))*X,0)\n",
      "       aliases: x = Vi(0,2); y = Vj(1,2); X = Vj(2,2); S = Pm(3,1); \n",
      "       dtype  : float64\n",
      "... Done.\n",
      "Compiling libKeOpstorch7dc33df00b in /users/home/gris/.cache/pykeops-1.3-cpython-36/build-libKeOpstorch7dc33df00b:\n",
      "       formula: Sum_Reduction((Exp(-S*SqNorm2(x - y)/IntCst(2))*px | py)/IntCst(2),1)\n",
      "       aliases: x = Vi(0,2); y = Vj(1,2); px = Vi(2,2); py = Vj(3,2); S = Pm(4,1); \n",
      "       dtype  : float64\n",
      "... Done.\n",
      "Compiling libKeOpstorchd5e10a17e7 in /users/home/gris/.cache/pykeops-1.3-cpython-36/build-libKeOpstorchd5e10a17e7:\n",
      "       formula: Grad_WithSavedForward(Sum_Reduction(Exp(-S*SqNorm2(x - y)/IntCst(2))*p,0), Var(0,2,0), Var(4,2,0), Var(5,2,0))\n",
      "       aliases: x = Vi(0,2); y = Vj(1,2); p = Vj(2,2); S = Pm(3,1); Var(4,2,0); Var(5,2,0); \n",
      "       dtype  : float64\n",
      "... Done.\n",
      "Compiling libKeOpstorch3d732fb633 in /users/home/gris/.cache/pykeops-1.3-cpython-36/build-libKeOpstorch3d732fb633:\n",
      "       formula: Grad_WithSavedForward(Sum_Reduction(Exp(-S*SqNorm2(x - y)/IntCst(2))*p,0), Var(1,2,1), Var(4,2,0), Var(5,2,0))\n",
      "       aliases: x = Vi(0,2); y = Vj(1,2); p = Vj(2,2); S = Pm(3,1); Var(4,2,0); Var(5,2,0); \n",
      "       dtype  : float64\n",
      "... Done.\n",
      "Compiling libKeOpstorch4e6a660427 in /users/home/gris/.cache/pykeops-1.3-cpython-36/build-libKeOpstorch4e6a660427:\n",
      "       formula: Grad_WithSavedForward(Sum_Reduction(Exp(-S*SqNorm2(x - y)/IntCst(2))*p,0), Var(2,2,1), Var(4,2,0), Var(5,2,0))\n",
      "       aliases: x = Vi(0,2); y = Vj(1,2); p = Vj(2,2); S = Pm(3,1); Var(4,2,0); Var(5,2,0); \n",
      "       dtype  : float64\n",
      "... Done.\n",
      "Compiling libKeOpstorchd29213a634 in /users/home/gris/.cache/pykeops-1.3-cpython-36/build-libKeOpstorchd29213a634:\n",
      "       formula: Grad_WithSavedForward(Sum_Reduction((Exp(-S*SqNorm2(x - y)/IntCst(2))*px | py)/IntCst(2),1), Var(0,2,0), Var(5,1,1), Var(6,1,1))\n",
      "       aliases: x = Vi(0,2); y = Vj(1,2); px = Vi(2,2); py = Vj(3,2); S = Pm(4,1); Var(5,1,1); Var(6,1,1); \n",
      "       dtype  : float64\n",
      "... Done.\n",
      "Compiling libKeOpstorchadcc63ccc3 in /users/home/gris/.cache/pykeops-1.3-cpython-36/build-libKeOpstorchadcc63ccc3:\n",
      "       formula: Grad_WithSavedForward(Sum_Reduction((Exp(-S*SqNorm2(x - y)/IntCst(2))*px | py)/IntCst(2),1), Var(1,2,1), Var(5,1,1), Var(6,1,1))\n",
      "       aliases: x = Vi(0,2); y = Vj(1,2); px = Vi(2,2); py = Vj(3,2); S = Pm(4,1); Var(5,1,1); Var(6,1,1); \n",
      "       dtype  : float64\n",
      "... Done.\n",
      "Compiling libKeOpstorch63fc99542a in /users/home/gris/.cache/pykeops-1.3-cpython-36/build-libKeOpstorch63fc99542a:\n",
      "       formula: Grad_WithSavedForward(Sum_Reduction((Exp(-S*SqNorm2(x - y)/IntCst(2))*px | py)/IntCst(2),1), Var(2,2,0), Var(5,1,1), Var(6,1,1))\n",
      "       aliases: x = Vi(0,2); y = Vj(1,2); px = Vi(2,2); py = Vj(3,2); S = Pm(4,1); Var(5,1,1); Var(6,1,1); \n",
      "       dtype  : float64\n",
      "... Done.\n",
      "Compiling libKeOpstorch4440d0bac8 in /users/home/gris/.cache/pykeops-1.3-cpython-36/build-libKeOpstorch4440d0bac8:\n",
      "       formula: Grad_WithSavedForward(Sum_Reduction((Exp(-S*SqNorm2(x - y)/IntCst(2))*px | py)/IntCst(2),1), Var(3,2,1), Var(5,1,1), Var(6,1,1))\n",
      "       aliases: x = Vi(0,2); y = Vj(1,2); px = Vi(2,2); py = Vj(3,2); S = Pm(4,1); Var(5,1,1); Var(6,1,1); \n",
      "       dtype  : float64\n",
      "... Done.\n",
      "Compiling libKeOpstorch28971119fc in /users/home/gris/.cache/pykeops-1.3-cpython-36/build-libKeOpstorch28971119fc:\n",
      "       formula: Grad_WithSavedForward(Sum_Reduction(Exp(-S*SqNorm2(x - y)/IntCst(2))*X,0), Var(0,2,0), Var(4,2,0), Var(5,2,0))\n",
      "       aliases: x = Vi(0,2); y = Vj(1,2); X = Vj(2,2); S = Pm(3,1); Var(4,2,0); Var(5,2,0); \n",
      "       dtype  : float64\n",
      "... Done.\n",
      "Compiling libKeOpstorch0b0f568a4e in /users/home/gris/.cache/pykeops-1.3-cpython-36/build-libKeOpstorch0b0f568a4e:\n",
      "       formula: Grad_WithSavedForward(Sum_Reduction(Exp(-S*SqNorm2(x - y)/IntCst(2))*X,0), Var(1,2,1), Var(4,2,0), Var(5,2,0))\n",
      "       aliases: x = Vi(0,2); y = Vj(1,2); X = Vj(2,2); S = Pm(3,1); Var(4,2,0); Var(5,2,0); \n",
      "       dtype  : float64\n",
      "... Done.\n",
      "Compiling libKeOpstorch17eb971e0b in /users/home/gris/.cache/pykeops-1.3-cpython-36/build-libKeOpstorch17eb971e0b:\n",
      "       formula: Grad_WithSavedForward(Grad_WithSavedForward(Sum_Reduction(Exp(-S*SqNorm2(x - y)/IntCst(2))*p,0), Var(2,2,1), Var(4,2,0), Var(5,2,0)), Var(0,2,0), Var(6,2,1), Var(7,2,1))\n",
      "       aliases: x = Vi(0,2); y = Vj(1,2); p = Vj(2,2); S = Pm(3,1); Var(4,2,0); Var(5,2,0); Var(6,2,1); Var(7,2,1); \n",
      "       dtype  : float64\n",
      "... Done.\n",
      "Compiling libKeOpstorchc9fc381009 in /users/home/gris/.cache/pykeops-1.3-cpython-36/build-libKeOpstorchc9fc381009:\n",
      "       formula: Grad_WithSavedForward(Grad_WithSavedForward(Sum_Reduction(Exp(-S*SqNorm2(x - y)/IntCst(2))*p,0), Var(2,2,1), Var(4,2,0), Var(5,2,0)), Var(1,2,1), Var(6,2,1), Var(7,2,1))\n",
      "       aliases: x = Vi(0,2); y = Vj(1,2); p = Vj(2,2); S = Pm(3,1); Var(4,2,0); Var(5,2,0); Var(6,2,1); Var(7,2,1); \n",
      "       dtype  : float64\n",
      "... Done.\n",
      "Compiling libKeOpstorch106c652540 in /users/home/gris/.cache/pykeops-1.3-cpython-36/build-libKeOpstorch106c652540:\n",
      "       formula: Grad_WithSavedForward(Grad_WithSavedForward(Sum_Reduction(Exp(-S*SqNorm2(x - y)/IntCst(2))*p,0), Var(2,2,1), Var(4,2,0), Var(5,2,0)), Var(2,2,1), Var(6,2,1), Var(7,2,1))\n",
      "       aliases: x = Vi(0,2); y = Vj(1,2); p = Vj(2,2); S = Pm(3,1); Var(4,2,0); Var(5,2,0); Var(6,2,1); Var(7,2,1); \n",
      "       dtype  : float64\n",
      "... Done.\n",
      "Compiling libKeOpstorch98a1bf5d29 in /users/home/gris/.cache/pykeops-1.3-cpython-36/build-libKeOpstorch98a1bf5d29:\n",
      "       formula: Grad_WithSavedForward(Grad_WithSavedForward(Sum_Reduction(Exp(-S*SqNorm2(x - y)/IntCst(2))*p,0), Var(2,2,1), Var(4,2,0), Var(5,2,0)), Var(4,2,0), Var(6,2,1), Var(7,2,1))\n",
      "       aliases: x = Vi(0,2); y = Vj(1,2); p = Vj(2,2); S = Pm(3,1); Var(4,2,0); Var(5,2,0); Var(6,2,1); Var(7,2,1); \n",
      "       dtype  : float64\n",
      "... Done.\n",
      "Compiling libKeOpstorchc138e59b8e in /users/home/gris/.cache/pykeops-1.3-cpython-36/build-libKeOpstorchc138e59b8e:\n",
      "       formula: Grad_WithSavedForward(Grad_WithSavedForward(Sum_Reduction((Exp(-S*SqNorm2(x - y)/IntCst(2))*px | py)/IntCst(2),1), Var(3,2,1), Var(5,1,1), Var(6,1,1)), Var(0,2,0), Var(7,2,1), Var(8,2,1))\n",
      "       aliases: x = Vi(0,2); y = Vj(1,2); px = Vi(2,2); py = Vj(3,2); S = Pm(4,1); Var(5,1,1); Var(6,1,1); Var(7,2,1); Var(8,2,1); \n",
      "       dtype  : float64\n",
      "... Done.\n",
      "Compiling libKeOpstorch6132af2d16 in /users/home/gris/.cache/pykeops-1.3-cpython-36/build-libKeOpstorch6132af2d16:\n",
      "       formula: Grad_WithSavedForward(Grad_WithSavedForward(Sum_Reduction((Exp(-S*SqNorm2(x - y)/IntCst(2))*px | py)/IntCst(2),1), Var(3,2,1), Var(5,1,1), Var(6,1,1)), Var(1,2,1), Var(7,2,1), Var(8,2,1))\n",
      "       aliases: x = Vi(0,2); y = Vj(1,2); px = Vi(2,2); py = Vj(3,2); S = Pm(4,1); Var(5,1,1); Var(6,1,1); Var(7,2,1); Var(8,2,1); \n",
      "       dtype  : float64\n",
      "... Done.\n",
      "Compiling libKeOpstorchfc41116ff9 in /users/home/gris/.cache/pykeops-1.3-cpython-36/build-libKeOpstorchfc41116ff9:\n",
      "       formula: Grad_WithSavedForward(Grad_WithSavedForward(Sum_Reduction((Exp(-S*SqNorm2(x - y)/IntCst(2))*px | py)/IntCst(2),1), Var(3,2,1), Var(5,1,1), Var(6,1,1)), Var(2,2,0), Var(7,2,1), Var(8,2,1))\n",
      "       aliases: x = Vi(0,2); y = Vj(1,2); px = Vi(2,2); py = Vj(3,2); S = Pm(4,1); Var(5,1,1); Var(6,1,1); Var(7,2,1); Var(8,2,1); \n",
      "       dtype  : float64\n",
      "... Done.\n",
      "Compiling libKeOpstorch6df2d9281f in /users/home/gris/.cache/pykeops-1.3-cpython-36/build-libKeOpstorch6df2d9281f:\n",
      "       formula: Grad_WithSavedForward(Grad_WithSavedForward(Sum_Reduction((Exp(-S*SqNorm2(x - y)/IntCst(2))*px | py)/IntCst(2),1), Var(3,2,1), Var(5,1,1), Var(6,1,1)), Var(3,2,1), Var(7,2,1), Var(8,2,1))\n",
      "       aliases: x = Vi(0,2); y = Vj(1,2); px = Vi(2,2); py = Vj(3,2); S = Pm(4,1); Var(5,1,1); Var(6,1,1); Var(7,2,1); Var(8,2,1); \n",
      "       dtype  : float64\n",
      "... Done.\n",
      "Compiling libKeOpstorch96bf6dfea0 in /users/home/gris/.cache/pykeops-1.3-cpython-36/build-libKeOpstorch96bf6dfea0:\n",
      "       formula: Grad_WithSavedForward(Grad_WithSavedForward(Sum_Reduction((Exp(-S*SqNorm2(x - y)/IntCst(2))*px | py)/IntCst(2),1), Var(2,2,0), Var(5,1,1), Var(6,1,1)), Var(0,2,0), Var(7,2,0), Var(8,2,0))\n",
      "       aliases: x = Vi(0,2); y = Vj(1,2); px = Vi(2,2); py = Vj(3,2); S = Pm(4,1); Var(5,1,1); Var(6,1,1); Var(7,2,0); Var(8,2,0); \n",
      "       dtype  : float64\n"
     ]
    },
    {
     "name": "stdout",
     "output_type": "stream",
     "text": [
      "... Done.\n",
      "Compiling libKeOpstorchf0c5ed3054 in /users/home/gris/.cache/pykeops-1.3-cpython-36/build-libKeOpstorchf0c5ed3054:\n",
      "       formula: Grad_WithSavedForward(Grad_WithSavedForward(Sum_Reduction((Exp(-S*SqNorm2(x - y)/IntCst(2))*px | py)/IntCst(2),1), Var(2,2,0), Var(5,1,1), Var(6,1,1)), Var(1,2,1), Var(7,2,0), Var(8,2,0))\n",
      "       aliases: x = Vi(0,2); y = Vj(1,2); px = Vi(2,2); py = Vj(3,2); S = Pm(4,1); Var(5,1,1); Var(6,1,1); Var(7,2,0); Var(8,2,0); \n",
      "       dtype  : float64\n",
      "... Done.\n",
      "Compiling libKeOpstorcha5fdf63b28 in /users/home/gris/.cache/pykeops-1.3-cpython-36/build-libKeOpstorcha5fdf63b28:\n",
      "       formula: Grad_WithSavedForward(Grad_WithSavedForward(Sum_Reduction((Exp(-S*SqNorm2(x - y)/IntCst(2))*px | py)/IntCst(2),1), Var(2,2,0), Var(5,1,1), Var(6,1,1)), Var(2,2,0), Var(7,2,0), Var(8,2,0))\n",
      "       aliases: x = Vi(0,2); y = Vj(1,2); px = Vi(2,2); py = Vj(3,2); S = Pm(4,1); Var(5,1,1); Var(6,1,1); Var(7,2,0); Var(8,2,0); \n",
      "       dtype  : float64\n",
      "... Done.\n",
      "Compiling libKeOpstorch830de53f69 in /users/home/gris/.cache/pykeops-1.3-cpython-36/build-libKeOpstorch830de53f69:\n",
      "       formula: Grad_WithSavedForward(Grad_WithSavedForward(Sum_Reduction((Exp(-S*SqNorm2(x - y)/IntCst(2))*px | py)/IntCst(2),1), Var(2,2,0), Var(5,1,1), Var(6,1,1)), Var(3,2,1), Var(7,2,0), Var(8,2,0))\n",
      "       aliases: x = Vi(0,2); y = Vj(1,2); px = Vi(2,2); py = Vj(3,2); S = Pm(4,1); Var(5,1,1); Var(6,1,1); Var(7,2,0); Var(8,2,0); \n",
      "       dtype  : float64\n",
      "... Done.\n",
      "Compiling libKeOpstorch8253533615 in /users/home/gris/.cache/pykeops-1.3-cpython-36/build-libKeOpstorch8253533615:\n",
      "       formula: Grad_WithSavedForward(Grad_WithSavedForward(Sum_Reduction(Exp(-S*SqNorm2(x - y)/IntCst(2))*p,0), Var(1,2,1), Var(4,2,0), Var(5,2,0)), Var(0,2,0), Var(6,2,1), Var(7,2,1))\n",
      "       aliases: x = Vi(0,2); y = Vj(1,2); p = Vj(2,2); S = Pm(3,1); Var(4,2,0); Var(5,2,0); Var(6,2,1); Var(7,2,1); \n",
      "       dtype  : float64\n",
      "... Done.\n",
      "Compiling libKeOpstorch0f9a69febf in /users/home/gris/.cache/pykeops-1.3-cpython-36/build-libKeOpstorch0f9a69febf:\n",
      "       formula: Grad_WithSavedForward(Grad_WithSavedForward(Sum_Reduction(Exp(-S*SqNorm2(x - y)/IntCst(2))*p,0), Var(1,2,1), Var(4,2,0), Var(5,2,0)), Var(1,2,1), Var(6,2,1), Var(7,2,1))\n",
      "       aliases: x = Vi(0,2); y = Vj(1,2); p = Vj(2,2); S = Pm(3,1); Var(4,2,0); Var(5,2,0); Var(6,2,1); Var(7,2,1); \n",
      "       dtype  : float64\n",
      "... Done.\n",
      "Compiling libKeOpstorch19949de569 in /users/home/gris/.cache/pykeops-1.3-cpython-36/build-libKeOpstorch19949de569:\n",
      "       formula: Grad_WithSavedForward(Grad_WithSavedForward(Sum_Reduction(Exp(-S*SqNorm2(x - y)/IntCst(2))*p,0), Var(1,2,1), Var(4,2,0), Var(5,2,0)), Var(2,2,1), Var(6,2,1), Var(7,2,1))\n",
      "       aliases: x = Vi(0,2); y = Vj(1,2); p = Vj(2,2); S = Pm(3,1); Var(4,2,0); Var(5,2,0); Var(6,2,1); Var(7,2,1); \n",
      "       dtype  : float64\n",
      "... "
     ]
    }
   ],
   "source": [
    "model.evaluate([target_deformable], shoot_solver, shoot_it)"
   ]
  },
  {
   "cell_type": "code",
   "execution_count": null,
   "metadata": {},
   "outputs": [],
   "source": []
  },
  {
   "cell_type": "code",
   "execution_count": null,
   "metadata": {},
   "outputs": [],
   "source": []
  },
  {
   "cell_type": "code",
   "execution_count": null,
   "metadata": {},
   "outputs": [],
   "source": [
    "from pykeops.torch import Genred, KernelSolve"
   ]
  },
  {
   "cell_type": "code",
   "execution_count": 24,
   "metadata": {},
   "outputs": [],
   "source": [
    "ty = model.modules[0].manifold.dtype\n",
    "dev = model.modules[0].manifold.device\n",
    "keops_dtype = str(model.modules[0].manifold[0].gd.dtype).split(\".\")[1]\n",
    "dim = model.modules[0].manifold.dim\n",
    "keops_invsigmasq = torch.tensor([1./sigma_bck/sigma_bck], dtype=ty, device=dev)\n",
    "\n",
    "formula_cost = \"(Exp(-S*SqNorm2(x - y)/IntCst(2))*px | py)/IntCst(2)\"\n",
    "alias_cost = [\"x=Vi(\"+str(dim)+\")\", \"y=Vj(\"+str(dim)+\")\", \"px=Vi(\" + str(dim)+\")\", \"py=Vj(\"+str(dim)+\")\", \"S=Pm(1)\"]\n",
    "reduction_cost = Genred(formula_cost, alias_cost, reduction_op='Sum', axis=0, dtype=keops_dtype)\n",
    "\n",
    "formula_cgc = \"Exp(-S*SqNorm2(x - y)/IntCst(2))*X\"\n",
    "\n",
    "alias_cgc = [\"x=Vi(\"+str(dim)+\")\", \"y=Vj(\"+str(dim)+\")\", \"X=Vj(\"+str(dim) + \")\", \"S=Pm(1)\"]\n",
    "\n",
    "solve_cgc = KernelSolve(formula_cgc, alias_cgc, \"X\", axis=1, dtype=keops_dtype)\n"
   ]
  },
  {
   "cell_type": "code",
   "execution_count": 25,
   "metadata": {},
   "outputs": [
    {
     "ename": "NameError",
     "evalue": "name 'self' is not defined",
     "output_type": "error",
     "traceback": [
      "\u001b[0;31m---------------------------------------------------------------------------\u001b[0m",
      "\u001b[0;31mNameError\u001b[0m                                 Traceback (most recent call last)",
      "\u001b[0;32m<ipython-input-25-06df1cd6901b>\u001b[0m in \u001b[0;36m<module>\u001b[0;34m()\u001b[0m\n\u001b[0;32m----> 1\u001b[0;31m \u001b[0msolve_cgc\u001b[0m\u001b[0;34m(\u001b[0m\u001b[0mself\u001b[0m\u001b[0;34m.\u001b[0m\u001b[0mmanifold\u001b[0m\u001b[0;34m.\u001b[0m\u001b[0mgd\u001b[0m\u001b[0;34m,\u001b[0m \u001b[0mself\u001b[0m\u001b[0;34m.\u001b[0m\u001b[0mmanifold\u001b[0m\u001b[0;34m.\u001b[0m\u001b[0mgd\u001b[0m\u001b[0;34m,\u001b[0m \u001b[0mvs\u001b[0m\u001b[0;34m,\u001b[0m \u001b[0mself\u001b[0m\u001b[0;34m.\u001b[0m\u001b[0m__keops_invsigmasq\u001b[0m\u001b[0;34m,\u001b[0m \u001b[0mbackend\u001b[0m\u001b[0;34m=\u001b[0m\u001b[0mself\u001b[0m\u001b[0;34m.\u001b[0m\u001b[0m__keops_backend\u001b[0m\u001b[0;34m,\u001b[0m \u001b[0malpha\u001b[0m\u001b[0;34m=\u001b[0m\u001b[0;36m0.\u001b[0m\u001b[0;34m)\u001b[0m\u001b[0;34m\u001b[0m\u001b[0;34m\u001b[0m\u001b[0m\n\u001b[0m",
      "\u001b[0;31mNameError\u001b[0m: name 'self' is not defined"
     ]
    }
   ],
   "source": [
    "solve_cgc(self.manifold.gd, self.manifold.gd, vs, self.__keops_invsigmasq, backend=self.__keops_backend, alpha=0.)"
   ]
  },
  {
   "cell_type": "code",
   "execution_count": 30,
   "metadata": {},
   "outputs": [
    {
     "data": {
      "text/plain": [
       "'float64'"
      ]
     },
     "execution_count": 30,
     "metadata": {},
     "output_type": "execute_result"
    }
   ],
   "source": [
    "keops_dtype"
   ]
  },
  {
   "cell_type": "code",
   "execution_count": null,
   "metadata": {},
   "outputs": [],
   "source": [
    "model.modules[0].manifold.manifolds[-1].numel_gd"
   ]
  },
  {
   "cell_type": "code",
   "execution_count": null,
   "metadata": {},
   "outputs": [],
   "source": [
    "torch.zeros_like"
   ]
  },
  {
   "cell_type": "code",
   "execution_count": null,
   "metadata": {},
   "outputs": [],
   "source": []
  },
  {
   "cell_type": "code",
   "execution_count": null,
   "metadata": {},
   "outputs": [],
   "source": []
  },
  {
   "cell_type": "code",
   "execution_count": null,
   "metadata": {},
   "outputs": [],
   "source": []
  },
  {
   "cell_type": "code",
   "execution_count": null,
   "metadata": {},
   "outputs": [],
   "source": []
  },
  {
   "cell_type": "code",
   "execution_count": null,
   "metadata": {},
   "outputs": [],
   "source": []
  },
  {
   "cell_type": "code",
   "execution_count": null,
   "metadata": {},
   "outputs": [],
   "source": []
  },
  {
   "cell_type": "code",
   "execution_count": 26,
   "metadata": {},
   "outputs": [
    {
     "data": {
      "text/plain": [
       "True"
      ]
     },
     "execution_count": 26,
     "metadata": {},
     "output_type": "execute_result"
    }
   ],
   "source": [
    "isinstance(model.modules[0].modules[0], dm.DeformationModules.SilentLandmark.SilentBase)"
   ]
  },
  {
   "cell_type": "code",
   "execution_count": 27,
   "metadata": {},
   "outputs": [
    {
     "data": {
      "text/plain": [
       "torch.Size([100])"
      ]
     },
     "execution_count": 27,
     "metadata": {},
     "output_type": "execute_result"
    }
   ],
   "source": [
    "model.labels.shape"
   ]
  },
  {
   "cell_type": "code",
   "execution_count": 27,
   "metadata": {},
   "outputs": [
    {
     "data": {
      "text/plain": [
       "torch.Size([3, 2])"
      ]
     },
     "execution_count": 27,
     "metadata": {},
     "output_type": "execute_result"
    }
   ],
   "source": [
    "pts1.shape"
   ]
  },
  {
   "cell_type": "code",
   "execution_count": 28,
   "metadata": {},
   "outputs": [
    {
     "data": {
      "text/plain": [
       "torch.Size([94, 2])"
      ]
     },
     "execution_count": 28,
     "metadata": {},
     "output_type": "execute_result"
    }
   ],
   "source": [
    "pts2.shape"
   ]
  },
  {
   "cell_type": "code",
   "execution_count": null,
   "metadata": {},
   "outputs": [],
   "source": []
  },
  {
   "cell_type": "code",
   "execution_count": 23,
   "metadata": {},
   "outputs": [],
   "source": [
    "pts = source_deformable.extent.fill_uniform_density(density=1./(0.5*sigma_bck)**2)"
   ]
  },
  {
   "cell_type": "code",
   "execution_count": 25,
   "metadata": {},
   "outputs": [],
   "source": [
    "pts_0 = boundary0.isin_extract(pts)"
   ]
  },
  {
   "cell_type": "code",
   "execution_count": 120,
   "metadata": {},
   "outputs": [],
   "source": [
    "points = list(boundary0_pts.clone())\n",
    "line0 = [points.pop(0)]"
   ]
  },
  {
   "cell_type": "code",
   "execution_count": 121,
   "metadata": {},
   "outputs": [],
   "source": [
    "for i in range(len(points)):\n",
    "    diff = [torch.sum((p - line0[i])**2) for p in points]\n",
    "    indi = torch.argmin(torch.tensor(diff))\n",
    "    line0.append(points.pop(indi))"
   ]
  },
  {
   "cell_type": "code",
   "execution_count": null,
   "metadata": {},
   "outputs": [],
   "source": [
    "line0_ten = torch.stack(line0)"
   ]
  },
  {
   "cell_type": "code",
   "execution_count": 194,
   "metadata": {},
   "outputs": [],
   "source": [
    "torch.save(line0_ten, path_image + 'curve_boundary0')"
   ]
  },
  {
   "cell_type": "code",
   "execution_count": 195,
   "metadata": {},
   "outputs": [],
   "source": [
    "line0_ten_lo = torch.load(path_image + 'curve_boundary0')"
   ]
  },
  {
   "cell_type": "code",
   "execution_count": 198,
   "metadata": {},
   "outputs": [],
   "source": [
    "points = list(boundary1_pts.clone())\n",
    "line1 = [points.pop(0)]"
   ]
  },
  {
   "cell_type": "code",
   "execution_count": 199,
   "metadata": {},
   "outputs": [],
   "source": [
    "for i in range(len(points)):\n",
    "    diff = [torch.sum((p - line1[i])**2) for p in points]\n",
    "    indi = torch.argmin(torch.tensor(diff))\n",
    "    line1.append(points.pop(indi))"
   ]
  },
  {
   "cell_type": "code",
   "execution_count": 202,
   "metadata": {},
   "outputs": [
    {
     "name": "stdout",
     "output_type": "stream",
     "text": [
      "torch.Size([636, 2])\n"
     ]
    }
   ],
   "source": [
    "line1_ten = torch.stack(line1)\n",
    "print(line1_ten.shape)"
   ]
  },
  {
   "cell_type": "code",
   "execution_count": 204,
   "metadata": {},
   "outputs": [],
   "source": [
    "torch.save(line1_ten, path_image + 'curve_boundary1')"
   ]
  },
  {
   "cell_type": "code",
   "execution_count": 205,
   "metadata": {},
   "outputs": [],
   "source": [
    "line1_ten_lo = torch.load(path_image + 'curve_boundary1')"
   ]
  },
  {
   "cell_type": "code",
   "execution_count": 206,
   "metadata": {},
   "outputs": [
    {
     "data": {
      "text/plain": [
       "tensor([[0., 0.],\n",
       "        [0., 0.],\n",
       "        [0., 0.],\n",
       "        ...,\n",
       "        [0., 0.],\n",
       "        [0., 0.],\n",
       "        [0., 0.]])"
      ]
     },
     "execution_count": 206,
     "metadata": {},
     "output_type": "execute_result"
    }
   ],
   "source": [
    "line1_ten_lo - line1_ten"
   ]
  },
  {
   "cell_type": "code",
   "execution_count": 203,
   "metadata": {},
   "outputs": [
    {
     "data": {
      "text/plain": [
       "[<matplotlib.lines.Line2D at 0x7f5df07d9160>]"
      ]
     },
     "execution_count": 203,
     "metadata": {},
     "output_type": "execute_result"
    },
    {
     "data": {
      "image/png": "[encoded data removed]",
      "text/plain": [
       "<Figure size 432x288 with 1 Axes>"
      ]
     },
     "metadata": {},
     "output_type": "display_data"
    }
   ],
   "source": [
    "#init = 0\n",
    "fin = 539\n",
    "plt.imshow(source_deformable.geometry[0], origin='lower', extent=source_deformable.extent.totuple())\n",
    "plt.plot(line0_ten[init:fin,0], line0_ten[init:fin,1], '-r')\n",
    "plt.plot(line0_ten_lo[init:fin,0], line0_ten_lo[init:fin,1], '-r')\n",
    "init = 0\n",
    "fin = 636\n",
    "plt.plot(line1_ten[init:fin,0], line1_ten[init:fin,1], '-b')\n",
    "#plt.plot(line1_ten_lo[init:fin,0], line1_ten_lo[init:fin,1], '-b')"
   ]
  },
  {
   "cell_type": "code",
   "execution_count": null,
   "metadata": {},
   "outputs": [],
   "source": []
  },
  {
   "cell_type": "code",
   "execution_count": 102,
   "metadata": {},
   "outputs": [],
   "source": [
    "diff = [torch.sum((p - line0[0])**2) for p in points]"
   ]
  },
  {
   "cell_type": "code",
   "execution_count": 103,
   "metadata": {},
   "outputs": [
    {
     "data": {
      "text/plain": [
       "tensor([0.4436, 0.2707])"
      ]
     },
     "execution_count": 103,
     "metadata": {},
     "output_type": "execute_result"
    }
   ],
   "source": [
    "line0[0]"
   ]
  },
  {
   "cell_type": "code",
   "execution_count": 104,
   "metadata": {},
   "outputs": [
    {
     "data": {
      "text/plain": [
       "tensor(6.2814e-06)"
      ]
     },
     "execution_count": 104,
     "metadata": {},
     "output_type": "execute_result"
    }
   ],
   "source": [
    "diff[0]"
   ]
  },
  {
   "cell_type": "code",
   "execution_count": 105,
   "metadata": {},
   "outputs": [
    {
     "data": {
      "text/plain": [
       "tensor(6.2814e-06)"
      ]
     },
     "execution_count": 105,
     "metadata": {},
     "output_type": "execute_result"
    }
   ],
   "source": [
    "diff[18]"
   ]
  },
  {
   "cell_type": "code",
   "execution_count": 108,
   "metadata": {},
   "outputs": [
    {
     "data": {
      "text/plain": [
       "[tensor(6.2814e-06),\n",
       " tensor(2.5125e-05),\n",
       " tensor(5.6532e-05),\n",
       " tensor(0.0001),\n",
       " tensor(0.0002),\n",
       " tensor(0.0002),\n",
       " tensor(0.0003),\n",
       " tensor(0.0004),\n",
       " tensor(0.0005),\n",
       " tensor(0.0006),\n",
       " tensor(0.0008),\n",
       " tensor(0.0009),\n",
       " tensor(0.0011),\n",
       " tensor(0.0012),\n",
       " tensor(0.0014),\n",
       " tensor(0.0016),\n",
       " tensor(0.0018),\n",
       " tensor(0.0020),\n",
       " tensor(6.2814e-06),\n",
       " tensor(0.0020),\n",
       " tensor(8.1658e-05),\n",
       " tensor(5.0251e-05),\n",
       " tensor(3.1407e-05),\n",
       " tensor(2.5125e-05),\n",
       " tensor(0.0021),\n",
       " tensor(0.0023),\n",
       " tensor(0.0025),\n",
       " tensor(0.0028),\n",
       " tensor(0.0001),\n",
       " tensor(0.0028),\n",
       " tensor(0.0003),\n",
       " tensor(0.0002),\n",
       " tensor(0.0002),\n",
       " tensor(0.0029),\n",
       " tensor(0.0003),\n",
       " tensor(0.0029),\n",
       " tensor(0.0005),\n",
       " tensor(0.0005),\n",
       " tensor(0.0004),\n",
       " tensor(0.0030),\n",
       " tensor(0.0033),\n",
       " tensor(0.0006),\n",
       " tensor(0.0033),\n",
       " tensor(0.0008),\n",
       " tensor(0.0007),\n",
       " tensor(0.0034),\n",
       " tensor(0.0037),\n",
       " tensor(0.0009),\n",
       " tensor(0.0038),\n",
       " tensor(0.0013),\n",
       " tensor(0.0011),\n",
       " tensor(0.0010),\n",
       " tensor(0.0040),\n",
       " tensor(0.0014),\n",
       " tensor(0.0041),\n",
       " tensor(0.0018),\n",
       " tensor(0.0017),\n",
       " tensor(0.0015),\n",
       " tensor(0.0042),\n",
       " tensor(0.0045),\n",
       " tensor(0.0020),\n",
       " tensor(0.0047),\n",
       " tensor(0.0025),\n",
       " tensor(0.0023),\n",
       " tensor(0.0021),\n",
       " tensor(0.0048),\n",
       " tensor(0.0026),\n",
       " tensor(0.0050),\n",
       " tensor(0.0030),\n",
       " tensor(0.0028),\n",
       " tensor(0.0052),\n",
       " tensor(0.0032),\n",
       " tensor(0.0054),\n",
       " tensor(0.0036),\n",
       " tensor(0.0034),\n",
       " tensor(0.0057),\n",
       " tensor(0.0060),\n",
       " tensor(0.0063),\n",
       " tensor(0.0039),\n",
       " tensor(0.0065),\n",
       " tensor(0.0045),\n",
       " tensor(0.0043),\n",
       " tensor(0.0041),\n",
       " tensor(0.0068),\n",
       " tensor(0.0071),\n",
       " tensor(0.0074),\n",
       " tensor(0.0048),\n",
       " tensor(0.0077),\n",
       " tensor(0.0053),\n",
       " tensor(0.0051),\n",
       " tensor(0.0080),\n",
       " tensor(0.0056),\n",
       " tensor(0.0082),\n",
       " tensor(0.0064),\n",
       " tensor(0.0061),\n",
       " tensor(0.0059),\n",
       " tensor(0.0085),\n",
       " tensor(0.0072),\n",
       " tensor(0.0070),\n",
       " tensor(0.0067),\n",
       " tensor(0.0089),\n",
       " tensor(0.0092),\n",
       " tensor(0.0079),\n",
       " tensor(0.0076),\n",
       " tensor(0.0095),\n",
       " tensor(0.0082),\n",
       " tensor(0.0099),\n",
       " tensor(0.0089),\n",
       " tensor(0.0085),\n",
       " tensor(0.0102),\n",
       " tensor(0.0102),\n",
       " tensor(0.0099),\n",
       " tensor(0.0095),\n",
       " tensor(0.0092),\n",
       " tensor(0.0106),\n",
       " tensor(0.0109),\n",
       " tensor(0.0106),\n",
       " tensor(0.0113),\n",
       " tensor(0.0113),\n",
       " tensor(0.0110),\n",
       " tensor(0.0117),\n",
       " tensor(0.0117),\n",
       " tensor(0.0121),\n",
       " tensor(0.0129),\n",
       " tensor(0.0125),\n",
       " tensor(0.0121),\n",
       " tensor(0.0125),\n",
       " tensor(0.0133),\n",
       " tensor(0.0122),\n",
       " tensor(0.0125),\n",
       " tensor(0.0129),\n",
       " tensor(0.0145),\n",
       " tensor(0.0141),\n",
       " tensor(0.0137),\n",
       " tensor(0.0126),\n",
       " tensor(0.0150),\n",
       " tensor(0.0124),\n",
       " tensor(0.0127),\n",
       " tensor(0.0131),\n",
       " tensor(0.0163),\n",
       " tensor(0.0159),\n",
       " tensor(0.0154),\n",
       " tensor(0.0128),\n",
       " tensor(0.0168),\n",
       " tensor(0.0127),\n",
       " tensor(0.0130),\n",
       " tensor(0.0133),\n",
       " tensor(0.0177),\n",
       " tensor(0.0172),\n",
       " tensor(0.0132),\n",
       " tensor(0.0182),\n",
       " tensor(0.0134),\n",
       " tensor(0.0137),\n",
       " tensor(0.0192),\n",
       " tensor(0.0187),\n",
       " tensor(0.0139),\n",
       " tensor(0.0197),\n",
       " tensor(0.0144),\n",
       " tensor(0.0207),\n",
       " tensor(0.0202),\n",
       " tensor(0.0149),\n",
       " tensor(0.0212),\n",
       " tensor(0.0149),\n",
       " tensor(0.0152),\n",
       " tensor(0.0155),\n",
       " tensor(0.0223),\n",
       " tensor(0.0218),\n",
       " tensor(0.0155),\n",
       " tensor(0.0228),\n",
       " tensor(0.0156),\n",
       " tensor(0.0158),\n",
       " tensor(0.0161),\n",
       " tensor(0.0239),\n",
       " tensor(0.0234),\n",
       " tensor(0.0161),\n",
       " tensor(0.0245),\n",
       " tensor(0.0167),\n",
       " tensor(0.0256),\n",
       " tensor(0.0251),\n",
       " tensor(0.0173),\n",
       " tensor(0.0263),\n",
       " tensor(0.0180),\n",
       " tensor(0.0269),\n",
       " tensor(0.0186),\n",
       " tensor(0.0275),\n",
       " tensor(0.0193),\n",
       " tensor(0.0293),\n",
       " tensor(0.0287),\n",
       " tensor(0.0282),\n",
       " tensor(0.0199),\n",
       " tensor(0.0299),\n",
       " tensor(0.0206),\n",
       " tensor(0.0317),\n",
       " tensor(0.0312),\n",
       " tensor(0.0306),\n",
       " tensor(0.0213),\n",
       " tensor(0.0215),\n",
       " tensor(0.0324),\n",
       " tensor(0.0222),\n",
       " tensor(0.0331),\n",
       " tensor(0.0229),\n",
       " tensor(0.0232),\n",
       " tensor(0.0234),\n",
       " tensor(0.0339),\n",
       " tensor(0.0242),\n",
       " tensor(0.0352),\n",
       " tensor(0.0346),\n",
       " tensor(0.0249),\n",
       " tensor(0.0252),\n",
       " tensor(0.0359),\n",
       " tensor(0.0259),\n",
       " tensor(0.0378),\n",
       " tensor(0.0372),\n",
       " tensor(0.0367),\n",
       " tensor(0.0267),\n",
       " tensor(0.0386),\n",
       " tensor(0.0275),\n",
       " tensor(0.0394),\n",
       " tensor(0.0283),\n",
       " tensor(0.0285),\n",
       " tensor(0.0402),\n",
       " tensor(0.0293),\n",
       " tensor(0.0410),\n",
       " tensor(0.0302),\n",
       " tensor(0.0418),\n",
       " tensor(0.0310),\n",
       " tensor(0.0427),\n",
       " tensor(0.0318),\n",
       " tensor(0.0435),\n",
       " tensor(0.0327),\n",
       " tensor(0.0450),\n",
       " tensor(0.0444),\n",
       " tensor(0.0335),\n",
       " tensor(0.0459),\n",
       " tensor(0.0341),\n",
       " tensor(0.0344),\n",
       " tensor(0.0474),\n",
       " tensor(0.0467),\n",
       " tensor(0.0350),\n",
       " tensor(0.0483),\n",
       " tensor(0.0359),\n",
       " tensor(0.0498),\n",
       " tensor(0.0492),\n",
       " tensor(0.0368),\n",
       " tensor(0.0507),\n",
       " tensor(0.0374),\n",
       " tensor(0.0377),\n",
       " tensor(0.0517),\n",
       " tensor(0.0384),\n",
       " tensor(0.0526),\n",
       " tensor(0.0393),\n",
       " tensor(0.0542),\n",
       " tensor(0.0536),\n",
       " tensor(0.0403),\n",
       " tensor(0.0552),\n",
       " tensor(0.0410),\n",
       " tensor(0.0413),\n",
       " tensor(0.0562),\n",
       " tensor(0.0420),\n",
       " tensor(0.0572),\n",
       " tensor(0.0430),\n",
       " tensor(0.0589),\n",
       " tensor(0.0582),\n",
       " tensor(0.0440),\n",
       " tensor(0.0599),\n",
       " tensor(0.0447),\n",
       " tensor(0.0450),\n",
       " tensor(0.0609),\n",
       " tensor(0.0458),\n",
       " tensor(0.0620),\n",
       " tensor(0.0466),\n",
       " tensor(0.0468),\n",
       " tensor(0.0630),\n",
       " tensor(0.0477),\n",
       " tensor(0.0641),\n",
       " tensor(0.0487),\n",
       " tensor(0.0659),\n",
       " tensor(0.0652),\n",
       " tensor(0.0498),\n",
       " tensor(0.0670),\n",
       " tensor(0.0509),\n",
       " tensor(0.0688),\n",
       " tensor(0.0681),\n",
       " tensor(0.0520),\n",
       " tensor(0.0523),\n",
       " tensor(0.0699),\n",
       " tensor(0.0534),\n",
       " tensor(0.0710),\n",
       " tensor(0.0545),\n",
       " tensor(0.0722),\n",
       " tensor(0.0552),\n",
       " tensor(0.0554),\n",
       " tensor(0.0557),\n",
       " tensor(0.0733),\n",
       " tensor(0.0564),\n",
       " tensor(0.0745),\n",
       " tensor(0.0575),\n",
       " tensor(0.0764),\n",
       " tensor(0.0757),\n",
       " tensor(0.0587),\n",
       " tensor(0.0776),\n",
       " tensor(0.0599),\n",
       " tensor(0.0795),\n",
       " tensor(0.0788),\n",
       " tensor(0.0611),\n",
       " tensor(0.0614),\n",
       " tensor(0.0807),\n",
       " tensor(0.0626),\n",
       " tensor(0.0820),\n",
       " tensor(0.0638),\n",
       " tensor(0.0641),\n",
       " tensor(0.0832),\n",
       " tensor(0.0653),\n",
       " tensor(0.0852),\n",
       " tensor(0.0845),\n",
       " tensor(0.0666),\n",
       " tensor(0.0668),\n",
       " tensor(0.0865),\n",
       " tensor(0.0681),\n",
       " tensor(0.0878),\n",
       " tensor(0.0694),\n",
       " tensor(0.0697),\n",
       " tensor(0.0891),\n",
       " tensor(0.0710),\n",
       " tensor(0.0904),\n",
       " tensor(0.0723),\n",
       " tensor(0.0726),\n",
       " tensor(0.0729),\n",
       " tensor(0.0917),\n",
       " tensor(0.0742),\n",
       " tensor(0.0938),\n",
       " tensor(0.0930),\n",
       " tensor(0.0755),\n",
       " tensor(0.0758),\n",
       " tensor(0.0951),\n",
       " tensor(0.0772),\n",
       " tensor(0.0972),\n",
       " tensor(0.0965),\n",
       " tensor(0.0786),\n",
       " tensor(0.0986),\n",
       " tensor(0.0799),\n",
       " tensor(0.1008),\n",
       " tensor(0.1000),\n",
       " tensor(0.0813),\n",
       " tensor(0.1022),\n",
       " tensor(0.0827),\n",
       " tensor(0.1036),\n",
       " tensor(0.0841),\n",
       " tensor(0.1050),\n",
       " tensor(0.0856),\n",
       " tensor(0.1064),\n",
       " tensor(0.0870),\n",
       " tensor(0.1079),\n",
       " tensor(0.1015),\n",
       " tensor(0.1009),\n",
       " tensor(0.1002),\n",
       " tensor(0.0996),\n",
       " tensor(0.0990),\n",
       " tensor(0.0956),\n",
       " tensor(0.0951),\n",
       " tensor(0.0946),\n",
       " tensor(0.0941),\n",
       " tensor(0.0881),\n",
       " tensor(0.0884),\n",
       " tensor(0.1094),\n",
       " tensor(0.1030),\n",
       " tensor(0.1005),\n",
       " tensor(0.0971),\n",
       " tensor(0.0955),\n",
       " tensor(0.0896),\n",
       " tensor(0.1108),\n",
       " tensor(0.1044),\n",
       " tensor(0.1019),\n",
       " tensor(0.1013),\n",
       " tensor(0.1008),\n",
       " tensor(0.1002),\n",
       " tensor(0.0996),\n",
       " tensor(0.0991),\n",
       " tensor(0.0985),\n",
       " tensor(0.0970),\n",
       " tensor(0.0965),\n",
       " tensor(0.0961),\n",
       " tensor(0.0956),\n",
       " tensor(0.0952),\n",
       " tensor(0.0947),\n",
       " tensor(0.0943),\n",
       " tensor(0.0939),\n",
       " tensor(0.0935),\n",
       " tensor(0.0931),\n",
       " tensor(0.0927),\n",
       " tensor(0.0924),\n",
       " tensor(0.0911),\n",
       " tensor(0.1123),\n",
       " tensor(0.1059),\n",
       " tensor(0.1034),\n",
       " tensor(0.0939),\n",
       " tensor(0.0926),\n",
       " tensor(0.1138),\n",
       " tensor(0.1109),\n",
       " tensor(0.1102),\n",
       " tensor(0.1095),\n",
       " tensor(0.1088),\n",
       " tensor(0.1081),\n",
       " tensor(0.1074),\n",
       " tensor(0.1049),\n",
       " tensor(0.0954),\n",
       " tensor(0.0950),\n",
       " tensor(0.0947),\n",
       " tensor(0.0944),\n",
       " tensor(0.0941),\n",
       " tensor(0.1153),\n",
       " tensor(0.1124),\n",
       " tensor(0.0959),\n",
       " tensor(0.0956),\n",
       " tensor(0.1169),\n",
       " tensor(0.1146),\n",
       " tensor(0.1139),\n",
       " tensor(0.0974),\n",
       " tensor(0.0971),\n",
       " tensor(0.0968),\n",
       " tensor(0.0965),\n",
       " tensor(0.0963),\n",
       " tensor(0.0960),\n",
       " tensor(0.0958),\n",
       " tensor(0.0955),\n",
       " tensor(0.0953),\n",
       " tensor(0.0971),\n",
       " tensor(0.1184),\n",
       " tensor(0.1162),\n",
       " tensor(0.0968),\n",
       " tensor(0.0986),\n",
       " tensor(0.1200),\n",
       " tensor(0.1184),\n",
       " tensor(0.1177),\n",
       " tensor(0.0984),\n",
       " tensor(0.1002),\n",
       " tensor(0.1215),\n",
       " tensor(0.1200),\n",
       " tensor(0.1000),\n",
       " tensor(0.1018),\n",
       " tensor(0.1231),\n",
       " tensor(0.1223),\n",
       " tensor(0.1216),\n",
       " tensor(0.1015),\n",
       " tensor(0.1013),\n",
       " tensor(0.1011),\n",
       " tensor(0.1010),\n",
       " tensor(0.1008),\n",
       " tensor(0.1006),\n",
       " tensor(0.1005),\n",
       " tensor(0.1033),\n",
       " tensor(0.1021),\n",
       " tensor(0.1049),\n",
       " tensor(0.1037),\n",
       " tensor(0.1035),\n",
       " tensor(0.1034),\n",
       " tensor(0.1033),\n",
       " tensor(0.1065),\n",
       " tensor(0.1049),\n",
       " tensor(0.1081),\n",
       " tensor(0.1066),\n",
       " tensor(0.1065),\n",
       " tensor(0.1064),\n",
       " tensor(0.1063),\n",
       " tensor(0.1095),\n",
       " tensor(0.1098),\n",
       " tensor(0.1080),\n",
       " tensor(0.1111),\n",
       " tensor(0.1096),\n",
       " tensor(0.1095),\n",
       " tensor(0.1095),\n",
       " tensor(0.1095),\n",
       " tensor(0.1128),\n",
       " tensor(0.1111),\n",
       " tensor(0.1144),\n",
       " tensor(0.1128),\n",
       " tensor(0.1128),\n",
       " tensor(0.1128),\n",
       " tensor(0.1158),\n",
       " tensor(0.1161),\n",
       " tensor(0.1145),\n",
       " tensor(0.1175),\n",
       " tensor(0.1162),\n",
       " tensor(0.1162),\n",
       " tensor(0.1162),\n",
       " tensor(0.1190),\n",
       " tensor(0.1192),\n",
       " tensor(0.1179),\n",
       " tensor(0.1207),\n",
       " tensor(0.1196),\n",
       " tensor(0.1197),\n",
       " tensor(0.1197),\n",
       " tensor(0.1198),\n",
       " tensor(0.1224),\n",
       " tensor(0.1215),\n",
       " tensor(0.1241),\n",
       " tensor(0.1233),\n",
       " tensor(0.1233),\n",
       " tensor(0.1234),\n",
       " tensor(0.1259),\n",
       " tensor(0.1252),\n",
       " tensor(0.1274),\n",
       " tensor(0.1276),\n",
       " tensor(0.1270),\n",
       " tensor(0.1271),\n",
       " tensor(0.1272),\n",
       " tensor(0.1292),\n",
       " tensor(0.1290),\n",
       " tensor(0.1291),\n",
       " tensor(0.1292),\n",
       " tensor(0.1307),\n",
       " tensor(0.1310),\n",
       " tensor(0.1310),\n",
       " tensor(0.1325),\n",
       " tensor(0.1328),\n",
       " tensor(0.1330),\n",
       " tensor(0.1343),\n",
       " tensor(0.1348),\n",
       " tensor(0.1362),\n",
       " tensor(0.1366),\n",
       " tensor(0.1368),\n",
       " tensor(0.1370),\n",
       " tensor(0.1378),\n",
       " tensor(0.1380),\n",
       " tensor(0.1388),\n",
       " tensor(0.1396),\n",
       " tensor(0.1407),\n",
       " tensor(0.1409),\n",
       " tensor(0.1415),\n",
       " tensor(0.1427),\n",
       " tensor(0.1434),\n",
       " tensor(0.1446),\n",
       " tensor(0.1450),\n",
       " tensor(0.1453),\n",
       " tensor(0.1465),\n",
       " tensor(0.1469),\n",
       " tensor(0.1485),\n",
       " tensor(0.1486),\n",
       " tensor(0.1489)]"
      ]
     },
     "execution_count": 108,
     "metadata": {},
     "output_type": "execute_result"
    }
   ],
   "source": [
    "diff"
   ]
  },
  {
   "cell_type": "code",
   "execution_count": 107,
   "metadata": {
    "scrolled": true
   },
   "outputs": [
    {
     "data": {
      "text/plain": [
       "tensor(18)"
      ]
     },
     "execution_count": 107,
     "metadata": {},
     "output_type": "execute_result"
    }
   ],
   "source": [
    "torch.argmin(torch.tensor(diff))"
   ]
  },
  {
   "cell_type": "code",
   "execution_count": 84,
   "metadata": {},
   "outputs": [
    {
     "data": {
      "text/plain": [
       "tensor(0.0565)"
      ]
     },
     "execution_count": 84,
     "metadata": {},
     "output_type": "execute_result"
    }
   ],
   "source": [
    "diff[245]"
   ]
  },
  {
   "cell_type": "code",
   "execution_count": 101,
   "metadata": {},
   "outputs": [
    {
     "data": {
      "text/plain": [
       "tensor(0.0025)"
      ]
     },
     "execution_count": 101,
     "metadata": {},
     "output_type": "execute_result"
    }
   ],
   "source": [
    "diff[0]"
   ]
  },
  {
   "cell_type": "code",
   "execution_count": 77,
   "metadata": {},
   "outputs": [
    {
     "data": {
      "text/plain": [
       "torch.Size([540, 2])"
      ]
     },
     "execution_count": 77,
     "metadata": {},
     "output_type": "execute_result"
    }
   ],
   "source": [
    "boundary0_pts.shape"
   ]
  },
  {
   "cell_type": "code",
   "execution_count": 75,
   "metadata": {},
   "outputs": [
    {
     "data": {
      "text/plain": [
       "539"
      ]
     },
     "execution_count": 75,
     "metadata": {},
     "output_type": "execute_result"
    }
   ],
   "source": [
    "len(points)"
   ]
  },
  {
   "cell_type": "code",
   "execution_count": 87,
   "metadata": {},
   "outputs": [
    {
     "data": {
      "text/plain": [
       "tensor([0.4436, 0.2707])"
      ]
     },
     "execution_count": 87,
     "metadata": {},
     "output_type": "execute_result"
    }
   ],
   "source": [
    "line0"
   ]
  },
  {
   "cell_type": "code",
   "execution_count": 88,
   "metadata": {},
   "outputs": [
    {
     "data": {
      "text/plain": [
       "tensor([0.4461, 0.2707])"
      ]
     },
     "execution_count": 88,
     "metadata": {},
     "output_type": "execute_result"
    }
   ],
   "source": [
    "points[0]"
   ]
  },
  {
   "cell_type": "code",
   "execution_count": 109,
   "metadata": {},
   "outputs": [
    {
     "data": {
      "text/plain": [
       "[<matplotlib.lines.Line2D at 0x7f5df19c9828>]"
      ]
     },
     "execution_count": 109,
     "metadata": {},
     "output_type": "execute_result"
    },
    {
     "data": {
      "image/png": "[encoded data removed]",
      "text/plain": [
       "<Figure size 432x288 with 1 Axes>"
      ]
     },
     "metadata": {},
     "output_type": "display_data"
    }
   ],
   "source": [
    "init = 0\n",
    "fin = 1\n",
    "plt.imshow(source_deformable.geometry[0], origin='lower', extent=source_deformable.extent.totuple())\n",
    "plt.plot(boundary0_pts[init:fin,0], boundary0_pts[init:fin,1], 'xr')\n",
    "init = 19\n",
    "fin = 20\n",
    "plt.plot(boundary0_pts[init:fin,0], boundary0_pts[init:fin,1], '.b')\n",
    "init = 1\n",
    "fin = 2\n",
    "plt.plot(boundary0_pts[init:fin,0], boundary0_pts[init:fin,1], '.g')"
   ]
  },
  {
   "cell_type": "code",
   "execution_count": 210,
   "metadata": {},
   "outputs": [
    {
     "data": {
      "text/plain": [
       "[<matplotlib.lines.Line2D at 0x7f5df0681978>]"
      ]
     },
     "execution_count": 210,
     "metadata": {},
     "output_type": "execute_result"
    },
    {
     "data": {
      "image/png": "[encoded data removed]",
      "text/plain": [
       "<Figure size 432x288 with 1 Axes>"
      ]
     },
     "metadata": {},
     "output_type": "display_data"
    }
   ],
   "source": [
    "\n",
    "plt.imshow(source_deformable.geometry[0], origin='lower', extent=source_deformable.extent.totuple())\n",
    "#plt.plot(boundary0_pts[::1,0], boundary0_pts[::1,1], '-r')\n",
    "plt.plot(line0_ten_lo[:,0], line0_ten_lo[:,1], '-r')\n",
    "plt.plot(line1_ten_lo[:,0], line1_ten_lo[:,1], '-b')\n",
    "#plt.plot(boundary1_pts[:,0], boundary1_pts[:,1], '.b')\n",
    "#plt.plot(pts[:,0], pts[:,1], '.g')\n",
    "#plt.plot(pts_0_closed[:,0], pts_0_closed[:,1], '.r')\n",
    "plt.plot(points_inside0[:,0], points_inside0[:,1], '.r')\n",
    "plt.plot(points_inside1[:,0], points_inside1[:,1], '.b')\n",
    "#plt.plot(model.modules[0].manifold[0].gd[:,0], model.modules[0].manifold[0].gd[:,1], '.r')\n",
    "#plt.plot(model.modules[1].manifold[0].gd[:,0], model.modules[1].manifold[0].gd[:,1], '.b')\n",
    "#plt.plot(model.modules[2].manifold[0].gd[:,0], model.modules[2].manifold[0].gd[:,1], '.g')"
   ]
  },
  {
   "cell_type": "code",
   "execution_count": 207,
   "metadata": {},
   "outputs": [],
   "source": [
    "points_inside0 = dm.Utilities.fill_area_uniform_density(dm.Utilities.area_shape, source_deformable.extent, 1000., shape=line0_ten_lo)\n",
    "points_inside1 = dm.Utilities.fill_area_uniform_density(dm.Utilities.area_shape, source_deformable.extent, 1000., shape=line1_ten_lo)\n"
   ]
  },
  {
   "cell_type": "code",
   "execution_count": 47,
   "metadata": {},
   "outputs": [
    {
     "data": {
      "text/plain": [
       "torch.Size([541, 2])"
      ]
     },
     "execution_count": 47,
     "metadata": {},
     "output_type": "execute_result"
    }
   ],
   "source": [
    "boundary0_pts_closed.shape"
   ]
  },
  {
   "cell_type": "code",
   "execution_count": 33,
   "metadata": {},
   "outputs": [],
   "source": [
    "boundary0_pts_closed = torch.cat([boundary0_pts, boundary0_pts[0].unsqueeze(0)])\n",
    "boundary0_closed = dm.MultiShape.Boundary(copy.copy(boundary0_pts_closed))\n",
    "pts_0_closed = boundary0.isin_extract(pts)"
   ]
  },
  {
   "cell_type": "code",
   "execution_count": null,
   "metadata": {},
   "outputs": [],
   "source": []
  },
  {
   "cell_type": "code",
   "execution_count": 125,
   "metadata": {},
   "outputs": [],
   "source": [
    "sil = source_deformable.silent_module\n",
    "pts = sil.manifold.gd"
   ]
  },
  {
   "cell_type": "code",
   "execution_count": 130,
   "metadata": {},
   "outputs": [
    {
     "data": {
      "text/plain": [
       "[<matplotlib.lines.Line2D at 0x7efd36fd3eb8>]"
      ]
     },
     "execution_count": 130,
     "metadata": {},
     "output_type": "execute_result"
    }
   ],
   "source": [
    "#%matplotlib qt5\n",
    "plt.imshow(source, extent=source_deformable.extent.totuple(), origin='lower')\n",
    "plt.plot(boundary0_pts[:,0], boundary0_pts[:,1], '.')\n",
    "plt.plot(pts[::10,0], pts[::10,1], '.')\n"
   ]
  },
  {
   "cell_type": "code",
   "execution_count": 15,
   "metadata": {},
   "outputs": [
    {
     "data": {
      "text/plain": [
       "torch.Size([1600, 2])"
      ]
     },
     "execution_count": 15,
     "metadata": {},
     "output_type": "execute_result"
    }
   ],
   "source": [
    "pts.shape"
   ]
  },
  {
   "cell_type": "code",
   "execution_count": 16,
   "metadata": {},
   "outputs": [
    {
     "data": {
      "text/plain": [
       "torch.Size([40, 40])"
      ]
     },
     "execution_count": 16,
     "metadata": {},
     "output_type": "execute_result"
    }
   ],
   "source": [
    "source.shape"
   ]
  },
  {
   "cell_type": "code",
   "execution_count": 17,
   "metadata": {},
   "outputs": [],
   "source": [
    "boundary0 = dm.MultiShape.Boundary(boundary0_pts)\n",
    "boundary1 = dm.MultiShape.Boundary(boundary1_pts)\n",
    "\n",
    "#source_deformable = dm.Models.DeformableImage(source, extent='match')\n",
    "#target_deformable = dm.Models.DeformableImage(target, extent='match')\n"
   ]
  },
  {
   "cell_type": "code",
   "execution_count": 18,
   "metadata": {},
   "outputs": [],
   "source": [
    "deformables = [source_deformable]"
   ]
  },
  {
   "cell_type": "code",
   "execution_count": 19,
   "metadata": {},
   "outputs": [
    {
     "data": {
      "text/plain": [
       "True"
      ]
     },
     "execution_count": 19,
     "metadata": {},
     "output_type": "execute_result"
    }
   ],
   "source": [
    "isinstance(source_deformable, dm.Models.DeformableImage)"
   ]
  },
  {
   "cell_type": "code",
   "execution_count": 20,
   "metadata": {},
   "outputs": [],
   "source": [
    "pts = torch.tensor([])"
   ]
  },
  {
   "cell_type": "code",
   "execution_count": 21,
   "metadata": {},
   "outputs": [],
   "source": [
    "pts = torch.cat([pts,source_deformable.silent_module.manifold.gd.clone()])"
   ]
  },
  {
   "cell_type": "code",
   "execution_count": 40,
   "metadata": {},
   "outputs": [],
   "source": [
    "a = pts[:5].unsqueeze(0).transpose(1,2)\n",
    "b = pts[:7].unsqueeze(2)"
   ]
  },
  {
   "cell_type": "code",
   "execution_count": 41,
   "metadata": {},
   "outputs": [
    {
     "data": {
      "text/plain": [
       "torch.Size([1, 2, 5])"
      ]
     },
     "execution_count": 41,
     "metadata": {},
     "output_type": "execute_result"
    }
   ],
   "source": [
    "a.shape"
   ]
  },
  {
   "cell_type": "code",
   "execution_count": 42,
   "metadata": {},
   "outputs": [
    {
     "data": {
      "text/plain": [
       "torch.Size([7, 2, 1])"
      ]
     },
     "execution_count": 42,
     "metadata": {},
     "output_type": "execute_result"
    }
   ],
   "source": [
    "b.shape"
   ]
  },
  {
   "cell_type": "code",
   "execution_count": 43,
   "metadata": {},
   "outputs": [
    {
     "data": {
      "text/plain": [
       "torch.Size([7, 2, 5])"
      ]
     },
     "execution_count": 43,
     "metadata": {},
     "output_type": "execute_result"
    }
   ],
   "source": [
    "(a-b).shape"
   ]
  },
  {
   "cell_type": "code",
   "execution_count": 37,
   "metadata": {},
   "outputs": [
    {
     "name": "stdout",
     "output_type": "stream",
     "text": [
      "0\n",
      "1\n",
      "2\n",
      "3\n",
      "4\n",
      "5\n",
      "6\n",
      "7\n",
      "8\n",
      "9\n",
      "10\n",
      "11\n",
      "12\n",
      "13\n",
      "14\n",
      "15\n",
      "16\n",
      "17\n",
      "18\n",
      "19\n",
      "20\n",
      "21\n",
      "22\n",
      "23\n",
      "24\n",
      "25\n",
      "26\n",
      "27\n",
      "28\n",
      "29\n",
      "30\n",
      "31\n",
      "32\n",
      "33\n",
      "34\n",
      "35\n",
      "36\n",
      "37\n",
      "38\n",
      "39\n",
      "40\n",
      "41\n",
      "42\n",
      "43\n",
      "44\n",
      "45\n",
      "46\n",
      "47\n",
      "48\n",
      "49\n",
      "50\n",
      "51\n",
      "52\n",
      "53\n",
      "54\n",
      "55\n",
      "56\n",
      "57\n",
      "58\n",
      "59\n",
      "60\n",
      "61\n",
      "62\n",
      "63\n",
      "64\n",
      "65\n",
      "66\n",
      "67\n",
      "68\n",
      "69\n",
      "70\n",
      "71\n",
      "72\n",
      "73\n",
      "74\n",
      "75\n",
      "76\n",
      "77\n",
      "78\n",
      "79\n",
      "80\n",
      "81\n",
      "82\n",
      "83\n",
      "84\n",
      "85\n",
      "86\n",
      "87\n",
      "88\n",
      "89\n",
      "90\n",
      "91\n",
      "92\n",
      "93\n",
      "94\n",
      "95\n",
      "96\n",
      "97\n",
      "98\n",
      "99\n",
      "100\n",
      "101\n",
      "102\n",
      "103\n",
      "104\n",
      "105\n",
      "106\n",
      "107\n",
      "108\n",
      "109\n",
      "110\n",
      "111\n",
      "112\n",
      "113\n",
      "114\n",
      "115\n",
      "116\n",
      "117\n",
      "118\n",
      "119\n",
      "120\n",
      "121\n",
      "122\n",
      "123\n",
      "124\n",
      "125\n",
      "126\n",
      "127\n",
      "128\n",
      "129\n",
      "130\n",
      "131\n",
      "132\n",
      "133\n",
      "134\n",
      "135\n",
      "136\n",
      "137\n",
      "138\n",
      "139\n",
      "140\n",
      "141\n",
      "142\n",
      "143\n",
      "144\n",
      "145\n",
      "146\n",
      "147\n",
      "148\n",
      "149\n",
      "150\n",
      "151\n",
      "152\n",
      "153\n",
      "154\n",
      "155\n",
      "156\n",
      "157\n",
      "158\n",
      "159\n",
      "160\n",
      "161\n",
      "162\n",
      "163\n",
      "164\n",
      "165\n",
      "166\n",
      "167\n",
      "168\n",
      "169\n",
      "170\n",
      "171\n",
      "172\n",
      "173\n",
      "174\n",
      "175\n",
      "176\n",
      "177\n",
      "178\n",
      "179\n",
      "180\n",
      "181\n",
      "182\n",
      "183\n",
      "184\n",
      "185\n",
      "186\n",
      "187\n",
      "188\n",
      "189\n",
      "190\n",
      "191\n",
      "192\n",
      "193\n",
      "194\n",
      "195\n",
      "196\n",
      "197\n",
      "198\n",
      "199\n",
      "200\n",
      "201\n",
      "202\n",
      "203\n",
      "204\n",
      "205\n",
      "206\n",
      "207\n",
      "208\n",
      "209\n",
      "210\n",
      "211\n",
      "212\n",
      "213\n",
      "214\n",
      "215\n",
      "216\n",
      "217\n",
      "218\n",
      "219\n",
      "220\n",
      "221\n",
      "222\n",
      "223\n",
      "224\n",
      "225\n",
      "226\n",
      "227\n",
      "228\n",
      "229\n",
      "230\n",
      "231\n",
      "232\n",
      "233\n",
      "234\n",
      "235\n",
      "236\n",
      "237\n",
      "238\n",
      "239\n",
      "240\n",
      "241\n",
      "242\n",
      "243\n",
      "244\n",
      "245\n",
      "246\n",
      "247\n",
      "248\n",
      "249\n",
      "250\n",
      "251\n",
      "252\n",
      "253\n",
      "254\n",
      "255\n",
      "256\n",
      "257\n",
      "258\n",
      "259\n",
      "260\n",
      "261\n",
      "262\n",
      "263\n",
      "264\n",
      "265\n",
      "266\n",
      "267\n",
      "268\n",
      "269\n",
      "270\n",
      "271\n",
      "272\n",
      "273\n",
      "274\n",
      "275\n",
      "276\n",
      "277\n",
      "278\n",
      "279\n",
      "280\n",
      "281\n",
      "282\n",
      "283\n",
      "284\n",
      "285\n",
      "286\n",
      "287\n",
      "288\n",
      "289\n",
      "290\n",
      "291\n",
      "292\n",
      "293\n",
      "294\n",
      "295\n",
      "296\n",
      "297\n",
      "298\n",
      "299\n",
      "300\n",
      "301\n",
      "302\n",
      "303\n",
      "304\n",
      "305\n",
      "306\n",
      "307\n",
      "308\n",
      "309\n",
      "310\n",
      "311\n",
      "312\n",
      "313\n",
      "314\n",
      "315\n",
      "316\n",
      "317\n",
      "318\n",
      "319\n",
      "320\n",
      "321\n",
      "322\n",
      "323\n",
      "324\n",
      "325\n",
      "326\n",
      "327\n",
      "328\n",
      "329\n",
      "330\n",
      "331\n",
      "332\n",
      "333\n",
      "334\n",
      "335\n",
      "336\n",
      "337\n",
      "338\n",
      "339\n",
      "340\n",
      "341\n",
      "342\n",
      "343\n",
      "344\n",
      "345\n",
      "346\n",
      "347\n",
      "348\n",
      "349\n",
      "350\n",
      "351\n",
      "352\n",
      "353\n",
      "354\n",
      "355\n",
      "356\n",
      "357\n",
      "358\n",
      "359\n",
      "360\n",
      "361\n",
      "362\n",
      "363\n",
      "364\n",
      "365\n",
      "366\n",
      "367\n",
      "368\n",
      "369\n",
      "370\n",
      "371\n",
      "372\n",
      "373\n",
      "374\n",
      "375\n",
      "376\n",
      "377\n",
      "378\n",
      "379\n",
      "380\n",
      "381\n",
      "382\n",
      "383\n",
      "384\n",
      "385\n",
      "386\n",
      "387\n",
      "388\n",
      "389\n",
      "390\n",
      "391\n",
      "392\n",
      "393\n",
      "394\n",
      "395\n",
      "396\n",
      "397\n",
      "398\n",
      "399\n",
      "400\n",
      "401\n",
      "402\n",
      "403\n",
      "404\n",
      "405\n",
      "406\n",
      "407\n",
      "408\n",
      "409\n",
      "410\n",
      "411\n",
      "412\n",
      "413\n",
      "414\n",
      "415\n",
      "416\n",
      "417\n",
      "418\n",
      "419\n",
      "420\n",
      "421\n",
      "422\n",
      "423\n",
      "424\n",
      "425\n",
      "426\n",
      "427\n",
      "428\n",
      "429\n",
      "430\n",
      "431\n",
      "432\n",
      "433\n",
      "434\n",
      "435\n",
      "436\n",
      "437\n",
      "438\n",
      "439\n",
      "440\n",
      "441\n",
      "442\n",
      "443\n",
      "444\n",
      "445\n",
      "446\n",
      "447\n",
      "448\n",
      "449\n",
      "450\n",
      "451\n",
      "452\n",
      "453\n",
      "454\n",
      "455\n",
      "456\n",
      "457\n",
      "458\n",
      "459\n",
      "460\n",
      "461\n",
      "462\n",
      "463\n",
      "464\n",
      "465\n",
      "466\n",
      "467\n",
      "468\n",
      "469\n",
      "470\n",
      "471\n",
      "472\n",
      "473\n",
      "474\n",
      "475\n",
      "476\n",
      "477\n",
      "478\n",
      "479\n",
      "480\n",
      "481\n",
      "482\n",
      "483\n",
      "484\n",
      "485\n",
      "486\n",
      "487\n",
      "488\n",
      "489\n",
      "490\n",
      "491\n",
      "492\n",
      "493\n",
      "494\n",
      "495\n",
      "496\n",
      "497\n",
      "498\n",
      "499\n",
      "500\n",
      "501\n",
      "502\n",
      "503\n",
      "504\n",
      "505\n",
      "506\n",
      "507\n",
      "508\n",
      "509\n",
      "510\n",
      "511\n",
      "512\n",
      "513\n",
      "514\n",
      "515\n",
      "516\n",
      "517\n",
      "518\n",
      "519\n",
      "520\n",
      "521\n",
      "522\n",
      "523\n",
      "524\n",
      "525\n",
      "526\n",
      "527\n",
      "528\n",
      "529\n",
      "530\n",
      "531\n",
      "532\n",
      "533\n",
      "534\n",
      "535\n",
      "536\n",
      "537\n",
      "538\n",
      "539\n",
      "540\n",
      "541\n",
      "542\n",
      "543\n",
      "544\n",
      "545\n",
      "546\n",
      "547\n",
      "548\n",
      "549\n",
      "550\n",
      "551\n",
      "552\n",
      "553\n",
      "554\n",
      "555\n",
      "556\n",
      "557\n",
      "558\n",
      "559\n",
      "560\n",
      "561\n",
      "562\n",
      "563\n",
      "564\n",
      "565\n",
      "566\n",
      "567\n",
      "568\n",
      "569\n",
      "570\n",
      "571\n",
      "572\n",
      "573\n",
      "574\n",
      "575\n",
      "576\n",
      "577\n",
      "578\n",
      "579\n",
      "580\n",
      "581\n",
      "582\n",
      "583\n",
      "584\n",
      "585\n",
      "586\n",
      "587\n",
      "588\n",
      "589\n",
      "590\n",
      "591\n",
      "592\n",
      "593\n",
      "594\n",
      "595\n",
      "596\n",
      "597\n",
      "598\n",
      "599\n",
      "600\n",
      "601\n",
      "602\n",
      "603\n",
      "604\n",
      "605\n",
      "606\n",
      "607\n",
      "608\n",
      "609\n",
      "610\n",
      "611\n",
      "612\n",
      "613\n",
      "614\n",
      "615\n",
      "616\n",
      "617\n",
      "618\n",
      "619\n",
      "620\n",
      "621\n",
      "622\n",
      "623\n",
      "624\n",
      "625\n",
      "626\n",
      "627\n",
      "628\n",
      "629\n",
      "630\n",
      "631\n",
      "632\n",
      "633\n",
      "634\n",
      "635\n",
      "636\n",
      "637\n",
      "638\n",
      "639\n",
      "640\n",
      "641\n",
      "642\n",
      "643\n",
      "644\n",
      "645\n",
      "646\n",
      "647\n",
      "648\n",
      "649\n",
      "650\n",
      "651\n",
      "652\n",
      "653\n",
      "654\n",
      "655\n",
      "656\n",
      "657\n",
      "658\n",
      "659\n",
      "660\n",
      "661\n",
      "662\n",
      "663\n",
      "664\n",
      "665\n",
      "666\n",
      "667\n",
      "668\n",
      "669\n",
      "670\n",
      "671\n",
      "672\n",
      "673\n",
      "674\n",
      "675\n",
      "676\n",
      "677\n",
      "678\n",
      "679\n",
      "680\n",
      "681\n",
      "682\n",
      "683\n",
      "684\n",
      "685\n",
      "686\n",
      "687\n",
      "688\n",
      "689\n",
      "690\n",
      "691\n",
      "692\n",
      "693\n",
      "694\n",
      "695\n",
      "696\n",
      "697\n",
      "698\n",
      "699\n",
      "700\n",
      "701\n",
      "702\n",
      "703\n",
      "704\n",
      "705\n",
      "706\n",
      "707\n",
      "708\n",
      "709\n",
      "710\n",
      "711\n",
      "712\n",
      "713\n",
      "714\n",
      "715\n",
      "716\n",
      "717\n",
      "718\n",
      "719\n",
      "720\n",
      "721\n",
      "722\n",
      "723\n",
      "724\n",
      "725\n",
      "726\n",
      "727\n",
      "728\n",
      "729\n",
      "730\n",
      "731\n",
      "732\n",
      "733\n",
      "734\n",
      "735\n",
      "736\n",
      "737\n",
      "738\n",
      "739\n",
      "740\n",
      "741\n",
      "742\n",
      "743\n",
      "744\n",
      "745\n",
      "746\n",
      "747\n",
      "748\n",
      "749\n",
      "750\n",
      "751\n",
      "752\n",
      "753\n",
      "754\n",
      "755\n",
      "756\n",
      "757\n",
      "758\n",
      "759\n",
      "760\n",
      "761\n",
      "762\n",
      "763\n",
      "764\n",
      "765\n",
      "766\n",
      "767\n",
      "768\n",
      "769\n",
      "770\n",
      "771\n",
      "772\n",
      "773\n",
      "774\n",
      "775\n",
      "776\n",
      "777\n",
      "778\n",
      "779\n",
      "780\n",
      "781\n",
      "782\n",
      "783\n",
      "784\n",
      "785\n",
      "786\n",
      "787\n",
      "788\n",
      "789\n",
      "790\n",
      "791\n",
      "792\n",
      "793\n",
      "794\n",
      "795\n",
      "796\n",
      "797\n",
      "798\n",
      "799\n",
      "800\n",
      "801\n",
      "802\n",
      "803\n",
      "804\n",
      "805\n",
      "806\n",
      "807\n",
      "808\n",
      "809\n",
      "810\n",
      "811\n",
      "812\n",
      "813\n",
      "814\n",
      "815\n",
      "816\n",
      "817\n",
      "818\n",
      "819\n",
      "820\n",
      "821\n",
      "822\n",
      "823\n",
      "824\n",
      "825\n",
      "826\n",
      "827\n",
      "828\n",
      "829\n",
      "830\n",
      "831\n",
      "832\n",
      "833\n",
      "834\n",
      "835\n",
      "836\n",
      "837\n",
      "838\n",
      "839\n",
      "840\n",
      "841\n",
      "842\n",
      "843\n",
      "844\n",
      "845\n",
      "846\n",
      "847\n",
      "848\n",
      "849\n",
      "850\n",
      "851\n",
      "852\n",
      "853\n",
      "854\n",
      "855\n",
      "856\n",
      "857\n",
      "858\n",
      "859\n",
      "860\n",
      "861\n",
      "862\n",
      "863\n",
      "864\n",
      "865\n",
      "866\n",
      "867\n",
      "868\n",
      "869\n",
      "870\n",
      "871\n",
      "872\n",
      "873\n",
      "874\n",
      "875\n",
      "876\n",
      "877\n",
      "878\n",
      "879\n",
      "880\n",
      "881\n",
      "882\n",
      "883\n",
      "884\n",
      "885\n",
      "886\n",
      "887\n",
      "888\n",
      "889\n",
      "890\n",
      "891\n",
      "892\n",
      "893\n",
      "894\n",
      "895\n",
      "896\n",
      "897\n",
      "898\n",
      "899\n",
      "900\n",
      "901\n",
      "902\n",
      "903\n",
      "904\n",
      "905\n",
      "906\n",
      "907\n",
      "908\n",
      "909\n",
      "910\n",
      "911\n",
      "912\n",
      "913\n",
      "914\n",
      "915\n",
      "916\n",
      "917\n",
      "918\n",
      "919\n",
      "920\n",
      "921\n",
      "922\n",
      "923\n",
      "924\n",
      "925\n",
      "926\n",
      "927\n",
      "928\n",
      "929\n",
      "930\n",
      "931\n",
      "932\n",
      "933\n",
      "934\n",
      "935\n",
      "936\n",
      "937\n",
      "938\n",
      "939\n",
      "940\n",
      "941\n",
      "942\n",
      "943\n",
      "944\n",
      "945\n",
      "946\n",
      "947\n",
      "948\n",
      "949\n",
      "950\n",
      "951\n",
      "952\n",
      "953\n",
      "954\n",
      "955\n",
      "956\n",
      "957\n",
      "958\n",
      "959\n",
      "960\n",
      "961\n",
      "962\n",
      "963\n",
      "964\n",
      "965\n",
      "966\n",
      "967\n",
      "968\n",
      "969\n",
      "970\n",
      "971\n",
      "972\n",
      "973\n",
      "974\n",
      "975\n",
      "976\n",
      "977\n",
      "978\n",
      "979\n",
      "980\n",
      "981\n",
      "982\n",
      "983\n",
      "984\n",
      "985\n",
      "986\n",
      "987\n",
      "988\n",
      "989\n",
      "990\n",
      "991\n",
      "992\n",
      "993\n",
      "994\n",
      "995\n",
      "996\n",
      "997\n",
      "998\n",
      "999\n",
      "1000\n",
      "1001\n",
      "1002\n",
      "1003\n",
      "1004\n",
      "1005\n",
      "1006\n",
      "1007\n",
      "1008\n",
      "1009\n",
      "1010\n",
      "1011\n",
      "1012\n",
      "1013\n",
      "1014\n",
      "1015\n",
      "1016\n",
      "1017\n",
      "1018\n",
      "1019\n",
      "1020\n",
      "1021\n",
      "1022\n",
      "1023\n",
      "1024\n",
      "1025\n",
      "1026\n",
      "1027\n",
      "1028\n",
      "1029\n",
      "1030\n",
      "1031\n",
      "1032\n",
      "1033\n",
      "1034\n",
      "1035\n",
      "1036\n",
      "1037\n",
      "1038\n",
      "1039\n",
      "1040\n",
      "1041\n",
      "1042\n",
      "1043\n",
      "1044\n",
      "1045\n",
      "1046\n",
      "1047\n",
      "1048\n",
      "1049\n",
      "1050\n",
      "1051\n",
      "1052\n",
      "1053\n",
      "1054\n",
      "1055\n",
      "1056\n",
      "1057\n",
      "1058\n",
      "1059\n",
      "1060\n",
      "1061\n",
      "1062\n",
      "1063\n",
      "1064\n",
      "1065\n",
      "1066\n",
      "1067\n",
      "1068\n",
      "1069\n",
      "1070\n",
      "1071\n",
      "1072\n",
      "1073\n",
      "1074\n",
      "1075\n",
      "1076\n",
      "1077\n",
      "1078\n",
      "1079\n",
      "1080\n",
      "1081\n",
      "1082\n",
      "1083\n",
      "1084\n",
      "1085\n",
      "1086\n",
      "1087\n",
      "1088\n",
      "1089\n",
      "1090\n",
      "1091\n",
      "1092\n",
      "1093\n",
      "1094\n",
      "1095\n",
      "1096\n",
      "1097\n",
      "1098\n",
      "1099\n",
      "1100\n",
      "1101\n",
      "1102\n",
      "1103\n",
      "1104\n",
      "1105\n",
      "1106\n",
      "1107\n",
      "1108\n",
      "1109\n",
      "1110\n",
      "1111\n",
      "1112\n",
      "1113\n",
      "1114\n",
      "1115\n",
      "1116\n",
      "1117\n",
      "1118\n",
      "1119\n",
      "1120\n",
      "1121\n",
      "1122\n",
      "1123\n",
      "1124\n",
      "1125\n",
      "1126\n",
      "1127\n",
      "1128\n",
      "1129\n",
      "1130\n",
      "1131\n",
      "1132\n",
      "1133\n",
      "1134\n",
      "1135\n",
      "1136\n",
      "1137\n",
      "1138\n",
      "1139\n",
      "1140\n",
      "1141\n",
      "1142\n",
      "1143\n",
      "1144\n",
      "1145\n",
      "1146\n",
      "1147\n",
      "1148\n",
      "1149\n",
      "1150\n",
      "1151\n",
      "1152\n",
      "1153\n",
      "1154\n",
      "1155\n",
      "1156\n",
      "1157\n",
      "1158\n",
      "1159\n",
      "1160\n",
      "1161\n",
      "1162\n",
      "1163\n",
      "1164\n",
      "1165\n",
      "1166\n",
      "1167\n",
      "1168\n",
      "1169\n",
      "1170\n",
      "1171\n",
      "1172\n",
      "1173\n",
      "1174\n",
      "1175\n",
      "1176\n",
      "1177\n",
      "1178\n",
      "1179\n",
      "1180\n",
      "1181\n",
      "1182\n",
      "1183\n",
      "1184\n",
      "1185\n",
      "1186\n",
      "1187\n",
      "1188\n",
      "1189\n",
      "1190\n",
      "1191\n",
      "1192\n",
      "1193\n",
      "1194\n",
      "1195\n",
      "1196\n",
      "1197\n",
      "1198\n",
      "1199\n",
      "1200\n",
      "1201\n",
      "1202\n",
      "1203\n",
      "1204\n",
      "1205\n",
      "1206\n",
      "1207\n",
      "1208\n",
      "1209\n",
      "1210\n",
      "1211\n",
      "1212\n",
      "1213\n",
      "1214\n",
      "1215\n",
      "1216\n",
      "1217\n",
      "1218\n",
      "1219\n",
      "1220\n",
      "1221\n",
      "1222\n",
      "1223\n",
      "1224\n",
      "1225\n",
      "1226\n",
      "1227\n",
      "1228\n",
      "1229\n",
      "1230\n",
      "1231\n",
      "1232\n",
      "1233\n",
      "1234\n",
      "1235\n",
      "1236\n",
      "1237\n",
      "1238\n",
      "1239\n",
      "1240\n",
      "1241\n",
      "1242\n",
      "1243\n",
      "1244\n",
      "1245\n",
      "1246\n",
      "1247\n",
      "1248\n",
      "1249\n",
      "1250\n",
      "1251\n",
      "1252\n",
      "1253\n",
      "1254\n",
      "1255\n",
      "1256\n",
      "1257\n",
      "1258\n",
      "1259\n",
      "1260\n",
      "1261\n",
      "1262\n",
      "1263\n",
      "1264\n",
      "1265\n",
      "1266\n",
      "1267\n",
      "1268\n",
      "1269\n",
      "1270\n",
      "1271\n",
      "1272\n",
      "1273\n",
      "1274\n",
      "1275\n",
      "1276\n",
      "1277\n",
      "1278\n",
      "1279\n",
      "1280\n",
      "1281\n",
      "1282\n",
      "1283\n",
      "1284\n",
      "1285\n",
      "1286\n",
      "1287\n",
      "1288\n",
      "1289\n",
      "1290\n",
      "1291\n",
      "1292\n",
      "1293\n",
      "1294\n",
      "1295\n",
      "1296\n",
      "1297\n",
      "1298\n",
      "1299\n",
      "1300\n",
      "1301\n",
      "1302\n",
      "1303\n",
      "1304\n",
      "1305\n",
      "1306\n",
      "1307\n",
      "1308\n",
      "1309\n",
      "1310\n",
      "1311\n",
      "1312\n",
      "1313\n",
      "1314\n",
      "1315\n",
      "1316\n",
      "1317\n",
      "1318\n",
      "1319\n",
      "1320\n",
      "1321\n",
      "1322\n",
      "1323\n",
      "1324\n",
      "1325\n",
      "1326\n",
      "1327\n",
      "1328\n",
      "1329\n",
      "1330\n",
      "1331\n",
      "1332\n",
      "1333\n",
      "1334\n",
      "1335\n",
      "1336\n",
      "1337\n",
      "1338\n",
      "1339\n",
      "1340\n",
      "1341\n",
      "1342\n",
      "1343\n",
      "1344\n",
      "1345\n",
      "1346\n",
      "1347\n",
      "1348\n",
      "1349\n",
      "1350\n",
      "1351\n",
      "1352\n",
      "1353\n",
      "1354\n",
      "1355\n",
      "1356\n",
      "1357\n",
      "1358\n",
      "1359\n",
      "1360\n",
      "1361\n",
      "1362\n",
      "1363\n",
      "1364\n",
      "1365\n",
      "1366\n",
      "1367\n",
      "1368\n",
      "1369\n",
      "1370\n",
      "1371\n",
      "1372\n",
      "1373\n",
      "1374\n",
      "1375\n",
      "1376\n",
      "1377\n",
      "1378\n",
      "1379\n",
      "1380\n",
      "1381\n",
      "1382\n",
      "1383\n",
      "1384\n",
      "1385\n",
      "1386\n",
      "1387\n",
      "1388\n",
      "1389\n",
      "1390\n",
      "1391\n",
      "1392\n",
      "1393\n",
      "1394\n",
      "1395\n",
      "1396\n",
      "1397\n",
      "1398\n",
      "1399\n",
      "1400\n",
      "1401\n",
      "1402\n",
      "1403\n",
      "1404\n",
      "1405\n",
      "1406\n",
      "1407\n",
      "1408\n",
      "1409\n",
      "1410\n",
      "1411\n",
      "1412\n",
      "1413\n",
      "1414\n",
      "1415\n",
      "1416\n",
      "1417\n",
      "1418\n",
      "1419\n",
      "1420\n",
      "1421\n",
      "1422\n",
      "1423\n",
      "1424\n",
      "1425\n",
      "1426\n",
      "1427\n",
      "1428\n",
      "1429\n",
      "1430\n",
      "1431\n",
      "1432\n",
      "1433\n",
      "1434\n",
      "1435\n",
      "1436\n",
      "1437\n",
      "1438\n",
      "1439\n",
      "1440\n",
      "1441\n",
      "1442\n",
      "1443\n",
      "1444\n",
      "1445\n",
      "1446\n",
      "1447\n",
      "1448\n",
      "1449\n",
      "1450\n",
      "1451\n",
      "1452\n",
      "1453\n",
      "1454\n",
      "1455\n",
      "1456\n",
      "1457\n",
      "1458\n",
      "1459\n",
      "1460\n",
      "1461\n",
      "1462\n",
      "1463\n",
      "1464\n",
      "1465\n",
      "1466\n",
      "1467\n",
      "1468\n",
      "1469\n",
      "1470\n",
      "1471\n",
      "1472\n",
      "1473\n",
      "1474\n",
      "1475\n",
      "1476\n",
      "1477\n",
      "1478\n",
      "1479\n",
      "1480\n",
      "1481\n",
      "1482\n",
      "1483\n",
      "1484\n",
      "1485\n",
      "1486\n",
      "1487\n",
      "1488\n",
      "1489\n",
      "1490\n",
      "1491\n",
      "1492\n",
      "1493\n",
      "1494\n",
      "1495\n",
      "1496\n",
      "1497\n",
      "1498\n",
      "1499\n",
      "1500\n",
      "1501\n",
      "1502\n",
      "1503\n",
      "1504\n",
      "1505\n",
      "1506\n",
      "1507\n",
      "1508\n",
      "1509\n",
      "1510\n",
      "1511\n",
      "1512\n",
      "1513\n",
      "1514\n",
      "1515\n",
      "1516\n",
      "1517\n",
      "1518\n",
      "1519\n",
      "1520\n",
      "1521\n",
      "1522\n",
      "1523\n",
      "1524\n",
      "1525\n",
      "1526\n",
      "1527\n",
      "1528\n",
      "1529\n",
      "1530\n",
      "1531\n",
      "1532\n",
      "1533\n",
      "1534\n",
      "1535\n",
      "1536\n",
      "1537\n",
      "1538\n",
      "1539\n",
      "1540\n",
      "1541\n",
      "1542\n",
      "1543\n",
      "1544\n",
      "1545\n",
      "1546\n",
      "1547\n",
      "1548\n",
      "1549\n",
      "1550\n",
      "1551\n",
      "1552\n",
      "1553\n",
      "1554\n",
      "1555\n",
      "1556\n",
      "1557\n",
      "1558\n",
      "1559\n",
      "1560\n",
      "1561\n",
      "1562\n",
      "1563\n",
      "1564\n",
      "1565\n",
      "1566\n",
      "1567\n",
      "1568\n",
      "1569\n",
      "1570\n",
      "1571\n",
      "1572\n",
      "1573\n",
      "1574\n",
      "1575\n",
      "1576\n",
      "1577\n",
      "1578\n",
      "1579\n",
      "1580\n",
      "1581\n",
      "1582\n",
      "1583\n",
      "1584\n",
      "1585\n",
      "1586\n",
      "1587\n",
      "1588\n",
      "1589\n",
      "1590\n",
      "1591\n",
      "1592\n",
      "1593\n",
      "1594\n",
      "1595\n",
      "1596\n",
      "1597\n",
      "1598\n",
      "1599\n"
     ]
    }
   ],
   "source": [
    "for i, p in enumerate(pts):\n",
    "    print(i)"
   ]
  },
  {
   "cell_type": "code",
   "execution_count": 36,
   "metadata": {},
   "outputs": [],
   "source": [
    "ind = torch.zeros(3, dtype=int)"
   ]
  },
  {
   "cell_type": "code",
   "execution_count": 23,
   "metadata": {
    "scrolled": true
   },
   "outputs": [],
   "source": [
    "a=boundary0.isin_label(pts)"
   ]
  },
  {
   "cell_type": "code",
   "execution_count": 34,
   "metadata": {},
   "outputs": [
    {
     "ename": "AttributeError",
     "evalue": "'Tensor' object has no attribute 'nonzeros'",
     "output_type": "error",
     "traceback": [
      "\u001b[0;31m---------------------------------------------------------------------------\u001b[0m",
      "\u001b[0;31mAttributeError\u001b[0m                            Traceback (most recent call last)",
      "\u001b[0;32m<ipython-input-34-9f73d871352b>\u001b[0m in \u001b[0;36m<module>\u001b[0;34m()\u001b[0m\n\u001b[0;32m----> 1\u001b[0;31m \u001b[0;34m(\u001b[0m\u001b[0ma\u001b[0m\u001b[0;34m.\u001b[0m\u001b[0mview\u001b[0m\u001b[0;34m(\u001b[0m\u001b[0;34m-\u001b[0m\u001b[0;36m1\u001b[0m\u001b[0;34m,\u001b[0m\u001b[0;36m1\u001b[0m\u001b[0;34m)\u001b[0m\u001b[0;34m*\u001b[0m\u001b[0mpts\u001b[0m\u001b[0;34m)\u001b[0m\u001b[0;34m.\u001b[0m\u001b[0mnonzeros\u001b[0m\u001b[0;34m(\u001b[0m\u001b[0;34m)\u001b[0m\u001b[0;34m\u001b[0m\u001b[0;34m\u001b[0m\u001b[0m\n\u001b[0m",
      "\u001b[0;31mAttributeError\u001b[0m: 'Tensor' object has no attribute 'nonzeros'"
     ]
    }
   ],
   "source": [
    "(a.view(-1,1)*pts)"
   ]
  },
  {
   "cell_type": "code",
   "execution_count": 27,
   "metadata": {},
   "outputs": [],
   "source": [
    "indi = a.nonzero()"
   ]
  },
  {
   "cell_type": "code",
   "execution_count": 28,
   "metadata": {},
   "outputs": [
    {
     "data": {
      "text/plain": [
       "tensor([[True],\n",
       "        [True],\n",
       "        [True],\n",
       "        [True],\n",
       "        [True],\n",
       "        [True],\n",
       "        [True],\n",
       "        [True],\n",
       "        [True],\n",
       "        [True],\n",
       "        [True],\n",
       "        [True],\n",
       "        [True],\n",
       "        [True],\n",
       "        [True],\n",
       "        [True],\n",
       "        [True],\n",
       "        [True],\n",
       "        [True],\n",
       "        [True],\n",
       "        [True],\n",
       "        [True],\n",
       "        [True],\n",
       "        [True],\n",
       "        [True],\n",
       "        [True],\n",
       "        [True]])"
      ]
     },
     "execution_count": 28,
     "metadata": {},
     "output_type": "execute_result"
    }
   ],
   "source": [
    "a[indi]"
   ]
  },
  {
   "cell_type": "code",
   "execution_count": 56,
   "metadata": {},
   "outputs": [
    {
     "data": {
      "text/plain": [
       "torch.Size([540, 2])"
      ]
     },
     "execution_count": 56,
     "metadata": {},
     "output_type": "execute_result"
    }
   ],
   "source": [
    "boundary0.silent_module.manifold.gd.shape"
   ]
  },
  {
   "cell_type": "code",
   "execution_count": 8,
   "metadata": {},
   "outputs": [
    {
     "ename": "SyntaxError",
     "evalue": "invalid syntax (<ipython-input-8-1b1121d61961>, line 7)",
     "output_type": "error",
     "traceback": [
      "\u001b[0;36m  File \u001b[0;32m\"<ipython-input-8-1b1121d61961>\"\u001b[0;36m, line \u001b[0;32m7\u001b[0m\n\u001b[0;31m    module0 =\u001b[0m\n\u001b[0m              ^\u001b[0m\n\u001b[0;31mSyntaxError\u001b[0m\u001b[0;31m:\u001b[0m invalid syntax\n"
     ]
    }
   ],
   "source": [
    "\n",
    "module0 = \n",
    "module1 = \n",
    "module_bg = \n",
    "\n",
    "#we need attachment terms which take into account the segmentation\n",
    "attach0 = dm.Attachment.EuclideanPointwiseDistanceAttachment_mask()\n",
    "attach1 = dm.Attachment.EuclideanPointwiseDistanceAttachment_mask()\n",
    "attachBg = dm.Attachment.EuclideanPointwiseDistanceAttachment_mask()\n",
    "\n",
    "shoot_solver = 'torch_euler'\n",
    "shoot_it = 10\n",
    "\n",
    "compound_man = dm.MultiShape.MultishapeCompoundManifold.MultishapeCompoundManifold(\n",
    "    [dm.Manifolds.CompoundManifold([source_deformable.silent_module.manifold.clone(requires_grad=True), module0.manifold.clone(requires_grad=True), boundary0.silent_module.manifold.clone(requires_grad=True)]), \n",
    "     dm.Manifolds.CompoundManifold([source_deformable.silent_module.manifold.clone(requires_grad=True), module1.manifold.clone(requires_grad=True), boundary1.silent_module.manifold.clone(requires_grad=True)]), \n",
    "     dm.Manifolds.CompoundManifold([source_deformable.silent_module.manifold.clone(requires_grad=True), module_bg.manifold.clone(requires_grad=True), [boundary0.silent_module.manifold.clone(requires_grad=True), boundary1.silent_module.manifold.clone(requires_grad=True)]])])\n"
   ]
  },
  {
   "cell_type": "code",
   "execution_count": 41,
   "metadata": {
    "scrolled": true
   },
   "outputs": [],
   "source": [
    "a = source -target\n",
    "a = torch.mul(a, a)"
   ]
  },
  {
   "cell_type": "code",
   "execution_count": 42,
   "metadata": {},
   "outputs": [
    {
     "data": {
      "text/plain": [
       "tensor([[    0.0000,     0.0000,     0.0000,  ...,     0.0000,     0.0000,\n",
       "             0.0000],\n",
       "        [    0.0000, 52430.5123, 52430.5123,  ..., 52430.5123, 52430.5123,\n",
       "             0.0000],\n",
       "        [    0.0000, 52430.5123,     0.0000,  ...,     0.0000, 52430.5123,\n",
       "             0.0000],\n",
       "        ...,\n",
       "        [    0.0000, 52430.5123,     0.0000,  ...,     0.0000, 52430.5123,\n",
       "             0.0000],\n",
       "        [    0.0000, 52430.5123, 52430.5123,  ..., 52430.5123, 52430.5123,\n",
       "             0.0000],\n",
       "        [    0.0000,     0.0000,     0.0000,  ...,     0.0000,     0.0000,\n",
       "             0.0000]])"
      ]
     },
     "execution_count": 42,
     "metadata": {},
     "output_type": "execute_result"
    }
   ],
   "source": [
    "a"
   ]
  },
  {
   "cell_type": "code",
   "execution_count": 31,
   "metadata": {},
   "outputs": [
    {
     "data": {
      "text/plain": [
       "(torch.Size([400, 400]), torch.Size([]))"
      ]
     },
     "execution_count": 31,
     "metadata": {},
     "output_type": "execute_result"
    }
   ],
   "source": [
    "source.shape, a.shape"
   ]
  },
  {
   "cell_type": "code",
   "execution_count": null,
   "metadata": {},
   "outputs": [],
   "source": [
    "_, ind_nearest = torch.topk(normdiff, k=2, dim=1, largest=False)"
   ]
  },
  {
   "cell_type": "code",
   "execution_count": null,
   "metadata": {},
   "outputs": [],
   "source": []
  },
  {
   "cell_type": "code",
   "execution_count": 102,
   "metadata": {},
   "outputs": [],
   "source": [
    "a = torch.randn([20, 2])\n",
    "asq = a.unsqueeze(0).transpose(1,2)\n",
    "b = torch.randn([4, 2])"
   ]
  },
  {
   "cell_type": "code",
   "execution_count": 103,
   "metadata": {},
   "outputs": [
    {
     "data": {
      "text/plain": [
       "(-1.385257852746902,\n",
       " 1.4071639615413092,\n",
       " -1.5860953949811232,\n",
       " 2.135042526115916)"
      ]
     },
     "execution_count": 103,
     "metadata": {},
     "output_type": "execute_result"
    },
    {
     "data": {
      "image/png": "[encoded data removed]",
      "text/plain": [
       "<Figure size 432x288 with 1 Axes>"
      ]
     },
     "metadata": {},
     "output_type": "display_data"
    }
   ],
   "source": [
    "plt.plot(a[:,0], a[:,1], 'xb')\n",
    "plt.plot(b[:,0], b[:,1], 'xr')\n",
    "plt.axis('equal')"
   ]
  },
  {
   "cell_type": "code",
   "execution_count": 104,
   "metadata": {},
   "outputs": [],
   "source": [
    "normdiff = torch.sum( (asq -b.unsqueeze(2))**2, dim=1)"
   ]
  },
  {
   "cell_type": "code",
   "execution_count": 105,
   "metadata": {},
   "outputs": [
    {
     "data": {
      "text/plain": [
       "torch.Size([4, 20])"
      ]
     },
     "execution_count": 105,
     "metadata": {},
     "output_type": "execute_result"
    }
   ],
   "source": [
    "normdiff.shape"
   ]
  },
  {
   "cell_type": "code",
   "execution_count": 106,
   "metadata": {},
   "outputs": [],
   "source": [
    "_, ind_nearest = torch.topk(normdiff, k=2, dim=1, largest=False)"
   ]
  },
  {
   "cell_type": "code",
   "execution_count": 107,
   "metadata": {},
   "outputs": [
    {
     "data": {
      "text/plain": [
       "tensor([[ 7, 14],\n",
       "        [15,  3],\n",
       "        [ 4,  7],\n",
       "        [ 1, 11]])"
      ]
     },
     "execution_count": 107,
     "metadata": {},
     "output_type": "execute_result"
    }
   ],
   "source": [
    "ind_nearest[:,]"
   ]
  },
  {
   "cell_type": "code",
   "execution_count": 108,
   "metadata": {},
   "outputs": [],
   "source": [
    "diff_nearest = a[ind_nearest[:,1]] - a[ind_nearest[:,0]]\n",
    "diff_pts = a[ind_nearest[:,0]] - b"
   ]
  },
  {
   "cell_type": "code",
   "execution_count": 144,
   "metadata": {},
   "outputs": [],
   "source": [
    "ps = torch.sum(diff_nearest * diff_pts, dim=1)\n",
    "no = torch.sum(diff_nearest * diff_nearest, dim=1)\n",
    "\n",
    "ps.shape\n",
    "\n",
    "t = - ps/no\n",
    "t = t.unsqueeze(1)\n",
    "\n",
    "proj = a[ind_nearest[:,0]] + t*diff_nearest"
   ]
  },
  {
   "cell_type": "code",
   "execution_count": 149,
   "metadata": {},
   "outputs": [
    {
     "data": {
      "text/plain": [
       "(-1.385257852746902,\n",
       " 1.4071639615413092,\n",
       " -1.5860953949811232,\n",
       " 2.135042526115916)"
      ]
     },
     "execution_count": 149,
     "metadata": {},
     "output_type": "execute_result"
    },
    {
     "data": {
      "image/png": "[encoded data removed]",
      "text/plain": [
       "<Figure size 432x288 with 1 Axes>"
      ]
     },
     "metadata": {},
     "output_type": "display_data"
    }
   ],
   "source": [
    "ind = 1\n",
    "plt.plot(a[:,0], a[:,1], '.b')\n",
    "plt.plot(a[ind_nearest[ind,0],0], a[ind_nearest[ind,0],1], 'xb')\n",
    "plt.plot(a[ind_nearest[ind,1],0], a[ind_nearest[ind,1],1], 'xb')\n",
    "\n",
    "plt.plot(b[ind,0], b[ind,1], 'xr')\n",
    "ind\n",
    "plt.plot(proj[ind,0], proj[ind,1], 'xg')\n",
    "plt.axis('equal')"
   ]
  },
  {
   "cell_type": "code",
   "execution_count": 46,
   "metadata": {},
   "outputs": [
    {
     "ename": "IndexError",
     "evalue": "index 3 is out of bounds for dimension 0 with size 3",
     "output_type": "error",
     "traceback": [
      "\u001b[0;31m---------------------------------------------------------------------------\u001b[0m",
      "\u001b[0;31mIndexError\u001b[0m                                Traceback (most recent call last)",
      "\u001b[0;32m<ipython-input-46-f89b84542074>\u001b[0m in \u001b[0;36m<module>\u001b[0;34m()\u001b[0m\n\u001b[0;32m----> 1\u001b[0;31m \u001b[0ma\u001b[0m\u001b[0;34m[\u001b[0m\u001b[0mind_nearest\u001b[0m\u001b[0;34m[\u001b[0m\u001b[0;34m:\u001b[0m\u001b[0;34m,\u001b[0m\u001b[0;36m0\u001b[0m\u001b[0;34m]\u001b[0m\u001b[0;34m,\u001b[0m\u001b[0;36m0\u001b[0m\u001b[0;34m]\u001b[0m\u001b[0;34m\u001b[0m\u001b[0;34m\u001b[0m\u001b[0m\n\u001b[0m",
      "\u001b[0;31mIndexError\u001b[0m: index 3 is out of bounds for dimension 0 with size 3"
     ]
    }
   ],
   "source": [
    "a[ind_nearest[:,0],0]"
   ]
  },
  {
   "cell_type": "code",
   "execution_count": null,
   "metadata": {},
   "outputs": [],
   "source": []
  },
  {
   "cell_type": "code",
   "execution_count": null,
   "metadata": {},
   "outputs": [],
   "source": []
  }
 ],
 "metadata": {
  "kernelspec": {
   "display_name": "Python 3",
   "language": "python",
   "name": "python3"
  },
  "language_info": {
   "codemirror_mode": {
    "name": "ipython",
    "version": 3
   },
   "file_extension": ".py",
   "mimetype": "text/x-python",
   "name": "python",
   "nbconvert_exporter": "python",
   "pygments_lexer": "ipython3",
   "version": "3.6.9"
  },
  "name": "ImageMatching_Multishape.ipynb"
 },
 "nbformat": 4,
 "nbformat_minor": 2
}
