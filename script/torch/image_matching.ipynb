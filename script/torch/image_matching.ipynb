{
 "cells": [
  {
   "cell_type": "code",
   "execution_count": null,
   "metadata": {
    "collapsed": false
   },
   "outputs": [],
   "source": [
    "%load_ext autoreload\n",
    "%autoreload 2\n",
    "\n",
    "import sys\n",
    "import copy\n",
    "import math\n",
    "import pickle\n",
    "\n",
    "sys.path.append(\"../../\")\n",
    "\n",
    "import numpy as np\n",
    "import torch\n",
    "import matplotlib.pyplot as plt\n",
    "\n",
    "import implicitmodules.torch as dm\n",
    "\n",
    "torch.set_default_tensor_type(torch.FloatTensor)\n",
    "\n",
    "dm.Utilities.set_compute_backend('torch')\n",
    "device = 'cpu'"
   ]
  },
  {
   "cell_type": "code",
   "execution_count": null,
   "metadata": {
    "collapsed": false
   },
   "outputs": [],
   "source": [
    "source_image = dm.Utilities.load_greyscale_image(\"/home/leander/diffeo/implicitmodules/data/images/heart_a.png\")\n",
    "target_image = dm.Utilities.load_greyscale_image(\"/home/leander/diffeo/implicitmodules/data/images/heart_b.png\")"
   ]
  },
  {
   "cell_type": "code",
   "execution_count": null,
   "metadata": {
    "collapsed": false
   },
   "outputs": [],
   "source": [
    "\n",
    "%matplotlib qt5\n",
    "plt.subplot(1, 2, 1)\n",
    "plt.imshow(source_image)\n",
    "\n",
    "plt.subplot(1, 2, 2)\n",
    "plt.imshow(target_image)\n",
    "\n",
    "plt.show()"
   ]
  },
  {
   "cell_type": "code",
   "execution_count": null,
   "metadata": {
    "collapsed": false
   },
   "outputs": [],
   "source": [
    "aabb = dm.Utilities.AABB(0., 1., 0., 1.)\n",
    "\n",
    "# Fill the unit square\n",
    "points_count = 40\n",
    "translation_pts = aabb.fill_uniform_density(points_count)\n",
    "sigma_translation = 3./points_count\n",
    "\n",
    "translation = dm.DeformationModules.ImplicitModule0(2, translation_pts.shape[0], sigma_translation, gd=translation_pts.to(device=device).requires_grad_())"
   ]
  },
  {
   "cell_type": "code",
   "execution_count": null,
   "metadata": {
    "collapsed": false
   },
   "outputs": [],
   "source": [
    "model = dm.Models.ModelImageRegistration(source_image, [translation], dm.Attachment.EuclideanPointwiseDistanceAttachment(), lam=1.)"
   ]
  },
  {
   "cell_type": "code",
   "execution_count": null,
   "metadata": {
    "collapsed": false
   },
   "outputs": [],
   "source": [
    "fitter = dm.Models.ModelFittingGradientDescent(model, 1e-2, verbose=True)\n",
    "fitter.fit(target_image, 10)"
   ]
  },
  {
   "cell_type": "code",
   "execution_count": null,
   "metadata": {
    "collapsed": false
   },
   "outputs": [],
   "source": [
    "\n",
    "\n",
    "\n",
    "\n",
    "\n"
   ]
  }
 ],
 "metadata": {
  "kernelspec": {
   "argv": [
    "python",
    "-m",
    "ipykernel_launcher",
    "-f",
    "{connection_file}"
   ],
   "display_name": "Python 3",
   "env": null,
   "interrupt_mode": "signal",
   "language": "python",
   "metadata": null,
   "name": "python3"
  },
  "name": "Untitled2.ipynb"
 },
 "nbformat": 4,
 "nbformat_minor": 4
}
