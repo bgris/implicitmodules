{
 "cells": [
  {
   "cell_type": "code",
   "execution_count": null,
   "metadata": {
    "autoscroll": false,
    "collapsed": false,
    "ein.hycell": false,
    "ein.tags": "worksheet-0",
    "slideshow": {
     "slide_type": "-"
    }
   },
   "outputs": [],
   "source": [
    "%reset\n",
    "%load_ext autoreload\n",
    "%autoreload 2\n",
    "\n",
    "import time\n",
    "\n",
    "# The deformation module library is not automatically installed yet, we need to add its path manually\n",
    "import sys\n",
    "sys.path.append(\"../\")\n",
    "\n",
    "import numpy as np\n",
    "import matplotlib.pyplot as plt\n",
    "import torch\n",
    "import geomloss\n",
    "\n",
    "import defmod as dm\n",
    "\n",
    "torch.set_default_tensor_type(torch.DoubleTensor)"
   ]
  },
  {
   "cell_type": "code",
   "execution_count": null,
   "metadata": {
    "autoscroll": false,
    "collapsed": false,
    "ein.hycell": false,
    "ein.tags": "worksheet-0",
    "slideshow": {
     "slide_type": "-"
    }
   },
   "outputs": [],
   "source": [
    "source_image = dm.sampling.load_greyscale_image(\"../data/heart_a.png\")\n",
    "target_image = dm.sampling.load_greyscale_image(\"../data/heart_b.png\")"
   ]
  },
  {
   "cell_type": "code",
   "execution_count": null,
   "metadata": {
    "autoscroll": false,
    "collapsed": false,
    "ein.hycell": false,
    "ein.tags": "worksheet-0",
    "slideshow": {
     "slide_type": "-"
    }
   },
   "outputs": [],
   "source": [
    "aabb = dm.usefulfunctions.AABB(0., source_image.shape[0], 0., source_image.shape[1])\n",
    "sigma = 7.\n",
    "step = 0.5*sigma\n",
    "x, y = torch.meshgrid([torch.arange(aabb.xmin, aabb.xmax, step=step), torch.arange(aabb.ymin, aabb.ymax, step=step)])\n",
    "\n",
    "gd = dm.usefulfunctions.grid2vec(x, y).contiguous()\n",
    "\n",
    "landmarks = dm.manifold.Landmarks(2, gd.shape[0], gd=gd.view(-1))\n",
    "\n",
    "trans = dm.implicitmodules.ImplicitModule0(landmarks, sigma, 0.)"
   ]
  },
  {
   "cell_type": "code",
   "execution_count": null,
   "metadata": {
    "autoscroll": false,
    "collapsed": false,
    "ein.hycell": false,
    "ein.tags": "worksheet-0",
    "slideshow": {
     "slide_type": "-"
    }
   },
   "outputs": [],
   "source": [
    "plt.imshow(source_image)\n",
    "plt.scatter(gd.view(-1, 2)[:, 0].numpy(), gd.view(-1, 2)[:, 1].numpy())\n",
    "\n",
    "plt.show()"
   ]
  },
  {
   "cell_type": "code",
   "execution_count": null,
   "metadata": {
    "autoscroll": false,
    "collapsed": false,
    "ein.hycell": false,
    "ein.tags": "worksheet-0",
    "slideshow": {
     "slide_type": "-"
    }
   },
   "outputs": [],
   "source": [
    "import numpy as np\n",
    "import scipy.ndimage.filters as fi\n",
    "def gkern2(kernlen=21, nsig=3):\n",
    "    \"\"\"Returns a 2D Gaussian kernel array.\"\"\"\n",
    "\n",
    "    # create nxn zeros\n",
    "    inp = np.zeros((kernlen, kernlen))\n",
    "    # set element at the middle to one, a dirac delta\n",
    "    inp[kernlen//2, kernlen//2] = 1\n",
    "    # gaussian-smooth the dirac, resulting in a gaussian filter mask\n",
    "    return fi.gaussian_filter(inp, nsig)\n",
    "\n",
    "def gaussian_filtering(img):\n",
    "    kr = 50\n",
    "    kd = kr*2+1\n",
    "    sigma = 10\n",
    "    frame_res = img.shape\n",
    "    kernel = torch.tensor(gkern2(kd, sigma).astype(np.float32)).reshape(1, 1, kd, kd)\n",
    "    return torch.nn.functional.conv2d(img.reshape(1, 1, frame_res[0], frame_res[1]), kernel, stride=1, padding=kr).reshape(frame_res)\n"
   ]
  },
  {
   "cell_type": "code",
   "execution_count": null,
   "metadata": {
    "autoscroll": false,
    "collapsed": false,
    "ein.hycell": false,
    "ein.tags": "worksheet-0",
    "slideshow": {
     "slide_type": "-"
    }
   },
   "outputs": [],
   "source": [
    "my_model = dm.models.ModelCompoundImageRegistration(source_image, [trans], [True], geomloss.SamplesLoss(\"sinkhorn\", p=1))\n",
    "start_time = time.clock()\n",
    "costs = my_model.fit(target_image, lr=2e-5, l=1000., max_iter=500, log_interval=1)\n",
    "print(\"Elapsed time:\", time.clock() - start_time)"
   ]
  },
  {
   "cell_type": "code",
   "execution_count": null,
   "metadata": {
    "autoscroll": false,
    "collapsed": false,
    "ein.hycell": false,
    "ein.tags": "worksheet-0",
    "slideshow": {
     "slide_type": "-"
    }
   },
   "outputs": [],
   "source": [
    "it = 5\n",
    "sampled_out = my_model()\n",
    "grid_x, grid_y = my_model.compute_deformation_grid(torch.tensor([0., 0.]), torch.tensor([32., 32.]), torch.Size([16, 16]), it=it, intermediate=True)\n",
    "\n",
    "%matplotlib qt5\n",
    "plt.subplot(1, 3, 1)\n",
    "plt.imshow(source_image, cmap='gray')\n",
    "ax = plt.subplot(1, 3, 2)\n",
    "plt.imshow(sampled_out.detach().numpy(), cmap='gray')\n",
    "dm.usefulfunctions.plot_grid(ax, grid_x.numpy(), grid_y.numpy(), color='C0')\n",
    "plt.axis([0., sampled_out.shape[0]-1, sampled_out.shape[1]-1, 0.])\n",
    "plt.subplot(1, 3, 3)\n",
    "plt.imshow(target_image, cmap='gray')\n",
    "\n",
    "plt.show()"
   ]
  },
  {
   "cell_type": "code",
   "execution_count": null,
   "metadata": {
    "autoscroll": false,
    "collapsed": false,
    "ein.hycell": false,
    "ein.tags": "worksheet-0",
    "slideshow": {
     "slide_type": "-"
    }
   },
   "outputs": [],
   "source": [
    "plt.plot(range(0, len(costs)), costs)\n",
    "plt.show()"
   ]
  }
 ],
 "metadata": {
  "kernelspec": {
   "display_name": "Python 3",
   "name": "python3"
  },
  "name": "image_matching.ipynb"
 },
 "nbformat": 4,
 "nbformat_minor": 2
}
