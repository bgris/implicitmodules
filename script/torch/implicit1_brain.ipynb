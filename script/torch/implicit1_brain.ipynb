{
 "cells": [
  {
   "cell_type": "code",
   "execution_count": 1,
   "metadata": {
    "collapsed": false
   },
   "outputs": [],
   "source": [
    "%load_ext autoreload\n",
    "%autoreload 2\n",
    "\n",
    "import sys\n",
    "import math\n",
    "import pickle\n",
    "import random\n",
    "\n",
    "import torch\n",
    "import matplotlib.pyplot as plt\n",
    "from mpl_toolkits.mplot3d import Axes3D\n",
    "import pygmsh\n",
    "import meshio\n",
    "import pymesh\n",
    "\n",
    "sys.path.append(\"../../\")\n",
    "\n",
    "import implicitmodules.torch as dm\n",
    "\n",
    "dm.Utilities.set_compute_backend('torch')"
   ]
  },
  {
   "cell_type": "code",
   "execution_count": 2,
   "metadata": {
    "collapsed": false
   },
   "outputs": [],
   "source": [
    "data_folder = \"../../../../data/ferret/simple/\"\n",
    "source_mesh = meshio.read(data_folder+\"F06_P4_simple.stl\")\n",
    "target_mesh = meshio.read(data_folder+\"F10_P8_simple.stl\")\n",
    "\n",
    "source_points = torch.tensor(source_mesh.points, dtype=torch.get_default_dtype())\n",
    "target_points = torch.tensor(target_mesh.points, dtype=torch.get_default_dtype())\n",
    "source_triangles = torch.tensor(source_mesh.cells_dict['triangle'], dtype=torch.long)\n",
    "target_triangles = torch.tensor(target_mesh.cells_dict['triangle'], dtype=torch.long)"
   ]
  },
  {
   "cell_type": "code",
   "execution_count": 3,
   "metadata": {
    "collapsed": false
   },
   "outputs": [],
   "source": [
    "source_points = source_points - torch.mean(source_points, dim=0)"
   ]
  },
  {
   "cell_type": "code",
   "execution_count": null,
   "metadata": {
    "collapsed": false
   },
   "outputs": [],
   "source": [
    "%matplotlib qt5\n",
    "ax = plt.subplot(projection='3d', proj_type='ortho')\n",
    "ax.plot_trisurf(source_points[:, 0].numpy(), source_points[:, 1].numpy(), source_points[:, 2].numpy(), triangles=source_triangles, color=(0., 1., 0., 0.2))\n",
    "dm.Utilities.set_aspect_equal_3d(ax)\n",
    "ax.plot_trisurf(target_points[:, 0].numpy(), target_points[:, 1].numpy(), target_points[:, 2].numpy(), triangles=target_triangles, color=(1., 0., 0., 1.))\n",
    "dm.Utilities.set_aspect_equal_3d(ax)\n",
    "plt.show()"
   ]
  },
  {
   "cell_type": "code",
   "execution_count": 4,
   "metadata": {
    "collapsed": false
   },
   "outputs": [],
   "source": [
    "area = lambda x, shape_ext, shape_int: dm.Utilities.area_convex_shape(x, shape=shape_ext) & ~dm.Utilities.area_convex_shape(x, shape=shape_int)"
   ]
  },
  {
   "cell_type": "code",
   "execution_count": 5,
   "metadata": {
    "collapsed": false
   },
   "outputs": [
    {
     "name": "stdout",
     "output_type": "stream",
     "text": [
      "267\n"
     ]
    }
   ],
   "source": [
    "aabb_source = dm.Utilities.AABB.build_from_points(source_points)\n",
    "implicit1_density = 0.6\n",
    "\n",
    "implicit1_points = dm.Utilities.fill_area_uniform_density(area, aabb_source, implicit1_density, shape_ext=1.1*source_points, shape_int=0.75*source_points)\n",
    "implicit1_r = torch.empty(implicit1_points.shape[0], 3, 3)\n",
    "implicit1_c = torch.empty(implicit1_points.shape[0], 3, 1)\n",
    "\n",
    "growth_constants = torch.ones(implicit1_points.shape[0], 2, 1, requires_grad=True)\n",
    "angles = torch.zeros(implicit1_points.shape[0], 3, requires_grad=True)\n",
    "\n",
    "print(implicit1_points.shape[0])"
   ]
  },
  {
   "cell_type": "code",
   "execution_count": 6,
   "metadata": {
    "collapsed": false
   },
   "outputs": [],
   "source": [
    "%matplotlib qt5\n",
    "ax = plt.subplot(projection='3d', proj_type='ortho')\n",
    "ax.plot_trisurf(source_points[:, 0].numpy(), source_points[:, 1].numpy(), source_points[:, 2].numpy(), triangles=source_triangles, color=(0., 1., 0., 0.3))\n",
    "plt.plot(implicit1_points[:, 0], implicit1_points[:, 1], implicit1_points[:, 2], '.')\n",
    "dm.Utilities.set_aspect_equal_3d(ax)\n",
    "plt.show()"
   ]
  },
  {
   "cell_type": "code",
   "execution_count": 6,
   "metadata": {
    "collapsed": false
   },
   "outputs": [
    {
     "name": "stdout",
     "output_type": "stream",
     "text": [
      "1.6868653306034984\n"
     ]
    }
   ],
   "source": [
    "sigma = 2.*implicit1_density**(1/3)\n",
    "print(sigma)\n",
    "\n",
    "global_translation = dm.DeformationModules.GlobalTranslation(3)\n",
    "\n",
    "implicit1 = dm.DeformationModules.ImplicitModule1(3, implicit1_points.shape[0], sigma, implicit1_c, nu=0.1, gd=(implicit1_points, implicit1_r))"
   ]
  },
  {
   "cell_type": "code",
   "execution_count": 7,
   "metadata": {
    "collapsed": false
   },
   "outputs": [],
   "source": [
    "def compute_basis(angles):\n",
    "    rot_x = dm.Utilities.rot3d_x_vec(angles[:, 0])\n",
    "    rot_y = dm.Utilities.rot3d_y_vec(angles[:, 1])\n",
    "    rot_z = dm.Utilities.rot3d_z_vec(angles[:, 2])\n",
    "    return torch.einsum('nik, nkl, nlj->nij', rot_z, rot_y, rot_x)"
   ]
  },
  {
   "cell_type": "code",
   "execution_count": 8,
   "metadata": {
    "collapsed": false
   },
   "outputs": [],
   "source": [
    "def precompute(init_manifold, modules, parameters):\n",
    "    init_manifold[2].gd = (init_manifold[2].gd[0], compute_basis(parameters['growth']['params'][0]))\n",
    "\n",
    "    modules[2].C = torch.cat([parameters['growth']['params'][1], torch.zeros(implicit1_points.shape[0], 1, 1)], dim=1)"
   ]
  },
  {
   "cell_type": "code",
   "execution_count": 9,
   "metadata": {
    "collapsed": false
   },
   "outputs": [],
   "source": [
    "deformable_source = dm.Models.DeformableMesh(source_points, source_triangles)\n",
    "deformable_target = dm.Models.DeformableMesh(target_points, target_triangles)\n",
    "\n",
    "sigmas_varifold = [0.5, 3.]\n",
    "attachment = dm.Attachment.VarifoldAttachment(3, sigmas_varifold)\n",
    "\n",
    "model = dm.Models.RegistrationModel(deformable_source, [global_translation, implicit1], [attachment], lam=10., precompute_callback=precompute, other_parameters={'growth': {'params': [angles, growth_constants]}})"
   ]
  },
  {
   "cell_type": "code",
   "execution_count": 10,
   "metadata": {
    "collapsed": false
   },
   "outputs": [
    {
     "name": "stdout",
     "output_type": "stream",
     "text": [
      "Starting optimization with method torch LBFGS\n",
      "Initial cost={'deformation': tensor(0.), 'attach': tensor(215398.5625)}\n"
     ]
    },
    {
     "name": "stdout",
     "output_type": "stream",
     "text": [
      "================================================================================\n",
      "Time: 13.982005583005957\n",
      "Iteration: 0\n",
      "Costs\n",
      "deformation=0.0\n",
      "attach=215398.5625\n",
      "Total cost=215398.5625\n"
     ]
    },
    {
     "name": "stdout",
     "output_type": "stream",
     "text": [
      "================================================================================\n",
      "Time: 27.813811864936724\n",
      "Iteration: 1\n",
      "Costs\n",
      "deformation=0.0\n",
      "attach=215398.5625\n",
      "Total cost=215398.5625\n",
      "================================================================================\n",
      "Optimisation process exited with message: Convergence achieved.\n",
      "Final cost=215398.5625\n",
      "Model evaluation count=2\n",
      "Time elapsed = 27.814029834931716\n"
     ]
    }
   ],
   "source": [
    "shoot_solver = 'euler'\n",
    "shoot_it = 10\n",
    "\n",
    "costs = {}\n",
    "fitter = dm.Models.Fitter(model, optimizer='torch_lbfgs')\n",
    "\n",
    "fitter.fit(deformable_target, 50, costs=costs, options={'shoot_solver': shoot_solver, 'shoot_it': shoot_it, 'line_search_fn': 'strong_wolfe'})"
   ]
  },
  {
   "cell_type": "code",
   "execution_count": null,
   "metadata": {
    "collapsed": false
   },
   "outputs": [],
   "source": [
    "import time\n",
    "\n",
    "intermediates = {}\n",
    "start = time.perf_counter()\n",
    "with torch.autograd.no_grad():\n",
    "    deformed = model.compute_deformed(shoot_solver, shoot_it, intermediates=intermediates)[0][0].detach()\n",
    "print(\"Elapsed={elapsed}\".format(elapsed=time.perf_counter()-start))\n",
    "\n",
    "basis = compute_basis(angles.detach())"
   ]
  },
  {
   "cell_type": "code",
   "execution_count": null,
   "metadata": {
    "collapsed": false
   },
   "outputs": [],
   "source": [
    "print(growth_constants)\n",
    "print(angles)"
   ]
  },
  {
   "cell_type": "code",
   "execution_count": null,
   "metadata": {
    "collapsed": false
   },
   "outputs": [],
   "source": [
    "meshio.write_points_cells(\"deformed_brain.ply\", deformed, [('triangle', source_triangles)])"
   ]
  }
 ],
 "metadata": {
  "kernelspec": {
   "argv": [
    "python",
    "-m",
    "ipykernel_launcher",
    "-f",
    "{connection_file}"
   ],
   "display_name": "Python 3",
   "env": null,
   "interrupt_mode": "signal",
   "language": "python",
   "metadata": null,
   "name": "python3"
  },
  "name": "implicit1_brain.ipynb"
 },
 "nbformat": 4,
 "nbformat_minor": 4
}
