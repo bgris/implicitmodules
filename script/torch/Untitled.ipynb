{
 "cells": [
  {
   "cell_type": "code",
   "execution_count": 1,
   "metadata": {},
   "outputs": [],
   "source": [
    "\"\"\"\n",
    "Learning growth constants model\n",
    "===============================\n",
    "\n",
    "In this example we will learn a growth constants model from a leaf that follows a\n",
    "basipetal growth pattern.\n",
    "\n",
    "\"\"\"\n",
    "\n",
    "###############################################################################\n",
    "# We first import what we need.\n",
    "#\n",
    "\n",
    "import sys\n",
    "sys.path.append(\"../../\")\n",
    "\n",
    "import math\n",
    "import pickle\n",
    "import copy\n",
    "\n",
    "import numpy as np\n",
    "import torch\n",
    "import matplotlib.pyplot as plt\n",
    "\n",
    "import implicitmodules.torch as dm\n",
    "\n",
    "###############################################################################\n",
    "# We load the data, rescale it and zero it.\n",
    "#\n",
    "# In order to get more information, we also load the points.\n",
    "#"
   ]
  },
  {
   "cell_type": "code",
   "execution_count": 2,
   "metadata": {},
   "outputs": [],
   "source": [
    "data = pickle.load(open(\"../../data/basipetal.pkl\", 'rb'))\n",
    "\n",
    "height_source = 38.\n",
    "height_target = 100.\n",
    "\n",
    "dots_source = torch.tensor(data['source_d'], dtype=torch.get_default_dtype())\n",
    "dots_target = torch.tensor(data['target_d'], dtype=torch.get_default_dtype())\n",
    "shape_source = torch.tensor(data['source_c'], dtype=torch.get_default_dtype())\n",
    "shape_target = torch.tensor(data['target_c'], dtype=torch.get_default_dtype())\n",
    "\n",
    "smin, smax = torch.min(shape_source[:, 1]), torch.max(shape_source[:, 1])\n",
    "sscale = height_source / (smax - smin)\n",
    "dots_source[:, 1] = - sscale * (dots_source[:, 1] - smax)\n",
    "dots_source[:, 0] = sscale * (dots_source[:, 0] - torch.mean(shape_source[:, 0]))\n",
    "shape_source[:, 1] = - sscale * (shape_source[:, 1] - smax)\n",
    "shape_source[:, 0] = sscale * (shape_source[:, 0] - torch.mean(shape_source[:, 0]))\n",
    "\n",
    "tmin, tmax = torch.min(shape_target[:, 1]), torch.max(shape_target[:, 1])\n",
    "tscale = height_target / (tmax - tmin)\n",
    "dots_target[:, 1] = - tscale * (dots_target[:, 1] - tmax)\n",
    "dots_target[:, 0] = tscale * (dots_target[:, 0] - torch.mean(shape_target[:, 0]))\n",
    "shape_target[:, 1] = - tscale * (shape_target[:, 1] - tmax)\n",
    "shape_target[:, 0] = tscale * (shape_target[:, 0] - torch.mean(shape_target[:, 0]))\n",
    "\n",
    "# We only have dot data for one side of the leaf\n",
    "shape_source = shape_source[shape_source[:, 0] <= 0]\n",
    "shape_target = shape_target[shape_target[:, 0] <= 0]"
   ]
  },
  {
   "cell_type": "code",
   "execution_count": 3,
   "metadata": {},
   "outputs": [],
   "source": [
    "###############################################################################\n",
    "# We now sample the points that will be used by the deformation modules.\n",
    "#\n",
    "\n",
    "# Build AABB around the source shape and uniformly sample points for the implicit\n",
    "# module of order 1\n",
    "aabb_source = dm.Utilities.AABB.build_from_points(shape_source)\n",
    "points_growth = dm.Utilities.fill_area_uniform_density(dm.Utilities.area_shape, aabb_source, 0.25, shape=shape_source)\n",
    "\n",
    "rot_growth = torch.stack([dm.Utilities.rot2d(0.)]*points_growth.shape[0], axis=0)"
   ]
  },
  {
   "cell_type": "code",
   "execution_count": 4,
   "metadata": {},
   "outputs": [
    {
     "data": {
      "image/png": "[encoded data removed]",
      "text/plain": [
       "<Figure size 432x288 with 2 Axes>"
      ]
     },
     "metadata": {},
     "output_type": "display_data"
    }
   ],
   "source": [
    "###############################################################################\n",
    "# Plot everything.\n",
    "#\n",
    "\n",
    "plt.subplot(1, 2, 1)\n",
    "plt.title(\"Source leaf\")\n",
    "plt.plot(dots_source[:, 0].numpy(), dots_source[:, 1].numpy(), '.', color='black')\n",
    "plt.plot(shape_source[:, 0].numpy(), shape_source[:, 1].numpy(), color='black')\n",
    "plt.plot(points_growth[:, 0].numpy(), points_growth[:, 1].numpy(), 'o', color='blue')\n",
    "plt.axis('equal')\n",
    "\n",
    "plt.subplot(1, 2, 2)\n",
    "plt.title(\"Target leaf\")\n",
    "plt.plot(shape_target[:, 0].numpy(), shape_target[:, 1].numpy(), color='black')\n",
    "plt.plot(dots_target[:, 0].numpy(), dots_target[:, 1].numpy(), '.', color='black')\n",
    "plt.axis('equal')\n",
    "\n",
    "plt.show()"
   ]
  },
  {
   "cell_type": "code",
   "execution_count": 5,
   "metadata": {},
   "outputs": [],
   "source": [
    "###############################################################################\n",
    "# We now build the implicit module that will model the growth.\n",
    "#\n",
    "# Since we will be learning its growth constants, we need to set its\n",
    "# `requires_grad` flag to `True`.\n",
    "#\n",
    "\n",
    "nu = 0.001\n",
    "coeff_growth = 1.\n",
    "scale_growth = 25.\n",
    "\n",
    "global_translation = dm.DeformationModules.GlobalTranslation(2)\n",
    "\n",
    "C = torch.ones(points_growth.shape[0], 2, 1)\n",
    "\n",
    "growth = dm.DeformationModules.ImplicitModule1(\n",
    "    2, points_growth.shape[0], scale_growth, C, coeff=coeff_growth, nu=nu,\n",
    "    gd=(points_growth.clone().requires_grad_(),\n",
    "        rot_growth.clone().requires_grad_()))"
   ]
  },
  {
   "cell_type": "code",
   "execution_count": 6,
   "metadata": {},
   "outputs": [],
   "source": [
    "###############################################################################\n",
    "# Quadratic model for the growing constants.\n",
    "#\n",
    "\n",
    "# Initial parameters of our model\n",
    "abc = torch.zeros(6, 2)\n",
    "abc[0] = torch.ones(2)\n",
    "abc.requires_grad_()\n",
    "\n",
    "# The polynomial model we will try to fit on our deformation constants\n",
    "def pol_order_2(pos, a, b, c, d, e, f):\n",
    "    return a + b*pos[:, 0] + c*pos[:, 1] + d*pos[:, 0]**2 + e*pos[:, 1]**2 + f*pos[:, 0]*pos[:, 1]\n",
    "\n",
    "# Callback called when evaluating the model.\n",
    "# Serves as glue for our model of deformation constants.\n",
    "def callback_compute_c(init_manifold, modules, parameters):\n",
    "    abc = parameters['abc']['params'][0]\n",
    "    a = abc[0].unsqueeze(1)\n",
    "    b = abc[1].unsqueeze(1)\n",
    "    c = abc[2].unsqueeze(1)\n",
    "    d = abc[3].unsqueeze(1)\n",
    "    e = abc[4].unsqueeze(1)\n",
    "    f = abc[5].unsqueeze(1)\n",
    "    modules[3]._ImplicitModule1Base__C = pol_order_2(\n",
    "        init_manifold[3].gd[0], a, b, c, d, e, f).transpose(0, 1).unsqueeze(2)\n"
   ]
  },
  {
   "cell_type": "code",
   "execution_count": 10,
   "metadata": {},
   "outputs": [],
   "source": [
    "deformable_shape_source = dm.Models.DeformablePoints(shape_source)\n",
    "deformable_shape_target = dm.Models.DeformablePoints(shape_target)\n",
    "deformable_dots_source = dm.Models.DeformablePoints(dots_source)\n",
    "deformable_dots_target = dm.Models.DeformablePoints(dots_target)\n"
   ]
  },
  {
   "cell_type": "code",
   "execution_count": 11,
   "metadata": {},
   "outputs": [],
   "source": [
    "###############################################################################\n",
    "# We now define the model. We set the model parameters as an other parameter\n",
    "# so that it also get learned.\n",
    "#\n",
    "\n",
    "model = dm.Models.RegistrationModel([deformable_shape_source, deformable_dots_source], [global_translation, growth], [dm.Attachment.VarifoldAttachment(2, [5., 25, 80.]), dm.Attachment.EuclideanPointwiseDistanceAttachment(50.)], lam=100., other_parameters={'abc': {'params': [abc]}}, precompute_callback=callback_compute_c)"
   ]
  },
  {
   "cell_type": "code",
   "execution_count": 12,
   "metadata": {
    "scrolled": true
   },
   "outputs": [
    {
     "name": "stdout",
     "output_type": "stream",
     "text": [
      "Starting optimization with method torch LBFGS\n",
      "Initial cost={'deformation': tensor(0.), 'attach': tensor(7342079.5000)}\n",
      "================================================================================\n",
      "Time: 32.33587515899853\n",
      "Iteration: 0\n",
      "Costs\n",
      "deformation=24.1639404296875\n",
      "attach=5824583.5\n",
      "Total cost=5824607.66394043\n",
      "================================================================================\n",
      "Time: 66.02242566499626\n",
      "Iteration: 1\n",
      "Costs\n",
      "deformation=26.057186126708984\n",
      "attach=5761745.5\n",
      "Total cost=5761771.557186127\n",
      "================================================================================\n",
      "Time: 99.54343005199917\n",
      "Iteration: 2\n",
      "Costs\n",
      "deformation=31.328594207763672\n",
      "attach=5623719.0\n",
      "Total cost=5623750.328594208\n",
      "================================================================================\n",
      "Time: 129.7662230709975\n",
      "Iteration: 3\n",
      "Costs\n",
      "deformation=37.483177185058594\n",
      "attach=5556098.5\n",
      "Total cost=5556135.983177185\n",
      "================================================================================\n",
      "Time: 164.9554219329948\n",
      "Iteration: 4\n",
      "Costs\n",
      "deformation=162.5858917236328\n",
      "attach=4527046.0\n",
      "Total cost=4527208.585891724\n",
      "================================================================================\n",
      "Time: 195.73396038999635\n",
      "Iteration: 5\n",
      "Costs\n",
      "deformation=13290.9931640625\n",
      "attach=737109.25\n",
      "Total cost=750400.2431640625\n",
      "================================================================================\n",
      "Time: 225.7588554939939\n",
      "Iteration: 6\n",
      "Costs\n",
      "deformation=23505.15234375\n",
      "attach=522839.59375\n",
      "Total cost=546344.74609375\n",
      "================================================================================\n",
      "Time: 261.7832954619953\n",
      "Iteration: 7\n",
      "Costs\n",
      "deformation=19460.158203125\n",
      "attach=216462.453125\n",
      "Total cost=235922.611328125\n",
      "================================================================================\n",
      "Time: 291.1105666469957\n",
      "Iteration: 8\n",
      "Costs\n",
      "deformation=23413.486328125\n",
      "attach=186371.125\n",
      "Total cost=209784.611328125\n",
      "================================================================================\n",
      "Time: 326.97365634799644\n",
      "Iteration: 9\n",
      "Costs\n",
      "deformation=22870.318359375\n",
      "attach=163116.828125\n",
      "Total cost=185987.146484375\n",
      "================================================================================\n",
      "Time: 355.525712730996\n",
      "Iteration: 10\n",
      "Costs\n",
      "deformation=21151.82421875\n",
      "attach=154841.15625\n",
      "Total cost=175992.98046875\n",
      "================================================================================\n",
      "Time: 396.0636850890005\n",
      "Iteration: 11\n",
      "Costs\n",
      "deformation=20560.56640625\n",
      "attach=154140.265625\n",
      "Total cost=174700.83203125\n",
      "================================================================================\n",
      "Time: 406.57898848299374\n",
      "Iteration: 12\n",
      "Costs\n",
      "deformation=20560.56640625\n",
      "attach=154140.265625\n",
      "Total cost=174700.83203125\n",
      "================================================================================\n",
      "Optimisation process exited with message: Convergence achieved.\n",
      "Final cost=174700.83203125\n",
      "Model evaluation count=296\n",
      "Time elapsed = 406.5791990849975\n"
     ]
    }
   ],
   "source": [
    "###############################################################################\n",
    "# Fitting.\n",
    "#\n",
    "\n",
    "shoot_solver = 'euler'\n",
    "shoot_it = 10\n",
    "\n",
    "costs = {}\n",
    "fitter = dm.Models.Fitter(model, optimizer='torch_lbfgs')\n",
    "fitter.fit([deformable_shape_target, deformable_dots_target], 500, costs=costs, options={'shoot_solver': shoot_solver, 'shoot_it': shoot_it, 'line_search_fn': 'strong_wolfe'})\n"
   ]
  },
  {
   "cell_type": "code",
   "execution_count": 16,
   "metadata": {
    "scrolled": true
   },
   "outputs": [
    {
     "data": {
      "image/png": "[encoded data removed]",
      "text/plain": [
       "<Figure size 432x288 with 3 Axes>"
      ]
     },
     "metadata": {},
     "output_type": "display_data"
    }
   ],
   "source": [
    "\n",
    "\n",
    "###############################################################################\n",
    "# Plot matching results.\n",
    "#\n",
    "\n",
    "intermediates = {}\n",
    "model.compute_deformed(shoot_solver, shoot_it, intermediates=intermediates)\n",
    "\n",
    "intermediate_states = intermediates['states']\n",
    "deformed_source = intermediate_states[-1][0].gd\n",
    "deformed_growth = intermediate_states[-1][3].gd[0]\n",
    "deformed_growth_rot = intermediate_states[-1][3].gd[1]\n",
    "\n",
    "aabb_target = dm.Utilities.AABB.build_from_points(shape_target).squared().scale(1.1)\n",
    "\n",
    "plt.subplot(1, 3, 1)\n",
    "plt.title(\"Source\")\n",
    "plt.plot(shape_source[:, 0].numpy(), shape_source[:, 1].numpy(), '-')\n",
    "plt.plot(points_growth[:, 0].numpy(), points_growth[:, 1].numpy(), '.')\n",
    "plt.axis(aabb_target.totuple())\n",
    "\n",
    "plt.subplot(1, 3, 2)\n",
    "plt.title(\"Deformed source\")\n",
    "plt.plot(deformed_source[:, 0], deformed_source[:, 1], '-')\n",
    "plt.plot(deformed_growth[:, 0], deformed_growth[:, 1], '.')\n",
    "plt.axis(aabb_target.totuple())\n",
    "\n",
    "plt.subplot(1, 3, 3)\n",
    "plt.title(\"Deformed source and target\")\n",
    "plt.plot(shape_target[:, 0].numpy(), shape_target[:, 1].numpy(), '-')\n",
    "plt.plot(deformed_source[:, 0], deformed_source[:, 1], '-')\n",
    "plt.axis(aabb_target.totuple())\n",
    "\n",
    "\n",
    "plt.axis('equal')\n",
    "plt.show()\n",
    "\n"
   ]
  },
  {
   "cell_type": "code",
   "execution_count": 15,
   "metadata": {},
   "outputs": [
    {
     "name": "stdout",
     "output_type": "stream",
     "text": [
      "Learned growth constants model parameters:\n",
      "tensor([[ -8.0059,  34.7353],\n",
      "        [ 19.0192, -53.8247],\n",
      "        [ 17.1627,  -7.5977],\n",
      "        [  7.3806, -12.2291],\n",
      "        [  0.0874,   0.4112],\n",
      "        [  2.4811,  -2.3286]])\n"
     ]
    },
    {
     "data": {
      "image/png": "[encoded data removed]",
      "text/plain": [
       "<Figure size 1080x1080 with 1 Axes>"
      ]
     },
     "metadata": {},
     "output_type": "display_data"
    }
   ],
   "source": [
    "\n",
    "###############################################################################\n",
    "# Evaluate and plot learned growth constants. We see more growth at the basis\n",
    "# than at the apex: this is basipetal growth.\n",
    "#\n",
    "\n",
    "learned_abc = abc.detach()\n",
    "learned_C = pol_order_2(model.init_manifold[3].gd[0].detach(),\n",
    "                        learned_abc[0].unsqueeze(1),\n",
    "                        learned_abc[1].unsqueeze(1),\n",
    "                        learned_abc[2].unsqueeze(1),\n",
    "                        learned_abc[3].unsqueeze(1),\n",
    "                        learned_abc[4].unsqueeze(1),\n",
    "                        learned_abc[5].unsqueeze(1)).transpose(0, 1).unsqueeze(2)\n",
    "\n",
    "print(\"Learned growth constants model parameters:\")\n",
    "print(learned_abc)\n",
    "\n",
    "f = plt.figure(figsize=(15,15))\n",
    "ax = f.add_subplot(1,1,1)\n",
    "dm.Utilities.plot_C_arrows(ax, points_growth, learned_C, R=deformed_growth_rot, scale=0.0035, mutation_scale=8.)\n",
    "plt.axis(aabb_source.squared().totuple())\n",
    "plt.show()\n",
    "\n"
   ]
  },
  {
   "cell_type": "code",
   "execution_count": 17,
   "metadata": {},
   "outputs": [],
   "source": [
    "\n",
    "###############################################################################\n",
    "# Now we use the learnt model to fit the whole leaf shape\n",
    "#"
   ]
  },
  {
   "cell_type": "code",
   "execution_count": 18,
   "metadata": {},
   "outputs": [
    {
     "data": {
      "image/png": "[encoded data removed]",
      "text/plain": [
       "<Figure size 432x288 with 2 Axes>"
      ]
     },
     "metadata": {},
     "output_type": "display_data"
    }
   ],
   "source": [
    "\n",
    "data_source = pickle.load(open(\"../../data/leafbasi.pkl\", 'rb'))\n",
    "data_target = pickle.load(open(\"../../data/leafbasit.pkl\", 'rb'))\n",
    "\n",
    "height_source = 38.\n",
    "height_target = 100.\n",
    "\n",
    "source = torch.tensor(data_source[1]).type(torch.get_default_dtype())\n",
    "target = torch.tensor(data_target[1]).type(torch.get_default_dtype())\n",
    "\n",
    "smin, smax = torch.min(source[:, 1]), torch.max(source[:, 1])\n",
    "sscale = height_source / (smax - smin)\n",
    "source[:, 1] = - sscale * (source[:, 1] - smax)\n",
    "source[:, 0] = sscale * (source[:, 0] - torch.mean(source[:, 0]))\n",
    "\n",
    "tmin, tmax = torch.min(target[:, 1]), torch.max(target[:, 1])\n",
    "tscale = height_target / (tmax - tmin)\n",
    "target[:, 1] = - tscale * (target[:, 1] - tmax)\n",
    "target[:, 0] = tscale * (target[:, 0] - torch.mean(target[:, 0]))\n",
    "\n",
    "# Extract shape informations from the dataset\n",
    "shape_source = source[source[:, 2] == 2, 0:2]\n",
    "shape_target = target[target[:, 2] == 2, 0:2]\n",
    "\n",
    "###############################################################################\n",
    "# We now sample the points that will be used by the deformation modules.\n",
    "#\n",
    "\n",
    "# Points for our contour\n",
    "points_small = shape_source.clone()\n",
    "\n",
    "# Build AABB around the source shape and uniformly sample points for the implicit\n",
    "# module of order 1\n",
    "aabb_source = dm.Utilities.AABB.build_from_points(shape_source)\n",
    "points_growth = dm.Utilities.fill_area_uniform_density(dm.Utilities.area_shape, aabb_source, 0.25, shape=shape_source)\n",
    "\n",
    "rot_growth = torch.stack([dm.Utilities.rot2d(0.)]*points_growth.shape[0], axis=0)\n",
    "\n",
    "###############################################################################\n",
    "# Plot everything.\n",
    "#\n",
    "\n",
    "plt.subplot(1, 2, 1)\n",
    "plt.title(\"Source leaf\")\n",
    "plt.plot(shape_source[:, 0].numpy(), shape_source[:, 1].numpy(), color='black')\n",
    "plt.plot(points_small[:, 0].numpy(), points_small[:, 1].numpy(), 'x', color='red')\n",
    "plt.plot(points_growth[:, 0].numpy(), points_growth[:, 1].numpy(), 'o', color='blue')\n",
    "plt.axis('equal')\n",
    "\n",
    "plt.subplot(1, 2, 2)\n",
    "plt.title(\"Target leaf\")\n",
    "plt.plot(shape_target[:, 0].numpy(), shape_target[:, 1].numpy(), color='black')\n",
    "plt.axis('equal')\n",
    "\n",
    "plt.show()\n"
   ]
  },
  {
   "cell_type": "code",
   "execution_count": null,
   "metadata": {},
   "outputs": [],
   "source": []
  },
  {
   "cell_type": "code",
   "execution_count": null,
   "metadata": {},
   "outputs": [],
   "source": []
  },
  {
   "cell_type": "code",
   "execution_count": null,
   "metadata": {},
   "outputs": [],
   "source": []
  },
  {
   "cell_type": "code",
   "execution_count": null,
   "metadata": {},
   "outputs": [],
   "source": []
  },
  {
   "cell_type": "code",
   "execution_count": null,
   "metadata": {},
   "outputs": [],
   "source": []
  },
  {
   "cell_type": "code",
   "execution_count": null,
   "metadata": {},
   "outputs": [],
   "source": []
  },
  {
   "cell_type": "code",
   "execution_count": null,
   "metadata": {},
   "outputs": [],
   "source": []
  },
  {
   "cell_type": "code",
   "execution_count": null,
   "metadata": {},
   "outputs": [],
   "source": []
  },
  {
   "cell_type": "code",
   "execution_count": null,
   "metadata": {},
   "outputs": [],
   "source": []
  }
 ],
 "metadata": {
  "kernelspec": {
   "display_name": "Python 3",
   "language": "python",
   "name": "python3"
  },
  "language_info": {
   "codemirror_mode": {
    "name": "ipython",
    "version": 3
   },
   "file_extension": ".py",
   "mimetype": "text/x-python",
   "name": "python",
   "nbconvert_exporter": "python",
   "pygments_lexer": "ipython3",
   "version": "3.6.9"
  }
 },
 "nbformat": 4,
 "nbformat_minor": 2
}
