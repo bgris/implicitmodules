{
 "cells": [
  {
   "cell_type": "code",
   "execution_count": 1,
   "metadata": {
    "autoscroll": false,
    "ein.hycell": false,
    "ein.tags": "worksheet-0",
    "slideshow": {
     "slide_type": "-"
    }
   },
   "outputs": [],
   "source": [
    "%load_ext autoreload\n",
    "%autoreload 2\n",
    "\n",
    "import sys\n",
    "import copy\n",
    "import math\n",
    "import pickle\n",
    "\n",
    "sys.path.append(\"../../\")\n",
    "\n",
    "import numpy as np\n",
    "import torch\n",
    "import matplotlib.pyplot as plt\n",
    "\n",
    "import implicitmodules.torch as dm\n",
    "\n",
    "#torch.set_num_threads(6)\n",
    "torch.set_default_tensor_type(torch.FloatTensor)"
   ]
  },
  {
   "cell_type": "markdown",
   "metadata": {},
   "source": [
    "* Make source"
   ]
  },
  {
   "cell_type": "code",
   "execution_count": 2,
   "metadata": {
    "autoscroll": false,
    "ein.hycell": false,
    "ein.tags": "worksheet-0",
    "slideshow": {
     "slide_type": "-"
    }
   },
   "outputs": [],
   "source": [
    "epsilon = .5\n",
    "a = 10.\n",
    "b = 1.\n",
    "d = 1.\n",
    "c = 41.\n",
    "c0 = 40.\n",
    "shape_rigid0 = torch.tensor([[0., 0.], [c0, 0.], [c0, a], [0., a], [0., 0.]])\n",
    "shape_growth0 = torch .tensor([[0., a], [c0, a], [c0, a + b], [0., a + b], [0., a]])\n",
    "\n",
    "shape_rigid = torch.tensor([[-epsilon, -epsilon], [c + epsilon, -epsilon], [c + epsilon, a +epsilon], [- epsilon, a + epsilon], [-epsilon, -epsilon]])\n",
    "shape_growth = torch .tensor([[-epsilon, a-epsilon + d], [c+epsilon, a-epsilon + d], [c+epsilon, a + b+epsilon + d], [-epsilon, a + b+epsilon + d], [-epsilon, a-epsilon + d]])\n"
   ]
  },
  {
   "cell_type": "code",
   "execution_count": 3,
   "metadata": {},
   "outputs": [],
   "source": [
    "Nh = 40\n",
    "Nvr = 10\n",
    "Nvg = 2\n",
    "Xr0 = torch.stack([torch.linspace(0., c0, Nh), torch.zeros([Nh])]).t()\n",
    "Xr1 = torch.stack([torch.linspace(c0, 0., Nh), torch.zeros([Nh]) + a]).t()\n",
    "Yr0 = torch.stack([torch.zeros([Nvr]) + c0, torch.linspace(0., a, Nvr)]).t()\n",
    "Yr1 = torch.stack([torch.zeros([Nvr]), torch.linspace(a, 0., Nvr)]).t()\n",
    "\n",
    "Xg0 = torch.stack([torch.linspace(0., c0, Nh), torch.zeros([Nh]) + a]).t()\n",
    "Xg1 = torch.stack([torch.linspace(c0, 0., Nh), torch.zeros([Nh]) + a + b]).t()\n",
    "Yg0 = torch.stack([torch.zeros([Nvr]) + c0, torch.linspace(a, a + b, Nvr)]).t()\n",
    "Yg1 = torch.stack([torch.zeros([Nvr]), torch.linspace(a + b, a, Nvr)]).t()\n",
    "\n",
    "shape_rigid0 = torch.cat([Xr0, Yr0, Xr1, Yr1], dim=0)\n",
    "shape_growth0 = torch.cat([Xg0, Yg0, Xg1, Yg1], dim=0)"
   ]
  },
  {
   "cell_type": "code",
   "execution_count": 4,
   "metadata": {
    "autoscroll": false,
    "ein.hycell": false,
    "ein.tags": "worksheet-0",
    "slideshow": {
     "slide_type": "-"
    }
   },
   "outputs": [
    {
     "data": {
      "text/plain": [
       "(-2.6, 43.6, -1.15, 13.15)"
      ]
     },
     "execution_count": 4,
     "metadata": {},
     "output_type": "execute_result"
    },
    {
     "data": {
      "image/png": "[encoded data removed]",
      "text/plain": [
       "<Figure size 432x288 with 1 Axes>"
      ]
     },
     "metadata": {
      "needs_background": "light"
     },
     "output_type": "display_data"
    }
   ],
   "source": [
    "plt.figure()\n",
    "plt.plot(shape_rigid[:,0], shape_rigid[:,1 ], '-r')\n",
    "plt.plot(shape_rigid0[:,0], shape_rigid0[:,1 ], '-.r')\n",
    "plt.plot(shape_growth[:,0], shape_growth[:,1 ], '-b')\n",
    "plt.plot(shape_growth0[:,0], shape_growth0[:,1 ], '-.b')\n",
    "plt.axis('equal')"
   ]
  },
  {
   "cell_type": "code",
   "execution_count": 5,
   "metadata": {
    "autoscroll": false,
    "ein.hycell": false,
    "ein.tags": "worksheet-0",
    "slideshow": {
     "slide_type": "-"
    }
   },
   "outputs": [],
   "source": [
    "aabb_rigid = dm.Utilities.AABB.build_from_points(shape_rigid)\n",
    "aabb_growth = dm.Utilities.AABB.build_from_points(shape_growth)"
   ]
  },
  {
   "cell_type": "code",
   "execution_count": 6,
   "metadata": {
    "autoscroll": false,
    "ein.hycell": false,
    "ein.tags": "worksheet-0",
    "slideshow": {
     "slide_type": "-"
    }
   },
   "outputs": [
    {
     "name": "stdout",
     "output_type": "stream",
     "text": [
      "torch.Size([240, 2])\n",
      "torch.Size([60, 2])\n"
     ]
    }
   ],
   "source": [
    "density_rigid = 0.5\n",
    "density_growth = 0.5\n",
    "\n",
    "pts_rigid = dm.Utilities.fill_area_uniform_density(dm.Utilities.area_shape, aabb_rigid, density_rigid, shape=shape_rigid, side=1)\n",
    "print(pts_rigid.shape)\n",
    "pts_growth = dm.Utilities.fill_area_uniform_density(dm.Utilities.area_shape, aabb_growth, density_growth, shape=shape_growth, side=1)\n",
    "print(pts_growth.shape)"
   ]
  },
  {
   "cell_type": "code",
   "execution_count": 7,
   "metadata": {
    "autoscroll": false,
    "ein.hycell": false,
    "ein.tags": "worksheet-0",
    "slideshow": {
     "slide_type": "-"
    }
   },
   "outputs": [
    {
     "data": {
      "text/plain": [
       "[<matplotlib.lines.Line2D at 0x7f0ec339a9b0>]"
      ]
     },
     "execution_count": 7,
     "metadata": {},
     "output_type": "execute_result"
    },
    {
     "data": {
      "image/png": "[encoded data removed]",
      "text/plain": [
       "<Figure size 432x288 with 1 Axes>"
      ]
     },
     "metadata": {
      "needs_background": "light"
     },
     "output_type": "display_data"
    }
   ],
   "source": [
    "plt.figure()\n",
    "plt.plot(shape_rigid[:,0], shape_rigid[:,1 ], '-r')\n",
    "plt.plot(shape_growth[:,0], shape_growth[:,1 ], '-b')\n",
    "plt.plot(pts_rigid[:,0], pts_rigid[:,1], 'xk')\n",
    "plt.plot(pts_growth[:,0], pts_growth[:,1], '.k')"
   ]
  },
  {
   "cell_type": "code",
   "execution_count": 8,
   "metadata": {
    "autoscroll": false,
    "ein.hycell": false,
    "ein.tags": "worksheet-0",
    "slideshow": {
     "slide_type": "-"
    }
   },
   "outputs": [
    {
     "data": {
      "text/plain": [
       "(-2.550609588623047,\n",
       " 42.562801361083984,\n",
       " -1.1207106590270997,\n",
       " 12.534923839569093)"
      ]
     },
     "execution_count": 8,
     "metadata": {},
     "output_type": "execute_result"
    },
    {
     "data": {
      "image/png": "[encoded data removed]",
      "text/plain": [
       "<Figure size 432x288 with 1 Axes>"
      ]
     },
     "metadata": {
      "needs_background": "light"
     },
     "output_type": "display_data"
    }
   ],
   "source": [
    "#%matplotlib qt5\n",
    "plt.figure()\n",
    "plt.plot(shape_rigid0[:,0], shape_rigid0[:,1 ], '-r')\n",
    "plt.plot(shape_growth0[:,0], shape_growth0[:,1 ], '-b')\n",
    "plt.plot(pts_rigid[:,0], pts_rigid[:,1], 'xk')\n",
    "plt.plot(pts_growth[:,0], pts_growth[:,1], '.k')\n",
    "plt.axis('equal')"
   ]
  },
  {
   "cell_type": "code",
   "execution_count": 9,
   "metadata": {
    "autoscroll": false,
    "ein.hycell": false,
    "ein.tags": "worksheet-0",
    "slideshow": {
     "slide_type": "-"
    }
   },
   "outputs": [
    {
     "data": {
      "text/plain": [
       "(-2.550609588623047,\n",
       " 42.562801361083984,\n",
       " -1.1207106590270997,\n",
       " 12.534923839569093)"
      ]
     },
     "execution_count": 9,
     "metadata": {},
     "output_type": "execute_result"
    },
    {
     "data": {
      "image/png": "[encoded data removed]",
      "text/plain": [
       "<Figure size 432x288 with 1 Axes>"
      ]
     },
     "metadata": {
      "needs_background": "light"
     },
     "output_type": "display_data"
    }
   ],
   "source": [
    "N_rigid = pts_rigid.shape[0]\n",
    "N_growth = pts_growth.shape[0]\n",
    "pts_implicit1 = torch.cat([pts_rigid, pts_growth], dim=0)\n",
    "plt.figure()\n",
    "plt.plot(shape_rigid0[:,0], shape_rigid0[:,1 ], '-r')\n",
    "plt.plot(shape_growth0[:,0], shape_growth0[:,1 ], '-b')\n",
    "plt.plot(pts_implicit1[:,0], pts_implicit1[:,1], 'xk')\n",
    "#plt.plot(pts_implicit1[:N_rigid,0], pts_implicit1[:N_rigid,1], 'ok')\n",
    "plt.plot(pts_implicit1[N_rigid::2,0], pts_implicit1[N_rigid::2,1], 'ok')\n",
    "plt.axis('equal')"
   ]
  },
  {
   "cell_type": "markdown",
   "metadata": {},
   "source": [
    "* Define C"
   ]
  },
  {
   "cell_type": "code",
   "execution_count": 10,
   "metadata": {
    "autoscroll": false,
    "ein.hycell": false,
    "ein.tags": "worksheet-0",
    "slideshow": {
     "slide_type": "-"
    }
   },
   "outputs": [],
   "source": [
    "import math\n",
    "\n",
    "Npers = [1.,3]\n",
    "#Npers = [0., 1, 2, 3, 4, 5]\n",
    "dimC = len(Npers)\n",
    "C = torch.zeros(pts_implicit1.shape[0], 2, len(Npers))\n",
    "\n",
    "for i in range(len(Npers)):\n",
    "    Nper = Npers[i]\n",
    "    theta = Nper * torch.linspace(0, 2 * math.pi, int(0.5 * N_growth))\n",
    "    C[N_rigid::2, 0, i] = torch.tensor([math.cos(thetai) for thetai in theta])\n",
    "    C[N_rigid+1::2, 0, i] = torch.tensor([math.cos(thetai) for thetai in theta])"
   ]
  },
  {
   "cell_type": "code",
   "execution_count": 11,
   "metadata": {},
   "outputs": [
    {
     "data": {
      "text/plain": [
       "torch.Size([300, 2, 2])"
      ]
     },
     "execution_count": 11,
     "metadata": {},
     "output_type": "execute_result"
    }
   ],
   "source": [
    "C.shape"
   ]
  },
  {
   "cell_type": "code",
   "execution_count": 12,
   "metadata": {
    "autoscroll": false,
    "ein.hycell": false,
    "ein.tags": "worksheet-0",
    "slideshow": {
     "slide_type": "-"
    }
   },
   "outputs": [
    {
     "data": {
      "text/plain": [
       "(-2.550609588623047,\n",
       " 42.562801361083984,\n",
       " -1.1207106590270997,\n",
       " 12.534923839569093)"
      ]
     },
     "execution_count": 12,
     "metadata": {},
     "output_type": "execute_result"
    }
   ],
   "source": [
    "%matplotlib qt5\n",
    "ax_left = plt.subplot(1, 1, 1)\n",
    "plt.plot(shape_rigid0[:,0], shape_rigid0[:,1 ], '-r')\n",
    "plt.plot(shape_growth0[:,0], shape_growth0[:,1 ], '-b')\n",
    "plt.plot(pts_implicit1[:,0], pts_implicit1[:,1], 'xk')\n",
    "#plt.plot(pts_implicit1[:N_rigid,0], pts_implicit1[:N_rigid,1], 'ok')\n",
    "dm.Utilities.plot_C_ellipse(ax_left, pts_implicit1, C, c_index=0, scale=0.5, color='red')\n",
    "plt.axis('equal')"
   ]
  },
  {
   "cell_type": "code",
   "execution_count": 13,
   "metadata": {
    "autoscroll": false,
    "ein.hycell": false,
    "ein.tags": "worksheet-0",
    "slideshow": {
     "slide_type": "-"
    }
   },
   "outputs": [],
   "source": [
    "angles = 0. * math.pi * torch.ones(pts_implicit1.shape[0])\n",
    "R = torch.stack([dm.Utilities.rot2d(a) for a in angles])"
   ]
  },
  {
   "cell_type": "code",
   "execution_count": 14,
   "metadata": {
    "autoscroll": false,
    "ein.hycell": false,
    "ein.tags": "worksheet-0",
    "slideshow": {
     "slide_type": "-"
    }
   },
   "outputs": [],
   "source": [
    "cotan_pts = torch.zeros_like(pts_implicit1)\n",
    "mm = 2000.\n",
    "cotan_pts[-1, 0] = mm\n",
    "#cotan_pts[-1, 1] = mm\n",
    "\n",
    "cotan_pts[N_rigid + 25, 1] = mm\n",
    "cotan_pts[N_rigid + 35, 1] = mm\n",
    "cotan_pts[N_rigid + 30, 1] = -2*mm\n",
    "\n",
    "cotan_pts[N_rigid + 1, 0] = -mm\n",
    "#cotan_pts[N_rigid + 1, 1] = mm\n",
    "#cotan_pts = 200 * (torch.rand_like(pts_implicit1) - 0.7)\n",
    "cotan_R = torch.zeros_like(R)"
   ]
  },
  {
   "cell_type": "markdown",
   "metadata": {},
   "source": [
    "Define implicit module"
   ]
  },
  {
   "cell_type": "code",
   "execution_count": 15,
   "metadata": {
    "autoscroll": false,
    "ein.hycell": false,
    "ein.tags": "worksheet-0",
    "slideshow": {
     "slide_type": "-"
    }
   },
   "outputs": [],
   "source": [
    "sigma1 = 3.\n",
    "nu = 0.001\n",
    "implicit1 = dm.DeformationModules.create_deformation_module('implicit_order_1', dim=2, nb_pts=pts_implicit1.shape[0], C=C, sigma=sigma1, nu=nu, coeff=1., gd=(pts_implicit1.view(-1).requires_grad_(), R.view(-1).requires_grad_()), cotan = (cotan_pts.view(-1).requires_grad_(), cotan_R.view(-1).requires_grad_()))"
   ]
  },
  {
   "cell_type": "markdown",
   "metadata": {},
   "source": [
    "Define silent modules and shoot"
   ]
  },
  {
   "cell_type": "code",
   "execution_count": 16,
   "metadata": {
    "autoscroll": false,
    "ein.hycell": false,
    "ein.tags": "worksheet-0",
    "scrolled": false,
    "slideshow": {
     "slide_type": "-"
    }
   },
   "outputs": [],
   "source": [
    "#silent_imp = dm.DeformationModules.create_deformation_module('silent_points', dim=2, nb_pts=pts_implicit1.shape[0], gd=pts_implicit1.view(-1).requires_grad_())\n",
    "silent_rigid = dm.DeformationModules.create_deformation_module('silent_points', dim=2, nb_pts=shape_rigid0.shape[0], gd=shape_rigid0.view(-1).requires_grad_())\n",
    "silent_growth = dm.DeformationModules.create_deformation_module('silent_points', dim=2, nb_pts=shape_growth0.shape[0], gd=shape_growth0.view(-1).requires_grad_())"
   ]
  },
  {
   "cell_type": "code",
   "execution_count": 17,
   "metadata": {
    "autoscroll": false,
    "ein.hycell": false,
    "ein.tags": "worksheet-0",
    "scrolled": true,
    "slideshow": {
     "slide_type": "-"
    }
   },
   "outputs": [
    {
     "name": "stdout",
     "output_type": "stream",
     "text": [
      "step  10\n"
     ]
    }
   ],
   "source": [
    "intermediate_states, intermediate_controls = dm.HamiltonianDynamic.shoot(dm.HamiltonianDynamic.Hamiltonian([implicit1, silent_rigid, silent_growth]), 10, 'euler', intermediates=True)\n",
    "pts = implicit1.manifold.gd[0].detach().view(-1, 2)\n",
    "pts_rigid = silent_rigid.manifold.gd.detach().view(-1, 2)\n",
    "pts_growth = silent_growth.manifold.gd.detach().view(-1, 2)"
   ]
  },
  {
   "cell_type": "code",
   "execution_count": 18,
   "metadata": {},
   "outputs": [
    {
     "data": {
      "text/plain": [
       "(-5.502126955986023, 45.51434209346771, -3.4236892819404603, 15.51946941614151)"
      ]
     },
     "execution_count": 18,
     "metadata": {},
     "output_type": "execute_result"
    },
    {
     "data": {
      "image/png": "[encoded data removed]",
      "text/plain": [
       "<Figure size 432x288 with 1 Axes>"
      ]
     },
     "metadata": {
      "needs_background": "light"
     },
     "output_type": "display_data"
    }
   ],
   "source": [
    "%matplotlib inline\n",
    "ax_left = plt.subplot(1, 1, 1)\n",
    "plt.plot(shape_rigid0[:,0], shape_rigid0[:,1 ], '--r')\n",
    "plt.plot(shape_growth0[:,0], shape_growth0[:,1 ], '--b')\n",
    "#plt.plot(pts_implicit1[:,0], pts_implicit1[:,1], '.k')\n",
    "plt.plot(pts_rigid[:,0], pts_rigid[:,1], '-r')\n",
    "plt.plot(pts_growth[:,0], pts_growth[:,1], '-b')\n",
    "plt.quiver(pts_implicit1[:,0], pts_implicit1[:,1], cotan_pts[:,0], cotan_pts[:,1])\n",
    "plt.plot(pts[:,0], pts[:,1], '+r')\n",
    "#plt.plot(pts_imp[:,0], pts_imp[:,1], 'xk')\n",
    "plt.axis('equal')"
   ]
  },
  {
   "cell_type": "code",
   "execution_count": 19,
   "metadata": {
    "autoscroll": false,
    "ein.hycell": false,
    "ein.tags": "worksheet-0",
    "slideshow": {
     "slide_type": "-"
    }
   },
   "outputs": [
    {
     "data": {
      "text/plain": [
       "(-5.502126955986023, 45.51434209346771, -3.4236892819404603, 15.51946941614151)"
      ]
     },
     "execution_count": 19,
     "metadata": {},
     "output_type": "execute_result"
    },
    {
     "data": {
      "image/png": "[encoded data removed]",
      "text/plain": [
       "<Figure size 432x288 with 1 Axes>"
      ]
     },
     "metadata": {
      "needs_background": "light"
     },
     "output_type": "display_data"
    }
   ],
   "source": [
    "%matplotlib inline\n",
    "ax_left = plt.subplot(1, 1, 1)\n",
    "plt.plot(shape_rigid0[:,0], shape_rigid0[:,1 ], '--r')\n",
    "plt.plot(shape_growth0[:,0], shape_growth0[:,1 ], '--b')\n",
    "#plt.plot(pts_implicit1[:,0], pts_implicit1[:,1], '.k')\n",
    "plt.plot(pts_rigid[:,0], pts_rigid[:,1], '-r')\n",
    "plt.plot(pts_growth[:,0], pts_growth[:,1], '-b')\n",
    "plt.quiver(pts_implicit1[:,0], pts_implicit1[:,1], cotan_pts[:,0], cotan_pts[:,1])\n",
    "plt.plot(pts[:,0], pts[:,1], '+r')\n",
    "#plt.plot(pts_imp[:,0], pts_imp[:,1], 'xk')\n",
    "plt.axis('equal')"
   ]
  },
  {
   "cell_type": "code",
   "execution_count": 20,
   "metadata": {
    "scrolled": false
   },
   "outputs": [
    {
     "name": "stdout",
     "output_type": "stream",
     "text": [
      "[[tensor([1.0095, 1.0466]), tensor([]), tensor([])], [tensor([0.9916, 0.9838]), tensor([]), tensor([])], [tensor([0.9887, 0.9282]), tensor([]), tensor([])], [tensor([0.9992, 0.8771]), tensor([]), tensor([])], [tensor([1.0167, 0.8164]), tensor([]), tensor([])], [tensor([1.0357, 0.7360]), tensor([]), tensor([])], [tensor([1.0910, 0.6777]), tensor([]), tensor([])], [tensor([1.2082, 0.6494]), tensor([]), tensor([])], [tensor([1.3811, 0.5965]), tensor([]), tensor([])], [tensor([1.4683, 0.3734]), tensor([]), tensor([])]]\n"
     ]
    }
   ],
   "source": [
    "print(intermediate_controls)"
   ]
  },
  {
   "cell_type": "markdown",
   "metadata": {},
   "source": [
    "Shoot again with some controls shutdown"
   ]
  },
  {
   "cell_type": "code",
   "execution_count": 156,
   "metadata": {},
   "outputs": [],
   "source": [
    "cont = [] \n",
    "keep_cont = [False, True]#, False, False, True]\n",
    "\n",
    "for i in range(10):\n",
    "    cont_i = []\n",
    "    for j in range(len(keep_cont)):\n",
    "        if keep_cont[j]:\n",
    "            cont_i.append(intermediate_controls[i][0][j].clone())\n",
    "        else:\n",
    "                cont_i.append(torch.zeros_like(intermediate_controls[i][0][j].clone()))\n",
    "    cont.append([torch.tensor(cont_i), torch.tensor([]), torch.tensor([])])"
   ]
  },
  {
   "cell_type": "code",
   "execution_count": 157,
   "metadata": {},
   "outputs": [],
   "source": [
    "implicit1_rg = dm.DeformationModules.create_deformation_module('implicit_order_1', dim=2, nb_pts=pts_implicit1.shape[0], C=C, sigma=sigma1, nu=nu, coeff=1., gd=(pts_implicit1.view(-1).requires_grad_(), R.view(-1).requires_grad_()), cotan = (cotan_pts.view(-1).requires_grad_(), cotan_R.view(-1).requires_grad_()))\n",
    "silent_rigid_rg = dm.DeformationModules.create_deformation_module('silent_points', dim=2, nb_pts=shape_rigid0.shape[0], gd=shape_rigid0.view(-1).requires_grad_())\n",
    "silent_growth_rg = dm.DeformationModules.create_deformation_module('silent_points', dim=2, nb_pts=shape_growth0.shape[0], gd=shape_growth0.view(-1).requires_grad_())"
   ]
  },
  {
   "cell_type": "code",
   "execution_count": 158,
   "metadata": {
    "scrolled": true
   },
   "outputs": [
    {
     "name": "stdout",
     "output_type": "stream",
     "text": [
      "[[tensor([0.0000, 1.0466]), tensor([]), tensor([])], [tensor([0.0000, 0.9838]), tensor([]), tensor([])], [tensor([0.0000, 0.9282]), tensor([]), tensor([])], [tensor([0.0000, 0.8771]), tensor([]), tensor([])], [tensor([0.0000, 0.8164]), tensor([]), tensor([])], [tensor([0.0000, 0.7360]), tensor([]), tensor([])], [tensor([0.0000, 0.6777]), tensor([]), tensor([])], [tensor([0.0000, 0.6494]), tensor([]), tensor([])], [tensor([0.0000, 0.5965]), tensor([]), tensor([])], [tensor([0.0000, 0.3734]), tensor([]), tensor([])]]\n"
     ]
    }
   ],
   "source": [
    "print(cont)"
   ]
  },
  {
   "cell_type": "code",
   "execution_count": 159,
   "metadata": {},
   "outputs": [
    {
     "name": "stdout",
     "output_type": "stream",
     "text": [
      "step  10\n"
     ]
    }
   ],
   "source": [
    "intermediate_states_rg, intermediate_controls_rg = dm.HamiltonianDynamic.shoot(dm.HamiltonianDynamic.Hamiltonian([implicit1_rg, silent_rigid_rg, silent_growth_rg]), 10, 'euler', controls= cont, intermediates=True)\n",
    "pts_rg = implicit1_rg.manifold.gd[0].detach().view(-1, 2)\n",
    "pts_rigid_rg = silent_rigid_rg.manifold.gd.detach().view(-1, 2)\n",
    "pts_growth_rg = silent_growth_rg.manifold.gd.detach().view(-1, 2)"
   ]
  },
  {
   "cell_type": "code",
   "execution_count": 160,
   "metadata": {},
   "outputs": [
    {
     "data": {
      "text/plain": [
       "(-4.491698741912842,\n",
       " 44.489686489105225,\n",
       " -2.866050100326538,\n",
       " 14.608517026901245)"
      ]
     },
     "execution_count": 160,
     "metadata": {},
     "output_type": "execute_result"
    },
    {
     "data": {
      "image/png": "[encoded data removed]",
      "text/plain": [
       "<Figure size 432x288 with 1 Axes>"
      ]
     },
     "metadata": {
      "needs_background": "light"
     },
     "output_type": "display_data"
    }
   ],
   "source": [
    "%matplotlib qt5\n",
    "ax_left = plt.subplot(1, 1, 1)\n",
    "#plt.plot(shape_rigid0[:,0], shape_rigid0[:,1 ], '--r')\n",
    "#plt.plot(shape_growth0[:,0], shape_growth0[:,1 ], '--b')\n",
    "#plt.plot(pts_implicit1[:,0], pts_implicit1[:,1], '.k')\n",
    "plt.plot(pts_rigid[:,0], pts_rigid[:,1], '--r')\n",
    "plt.plot(pts_growth[:,0], pts_growth[:,1], '--b')\n",
    "#plt.plot(pts[:,0], pts[:,1], '.r')\n",
    "\n",
    "plt.plot(pts_rigid_rg[:,0], pts_rigid_rg[:,1], '-r')\n",
    "plt.plot(pts_growth_rg[:,0], pts_growth_rg[:,1], '-b')\n",
    "#plt.plot(pts_rg[:,0], pts_rg[:,1], 'xr')\n",
    "#plt.plot(pts_imp[:,0], pts_imp[:,1], 'xk')\n",
    "plt.axis('equal')"
   ]
  },
  {
   "cell_type": "markdown",
   "metadata": {},
   "source": [
    "Plot growth ratio ( C . control)"
   ]
  },
  {
   "cell_type": "code",
   "execution_count": 40,
   "metadata": {},
   "outputs": [],
   "source": [
    "t = 0\n",
    "h = intermediate_controls[t][0]\n",
    "C_t = torch.tensordot(C, h, dims=1).view(-1, 2, 1)\n",
    "\n",
    "X = intermediate_states[t].gd[0][0].view(-1,2)"
   ]
  },
  {
   "cell_type": "code",
   "execution_count": 21,
   "metadata": {},
   "outputs": [
    {
     "data": {
      "text/plain": [
       "(-2.550609588623047,\n",
       " 42.562801361083984,\n",
       " -1.1207106590270997,\n",
       " 12.534923839569093)"
      ]
     },
     "execution_count": 21,
     "metadata": {},
     "output_type": "execute_result"
    }
   ],
   "source": [
    "%matplotlib qt5\n",
    "ax_left = plt.subplot(1, 1, 1)\n",
    "#plt.plot(shape_rigid0[:,0], shape_rigid0[:,1 ], '-r')\n",
    "#plt.plot(shape_growth0[:,0], shape_growth0[:,1 ], '-b')\n",
    "plt.plot(X[:,0], X[:,1], 'xk')\n",
    "#plt.plot(pts_implicit1[:N_rigid,0], pts_implicit1[:N_rigid,1], 'ok')\n",
    "dm.Utilities.plot_C_ellipse(ax_left, X, C_t, c_index=0, scale=1., color='red')\n",
    "plt.axis('equal')"
   ]
  },
  {
   "cell_type": "markdown",
   "metadata": {},
   "source": [
    "Define target"
   ]
  },
  {
   "cell_type": "code",
   "execution_count": 21,
   "metadata": {},
   "outputs": [],
   "source": [
    "# Source/target : implicit points\n",
    "target_noisefree = implicit1.manifold.gd[0].detach().view(-1, 2)\n",
    "source_pts = pts_implicit1.clone()\n",
    "target_pts = target_noisefree #+ 0.2*torch.rand(*target_noisefree.shape)"
   ]
  },
  {
   "cell_type": "code",
   "execution_count": 23,
   "metadata": {},
   "outputs": [],
   "source": [
    "# Source/target : surrounding shape\n",
    "target_noisefree = torch.cat([pts_rigid.clone(), pts_growth.clone()], dim=0)\n",
    "source_pts = torch.cat([shape_rigid0.clone(), shape_growth0.clone()], dim=0)\n",
    "target_pts = target_noisefree + 0.2*torch.rand(*target_noisefree.shape)"
   ]
  },
  {
   "cell_type": "code",
   "execution_count": 21,
   "metadata": {},
   "outputs": [
    {
     "data": {
      "text/plain": [
       "torch.Size([300, 2])"
      ]
     },
     "execution_count": 21,
     "metadata": {},
     "output_type": "execute_result"
    }
   ],
   "source": [
    "target_noisefree.shape"
   ]
  },
  {
   "cell_type": "code",
   "execution_count": 22,
   "metadata": {},
   "outputs": [
    {
     "data": {
      "text/plain": [
       "(-4.8469722986221315,\n",
       " 44.859150242805484,\n",
       " -5.066342496871949,\n",
       " 16.96825804710388)"
      ]
     },
     "execution_count": 22,
     "metadata": {},
     "output_type": "execute_result"
    }
   ],
   "source": [
    "%matplotlib qt5\n",
    "ax_left = plt.subplot(1, 1, 1)\n",
    "#plt.plot(pts_implicit1[:,0], pts_implicit1[:,1], '.k')\n",
    "plt.plot(target_noisefree[:,0], target_noisefree[:,1], '.r')\n",
    "plt.plot(target_pts[:,0], target_pts[:,1], '+r')\n",
    "plt.axis('equal')"
   ]
  },
  {
   "cell_type": "markdown",
   "metadata": {},
   "source": [
    "Define C for optimisation (can be different from the one used to generate the target)"
   ]
  },
  {
   "cell_type": "code",
   "execution_count": 22,
   "metadata": {},
   "outputs": [],
   "source": [
    "Npers_opt = [0., 1, 2, 3, 4, 5, 6]\n",
    "dimC_opt = len(Npers)\n",
    "C_opt = torch.zeros(pts_implicit1.shape[0], 2, len(Npers_opt))\n",
    "\n",
    "for i in range(len(Npers_opt)):\n",
    "    Nper = Npers_opt[i]\n",
    "    theta = Nper * torch.linspace(0, 2 * math.pi, int(0.5 * N_growth))\n",
    "    C_opt[N_rigid::2, 0, i] = torch.tensor([math.cos(thetai) for thetai in theta])\n",
    "    C_opt[N_rigid+1::2, 0, i] = torch.tensor([math.cos(thetai) for thetai in theta])"
   ]
  },
  {
   "cell_type": "markdown",
   "metadata": {},
   "source": [
    "Define implicit module and model"
   ]
  },
  {
   "cell_type": "code",
   "execution_count": 23,
   "metadata": {},
   "outputs": [],
   "source": [
    "implicit1_opt = dm.DeformationModules.create_deformation_module('implicit_order_1', dim=2, nb_pts=pts_implicit1.shape[0], C=C_opt, sigma=sigma1, nu=nu, coeff=1., gd=(pts_implicit1.view(-1).requires_grad_(), R.view(-1).requires_grad_()))"
   ]
  },
  {
   "cell_type": "code",
   "execution_count": 24,
   "metadata": {},
   "outputs": [],
   "source": [
    "#implicit0_opt = dm.DeformationModules.create_deformation_module('implicit_order_0', dim=2, nb_pts=pts_implicit1.shape[0], sigma=sigma1, nu=nu, coeff=10., gd=pts_implicit1.clone().view(-1).requires_grad_())"
   ]
  },
  {
   "cell_type": "code",
   "execution_count": 25,
   "metadata": {},
   "outputs": [],
   "source": [
    "#model = dm.Models.ModelPointsRegistration([source_pts], [implicit1_opt], [dm.Attachment.EuclideanPointwiseDistanceAttachment(weight=1.)], lam=100.)\n",
    "model = dm.Models.ModelPointsRegistrationOnlyAttachment([source_pts], [implicit1_opt], [dm.Attachment.EuclideanPointwiseDistanceAttachment(weight=1.)], lam=100.)"
   ]
  },
  {
   "cell_type": "code",
   "execution_count": 26,
   "metadata": {},
   "outputs": [],
   "source": [
    "fitter = dm.Models.ModelFittingScipy(model, 1.)"
   ]
  },
  {
   "cell_type": "markdown",
   "metadata": {},
   "source": [
    "Fitting"
   ]
  },
  {
   "cell_type": "code",
   "execution_count": 27,
   "metadata": {
    "scrolled": true
   },
   "outputs": [
    {
     "name": "stdout",
     "output_type": "stream",
     "text": [
      "step  10\n",
      "only attachment\n",
      "Initial energy = 59223.750\n",
      "step  10\n",
      "only attachment\n",
      "step  10\n",
      "only attachment\n",
      "step  10\n",
      "only attachment\n",
      "step  10\n",
      "only attachment\n",
      "================================================================================\n",
      "Iteration: 1 \n",
      "Total energy = 39090.191406 \n",
      "Attach cost = 39090.191406 \n",
      "Deformation cost = 240.076447\n",
      "step  10\n",
      "only attachment\n",
      "step  10\n",
      "only attachment\n",
      "================================================================================\n",
      "Iteration: 2 \n",
      "Total energy = 27994.291016 \n",
      "Attach cost = 27994.291016 \n",
      "Deformation cost = 836.834106\n",
      "step  10\n",
      "only attachment\n",
      "================================================================================\n",
      "Iteration: 3 \n",
      "Total energy = 27755.429688 \n",
      "Attach cost = 27755.429688 \n",
      "Deformation cost = 1185.799072\n",
      "step  10\n",
      "only attachment\n",
      "================================================================================\n",
      "Iteration: 4 \n",
      "Total energy = 27069.583984 \n",
      "Attach cost = 27069.583984 \n",
      "Deformation cost = 1027.780029\n",
      "step  10\n",
      "only attachment\n",
      "================================================================================\n",
      "Iteration: 5 \n",
      "Total energy = 26607.410156 \n",
      "Attach cost = 26607.410156 \n",
      "Deformation cost = 943.312256\n",
      "step  10\n",
      "only attachment\n",
      "================================================================================\n",
      "Iteration: 6 \n",
      "Total energy = 25299.271484 \n",
      "Attach cost = 25299.271484 \n",
      "Deformation cost = 879.539307\n",
      "step  10\n",
      "only attachment\n",
      "================================================================================\n",
      "Iteration: 7 \n",
      "Total energy = 20617.316406 \n",
      "Attach cost = 20617.316406 \n",
      "Deformation cost = 1459.606689\n",
      "step  10\n",
      "only attachment\n",
      "================================================================================\n",
      "Iteration: 8 \n",
      "Total energy = 17646.580078 \n",
      "Attach cost = 17646.580078 \n",
      "Deformation cost = 2330.933838\n",
      "step  10\n",
      "only attachment\n",
      "================================================================================\n",
      "Iteration: 9 \n",
      "Total energy = 15774.644531 \n",
      "Attach cost = 15774.644531 \n",
      "Deformation cost = 4584.988281\n",
      "step  10\n",
      "only attachment\n",
      "================================================================================\n",
      "Iteration: 10 \n",
      "Total energy = 14665.825195 \n",
      "Attach cost = 14665.825195 \n",
      "Deformation cost = 3591.849365\n",
      "step  10\n",
      "only attachment\n",
      "================================================================================\n",
      "Iteration: 11 \n",
      "Total energy = 13726.885742 \n",
      "Attach cost = 13726.885742 \n",
      "Deformation cost = 3240.561523\n",
      "step  10\n",
      "only attachment\n",
      "================================================================================\n",
      "Iteration: 12 \n",
      "Total energy = 13307.066406 \n",
      "Attach cost = 13307.066406 \n",
      "Deformation cost = 3358.612793\n",
      "step  10\n",
      "only attachment\n",
      "================================================================================\n",
      "Iteration: 13 \n",
      "Total energy = 11554.332031 \n",
      "Attach cost = 11554.332031 \n",
      "Deformation cost = 3730.622070\n",
      "step  10\n",
      "only attachment\n",
      "================================================================================\n",
      "Iteration: 14 \n",
      "Total energy = 9009.334961 \n",
      "Attach cost = 9009.334961 \n",
      "Deformation cost = 7011.515625\n",
      "step  10\n",
      "only attachment\n",
      "================================================================================\n",
      "Iteration: 15 \n",
      "Total energy = 6052.990723 \n",
      "Attach cost = 6052.990723 \n",
      "Deformation cost = 4943.823242\n",
      "step  10\n",
      "only attachment\n",
      "================================================================================\n",
      "Iteration: 16 \n",
      "Total energy = 5726.698242 \n",
      "Attach cost = 5726.698242 \n",
      "Deformation cost = 4866.867188\n",
      "step  10\n",
      "only attachment\n",
      "================================================================================\n",
      "Iteration: 17 \n",
      "Total energy = 5518.434082 \n",
      "Attach cost = 5518.434082 \n",
      "Deformation cost = 5261.750977\n",
      "step  10\n",
      "only attachment\n",
      "================================================================================\n",
      "Iteration: 18 \n",
      "Total energy = 5372.005859 \n",
      "Attach cost = 5372.005859 \n",
      "Deformation cost = 5166.181641\n",
      "step  10\n",
      "only attachment\n",
      "================================================================================\n",
      "Iteration: 19 \n",
      "Total energy = 5266.769043 \n",
      "Attach cost = 5266.769043 \n",
      "Deformation cost = 4940.307617\n",
      "step  10\n",
      "only attachment\n",
      "================================================================================\n",
      "Iteration: 20 \n",
      "Total energy = 4432.424316 \n",
      "Attach cost = 4432.424316 \n",
      "Deformation cost = 4948.583496\n",
      "step  10\n",
      "only attachment\n",
      "step  10\n",
      "only attachment\n",
      "================================================================================\n",
      "Iteration: 21 \n",
      "Total energy = 2678.640381 \n",
      "Attach cost = 2678.640381 \n",
      "Deformation cost = 5099.866211\n",
      "step  10\n",
      "only attachment\n",
      "================================================================================\n",
      "Iteration: 22 \n",
      "Total energy = 2438.105469 \n",
      "Attach cost = 2438.105469 \n",
      "Deformation cost = 5407.898438\n",
      "step  10\n",
      "only attachment\n",
      "================================================================================\n",
      "Iteration: 23 \n",
      "Total energy = 2419.358398 \n",
      "Attach cost = 2419.358398 \n",
      "Deformation cost = 5532.097168\n",
      "step  10\n",
      "only attachment\n",
      "================================================================================\n",
      "Iteration: 24 \n",
      "Total energy = 2379.265869 \n",
      "Attach cost = 2379.265869 \n",
      "Deformation cost = 5463.473145\n",
      "step  10\n",
      "only attachment\n",
      "step  10\n",
      "only attachment\n",
      "================================================================================\n",
      "Iteration: 25 \n",
      "Total energy = 2370.522217 \n",
      "Attach cost = 2370.522217 \n",
      "Deformation cost = 5460.345703\n",
      "step  10\n",
      "only attachment\n",
      "================================================================================\n",
      "Iteration: 26 \n",
      "Total energy = 2369.526611 \n",
      "Attach cost = 2369.526611 \n",
      "Deformation cost = 5478.126953\n",
      "step  10\n",
      "only attachment\n",
      "================================================================================\n",
      "Iteration: 27 \n",
      "Total energy = 2368.945068 \n",
      "Attach cost = 2368.945068 \n",
      "Deformation cost = 5477.093750\n",
      "step  10\n",
      "only attachment\n",
      "================================================================================\n",
      "Iteration: 28 \n",
      "Total energy = 2366.902832 \n",
      "Attach cost = 2366.902832 \n",
      "Deformation cost = 5483.305664\n",
      "step  10\n",
      "only attachment\n",
      "================================================================================\n",
      "Iteration: 29 \n",
      "Total energy = 2355.905273 \n",
      "Attach cost = 2355.905273 \n",
      "Deformation cost = 5482.626953\n",
      "step  10\n",
      "only attachment\n",
      "================================================================================\n",
      "Iteration: 30 \n",
      "Total energy = 2288.135010 \n",
      "Attach cost = 2288.135010 \n",
      "Deformation cost = 5447.059570\n",
      "================================================================================\n",
      "Optimisation process exited with message: b'STOP: TOTAL NO. of ITERATIONS REACHED LIMIT'\n",
      "Final energy = 2288.135009765625\n",
      "Closure evaluations = 36\n",
      "Time elapsed = 490.01598954200745\n"
     ]
    }
   ],
   "source": [
    "costs = fitter.fit([target_pts], 30, log_interval=1)"
   ]
  },
  {
   "cell_type": "markdown",
   "metadata": {},
   "source": [
    "Shoot with estimated parameters"
   ]
  },
  {
   "cell_type": "code",
   "execution_count": 28,
   "metadata": {},
   "outputs": [],
   "source": [
    "compound = dm.DeformationModules.CompoundModule(model.modules)\n",
    "compound.manifold.fill(model.init_manifold)"
   ]
  },
  {
   "cell_type": "code",
   "execution_count": 29,
   "metadata": {},
   "outputs": [
    {
     "data": {
      "text/plain": [
       "[<implicitmodules.torch.DeformationModules.SilentLandmark.SilentLandmarks at 0x7f0e68d13fd0>,\n",
       " <implicitmodules.torch.DeformationModules.ElasticOrder1.ImplicitModule1_Torch at 0x7f0e68d13a20>]"
      ]
     },
     "execution_count": 29,
     "metadata": {},
     "output_type": "execute_result"
    }
   ],
   "source": [
    "compound.module_list"
   ]
  },
  {
   "cell_type": "code",
   "execution_count": 30,
   "metadata": {},
   "outputs": [
    {
     "name": "stdout",
     "output_type": "stream",
     "text": [
      "step  10\n"
     ]
    }
   ],
   "source": [
    "intermediate_states_opt, intermediate_controls_opt = dm.HamiltonianDynamic.shoot(dm.HamiltonianDynamic.Hamiltonian(compound), 10, 'euler', intermediates=True)"
   ]
  },
  {
   "cell_type": "code",
   "execution_count": 31,
   "metadata": {},
   "outputs": [],
   "source": [
    "pts = compound.manifold.gd[0].detach().view(-1, 2)"
   ]
  },
  {
   "cell_type": "markdown",
   "metadata": {},
   "source": [
    "Plot result"
   ]
  },
  {
   "cell_type": "code",
   "execution_count": 32,
   "metadata": {},
   "outputs": [
    {
     "data": {
      "text/plain": [
       "(-5.502126955986023,\n",
       " 45.51434209346771,\n",
       " -3.4317103385925294,\n",
       " 15.621092891693115)"
      ]
     },
     "execution_count": 32,
     "metadata": {},
     "output_type": "execute_result"
    },
    {
     "data": {
      "image/png": "[encoded data removed]",
      "text/plain": [
       "<Figure size 432x288 with 1 Axes>"
      ]
     },
     "metadata": {
      "needs_background": "light"
     },
     "output_type": "display_data"
    }
   ],
   "source": [
    "%matplotlib qt5\n",
    "ax_left = plt.subplot(1, 1, 1)\n",
    "#plt.plot(shape_rigid0[:,0], shape_rigid0[:,1 ], '--r')\n",
    "#plt.plot(shape_growth0[:,0], shape_growth0[:,1 ], '--b')\n",
    "#plt.plot(pts_implicit1[:,0], pts_implicit1[:,1], '.k')\n",
    "#plt.plot(pts_rigid[:,0], pts_rigid[:,1], '-r')\n",
    "#plt.plot(pts_growth[:,0], pts_growth[:,1], '-b')\n",
    "#plt.quiver(pts_implicit1[:,0], pts_implicit1[:,1], cotan_pts[:,0], cotan_pts[:,1])\n",
    "plt.plot(pts[:,0], pts[:,1], '+r')\n",
    "#plt.plot(target_pts[:,0], target_pts[:,1], 'xk')\n",
    "plt.plot(target_noisefree[:,0], target_noisefree[:,1], 'xb')\n",
    "\n",
    "\n",
    "plt.axis('equal')"
   ]
  },
  {
   "cell_type": "markdown",
   "metadata": {},
   "source": [
    "Compare controls"
   ]
  },
  {
   "cell_type": "code",
   "execution_count": 33,
   "metadata": {
    "scrolled": true
   },
   "outputs": [
    {
     "name": "stdout",
     "output_type": "stream",
     "text": [
      "[[tensor([]), tensor([ 0.1278,  1.1015,  0.1393,  0.8595, -0.1151, -0.2318, -0.1536])], [tensor([]), tensor([ 0.0797,  1.0724,  0.0933,  0.8430, -0.1232, -0.2407, -0.1546])], [tensor([]), tensor([ 0.0353,  1.0537,  0.0534,  0.8274, -0.1243, -0.2477, -0.1450])], [tensor([]), tensor([-0.0047,  1.0440,  0.0217,  0.8078, -0.1199, -0.2612, -0.1195])], [tensor([]), tensor([-4.0197e-02,  1.0397e+00, -2.5967e-04,  7.8201e-01, -1.1129e-01,\n",
      "        -2.8697e-01, -8.8882e-02])], [tensor([]), tensor([-0.0728,  1.0344, -0.0143,  0.7477, -0.1004, -0.3239, -0.0692])], [tensor([]), tensor([-0.1038,  1.0256, -0.0210,  0.7033, -0.0884, -0.3702, -0.0701])], [tensor([]), tensor([-0.1335,  1.0141, -0.0192,  0.6504, -0.0759, -0.4231, -0.0936])], [tensor([]), tensor([-0.1612,  1.0009, -0.0105,  0.5912, -0.0654, -0.4776, -0.1370])], [tensor([]), tensor([-0.1857,  0.9862,  0.0011,  0.5249, -0.0645, -0.5324, -0.1974])]]\n"
     ]
    }
   ],
   "source": [
    "print(intermediate_controls_opt)"
   ]
  },
  {
   "cell_type": "code",
   "execution_count": 35,
   "metadata": {},
   "outputs": [
    {
     "name": "stdout",
     "output_type": "stream",
     "text": [
      "[[tensor([1.0095, 1.0466]), tensor([]), tensor([])], [tensor([0.9916, 0.9838]), tensor([]), tensor([])], [tensor([0.9887, 0.9282]), tensor([]), tensor([])], [tensor([0.9992, 0.8771]), tensor([]), tensor([])], [tensor([1.0167, 0.8164]), tensor([]), tensor([])], [tensor([1.0357, 0.7360]), tensor([]), tensor([])], [tensor([1.0910, 0.6777]), tensor([]), tensor([])], [tensor([1.2082, 0.6494]), tensor([]), tensor([])], [tensor([1.3811, 0.5965]), tensor([]), tensor([])], [tensor([1.4683, 0.3734]), tensor([]), tensor([])]]\n"
     ]
    }
   ],
   "source": [
    "print(intermediate_controls)"
   ]
  },
  {
   "cell_type": "markdown",
   "metadata": {},
   "source": [
    "Re-shoot with controls that 'are supposed to be zero' shutdown"
   ]
  },
  {
   "cell_type": "code",
   "execution_count": 41,
   "metadata": {},
   "outputs": [],
   "source": [
    "cont = [] \n",
    "keep_cont = [False, True, False, True, False, False, False]\n",
    "\n",
    "for i in range(10):\n",
    "    cont_i = []\n",
    "    for j in range(len(keep_cont)):\n",
    "        if keep_cont[j]:\n",
    "            cont_i.append(intermediate_controls_opt[i][1][j].clone())\n",
    "        else:\n",
    "                cont_i.append(torch.zeros_like(intermediate_controls_opt[i][1][j].clone()))\n",
    "    cont.append([torch.tensor(cont_i), torch.tensor([]), torch.tensor([])])"
   ]
  },
  {
   "cell_type": "code",
   "execution_count": 42,
   "metadata": {},
   "outputs": [
    {
     "data": {
      "text/plain": [
       "torch.Size([300, 2, 7])"
      ]
     },
     "execution_count": 42,
     "metadata": {},
     "output_type": "execute_result"
    }
   ],
   "source": [
    "C_opt.shape"
   ]
  },
  {
   "cell_type": "code",
   "execution_count": 43,
   "metadata": {},
   "outputs": [],
   "source": [
    "implicit1_rg = dm.DeformationModules.create_deformation_module('implicit_order_1', dim=2, nb_pts=pts_implicit1.shape[0], C=C_opt, sigma=sigma1, nu=nu, coeff=1., gd=(pts_implicit1.view(-1).requires_grad_(), R.view(-1).requires_grad_()), cotan = (cotan_pts.view(-1).requires_grad_(), cotan_R.view(-1).requires_grad_()))\n",
    "silent_rigid_rg = dm.DeformationModules.create_deformation_module('silent_points', dim=2, nb_pts=shape_rigid0.shape[0], gd=shape_rigid0.view(-1).requires_grad_())\n",
    "silent_growth_rg = dm.DeformationModules.create_deformation_module('silent_points', dim=2, nb_pts=shape_growth0.shape[0], gd=shape_growth0.view(-1).requires_grad_())"
   ]
  },
  {
   "cell_type": "code",
   "execution_count": 44,
   "metadata": {
    "scrolled": true
   },
   "outputs": [
    {
     "name": "stdout",
     "output_type": "stream",
     "text": [
      "[[tensor([0.0000, 1.1015, 0.0000, 0.8595, 0.0000, 0.0000, 0.0000]), tensor([]), tensor([])], [tensor([0.0000, 1.0724, 0.0000, 0.8430, 0.0000, 0.0000, 0.0000]), tensor([]), tensor([])], [tensor([0.0000, 1.0537, 0.0000, 0.8274, 0.0000, 0.0000, 0.0000]), tensor([]), tensor([])], [tensor([0.0000, 1.0440, 0.0000, 0.8078, 0.0000, 0.0000, 0.0000]), tensor([]), tensor([])], [tensor([0.0000, 1.0397, 0.0000, 0.7820, 0.0000, 0.0000, 0.0000]), tensor([]), tensor([])], [tensor([0.0000, 1.0344, 0.0000, 0.7477, 0.0000, 0.0000, 0.0000]), tensor([]), tensor([])], [tensor([0.0000, 1.0256, 0.0000, 0.7033, 0.0000, 0.0000, 0.0000]), tensor([]), tensor([])], [tensor([0.0000, 1.0141, 0.0000, 0.6504, 0.0000, 0.0000, 0.0000]), tensor([]), tensor([])], [tensor([0.0000, 1.0009, 0.0000, 0.5912, 0.0000, 0.0000, 0.0000]), tensor([]), tensor([])], [tensor([0.0000, 0.9862, 0.0000, 0.5249, 0.0000, 0.0000, 0.0000]), tensor([]), tensor([])]]\n"
     ]
    }
   ],
   "source": [
    "print(cont)"
   ]
  },
  {
   "cell_type": "code",
   "execution_count": 45,
   "metadata": {},
   "outputs": [
    {
     "name": "stdout",
     "output_type": "stream",
     "text": [
      "step  10\n"
     ]
    }
   ],
   "source": [
    "intermediate_states_rg, intermediate_controls_rg = dm.HamiltonianDynamic.shoot(dm.HamiltonianDynamic.Hamiltonian([implicit1_rg, silent_rigid_rg, silent_growth_rg]), 10, 'euler', controls= cont, intermediates=True)\n",
    "pts_rg = implicit1_rg.manifold.gd[0].detach().view(-1, 2)\n",
    "pts_rigid_rg = silent_rigid_rg.manifold.gd.detach().view(-1, 2)\n",
    "pts_growth_rg = silent_growth_rg.manifold.gd.detach().view(-1, 2)"
   ]
  },
  {
   "cell_type": "markdown",
   "metadata": {},
   "source": [
    "Plot and compare with optimized "
   ]
  },
  {
   "cell_type": "code",
   "execution_count": 46,
   "metadata": {},
   "outputs": [
    {
     "data": {
      "text/plain": [
       "(-5.559933304786682,\n",
       " 45.572168469429016,\n",
       " -3.4317103385925294,\n",
       " 15.621092891693115)"
      ]
     },
     "execution_count": 46,
     "metadata": {},
     "output_type": "execute_result"
    }
   ],
   "source": [
    "%matplotlib qt5\n",
    "ax_left = plt.subplot(1, 1, 1)\n",
    "\n",
    "plt.plot(pts[:,0], pts[:,1], '+k')\n",
    "\n",
    "#plt.plot(shape_rigid0[:,0], shape_rigid0[:,1 ], '--r')\n",
    "#plt.plot(shape_growth0[:,0], shape_growth0[:,1 ], '--b')\n",
    "#plt.plot(pts_implicit1[:,0], pts_implicit1[:,1], '.k')\n",
    "#plt.plot(pts_rigid[:,0], pts_rigid[:,1], '--r')\n",
    "#plt.plot(pts_growth[:,0], pts_growth[:,1], '--b')\n",
    "#plt.plot(pts[:,0], pts[:,1], '.r')\n",
    "\n",
    "#plt.plot(pts_rigid_rg[:,0], pts_rigid_rg[:,1], '-r')\n",
    "#plt.plot(pts_growth_rg[:,0], pts_growth_rg[:,1], '-b')\n",
    "plt.plot(pts_rg[:,0], pts_rg[:,1], 'xr')\n",
    "#plt.plot(pts_imp[:,0], pts_imp[:,1], 'xk')\n",
    "plt.axis('equal')"
   ]
  },
  {
   "cell_type": "markdown",
   "metadata": {},
   "source": [
    "Compare growth between optimized and shutdown"
   ]
  },
  {
   "cell_type": "code",
   "execution_count": 47,
   "metadata": {
    "scrolled": true
   },
   "outputs": [
    {
     "name": "stdout",
     "output_type": "stream",
     "text": [
      "t =  0 proj = 0.9677616357803345\n",
      "t =  1 proj = 0.9703178405761719\n",
      "t =  2 proj = 0.9716298580169678\n",
      "t =  3 proj = 0.9712448120117188\n",
      "t =  4 proj = 0.9673908948898315\n",
      "t =  5 proj = 0.9585177898406982\n",
      "t =  6 proj = 0.9434135556221008\n",
      "t =  7 proj = 0.9211753010749817\n",
      "t =  8 proj = 0.8914282321929932\n",
      "t =  9 proj = 0.8525838255882263\n"
     ]
    }
   ],
   "source": [
    "for t in range(10):\n",
    "    h_opt = intermediate_controls_opt[t][1]\n",
    "    growth_opt = torch.tensordot(C_opt, h_opt, dims=1).view(-1, 2, 1)\n",
    "    norm_opt = torch.sqrt(torch.sum(growth_opt**2))\n",
    "    \n",
    "    h_rg = intermediate_controls_rg[t][0]\n",
    "    growth_rg = torch.tensordot(C_opt, h_rg, dims=1).view(-1, 2, 1)\n",
    "    norm_rg = torch.sqrt(torch.sum(growth_rg**2))\n",
    "    \n",
    "    print('t =  ' + str(t) + ' proj = ' + str(torch.sum(growth_opt * growth_rg / (norm_opt * norm_rg)).item()))"
   ]
  },
  {
   "cell_type": "code",
   "execution_count": null,
   "metadata": {},
   "outputs": [],
   "source": []
  },
  {
   "cell_type": "code",
   "execution_count": null,
   "metadata": {},
   "outputs": [],
   "source": []
  },
  {
   "cell_type": "code",
   "execution_count": null,
   "metadata": {},
   "outputs": [],
   "source": []
  },
  {
   "cell_type": "code",
   "execution_count": null,
   "metadata": {},
   "outputs": [],
   "source": []
  },
  {
   "cell_type": "code",
   "execution_count": 39,
   "metadata": {},
   "outputs": [],
   "source": [
    "t = 2"
   ]
  },
  {
   "cell_type": "code",
   "execution_count": 44,
   "metadata": {},
   "outputs": [
    {
     "name": "stdout",
     "output_type": "stream",
     "text": [
      "==========\n",
      "tensor([0.4532, 0.1129])\n",
      "tensor([0.4559, 0.0920])\n",
      "==========\n",
      "tensor([0.4530, 0.1098])\n",
      "tensor([0.4549, 0.0908])\n",
      "==========\n",
      "tensor([0.4528, 0.1054])\n",
      "tensor([0.4538, 0.0895])\n",
      "==========\n",
      "tensor([0.4523, 0.0998])\n",
      "tensor([0.4527, 0.0880])\n",
      "==========\n",
      "tensor([0.4517, 0.0929])\n",
      "tensor([0.4514, 0.0863])\n",
      "==========\n",
      "tensor([0.4509, 0.0849])\n",
      "tensor([0.4502, 0.0844])\n",
      "==========\n",
      "tensor([0.4500, 0.0759])\n",
      "tensor([0.4488, 0.0823])\n",
      "==========\n",
      "tensor([0.4488, 0.0659])\n",
      "tensor([0.4475, 0.0801])\n",
      "==========\n",
      "tensor([0.4475, 0.0552])\n",
      "tensor([0.4461, 0.0778])\n",
      "==========\n",
      "tensor([0.4459, 0.0438])\n",
      "tensor([0.4447, 0.0754])\n"
     ]
    }
   ],
   "source": [
    "for t in range(10):\n",
    "    print('='*10)\n",
    "    h = intermediate_controls[t][0]\n",
    "    print(h)\n",
    "    C_t = torch.tensordot(C, h, dims=1).view(-1, 2, 1)\n",
    "    h_opt = intermediate_controls_opt[t][1]\n",
    "    print(h_opt)\n",
    "    C_opt_t = torch.tensordot(C, h_opt, dims=1).view(-1, 2, 1)"
   ]
  },
  {
   "cell_type": "code",
   "execution_count": 45,
   "metadata": {},
   "outputs": [
    {
     "data": {
      "text/plain": [
       "tensor(0.4898)"
      ]
     },
     "execution_count": 45,
     "metadata": {},
     "output_type": "execute_result"
    }
   ],
   "source": [
    "torch.max(torch.abs(C_t))"
   ]
  },
  {
   "cell_type": "code",
   "execution_count": 46,
   "metadata": {
    "scrolled": true
   },
   "outputs": [
    {
     "data": {
      "text/plain": [
       "tensor(0.0320)"
      ]
     },
     "execution_count": 46,
     "metadata": {},
     "output_type": "execute_result"
    }
   ],
   "source": [
    "torch.max(torch.abs(C_t - C_opt_t))"
   ]
  },
  {
   "cell_type": "code",
   "execution_count": 110,
   "metadata": {},
   "outputs": [],
   "source": [
    "t = 9\n",
    "target_t = intermediate_states[t].gd[0][0].view(-1,2)\n",
    "reached_t = intermediate_states_opt[t].gd[1][0].view(-1,2)"
   ]
  },
  {
   "cell_type": "code",
   "execution_count": 112,
   "metadata": {},
   "outputs": [
    {
     "data": {
      "text/plain": [
       "(-4.149214178323746,\n",
       " 44.16139867901802,\n",
       " -2.2784684121608736,\n",
       " 14.028443259000777)"
      ]
     },
     "execution_count": 112,
     "metadata": {},
     "output_type": "execute_result"
    }
   ],
   "source": [
    "plt.figure()\n",
    "plt.plot(target_t[:,0], target_t[:,1], '.b')\n",
    "plt.plot(reached_t[:,0], reached_t[:,1], '.r')\n",
    "plt.axis('equal')"
   ]
  },
  {
   "cell_type": "code",
   "execution_count": null,
   "metadata": {},
   "outputs": [],
   "source": []
  },
  {
   "cell_type": "code",
   "execution_count": null,
   "metadata": {},
   "outputs": [],
   "source": []
  },
  {
   "cell_type": "code",
   "execution_count": null,
   "metadata": {},
   "outputs": [],
   "source": []
  },
  {
   "cell_type": "code",
   "execution_count": null,
   "metadata": {},
   "outputs": [],
   "source": []
  }
 ],
 "metadata": {
  "kernelspec": {
   "display_name": "Python 3",
   "language": "python",
   "name": "python3"
  },
  "language_info": {
   "codemirror_mode": {
    "name": "ipython",
    "version": 3
   },
   "file_extension": ".py",
   "mimetype": "text/x-python",
   "name": "python",
   "nbconvert_exporter": "python",
   "pygments_lexer": "ipython3",
   "version": "3.5.2"
  },
  "name": "2Dshoot.ipynb"
 },
 "nbformat": 4,
 "nbformat_minor": 2
}
