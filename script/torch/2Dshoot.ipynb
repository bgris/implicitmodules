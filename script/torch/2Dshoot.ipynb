{
 "cells": [
  {
   "cell_type": "code",
   "execution_count": 1,
   "metadata": {
    "autoscroll": false,
    "ein.hycell": false,
    "ein.tags": "worksheet-0",
    "slideshow": {
     "slide_type": "-"
    }
   },
   "outputs": [],
   "source": [
    "%load_ext autoreload\n",
    "%autoreload 2\n",
    "\n",
    "import sys\n",
    "import copy\n",
    "import math\n",
    "import pickle\n",
    "\n",
    "sys.path.append(\"../../\")\n",
    "\n",
    "import numpy as np\n",
    "import torch\n",
    "import matplotlib.pyplot as plt\n",
    "\n",
    "import implicitmodules.torch as dm\n",
    "\n",
    "#torch.set_num_threads(6)\n",
    "torch.set_default_tensor_type(torch.FloatTensor)"
   ]
  },
  {
   "cell_type": "code",
   "execution_count": 2,
   "metadata": {
    "autoscroll": false,
    "ein.hycell": false,
    "ein.tags": "worksheet-0",
    "slideshow": {
     "slide_type": "-"
    }
   },
   "outputs": [],
   "source": [
    "epsilon = .5\n",
    "a = 10.\n",
    "b = 1.\n",
    "d = 1.\n",
    "c = 41.\n",
    "c0 = 40.\n",
    "shape_rigid0 = torch.tensor([[0., 0.], [c0, 0.], [c0, a], [0., a], [0., 0.]])\n",
    "shape_growth0 = torch .tensor([[0., a], [c0, a], [c0, a + b], [0., a + b], [0., a]])\n",
    "\n",
    "shape_rigid = torch.tensor([[-epsilon, -epsilon], [c + epsilon, -epsilon], [c + epsilon, a +epsilon], [- epsilon, a + epsilon], [-epsilon, -epsilon]])\n",
    "shape_growth = torch .tensor([[-epsilon, a-epsilon + d], [c+epsilon, a-epsilon + d], [c+epsilon, a + b+epsilon + d], [-epsilon, a + b+epsilon + d], [-epsilon, a-epsilon + d]])\n"
   ]
  },
  {
   "cell_type": "code",
   "execution_count": 3,
   "metadata": {},
   "outputs": [],
   "source": [
    "Nh = 40\n",
    "Nvr = 10\n",
    "Nvg = 2\n",
    "Xr0 = torch.stack([torch.linspace(0., c0, Nh), torch.zeros([Nh])]).t()\n",
    "Xr1 = torch.stack([torch.linspace(c0, 0., Nh), torch.zeros([Nh]) + a]).t()\n",
    "Yr0 = torch.stack([torch.zeros([Nvr]) + c0, torch.linspace(0., a, Nvr)]).t()\n",
    "Yr1 = torch.stack([torch.zeros([Nvr]), torch.linspace(a, 0., Nvr)]).t()\n",
    "\n",
    "Xg0 = torch.stack([torch.linspace(0., c0, Nh), torch.zeros([Nh]) + a]).t()\n",
    "Xg1 = torch.stack([torch.linspace(c0, 0., Nh), torch.zeros([Nh]) + a + b]).t()\n",
    "Yg0 = torch.stack([torch.zeros([Nvr]) + c0, torch.linspace(a, a + b, Nvr)]).t()\n",
    "Yg1 = torch.stack([torch.zeros([Nvr]), torch.linspace(a + b, a, Nvr)]).t()\n",
    "\n",
    "shape_rigid0 = torch.cat([Xr0, Yr0, Xr1, Yr1], dim=0)\n",
    "shape_growth0 = torch.cat([Xg0, Yg0, Xg1, Yg1], dim=0)"
   ]
  },
  {
   "cell_type": "code",
   "execution_count": 4,
   "metadata": {
    "autoscroll": false,
    "ein.hycell": false,
    "ein.tags": "worksheet-0",
    "slideshow": {
     "slide_type": "-"
    }
   },
   "outputs": [
    {
     "data": {
      "text/plain": [
       "(-2.6, 43.6, -1.15, 13.15)"
      ]
     },
     "execution_count": 4,
     "metadata": {},
     "output_type": "execute_result"
    },
    {
     "data": {
      "image/png": "[encoded data removed]",
      "text/plain": [
       "<Figure size 432x288 with 1 Axes>"
      ]
     },
     "metadata": {},
     "output_type": "display_data"
    }
   ],
   "source": [
    "plt.figure()\n",
    "plt.plot(shape_rigid[:,0], shape_rigid[:,1 ], '-r')\n",
    "plt.plot(shape_rigid0[:,0], shape_rigid0[:,1 ], '-.r')\n",
    "plt.plot(shape_growth[:,0], shape_growth[:,1 ], '-b')\n",
    "plt.plot(shape_growth0[:,0], shape_growth0[:,1 ], '-.b')\n",
    "plt.axis('equal')"
   ]
  },
  {
   "cell_type": "code",
   "execution_count": 5,
   "metadata": {
    "autoscroll": false,
    "ein.hycell": false,
    "ein.tags": "worksheet-0",
    "slideshow": {
     "slide_type": "-"
    }
   },
   "outputs": [],
   "source": [
    "aabb_rigid = dm.Utilities.AABB.build_from_points(shape_rigid)\n",
    "aabb_growth = dm.Utilities.AABB.build_from_points(shape_growth)"
   ]
  },
  {
   "cell_type": "code",
   "execution_count": 6,
   "metadata": {
    "autoscroll": false,
    "ein.hycell": false,
    "ein.tags": "worksheet-0",
    "slideshow": {
     "slide_type": "-"
    }
   },
   "outputs": [
    {
     "name": "stdout",
     "output_type": "stream",
     "text": [
      "torch.Size([240, 2])\n",
      "torch.Size([60, 2])\n"
     ]
    }
   ],
   "source": [
    "density_rigid = 0.5\n",
    "density_growth = 0.5\n",
    "\n",
    "pts_rigid = dm.Utilities.fill_area_uniform_density(dm.Utilities.area_shape, aabb_rigid, density_rigid, shape=shape_rigid, side=1)\n",
    "print(pts_rigid.shape)\n",
    "pts_growth = dm.Utilities.fill_area_uniform_density(dm.Utilities.area_shape, aabb_growth, density_growth, shape=shape_growth, side=1)\n",
    "print(pts_growth.shape)"
   ]
  },
  {
   "cell_type": "code",
   "execution_count": 7,
   "metadata": {
    "autoscroll": false,
    "ein.hycell": false,
    "ein.tags": "worksheet-0",
    "slideshow": {
     "slide_type": "-"
    }
   },
   "outputs": [
    {
     "data": {
      "text/plain": [
       "[<matplotlib.lines.Line2D at 0x7f9447d9c358>]"
      ]
     },
     "execution_count": 7,
     "metadata": {},
     "output_type": "execute_result"
    },
    {
     "data": {
      "image/png": "[encoded data removed]",
      "text/plain": [
       "<Figure size 432x288 with 1 Axes>"
      ]
     },
     "metadata": {},
     "output_type": "display_data"
    }
   ],
   "source": [
    "plt.figure()\n",
    "plt.plot(shape_rigid[:,0], shape_rigid[:,1 ], '-r')\n",
    "plt.plot(shape_growth[:,0], shape_growth[:,1 ], '-b')\n",
    "plt.plot(pts_rigid[:,0], pts_rigid[:,1], 'xk')\n",
    "plt.plot(pts_growth[:,0], pts_growth[:,1], '.k')"
   ]
  },
  {
   "cell_type": "code",
   "execution_count": 8,
   "metadata": {
    "autoscroll": false,
    "ein.hycell": false,
    "ein.tags": "worksheet-0",
    "slideshow": {
     "slide_type": "-"
    }
   },
   "outputs": [
    {
     "data": {
      "text/plain": [
       "(-2.550609588623047,\n",
       " 42.562801361083984,\n",
       " -1.1207106590270997,\n",
       " 12.534923839569093)"
      ]
     },
     "execution_count": 8,
     "metadata": {},
     "output_type": "execute_result"
    },
    {
     "data": {
      "image/png": "[encoded data removed]",
      "text/plain": [
       "<Figure size 432x288 with 1 Axes>"
      ]
     },
     "metadata": {},
     "output_type": "display_data"
    }
   ],
   "source": [
    "#%matplotlib qt5\n",
    "plt.figure()\n",
    "plt.plot(shape_rigid0[:,0], shape_rigid0[:,1 ], '-r')\n",
    "plt.plot(shape_growth0[:,0], shape_growth0[:,1 ], '-b')\n",
    "plt.plot(pts_rigid[:,0], pts_rigid[:,1], 'xk')\n",
    "plt.plot(pts_growth[:,0], pts_growth[:,1], '.k')\n",
    "plt.axis('equal')"
   ]
  },
  {
   "cell_type": "code",
   "execution_count": 9,
   "metadata": {
    "autoscroll": false,
    "ein.hycell": false,
    "ein.tags": "worksheet-0",
    "slideshow": {
     "slide_type": "-"
    }
   },
   "outputs": [
    {
     "data": {
      "text/plain": [
       "(-2.550609588623047,\n",
       " 42.562801361083984,\n",
       " -1.1207106590270997,\n",
       " 12.534923839569093)"
      ]
     },
     "execution_count": 9,
     "metadata": {},
     "output_type": "execute_result"
    },
    {
     "data": {
      "image/png": "[encoded data removed]",
      "text/plain": [
       "<Figure size 432x288 with 1 Axes>"
      ]
     },
     "metadata": {},
     "output_type": "display_data"
    }
   ],
   "source": [
    "N_rigid = pts_rigid.shape[0]\n",
    "N_growth = pts_growth.shape[0]\n",
    "pts_implicit1 = torch.cat([pts_rigid, pts_growth], dim=0)\n",
    "plt.figure()\n",
    "plt.plot(shape_rigid0[:,0], shape_rigid0[:,1 ], '-r')\n",
    "plt.plot(shape_growth0[:,0], shape_growth0[:,1 ], '-b')\n",
    "plt.plot(pts_implicit1[:,0], pts_implicit1[:,1], 'xk')\n",
    "#plt.plot(pts_implicit1[:N_rigid,0], pts_implicit1[:N_rigid,1], 'ok')\n",
    "plt.plot(pts_implicit1[N_rigid::2,0], pts_implicit1[N_rigid::2,1], 'ok')\n",
    "plt.axis('equal')"
   ]
  },
  {
   "cell_type": "code",
   "execution_count": 10,
   "metadata": {
    "autoscroll": false,
    "ein.hycell": false,
    "ein.tags": "worksheet-0",
    "slideshow": {
     "slide_type": "-"
    }
   },
   "outputs": [],
   "source": [
    "import math\n",
    "\n",
    "Npers = [1, 2]\n",
    "Npers = [2]\n",
    "dimC = len(Npers)\n",
    "C = torch.zeros(pts_implicit1.shape[0], 2, len(Npers))\n",
    "\n",
    "for i in range(len(Npers)):\n",
    "    Nper = Npers[i]\n",
    "    theta = Nper * torch.linspace(0, 2 * math.pi, int(0.5 * N_growth))\n",
    "    C[N_rigid::2, 0, i] = torch.tensor([math.cos(thetai) for thetai in theta])\n",
    "    C[N_rigid+1::2, 0, i] = torch.tensor([math.cos(thetai) for thetai in theta])"
   ]
  },
  {
   "cell_type": "code",
   "execution_count": 11,
   "metadata": {},
   "outputs": [
    {
     "data": {
      "text/plain": [
       "torch.Size([300, 2, 1])"
      ]
     },
     "execution_count": 11,
     "metadata": {},
     "output_type": "execute_result"
    }
   ],
   "source": [
    "C.shape"
   ]
  },
  {
   "cell_type": "code",
   "execution_count": 12,
   "metadata": {
    "autoscroll": false,
    "ein.hycell": false,
    "ein.tags": "worksheet-0",
    "slideshow": {
     "slide_type": "-"
    }
   },
   "outputs": [
    {
     "data": {
      "text/plain": [
       "(-2.550609588623047,\n",
       " 42.562801361083984,\n",
       " -1.1207106590270997,\n",
       " 12.534923839569093)"
      ]
     },
     "execution_count": 12,
     "metadata": {},
     "output_type": "execute_result"
    }
   ],
   "source": [
    "%matplotlib qt5\n",
    "ax_left = plt.subplot(1, 1, 1)\n",
    "plt.plot(shape_rigid0[:,0], shape_rigid0[:,1 ], '-r')\n",
    "plt.plot(shape_growth0[:,0], shape_growth0[:,1 ], '-b')\n",
    "plt.plot(pts_implicit1[:,0], pts_implicit1[:,1], 'xk')\n",
    "#plt.plot(pts_implicit1[:N_rigid,0], pts_implicit1[:N_rigid,1], 'ok')\n",
    "dm.Utilities.plot_C_ellipse(ax_left, pts_implicit1, C, c_index=0, scale=0.5, color='red')\n",
    "plt.axis('equal')"
   ]
  },
  {
   "cell_type": "code",
   "execution_count": 12,
   "metadata": {
    "autoscroll": false,
    "ein.hycell": false,
    "ein.tags": "worksheet-0",
    "slideshow": {
     "slide_type": "-"
    }
   },
   "outputs": [],
   "source": [
    "angles = 0. * math.pi * torch.ones(pts_implicit1.shape[0])\n",
    "R = torch.stack([dm.Utilities.rot2d(a) for a in angles])"
   ]
  },
  {
   "cell_type": "code",
   "execution_count": 13,
   "metadata": {
    "autoscroll": false,
    "ein.hycell": false,
    "ein.tags": "worksheet-0",
    "slideshow": {
     "slide_type": "-"
    }
   },
   "outputs": [],
   "source": [
    "cotan_pts = torch.zeros_like(pts_implicit1)\n",
    "mm = 5000.\n",
    "cotan_pts[-1, 0] = mm\n",
    "cotan_pts[N_rigid + 1, 0] = -mm\n",
    "#cotan_pts = 200 * (torch.rand_like(pts_implicit1) - 0.7)\n",
    "cotan_R = torch.zeros_like(R)"
   ]
  },
  {
   "cell_type": "code",
   "execution_count": 14,
   "metadata": {
    "autoscroll": false,
    "ein.hycell": false,
    "ein.tags": "worksheet-0",
    "slideshow": {
     "slide_type": "-"
    }
   },
   "outputs": [],
   "source": [
    "sigma1 = 3.\n",
    "nu = 0.001\n",
    "implicit1 = dm.DeformationModules.create_deformation_module('implicit_order_1', dim=2, nb_pts=pts_implicit1.shape[0], C=C, sigma=sigma1, nu=nu, coeff=1., gd=(pts_implicit1.view(-1).requires_grad_(), R.view(-1).requires_grad_()), cotan = (cotan_pts.view(-1).requires_grad_(), cotan_R.view(-1).requires_grad_()))"
   ]
  },
  {
   "cell_type": "code",
   "execution_count": 15,
   "metadata": {
    "autoscroll": false,
    "ein.hycell": false,
    "ein.tags": "worksheet-0",
    "scrolled": false,
    "slideshow": {
     "slide_type": "-"
    }
   },
   "outputs": [],
   "source": [
    "silent_imp = dm.DeformationModules.create_deformation_module('silent_points', dim=2, nb_pts=pts_implicit1.shape[0], gd=pts_implicit1.view(-1).requires_grad_())\n",
    "silent_rigid = dm.DeformationModules.create_deformation_module('silent_points', dim=2, nb_pts=shape_rigid0.shape[0], gd=shape_rigid0.view(-1).requires_grad_())\n",
    "silent_growth = dm.DeformationModules.create_deformation_module('silent_points', dim=2, nb_pts=shape_growth0.shape[0], gd=shape_growth0.view(-1).requires_grad_())"
   ]
  },
  {
   "cell_type": "code",
   "execution_count": 16,
   "metadata": {
    "autoscroll": false,
    "ein.hycell": false,
    "ein.tags": "worksheet-0",
    "scrolled": true,
    "slideshow": {
     "slide_type": "-"
    }
   },
   "outputs": [],
   "source": [
    "intermediate_states, intermediate_controls = dm.HamiltonianDynamic.shoot(dm.HamiltonianDynamic.Hamiltonian([implicit1, silent_rigid, silent_growth]), 10, 'euler', intermediates=True)\n",
    "pts = implicit1.manifold.gd[0].detach().view(-1, 2)\n",
    "pts_rigid = silent_rigid.manifold.gd.detach().view(-1, 2)\n",
    "pts_growth = silent_growth.manifold.gd.detach().view(-1, 2)"
   ]
  },
  {
   "cell_type": "code",
   "execution_count": 17,
   "metadata": {
    "autoscroll": false,
    "ein.hycell": false,
    "ein.tags": "worksheet-0",
    "slideshow": {
     "slide_type": "-"
    }
   },
   "outputs": [
    {
     "data": {
      "text/plain": [
       "(-6.117898678779602,\n",
       " 46.13002893924713,\n",
       " -1.4300320625305176,\n",
       " 15.451258945465089)"
      ]
     },
     "execution_count": 17,
     "metadata": {},
     "output_type": "execute_result"
    }
   ],
   "source": [
    "%matplotlib qt5\n",
    "ax_left = plt.subplot(1, 1, 1)\n",
    "plt.plot(shape_rigid0[:,0], shape_rigid0[:,1 ], '--r')\n",
    "plt.plot(shape_growth0[:,0], shape_growth0[:,1 ], '--b')\n",
    "#plt.plot(pts_implicit1[:,0], pts_implicit1[:,1], '.k')\n",
    "plt.plot(pts_rigid[:,0], pts_rigid[:,1], '-r')\n",
    "plt.plot(pts_growth[:,0], pts_growth[:,1], '-b')\n",
    "plt.quiver(pts_implicit1[:,0], pts_implicit1[:,1], cotan_pts[:,0], cotan_pts[:,1])\n",
    "plt.plot(pts[:,0], pts[:,1], '+r')\n",
    "#plt.plot(pts_imp[:,0], pts_imp[:,1], 'xk')\n",
    "plt.axis('equal')"
   ]
  },
  {
   "cell_type": "code",
   "execution_count": 18,
   "metadata": {
    "scrolled": true
   },
   "outputs": [
    {
     "name": "stdout",
     "output_type": "stream",
     "text": [
      "[[tensor([1.3382]), tensor([]), tensor([])], [tensor([1.3024]), tensor([]), tensor([])], [tensor([1.2849]), tensor([]), tensor([])], [tensor([1.2860]), tensor([]), tensor([])], [tensor([1.3048]), tensor([]), tensor([])], [tensor([1.3374]), tensor([]), tensor([])], [tensor([1.3716]), tensor([]), tensor([])], [tensor([1.3993]), tensor([]), tensor([])], [tensor([1.4469]), tensor([]), tensor([])], [tensor([1.5476]), tensor([]), tensor([])]]\n"
     ]
    }
   ],
   "source": [
    "print(intermediate_controls)"
   ]
  },
  {
   "cell_type": "code",
   "execution_count": 20,
   "metadata": {},
   "outputs": [],
   "source": [
    "t = 0\n",
    "h = intermediate_controls[t][0]\n",
    "C_t = torch.tensordot(C, h, dims=1).view(-1, 2, 1)\n",
    "\n",
    "X = intermediate_states[t].gd[0][0].view(-1,2)"
   ]
  },
  {
   "cell_type": "code",
   "execution_count": 21,
   "metadata": {},
   "outputs": [
    {
     "data": {
      "text/plain": [
       "(-2.550609588623047,\n",
       " 42.562801361083984,\n",
       " -1.1207106590270997,\n",
       " 12.534923839569093)"
      ]
     },
     "execution_count": 21,
     "metadata": {},
     "output_type": "execute_result"
    }
   ],
   "source": [
    "%matplotlib qt5\n",
    "ax_left = plt.subplot(1, 1, 1)\n",
    "#plt.plot(shape_rigid0[:,0], shape_rigid0[:,1 ], '-r')\n",
    "#plt.plot(shape_growth0[:,0], shape_growth0[:,1 ], '-b')\n",
    "plt.plot(X[:,0], X[:,1], 'xk')\n",
    "#plt.plot(pts_implicit1[:N_rigid,0], pts_implicit1[:N_rigid,1], 'ok')\n",
    "dm.Utilities.plot_C_ellipse(ax_left, X, C_t, c_index=0, scale=1., color='red')\n",
    "plt.axis('equal')"
   ]
  },
  {
   "cell_type": "code",
   "execution_count": 19,
   "metadata": {},
   "outputs": [],
   "source": [
    "# Source/target : implicit points\n",
    "target_noisefree = implicit1.manifold.gd[0].detach().view(-1, 2)\n",
    "source_pts = pts_implicit1.clone()\n",
    "target_pts = target_noisefree #+ 0.2*torch.rand(*target_noisefree.shape)"
   ]
  },
  {
   "cell_type": "code",
   "execution_count": 23,
   "metadata": {},
   "outputs": [],
   "source": [
    "# Source/target : surrounding shape\n",
    "target_noisefree = torch.cat([pts_rigid.clone(), pts_growth.clone()], dim=0)\n",
    "source_pts = torch.cat([shape_rigid0.clone(), shape_growth0.clone()], dim=0)\n",
    "target_pts = target_noisefree + 0.2*torch.rand(*target_noisefree.shape)"
   ]
  },
  {
   "cell_type": "code",
   "execution_count": 21,
   "metadata": {},
   "outputs": [
    {
     "data": {
      "text/plain": [
       "torch.Size([300, 2])"
      ]
     },
     "execution_count": 21,
     "metadata": {},
     "output_type": "execute_result"
    }
   ],
   "source": [
    "target_noisefree.shape"
   ]
  },
  {
   "cell_type": "code",
   "execution_count": 22,
   "metadata": {},
   "outputs": [
    {
     "data": {
      "text/plain": [
       "(-4.8469722986221315,\n",
       " 44.859150242805484,\n",
       " -5.066342496871949,\n",
       " 16.96825804710388)"
      ]
     },
     "execution_count": 22,
     "metadata": {},
     "output_type": "execute_result"
    }
   ],
   "source": [
    "%matplotlib qt5\n",
    "ax_left = plt.subplot(1, 1, 1)\n",
    "#plt.plot(pts_implicit1[:,0], pts_implicit1[:,1], '.k')\n",
    "plt.plot(target_noisefree[:,0], target_noisefree[:,1], '.r')\n",
    "plt.plot(target_pts[:,0], target_pts[:,1], '+r')\n",
    "plt.axis('equal')"
   ]
  },
  {
   "cell_type": "code",
   "execution_count": 20,
   "metadata": {},
   "outputs": [],
   "source": [
    "Npers_opt = [1, 2]\n",
    "dimC_opt = len(Npers)\n",
    "C_opt = torch.zeros(pts_implicit1.shape[0], 2, len(Npers_opt))\n",
    "\n",
    "for i in range(len(Npers_opt)):\n",
    "    Nper = Npers_opt[i]\n",
    "    theta = Nper * torch.linspace(0, 2 * math.pi, int(0.5 * N_growth))\n",
    "    C_opt[N_rigid::2, 0, i] = torch.tensor([math.cos(thetai) for thetai in theta])\n",
    "    C_opt[N_rigid+1::2, 0, i] = torch.tensor([math.cos(thetai) for thetai in theta])"
   ]
  },
  {
   "cell_type": "code",
   "execution_count": 21,
   "metadata": {},
   "outputs": [],
   "source": [
    "implicit1_opt = dm.DeformationModules.create_deformation_module('implicit_order_1', dim=2, nb_pts=pts_implicit1.shape[0], C=C_opt, sigma=sigma1, nu=nu, coeff=1., gd=(pts_implicit1.view(-1).requires_grad_(), R.view(-1).requires_grad_()))"
   ]
  },
  {
   "cell_type": "code",
   "execution_count": 22,
   "metadata": {},
   "outputs": [],
   "source": [
    "#implicit0_opt = dm.DeformationModules.create_deformation_module('implicit_order_0', dim=2, nb_pts=pts_implicit1.shape[0], sigma=sigma1, nu=nu, coeff=10., gd=pts_implicit1.clone().view(-1).requires_grad_())"
   ]
  },
  {
   "cell_type": "code",
   "execution_count": 23,
   "metadata": {},
   "outputs": [],
   "source": [
    "model = dm.Models.ModelPointsRegistration([source_pts], [implicit1_opt], [dm.Attachment.EuclideanPointwiseDistanceAttachment(weight=1.)], lam=100.)"
   ]
  },
  {
   "cell_type": "code",
   "execution_count": 24,
   "metadata": {},
   "outputs": [],
   "source": [
    "fitter = dm.Models.ModelFittingScipy(model, 1.)"
   ]
  },
  {
   "cell_type": "code",
   "execution_count": 25,
   "metadata": {
    "scrolled": true
   },
   "outputs": [
    {
     "name": "stdout",
     "output_type": "stream",
     "text": [
      "Initial energy = 30571.668\n",
      "================================================================================\n",
      "Iteration: 1 \n",
      "Total energy = 29868.769531 \n",
      "Attach cost = 29863.968750 \n",
      "Deformation cost = 4.801285\n",
      "================================================================================\n",
      "Iteration: 2 \n",
      "Total energy = 26712.388672 \n",
      "Attach cost = 26483.185547 \n",
      "Deformation cost = 229.203888\n",
      "================================================================================\n",
      "Iteration: 3 \n",
      "Total energy = 24701.707031 \n",
      "Attach cost = 24043.816406 \n",
      "Deformation cost = 657.891357\n",
      "================================================================================\n",
      "Iteration: 4 \n",
      "Total energy = 21833.423828 \n",
      "Attach cost = 20295.804688 \n",
      "Deformation cost = 1537.619385\n",
      "================================================================================\n",
      "Iteration: 5 \n",
      "Total energy = 17124.390625 \n",
      "Attach cost = 13619.134766 \n",
      "Deformation cost = 3505.254883\n",
      "================================================================================\n",
      "Iteration: 6 \n",
      "Total energy = 10550.656250 \n",
      "Attach cost = 5726.289551 \n",
      "Deformation cost = 4824.366699\n",
      "================================================================================\n",
      "Iteration: 7 \n",
      "Total energy = 8731.635742 \n",
      "Attach cost = 2992.432129 \n",
      "Deformation cost = 5739.203613\n",
      "================================================================================\n",
      "Iteration: 8 \n",
      "Total energy = 7263.859375 \n",
      "Attach cost = 1219.074341 \n",
      "Deformation cost = 6044.785156\n",
      "================================================================================\n",
      "Iteration: 9 \n",
      "Total energy = 6642.991699 \n",
      "Attach cost = 493.442200 \n",
      "Deformation cost = 6149.549316\n",
      "================================================================================\n",
      "Iteration: 10 \n",
      "Total energy = 6179.342773 \n",
      "Attach cost = 178.888885 \n",
      "Deformation cost = 6000.454102\n",
      "================================================================================\n",
      "Iteration: 11 \n",
      "Total energy = 6087.193848 \n",
      "Attach cost = 124.648476 \n",
      "Deformation cost = 5962.545410\n",
      "================================================================================\n",
      "Iteration: 12 \n",
      "Total energy = 6046.801758 \n",
      "Attach cost = 60.863239 \n",
      "Deformation cost = 5985.938477\n",
      "================================================================================\n",
      "Iteration: 13 \n",
      "Total energy = 6038.986328 \n",
      "Attach cost = 46.225979 \n",
      "Deformation cost = 5992.760254\n",
      "================================================================================\n",
      "Iteration: 14 \n",
      "Total energy = 6036.376953 \n",
      "Attach cost = 40.290936 \n",
      "Deformation cost = 5996.085938\n",
      "================================================================================\n",
      "Iteration: 15 \n",
      "Total energy = 6035.764648 \n",
      "Attach cost = 38.463154 \n",
      "Deformation cost = 5997.301270\n",
      "================================================================================\n",
      "Iteration: 16 \n",
      "Total energy = 6035.666992 \n",
      "Attach cost = 38.399334 \n",
      "Deformation cost = 5997.267578\n",
      "================================================================================\n",
      "Iteration: 17 \n",
      "Total energy = 6035.361816 \n",
      "Attach cost = 38.261353 \n",
      "Deformation cost = 5997.100586\n",
      "================================================================================\n",
      "Iteration: 18 \n",
      "Total energy = 6035.301758 \n",
      "Attach cost = 38.166214 \n",
      "Deformation cost = 5997.135742\n",
      "================================================================================\n",
      "Iteration: 19 \n",
      "Total energy = 6035.301758 \n",
      "Attach cost = 38.166214 \n",
      "Deformation cost = 5997.135742\n",
      "================================================================================\n",
      "Optimisation process exited with message: b'CONVERGENCE: REL_REDUCTION_OF_F_<=_FACTR*EPSMCH'\n",
      "Final energy = 6035.3017578125\n",
      "Closure evaluations = 73\n",
      "Time elapsed = 1091.1019055843353\n"
     ]
    }
   ],
   "source": [
    "costs = fitter.fit([target_pts], 30, log_interval=1)"
   ]
  },
  {
   "cell_type": "code",
   "execution_count": 26,
   "metadata": {},
   "outputs": [],
   "source": [
    "compound = dm.DeformationModules.CompoundModule(model.modules)\n",
    "compound.manifold.fill(model.init_manifold)"
   ]
  },
  {
   "cell_type": "code",
   "execution_count": 27,
   "metadata": {},
   "outputs": [],
   "source": [
    "intermediate_states_opt, intermediate_controls_opt = dm.HamiltonianDynamic.shoot(dm.HamiltonianDynamic.Hamiltonian(compound), 10, 'euler', intermediates=True)"
   ]
  },
  {
   "cell_type": "code",
   "execution_count": 28,
   "metadata": {},
   "outputs": [],
   "source": [
    "pts = compound.manifold.gd[0].detach().view(-1, 2)"
   ]
  },
  {
   "cell_type": "code",
   "execution_count": 35,
   "metadata": {},
   "outputs": [
    {
     "data": {
      "text/plain": [
       "(-4.8469722986221315,\n",
       " 44.859150242805484,\n",
       " -5.06690731048584,\n",
       " 16.980119132995604)"
      ]
     },
     "execution_count": 35,
     "metadata": {},
     "output_type": "execute_result"
    }
   ],
   "source": [
    "%matplotlib qt5\n",
    "ax_left = plt.subplot(1, 1, 1)\n",
    "#plt.plot(shape_rigid0[:,0], shape_rigid0[:,1 ], '--r')\n",
    "#plt.plot(shape_growth0[:,0], shape_growth0[:,1 ], '--b')\n",
    "#plt.plot(pts_implicit1[:,0], pts_implicit1[:,1], '.k')\n",
    "#plt.plot(pts_rigid[:,0], pts_rigid[:,1], '-r')\n",
    "#plt.plot(pts_growth[:,0], pts_growth[:,1], '-b')\n",
    "#plt.quiver(pts_implicit1[:,0], pts_implicit1[:,1], cotan_pts[:,0], cotan_pts[:,1])\n",
    "plt.plot(pts[:,0], pts[:,1], '+r')\n",
    "#plt.plot(target_pts[:,0], target_pts[:,1], 'xk')\n",
    "plt.plot(target_noisefree[:,0], target_noisefree[:,1], 'xb')\n",
    "\n",
    "\n",
    "plt.axis('equal')"
   ]
  },
  {
   "cell_type": "code",
   "execution_count": 29,
   "metadata": {},
   "outputs": [
    {
     "name": "stdout",
     "output_type": "stream",
     "text": [
      "[[tensor([]), tensor([-0.0474,  1.4573])], [tensor([]), tensor([-0.0217,  1.4625])], [tensor([]), tensor([-0.0023,  1.4579])], [tensor([]), tensor([0.0100, 1.4413])], [tensor([]), tensor([0.0150, 1.4116])], [tensor([]), tensor([0.0139, 1.3700])], [tensor([]), tensor([0.0101, 1.3224])], [tensor([]), tensor([0.0079, 1.2762])], [tensor([]), tensor([0.0090, 1.2352])], [tensor([]), tensor([0.0133, 1.2005])]]\n"
     ]
    }
   ],
   "source": [
    "print(intermediate_controls_opt)"
   ]
  },
  {
   "cell_type": "code",
   "execution_count": 30,
   "metadata": {},
   "outputs": [
    {
     "name": "stdout",
     "output_type": "stream",
     "text": [
      "[[tensor([1.3382]), tensor([]), tensor([])], [tensor([1.3024]), tensor([]), tensor([])], [tensor([1.2849]), tensor([]), tensor([])], [tensor([1.2860]), tensor([]), tensor([])], [tensor([1.3048]), tensor([]), tensor([])], [tensor([1.3374]), tensor([]), tensor([])], [tensor([1.3716]), tensor([]), tensor([])], [tensor([1.3993]), tensor([]), tensor([])], [tensor([1.4469]), tensor([]), tensor([])], [tensor([1.5476]), tensor([]), tensor([])]]\n"
     ]
    }
   ],
   "source": [
    "print(intermediate_controls)"
   ]
  },
  {
   "cell_type": "code",
   "execution_count": 39,
   "metadata": {},
   "outputs": [],
   "source": [
    "t = 2"
   ]
  },
  {
   "cell_type": "code",
   "execution_count": 44,
   "metadata": {},
   "outputs": [
    {
     "name": "stdout",
     "output_type": "stream",
     "text": [
      "==========\n",
      "tensor([0.4532, 0.1129])\n",
      "tensor([0.4559, 0.0920])\n",
      "==========\n",
      "tensor([0.4530, 0.1098])\n",
      "tensor([0.4549, 0.0908])\n",
      "==========\n",
      "tensor([0.4528, 0.1054])\n",
      "tensor([0.4538, 0.0895])\n",
      "==========\n",
      "tensor([0.4523, 0.0998])\n",
      "tensor([0.4527, 0.0880])\n",
      "==========\n",
      "tensor([0.4517, 0.0929])\n",
      "tensor([0.4514, 0.0863])\n",
      "==========\n",
      "tensor([0.4509, 0.0849])\n",
      "tensor([0.4502, 0.0844])\n",
      "==========\n",
      "tensor([0.4500, 0.0759])\n",
      "tensor([0.4488, 0.0823])\n",
      "==========\n",
      "tensor([0.4488, 0.0659])\n",
      "tensor([0.4475, 0.0801])\n",
      "==========\n",
      "tensor([0.4475, 0.0552])\n",
      "tensor([0.4461, 0.0778])\n",
      "==========\n",
      "tensor([0.4459, 0.0438])\n",
      "tensor([0.4447, 0.0754])\n"
     ]
    }
   ],
   "source": [
    "for t in range(10):\n",
    "    print('='*10)\n",
    "    h = intermediate_controls[t][0]\n",
    "    print(h)\n",
    "    C_t = torch.tensordot(C, h, dims=1).view(-1, 2, 1)\n",
    "    h_opt = intermediate_controls_opt[t][1]\n",
    "    print(h_opt)\n",
    "    C_opt_t = torch.tensordot(C, h_opt, dims=1).view(-1, 2, 1)"
   ]
  },
  {
   "cell_type": "code",
   "execution_count": 45,
   "metadata": {},
   "outputs": [
    {
     "data": {
      "text/plain": [
       "tensor(0.4898)"
      ]
     },
     "execution_count": 45,
     "metadata": {},
     "output_type": "execute_result"
    }
   ],
   "source": [
    "torch.max(torch.abs(C_t))"
   ]
  },
  {
   "cell_type": "code",
   "execution_count": 46,
   "metadata": {
    "scrolled": true
   },
   "outputs": [
    {
     "data": {
      "text/plain": [
       "tensor(0.0320)"
      ]
     },
     "execution_count": 46,
     "metadata": {},
     "output_type": "execute_result"
    }
   ],
   "source": [
    "torch.max(torch.abs(C_t - C_opt_t))"
   ]
  },
  {
   "cell_type": "code",
   "execution_count": 110,
   "metadata": {},
   "outputs": [],
   "source": [
    "t = 9\n",
    "target_t = intermediate_states[t].gd[0][0].view(-1,2)\n",
    "reached_t = intermediate_states_opt[t].gd[1][0].view(-1,2)"
   ]
  },
  {
   "cell_type": "code",
   "execution_count": 112,
   "metadata": {},
   "outputs": [
    {
     "data": {
      "text/plain": [
       "(-4.149214178323746,\n",
       " 44.16139867901802,\n",
       " -2.2784684121608736,\n",
       " 14.028443259000777)"
      ]
     },
     "execution_count": 112,
     "metadata": {},
     "output_type": "execute_result"
    }
   ],
   "source": [
    "plt.figure()\n",
    "plt.plot(target_t[:,0], target_t[:,1], '.b')\n",
    "plt.plot(reached_t[:,0], reached_t[:,1], '.r')\n",
    "plt.axis('equal')"
   ]
  },
  {
   "cell_type": "code",
   "execution_count": null,
   "metadata": {},
   "outputs": [],
   "source": []
  },
  {
   "cell_type": "code",
   "execution_count": null,
   "metadata": {},
   "outputs": [],
   "source": []
  },
  {
   "cell_type": "code",
   "execution_count": null,
   "metadata": {},
   "outputs": [],
   "source": []
  },
  {
   "cell_type": "code",
   "execution_count": null,
   "metadata": {},
   "outputs": [],
   "source": []
  }
 ],
 "metadata": {
  "kernelspec": {
   "display_name": "Python 3",
   "language": "python",
   "name": "python3"
  },
  "language_info": {
   "codemirror_mode": {
    "name": "ipython",
    "version": 3
   },
   "file_extension": ".py",
   "mimetype": "text/x-python",
   "name": "python",
   "nbconvert_exporter": "python",
   "pygments_lexer": "ipython3",
   "version": "3.6.8"
  },
  "name": "2Dshoot.ipynb"
 },
 "nbformat": 4,
 "nbformat_minor": 2
}
