{
 "cells": [
  {
   "cell_type": "code",
   "execution_count": 1,
   "metadata": {},
   "outputs": [],
   "source": [
    "%load_ext autoreload\n",
    "%autoreload 2\n",
    "\n",
    "import sys\n",
    "import math\n",
    "import pickle\n",
    "import random\n",
    "\n",
    "import torch\n",
    "import matplotlib.pyplot as plt\n",
    "from mpl_toolkits.mplot3d import Axes3D\n",
    "import pymesh\n",
    "\n",
    "sys.path.append(\"../../\")\n",
    "\n",
    "import implicitmodules.torch as dm"
   ]
  },
  {
   "cell_type": "code",
   "execution_count": 2,
   "metadata": {},
   "outputs": [
    {
     "ename": "AttributeError",
     "evalue": "module 'pymesh' has no attribute 'generate_icosphere'",
     "output_type": "error",
     "traceback": [
      "\u001b[0;31m---------------------------------------------------------------------------\u001b[0m",
      "\u001b[0;31mAttributeError\u001b[0m                            Traceback (most recent call last)",
      "\u001b[0;32m<ipython-input-2-cd617f6ddd57>\u001b[0m in \u001b[0;36m<module>\u001b[0;34m()\u001b[0m\n\u001b[1;32m      8\u001b[0m \u001b[0;34m\u001b[0m\u001b[0m\n\u001b[1;32m      9\u001b[0m \u001b[0;32mfor\u001b[0m \u001b[0mi\u001b[0m \u001b[0;32min\u001b[0m \u001b[0mrange\u001b[0m\u001b[0;34m(\u001b[0m\u001b[0msphere_count\u001b[0m\u001b[0;34m)\u001b[0m\u001b[0;34m:\u001b[0m\u001b[0;34m\u001b[0m\u001b[0;34m\u001b[0m\u001b[0m\n\u001b[0;32m---> 10\u001b[0;31m     \u001b[0mmesh\u001b[0m \u001b[0;34m=\u001b[0m \u001b[0mpymesh\u001b[0m\u001b[0;34m.\u001b[0m\u001b[0mgenerate_icosphere\u001b[0m\u001b[0;34m(\u001b[0m\u001b[0;36m0.5\u001b[0m\u001b[0;34m,\u001b[0m \u001b[0;34m[\u001b[0m\u001b[0;36m0.\u001b[0m\u001b[0;34m,\u001b[0m \u001b[0;36m0.\u001b[0m\u001b[0;34m,\u001b[0m \u001b[0;36m0.\u001b[0m\u001b[0;34m]\u001b[0m\u001b[0;34m,\u001b[0m \u001b[0mrefinement_order\u001b[0m\u001b[0;34m)\u001b[0m\u001b[0;34m\u001b[0m\u001b[0;34m\u001b[0m\u001b[0m\n\u001b[0m\u001b[1;32m     11\u001b[0m \u001b[0;34m\u001b[0m\u001b[0m\n\u001b[1;32m     12\u001b[0m     \u001b[0maxis\u001b[0m \u001b[0;34m=\u001b[0m \u001b[0mrandom\u001b[0m\u001b[0;34m.\u001b[0m\u001b[0mrandint\u001b[0m\u001b[0;34m(\u001b[0m\u001b[0;36m0\u001b[0m\u001b[0;34m,\u001b[0m \u001b[0;36m2\u001b[0m\u001b[0;34m)\u001b[0m\u001b[0;34m\u001b[0m\u001b[0;34m\u001b[0m\u001b[0m\n",
      "\u001b[0;31mAttributeError\u001b[0m: module 'pymesh' has no attribute 'generate_icosphere'"
     ]
    }
   ],
   "source": [
    "seed = 1337\n",
    "refinement_order = 2\n",
    "sigma = 2.\n",
    "sphere_count = 5\n",
    "spheres = []\n",
    "\n",
    "random.seed(seed)\n",
    "\n",
    "for i in range(sphere_count):\n",
    "    mesh = pymesh.generate_icosphere(0.5, [0., 0., 0.], refinement_order)\n",
    "\n",
    "    axis = random.randint(0, 2)\n",
    "    scale_matrix = torch.eye(3)\n",
    "    scale_matrix[axis, axis] = random.gauss(0., sigma)\n",
    "\n",
    "    deformed_vertices = dm.Utilities.linear_transform(torch.tensor(mesh.vertices, dtype=torch.get_default_dtype()), scale_matrix)\n",
    "    spheres.append(dm.Models.DeformableMesh(deformed_vertices, torch.tensor(mesh.faces, dtype=torch.long)))\n",
    "\n",
    "template_mesh = pymesh.generate_icosphere(0.5, [0., 0., 0.], refinement_order)\n",
    "template = dm.Models.DeformableMesh(torch.tensor(template_mesh.vertices, dtype=torch.get_default_dtype()), torch.tensor(template_mesh.faces, dtype=torch.long))\n",
    "\n",
    "print(\"Vertices count={vertices_count}\".format(vertices_count=template_mesh.vertices.shape[0]))"
   ]
  },
  {
   "cell_type": "code",
   "execution_count": 3,
   "metadata": {},
   "outputs": [
    {
     "data": {
      "text/plain": [
       "'/home/gris/projects_py3/implicitmodules/script/torch'"
      ]
     },
     "execution_count": 3,
     "metadata": {},
     "output_type": "execute_result"
    }
   ],
   "source": [
    "pwd"
   ]
  },
  {
   "cell_type": "code",
   "execution_count": 2,
   "metadata": {},
   "outputs": [
    {
     "ename": "AttributeError",
     "evalue": "Can't get attribute 'DeformableMesh' on <module 'implicitmodules.torch.Models.deformable' from '../../implicitmodules/torch/Models/deformable.py'>",
     "output_type": "error",
     "traceback": [
      "\u001b[0;31m---------------------------------------------------------------------------\u001b[0m",
      "\u001b[0;31mAttributeError\u001b[0m                            Traceback (most recent call last)",
      "\u001b[0;32m<ipython-input-2-656a659e800a>\u001b[0m in \u001b[0;36m<module>\u001b[0;34m()\u001b[0m\n\u001b[1;32m      1\u001b[0m \u001b[0;32mwith\u001b[0m \u001b[0mopen\u001b[0m\u001b[0;34m(\u001b[0m\u001b[0;34m\"../../data/spheres.pickle\"\u001b[0m\u001b[0;34m,\u001b[0m \u001b[0;34m'rb'\u001b[0m\u001b[0;34m)\u001b[0m \u001b[0;32mas\u001b[0m \u001b[0mf\u001b[0m\u001b[0;34m:\u001b[0m\u001b[0;34m\u001b[0m\u001b[0;34m\u001b[0m\u001b[0m\n\u001b[0;32m----> 2\u001b[0;31m     \u001b[0mspheres\u001b[0m \u001b[0;34m=\u001b[0m \u001b[0mpickle\u001b[0m\u001b[0;34m.\u001b[0m\u001b[0mload\u001b[0m\u001b[0;34m(\u001b[0m\u001b[0mf\u001b[0m\u001b[0;34m)\u001b[0m\u001b[0;34m\u001b[0m\u001b[0;34m\u001b[0m\u001b[0m\n\u001b[0m",
      "\u001b[0;31mAttributeError\u001b[0m: Can't get attribute 'DeformableMesh' on <module 'implicitmodules.torch.Models.deformable' from '../../implicitmodules/torch/Models/deformable.py'>"
     ]
    }
   ],
   "source": [
    "with open(\"../../data/spheres.pickle\", 'rb') as f:\n",
    "    spheres = pickle.load(f)"
   ]
  },
  {
   "cell_type": "code",
   "execution_count": 5,
   "metadata": {},
   "outputs": [],
   "source": [
    "%matplotlib qt5\n",
    "side_count = math.ceil(math.sqrt(sphere_count))\n",
    "for i, sphere in enumerate(spheres):\n",
    "    ax = plt.subplot(side_count, side_count, i+1, projection='3d')\n",
    "    points, triangles = sphere.geometry\n",
    "    ax.plot_trisurf(points[:, 0].numpy(), points[:, 1].numpy(), points[:, 2].numpy(), triangles=triangles)\n",
    "    dm.Utilities.set_aspect_equal_3d(ax)\n",
    "\n",
    "plt.show()"
   ]
  },
  {
   "cell_type": "code",
   "execution_count": 3,
   "metadata": {},
   "outputs": [],
   "source": [
    "sigma = 0.15\n",
    "aabb = dm.Utilities.AABB.build_from_points(torch.tensor(template_mesh.vertices))\n",
    "\n",
    "implicit1_points = aabb.fill_uniform_density(50)\n",
    "implicit1_rot = torch.eye(3).repeat(implicit1_points.shape[0], 1, 1)\n",
    "\n",
    "# implicit1_c = 0.2*torch.randn(implicit1_points.shape[0], 3, 1) + 1.\n",
    "# implicit1_c.requires_grad_()\n",
    "\n",
    "implicit1_c = torch.zeros(implicit1_points.shape[0], 3, 3)\n",
    "implicit1_c[:, 0, 0] = 1.\n",
    "implicit1_c[:, 1, 1] = 1.\n",
    "implicit1_c[:, 2, 2] = 1."
   ]
  },
  {
   "cell_type": "code",
   "execution_count": 4,
   "metadata": {},
   "outputs": [],
   "source": [
    "global_translation = dm.DeformationModules.GlobalTranslation(3)\n",
    "\n",
    "implicit1 = dm.DeformationModules.ImplicitModule1(3, implicit1_points.shape[0], sigma, implicit1_c, nu=0.1, gd=(implicit1_points, implicit1_rot))"
   ]
  },
  {
   "cell_type": "code",
   "execution_count": 5,
   "metadata": {},
   "outputs": [],
   "source": [
    "sigmas_varifold = [0.5]\n",
    "attachment = dm.Attachment.VarifoldAttachment(3, sigmas_varifold)\n",
    "\n",
    "atlas = dm.Models.AtlasModel(template, [global_translation, implicit1], [attachment], len(spheres), lam=100., optimise_template=False, ht_nu=0.1, ht_sigma=0.2, fit_gd=None)"
   ]
  },
  {
   "cell_type": "code",
   "execution_count": null,
   "metadata": {},
   "outputs": [],
   "source": [
    "shoot_solver = 'euler'\n",
    "shoot_it = 10\n",
    "\n",
    "costs = {}\n",
    "fitter = dm.Models.Fitter(atlas, optimizer='torch_lbfgs')\n",
    "\n",
    "fitter.fit(spheres, 50, costs=costs, options={'shoot_solver': shoot_solver, 'shoot_it': shoot_it, 'line_search_fn': 'strong_wolfe'})"
   ]
  },
  {
   "cell_type": "code",
   "execution_count": 7,
   "metadata": {},
   "outputs": [
    {
     "name": "stdout",
     "output_type": "stream",
     "text": [
      "Starting optimization with method torch LBFGS\n",
      "Initial cost={'deformation': 10.825325012207031, 'attach': 277.0068054199219}\n",
      "================================================================================\n",
      "Time: 312.5562305810163\n",
      "Iteration: 0\n",
      "Costs\n",
      "deformation=10.683792114257812\n",
      "attach=276.9771423339844\n",
      "Total cost=287.6609344482422\n",
      "================================================================================\n",
      "Time: 624.5318335850025\n",
      "Iteration: 1\n",
      "Costs\n",
      "deformation=10.480719566345215\n",
      "attach=276.9474792480469\n",
      "Total cost=287.4281988143921\n",
      "================================================================================\n",
      "Time: 911.3658550209948\n",
      "Iteration: 2\n",
      "Costs\n",
      "deformation=10.185215950012207\n",
      "attach=276.76019287109375\n",
      "Total cost=286.94540882110596\n",
      "================================================================================\n",
      "Time: 1210.2227594080032\n",
      "Iteration: 3\n",
      "Costs\n",
      "deformation=9.760088920593262\n",
      "attach=276.5892333984375\n",
      "Total cost=286.34932231903076\n",
      "================================================================================\n",
      "Time: 1496.7144570479868\n",
      "Iteration: 4\n",
      "Costs\n",
      "deformation=9.419245719909668\n",
      "attach=276.0926818847656\n",
      "Total cost=285.5119276046753\n",
      "================================================================================\n",
      "Time: 1798.2892822549911\n",
      "Iteration: 5\n",
      "Costs\n",
      "deformation=9.380276679992676\n",
      "attach=275.35699462890625\n",
      "Total cost=284.7372713088989\n",
      "================================================================================\n",
      "Time: 2099.0464380710036\n",
      "Iteration: 6\n",
      "Costs\n",
      "deformation=9.07970905303955\n",
      "attach=274.8736267089844\n",
      "Total cost=283.9533357620239\n",
      "================================================================================\n",
      "Time: 2441.6162862280034\n",
      "Iteration: 7\n",
      "Costs\n",
      "deformation=8.795191764831543\n",
      "attach=274.362060546875\n",
      "Total cost=283.15725231170654\n",
      "================================================================================\n",
      "Time: 2758.2480298089795\n",
      "Iteration: 8\n",
      "Costs\n",
      "deformation=9.05331039428711\n",
      "attach=272.84197998046875\n",
      "Total cost=281.89529037475586\n",
      "================================================================================\n",
      "Time: 3061.272587430023\n",
      "Iteration: 9\n",
      "Costs\n",
      "deformation=8.824912071228027\n",
      "attach=271.91107177734375\n",
      "Total cost=280.7359838485718\n",
      "================================================================================\n",
      "Time: 3353.364839605987\n",
      "Iteration: 10\n",
      "Costs\n",
      "deformation=9.666221618652344\n",
      "attach=269.3391418457031\n",
      "Total cost=279.00536346435547\n",
      "================================================================================\n",
      "Time: 3701.267365822976\n",
      "Iteration: 11\n",
      "Costs\n",
      "deformation=9.894752502441406\n",
      "attach=268.61968994140625\n",
      "Total cost=278.51444244384766\n",
      "================================================================================\n",
      "Time: 4063.1542952799937\n",
      "Iteration: 12\n",
      "Costs\n",
      "deformation=9.551837921142578\n",
      "attach=267.9996032714844\n",
      "Total cost=277.55144119262695\n",
      "================================================================================\n",
      "Time: 4411.052139936015\n",
      "Iteration: 13\n",
      "Costs\n",
      "deformation=9.659273147583008\n",
      "attach=267.6731872558594\n",
      "Total cost=277.3324604034424\n",
      "================================================================================\n",
      "Time: 5076.8079136880115\n",
      "Iteration: 14\n",
      "Costs\n",
      "deformation=nan\n",
      "attach=nan\n",
      "Total cost=nan\n",
      "================================================================================\n",
      "Optimisation process exited with message: Evaluated function gave NaN.\n",
      "Final cost=nan\n",
      "Model evaluation count=nan\n",
      "Time elapsed = 5076.808120894013\n"
     ]
    }
   ],
   "source": [
    "costs = {}\n",
    "fitter = dm.Models.Fitter(atlas, optimizer='torch_lbfgs')\n",
    "\n",
    "fitter.fit(spheres, 50, costs=costs, options={'shoot_solver': shoot_solver, 'shoot_it': shoot_it, 'line_search_fn': 'strong_wolfe'})"
   ]
  },
  {
   "cell_type": "code",
   "execution_count": null,
   "metadata": {},
   "outputs": [],
   "source": [
    "with torch.autograd.no_grad():\n",
    "    template = atlas.compute_template()\n",
    "    deformed_template = atlas.compute_deformed(shoot_solver, shoot_it)"
   ]
  },
  {
   "cell_type": "code",
   "execution_count": null,
   "metadata": {},
   "outputs": [],
   "source": [
    "%matplotlib qt5\n",
    "side_count = math.ceil(math.sqrt(sphere_count))\n",
    "for i, sphere in enumerate(spheres):\n",
    "    ax = plt.subplot(side_count, side_count, i+1, projection='3d')\n",
    "    points, triangles = sphere.geometry\n",
    "    ax.plot_trisurf(points[:, 0].numpy(), points[:, 1].numpy(), points[:, 2].numpy(), triangles=triangles, color='blue')\n",
    "    dm.Utilities.set_aspect_equal_3d(ax)\n",
    "    ax.plot_trisurf(template[:, 0].numpy(), template[:, 1].numpy(), template[:, 2].numpy(), triangles=triangles, color='red')\n",
    "\n",
    "plt.show()"
   ]
  }
 ],
 "metadata": {
  "kernelspec": {
   "display_name": "Python 3",
   "language": "python",
   "name": "python3"
  },
  "language_info": {
   "codemirror_mode": {
    "name": "ipython",
    "version": 3
   },
   "file_extension": ".py",
   "mimetype": "text/x-python",
   "name": "python",
   "nbconvert_exporter": "python",
   "pygments_lexer": "ipython3",
   "version": "3.6.9"
  },
  "name": "Untitled8.ipynb"
 },
 "nbformat": 4,
 "nbformat_minor": 4
}
