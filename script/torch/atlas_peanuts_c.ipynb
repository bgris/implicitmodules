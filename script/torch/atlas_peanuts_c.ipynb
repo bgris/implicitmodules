{
 "cells": [
  {
   "cell_type": "code",
   "execution_count": null,
   "metadata": {
    "autoscroll": false,
    "collapsed": false,
    "ein.hycell": false,
    "ein.tags": "worksheet-0",
    "slideshow": {
     "slide_type": "-"
    }
   },
   "outputs": [],
   "source": [
    "import os\n",
    "#os.environ['OMP_NUM_THREADS'] = \"6\"\n",
    "#os.environ['OMP_PLACES'] = \"{0:6:1}\"\n",
    "#os.environ['KMP_AFFINITY'] = \"granularity=fine,compact,1,0\"\n",
    "\n",
    "import sys\n",
    "import copy\n",
    "import math\n",
    "import pickle\n",
    "\n",
    "sys.path.append(\"../../\")\n",
    "\n",
    "import numpy as np\n",
    "import torch\n",
    "import matplotlib.pyplot as plt\n",
    "torch.set_num_threads(6)\n",
    "import implicitmodules.torch as dm"
   ]
  },
  {
   "cell_type": "code",
   "execution_count": null,
   "metadata": {
    "autoscroll": false,
    "collapsed": false,
    "ein.hycell": false,
    "ein.tags": "worksheet-0",
    "slideshow": {
     "slide_type": "-"
    }
   },
   "outputs": [],
   "source": [
    "# First load the deformed peanuts\n",
    "\n",
    "peanuts = pickle.load(open(\"../../data/deformed_ellipses.pkl\", 'rb'))\n",
    "\n",
    "peanuts = [torch.tensor(p[:-1]) for p in peanuts['dataset']]\n",
    "\n",
    "# template = torch.stack([torch.cos(torch.linspace(0., 2.*math.pi, len(peanuts[0]))),\n",
    "#                        torch.sin(torch.linspace(0., 2.*math.pi, len(peanuts[0])))], dim=1)\n",
    "\n",
    "template = peanuts[0]\n",
    "peanuts = peanuts[1:]\n",
    "print(\"Number of peanuts:\", len(peanuts))"
   ]
  },
  {
   "cell_type": "code",
   "execution_count": null,
   "metadata": {
    "autoscroll": false,
    "collapsed": false,
    "ein.hycell": false,
    "ein.tags": "worksheet-0",
    "slideshow": {
     "slide_type": "-"
    }
   },
   "outputs": [],
   "source": [
    "plt.plot(template[:, 0].numpy(), template[:, 1].numpy(), '--')\n",
    "for p in peanuts:\n",
    "    plt.plot(p[:, 0].numpy(), p[:, 1].numpy())\n",
    "plt.axis('equal')\n",
    "plt.show()"
   ]
  },
  {
   "cell_type": "code",
   "execution_count": null,
   "metadata": {
    "autoscroll": false,
    "collapsed": false,
    "ein.hycell": false,
    "ein.tags": "worksheet-0",
    "slideshow": {
     "slide_type": "-"
    }
   },
   "outputs": [],
   "source": [
    "aabb_peanut = dm.Utilities.AABB.build_from_points(template)\n",
    "\n",
    "density = 20\n",
    "sigma = 3./math.sqrt(density)\n",
    "\n",
    "pts_implicit1 = dm.Utilities.fill_aabb(aabb_peanut, density)\n",
    "angles = 0. * math.pi * torch.ones(pts_implicit1.shape[0])\n",
    "R = torch.stack([dm.Utilities.rot2d(a) for a in angles])"
   ]
  },
  {
   "cell_type": "code",
   "execution_count": null,
   "metadata": {
    "autoscroll": false,
    "collapsed": false,
    "ein.hycell": false,
    "ein.tags": "worksheet-0",
    "slideshow": {
     "slide_type": "-"
    }
   },
   "outputs": [],
   "source": [
    "C = torch.ones(pts_implicit1.shape[0], 2, 1)\n",
    "C.requires_grad_()\n",
    "implicit1 = dm.DeformationModules.ImplicitModule1.build_and_fill(2, pts_implicit1.shape[0], C, sigma, 0.001, gd=(pts_implicit1.view(-1).requires_grad_(), R.view(-1).requires_grad_()))"
   ]
  },
  {
   "cell_type": "code",
   "execution_count": null,
   "metadata": {
    "autoscroll": false,
    "collapsed": false,
    "ein.hycell": false,
    "ein.tags": "worksheet-0",
    "slideshow": {
     "slide_type": "-"
    }
   },
   "outputs": [],
   "source": [
    "my_atlas = dm.Models.Atlas(template, [implicit1], [dm.Attachment.VarifoldAttachement([0.1, 1., 5.])], len(peanuts), other_parameters=[implicit1.C], use_hypertemplate=False)"
   ]
  },
  {
   "cell_type": "code",
   "execution_count": null,
   "metadata": {
    "autoscroll": false,
    "collapsed": false,
    "ein.hycell": false,
    "ein.tags": "worksheet-0",
    "slideshow": {
     "slide_type": "-"
    }
   },
   "outputs": [],
   "source": [
    "shoot_it = 10\n",
    "shoot_method = 'euler'"
   ]
  },
  {
   "cell_type": "code",
   "execution_count": null,
   "metadata": {
    "autoscroll": false,
    "collapsed": false,
    "ein.hycell": false,
    "ein.tags": "worksheet-0",
    "slideshow": {
     "slide_type": "-"
    }
   },
   "outputs": [],
   "source": [
    "fitter = dm.Models.ModelFittingScipy(my_atlas, 1., 100.)\n",
    "\n",
    "costs = fitter.fit(peanuts, 100, options={'shoot_it': shoot_it, 'shoot_method': shoot_method}, log_interval=1)"
   ]
  },
  {
   "cell_type": "code",
   "execution_count": null,
   "metadata": {
    "autoscroll": false,
    "collapsed": false,
    "ein.hycell": false,
    "ein.tags": "worksheet-0",
    "slideshow": {
     "slide_type": "-"
    }
   },
   "outputs": [],
   "source": [
    "plt.plot(range(len(costs)), costs)\n",
    "plt.show()"
   ]
  },
  {
   "cell_type": "code",
   "execution_count": null,
   "metadata": {
    "autoscroll": false,
    "collapsed": false,
    "ein.hycell": false,
    "ein.tags": "worksheet-0",
    "slideshow": {
     "slide_type": "-"
    }
   },
   "outputs": [],
   "source": [
    "# C_gt = torch.zeros(pts_implicit1.shape[0], 2, 2)\n",
    "# C_gt[pts_implicit1[:, 0] >= 0, 0, 0] = -10.\n",
    "# C_gt[pts_implicit1[:, 0] >= 0, 1, 0] = 5.\n",
    "# C_gt[pts_implicit1[:, 0] < 0, 0, 1] = 20.\n",
    "# C_gt[pts_implicit1[:, 0] < 0, 1, 1] = 8.\n",
    "C_gt = torch.ones(pts_implicit1.shape[0], 2, 1)\n",
    "C_gt[:, 0 , 0] = torch.linspace(0., 10., pts_implicit1.shape[0])\n",
    "\n",
    "#C_gt_pos = "
   ]
  },
  {
   "cell_type": "code",
   "execution_count": null,
   "metadata": {
    "autoscroll": false,
    "collapsed": false,
    "ein.hycell": false,
    "ein.tags": "worksheet-0",
    "slideshow": {
     "slide_type": "-"
    }
   },
   "outputs": [],
   "source": [
    "#template = my_atlas.compute_template()\n",
    "\n",
    "%matplotlib qt5\n",
    "ax = plt.subplot()\n",
    "plt.plot(template[:, 0].numpy(), template[:, 1].numpy())\n",
    "dm.Utilities.plot_C_ellipse(ax, pts_implicit1, implicit1.C.detach(), scale=0.1)\n",
    "dm.Utilities.plot_C_ellipse(ax, pts_implicit1, C_gt, alpha=0.1, scale=0.03, color='C3')\n",
    "#dm.Utilities.plot_C_ellipse(ax, pts_implicit1, C_gt, c_index=1, alpha=0.1, scale=0.01, color='C2')\n",
    "plt.axis('equal')\n",
    "plt.show()"
   ]
  },
  {
   "cell_type": "code",
   "execution_count": null,
   "metadata": {
    "autoscroll": false,
    "collapsed": false,
    "ein.hycell": false,
    "ein.tags": "worksheet-0",
    "slideshow": {
     "slide_type": "-"
    }
   },
   "outputs": [],
   "source": [
    "%matplotlib qt5\n",
    "it_per_snapshot = 2\n",
    "snapshots = int(shoot_it/it_per_snapshot)\n",
    "\n",
    "#ht = my_atlas.compute_template().detach().view(-1, 2)\n",
    "\n",
    "for i in range(len(peanuts)):\n",
    "    #implicit0_pos = my_atlas.models[0].init_manifold[1].gd.detach().clone().view(-1, 2)\n",
    "    #implicit0 = dm.DeformationModules.ImplicitModule0.build_from_points(2, implicit0_pos.shape[0], sigma0, nu0, gd= implicit0_pos.view(-1).requires_grad_(), cotan=my_atlas.models[i].init_manifold[1].cotan)\n",
    "    #implicit1 = dm.DeformationModules.ImplicitModule1(dm.Manifolds.Stiefel(2, template.shape[0], gd=(template.view(-1).requires_grad_(), R.view(-1).requires_grad_()), cotan=my_atlas.models[i].init_manifold[1].cotan), C_init, sigma1, nu1, coeff1)\n",
    "    #silent = dm.DeformationModules.SilentLandmarks.build_from_points(ht)\n",
    "    #silent.manifold.fill_cotan(my_atlas.models[i].init_manifold[0].cotan)\n",
    "    modules = dm.DeformationModules.CompoundModule(my_atlas.models[i].modules)\n",
    "    modules.manifold.fill(my_atlas.models[i].init_manifold, copy=True)\n",
    "    #print(modules.manifold.cotan)\n",
    "    h = dm.HamiltonianDynamic.Hamiltonian(modules)\n",
    "    intermediate_states, _ = dm.HamiltonianDynamic.shoot(h, shoot_it, shoot_method, intermediates=True)\n",
    "\n",
    "    for j in range(snapshots):\n",
    "        pos = intermediate_states[it_per_snapshot*j].gd[0].view(-1, 2).numpy()\n",
    "        pos_impl1 = intermediate_states[it_per_snapshot*j].gd[1][0].view(-1, 2).numpy()\n",
    "        plt.subplot(len(peanuts), snapshots + 1, i*snapshots + j + i + 1)\n",
    "        plt.plot(pos[:, 0], pos[:, 1])\n",
    "        #plt.plot(pos_impl1[:, 0], pos_impl1[:, 1], '.')\n",
    "        plt.axis(\"equal\")\n",
    "\n",
    "\n",
    "    plt.subplot(len(peanuts), snapshots + 1, i*snapshots + snapshots + i + 1)\n",
    "    plt.plot(peanuts[i].numpy()[:, 0], peanuts[i].numpy()[:, 1])\n",
    "    plt.axis(\"equal\")"
   ]
  }
 ],
 "metadata": {
  "kernelspec": {
   "display_name": "Python 3",
   "name": "python3"
  },
  "name": "atlas_peanuts_c.ipynb"
 },
 "nbformat": 4,
 "nbformat_minor": 2
}
