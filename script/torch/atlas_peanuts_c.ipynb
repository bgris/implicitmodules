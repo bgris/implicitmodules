{
 "cells": [
  {
   "cell_type": "code",
   "execution_count": null,
   "metadata": {
    "autoscroll": false,
    "collapsed": false,
    "ein.hycell": false,
    "ein.tags": "worksheet-0",
    "slideshow": {
     "slide_type": "-"
    }
   },
   "outputs": [],
   "source": [
    "import os\n",
    "#os.environ['OMP_NUM_THREADS'] = \"6\"\n",
    "#os.environ['OMP_PLACES'] = \"{0:6:1}\"\n",
    "#os.environ['KMP_AFFINITY'] = \"granularity=fine,compact,1,0\"\n",
    "\n",
    "import sys\n",
    "import copy\n",
    "import math\n",
    "import pickle\n",
    "\n",
    "sys.path.append(\"../../\")\n",
    "\n",
    "import numpy as np\n",
    "import torch\n",
    "import matplotlib.pyplot as plt\n",
    "#torch.set_num_threads(6)\n",
    "import implicitmodules.torch as dm"
   ]
  },
  {
   "cell_type": "code",
   "execution_count": null,
   "metadata": {
    "autoscroll": false,
    "collapsed": false,
    "ein.hycell": false,
    "ein.tags": "worksheet-0",
    "slideshow": {
     "slide_type": "-"
    }
   },
   "outputs": [],
   "source": [
    "# First load the deformed peanuts\n",
    "dataset = pickle.load(open(\"../../data/peanuts.pickle\", 'rb'))\n",
    "\n",
    "peanuts = [torch.tensor(p[:-1], dtype=torch.get_default_dtype()) for p in dataset[0]]\n",
    "#peanuts = [p - torch.mean(p, dim=0) for p in peanuts]\n",
    "\n",
    "template = peanuts[0]\n",
    "peanuts = peanuts[1:]\n",
    "print(\"Number of peanuts:\", len(peanuts))"
   ]
  },
  {
   "cell_type": "code",
   "execution_count": null,
   "metadata": {
    "autoscroll": false,
    "collapsed": false,
    "ein.hycell": false,
    "ein.tags": "worksheet-0",
    "slideshow": {
     "slide_type": "-"
    }
   },
   "outputs": [],
   "source": [
    "plt.plot(template[:, 0].numpy(), template[:, 1].numpy(), '--')\n",
    "for p in peanuts:\n",
    "    plt.plot(p[:, 0].numpy(), p[:, 1].numpy())\n",
    "plt.axis('equal')\n",
    "plt.show()"
   ]
  },
  {
   "cell_type": "code",
   "execution_count": null,
   "metadata": {
    "autoscroll": false,
    "collapsed": false,
    "ein.hycell": false,
    "ein.tags": "worksheet-0",
    "slideshow": {
     "slide_type": "-"
    }
   },
   "outputs": [],
   "source": [
    "# A simple polynomial model of order 1\n",
    "def pol(pos, a, b, c, d, e, f, g, h, i, j):\n",
    "    return a + b*pos[:, 0] + c*pos[:, 1] + d*pos[:, 0]**2 + e*pos[:, 1]**2 + f*pos[:, 0]*pos[:, 1] + g*pos[:, 0]**3 + h*pos[:, 1]**3 + i*pos[:, 0]*pos[:, 1]**2 + j*pos[:, 1]*pos[:, 0]**2\n",
    "\n",
    "def sigmoid(pos, scale0, scale1, trans0, trans1, lambda0, lambda1, offset0, offset1):\n",
    "    C = torch.zeros(pos.shape[0], 2, 2)\n",
    "    C[:, 0, 0] = scale0*torch.sigmoid(lambda0*(pos[:, 0]+trans0)) + offset0\n",
    "    C[:, 1, 0] = scale0*torch.sigmoid(lambda0*(pos[:, 0]+trans0)) + offset0\n",
    "    C[:, 0, 1] = scale1*torch.sigmoid(lambda1*(pos[:, 0]+trans1)) + offset1\n",
    "    C[:, 1, 1] = scale1*torch.sigmoid(lambda1*(pos[:, 0]+trans1)) + offset1\n",
    "    return C\n",
    "\n",
    "# def myParametricModel(init_manifold, modules, parameters):\n",
    "#     abc = parameters[-1]\n",
    "#     a = abc[0].unsqueeze(1)\n",
    "#     b = abc[1].unsqueeze(1)\n",
    "#     c = abc[2].unsqueeze(1)\n",
    "#     d = abc[3].unsqueeze(1)\n",
    "#     e = abc[4].unsqueeze(1)\n",
    "#     f = abc[5].unsqueeze(1)\n",
    "#     g = abc[6].unsqueeze(1)\n",
    "#     h = abc[7].unsqueeze(1)\n",
    "#     i = abc[8].unsqueeze(1)\n",
    "#     j = abc[9].unsqueeze(1)\n",
    "#     pos = modules[1].manifold.gd[0].detach().view(-1, 2)\n",
    "\n",
    "#     modules[1]._ImplicitModule1__C = pol(pos, a, b, c, d, e, f, g, h, i, j).transpose(0, 1).unsqueeze(2)\n",
    "\n",
    "def myParametricModel(init_manifold, modules, parameters):\n",
    "    param = parameters[-1]\n",
    "    scales = param[0]\n",
    "    trans = param[1]\n",
    "    lambdas = param[2]\n",
    "    offset = param[3]\n",
    "    pos = modules[1].manifold.gd[0].detach().view(-1, 2)\n",
    "    modules[1]._ImplicitModule1__C = sigmoid(pos, scales[0], scales[1], trans[0], trans[1], lambdas[0], lambdas[1], offset[0], offset[1])"
   ]
  },
  {
   "cell_type": "code",
   "execution_count": null,
   "metadata": {
    "autoscroll": false,
    "collapsed": false,
    "ein.hycell": false,
    "ein.tags": "worksheet-0",
    "slideshow": {
     "slide_type": "-"
    }
   },
   "outputs": [],
   "source": [
    "aabb_template = dm.Utilities.AABB.build_from_points(template)\n",
    "aabb_template.scale(2.)\n",
    "aabb_total = dm.Utilities.AABB.build_from_points(torch.cat(peanuts))\n",
    "\n",
    "density = 10\n",
    "sigma = 2./math.sqrt(density)\n",
    "\n",
    "area = lambda x, **kwargs: dm.Utilities.area_shape(x, shape=template, side=1) | dm.Utilities.area_polyline_outline(x, polyline=template, width=sigma)\n",
    "\n",
    "pts_implicit1 = dm.Utilities.fill_area_uniform_density(area, aabb_template, density, shape=template, side=1)\n",
    "print(pts_implicit1.shape)\n",
    "angles = 0. * math.pi * torch.ones(pts_implicit1.shape[0])\n",
    "R = torch.stack([dm.Utilities.rot2d(a) for a in angles])"
   ]
  },
  {
   "cell_type": "code",
   "execution_count": null,
   "metadata": {
    "autoscroll": false,
    "collapsed": false,
    "ein.hycell": false,
    "ein.tags": "worksheet-0",
    "slideshow": {
     "slide_type": "-"
    }
   },
   "outputs": [],
   "source": [
    "plt.plot(template[:, 0].numpy(), template[:, 1].numpy())\n",
    "plt.plot(pts_implicit1[:, 0].numpy(), pts_implicit1[:, 1].numpy(), '.')\n",
    "plt.show()"
   ]
  },
  {
   "cell_type": "code",
   "execution_count": null,
   "metadata": {
    "autoscroll": false,
    "collapsed": false,
    "ein.hycell": false,
    "ein.tags": "worksheet-0",
    "slideshow": {
     "slide_type": "-"
    }
   },
   "outputs": [],
   "source": [
    "C = torch.ones(pts_implicit1.shape[0], 2, 2)\n",
    "#C = sigmoid(pts_implicit1, 1., 1., 0., 0., 20., -20.)\n",
    "implicit1 = dm.DeformationModules.ImplicitModule1.build_and_fill(2, pts_implicit1.shape[0], C, sigma, 0.001, coeff=0.5, gd=(pts_implicit1.view(-1).requires_grad_(), R.view(-1).requires_grad_()))"
   ]
  },
  {
   "cell_type": "code",
   "execution_count": null,
   "metadata": {
    "autoscroll": false,
    "collapsed": false,
    "ein.hycell": false,
    "ein.tags": "worksheet-0",
    "slideshow": {
     "slide_type": "-"
    }
   },
   "outputs": [],
   "source": [
    "%matplotlib qt5\n",
    "\n",
    "ax = plt.subplot(1, 2, 1)\n",
    "plt.plot(template[:, 0].numpy(), template[:, 1].numpy())\n",
    "dm.Utilities.plot_C_arrow(ax, pts_implicit1, C.detach().numpy(), c_index=0, scale=0.25)\n",
    "plt.axis('equal')\n",
    "ax = plt.subplot(1, 2, 2)\n",
    "plt.plot(template[:, 0].numpy(), template[:, 1].numpy())\n",
    "dm.Utilities.plot_C_arrow(ax, pts_implicit1, C.detach().numpy(), c_index=1, scale=0.25)\n",
    "plt.axis('equal')\n",
    "plt.show()"
   ]
  },
  {
   "cell_type": "code",
   "execution_count": null,
   "metadata": {
    "autoscroll": false,
    "collapsed": false,
    "ein.hycell": false,
    "ein.tags": "worksheet-0",
    "slideshow": {
     "slide_type": "-"
    }
   },
   "outputs": [],
   "source": [
    "sigma0 = 0.2\n",
    "nu0 = 0.01\n",
    "implicit0 = dm.DeformationModules.ImplicitModule0.build_from_points(2, template.shape[0], sigma0, nu0, coeff=5., gd=template.view(-1).requires_grad_())\n",
    "\n",
    "abc = torch.zeros(4, 2)\n",
    "abc[0] = torch.ones(2)\n",
    "abc[2] = 2.*torch.tensor([1., -1.])\n",
    "abc.requires_grad_()"
   ]
  },
  {
   "cell_type": "code",
   "execution_count": null,
   "metadata": {
    "autoscroll": false,
    "collapsed": false,
    "ein.hycell": false,
    "ein.tags": "worksheet-0",
    "slideshow": {
     "slide_type": "-"
    }
   },
   "outputs": [],
   "source": [
    "my_atlas = dm.Models.Atlas(template, [implicit1, implicit0, dm.DeformationModules.GlobalTranslation(2)], [dm.Attachment.VarifoldAttachement([0.1, 0.5, 1.2])], len(peanuts), lam=100., model_precompute_callback=myParametricModel, other_parameters=[abc], optimise_template=False)"
   ]
  },
  {
   "cell_type": "code",
   "execution_count": null,
   "metadata": {
    "autoscroll": false,
    "collapsed": false,
    "ein.hycell": false,
    "ein.tags": "worksheet-0",
    "slideshow": {
     "slide_type": "-"
    }
   },
   "outputs": [],
   "source": [
    "shoot_it = 20\n",
    "shoot_method = 'euler'"
   ]
  },
  {
   "cell_type": "code",
   "execution_count": null,
   "metadata": {
    "autoscroll": false,
    "collapsed": false,
    "ein.hycell": false,
    "ein.tags": "worksheet-0",
    "slideshow": {
     "slide_type": "-"
    }
   },
   "outputs": [],
   "source": [
    "fitter = dm.Models.ModelFittingScipy(my_atlas, 1.)\n",
    "\n",
    "costs = fitter.fit(peanuts, 400, options={'shoot_it': shoot_it, 'shoot_method': shoot_method}, log_interval=1)"
   ]
  },
  {
   "cell_type": "code",
   "execution_count": null,
   "metadata": {
    "autoscroll": false,
    "collapsed": false,
    "ein.hycell": false,
    "ein.tags": "worksheet-0",
    "slideshow": {
     "slide_type": "-"
    }
   },
   "outputs": [],
   "source": [
    "print(my_atlas.parameters[-1])"
   ]
  },
  {
   "cell_type": "code",
   "execution_count": null,
   "metadata": {
    "autoscroll": false,
    "collapsed": false,
    "ein.hycell": false,
    "ein.tags": "worksheet-0",
    "slideshow": {
     "slide_type": "-"
    }
   },
   "outputs": [],
   "source": [
    "plt.plot(range(len(costs)), costs)\n",
    "plt.show()"
   ]
  },
  {
   "cell_type": "code",
   "execution_count": null,
   "metadata": {
    "autoscroll": false,
    "collapsed": false,
    "ein.hycell": false,
    "ein.tags": "worksheet-0",
    "slideshow": {
     "slide_type": "-"
    }
   },
   "outputs": [],
   "source": [
    "C_gt = torch.ones(pts_implicit1.shape[0], 2, 1)\n",
    "C_gt[:, 0 , 0] = 1.*(pts_implicit1[:, 0]+torch.min(pts_implicit1[:, 0]))"
   ]
  },
  {
   "cell_type": "code",
   "execution_count": null,
   "metadata": {
    "autoscroll": false,
    "collapsed": false,
    "ein.hycell": false,
    "ein.tags": "worksheet-0",
    "slideshow": {
     "slide_type": "-"
    }
   },
   "outputs": [],
   "source": [
    "%matplotlib qt5\n",
    "ax = plt.subplot(1, 2, 1)\n",
    "plt.plot(template[:, 0].numpy(), template[:, 1].numpy())\n",
    "dm.Utilities.plot_C_arrow(ax, pts_implicit1, implicit1.C.detach(), c_index=0, alpha=0.3, scale=0.05, color='blue', mutation_scale=5.)\n",
    "#dm.Utilities.plot_C_arrow(ax, pts_implicit1, C_gt, alpha=0.3, scale=0.3, color='red', mutation_scale=5.)\n",
    "plt.axis('equal')\n",
    "\n",
    "ax = plt.subplot(1, 2, 2)\n",
    "plt.plot(template[:, 0].numpy(), template[:, 1].numpy())\n",
    "dm.Utilities.plot_C_arrow(ax, pts_implicit1, implicit1.C.detach(), c_index=1, alpha=0.3, scale=0.05,  color='blue', mutation_scale=5.)\n",
    "#dm.Utilities.plot_C_ellipse(ax, pts_implicit1, C_gt, c_index=1, alpha=0.1, scale=0.01, color='C2')\n",
    "plt.axis('equal')\n",
    "plt.show()"
   ]
  },
  {
   "cell_type": "code",
   "execution_count": null,
   "metadata": {
    "autoscroll": false,
    "collapsed": false,
    "ein.hycell": false,
    "ein.tags": "worksheet-0",
    "slideshow": {
     "slide_type": "-"
    }
   },
   "outputs": [],
   "source": [
    "%matplotlib qt5\n",
    "it_per_snapshot = 1\n",
    "snapshots = int(shoot_it/it_per_snapshot)\n",
    "\n",
    "#ht = my_atlas.compute_template().detach().view(-1, 2)\n",
    "\n",
    "N = 10\n",
    "\n",
    "for i in range(N):\n",
    "    modules = dm.DeformationModules.CompoundModule(my_atlas.models[i].modules)\n",
    "    modules.manifold.fill(my_atlas.models[i].init_manifold, copy=True)\n",
    "    h = dm.HamiltonianDynamic.Hamiltonian(modules)\n",
    "    intermediate_states, _ = dm.HamiltonianDynamic.shoot(h, shoot_it, shoot_method, intermediates=True)\n",
    "\n",
    "    for j in range(snapshots):\n",
    "        pos = intermediate_states[it_per_snapshot*j].gd[0].view(-1, 2).numpy()\n",
    "        #pos_impl1 = intermediate_states[it_per_snapshot*j].gd[1][0].view(-1, 2).numpy()\n",
    "        plt.subplot(N, snapshots + 1, i*snapshots + j + i + 1)\n",
    "        plt.plot(pos[:, 0], pos[:, 1])\n",
    "        #plt.plot(pos_impl1[:, 0], pos_impl1[:, 1], '.')\n",
    "        plt.axis(\"equal\")\n",
    "\n",
    "\n",
    "    plt.subplot(N, snapshots + 1, i*snapshots + snapshots + i + 1)\n",
    "    plt.plot(peanuts[i].numpy()[:, 0], peanuts[i].numpy()[:, 1])\n",
    "    plt.axis(\"equal\")"
   ]
  },
  {
   "cell_type": "code",
   "execution_count": null,
   "metadata": {
    "autoscroll": false,
    "collapsed": false,
    "ein.hycell": false,
    "ein.tags": "worksheet-0",
    "slideshow": {
     "slide_type": "-"
    }
   },
   "outputs": [],
   "source": []
  }
 ],
 "metadata": {
  "kernelspec": {
   "display_name": "Python 3",
   "name": "python3"
  },
  "name": "atlas_peanuts_c.ipynb"
 },
 "nbformat": 4,
 "nbformat_minor": 2
}
