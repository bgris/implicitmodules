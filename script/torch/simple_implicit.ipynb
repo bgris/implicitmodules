{
 "cells": [
  {
   "cell_type": "code",
   "execution_count": 1,
   "metadata": {
    "autoscroll": false,
    "collapsed": false,
    "ein.hycell": false,
    "ein.tags": "worksheet-0",
    "slideshow": {
     "slide_type": "-"
    }
   },
   "outputs": [],
   "source": [
    "%load_ext autoreload\n",
    "%autoreload 2\n",
    "\n",
    "import sys\n",
    "sys.path.append(\"../../\")\n",
    "\n",
    "import torch\n",
    "import numpy as np\n",
    "import matplotlib.pyplot as plt\n",
    "\n",
    "import implicitmodules.torch as dm"
   ]
  },
  {
   "cell_type": "code",
   "execution_count": null,
   "metadata": {
    "collapsed": false
   },
   "outputs": [],
   "source": [
    "def rot(theta):\n",
    "    return torch.tensor([[np.cos(theta), -np.sin(theta)], [np.sin(theta), np.cos(theta)]])\n",
    "\n",
    "width = 25.\n",
    "height = 3.\n",
    "nx = 80\n",
    "ny = 8\n",
    "x, y = torch.meshgrid([torch.linspace(-width/2, width/2, nx), torch.linspace(-height/2, height/2, ny)])\n",
    "pts_sil = dm.Utilities.grid2vec(x, y)\n",
    "ps = torch.zeros_like(pts_sil)\n",
    "\n",
    "width1 = 20.\n",
    "height1 = 2.\n",
    "nx1 = 30\n",
    "ny1 = 3\n",
    "x1, y1 = torch.meshgrid([torch.linspace(-width1/2, width1/2, nx1), torch.linspace(-height1/2, height1/2, ny1)])\n",
    "pts = dm.Utilities.grid2vec(x1, y1)\n",
    "R = rot(0.).repeat(pts.shape[0], 1, 1)\n",
    "p1 = torch.zeros_like(pts)\n",
    "p1[0, 0] = -15000.\n",
    "\n",
    "C = torch.zeros(pts.shape[0], 2, 1)\n",
    "C[:, 0] = pts[:, 1].view(-1, 1)*torch.cos(np.pi*pts[:, 0].view(-1, 1)/width1*2*4)\n",
    "\n",
    "sigma = 1.1\n",
    "nu = 0.\n",
    "\n",
    "model = dm.DeformationModules.ImplicitModule1(2, pts.shape[0], sigma, C, nu)\n",
    "model.manifold.fill_gd((pts.clone().requires_grad_(), R.clone().requires_grad_()))\n",
    "model.manifold.fill_cotan((p1.clone().requires_grad_(), torch.zeros_like(R).requires_grad_()))\n",
    "\n",
    "sil = dm.DeformationModules.SilentLandmarks(2, pts_sil.shape[0])\n",
    "sil.manifold.fill_gd(pts_sil.clone().requires_grad_())\n",
    "sil.manifold.fill_cotan(ps.clone().requires_grad_())\n",
    "\n",
    "aabb = dm.Utilities.AABB.build_from_points(torch.cat([compound[0].manifold.gd.detach(), pts_sil], dim=0)).squared().scale(1.2)\n",
    "\n",
    "grid = dm.DeformationModules.DeformationGrid(aabb, [128, 128])\n",
    "\n",
    "compound = dm.DeformationModules.CompoundModule([sil, model, grid])\n",
    "out = dm.HamiltonianDynamic.shoot(dm.HamiltonianDynamic.Hamiltonian(compound), it=10, method='euler')"
   ]
  },
  {
   "cell_type": "code",
   "execution_count": 15,
   "metadata": {
    "autoscroll": false,
    "collapsed": false,
    "ein.hycell": false,
    "ein.tags": "worksheet-0",
    "slideshow": {
     "slide_type": "-"
    }
   },
   "outputs": [],
   "source": [
    "%matplotlib qt5\n",
    "ax = plt.subplot(1, 2, 1)\n",
    "plt.plot(pts_sil.numpy()[:, 0], pts_sil.numpy()[:, 1], '.')\n",
    "plt.plot(pts.numpy()[:, 0], pts.numpy()[:, 1], 'x')\n",
    "x, y = dm.Utilities.vec2grid(pts_sil, nx, ny)\n",
    "dm.Utilities.plot_grid(ax, x.detach().numpy(), y.detach().numpy(), color='C0')\n",
    "plt.axis(aabb.totuple())\n",
    "\n",
    "ax1 = plt.subplot(1, 2, 2)\n",
    "plt.plot(compound[0].manifold.gd.detach().numpy()[:, 0], compound[0].manifold.gd.detach().numpy()[:, 1], '.')\n",
    "plt.plot(compound[1].manifold.gd[0].detach().numpy()[:, 0], compound[1].manifold.gd[0].detach().numpy()[:, 1], 'x')\n",
    "x, y = dm.Utilities.vec2grid(compound[0].manifold.gd, nx, ny)\n",
    "dm.Utilities.plot_grid(ax1, x.detach().numpy(), y.detach().numpy(), color='C0')\n",
    "\n",
    "dm.Utilities.plot_grid(ax1, grid.togrid()[0], grid.togrid()[1], color='xkcd:light blue', lw=0.3)\n",
    "\n",
    "plt.axis(aabb.totuple())\n",
    "plt.show()"
   ]
  },
  {
   "cell_type": "code",
   "execution_count": null,
   "metadata": {
    "autoscroll": false,
    "collapsed": false,
    "ein.hycell": false,
    "ein.tags": "worksheet-0",
    "slideshow": {
     "slide_type": "-"
    }
   },
   "outputs": [],
   "source": []
  }
 ],
 "metadata": {
  "kernelspec": {
   "argv": [
    "python",
    "-m",
    "ipykernel_launcher",
    "-f",
    "{connection_file}"
   ],
   "display_name": "Python 3",
   "env": null,
   "interrupt_mode": "signal",
   "language": "python",
   "metadata": null,
   "name": "python3"
  },
  "language_info": {
   "codemirror_mode": {
    "name": "ipython",
    "version": 3
   },
   "file_extension": ".py",
   "mimetype": "text/x-python",
   "name": "python",
   "nbconvert_exporter": "python",
   "pygments_lexer": "ipython3",
   "version": "3.5.2"
  },
  "name": "simple_implicit.ipynb"
 },
 "nbformat": 4,
 "nbformat_minor": 2
}
