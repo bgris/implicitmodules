{
 "cells": [
  {
   "cell_type": "code",
   "execution_count": 1,
   "metadata": {
    "autoscroll": false,
    "ein.hycell": false,
    "ein.tags": "worksheet-0",
    "slideshow": {
     "slide_type": "-"
    }
   },
   "outputs": [],
   "source": [
    "#%reset\n",
    "%load_ext autoreload\n",
    "%autoreload 2\n",
    "\n",
    "import sys\n",
    "sys.path.append(\"../../\")\n",
    "\n",
    "import torch\n",
    "import numpy as np\n",
    "import matplotlib.pyplot as plt\n",
    "\n",
    "import implicitmodules.torch as dm\n",
    "\n",
    "torch.set_default_tensor_type(torch.DoubleTensor)"
   ]
  },
  {
   "cell_type": "code",
   "execution_count": 2,
   "metadata": {
    "autoscroll": false,
    "ein.hycell": false,
    "ein.tags": "worksheet-0",
    "slideshow": {
     "slide_type": "-"
    }
   },
   "outputs": [
    {
     "ename": "AttributeError",
     "evalue": "module 'implicitmodules.torch' has no attribute 'usefulfunctions'",
     "output_type": "error",
     "traceback": [
      "\u001b[0;31m---------------------------------------------------------------------------\u001b[0m",
      "\u001b[0;31mAttributeError\u001b[0m                            Traceback (most recent call last)",
      "\u001b[0;32m<ipython-input-2-f2ea31d07cb7>\u001b[0m in \u001b[0;36m<module>\u001b[0;34m\u001b[0m\n\u001b[1;32m      7\u001b[0m \u001b[0mny\u001b[0m \u001b[0;34m=\u001b[0m \u001b[0;36m8\u001b[0m\u001b[0;34m\u001b[0m\u001b[0m\n\u001b[1;32m      8\u001b[0m \u001b[0mx\u001b[0m\u001b[0;34m,\u001b[0m \u001b[0my\u001b[0m \u001b[0;34m=\u001b[0m \u001b[0mtorch\u001b[0m\u001b[0;34m.\u001b[0m\u001b[0mmeshgrid\u001b[0m\u001b[0;34m(\u001b[0m\u001b[0;34m[\u001b[0m\u001b[0mtorch\u001b[0m\u001b[0;34m.\u001b[0m\u001b[0mlinspace\u001b[0m\u001b[0;34m(\u001b[0m\u001b[0;34m-\u001b[0m\u001b[0mwidth\u001b[0m\u001b[0;34m/\u001b[0m\u001b[0;36m2\u001b[0m\u001b[0;34m,\u001b[0m \u001b[0mwidth\u001b[0m\u001b[0;34m/\u001b[0m\u001b[0;36m2\u001b[0m\u001b[0;34m,\u001b[0m \u001b[0mnx\u001b[0m\u001b[0;34m)\u001b[0m\u001b[0;34m,\u001b[0m \u001b[0mtorch\u001b[0m\u001b[0;34m.\u001b[0m\u001b[0mlinspace\u001b[0m\u001b[0;34m(\u001b[0m\u001b[0;34m-\u001b[0m\u001b[0mheight\u001b[0m\u001b[0;34m/\u001b[0m\u001b[0;36m2\u001b[0m\u001b[0;34m,\u001b[0m \u001b[0mheight\u001b[0m\u001b[0;34m/\u001b[0m\u001b[0;36m2\u001b[0m\u001b[0;34m,\u001b[0m \u001b[0mny\u001b[0m\u001b[0;34m)\u001b[0m\u001b[0;34m]\u001b[0m\u001b[0;34m)\u001b[0m\u001b[0;34m\u001b[0m\u001b[0m\n\u001b[0;32m----> 9\u001b[0;31m \u001b[0mpts_sil\u001b[0m \u001b[0;34m=\u001b[0m \u001b[0mdm\u001b[0m\u001b[0;34m.\u001b[0m\u001b[0musefulfunctions\u001b[0m\u001b[0;34m.\u001b[0m\u001b[0mgrid2vec\u001b[0m\u001b[0;34m(\u001b[0m\u001b[0mx\u001b[0m\u001b[0;34m,\u001b[0m \u001b[0my\u001b[0m\u001b[0;34m)\u001b[0m\u001b[0;34m\u001b[0m\u001b[0m\n\u001b[0m\u001b[1;32m     10\u001b[0m \u001b[0mps\u001b[0m \u001b[0;34m=\u001b[0m \u001b[0mtorch\u001b[0m\u001b[0;34m.\u001b[0m\u001b[0mzeros_like\u001b[0m\u001b[0;34m(\u001b[0m\u001b[0mpts_sil\u001b[0m\u001b[0;34m)\u001b[0m\u001b[0;34m\u001b[0m\u001b[0m\n\u001b[1;32m     11\u001b[0m \u001b[0;34m\u001b[0m\u001b[0m\n",
      "\u001b[0;31mAttributeError\u001b[0m: module 'implicitmodules.torch' has no attribute 'usefulfunctions'"
     ]
    }
   ],
   "source": [
    "def rot(theta):\n",
    "    return torch.tensor([[np.cos(theta), -np.sin(theta)], [np.sin(theta), np.cos(theta)]])\n",
    "\n",
    "width = 25.\n",
    "height = 3.\n",
    "nx = 80\n",
    "ny = 8\n",
    "x, y = torch.meshgrid([torch.linspace(-width/2, width/2, nx), torch.linspace(-height/2, height/2, ny)])\n",
    "pts_sil = dm.usefulfunctions.grid2vec(x, y)\n",
    "ps = torch.zeros_like(pts_sil)\n",
    "\n",
    "width1 = 20.\n",
    "height1 = 2.\n",
    "nx1 = 30\n",
    "ny1 = 3\n",
    "x1, y1 = torch.meshgrid([torch.linspace(-width1/2, width1/2, nx1), torch.linspace(-height1/2, height1/2, ny1)])\n",
    "pts = dm.usefulfunctions.grid2vec(x1, y1)\n",
    "R = rot(0.).repeat(pts.shape[0], 1, 1)\n",
    "p1 = torch.zeros_like(pts)\n",
    "p1[0, 0] = -15000.\n",
    "\n",
    "C = torch.zeros(pts.shape[0], 2, 1)\n",
    "C[:, 0] = pts[:, 1].view(-1, 1)*torch.cos(np.pi*pts[:, 0].view(-1, 1)/width1*2*4)\n",
    "\n",
    "sigma = 1.1\n",
    "nu = 0.\n",
    "\n",
    "model = dm.implicitmodules.ImplicitModule1(dm.manifold.Stiefel(2, pts.shape[0]), C, sigma, nu)\n",
    "model.manifold.fill_gd((pts.view(-1).requires_grad_(), R.view(-1).requires_grad_()))\n",
    "model.manifold.fill_cotan((p1.view(-1).requires_grad_(), torch.zeros_like(R).view(-1).requires_grad_()))\n",
    "\n",
    "sil = dm.deformationmodules.SilentPoints(dm.manifold.Landmarks(2, pts_sil.shape[0]))\n",
    "sil.manifold.fill_gd(pts_sil.view(-1).requires_grad_())\n",
    "sil.manifold.fill_cotan(ps.view(-1).requires_grad_())\n",
    "\n",
    "compound = dm.deformationmodules.CompoundModule([sil, model])\n",
    "out = dm.shooting.shoot(dm.hamiltonian.Hamiltonian(compound), it=10, method='torch_euler')"
   ]
  },
  {
   "cell_type": "code",
   "execution_count": null,
   "metadata": {
    "autoscroll": false,
    "ein.hycell": false,
    "ein.tags": "worksheet-0",
    "slideshow": {
     "slide_type": "-"
    }
   },
   "outputs": [],
   "source": [
    "aabb = dm.usefulfunctions.AABB.build_from_points(torch.cat([compound[0].manifold.gd.view(-1, 2).detach(), pts_sil], dim=0))\n",
    "aabb.squared()\n",
    "%matplotlib qt5\n",
    "ax = plt.subplot(1, 2, 1)\n",
    "plt.plot(pts_sil.numpy()[:, 0], pts_sil.numpy()[:, 1], '.')\n",
    "plt.plot(pts.numpy()[:, 0], pts.numpy()[:, 1], 'x')\n",
    "x, y = dm.usefulfunctions.vec2grid(pts_sil, nx, ny)\n",
    "dm.usefulfunctions.plot_grid(ax, x.numpy(), y.numpy(), color='C0')\n",
    "plt.axis(aabb.get_list())\n",
    "\n",
    "ax1 = plt.subplot(1, 2, 2)\n",
    "plt.plot(compound[0].manifold.gd.detach().view(-1, 2).numpy()[:, 0], compound[0].manifold.gd.detach().view(-1, 2).numpy()[:, 1], '.')\n",
    "plt.plot(compound[1].manifold.gd[0].detach().view(-1, 2).numpy()[:, 0], compound[1].manifold.gd[0].detach().view(-1, 2).numpy()[:, 1], 'x')\n",
    "x, y = dm.usefulfunctions.vec2grid(compound[0].manifold.gd.view(-1, 2), nx, ny)\n",
    "dm.usefulfunctions.plot_grid(ax1, x.detach().numpy(), y.detach().numpy(), color='C0')\n",
    "plt.axis(aabb.get_list())\n",
    "plt.show()"
   ]
  }
 ],
 "metadata": {
  "kernelspec": {
   "display_name": "Python 3",
   "language": "python",
   "name": "python3"
  },
  "language_info": {
   "codemirror_mode": {
    "name": "ipython",
    "version": 3
   },
   "file_extension": ".py",
   "mimetype": "text/x-python",
   "name": "python",
   "nbconvert_exporter": "python",
   "pygments_lexer": "ipython3",
   "version": "3.5.2"
  },
  "name": "simple_implicit.ipynb"
 },
 "nbformat": 4,
 "nbformat_minor": 2
}
