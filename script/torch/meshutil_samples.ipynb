{
 "cells": [
  {
   "cell_type": "code",
   "execution_count": 1,
   "metadata": {
    "autoscroll": false,
    "collapsed": false,
    "ein.hycell": false,
    "ein.tags": "worksheet-0",
    "slideshow": {
     "slide_type": "-"
    }
   },
   "outputs": [],
   "source": [
    "%load_ext autoreload\n",
    "%autoreload 2\n",
    "\n",
    "import sys\n",
    "import copy\n",
    "import math\n",
    "\n",
    "sys.path.append(\"../../\")\n",
    "\n",
    "import numpy as np\n",
    "import torch\n",
    "import matplotlib.pyplot as plt\n",
    "\n",
    "import implicitmodules.torch as dm\n",
    "\n",
    "torch.set_default_tensor_type(torch.FloatTensor)"
   ]
  },
  {
   "cell_type": "code",
   "execution_count": 2,
   "metadata": {
    "autoscroll": false,
    "collapsed": false,
    "ein.hycell": false,
    "ein.tags": "worksheet-0",
    "slideshow": {
     "slide_type": "-"
    }
   },
   "outputs": [],
   "source": [
    "aabb = dm.Utilities.AABB(-1., 1., -1., 1.)\n",
    "aabb_draw = dm.Utilities.AABB(-1.5, 1.5, -1.5, 1.5)"
   ]
  },
  {
   "cell_type": "code",
   "execution_count": 4,
   "metadata": {
    "autoscroll": false,
    "collapsed": false,
    "ein.hycell": false,
    "ein.tags": "worksheet-0",
    "slideshow": {
     "slide_type": "-"
    }
   },
   "outputs": [
    {
     "data": {
      "image/png": "[encoded data removed]",
      "text/plain": [
       "<Figure size 432x288 with 1 Axes>"
      ]
     },
     "metadata": {
      "needs_background": "light"
     },
     "output_type": "display_data"
    }
   ],
   "source": [
    "# Demonstration of area_side().\n",
    "p0 = torch.tensor([0., -1.])\n",
    "p1 = torch.tensor([0.5, 1.])\n",
    "points_left = dm.Utilities.fill_area_uniform_density(dm.Utilities.area_side, aabb, 50., p0=p0, p1=p1, intersect=True, side=1)\n",
    "points_right = dm.Utilities.fill_area_uniform_density(dm.Utilities.area_side, aabb, 50., p0=p0, p1=p1, intersect=True, side=-1)\n",
    "\n",
    "ax = plt.subplot()\n",
    "dm.Utilities.plot_aabb(ax, aabb, color='black')\n",
    "plt.plot((p0[0].item(), p1[0].item()), (p0[1].item(), p1[1].item()), color='black')\n",
    "plt.axis(aabb_draw.totuple())\n",
    "plt.plot(points_left.numpy()[:, 0], points_left.numpy()[:, 1], '.')\n",
    "plt.plot(points_right.numpy()[:, 0], points_right.numpy()[:, 1], 'x')\n",
    "plt.show()"
   ]
  },
  {
   "cell_type": "code",
   "execution_count": 5,
   "metadata": {
    "autoscroll": false,
    "collapsed": false,
    "ein.hycell": false,
    "ein.tags": "worksheet-0",
    "slideshow": {
     "slide_type": "-"
    }
   },
   "outputs": [
    {
     "ename": "AttributeError",
     "evalue": "'AABB' object has no attribute 'get_list'",
     "output_type": "error",
     "traceback": [
      "\u001b[0;31m\u001b[0m",
      "\u001b[0;31mAttributeError\u001b[0mTraceback (most recent call last)",
      "\u001b[0;32m<ipython-input-5-b89313879463>\u001b[0m in \u001b[0;36m<module>\u001b[0;34m\u001b[0m\n\u001b[1;32m     10\u001b[0m \u001b[0max\u001b[0m \u001b[0;34m=\u001b[0m \u001b[0mplt\u001b[0m\u001b[0;34m.\u001b[0m\u001b[0msubplot\u001b[0m\u001b[0;34m(\u001b[0m\u001b[0;34m)\u001b[0m\u001b[0;34m\u001b[0m\u001b[0;34m\u001b[0m\u001b[0m\n\u001b[1;32m     11\u001b[0m \u001b[0mdm\u001b[0m\u001b[0;34m.\u001b[0m\u001b[0mUtilities\u001b[0m\u001b[0;34m.\u001b[0m\u001b[0mplot_aabb\u001b[0m\u001b[0;34m(\u001b[0m\u001b[0max\u001b[0m\u001b[0;34m,\u001b[0m \u001b[0maabb\u001b[0m\u001b[0;34m,\u001b[0m \u001b[0mcolor\u001b[0m\u001b[0;34m=\u001b[0m\u001b[0;34m'black'\u001b[0m\u001b[0;34m)\u001b[0m\u001b[0;34m\u001b[0m\u001b[0;34m\u001b[0m\u001b[0m\n\u001b[0;32m---> 12\u001b[0;31m \u001b[0mplt\u001b[0m\u001b[0;34m.\u001b[0m\u001b[0maxis\u001b[0m\u001b[0;34m(\u001b[0m\u001b[0maabb_draw\u001b[0m\u001b[0;34m.\u001b[0m\u001b[0mget_list\u001b[0m\u001b[0;34m(\u001b[0m\u001b[0;34m)\u001b[0m\u001b[0;34m)\u001b[0m\u001b[0;34m\u001b[0m\u001b[0;34m\u001b[0m\u001b[0m\n\u001b[0m\u001b[1;32m     13\u001b[0m \u001b[0mdm\u001b[0m\u001b[0;34m.\u001b[0m\u001b[0mUtilities\u001b[0m\u001b[0;34m.\u001b[0m\u001b[0mplot_polyline\u001b[0m\u001b[0;34m(\u001b[0m\u001b[0max\u001b[0m\u001b[0;34m,\u001b[0m \u001b[0mconvex_hull\u001b[0m\u001b[0;34m,\u001b[0m \u001b[0mclose\u001b[0m\u001b[0;34m=\u001b[0m\u001b[0;32mTrue\u001b[0m\u001b[0;34m,\u001b[0m \u001b[0mfill\u001b[0m\u001b[0;34m=\u001b[0m\u001b[0;32mFalse\u001b[0m\u001b[0;34m)\u001b[0m\u001b[0;34m\u001b[0m\u001b[0;34m\u001b[0m\u001b[0m\n\u001b[1;32m     14\u001b[0m \u001b[0mplt\u001b[0m\u001b[0;34m.\u001b[0m\u001b[0mplot\u001b[0m\u001b[0;34m(\u001b[0m\u001b[0mrandom_points\u001b[0m\u001b[0;34m.\u001b[0m\u001b[0mnumpy\u001b[0m\u001b[0;34m(\u001b[0m\u001b[0;34m)\u001b[0m\u001b[0;34m[\u001b[0m\u001b[0;34m:\u001b[0m\u001b[0;34m,\u001b[0m \u001b[0;36m0\u001b[0m\u001b[0;34m]\u001b[0m\u001b[0;34m,\u001b[0m \u001b[0mrandom_points\u001b[0m\u001b[0;34m.\u001b[0m\u001b[0mnumpy\u001b[0m\u001b[0;34m(\u001b[0m\u001b[0;34m)\u001b[0m\u001b[0;34m[\u001b[0m\u001b[0;34m:\u001b[0m\u001b[0;34m,\u001b[0m \u001b[0;36m1\u001b[0m\u001b[0;34m]\u001b[0m\u001b[0;34m,\u001b[0m \u001b[0;34m'o'\u001b[0m\u001b[0;34m)\u001b[0m\u001b[0;34m\u001b[0m\u001b[0;34m\u001b[0m\u001b[0m\n",
      "\u001b[0;31mAttributeError\u001b[0m: 'AABB' object has no attribute 'get_list'"
     ]
    },
    {
     "data": {
      "image/png": "[encoded data removed]",
      "text/plain": [
       "<Figure size 432x288 with 1 Axes>"
      ]
     },
     "metadata": {
      "needs_background": "light"
     },
     "output_type": "display_data"
    },
    {
     "ename": "AttributeError",
     "evalue": "'AABB' object has no attribute 'get_list'",
     "output_type": "error",
     "traceback": [
      "\u001b[0;31m\u001b[0m",
      "\u001b[0;31mAttributeError\u001b[0mTraceback (most recent call last)",
      "\u001b[0;32m<ipython-input-5-b89313879463>\u001b[0m in \u001b[0;36m<module>\u001b[0;34m\u001b[0m\n\u001b[1;32m     10\u001b[0m \u001b[0max\u001b[0m \u001b[0;34m=\u001b[0m \u001b[0mplt\u001b[0m\u001b[0;34m.\u001b[0m\u001b[0msubplot\u001b[0m\u001b[0;34m(\u001b[0m\u001b[0;34m)\u001b[0m\u001b[0;34m\u001b[0m\u001b[0;34m\u001b[0m\u001b[0m\n\u001b[1;32m     11\u001b[0m \u001b[0mdm\u001b[0m\u001b[0;34m.\u001b[0m\u001b[0mUtilities\u001b[0m\u001b[0;34m.\u001b[0m\u001b[0mplot_aabb\u001b[0m\u001b[0;34m(\u001b[0m\u001b[0max\u001b[0m\u001b[0;34m,\u001b[0m \u001b[0maabb\u001b[0m\u001b[0;34m,\u001b[0m \u001b[0mcolor\u001b[0m\u001b[0;34m=\u001b[0m\u001b[0;34m'black'\u001b[0m\u001b[0;34m)\u001b[0m\u001b[0;34m\u001b[0m\u001b[0;34m\u001b[0m\u001b[0m\n\u001b[0;32m---> 12\u001b[0;31m \u001b[0mplt\u001b[0m\u001b[0;34m.\u001b[0m\u001b[0maxis\u001b[0m\u001b[0;34m(\u001b[0m\u001b[0maabb_draw\u001b[0m\u001b[0;34m.\u001b[0m\u001b[0mget_list\u001b[0m\u001b[0;34m(\u001b[0m\u001b[0;34m)\u001b[0m\u001b[0;34m)\u001b[0m\u001b[0;34m\u001b[0m\u001b[0;34m\u001b[0m\u001b[0m\n\u001b[0m\u001b[1;32m     13\u001b[0m \u001b[0mdm\u001b[0m\u001b[0;34m.\u001b[0m\u001b[0mUtilities\u001b[0m\u001b[0;34m.\u001b[0m\u001b[0mplot_polyline\u001b[0m\u001b[0;34m(\u001b[0m\u001b[0max\u001b[0m\u001b[0;34m,\u001b[0m \u001b[0mconvex_hull\u001b[0m\u001b[0;34m,\u001b[0m \u001b[0mclose\u001b[0m\u001b[0;34m=\u001b[0m\u001b[0;32mTrue\u001b[0m\u001b[0;34m,\u001b[0m \u001b[0mfill\u001b[0m\u001b[0;34m=\u001b[0m\u001b[0;32mFalse\u001b[0m\u001b[0;34m)\u001b[0m\u001b[0;34m\u001b[0m\u001b[0;34m\u001b[0m\u001b[0m\n\u001b[1;32m     14\u001b[0m \u001b[0mplt\u001b[0m\u001b[0;34m.\u001b[0m\u001b[0mplot\u001b[0m\u001b[0;34m(\u001b[0m\u001b[0mrandom_points\u001b[0m\u001b[0;34m.\u001b[0m\u001b[0mnumpy\u001b[0m\u001b[0;34m(\u001b[0m\u001b[0;34m)\u001b[0m\u001b[0;34m[\u001b[0m\u001b[0;34m:\u001b[0m\u001b[0;34m,\u001b[0m \u001b[0;36m0\u001b[0m\u001b[0;34m]\u001b[0m\u001b[0;34m,\u001b[0m \u001b[0mrandom_points\u001b[0m\u001b[0;34m.\u001b[0m\u001b[0mnumpy\u001b[0m\u001b[0;34m(\u001b[0m\u001b[0;34m)\u001b[0m\u001b[0;34m[\u001b[0m\u001b[0;34m:\u001b[0m\u001b[0;34m,\u001b[0m \u001b[0;36m1\u001b[0m\u001b[0;34m]\u001b[0m\u001b[0;34m,\u001b[0m \u001b[0;34m'o'\u001b[0m\u001b[0;34m)\u001b[0m\u001b[0;34m\u001b[0m\u001b[0;34m\u001b[0m\u001b[0m\n",
      "\u001b[0;31mAttributeError\u001b[0m: 'AABB' object has no attribute 'get_list'"
     ]
    }
   ],
   "source": [
    "# Demonstration of extract_convex_hull() and area_convex_shape().\n",
    "random_points = aabb.fill_random(10)\n",
    "convex_hull = dm.Utilities.extract_convex_hull(random_points)\n",
    "\n",
    "points_inside = dm.Utilities.fill_area_uniform_density(dm.Utilities.area_convex_shape, aabb, 40., shape=convex_hull, side=-1)\n",
    "\n",
    "# With lambda expressions it is easy to invert selection.\n",
    "points_outside = dm.Utilities.fill_area_uniform_density(lambda x, **kwargs: ~dm.Utilities.area_convex_shape(x, **kwargs), aabb, 40., shape=convex_hull, side=-1)\n",
    "\n",
    "ax = plt.subplot()\n",
    "dm.Utilities.plot_aabb(ax, aabb, color='black')\n",
    "plt.axis(aabb_draw.totuple())\n",
    "dm.Utilities.plot_polyline(ax, convex_hull, close=True, fill=False)\n",
    "plt.plot(random_points.numpy()[:, 0], random_points.numpy()[:, 1], 'o')\n",
    "plt.plot(points_inside.numpy()[:, 0], points_inside.numpy()[:, 1], 'x')\n",
    "plt.plot(points_outside.numpy()[:, 0], points_outside.numpy()[:, 1], '.')\n",
    "plt.show()"
   ]
  },
  {
   "cell_type": "code",
   "execution_count": null,
   "metadata": {
    "autoscroll": false,
    "collapsed": false,
    "ein.hycell": false,
    "ein.tags": "worksheet-0",
    "slideshow": {
     "slide_type": "-"
    }
   },
   "outputs": [],
   "source": [
    "# Demonstration of area_shape() - for any kinds of polygons on the plan.\n",
    "N = 5\n",
    "shape = aabb.fill_random(N)\n",
    "shape = dm.Utilities.close_shape(shape)\n",
    "\n",
    "points_inside = dm.Utilities.fill_area_uniform_density(dm.Utilities.area_shape, aabb, 80., shape=shape)\n",
    "\n",
    "points_outside = dm.Utilities.fill_area_uniform_density(lambda x, **kwargs: ~dm.Utilities.area_shape(x, **kwargs), aabb, 80., shape=shape)\n",
    "\n",
    "ax = plt.subplot()\n",
    "dm.Utilities.plot_aabb(ax, aabb, color='black')\n",
    "plt.axis(aabb_draw.get_list())\n",
    "dm.Utilities.plot_polyline(ax, shape, close=False, fill=False)\n",
    "plt.plot(points_inside.numpy()[:, 0], points_inside.numpy()[:, 1], 'x')\n",
    "plt.plot(points_outside.numpy()[:, 0], points_outside.numpy()[:, 1], '.')\n",
    "plt.show()"
   ]
  },
  {
   "cell_type": "code",
   "execution_count": null,
   "metadata": {
    "autoscroll": false,
    "collapsed": false,
    "ein.hycell": false,
    "ein.tags": "worksheet-0",
    "slideshow": {
     "slide_type": "-"
    }
   },
   "outputs": [],
   "source": [
    "# Demonstration of area_polyline_outline() filled by random points using rejection sampling.\n",
    "\n",
    "N = 5\n",
    "polyline = aabb.fill_random(N)\n",
    "\n",
    "points_inside = dm.Utilities.fill_area_random_density(dm.Utilities.area_polyline_outline, aabb, 40., polyline=polyline, width=0.1)\n",
    "\n",
    "ax = plt.subplot()\n",
    "dm.Utilities.plot_aabb(ax, aabb, color='black')\n",
    "plt.axis(aabb_draw.get_list())\n",
    "dm.Utilities.plot_polyline(ax, polyline, close=False, fill=False)\n",
    "plt.plot(points_inside.numpy()[:, 0], points_inside.numpy()[:, 1], 'x')\n",
    "plt.show()"
   ]
  },
  {
   "cell_type": "code",
   "execution_count": null,
   "metadata": {
    "autoscroll": false,
    "collapsed": false,
    "ein.hycell": false,
    "ein.tags": "worksheet-0",
    "slideshow": {
     "slide_type": "-"
    }
   },
   "outputs": [],
   "source": [
    "# Demonstration of a combinaison of area_disc().\n",
    "\n",
    "N = 4\n",
    "centers = aabb.fill_random(N)\n",
    "\n",
    "area_discs = lambda x, **kwargs: sum([dm.Utilities.area_disc(x, radius=kwargs['radius'], center=center) for center in kwargs['centers']]) >= 1\n",
    "\n",
    "points_inside = dm.Utilities.fill_area_uniform_density(area_discs, aabb, 80., centers=centers, radius=0.4)\n",
    "points_outside = dm.Utilities.fill_area_uniform_density(lambda x, **kwargs: ~area_discs(x, **kwargs), aabb, 80., centers=centers, radius=0.4)\n",
    "\n",
    "ax = plt.subplot()\n",
    "dm.Utilities.plot_aabb(ax, aabb, color='black')\n",
    "plt.axis(aabb_draw.get_list())\n",
    "plt.plot(centers.numpy()[:, 0], centers.numpy()[:, 1], 'o')\n",
    "plt.plot(points_inside.numpy()[:, 0], points_inside.numpy()[:, 1], 'x')\n",
    "plt.plot(points_outside.numpy()[:, 0], points_outside.numpy()[:, 1], '.')\n",
    "plt.show()"
   ]
  }
 ],
 "metadata": {
  "kernelspec": {
   "argv": [
    "python",
    "-m",
    "ipykernel_launcher",
    "-f",
    "{connection_file}"
   ],
   "display_name": "Python 3",
   "env": null,
   "interrupt_mode": "signal",
   "language": "python",
   "metadata": null,
   "name": "python3"
  },
  "name": "meshutil_samples.ipynb"
 },
 "nbformat": 4,
 "nbformat_minor": 2
}
