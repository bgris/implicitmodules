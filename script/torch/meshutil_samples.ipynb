{
 "cells": [
  {
   "cell_type": "code",
   "execution_count": null,
   "metadata": {
    "autoscroll": false,
    "collapsed": false,
    "ein.hycell": false,
    "ein.tags": "worksheet-0",
    "slideshow": {
     "slide_type": "-"
    }
   },
   "outputs": [],
   "source": [
    "%load_ext autoreload\n",
    "%autoreload 2\n",
    "\n",
    "import sys\n",
    "import copy\n",
    "import math\n",
    "\n",
    "sys.path.append(\"../../\")\n",
    "\n",
    "import numpy as np\n",
    "import torch\n",
    "import matplotlib.pyplot as plt\n",
    "\n",
    "import implicitmodules.torch as dm\n",
    "\n",
    "torch.set_default_tensor_type(torch.FloatTensor)"
   ]
  },
  {
   "cell_type": "code",
   "execution_count": null,
   "metadata": {
    "autoscroll": false,
    "collapsed": false,
    "ein.hycell": false,
    "ein.tags": "worksheet-0",
    "slideshow": {
     "slide_type": "-"
    }
   },
   "outputs": [],
   "source": [
    "aabb = dm.Utilities.AABB(-1., 1., -1., 1.)\n",
    "aabb_draw = dm.Utilities.AABB(-1.5, 1.5, -1.5, 1.5)"
   ]
  },
  {
   "cell_type": "code",
   "execution_count": null,
   "metadata": {
    "autoscroll": false,
    "collapsed": false,
    "ein.hycell": false,
    "ein.tags": "worksheet-0",
    "slideshow": {
     "slide_type": "-"
    }
   },
   "outputs": [],
   "source": [
    "# Demonstration of area_side().\n",
    "p0 = torch.tensor([0., -1.])\n",
    "p1 = torch.tensor([0.5, 1.])\n",
    "points_left = dm.Utilities.fill_area_uniform_density(dm.Utilities.area_side, aabb, 50., p0=p0, p1=p1, intersect=True, side=1)\n",
    "points_right = dm.Utilities.fill_area_uniform_density(dm.Utilities.area_side, aabb, 50., p0=p0, p1=p1, intersect=True, side=-1)\n",
    "\n",
    "ax = plt.subplot()\n",
    "dm.Utilities.plot_aabb(ax, aabb, color='black')\n",
    "plt.plot((p0[0].item(), p1[0].item()), (p0[1].item(), p1[1].item()), color='black')\n",
    "plt.axis(aabb_draw.get_list())\n",
    "plt.plot(points_left.numpy()[:, 0], points_left.numpy()[:, 1], '.')\n",
    "plt.plot(points_right.numpy()[:, 0], points_right.numpy()[:, 1], 'x')\n",
    "plt.show()"
   ]
  },
  {
   "cell_type": "code",
   "execution_count": null,
   "metadata": {
    "autoscroll": false,
    "collapsed": false,
    "ein.hycell": false,
    "ein.tags": "worksheet-0",
    "slideshow": {
     "slide_type": "-"
    }
   },
   "outputs": [],
   "source": [
    "# Demonstration of extract_convex_hull() and area_convex_shape().\n",
    "random_points = aabb.fill_random(10)\n",
    "convex_hull = dm.Utilities.extract_convex_hull(random_points)\n",
    "\n",
    "points_inside = dm.Utilities.fill_area_uniform_density(dm.Utilities.area_convex_shape, aabb, 40., shape=convex_hull, side=-1)\n",
    "\n",
    "# With lambda expressions it is easy to invert selection.\n",
    "points_outside = dm.Utilities.fill_area_uniform_density(lambda x, **kwargs: ~dm.Utilities.area_convex_shape(x, **kwargs), aabb, 40., shape=convex_hull, side=-1)\n",
    "\n",
    "ax = plt.subplot()\n",
    "dm.Utilities.plot_aabb(ax, aabb, color='black')\n",
    "plt.axis(aabb_draw.get_list())\n",
    "dm.Utilities.plot_polyline(ax, convex_hull, close=True, fill=False)\n",
    "plt.plot(random_points.numpy()[:, 0], random_points.numpy()[:, 1], 'o')\n",
    "plt.plot(points_inside.numpy()[:, 0], points_inside.numpy()[:, 1], 'x')\n",
    "plt.plot(points_outside.numpy()[:, 0], points_outside.numpy()[:, 1], '.')\n",
    "plt.show()"
   ]
  },
  {
   "cell_type": "code",
   "execution_count": null,
   "metadata": {
    "autoscroll": false,
    "collapsed": false,
    "ein.hycell": false,
    "ein.tags": "worksheet-0",
    "slideshow": {
     "slide_type": "-"
    }
   },
   "outputs": [],
   "source": [
    "# Demonstration of area_shape() - for any kinds of polygons on the plan.\n",
    "N = 5\n",
    "shape = aabb.fill_random(N)\n",
    "shape = dm.Utilities.close_shape(shape)\n",
    "\n",
    "points_inside = dm.Utilities.fill_area_uniform_density(dm.Utilities.area_shape, aabb, 80., shape=shape)\n",
    "\n",
    "points_outside = dm.Utilities.fill_area_uniform_density(lambda x, **kwargs: ~dm.Utilities.area_shape(x, **kwargs), aabb, 80., shape=shape)\n",
    "\n",
    "ax = plt.subplot()\n",
    "dm.Utilities.plot_aabb(ax, aabb, color='black')\n",
    "plt.axis(aabb_draw.get_list())\n",
    "dm.Utilities.plot_polyline(ax, shape, close=False, fill=False)\n",
    "plt.plot(points_inside.numpy()[:, 0], points_inside.numpy()[:, 1], 'x')\n",
    "plt.plot(points_outside.numpy()[:, 0], points_outside.numpy()[:, 1], '.')\n",
    "plt.show()"
   ]
  },
  {
   "cell_type": "code",
   "execution_count": null,
   "metadata": {
    "autoscroll": false,
    "collapsed": false,
    "ein.hycell": false,
    "ein.tags": "worksheet-0",
    "slideshow": {
     "slide_type": "-"
    }
   },
   "outputs": [],
   "source": [
    "# Demonstration of area_polyline_outline() filled by random points using rejection sampling.\n",
    "\n",
    "N = 5\n",
    "polyline = aabb.fill_random(N)\n",
    "\n",
    "points_inside = dm.Utilities.fill_area_random_density(dm.Utilities.area_polyline_outline, aabb, 40., polyline=polyline, width=0.1)\n",
    "\n",
    "ax = plt.subplot()\n",
    "dm.Utilities.plot_aabb(ax, aabb, color='black')\n",
    "plt.axis(aabb_draw.get_list())\n",
    "dm.Utilities.plot_polyline(ax, polyline, close=False, fill=False)\n",
    "plt.plot(points_inside.numpy()[:, 0], points_inside.numpy()[:, 1], 'x')\n",
    "plt.show()"
   ]
  },
  {
   "cell_type": "code",
   "execution_count": null,
   "metadata": {
    "autoscroll": false,
    "collapsed": false,
    "ein.hycell": false,
    "ein.tags": "worksheet-0",
    "slideshow": {
     "slide_type": "-"
    }
   },
   "outputs": [],
   "source": [
    "# Demonstration of a combinaison of area_disc().\n",
    "\n",
    "N = 4\n",
    "centers = aabb.fill_random(N)\n",
    "\n",
    "area_discs = lambda x, **kwargs: sum([dm.Utilities.area_disc(x, radius=kwargs['radius'], center=center) for center in kwargs['centers']]) >= 1\n",
    "\n",
    "points_inside = dm.Utilities.fill_area_uniform_density(area_discs, aabb, 80., centers=centers, radius=0.4)\n",
    "points_outside = dm.Utilities.fill_area_uniform_density(lambda x, **kwargs: ~area_discs(x, **kwargs), aabb, 80., centers=centers, radius=0.4)\n",
    "\n",
    "ax = plt.subplot()\n",
    "dm.Utilities.plot_aabb(ax, aabb, color='black')\n",
    "plt.axis(aabb_draw.get_list())\n",
    "plt.plot(centers.numpy()[:, 0], centers.numpy()[:, 1], 'o')\n",
    "plt.plot(points_inside.numpy()[:, 0], points_inside.numpy()[:, 1], 'x')\n",
    "plt.plot(points_outside.numpy()[:, 0], points_outside.numpy()[:, 1], '.')\n",
    "plt.show()"
   ]
  }
 ],
 "metadata": {
  "kernelspec": {
   "display_name": "Python 3",
   "name": "python3"
  },
  "name": "Untitled1.ipynb"
 },
 "nbformat": 4,
 "nbformat_minor": 2
}
