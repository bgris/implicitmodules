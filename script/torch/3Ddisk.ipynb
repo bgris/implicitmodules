{
 "cells": [
  {
   "cell_type": "code",
   "execution_count": 1,
   "metadata": {},
   "outputs": [],
   "source": [
    "%load_ext autoreload\n",
    "%autoreload 2\n",
    "\n",
    "import sys\n",
    "import copy\n",
    "import math\n",
    "import pickle\n",
    "\n",
    "sys.path.append(\"../../\")\n",
    "\n",
    "import numpy as np\n",
    "import torch\n",
    "import matplotlib.pyplot as plt\n",
    "from mpl_toolkits.mplot3d import Axes3D\n",
    "import meshio\n",
    "\n",
    "import implicitmodules.torch as dm\n",
    "\n",
    "torch.set_default_tensor_type(torch.FloatTensor)\n",
    "\n",
    "dm.Utilities.set_compute_backend('torch')"
   ]
  },
  {
   "cell_type": "code",
   "execution_count": 2,
   "metadata": {},
   "outputs": [],
   "source": [
    "dim = 3"
   ]
  },
  {
   "cell_type": "code",
   "execution_count": 3,
   "metadata": {},
   "outputs": [],
   "source": [
    "r_rmin = 0.5\n",
    "r_rmax = 5.\n",
    "n_rowrigid = 5\n",
    "r_rigid = torch.linspace(r_rmin, r_rmax, n_rowrigid)\n",
    "r_gmin = 5.8\n",
    "r_gmax = 6.5\n",
    "n_rowgrowth = 2\n",
    "r_growth = torch.linspace(r_gmin, r_gmax, n_rowgrowth)\n",
    "\n",
    "npts_row = 20\n",
    "theta = torch.linspace(0., 2 * math.pi, npts_row + 1)[:-1]\n",
    "\n",
    "pts_rigid = torch.cat([ torch.tensor([[r * math.cos(th), r * math.sin(th)] for th in theta]) for r in r_rigid])\n",
    "pts_growth = torch.cat([ torch.tensor([[r * math.cos(th), r * math.sin(th)] for th in theta]) for r in r_growth])"
   ]
  },
  {
   "cell_type": "code",
   "execution_count": 4,
   "metadata": {},
   "outputs": [
    {
     "data": {
      "text/plain": [
       "(-7.15, 7.15, -7.15, 7.15)"
      ]
     },
     "execution_count": 4,
     "metadata": {},
     "output_type": "execute_result"
    },
    {
     "data": {
      "image/png": "[encoded data removed]",
      "text/plain": [
       "<Figure size 432x288 with 1 Axes>"
      ]
     },
     "metadata": {
      "needs_background": "light"
     },
     "output_type": "display_data"
    }
   ],
   "source": [
    "plt.figure()\n",
    "plt.plot(pts_rigid[:,0], pts_rigid[:,1], '.b')\n",
    "plt.plot(pts_growth[:,0], pts_growth[:,1], '.r')\n",
    "plt.axis('equal')"
   ]
  },
  {
   "cell_type": "code",
   "execution_count": 34,
   "metadata": {},
   "outputs": [
    {
     "data": {
      "text/plain": [
       "torch.Size([140, 3])"
      ]
     },
     "execution_count": 34,
     "metadata": {},
     "output_type": "execute_result"
    }
   ],
   "source": [
    "N_rigid = pts_rigid.shape[0]\n",
    "N_growth = pts_growth.shape[0]\n",
    "eps = 0.5\n",
    "pts_implicit1_m = torch.cat([torch.cat([pts_rigid, pts_growth]).clone(), torch.zeros([N_rigid + N_growth, 1])], dim = 1)\n",
    "pts_implicit1_t = torch.cat([torch.cat([pts_rigid, pts_growth]).clone(), eps + torch.zeros([N_rigid + N_growth, 1])], dim = 1)\n",
    "pts_implicit1_d = torch.cat([torch.cat([pts_rigid, pts_growth]).clone(), -eps + torch.zeros([N_rigid + N_growth, 1])], dim = 1)\n",
    "pts_implicit1_m.shape"
   ]
  },
  {
   "cell_type": "code",
   "execution_count": 35,
   "metadata": {},
   "outputs": [
    {
     "name": "stdout",
     "output_type": "stream",
     "text": [
      "torch.Size([420, 3])\n"
     ]
    }
   ],
   "source": [
    "pts_implicit1 = torch.cat([pts_implicit1_t, pts_implicit1_m, pts_implicit1_d])\n",
    "print(pts_implicit1.shape)"
   ]
  },
  {
   "cell_type": "code",
   "execution_count": 19,
   "metadata": {},
   "outputs": [],
   "source": [
    "C = torch.zeros(pts_implicit1.shape[0], dim, 1)\n",
    "C[N_rigid:, 2, 0] = 1.\n",
    "C[]\n",
    "import copy\n",
    "import math"
   ]
  },
  {
   "cell_type": "code",
   "execution_count": 20,
   "metadata": {},
   "outputs": [],
   "source": [
    "R_2D_init = torch.stack([dm.Utilities.rot2d(a) for a in theta])\n",
    "R = torch.cat([torch.stack([torch.cat([torch.cat([r.clone(), torch.zeros([2,1])], dim = 1), torch.tensor([[0., 0., 1.]])], dim=0) for r in R_2D_init]) for i in range(n_rowrigid + n_rowgrowth)])\n",
    "#R = torch.stack(R)"
   ]
  },
  {
   "cell_type": "code",
   "execution_count": 21,
   "metadata": {},
   "outputs": [
    {
     "data": {
      "text/plain": [
       "tensor([[-4.3711e-08, -1.0000e+00,  0.0000e+00],\n",
       "        [ 1.0000e+00, -4.3711e-08,  0.0000e+00],\n",
       "        [ 0.0000e+00,  0.0000e+00,  1.0000e+00]])"
      ]
     },
     "execution_count": 21,
     "metadata": {},
     "output_type": "execute_result"
    }
   ],
   "source": [
    "R[5]"
   ]
  },
  {
   "cell_type": "code",
   "execution_count": 22,
   "metadata": {},
   "outputs": [
    {
     "data": {
      "text/plain": [
       "tensor([[-4.3711e-08, -1.0000e+00],\n",
       "        [ 1.0000e+00, -4.3711e-08]])"
      ]
     },
     "execution_count": 22,
     "metadata": {},
     "output_type": "execute_result"
    }
   ],
   "source": [
    "R_2D_init[5]"
   ]
  },
  {
   "cell_type": "code",
   "execution_count": 23,
   "metadata": {},
   "outputs": [
    {
     "name": "stdout",
     "output_type": "stream",
     "text": [
      "torch.Size([140, 3])\n",
      "torch.Size([140, 3, 1])\n",
      "torch.Size([140, 3, 3])\n"
     ]
    }
   ],
   "source": [
    "print(pts_implicit1.shape)\n",
    "print(C.shape)\n",
    "print(R.shape)"
   ]
  },
  {
   "cell_type": "code",
   "execution_count": 24,
   "metadata": {},
   "outputs": [
    {
     "data": {
      "text/plain": [
       "(-7.15, 7.15, -7.15, 7.15)"
      ]
     },
     "execution_count": 24,
     "metadata": {},
     "output_type": "execute_result"
    }
   ],
   "source": [
    "#pllt the projection on 2D plane\n",
    "#%matplotlib qt5\n",
    "ax_left = plt.subplot(1, 1, 1)\n",
    "plt.plot(pts_implicit1[:,0], pts_implicit1[:,1], 'xk')\n",
    "plt.plot(pts_implicit1[:N_rigid,0], pts_implicit1[:N_rigid,1], 'ok')\n",
    "dm.Utilities.plot_C_ellipse(ax_left, pts_implicit1[:,:2], C[:,:2,:], R[:,:2,:2], c_index=0, scale=0.5, color='red')\n",
    "plt.axis('equal')"
   ]
  },
  {
   "cell_type": "code",
   "execution_count": 25,
   "metadata": {},
   "outputs": [],
   "source": [
    "sigma1 = 5.\n",
    "implicit1 = dm.DeformationModules.ImplicitModule1.build_and_fill(dim, pts_implicit1.shape[0], C, sigma1, 0.001, gd=(pts_implicit1.view(-1).requires_grad_(), R.view(-1).requires_grad_()))"
   ]
  },
  {
   "cell_type": "code",
   "execution_count": 26,
   "metadata": {},
   "outputs": [],
   "source": [
    "cotan = torch.zeros_like(pts_implicit1)\n",
    "mm = 5000.\n",
    "cotan[N_rigid + 1, 1:] = mm\n",
    "cotan[N_rigid + 19, 1:] = -mm\n",
    "cotan[N_rigid + 21, 1:] = mm\n",
    "cotan[-1, 1:] = -mm\n",
    "\n",
    "\n",
    "cotan[N_rigid + 9, 1:] = mm\n",
    "cotan[N_rigid + 11, 1:] = -mm\n",
    "cotan[N_rigid + 29, 1:] = mm\n",
    "cotan[N_rigid + 31, 1:] = -mm\n",
    "\n",
    "cotan[N_rigid + 4, 0] = mm\n",
    "cotan[N_rigid + 6, 0] = -mm\n",
    "cotan[N_rigid + 24, 0] = mm\n",
    "cotan[N_rigid + 26, 0] = -mm\n",
    "\n",
    "cotan[N_rigid + 14, 0] = -mm\n",
    "cotan[N_rigid + 16, 0] = mm\n",
    "cotan[N_rigid + 34, 0] = -mm\n",
    "cotan[N_rigid + 36, 0] = mm\n",
    "\n",
    "\n",
    "implicit1.manifold.fill_cotan([cotan.view(-1).requires_grad_(), torch.zeros_like(R).requires_grad_()])"
   ]
  },
  {
   "cell_type": "code",
   "execution_count": 27,
   "metadata": {},
   "outputs": [
    {
     "data": {
      "text/plain": [
       "(-7.15, 7.15, -7.15, 7.15)"
      ]
     },
     "execution_count": 27,
     "metadata": {},
     "output_type": "execute_result"
    }
   ],
   "source": [
    "#plot the projection on 2D plane\n",
    "#%matplotlib inline\n",
    "ax_left = plt.subplot(1, 1, 1)\n",
    "plt.plot(pts_implicit1[:,0], pts_implicit1[:,1], '.k')\n",
    "#plt.plot(pts_implicit1[:N_rigid,0], pts_implicit1[:N_rigid,1], 'ok')\n",
    "plt.quiver(pts_implicit1[:,0], pts_implicit1[:,1], cotan[:,0], cotan[:,1])\n",
    "#dm.Utilities.plot_C_ellipse(ax_left, pts_implicit1[:,:2], C[:,:2,:], R[:,:2,:2], c_index=0, scale=0.5, color='red')\n",
    "plt.axis('equal')"
   ]
  },
  {
   "cell_type": "code",
   "execution_count": 28,
   "metadata": {},
   "outputs": [],
   "source": [
    "dm.HamiltonianDynamic.shoot(dm.HamiltonianDynamic.Hamiltonian([implicit1]), 10, 'euler')\n",
    "pts = implicit1.manifold.gd[0].detach().view(-1, dim)"
   ]
  },
  {
   "cell_type": "code",
   "execution_count": 29,
   "metadata": {},
   "outputs": [
    {
     "data": {
      "text/plain": [
       "(-7.15, 7.15, -7.15, 7.15)"
      ]
     },
     "execution_count": 29,
     "metadata": {},
     "output_type": "execute_result"
    }
   ],
   "source": [
    "#plot the projection on 2D plane\n",
    "#%matplotlib inline\n",
    "ax_left = plt.subplot(1, 1, 1)\n",
    "plt.plot(pts_implicit1[:,0], pts_implicit1[:,1], '.k')\n",
    "#plt.plot(pts_implicit1[:N_rigid,0], pts_implicit1[:N_rigid,1], 'ok')\n",
    "#plt.quiver(pts_implicit1[:,0], pts_implicit1[:,1], cotan[:,0], cotan[:,1])\n",
    "plt.plot(pts[:,0], pts[:,1], 'xr')\n",
    "#dm.Utilities.plot_C_ellipse(ax_left, pts_implicit1[:,:2], C[:,:2,:], R[:,:2,:2], c_index=0, scale=0.5, color='red')\n",
    "plt.axis('equal')"
   ]
  },
  {
   "cell_type": "code",
   "execution_count": 30,
   "metadata": {},
   "outputs": [
    {
     "data": {
      "text/plain": [
       "tensor([[ 5.0000e-01,  0.0000e+00,  0.0000e+00],\n",
       "        [ 4.7553e-01,  1.5451e-01,  0.0000e+00],\n",
       "        [ 4.0451e-01,  2.9389e-01,  0.0000e+00],\n",
       "        [ 2.9389e-01,  4.0451e-01,  0.0000e+00],\n",
       "        [ 1.5451e-01,  4.7553e-01,  0.0000e+00],\n",
       "        [-2.1856e-08,  5.0000e-01,  0.0000e+00],\n",
       "        [-1.5451e-01,  4.7553e-01,  0.0000e+00],\n",
       "        [-2.9389e-01,  4.0451e-01,  0.0000e+00],\n",
       "        [-4.0451e-01,  2.9389e-01,  0.0000e+00],\n",
       "        [-4.7553e-01,  1.5451e-01,  0.0000e+00],\n",
       "        [-5.0000e-01, -4.3711e-08,  0.0000e+00],\n",
       "        [-4.7553e-01, -1.5451e-01,  0.0000e+00],\n",
       "        [-4.0451e-01, -2.9389e-01,  0.0000e+00],\n",
       "        [-2.9389e-01, -4.0451e-01,  0.0000e+00],\n",
       "        [-1.5451e-01, -4.7553e-01,  0.0000e+00],\n",
       "        [ 5.9624e-09, -5.0000e-01,  0.0000e+00],\n",
       "        [ 1.5451e-01, -4.7553e-01,  0.0000e+00],\n",
       "        [ 2.9389e-01, -4.0451e-01,  0.0000e+00],\n",
       "        [ 4.0451e-01, -2.9389e-01,  0.0000e+00],\n",
       "        [ 4.7553e-01, -1.5451e-01,  0.0000e+00],\n",
       "        [ 1.6250e+00,  0.0000e+00,  0.0000e+00],\n",
       "        [ 1.5455e+00,  5.0215e-01,  0.0000e+00],\n",
       "        [ 1.3147e+00,  9.5515e-01,  0.0000e+00],\n",
       "        [ 9.5515e-01,  1.3147e+00,  0.0000e+00],\n",
       "        [ 5.0215e-01,  1.5455e+00,  0.0000e+00],\n",
       "        [-7.1031e-08,  1.6250e+00,  0.0000e+00],\n",
       "        [-5.0215e-01,  1.5455e+00,  0.0000e+00],\n",
       "        [-9.5515e-01,  1.3147e+00,  0.0000e+00],\n",
       "        [-1.3147e+00,  9.5515e-01,  0.0000e+00],\n",
       "        [-1.5455e+00,  5.0215e-01,  0.0000e+00],\n",
       "        [-1.6250e+00, -1.4206e-07,  0.0000e+00],\n",
       "        [-1.5455e+00, -5.0215e-01,  0.0000e+00],\n",
       "        [-1.3147e+00, -9.5515e-01,  0.0000e+00],\n",
       "        [-9.5515e-01, -1.3147e+00,  0.0000e+00],\n",
       "        [-5.0215e-01, -1.5455e+00,  0.0000e+00],\n",
       "        [ 1.9378e-08, -1.6250e+00,  0.0000e+00],\n",
       "        [ 5.0215e-01, -1.5455e+00,  0.0000e+00],\n",
       "        [ 9.5515e-01, -1.3147e+00,  0.0000e+00],\n",
       "        [ 1.3147e+00, -9.5515e-01,  0.0000e+00],\n",
       "        [ 1.5455e+00, -5.0215e-01,  0.0000e+00],\n",
       "        [ 2.7500e+00,  0.0000e+00,  0.0000e+00],\n",
       "        [ 2.6154e+00,  8.4980e-01,  0.0000e+00],\n",
       "        [ 2.2248e+00,  1.6164e+00,  0.0000e+00],\n",
       "        [ 1.6164e+00,  2.2248e+00,  0.0000e+00],\n",
       "        [ 8.4980e-01,  2.6154e+00,  0.0000e+00],\n",
       "        [-1.2021e-07,  2.7500e+00,  0.0000e+00],\n",
       "        [-8.4980e-01,  2.6154e+00,  0.0000e+00],\n",
       "        [-1.6164e+00,  2.2248e+00,  0.0000e+00],\n",
       "        [-2.2248e+00,  1.6164e+00,  0.0000e+00],\n",
       "        [-2.6154e+00,  8.4980e-01,  0.0000e+00],\n",
       "        [-2.7500e+00, -2.4041e-07,  0.0000e+00],\n",
       "        [-2.6154e+00, -8.4980e-01,  0.0000e+00],\n",
       "        [-2.2248e+00, -1.6164e+00,  0.0000e+00],\n",
       "        [-1.6164e+00, -2.2248e+00,  0.0000e+00],\n",
       "        [-8.4980e-01, -2.6154e+00,  0.0000e+00],\n",
       "        [ 3.2793e-08, -2.7500e+00,  0.0000e+00],\n",
       "        [ 8.4980e-01, -2.6154e+00,  0.0000e+00],\n",
       "        [ 1.6164e+00, -2.2248e+00,  0.0000e+00],\n",
       "        [ 2.2248e+00, -1.6164e+00,  0.0000e+00],\n",
       "        [ 2.6154e+00, -8.4980e-01,  0.0000e+00],\n",
       "        [ 3.8750e+00,  0.0000e+00,  0.0000e+00],\n",
       "        [ 3.6853e+00,  1.1974e+00,  0.0000e+00],\n",
       "        [ 3.1349e+00,  2.2777e+00,  0.0000e+00],\n",
       "        [ 2.2777e+00,  3.1349e+00,  0.0000e+00],\n",
       "        [ 1.1974e+00,  3.6853e+00,  0.0000e+00],\n",
       "        [-1.6938e-07,  3.8750e+00,  0.0000e+00],\n",
       "        [-1.1974e+00,  3.6853e+00,  0.0000e+00],\n",
       "        [-2.2777e+00,  3.1349e+00,  0.0000e+00],\n",
       "        [-3.1349e+00,  2.2777e+00,  0.0000e+00],\n",
       "        [-3.6853e+00,  1.1974e+00,  0.0000e+00],\n",
       "        [-3.8750e+00, -3.3876e-07,  0.0000e+00],\n",
       "        [-3.6853e+00, -1.1974e+00,  0.0000e+00],\n",
       "        [-3.1349e+00, -2.2777e+00,  0.0000e+00],\n",
       "        [-2.2777e+00, -3.1349e+00,  0.0000e+00],\n",
       "        [-1.1974e+00, -3.6853e+00,  0.0000e+00],\n",
       "        [ 4.6209e-08, -3.8750e+00,  0.0000e+00],\n",
       "        [ 1.1974e+00, -3.6853e+00,  0.0000e+00],\n",
       "        [ 2.2777e+00, -3.1349e+00,  0.0000e+00],\n",
       "        [ 3.1349e+00, -2.2777e+00,  0.0000e+00],\n",
       "        [ 3.6853e+00, -1.1974e+00,  0.0000e+00],\n",
       "        [ 5.0000e+00,  0.0000e+00,  0.0000e+00],\n",
       "        [ 4.7553e+00,  1.5451e+00,  0.0000e+00],\n",
       "        [ 4.0451e+00,  2.9389e+00,  0.0000e+00],\n",
       "        [ 2.9389e+00,  4.0451e+00,  0.0000e+00],\n",
       "        [ 1.5451e+00,  4.7553e+00,  0.0000e+00],\n",
       "        [-2.1856e-07,  5.0000e+00,  0.0000e+00],\n",
       "        [-1.5451e+00,  4.7553e+00,  0.0000e+00],\n",
       "        [-2.9389e+00,  4.0451e+00,  0.0000e+00],\n",
       "        [-4.0451e+00,  2.9389e+00,  0.0000e+00],\n",
       "        [-4.7553e+00,  1.5451e+00,  0.0000e+00],\n",
       "        [-5.0000e+00, -4.3711e-07,  0.0000e+00],\n",
       "        [-4.7553e+00, -1.5451e+00,  0.0000e+00],\n",
       "        [-4.0451e+00, -2.9389e+00,  0.0000e+00],\n",
       "        [-2.9389e+00, -4.0451e+00,  0.0000e+00],\n",
       "        [-1.5451e+00, -4.7553e+00,  0.0000e+00],\n",
       "        [ 5.9624e-08, -5.0000e+00,  0.0000e+00],\n",
       "        [ 1.5451e+00, -4.7553e+00,  0.0000e+00],\n",
       "        [ 2.9389e+00, -4.0451e+00,  0.0000e+00],\n",
       "        [ 4.0451e+00, -2.9389e+00,  0.0000e+00],\n",
       "        [ 4.7553e+00, -1.5451e+00,  0.0000e+00],\n",
       "        [ 5.8000e+00,  0.0000e+00,  0.0000e+00],\n",
       "        [ 5.5161e+00,  1.7923e+00,  0.0000e+00],\n",
       "        [ 4.6923e+00,  3.4092e+00,  0.0000e+00],\n",
       "        [ 3.4092e+00,  4.6923e+00,  0.0000e+00],\n",
       "        [ 1.7923e+00,  5.5161e+00,  0.0000e+00],\n",
       "        [-2.5353e-07,  5.8000e+00,  0.0000e+00],\n",
       "        [-1.7923e+00,  5.5161e+00,  0.0000e+00],\n",
       "        [-3.4092e+00,  4.6923e+00,  0.0000e+00],\n",
       "        [-4.6923e+00,  3.4092e+00,  0.0000e+00],\n",
       "        [-5.5161e+00,  1.7923e+00,  0.0000e+00],\n",
       "        [-5.8000e+00, -5.0705e-07,  0.0000e+00],\n",
       "        [-5.5161e+00, -1.7923e+00,  0.0000e+00],\n",
       "        [-4.6923e+00, -3.4092e+00,  0.0000e+00],\n",
       "        [-3.4092e+00, -4.6923e+00,  0.0000e+00],\n",
       "        [-1.7923e+00, -5.5161e+00,  0.0000e+00],\n",
       "        [ 6.9164e-08, -5.8000e+00,  0.0000e+00],\n",
       "        [ 1.7923e+00, -5.5161e+00,  0.0000e+00],\n",
       "        [ 3.4092e+00, -4.6923e+00,  0.0000e+00],\n",
       "        [ 4.6923e+00, -3.4092e+00,  0.0000e+00],\n",
       "        [ 5.5161e+00, -1.7923e+00,  0.0000e+00],\n",
       "        [ 6.5000e+00,  0.0000e+00,  0.0000e+00],\n",
       "        [ 6.1819e+00,  2.0086e+00,  0.0000e+00],\n",
       "        [ 5.2586e+00,  3.8206e+00,  0.0000e+00],\n",
       "        [ 3.8206e+00,  5.2586e+00,  0.0000e+00],\n",
       "        [ 2.0086e+00,  6.1819e+00,  0.0000e+00],\n",
       "        [-2.8412e-07,  6.5000e+00,  0.0000e+00],\n",
       "        [-2.0086e+00,  6.1819e+00,  0.0000e+00],\n",
       "        [-3.8206e+00,  5.2586e+00,  0.0000e+00],\n",
       "        [-5.2586e+00,  3.8206e+00,  0.0000e+00],\n",
       "        [-6.1819e+00,  2.0086e+00,  0.0000e+00],\n",
       "        [-6.5000e+00, -5.6825e-07,  0.0000e+00],\n",
       "        [-6.1819e+00, -2.0086e+00,  0.0000e+00],\n",
       "        [-5.2586e+00, -3.8206e+00,  0.0000e+00],\n",
       "        [-3.8206e+00, -5.2586e+00,  0.0000e+00],\n",
       "        [-2.0086e+00, -6.1819e+00,  0.0000e+00],\n",
       "        [ 7.7512e-08, -6.5000e+00,  0.0000e+00],\n",
       "        [ 2.0086e+00, -6.1819e+00,  0.0000e+00],\n",
       "        [ 3.8206e+00, -5.2586e+00,  0.0000e+00],\n",
       "        [ 5.2586e+00, -3.8206e+00,  0.0000e+00],\n",
       "        [ 6.1819e+00, -2.0086e+00,  0.0000e+00]])"
      ]
     },
     "execution_count": 30,
     "metadata": {},
     "output_type": "execute_result"
    }
   ],
   "source": [
    "pts"
   ]
  },
  {
   "cell_type": "code",
   "execution_count": 33,
   "metadata": {},
   "outputs": [],
   "source": [
    "# plot 3D\n",
    "%matplotlib qt5\n",
    "fig = plt.figure()\n",
    "\n",
    "ax = fig.add_subplot(121, projection='3d')\n",
    "ax.scatter(pts_implicit1[:, 0].numpy(), pts_implicit1[:, 1].numpy(), pts_implicit1[:, 2].numpy(), marker='.')\n",
    "ax.scatter(pts[:, 0].numpy(), pts[:, 1].numpy(), pts[:, 2].numpy(), marker='x', color='r')\n",
    "set_aspect_equal_3d(ax)"
   ]
  },
  {
   "cell_type": "code",
   "execution_count": 32,
   "metadata": {},
   "outputs": [],
   "source": [
    "def set_aspect_equal_3d(ax):\n",
    "    \"\"\"Fix equal aspect bug for 3D plots.\"\"\"\n",
    "\n",
    "    xlim = ax.get_xlim3d()\n",
    "    ylim = ax.get_ylim3d()\n",
    "    zlim = ax.get_zlim3d()\n",
    "\n",
    "    from numpy import mean\n",
    "    xmean = mean(xlim)\n",
    "    ymean = mean(ylim)\n",
    "    zmean = mean(zlim)\n",
    "\n",
    "    plot_radius = max([abs(lim - mean_)\n",
    "                       for lims, mean_ in ((xlim, xmean),\n",
    "                                           (ylim, ymean),\n",
    "                                           (zlim, zmean))\n",
    "                       for lim in lims])\n",
    "\n",
    "    ax.set_xlim3d([xmean - plot_radius, xmean + plot_radius])\n",
    "    ax.set_ylim3d([ymean - plot_radius, ymean + plot_radius])\n",
    "    ax.set_zlim3d([zmean - plot_radius, zmean + plot_radius])"
   ]
  },
  {
   "cell_type": "code",
   "execution_count": null,
   "metadata": {},
   "outputs": [],
   "source": []
  },
  {
   "cell_type": "code",
   "execution_count": 235,
   "metadata": {},
   "outputs": [
    {
     "name": "stdout",
     "output_type": "stream",
     "text": [
      "tensor([-2.7234], grad_fn=<AsStridedBackward>)\n"
     ]
    }
   ],
   "source": [
    "#implicit1.compute_geodesic_control(implicit1.manifold)\n",
    "v = implicit1(implicit1.manifold.gd[0].view(-1, dim)).detach()\n",
    "print(implicit1.controls)"
   ]
  },
  {
   "cell_type": "code",
   "execution_count": 237,
   "metadata": {},
   "outputs": [
    {
     "data": {
      "text/plain": [
       "tensor([[ 2.1143e-01, -2.6703e-05,  0.0000e+00],\n",
       "        [ 2.0107e-01,  6.5336e-02,  0.0000e+00],\n",
       "        [ 1.7101e-01,  1.2430e-01,  0.0000e+00],\n",
       "        [ 1.2419e-01,  1.7110e-01,  0.0000e+00],\n",
       "        [ 6.5218e-02,  2.0113e-01,  0.0000e+00],\n",
       "        [-1.4585e-04,  2.1149e-01,  0.0000e+00],\n",
       "        [-6.5499e-02,  2.0114e-01,  0.0000e+00],\n",
       "        [-1.2445e-01,  1.7110e-01,  0.0000e+00],\n",
       "        [-1.7123e-01,  1.2431e-01,  0.0000e+00],\n",
       "        [-2.0126e-01,  6.5357e-02,  0.0000e+00],\n",
       "        [-2.1160e-01,  4.2915e-06,  0.0000e+00],\n",
       "        [-2.0124e-01, -6.5352e-02,  0.0000e+00],\n",
       "        [-1.7120e-01, -1.2431e-01,  0.0000e+00],\n",
       "        [-1.2441e-01, -1.7112e-01,  0.0000e+00],\n",
       "        [-6.5443e-02, -2.0117e-01,  0.0000e+00],\n",
       "        [-8.8215e-05, -2.1153e-01,  0.0000e+00],\n",
       "        [ 6.5272e-02, -2.0119e-01,  0.0000e+00],\n",
       "        [ 1.2424e-01, -1.7114e-01,  0.0000e+00],\n",
       "        [ 1.7104e-01, -1.2435e-01,  0.0000e+00],\n",
       "        [ 2.0108e-01, -6.5389e-02,  0.0000e+00],\n",
       "        [ 5.7570e-01,  5.9128e-05,  0.0000e+00],\n",
       "        [ 5.4750e-01,  1.7786e-01,  0.0000e+00],\n",
       "        [ 4.6569e-01,  3.3836e-01,  0.0000e+00],\n",
       "        [ 3.3831e-01,  4.6565e-01,  0.0000e+00],\n",
       "        [ 1.7773e-01,  5.4751e-01,  0.0000e+00],\n",
       "        [-6.9618e-05,  5.7563e-01,  0.0000e+00],\n",
       "        [-1.7803e-01,  5.4742e-01,  0.0000e+00],\n",
       "        [-3.3833e-01,  4.6574e-01,  0.0000e+00],\n",
       "        [-4.6567e-01,  3.3834e-01,  0.0000e+00],\n",
       "        [-5.4738e-01,  1.7798e-01,  0.0000e+00],\n",
       "        [-5.7558e-01,  2.6703e-05,  0.0000e+00],\n",
       "        [-5.4745e-01, -1.7779e-01,  0.0000e+00],\n",
       "        [-4.6568e-01, -3.3830e-01,  0.0000e+00],\n",
       "        [-3.3842e-01, -4.6565e-01,  0.0000e+00],\n",
       "        [-1.7790e-01, -5.4745e-01,  0.0000e+00],\n",
       "        [-1.0300e-04, -5.7566e-01,  0.0000e+00],\n",
       "        [ 1.7779e-01, -5.4750e-01,  0.0000e+00],\n",
       "        [ 3.3829e-01, -4.6572e-01,  0.0000e+00],\n",
       "        [ 4.6577e-01, -3.3833e-01,  0.0000e+00],\n",
       "        [ 5.4754e-01, -1.7785e-01,  0.0000e+00],\n",
       "        [-9.0960e-01,  1.0166e-03,  0.0000e+00],\n",
       "        [-8.6516e-01, -2.8324e-01,  0.0000e+00],\n",
       "        [-7.3756e-01, -5.3221e-01,  0.0000e+00],\n",
       "        [-5.3216e-01, -7.3864e-01,  0.0000e+00],\n",
       "        [-2.8490e-01, -8.6395e-01,  0.0000e+00],\n",
       "        [ 4.1885e-03, -9.1007e-01,  0.0000e+00],\n",
       "        [ 2.7705e-01, -8.6681e-01,  0.0000e+00],\n",
       "        [ 5.3819e-01, -7.3353e-01,  0.0000e+00],\n",
       "        [ 7.3418e-01, -5.3820e-01,  0.0000e+00],\n",
       "        [ 8.6630e-01, -2.7787e-01,  0.0000e+00],\n",
       "        [ 9.1022e-01, -2.3537e-03,  0.0000e+00],\n",
       "        [ 8.6470e-01,  2.8285e-01,  0.0000e+00],\n",
       "        [ 7.3719e-01,  5.3364e-01,  0.0000e+00],\n",
       "        [ 5.3299e-01,  7.3735e-01,  0.0000e+00],\n",
       "        [ 2.8364e-01,  8.6472e-01,  0.0000e+00],\n",
       "        [-2.1362e-03,  9.0976e-01,  0.0000e+00],\n",
       "        [-2.8008e-01,  8.6603e-01,  0.0000e+00],\n",
       "        [-5.3536e-01,  7.3564e-01,  0.0000e+00],\n",
       "        [-7.3599e-01,  5.3498e-01,  0.0000e+00],\n",
       "        [-8.6555e-01,  2.8115e-01,  0.0000e+00],\n",
       "        [-3.2902e+00,  5.6839e-03,  0.0000e+00],\n",
       "        [-3.1273e+00, -1.0303e+00,  0.0000e+00],\n",
       "        [-2.6734e+00, -1.9174e+00,  0.0000e+00],\n",
       "        [-1.9151e+00, -2.6780e+00,  0.0000e+00],\n",
       "        [-1.0424e+00, -3.1213e+00,  0.0000e+00],\n",
       "        [ 2.8276e-02, -3.2915e+00,  0.0000e+00],\n",
       "        [ 9.8937e-01, -3.1393e+00,  0.0000e+00],\n",
       "        [ 1.9574e+00, -2.6454e+00,  0.0000e+00],\n",
       "        [ 2.6477e+00, -1.9566e+00,  0.0000e+00],\n",
       "        [ 3.1360e+00, -9.9605e-01,  0.0000e+00],\n",
       "        [ 3.2920e+00, -1.5389e-02,  0.0000e+00],\n",
       "        [ 3.1263e+00,  1.0275e+00,  0.0000e+00],\n",
       "        [ 2.6692e+00,  1.9257e+00,  0.0000e+00],\n",
       "        [ 1.9228e+00,  2.6711e+00,  0.0000e+00],\n",
       "        [ 1.0329e+00,  3.1252e+00,  0.0000e+00],\n",
       "        [-1.4475e-02,  3.2907e+00,  0.0000e+00],\n",
       "        [-1.0081e+00,  3.1340e+00,  0.0000e+00],\n",
       "        [-1.9374e+00,  2.6597e+00,  0.0000e+00],\n",
       "        [-2.6627e+00,  1.9347e+00,  0.0000e+00],\n",
       "        [-3.1308e+00,  1.0168e+00,  0.0000e+00],\n",
       "        [ 1.5501e+00, -2.5387e-02,  0.0000e+00],\n",
       "        [ 1.4447e+00,  5.3076e-01,  0.0000e+00],\n",
       "        [ 1.3056e+00,  8.3887e-01,  0.0000e+00],\n",
       "        [ 8.1787e-01,  1.3112e+00,  0.0000e+00],\n",
       "        [ 5.9200e-01,  1.4331e+00,  0.0000e+00],\n",
       "        [-1.2569e-01,  1.5437e+00,  0.0000e+00],\n",
       "        [-3.5569e-01,  1.5084e+00,  0.0000e+00],\n",
       "        [-1.0103e+00,  1.1761e+00,  0.0000e+00],\n",
       "        [-1.1787e+00,  1.0001e+00,  0.0000e+00],\n",
       "        [-1.5030e+00,  3.8734e-01,  0.0000e+00],\n",
       "        [-1.5399e+00,  7.0595e-02,  0.0000e+00],\n",
       "        [-1.4545e+00, -5.2773e-01,  0.0000e+00],\n",
       "        [-1.2809e+00, -8.6716e-01,  0.0000e+00],\n",
       "        [-8.5481e-01, -1.2847e+00,  0.0000e+00],\n",
       "        [-5.4575e-01, -1.4468e+00,  0.0000e+00],\n",
       "        [ 6.3667e-02, -1.5476e+00,  0.0000e+00],\n",
       "        [ 4.3603e-01, -1.4773e+00,  0.0000e+00],\n",
       "        [ 9.2455e-01, -1.2426e+00,  0.0000e+00],\n",
       "        [ 1.2471e+00, -9.0837e-01,  0.0000e+00],\n",
       "        [ 1.4678e+00, -4.7305e-01,  0.0000e+00],\n",
       "        [ 1.7847e+00, -5.8678e-02,  0.0000e+00],\n",
       "        [ 1.6401e+00,  6.7134e-01,  0.0000e+00],\n",
       "        [ 1.5603e+00,  8.8696e-01,  0.0000e+00],\n",
       "        [ 8.4242e-01,  1.5785e+00,  0.0000e+00],\n",
       "        [ 8.0833e-01,  1.6075e+00,  0.0000e+00],\n",
       "        [-2.8533e-01,  1.7753e+00,  0.0000e+00],\n",
       "        [-2.7265e-01,  1.7794e+00,  0.0000e+00],\n",
       "        [-1.2759e+00,  1.2705e+00,  0.0000e+00],\n",
       "        [-1.2795e+00,  1.2539e+00,  0.0000e+00],\n",
       "        [-1.7628e+00,  3.4566e-01,  0.0000e+00],\n",
       "        [-1.7699e+00,  1.5961e-01,  0.0000e+00],\n",
       "        [-1.6551e+00, -6.6427e-01,  0.0000e+00],\n",
       "        [-1.5083e+00, -9.4998e-01,  0.0000e+00],\n",
       "        [-9.2643e-01, -1.5184e+00,  0.0000e+00],\n",
       "        [-7.0079e-01, -1.6405e+00,  0.0000e+00],\n",
       "        [ 1.4190e-01, -1.7810e+00,  0.0000e+00],\n",
       "        [ 4.5651e-01, -1.7125e+00,  0.0000e+00],\n",
       "        [ 1.0811e+00, -1.4181e+00,  0.0000e+00],\n",
       "        [ 1.4320e+00, -1.0476e+00,  0.0000e+00],\n",
       "        [ 1.6896e+00, -5.3809e-01,  0.0000e+00],\n",
       "        [ 1.7037e+00, -4.9719e-02,  0.0000e+00],\n",
       "        [ 1.5731e+00,  6.2555e-01,  0.0000e+00],\n",
       "        [ 1.4742e+00,  8.6800e-01,  0.0000e+00],\n",
       "        [ 8.3090e-01,  1.4896e+00,  0.0000e+00],\n",
       "        [ 7.3906e-01,  1.5460e+00,  0.0000e+00],\n",
       "        [-2.3656e-01,  1.6960e+00,  0.0000e+00],\n",
       "        [-2.9538e-01,  1.6884e+00,  0.0000e+00],\n",
       "        [-1.1891e+00,  1.2350e+00,  0.0000e+00],\n",
       "        [-1.2428e+00,  1.1706e+00,  0.0000e+00],\n",
       "        [-1.6744e+00,  3.5659e-01,  0.0000e+00],\n",
       "        [-1.6916e+00,  1.3281e-01,  0.0000e+00],\n",
       "        [-1.5847e+00, -6.2150e-01,  0.0000e+00],\n",
       "        [-1.4327e+00, -9.1821e-01,  0.0000e+00],\n",
       "        [-9.0036e-01, -1.4398e+00,  0.0000e+00],\n",
       "        [-6.4824e-01, -1.5739e+00,  0.0000e+00],\n",
       "        [ 1.1609e-01, -1.7006e+00,  0.0000e+00],\n",
       "        [ 4.4793e-01, -1.6329e+00,  0.0000e+00],\n",
       "        [ 1.0286e+00, -1.3564e+00,  0.0000e+00],\n",
       "        [ 1.3676e+00, -1.0016e+00,  0.0000e+00],\n",
       "        [ 1.6146e+00, -5.1355e-01,  0.0000e+00]])"
      ]
     },
     "execution_count": 237,
     "metadata": {},
     "output_type": "execute_result"
    }
   ],
   "source": [
    "v"
   ]
  },
  {
   "cell_type": "code",
   "execution_count": 236,
   "metadata": {},
   "outputs": [
    {
     "data": {
      "text/plain": [
       "<mpl_toolkits.mplot3d.art3d.Line3DCollection at 0x7fe91366fd30>"
      ]
     },
     "execution_count": 236,
     "metadata": {},
     "output_type": "execute_result"
    },
    {
     "data": {
      "image/png": "[encoded data removed]",
      "text/plain": [
       "<Figure size 432x288 with 1 Axes>"
      ]
     },
     "metadata": {
      "needs_background": "light"
     },
     "output_type": "display_data"
    }
   ],
   "source": [
    "%matplotlib qt5\n",
    "fig = plt.figure()\n",
    "ax = fig.gca(projection='3d')\n",
    "ax.scatter(pts_implicit1[:, 0].numpy(), pts_implicit1[:, 1].numpy(), pts_implicit1[:, 2].numpy(), marker='.')\n",
    "ax.quiver(pts_implicit1[:, 0].numpy(), pts_implicit1[:, 1].numpy(), pts_implicit1[:, 2].numpy(), v[:, 0].numpy(), v[:, 1].numpy(), v[:, 2].numpy(), length=0.1, normalize=False)"
   ]
  },
  {
   "cell_type": "code",
   "execution_count": null,
   "metadata": {},
   "outputs": [],
   "source": []
  },
  {
   "cell_type": "code",
   "execution_count": null,
   "metadata": {},
   "outputs": [],
   "source": []
  },
  {
   "cell_type": "code",
   "execution_count": 85,
   "metadata": {
    "scrolled": true
   },
   "outputs": [
    {
     "data": {
      "text/plain": [
       "torch.Size([210, 2])"
      ]
     },
     "execution_count": 85,
     "metadata": {},
     "output_type": "execute_result"
    }
   ],
   "source": [
    "pts.shape"
   ]
  }
 ],
 "metadata": {
  "kernelspec": {
   "display_name": "Python 3",
   "language": "python",
   "name": "python3"
  },
  "language_info": {
   "codemirror_mode": {
    "name": "ipython",
    "version": 3
   },
   "file_extension": ".py",
   "mimetype": "text/x-python",
   "name": "python",
   "nbconvert_exporter": "python",
   "pygments_lexer": "ipython3",
   "version": "3.5.2"
  }
 },
 "nbformat": 4,
 "nbformat_minor": 2
}
