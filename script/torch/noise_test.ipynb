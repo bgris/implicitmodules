{
 "cells": [
  {
   "cell_type": "code",
   "execution_count": null,
   "metadata": {
    "autoscroll": false,
    "collapsed": false,
    "ein.hycell": false,
    "ein.tags": "worksheet-0",
    "slideshow": {
     "slide_type": "-"
    }
   },
   "outputs": [],
   "source": [
    "%load_ext autoreload\n",
    "%autoreload 2\n",
    "\n",
    "%env OMP_NUM_THREADS 1\n",
    "%env MKL_NUM_THREADS 1\n",
    "\n",
    "import sys\n",
    "import os\n",
    "import psutil\n",
    "import pickle\n",
    "import math\n",
    "import argparse\n",
    "\n",
    "# The deformation module library is not automatically installed yet, we need to add its path manually\n",
    "sys.path.append(\"../../\")\n",
    "\n",
    "import numpy as np\n",
    "import matplotlib.pyplot as plt\n",
    "import torch\n",
    "\n",
    "import implicitmodules.torch as dm\n",
    "\n",
    "from joblib import Parallel, delayed\n",
    "parallel = Parallel(n_jobs=psutil.cpu_count(logical=False))\n",
    "\n",
    "torch.set_default_tensor_type(torch.FloatTensor)\n",
    "torch.set_num_threads(1)"
   ]
  },
  {
   "cell_type": "code",
   "execution_count": null,
   "metadata": {
    "autoscroll": false,
    "collapsed": false,
    "ein.hycell": false,
    "ein.tags": "worksheet-0",
    "slideshow": {
     "slide_type": "-"
    }
   },
   "outputs": [],
   "source": [
    "aabb_source = dm.Utilities.AABB(-1., 1., -0.5, 0.5)\n",
    "density = 8\n",
    "length_x = int(density*aabb_source.width)\n",
    "length_y = int(density*aabb_source.height)\n",
    "mesh_pts_x, mesh_pts_y = torch.meshgrid([torch.linspace(aabb_source.xmin, aabb_source.xmax, length_x), torch.linspace(aabb_source.ymin, aabb_source.ymax, length_y)])\n",
    "pts_implicit1 = dm.Utilities.grid2vec(mesh_pts_x, mesh_pts_y)\n",
    "source = pts_implicit1.clone()\n",
    "print(source.shape)"
   ]
  },
  {
   "cell_type": "code",
   "execution_count": null,
   "metadata": {
    "autoscroll": false,
    "collapsed": false,
    "ein.hycell": false,
    "ein.tags": "worksheet-0",
    "slideshow": {
     "slide_type": "-"
    }
   },
   "outputs": [],
   "source": [
    "# A polynomial model of order 3\n",
    "def pol3(pos, abc):\n",
    "    a = abc[0].unsqueeze(1)\n",
    "    b = abc[1].unsqueeze(1)\n",
    "    c = abc[2].unsqueeze(1)\n",
    "    d = abc[3].unsqueeze(1)\n",
    "    e = abc[4].unsqueeze(1)\n",
    "    f = abc[5].unsqueeze(1)\n",
    "    g = abc[6].unsqueeze(1)\n",
    "    h = abc[7].unsqueeze(1)\n",
    "    i = abc[8].unsqueeze(1)\n",
    "    j = abc[9].unsqueeze(1)\n",
    "\n",
    "    return a \\\n",
    "        + b*pos[:, 0] + c*pos[:, 1] \\\n",
    "        + d*pos[:, 0]**2 + e*pos[:, 1]**2 + f*pos[:, 0]*pos[:, 1] \\\n",
    "        + g*pos[:, 0]**3 + h*pos[:, 1]**3 + i*pos[:, 0]**2*pos[:, 1] + j*pos[:, 0]*pos[:, 1]**2\n",
    "\n",
    "my_pol = pol3\n"
   ]
  },
  {
   "cell_type": "code",
   "execution_count": null,
   "metadata": {
    "autoscroll": false,
    "collapsed": false,
    "ein.hycell": false,
    "ein.tags": "worksheet-0",
    "slideshow": {
     "slide_type": "-"
    }
   },
   "outputs": [],
   "source": [
    "# The model parameters we use and would like to get back\n",
    "abc_gt = torch.tensor([[1., 0.],\n",
    "                       [4., 0.], [1., 1.],\n",
    "                       [0., 1.], [0.5, 2.], [1., 1.],\n",
    "                       [0., 0.1], [0.1, -0.2], [0., 0.5], [-0.2, -0.1]])\n",
    "sigma_gt = 0.5\n",
    "angle = 0.\n",
    "\n",
    "def generate_target(pts, abc, sigma, angle):\n",
    "    pts = torch.tensor(pts)\n",
    "    abc = torch.tensor(abc)\n",
    "    silent_dots_target = dm.DeformationModules.SilentLandmarks.build_from_points(pts)\n",
    "\n",
    "    th = angle * math.pi * torch.ones(pts.shape[0])\n",
    "    R_target = torch.stack([dm.Utilities.rot2d(t) for t in th])\n",
    "    C_target = my_pol(pts, abc_gt).transpose(0, 1).unsqueeze(2)\n",
    "\n",
    "    implicit1_target_pts_cotan = 3.*torch.rand_like(pts)\n",
    "    implicit1_target_R_cotan = 3.*torch.rand_like(R_target)\n",
    "\n",
    "    implicit1_target = dm.DeformationModules.ImplicitModule1(\n",
    "        dm.Manifolds.Stiefel(2, pts.shape[0],\n",
    "                             gd=(pts.view(-1).requires_grad_(),\n",
    "                                 R_target.view(-1).requires_grad_()),\n",
    "                             cotan=(implicit1_target_pts_cotan.clone().view(-1).requires_grad_(),\n",
    "                                    implicit1_target_R_cotan.clone().view(-1).requires_grad_())),\n",
    "        C_target, sigma_gt, 0.01, 1.)\n",
    "\n",
    "    compound_target = dm.DeformationModules.CompoundModule([silent_dots_target,\n",
    "                                                        implicit1_target])\n",
    "    with torch.autograd.no_grad():\n",
    "        dm.HamiltonianDynamic.shoot(dm.HamiltonianDynamic.Hamiltonian(compound_target), 20, \"euler\")\n",
    "\n",
    "    return silent_dots_target.manifold.gd.view(-1, 2)"
   ]
  },
  {
   "cell_type": "code",
   "execution_count": null,
   "metadata": {
    "autoscroll": false,
    "collapsed": false,
    "ein.hycell": false,
    "ein.tags": "worksheet-0",
    "slideshow": {
     "slide_type": "-"
    }
   },
   "outputs": [],
   "source": [
    "# Callback function called when computing the energy of the model (before the actual shooting).\n",
    "# Used to compute the C of the implicit module of order 1.\n",
    "def parametric_c(init_manifold, modules, fitted_parameters):\n",
    "    abc = fitted_parameters[-1]\n",
    "    modules[1]._ImplicitModule1__C = my_pol(pts_implicit1, abc).transpose(0, 1).unsqueeze(2)\n"
   ]
  },
  {
   "cell_type": "code",
   "execution_count": null,
   "metadata": {
    "autoscroll": false,
    "collapsed": false,
    "ein.hycell": false,
    "ein.tags": "worksheet-0",
    "slideshow": {
     "slide_type": "-"
    }
   },
   "outputs": [],
   "source": [
    "sigma = sigma_gt\n",
    "nu = 0.01\n",
    "coeff = 1.\n",
    "\n",
    "abc_init = torch.zeros(10, 2)\n",
    "abc_init[0, 0] = 1.\n",
    "abc_init[0, 1] = 1.\n",
    "C_init = my_pol(pts_implicit1, abc_init).transpose(0, 1).unsqueeze(2)\n",
    "C_target = my_pol(pts_implicit1, abc_gt).transpose(0, 1).unsqueeze(2)\n",
    "th = 0. * math.pi * torch.ones(pts_implicit1.shape[0])\n",
    "R = torch.stack([dm.Utilities.rot2d(t) for t in th])"
   ]
  },
  {
   "cell_type": "code",
   "execution_count": null,
   "metadata": {
    "autoscroll": false,
    "collapsed": false,
    "ein.hycell": false,
    "ein.tags": "worksheet-0",
    "slideshow": {
     "slide_type": "-"
    }
   },
   "outputs": [],
   "source": [
    "def set_correct_affinity():\n",
    "    parser = argparse.ArgumentParser()\n",
    "    parser.add_argument(\"--process-name\")\n",
    "    process = psutil.Process()\n",
    "    args, _ = parser.parse_known_args(process.cmdline())\n",
    "    worker_index = int(args.process_name.split('-')[1]) - 1\n",
    "    process.cpu_affinity([worker_index])"
   ]
  },
  {
   "cell_type": "code",
   "execution_count": null,
   "metadata": {
    "autoscroll": false,
    "collapsed": false,
    "ein.hycell": false,
    "ein.tags": "worksheet-0",
    "slideshow": {
     "slide_type": "-"
    }
   },
   "outputs": [],
   "source": [
    "def compute_noisy_c_dot(noise_sigma, max_iter):\n",
    "    set_correct_affinity()\n",
    "\n",
    "    target = generate_target(pts_implicit1.numpy(), abc_gt, sigma_gt, 0.)\n",
    "    target = target + noise_sigma*torch.randn_like(target)\n",
    "\n",
    "    abc = abc_init.clone().requires_grad_()\n",
    "    implicit1 = dm.DeformationModules.ImplicitModule1(\n",
    "        dm.Manifolds.Stiefel(2, pts_implicit1.shape[0],\n",
    "                             gd=(pts_implicit1.view(-1).requires_grad_(),\n",
    "                                 R.view(-1).requires_grad_())),\n",
    "        C_init, sigma_gt, nu, coeff)\n",
    "\n",
    "    model = dm.Models.ModelPointsRegistration(\n",
    "        [source],\n",
    "        [implicit1],\n",
    "        [dm.Attachment.EuclideanPointwiseDistanceAttachement(10.)],\n",
    "        other_parameters=[abc],\n",
    "        precompute_callback=parametric_c)\n",
    "\n",
    "    fitter = dm.Models.ModelFittingScipy(model, 1., 1000.)\n",
    "    fitter.fit([target], max_iter, log_interval=-1)\n",
    "\n",
    "    C = model.modules[1].C.detach()\n",
    "    return torch.dot((C/torch.norm(C)).contiguous().view(-1), (C_target/torch.norm(C_target)).contiguous().view(-1)).item()\n"
   ]
  },
  {
   "cell_type": "code",
   "execution_count": null,
   "metadata": {
    "autoscroll": false,
    "collapsed": false,
    "ein.hycell": false,
    "ein.tags": "worksheet-0",
    "slideshow": {
     "slide_type": "-"
    }
   },
   "outputs": [],
   "source": [
    "def compute_mean_noisy_c_dot(sigma, max_iter, loop_count):\n",
    "    return sum([compute_noisy_c_dot(sigma, max_iter) for i in range(loop_count)])/loop_count\n",
    "        "
   ]
  },
  {
   "cell_type": "code",
   "execution_count": null,
   "metadata": {
    "autoscroll": false,
    "collapsed": false,
    "ein.hycell": false,
    "ein.tags": "worksheet-0",
    "slideshow": {
     "slide_type": "-"
    }
   },
   "outputs": [],
   "source": [
    "noise_sigma = torch.linspace(0., 0.5, 10).tolist()\n",
    "max_iter = 10\n",
    "loops = 2\n",
    "\n",
    "noisy_c_dot = parallel(delayed(compute_mean_noisy_c_dot)(ns, max_iter, loops) for ns in noise_sigma)"
   ]
  },
  {
   "cell_type": "code",
   "execution_count": null,
   "metadata": {
    "autoscroll": false,
    "collapsed": false,
    "ein.hycell": false,
    "ein.tags": "worksheet-0",
    "slideshow": {
     "slide_type": "-"
    }
   },
   "outputs": [],
   "source": [
    "plt.xlabel(\"$\\sigma_\\mathrm{noise}$\")\n",
    "plt.ylabel(\"$C_\\mathrm{target} \\cdot C_\\mathrm{noisy}$\")\n",
    "plt.plot(noise_sigma, list(map(lambda x: np.abs(x), noisy_c_dot)))\n",
    "plt.show()"
   ]
  }
 ],
 "metadata": {
  "kernelspec": {
   "display_name": "Python 3",
   "name": "python3"
  },
  "name": "noise_test.ipynb"
 },
 "nbformat": 4,
 "nbformat_minor": 2
}
