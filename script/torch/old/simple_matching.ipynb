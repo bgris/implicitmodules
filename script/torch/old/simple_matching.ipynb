{
 "cells": [
  {
   "cell_type": "code",
   "execution_count": null,
   "metadata": {
    "autoscroll": false,
    "collapsed": false,
    "ein.hycell": false,
    "ein.tags": "worksheet-0",
    "slideshow": {
     "slide_type": "-"
    }
   },
   "outputs": [],
   "source": [
    "%reset\n",
    "%load_ext autoreload\n",
    "%autoreload 2\n",
    "\n",
    "import sys\n",
    "sys.path.append(\"../../../\")\n",
    "\n",
    "import numpy as np\n",
    "import matplotlib.pyplot as plt\n",
    "import torch\n",
    "\n",
    "import implicitmodules.torch as dm\n",
    "\n",
    "torch.set_default_tensor_type(torch.DoubleTensor)"
   ]
  },
  {
   "cell_type": "code",
   "execution_count": null,
   "metadata": {
    "autoscroll": false,
    "collapsed": false,
    "ein.hycell": false,
    "ein.tags": "worksheet-0",
    "slideshow": {
     "slide_type": "-"
    }
   },
   "outputs": [],
   "source": [
    "source = dm.sampling.load_and_sample_greyscale(\"../data/density_a.png\", threshold=0.5, centered=True)\n",
    "target = dm.sampling.load_and_sample_greyscale(\"../data/density_b.png\", threshold=0.5, centered=True)"
   ]
  },
  {
   "cell_type": "code",
   "execution_count": null,
   "metadata": {
    "autoscroll": false,
    "collapsed": false,
    "ein.hycell": false,
    "ein.tags": "worksheet-0",
    "slideshow": {
     "slide_type": "-"
    }
   },
   "outputs": [],
   "source": [
    "aabb = dm.usefulfunctions.AABB.build_from_points(source[0])\n",
    "aabb_total = dm.usefulfunctions.AABB.build_from_points(torch.cat([source[0], target[0]]))"
   ]
  },
  {
   "cell_type": "code",
   "execution_count": null,
   "metadata": {
    "autoscroll": false,
    "collapsed": false,
    "ein.hycell": false,
    "ein.tags": "worksheet-0",
    "slideshow": {
     "slide_type": "-"
    }
   },
   "outputs": [],
   "source": [
    "sigma = 0.1\n",
    "step = sigma\n",
    "x, y = torch.meshgrid([torch.arange(aabb.xmin-sigma, aabb.xmax+sigma, step=step), torch.arange(aabb.ymin-sigma, aabb.ymax+sigma, step=step)])\n",
    "gd = dm.usefulfunctions.grid2vec(x, y).contiguous().view(-1).requires_grad_()\n",
    "\n",
    "sigma1 = 0.02\n",
    "step1 = sigma1\n",
    "x1, y1 = torch.meshgrid([torch.arange(aabb.xmin-sigma1, aabb.xmax+sigma1, step=step1), torch.arange(aabb.ymin-sigma1, aabb.ymax+sigma1, step=step1)])\n",
    "gd1 = dm.usefulfunctions.grid2vec(x1, y1).contiguous().view(-1).requires_grad_()"
   ]
  },
  {
   "cell_type": "code",
   "execution_count": null,
   "metadata": {
    "autoscroll": false,
    "collapsed": false,
    "ein.hycell": false,
    "ein.tags": "worksheet-0",
    "slideshow": {
     "slide_type": "-"
    }
   },
   "outputs": [],
   "source": [
    "dm.usefulfunctions.plot_tensor_scatter(source, alpha=0.4)\n",
    "dm.usefulfunctions.plot_tensor_scatter(target, alpha=0.4)\n",
    "plt.plot(gd.detach().view(-1, 2)[:, 1].numpy(), gd.detach().view(-1, 2)[:, 0].numpy(), '.')\n",
    "plt.plot(gd1.detach().view(-1, 2)[:, 1].numpy(), gd1.detach().view(-1, 2)[:, 0].numpy(), '.')\n",
    "plt.show()"
   ]
  },
  {
   "cell_type": "code",
   "execution_count": null,
   "metadata": {
    "autoscroll": false,
    "collapsed": false,
    "ein.hycell": false,
    "ein.tags": "worksheet-0",
    "slideshow": {
     "slide_type": "-"
    }
   },
   "outputs": [],
   "source": [
    "trans = dm.implicitmodules.ImplicitModule0(dm.manifold.Landmarks(2, gd.view(-1, 2).shape[0], gd=gd,), sigma, 0.001)\n",
    "trans1 = dm.implicitmodules.ImplicitModule0(dm.manifold.Landmarks(2, gd1.view(-1, 2).shape[0], gd=gd1), sigma1, 0.001)\n",
    "my_model = dm.models.ModelCompoundWithPointsRegistration(source, [trans, trans1], [True, True], dm.attachement.EnergyAttachement())\n",
    "costs = my_model.fit(target, max_iter=30, l=100., lr=1e-1, log_interval=1)"
   ]
  },
  {
   "cell_type": "code",
   "execution_count": null,
   "metadata": {
    "autoscroll": false,
    "collapsed": false,
    "ein.hycell": false,
    "ein.tags": "worksheet-0",
    "slideshow": {
     "slide_type": "-"
    }
   },
   "outputs": [],
   "source": [
    "out = my_model()\n",
    "%matplotlib qt5\n",
    "plt.subplot(1, 2, 1)\n",
    "dm.usefulfunctions.plot_tensor_scatter(target, alpha=0.4)\n",
    "dm.usefulfunctions.plot_tensor_scatter(source, alpha=0.4)\n",
    "ax = plt.subplot(1, 2, 2)\n",
    "dm.usefulfunctions.plot_tensor_scatter(target, alpha=0.4)\n",
    "dm.usefulfunctions.plot_tensor_scatter(out[0], alpha=0.4)\n",
    "plt.plot(my_model.shot_manifold[1].gd.detach().view(-1, 2)[:, 1].numpy(), my_model.shot_manifold[1].gd.detach().view(-1, 2)[:, 0].numpy(), '.')\n",
    "plt.plot(my_model.shot_manifold[2].gd.detach().view(-1, 2)[:, 1].numpy(), my_model.shot_manifold[2].gd.detach().view(-1, 2)[:, 0].numpy(), '.')\n",
    "gridpos_x, gridpos_y = my_model.compute_deformation_grid(torch.tensor([aabb_total.xmin, aabb_total.ymin]), torch.tensor([aabb_total.width, aabb_total.height]), torch.tensor([16, 16]))\n",
    "dm.usefulfunctions.plot_grid(ax, gridpos_y.detach().numpy(), gridpos_x.detach().numpy(), color='C0')\n",
    "plt.show()\n"
   ]
  },
  {
   "cell_type": "code",
   "execution_count": null,
   "metadata": {
    "autoscroll": false,
    "collapsed": false,
    "ein.hycell": false,
    "ein.tags": "worksheet-0",
    "slideshow": {
     "slide_type": "-"
    }
   },
   "outputs": [],
   "source": [
    "plt.plot(range(0, len(costs)), costs)\n",
    "plt.show()"
   ]
  }
 ],
 "metadata": {
  "kernelspec": {
   "display_name": "Python 3",
   "name": "python3"
  },
  "language_info": {
   "codemirror_mode": {
    "name": "ipython",
    "version": 3
   },
   "file_extension": ".py",
   "mimetype": "text/x-python",
   "name": "python",
   "nbconvert_exporter": "python",
   "pygments_lexer": "ipython3",
   "version": "3.6.7"
  },
  "name": "simple_matching.ipynb"
 },
 "nbformat": 4,
 "nbformat_minor": 2
}
