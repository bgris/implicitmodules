{
 "cells": [
  {
   "cell_type": "code",
   "execution_count": null,
   "metadata": {
    "autoscroll": false,
    "collapsed": false,
    "ein.hycell": false,
    "ein.tags": "worksheet-0",
    "slideshow": {
     "slide_type": "-"
    }
   },
   "outputs": [],
   "source": [
    "%load_ext autoreload\n",
    "%autoreload 2\n",
    "\n",
    "import pickle\n",
    "import math\n",
    "\n",
    "# The deformation module library is not automatically installed yet, we need to add its path manually\n",
    "import sys\n",
    "sys.path.append(\"../../\")\n",
    "\n",
    "import numpy as np\n",
    "import matplotlib.pyplot as plt\n",
    "import torch\n",
    "\n",
    "import implicitmodules.torch as dm\n",
    "\n",
    "torch.set_default_tensor_type(torch.FloatTensor)\n",
    "dm.Utilities.set_compute_backend('torch')\n",
    "\n",
    "torch.manual_seed(5)"
   ]
  },
  {
   "cell_type": "code",
   "execution_count": null,
   "metadata": {
    "autoscroll": false,
    "collapsed": false,
    "ein.hycell": false,
    "ein.tags": "worksheet-0",
    "slideshow": {
     "slide_type": "-"
    }
   },
   "outputs": [],
   "source": [
    "dim = 2\n",
    "nb_pts = 4\n",
    "\n",
    "gd_pos = 0.2*torch.randn(nb_pts, dim)\n",
    "gd_dir = 0.2*torch.randn(nb_pts, dim)\n",
    "\n",
    "# gd_pos = torch.tensor([[0., 1.],\n",
    "#                        [1., 0]])\n",
    "# gd_dir = torch.tensor([[0., 1.],\n",
    "#                        [1., 0.]])\n",
    "\n",
    "# mom_pos = torch.tensor([[0., 1.],\n",
    "#                         [1., 0.]])\n",
    "# mom_dir = 10.*torch.tensor([[1., 1.],\n",
    "#                         [1., 1.]])\n",
    "\n",
    "# Ici, mettre les moments à 0 (à l'un ou à l'autre) règle ce problème d'instabilité.\n",
    "mom_pos = 0.2*torch.randn(nb_pts, dim)\n",
    "mom_dir = 0.2*torch.randn(nb_pts, dim)\n",
    "\n",
    "print(mom_pos)\n",
    "print(mom_dir)\n",
    "\n",
    "sigma = 0.1\n",
    "\n",
    "\n",
    "oriented = dm.DeformationModules.OrientedTranslations(dim, nb_pts, sigma, 'vector', gd=(gd_pos.clone().requires_grad_(), gd_dir.clone().requires_grad_()), cotan=(mom_pos.clone().requires_grad_(), mom_dir.clone().requires_grad_()))"
   ]
  },
  {
   "cell_type": "code",
   "execution_count": null,
   "metadata": {
    "autoscroll": false,
    "collapsed": false,
    "ein.hycell": false,
    "ein.tags": "worksheet-0",
    "slideshow": {
     "slide_type": "-"
    }
   },
   "outputs": [],
   "source": [
    "# Nombre d'itération élevé\n",
    "intermediate_states, intermediate_controls = dm.HamiltonianDynamic.shoot(dm.HamiltonianDynamic.Hamiltonian([oriented]), 100, 'euler', intermediates=True)"
   ]
  },
  {
   "cell_type": "code",
   "execution_count": null,
   "metadata": {
    "autoscroll": false,
    "collapsed": false,
    "ein.hycell": false,
    "ein.tags": "worksheet-0",
    "slideshow": {
     "slide_type": "-"
    }
   },
   "outputs": [],
   "source": [
    "trajectories = [torch.stack(trajectory) for trajectory in list(zip(*(state[0].gd[0] for state in intermediate_states)))]\n",
    "\n",
    "trajectories_dir = [torch.stack(trajectory_dir) for trajectory_dir in list(zip(*(state[0].gd[1] for state in intermediate_states)))]\n",
    "\n",
    "trajectories_controls = torch.stack(tuple(control[0] for control in intermediate_controls))\n",
    "oriented.compute_geodesic_control(oriented.manifold)\n",
    "trajectories_controls = torch.cat([trajectories_controls, oriented.controls.detach().unsqueeze(0)]).T\n",
    "\n",
    "trajectories_dir_controls = [control.repeat(2, 1).T*trajectory_dir for control, trajectory_dir in zip(trajectories_controls, trajectories_dir)]"
   ]
  },
  {
   "cell_type": "code",
   "execution_count": null,
   "metadata": {
    "autoscroll": false,
    "collapsed": false,
    "ein.hycell": false,
    "ein.tags": "worksheet-0",
    "slideshow": {
     "slide_type": "-"
    }
   },
   "outputs": [],
   "source": [
    "aabb = dm.Utilities.AABB.build_from_points(torch.cat([trajectory for trajectory in trajectories])).scale(2.)\n",
    "aabb = dm.Utilities.AABB(-2., 2., -2., 2.)\n",
    "print(\"{width}:{height}\".format(width=aabb.width, height=aabb.height))\n",
    "\n",
    "oriented = dm.DeformationModules.OrientedTranslations(dim, nb_pts, sigma, 'vector', gd=(gd_pos.clone().requires_grad_(), gd_dir.clone().requires_grad_()), cotan=(mom_pos.clone().requires_grad_(), mom_dir.clone().requires_grad_()))\n",
    "width = 32\n",
    "height = 32\n",
    "gd_grid = aabb.fill([width, height])\n",
    "nb_pts_silent = gd_grid.shape[0]\n",
    "grid = dm.DeformationModules.SilentLandmarks(dim, nb_pts_silent, gd=gd_grid.clone().requires_grad_(), cotan=torch.zeros_like(gd_grid, requires_grad=True))"
   ]
  },
  {
   "cell_type": "code",
   "execution_count": null,
   "metadata": {
    "autoscroll": false,
    "collapsed": false,
    "ein.hycell": false,
    "ein.tags": "worksheet-0",
    "slideshow": {
     "slide_type": "-"
    }
   },
   "outputs": [],
   "source": [
    "# Pour chaque itération, print le log du conditionnement de la matrice Z lors du calcule du controle géodesique\n",
    "dm.HamiltonianDynamic.shoot(dm.HamiltonianDynamic.Hamiltonian([oriented, grid]), 100, 'euler')"
   ]
  },
  {
   "cell_type": "code",
   "execution_count": null,
   "metadata": {
    "autoscroll": false,
    "collapsed": false,
    "ein.hycell": false,
    "ein.tags": "worksheet-0",
    "slideshow": {
     "slide_type": "-"
    }
   },
   "outputs": [],
   "source": [
    "# Controles\n",
    "for c in intermediate_controls:\n",
    "    print(c)"
   ]
  },
  {
   "cell_type": "code",
   "execution_count": null,
   "metadata": {
    "autoscroll": false,
    "collapsed": false,
    "ein.hycell": false,
    "ein.tags": "worksheet-0",
    "slideshow": {
     "slide_type": "-"
    }
   },
   "outputs": [],
   "source": [
    "%matplotlib qt5\n",
    "\n",
    "ax = plt.subplot()\n",
    "\n",
    "for trajectory, trajectory_dir in zip(trajectories, trajectories_dir_controls):\n",
    "    plt.plot(trajectory[:, 0], trajectory[:, 1], '-')\n",
    "    #plt.quiver(trajectory[:, 0], trajectory[:, 1], trajectory_dir[:, 0], trajectory_dir[:, 1], scale=200.)\n",
    "\n",
    "#defgrid_x, defgrid_y = dm.Utilities.vec2grid(grid.manifold.gd.detach(), width, height)\n",
    "#dm.Utilities.plot_grid(ax, defgrid_x, defgrid_y, color='blue')\n",
    "\n",
    "plt.plot(gd_pos[:, 0].numpy(), gd_pos[:, 1].numpy(), 'o')\n",
    "\n",
    "plt.axis('equal')\n",
    "plt.show()"
   ]
  },
  {
   "cell_type": "code",
   "execution_count": null,
   "metadata": {
    "autoscroll": false,
    "collapsed": false,
    "ein.hycell": false,
    "ein.tags": "worksheet-0",
    "slideshow": {
     "slide_type": "-"
    }
   },
   "outputs": [],
   "source": [
    "%matplotlib qt5\n",
    "aabb = dm.Utilities.AABB(-2., 2., -2., 2.)\n",
    "print(\"{width}:{height}\".format(width=aabb.width, height=aabb.height))\n",
    "\n",
    "width = 32\n",
    "height = 32\n",
    "gd_grid = aabb.fill([width, height])\n",
    "\n",
    "vector_field = oriented(gd_grid).detach()\n",
    "oriented.compute_geodesic_control(oriented.manifold)\n",
    "\n",
    "plt.plot(gd_pos[:, 0].numpy(), gd_pos[:, 1].numpy(), 'o')\n",
    "plt.quiver(gd_grid.detach().numpy()[:, 0], gd_grid.detach().numpy()[:, 1], vector_field.numpy()[:, 0], vector_field.numpy()[:, 1], scale=20.)\n",
    "plt.axis('equal')\n",
    "plt.show()"
   ]
  },
  {
   "cell_type": "code",
   "execution_count": null,
   "metadata": {
    "autoscroll": false,
    "collapsed": false,
    "ein.hycell": false,
    "ein.tags": "worksheet-0",
    "slideshow": {
     "slide_type": "-"
    }
   },
   "outputs": [],
   "source": [
    "#print(oriented(gd_pos))\n",
    "print(oriented.manifold.infinitesimal_action(oriented.field_generator()).tan)\n"
   ]
  },
  {
   "cell_type": "code",
   "execution_count": null,
   "metadata": {
    "autoscroll": false,
    "collapsed": false,
    "ein.hycell": false,
    "ein.tags": "worksheet-0",
    "slideshow": {
     "slide_type": "-"
    }
   },
   "outputs": [],
   "source": [
    "gd_pos_1 = gd_pos[0].unsqueeze(0)\n",
    "gd_pos_2 = gd_pos[1].unsqueeze(0)\n",
    "\n",
    "gd_dir_1 = gd_dir[0].unsqueeze(0)\n",
    "gd_dir_2 = gd_dir[1].unsqueeze(0)\n",
    "\n",
    "mom_pos_1 = mom_pos[0].unsqueeze(0)\n",
    "mom_pos_2 = mom_pos[1].unsqueeze(0)\n",
    "\n",
    "mom_dir_1 = mom_dir[0].unsqueeze(0)\n",
    "mom_dir_2 = mom_dir[1].unsqueeze(0)\n",
    "\n",
    "\n",
    "print(gd_pos_1)\n",
    "print(gd_pos_2)\n",
    "print(gd_dir_1)\n",
    "print(gd_dir_2)\n",
    "print(\"=====\")\n",
    "print(mom_pos_1)\n",
    "print(mom_pos_2)\n",
    "print(mom_dir_1)\n",
    "print(mom_dir_2)"
   ]
  },
  {
   "cell_type": "code",
   "execution_count": null,
   "metadata": {
    "autoscroll": false,
    "collapsed": false,
    "ein.hycell": false,
    "ein.tags": "worksheet-0",
    "slideshow": {
     "slide_type": "-"
    }
   },
   "outputs": [],
   "source": [
    "oriented1 = dm.DeformationModules.OrientedTranslations(2, 1, sigma, gd=(gd_pos_1, gd_dir_1), cotan=(mom_pos_1, mom_dir_1))\n",
    "oriented2 = dm.DeformationModules.OrientedTranslations(2, 1, sigma, gd=(gd_pos_2, gd_dir_2), cotan=(mom_pos_2, mom_dir_2))"
   ]
  },
  {
   "cell_type": "code",
   "execution_count": null,
   "metadata": {
    "autoscroll": false,
    "collapsed": false,
    "ein.hycell": false,
    "ein.tags": "worksheet-0",
    "slideshow": {
     "slide_type": "-"
    }
   },
   "outputs": [],
   "source": [
    "oriented1.compute_geodesic_control(oriented1.manifold)\n",
    "oriented2.compute_geodesic_control(oriented2.manifold)\n",
    "print(oriented1.controls)\n",
    "print(oriented2.controls)"
   ]
  },
  {
   "cell_type": "code",
   "execution_count": null,
   "metadata": {
    "autoscroll": false,
    "collapsed": false,
    "ein.hycell": false,
    "ein.tags": "worksheet-0",
    "slideshow": {
     "slide_type": "-"
    }
   },
   "outputs": [],
   "source": [
    "field1 = oriented1.field_generator()\n",
    "field2 = oriented2.field_generator()"
   ]
  },
  {
   "cell_type": "code",
   "execution_count": null,
   "metadata": {
    "autoscroll": false,
    "collapsed": false,
    "ein.hycell": false,
    "ein.tags": "worksheet-0",
    "slideshow": {
     "slide_type": "-"
    }
   },
   "outputs": [],
   "source": [
    "print(oriented1.manifold.infinitesimal_action(field2).tan)\n",
    "print(oriented2.manifold.infinitesimal_action(field1).tan)"
   ]
  },
  {
   "cell_type": "code",
   "execution_count": null,
   "metadata": {
    "autoscroll": false,
    "collapsed": false,
    "ein.hycell": false,
    "ein.tags": "worksheet-0",
    "slideshow": {
     "slide_type": "-"
    }
   },
   "outputs": [],
   "source": [
    "print(dm.Kernels.rel_differences(gd_pos_1, gd_pos_2))\n",
    "\n",
    "print(dm.Kernels.gauss_kernel(dm.Kernels.rel_differences(gd_pos_1, gd_pos_2), 1, sigma))"
   ]
  },
  {
   "cell_type": "code",
   "execution_count": null,
   "metadata": {
    "autoscroll": false,
    "collapsed": false,
    "ein.hycell": false,
    "ein.tags": "worksheet-0",
    "slideshow": {
     "slide_type": "-"
    }
   },
   "outputs": [],
   "source": [
    "eps = 1e-4\n",
    "gd2_eps = gd_pos_2+eps*gd_dir_2\n",
    "print((field1(gd2_eps) - field1(gd_pos_2))/eps)"
   ]
  }
 ],
 "metadata": {
  "kernelspec": {
   "argv": [
    "python",
    "-m",
    "ipykernel_launcher",
    "-f",
    "{connection_file}"
   ],
   "display_name": "Python 3",
   "env": null,
   "interrupt_mode": "signal",
   "language": "python",
   "metadata": null,
   "name": "python3"
  },
  "name": "test_orientedtranslations.ipynb"
 },
 "nbformat": 4,
 "nbformat_minor": 2
}
