{
 "cells": [
  {
   "cell_type": "code",
   "execution_count": 1,
   "metadata": {
    "autoscroll": false,
    "collapsed": false,
    "ein.hycell": false,
    "ein.tags": "worksheet-0",
    "slideshow": {
     "slide_type": "-"
    }
   },
   "outputs": [],
   "source": [
    "import sys\n",
    "import copy\n",
    "import math\n",
    "import pickle\n",
    "\n",
    "sys.path.append(\"../../\")\n",
    "\n",
    "import numpy as np\n",
    "import torch\n",
    "import matplotlib.pyplot as plt\n",
    "\n",
    "import implicitmodules.torch as dm\n",
    "\n",
    "torch.set_default_tensor_type(torch.DoubleTensor)"
   ]
  },
  {
   "cell_type": "code",
   "execution_count": 28,
   "metadata": {
    "autoscroll": false,
    "collapsed": false,
    "ein.hycell": false,
    "ein.tags": "worksheet-0",
    "slideshow": {
     "slide_type": "-"
    }
   },
   "outputs": [],
   "source": [
    "def sample(pts_silent, pts_implicit1, R, C, sigma):\n",
    "    # We first pick a random index in pts_silent and get the normal position\n",
    "    # We substract 1 to the possible index so we can easily get the tangent vector\n",
    "    # ind = np.asscalar(np.random.choice(pts_silent.shape[0] - 1, 1))\n",
    "    # tan = (pts_silent[ind + 1] - pts_silent[ind]).numpy()\n",
    "    # norm = np.array([tan[1], -tan[0]])\n",
    "    # norm /= np.linalg.norm(norm)\n",
    "    # norm *= -150.\n",
    "    # cotan = torch.zeros_like(pts_silent)\n",
    "    # cotan[ind] = torch.tensor(norm)\n",
    "\n",
    "    #cotan = 10.*torch.randn_like(pts_silent)\n",
    "    cotan = torch.zeros_like(pts_silent)\n",
    "    # cotan[:10, 0] = -10.\n",
    "    # cotan[120:130, 0] = -10.\n",
    "\n",
    "    val_left = -1.\n",
    "    val_right = 1.\n",
    "    cotan[30:39, 1] = val_left\n",
    "    cotan[212:221, 1] = -val_left\n",
    "    cotan[92:101, 1] = val_right\n",
    "    cotan[149:158, 1] = -val_right\n",
    "\n",
    "    #plt.plot(pts_silent[:, 0].numpy(), pts_silent[:, 1].numpy())\n",
    "    #plt.quiver(pts_silent[:, 0].numpy(), pts_silent[:, 1].numpy(), cotan[:, 0].numpy(), cotan[:, 1].numpy())\n",
    "\n",
    "    silent = dm.DeformationModules.SilentLandmarks.build_from_points(pts_silent)\n",
    "    silent.manifold.fill_cotan(cotan.view(-1).requires_grad_())\n",
    "    # implicit1 = dm.DeformationModules.ImplicitModule1.build_and_fill(2, pts_implicit1.shape[0], C[:, :, 0].unsqueeze(2), sigma, 0.001, gd=(pts_implicit1.view(-1).requires_grad_(), R.view(-1).requires_grad_()))\n",
    "    # implicit1_2 = dm.DeformationModules.ImplicitModule1.build_and_fill(2, pts_implicit1.shape[0], C[:, :, 1].unsqueeze(2), sigma, 0.001, gd=(pts_implicit1.view(-1).requires_grad_(), R.view(-1).requires_grad_()))\n",
    "    implicit1 = dm.DeformationModules.ImplicitModule1.build_and_fill(2, pts_implicit1.shape[0], C, sigma, 0.001, gd=(pts_implicit1.view(-1).requires_grad_(), R.view(-1).requires_grad_()))\n",
    "    with torch.autograd.no_grad():\n",
    "        _, controls = dm.HamiltonianDynamic.shoot(dm.HamiltonianDynamic.Hamiltonian([silent, implicit1]), 500, 'midpoint', intermediates=True)\n",
    "\n",
    "    for l in controls:\n",
    "        print(l)\n",
    "\n",
    "    return silent.manifold.gd.detach().view(-1, 2)"
   ]
  },
  {
   "cell_type": "code",
   "execution_count": 17,
   "metadata": {
    "autoscroll": false,
    "collapsed": false,
    "ein.hycell": false,
    "ein.tags": "worksheet-0",
    "slideshow": {
     "slide_type": "-"
    }
   },
   "outputs": [
    {
     "name": "stdout",
     "output_type": "stream",
     "text": [
      "torch.Size([241, 2])\n",
      "tensor(506.4226)\n",
      "476\n"
     ]
    }
   ],
   "source": [
    "peanut = torch.tensor(pickle.load(open(\"../../data/peanuts.pickle\", 'rb'))[0][0]).type(torch.get_default_dtype())\n",
    "print(peanut.shape)\n",
    "aabb_peanut = dm.Utilities.AABB.build_from_points(peanut)\n",
    "\n",
    "density = 100\n",
    "\n",
    "pts_implicit1 = dm.Utilities.fill_aabb(aabb_peanut, density)\n",
    "\n",
    "print(aabb_peanut.area*density)\n",
    "print(pts_implicit1.shape[0])"
   ]
  },
  {
   "cell_type": "code",
   "execution_count": 18,
   "metadata": {
    "autoscroll": false,
    "collapsed": false,
    "ein.hycell": false,
    "ein.tags": "worksheet-0",
    "slideshow": {
     "slide_type": "-"
    }
   },
   "outputs": [],
   "source": [
    "plt.plot(peanut.numpy()[:-1, 0], peanut.numpy()[:-1, 1])\n",
    "plt.plot(pts_implicit1.numpy()[:, 0], pts_implicit1.numpy()[:, 1], '.')\n",
    "plt.plot(peanut[30:39, 0].numpy(), peanut[30:39, 1].numpy(), 'r*')\n",
    "plt.plot(peanut[92:101, 0].numpy(), peanut[92:101, 1].numpy(), 'r*')\n",
    "plt.plot(peanut[149:158, 0].numpy(), peanut[149:158, 1].numpy(), 'r*')\n",
    "plt.plot(peanut[212:221, 0].numpy(), peanut[212:221, 1].numpy(), 'r*')\n",
    "plt.axis('equal')\n",
    "plt.show()"
   ]
  },
  {
   "cell_type": "code",
   "execution_count": 20,
   "metadata": {
    "autoscroll": false,
    "collapsed": false,
    "ein.hycell": false,
    "ein.tags": "worksheet-0",
    "slideshow": {
     "slide_type": "-"
    }
   },
   "outputs": [],
   "source": [
    "C = torch.zeros(pts_implicit1.shape[0], 2, 2)\n",
    "# C[pts_implicit1[:, 0] >= 0, 0, 0] = -10.\n",
    "# # C[pts_implicit1[:, 0] >= 0, 1, 0] = 5.\n",
    "# # C[pts_implicit1[:, 0] < 0, 0, 1] = 20.\n",
    "# # C[pts_implicit1[:, 0] < 0, 1, 1] = 8.\n",
    "# C[pts_implicit1[:, 0] > 0.25, 0, 1] = 1.\n",
    "# C[pts_implicit1[:, 0] > 0.25, 1, 1] = 1.\n",
    "# C[pts_implicit1[:, 0] < -0.25, 0, 0] = 1.\n",
    "# C[pts_implicit1[:, 0] < -0.25, 1, 0] = 1.\n",
    "C[pts_implicit1[:, 0] >= 0., 0, 1] = 1.\n",
    "C[pts_implicit1[:, 0] >= 0., 1, 1] = 1.\n",
    "C[pts_implicit1[:, 0] < 0., 0, 0] = 1.\n",
    "C[pts_implicit1[:, 0] < 0., 1, 0] = 1.\n",
    "\n",
    "%matplotlib qt5\n",
    "ax = plt.subplot()\n",
    "dm.Utilities.plot_C_ellipse(ax, pts_implicit1, C, c_index=0, scale=0.1, color='red')\n",
    "dm.Utilities.plot_C_ellipse(ax, pts_implicit1, C, c_index=1, scale=0.1, color='blue')\n",
    "dm.Utilities.plot_C_arrow(ax, pts_implicit1, C, c_index=0, scale=0.1, color='black', zorder=3, mutation_scale=10)\n",
    "dm.Utilities.plot_C_arrow(ax, pts_implicit1, C, c_index=1, scale=0.1, color='black', zorder=3, mutation_scale=10)\n",
    "plt.axis(aabb_peanut.get_list())\n",
    "plt.axis('equal')\n",
    "plt.show()"
   ]
  },
  {
   "cell_type": "code",
   "execution_count": 29,
   "metadata": {
    "autoscroll": false,
    "collapsed": false,
    "ein.hycell": false,
    "ein.tags": "worksheet-0",
    "slideshow": {
     "slide_type": "-"
    }
   },
   "outputs": [
    {
     "name": "stdout",
     "output_type": "stream",
     "text": [
      "tensor(0.1847)\n"
     ]
    },
    {
     "name": "stdout",
     "output_type": "stream",
     "text": [
      "tensor(0.1847)\n"
     ]
    },
    {
     "name": "stdout",
     "output_type": "stream",
     "text": [
      "tensor(0.1847)\n"
     ]
    },
    {
     "name": "stdout",
     "output_type": "stream",
     "text": [
      "tensor(0.1847)\n"
     ]
    },
    {
     "name": "stdout",
     "output_type": "stream",
     "text": [
      "tensor(0.1847)\n"
     ]
    },
    {
     "name": "stdout",
     "output_type": "stream",
     "text": [
      "tensor(0.1847)\n"
     ]
    },
    {
     "name": "stdout",
     "output_type": "stream",
     "text": [
      "tensor(0.1847)\n"
     ]
    },
    {
     "name": "stdout",
     "output_type": "stream",
     "text": [
      "tensor(0.1847)\n"
     ]
    },
    {
     "name": "stdout",
     "output_type": "stream",
     "text": [
      "tensor(0.1847)\n"
     ]
    },
    {
     "name": "stdout",
     "output_type": "stream",
     "text": [
      "tensor(0.1847)\n"
     ]
    },
    {
     "name": "stdout",
     "output_type": "stream",
     "text": [
      "tensor(0.1847)\n"
     ]
    },
    {
     "name": "stdout",
     "output_type": "stream",
     "text": [
      "tensor(0.1847)\n"
     ]
    },
    {
     "name": "stdout",
     "output_type": "stream",
     "text": [
      "tensor(0.1847)\n"
     ]
    },
    {
     "name": "stdout",
     "output_type": "stream",
     "text": [
      "tensor(0.1847)\n"
     ]
    },
    {
     "name": "stdout",
     "output_type": "stream",
     "text": [
      "tensor(0.1847)\n"
     ]
    },
    {
     "name": "stdout",
     "output_type": "stream",
     "text": [
      "tensor(0.1847)\n"
     ]
    },
    {
     "name": "stdout",
     "output_type": "stream",
     "text": [
      "tensor(0.1847)\n"
     ]
    },
    {
     "name": "stdout",
     "output_type": "stream",
     "text": [
      "tensor(0.1847)\n"
     ]
    },
    {
     "name": "stdout",
     "output_type": "stream",
     "text": [
      "tensor(0.1847)\n"
     ]
    },
    {
     "name": "stdout",
     "output_type": "stream",
     "text": [
      "tensor(0.1847)\n"
     ]
    },
    {
     "name": "stdout",
     "output_type": "stream",
     "text": [
      "tensor(0.1847)\n"
     ]
    },
    {
     "name": "stdout",
     "output_type": "stream",
     "text": [
      "tensor(0.1847)\n"
     ]
    },
    {
     "name": "stdout",
     "output_type": "stream",
     "text": [
      "tensor(0.1847)\n"
     ]
    },
    {
     "name": "stdout",
     "output_type": "stream",
     "text": [
      "tensor(0.1847)\n"
     ]
    },
    {
     "name": "stdout",
     "output_type": "stream",
     "text": [
      "tensor(0.1847)\n"
     ]
    },
    {
     "name": "stdout",
     "output_type": "stream",
     "text": [
      "tensor(0.1847)\n"
     ]
    },
    {
     "name": "stdout",
     "output_type": "stream",
     "text": [
      "tensor(0.1847)\n"
     ]
    },
    {
     "name": "stdout",
     "output_type": "stream",
     "text": [
      "tensor(0.1847)\n"
     ]
    },
    {
     "name": "stdout",
     "output_type": "stream",
     "text": [
      "tensor(0.1847)\n"
     ]
    },
    {
     "name": "stdout",
     "output_type": "stream",
     "text": [
      "tensor(0.1847)\n"
     ]
    },
    {
     "name": "stdout",
     "output_type": "stream",
     "text": [
      "tensor(0.1847)\n"
     ]
    },
    {
     "name": "stdout",
     "output_type": "stream",
     "text": [
      "tensor(0.1847)\n"
     ]
    },
    {
     "name": "stdout",
     "output_type": "stream",
     "text": [
      "tensor(0.1847)\n"
     ]
    },
    {
     "name": "stdout",
     "output_type": "stream",
     "text": [
      "tensor(0.1847)\n"
     ]
    },
    {
     "name": "stdout",
     "output_type": "stream",
     "text": [
      "tensor(0.1847)\n"
     ]
    },
    {
     "name": "stdout",
     "output_type": "stream",
     "text": [
      "tensor(0.1847)\n"
     ]
    },
    {
     "name": "stdout",
     "output_type": "stream",
     "text": [
      "tensor(0.1847)\n"
     ]
    },
    {
     "name": "stdout",
     "output_type": "stream",
     "text": [
      "tensor(0.1847)\n"
     ]
    },
    {
     "name": "stdout",
     "output_type": "stream",
     "text": [
      "tensor(0.1847)\n"
     ]
    },
    {
     "name": "stdout",
     "output_type": "stream",
     "text": [
      "tensor(0.1847)\n"
     ]
    },
    {
     "name": "stdout",
     "output_type": "stream",
     "text": [
      "tensor(0.1847)\n"
     ]
    },
    {
     "name": "stdout",
     "output_type": "stream",
     "text": [
      "tensor(0.1847)\n"
     ]
    },
    {
     "name": "stdout",
     "output_type": "stream",
     "text": [
      "tensor(0.1847)\n"
     ]
    },
    {
     "name": "stdout",
     "output_type": "stream",
     "text": [
      "tensor(0.1847)\n"
     ]
    },
    {
     "name": "stdout",
     "output_type": "stream",
     "text": [
      "tensor(0.1847)\n"
     ]
    },
    {
     "name": "stdout",
     "output_type": "stream",
     "text": [
      "tensor(0.1847)\n"
     ]
    },
    {
     "name": "stdout",
     "output_type": "stream",
     "text": [
      "tensor(0.1847)\n"
     ]
    },
    {
     "name": "stdout",
     "output_type": "stream",
     "text": [
      "tensor(0.1847)\n"
     ]
    },
    {
     "name": "stdout",
     "output_type": "stream",
     "text": [
      "tensor(0.1847)\n"
     ]
    },
    {
     "name": "stdout",
     "output_type": "stream",
     "text": [
      "tensor(0.1847)\n"
     ]
    },
    {
     "name": "stdout",
     "output_type": "stream",
     "text": [
      "tensor(0.1847)\n"
     ]
    },
    {
     "name": "stdout",
     "output_type": "stream",
     "text": [
      "tensor(0.1847)\n"
     ]
    },
    {
     "name": "stdout",
     "output_type": "stream",
     "text": [
      "tensor(0.1847)\n"
     ]
    },
    {
     "name": "stdout",
     "output_type": "stream",
     "text": [
      "tensor(0.1847)\n"
     ]
    },
    {
     "name": "stdout",
     "output_type": "stream",
     "text": [
      "tensor(0.1847)\n"
     ]
    },
    {
     "name": "stdout",
     "output_type": "stream",
     "text": [
      "tensor(0.1847)\n"
     ]
    },
    {
     "name": "stdout",
     "output_type": "stream",
     "text": [
      "tensor(0.1847)\n"
     ]
    },
    {
     "name": "stdout",
     "output_type": "stream",
     "text": [
      "tensor(0.1847)\n"
     ]
    },
    {
     "name": "stdout",
     "output_type": "stream",
     "text": [
      "tensor(0.1847)\n"
     ]
    },
    {
     "name": "stdout",
     "output_type": "stream",
     "text": [
      "tensor(0.1847)\n"
     ]
    },
    {
     "name": "stdout",
     "output_type": "stream",
     "text": [
      "tensor(0.1847)\n"
     ]
    },
    {
     "name": "stdout",
     "output_type": "stream",
     "text": [
      "tensor(0.1847)\n"
     ]
    },
    {
     "name": "stdout",
     "output_type": "stream",
     "text": [
      "tensor(0.1847)\n"
     ]
    },
    {
     "name": "stdout",
     "output_type": "stream",
     "text": [
      "tensor(0.1847)\n"
     ]
    },
    {
     "name": "stdout",
     "output_type": "stream",
     "text": [
      "tensor(0.1847)\n"
     ]
    },
    {
     "name": "stdout",
     "output_type": "stream",
     "text": [
      "tensor(0.1847)\n"
     ]
    },
    {
     "name": "stdout",
     "output_type": "stream",
     "text": [
      "tensor(0.1847)\n"
     ]
    },
    {
     "name": "stdout",
     "output_type": "stream",
     "text": [
      "tensor(0.1847)\n"
     ]
    },
    {
     "name": "stdout",
     "output_type": "stream",
     "text": [
      "tensor(0.1847)\n"
     ]
    },
    {
     "name": "stdout",
     "output_type": "stream",
     "text": [
      "tensor(0.1847)\n"
     ]
    },
    {
     "name": "stdout",
     "output_type": "stream",
     "text": [
      "tensor(0.1847)\n"
     ]
    },
    {
     "name": "stdout",
     "output_type": "stream",
     "text": [
      "tensor(0.1847)\n"
     ]
    },
    {
     "name": "stdout",
     "output_type": "stream",
     "text": [
      "tensor(0.1847)\n"
     ]
    },
    {
     "name": "stdout",
     "output_type": "stream",
     "text": [
      "tensor(0.1847)\n"
     ]
    },
    {
     "name": "stdout",
     "output_type": "stream",
     "text": [
      "tensor(0.1847)\n"
     ]
    },
    {
     "name": "stdout",
     "output_type": "stream",
     "text": [
      "tensor(0.1847)\n"
     ]
    },
    {
     "name": "stdout",
     "output_type": "stream",
     "text": [
      "tensor(0.1847)\n"
     ]
    },
    {
     "name": "stdout",
     "output_type": "stream",
     "text": [
      "tensor(0.1847)\n"
     ]
    },
    {
     "name": "stdout",
     "output_type": "stream",
     "text": [
      "tensor(0.1847)\n"
     ]
    },
    {
     "name": "stdout",
     "output_type": "stream",
     "text": [
      "tensor(0.1847)\n"
     ]
    },
    {
     "name": "stdout",
     "output_type": "stream",
     "text": [
      "tensor(0.1847)\n"
     ]
    },
    {
     "name": "stdout",
     "output_type": "stream",
     "text": [
      "tensor(0.1847)\n"
     ]
    },
    {
     "name": "stdout",
     "output_type": "stream",
     "text": [
      "tensor(0.1847)\n"
     ]
    },
    {
     "name": "stdout",
     "output_type": "stream",
     "text": [
      "tensor(0.1847)\n"
     ]
    },
    {
     "name": "stdout",
     "output_type": "stream",
     "text": [
      "tensor(0.1847)\n"
     ]
    },
    {
     "name": "stdout",
     "output_type": "stream",
     "text": [
      "tensor(0.1847)\n"
     ]
    },
    {
     "name": "stdout",
     "output_type": "stream",
     "text": [
      "tensor(0.1847)\n"
     ]
    },
    {
     "name": "stdout",
     "output_type": "stream",
     "text": [
      "tensor(0.1847)\n"
     ]
    },
    {
     "name": "stdout",
     "output_type": "stream",
     "text": [
      "tensor(0.1847)\n"
     ]
    },
    {
     "name": "stdout",
     "output_type": "stream",
     "text": [
      "tensor(0.1847)\n"
     ]
    },
    {
     "name": "stdout",
     "output_type": "stream",
     "text": [
      "tensor(0.1847)\n"
     ]
    },
    {
     "name": "stdout",
     "output_type": "stream",
     "text": [
      "tensor(0.1847)\n"
     ]
    },
    {
     "name": "stdout",
     "output_type": "stream",
     "text": [
      "tensor(0.1847)\n"
     ]
    },
    {
     "name": "stdout",
     "output_type": "stream",
     "text": [
      "tensor(0.1847)\n"
     ]
    },
    {
     "name": "stdout",
     "output_type": "stream",
     "text": [
      "tensor(0.1847)\n"
     ]
    },
    {
     "name": "stdout",
     "output_type": "stream",
     "text": [
      "tensor(0.1847)\n"
     ]
    },
    {
     "name": "stdout",
     "output_type": "stream",
     "text": [
      "tensor(0.1847)\n"
     ]
    },
    {
     "name": "stdout",
     "output_type": "stream",
     "text": [
      "tensor(0.1847)\n"
     ]
    },
    {
     "name": "stdout",
     "output_type": "stream",
     "text": [
      "tensor(0.1847)\n"
     ]
    },
    {
     "name": "stdout",
     "output_type": "stream",
     "text": [
      "tensor(0.1847)\n"
     ]
    },
    {
     "name": "stdout",
     "output_type": "stream",
     "text": [
      "tensor(0.1847)\n"
     ]
    },
    {
     "name": "stdout",
     "output_type": "stream",
     "text": [
      "tensor(0.1847)\n"
     ]
    },
    {
     "name": "stdout",
     "output_type": "stream",
     "text": [
      "tensor(0.1847)\n"
     ]
    },
    {
     "name": "stdout",
     "output_type": "stream",
     "text": [
      "tensor(0.1847)\n"
     ]
    },
    {
     "name": "stdout",
     "output_type": "stream",
     "text": [
      "tensor(0.1847)\n"
     ]
    },
    {
     "name": "stdout",
     "output_type": "stream",
     "text": [
      "tensor(0.1847)\n"
     ]
    },
    {
     "name": "stdout",
     "output_type": "stream",
     "text": [
      "tensor(0.1847)\n"
     ]
    },
    {
     "name": "stdout",
     "output_type": "stream",
     "text": [
      "tensor(0.1847)\n"
     ]
    },
    {
     "name": "stdout",
     "output_type": "stream",
     "text": [
      "tensor(0.1847)\n"
     ]
    },
    {
     "name": "stdout",
     "output_type": "stream",
     "text": [
      "tensor(0.1847)\n"
     ]
    },
    {
     "name": "stdout",
     "output_type": "stream",
     "text": [
      "tensor(0.1847)\n"
     ]
    },
    {
     "name": "stdout",
     "output_type": "stream",
     "text": [
      "tensor(0.1847)\n"
     ]
    },
    {
     "name": "stdout",
     "output_type": "stream",
     "text": [
      "tensor(0.1847)\n"
     ]
    },
    {
     "name": "stdout",
     "output_type": "stream",
     "text": [
      "tensor(0.1847)\n"
     ]
    },
    {
     "name": "stdout",
     "output_type": "stream",
     "text": [
      "tensor(0.1847)\n"
     ]
    },
    {
     "name": "stdout",
     "output_type": "stream",
     "text": [
      "tensor(0.1847)\n"
     ]
    },
    {
     "name": "stdout",
     "output_type": "stream",
     "text": [
      "tensor(0.1847)\n"
     ]
    },
    {
     "name": "stdout",
     "output_type": "stream",
     "text": [
      "tensor(0.1847)\n"
     ]
    },
    {
     "name": "stdout",
     "output_type": "stream",
     "text": [
      "tensor(0.1847)\n"
     ]
    },
    {
     "name": "stdout",
     "output_type": "stream",
     "text": [
      "tensor(0.1847)\n"
     ]
    },
    {
     "name": "stdout",
     "output_type": "stream",
     "text": [
      "tensor(0.1847)\n"
     ]
    },
    {
     "name": "stdout",
     "output_type": "stream",
     "text": [
      "tensor(0.1847)\n"
     ]
    },
    {
     "name": "stdout",
     "output_type": "stream",
     "text": [
      "tensor(0.1847)\n"
     ]
    },
    {
     "name": "stdout",
     "output_type": "stream",
     "text": [
      "tensor(0.1847)\n"
     ]
    },
    {
     "name": "stdout",
     "output_type": "stream",
     "text": [
      "tensor(0.1847)\n"
     ]
    },
    {
     "name": "stdout",
     "output_type": "stream",
     "text": [
      "tensor(0.1847)\n"
     ]
    },
    {
     "name": "stdout",
     "output_type": "stream",
     "text": [
      "tensor(0.1847)\n"
     ]
    },
    {
     "name": "stdout",
     "output_type": "stream",
     "text": [
      "tensor(0.1847)\n"
     ]
    },
    {
     "name": "stdout",
     "output_type": "stream",
     "text": [
      "tensor(0.1847)\n"
     ]
    },
    {
     "name": "stdout",
     "output_type": "stream",
     "text": [
      "tensor(0.1847)\n"
     ]
    },
    {
     "name": "stdout",
     "output_type": "stream",
     "text": [
      "tensor(0.1847)\n"
     ]
    },
    {
     "name": "stdout",
     "output_type": "stream",
     "text": [
      "tensor(0.1847)\n"
     ]
    },
    {
     "name": "stdout",
     "output_type": "stream",
     "text": [
      "tensor(0.1847)\n"
     ]
    },
    {
     "name": "stdout",
     "output_type": "stream",
     "text": [
      "tensor(0.1847)\n"
     ]
    },
    {
     "name": "stdout",
     "output_type": "stream",
     "text": [
      "tensor(0.1847)\n"
     ]
    },
    {
     "name": "stdout",
     "output_type": "stream",
     "text": [
      "tensor(0.1847)\n"
     ]
    },
    {
     "name": "stdout",
     "output_type": "stream",
     "text": [
      "tensor(0.1847)\n"
     ]
    },
    {
     "name": "stdout",
     "output_type": "stream",
     "text": [
      "tensor(0.1847)\n"
     ]
    },
    {
     "name": "stdout",
     "output_type": "stream",
     "text": [
      "tensor(0.1847)\n"
     ]
    },
    {
     "name": "stdout",
     "output_type": "stream",
     "text": [
      "tensor(0.1847)\n"
     ]
    },
    {
     "name": "stdout",
     "output_type": "stream",
     "text": [
      "tensor(0.1847)\n"
     ]
    },
    {
     "name": "stdout",
     "output_type": "stream",
     "text": [
      "tensor(0.1847)\n"
     ]
    },
    {
     "name": "stdout",
     "output_type": "stream",
     "text": [
      "tensor(0.1847)\n"
     ]
    },
    {
     "name": "stdout",
     "output_type": "stream",
     "text": [
      "tensor(0.1847)\n"
     ]
    },
    {
     "name": "stdout",
     "output_type": "stream",
     "text": [
      "tensor(0.1847)\n"
     ]
    },
    {
     "name": "stdout",
     "output_type": "stream",
     "text": [
      "tensor(0.1847)\n"
     ]
    },
    {
     "name": "stdout",
     "output_type": "stream",
     "text": [
      "tensor(0.1847)\n"
     ]
    },
    {
     "name": "stdout",
     "output_type": "stream",
     "text": [
      "tensor(0.1847)\n"
     ]
    },
    {
     "name": "stdout",
     "output_type": "stream",
     "text": [
      "tensor(0.1847)\n"
     ]
    },
    {
     "name": "stdout",
     "output_type": "stream",
     "text": [
      "tensor(0.1847)\n"
     ]
    },
    {
     "name": "stdout",
     "output_type": "stream",
     "text": [
      "tensor(0.1847)\n"
     ]
    },
    {
     "name": "stdout",
     "output_type": "stream",
     "text": [
      "tensor(0.1847)\n"
     ]
    },
    {
     "name": "stdout",
     "output_type": "stream",
     "text": [
      "tensor(0.1847)\n"
     ]
    },
    {
     "name": "stdout",
     "output_type": "stream",
     "text": [
      "tensor(0.1847)\n"
     ]
    },
    {
     "name": "stdout",
     "output_type": "stream",
     "text": [
      "tensor(0.1847)\n"
     ]
    },
    {
     "name": "stdout",
     "output_type": "stream",
     "text": [
      "tensor(0.1847)\n"
     ]
    },
    {
     "name": "stdout",
     "output_type": "stream",
     "text": [
      "tensor(0.1847)\n"
     ]
    },
    {
     "name": "stdout",
     "output_type": "stream",
     "text": [
      "tensor(0.1847)\n"
     ]
    },
    {
     "name": "stdout",
     "output_type": "stream",
     "text": [
      "tensor(0.1847)\n"
     ]
    },
    {
     "name": "stdout",
     "output_type": "stream",
     "text": [
      "tensor(0.1847)\n"
     ]
    },
    {
     "name": "stdout",
     "output_type": "stream",
     "text": [
      "tensor(0.1847)\n"
     ]
    },
    {
     "name": "stdout",
     "output_type": "stream",
     "text": [
      "tensor(0.1847)\n"
     ]
    },
    {
     "name": "stdout",
     "output_type": "stream",
     "text": [
      "tensor(0.1847)\n"
     ]
    },
    {
     "name": "stdout",
     "output_type": "stream",
     "text": [
      "tensor(0.1847)\n"
     ]
    },
    {
     "name": "stdout",
     "output_type": "stream",
     "text": [
      "tensor(0.1847)\n"
     ]
    },
    {
     "name": "stdout",
     "output_type": "stream",
     "text": [
      "tensor(0.1847)\n"
     ]
    },
    {
     "name": "stdout",
     "output_type": "stream",
     "text": [
      "tensor(0.1847)\n"
     ]
    },
    {
     "name": "stdout",
     "output_type": "stream",
     "text": [
      "tensor(0.1847)\n"
     ]
    },
    {
     "name": "stdout",
     "output_type": "stream",
     "text": [
      "tensor(0.1847)\n"
     ]
    },
    {
     "name": "stdout",
     "output_type": "stream",
     "text": [
      "tensor(0.1847)\n"
     ]
    },
    {
     "name": "stdout",
     "output_type": "stream",
     "text": [
      "tensor(0.1847)\n"
     ]
    },
    {
     "name": "stdout",
     "output_type": "stream",
     "text": [
      "tensor(0.1847)\n"
     ]
    },
    {
     "name": "stdout",
     "output_type": "stream",
     "text": [
      "tensor(0.1847)\n"
     ]
    },
    {
     "name": "stdout",
     "output_type": "stream",
     "text": [
      "tensor(0.1847)\n"
     ]
    },
    {
     "name": "stdout",
     "output_type": "stream",
     "text": [
      "tensor(0.1847)\n"
     ]
    },
    {
     "name": "stdout",
     "output_type": "stream",
     "text": [
      "tensor(0.1847)\n"
     ]
    },
    {
     "name": "stdout",
     "output_type": "stream",
     "text": [
      "tensor(0.1847)\n"
     ]
    },
    {
     "name": "stdout",
     "output_type": "stream",
     "text": [
      "tensor(0.1847)\n"
     ]
    },
    {
     "name": "stdout",
     "output_type": "stream",
     "text": [
      "tensor(0.1847)\n"
     ]
    },
    {
     "name": "stdout",
     "output_type": "stream",
     "text": [
      "tensor(0.1847)\n"
     ]
    },
    {
     "name": "stdout",
     "output_type": "stream",
     "text": [
      "tensor(0.1847)\n"
     ]
    },
    {
     "name": "stdout",
     "output_type": "stream",
     "text": [
      "tensor(0.1847)\n"
     ]
    },
    {
     "name": "stdout",
     "output_type": "stream",
     "text": [
      "tensor(0.1847)\n"
     ]
    },
    {
     "name": "stdout",
     "output_type": "stream",
     "text": [
      "tensor(0.1847)\n"
     ]
    },
    {
     "name": "stdout",
     "output_type": "stream",
     "text": [
      "tensor(0.1847)\n"
     ]
    },
    {
     "name": "stdout",
     "output_type": "stream",
     "text": [
      "tensor(0.1847)\n"
     ]
    },
    {
     "name": "stdout",
     "output_type": "stream",
     "text": [
      "tensor(0.1847)\n"
     ]
    },
    {
     "name": "stdout",
     "output_type": "stream",
     "text": [
      "tensor(0.1847)\n"
     ]
    },
    {
     "name": "stdout",
     "output_type": "stream",
     "text": [
      "tensor(0.1847)\n"
     ]
    },
    {
     "name": "stdout",
     "output_type": "stream",
     "text": [
      "tensor(0.1847)\n"
     ]
    },
    {
     "name": "stdout",
     "output_type": "stream",
     "text": [
      "tensor(0.1847)\n"
     ]
    },
    {
     "name": "stdout",
     "output_type": "stream",
     "text": [
      "tensor(0.1847)\n"
     ]
    },
    {
     "name": "stdout",
     "output_type": "stream",
     "text": [
      "tensor(0.1847)\n"
     ]
    },
    {
     "name": "stdout",
     "output_type": "stream",
     "text": [
      "tensor(0.1847)\n"
     ]
    },
    {
     "name": "stdout",
     "output_type": "stream",
     "text": [
      "tensor(0.1847)\n"
     ]
    },
    {
     "name": "stdout",
     "output_type": "stream",
     "text": [
      "tensor(0.1847)\n"
     ]
    },
    {
     "name": "stdout",
     "output_type": "stream",
     "text": [
      "tensor(0.1847)\n"
     ]
    },
    {
     "name": "stdout",
     "output_type": "stream",
     "text": [
      "tensor(0.1847)\n"
     ]
    },
    {
     "name": "stdout",
     "output_type": "stream",
     "text": [
      "tensor(0.1847)\n"
     ]
    },
    {
     "name": "stdout",
     "output_type": "stream",
     "text": [
      "tensor(0.1847)\n"
     ]
    },
    {
     "name": "stdout",
     "output_type": "stream",
     "text": [
      "tensor(0.1847)\n"
     ]
    },
    {
     "name": "stdout",
     "output_type": "stream",
     "text": [
      "tensor(0.1847)\n"
     ]
    },
    {
     "name": "stdout",
     "output_type": "stream",
     "text": [
      "tensor(0.1847)\n"
     ]
    },
    {
     "name": "stdout",
     "output_type": "stream",
     "text": [
      "tensor(0.1847)\n"
     ]
    },
    {
     "name": "stdout",
     "output_type": "stream",
     "text": [
      "tensor(0.1847)\n"
     ]
    },
    {
     "name": "stdout",
     "output_type": "stream",
     "text": [
      "tensor(0.1847)\n"
     ]
    },
    {
     "name": "stdout",
     "output_type": "stream",
     "text": [
      "tensor(0.1847)\n"
     ]
    },
    {
     "name": "stdout",
     "output_type": "stream",
     "text": [
      "tensor(0.1847)\n"
     ]
    },
    {
     "name": "stdout",
     "output_type": "stream",
     "text": [
      "tensor(0.1847)\n"
     ]
    },
    {
     "name": "stdout",
     "output_type": "stream",
     "text": [
      "tensor(0.1847)\n"
     ]
    },
    {
     "name": "stdout",
     "output_type": "stream",
     "text": [
      "tensor(0.1847)\n"
     ]
    },
    {
     "name": "stdout",
     "output_type": "stream",
     "text": [
      "tensor(0.1847)\n"
     ]
    },
    {
     "name": "stdout",
     "output_type": "stream",
     "text": [
      "tensor(0.1847)\n"
     ]
    },
    {
     "name": "stdout",
     "output_type": "stream",
     "text": [
      "tensor(0.1847)\n"
     ]
    },
    {
     "name": "stdout",
     "output_type": "stream",
     "text": [
      "tensor(0.1847)\n"
     ]
    },
    {
     "name": "stdout",
     "output_type": "stream",
     "text": [
      "tensor(0.1847)\n"
     ]
    },
    {
     "name": "stdout",
     "output_type": "stream",
     "text": [
      "tensor(0.1847)\n"
     ]
    },
    {
     "name": "stdout",
     "output_type": "stream",
     "text": [
      "tensor(0.1847)\n"
     ]
    },
    {
     "name": "stdout",
     "output_type": "stream",
     "text": [
      "tensor(0.1847)\n"
     ]
    },
    {
     "name": "stdout",
     "output_type": "stream",
     "text": [
      "tensor(0.1847)\n"
     ]
    },
    {
     "name": "stdout",
     "output_type": "stream",
     "text": [
      "tensor(0.1847)\n"
     ]
    },
    {
     "name": "stdout",
     "output_type": "stream",
     "text": [
      "tensor(0.1847)\n"
     ]
    },
    {
     "name": "stdout",
     "output_type": "stream",
     "text": [
      "tensor(0.1847)\n"
     ]
    },
    {
     "name": "stdout",
     "output_type": "stream",
     "text": [
      "tensor(0.1847)\n"
     ]
    },
    {
     "name": "stdout",
     "output_type": "stream",
     "text": [
      "tensor(0.1847)\n"
     ]
    },
    {
     "name": "stdout",
     "output_type": "stream",
     "text": [
      "tensor(0.1847)\n"
     ]
    },
    {
     "name": "stdout",
     "output_type": "stream",
     "text": [
      "tensor(0.1847)\n"
     ]
    },
    {
     "name": "stdout",
     "output_type": "stream",
     "text": [
      "tensor(0.1847)\n"
     ]
    },
    {
     "name": "stdout",
     "output_type": "stream",
     "text": [
      "tensor(0.1847)\n"
     ]
    },
    {
     "name": "stdout",
     "output_type": "stream",
     "text": [
      "tensor(0.1847)\n"
     ]
    },
    {
     "name": "stdout",
     "output_type": "stream",
     "text": [
      "tensor(0.1847)\n"
     ]
    },
    {
     "name": "stdout",
     "output_type": "stream",
     "text": [
      "tensor(0.1847)\n"
     ]
    },
    {
     "name": "stdout",
     "output_type": "stream",
     "text": [
      "tensor(0.1847)\n"
     ]
    },
    {
     "name": "stdout",
     "output_type": "stream",
     "text": [
      "tensor(0.1847)\n"
     ]
    },
    {
     "name": "stdout",
     "output_type": "stream",
     "text": [
      "tensor(0.1847)\n"
     ]
    },
    {
     "name": "stdout",
     "output_type": "stream",
     "text": [
      "tensor(0.1847)\n"
     ]
    },
    {
     "name": "stdout",
     "output_type": "stream",
     "text": [
      "tensor(0.1847)\n"
     ]
    },
    {
     "name": "stdout",
     "output_type": "stream",
     "text": [
      "tensor(0.1847)\n"
     ]
    },
    {
     "name": "stdout",
     "output_type": "stream",
     "text": [
      "tensor(0.1847)\n"
     ]
    },
    {
     "name": "stdout",
     "output_type": "stream",
     "text": [
      "tensor(0.1847)\n"
     ]
    },
    {
     "name": "stdout",
     "output_type": "stream",
     "text": [
      "tensor(0.1847)\n"
     ]
    },
    {
     "name": "stdout",
     "output_type": "stream",
     "text": [
      "tensor(0.1847)\n"
     ]
    },
    {
     "name": "stdout",
     "output_type": "stream",
     "text": [
      "tensor(0.1847)\n"
     ]
    },
    {
     "name": "stdout",
     "output_type": "stream",
     "text": [
      "tensor(0.1847)\n"
     ]
    },
    {
     "name": "stdout",
     "output_type": "stream",
     "text": [
      "tensor(0.1847)\n"
     ]
    },
    {
     "name": "stdout",
     "output_type": "stream",
     "text": [
      "tensor(0.1847)\n"
     ]
    },
    {
     "name": "stdout",
     "output_type": "stream",
     "text": [
      "tensor(0.1847)\n"
     ]
    },
    {
     "name": "stdout",
     "output_type": "stream",
     "text": [
      "tensor(0.1847)\n"
     ]
    },
    {
     "name": "stdout",
     "output_type": "stream",
     "text": [
      "tensor(0.1847)\n"
     ]
    },
    {
     "name": "stdout",
     "output_type": "stream",
     "text": [
      "tensor(0.1847)\n"
     ]
    },
    {
     "name": "stdout",
     "output_type": "stream",
     "text": [
      "tensor(0.1847)\n"
     ]
    },
    {
     "name": "stdout",
     "output_type": "stream",
     "text": [
      "tensor(0.1847)\n"
     ]
    },
    {
     "name": "stdout",
     "output_type": "stream",
     "text": [
      "tensor(0.1847)\n"
     ]
    },
    {
     "name": "stdout",
     "output_type": "stream",
     "text": [
      "tensor(0.1847)\n"
     ]
    },
    {
     "name": "stdout",
     "output_type": "stream",
     "text": [
      "tensor(0.1847)\n"
     ]
    },
    {
     "name": "stdout",
     "output_type": "stream",
     "text": [
      "tensor(0.1847)\n"
     ]
    },
    {
     "name": "stdout",
     "output_type": "stream",
     "text": [
      "tensor(0.1847)\n"
     ]
    },
    {
     "name": "stdout",
     "output_type": "stream",
     "text": [
      "tensor(0.1847)\n"
     ]
    },
    {
     "name": "stdout",
     "output_type": "stream",
     "text": [
      "tensor(0.1847)\n"
     ]
    },
    {
     "name": "stdout",
     "output_type": "stream",
     "text": [
      "tensor(0.1847)\n"
     ]
    },
    {
     "name": "stdout",
     "output_type": "stream",
     "text": [
      "tensor(0.1847)\n"
     ]
    },
    {
     "name": "stdout",
     "output_type": "stream",
     "text": [
      "tensor(0.1847)\n"
     ]
    },
    {
     "name": "stdout",
     "output_type": "stream",
     "text": [
      "tensor(0.1847)\n"
     ]
    },
    {
     "name": "stdout",
     "output_type": "stream",
     "text": [
      "tensor(0.1847)\n"
     ]
    },
    {
     "name": "stdout",
     "output_type": "stream",
     "text": [
      "tensor(0.1847)\n"
     ]
    },
    {
     "name": "stdout",
     "output_type": "stream",
     "text": [
      "tensor(0.1848)\n"
     ]
    },
    {
     "name": "stdout",
     "output_type": "stream",
     "text": [
      "tensor(0.1847)\n"
     ]
    },
    {
     "name": "stdout",
     "output_type": "stream",
     "text": [
      "tensor(0.1848)\n"
     ]
    },
    {
     "name": "stdout",
     "output_type": "stream",
     "text": [
      "tensor(0.1847)\n"
     ]
    },
    {
     "name": "stdout",
     "output_type": "stream",
     "text": [
      "tensor(0.1848)\n"
     ]
    },
    {
     "name": "stdout",
     "output_type": "stream",
     "text": [
      "tensor(0.1847)\n"
     ]
    },
    {
     "name": "stdout",
     "output_type": "stream",
     "text": [
      "tensor(0.1848)\n"
     ]
    },
    {
     "name": "stdout",
     "output_type": "stream",
     "text": [
      "tensor(0.1847)\n"
     ]
    },
    {
     "name": "stdout",
     "output_type": "stream",
     "text": [
      "tensor(0.1848)\n"
     ]
    },
    {
     "name": "stdout",
     "output_type": "stream",
     "text": [
      "tensor(0.1847)\n"
     ]
    },
    {
     "name": "stdout",
     "output_type": "stream",
     "text": [
      "tensor(0.1848)\n"
     ]
    },
    {
     "name": "stdout",
     "output_type": "stream",
     "text": [
      "tensor(0.1847)\n"
     ]
    },
    {
     "name": "stdout",
     "output_type": "stream",
     "text": [
      "tensor(0.1848)\n"
     ]
    },
    {
     "name": "stdout",
     "output_type": "stream",
     "text": [
      "tensor(0.1847)\n"
     ]
    },
    {
     "name": "stdout",
     "output_type": "stream",
     "text": [
      "tensor(0.1848)\n"
     ]
    },
    {
     "name": "stdout",
     "output_type": "stream",
     "text": [
      "tensor(0.1847)\n"
     ]
    },
    {
     "name": "stdout",
     "output_type": "stream",
     "text": [
      "tensor(0.1848)\n"
     ]
    },
    {
     "name": "stdout",
     "output_type": "stream",
     "text": [
      "tensor(0.1847)\n"
     ]
    },
    {
     "name": "stdout",
     "output_type": "stream",
     "text": [
      "tensor(0.1849)\n"
     ]
    },
    {
     "name": "stdout",
     "output_type": "stream",
     "text": [
      "tensor(0.1847)\n"
     ]
    },
    {
     "name": "stdout",
     "output_type": "stream",
     "text": [
      "tensor(0.1849)\n"
     ]
    },
    {
     "name": "stdout",
     "output_type": "stream",
     "text": [
      "tensor(0.1847)\n"
     ]
    },
    {
     "name": "stdout",
     "output_type": "stream",
     "text": [
      "tensor(0.1849)\n"
     ]
    },
    {
     "name": "stdout",
     "output_type": "stream",
     "text": [
      "tensor(0.1847)\n"
     ]
    },
    {
     "name": "stdout",
     "output_type": "stream",
     "text": [
      "tensor(0.1849)\n"
     ]
    },
    {
     "name": "stdout",
     "output_type": "stream",
     "text": [
      "tensor(0.1847)\n"
     ]
    },
    {
     "name": "stdout",
     "output_type": "stream",
     "text": [
      "tensor(0.1849)\n"
     ]
    },
    {
     "name": "stdout",
     "output_type": "stream",
     "text": [
      "tensor(0.1847)\n"
     ]
    },
    {
     "name": "stdout",
     "output_type": "stream",
     "text": [
      "tensor(0.1849)\n"
     ]
    },
    {
     "name": "stdout",
     "output_type": "stream",
     "text": [
      "tensor(0.1848)\n"
     ]
    },
    {
     "name": "stdout",
     "output_type": "stream",
     "text": [
      "tensor(0.1849)\n"
     ]
    },
    {
     "name": "stdout",
     "output_type": "stream",
     "text": [
      "tensor(0.1848)\n"
     ]
    },
    {
     "name": "stdout",
     "output_type": "stream",
     "text": [
      "tensor(0.1849)\n"
     ]
    },
    {
     "name": "stdout",
     "output_type": "stream",
     "text": [
      "tensor(0.1848)\n"
     ]
    },
    {
     "name": "stdout",
     "output_type": "stream",
     "text": [
      "tensor(0.1849)\n"
     ]
    },
    {
     "name": "stdout",
     "output_type": "stream",
     "text": [
      "tensor(0.1848)\n"
     ]
    },
    {
     "name": "stdout",
     "output_type": "stream",
     "text": [
      "tensor(0.1849)\n"
     ]
    },
    {
     "name": "stdout",
     "output_type": "stream",
     "text": [
      "tensor(0.1848)\n"
     ]
    },
    {
     "name": "stdout",
     "output_type": "stream",
     "text": [
      "tensor(0.1849)\n"
     ]
    },
    {
     "name": "stdout",
     "output_type": "stream",
     "text": [
      "tensor(0.1848)\n"
     ]
    },
    {
     "name": "stdout",
     "output_type": "stream",
     "text": [
      "tensor(0.1849)\n"
     ]
    },
    {
     "name": "stdout",
     "output_type": "stream",
     "text": [
      "tensor(0.1847)\n"
     ]
    },
    {
     "name": "stdout",
     "output_type": "stream",
     "text": [
      "tensor(0.1849)\n"
     ]
    },
    {
     "name": "stdout",
     "output_type": "stream",
     "text": [
      "tensor(0.1847)\n"
     ]
    },
    {
     "name": "stdout",
     "output_type": "stream",
     "text": [
      "tensor(0.1849)\n"
     ]
    },
    {
     "name": "stdout",
     "output_type": "stream",
     "text": [
      "tensor(0.1847)\n"
     ]
    },
    {
     "name": "stdout",
     "output_type": "stream",
     "text": [
      "tensor(0.1849)\n"
     ]
    },
    {
     "name": "stdout",
     "output_type": "stream",
     "text": [
      "tensor(0.1847)\n"
     ]
    },
    {
     "name": "stdout",
     "output_type": "stream",
     "text": [
      "tensor(0.1848)\n"
     ]
    },
    {
     "name": "stdout",
     "output_type": "stream",
     "text": [
      "tensor(0.1847)\n"
     ]
    },
    {
     "name": "stdout",
     "output_type": "stream",
     "text": [
      "tensor(0.1848)\n"
     ]
    },
    {
     "name": "stdout",
     "output_type": "stream",
     "text": [
      "tensor(0.1847)\n"
     ]
    },
    {
     "name": "stdout",
     "output_type": "stream",
     "text": [
      "tensor(0.1847)\n"
     ]
    },
    {
     "name": "stdout",
     "output_type": "stream",
     "text": [
      "tensor(0.1847)\n"
     ]
    },
    {
     "name": "stdout",
     "output_type": "stream",
     "text": [
      "tensor(0.1847)\n"
     ]
    },
    {
     "name": "stdout",
     "output_type": "stream",
     "text": [
      "tensor(0.1847)\n"
     ]
    },
    {
     "name": "stdout",
     "output_type": "stream",
     "text": [
      "tensor(0.1846)\n"
     ]
    },
    {
     "name": "stdout",
     "output_type": "stream",
     "text": [
      "tensor(0.1847)\n"
     ]
    },
    {
     "name": "stdout",
     "output_type": "stream",
     "text": [
      "tensor(0.1846)\n"
     ]
    },
    {
     "name": "stdout",
     "output_type": "stream",
     "text": [
      "tensor(0.1846)\n"
     ]
    },
    {
     "name": "stdout",
     "output_type": "stream",
     "text": [
      "tensor(0.1845)\n"
     ]
    },
    {
     "name": "stdout",
     "output_type": "stream",
     "text": [
      "tensor(0.1846)\n"
     ]
    },
    {
     "name": "stdout",
     "output_type": "stream",
     "text": [
      "tensor(0.1845)\n"
     ]
    },
    {
     "name": "stdout",
     "output_type": "stream",
     "text": [
      "tensor(0.1846)\n"
     ]
    },
    {
     "name": "stdout",
     "output_type": "stream",
     "text": [
      "tensor(0.1844)\n"
     ]
    },
    {
     "name": "stdout",
     "output_type": "stream",
     "text": [
      "tensor(0.1846)\n"
     ]
    },
    {
     "name": "stdout",
     "output_type": "stream",
     "text": [
      "tensor(0.1844)\n"
     ]
    },
    {
     "name": "stdout",
     "output_type": "stream",
     "text": [
      "tensor(0.1846)\n"
     ]
    },
    {
     "name": "stdout",
     "output_type": "stream",
     "text": [
      "tensor(0.1843)\n"
     ]
    },
    {
     "name": "stdout",
     "output_type": "stream",
     "text": [
      "tensor(0.1846)\n"
     ]
    },
    {
     "name": "stdout",
     "output_type": "stream",
     "text": [
      "tensor(0.1842)\n"
     ]
    },
    {
     "name": "stdout",
     "output_type": "stream",
     "text": [
      "tensor(0.1846)\n"
     ]
    },
    {
     "name": "stdout",
     "output_type": "stream",
     "text": [
      "tensor(0.1842)\n"
     ]
    },
    {
     "name": "stdout",
     "output_type": "stream",
     "text": [
      "tensor(0.1846)\n"
     ]
    },
    {
     "name": "stdout",
     "output_type": "stream",
     "text": [
      "tensor(0.1841)\n"
     ]
    },
    {
     "name": "stdout",
     "output_type": "stream",
     "text": [
      "tensor(0.1845)\n"
     ]
    },
    {
     "name": "stdout",
     "output_type": "stream",
     "text": [
      "tensor(0.1841)\n"
     ]
    },
    {
     "name": "stdout",
     "output_type": "stream",
     "text": [
      "tensor(0.1845)\n"
     ]
    },
    {
     "name": "stdout",
     "output_type": "stream",
     "text": [
      "tensor(0.1841)\n"
     ]
    },
    {
     "name": "stdout",
     "output_type": "stream",
     "text": [
      "tensor(0.1845)\n"
     ]
    },
    {
     "name": "stdout",
     "output_type": "stream",
     "text": [
      "tensor(0.1840)\n"
     ]
    },
    {
     "name": "stdout",
     "output_type": "stream",
     "text": [
      "tensor(0.1845)\n"
     ]
    },
    {
     "name": "stdout",
     "output_type": "stream",
     "text": [
      "tensor(0.1840)\n"
     ]
    },
    {
     "name": "stdout",
     "output_type": "stream",
     "text": [
      "tensor(0.1845)\n"
     ]
    },
    {
     "name": "stdout",
     "output_type": "stream",
     "text": [
      "tensor(0.1839)\n"
     ]
    },
    {
     "name": "stdout",
     "output_type": "stream",
     "text": [
      "tensor(0.1845)\n"
     ]
    },
    {
     "name": "stdout",
     "output_type": "stream",
     "text": [
      "tensor(0.1839)\n"
     ]
    },
    {
     "name": "stdout",
     "output_type": "stream",
     "text": [
      "tensor(0.1845)\n"
     ]
    },
    {
     "name": "stdout",
     "output_type": "stream",
     "text": [
      "tensor(0.1839)\n"
     ]
    },
    {
     "name": "stdout",
     "output_type": "stream",
     "text": [
      "tensor(0.1845)\n"
     ]
    },
    {
     "name": "stdout",
     "output_type": "stream",
     "text": [
      "tensor(0.1838)\n"
     ]
    },
    {
     "name": "stdout",
     "output_type": "stream",
     "text": [
      "tensor(0.1845)\n"
     ]
    },
    {
     "name": "stdout",
     "output_type": "stream",
     "text": [
      "tensor(0.1838)\n"
     ]
    },
    {
     "name": "stdout",
     "output_type": "stream",
     "text": [
      "tensor(0.1845)\n"
     ]
    },
    {
     "name": "stdout",
     "output_type": "stream",
     "text": [
      "tensor(0.1838)\n"
     ]
    },
    {
     "name": "stdout",
     "output_type": "stream",
     "text": [
      "tensor(0.1845)\n"
     ]
    },
    {
     "name": "stdout",
     "output_type": "stream",
     "text": [
      "tensor(0.1838)\n"
     ]
    },
    {
     "name": "stdout",
     "output_type": "stream",
     "text": [
      "tensor(0.1845)\n"
     ]
    },
    {
     "name": "stdout",
     "output_type": "stream",
     "text": [
      "tensor(0.1838)\n"
     ]
    },
    {
     "name": "stdout",
     "output_type": "stream",
     "text": [
      "tensor(0.1845)\n"
     ]
    },
    {
     "name": "stdout",
     "output_type": "stream",
     "text": [
      "tensor(0.1837)\n"
     ]
    },
    {
     "name": "stdout",
     "output_type": "stream",
     "text": [
      "tensor(0.1845)\n"
     ]
    },
    {
     "name": "stdout",
     "output_type": "stream",
     "text": [
      "tensor(0.1837)\n"
     ]
    },
    {
     "name": "stdout",
     "output_type": "stream",
     "text": [
      "tensor(0.1845)\n"
     ]
    },
    {
     "name": "stdout",
     "output_type": "stream",
     "text": [
      "tensor(0.1837)\n"
     ]
    },
    {
     "name": "stdout",
     "output_type": "stream",
     "text": [
      "tensor(0.1845)\n"
     ]
    },
    {
     "name": "stdout",
     "output_type": "stream",
     "text": [
      "tensor(0.1837)\n"
     ]
    },
    {
     "name": "stdout",
     "output_type": "stream",
     "text": [
      "tensor(0.1845)\n"
     ]
    },
    {
     "name": "stdout",
     "output_type": "stream",
     "text": [
      "tensor(0.1837)\n"
     ]
    },
    {
     "name": "stdout",
     "output_type": "stream",
     "text": [
      "tensor(0.1845)\n"
     ]
    },
    {
     "name": "stdout",
     "output_type": "stream",
     "text": [
      "tensor(0.1837)\n"
     ]
    },
    {
     "name": "stdout",
     "output_type": "stream",
     "text": [
      "tensor(0.1845)\n"
     ]
    },
    {
     "name": "stdout",
     "output_type": "stream",
     "text": [
      "tensor(0.1837)\n"
     ]
    },
    {
     "name": "stdout",
     "output_type": "stream",
     "text": [
      "tensor(0.1845)\n"
     ]
    },
    {
     "name": "stdout",
     "output_type": "stream",
     "text": [
      "tensor(0.1837)\n"
     ]
    },
    {
     "name": "stdout",
     "output_type": "stream",
     "text": [
      "tensor(0.1846)\n"
     ]
    },
    {
     "name": "stdout",
     "output_type": "stream",
     "text": [
      "tensor(0.1837)\n"
     ]
    },
    {
     "name": "stdout",
     "output_type": "stream",
     "text": [
      "tensor(0.1846)\n"
     ]
    },
    {
     "name": "stdout",
     "output_type": "stream",
     "text": [
      "tensor(0.1837)\n"
     ]
    },
    {
     "name": "stdout",
     "output_type": "stream",
     "text": [
      "tensor(0.1846)\n"
     ]
    },
    {
     "name": "stdout",
     "output_type": "stream",
     "text": [
      "tensor(0.1837)\n"
     ]
    },
    {
     "name": "stdout",
     "output_type": "stream",
     "text": [
      "tensor(0.1846)\n"
     ]
    },
    {
     "name": "stdout",
     "output_type": "stream",
     "text": [
      "tensor(0.1837)\n"
     ]
    },
    {
     "name": "stdout",
     "output_type": "stream",
     "text": [
      "tensor(0.1846)\n"
     ]
    },
    {
     "name": "stdout",
     "output_type": "stream",
     "text": [
      "tensor(0.1837)\n"
     ]
    },
    {
     "name": "stdout",
     "output_type": "stream",
     "text": [
      "tensor(0.1846)\n"
     ]
    },
    {
     "name": "stdout",
     "output_type": "stream",
     "text": [
      "tensor(0.1837)\n"
     ]
    },
    {
     "name": "stdout",
     "output_type": "stream",
     "text": [
      "tensor(0.1846)\n"
     ]
    },
    {
     "name": "stdout",
     "output_type": "stream",
     "text": [
      "tensor(0.1837)\n"
     ]
    },
    {
     "name": "stdout",
     "output_type": "stream",
     "text": [
      "tensor(0.1846)\n"
     ]
    },
    {
     "name": "stdout",
     "output_type": "stream",
     "text": [
      "tensor(0.1837)\n"
     ]
    },
    {
     "name": "stdout",
     "output_type": "stream",
     "text": [
      "tensor(0.1846)\n"
     ]
    },
    {
     "name": "stdout",
     "output_type": "stream",
     "text": [
      "tensor(0.1838)\n"
     ]
    },
    {
     "name": "stdout",
     "output_type": "stream",
     "text": [
      "tensor(0.1847)\n"
     ]
    },
    {
     "name": "stdout",
     "output_type": "stream",
     "text": [
      "tensor(0.1838)\n"
     ]
    },
    {
     "name": "stdout",
     "output_type": "stream",
     "text": [
      "tensor(0.1847)\n"
     ]
    },
    {
     "name": "stdout",
     "output_type": "stream",
     "text": [
      "tensor(0.1838)\n"
     ]
    },
    {
     "name": "stdout",
     "output_type": "stream",
     "text": [
      "tensor(0.1847)\n"
     ]
    },
    {
     "name": "stdout",
     "output_type": "stream",
     "text": [
      "tensor(0.1838)\n"
     ]
    },
    {
     "name": "stdout",
     "output_type": "stream",
     "text": [
      "tensor(0.1847)\n"
     ]
    },
    {
     "name": "stdout",
     "output_type": "stream",
     "text": [
      "tensor(0.1839)\n"
     ]
    },
    {
     "name": "stdout",
     "output_type": "stream",
     "text": [
      "tensor(0.1847)\n"
     ]
    },
    {
     "name": "stdout",
     "output_type": "stream",
     "text": [
      "tensor(0.1839)\n"
     ]
    },
    {
     "name": "stdout",
     "output_type": "stream",
     "text": [
      "tensor(0.1847)\n"
     ]
    },
    {
     "name": "stdout",
     "output_type": "stream",
     "text": [
      "tensor(0.1840)\n"
     ]
    },
    {
     "name": "stdout",
     "output_type": "stream",
     "text": [
      "tensor(0.1848)\n"
     ]
    },
    {
     "name": "stdout",
     "output_type": "stream",
     "text": [
      "tensor(0.1840)\n"
     ]
    },
    {
     "name": "stdout",
     "output_type": "stream",
     "text": [
      "tensor(0.1848)\n"
     ]
    },
    {
     "name": "stdout",
     "output_type": "stream",
     "text": [
      "tensor(0.1841)\n"
     ]
    },
    {
     "name": "stdout",
     "output_type": "stream",
     "text": [
      "tensor(0.1848)\n"
     ]
    },
    {
     "name": "stdout",
     "output_type": "stream",
     "text": [
      "tensor(0.1841)\n"
     ]
    },
    {
     "name": "stdout",
     "output_type": "stream",
     "text": [
      "tensor(0.1848)\n"
     ]
    },
    {
     "name": "stdout",
     "output_type": "stream",
     "text": [
      "tensor(0.1842)\n"
     ]
    },
    {
     "name": "stdout",
     "output_type": "stream",
     "text": [
      "tensor(0.1848)\n"
     ]
    },
    {
     "name": "stdout",
     "output_type": "stream",
     "text": [
      "tensor(0.1842)\n"
     ]
    },
    {
     "name": "stdout",
     "output_type": "stream",
     "text": [
      "tensor(0.1849)\n"
     ]
    },
    {
     "name": "stdout",
     "output_type": "stream",
     "text": [
      "tensor(0.1843)\n"
     ]
    },
    {
     "name": "stdout",
     "output_type": "stream",
     "text": [
      "tensor(0.1849)\n"
     ]
    },
    {
     "name": "stdout",
     "output_type": "stream",
     "text": [
      "tensor(0.1844)\n"
     ]
    },
    {
     "name": "stdout",
     "output_type": "stream",
     "text": [
      "tensor(0.1849)\n"
     ]
    },
    {
     "name": "stdout",
     "output_type": "stream",
     "text": [
      "tensor(0.1844)\n"
     ]
    },
    {
     "name": "stdout",
     "output_type": "stream",
     "text": [
      "tensor(0.1849)\n"
     ]
    },
    {
     "name": "stdout",
     "output_type": "stream",
     "text": [
      "tensor(0.1845)\n"
     ]
    },
    {
     "name": "stdout",
     "output_type": "stream",
     "text": [
      "tensor(0.1849)\n"
     ]
    },
    {
     "name": "stdout",
     "output_type": "stream",
     "text": [
      "tensor(0.1845)\n"
     ]
    },
    {
     "name": "stdout",
     "output_type": "stream",
     "text": [
      "tensor(0.1849)\n"
     ]
    },
    {
     "name": "stdout",
     "output_type": "stream",
     "text": [
      "tensor(0.1846)\n"
     ]
    },
    {
     "name": "stdout",
     "output_type": "stream",
     "text": [
      "tensor(0.1850)\n"
     ]
    },
    {
     "name": "stdout",
     "output_type": "stream",
     "text": [
      "tensor(0.1847)\n"
     ]
    },
    {
     "name": "stdout",
     "output_type": "stream",
     "text": [
      "tensor(0.1850)\n"
     ]
    },
    {
     "name": "stdout",
     "output_type": "stream",
     "text": [
      "tensor(0.1847)\n"
     ]
    },
    {
     "name": "stdout",
     "output_type": "stream",
     "text": [
      "tensor(0.1850)\n"
     ]
    },
    {
     "name": "stdout",
     "output_type": "stream",
     "text": [
      "tensor(0.1848)\n"
     ]
    },
    {
     "name": "stdout",
     "output_type": "stream",
     "text": [
      "tensor(0.1850)\n"
     ]
    },
    {
     "name": "stdout",
     "output_type": "stream",
     "text": [
      "tensor(0.1848)\n"
     ]
    },
    {
     "name": "stdout",
     "output_type": "stream",
     "text": [
      "tensor(0.1850)\n"
     ]
    },
    {
     "name": "stdout",
     "output_type": "stream",
     "text": [
      "tensor(0.1849)\n"
     ]
    },
    {
     "name": "stdout",
     "output_type": "stream",
     "text": [
      "tensor(0.1850)\n"
     ]
    },
    {
     "name": "stdout",
     "output_type": "stream",
     "text": [
      "tensor(0.1849)\n"
     ]
    },
    {
     "name": "stdout",
     "output_type": "stream",
     "text": [
      "tensor(0.1850)\n"
     ]
    },
    {
     "name": "stdout",
     "output_type": "stream",
     "text": [
      "tensor(0.1849)\n"
     ]
    },
    {
     "name": "stdout",
     "output_type": "stream",
     "text": [
      "tensor(0.1850)\n"
     ]
    },
    {
     "name": "stdout",
     "output_type": "stream",
     "text": [
      "tensor(0.1850)\n"
     ]
    },
    {
     "name": "stdout",
     "output_type": "stream",
     "text": [
      "tensor(0.1850)\n"
     ]
    },
    {
     "name": "stdout",
     "output_type": "stream",
     "text": [
      "tensor(0.1850)\n"
     ]
    },
    {
     "name": "stdout",
     "output_type": "stream",
     "text": [
      "tensor(0.1851)\n"
     ]
    },
    {
     "name": "stdout",
     "output_type": "stream",
     "text": [
      "tensor(0.1850)\n"
     ]
    },
    {
     "name": "stdout",
     "output_type": "stream",
     "text": [
      "tensor(0.1851)\n"
     ]
    },
    {
     "name": "stdout",
     "output_type": "stream",
     "text": [
      "tensor(0.1851)\n"
     ]
    },
    {
     "name": "stdout",
     "output_type": "stream",
     "text": [
      "tensor(0.1851)\n"
     ]
    },
    {
     "name": "stdout",
     "output_type": "stream",
     "text": [
      "tensor(0.1851)\n"
     ]
    },
    {
     "name": "stdout",
     "output_type": "stream",
     "text": [
      "tensor(0.1851)\n"
     ]
    },
    {
     "name": "stdout",
     "output_type": "stream",
     "text": [
      "tensor(0.1851)\n"
     ]
    },
    {
     "name": "stdout",
     "output_type": "stream",
     "text": [
      "tensor(0.1851)\n"
     ]
    },
    {
     "name": "stdout",
     "output_type": "stream",
     "text": [
      "tensor(0.1851)\n"
     ]
    },
    {
     "name": "stdout",
     "output_type": "stream",
     "text": [
      "tensor(0.1851)\n"
     ]
    },
    {
     "name": "stdout",
     "output_type": "stream",
     "text": [
      "tensor(0.1852)\n"
     ]
    },
    {
     "name": "stdout",
     "output_type": "stream",
     "text": [
      "tensor(0.1851)\n"
     ]
    },
    {
     "name": "stdout",
     "output_type": "stream",
     "text": [
      "tensor(0.1852)\n"
     ]
    },
    {
     "name": "stdout",
     "output_type": "stream",
     "text": [
      "tensor(0.1851)\n"
     ]
    },
    {
     "name": "stdout",
     "output_type": "stream",
     "text": [
      "tensor(0.1852)\n"
     ]
    },
    {
     "name": "stdout",
     "output_type": "stream",
     "text": [
      "tensor(0.1851)\n"
     ]
    },
    {
     "name": "stdout",
     "output_type": "stream",
     "text": [
      "tensor(0.1852)\n"
     ]
    },
    {
     "name": "stdout",
     "output_type": "stream",
     "text": [
      "tensor(0.1851)\n"
     ]
    },
    {
     "name": "stdout",
     "output_type": "stream",
     "text": [
      "tensor(0.1852)\n"
     ]
    },
    {
     "name": "stdout",
     "output_type": "stream",
     "text": [
      "tensor(0.1851)\n"
     ]
    },
    {
     "name": "stdout",
     "output_type": "stream",
     "text": [
      "tensor(0.1852)\n"
     ]
    },
    {
     "name": "stdout",
     "output_type": "stream",
     "text": [
      "tensor(0.1851)\n"
     ]
    },
    {
     "name": "stdout",
     "output_type": "stream",
     "text": [
      "tensor(0.1853)\n"
     ]
    },
    {
     "name": "stdout",
     "output_type": "stream",
     "text": [
      "tensor(0.1851)\n"
     ]
    },
    {
     "name": "stdout",
     "output_type": "stream",
     "text": [
      "tensor(0.1853)\n"
     ]
    },
    {
     "name": "stdout",
     "output_type": "stream",
     "text": [
      "tensor(0.1851)\n"
     ]
    },
    {
     "name": "stdout",
     "output_type": "stream",
     "text": [
      "tensor(0.1853)\n"
     ]
    },
    {
     "name": "stdout",
     "output_type": "stream",
     "text": [
      "tensor(0.1851)\n"
     ]
    },
    {
     "name": "stdout",
     "output_type": "stream",
     "text": [
      "tensor(0.1853)\n"
     ]
    },
    {
     "name": "stdout",
     "output_type": "stream",
     "text": [
      "tensor(0.1851)\n"
     ]
    },
    {
     "name": "stdout",
     "output_type": "stream",
     "text": [
      "tensor(0.1853)\n"
     ]
    },
    {
     "name": "stdout",
     "output_type": "stream",
     "text": [
      "tensor(0.1851)\n"
     ]
    },
    {
     "name": "stdout",
     "output_type": "stream",
     "text": [
      "tensor(0.1854)\n"
     ]
    },
    {
     "name": "stdout",
     "output_type": "stream",
     "text": [
      "tensor(0.1851)\n"
     ]
    },
    {
     "name": "stdout",
     "output_type": "stream",
     "text": [
      "tensor(0.1854)\n"
     ]
    },
    {
     "name": "stdout",
     "output_type": "stream",
     "text": [
      "tensor(0.1851)\n"
     ]
    },
    {
     "name": "stdout",
     "output_type": "stream",
     "text": [
      "tensor(0.1854)\n"
     ]
    },
    {
     "name": "stdout",
     "output_type": "stream",
     "text": [
      "tensor(0.1852)\n"
     ]
    },
    {
     "name": "stdout",
     "output_type": "stream",
     "text": [
      "tensor(0.1854)\n"
     ]
    },
    {
     "name": "stdout",
     "output_type": "stream",
     "text": [
      "tensor(0.1852)\n"
     ]
    },
    {
     "name": "stdout",
     "output_type": "stream",
     "text": [
      "tensor(0.1854)\n"
     ]
    },
    {
     "name": "stdout",
     "output_type": "stream",
     "text": [
      "tensor(0.1852)\n"
     ]
    },
    {
     "name": "stdout",
     "output_type": "stream",
     "text": [
      "tensor(0.1854)\n"
     ]
    },
    {
     "name": "stdout",
     "output_type": "stream",
     "text": [
      "tensor(0.1852)\n"
     ]
    },
    {
     "name": "stdout",
     "output_type": "stream",
     "text": [
      "tensor(0.1855)\n"
     ]
    },
    {
     "name": "stdout",
     "output_type": "stream",
     "text": [
      "tensor(0.1852)\n"
     ]
    },
    {
     "name": "stdout",
     "output_type": "stream",
     "text": [
      "tensor(0.1855)\n"
     ]
    },
    {
     "name": "stdout",
     "output_type": "stream",
     "text": [
      "tensor(0.1852)\n"
     ]
    },
    {
     "name": "stdout",
     "output_type": "stream",
     "text": [
      "tensor(0.1855)\n"
     ]
    },
    {
     "name": "stdout",
     "output_type": "stream",
     "text": [
      "tensor(0.1852)\n"
     ]
    },
    {
     "name": "stdout",
     "output_type": "stream",
     "text": [
      "tensor(0.1855)\n"
     ]
    },
    {
     "name": "stdout",
     "output_type": "stream",
     "text": [
      "tensor(0.1852)\n"
     ]
    },
    {
     "name": "stdout",
     "output_type": "stream",
     "text": [
      "tensor(0.1855)\n"
     ]
    },
    {
     "name": "stdout",
     "output_type": "stream",
     "text": [
      "tensor(0.1852)\n"
     ]
    },
    {
     "name": "stdout",
     "output_type": "stream",
     "text": [
      "tensor(0.1855)\n"
     ]
    },
    {
     "name": "stdout",
     "output_type": "stream",
     "text": [
      "tensor(0.1852)\n"
     ]
    },
    {
     "name": "stdout",
     "output_type": "stream",
     "text": [
      "tensor(0.1855)\n"
     ]
    },
    {
     "name": "stdout",
     "output_type": "stream",
     "text": [
      "tensor(0.1852)\n"
     ]
    },
    {
     "name": "stdout",
     "output_type": "stream",
     "text": [
      "tensor(0.1855)\n"
     ]
    },
    {
     "name": "stdout",
     "output_type": "stream",
     "text": [
      "tensor(0.1852)\n"
     ]
    },
    {
     "name": "stdout",
     "output_type": "stream",
     "text": [
      "tensor(0.1855)\n"
     ]
    },
    {
     "name": "stdout",
     "output_type": "stream",
     "text": [
      "tensor(0.1852)\n"
     ]
    },
    {
     "name": "stdout",
     "output_type": "stream",
     "text": [
      "tensor(0.1855)\n"
     ]
    },
    {
     "name": "stdout",
     "output_type": "stream",
     "text": [
      "tensor(0.1852)\n"
     ]
    },
    {
     "name": "stdout",
     "output_type": "stream",
     "text": [
      "tensor(0.1855)\n"
     ]
    },
    {
     "name": "stdout",
     "output_type": "stream",
     "text": [
      "tensor(0.1852)\n"
     ]
    },
    {
     "name": "stdout",
     "output_type": "stream",
     "text": [
      "tensor(0.1855)\n"
     ]
    },
    {
     "name": "stdout",
     "output_type": "stream",
     "text": [
      "tensor(0.1852)\n"
     ]
    },
    {
     "name": "stdout",
     "output_type": "stream",
     "text": [
      "tensor(0.1855)\n"
     ]
    },
    {
     "name": "stdout",
     "output_type": "stream",
     "text": [
      "tensor(0.1852)\n"
     ]
    },
    {
     "name": "stdout",
     "output_type": "stream",
     "text": [
      "tensor(0.1855)\n"
     ]
    },
    {
     "name": "stdout",
     "output_type": "stream",
     "text": [
      "tensor(0.1852)\n"
     ]
    },
    {
     "name": "stdout",
     "output_type": "stream",
     "text": [
      "tensor(0.1855)\n"
     ]
    },
    {
     "name": "stdout",
     "output_type": "stream",
     "text": [
      "tensor(0.1852)\n"
     ]
    },
    {
     "name": "stdout",
     "output_type": "stream",
     "text": [
      "tensor(0.1855)\n"
     ]
    },
    {
     "name": "stdout",
     "output_type": "stream",
     "text": [
      "tensor(0.1852)\n"
     ]
    },
    {
     "name": "stdout",
     "output_type": "stream",
     "text": [
      "tensor(0.1855)\n"
     ]
    },
    {
     "name": "stdout",
     "output_type": "stream",
     "text": [
      "tensor(0.1852)\n"
     ]
    },
    {
     "name": "stdout",
     "output_type": "stream",
     "text": [
      "tensor(0.1855)\n"
     ]
    },
    {
     "name": "stdout",
     "output_type": "stream",
     "text": [
      "tensor(0.1852)\n"
     ]
    },
    {
     "name": "stdout",
     "output_type": "stream",
     "text": [
      "tensor(0.1855)\n"
     ]
    },
    {
     "name": "stdout",
     "output_type": "stream",
     "text": [
      "tensor(0.1852)\n"
     ]
    },
    {
     "name": "stdout",
     "output_type": "stream",
     "text": [
      "tensor(0.1855)\n"
     ]
    },
    {
     "name": "stdout",
     "output_type": "stream",
     "text": [
      "tensor(0.1852)\n"
     ]
    },
    {
     "name": "stdout",
     "output_type": "stream",
     "text": [
      "tensor(0.1855)\n"
     ]
    },
    {
     "name": "stdout",
     "output_type": "stream",
     "text": [
      "tensor(0.1852)\n"
     ]
    },
    {
     "name": "stdout",
     "output_type": "stream",
     "text": [
      "tensor(0.1855)\n"
     ]
    },
    {
     "name": "stdout",
     "output_type": "stream",
     "text": [
      "tensor(0.1852)\n"
     ]
    },
    {
     "name": "stdout",
     "output_type": "stream",
     "text": [
      "tensor(0.1855)\n"
     ]
    },
    {
     "name": "stdout",
     "output_type": "stream",
     "text": [
      "tensor(0.1852)\n"
     ]
    },
    {
     "name": "stdout",
     "output_type": "stream",
     "text": [
      "tensor(0.1855)\n"
     ]
    },
    {
     "name": "stdout",
     "output_type": "stream",
     "text": [
      "tensor(0.1852)\n"
     ]
    },
    {
     "name": "stdout",
     "output_type": "stream",
     "text": [
      "tensor(0.1854)\n"
     ]
    },
    {
     "name": "stdout",
     "output_type": "stream",
     "text": [
      "tensor(0.1852)\n"
     ]
    },
    {
     "name": "stdout",
     "output_type": "stream",
     "text": [
      "tensor(0.1854)\n"
     ]
    },
    {
     "name": "stdout",
     "output_type": "stream",
     "text": [
      "tensor(0.1852)\n"
     ]
    },
    {
     "name": "stdout",
     "output_type": "stream",
     "text": [
      "tensor(0.1854)\n"
     ]
    },
    {
     "name": "stdout",
     "output_type": "stream",
     "text": [
      "tensor(0.1852)\n"
     ]
    },
    {
     "name": "stdout",
     "output_type": "stream",
     "text": [
      "tensor(0.1854)\n"
     ]
    },
    {
     "name": "stdout",
     "output_type": "stream",
     "text": [
      "tensor(0.1852)\n"
     ]
    },
    {
     "name": "stdout",
     "output_type": "stream",
     "text": [
      "tensor(0.1854)\n"
     ]
    },
    {
     "name": "stdout",
     "output_type": "stream",
     "text": [
      "tensor(0.1852)\n"
     ]
    },
    {
     "name": "stdout",
     "output_type": "stream",
     "text": [
      "tensor(0.1854)\n"
     ]
    },
    {
     "name": "stdout",
     "output_type": "stream",
     "text": [
      "tensor(0.1852)\n"
     ]
    },
    {
     "name": "stdout",
     "output_type": "stream",
     "text": [
      "tensor(0.1854)\n"
     ]
    },
    {
     "name": "stdout",
     "output_type": "stream",
     "text": [
      "tensor(0.1852)\n"
     ]
    },
    {
     "name": "stdout",
     "output_type": "stream",
     "text": [
      "tensor(0.1854)\n"
     ]
    },
    {
     "name": "stdout",
     "output_type": "stream",
     "text": [
      "tensor(0.1852)\n"
     ]
    },
    {
     "name": "stdout",
     "output_type": "stream",
     "text": [
      "tensor(0.1854)\n"
     ]
    },
    {
     "name": "stdout",
     "output_type": "stream",
     "text": [
      "tensor(0.1851)\n"
     ]
    },
    {
     "name": "stdout",
     "output_type": "stream",
     "text": [
      "tensor(0.1854)\n"
     ]
    },
    {
     "name": "stdout",
     "output_type": "stream",
     "text": [
      "tensor(0.1851)\n"
     ]
    },
    {
     "name": "stdout",
     "output_type": "stream",
     "text": [
      "tensor(0.1854)\n"
     ]
    },
    {
     "name": "stdout",
     "output_type": "stream",
     "text": [
      "tensor(0.1851)\n"
     ]
    },
    {
     "name": "stdout",
     "output_type": "stream",
     "text": [
      "tensor(0.1854)\n"
     ]
    },
    {
     "name": "stdout",
     "output_type": "stream",
     "text": [
      "tensor(0.1851)\n"
     ]
    },
    {
     "name": "stdout",
     "output_type": "stream",
     "text": [
      "tensor(0.1854)\n"
     ]
    },
    {
     "name": "stdout",
     "output_type": "stream",
     "text": [
      "tensor(0.1851)\n"
     ]
    },
    {
     "name": "stdout",
     "output_type": "stream",
     "text": [
      "tensor(0.1854)\n"
     ]
    },
    {
     "name": "stdout",
     "output_type": "stream",
     "text": [
      "tensor(0.1851)\n"
     ]
    },
    {
     "name": "stdout",
     "output_type": "stream",
     "text": [
      "tensor(0.1854)\n"
     ]
    },
    {
     "name": "stdout",
     "output_type": "stream",
     "text": [
      "tensor(0.1851)\n"
     ]
    },
    {
     "name": "stdout",
     "output_type": "stream",
     "text": [
      "tensor(0.1854)\n"
     ]
    },
    {
     "name": "stdout",
     "output_type": "stream",
     "text": [
      "tensor(0.1851)\n"
     ]
    },
    {
     "name": "stdout",
     "output_type": "stream",
     "text": [
      "tensor(0.1854)\n"
     ]
    },
    {
     "name": "stdout",
     "output_type": "stream",
     "text": [
      "tensor(0.1851)\n"
     ]
    },
    {
     "name": "stdout",
     "output_type": "stream",
     "text": [
      "tensor(0.1854)\n"
     ]
    },
    {
     "name": "stdout",
     "output_type": "stream",
     "text": [
      "tensor(0.1851)\n"
     ]
    },
    {
     "name": "stdout",
     "output_type": "stream",
     "text": [
      "tensor(0.1854)\n"
     ]
    },
    {
     "name": "stdout",
     "output_type": "stream",
     "text": [
      "tensor(0.1851)\n"
     ]
    },
    {
     "name": "stdout",
     "output_type": "stream",
     "text": [
      "tensor(0.1853)\n"
     ]
    },
    {
     "name": "stdout",
     "output_type": "stream",
     "text": [
      "tensor(0.1851)\n"
     ]
    },
    {
     "name": "stdout",
     "output_type": "stream",
     "text": [
      "tensor(0.1853)\n"
     ]
    },
    {
     "name": "stdout",
     "output_type": "stream",
     "text": [
      "tensor(0.1851)\n"
     ]
    },
    {
     "name": "stdout",
     "output_type": "stream",
     "text": [
      "tensor(0.1853)\n"
     ]
    },
    {
     "name": "stdout",
     "output_type": "stream",
     "text": [
      "tensor(0.1851)\n"
     ]
    },
    {
     "name": "stdout",
     "output_type": "stream",
     "text": [
      "tensor(0.1853)\n"
     ]
    },
    {
     "name": "stdout",
     "output_type": "stream",
     "text": [
      "tensor(0.1851)\n"
     ]
    },
    {
     "name": "stdout",
     "output_type": "stream",
     "text": [
      "tensor(0.1853)\n"
     ]
    },
    {
     "name": "stdout",
     "output_type": "stream",
     "text": [
      "tensor(0.1851)\n"
     ]
    },
    {
     "name": "stdout",
     "output_type": "stream",
     "text": [
      "tensor(0.1853)\n"
     ]
    },
    {
     "name": "stdout",
     "output_type": "stream",
     "text": [
      "tensor(0.1851)\n"
     ]
    },
    {
     "name": "stdout",
     "output_type": "stream",
     "text": [
      "tensor(0.1853)\n"
     ]
    },
    {
     "name": "stdout",
     "output_type": "stream",
     "text": [
      "tensor(0.1851)\n"
     ]
    },
    {
     "name": "stdout",
     "output_type": "stream",
     "text": [
      "tensor(0.1853)\n"
     ]
    },
    {
     "name": "stdout",
     "output_type": "stream",
     "text": [
      "tensor(0.1851)\n"
     ]
    },
    {
     "name": "stdout",
     "output_type": "stream",
     "text": [
      "tensor(0.1853)\n"
     ]
    },
    {
     "name": "stdout",
     "output_type": "stream",
     "text": [
      "tensor(0.1851)\n"
     ]
    },
    {
     "name": "stdout",
     "output_type": "stream",
     "text": [
      "tensor(0.1853)\n"
     ]
    },
    {
     "name": "stdout",
     "output_type": "stream",
     "text": [
      "tensor(0.1851)\n"
     ]
    },
    {
     "name": "stdout",
     "output_type": "stream",
     "text": [
      "tensor(0.1853)\n"
     ]
    },
    {
     "name": "stdout",
     "output_type": "stream",
     "text": [
      "tensor(0.1851)\n"
     ]
    },
    {
     "name": "stdout",
     "output_type": "stream",
     "text": [
      "tensor(0.1853)\n"
     ]
    },
    {
     "name": "stdout",
     "output_type": "stream",
     "text": [
      "tensor(0.1851)\n"
     ]
    },
    {
     "name": "stdout",
     "output_type": "stream",
     "text": [
      "tensor(0.1853)\n"
     ]
    },
    {
     "name": "stdout",
     "output_type": "stream",
     "text": [
      "tensor(0.1851)\n"
     ]
    },
    {
     "name": "stdout",
     "output_type": "stream",
     "text": [
      "tensor(0.1853)\n"
     ]
    },
    {
     "name": "stdout",
     "output_type": "stream",
     "text": [
      "tensor(0.1851)\n"
     ]
    },
    {
     "name": "stdout",
     "output_type": "stream",
     "text": [
      "tensor(0.1853)\n"
     ]
    },
    {
     "name": "stdout",
     "output_type": "stream",
     "text": [
      "tensor(0.1851)\n"
     ]
    },
    {
     "name": "stdout",
     "output_type": "stream",
     "text": [
      "tensor(0.1853)\n"
     ]
    },
    {
     "name": "stdout",
     "output_type": "stream",
     "text": [
      "tensor(0.1851)\n"
     ]
    },
    {
     "name": "stdout",
     "output_type": "stream",
     "text": [
      "tensor(0.1853)\n"
     ]
    },
    {
     "name": "stdout",
     "output_type": "stream",
     "text": [
      "tensor(0.1851)\n"
     ]
    },
    {
     "name": "stdout",
     "output_type": "stream",
     "text": [
      "tensor(0.1853)\n"
     ]
    },
    {
     "name": "stdout",
     "output_type": "stream",
     "text": [
      "tensor(0.1851)\n"
     ]
    },
    {
     "name": "stdout",
     "output_type": "stream",
     "text": [
      "tensor(0.1853)\n"
     ]
    },
    {
     "name": "stdout",
     "output_type": "stream",
     "text": [
      "tensor(0.1851)\n"
     ]
    },
    {
     "name": "stdout",
     "output_type": "stream",
     "text": [
      "tensor(0.1853)\n"
     ]
    },
    {
     "name": "stdout",
     "output_type": "stream",
     "text": [
      "tensor(0.1851)\n"
     ]
    },
    {
     "name": "stdout",
     "output_type": "stream",
     "text": [
      "tensor(0.1852)\n"
     ]
    },
    {
     "name": "stdout",
     "output_type": "stream",
     "text": [
      "tensor(0.1851)\n"
     ]
    },
    {
     "name": "stdout",
     "output_type": "stream",
     "text": [
      "tensor(0.1852)\n"
     ]
    },
    {
     "name": "stdout",
     "output_type": "stream",
     "text": [
      "tensor(0.1851)\n"
     ]
    },
    {
     "name": "stdout",
     "output_type": "stream",
     "text": [
      "tensor(0.1852)\n"
     ]
    },
    {
     "name": "stdout",
     "output_type": "stream",
     "text": [
      "tensor(0.1851)\n"
     ]
    },
    {
     "name": "stdout",
     "output_type": "stream",
     "text": [
      "tensor(0.1852)\n"
     ]
    },
    {
     "name": "stdout",
     "output_type": "stream",
     "text": [
      "tensor(0.1851)\n"
     ]
    },
    {
     "name": "stdout",
     "output_type": "stream",
     "text": [
      "tensor(0.1852)\n"
     ]
    },
    {
     "name": "stdout",
     "output_type": "stream",
     "text": [
      "tensor(0.1851)\n"
     ]
    },
    {
     "name": "stdout",
     "output_type": "stream",
     "text": [
      "tensor(0.1852)\n"
     ]
    },
    {
     "name": "stdout",
     "output_type": "stream",
     "text": [
      "tensor(0.1851)\n"
     ]
    },
    {
     "name": "stdout",
     "output_type": "stream",
     "text": [
      "tensor(0.1852)\n"
     ]
    },
    {
     "name": "stdout",
     "output_type": "stream",
     "text": [
      "tensor(0.1851)\n"
     ]
    },
    {
     "name": "stdout",
     "output_type": "stream",
     "text": [
      "tensor(0.1852)\n"
     ]
    },
    {
     "name": "stdout",
     "output_type": "stream",
     "text": [
      "tensor(0.1851)\n"
     ]
    },
    {
     "name": "stdout",
     "output_type": "stream",
     "text": [
      "tensor(0.1852)\n"
     ]
    },
    {
     "name": "stdout",
     "output_type": "stream",
     "text": [
      "tensor(0.1851)\n"
     ]
    },
    {
     "name": "stdout",
     "output_type": "stream",
     "text": [
      "tensor(0.1852)\n"
     ]
    },
    {
     "name": "stdout",
     "output_type": "stream",
     "text": [
      "tensor(0.1851)\n"
     ]
    },
    {
     "name": "stdout",
     "output_type": "stream",
     "text": [
      "tensor(0.1853)\n"
     ]
    },
    {
     "name": "stdout",
     "output_type": "stream",
     "text": [
      "tensor(0.1851)\n"
     ]
    },
    {
     "name": "stdout",
     "output_type": "stream",
     "text": [
      "tensor(0.1853)\n"
     ]
    },
    {
     "name": "stdout",
     "output_type": "stream",
     "text": [
      "tensor(0.1851)\n"
     ]
    },
    {
     "name": "stdout",
     "output_type": "stream",
     "text": [
      "tensor(0.1853)\n"
     ]
    },
    {
     "name": "stdout",
     "output_type": "stream",
     "text": [
      "tensor(0.1851)\n"
     ]
    },
    {
     "name": "stdout",
     "output_type": "stream",
     "text": [
      "tensor(0.1853)\n"
     ]
    },
    {
     "name": "stdout",
     "output_type": "stream",
     "text": [
      "tensor(0.1851)\n"
     ]
    },
    {
     "name": "stdout",
     "output_type": "stream",
     "text": [
      "tensor(0.1853)\n"
     ]
    },
    {
     "name": "stdout",
     "output_type": "stream",
     "text": [
      "tensor(0.1851)\n"
     ]
    },
    {
     "name": "stdout",
     "output_type": "stream",
     "text": [
      "tensor(0.1853)\n"
     ]
    },
    {
     "name": "stdout",
     "output_type": "stream",
     "text": [
      "tensor(0.1851)\n"
     ]
    },
    {
     "name": "stdout",
     "output_type": "stream",
     "text": [
      "tensor(0.1853)\n"
     ]
    },
    {
     "name": "stdout",
     "output_type": "stream",
     "text": [
      "tensor(0.1851)\n"
     ]
    },
    {
     "name": "stdout",
     "output_type": "stream",
     "text": [
      "tensor(0.1853)\n"
     ]
    },
    {
     "name": "stdout",
     "output_type": "stream",
     "text": [
      "tensor(0.1851)\n"
     ]
    },
    {
     "name": "stdout",
     "output_type": "stream",
     "text": [
      "tensor(0.1853)\n"
     ]
    },
    {
     "name": "stdout",
     "output_type": "stream",
     "text": [
      "tensor(0.1851)\n"
     ]
    },
    {
     "name": "stdout",
     "output_type": "stream",
     "text": [
      "tensor(0.1853)\n"
     ]
    },
    {
     "name": "stdout",
     "output_type": "stream",
     "text": [
      "tensor(0.1851)\n"
     ]
    },
    {
     "name": "stdout",
     "output_type": "stream",
     "text": [
      "tensor(0.1853)\n"
     ]
    },
    {
     "name": "stdout",
     "output_type": "stream",
     "text": [
      "tensor(0.1851)\n"
     ]
    },
    {
     "name": "stdout",
     "output_type": "stream",
     "text": [
      "tensor(0.1853)\n"
     ]
    },
    {
     "name": "stdout",
     "output_type": "stream",
     "text": [
      "tensor(0.1851)\n"
     ]
    },
    {
     "name": "stdout",
     "output_type": "stream",
     "text": [
      "tensor(0.1853)\n"
     ]
    },
    {
     "name": "stdout",
     "output_type": "stream",
     "text": [
      "tensor(0.1851)\n"
     ]
    },
    {
     "name": "stdout",
     "output_type": "stream",
     "text": [
      "tensor(0.1852)\n"
     ]
    },
    {
     "name": "stdout",
     "output_type": "stream",
     "text": [
      "tensor(0.1851)\n"
     ]
    },
    {
     "name": "stdout",
     "output_type": "stream",
     "text": [
      "tensor(0.1852)\n"
     ]
    },
    {
     "name": "stdout",
     "output_type": "stream",
     "text": [
      "tensor(0.1851)\n"
     ]
    },
    {
     "name": "stdout",
     "output_type": "stream",
     "text": [
      "tensor(0.1852)\n"
     ]
    },
    {
     "name": "stdout",
     "output_type": "stream",
     "text": [
      "tensor(0.1851)\n"
     ]
    },
    {
     "name": "stdout",
     "output_type": "stream",
     "text": [
      "tensor(0.1851)\n"
     ]
    },
    {
     "name": "stdout",
     "output_type": "stream",
     "text": [
      "tensor(0.1851)\n"
     ]
    },
    {
     "name": "stdout",
     "output_type": "stream",
     "text": [
      "tensor(0.1851)\n"
     ]
    },
    {
     "name": "stdout",
     "output_type": "stream",
     "text": [
      "tensor(0.1851)\n"
     ]
    },
    {
     "name": "stdout",
     "output_type": "stream",
     "text": [
      "tensor(0.1850)\n"
     ]
    },
    {
     "name": "stdout",
     "output_type": "stream",
     "text": [
      "tensor(0.1851)\n"
     ]
    },
    {
     "name": "stdout",
     "output_type": "stream",
     "text": [
      "tensor(0.1850)\n"
     ]
    },
    {
     "name": "stdout",
     "output_type": "stream",
     "text": [
      "tensor(0.1850)\n"
     ]
    },
    {
     "name": "stdout",
     "output_type": "stream",
     "text": [
      "tensor(0.1849)\n"
     ]
    },
    {
     "name": "stdout",
     "output_type": "stream",
     "text": [
      "tensor(0.1850)\n"
     ]
    },
    {
     "name": "stdout",
     "output_type": "stream",
     "text": [
      "tensor(0.1849)\n"
     ]
    },
    {
     "name": "stdout",
     "output_type": "stream",
     "text": [
      "tensor(0.1850)\n"
     ]
    },
    {
     "name": "stdout",
     "output_type": "stream",
     "text": [
      "tensor(0.1848)\n"
     ]
    },
    {
     "name": "stdout",
     "output_type": "stream",
     "text": [
      "tensor(0.1850)\n"
     ]
    },
    {
     "name": "stdout",
     "output_type": "stream",
     "text": [
      "tensor(0.1848)\n"
     ]
    },
    {
     "name": "stdout",
     "output_type": "stream",
     "text": [
      "tensor(0.1850)\n"
     ]
    },
    {
     "name": "stdout",
     "output_type": "stream",
     "text": [
      "tensor(0.1847)\n"
     ]
    },
    {
     "name": "stdout",
     "output_type": "stream",
     "text": [
      "tensor(0.1850)\n"
     ]
    },
    {
     "name": "stdout",
     "output_type": "stream",
     "text": [
      "tensor(0.1847)\n"
     ]
    },
    {
     "name": "stdout",
     "output_type": "stream",
     "text": [
      "tensor(0.1850)\n"
     ]
    },
    {
     "name": "stdout",
     "output_type": "stream",
     "text": [
      "tensor(0.1846)\n"
     ]
    },
    {
     "name": "stdout",
     "output_type": "stream",
     "text": [
      "tensor(0.1849)\n"
     ]
    },
    {
     "name": "stdout",
     "output_type": "stream",
     "text": [
      "tensor(0.1846)\n"
     ]
    },
    {
     "name": "stdout",
     "output_type": "stream",
     "text": [
      "tensor(0.1849)\n"
     ]
    },
    {
     "name": "stdout",
     "output_type": "stream",
     "text": [
      "tensor(0.1845)\n"
     ]
    },
    {
     "name": "stdout",
     "output_type": "stream",
     "text": [
      "tensor(0.1849)\n"
     ]
    },
    {
     "name": "stdout",
     "output_type": "stream",
     "text": [
      "tensor(0.1845)\n"
     ]
    },
    {
     "name": "stdout",
     "output_type": "stream",
     "text": [
      "tensor(0.1849)\n"
     ]
    },
    {
     "name": "stdout",
     "output_type": "stream",
     "text": [
      "tensor(0.1844)\n"
     ]
    },
    {
     "name": "stdout",
     "output_type": "stream",
     "text": [
      "tensor(0.1849)\n"
     ]
    },
    {
     "name": "stdout",
     "output_type": "stream",
     "text": [
      "tensor(0.1844)\n"
     ]
    },
    {
     "name": "stdout",
     "output_type": "stream",
     "text": [
      "tensor(0.1849)\n"
     ]
    },
    {
     "name": "stdout",
     "output_type": "stream",
     "text": [
      "tensor(0.1844)\n"
     ]
    },
    {
     "name": "stdout",
     "output_type": "stream",
     "text": [
      "tensor(0.1849)\n"
     ]
    },
    {
     "name": "stdout",
     "output_type": "stream",
     "text": [
      "tensor(0.1843)\n"
     ]
    },
    {
     "name": "stdout",
     "output_type": "stream",
     "text": [
      "tensor(0.1849)\n"
     ]
    },
    {
     "name": "stdout",
     "output_type": "stream",
     "text": [
      "tensor(0.1843)\n"
     ]
    },
    {
     "name": "stdout",
     "output_type": "stream",
     "text": [
      "tensor(0.1849)\n"
     ]
    },
    {
     "name": "stdout",
     "output_type": "stream",
     "text": [
      "tensor(0.1843)\n"
     ]
    },
    {
     "name": "stdout",
     "output_type": "stream",
     "text": [
      "tensor(0.1849)\n"
     ]
    },
    {
     "name": "stdout",
     "output_type": "stream",
     "text": [
      "tensor(0.1842)\n"
     ]
    },
    {
     "name": "stdout",
     "output_type": "stream",
     "text": [
      "tensor(0.1849)\n"
     ]
    },
    {
     "name": "stdout",
     "output_type": "stream",
     "text": [
      "tensor(0.1842)\n"
     ]
    },
    {
     "name": "stdout",
     "output_type": "stream",
     "text": [
      "tensor(0.1849)\n"
     ]
    },
    {
     "name": "stdout",
     "output_type": "stream",
     "text": [
      "tensor(0.1842)\n"
     ]
    },
    {
     "name": "stdout",
     "output_type": "stream",
     "text": [
      "tensor(0.1849)\n"
     ]
    },
    {
     "name": "stdout",
     "output_type": "stream",
     "text": [
      "tensor(0.1842)\n"
     ]
    },
    {
     "name": "stdout",
     "output_type": "stream",
     "text": [
      "tensor(0.1849)\n"
     ]
    },
    {
     "name": "stdout",
     "output_type": "stream",
     "text": [
      "tensor(0.1842)\n"
     ]
    },
    {
     "name": "stdout",
     "output_type": "stream",
     "text": [
      "tensor(0.1849)\n"
     ]
    },
    {
     "name": "stdout",
     "output_type": "stream",
     "text": [
      "tensor(0.1841)\n"
     ]
    },
    {
     "name": "stdout",
     "output_type": "stream",
     "text": [
      "tensor(0.1849)\n"
     ]
    },
    {
     "name": "stdout",
     "output_type": "stream",
     "text": [
      "tensor(0.1841)\n"
     ]
    },
    {
     "name": "stdout",
     "output_type": "stream",
     "text": [
      "tensor(0.1849)\n"
     ]
    },
    {
     "name": "stdout",
     "output_type": "stream",
     "text": [
      "tensor(0.1841)\n"
     ]
    },
    {
     "name": "stdout",
     "output_type": "stream",
     "text": [
      "tensor(0.1849)\n"
     ]
    },
    {
     "name": "stdout",
     "output_type": "stream",
     "text": [
      "tensor(0.1841)\n"
     ]
    },
    {
     "name": "stdout",
     "output_type": "stream",
     "text": [
      "tensor(0.1849)\n"
     ]
    },
    {
     "name": "stdout",
     "output_type": "stream",
     "text": [
      "tensor(0.1841)\n"
     ]
    },
    {
     "name": "stdout",
     "output_type": "stream",
     "text": [
      "tensor(0.1849)\n"
     ]
    },
    {
     "name": "stdout",
     "output_type": "stream",
     "text": [
      "tensor(0.1841)\n"
     ]
    },
    {
     "name": "stdout",
     "output_type": "stream",
     "text": [
      "tensor(0.1849)\n"
     ]
    },
    {
     "name": "stdout",
     "output_type": "stream",
     "text": [
      "tensor(0.1841)\n"
     ]
    },
    {
     "name": "stdout",
     "output_type": "stream",
     "text": [
      "tensor(0.1849)\n"
     ]
    },
    {
     "name": "stdout",
     "output_type": "stream",
     "text": [
      "tensor(0.1841)\n"
     ]
    },
    {
     "name": "stdout",
     "output_type": "stream",
     "text": [
      "tensor(0.1849)\n"
     ]
    },
    {
     "name": "stdout",
     "output_type": "stream",
     "text": [
      "tensor(0.1841)\n"
     ]
    },
    {
     "name": "stdout",
     "output_type": "stream",
     "text": [
      "tensor(0.1849)\n"
     ]
    },
    {
     "name": "stdout",
     "output_type": "stream",
     "text": [
      "tensor(0.1841)\n"
     ]
    },
    {
     "name": "stdout",
     "output_type": "stream",
     "text": [
      "tensor(0.1850)\n"
     ]
    },
    {
     "name": "stdout",
     "output_type": "stream",
     "text": [
      "tensor(0.1841)\n"
     ]
    },
    {
     "name": "stdout",
     "output_type": "stream",
     "text": [
      "tensor(0.1850)\n"
     ]
    },
    {
     "name": "stdout",
     "output_type": "stream",
     "text": [
      "tensor(0.1841)\n"
     ]
    },
    {
     "name": "stdout",
     "output_type": "stream",
     "text": [
      "tensor(0.1850)\n"
     ]
    },
    {
     "name": "stdout",
     "output_type": "stream",
     "text": [
      "tensor(0.1841)\n"
     ]
    },
    {
     "name": "stdout",
     "output_type": "stream",
     "text": [
      "tensor(0.1850)\n"
     ]
    },
    {
     "name": "stdout",
     "output_type": "stream",
     "text": [
      "tensor(0.1841)\n"
     ]
    },
    {
     "name": "stdout",
     "output_type": "stream",
     "text": [
      "tensor(0.1850)\n"
     ]
    },
    {
     "name": "stdout",
     "output_type": "stream",
     "text": [
      "tensor(0.1841)\n"
     ]
    },
    {
     "name": "stdout",
     "output_type": "stream",
     "text": [
      "tensor(0.1850)\n"
     ]
    },
    {
     "name": "stdout",
     "output_type": "stream",
     "text": [
      "tensor(0.1841)\n"
     ]
    },
    {
     "name": "stdout",
     "output_type": "stream",
     "text": [
      "tensor(0.1850)\n"
     ]
    },
    {
     "name": "stdout",
     "output_type": "stream",
     "text": [
      "tensor(0.1841)\n"
     ]
    },
    {
     "name": "stdout",
     "output_type": "stream",
     "text": [
      "tensor(0.1850)\n"
     ]
    },
    {
     "name": "stdout",
     "output_type": "stream",
     "text": [
      "tensor(0.1842)\n"
     ]
    },
    {
     "name": "stdout",
     "output_type": "stream",
     "text": [
      "tensor(0.1850)\n"
     ]
    },
    {
     "name": "stdout",
     "output_type": "stream",
     "text": [
      "tensor(0.1842)\n"
     ]
    },
    {
     "name": "stdout",
     "output_type": "stream",
     "text": [
      "tensor(0.1850)\n"
     ]
    },
    {
     "name": "stdout",
     "output_type": "stream",
     "text": [
      "tensor(0.1842)\n"
     ]
    },
    {
     "name": "stdout",
     "output_type": "stream",
     "text": [
      "tensor(0.1851)\n"
     ]
    },
    {
     "name": "stdout",
     "output_type": "stream",
     "text": [
      "tensor(0.1842)\n"
     ]
    },
    {
     "name": "stdout",
     "output_type": "stream",
     "text": [
      "tensor(0.1851)\n"
     ]
    },
    {
     "name": "stdout",
     "output_type": "stream",
     "text": [
      "tensor(0.1843)\n"
     ]
    },
    {
     "name": "stdout",
     "output_type": "stream",
     "text": [
      "tensor(0.1851)\n"
     ]
    },
    {
     "name": "stdout",
     "output_type": "stream",
     "text": [
      "tensor(0.1843)\n"
     ]
    },
    {
     "name": "stdout",
     "output_type": "stream",
     "text": [
      "tensor(0.1851)\n"
     ]
    },
    {
     "name": "stdout",
     "output_type": "stream",
     "text": [
      "tensor(0.1843)\n"
     ]
    },
    {
     "name": "stdout",
     "output_type": "stream",
     "text": [
      "tensor(0.1851)\n"
     ]
    },
    {
     "name": "stdout",
     "output_type": "stream",
     "text": [
      "tensor(0.1844)\n"
     ]
    },
    {
     "name": "stdout",
     "output_type": "stream",
     "text": [
      "tensor(0.1851)\n"
     ]
    },
    {
     "name": "stdout",
     "output_type": "stream",
     "text": [
      "tensor(0.1844)\n"
     ]
    },
    {
     "name": "stdout",
     "output_type": "stream",
     "text": [
      "tensor(0.1851)\n"
     ]
    },
    {
     "name": "stdout",
     "output_type": "stream",
     "text": [
      "tensor(0.1844)\n"
     ]
    },
    {
     "name": "stdout",
     "output_type": "stream",
     "text": [
      "tensor(0.1852)\n"
     ]
    },
    {
     "name": "stdout",
     "output_type": "stream",
     "text": [
      "tensor(0.1845)\n"
     ]
    },
    {
     "name": "stdout",
     "output_type": "stream",
     "text": [
      "tensor(0.1852)\n"
     ]
    },
    {
     "name": "stdout",
     "output_type": "stream",
     "text": [
      "tensor(0.1845)\n"
     ]
    },
    {
     "name": "stdout",
     "output_type": "stream",
     "text": [
      "tensor(0.1852)\n"
     ]
    },
    {
     "name": "stdout",
     "output_type": "stream",
     "text": [
      "tensor(0.1846)\n"
     ]
    },
    {
     "name": "stdout",
     "output_type": "stream",
     "text": [
      "tensor(0.1852)\n"
     ]
    },
    {
     "name": "stdout",
     "output_type": "stream",
     "text": [
      "tensor(0.1846)\n"
     ]
    },
    {
     "name": "stdout",
     "output_type": "stream",
     "text": [
      "tensor(0.1852)\n"
     ]
    },
    {
     "name": "stdout",
     "output_type": "stream",
     "text": [
      "tensor(0.1846)\n"
     ]
    },
    {
     "name": "stdout",
     "output_type": "stream",
     "text": [
      "tensor(0.1852)\n"
     ]
    },
    {
     "name": "stdout",
     "output_type": "stream",
     "text": [
      "tensor(0.1847)\n"
     ]
    },
    {
     "name": "stdout",
     "output_type": "stream",
     "text": [
      "tensor(0.1853)\n"
     ]
    },
    {
     "name": "stdout",
     "output_type": "stream",
     "text": [
      "tensor(0.1847)\n"
     ]
    },
    {
     "name": "stdout",
     "output_type": "stream",
     "text": [
      "tensor(0.1853)\n"
     ]
    },
    {
     "name": "stdout",
     "output_type": "stream",
     "text": [
      "tensor(0.1848)\n"
     ]
    },
    {
     "name": "stdout",
     "output_type": "stream",
     "text": [
      "tensor(0.1853)\n"
     ]
    },
    {
     "name": "stdout",
     "output_type": "stream",
     "text": [
      "tensor(0.1848)\n"
     ]
    },
    {
     "name": "stdout",
     "output_type": "stream",
     "text": [
      "tensor(0.1853)\n"
     ]
    },
    {
     "name": "stdout",
     "output_type": "stream",
     "text": [
      "tensor(0.1849)\n"
     ]
    },
    {
     "name": "stdout",
     "output_type": "stream",
     "text": [
      "tensor(0.1853)\n"
     ]
    },
    {
     "name": "stdout",
     "output_type": "stream",
     "text": [
      "tensor(0.1849)\n"
     ]
    },
    {
     "name": "stdout",
     "output_type": "stream",
     "text": [
      "tensor(0.1853)\n"
     ]
    },
    {
     "name": "stdout",
     "output_type": "stream",
     "text": [
      "tensor(0.1849)\n"
     ]
    },
    {
     "name": "stdout",
     "output_type": "stream",
     "text": [
      "tensor(0.1853)\n"
     ]
    },
    {
     "name": "stdout",
     "output_type": "stream",
     "text": [
      "tensor(0.1850)\n"
     ]
    },
    {
     "name": "stdout",
     "output_type": "stream",
     "text": [
      "tensor(0.1853)\n"
     ]
    },
    {
     "name": "stdout",
     "output_type": "stream",
     "text": [
      "tensor(0.1850)\n"
     ]
    },
    {
     "name": "stdout",
     "output_type": "stream",
     "text": [
      "tensor(0.1853)\n"
     ]
    },
    {
     "name": "stdout",
     "output_type": "stream",
     "text": [
      "tensor(0.1850)\n"
     ]
    },
    {
     "name": "stdout",
     "output_type": "stream",
     "text": [
      "tensor(0.1853)\n"
     ]
    },
    {
     "name": "stdout",
     "output_type": "stream",
     "text": [
      "tensor(0.1851)\n"
     ]
    },
    {
     "name": "stdout",
     "output_type": "stream",
     "text": [
      "tensor(0.1854)\n"
     ]
    },
    {
     "name": "stdout",
     "output_type": "stream",
     "text": [
      "tensor(0.1851)\n"
     ]
    },
    {
     "name": "stdout",
     "output_type": "stream",
     "text": [
      "tensor(0.1854)\n"
     ]
    },
    {
     "name": "stdout",
     "output_type": "stream",
     "text": [
      "tensor(0.1851)\n"
     ]
    },
    {
     "name": "stdout",
     "output_type": "stream",
     "text": [
      "tensor(0.1854)\n"
     ]
    },
    {
     "name": "stdout",
     "output_type": "stream",
     "text": [
      "tensor(0.1851)\n"
     ]
    },
    {
     "name": "stdout",
     "output_type": "stream",
     "text": [
      "tensor(0.1854)\n"
     ]
    },
    {
     "name": "stdout",
     "output_type": "stream",
     "text": [
      "tensor(0.1852)\n"
     ]
    },
    {
     "name": "stdout",
     "output_type": "stream",
     "text": [
      "tensor(0.1854)\n"
     ]
    },
    {
     "name": "stdout",
     "output_type": "stream",
     "text": [
      "tensor(0.1852)\n"
     ]
    },
    {
     "name": "stdout",
     "output_type": "stream",
     "text": [
      "tensor(0.1854)\n"
     ]
    },
    {
     "name": "stdout",
     "output_type": "stream",
     "text": [
      "tensor(0.1852)\n"
     ]
    },
    {
     "name": "stdout",
     "output_type": "stream",
     "text": [
      "tensor(0.1854)\n"
     ]
    },
    {
     "name": "stdout",
     "output_type": "stream",
     "text": [
      "tensor(0.1852)\n"
     ]
    },
    {
     "name": "stdout",
     "output_type": "stream",
     "text": [
      "tensor(0.1854)\n"
     ]
    },
    {
     "name": "stdout",
     "output_type": "stream",
     "text": [
      "tensor(0.1853)\n"
     ]
    },
    {
     "name": "stdout",
     "output_type": "stream",
     "text": [
      "tensor(0.1854)\n"
     ]
    },
    {
     "name": "stdout",
     "output_type": "stream",
     "text": [
      "tensor(0.1853)\n"
     ]
    },
    {
     "name": "stdout",
     "output_type": "stream",
     "text": [
      "tensor(0.1854)\n"
     ]
    },
    {
     "name": "stdout",
     "output_type": "stream",
     "text": [
      "tensor(0.1853)\n"
     ]
    },
    {
     "name": "stdout",
     "output_type": "stream",
     "text": [
      "tensor(0.1854)\n"
     ]
    },
    {
     "name": "stdout",
     "output_type": "stream",
     "text": [
      "tensor(0.1853)\n"
     ]
    },
    {
     "name": "stdout",
     "output_type": "stream",
     "text": [
      "tensor(0.1854)\n"
     ]
    },
    {
     "name": "stdout",
     "output_type": "stream",
     "text": [
      "tensor(0.1854)\n"
     ]
    },
    {
     "name": "stdout",
     "output_type": "stream",
     "text": [
      "tensor(0.1854)\n"
     ]
    },
    {
     "name": "stdout",
     "output_type": "stream",
     "text": [
      "tensor(0.1854)\n"
     ]
    },
    {
     "name": "stdout",
     "output_type": "stream",
     "text": [
      "tensor(0.1854)\n"
     ]
    },
    {
     "name": "stdout",
     "output_type": "stream",
     "text": [
      "tensor(0.1854)\n"
     ]
    },
    {
     "name": "stdout",
     "output_type": "stream",
     "text": [
      "tensor(0.1854)\n"
     ]
    },
    {
     "name": "stdout",
     "output_type": "stream",
     "text": [
      "tensor(0.1854)\n"
     ]
    },
    {
     "name": "stdout",
     "output_type": "stream",
     "text": [
      "tensor(0.1855)\n"
     ]
    },
    {
     "name": "stdout",
     "output_type": "stream",
     "text": [
      "tensor(0.1855)\n"
     ]
    },
    {
     "name": "stdout",
     "output_type": "stream",
     "text": [
      "tensor(0.1855)\n"
     ]
    },
    {
     "name": "stdout",
     "output_type": "stream",
     "text": [
      "tensor(0.1855)\n"
     ]
    },
    {
     "name": "stdout",
     "output_type": "stream",
     "text": [
      "tensor(0.1855)\n"
     ]
    },
    {
     "name": "stdout",
     "output_type": "stream",
     "text": [
      "tensor(0.1855)\n"
     ]
    },
    {
     "name": "stdout",
     "output_type": "stream",
     "text": [
      "tensor(0.1855)\n"
     ]
    },
    {
     "name": "stdout",
     "output_type": "stream",
     "text": [
      "tensor(0.1855)\n"
     ]
    },
    {
     "name": "stdout",
     "output_type": "stream",
     "text": [
      "tensor(0.1855)\n"
     ]
    },
    {
     "name": "stdout",
     "output_type": "stream",
     "text": [
      "tensor(0.1856)\n"
     ]
    },
    {
     "name": "stdout",
     "output_type": "stream",
     "text": [
      "tensor(0.1855)\n"
     ]
    },
    {
     "name": "stdout",
     "output_type": "stream",
     "text": [
      "tensor(0.1856)\n"
     ]
    },
    {
     "name": "stdout",
     "output_type": "stream",
     "text": [
      "tensor(0.1855)\n"
     ]
    },
    {
     "name": "stdout",
     "output_type": "stream",
     "text": [
      "tensor(0.1856)\n"
     ]
    },
    {
     "name": "stdout",
     "output_type": "stream",
     "text": [
      "tensor(0.1855)\n"
     ]
    },
    {
     "name": "stdout",
     "output_type": "stream",
     "text": [
      "tensor(0.1856)\n"
     ]
    },
    {
     "name": "stdout",
     "output_type": "stream",
     "text": [
      "tensor(0.1855)\n"
     ]
    },
    {
     "name": "stdout",
     "output_type": "stream",
     "text": [
      "tensor(0.1857)\n"
     ]
    },
    {
     "name": "stdout",
     "output_type": "stream",
     "text": [
      "tensor(0.1855)\n"
     ]
    },
    {
     "name": "stdout",
     "output_type": "stream",
     "text": [
      "tensor(0.1857)\n"
     ]
    },
    {
     "name": "stdout",
     "output_type": "stream",
     "text": [
      "tensor(0.1855)\n"
     ]
    },
    {
     "name": "stdout",
     "output_type": "stream",
     "text": [
      "tensor(0.1857)\n"
     ]
    },
    {
     "name": "stdout",
     "output_type": "stream",
     "text": [
      "tensor(0.1855)\n"
     ]
    },
    {
     "name": "stdout",
     "output_type": "stream",
     "text": [
      "tensor(0.1857)\n"
     ]
    },
    {
     "name": "stdout",
     "output_type": "stream",
     "text": [
      "tensor(0.1855)\n"
     ]
    },
    {
     "name": "stdout",
     "output_type": "stream",
     "text": [
      "tensor(0.1858)\n"
     ]
    },
    {
     "name": "stdout",
     "output_type": "stream",
     "text": [
      "tensor(0.1855)\n"
     ]
    },
    {
     "name": "stdout",
     "output_type": "stream",
     "text": [
      "tensor(0.1858)\n"
     ]
    },
    {
     "name": "stdout",
     "output_type": "stream",
     "text": [
      "tensor(0.1855)\n"
     ]
    },
    {
     "name": "stdout",
     "output_type": "stream",
     "text": [
      "tensor(0.1858)\n"
     ]
    },
    {
     "name": "stdout",
     "output_type": "stream",
     "text": [
      "tensor(0.1855)\n"
     ]
    },
    {
     "name": "stdout",
     "output_type": "stream",
     "text": [
      "tensor(0.1858)\n"
     ]
    },
    {
     "name": "stdout",
     "output_type": "stream",
     "text": [
      "tensor(0.1856)\n"
     ]
    },
    {
     "name": "stdout",
     "output_type": "stream",
     "text": [
      "tensor(0.1859)\n"
     ]
    },
    {
     "name": "stdout",
     "output_type": "stream",
     "text": [
      "tensor(0.1856)\n"
     ]
    },
    {
     "name": "stdout",
     "output_type": "stream",
     "text": [
      "tensor(0.1859)\n"
     ]
    },
    {
     "name": "stdout",
     "output_type": "stream",
     "text": [
      "tensor(0.1856)\n"
     ]
    },
    {
     "name": "stdout",
     "output_type": "stream",
     "text": [
      "tensor(0.1859)\n"
     ]
    },
    {
     "name": "stdout",
     "output_type": "stream",
     "text": [
      "tensor(0.1856)\n"
     ]
    },
    {
     "name": "stdout",
     "output_type": "stream",
     "text": [
      "tensor(0.1859)\n"
     ]
    },
    {
     "name": "stdout",
     "output_type": "stream",
     "text": [
      "tensor(0.1856)\n"
     ]
    },
    {
     "name": "stdout",
     "output_type": "stream",
     "text": [
      "tensor(0.1860)\n"
     ]
    },
    {
     "name": "stdout",
     "output_type": "stream",
     "text": [
      "tensor(0.1856)\n"
     ]
    },
    {
     "name": "stdout",
     "output_type": "stream",
     "text": [
      "tensor(0.1860)\n"
     ]
    },
    {
     "name": "stdout",
     "output_type": "stream",
     "text": [
      "tensor(0.1856)\n"
     ]
    },
    {
     "name": "stdout",
     "output_type": "stream",
     "text": [
      "tensor(0.1861)\n"
     ]
    },
    {
     "name": "stdout",
     "output_type": "stream",
     "text": [
      "tensor(0.1856)\n"
     ]
    },
    {
     "name": "stdout",
     "output_type": "stream",
     "text": [
      "tensor(0.1861)\n"
     ]
    },
    {
     "name": "stdout",
     "output_type": "stream",
     "text": [
      "tensor(0.1856)\n"
     ]
    },
    {
     "name": "stdout",
     "output_type": "stream",
     "text": [
      "tensor(0.1861)\n"
     ]
    },
    {
     "name": "stdout",
     "output_type": "stream",
     "text": [
      "tensor(0.1856)\n"
     ]
    },
    {
     "name": "stdout",
     "output_type": "stream",
     "text": [
      "tensor(0.1862)\n"
     ]
    },
    {
     "name": "stdout",
     "output_type": "stream",
     "text": [
      "tensor(0.1857)\n"
     ]
    },
    {
     "name": "stdout",
     "output_type": "stream",
     "text": [
      "tensor(0.1862)\n"
     ]
    },
    {
     "name": "stdout",
     "output_type": "stream",
     "text": [
      "tensor(0.1857)\n"
     ]
    },
    {
     "name": "stdout",
     "output_type": "stream",
     "text": [
      "tensor(0.1863)\n"
     ]
    },
    {
     "name": "stdout",
     "output_type": "stream",
     "text": [
      "tensor(0.1857)\n"
     ]
    },
    {
     "name": "stdout",
     "output_type": "stream",
     "text": [
      "tensor(0.1863)\n"
     ]
    },
    {
     "name": "stdout",
     "output_type": "stream",
     "text": [
      "tensor(0.1857)\n"
     ]
    },
    {
     "name": "stdout",
     "output_type": "stream",
     "text": [
      "tensor(0.1864)\n"
     ]
    },
    {
     "name": "stdout",
     "output_type": "stream",
     "text": [
      "tensor(0.1857)\n"
     ]
    },
    {
     "name": "stdout",
     "output_type": "stream",
     "text": [
      "tensor(0.1864)\n"
     ]
    },
    {
     "name": "stdout",
     "output_type": "stream",
     "text": [
      "tensor(0.1857)\n"
     ]
    },
    {
     "name": "stdout",
     "output_type": "stream",
     "text": [
      "tensor(0.1864)\n"
     ]
    },
    {
     "name": "stdout",
     "output_type": "stream",
     "text": [
      "tensor(0.1857)\n"
     ]
    },
    {
     "name": "stdout",
     "output_type": "stream",
     "text": [
      "tensor(0.1865)\n"
     ]
    },
    {
     "name": "stdout",
     "output_type": "stream",
     "text": [
      "tensor(0.1858)\n"
     ]
    },
    {
     "name": "stdout",
     "output_type": "stream",
     "text": [
      "tensor(0.1865)\n"
     ]
    },
    {
     "name": "stdout",
     "output_type": "stream",
     "text": [
      "tensor(0.1858)\n"
     ]
    },
    {
     "name": "stdout",
     "output_type": "stream",
     "text": [
      "tensor(0.1866)\n"
     ]
    },
    {
     "name": "stdout",
     "output_type": "stream",
     "text": [
      "tensor(0.1858)\n"
     ]
    },
    {
     "name": "stdout",
     "output_type": "stream",
     "text": [
      "tensor(0.1866)\n"
     ]
    },
    {
     "name": "stdout",
     "output_type": "stream",
     "text": [
      "tensor(0.1858)\n"
     ]
    },
    {
     "name": "stdout",
     "output_type": "stream",
     "text": [
      "tensor(0.1866)\n"
     ]
    },
    {
     "name": "stdout",
     "output_type": "stream",
     "text": [
      "tensor(0.1858)\n"
     ]
    },
    {
     "name": "stdout",
     "output_type": "stream",
     "text": [
      "tensor(0.1867)\n"
     ]
    },
    {
     "name": "stdout",
     "output_type": "stream",
     "text": [
      "tensor(0.1858)\n"
     ]
    },
    {
     "name": "stdout",
     "output_type": "stream",
     "text": [
      "tensor(0.1867)\n"
     ]
    },
    {
     "name": "stdout",
     "output_type": "stream",
     "text": [
      "tensor(0.1858)\n"
     ]
    },
    {
     "name": "stdout",
     "output_type": "stream",
     "text": [
      "tensor(0.1867)\n"
     ]
    },
    {
     "name": "stdout",
     "output_type": "stream",
     "text": [
      "tensor(0.1858)\n"
     ]
    },
    {
     "name": "stdout",
     "output_type": "stream",
     "text": [
      "tensor(0.1867)\n"
     ]
    },
    {
     "name": "stdout",
     "output_type": "stream",
     "text": [
      "tensor(0.1859)\n"
     ]
    },
    {
     "name": "stdout",
     "output_type": "stream",
     "text": [
      "tensor(0.1868)\n"
     ]
    },
    {
     "name": "stdout",
     "output_type": "stream",
     "text": [
      "tensor(0.1859)\n"
     ]
    },
    {
     "name": "stdout",
     "output_type": "stream",
     "text": [
      "tensor(0.1868)\n"
     ]
    },
    {
     "name": "stdout",
     "output_type": "stream",
     "text": [
      "tensor(0.1859)\n"
     ]
    },
    {
     "name": "stdout",
     "output_type": "stream",
     "text": [
      "tensor(0.1868)\n"
     ]
    },
    {
     "name": "stdout",
     "output_type": "stream",
     "text": [
      "tensor(0.1859)\n"
     ]
    },
    {
     "name": "stdout",
     "output_type": "stream",
     "text": [
      "tensor(0.1868)\n"
     ]
    },
    {
     "name": "stdout",
     "output_type": "stream",
     "text": [
      "tensor(0.1859)\n"
     ]
    },
    {
     "name": "stdout",
     "output_type": "stream",
     "text": [
      "tensor(0.1868)\n"
     ]
    },
    {
     "name": "stdout",
     "output_type": "stream",
     "text": [
      "tensor(0.1859)\n"
     ]
    },
    {
     "name": "stdout",
     "output_type": "stream",
     "text": [
      "tensor(0.1868)\n"
     ]
    },
    {
     "name": "stdout",
     "output_type": "stream",
     "text": [
      "tensor(0.1859)\n"
     ]
    },
    {
     "name": "stdout",
     "output_type": "stream",
     "text": [
      "tensor(0.1868)\n"
     ]
    },
    {
     "name": "stdout",
     "output_type": "stream",
     "text": [
      "tensor(0.1859)\n"
     ]
    },
    {
     "name": "stdout",
     "output_type": "stream",
     "text": [
      "tensor(0.1868)\n"
     ]
    },
    {
     "name": "stdout",
     "output_type": "stream",
     "text": [
      "tensor(0.1859)\n"
     ]
    },
    {
     "name": "stdout",
     "output_type": "stream",
     "text": [
      "tensor(0.1868)\n"
     ]
    },
    {
     "name": "stdout",
     "output_type": "stream",
     "text": [
      "tensor(0.1859)\n"
     ]
    },
    {
     "name": "stdout",
     "output_type": "stream",
     "text": [
      "tensor(0.1868)\n"
     ]
    },
    {
     "name": "stdout",
     "output_type": "stream",
     "text": [
      "tensor(0.1859)\n"
     ]
    },
    {
     "name": "stdout",
     "output_type": "stream",
     "text": [
      "tensor(0.1868)\n"
     ]
    },
    {
     "name": "stdout",
     "output_type": "stream",
     "text": [
      "tensor(0.1859)\n"
     ]
    },
    {
     "name": "stdout",
     "output_type": "stream",
     "text": [
      "tensor(0.1868)\n"
     ]
    },
    {
     "name": "stdout",
     "output_type": "stream",
     "text": [
      "tensor(0.1859)\n"
     ]
    },
    {
     "name": "stdout",
     "output_type": "stream",
     "text": [
      "tensor(0.1868)\n"
     ]
    },
    {
     "name": "stdout",
     "output_type": "stream",
     "text": [
      "tensor(0.1859)\n"
     ]
    },
    {
     "name": "stdout",
     "output_type": "stream",
     "text": [
      "tensor(0.1868)\n"
     ]
    },
    {
     "name": "stdout",
     "output_type": "stream",
     "text": [
      "tensor(0.1859)\n"
     ]
    },
    {
     "name": "stdout",
     "output_type": "stream",
     "text": [
      "tensor(0.1868)\n"
     ]
    },
    {
     "name": "stdout",
     "output_type": "stream",
     "text": [
      "tensor(0.1859)\n"
     ]
    },
    {
     "name": "stdout",
     "output_type": "stream",
     "text": [
      "tensor(0.1867)\n"
     ]
    },
    {
     "name": "stdout",
     "output_type": "stream",
     "text": [
      "tensor(0.1859)\n"
     ]
    },
    {
     "name": "stdout",
     "output_type": "stream",
     "text": [
      "tensor(0.1867)\n"
     ]
    },
    {
     "name": "stdout",
     "output_type": "stream",
     "text": [
      "tensor(0.1859)\n"
     ]
    },
    {
     "name": "stdout",
     "output_type": "stream",
     "text": [
      "tensor(0.1867)\n"
     ]
    },
    {
     "name": "stdout",
     "output_type": "stream",
     "text": [
      "tensor(0.1859)\n"
     ]
    },
    {
     "name": "stdout",
     "output_type": "stream",
     "text": [
      "tensor(0.1867)\n"
     ]
    },
    {
     "name": "stdout",
     "output_type": "stream",
     "text": [
      "tensor(0.1859)\n"
     ]
    },
    {
     "name": "stdout",
     "output_type": "stream",
     "text": [
      "tensor(0.1867)\n"
     ]
    },
    {
     "name": "stdout",
     "output_type": "stream",
     "text": [
      "tensor(0.1859)\n"
     ]
    },
    {
     "name": "stdout",
     "output_type": "stream",
     "text": [
      "tensor(0.1866)\n"
     ]
    },
    {
     "name": "stdout",
     "output_type": "stream",
     "text": [
      "tensor(0.1859)\n"
     ]
    },
    {
     "name": "stdout",
     "output_type": "stream",
     "text": [
      "tensor(0.1866)\n"
     ]
    },
    {
     "name": "stdout",
     "output_type": "stream",
     "text": [
      "tensor(0.1859)\n"
     ]
    },
    {
     "name": "stdout",
     "output_type": "stream",
     "text": [
      "tensor(0.1866)\n"
     ]
    },
    {
     "name": "stdout",
     "output_type": "stream",
     "text": [
      "tensor(0.1859)\n"
     ]
    },
    {
     "name": "stdout",
     "output_type": "stream",
     "text": [
      "tensor(0.1865)\n"
     ]
    },
    {
     "name": "stdout",
     "output_type": "stream",
     "text": [
      "tensor(0.1859)\n"
     ]
    },
    {
     "name": "stdout",
     "output_type": "stream",
     "text": [
      "tensor(0.1865)\n"
     ]
    },
    {
     "name": "stdout",
     "output_type": "stream",
     "text": [
      "tensor(0.1859)\n"
     ]
    },
    {
     "name": "stdout",
     "output_type": "stream",
     "text": [
      "tensor(0.1865)\n"
     ]
    },
    {
     "name": "stdout",
     "output_type": "stream",
     "text": [
      "tensor(0.1859)\n"
     ]
    },
    {
     "name": "stdout",
     "output_type": "stream",
     "text": [
      "tensor(0.1864)\n"
     ]
    },
    {
     "name": "stdout",
     "output_type": "stream",
     "text": [
      "tensor(0.1859)\n"
     ]
    },
    {
     "name": "stdout",
     "output_type": "stream",
     "text": [
      "tensor(0.1864)\n"
     ]
    },
    {
     "name": "stdout",
     "output_type": "stream",
     "text": [
      "tensor(0.1859)\n"
     ]
    },
    {
     "name": "stdout",
     "output_type": "stream",
     "text": [
      "tensor(0.1864)\n"
     ]
    },
    {
     "name": "stdout",
     "output_type": "stream",
     "text": [
      "tensor(0.1859)\n"
     ]
    },
    {
     "name": "stdout",
     "output_type": "stream",
     "text": [
      "tensor(0.1863)\n"
     ]
    },
    {
     "name": "stdout",
     "output_type": "stream",
     "text": [
      "tensor(0.1859)\n"
     ]
    },
    {
     "name": "stdout",
     "output_type": "stream",
     "text": [
      "tensor(0.1863)\n"
     ]
    },
    {
     "name": "stdout",
     "output_type": "stream",
     "text": [
      "tensor(0.1858)\n"
     ]
    },
    {
     "name": "stdout",
     "output_type": "stream",
     "text": [
      "tensor(0.1862)\n"
     ]
    },
    {
     "name": "stdout",
     "output_type": "stream",
     "text": [
      "tensor(0.1858)\n"
     ]
    },
    {
     "name": "stdout",
     "output_type": "stream",
     "text": [
      "tensor(0.1862)\n"
     ]
    },
    {
     "name": "stdout",
     "output_type": "stream",
     "text": [
      "tensor(0.1858)\n"
     ]
    },
    {
     "name": "stdout",
     "output_type": "stream",
     "text": [
      "tensor(0.1862)\n"
     ]
    },
    {
     "name": "stdout",
     "output_type": "stream",
     "text": [
      "tensor(0.1858)\n"
     ]
    },
    {
     "name": "stdout",
     "output_type": "stream",
     "text": [
      "tensor(0.1861)\n"
     ]
    },
    {
     "name": "stdout",
     "output_type": "stream",
     "text": [
      "tensor(0.1858)\n"
     ]
    },
    {
     "name": "stdout",
     "output_type": "stream",
     "text": [
      "tensor(0.1861)\n"
     ]
    },
    {
     "name": "stdout",
     "output_type": "stream",
     "text": [
      "tensor(0.1858)\n"
     ]
    },
    {
     "name": "stdout",
     "output_type": "stream",
     "text": [
      "tensor(0.1861)\n"
     ]
    },
    {
     "name": "stdout",
     "output_type": "stream",
     "text": [
      "tensor(0.1858)\n"
     ]
    },
    {
     "name": "stdout",
     "output_type": "stream",
     "text": [
      "tensor(0.1860)\n"
     ]
    },
    {
     "name": "stdout",
     "output_type": "stream",
     "text": [
      "tensor(0.1858)\n"
     ]
    },
    {
     "name": "stdout",
     "output_type": "stream",
     "text": [
      "tensor(0.1860)\n"
     ]
    },
    {
     "name": "stdout",
     "output_type": "stream",
     "text": [
      "tensor(0.1858)\n"
     ]
    },
    {
     "name": "stdout",
     "output_type": "stream",
     "text": [
      "tensor(0.1860)\n"
     ]
    },
    {
     "name": "stdout",
     "output_type": "stream",
     "text": [
      "[tensor([]), tensor([-0.0136,  0.0135])]\n",
      "[tensor([]), tensor([-0.0136,  0.0134])]\n",
      "[tensor([]), tensor([-0.0136,  0.0134])]\n",
      "[tensor([]), tensor([-0.0137,  0.0134])]\n",
      "[tensor([]), tensor([-0.0137,  0.0134])]\n",
      "[tensor([]), tensor([-0.0137,  0.0134])]\n",
      "[tensor([]), tensor([-0.0137,  0.0133])]\n",
      "[tensor([]), tensor([-0.0137,  0.0133])]\n",
      "[tensor([]), tensor([-0.0138,  0.0133])]\n",
      "[tensor([]), tensor([-0.0138,  0.0133])]\n",
      "[tensor([]), tensor([-0.0138,  0.0132])]\n",
      "[tensor([]), tensor([-0.0138,  0.0132])]\n",
      "[tensor([]), tensor([-0.0139,  0.0132])]\n",
      "[tensor([]), tensor([-0.0139,  0.0132])]\n",
      "[tensor([]), tensor([-0.0139,  0.0132])]\n",
      "[tensor([]), tensor([-0.0139,  0.0131])]\n",
      "[tensor([]), tensor([-0.0139,  0.0131])]\n",
      "[tensor([]), tensor([-0.0140,  0.0131])]\n",
      "[tensor([]), tensor([-0.0140,  0.0131])]\n",
      "[tensor([]), tensor([-0.0140,  0.0130])]\n",
      "[tensor([]), tensor([-0.0140,  0.0130])]\n",
      "[tensor([]), tensor([-0.0140,  0.0130])]\n",
      "[tensor([]), tensor([-0.0141,  0.0130])]\n",
      "[tensor([]), tensor([-0.0141,  0.0130])]\n",
      "[tensor([]), tensor([-0.0141,  0.0129])]\n",
      "[tensor([]), tensor([-0.0141,  0.0129])]\n",
      "[tensor([]), tensor([-0.0142,  0.0129])]\n",
      "[tensor([]), tensor([-0.0142,  0.0129])]\n",
      "[tensor([]), tensor([-0.0142,  0.0128])]\n",
      "[tensor([]), tensor([-0.0142,  0.0128])]\n",
      "[tensor([]), tensor([-0.0142,  0.0128])]\n",
      "[tensor([]), tensor([-0.0143,  0.0128])]\n",
      "[tensor([]), tensor([-0.0143,  0.0128])]\n",
      "[tensor([]), tensor([-0.0143,  0.0127])]\n",
      "[tensor([]), tensor([-0.0143,  0.0127])]\n",
      "[tensor([]), tensor([-0.0144,  0.0127])]\n",
      "[tensor([]), tensor([-0.0144,  0.0127])]\n",
      "[tensor([]), tensor([-0.0144,  0.0126])]\n",
      "[tensor([]), tensor([-0.0144,  0.0126])]\n",
      "[tensor([]), tensor([-0.0144,  0.0126])]\n",
      "[tensor([]), tensor([-0.0145,  0.0126])]\n",
      "[tensor([]), tensor([-0.0145,  0.0126])]\n",
      "[tensor([]), tensor([-0.0145,  0.0125])]\n",
      "[tensor([]), tensor([-0.0145,  0.0125])]\n",
      "[tensor([]), tensor([-0.0146,  0.0125])]\n",
      "[tensor([]), tensor([-0.0146,  0.0125])]\n",
      "[tensor([]), tensor([-0.0146,  0.0124])]\n",
      "[tensor([]), tensor([-0.0146,  0.0124])]\n",
      "[tensor([]), tensor([-0.0146,  0.0124])]\n",
      "[tensor([]), tensor([-0.0147,  0.0124])]\n",
      "[tensor([]), tensor([-0.0147,  0.0124])]\n",
      "[tensor([]), tensor([-0.0147,  0.0123])]\n",
      "[tensor([]), tensor([-0.0147,  0.0123])]\n",
      "[tensor([]), tensor([-0.0147,  0.0123])]\n",
      "[tensor([]), tensor([-0.0148,  0.0123])]\n",
      "[tensor([]), tensor([-0.0148,  0.0122])]\n",
      "[tensor([]), tensor([-0.0148,  0.0122])]\n",
      "[tensor([]), tensor([-0.0148,  0.0122])]\n",
      "[tensor([]), tensor([-0.0149,  0.0122])]\n",
      "[tensor([]), tensor([-0.0149,  0.0122])]\n",
      "[tensor([]), tensor([-0.0149,  0.0121])]\n",
      "[tensor([]), tensor([-0.0149,  0.0121])]\n",
      "[tensor([]), tensor([-0.0149,  0.0121])]\n",
      "[tensor([]), tensor([-0.0150,  0.0121])]\n",
      "[tensor([]), tensor([-0.0150,  0.0120])]\n",
      "[tensor([]), tensor([-0.0150,  0.0120])]\n",
      "[tensor([]), tensor([-0.0150,  0.0120])]\n",
      "[tensor([]), tensor([-0.0151,  0.0120])]\n",
      "[tensor([]), tensor([-0.0151,  0.0120])]\n",
      "[tensor([]), tensor([-0.0151,  0.0119])]\n",
      "[tensor([]), tensor([-0.0151,  0.0119])]\n",
      "[tensor([]), tensor([-0.0152,  0.0119])]\n",
      "[tensor([]), tensor([-0.0152,  0.0119])]\n",
      "[tensor([]), tensor([-0.0152,  0.0119])]\n",
      "[tensor([]), tensor([-0.0152,  0.0118])]\n",
      "[tensor([]), tensor([-0.0153,  0.0118])]\n",
      "[tensor([]), tensor([-0.0153,  0.0118])]\n",
      "[tensor([]), tensor([-0.0153,  0.0118])]\n",
      "[tensor([]), tensor([-0.0153,  0.0118])]\n",
      "[tensor([]), tensor([-0.0154,  0.0118])]\n",
      "[tensor([]), tensor([-0.0154,  0.0117])]\n",
      "[tensor([]), tensor([-0.0154,  0.0117])]\n",
      "[tensor([]), tensor([-0.0154,  0.0117])]\n",
      "[tensor([]), tensor([-0.0155,  0.0117])]\n",
      "[tensor([]), tensor([-0.0155,  0.0117])]\n",
      "[tensor([]), tensor([-0.0155,  0.0117])]\n",
      "[tensor([]), tensor([-0.0156,  0.0116])]\n",
      "[tensor([]), tensor([-0.0156,  0.0116])]\n",
      "[tensor([]), tensor([-0.0156,  0.0116])]\n",
      "[tensor([]), tensor([-0.0157,  0.0116])]\n",
      "[tensor([]), tensor([-0.0157,  0.0116])]\n",
      "[tensor([]), tensor([-0.0158,  0.0116])]\n",
      "[tensor([]), tensor([-0.0158,  0.0116])]\n",
      "[tensor([]), tensor([-0.0158,  0.0116])]\n",
      "[tensor([]), tensor([-0.0159,  0.0116])]\n",
      "[tensor([]), tensor([-0.0159,  0.0116])]\n",
      "[tensor([]), tensor([-0.0160,  0.0116])]\n",
      "[tensor([]), tensor([-0.0160,  0.0116])]\n",
      "[tensor([]), tensor([-0.0161,  0.0116])]\n",
      "[tensor([]), tensor([-0.0162,  0.0117])]\n",
      "[tensor([]), tensor([-0.0162,  0.0117])]\n",
      "[tensor([]), tensor([-0.0163,  0.0117])]\n",
      "[tensor([]), tensor([-0.0164,  0.0117])]\n",
      "[tensor([]), tensor([-0.0164,  0.0117])]\n",
      "[tensor([]), tensor([-0.0165,  0.0118])]\n",
      "[tensor([]), tensor([-0.0166,  0.0118])]\n",
      "[tensor([]), tensor([-0.0167,  0.0119])]\n",
      "[tensor([]), tensor([-0.0168,  0.0119])]\n",
      "[tensor([]), tensor([-0.0168,  0.0119])]\n",
      "[tensor([]), tensor([-0.0169,  0.0120])]\n",
      "[tensor([]), tensor([-0.0170,  0.0120])]\n",
      "[tensor([]), tensor([-0.0171,  0.0121])]\n",
      "[tensor([]), tensor([-0.0172,  0.0121])]\n",
      "[tensor([]), tensor([-0.0173,  0.0122])]\n",
      "[tensor([]), tensor([-0.0174,  0.0122])]\n",
      "[tensor([]), tensor([-0.0175,  0.0123])]\n",
      "[tensor([]), tensor([-0.0176,  0.0124])]\n",
      "[tensor([]), tensor([-0.0177,  0.0124])]\n",
      "[tensor([]), tensor([-0.0178,  0.0125])]\n",
      "[tensor([]), tensor([-0.0179,  0.0126])]\n",
      "[tensor([]), tensor([-0.0181,  0.0126])]\n",
      "[tensor([]), tensor([-0.0182,  0.0127])]\n",
      "[tensor([]), tensor([-0.0183,  0.0127])]\n",
      "[tensor([]), tensor([-0.0184,  0.0128])]\n",
      "[tensor([]), tensor([-0.0185,  0.0129])]\n",
      "[tensor([]), tensor([-0.0186,  0.0129])]\n",
      "[tensor([]), tensor([-0.0187,  0.0130])]\n",
      "[tensor([]), tensor([-0.0188,  0.0131])]\n",
      "[tensor([]), tensor([-0.0189,  0.0131])]\n",
      "[tensor([]), tensor([-0.0190,  0.0132])]\n",
      "[tensor([]), tensor([-0.0190,  0.0132])]\n",
      "[tensor([]), tensor([-0.0191,  0.0133])]\n",
      "[tensor([]), tensor([-0.0192,  0.0134])]\n",
      "[tensor([]), tensor([-0.0193,  0.0134])]\n",
      "[tensor([]), tensor([-0.0194,  0.0135])]\n",
      "[tensor([]), tensor([-0.0195,  0.0135])]\n",
      "[tensor([]), tensor([-0.0196,  0.0136])]\n",
      "[tensor([]), tensor([-0.0197,  0.0137])]\n",
      "[tensor([]), tensor([-0.0197,  0.0137])]\n",
      "[tensor([]), tensor([-0.0198,  0.0138])]\n",
      "[tensor([]), tensor([-0.0199,  0.0138])]\n",
      "[tensor([]), tensor([-0.0200,  0.0139])]\n",
      "[tensor([]), tensor([-0.0201,  0.0140])]\n",
      "[tensor([]), tensor([-0.0201,  0.0140])]\n",
      "[tensor([]), tensor([-0.0202,  0.0141])]\n",
      "[tensor([]), tensor([-0.0203,  0.0141])]\n",
      "[tensor([]), tensor([-0.0204,  0.0142])]\n",
      "[tensor([]), tensor([-0.0204,  0.0143])]\n",
      "[tensor([]), tensor([-0.0205,  0.0143])]\n",
      "[tensor([]), tensor([-0.0206,  0.0144])]\n",
      "[tensor([]), tensor([-0.0206,  0.0144])]\n",
      "[tensor([]), tensor([-0.0207,  0.0145])]\n",
      "[tensor([]), tensor([-0.0208,  0.0146])]\n",
      "[tensor([]), tensor([-0.0208,  0.0146])]\n",
      "[tensor([]), tensor([-0.0209,  0.0147])]\n",
      "[tensor([]), tensor([-0.0210,  0.0148])]\n",
      "[tensor([]), tensor([-0.0210,  0.0149])]\n",
      "[tensor([]), tensor([-0.0211,  0.0149])]\n",
      "[tensor([]), tensor([-0.0211,  0.0150])]\n",
      "[tensor([]), tensor([-0.0212,  0.0151])]\n",
      "[tensor([]), tensor([-0.0213,  0.0152])]\n",
      "[tensor([]), tensor([-0.0213,  0.0152])]\n",
      "[tensor([]), tensor([-0.0214,  0.0153])]\n",
      "[tensor([]), tensor([-0.0214,  0.0154])]\n",
      "[tensor([]), tensor([-0.0215,  0.0155])]\n",
      "[tensor([]), tensor([-0.0215,  0.0156])]\n",
      "[tensor([]), tensor([-0.0216,  0.0157])]\n",
      "[tensor([]), tensor([-0.0216,  0.0158])]\n",
      "[tensor([]), tensor([-0.0217,  0.0159])]\n",
      "[tensor([]), tensor([-0.0217,  0.0160])]\n",
      "[tensor([]), tensor([-0.0218,  0.0161])]\n",
      "[tensor([]), tensor([-0.0218,  0.0162])]\n",
      "[tensor([]), tensor([-0.0218,  0.0163])]\n",
      "[tensor([]), tensor([-0.0219,  0.0164])]\n",
      "[tensor([]), tensor([-0.0219,  0.0165])]\n",
      "[tensor([]), tensor([-0.0219,  0.0166])]\n",
      "[tensor([]), tensor([-0.0220,  0.0167])]\n",
      "[tensor([]), tensor([-0.0220,  0.0168])]\n",
      "[tensor([]), tensor([-0.0220,  0.0169])]\n",
      "[tensor([]), tensor([-0.0220,  0.0171])]\n",
      "[tensor([]), tensor([-0.0220,  0.0172])]\n",
      "[tensor([]), tensor([-0.0221,  0.0173])]\n",
      "[tensor([]), tensor([-0.0221,  0.0174])]\n",
      "[tensor([]), tensor([-0.0221,  0.0176])]\n",
      "[tensor([]), tensor([-0.0221,  0.0177])]\n",
      "[tensor([]), tensor([-0.0221,  0.0178])]\n",
      "[tensor([]), tensor([-0.0221,  0.0180])]\n",
      "[tensor([]), tensor([-0.0221,  0.0181])]\n",
      "[tensor([]), tensor([-0.0221,  0.0183])]\n",
      "[tensor([]), tensor([-0.0221,  0.0184])]\n",
      "[tensor([]), tensor([-0.0220,  0.0186])]\n",
      "[tensor([]), tensor([-0.0220,  0.0188])]\n",
      "[tensor([]), tensor([-0.0220,  0.0189])]\n",
      "[tensor([]), tensor([-0.0220,  0.0191])]\n",
      "[tensor([]), tensor([-0.0219,  0.0193])]\n",
      "[tensor([]), tensor([-0.0219,  0.0195])]\n",
      "[tensor([]), tensor([-0.0218,  0.0196])]\n",
      "[tensor([]), tensor([-0.0218,  0.0198])]\n",
      "[tensor([]), tensor([-0.0217,  0.0200])]\n",
      "[tensor([]), tensor([-0.0217,  0.0202])]\n",
      "[tensor([]), tensor([-0.0216,  0.0204])]\n",
      "[tensor([]), tensor([-0.0215,  0.0206])]\n",
      "[tensor([]), tensor([-0.0214,  0.0209])]\n",
      "[tensor([]), tensor([-0.0214,  0.0211])]\n",
      "[tensor([]), tensor([-0.0213,  0.0213])]\n",
      "[tensor([]), tensor([-0.0212,  0.0215])]\n",
      "[tensor([]), tensor([-0.0211,  0.0218])]\n",
      "[tensor([]), tensor([-0.0210,  0.0220])]\n",
      "[tensor([]), tensor([-0.0208,  0.0223])]\n",
      "[tensor([]), tensor([-0.0207,  0.0225])]\n",
      "[tensor([]), tensor([-0.0206,  0.0228])]\n",
      "[tensor([]), tensor([-0.0204,  0.0231])]\n",
      "[tensor([]), tensor([-0.0203,  0.0233])]\n",
      "[tensor([]), tensor([-0.0201,  0.0236])]\n",
      "[tensor([]), tensor([-0.0200,  0.0239])]\n",
      "[tensor([]), tensor([-0.0198,  0.0242])]\n",
      "[tensor([]), tensor([-0.0196,  0.0245])]\n",
      "[tensor([]), tensor([-0.0194,  0.0248])]\n",
      "[tensor([]), tensor([-0.0192,  0.0252])]\n",
      "[tensor([]), tensor([-0.0190,  0.0255])]\n",
      "[tensor([]), tensor([-0.0188,  0.0258])]\n",
      "[tensor([]), tensor([-0.0185,  0.0262])]\n",
      "[tensor([]), tensor([-0.0183,  0.0266])]\n",
      "[tensor([]), tensor([-0.0180,  0.0269])]\n",
      "[tensor([]), tensor([-0.0177,  0.0273])]\n",
      "[tensor([]), tensor([-0.0175,  0.0277])]\n",
      "[tensor([]), tensor([-0.0172,  0.0281])]\n",
      "[tensor([]), tensor([-0.0169,  0.0285])]\n",
      "[tensor([]), tensor([-0.0165,  0.0289])]\n",
      "[tensor([]), tensor([-0.0162,  0.0293])]\n",
      "[tensor([]), tensor([-0.0158,  0.0297])]\n",
      "[tensor([]), tensor([-0.0155,  0.0302])]\n",
      "[tensor([]), tensor([-0.0151,  0.0306])]\n",
      "[tensor([]), tensor([-0.0147,  0.0311])]\n",
      "[tensor([]), tensor([-0.0143,  0.0315])]\n",
      "[tensor([]), tensor([-0.0139,  0.0320])]\n",
      "[tensor([]), tensor([-0.0134,  0.0325])]\n",
      "[tensor([]), tensor([-0.0130,  0.0330])]\n",
      "[tensor([]), tensor([-0.0125,  0.0335])]\n",
      "[tensor([]), tensor([-0.0120,  0.0340])]\n",
      "[tensor([]), tensor([-0.0115,  0.0345])]\n",
      "[tensor([]), tensor([-0.0109,  0.0351])]\n",
      "[tensor([]), tensor([-0.0104,  0.0356])]\n",
      "[tensor([]), tensor([-0.0098,  0.0361])]\n",
      "[tensor([]), tensor([-0.0092,  0.0367])]\n",
      "[tensor([]), tensor([-0.0086,  0.0373])]\n",
      "[tensor([]), tensor([-0.0079,  0.0378])]\n",
      "[tensor([]), tensor([-0.0073,  0.0384])]\n",
      "[tensor([]), tensor([-0.0066,  0.0390])]\n",
      "[tensor([]), tensor([-0.0059,  0.0396])]\n",
      "[tensor([]), tensor([-0.0051,  0.0402])]\n",
      "[tensor([]), tensor([-0.0044,  0.0407])]\n",
      "[tensor([]), tensor([-0.0036,  0.0414])]\n",
      "[tensor([]), tensor([-0.0028,  0.0420])]\n",
      "[tensor([]), tensor([-0.0019,  0.0426])]\n",
      "[tensor([]), tensor([-0.0011,  0.0432])]\n",
      "[tensor([]), tensor([-0.0002,  0.0438])]\n",
      "[tensor([]), tensor([0.0007, 0.0444])]\n",
      "[tensor([]), tensor([0.0016, 0.0450])]\n",
      "[tensor([]), tensor([0.0026, 0.0456])]\n",
      "[tensor([]), tensor([0.0036, 0.0462])]\n",
      "[tensor([]), tensor([0.0046, 0.0468])]\n",
      "[tensor([]), tensor([0.0056, 0.0473])]\n",
      "[tensor([]), tensor([0.0067, 0.0479])]\n",
      "[tensor([]), tensor([0.0078, 0.0485])]\n",
      "[tensor([]), tensor([0.0089, 0.0490])]\n",
      "[tensor([]), tensor([0.0100, 0.0496])]\n",
      "[tensor([]), tensor([0.0112, 0.0501])]\n",
      "[tensor([]), tensor([0.0124, 0.0506])]\n",
      "[tensor([]), tensor([0.0135, 0.0511])]\n",
      "[tensor([]), tensor([0.0148, 0.0515])]\n",
      "[tensor([]), tensor([0.0160, 0.0520])]\n",
      "[tensor([]), tensor([0.0173, 0.0524])]\n",
      "[tensor([]), tensor([0.0185, 0.0528])]\n",
      "[tensor([]), tensor([0.0198, 0.0531])]\n",
      "[tensor([]), tensor([0.0211, 0.0535])]\n",
      "[tensor([]), tensor([0.0225, 0.0537])]\n",
      "[tensor([]), tensor([0.0238, 0.0540])]\n",
      "[tensor([]), tensor([0.0251, 0.0542])]\n",
      "[tensor([]), tensor([0.0265, 0.0544])]\n",
      "[tensor([]), tensor([0.0278, 0.0545])]\n",
      "[tensor([]), tensor([0.0291, 0.0546])]\n",
      "[tensor([]), tensor([0.0305, 0.0546])]\n",
      "[tensor([]), tensor([0.0318, 0.0547])]\n",
      "[tensor([]), tensor([0.0331, 0.0546])]\n",
      "[tensor([]), tensor([0.0345, 0.0545])]\n",
      "[tensor([]), tensor([0.0357, 0.0543])]\n",
      "[tensor([]), tensor([0.0370, 0.0541])]\n",
      "[tensor([]), tensor([0.0383, 0.0538])]\n",
      "[tensor([]), tensor([0.0395, 0.0535])]\n",
      "[tensor([]), tensor([0.0407, 0.0531])]\n",
      "[tensor([]), tensor([0.0419, 0.0527])]\n",
      "[tensor([]), tensor([0.0431, 0.0522])]\n",
      "[tensor([]), tensor([0.0442, 0.0516])]\n",
      "[tensor([]), tensor([0.0453, 0.0510])]\n",
      "[tensor([]), tensor([0.0463, 0.0504])]\n",
      "[tensor([]), tensor([0.0473, 0.0496])]\n",
      "[tensor([]), tensor([0.0483, 0.0489])]\n",
      "[tensor([]), tensor([0.0491, 0.0480])]\n",
      "[tensor([]), tensor([0.0500, 0.0471])]\n",
      "[tensor([]), tensor([0.0508, 0.0462])]\n",
      "[tensor([]), tensor([0.0516, 0.0452])]\n",
      "[tensor([]), tensor([0.0522, 0.0442])]\n",
      "[tensor([]), tensor([0.0529, 0.0432])]\n",
      "[tensor([]), tensor([0.0534, 0.0420])]\n",
      "[tensor([]), tensor([0.0540, 0.0409])]\n",
      "[tensor([]), tensor([0.0544, 0.0397])]\n",
      "[tensor([]), tensor([0.0548, 0.0386])]\n",
      "[tensor([]), tensor([0.0551, 0.0373])]\n",
      "[tensor([]), tensor([0.0554, 0.0361])]\n",
      "[tensor([]), tensor([0.0556, 0.0348])]\n",
      "[tensor([]), tensor([0.0558, 0.0335])]\n",
      "[tensor([]), tensor([0.0559, 0.0321])]\n",
      "[tensor([]), tensor([0.0560, 0.0308])]\n",
      "[tensor([]), tensor([0.0559, 0.0295])]\n",
      "[tensor([]), tensor([0.0559, 0.0282])]\n",
      "[tensor([]), tensor([0.0558, 0.0268])]\n",
      "[tensor([]), tensor([0.0556, 0.0255])]\n",
      "[tensor([]), tensor([0.0554, 0.0241])]\n",
      "[tensor([]), tensor([0.0552, 0.0228])]\n",
      "[tensor([]), tensor([0.0549, 0.0214])]\n",
      "[tensor([]), tensor([0.0546, 0.0201])]\n",
      "[tensor([]), tensor([0.0542, 0.0187])]\n",
      "[tensor([]), tensor([0.0539, 0.0175])]\n",
      "[tensor([]), tensor([0.0534, 0.0161])]\n",
      "[tensor([]), tensor([0.0530, 0.0149])]\n",
      "[tensor([]), tensor([0.0525, 0.0136])]\n",
      "[tensor([]), tensor([0.0520, 0.0124])]\n",
      "[tensor([]), tensor([0.0515, 0.0111])]\n",
      "[tensor([]), tensor([0.0509, 0.0099])]\n",
      "[tensor([]), tensor([0.0503, 0.0087])]\n",
      "[tensor([]), tensor([0.0497, 0.0076])]\n",
      "[tensor([]), tensor([0.0491, 0.0065])]\n",
      "[tensor([]), tensor([0.0485, 0.0054])]\n",
      "[tensor([]), tensor([0.0479, 0.0043])]\n",
      "[tensor([]), tensor([0.0472, 0.0032])]\n",
      "[tensor([]), tensor([0.0466, 0.0022])]\n",
      "[tensor([]), tensor([0.0459, 0.0012])]\n",
      "[tensor([]), tensor([0.0453, 0.0002])]\n",
      "[tensor([]), tensor([ 0.0446, -0.0008])]\n",
      "[tensor([]), tensor([ 0.0440, -0.0017])]\n",
      "[tensor([]), tensor([ 0.0433, -0.0026])]\n",
      "[tensor([]), tensor([ 0.0427, -0.0035])]\n",
      "[tensor([]), tensor([ 0.0419, -0.0043])]\n",
      "[tensor([]), tensor([ 0.0413, -0.0052])]\n",
      "[tensor([]), tensor([ 0.0406, -0.0059])]\n",
      "[tensor([]), tensor([ 0.0400, -0.0067])]\n",
      "[tensor([]), tensor([ 0.0393, -0.0075])]\n",
      "[tensor([]), tensor([ 0.0387, -0.0082])]\n",
      "[tensor([]), tensor([ 0.0381, -0.0089])]\n",
      "[tensor([]), tensor([ 0.0375, -0.0096])]\n",
      "[tensor([]), tensor([ 0.0368, -0.0102])]\n",
      "[tensor([]), tensor([ 0.0362, -0.0109])]\n",
      "[tensor([]), tensor([ 0.0356, -0.0115])]\n",
      "[tensor([]), tensor([ 0.0351, -0.0121])]\n",
      "[tensor([]), tensor([ 0.0344, -0.0127])]\n",
      "[tensor([]), tensor([ 0.0339, -0.0132])]\n",
      "[tensor([]), tensor([ 0.0333, -0.0137])]\n",
      "[tensor([]), tensor([ 0.0328, -0.0143])]\n",
      "[tensor([]), tensor([ 0.0322, -0.0147])]\n",
      "[tensor([]), tensor([ 0.0317, -0.0153])]\n",
      "[tensor([]), tensor([ 0.0311, -0.0157])]\n",
      "[tensor([]), tensor([ 0.0307, -0.0162])]\n",
      "[tensor([]), tensor([ 0.0301, -0.0165])]\n",
      "[tensor([]), tensor([ 0.0297, -0.0170])]\n",
      "[tensor([]), tensor([ 0.0291, -0.0173])]\n",
      "[tensor([]), tensor([ 0.0287, -0.0177])]\n",
      "[tensor([]), tensor([ 0.0282, -0.0181])]\n",
      "[tensor([]), tensor([ 0.0278, -0.0185])]\n",
      "[tensor([]), tensor([ 0.0273, -0.0187])]\n",
      "[tensor([]), tensor([ 0.0269, -0.0191])]\n",
      "[tensor([]), tensor([ 0.0265, -0.0194])]\n",
      "[tensor([]), tensor([ 0.0261, -0.0197])]\n",
      "[tensor([]), tensor([ 0.0257, -0.0199])]\n",
      "[tensor([]), tensor([ 0.0253, -0.0202])]\n",
      "[tensor([]), tensor([ 0.0249, -0.0205])]\n",
      "[tensor([]), tensor([ 0.0246, -0.0207])]\n",
      "[tensor([]), tensor([ 0.0242, -0.0209])]\n",
      "[tensor([]), tensor([ 0.0239, -0.0212])]\n",
      "[tensor([]), tensor([ 0.0235, -0.0214])]\n",
      "[tensor([]), tensor([ 0.0232, -0.0216])]\n",
      "[tensor([]), tensor([ 0.0228, -0.0218])]\n",
      "[tensor([]), tensor([ 0.0226, -0.0220])]\n",
      "[tensor([]), tensor([ 0.0222, -0.0221])]\n",
      "[tensor([]), tensor([ 0.0220, -0.0223])]\n",
      "[tensor([]), tensor([ 0.0216, -0.0225])]\n",
      "[tensor([]), tensor([ 0.0214, -0.0227])]\n",
      "[tensor([]), tensor([ 0.0211, -0.0228])]\n",
      "[tensor([]), tensor([ 0.0209, -0.0229])]\n",
      "[tensor([]), tensor([ 0.0206, -0.0230])]\n",
      "[tensor([]), tensor([ 0.0204, -0.0232])]\n",
      "[tensor([]), tensor([ 0.0201, -0.0233])]\n",
      "[tensor([]), tensor([ 0.0199, -0.0234])]\n",
      "[tensor([]), tensor([ 0.0196, -0.0235])]\n",
      "[tensor([]), tensor([ 0.0195, -0.0236])]\n",
      "[tensor([]), tensor([ 0.0192, -0.0237])]\n",
      "[tensor([]), tensor([ 0.0190, -0.0238])]\n",
      "[tensor([]), tensor([ 0.0188, -0.0239])]\n",
      "[tensor([]), tensor([ 0.0187, -0.0240])]\n",
      "[tensor([]), tensor([ 0.0184, -0.0240])]\n",
      "[tensor([]), tensor([ 0.0183, -0.0241])]\n",
      "[tensor([]), tensor([ 0.0181, -0.0242])]\n",
      "[tensor([]), tensor([ 0.0180, -0.0243])]\n",
      "[tensor([]), tensor([ 0.0178, -0.0243])]\n",
      "[tensor([]), tensor([ 0.0177, -0.0244])]\n",
      "[tensor([]), tensor([ 0.0175, -0.0244])]\n",
      "[tensor([]), tensor([ 0.0174, -0.0245])]\n",
      "[tensor([]), tensor([ 0.0172, -0.0245])]\n",
      "[tensor([]), tensor([ 0.0171, -0.0246])]\n",
      "[tensor([]), tensor([ 0.0170, -0.0246])]\n",
      "[tensor([]), tensor([ 0.0169, -0.0247])]\n",
      "[tensor([]), tensor([ 0.0167, -0.0247])]\n",
      "[tensor([]), tensor([ 0.0167, -0.0248])]\n",
      "[tensor([]), tensor([ 0.0165, -0.0248])]\n",
      "[tensor([]), tensor([ 0.0165, -0.0248])]\n",
      "[tensor([]), tensor([ 0.0163, -0.0248])]\n",
      "[tensor([]), tensor([ 0.0163, -0.0249])]\n",
      "[tensor([]), tensor([ 0.0162, -0.0249])]\n",
      "[tensor([]), tensor([ 0.0161, -0.0250])]\n",
      "[tensor([]), tensor([ 0.0160, -0.0250])]\n",
      "[tensor([]), tensor([ 0.0160, -0.0250])]\n",
      "[tensor([]), tensor([ 0.0159, -0.0250])]\n",
      "[tensor([]), tensor([ 0.0159, -0.0251])]\n",
      "[tensor([]), tensor([ 0.0158, -0.0251])]\n",
      "[tensor([]), tensor([ 0.0158, -0.0252])]\n",
      "[tensor([]), tensor([ 0.0157, -0.0252])]\n",
      "[tensor([]), tensor([ 0.0157, -0.0252])]\n",
      "[tensor([]), tensor([ 0.0156, -0.0252])]\n",
      "[tensor([]), tensor([ 0.0156, -0.0253])]\n",
      "[tensor([]), tensor([ 0.0155, -0.0253])]\n",
      "[tensor([]), tensor([ 0.0155, -0.0253])]\n",
      "[tensor([]), tensor([ 0.0155, -0.0253])]\n",
      "[tensor([]), tensor([ 0.0155, -0.0254])]\n",
      "[tensor([]), tensor([ 0.0154, -0.0254])]\n",
      "[tensor([]), tensor([ 0.0154, -0.0254])]\n",
      "[tensor([]), tensor([ 0.0154, -0.0255])]\n",
      "[tensor([]), tensor([ 0.0154, -0.0255])]\n",
      "[tensor([]), tensor([ 0.0153, -0.0255])]\n",
      "[tensor([]), tensor([ 0.0153, -0.0256])]\n",
      "[tensor([]), tensor([ 0.0153, -0.0256])]\n",
      "[tensor([]), tensor([ 0.0153, -0.0256])]\n",
      "[tensor([]), tensor([ 0.0153, -0.0256])]\n",
      "[tensor([]), tensor([ 0.0153, -0.0256])]\n",
      "[tensor([]), tensor([ 0.0152, -0.0257])]\n",
      "[tensor([]), tensor([ 0.0152, -0.0257])]\n",
      "[tensor([]), tensor([ 0.0152, -0.0257])]\n",
      "[tensor([]), tensor([ 0.0152, -0.0257])]\n",
      "[tensor([]), tensor([ 0.0152, -0.0258])]\n",
      "[tensor([]), tensor([ 0.0152, -0.0258])]\n",
      "[tensor([]), tensor([ 0.0152, -0.0258])]\n",
      "[tensor([]), tensor([ 0.0152, -0.0258])]\n",
      "[tensor([]), tensor([ 0.0152, -0.0258])]\n",
      "[tensor([]), tensor([ 0.0152, -0.0259])]\n",
      "[tensor([]), tensor([ 0.0151, -0.0259])]\n",
      "[tensor([]), tensor([ 0.0151, -0.0259])]\n",
      "[tensor([]), tensor([ 0.0151, -0.0259])]\n",
      "[tensor([]), tensor([ 0.0151, -0.0259])]\n",
      "[tensor([]), tensor([ 0.0151, -0.0259])]\n",
      "[tensor([]), tensor([ 0.0151, -0.0260])]\n",
      "[tensor([]), tensor([ 0.0151, -0.0260])]\n",
      "[tensor([]), tensor([ 0.0151, -0.0260])]\n",
      "[tensor([]), tensor([ 0.0151, -0.0260])]\n",
      "[tensor([]), tensor([ 0.0151, -0.0260])]\n",
      "[tensor([]), tensor([ 0.0151, -0.0260])]\n",
      "[tensor([]), tensor([ 0.0151, -0.0261])]\n",
      "[tensor([]), tensor([ 0.0151, -0.0261])]\n",
      "[tensor([]), tensor([ 0.0151, -0.0261])]\n",
      "[tensor([]), tensor([ 0.0151, -0.0261])]\n",
      "[tensor([]), tensor([ 0.0150, -0.0261])]\n",
      "[tensor([]), tensor([ 0.0151, -0.0261])]\n",
      "[tensor([]), tensor([ 0.0150, -0.0261])]\n",
      "[tensor([]), tensor([ 0.0150, -0.0262])]\n",
      "[tensor([]), tensor([ 0.0150, -0.0262])]\n",
      "[tensor([]), tensor([ 0.0150, -0.0262])]\n",
      "[tensor([]), tensor([ 0.0150, -0.0262])]\n",
      "[tensor([]), tensor([ 0.0150, -0.0262])]\n",
      "[tensor([]), tensor([ 0.0150, -0.0262])]\n",
      "[tensor([]), tensor([ 0.0150, -0.0262])]\n",
      "[tensor([]), tensor([ 0.0150, -0.0263])]\n",
      "[tensor([]), tensor([ 0.0151, -0.0263])]\n",
      "[tensor([]), tensor([ 0.0150, -0.0263])]\n",
      "[tensor([]), tensor([ 0.0151, -0.0263])]\n",
      "[tensor([]), tensor([ 0.0151, -0.0263])]\n",
      "[tensor([]), tensor([ 0.0151, -0.0263])]\n",
      "[tensor([]), tensor([ 0.0151, -0.0263])]\n",
      "[tensor([]), tensor([ 0.0151, -0.0264])]\n",
      "[tensor([]), tensor([ 0.0151, -0.0264])]\n",
      "[tensor([]), tensor([ 0.0152, -0.0264])]\n",
      "[tensor([]), tensor([ 0.0152, -0.0264])]\n",
      "[tensor([]), tensor([ 0.0152, -0.0264])]\n",
      "[tensor([]), tensor([ 0.0152, -0.0265])]\n",
      "[tensor([]), tensor([ 0.0153, -0.0265])]\n",
      "[tensor([]), tensor([ 0.0153, -0.0265])]\n",
      "[tensor([]), tensor([ 0.0153, -0.0265])]\n",
      "[tensor([]), tensor([ 0.0154, -0.0265])]\n",
      "[tensor([]), tensor([ 0.0154, -0.0266])]\n",
      "[tensor([]), tensor([ 0.0154, -0.0266])]\n",
      "[tensor([]), tensor([ 0.0155, -0.0266])]\n",
      "[tensor([]), tensor([ 0.0155, -0.0267])]\n",
      "[tensor([]), tensor([ 0.0156, -0.0267])]\n",
      "[tensor([]), tensor([ 0.0156, -0.0267])]\n",
      "[tensor([]), tensor([ 0.0157, -0.0268])]\n",
      "[tensor([]), tensor([ 0.0158, -0.0268])]\n",
      "[tensor([]), tensor([ 0.0158, -0.0268])]\n",
      "[tensor([]), tensor([ 0.0159, -0.0268])]\n",
      "[tensor([]), tensor([ 0.0160, -0.0269])]\n",
      "[tensor([]), tensor([ 0.0160, -0.0269])]\n",
      "[tensor([]), tensor([ 0.0161, -0.0269])]\n",
      "[tensor([]), tensor([ 0.0162, -0.0269])]\n",
      "[tensor([]), tensor([ 0.0163, -0.0270])]\n",
      "[tensor([]), tensor([ 0.0163, -0.0270])]\n",
      "[tensor([]), tensor([ 0.0165, -0.0270])]\n",
      "[tensor([]), tensor([ 0.0165, -0.0271])]\n",
      "[tensor([]), tensor([ 0.0166, -0.0271])]\n",
      "[tensor([]), tensor([ 0.0167, -0.0271])]\n",
      "[tensor([]), tensor([ 0.0168, -0.0271])]\n",
      "[tensor([]), tensor([ 0.0169, -0.0272])]\n",
      "[tensor([]), tensor([ 0.0170, -0.0272])]\n",
      "[tensor([]), tensor([ 0.0171, -0.0272])]\n",
      "[tensor([]), tensor([ 0.0172, -0.0272])]\n",
      "[tensor([]), tensor([ 0.0173, -0.0272])]\n",
      "[tensor([]), tensor([ 0.0175, -0.0273])]\n",
      "[tensor([]), tensor([ 0.0176, -0.0273])]\n",
      "[tensor([]), tensor([ 0.0177, -0.0273])]\n",
      "[tensor([]), tensor([ 0.0178, -0.0273])]\n",
      "[tensor([]), tensor([ 0.0179, -0.0273])]\n",
      "[tensor([]), tensor([ 0.0180, -0.0273])]\n",
      "[tensor([]), tensor([ 0.0182, -0.0273])]\n",
      "[tensor([]), tensor([ 0.0183, -0.0273])]\n",
      "[tensor([]), tensor([ 0.0185, -0.0273])]\n",
      "[tensor([]), tensor([ 0.0186, -0.0273])]\n",
      "[tensor([]), tensor([ 0.0188, -0.0273])]\n",
      "[tensor([]), tensor([ 0.0189, -0.0273])]\n",
      "[tensor([]), tensor([ 0.0191, -0.0273])]\n",
      "[tensor([]), tensor([ 0.0192, -0.0273])]\n",
      "[tensor([]), tensor([ 0.0194, -0.0273])]\n",
      "[tensor([]), tensor([ 0.0195, -0.0272])]\n",
      "[tensor([]), tensor([ 0.0197, -0.0272])]\n",
      "[tensor([]), tensor([ 0.0198, -0.0272])]\n",
      "[tensor([]), tensor([ 0.0200, -0.0272])]\n",
      "[tensor([]), tensor([ 0.0202, -0.0271])]\n",
      "[tensor([]), tensor([ 0.0204, -0.0271])]\n",
      "[tensor([]), tensor([ 0.0206, -0.0270])]\n",
      "[tensor([]), tensor([ 0.0208, -0.0270])]\n",
      "[tensor([]), tensor([ 0.0210, -0.0269])]\n",
      "[tensor([]), tensor([ 0.0212, -0.0269])]\n",
      "[tensor([]), tensor([ 0.0214, -0.0268])]\n",
      "[tensor([]), tensor([ 0.0216, -0.0268])]\n",
      "[tensor([]), tensor([ 0.0218, -0.0267])]\n",
      "[tensor([]), tensor([ 0.0220, -0.0266])]\n",
      "[tensor([]), tensor([ 0.0222, -0.0265])]\n",
      "[tensor([]), tensor([ 0.0225, -0.0265])]\n",
      "[tensor([]), tensor([ 0.0227, -0.0264])]\n",
      "[tensor([]), tensor([ 0.0229, -0.0263])]\n",
      "[tensor([]), tensor([ 0.0232, -0.0262])]\n",
      "[tensor([]), tensor([ 0.0234, -0.0261])]\n",
      "[tensor([]), tensor([ 0.0237, -0.0259])]\n",
      "[tensor([]), tensor([ 0.0239, -0.0258])]\n",
      "[tensor([]), tensor([ 0.0242, -0.0257])]\n",
      "[tensor([]), tensor([ 0.0245, -0.0256])]\n",
      "[tensor([]), tensor([ 0.0247, -0.0254])]\n",
      "[tensor([]), tensor([ 0.0250, -0.0253])]\n",
      "[tensor([]), tensor([ 0.0253, -0.0251])]\n",
      "[tensor([]), tensor([ 0.0256, -0.0250])]\n",
      "[tensor([]), tensor([ 0.0259, -0.0248])]\n",
      "[tensor([]), tensor([ 0.0262, -0.0246])]\n",
      "[tensor([]), tensor([ 0.0266, -0.0244])]\n",
      "[tensor([]), tensor([ 0.0269, -0.0242])]\n",
      "[tensor([]), tensor([ 0.0272, -0.0240])]\n",
      "[tensor([]), tensor([ 0.0276, -0.0238])]\n",
      "[tensor([]), tensor([ 0.0279, -0.0236])]\n",
      "[tensor([]), tensor([ 0.0282, -0.0234])]\n",
      "[tensor([]), tensor([ 0.0286, -0.0231])]\n",
      "[tensor([]), tensor([ 0.0290, -0.0229])]\n",
      "[tensor([]), tensor([ 0.0293, -0.0226])]\n",
      "[tensor([]), tensor([ 0.0297, -0.0223])]\n",
      "[tensor([]), tensor([ 0.0301, -0.0220])]\n",
      "[tensor([]), tensor([ 0.0305, -0.0217])]\n",
      "[tensor([]), tensor([ 0.0309, -0.0214])]\n",
      "[tensor([]), tensor([ 0.0313, -0.0211])]\n",
      "[tensor([]), tensor([ 0.0317, -0.0208])]\n",
      "[tensor([]), tensor([ 0.0321, -0.0204])]\n",
      "[tensor([]), tensor([ 0.0326, -0.0201])]\n",
      "[tensor([]), tensor([ 0.0330, -0.0197])]\n",
      "[tensor([]), tensor([ 0.0334, -0.0193])]\n",
      "[tensor([]), tensor([ 0.0339, -0.0189])]\n",
      "[tensor([]), tensor([ 0.0344, -0.0185])]\n",
      "[tensor([]), tensor([ 0.0348, -0.0181])]\n",
      "[tensor([]), tensor([ 0.0353, -0.0176])]\n",
      "[tensor([]), tensor([ 0.0358, -0.0172])]\n",
      "[tensor([]), tensor([ 0.0363, -0.0167])]\n",
      "[tensor([]), tensor([ 0.0368, -0.0162])]\n",
      "[tensor([]), tensor([ 0.0373, -0.0157])]\n",
      "[tensor([]), tensor([ 0.0378, -0.0151])]\n",
      "[tensor([]), tensor([ 0.0383, -0.0146])]\n",
      "[tensor([]), tensor([ 0.0388, -0.0140])]\n",
      "[tensor([]), tensor([ 0.0393, -0.0134])]\n",
      "[tensor([]), tensor([ 0.0399, -0.0128])]\n",
      "[tensor([]), tensor([ 0.0404, -0.0122])]\n",
      "[tensor([]), tensor([ 0.0409, -0.0116])]\n",
      "[tensor([]), tensor([ 0.0415, -0.0109])]\n",
      "[tensor([]), tensor([ 0.0420, -0.0102])]\n",
      "[tensor([]), tensor([ 0.0426, -0.0095])]\n",
      "[tensor([]), tensor([ 0.0431, -0.0088])]\n",
      "[tensor([]), tensor([ 0.0437, -0.0080])]\n",
      "[tensor([]), tensor([ 0.0442, -0.0073])]\n",
      "[tensor([]), tensor([ 0.0448, -0.0065])]\n",
      "[tensor([]), tensor([ 0.0453, -0.0057])]\n",
      "[tensor([]), tensor([ 0.0459, -0.0048])]\n",
      "[tensor([]), tensor([ 0.0464, -0.0040])]\n",
      "[tensor([]), tensor([ 0.0470, -0.0031])]\n",
      "[tensor([]), tensor([ 0.0475, -0.0022])]\n",
      "[tensor([]), tensor([ 0.0480, -0.0012])]\n",
      "[tensor([]), tensor([ 0.0486, -0.0003])]\n",
      "[tensor([]), tensor([0.0491, 0.0007])]\n",
      "[tensor([]), tensor([0.0496, 0.0017])]\n",
      "[tensor([]), tensor([0.0501, 0.0027])]\n",
      "[tensor([]), tensor([0.0506, 0.0038])]\n",
      "[tensor([]), tensor([0.0511, 0.0049])]\n",
      "[tensor([]), tensor([0.0516, 0.0059])]\n",
      "[tensor([]), tensor([0.0520, 0.0071])]\n",
      "[tensor([]), tensor([0.0525, 0.0082])]\n",
      "[tensor([]), tensor([0.0529, 0.0094])]\n",
      "[tensor([]), tensor([0.0533, 0.0105])]\n",
      "[tensor([]), tensor([0.0537, 0.0117])]\n",
      "[tensor([]), tensor([0.0541, 0.0129])]\n",
      "[tensor([]), tensor([0.0544, 0.0142])]\n",
      "[tensor([]), tensor([0.0547, 0.0154])]\n",
      "[tensor([]), tensor([0.0550, 0.0167])]\n",
      "[tensor([]), tensor([0.0552, 0.0180])]\n",
      "[tensor([]), tensor([0.0554, 0.0193])]\n",
      "[tensor([]), tensor([0.0556, 0.0206])]\n",
      "[tensor([]), tensor([0.0558, 0.0219])]\n",
      "[tensor([]), tensor([0.0559, 0.0232])]\n",
      "[tensor([]), tensor([0.0560, 0.0245])]\n",
      "[tensor([]), tensor([0.0560, 0.0258])]\n",
      "[tensor([]), tensor([0.0560, 0.0272])]\n",
      "[tensor([]), tensor([0.0560, 0.0285])]\n",
      "[tensor([]), tensor([0.0559, 0.0298])]\n",
      "[tensor([]), tensor([0.0558, 0.0312])]\n",
      "[tensor([]), tensor([0.0556, 0.0325])]\n",
      "[tensor([]), tensor([0.0554, 0.0338])]\n",
      "[tensor([]), tensor([0.0551, 0.0351])]\n",
      "[tensor([]), tensor([0.0548, 0.0364])]\n",
      "[tensor([]), tensor([0.0544, 0.0376])]\n",
      "[tensor([]), tensor([0.0540, 0.0389])]\n",
      "[tensor([]), tensor([0.0535, 0.0401])]\n",
      "[tensor([]), tensor([0.0530, 0.0413])]\n",
      "[tensor([]), tensor([0.0524, 0.0425])]\n",
      "[tensor([]), tensor([0.0518, 0.0436])]\n",
      "[tensor([]), tensor([0.0511, 0.0447])]\n",
      "[tensor([]), tensor([0.0503, 0.0458])]\n",
      "[tensor([]), tensor([0.0496, 0.0468])]\n",
      "[tensor([]), tensor([0.0488, 0.0478])]\n",
      "[tensor([]), tensor([0.0479, 0.0488])]\n",
      "[tensor([]), tensor([0.0470, 0.0497])]\n",
      "[tensor([]), tensor([0.0460, 0.0505])]\n",
      "[tensor([]), tensor([0.0450, 0.0514])]\n",
      "[tensor([]), tensor([0.0440, 0.0521])]\n",
      "[tensor([]), tensor([0.0429, 0.0529])]\n",
      "[tensor([]), tensor([0.0418, 0.0535])]\n",
      "[tensor([]), tensor([0.0406, 0.0542])]\n",
      "[tensor([]), tensor([0.0394, 0.0547])]\n",
      "[tensor([]), tensor([0.0382, 0.0553])]\n",
      "[tensor([]), tensor([0.0370, 0.0557])]\n",
      "[tensor([]), tensor([0.0357, 0.0561])]\n",
      "[tensor([]), tensor([0.0344, 0.0565])]\n",
      "[tensor([]), tensor([0.0332, 0.0568])]\n",
      "[tensor([]), tensor([0.0318, 0.0570])]\n",
      "[tensor([]), tensor([0.0305, 0.0572])]\n",
      "[tensor([]), tensor([0.0291, 0.0574])]\n",
      "[tensor([]), tensor([0.0278, 0.0575])]\n",
      "[tensor([]), tensor([0.0264, 0.0575])]\n",
      "[tensor([]), tensor([0.0251, 0.0575])]\n",
      "[tensor([]), tensor([0.0237, 0.0575])]\n",
      "[tensor([]), tensor([0.0223, 0.0574])]\n",
      "[tensor([]), tensor([0.0210, 0.0573])]\n",
      "[tensor([]), tensor([0.0196, 0.0571])]\n",
      "[tensor([]), tensor([0.0182, 0.0569])]\n",
      "[tensor([]), tensor([0.0169, 0.0566])]\n",
      "[tensor([]), tensor([0.0156, 0.0563])]\n",
      "[tensor([]), tensor([0.0143, 0.0560])]\n",
      "[tensor([]), tensor([0.0129, 0.0557])]\n",
      "[tensor([]), tensor([0.0117, 0.0553])]\n",
      "[tensor([]), tensor([0.0104, 0.0549])]\n",
      "[tensor([]), tensor([0.0091, 0.0544])]\n",
      "[tensor([]), tensor([0.0079, 0.0539])]\n",
      "[tensor([]), tensor([0.0067, 0.0534])]\n",
      "[tensor([]), tensor([0.0054, 0.0529])]\n",
      "[tensor([]), tensor([0.0043, 0.0524])]\n",
      "[tensor([]), tensor([0.0031, 0.0519])]\n",
      "[tensor([]), tensor([0.0020, 0.0513])]\n",
      "[tensor([]), tensor([0.0008, 0.0507])]\n",
      "[tensor([]), tensor([-0.0002,  0.0501])]\n",
      "[tensor([]), tensor([-0.0013,  0.0495])]\n",
      "[tensor([]), tensor([-0.0023,  0.0489])]\n",
      "[tensor([]), tensor([-0.0034,  0.0483])]\n",
      "[tensor([]), tensor([-0.0043,  0.0476])]\n",
      "[tensor([]), tensor([-0.0053,  0.0470])]\n",
      "[tensor([]), tensor([-0.0062,  0.0463])]\n",
      "[tensor([]), tensor([-0.0072,  0.0457])]\n",
      "[tensor([]), tensor([-0.0081,  0.0450])]\n",
      "[tensor([]), tensor([-0.0090,  0.0444])]\n",
      "[tensor([]), tensor([-0.0098,  0.0437])]\n",
      "[tensor([]), tensor([-0.0106,  0.0431])]\n",
      "[tensor([]), tensor([-0.0114,  0.0424])]\n",
      "[tensor([]), tensor([-0.0122,  0.0418])]\n",
      "[tensor([]), tensor([-0.0129,  0.0411])]\n",
      "[tensor([]), tensor([-0.0137,  0.0405])]\n",
      "[tensor([]), tensor([-0.0144,  0.0398])]\n",
      "[tensor([]), tensor([-0.0151,  0.0393])]\n",
      "[tensor([]), tensor([-0.0157,  0.0386])]\n",
      "[tensor([]), tensor([-0.0164,  0.0380])]\n",
      "[tensor([]), tensor([-0.0170,  0.0373])]\n",
      "[tensor([]), tensor([-0.0176,  0.0368])]\n",
      "[tensor([]), tensor([-0.0182,  0.0361])]\n",
      "[tensor([]), tensor([-0.0188,  0.0356])]\n",
      "[tensor([]), tensor([-0.0193,  0.0349])]\n",
      "[tensor([]), tensor([-0.0199,  0.0344])]\n",
      "[tensor([]), tensor([-0.0203,  0.0338])]\n",
      "[tensor([]), tensor([-0.0209,  0.0333])]\n",
      "[tensor([]), tensor([-0.0213,  0.0327])]\n",
      "[tensor([]), tensor([-0.0218,  0.0322])]\n",
      "[tensor([]), tensor([-0.0222,  0.0316])]\n",
      "[tensor([]), tensor([-0.0227,  0.0311])]\n",
      "[tensor([]), tensor([-0.0230,  0.0306])]\n",
      "[tensor([]), tensor([-0.0235,  0.0301])]\n",
      "[tensor([]), tensor([-0.0238,  0.0296])]\n",
      "[tensor([]), tensor([-0.0242,  0.0291])]\n",
      "[tensor([]), tensor([-0.0245,  0.0286])]\n",
      "[tensor([]), tensor([-0.0249,  0.0282])]\n",
      "[tensor([]), tensor([-0.0252,  0.0277])]\n",
      "[tensor([]), tensor([-0.0256,  0.0273])]\n",
      "[tensor([]), tensor([-0.0259,  0.0268])]\n",
      "[tensor([]), tensor([-0.0262,  0.0264])]\n",
      "[tensor([]), tensor([-0.0264,  0.0259])]\n",
      "[tensor([]), tensor([-0.0268,  0.0255])]\n",
      "[tensor([]), tensor([-0.0270,  0.0251])]\n",
      "[tensor([]), tensor([-0.0273,  0.0247])]\n",
      "[tensor([]), tensor([-0.0275,  0.0243])]\n",
      "[tensor([]), tensor([-0.0278,  0.0240])]\n",
      "[tensor([]), tensor([-0.0279,  0.0235])]\n",
      "[tensor([]), tensor([-0.0282,  0.0232])]\n",
      "[tensor([]), tensor([-0.0283,  0.0228])]\n",
      "[tensor([]), tensor([-0.0286,  0.0225])]\n",
      "[tensor([]), tensor([-0.0287,  0.0221])]\n",
      "[tensor([]), tensor([-0.0290,  0.0218])]\n",
      "[tensor([]), tensor([-0.0291,  0.0215])]\n",
      "[tensor([]), tensor([-0.0293,  0.0212])]\n",
      "[tensor([]), tensor([-0.0294,  0.0208])]\n",
      "[tensor([]), tensor([-0.0296,  0.0206])]\n",
      "[tensor([]), tensor([-0.0297,  0.0202])]\n",
      "[tensor([]), tensor([-0.0299,  0.0200])]\n",
      "[tensor([]), tensor([-0.0300,  0.0197])]\n",
      "[tensor([]), tensor([-0.0302,  0.0195])]\n",
      "[tensor([]), tensor([-0.0302,  0.0191])]\n",
      "[tensor([]), tensor([-0.0304,  0.0189])]\n",
      "[tensor([]), tensor([-0.0305,  0.0186])]\n",
      "[tensor([]), tensor([-0.0306,  0.0184])]\n",
      "[tensor([]), tensor([-0.0307,  0.0181])]\n",
      "[tensor([]), tensor([-0.0309,  0.0180])]\n",
      "[tensor([]), tensor([-0.0309,  0.0177])]\n",
      "[tensor([]), tensor([-0.0310,  0.0175])]\n",
      "[tensor([]), tensor([-0.0311,  0.0173])]\n",
      "[tensor([]), tensor([-0.0312,  0.0171])]\n",
      "[tensor([]), tensor([-0.0312,  0.0168])]\n",
      "[tensor([]), tensor([-0.0314,  0.0167])]\n",
      "[tensor([]), tensor([-0.0314,  0.0165])]\n",
      "[tensor([]), tensor([-0.0315,  0.0163])]\n",
      "[tensor([]), tensor([-0.0315,  0.0161])]\n",
      "[tensor([]), tensor([-0.0316,  0.0160])]\n",
      "[tensor([]), tensor([-0.0317,  0.0158])]\n",
      "[tensor([]), tensor([-0.0318,  0.0157])]\n",
      "[tensor([]), tensor([-0.0318,  0.0155])]\n",
      "[tensor([]), tensor([-0.0319,  0.0153])]\n",
      "[tensor([]), tensor([-0.0319,  0.0152])]\n",
      "[tensor([]), tensor([-0.0320,  0.0151])]\n",
      "[tensor([]), tensor([-0.0320,  0.0149])]\n",
      "[tensor([]), tensor([-0.0321,  0.0148])]\n",
      "[tensor([]), tensor([-0.0321,  0.0146])]\n",
      "[tensor([]), tensor([-0.0322,  0.0145])]\n",
      "[tensor([]), tensor([-0.0322,  0.0144])]\n",
      "[tensor([]), tensor([-0.0322,  0.0143])]\n",
      "[tensor([]), tensor([-0.0322,  0.0142])]\n",
      "[tensor([]), tensor([-0.0323,  0.0141])]\n",
      "[tensor([]), tensor([-0.0323,  0.0140])]\n",
      "[tensor([]), tensor([-0.0324,  0.0139])]\n",
      "[tensor([]), tensor([-0.0324,  0.0138])]\n",
      "[tensor([]), tensor([-0.0325,  0.0137])]\n",
      "[tensor([]), tensor([-0.0324,  0.0136])]\n",
      "[tensor([]), tensor([-0.0325,  0.0135])]\n",
      "[tensor([]), tensor([-0.0325,  0.0134])]\n",
      "[tensor([]), tensor([-0.0326,  0.0134])]\n",
      "[tensor([]), tensor([-0.0326,  0.0133])]\n",
      "[tensor([]), tensor([-0.0326,  0.0132])]\n",
      "[tensor([]), tensor([-0.0326,  0.0131])]\n",
      "[tensor([]), tensor([-0.0327,  0.0131])]\n",
      "[tensor([]), tensor([-0.0327,  0.0130])]\n",
      "[tensor([]), tensor([-0.0327,  0.0130])]\n",
      "[tensor([]), tensor([-0.0327,  0.0129])]\n",
      "[tensor([]), tensor([-0.0327,  0.0128])]\n",
      "[tensor([]), tensor([-0.0327,  0.0128])]\n",
      "[tensor([]), tensor([-0.0328,  0.0127])]\n",
      "[tensor([]), tensor([-0.0328,  0.0127])]\n",
      "[tensor([]), tensor([-0.0328,  0.0126])]\n",
      "[tensor([]), tensor([-0.0328,  0.0126])]\n",
      "[tensor([]), tensor([-0.0328,  0.0125])]\n",
      "[tensor([]), tensor([-0.0328,  0.0125])]\n",
      "[tensor([]), tensor([-0.0329,  0.0124])]\n",
      "[tensor([]), tensor([-0.0328,  0.0124])]\n",
      "[tensor([]), tensor([-0.0329,  0.0124])]\n",
      "[tensor([]), tensor([-0.0329,  0.0123])]\n",
      "[tensor([]), tensor([-0.0329,  0.0123])]\n",
      "[tensor([]), tensor([-0.0329,  0.0122])]\n",
      "[tensor([]), tensor([-0.0329,  0.0122])]\n",
      "[tensor([]), tensor([-0.0329,  0.0121])]\n",
      "[tensor([]), tensor([-0.0329,  0.0121])]\n",
      "[tensor([]), tensor([-0.0329,  0.0121])]\n",
      "[tensor([]), tensor([-0.0329,  0.0121])]\n",
      "[tensor([]), tensor([-0.0329,  0.0120])]\n",
      "[tensor([]), tensor([-0.0329,  0.0120])]\n",
      "[tensor([]), tensor([-0.0329,  0.0120])]\n",
      "[tensor([]), tensor([-0.0330,  0.0119])]\n",
      "[tensor([]), tensor([-0.0330,  0.0119])]\n",
      "[tensor([]), tensor([-0.0330,  0.0119])]\n",
      "[tensor([]), tensor([-0.0330,  0.0118])]\n",
      "[tensor([]), tensor([-0.0330,  0.0118])]\n",
      "[tensor([]), tensor([-0.0330,  0.0118])]\n",
      "[tensor([]), tensor([-0.0330,  0.0118])]\n",
      "[tensor([]), tensor([-0.0330,  0.0117])]\n",
      "[tensor([]), tensor([-0.0330,  0.0117])]\n",
      "[tensor([]), tensor([-0.0330,  0.0117])]\n",
      "[tensor([]), tensor([-0.0330,  0.0117])]\n",
      "[tensor([]), tensor([-0.0330,  0.0117])]\n",
      "[tensor([]), tensor([-0.0330,  0.0117])]\n",
      "[tensor([]), tensor([-0.0330,  0.0116])]\n",
      "[tensor([]), tensor([-0.0330,  0.0116])]\n",
      "[tensor([]), tensor([-0.0330,  0.0116])]\n",
      "[tensor([]), tensor([-0.0330,  0.0116])]\n",
      "[tensor([]), tensor([-0.0330,  0.0116])]\n",
      "[tensor([]), tensor([-0.0331,  0.0116])]\n",
      "[tensor([]), tensor([-0.0331,  0.0116])]\n",
      "[tensor([]), tensor([-0.0331,  0.0115])]\n",
      "[tensor([]), tensor([-0.0331,  0.0115])]\n",
      "[tensor([]), tensor([-0.0331,  0.0115])]\n",
      "[tensor([]), tensor([-0.0331,  0.0115])]\n",
      "[tensor([]), tensor([-0.0331,  0.0115])]\n",
      "[tensor([]), tensor([-0.0331,  0.0115])]\n",
      "[tensor([]), tensor([-0.0331,  0.0115])]\n",
      "[tensor([]), tensor([-0.0331,  0.0115])]\n",
      "[tensor([]), tensor([-0.0331,  0.0115])]\n",
      "[tensor([]), tensor([-0.0331,  0.0115])]\n",
      "[tensor([]), tensor([-0.0331,  0.0115])]\n",
      "[tensor([]), tensor([-0.0332,  0.0115])]\n",
      "[tensor([]), tensor([-0.0332,  0.0115])]\n",
      "[tensor([]), tensor([-0.0332,  0.0115])]\n",
      "[tensor([]), tensor([-0.0332,  0.0115])]\n",
      "[tensor([]), tensor([-0.0332,  0.0115])]\n",
      "[tensor([]), tensor([-0.0332,  0.0115])]\n",
      "[tensor([]), tensor([-0.0332,  0.0115])]\n",
      "[tensor([]), tensor([-0.0332,  0.0115])]\n",
      "[tensor([]), tensor([-0.0332,  0.0116])]\n",
      "[tensor([]), tensor([-0.0332,  0.0115])]\n",
      "[tensor([]), tensor([-0.0332,  0.0116])]\n",
      "[tensor([]), tensor([-0.0332,  0.0116])]\n",
      "[tensor([]), tensor([-0.0332,  0.0116])]\n",
      "[tensor([]), tensor([-0.0332,  0.0116])]\n",
      "[tensor([]), tensor([-0.0332,  0.0116])]\n",
      "[tensor([]), tensor([-0.0332,  0.0116])]\n",
      "[tensor([]), tensor([-0.0332,  0.0117])]\n",
      "[tensor([]), tensor([-0.0332,  0.0117])]\n",
      "[tensor([]), tensor([-0.0332,  0.0117])]\n",
      "[tensor([]), tensor([-0.0332,  0.0117])]\n",
      "[tensor([]), tensor([-0.0332,  0.0118])]\n",
      "[tensor([]), tensor([-0.0332,  0.0118])]\n",
      "[tensor([]), tensor([-0.0332,  0.0119])]\n",
      "[tensor([]), tensor([-0.0332,  0.0119])]\n",
      "[tensor([]), tensor([-0.0332,  0.0119])]\n",
      "[tensor([]), tensor([-0.0332,  0.0120])]\n",
      "[tensor([]), tensor([-0.0332,  0.0120])]\n",
      "[tensor([]), tensor([-0.0331,  0.0120])]\n",
      "[tensor([]), tensor([-0.0331,  0.0121])]\n",
      "[tensor([]), tensor([-0.0331,  0.0121])]\n",
      "[tensor([]), tensor([-0.0331,  0.0122])]\n",
      "[tensor([]), tensor([-0.0331,  0.0123])]\n",
      "[tensor([]), tensor([-0.0331,  0.0123])]\n",
      "[tensor([]), tensor([-0.0330,  0.0124])]\n",
      "[tensor([]), tensor([-0.0330,  0.0125])]\n",
      "[tensor([]), tensor([-0.0330,  0.0125])]\n",
      "[tensor([]), tensor([-0.0330,  0.0126])]\n",
      "[tensor([]), tensor([-0.0329,  0.0127])]\n",
      "[tensor([]), tensor([-0.0329,  0.0128])]\n",
      "[tensor([]), tensor([-0.0329,  0.0128])]\n",
      "[tensor([]), tensor([-0.0329,  0.0130])]\n",
      "[tensor([]), tensor([-0.0328,  0.0130])]\n",
      "[tensor([]), tensor([-0.0328,  0.0132])]\n",
      "[tensor([]), tensor([-0.0327,  0.0132])]\n",
      "[tensor([]), tensor([-0.0327,  0.0134])]\n",
      "[tensor([]), tensor([-0.0327,  0.0135])]\n",
      "[tensor([]), tensor([-0.0327,  0.0136])]\n",
      "[tensor([]), tensor([-0.0326,  0.0137])]\n",
      "[tensor([]), tensor([-0.0326,  0.0139])]\n",
      "[tensor([]), tensor([-0.0325,  0.0140])]\n",
      "[tensor([]), tensor([-0.0325,  0.0142])]\n",
      "[tensor([]), tensor([-0.0324,  0.0143])]\n",
      "[tensor([]), tensor([-0.0324,  0.0145])]\n",
      "[tensor([]), tensor([-0.0323,  0.0146])]\n",
      "[tensor([]), tensor([-0.0322,  0.0148])]\n",
      "[tensor([]), tensor([-0.0321,  0.0149])]\n",
      "[tensor([]), tensor([-0.0321,  0.0151])]\n",
      "[tensor([]), tensor([-0.0320,  0.0153])]\n",
      "[tensor([]), tensor([-0.0319,  0.0155])]\n",
      "[tensor([]), tensor([-0.0318,  0.0157])]\n",
      "[tensor([]), tensor([-0.0318,  0.0159])]\n",
      "[tensor([]), tensor([-0.0316,  0.0161])]\n",
      "[tensor([]), tensor([-0.0316,  0.0164])]\n",
      "[tensor([]), tensor([-0.0314,  0.0165])]\n",
      "[tensor([]), tensor([-0.0314,  0.0168])]\n",
      "[tensor([]), tensor([-0.0312,  0.0170])]\n",
      "[tensor([]), tensor([-0.0312,  0.0173])]\n",
      "[tensor([]), tensor([-0.0310,  0.0175])]\n",
      "[tensor([]), tensor([-0.0309,  0.0178])]\n",
      "[tensor([]), tensor([-0.0307,  0.0180])]\n",
      "[tensor([]), tensor([-0.0306,  0.0184])]\n",
      "[tensor([]), tensor([-0.0304,  0.0186])]\n",
      "[tensor([]), tensor([-0.0303,  0.0190])]\n",
      "[tensor([]), tensor([-0.0301,  0.0192])]\n",
      "[tensor([]), tensor([-0.0300,  0.0196])]\n",
      "[tensor([]), tensor([-0.0298,  0.0199])]\n",
      "[tensor([]), tensor([-0.0296,  0.0202])]\n",
      "[tensor([]), tensor([-0.0294,  0.0205])]\n",
      "[tensor([]), tensor([-0.0292,  0.0209])]\n",
      "[tensor([]), tensor([-0.0290,  0.0212])]\n",
      "[tensor([]), tensor([-0.0288,  0.0217])]\n",
      "[tensor([]), tensor([-0.0285,  0.0220])]\n",
      "[tensor([]), tensor([-0.0283,  0.0224])]\n",
      "[tensor([]), tensor([-0.0280,  0.0228])]\n",
      "[tensor([]), tensor([-0.0278,  0.0232])]\n",
      "[tensor([]), tensor([-0.0275,  0.0236])]\n",
      "[tensor([]), tensor([-0.0272,  0.0241])]\n",
      "[tensor([]), tensor([-0.0269,  0.0245])]\n",
      "[tensor([]), tensor([-0.0266,  0.0250])]\n",
      "[tensor([]), tensor([-0.0262,  0.0254])]\n",
      "[tensor([]), tensor([-0.0260,  0.0259])]\n",
      "[tensor([]), tensor([-0.0255,  0.0263])]\n",
      "[tensor([]), tensor([-0.0252,  0.0269])]\n",
      "[tensor([]), tensor([-0.0248,  0.0273])]\n",
      "[tensor([]), tensor([-0.0244,  0.0279])]\n",
      "[tensor([]), tensor([-0.0240,  0.0283])]\n",
      "[tensor([]), tensor([-0.0236,  0.0289])]\n",
      "[tensor([]), tensor([-0.0231,  0.0294])]\n",
      "[tensor([]), tensor([-0.0227,  0.0300])]\n",
      "[tensor([]), tensor([-0.0221,  0.0305])]\n",
      "[tensor([]), tensor([-0.0217,  0.0312])]\n",
      "[tensor([]), tensor([-0.0211,  0.0317])]\n",
      "[tensor([]), tensor([-0.0206,  0.0323])]\n",
      "[tensor([]), tensor([-0.0200,  0.0329])]\n",
      "[tensor([]), tensor([-0.0195,  0.0335])]\n",
      "[tensor([]), tensor([-0.0188,  0.0341])]\n",
      "[tensor([]), tensor([-0.0182,  0.0348])]\n",
      "[tensor([]), tensor([-0.0175,  0.0354])]\n",
      "[tensor([]), tensor([-0.0169,  0.0361])]\n",
      "[tensor([]), tensor([-0.0162,  0.0367])]\n",
      "[tensor([]), tensor([-0.0155,  0.0374])]\n",
      "[tensor([]), tensor([-0.0147,  0.0380])]\n",
      "[tensor([]), tensor([-0.0140,  0.0387])]\n",
      "[tensor([]), tensor([-0.0131,  0.0394])]\n",
      "[tensor([]), tensor([-0.0124,  0.0401])]\n",
      "[tensor([]), tensor([-0.0114,  0.0407])]\n",
      "[tensor([]), tensor([-0.0106,  0.0415])]\n",
      "[tensor([]), tensor([-0.0097,  0.0421])]\n",
      "[tensor([]), tensor([-0.0088,  0.0428])]\n",
      "[tensor([]), tensor([-0.0078,  0.0435])]\n",
      "[tensor([]), tensor([-0.0068,  0.0442])]\n",
      "[tensor([]), tensor([-0.0058,  0.0449])]\n",
      "[tensor([]), tensor([-0.0048,  0.0456])]\n",
      "[tensor([]), tensor([-0.0036,  0.0462])]\n",
      "[tensor([]), tensor([-0.0026,  0.0469])]\n",
      "[tensor([]), tensor([-0.0014,  0.0475])]\n",
      "[tensor([]), tensor([-0.0003,  0.0482])]\n",
      "[tensor([]), tensor([0.0009, 0.0488])]\n",
      "[tensor([]), tensor([0.0021, 0.0495])]\n",
      "[tensor([]), tensor([0.0034, 0.0500])]\n",
      "[tensor([]), tensor([0.0046, 0.0507])]\n",
      "[tensor([]), tensor([0.0060, 0.0512])]\n",
      "[tensor([]), tensor([0.0073, 0.0518])]\n",
      "[tensor([]), tensor([0.0087, 0.0523])]\n",
      "[tensor([]), tensor([0.0100, 0.0528])]\n",
      "[tensor([]), tensor([0.0114, 0.0532])]\n",
      "[tensor([]), tensor([0.0128, 0.0537])]\n",
      "[tensor([]), tensor([0.0143, 0.0541])]\n",
      "[tensor([]), tensor([0.0157, 0.0544])]\n",
      "[tensor([]), tensor([0.0172, 0.0547])]\n",
      "[tensor([]), tensor([0.0187, 0.0551])]\n",
      "[tensor([]), tensor([0.0202, 0.0553])]\n",
      "[tensor([]), tensor([0.0217, 0.0555])]\n",
      "[tensor([]), tensor([0.0232, 0.0556])]\n",
      "[tensor([]), tensor([0.0248, 0.0557])]\n",
      "[tensor([]), tensor([0.0263, 0.0557])]\n",
      "[tensor([]), tensor([0.0278, 0.0558])]\n"
     ]
    }
   ],
   "source": [
    "angles = 0. * math.pi * torch.ones(pts_implicit1.shape[0])\n",
    "R = torch.stack([dm.Utilities.rot2d(a) for a in angles])\n",
    "\n",
    "my_sample = sample(peanut, pts_implicit1, R, C, 0.1)\n",
    "\n",
    "ax = plt.subplot()\n",
    "plt.plot(peanut[:, 0].numpy(), peanut[:, 1].numpy(), '--')\n",
    "plt.plot(my_sample[:, 0].numpy(), my_sample[:, 1].numpy())\n",
    "plt.axis('equal')\n",
    "plt.show()"
   ]
  },
  {
   "cell_type": "code",
   "execution_count": 7,
   "metadata": {
    "autoscroll": false,
    "collapsed": false,
    "ein.hycell": false,
    "ein.tags": "worksheet-0",
    "slideshow": {
     "slide_type": "-"
    }
   },
   "outputs": [
    {
     "name": "stdout",
     "output_type": "stream",
     "text": [
      "Generating sample 0\n"
     ]
    },
    {
     "ename": "KeyboardInterrupt",
     "evalue": "",
     "output_type": "error",
     "traceback": [
      "\u001b[0;31m\u001b[0m",
      "\u001b[0;31mKeyboardInterrupt\u001b[0mTraceback (most recent call last)",
      "\u001b[0;32m<ipython-input-7-0a41eb160d24>\u001b[0m in \u001b[0;36m<module>\u001b[0;34m\u001b[0m\n\u001b[1;32m      3\u001b[0m \u001b[0;32mfor\u001b[0m \u001b[0mi\u001b[0m \u001b[0;32min\u001b[0m \u001b[0mrange\u001b[0m\u001b[0;34m(\u001b[0m\u001b[0msample_count\u001b[0m\u001b[0;34m)\u001b[0m\u001b[0;34m:\u001b[0m\u001b[0;34m\u001b[0m\u001b[0;34m\u001b[0m\u001b[0m\n\u001b[1;32m      4\u001b[0m     \u001b[0mprint\u001b[0m\u001b[0;34m(\u001b[0m\u001b[0;34m\"Generating sample\"\u001b[0m\u001b[0;34m,\u001b[0m \u001b[0mi\u001b[0m\u001b[0;34m)\u001b[0m\u001b[0;34m\u001b[0m\u001b[0;34m\u001b[0m\u001b[0m\n\u001b[0;32m----> 5\u001b[0;31m     \u001b[0msamples\u001b[0m\u001b[0;34m.\u001b[0m\u001b[0mappend\u001b[0m\u001b[0;34m(\u001b[0m\u001b[0msample\u001b[0m\u001b[0;34m(\u001b[0m\u001b[0mpeanut\u001b[0m\u001b[0;34m,\u001b[0m \u001b[0mpts_implicit1\u001b[0m\u001b[0;34m,\u001b[0m \u001b[0mR\u001b[0m\u001b[0;34m,\u001b[0m \u001b[0mC\u001b[0m\u001b[0;34m,\u001b[0m \u001b[0;36m0.4\u001b[0m\u001b[0;34m)\u001b[0m\u001b[0;34m.\u001b[0m\u001b[0mtolist\u001b[0m\u001b[0;34m(\u001b[0m\u001b[0;34m)\u001b[0m\u001b[0;34m)\u001b[0m\u001b[0;34m\u001b[0m\u001b[0;34m\u001b[0m\u001b[0m\n\u001b[0m",
      "\u001b[0;32m<ipython-input-2-260a463d5521>\u001b[0m in \u001b[0;36msample\u001b[0;34m(pts_silent, pts_implicit1, R, C, sigma)\u001b[0m\n\u001b[1;32m     21\u001b[0m \u001b[0;34m\u001b[0m\u001b[0m\n\u001b[1;32m     22\u001b[0m     \u001b[0;32mwith\u001b[0m \u001b[0mtorch\u001b[0m\u001b[0;34m.\u001b[0m\u001b[0mautograd\u001b[0m\u001b[0;34m.\u001b[0m\u001b[0mno_grad\u001b[0m\u001b[0;34m(\u001b[0m\u001b[0;34m)\u001b[0m\u001b[0;34m:\u001b[0m\u001b[0;34m\u001b[0m\u001b[0;34m\u001b[0m\u001b[0m\n\u001b[0;32m---> 23\u001b[0;31m         \u001b[0m_\u001b[0m\u001b[0;34m,\u001b[0m \u001b[0mcontrols\u001b[0m \u001b[0;34m=\u001b[0m \u001b[0mdm\u001b[0m\u001b[0;34m.\u001b[0m\u001b[0mHamiltonianDynamic\u001b[0m\u001b[0;34m.\u001b[0m\u001b[0mshoot\u001b[0m\u001b[0;34m(\u001b[0m\u001b[0mdm\u001b[0m\u001b[0;34m.\u001b[0m\u001b[0mHamiltonianDynamic\u001b[0m\u001b[0;34m.\u001b[0m\u001b[0mHamiltonian\u001b[0m\u001b[0;34m(\u001b[0m\u001b[0;34m[\u001b[0m\u001b[0msilent\u001b[0m\u001b[0;34m,\u001b[0m \u001b[0mimplicit1\u001b[0m\u001b[0;34m]\u001b[0m\u001b[0;34m)\u001b[0m\u001b[0;34m,\u001b[0m \u001b[0;36m50\u001b[0m\u001b[0;34m,\u001b[0m \u001b[0;34m'euler'\u001b[0m\u001b[0;34m,\u001b[0m \u001b[0mintermediates\u001b[0m\u001b[0;34m=\u001b[0m\u001b[0;32mTrue\u001b[0m\u001b[0;34m)\u001b[0m\u001b[0;34m\u001b[0m\u001b[0;34m\u001b[0m\u001b[0m\n\u001b[0m\u001b[1;32m     24\u001b[0m \u001b[0;34m\u001b[0m\u001b[0m\n\u001b[1;32m     25\u001b[0m     \u001b[0;32mfor\u001b[0m \u001b[0ml\u001b[0m \u001b[0;32min\u001b[0m \u001b[0mcontrols\u001b[0m\u001b[0;34m:\u001b[0m\u001b[0;34m\u001b[0m\u001b[0;34m\u001b[0m\u001b[0m\n",
      "\u001b[0;32m~/boulot/implicitmodules/implicitmodules/torch/HamiltonianDynamic/shooting.py\u001b[0m in \u001b[0;36mshoot\u001b[0;34m(h, it, method, controls, intermediates)\u001b[0m\n\u001b[1;32m     14\u001b[0m         \u001b[0;32mreturn\u001b[0m \u001b[0mshoot_euler\u001b[0m\u001b[0;34m(\u001b[0m\u001b[0mh\u001b[0m\u001b[0;34m,\u001b[0m \u001b[0mit\u001b[0m\u001b[0;34m,\u001b[0m \u001b[0mcontrols\u001b[0m\u001b[0;34m=\u001b[0m\u001b[0mcontrols\u001b[0m\u001b[0;34m,\u001b[0m \u001b[0mintermediates\u001b[0m\u001b[0;34m=\u001b[0m\u001b[0mintermediates\u001b[0m\u001b[0;34m)\u001b[0m\u001b[0;34m\u001b[0m\u001b[0;34m\u001b[0m\u001b[0m\n\u001b[1;32m     15\u001b[0m     \u001b[0;32melse\u001b[0m\u001b[0;34m:\u001b[0m\u001b[0;34m\u001b[0m\u001b[0;34m\u001b[0m\u001b[0m\n\u001b[0;32m---> 16\u001b[0;31m         \u001b[0;32mreturn\u001b[0m \u001b[0mshoot_torchdiffeq\u001b[0m\u001b[0;34m(\u001b[0m\u001b[0mh\u001b[0m\u001b[0;34m,\u001b[0m \u001b[0mit\u001b[0m\u001b[0;34m,\u001b[0m \u001b[0mmethod\u001b[0m\u001b[0;34m,\u001b[0m \u001b[0mcontrols\u001b[0m\u001b[0;34m=\u001b[0m\u001b[0mcontrols\u001b[0m\u001b[0;34m,\u001b[0m \u001b[0mintermediates\u001b[0m\u001b[0;34m=\u001b[0m\u001b[0mintermediates\u001b[0m\u001b[0;34m)\u001b[0m\u001b[0;34m\u001b[0m\u001b[0;34m\u001b[0m\u001b[0m\n\u001b[0m\u001b[1;32m     17\u001b[0m \u001b[0;34m\u001b[0m\u001b[0m\n\u001b[1;32m     18\u001b[0m \u001b[0;34m\u001b[0m\u001b[0m\n",
      "\u001b[0;32m~/boulot/implicitmodules/implicitmodules/torch/HamiltonianDynamic/shooting.py\u001b[0m in \u001b[0;36mshoot_torchdiffeq\u001b[0;34m(h, it, method, controls, intermediates)\u001b[0m\n\u001b[1;32m    111\u001b[0m \u001b[0;34m\u001b[0m\u001b[0m\n\u001b[1;32m    112\u001b[0m     \u001b[0mx_0\u001b[0m \u001b[0;34m=\u001b[0m \u001b[0mtorch\u001b[0m\u001b[0;34m.\u001b[0m\u001b[0mcat\u001b[0m\u001b[0;34m(\u001b[0m\u001b[0mlist\u001b[0m\u001b[0;34m(\u001b[0m\u001b[0mmap\u001b[0m\u001b[0;34m(\u001b[0m\u001b[0;32mlambda\u001b[0m \u001b[0mx\u001b[0m\u001b[0;34m:\u001b[0m \u001b[0mx\u001b[0m\u001b[0;34m.\u001b[0m\u001b[0mview\u001b[0m\u001b[0;34m(\u001b[0m\u001b[0;34m-\u001b[0m\u001b[0;36m1\u001b[0m\u001b[0;34m)\u001b[0m\u001b[0;34m,\u001b[0m \u001b[0;34m[\u001b[0m\u001b[0;34m*\u001b[0m\u001b[0mh\u001b[0m\u001b[0;34m.\u001b[0m\u001b[0mmodule\u001b[0m\u001b[0;34m.\u001b[0m\u001b[0mmanifold\u001b[0m\u001b[0;34m.\u001b[0m\u001b[0munroll_gd\u001b[0m\u001b[0;34m(\u001b[0m\u001b[0;34m)\u001b[0m\u001b[0;34m,\u001b[0m \u001b[0;34m*\u001b[0m\u001b[0mh\u001b[0m\u001b[0;34m.\u001b[0m\u001b[0mmodule\u001b[0m\u001b[0;34m.\u001b[0m\u001b[0mmanifold\u001b[0m\u001b[0;34m.\u001b[0m\u001b[0munroll_cotan\u001b[0m\u001b[0;34m(\u001b[0m\u001b[0;34m)\u001b[0m\u001b[0;34m]\u001b[0m\u001b[0;34m)\u001b[0m\u001b[0;34m)\u001b[0m\u001b[0;34m,\u001b[0m \u001b[0mdim\u001b[0m\u001b[0;34m=\u001b[0m\u001b[0;36m0\u001b[0m\u001b[0;34m)\u001b[0m\u001b[0;34m.\u001b[0m\u001b[0mview\u001b[0m\u001b[0;34m(\u001b[0m\u001b[0;36m2\u001b[0m\u001b[0;34m,\u001b[0m \u001b[0;34m-\u001b[0m\u001b[0;36m1\u001b[0m\u001b[0;34m)\u001b[0m\u001b[0;34m\u001b[0m\u001b[0;34m\u001b[0m\u001b[0m\n\u001b[0;32m--> 113\u001b[0;31m     \u001b[0mx_1\u001b[0m \u001b[0;34m=\u001b[0m \u001b[0modeint\u001b[0m\u001b[0;34m(\u001b[0m\u001b[0mH\u001b[0m\u001b[0;34m,\u001b[0m \u001b[0mx_0\u001b[0m\u001b[0;34m,\u001b[0m \u001b[0mtorch\u001b[0m\u001b[0;34m.\u001b[0m\u001b[0mlinspace\u001b[0m\u001b[0;34m(\u001b[0m\u001b[0;36m0.\u001b[0m\u001b[0;34m,\u001b[0m \u001b[0;36m1.\u001b[0m\u001b[0;34m,\u001b[0m \u001b[0msteps\u001b[0m\u001b[0;34m)\u001b[0m\u001b[0;34m,\u001b[0m \u001b[0mmethod\u001b[0m\u001b[0;34m=\u001b[0m\u001b[0mmethod\u001b[0m\u001b[0;34m)\u001b[0m\u001b[0;34m\u001b[0m\u001b[0;34m\u001b[0m\u001b[0m\n\u001b[0m\u001b[1;32m    114\u001b[0m \u001b[0;34m\u001b[0m\u001b[0m\n\u001b[1;32m    115\u001b[0m     \u001b[0mgd\u001b[0m\u001b[0;34m,\u001b[0m \u001b[0mmom\u001b[0m \u001b[0;34m=\u001b[0m \u001b[0;34m[\u001b[0m\u001b[0;34m]\u001b[0m\u001b[0;34m,\u001b[0m \u001b[0;34m[\u001b[0m\u001b[0;34m]\u001b[0m\u001b[0;34m\u001b[0m\u001b[0;34m\u001b[0m\u001b[0m\n",
      "\u001b[0;32m~/boulot/torchdiffeq/torchdiffeq/_impl/odeint.py\u001b[0m in \u001b[0;36modeint\u001b[0;34m(func, y0, t, rtol, atol, method, options)\u001b[0m\n\u001b[1;32m     70\u001b[0m \u001b[0;34m\u001b[0m\u001b[0m\n\u001b[1;32m     71\u001b[0m     \u001b[0msolver\u001b[0m \u001b[0;34m=\u001b[0m \u001b[0mSOLVERS\u001b[0m\u001b[0;34m[\u001b[0m\u001b[0mmethod\u001b[0m\u001b[0;34m]\u001b[0m\u001b[0;34m(\u001b[0m\u001b[0mfunc\u001b[0m\u001b[0;34m,\u001b[0m \u001b[0my0\u001b[0m\u001b[0;34m,\u001b[0m \u001b[0mrtol\u001b[0m\u001b[0;34m=\u001b[0m\u001b[0mrtol\u001b[0m\u001b[0;34m,\u001b[0m \u001b[0matol\u001b[0m\u001b[0;34m=\u001b[0m\u001b[0matol\u001b[0m\u001b[0;34m,\u001b[0m \u001b[0;34m**\u001b[0m\u001b[0moptions\u001b[0m\u001b[0;34m)\u001b[0m\u001b[0;34m\u001b[0m\u001b[0;34m\u001b[0m\u001b[0m\n\u001b[0;32m---> 72\u001b[0;31m     \u001b[0msolution\u001b[0m \u001b[0;34m=\u001b[0m \u001b[0msolver\u001b[0m\u001b[0;34m.\u001b[0m\u001b[0mintegrate\u001b[0m\u001b[0;34m(\u001b[0m\u001b[0mt\u001b[0m\u001b[0;34m)\u001b[0m\u001b[0;34m\u001b[0m\u001b[0;34m\u001b[0m\u001b[0m\n\u001b[0m\u001b[1;32m     73\u001b[0m \u001b[0;34m\u001b[0m\u001b[0m\n\u001b[1;32m     74\u001b[0m     \u001b[0;32mif\u001b[0m \u001b[0mtensor_input\u001b[0m\u001b[0;34m:\u001b[0m\u001b[0;34m\u001b[0m\u001b[0;34m\u001b[0m\u001b[0m\n",
      "\u001b[0;32m~/boulot/torchdiffeq/torchdiffeq/_impl/solvers.py\u001b[0m in \u001b[0;36mintegrate\u001b[0;34m(self, t)\u001b[0m\n\u001b[1;32m     89\u001b[0m         \u001b[0my0\u001b[0m \u001b[0;34m=\u001b[0m \u001b[0mself\u001b[0m\u001b[0;34m.\u001b[0m\u001b[0my0\u001b[0m\u001b[0;34m\u001b[0m\u001b[0;34m\u001b[0m\u001b[0m\n\u001b[1;32m     90\u001b[0m         \u001b[0;32mfor\u001b[0m \u001b[0mt0\u001b[0m\u001b[0;34m,\u001b[0m \u001b[0mt1\u001b[0m \u001b[0;32min\u001b[0m \u001b[0mzip\u001b[0m\u001b[0;34m(\u001b[0m\u001b[0mtime_grid\u001b[0m\u001b[0;34m[\u001b[0m\u001b[0;34m:\u001b[0m\u001b[0;34m-\u001b[0m\u001b[0;36m1\u001b[0m\u001b[0;34m]\u001b[0m\u001b[0;34m,\u001b[0m \u001b[0mtime_grid\u001b[0m\u001b[0;34m[\u001b[0m\u001b[0;36m1\u001b[0m\u001b[0;34m:\u001b[0m\u001b[0;34m]\u001b[0m\u001b[0;34m)\u001b[0m\u001b[0;34m:\u001b[0m\u001b[0;34m\u001b[0m\u001b[0;34m\u001b[0m\u001b[0m\n\u001b[0;32m---> 91\u001b[0;31m             \u001b[0mdy\u001b[0m \u001b[0;34m=\u001b[0m \u001b[0mself\u001b[0m\u001b[0;34m.\u001b[0m\u001b[0mstep_func\u001b[0m\u001b[0;34m(\u001b[0m\u001b[0mself\u001b[0m\u001b[0;34m.\u001b[0m\u001b[0mfunc\u001b[0m\u001b[0;34m,\u001b[0m \u001b[0mt0\u001b[0m\u001b[0;34m,\u001b[0m \u001b[0mt1\u001b[0m \u001b[0;34m-\u001b[0m \u001b[0mt0\u001b[0m\u001b[0;34m,\u001b[0m \u001b[0my0\u001b[0m\u001b[0;34m)\u001b[0m\u001b[0;34m\u001b[0m\u001b[0;34m\u001b[0m\u001b[0m\n\u001b[0m\u001b[1;32m     92\u001b[0m             \u001b[0my1\u001b[0m \u001b[0;34m=\u001b[0m \u001b[0mtuple\u001b[0m\u001b[0;34m(\u001b[0m\u001b[0my0_\u001b[0m \u001b[0;34m+\u001b[0m \u001b[0mdy_\u001b[0m \u001b[0;32mfor\u001b[0m \u001b[0my0_\u001b[0m\u001b[0;34m,\u001b[0m \u001b[0mdy_\u001b[0m \u001b[0;32min\u001b[0m \u001b[0mzip\u001b[0m\u001b[0;34m(\u001b[0m\u001b[0my0\u001b[0m\u001b[0;34m,\u001b[0m \u001b[0mdy\u001b[0m\u001b[0;34m)\u001b[0m\u001b[0;34m)\u001b[0m\u001b[0;34m\u001b[0m\u001b[0;34m\u001b[0m\u001b[0m\n\u001b[1;32m     93\u001b[0m             \u001b[0my0\u001b[0m \u001b[0;34m=\u001b[0m \u001b[0my1\u001b[0m\u001b[0;34m\u001b[0m\u001b[0;34m\u001b[0m\u001b[0m\n",
      "\u001b[0;32m~/boulot/torchdiffeq/torchdiffeq/_impl/fixed_grid.py\u001b[0m in \u001b[0;36mstep_func\u001b[0;34m(self, func, t, dt, y)\u001b[0m\n\u001b[1;32m      6\u001b[0m \u001b[0;34m\u001b[0m\u001b[0m\n\u001b[1;32m      7\u001b[0m     \u001b[0;32mdef\u001b[0m \u001b[0mstep_func\u001b[0m\u001b[0;34m(\u001b[0m\u001b[0mself\u001b[0m\u001b[0;34m,\u001b[0m \u001b[0mfunc\u001b[0m\u001b[0;34m,\u001b[0m \u001b[0mt\u001b[0m\u001b[0;34m,\u001b[0m \u001b[0mdt\u001b[0m\u001b[0;34m,\u001b[0m \u001b[0my\u001b[0m\u001b[0;34m)\u001b[0m\u001b[0;34m:\u001b[0m\u001b[0;34m\u001b[0m\u001b[0;34m\u001b[0m\u001b[0m\n\u001b[0;32m----> 8\u001b[0;31m         \u001b[0;32mreturn\u001b[0m \u001b[0mtuple\u001b[0m\u001b[0;34m(\u001b[0m\u001b[0mdt\u001b[0m \u001b[0;34m*\u001b[0m \u001b[0mf_\u001b[0m \u001b[0;32mfor\u001b[0m \u001b[0mf_\u001b[0m \u001b[0;32min\u001b[0m \u001b[0mfunc\u001b[0m\u001b[0;34m(\u001b[0m\u001b[0mt\u001b[0m\u001b[0;34m,\u001b[0m \u001b[0my\u001b[0m\u001b[0;34m)\u001b[0m\u001b[0;34m)\u001b[0m\u001b[0;34m\u001b[0m\u001b[0;34m\u001b[0m\u001b[0m\n\u001b[0m\u001b[1;32m      9\u001b[0m \u001b[0;34m\u001b[0m\u001b[0m\n\u001b[1;32m     10\u001b[0m     \u001b[0;34m@\u001b[0m\u001b[0mproperty\u001b[0m\u001b[0;34m\u001b[0m\u001b[0;34m\u001b[0m\u001b[0m\n",
      "\u001b[0;32m~/boulot/torchdiffeq/torchdiffeq/_impl/misc.py\u001b[0m in \u001b[0;36m<lambda>\u001b[0;34m(t, y)\u001b[0m\n\u001b[1;32m    177\u001b[0m         \u001b[0my0\u001b[0m \u001b[0;34m=\u001b[0m \u001b[0;34m(\u001b[0m\u001b[0my0\u001b[0m\u001b[0;34m,\u001b[0m\u001b[0;34m)\u001b[0m\u001b[0;34m\u001b[0m\u001b[0;34m\u001b[0m\u001b[0m\n\u001b[1;32m    178\u001b[0m         \u001b[0m_base_nontuple_func_\u001b[0m \u001b[0;34m=\u001b[0m \u001b[0mfunc\u001b[0m\u001b[0;34m\u001b[0m\u001b[0;34m\u001b[0m\u001b[0m\n\u001b[0;32m--> 179\u001b[0;31m         \u001b[0mfunc\u001b[0m \u001b[0;34m=\u001b[0m \u001b[0;32mlambda\u001b[0m \u001b[0mt\u001b[0m\u001b[0;34m,\u001b[0m \u001b[0my\u001b[0m\u001b[0;34m:\u001b[0m \u001b[0;34m(\u001b[0m\u001b[0m_base_nontuple_func_\u001b[0m\u001b[0;34m(\u001b[0m\u001b[0mt\u001b[0m\u001b[0;34m,\u001b[0m \u001b[0my\u001b[0m\u001b[0;34m[\u001b[0m\u001b[0;36m0\u001b[0m\u001b[0;34m]\u001b[0m\u001b[0;34m)\u001b[0m\u001b[0;34m,\u001b[0m\u001b[0;34m)\u001b[0m\u001b[0;34m\u001b[0m\u001b[0;34m\u001b[0m\u001b[0m\n\u001b[0m\u001b[1;32m    180\u001b[0m     \u001b[0;32massert\u001b[0m \u001b[0misinstance\u001b[0m\u001b[0;34m(\u001b[0m\u001b[0my0\u001b[0m\u001b[0;34m,\u001b[0m \u001b[0mtuple\u001b[0m\u001b[0;34m)\u001b[0m\u001b[0;34m,\u001b[0m \u001b[0;34m'y0 must be either a torch.Tensor or a tuple'\u001b[0m\u001b[0;34m\u001b[0m\u001b[0;34m\u001b[0m\u001b[0m\n\u001b[1;32m    181\u001b[0m     \u001b[0;32mfor\u001b[0m \u001b[0my0_\u001b[0m \u001b[0;32min\u001b[0m \u001b[0my0\u001b[0m\u001b[0;34m:\u001b[0m\u001b[0;34m\u001b[0m\u001b[0;34m\u001b[0m\u001b[0m\n",
      "\u001b[0;32m~/boulot/implicitmodules/implicitmodules/torch/HamiltonianDynamic/shooting.py\u001b[0m in \u001b[0;36m__call__\u001b[0;34m(self, t, x)\u001b[0m\n\u001b[1;32m     86\u001b[0m                     \u001b[0mself\u001b[0m\u001b[0;34m.\u001b[0m\u001b[0mmodule\u001b[0m\u001b[0;34m.\u001b[0m\u001b[0mfill_controls\u001b[0m\u001b[0;34m(\u001b[0m\u001b[0mself\u001b[0m\u001b[0;34m.\u001b[0m\u001b[0min_controls\u001b[0m\u001b[0;34m[\u001b[0m\u001b[0mself\u001b[0m\u001b[0;34m.\u001b[0m\u001b[0mit\u001b[0m\u001b[0;34m]\u001b[0m\u001b[0;34m)\u001b[0m\u001b[0;34m\u001b[0m\u001b[0;34m\u001b[0m\u001b[0m\n\u001b[1;32m     87\u001b[0m                 \u001b[0;32melse\u001b[0m\u001b[0;34m:\u001b[0m\u001b[0;34m\u001b[0m\u001b[0;34m\u001b[0m\u001b[0m\n\u001b[0;32m---> 88\u001b[0;31m                     \u001b[0mself\u001b[0m\u001b[0;34m.\u001b[0m\u001b[0mgeodesic_controls\u001b[0m\u001b[0;34m(\u001b[0m\u001b[0;34m)\u001b[0m\u001b[0;34m\u001b[0m\u001b[0;34m\u001b[0m\u001b[0m\n\u001b[0m\u001b[1;32m     89\u001b[0m \u001b[0;34m\u001b[0m\u001b[0m\n\u001b[1;32m     90\u001b[0m                 \u001b[0mself\u001b[0m\u001b[0;34m.\u001b[0m\u001b[0mout_controls\u001b[0m\u001b[0;34m.\u001b[0m\u001b[0mappend\u001b[0m\u001b[0;34m(\u001b[0m\u001b[0mlist\u001b[0m\u001b[0;34m(\u001b[0m\u001b[0mmap\u001b[0m\u001b[0;34m(\u001b[0m\u001b[0;32mlambda\u001b[0m \u001b[0mx\u001b[0m\u001b[0;34m:\u001b[0m \u001b[0mx\u001b[0m\u001b[0;34m.\u001b[0m\u001b[0mdetach\u001b[0m\u001b[0;34m(\u001b[0m\u001b[0;34m)\u001b[0m\u001b[0;34m.\u001b[0m\u001b[0mclone\u001b[0m\u001b[0;34m(\u001b[0m\u001b[0;34m)\u001b[0m\u001b[0;34m,\u001b[0m \u001b[0mself\u001b[0m\u001b[0;34m.\u001b[0m\u001b[0mmodule\u001b[0m\u001b[0;34m.\u001b[0m\u001b[0mcontrols\u001b[0m\u001b[0;34m)\u001b[0m\u001b[0;34m)\u001b[0m\u001b[0;34m)\u001b[0m\u001b[0;34m\u001b[0m\u001b[0;34m\u001b[0m\u001b[0m\n",
      "\u001b[0;32m~/boulot/implicitmodules/implicitmodules/torch/HamiltonianDynamic/hamiltonian.py\u001b[0m in \u001b[0;36mgeodesic_controls\u001b[0;34m(self)\u001b[0m\n\u001b[1;32m     30\u001b[0m \u001b[0;34m\u001b[0m\u001b[0m\n\u001b[1;32m     31\u001b[0m     \u001b[0;32mdef\u001b[0m \u001b[0mgeodesic_controls\u001b[0m\u001b[0;34m(\u001b[0m\u001b[0mself\u001b[0m\u001b[0;34m)\u001b[0m\u001b[0;34m:\u001b[0m\u001b[0;34m\u001b[0m\u001b[0;34m\u001b[0m\u001b[0m\n\u001b[0;32m---> 32\u001b[0;31m         \u001b[0mself\u001b[0m\u001b[0;34m.\u001b[0m\u001b[0m__module\u001b[0m\u001b[0;34m.\u001b[0m\u001b[0mcompute_geodesic_control\u001b[0m\u001b[0;34m(\u001b[0m\u001b[0mself\u001b[0m\u001b[0;34m.\u001b[0m\u001b[0m__module\u001b[0m\u001b[0;34m.\u001b[0m\u001b[0mmanifold\u001b[0m\u001b[0;34m)\u001b[0m\u001b[0;34m\u001b[0m\u001b[0;34m\u001b[0m\u001b[0m\n\u001b[0m\u001b[1;32m     33\u001b[0m \u001b[0;34m\u001b[0m\u001b[0m\n",
      "\u001b[0;32m~/boulot/implicitmodules/implicitmodules/torch/DeformationModules/Combination.py\u001b[0m in \u001b[0;36mcompute_geodesic_control\u001b[0;34m(self, man)\u001b[0m\n\u001b[1;32m     77\u001b[0m         \u001b[0;34mr\"\"\"Computes geodesic control from \\delta \\in H^\\ast.\"\"\"\u001b[0m\u001b[0;34m\u001b[0m\u001b[0;34m\u001b[0m\u001b[0m\n\u001b[1;32m     78\u001b[0m         \u001b[0;32mfor\u001b[0m \u001b[0mi\u001b[0m \u001b[0;32min\u001b[0m \u001b[0mrange\u001b[0m\u001b[0;34m(\u001b[0m\u001b[0mself\u001b[0m\u001b[0;34m.\u001b[0m\u001b[0mnb_module\u001b[0m\u001b[0;34m)\u001b[0m\u001b[0;34m:\u001b[0m\u001b[0;34m\u001b[0m\u001b[0;34m\u001b[0m\u001b[0m\n\u001b[0;32m---> 79\u001b[0;31m             \u001b[0mself\u001b[0m\u001b[0;34m.\u001b[0m\u001b[0m__module_list\u001b[0m\u001b[0;34m[\u001b[0m\u001b[0mi\u001b[0m\u001b[0;34m]\u001b[0m\u001b[0;34m.\u001b[0m\u001b[0mcompute_geodesic_control\u001b[0m\u001b[0;34m(\u001b[0m\u001b[0mman\u001b[0m\u001b[0;34m)\u001b[0m\u001b[0;34m\u001b[0m\u001b[0;34m\u001b[0m\u001b[0m\n\u001b[0m\u001b[1;32m     80\u001b[0m \u001b[0;34m\u001b[0m\u001b[0m\n\u001b[1;32m     81\u001b[0m     \u001b[0;32mdef\u001b[0m \u001b[0mfield_generator\u001b[0m\u001b[0;34m(\u001b[0m\u001b[0mself\u001b[0m\u001b[0;34m)\u001b[0m\u001b[0;34m:\u001b[0m\u001b[0;34m\u001b[0m\u001b[0;34m\u001b[0m\u001b[0m\n",
      "\u001b[0;32m~/boulot/implicitmodules/implicitmodules/torch/DeformationModules/ElasticOrder1.py\u001b[0m in \u001b[0;36mcompute_geodesic_control\u001b[0;34m(self, man)\u001b[0m\n\u001b[1;32m     86\u001b[0m         \u001b[0mc\u001b[0m\u001b[0;34m,\u001b[0m \u001b[0m_\u001b[0m \u001b[0;34m=\u001b[0m \u001b[0mtorch\u001b[0m\u001b[0;34m.\u001b[0m\u001b[0msolve\u001b[0m\u001b[0;34m(\u001b[0m\u001b[0mtorch\u001b[0m\u001b[0;34m.\u001b[0m\u001b[0mmm\u001b[0m\u001b[0;34m(\u001b[0m\u001b[0maq\u001b[0m\u001b[0;34m.\u001b[0m\u001b[0mt\u001b[0m\u001b[0;34m(\u001b[0m\u001b[0;34m)\u001b[0m\u001b[0;34m,\u001b[0m \u001b[0mtlambdas\u001b[0m\u001b[0;34m)\u001b[0m\u001b[0;34m,\u001b[0m \u001b[0maqkiaq\u001b[0m\u001b[0;34m)\u001b[0m\u001b[0;34m\u001b[0m\u001b[0;34m\u001b[0m\u001b[0m\n\u001b[1;32m     87\u001b[0m         \u001b[0mself\u001b[0m\u001b[0;34m.\u001b[0m\u001b[0m__controls\u001b[0m \u001b[0;34m=\u001b[0m \u001b[0mc\u001b[0m\u001b[0;34m.\u001b[0m\u001b[0mreshape\u001b[0m\u001b[0;34m(\u001b[0m\u001b[0;34m-\u001b[0m\u001b[0;36m1\u001b[0m\u001b[0;34m)\u001b[0m\u001b[0;34m\u001b[0m\u001b[0;34m\u001b[0m\u001b[0m\n\u001b[0;32m---> 88\u001b[0;31m         \u001b[0mself\u001b[0m\u001b[0;34m.\u001b[0m\u001b[0m__compute_moments\u001b[0m\u001b[0;34m(\u001b[0m\u001b[0;34m)\u001b[0m\u001b[0;34m\u001b[0m\u001b[0;34m\u001b[0m\u001b[0m\n\u001b[0m\u001b[1;32m     89\u001b[0m \u001b[0;34m\u001b[0m\u001b[0m\n\u001b[1;32m     90\u001b[0m     \u001b[0;32mdef\u001b[0m \u001b[0mfield_generator\u001b[0m\u001b[0;34m(\u001b[0m\u001b[0mself\u001b[0m\u001b[0;34m)\u001b[0m\u001b[0;34m:\u001b[0m\u001b[0;34m\u001b[0m\u001b[0;34m\u001b[0m\u001b[0m\n",
      "\u001b[0;32m~/boulot/implicitmodules/implicitmodules/torch/DeformationModules/ElasticOrder1.py\u001b[0m in \u001b[0;36m__compute_moments\u001b[0;34m(self)\u001b[0m\n\u001b[1;32m    108\u001b[0m     \u001b[0;32mdef\u001b[0m \u001b[0m__compute_moments\u001b[0m\u001b[0;34m(\u001b[0m\u001b[0mself\u001b[0m\u001b[0;34m)\u001b[0m\u001b[0;34m:\u001b[0m\u001b[0;34m\u001b[0m\u001b[0;34m\u001b[0m\u001b[0m\n\u001b[1;32m    109\u001b[0m         \u001b[0mself\u001b[0m\u001b[0;34m.\u001b[0m\u001b[0m__aqh\u001b[0m \u001b[0;34m=\u001b[0m \u001b[0mself\u001b[0m\u001b[0;34m.\u001b[0m\u001b[0m__compute_aqh\u001b[0m\u001b[0;34m(\u001b[0m\u001b[0mself\u001b[0m\u001b[0;34m.\u001b[0m\u001b[0m__controls\u001b[0m\u001b[0;34m)\u001b[0m\u001b[0;34m\u001b[0m\u001b[0;34m\u001b[0m\u001b[0m\n\u001b[0;32m--> 110\u001b[0;31m         \u001b[0mlambdas\u001b[0m\u001b[0;34m,\u001b[0m \u001b[0m_\u001b[0m \u001b[0;34m=\u001b[0m \u001b[0mtorch\u001b[0m\u001b[0;34m.\u001b[0m\u001b[0msolve\u001b[0m\u001b[0;34m(\u001b[0m\u001b[0mself\u001b[0m\u001b[0;34m.\u001b[0m\u001b[0m__aqh\u001b[0m\u001b[0;34m.\u001b[0m\u001b[0mview\u001b[0m\u001b[0;34m(\u001b[0m\u001b[0;34m-\u001b[0m\u001b[0;36m1\u001b[0m\u001b[0;34m,\u001b[0m \u001b[0;36m1\u001b[0m\u001b[0;34m)\u001b[0m\u001b[0;34m,\u001b[0m \u001b[0mself\u001b[0m\u001b[0;34m.\u001b[0m\u001b[0m__sks\u001b[0m\u001b[0;34m)\u001b[0m\u001b[0;34m\u001b[0m\u001b[0;34m\u001b[0m\u001b[0m\n\u001b[0m\u001b[1;32m    111\u001b[0m         \u001b[0mself\u001b[0m\u001b[0;34m.\u001b[0m\u001b[0m__lambdas\u001b[0m \u001b[0;34m=\u001b[0m \u001b[0mlambdas\u001b[0m\u001b[0;34m.\u001b[0m\u001b[0mcontiguous\u001b[0m\u001b[0;34m(\u001b[0m\u001b[0;34m)\u001b[0m\u001b[0;34m\u001b[0m\u001b[0;34m\u001b[0m\u001b[0m\n\u001b[1;32m    112\u001b[0m         \u001b[0mself\u001b[0m\u001b[0;34m.\u001b[0m\u001b[0m__moments\u001b[0m \u001b[0;34m=\u001b[0m \u001b[0mtorch\u001b[0m\u001b[0;34m.\u001b[0m\u001b[0mtensordot\u001b[0m\u001b[0;34m(\u001b[0m\u001b[0mself\u001b[0m\u001b[0;34m.\u001b[0m\u001b[0m__lambdas\u001b[0m\u001b[0;34m.\u001b[0m\u001b[0mview\u001b[0m\u001b[0;34m(\u001b[0m\u001b[0;34m-\u001b[0m\u001b[0;36m1\u001b[0m\u001b[0;34m,\u001b[0m \u001b[0;36m3\u001b[0m\u001b[0;34m)\u001b[0m\u001b[0;34m,\u001b[0m \u001b[0mtorch\u001b[0m\u001b[0;34m.\u001b[0m\u001b[0mtranspose\u001b[0m\u001b[0;34m(\u001b[0m\u001b[0meta\u001b[0m\u001b[0;34m(\u001b[0m\u001b[0;34m)\u001b[0m\u001b[0;34m,\u001b[0m \u001b[0;36m0\u001b[0m\u001b[0;34m,\u001b[0m \u001b[0;36m2\u001b[0m\u001b[0;34m)\u001b[0m\u001b[0;34m,\u001b[0m \u001b[0mdims\u001b[0m\u001b[0;34m=\u001b[0m\u001b[0;36m1\u001b[0m\u001b[0;34m)\u001b[0m\u001b[0;34m\u001b[0m\u001b[0;34m\u001b[0m\u001b[0m\n",
      "\u001b[0;31mKeyboardInterrupt\u001b[0m: "
     ]
    }
   ],
   "source": [
    "sample_count = 40\n",
    "samples = [peanut.tolist()]\n",
    "for i in range(sample_count):\n",
    "    print(\"Generating sample\", i)\n",
    "    samples.append(sample(peanut, pts_implicit1, R, C, 0.4).tolist())"
   ]
  },
  {
   "cell_type": "code",
   "execution_count": 6,
   "metadata": {
    "autoscroll": false,
    "collapsed": false,
    "ein.hycell": false,
    "ein.tags": "worksheet-0",
    "slideshow": {
     "slide_type": "-"
    }
   },
   "outputs": [
    {
     "ename": "NameError",
     "evalue": "name 'samples' is not defined",
     "output_type": "error",
     "traceback": [
      "\u001b[0;31m\u001b[0m",
      "\u001b[0;31mNameError\u001b[0mTraceback (most recent call last)",
      "\u001b[0;32m<ipython-input-6-a8dc46da0525>\u001b[0m in \u001b[0;36m<module>\u001b[0;34m\u001b[0m\n\u001b[1;32m      7\u001b[0m     \u001b[0;32mfor\u001b[0m \u001b[0mi\u001b[0m \u001b[0;32min\u001b[0m \u001b[0mrange\u001b[0m\u001b[0;34m(\u001b[0m\u001b[0mnb_plot_row\u001b[0m\u001b[0;34m)\u001b[0m\u001b[0;34m:\u001b[0m\u001b[0;34m\u001b[0m\u001b[0;34m\u001b[0m\u001b[0m\n\u001b[1;32m      8\u001b[0m         \u001b[0;32mfor\u001b[0m \u001b[0mj\u001b[0m \u001b[0;32min\u001b[0m \u001b[0mrange\u001b[0m\u001b[0;34m(\u001b[0m\u001b[0mnb_plot_col\u001b[0m\u001b[0;34m)\u001b[0m\u001b[0;34m:\u001b[0m\u001b[0;34m\u001b[0m\u001b[0;34m\u001b[0m\u001b[0m\n\u001b[0;32m----> 9\u001b[0;31m             \u001b[0;32mif\u001b[0m \u001b[0mcur_plot_index\u001b[0m \u001b[0;34m<\u001b[0m \u001b[0mlen\u001b[0m\u001b[0;34m(\u001b[0m\u001b[0msamples\u001b[0m\u001b[0;34m)\u001b[0m\u001b[0;34m:\u001b[0m\u001b[0;34m\u001b[0m\u001b[0;34m\u001b[0m\u001b[0m\n\u001b[0m\u001b[1;32m     10\u001b[0m                 \u001b[0mplt\u001b[0m\u001b[0;34m.\u001b[0m\u001b[0msubplot\u001b[0m\u001b[0;34m(\u001b[0m\u001b[0mnb_plot_row\u001b[0m\u001b[0;34m,\u001b[0m \u001b[0mnb_plot_col\u001b[0m\u001b[0;34m,\u001b[0m \u001b[0mnb_plot_row\u001b[0m\u001b[0;34m*\u001b[0m\u001b[0mi\u001b[0m\u001b[0;34m+\u001b[0m\u001b[0mj\u001b[0m\u001b[0;34m+\u001b[0m\u001b[0;36m1\u001b[0m\u001b[0;34m)\u001b[0m\u001b[0;34m\u001b[0m\u001b[0;34m\u001b[0m\u001b[0m\n\u001b[1;32m     11\u001b[0m                 \u001b[0mplt\u001b[0m\u001b[0;34m.\u001b[0m\u001b[0mplot\u001b[0m\u001b[0;34m(\u001b[0m\u001b[0mnp\u001b[0m\u001b[0;34m.\u001b[0m\u001b[0masarray\u001b[0m\u001b[0;34m(\u001b[0m\u001b[0msamples\u001b[0m\u001b[0;34m[\u001b[0m\u001b[0mcur_plot_index\u001b[0m\u001b[0;34m]\u001b[0m\u001b[0;34m)\u001b[0m\u001b[0;34m[\u001b[0m\u001b[0;34m:\u001b[0m\u001b[0;34m,\u001b[0m \u001b[0;36m0\u001b[0m\u001b[0;34m]\u001b[0m\u001b[0;34m,\u001b[0m \u001b[0mnp\u001b[0m\u001b[0;34m.\u001b[0m\u001b[0masarray\u001b[0m\u001b[0;34m(\u001b[0m\u001b[0msamples\u001b[0m\u001b[0;34m[\u001b[0m\u001b[0mcur_plot_index\u001b[0m\u001b[0;34m]\u001b[0m\u001b[0;34m)\u001b[0m\u001b[0;34m[\u001b[0m\u001b[0;34m:\u001b[0m\u001b[0;34m,\u001b[0m \u001b[0;36m1\u001b[0m\u001b[0;34m]\u001b[0m\u001b[0;34m)\u001b[0m\u001b[0;34m\u001b[0m\u001b[0;34m\u001b[0m\u001b[0m\n",
      "\u001b[0;31mNameError\u001b[0m: name 'samples' is not defined"
     ]
    }
   ],
   "source": [
    "# Does not work somehow\n",
    "\n",
    "nb_plot_row = 5\n",
    "nb_plot_col = 5\n",
    "cur_plot_index = 0\n",
    "while True:\n",
    "    for i in range(nb_plot_row):\n",
    "        for j in range(nb_plot_col):\n",
    "            if cur_plot_index < len(samples):\n",
    "                plt.subplot(nb_plot_row, nb_plot_col, nb_plot_row*i+j+1)\n",
    "                plt.plot(np.asarray(samples[cur_plot_index])[:, 0], np.asarray(samples[cur_plot_index])[:, 1])\n",
    "                cur_plot_index = cur_plot_index + 1\n",
    "            else:\n",
    "                plt.show()\n",
    "                break\n",
    "\n",
    "    plt.show()        "
   ]
  },
  {
   "cell_type": "code",
   "execution_count": 9,
   "metadata": {
    "autoscroll": false,
    "collapsed": false,
    "ein.hycell": false,
    "ein.tags": "worksheet-0",
    "slideshow": {
     "slide_type": "-"
    }
   },
   "outputs": [],
   "source": [
    "pickle.dump({'c_gt_pos': pts_implicit1, 'c_gt': C, 'dataset': samples}, open(\"../../data/deformed_peanuts.pkl\", 'wb'))"
   ]
  }
 ],
 "metadata": {
  "kernelspec": {
   "display_name": "Python 3",
   "name": "python3"
  },
  "name": "deformed_peanuts.ipynb"
 },
 "nbformat": 4,
 "nbformat_minor": 2
}
