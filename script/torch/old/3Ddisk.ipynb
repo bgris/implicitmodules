{
 "cells": [
  {
   "cell_type": "code",
   "execution_count": null,
   "metadata": {
    "autoscroll": false,
    "collapsed": false,
    "ein.hycell": false,
    "ein.tags": "worksheet-0",
    "slideshow": {
     "slide_type": "-"
    }
   },
   "outputs": [],
   "source": [
    "%load_ext autoreload\n",
    "%autoreload 2\n",
    "\n",
    "import sys\n",
    "import copy\n",
    "import math\n",
    "import pickle\n",
    "\n",
    "sys.path.append(\"../../\")\n",
    "\n",
    "import numpy as np\n",
    "import torch\n",
    "import matplotlib.pyplot as plt\n",
    "from mpl_toolkits.mplot3d import Axes3D\n",
    "import meshio\n",
    "\n",
    "import implicitmodules.torch as dm\n",
    "\n",
    "torch.set_default_tensor_type(torch.FloatTensor)\n",
    "\n",
    "dm.Utilities.set_compute_backend('torch')"
   ]
  },
  {
   "cell_type": "code",
   "execution_count": null,
   "metadata": {
    "autoscroll": false,
    "collapsed": false,
    "ein.hycell": false,
    "ein.tags": "worksheet-0",
    "slideshow": {
     "slide_type": "-"
    }
   },
   "outputs": [],
   "source": [
    "dim = 3"
   ]
  },
  {
   "cell_type": "code",
   "execution_count": null,
   "metadata": {
    "autoscroll": false,
    "collapsed": false,
    "ein.hycell": false,
    "ein.tags": "worksheet-0",
    "slideshow": {
     "slide_type": "-"
    }
   },
   "outputs": [],
   "source": [
    "r_rmin = 0.5\n",
    "r_rmax = 5.\n",
    "n_rowrigid = 5\n",
    "r_rigid = torch.linspace(r_rmin, r_rmax, n_rowrigid)\n",
    "r_gmin = 5.8\n",
    "r_gmax = 6.5\n",
    "n_rowgrowth = 2\n",
    "r_growth = torch.linspace(r_gmin, r_gmax, n_rowgrowth)\n",
    "\n",
    "npts_row = 20\n",
    "theta = torch.linspace(0., 2 * math.pi, npts_row + 1)[:-1]\n",
    "\n",
    "pts_rigid = torch.cat([ torch.tensor([[r * math.cos(th), r * math.sin(th)] for th in theta]) for r in r_rigid])\n",
    "pts_growth = torch.cat([ torch.tensor([[r * math.cos(th), r * math.sin(th)] for th in theta]) for r in r_growth])"
   ]
  },
  {
   "cell_type": "code",
   "execution_count": null,
   "metadata": {
    "autoscroll": false,
    "collapsed": false,
    "ein.hycell": false,
    "ein.tags": "worksheet-0",
    "slideshow": {
     "slide_type": "-"
    }
   },
   "outputs": [],
   "source": [
    "plt.figure()\n",
    "plt.plot(pts_rigid[:,0], pts_rigid[:,1], '.b')\n",
    "plt.plot(pts_growth[:,0], pts_growth[:,1], '.r')\n",
    "plt.axis('equal')"
   ]
  },
  {
   "cell_type": "code",
   "execution_count": null,
   "metadata": {
    "autoscroll": false,
    "collapsed": false,
    "ein.hycell": false,
    "ein.tags": "worksheet-0",
    "slideshow": {
     "slide_type": "-"
    }
   },
   "outputs": [],
   "source": [
    "N_rigid = pts_rigid.shape[0]\n",
    "N_growth = pts_growth.shape[0]\n",
    "eps = 0.5\n",
    "pts_implicit1_m = torch.cat([torch.cat([pts_rigid, pts_growth]).clone(), torch.zeros([N_rigid + N_growth, 1])], dim = 1)\n",
    "pts_implicit1_t = torch.cat([torch.cat([pts_rigid, pts_growth]).clone(), eps + torch.zeros([N_rigid + N_growth, 1])], dim = 1)\n",
    "pts_implicit1_d = torch.cat([torch.cat([pts_rigid, pts_growth]).clone(), -eps + torch.zeros([N_rigid + N_growth, 1])], dim = 1)\n",
    "pts_implicit1_m.shape"
   ]
  },
  {
   "cell_type": "code",
   "execution_count": null,
   "metadata": {
    "autoscroll": false,
    "collapsed": false,
    "ein.hycell": false,
    "ein.tags": "worksheet-0",
    "slideshow": {
     "slide_type": "-"
    }
   },
   "outputs": [],
   "source": [
    "pts_implicit1 = torch.cat([pts_implicit1_t, pts_implicit1_m, pts_implicit1_d])\n",
    "print(pts_implicit1.shape)"
   ]
  },
  {
   "cell_type": "code",
   "execution_count": null,
   "metadata": {
    "autoscroll": false,
    "collapsed": false,
    "ein.hycell": false,
    "ein.tags": "worksheet-0",
    "slideshow": {
     "slide_type": "-"
    }
   },
   "outputs": [],
   "source": [
    "C = torch.zeros(pts_implicit1.shape[0], dim, 1)\n",
    "C[N_rigid:, 2, 0] = 1.\n",
    "C[]\n",
    "import copy\n",
    "import math"
   ]
  },
  {
   "cell_type": "code",
   "execution_count": null,
   "metadata": {
    "autoscroll": false,
    "collapsed": false,
    "ein.hycell": false,
    "ein.tags": "worksheet-0",
    "slideshow": {
     "slide_type": "-"
    }
   },
   "outputs": [],
   "source": [
    "R_2D_init = torch.stack([dm.Utilities.rot2d(a) for a in theta])\n",
    "R = torch.cat([torch.stack([torch.cat([torch.cat([r.clone(), torch.zeros([2,1])], dim = 1), torch.tensor([[0., 0., 1.]])], dim=0) for r in R_2D_init]) for i in range(n_rowrigid + n_rowgrowth)])\n",
    "#R = torch.stack(R)"
   ]
  },
  {
   "cell_type": "code",
   "execution_count": null,
   "metadata": {
    "autoscroll": false,
    "collapsed": false,
    "ein.hycell": false,
    "ein.tags": "worksheet-0",
    "slideshow": {
     "slide_type": "-"
    }
   },
   "outputs": [],
   "source": [
    "R[5]"
   ]
  },
  {
   "cell_type": "code",
   "execution_count": null,
   "metadata": {
    "autoscroll": false,
    "collapsed": false,
    "ein.hycell": false,
    "ein.tags": "worksheet-0",
    "slideshow": {
     "slide_type": "-"
    }
   },
   "outputs": [],
   "source": [
    "R_2D_init[5]"
   ]
  },
  {
   "cell_type": "code",
   "execution_count": null,
   "metadata": {
    "autoscroll": false,
    "collapsed": false,
    "ein.hycell": false,
    "ein.tags": "worksheet-0",
    "slideshow": {
     "slide_type": "-"
    }
   },
   "outputs": [],
   "source": [
    "print(pts_implicit1.shape)\n",
    "print(C.shape)\n",
    "print(R.shape)"
   ]
  },
  {
   "cell_type": "code",
   "execution_count": null,
   "metadata": {
    "autoscroll": false,
    "collapsed": false,
    "ein.hycell": false,
    "ein.tags": "worksheet-0",
    "slideshow": {
     "slide_type": "-"
    }
   },
   "outputs": [],
   "source": [
    "#pllt the projection on 2D plane\n",
    "#%matplotlib qt5\n",
    "ax_left = plt.subplot(1, 1, 1)\n",
    "plt.plot(pts_implicit1[:,0], pts_implicit1[:,1], 'xk')\n",
    "plt.plot(pts_implicit1[:N_rigid,0], pts_implicit1[:N_rigid,1], 'ok')\n",
    "dm.Utilities.plot_C_ellipse(ax_left, pts_implicit1[:,:2], C[:,:2,:], R[:,:2,:2], c_index=0, scale=0.5, color='red')\n",
    "plt.axis('equal')"
   ]
  },
  {
   "cell_type": "code",
   "execution_count": null,
   "metadata": {
    "autoscroll": false,
    "collapsed": false,
    "ein.hycell": false,
    "ein.tags": "worksheet-0",
    "slideshow": {
     "slide_type": "-"
    }
   },
   "outputs": [],
   "source": [
    "sigma1 = 5.\n",
    "implicit1 = dm.DeformationModules.ImplicitModule1.build_and_fill(dim, pts_implicit1.shape[0], C, sigma1, 0.001, gd=(pts_implicit1.view(-1).requires_grad_(), R.view(-1).requires_grad_()))"
   ]
  },
  {
   "cell_type": "code",
   "execution_count": null,
   "metadata": {
    "autoscroll": false,
    "collapsed": false,
    "ein.hycell": false,
    "ein.tags": "worksheet-0",
    "slideshow": {
     "slide_type": "-"
    }
   },
   "outputs": [],
   "source": [
    "cotan = torch.zeros_like(pts_implicit1)\n",
    "mm = 5000.\n",
    "cotan[N_rigid + 1, 1:] = mm\n",
    "cotan[N_rigid + 19, 1:] = -mm\n",
    "cotan[N_rigid + 21, 1:] = mm\n",
    "cotan[-1, 1:] = -mm\n",
    "\n",
    "\n",
    "cotan[N_rigid + 9, 1:] = mm\n",
    "cotan[N_rigid + 11, 1:] = -mm\n",
    "cotan[N_rigid + 29, 1:] = mm\n",
    "cotan[N_rigid + 31, 1:] = -mm\n",
    "\n",
    "cotan[N_rigid + 4, 0] = mm\n",
    "cotan[N_rigid + 6, 0] = -mm\n",
    "cotan[N_rigid + 24, 0] = mm\n",
    "cotan[N_rigid + 26, 0] = -mm\n",
    "\n",
    "cotan[N_rigid + 14, 0] = -mm\n",
    "cotan[N_rigid + 16, 0] = mm\n",
    "cotan[N_rigid + 34, 0] = -mm\n",
    "cotan[N_rigid + 36, 0] = mm\n",
    "\n",
    "\n",
    "implicit1.manifold.fill_cotan([cotan.view(-1).requires_grad_(), torch.zeros_like(R).requires_grad_()])"
   ]
  },
  {
   "cell_type": "code",
   "execution_count": null,
   "metadata": {
    "autoscroll": false,
    "collapsed": false,
    "ein.hycell": false,
    "ein.tags": "worksheet-0",
    "slideshow": {
     "slide_type": "-"
    }
   },
   "outputs": [],
   "source": [
    "#plot the projection on 2D plane\n",
    "#%matplotlib inline\n",
    "ax_left = plt.subplot(1, 1, 1)\n",
    "plt.plot(pts_implicit1[:,0], pts_implicit1[:,1], '.k')\n",
    "#plt.plot(pts_implicit1[:N_rigid,0], pts_implicit1[:N_rigid,1], 'ok')\n",
    "plt.quiver(pts_implicit1[:,0], pts_implicit1[:,1], cotan[:,0], cotan[:,1])\n",
    "#dm.Utilities.plot_C_ellipse(ax_left, pts_implicit1[:,:2], C[:,:2,:], R[:,:2,:2], c_index=0, scale=0.5, color='red')\n",
    "plt.axis('equal')"
   ]
  },
  {
   "cell_type": "code",
   "execution_count": null,
   "metadata": {
    "autoscroll": false,
    "collapsed": false,
    "ein.hycell": false,
    "ein.tags": "worksheet-0",
    "slideshow": {
     "slide_type": "-"
    }
   },
   "outputs": [],
   "source": [
    "dm.HamiltonianDynamic.shoot(dm.HamiltonianDynamic.Hamiltonian([implicit1]), 10, 'euler')\n",
    "pts = implicit1.manifold.gd[0].detach().view(-1, dim)"
   ]
  },
  {
   "cell_type": "code",
   "execution_count": null,
   "metadata": {
    "autoscroll": false,
    "collapsed": false,
    "ein.hycell": false,
    "ein.tags": "worksheet-0",
    "slideshow": {
     "slide_type": "-"
    }
   },
   "outputs": [],
   "source": [
    "#plot the projection on 2D plane\n",
    "#%matplotlib inline\n",
    "ax_left = plt.subplot(1, 1, 1)\n",
    "plt.plot(pts_implicit1[:,0], pts_implicit1[:,1], '.k')\n",
    "#plt.plot(pts_implicit1[:N_rigid,0], pts_implicit1[:N_rigid,1], 'ok')\n",
    "#plt.quiver(pts_implicit1[:,0], pts_implicit1[:,1], cotan[:,0], cotan[:,1])\n",
    "plt.plot(pts[:,0], pts[:,1], 'xr')\n",
    "#dm.Utilities.plot_C_ellipse(ax_left, pts_implicit1[:,:2], C[:,:2,:], R[:,:2,:2], c_index=0, scale=0.5, color='red')\n",
    "plt.axis('equal')"
   ]
  },
  {
   "cell_type": "code",
   "execution_count": null,
   "metadata": {
    "autoscroll": false,
    "collapsed": false,
    "ein.hycell": false,
    "ein.tags": "worksheet-0",
    "slideshow": {
     "slide_type": "-"
    }
   },
   "outputs": [],
   "source": [
    "pts"
   ]
  },
  {
   "cell_type": "code",
   "execution_count": null,
   "metadata": {
    "autoscroll": false,
    "collapsed": false,
    "ein.hycell": false,
    "ein.tags": "worksheet-0",
    "slideshow": {
     "slide_type": "-"
    }
   },
   "outputs": [],
   "source": [
    "# plot 3D\n",
    "%matplotlib qt5\n",
    "fig = plt.figure()\n",
    "\n",
    "ax = fig.add_subplot(121, projection='3d')\n",
    "ax.scatter(pts_implicit1[:, 0].numpy(), pts_implicit1[:, 1].numpy(), pts_implicit1[:, 2].numpy(), marker='.')\n",
    "ax.scatter(pts[:, 0].numpy(), pts[:, 1].numpy(), pts[:, 2].numpy(), marker='x', color='r')\n",
    "set_aspect_equal_3d(ax)"
   ]
  },
  {
   "cell_type": "code",
   "execution_count": null,
   "metadata": {
    "autoscroll": false,
    "collapsed": false,
    "ein.hycell": false,
    "ein.tags": "worksheet-0",
    "slideshow": {
     "slide_type": "-"
    }
   },
   "outputs": [],
   "source": [
    "def set_aspect_equal_3d(ax):\n",
    "    \"\"\"Fix equal aspect bug for 3D plots.\"\"\"\n",
    "\n",
    "    xlim = ax.get_xlim3d()\n",
    "    ylim = ax.get_ylim3d()\n",
    "    zlim = ax.get_zlim3d()\n",
    "\n",
    "    from numpy import mean\n",
    "    xmean = mean(xlim)\n",
    "    ymean = mean(ylim)\n",
    "    zmean = mean(zlim)\n",
    "\n",
    "    plot_radius = max([abs(lim - mean_)\n",
    "                       for lims, mean_ in ((xlim, xmean),\n",
    "                                           (ylim, ymean),\n",
    "                                           (zlim, zmean))\n",
    "                       for lim in lims])\n",
    "\n",
    "    ax.set_xlim3d([xmean - plot_radius, xmean + plot_radius])\n",
    "    ax.set_ylim3d([ymean - plot_radius, ymean + plot_radius])\n",
    "    ax.set_zlim3d([zmean - plot_radius, zmean + plot_radius])"
   ]
  },
  {
   "cell_type": "code",
   "execution_count": null,
   "metadata": {
    "autoscroll": false,
    "collapsed": false,
    "ein.hycell": false,
    "ein.tags": "worksheet-0",
    "slideshow": {
     "slide_type": "-"
    }
   },
   "outputs": [],
   "source": []
  },
  {
   "cell_type": "code",
   "execution_count": null,
   "metadata": {
    "autoscroll": false,
    "collapsed": false,
    "ein.hycell": false,
    "ein.tags": "worksheet-0",
    "slideshow": {
     "slide_type": "-"
    }
   },
   "outputs": [],
   "source": [
    "#implicit1.compute_geodesic_control(implicit1.manifold)\n",
    "v = implicit1(implicit1.manifold.gd[0].view(-1, dim)).detach()\n",
    "print(implicit1.controls)"
   ]
  },
  {
   "cell_type": "code",
   "execution_count": null,
   "metadata": {
    "autoscroll": false,
    "collapsed": false,
    "ein.hycell": false,
    "ein.tags": "worksheet-0",
    "slideshow": {
     "slide_type": "-"
    }
   },
   "outputs": [],
   "source": [
    "v"
   ]
  },
  {
   "cell_type": "code",
   "execution_count": null,
   "metadata": {
    "autoscroll": false,
    "collapsed": false,
    "ein.hycell": false,
    "ein.tags": "worksheet-0",
    "slideshow": {
     "slide_type": "-"
    }
   },
   "outputs": [],
   "source": [
    "%matplotlib qt5\n",
    "fig = plt.figure()\n",
    "ax = fig.gca(projection='3d')\n",
    "ax.scatter(pts_implicit1[:, 0].numpy(), pts_implicit1[:, 1].numpy(), pts_implicit1[:, 2].numpy(), marker='.')\n",
    "ax.quiver(pts_implicit1[:, 0].numpy(), pts_implicit1[:, 1].numpy(), pts_implicit1[:, 2].numpy(), v[:, 0].numpy(), v[:, 1].numpy(), v[:, 2].numpy(), length=0.1, normalize=False)"
   ]
  },
  {
   "cell_type": "code",
   "execution_count": null,
   "metadata": {
    "autoscroll": false,
    "collapsed": false,
    "ein.hycell": false,
    "ein.tags": "worksheet-0",
    "slideshow": {
     "slide_type": "-"
    }
   },
   "outputs": [],
   "source": []
  },
  {
   "cell_type": "code",
   "execution_count": null,
   "metadata": {
    "autoscroll": false,
    "collapsed": false,
    "ein.hycell": false,
    "ein.tags": "worksheet-0",
    "slideshow": {
     "slide_type": "-"
    }
   },
   "outputs": [],
   "source": []
  },
  {
   "cell_type": "code",
   "execution_count": null,
   "metadata": {
    "autoscroll": false,
    "collapsed": false,
    "ein.hycell": false,
    "ein.tags": "worksheet-0",
    "scrolled": true,
    "slideshow": {
     "slide_type": "-"
    }
   },
   "outputs": [],
   "source": [
    "pts.shape"
   ]
  }
 ],
 "metadata": {
  "kernelspec": {
   "display_name": "Python 3",
   "name": "python3"
  },
  "language_info": {
   "codemirror_mode": {
    "name": "ipython",
    "version": 3
   },
   "file_extension": ".py",
   "mimetype": "text/x-python",
   "name": "python",
   "nbconvert_exporter": "python",
   "pygments_lexer": "ipython3",
   "version": "3.5.2"
  },
  "name": "3Ddisk.ipynb"
 },
 "nbformat": 4,
 "nbformat_minor": 2
}
