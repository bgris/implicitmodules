{
 "cells": [
  {
   "cell_type": "code",
   "execution_count": 1,
   "metadata": {
    "autoscroll": false,
    "ein.hycell": false,
    "ein.tags": "worksheet-0",
    "slideshow": {
     "slide_type": "-"
    }
   },
   "outputs": [],
   "source": [
    "%load_ext autoreload\n",
    "%autoreload 2\n",
    "\n",
    "import sys\n",
    "import copy\n",
    "import math\n",
    "import pickle\n",
    "\n",
    "sys.path.append(\"../../\")\n",
    "\n",
    "import numpy as np\n",
    "import torch\n",
    "import matplotlib.pyplot as plt\n",
    "\n",
    "import implicitmodules.torch as dm\n",
    "\n",
    "#torch.set_num_threads(6)\n",
    "torch.set_default_tensor_type(torch.FloatTensor)"
   ]
  },
  {
   "cell_type": "code",
   "execution_count": 2,
   "metadata": {
    "autoscroll": false,
    "ein.hycell": false,
    "ein.tags": "worksheet-0",
    "slideshow": {
     "slide_type": "-"
    }
   },
   "outputs": [],
   "source": [
    "epsilon = .5\n",
    "a = 10.\n",
    "b = 1.\n",
    "d = 1.\n",
    "c = 41.\n",
    "c0 = 40.\n",
    "shape_rigid0 = torch.tensor([[0., 0.], [c0, 0.], [c0, a], [0., a], [0., 0.]])\n",
    "shape_growth0 = torch .tensor([[0., a], [c0, a], [c0, a + b], [0., a + b], [0., a]])\n",
    "\n",
    "shape_rigid = torch.tensor([[-epsilon, -epsilon], [c + epsilon, -epsilon], [c + epsilon, a +epsilon], [- epsilon, a + epsilon], [-epsilon, -epsilon]])\n",
    "shape_growth = torch .tensor([[-epsilon, a-epsilon + d], [c+epsilon, a-epsilon + d], [c+epsilon, a + b+epsilon + d], [-epsilon, a + b+epsilon + d], [-epsilon, a-epsilon + d]])\n"
   ]
  },
  {
   "cell_type": "code",
   "execution_count": 3,
   "metadata": {},
   "outputs": [],
   "source": [
    "Nh = 40\n",
    "Nvr = 10\n",
    "Nvg = 2\n",
    "Xr0 = torch.stack([torch.linspace(0., c0, Nh), torch.zeros([Nh])]).t()\n",
    "Xr1 = torch.stack([torch.linspace(c0, 0., Nh), torch.zeros([Nh]) + a]).t()\n",
    "Yr0 = torch.stack([torch.zeros([Nvr]) + c0, torch.linspace(0., a, Nvr)]).t()\n",
    "Yr1 = torch.stack([torch.zeros([Nvr]), torch.linspace(a, 0., Nvr)]).t()\n",
    "\n",
    "Xg0 = torch.stack([torch.linspace(0., c0, Nh), torch.zeros([Nh]) + a]).t()\n",
    "Xg1 = torch.stack([torch.linspace(c0, 0., Nh), torch.zeros([Nh]) + a + b]).t()\n",
    "Yg0 = torch.stack([torch.zeros([Nvr]) + c0, torch.linspace(a, a + b, Nvr)]).t()\n",
    "Yg1 = torch.stack([torch.zeros([Nvr]), torch.linspace(a + b, a, Nvr)]).t()\n",
    "\n",
    "shape_rigid0 = torch.cat([Xr0, Yr0, Xr1, Yr1], dim=0)\n",
    "shape_growth0 = torch.cat([Xg0, Yg0, Xg1, Yg1], dim=0)"
   ]
  },
  {
   "cell_type": "code",
   "execution_count": 4,
   "metadata": {
    "autoscroll": false,
    "ein.hycell": false,
    "ein.tags": "worksheet-0",
    "slideshow": {
     "slide_type": "-"
    }
   },
   "outputs": [
    {
     "data": {
      "text/plain": [
       "(-2.6, 43.6, -1.15, 13.15)"
      ]
     },
     "execution_count": 4,
     "metadata": {},
     "output_type": "execute_result"
    },
    {
     "data": {
      "image/png": "[encoded data removed]",
      "text/plain": [
       "<Figure size 432x288 with 1 Axes>"
      ]
     },
     "metadata": {
      "needs_background": "light"
     },
     "output_type": "display_data"
    }
   ],
   "source": [
    "plt.figure()\n",
    "plt.plot(shape_rigid[:,0], shape_rigid[:,1 ], '-r')\n",
    "plt.plot(shape_rigid0[:,0], shape_rigid0[:,1 ], '-.r')\n",
    "plt.plot(shape_growth[:,0], shape_growth[:,1 ], '-b')\n",
    "plt.plot(shape_growth0[:,0], shape_growth0[:,1 ], '-.b')\n",
    "plt.axis('equal')"
   ]
  },
  {
   "cell_type": "code",
   "execution_count": 5,
   "metadata": {
    "autoscroll": false,
    "ein.hycell": false,
    "ein.tags": "worksheet-0",
    "slideshow": {
     "slide_type": "-"
    }
   },
   "outputs": [],
   "source": [
    "aabb_rigid = dm.Utilities.AABB.build_from_points(shape_rigid)\n",
    "aabb_growth = dm.Utilities.AABB.build_from_points(shape_growth)"
   ]
  },
  {
   "cell_type": "code",
   "execution_count": 6,
   "metadata": {
    "autoscroll": false,
    "ein.hycell": false,
    "ein.tags": "worksheet-0",
    "slideshow": {
     "slide_type": "-"
    }
   },
   "outputs": [
    {
     "name": "stdout",
     "output_type": "stream",
     "text": [
      "torch.Size([240, 2])\n",
      "torch.Size([60, 2])\n"
     ]
    }
   ],
   "source": [
    "density_rigid = 0.5\n",
    "density_growth = 0.5\n",
    "\n",
    "pts_rigid = dm.Utilities.fill_area_uniform_density(dm.Utilities.area_shape, aabb_rigid, density_rigid, shape=shape_rigid, side=1)\n",
    "print(pts_rigid.shape)\n",
    "pts_growth = dm.Utilities.fill_area_uniform_density(dm.Utilities.area_shape, aabb_growth, density_growth, shape=shape_growth, side=1)\n",
    "print(pts_growth.shape)"
   ]
  },
  {
   "cell_type": "code",
   "execution_count": 7,
   "metadata": {
    "autoscroll": false,
    "ein.hycell": false,
    "ein.tags": "worksheet-0",
    "slideshow": {
     "slide_type": "-"
    }
   },
   "outputs": [
    {
     "data": {
      "text/plain": [
       "[<matplotlib.lines.Line2D at 0x7f2c50974908>]"
      ]
     },
     "execution_count": 7,
     "metadata": {},
     "output_type": "execute_result"
    },
    {
     "data": {
      "image/png": "[encoded data removed]",
      "text/plain": [
       "<Figure size 432x288 with 1 Axes>"
      ]
     },
     "metadata": {
      "needs_background": "light"
     },
     "output_type": "display_data"
    }
   ],
   "source": [
    "plt.figure()\n",
    "plt.plot(shape_rigid[:,0], shape_rigid[:,1 ], '-r')\n",
    "plt.plot(shape_growth[:,0], shape_growth[:,1 ], '-b')\n",
    "plt.plot(pts_rigid[:,0], pts_rigid[:,1], 'xk')\n",
    "plt.plot(pts_growth[:,0], pts_growth[:,1], '.k')"
   ]
  },
  {
   "cell_type": "code",
   "execution_count": 8,
   "metadata": {
    "autoscroll": false,
    "ein.hycell": false,
    "ein.tags": "worksheet-0",
    "slideshow": {
     "slide_type": "-"
    }
   },
   "outputs": [
    {
     "data": {
      "text/plain": [
       "(-2.550609588623047,\n",
       " 42.562801361083984,\n",
       " -1.1207106590270997,\n",
       " 12.534923839569093)"
      ]
     },
     "execution_count": 8,
     "metadata": {},
     "output_type": "execute_result"
    },
    {
     "data": {
      "image/png": "[encoded data removed]",
      "text/plain": [
       "<Figure size 432x288 with 1 Axes>"
      ]
     },
     "metadata": {
      "needs_background": "light"
     },
     "output_type": "display_data"
    }
   ],
   "source": [
    "#%matplotlib qt5\n",
    "plt.figure()\n",
    "plt.plot(shape_rigid0[:,0], shape_rigid0[:,1 ], '-r')\n",
    "plt.plot(shape_growth0[:,0], shape_growth0[:,1 ], '-b')\n",
    "plt.plot(pts_rigid[:,0], pts_rigid[:,1], 'xk')\n",
    "plt.plot(pts_growth[:,0], pts_growth[:,1], '.k')\n",
    "plt.axis('equal')"
   ]
  },
  {
   "cell_type": "code",
   "execution_count": 9,
   "metadata": {
    "autoscroll": false,
    "ein.hycell": false,
    "ein.tags": "worksheet-0",
    "slideshow": {
     "slide_type": "-"
    }
   },
   "outputs": [
    {
     "data": {
      "text/plain": [
       "(-2.550609588623047,\n",
       " 42.562801361083984,\n",
       " -1.1207106590270997,\n",
       " 12.534923839569093)"
      ]
     },
     "execution_count": 9,
     "metadata": {},
     "output_type": "execute_result"
    },
    {
     "data": {
      "image/png": "[encoded data removed]",
      "text/plain": [
       "<Figure size 432x288 with 1 Axes>"
      ]
     },
     "metadata": {
      "needs_background": "light"
     },
     "output_type": "display_data"
    }
   ],
   "source": [
    "N_rigid = pts_rigid.shape[0]\n",
    "N_growth = pts_growth.shape[0]\n",
    "pts_implicit1 = torch.cat([pts_rigid, pts_growth], dim=0)\n",
    "plt.figure()\n",
    "plt.plot(shape_rigid0[:,0], shape_rigid0[:,1 ], '-r')\n",
    "plt.plot(shape_growth0[:,0], shape_growth0[:,1 ], '-b')\n",
    "plt.plot(pts_implicit1[:,0], pts_implicit1[:,1], 'xk')\n",
    "#plt.plot(pts_implicit1[:N_rigid,0], pts_implicit1[:N_rigid,1], 'ok')\n",
    "plt.plot(pts_implicit1[N_rigid::2,0], pts_implicit1[N_rigid::2,1], 'ok')\n",
    "plt.axis('equal')"
   ]
  },
  {
   "cell_type": "code",
   "execution_count": 60,
   "metadata": {
    "autoscroll": false,
    "ein.hycell": false,
    "ein.tags": "worksheet-0",
    "slideshow": {
     "slide_type": "-"
    }
   },
   "outputs": [],
   "source": [
    "import math\n",
    "\n",
    "dimC = 2\n",
    "Npers = [0., 0.5, 1, 2, 3]\n",
    "#Npers = [2]\n",
    "C = torch.zeros(pts_implicit1.shape[0], 2, len(Npers))\n",
    "\n",
    "for i in range(len(Npers)):\n",
    "    Nper = Npers[i]\n",
    "    theta = Nper * torch.linspace(0, 2 * math.pi, int(0.5 * N_growth))\n",
    "    C[N_rigid::2, 0, i] = torch.tensor([math.cos(thetai) for thetai in theta])\n",
    "    C[N_rigid+1::2, 0, i] = torch.tensor([math.cos(thetai) for thetai in theta])"
   ]
  },
  {
   "cell_type": "code",
   "execution_count": 61,
   "metadata": {},
   "outputs": [
    {
     "data": {
      "text/plain": [
       "torch.Size([300, 2, 5])"
      ]
     },
     "execution_count": 61,
     "metadata": {},
     "output_type": "execute_result"
    }
   ],
   "source": [
    "C.shape"
   ]
  },
  {
   "cell_type": "code",
   "execution_count": 62,
   "metadata": {
    "autoscroll": false,
    "ein.hycell": false,
    "ein.tags": "worksheet-0",
    "slideshow": {
     "slide_type": "-"
    }
   },
   "outputs": [
    {
     "data": {
      "text/plain": [
       "(-2.550609588623047,\n",
       " 42.562801361083984,\n",
       " -1.1207106590270997,\n",
       " 12.534923839569093)"
      ]
     },
     "execution_count": 62,
     "metadata": {},
     "output_type": "execute_result"
    }
   ],
   "source": [
    "%matplotlib qt5\n",
    "ax_left = plt.subplot(1, 1, 1)\n",
    "plt.plot(shape_rigid0[:,0], shape_rigid0[:,1 ], '-r')\n",
    "plt.plot(shape_growth0[:,0], shape_growth0[:,1 ], '-b')\n",
    "plt.plot(pts_implicit1[:,0], pts_implicit1[:,1], 'xk')\n",
    "#plt.plot(pts_implicit1[:N_rigid,0], pts_implicit1[:N_rigid,1], 'ok')\n",
    "dm.Utilities.plot_C_ellipse(ax_left, pts_implicit1, C, c_index=0, scale=0.5, color='red')\n",
    "plt.axis('equal')"
   ]
  },
  {
   "cell_type": "code",
   "execution_count": 63,
   "metadata": {
    "autoscroll": false,
    "ein.hycell": false,
    "ein.tags": "worksheet-0",
    "slideshow": {
     "slide_type": "-"
    }
   },
   "outputs": [],
   "source": [
    "angles = 0. * math.pi * torch.ones(pts_implicit1.shape[0])\n",
    "R = torch.stack([dm.Utilities.rot2d(a) for a in angles])"
   ]
  },
  {
   "cell_type": "code",
   "execution_count": 124,
   "metadata": {
    "autoscroll": false,
    "ein.hycell": false,
    "ein.tags": "worksheet-0",
    "slideshow": {
     "slide_type": "-"
    }
   },
   "outputs": [],
   "source": [
    "cotan_pts = torch.zeros_like(pts_implicit1)\n",
    "mm = 1000.\n",
    "cotan_pts[-1, 0] = mm\n",
    "cotan_pts[-1, 1] = mm\n",
    "\n",
    "cotan_pts[N_rigid + 20, 1] = -mm\n",
    "cotan_pts[N_rigid + 40, 1] = -mm\n",
    "\n",
    "cotan_pts[N_rigid + 1, 0] = -mm\n",
    "cotan_pts[N_rigid + 1, 1] = mm\n",
    "#cotan_pts = 200 * (torch.rand_like(pts_implicit1) - 0.7)\n",
    "cotan_R = torch.zeros_like(R)"
   ]
  },
  {
   "cell_type": "code",
   "execution_count": 125,
   "metadata": {
    "autoscroll": false,
    "ein.hycell": false,
    "ein.tags": "worksheet-0",
    "slideshow": {
     "slide_type": "-"
    }
   },
   "outputs": [],
   "source": [
    "sigma1 = 3.\n",
    "nu = 0.001\n",
    "implicit1 = dm.DeformationModules.create_deformation_module('implicit_order_1', dim=2, nb_pts=pts_implicit1.shape[0], C=C, sigma=sigma1, nu=nu, coeff=1., gd=(pts_implicit1.view(-1).requires_grad_(), R.view(-1).requires_grad_()), cotan = (cotan_pts.view(-1).requires_grad_(), cotan_R.view(-1).requires_grad_()))"
   ]
  },
  {
   "cell_type": "code",
   "execution_count": 126,
   "metadata": {
    "autoscroll": false,
    "ein.hycell": false,
    "ein.tags": "worksheet-0",
    "scrolled": false,
    "slideshow": {
     "slide_type": "-"
    }
   },
   "outputs": [],
   "source": [
    "silent_imp = dm.DeformationModules.create_deformation_module('silent_points', dim=2, nb_pts=pts_implicit1.shape[0], gd=pts_implicit1.view(-1).requires_grad_())\n",
    "silent_rigid = dm.DeformationModules.create_deformation_module('silent_points', dim=2, nb_pts=shape_rigid0.shape[0], gd=shape_rigid0.view(-1).requires_grad_())\n",
    "silent_growth = dm.DeformationModules.create_deformation_module('silent_points', dim=2, nb_pts=shape_growth0.shape[0], gd=shape_growth0.view(-1).requires_grad_())"
   ]
  },
  {
   "cell_type": "code",
   "execution_count": 127,
   "metadata": {
    "autoscroll": false,
    "ein.hycell": false,
    "ein.tags": "worksheet-0",
    "scrolled": true,
    "slideshow": {
     "slide_type": "-"
    }
   },
   "outputs": [
    {
     "name": "stdout",
     "output_type": "stream",
     "text": [
      "step  10\n"
     ]
    }
   ],
   "source": [
    "intermediate_states, intermediate_controls = dm.HamiltonianDynamic.shoot(dm.HamiltonianDynamic.Hamiltonian([implicit1, silent_rigid, silent_growth]), 10, 'euler', intermediates=True)\n",
    "pts = implicit1.manifold.gd[0].detach().view(-1, 2)\n",
    "pts_rigid = silent_rigid.manifold.gd.detach().view(-1, 2)\n",
    "pts_growth = silent_growth.manifold.gd.detach().view(-1, 2)"
   ]
  },
  {
   "cell_type": "code",
   "execution_count": 128,
   "metadata": {
    "autoscroll": false,
    "ein.hycell": false,
    "ein.tags": "worksheet-0",
    "slideshow": {
     "slide_type": "-"
    }
   },
   "outputs": [
    {
     "data": {
      "text/plain": [
       "(-6.50185546875, 46.221841430664064, -2.9991226315498354, 15.999920618534087)"
      ]
     },
     "execution_count": 128,
     "metadata": {},
     "output_type": "execute_result"
    }
   ],
   "source": [
    "%matplotlib qt5\n",
    "ax_left = plt.subplot(1, 1, 1)\n",
    "plt.plot(shape_rigid0[:,0], shape_rigid0[:,1 ], '--r')\n",
    "plt.plot(shape_growth0[:,0], shape_growth0[:,1 ], '--b')\n",
    "#plt.plot(pts_implicit1[:,0], pts_implicit1[:,1], '.k')\n",
    "plt.plot(pts_rigid[:,0], pts_rigid[:,1], '-r')\n",
    "plt.plot(pts_growth[:,0], pts_growth[:,1], '-b')\n",
    "plt.quiver(pts_implicit1[:,0], pts_implicit1[:,1], cotan_pts[:,0], cotan_pts[:,1])\n",
    "plt.plot(pts[:,0], pts[:,1], '+r')\n",
    "#plt.plot(pts_imp[:,0], pts_imp[:,1], 'xk')\n",
    "plt.axis('equal')"
   ]
  },
  {
   "cell_type": "code",
   "execution_count": 129,
   "metadata": {},
   "outputs": [
    {
     "name": "stdout",
     "output_type": "stream",
     "text": [
      "[[tensor([0.3651, 0.0300, 1.4288, 0.9516, 0.2766]), tensor([]), tensor([])], [tensor([0.3073, 0.0287, 1.3082, 0.8366, 0.1618]), tensor([]), tensor([])], [tensor([0.2711, 0.0277, 1.2331, 0.7576, 0.0718]), tensor([]), tensor([])], [tensor([ 0.2410,  0.0271,  1.1902,  0.7001, -0.0133]), tensor([]), tensor([])], [tensor([ 0.1957,  0.0257,  1.1724,  0.6544, -0.1080]), tensor([]), tensor([])], [tensor([ 0.1444,  0.0237,  1.1889,  0.6333, -0.1927]), tensor([]), tensor([])], [tensor([ 0.1085,  0.0199,  1.2252,  0.6259, -0.2772]), tensor([]), tensor([])], [tensor([ 0.0700,  0.0100,  1.2026,  0.5640, -0.4236]), tensor([]), tensor([])], [tensor([-0.0226,  0.0029,  1.0509,  0.3714, -0.7199]), tensor([]), tensor([])], [tensor([-0.1002,  0.0149,  0.9569,  0.1591, -1.0699]), tensor([]), tensor([])]]\n"
     ]
    }
   ],
   "source": [
    "print(intermediate_controls)"
   ]
  },
  {
   "cell_type": "code",
   "execution_count": 136,
   "metadata": {},
   "outputs": [],
   "source": [
    "cont = [] \n",
    "keep_cont = [True, True, False, True, True]\n",
    "\n",
    "for i in range(10):\n",
    "    cont_i = []\n",
    "    for j in range(len(keep_cont)):\n",
    "        if keep_cont[j]:\n",
    "            cont_i.append(intermediate_controls[i][0][j].clone())\n",
    "        else:\n",
    "                cont_i.append(torch.zeros_like(intermediate_controls[i][0][j].clone()))\n",
    "    cont.append([torch.tensor(cont_i), torch.tensor([]), torch.tensor([])])"
   ]
  },
  {
   "cell_type": "code",
   "execution_count": 137,
   "metadata": {},
   "outputs": [],
   "source": [
    "implicit1_rg = dm.DeformationModules.create_deformation_module('implicit_order_1', dim=2, nb_pts=pts_implicit1.shape[0], C=C, sigma=sigma1, nu=nu, coeff=1., gd=(pts_implicit1.view(-1).requires_grad_(), R.view(-1).requires_grad_()), cotan = (cotan_pts.view(-1).requires_grad_(), cotan_R.view(-1).requires_grad_()))\n",
    "silent_rigid_rg = dm.DeformationModules.create_deformation_module('silent_points', dim=2, nb_pts=shape_rigid0.shape[0], gd=shape_rigid0.view(-1).requires_grad_())\n",
    "silent_growth_rg = dm.DeformationModules.create_deformation_module('silent_points', dim=2, nb_pts=shape_growth0.shape[0], gd=shape_growth0.view(-1).requires_grad_())"
   ]
  },
  {
   "cell_type": "code",
   "execution_count": 138,
   "metadata": {},
   "outputs": [
    {
     "name": "stdout",
     "output_type": "stream",
     "text": [
      "[[tensor([0.3651, 0.0300, 0.0000, 0.9516, 0.2766]), tensor([]), tensor([])], [tensor([0.3073, 0.0287, 0.0000, 0.8366, 0.1618]), tensor([]), tensor([])], [tensor([0.2711, 0.0277, 0.0000, 0.7576, 0.0718]), tensor([]), tensor([])], [tensor([ 0.2410,  0.0271,  0.0000,  0.7001, -0.0133]), tensor([]), tensor([])], [tensor([ 0.1957,  0.0257,  0.0000,  0.6544, -0.1080]), tensor([]), tensor([])], [tensor([ 0.1444,  0.0237,  0.0000,  0.6333, -0.1927]), tensor([]), tensor([])], [tensor([ 0.1085,  0.0199,  0.0000,  0.6259, -0.2772]), tensor([]), tensor([])], [tensor([ 0.0700,  0.0100,  0.0000,  0.5640, -0.4236]), tensor([]), tensor([])], [tensor([-0.0226,  0.0029,  0.0000,  0.3714, -0.7199]), tensor([]), tensor([])], [tensor([-0.1002,  0.0149,  0.0000,  0.1591, -1.0699]), tensor([]), tensor([])]]\n"
     ]
    }
   ],
   "source": [
    "print(cont)"
   ]
  },
  {
   "cell_type": "code",
   "execution_count": 139,
   "metadata": {},
   "outputs": [
    {
     "name": "stdout",
     "output_type": "stream",
     "text": [
      "step  10\n"
     ]
    }
   ],
   "source": [
    "intermediate_states_rg, intermediate_controls_rg = dm.HamiltonianDynamic.shoot(dm.HamiltonianDynamic.Hamiltonian([implicit1_rg, silent_rigid_rg, silent_growth_rg]), 10, 'euler', controls= cont, intermediates=True)\n",
    "pts_rg = implicit1_rg.manifold.gd[0].detach().view(-1, 2)\n",
    "pts_rigid_rg = silent_rigid_rg.manifold.gd.detach().view(-1, 2)\n",
    "pts_growth_rg = silent_growth_rg.manifold.gd.detach().view(-1, 2)"
   ]
  },
  {
   "cell_type": "code",
   "execution_count": 140,
   "metadata": {},
   "outputs": [
    {
     "data": {
      "text/plain": [
       "(-6.50185546875, 46.221841430664064, -2.437133699655533, 15.12412479519844)"
      ]
     },
     "execution_count": 140,
     "metadata": {},
     "output_type": "execute_result"
    }
   ],
   "source": [
    "%matplotlib qt5\n",
    "ax_left = plt.subplot(1, 1, 1)\n",
    "#plt.plot(shape_rigid0[:,0], shape_rigid0[:,1 ], '--r')\n",
    "#plt.plot(shape_growth0[:,0], shape_growth0[:,1 ], '--b')\n",
    "#plt.plot(pts_implicit1[:,0], pts_implicit1[:,1], '.k')\n",
    "plt.plot(pts_rigid[:,0], pts_rigid[:,1], '--r')\n",
    "plt.plot(pts_growth[:,0], pts_growth[:,1], '--b')\n",
    "#plt.plot(pts[:,0], pts[:,1], '.r')\n",
    "\n",
    "plt.plot(pts_rigid_rg[:,0], pts_rigid_rg[:,1], '-r')\n",
    "plt.plot(pts_growth_rg[:,0], pts_growth_rg[:,1], '-b')\n",
    "#plt.plot(pts_rg[:,0], pts_rg[:,1], 'xr')\n",
    "#plt.plot(pts_imp[:,0], pts_imp[:,1], 'xk')\n",
    "plt.axis('equal')"
   ]
  },
  {
   "cell_type": "code",
   "execution_count": 50,
   "metadata": {},
   "outputs": [],
   "source": [
    "t = 0\n",
    "h = intermediate_controls[t][0]\n",
    "C_t = torch.tensordot(C, h, dims=1).view(-1, 2, 1)\n",
    "\n",
    "X = intermediate_states_rg[t].gd[0][0].view(-1,2)"
   ]
  },
  {
   "cell_type": "code",
   "execution_count": 57,
   "metadata": {},
   "outputs": [
    {
     "data": {
      "text/plain": [
       "(-4.21357735771785, 44.17066861610501, -1.1244053653308328, 12.612512671947478)"
      ]
     },
     "execution_count": 57,
     "metadata": {},
     "output_type": "execute_result"
    }
   ],
   "source": [
    "%matplotlib qt5\n",
    "ax_left = plt.subplot(1, 1, 1)\n",
    "#plt.plot(shape_rigid0[:,0], shape_rigid0[:,1 ], '-r')\n",
    "#plt.plot(shape_growth0[:,0], shape_growth0[:,1 ], '-b')\n",
    "plt.plot(X[:,0], X[:,1], 'xk')\n",
    "#plt.plot(pts_implicit1[:N_rigid,0], pts_implicit1[:N_rigid,1], 'ok')\n",
    "dm.Utilities.plot_C_arrow(ax_left, X, C_t, c_index=0, scale=1., color='red', zorder=3, mutation_scale=10)\n",
    "plt.axis('equal')"
   ]
  },
  {
   "cell_type": "code",
   "execution_count": 120,
   "metadata": {},
   "outputs": [],
   "source": [
    "# Source/target : implicit points\n",
    "target_noisefree = implicit1.manifold.gd[0].detach().view(-1, 2)\n",
    "source_pts = pts_implicit1.clone()\n",
    "target_pts = target_noisefree #+ 0.2*torch.rand(*target_noisefree.shape)"
   ]
  },
  {
   "cell_type": "code",
   "execution_count": 25,
   "metadata": {},
   "outputs": [],
   "source": [
    "# Source/target : surrounding shape\n",
    "target_noisefree = torch.cat([pts_rigid.clone(), pts_growth.clone()], dim=0)\n",
    "source_pts = torch.cat([shape_rigid0.clone(), shape_growth0.clone()], dim=0)\n",
    "target_pts = target_noisefree + 0.2*torch.rand(*target_noisefree.shape)"
   ]
  },
  {
   "cell_type": "code",
   "execution_count": 36,
   "metadata": {},
   "outputs": [
    {
     "data": {
      "text/plain": [
       "torch.Size([300, 2])"
      ]
     },
     "execution_count": 36,
     "metadata": {},
     "output_type": "execute_result"
    }
   ],
   "source": [
    "target_noisefree.shape"
   ]
  },
  {
   "cell_type": "code",
   "execution_count": 121,
   "metadata": {},
   "outputs": [
    {
     "data": {
      "text/plain": [
       "(-4.105070817470551, 44.1172590136528, -2.2467434406280518, 13.944256067276001)"
      ]
     },
     "execution_count": 121,
     "metadata": {},
     "output_type": "execute_result"
    }
   ],
   "source": [
    "%matplotlib qt5\n",
    "ax_left = plt.subplot(1, 1, 1)\n",
    "#plt.plot(pts_implicit1[:,0], pts_implicit1[:,1], '.k')\n",
    "plt.plot(target_noisefree[:,0], target_noisefree[:,1], '.r')\n",
    "plt.plot(target_pts[:,0], target_pts[:,1], '+r')\n",
    "plt.axis('equal')"
   ]
  },
  {
   "cell_type": "code",
   "execution_count": 122,
   "metadata": {},
   "outputs": [],
   "source": [
    "implicit1_opt = dm.DeformationModules.create_deformation_module('implicit_order_1', dim=2, nb_pts=pts_implicit1.shape[0], C=C, sigma=sigma1, nu=nu, coeff=1., gd=(pts_implicit1.view(-1).requires_grad_(), R.view(-1).requires_grad_()))"
   ]
  },
  {
   "cell_type": "code",
   "execution_count": 123,
   "metadata": {},
   "outputs": [],
   "source": [
    "#implicit0_opt = dm.DeformationModules.create_deformation_module('implicit_order_0', dim=2, nb_pts=pts_implicit1.shape[0], sigma=sigma1, nu=nu, coeff=10., gd=pts_implicit1.clone().view(-1).requires_grad_())"
   ]
  },
  {
   "cell_type": "code",
   "execution_count": 124,
   "metadata": {},
   "outputs": [],
   "source": [
    "model = dm.Models.ModelPointsRegistration([source_pts], [implicit1_opt], [dm.Attachment.EuclideanPointwiseDistanceAttachment(weight=1.)], lam=100.)"
   ]
  },
  {
   "cell_type": "code",
   "execution_count": 125,
   "metadata": {},
   "outputs": [],
   "source": [
    "fitter = dm.Models.ModelFittingScipy(model, 1.)"
   ]
  },
  {
   "cell_type": "code",
   "execution_count": 126,
   "metadata": {
    "scrolled": true
   },
   "outputs": [
    {
     "name": "stdout",
     "output_type": "stream",
     "text": [
      "step  10\n",
      "Initial energy = 29510.146\n",
      "step  10\n",
      "step  10\n",
      "step  10\n",
      "step  10\n",
      "step  10\n",
      "step  10\n",
      "================================================================================\n",
      "Iteration: 1 \n",
      "Total energy = 6537.892090 \n",
      "Attach cost = 5881.931152 \n",
      "Deformation cost = 655.961060\n",
      "step  10\n",
      "================================================================================\n",
      "Iteration: 2 \n",
      "Total energy = 6044.345215 \n",
      "Attach cost = 5134.143555 \n",
      "Deformation cost = 910.201782\n",
      "step  10\n",
      "================================================================================\n",
      "Iteration: 3 \n",
      "Total energy = 4767.409180 \n",
      "Attach cost = 3941.958984 \n",
      "Deformation cost = 825.450439\n",
      "step  10\n",
      "step  10\n",
      "================================================================================\n",
      "Iteration: 4 \n",
      "Total energy = 2724.927246 \n",
      "Attach cost = 1907.836548 \n",
      "Deformation cost = 817.090698\n",
      "step  10\n",
      "step  10\n",
      "================================================================================\n",
      "Iteration: 5 \n",
      "Total energy = 2288.507324 \n",
      "Attach cost = 1402.951294 \n",
      "Deformation cost = 885.555908\n",
      "step  10\n",
      "step  10\n",
      "================================================================================\n",
      "Iteration: 6 \n",
      "Total energy = 1406.734863 \n",
      "Attach cost = 414.091248 \n",
      "Deformation cost = 992.643555\n",
      "step  10\n",
      "step  10\n",
      "step  10\n",
      "================================================================================\n",
      "Iteration: 7 \n",
      "Total energy = 1273.980713 \n",
      "Attach cost = 260.289154 \n",
      "Deformation cost = 1013.691528\n",
      "step  10\n",
      "step  10\n",
      "================================================================================\n",
      "Iteration: 8 \n",
      "Total energy = 1088.724731 \n",
      "Attach cost = 82.521652 \n",
      "Deformation cost = 1006.203064\n",
      "step  10\n",
      "step  10\n",
      "================================================================================\n",
      "Iteration: 9 \n",
      "Total energy = 1046.969849 \n",
      "Attach cost = 48.207699 \n",
      "Deformation cost = 998.762207\n",
      "step  10\n",
      "step  10\n",
      "================================================================================\n",
      "Iteration: 10 \n",
      "Total energy = 1035.243652 \n",
      "Attach cost = 41.658180 \n",
      "Deformation cost = 993.585449\n",
      "step  10\n",
      "================================================================================\n",
      "Iteration: 11 \n",
      "Total energy = 1015.240112 \n",
      "Attach cost = 18.401226 \n",
      "Deformation cost = 996.838867\n",
      "step  10\n",
      "step  10\n",
      "================================================================================\n",
      "Iteration: 12 \n",
      "Total energy = 1007.137085 \n",
      "Attach cost = 9.226082 \n",
      "Deformation cost = 997.911011\n",
      "step  10\n",
      "step  10\n",
      "================================================================================\n",
      "Iteration: 13 \n",
      "Total energy = 1001.384155 \n",
      "Attach cost = 3.721166 \n",
      "Deformation cost = 997.662964\n",
      "step  10\n",
      "step  10\n",
      "================================================================================\n",
      "Iteration: 14 \n",
      "Total energy = 998.226929 \n",
      "Attach cost = 0.874905 \n",
      "Deformation cost = 997.352051\n",
      "step  10\n",
      "step  10\n",
      "step  10\n",
      "================================================================================\n",
      "Iteration: 15 \n",
      "Total energy = 998.198486 \n",
      "Attach cost = 0.875589 \n",
      "Deformation cost = 997.322876\n",
      "step  10\n",
      "================================================================================\n",
      "Iteration: 16 \n",
      "Total energy = 998.136353 \n",
      "Attach cost = 0.800527 \n",
      "Deformation cost = 997.335815\n",
      "step  10\n",
      "step  10\n",
      "step  10\n",
      "step  10\n",
      "step  10\n",
      "step  10\n",
      "step  10\n",
      "step  10\n",
      "step  10\n",
      "step  10\n",
      "step  10\n",
      "step  10\n",
      "step  10\n",
      "step  10\n",
      "step  10\n",
      "step  10\n",
      "step  10\n",
      "step  10\n",
      "================================================================================\n",
      "Iteration: 17 \n",
      "Total energy = 998.136353 \n",
      "Attach cost = 0.800527 \n",
      "Deformation cost = 997.335815\n",
      "================================================================================\n",
      "Optimisation process exited with message: b'CONVERGENCE: REL_REDUCTION_OF_F_<=_FACTR*EPSMCH'\n",
      "Final energy = 998.1363525390625\n",
      "Closure evaluations = 52\n",
      "Time elapsed = 384.95770382881165\n"
     ]
    }
   ],
   "source": [
    "costs = fitter.fit([target_pts], 30, log_interval=1)"
   ]
  },
  {
   "cell_type": "code",
   "execution_count": 127,
   "metadata": {},
   "outputs": [],
   "source": [
    "compound = dm.DeformationModules.CompoundModule(model.modules)\n",
    "compound.manifold.fill(model.init_manifold)"
   ]
  },
  {
   "cell_type": "code",
   "execution_count": 128,
   "metadata": {},
   "outputs": [
    {
     "name": "stdout",
     "output_type": "stream",
     "text": [
      "step  10\n"
     ]
    }
   ],
   "source": [
    "intermediate_states_opt, intermediate_controls_opt = dm.HamiltonianDynamic.shoot(dm.HamiltonianDynamic.Hamiltonian(compound), 10, 'euler', intermediates=True)"
   ]
  },
  {
   "cell_type": "code",
   "execution_count": 129,
   "metadata": {},
   "outputs": [],
   "source": [
    "pts = compound.manifold.gd[0].detach().view(-1, 2)"
   ]
  },
  {
   "cell_type": "code",
   "execution_count": 130,
   "metadata": {},
   "outputs": [
    {
     "data": {
      "text/plain": [
       "(-4.105070817470551, 44.1172590136528, -2.246743583679199, 13.944259071350098)"
      ]
     },
     "execution_count": 130,
     "metadata": {},
     "output_type": "execute_result"
    }
   ],
   "source": [
    "%matplotlib qt5\n",
    "ax_left = plt.subplot(1, 1, 1)\n",
    "#plt.plot(shape_rigid0[:,0], shape_rigid0[:,1 ], '--r')\n",
    "#plt.plot(shape_growth0[:,0], shape_growth0[:,1 ], '--b')\n",
    "#plt.plot(pts_implicit1[:,0], pts_implicit1[:,1], '.k')\n",
    "#plt.plot(pts_rigid[:,0], pts_rigid[:,1], '-r')\n",
    "#plt.plot(pts_growth[:,0], pts_growth[:,1], '-b')\n",
    "#plt.quiver(pts_implicit1[:,0], pts_implicit1[:,1], cotan_pts[:,0], cotan_pts[:,1])\n",
    "plt.plot(pts[:,0], pts[:,1], '+r')\n",
    "plt.plot(target_pts[:,0], target_pts[:,1], 'xk')\n",
    "plt.plot(target_noisefree[:,0], target_noisefree[:,1], 'xb')\n",
    "\n",
    "\n",
    "plt.axis('equal')"
   ]
  },
  {
   "cell_type": "code",
   "execution_count": 131,
   "metadata": {},
   "outputs": [
    {
     "name": "stdout",
     "output_type": "stream",
     "text": [
      "[[tensor([]), tensor([0.4246, 0.3362])], [tensor([]), tensor([0.4213, 0.3355])], [tensor([]), tensor([0.4177, 0.3343])], [tensor([]), tensor([0.4138, 0.3327])], [tensor([]), tensor([0.4097, 0.3306])], [tensor([]), tensor([0.4055, 0.3280])], [tensor([]), tensor([0.4011, 0.3251])], [tensor([]), tensor([0.3966, 0.3217])], [tensor([]), tensor([0.3921, 0.3180])], [tensor([]), tensor([0.3877, 0.3141])]]\n"
     ]
    }
   ],
   "source": [
    "print(intermediate_controls_opt)"
   ]
  },
  {
   "cell_type": "code",
   "execution_count": 132,
   "metadata": {},
   "outputs": [
    {
     "name": "stdout",
     "output_type": "stream",
     "text": [
      "[[tensor([0.4259, 0.3399]), tensor([]), tensor([])], [tensor([0.4201, 0.3365]), tensor([]), tensor([])], [tensor([0.4150, 0.3332]), tensor([]), tensor([])], [tensor([0.4104, 0.3303]), tensor([]), tensor([])], [tensor([0.4064, 0.3278]), tensor([]), tensor([])], [tensor([0.4030, 0.3255]), tensor([]), tensor([])], [tensor([0.4003, 0.3235]), tensor([]), tensor([])], [tensor([0.3980, 0.3218]), tensor([]), tensor([])], [tensor([0.3962, 0.3200]), tensor([]), tensor([])], [tensor([0.3948, 0.3179]), tensor([]), tensor([])]]\n"
     ]
    }
   ],
   "source": [
    "print(intermediate_controls)"
   ]
  },
  {
   "cell_type": "code",
   "execution_count": 133,
   "metadata": {},
   "outputs": [],
   "source": [
    "t = 5"
   ]
  },
  {
   "cell_type": "code",
   "execution_count": 134,
   "metadata": {},
   "outputs": [
    {
     "name": "stdout",
     "output_type": "stream",
     "text": [
      "tensor([0.4030, 0.3255])\n"
     ]
    }
   ],
   "source": [
    "h = intermediate_controls[t][0]\n",
    "print(h)\n",
    "C_t = torch.tensordot(C, h, dims=1).view(-1, 2, 1)"
   ]
  },
  {
   "cell_type": "code",
   "execution_count": 135,
   "metadata": {},
   "outputs": [
    {
     "name": "stdout",
     "output_type": "stream",
     "text": [
      "tensor([0.4055, 0.3280])\n"
     ]
    }
   ],
   "source": [
    "h_opt = intermediate_controls_opt[t][1]\n",
    "print(h_opt)\n",
    "C_opt_t = torch.tensordot(C, h_opt, dims=1).view(-1, 2, 1)"
   ]
  },
  {
   "cell_type": "code",
   "execution_count": 82,
   "metadata": {},
   "outputs": [
    {
     "data": {
      "text/plain": [
       "tensor(0.7299)"
      ]
     },
     "execution_count": 82,
     "metadata": {},
     "output_type": "execute_result"
    }
   ],
   "source": [
    "torch.max(torch.abs(C_t))"
   ]
  },
  {
   "cell_type": "code",
   "execution_count": 83,
   "metadata": {
    "scrolled": true
   },
   "outputs": [
    {
     "data": {
      "text/plain": [
       "tensor(0.1641)"
      ]
     },
     "execution_count": 83,
     "metadata": {},
     "output_type": "execute_result"
    }
   ],
   "source": [
    "torch.max(torch.abs(C_t - C_opt_t))"
   ]
  },
  {
   "cell_type": "code",
   "execution_count": 110,
   "metadata": {},
   "outputs": [],
   "source": [
    "t = 9\n",
    "target_t = intermediate_states[t].gd[0][0].view(-1,2)\n",
    "reached_t = intermediate_states_opt[t].gd[1][0].view(-1,2)"
   ]
  },
  {
   "cell_type": "code",
   "execution_count": 112,
   "metadata": {},
   "outputs": [
    {
     "data": {
      "text/plain": [
       "(-4.149214178323746,\n",
       " 44.16139867901802,\n",
       " -2.2784684121608736,\n",
       " 14.028443259000777)"
      ]
     },
     "execution_count": 112,
     "metadata": {},
     "output_type": "execute_result"
    }
   ],
   "source": [
    "plt.figure()\n",
    "plt.plot(target_t[:,0], target_t[:,1], '.b')\n",
    "plt.plot(reached_t[:,0], reached_t[:,1], '.r')\n",
    "plt.axis('equal')"
   ]
  },
  {
   "cell_type": "code",
   "execution_count": null,
   "metadata": {},
   "outputs": [],
   "source": []
  },
  {
   "cell_type": "code",
   "execution_count": null,
   "metadata": {},
   "outputs": [],
   "source": []
  },
  {
   "cell_type": "code",
   "execution_count": null,
   "metadata": {},
   "outputs": [],
   "source": []
  },
  {
   "cell_type": "code",
   "execution_count": null,
   "metadata": {},
   "outputs": [],
   "source": []
  }
 ],
 "metadata": {
  "kernelspec": {
   "display_name": "Python 3",
   "language": "python",
   "name": "python3"
  },
  "language_info": {
   "codemirror_mode": {
    "name": "ipython",
    "version": 3
   },
   "file_extension": ".py",
   "mimetype": "text/x-python",
   "name": "python",
   "nbconvert_exporter": "python",
   "pygments_lexer": "ipython3",
   "version": "3.5.2"
  },
  "name": "2Dshoot.ipynb"
 },
 "nbformat": 4,
 "nbformat_minor": 2
}
