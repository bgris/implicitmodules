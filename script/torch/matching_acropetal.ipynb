{
 "cells": [
  {
   "cell_type": "code",
   "execution_count": 1,
   "metadata": {
    "autoscroll": false,
    "collapsed": false,
    "ein.hycell": false,
    "ein.tags": "worksheet-0",
    "slideshow": {
     "slide_type": "-"
    }
   },
   "outputs": [],
   "source": [
    "%load_ext autoreload\n",
    "%autoreload 2\n",
    "\n",
    "import pickle\n",
    "import math\n",
    "import copy\n",
    "\n",
    "# The deformation module library is not automatically installed yet, we need to add its path manually\n",
    "import sys\n",
    "sys.path.append(\"../../\")\n",
    "\n",
    "import numpy as np\n",
    "import matplotlib.pyplot as plt\n",
    "import torch\n",
    "\n",
    "import implicitmodules.torch as dm\n",
    "\n",
    "torch.set_default_tensor_type(torch.FloatTensor)\n",
    "\n",
    "dm.Utilities.set_compute_backend('torch')\n",
    "device = 'cpu'"
   ]
  },
  {
   "cell_type": "code",
   "execution_count": 2,
   "metadata": {
    "autoscroll": false,
    "collapsed": false,
    "ein.hycell": false,
    "ein.tags": "worksheet-0",
    "slideshow": {
     "slide_type": "-"
    }
   },
   "outputs": [
    {
     "data": {
      "text/plain": [
       "<implicitmodules.torch.Utilities.aabb.AABB at 0x7f881c6bbd30>"
      ]
     },
     "execution_count": 2,
     "metadata": {},
     "output_type": "execute_result"
    }
   ],
   "source": [
    "# Loading the datasets\n",
    "try:\n",
    "    data = pickle.load(open(\"../../data/data_acropetal.pkl\", 'rb'))\n",
    "except:\n",
    "    print(\"Could not load the file.\")\n",
    "\n",
    "pos_source = torch.tensor(data['source_silent']).type(torch.get_default_dtype())\n",
    "pos_implicit0 = torch.tensor(data['source_implicit0']).type(torch.get_default_dtype())\n",
    "pos_implicit1 = torch.tensor(data['source_implicit1']).type(torch.get_default_dtype())\n",
    "pos_target = torch.tensor(data['target_silent']).type(torch.get_default_dtype())\n",
    "\n",
    "# Some rescaling for the source\n",
    "Dx = 0.\n",
    "Dy = 0.\n",
    "height_source = 90.\n",
    "height_target = 495.\n",
    "\n",
    "smin, smax = torch.min(pos_source[:, 1]), torch.max(pos_source[:, 1])\n",
    "sscale = height_source / (smax - smin)\n",
    "pos_source[:, 0] = Dx + sscale * (pos_source[:, 0] - torch.mean(pos_source[:, 0]))\n",
    "pos_source[:, 1] = Dy - sscale * (pos_source[:, 1] - smax)\n",
    "pos_implicit0[:, 0] = Dx + sscale * (pos_implicit0[:, 0] - torch.mean(pos_implicit0[:, 0]))\n",
    "pos_implicit0[:, 1] = Dy - sscale * (pos_implicit0[:, 1] - smax)\n",
    "pos_implicit1[:, 0] = Dx + sscale * (pos_implicit1[:, 0] - torch.mean(pos_implicit1[:, 0]))\n",
    "pos_implicit1[:, 1] = Dy - sscale * (pos_implicit1[:, 1] - smax)\n",
    "\n",
    "# Some rescaling for the target\n",
    "tmin, tmax = torch.min(pos_target[:, 1]), torch.max(pos_target[:, 1])\n",
    "tscale = height_target / (tmax - tmin)\n",
    "pos_target[:, 0] = tscale * (pos_target[:, 0] - torch.mean(pos_target[:, 0]))\n",
    "pos_target[:, 1] = - tscale * (pos_target[:, 1] - tmax)\n",
    "\n",
    "# Compute an AABB for plotting\n",
    "aabb = dm.Utilities.AABB.build_from_points(pos_target)\n",
    "aabb.squared()"
   ]
  },
  {
   "cell_type": "code",
   "execution_count": 12,
   "metadata": {
    "autoscroll": false,
    "collapsed": false,
    "ein.hycell": false,
    "ein.tags": "worksheet-0",
    "slideshow": {
     "slide_type": "-"
    }
   },
   "outputs": [],
   "source": [
    "# Some plots\n",
    "%matplotlib qt5\n",
    "\n",
    "plt.subplot(2, 2, 1)\n",
    "plt.title(\"Source\")\n",
    "plt.xlabel(\"$x$\")\n",
    "plt.ylabel(\"$y$\")\n",
    "plt.plot(pos_source[:, 0].numpy(), pos_source[:, 1].numpy(), '-')\n",
    "plt.plot(pos_implicit1[:, 0].numpy(), pos_implicit1[:, 1].numpy(), '.')\n",
    "plt.plot(pos_implicit0[:, 0].numpy(), pos_implicit0[:, 1].numpy(), 'x')\n",
    "plt.axis('equal')\n",
    "\n",
    "plt.subplot(2, 2, 2)\n",
    "plt.axis(aabb.totuple())\n",
    "plt.title(\"Target\")\n",
    "plt.xlabel(\"$x$\")\n",
    "plt.ylabel(\"$y$\")\n",
    "plt.plot(pos_target[:, 0].numpy(), pos_target[:, 1].numpy(), '-')\n",
    "plt.axis('equal')\n",
    "\n",
    "plt.subplot(2, 2, 3)\n",
    "plt.imshow(data['source_img'])\n",
    "\n",
    "plt.subplot(2, 2, 4)\n",
    "plt.imshow(data['target_img'])\n",
    "\n",
    "plt.show()"
   ]
  },
  {
   "cell_type": "code",
   "execution_count": 5,
   "metadata": {
    "autoscroll": false,
    "collapsed": false,
    "ein.hycell": false,
    "ein.tags": "worksheet-0",
    "slideshow": {
     "slide_type": "-"
    }
   },
   "outputs": [],
   "source": [
    "# Setting up the modules\n",
    "\n",
    "# Global translation module\n",
    "global_translation = dm.DeformationModules.GlobalTranslation(2)\n",
    "\n",
    "# Local translation module\n",
    "sigma0 = 10.\n",
    "nu0 = 0.001\n",
    "coeff0 = 100.\n",
    "implicit0 = dm.DeformationModules.ImplicitModule0(2, pos_implicit0.shape[0], sigma0, nu0, coeff0,  gd=pos_implicit0.clone().requires_grad_())\n",
    "\n",
    "# Elastic module\n",
    "sigma1 = 30.\n",
    "nu1 = 0.0005\n",
    "coeff1 = 0.01\n",
    "C = torch.zeros(pos_implicit1.shape[0], 2, 1)\n",
    "K, L = 10, height_source\n",
    "a, b = 1./L, 3.\n",
    "z = a*(pos_implicit1[:, 1] - Dy)\n",
    "C[:, 1, 0] = K * ((1 - b) * z**2 + b * z)\n",
    "C[:, 0, 0] = 0.8 * C[:, 1, 0]\n",
    "th = 0. * math.pi * torch.ones(pos_implicit1.shape[0])\n",
    "R = torch.stack([dm.Utilities.rot2d(t) for t in th])\n",
    "\n",
    "implicit1 = dm.DeformationModules.ImplicitModule1(2, pos_implicit1.shape[0], sigma1, C, nu1, coeff1, gd=(pos_implicit1.clone().requires_grad_(), R.clone().requires_grad_()))\n",
    "\n",
    "#global_translation.to(device)\n",
    "#implicit0.to(device)\n",
    "#implicit1.to(device)"
   ]
  },
  {
   "cell_type": "code",
   "execution_count": null,
   "metadata": {
    "autoscroll": false,
    "collapsed": false,
    "ein.hycell": false,
    "ein.tags": "worksheet-0",
    "slideshow": {
     "slide_type": "-"
    }
   },
   "outputs": [],
   "source": [
    "# Setting up the model and start the fitting loop\n",
    "model = dm.Models.ModelPointsRegistration([pos_source], [global_translation, implicit0, implicit1], [dm.Attachment.VarifoldAttachment(2, [10., 30., 80.], backend='torch')], lam=50.)\n",
    "\n",
    "fitter = dm.Models.ModelFittingScipy(model)"
   ]
  },
  {
   "cell_type": "code",
   "execution_count": 7,
   "metadata": {
    "autoscroll": false,
    "collapsed": false,
    "ein.hycell": false,
    "ein.tags": "worksheet-0",
    "slideshow": {
     "slide_type": "-"
    }
   },
   "outputs": [
    {
     "name": "stdout",
     "output_type": "stream",
     "text": [
      "Initial energy = 13788988.000\n"
     ]
    },
    {
     "name": "stdout",
     "output_type": "stream",
     "text": [
      "================================================================================\n",
      "Time: 3.3283469699090347\n",
      "Iteration: 1 \n",
      "Total energy = 13438368.0 \n",
      "Attach cost = 13438300.0 \n",
      "Deformation cost = 68.0116958618164\n"
     ]
    },
    {
     "name": "stdout",
     "output_type": "stream",
     "text": [
      "================================================================================\n",
      "Time: 9.822632144903764\n",
      "Iteration: 5 \n",
      "Total energy = 12603798.0 \n",
      "Attach cost = 12603542.0 \n",
      "Deformation cost = 255.52517700195312\n"
     ]
    },
    {
     "name": "stdout",
     "output_type": "stream",
     "text": [
      "================================================================================\n",
      "Time: 16.697283782996237\n",
      "Iteration: 10 \n",
      "Total energy = 3212767.75 \n",
      "Attach cost = 3190309.75 \n",
      "Deformation cost = 22457.98828125\n"
     ]
    },
    {
     "name": "stdout",
     "output_type": "stream",
     "text": [
      "================================================================================\n",
      "Time: 22.39452893694397\n",
      "Iteration: 15 \n",
      "Total energy = 2668691.0 \n",
      "Attach cost = 2648644.0 \n",
      "Deformation cost = 20046.9296875\n"
     ]
    },
    {
     "name": "stdout",
     "output_type": "stream",
     "text": [
      "================================================================================\n",
      "Optimisation process exited with message: b'ABNORMAL_TERMINATION_IN_LNSRCH'\n",
      "Final energy = 2668614.0\n",
      "Closure evaluations = 72\n",
      "Time elapsed = 82.76968592591584\n"
     ]
    }
   ],
   "source": [
    "costs = fitter.fit([pos_target], 50, log_interval=5)"
   ]
  },
  {
   "cell_type": "code",
   "execution_count": 11,
   "metadata": {
    "autoscroll": false,
    "collapsed": false,
    "ein.hycell": false,
    "ein.tags": "worksheet-0",
    "slideshow": {
     "slide_type": "-"
    }
   },
   "outputs": [
    {
     "name": "stdout",
     "output_type": "stream",
     "text": [
      "4\n"
     ]
    }
   ],
   "source": [
    "# Results\n",
    "\n",
    "modules = dm.DeformationModules.CompoundModule(copy.copy(model.modules))\n",
    "print(len(modules.modules))\n",
    "modules.manifold.fill(model.init_manifold)\n",
    "dm.HamiltonianDynamic.shoot(dm.HamiltonianDynamic.Hamiltonian(modules), 10, 'euler')\n",
    "out = modules.manifold[0].gd.detach().cpu().numpy()\n",
    "shot_implicit0 = modules.manifold[2].gd.detach().cpu().numpy()\n",
    "shot_implicit1 = modules.manifold[3].gd[0].detach().cpu().numpy()\n",
    "\n",
    "%matplotlib qt5\n",
    "plt.subplot(1, 3, 1)\n",
    "plt.title(\"Source\")\n",
    "plt.plot(pos_source[:, 0].numpy(), pos_source[:, 1].numpy(), '-')\n",
    "plt.plot(pos_implicit1[:, 0].numpy(), pos_implicit1[:, 1].numpy(), '.')\n",
    "plt.plot(pos_implicit0[:, 0].numpy(), pos_implicit0[:, 1].numpy(), 'x')\n",
    "plt.axis('equal')\n",
    "\n",
    "plt.subplot(1, 3, 2)\n",
    "plt.title(\"Deformed source\")\n",
    "plt.plot(out[:, 0], out[:, 1], '-')\n",
    "plt.plot(shot_implicit0[:, 0], shot_implicit0[:, 1], 'x')\n",
    "plt.plot(shot_implicit1[:, 0], shot_implicit1[:, 1], '.')\n",
    "plt.axis('equal')\n",
    "\n",
    "plt.subplot(1, 3, 3)\n",
    "plt.title(\"Deformed source and target\")\n",
    "plt.plot(pos_target[:, 0].numpy(), pos_target[:, 1].numpy(), '-')\n",
    "plt.plot(out[:, 0], out[:, 1], '-')\n",
    "plt.axis('equal')\n",
    "plt.show()"
   ]
  },
  {
   "cell_type": "code",
   "execution_count": null,
   "metadata": {
    "autoscroll": false,
    "collapsed": false,
    "ein.hycell": false,
    "ein.tags": "worksheet-0",
    "slideshow": {
     "slide_type": "-"
    }
   },
   "outputs": [],
   "source": [
    "# Evolution of the cost with iterations\n",
    "plt.title(\"Cost\")\n",
    "plt.xlabel(\"Iteration(s)\")\n",
    "plt.ylabel(\"Cost\")\n",
    "plt.plot(range(len(costs)), costs)\n",
    "plt.show()"
   ]
  }
 ],
 "metadata": {
  "kernelspec": {
   "argv": [
    "python",
    "-m",
    "ipykernel_launcher",
    "-f",
    "{connection_file}"
   ],
   "display_name": "Python 3",
   "env": null,
   "interrupt_mode": "signal",
   "language": "python",
   "metadata": null,
   "name": "python3"
  },
  "name": "matching_acropetal.ipynb"
 },
 "nbformat": 4,
 "nbformat_minor": 2
}
