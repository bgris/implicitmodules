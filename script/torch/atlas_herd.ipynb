{
 "cells": [
  {
   "cell_type": "code",
   "execution_count": 1,
   "metadata": {
    "autoscroll": false,
    "collapsed": false,
    "ein.hycell": false,
    "ein.tags": "worksheet-0",
    "slideshow": {
     "slide_type": "-"
    }
   },
   "outputs": [],
   "source": [
    "%load_ext autoreload\n",
    "%autoreload 2\n",
    "\n",
    "import pickle\n",
    "import math\n",
    "\n",
    "# The deformation module library is not automatically installed yet, we need to add its path manually\n",
    "import sys\n",
    "sys.path.append(\"../../\")\n",
    "\n",
    "import matplotlib.pyplot as plt\n",
    "import torch\n",
    "\n",
    "import implicitmodules.torch as dm\n",
    "\n",
    "torch.set_default_tensor_type(torch.FloatTensor)\n",
    "dm.Utilities.set_compute_backend('torch')\n",
    "device = 'cpu'"
   ]
  },
  {
   "cell_type": "code",
   "execution_count": 3,
   "metadata": {
    "autoscroll": false,
    "collapsed": false,
    "ein.hycell": false,
    "ein.tags": "worksheet-0",
    "slideshow": {
     "slide_type": "-"
    }
   },
   "outputs": [
    {
     "name": "stdout",
     "output_type": "stream",
     "text": [
      "5\n"
     ]
    }
   ],
   "source": [
    "torch.manual_seed(1337)\n",
    "data = pickle.load(open(\"herd.pickle\", 'rb'))\n",
    "\n",
    "# ear_pos_mean = list(torch.mean(torch.stack(list(zip(*list(zip(*data))[1]))[i], dim=0), dim=0) for i in range(2))\n",
    "# ear_pos_stdvar = list(torch.sqrt(torch.mean(torch.var(torch.stack(list(zip(*list(zip(*data))[1]))[i], dim=0), dim=0))) for i in range(2))\n",
    "\n",
    "sigma_ear_tip_pos = 0.\n",
    "sigma_ear_tip_dir = 0.\n",
    "\n",
    "right_ear_tip_pos = data[0][1][0] + sigma_ear_tip_pos*torch.randn(1).item()\n",
    "left_ear_tip_pos = data[0][1][1] + sigma_ear_tip_pos*torch.randn(1).item()\n",
    "right_ear_tip_dir = right_ear_tip_pos/torch.norm(right_ear_tip_pos) + sigma_ear_tip_dir*torch.randn(1).item()\n",
    "left_ear_tip_dir = left_ear_tip_pos/torch.norm(left_ear_tip_pos) + sigma_ear_tip_dir*torch.randn(1).item()\n",
    "\n",
    "# We need a better template than that\n",
    "template = data[0][0]\n",
    "template = dm.Utilities.gaussian_kernel_smooth(template, 0.1)\n",
    "idx = 4\n",
    "#herd = list(list(zip(*data))[0])[idx:idx+1]\n",
    "herd = list(list(zip(*data))[0])[1:6]\n",
    "\n",
    "\n",
    "print(len(herd))\n",
    "\n",
    "ear_sigma = 0.3"
   ]
  },
  {
   "cell_type": "code",
   "execution_count": 4,
   "metadata": {
    "autoscroll": false,
    "collapsed": false,
    "ein.hycell": false,
    "ein.tags": "worksheet-0",
    "slideshow": {
     "slide_type": "-"
    }
   },
   "outputs": [],
   "source": [
    "%matplotlib qt5\n",
    "#plt.plot(template[:, 0].numpy(), template[:, 1].numpy(), '--', color='black', lw=4.)\n",
    "plt.plot(template[:, 0].numpy(), template[:, 1].numpy(), '+', color='black', lw=4.)\n",
    "for bunny in herd:\n",
    "    plt.plot(bunny.numpy()[:, 0], bunny.numpy()[:, 1], '-', color='C4')\n",
    "    plt.plot(bunny.numpy()[:, 0], bunny.numpy()[:, 1], '*', color='C4')\n",
    "# plt.plot(ear_pos_mean[0][0].numpy(), ear_pos_mean[0][1].numpy(), 'X')\n",
    "# plt.plot(ear_pos_mean[1][0].numpy(), ear_pos_mean[1][1].numpy(), 'X')\n",
    "plt.quiver(right_ear_tip_pos[0].numpy(), right_ear_tip_pos[1].numpy(), right_ear_tip_dir[0].numpy(), right_ear_tip_dir[1].numpy(), color='red')\n",
    "plt.quiver(left_ear_tip_pos[0], left_ear_tip_pos[1], left_ear_tip_dir[0], left_ear_tip_dir[1], color='blue')\n",
    "plt.axis('equal')\n",
    "plt.show()\n"
   ]
  },
  {
   "cell_type": "code",
   "execution_count": 5,
   "metadata": {
    "autoscroll": false,
    "collapsed": false,
    "ein.hycell": false,
    "ein.tags": "worksheet-0",
    "slideshow": {
     "slide_type": "-"
    }
   },
   "outputs": [],
   "source": [
    "sigma_rotation = 15.\n",
    "coeff_oriented = 1e-2\n",
    "coeff_rotation = 1e-4\n",
    "coeff_translation = 1e-1\n",
    "right_ear_translation = dm.DeformationModules.OrientedTranslations(2, 1, ear_sigma, transport='vector', coeff=coeff_oriented, gd=(right_ear_tip_pos.clone().unsqueeze(0).requires_grad_(), right_ear_tip_dir.clone().unsqueeze(0).requires_grad_()), label='right_ear_translation')\n",
    "left_ear_translation = dm.DeformationModules.OrientedTranslations(2, 1, ear_sigma, transport='vector', coeff=coeff_oriented, gd=(left_ear_tip_pos.clone().unsqueeze(0).requires_grad_(), left_ear_tip_dir.clone().unsqueeze(0).requires_grad_()), label='left_ear_translation')\n",
    "local_rotation = dm.DeformationModules.LocalRotation(2, sigma_rotation, coeff=coeff_rotation, gd=torch.tensor([[0., 0.]], requires_grad=True))\n",
    "rigid_translation = dm.DeformationModules.GlobalTranslation(2, coeff_translation)\n",
    "\n",
    "attachment = dm.Attachment.VarifoldAttachment(2, [4.], backend='torch')\n",
    "targets = herd"
   ]
  },
  {
   "cell_type": "code",
   "execution_count": 6,
   "metadata": {
    "autoscroll": false,
    "collapsed": false,
    "ein.hycell": false,
    "ein.tags": "worksheet-0",
    "slideshow": {
     "slide_type": "-"
    }
   },
   "outputs": [],
   "source": [
    "right_ear_translation.to_(device)\n",
    "left_ear_translation.to_(device)\n",
    "local_rotation.to_(device)\n",
    "rigid_translation.to_(device)"
   ]
  },
  {
   "cell_type": "code",
   "execution_count": 7,
   "metadata": {
    "autoscroll": false,
    "collapsed": false,
    "ein.hycell": false,
    "ein.tags": "worksheet-0",
    "slideshow": {
     "slide_type": "-"
    }
   },
   "outputs": [],
   "source": [
    "atlas = dm.Models.Atlas(template.clone().to(device=device), [right_ear_translation, left_ear_translation, local_rotation, rigid_translation], [attachment], len(targets), fit_gd=None, optimise_template=False, ht_sigma=0.1, ht_coeff=10., lam=100.)"
   ]
  },
  {
   "cell_type": "code",
   "execution_count": 8,
   "metadata": {
    "autoscroll": false,
    "collapsed": false,
    "ein.hycell": false,
    "ein.tags": "worksheet-0",
    "slideshow": {
     "slide_type": "-"
    }
   },
   "outputs": [],
   "source": [
    "shoot_method = 'rk4'\n",
    "shoot_it = 10"
   ]
  },
  {
   "cell_type": "code",
   "execution_count": 9,
   "metadata": {
    "autoscroll": false,
    "collapsed": false,
    "ein.hycell": false,
    "ein.tags": "worksheet-0",
    "slideshow": {
     "slide_type": "-"
    }
   },
   "outputs": [
    {
     "name": "stdout",
     "output_type": "stream",
     "text": [
      "Initial energy = 12133.427\n"
     ]
    },
    {
     "name": "stdout",
     "output_type": "stream",
     "text": [
      "================================================================================\n",
      "Time: 455.1054595459718\n",
      "Iteration: 1 \n",
      "Total energy = 7797.1170654296875 \n",
      "Attach cost = 7797.054382324219 \n",
      "Deformation cost = 0.06264475124771707\n"
     ]
    },
    {
     "name": "stdout",
     "output_type": "stream",
     "text": [
      "================================================================================\n",
      "Time: 499.33288658503443\n",
      "Iteration: 2 \n",
      "Total energy = 6815.008361816406 \n",
      "Attach cost = 6814.840087890625 \n",
      "Deformation cost = 0.1683010500855744\n"
     ]
    },
    {
     "name": "stdout",
     "output_type": "stream",
     "text": [
      "================================================================================\n",
      "Time: 541.5488243190339\n",
      "Iteration: 3 \n",
      "Total energy = 4858.4876708984375 \n",
      "Attach cost = 4858.32666015625 \n",
      "Deformation cost = 0.16105230525135994\n"
     ]
    },
    {
     "name": "stdout",
     "output_type": "stream",
     "text": [
      "================================================================================\n",
      "Time: 584.8166736649582\n",
      "Iteration: 4 \n",
      "Total energy = 3937.5992431640625 \n",
      "Attach cost = 3937.4237670898438 \n",
      "Deformation cost = 0.17544239945709705\n"
     ]
    },
    {
     "name": "stdout",
     "output_type": "stream",
     "text": [
      "================================================================================\n",
      "Time: 625.464414609014\n",
      "Iteration: 5 \n",
      "Total energy = 3592.122344970703 \n",
      "Attach cost = 3591.9815368652344 \n",
      "Deformation cost = 0.1407538536004722\n"
     ]
    },
    {
     "name": "stdout",
     "output_type": "stream",
     "text": [
      "================================================================================\n",
      "Time: 665.5624688040698\n",
      "Iteration: 6 \n",
      "Total energy = 3295.8382415771484 \n",
      "Attach cost = 3295.6558532714844 \n",
      "Deformation cost = 0.18240362871438265\n"
     ]
    },
    {
     "name": "stdout",
     "output_type": "stream",
     "text": [
      "================================================================================\n",
      "Time: 706.5873696730705\n",
      "Iteration: 7 \n",
      "Total energy = 3098.2706604003906 \n",
      "Attach cost = 3098.0774536132812 \n",
      "Deformation cost = 0.19322240725159645\n"
     ]
    },
    {
     "name": "stdout",
     "output_type": "stream",
     "text": [
      "================================================================================\n",
      "Time: 747.5706295539858\n",
      "Iteration: 8 \n",
      "Total energy = 2774.182815551758 \n",
      "Attach cost = 2773.9592895507812 \n",
      "Deformation cost = 0.22355254832655191\n"
     ]
    },
    {
     "name": "stdout",
     "output_type": "stream",
     "text": [
      "================================================================================\n",
      "Time: 788.9144839890068\n",
      "Iteration: 9 \n",
      "Total energy = 2487.418914794922 \n",
      "Attach cost = 2487.171142578125 \n",
      "Deformation cost = 0.24781416356563568\n"
     ]
    },
    {
     "name": "stdout",
     "output_type": "stream",
     "text": [
      "================================================================================\n",
      "Time: 831.6794243879849\n",
      "Iteration: 10 \n",
      "Total energy = 1667.777572631836 \n",
      "Attach cost = 1667.4095153808594 \n",
      "Deformation cost = 0.36809711158275604\n"
     ]
    },
    {
     "name": "stdout",
     "output_type": "stream",
     "text": [
      "================================================================================\n",
      "Time: 873.5324785100529\n",
      "Iteration: 11 \n",
      "Total energy = 1276.6454620361328 \n",
      "Attach cost = 1276.0841369628906 \n",
      "Deformation cost = 0.56130800396204\n"
     ]
    },
    {
     "name": "stdout",
     "output_type": "stream",
     "text": [
      "================================================================================\n",
      "Time: 917.4223027139669\n",
      "Iteration: 12 \n",
      "Total energy = 871.2779502868652 \n",
      "Attach cost = 870.6657409667969 \n",
      "Deformation cost = 0.6121805533766747\n"
     ]
    },
    {
     "name": "stdout",
     "output_type": "stream",
     "text": [
      "================================================================================\n",
      "Time: 960.0317562359851\n",
      "Iteration: 13 \n",
      "Total energy = 749.665958404541 \n",
      "Attach cost = 748.9799499511719 \n",
      "Deformation cost = 0.6860087811946869\n"
     ]
    },
    {
     "name": "stdout",
     "output_type": "stream",
     "text": [
      "================================================================================\n",
      "Time: 1003.2070664230268\n",
      "Iteration: 14 \n",
      "Total energy = 645.3773803710938 \n",
      "Attach cost = 644.6266174316406 \n",
      "Deformation cost = 0.750745102763176\n"
     ]
    },
    {
     "name": "stdout",
     "output_type": "stream",
     "text": [
      "================================================================================\n",
      "Time: 1044.314694953966\n",
      "Iteration: 15 \n",
      "Total energy = 535.4862298965454 \n",
      "Attach cost = 534.6771240234375 \n",
      "Deformation cost = 0.8091173842549324\n"
     ]
    },
    {
     "name": "stdout",
     "output_type": "stream",
     "text": [
      "================================================================================\n",
      "Time: 1085.3439060050296\n",
      "Iteration: 16 \n",
      "Total energy = 505.98374032974243 \n",
      "Attach cost = 505.1727294921875 \n",
      "Deformation cost = 0.8110020682215691\n"
     ]
    },
    {
     "name": "stdout",
     "output_type": "stream",
     "text": [
      "================================================================================\n",
      "Time: 1128.8658771910705\n",
      "Iteration: 17 \n",
      "Total energy = 467.7916316986084 \n",
      "Attach cost = 466.99066162109375 \n",
      "Deformation cost = 0.8009741604328156\n"
     ]
    },
    {
     "name": "stdout",
     "output_type": "stream",
     "text": [
      "================================================================================\n",
      "Time: 1171.736308563035\n",
      "Iteration: 18 \n",
      "Total energy = 458.587438583374 \n",
      "Attach cost = 457.8056335449219 \n",
      "Deformation cost = 0.7817901596426964\n"
     ]
    },
    {
     "name": "stdout",
     "output_type": "stream",
     "text": [
      "================================================================================\n",
      "Time: 1221.1299123690696\n",
      "Iteration: 19 \n",
      "Total energy = 437.59773302078247 \n",
      "Attach cost = 436.8278503417969 \n",
      "Deformation cost = 0.7698923051357269\n"
     ]
    },
    {
     "name": "stdout",
     "output_type": "stream",
     "text": [
      "================================================================================\n",
      "Time: 1271.4807433380047\n",
      "Iteration: 20 \n",
      "Total energy = 421.3923897743225 \n",
      "Attach cost = 420.6214904785156 \n",
      "Deformation cost = 0.7708883509039879\n"
     ]
    },
    {
     "name": "stdout",
     "output_type": "stream",
     "text": [
      "================================================================================\n",
      "Time: 1315.9651905240025\n",
      "Iteration: 21 \n",
      "Total energy = 405.6784896850586 \n",
      "Attach cost = 404.8896789550781 \n",
      "Deformation cost = 0.7888107523322105\n"
     ]
    },
    {
     "name": "stdout",
     "output_type": "stream",
     "text": [
      "================================================================================\n",
      "Time: 1358.4565771080088\n",
      "Iteration: 22 \n",
      "Total energy = 395.44306230545044 \n",
      "Attach cost = 394.6311950683594 \n",
      "Deformation cost = 0.8118790686130524\n"
     ]
    },
    {
     "name": "stdout",
     "output_type": "stream",
     "text": [
      "================================================================================\n",
      "Time: 1399.1795114220586\n",
      "Iteration: 23 \n",
      "Total energy = 389.7890009880066 \n",
      "Attach cost = 388.9640808105469 \n",
      "Deformation cost = 0.8249124810099602\n"
     ]
    },
    {
     "name": "stdout",
     "output_type": "stream",
     "text": [
      "================================================================================\n",
      "Time: 1446.0456208949909\n",
      "Iteration: 24 \n",
      "Total energy = 386.804297208786 \n",
      "Attach cost = 385.97869873046875 \n",
      "Deformation cost = 0.8256122916936874\n"
     ]
    },
    {
     "name": "stdout",
     "output_type": "stream",
     "text": [
      "================================================================================\n",
      "Time: 1487.0358001539716\n",
      "Iteration: 25 \n",
      "Total energy = 385.42831540107727 \n",
      "Attach cost = 384.60693359375 \n",
      "Deformation cost = 0.8213727474212646\n"
     ]
    },
    {
     "name": "stdout",
     "output_type": "stream",
     "text": [
      "================================================================================\n",
      "Time: 1528.176120297052\n",
      "Iteration: 26 \n",
      "Total energy = 383.56805181503296 \n",
      "Attach cost = 382.7507019042969 \n",
      "Deformation cost = 0.8173646330833435\n"
     ]
    },
    {
     "name": "stdout",
     "output_type": "stream",
     "text": [
      "================================================================================\n",
      "Time: 1569.4292115640128\n",
      "Iteration: 27 \n",
      "Total energy = 381.0067881345749 \n",
      "Attach cost = 380.1910400390625 \n",
      "Deformation cost = 0.8157493770122528\n"
     ]
    },
    {
     "name": "stdout",
     "output_type": "stream",
     "text": [
      "================================================================================\n",
      "Time: 1609.942417990067\n",
      "Iteration: 28 \n",
      "Total energy = 378.06095933914185 \n",
      "Attach cost = 377.239990234375 \n",
      "Deformation cost = 0.8209761008620262\n"
     ]
    },
    {
     "name": "stdout",
     "output_type": "stream",
     "text": [
      "================================================================================\n",
      "Time: 1649.510955822072\n",
      "Iteration: 29 \n",
      "Total energy = 376.9082564711571 \n",
      "Attach cost = 376.07879638671875 \n",
      "Deformation cost = 0.8294700533151627\n"
     ]
    },
    {
     "name": "stdout",
     "output_type": "stream",
     "text": [
      "================================================================================\n",
      "Time: 1690.544258306967\n",
      "Iteration: 30 \n",
      "Total energy = 376.69342136383057 \n",
      "Attach cost = 375.8628845214844 \n",
      "Deformation cost = 0.8305222988128662\n",
      "================================================================================\n",
      "Optimisation process exited with message: b'STOP: TOTAL NO. of ITERATIONS REACHED LIMIT'\n",
      "Final energy = 376.69342136383057\n",
      "Closure evaluations = 40\n",
      "Time elapsed = 1690.5452673999825\n"
     ]
    }
   ],
   "source": [
    "fitter = dm.Models.ModelFittingScipy(atlas)\n",
    "#fitter = dm.Models.ModelFittingGradientDescent(atlas, 1e-6)\n",
    "costs = fitter.fit([target.clone().to(device=device) for target in targets], 30, options={'shoot_method': shoot_method, 'shoot_it': shoot_it})"
   ]
  },
  {
   "cell_type": "code",
   "execution_count": 24,
   "metadata": {
    "autoscroll": false,
    "collapsed": false,
    "ein.hycell": false,
    "ein.tags": "worksheet-0",
    "slideshow": {
     "slide_type": "-"
    }
   },
   "outputs": [],
   "source": [
    "%matplotlib qt5\n",
    "plt.plot(range(len(costs)), tuple(zip(*costs))[1], color='black', lw=0.5)\n",
    "plt.xlabel(\"It\")\n",
    "plt.ylabel(\"Cost\")\n",
    "plt.grid()\n",
    "plt.show()"
   ]
  },
  {
   "cell_type": "code",
   "execution_count": 14,
   "metadata": {
    "autoscroll": false,
    "collapsed": false,
    "ein.hycell": false,
    "ein.tags": "worksheet-0",
    "slideshow": {
     "slide_type": "-"
    }
   },
   "outputs": [
    {
     "name": "stdout",
     "output_type": "stream",
     "text": [
      "Atlas\n",
      "=====\n",
      "Template nb pts=107\n",
      "Population count=5\n",
      "Module count=4\n",
      "Hypertemplate=False\n",
      "Attachment=VarifoldAttachment2D_Torch (weight=1.0)\n",
      "  Sigmas=[4.0]\n",
      "Lambda=100.0\n",
      "Fit geometrical descriptors=None\n",
      "Precompute callback=False\n",
      "Model precompute callback=False\n",
      "Other parameters=False\n",
      "\n",
      "Modules\n",
      "=======\n",
      "Oriented translation\n",
      "  Label=right_ear_translation\n",
      "  Sigma=0.3\n",
      "  Coeff=0.01\n",
      "  Nb pts=1\n",
      "Oriented translation\n",
      "  Label=left_ear_translation\n",
      "  Sigma=0.3\n",
      "  Coeff=0.01\n",
      "  Nb pts=1\n",
      "Local constrained translation module\n",
      "  Type=Local rotation\n",
      "  Sigma=15.0\n",
      "  Coeff=0.0001\n",
      "Global translation\n",
      "  Coeff=0.1\n",
      "\n",
      "Fit informations\n",
      "================\n",
      "Iteration count=30\n",
      "Start cost=7797.1170654296875\n",
      "  Attach cost=7797.054382324219\n",
      "  Def cost=0.06264475124771707\n",
      "Final cost=376.69342136383057\n",
      "  Attach cost=375.8628845214844\n",
      "  Def cost=0.8305222988128662\n",
      "Integration scheme=rk4\n",
      "Integration steps=10\n"
     ]
    }
   ],
   "source": [
    "# Print recap\n",
    "print(atlas)\n",
    "print(\"\")\n",
    "print(\"Fit informations\")\n",
    "print(\"================\")\n",
    "print(\"Iteration count={it_count}\".format(it_count=len(costs)))\n",
    "print(\"Start cost={cost}\".format(cost=costs[0][2]))\n",
    "print(\"  Attach cost={cost}\".format(cost=costs[0][1]))\n",
    "print(\"  Def cost={cost}\".format(cost=costs[0][0]))\n",
    "print(\"Final cost={cost}\".format(cost=costs[-1][2]))\n",
    "print(\"  Attach cost={cost}\".format(cost=costs[-1][1]))\n",
    "print(\"  Def cost={cost}\".format(cost=costs[-1][0]))\n",
    "print(\"Integration scheme={scheme}\".format(scheme=shoot_method))\n",
    "print(\"Integration steps={steps}\".format(steps=shoot_it))"
   ]
  },
  {
   "cell_type": "code",
   "execution_count": null,
   "metadata": {
    "autoscroll": false,
    "collapsed": false,
    "ein.hycell": false,
    "ein.tags": "worksheet-0",
    "slideshow": {
     "slide_type": "-"
    }
   },
   "outputs": [],
   "source": [
    "print(\"Initial right ear tip direction: {dir}\".format(dir=right_ear_tip_dir.tolist()))\n",
    "print(\"Optimised right ear tip direction: {dir}\".format(dir=atlas.models[0].init_manifold[1].gd[1].detach().flatten().tolist()))\n",
    "print(\"Initial left ear tip direction: {dir}\".format(dir=left_ear_tip_dir.tolist()))\n",
    "print(\"Optimised left ear tip direction: {dir}\".format(dir=atlas.models[0].init_manifold[2].gd[1].detach().flatten().tolist()))"
   ]
  },
  {
   "cell_type": "code",
   "execution_count": null,
   "metadata": {
    "autoscroll": false,
    "collapsed": false,
    "ein.hycell": false,
    "ein.tags": "worksheet-0",
    "slideshow": {
     "slide_type": "-"
    }
   },
   "outputs": [],
   "source": [
    "print(\"Optimised rotation center: {center}\".format(center=atlas.models[0].init_manifold[3].gd.tolist()[0]))"
   ]
  },
  {
   "cell_type": "code",
   "execution_count": 10,
   "metadata": {
    "autoscroll": false,
    "collapsed": false,
    "ein.hycell": false,
    "ein.tags": "worksheet-0",
    "slideshow": {
     "slide_type": "-"
    }
   },
   "outputs": [],
   "source": [
    "# Compute optimised template\n",
    "optimised_template, _ = atlas.compute_template()\n",
    "optimised_template = optimised_template.cpu()"
   ]
  },
  {
   "cell_type": "code",
   "execution_count": 26,
   "metadata": {
    "autoscroll": false,
    "collapsed": false,
    "ein.hycell": false,
    "ein.tags": "worksheet-0",
    "slideshow": {
     "slide_type": "-"
    }
   },
   "outputs": [],
   "source": [
    "template_right_ear_pos, template_right_ear_dir = atlas.models[0].init_manifold[1].gd[0].detach().cpu().flatten(), atlas.models[0].init_manifold[1].gd[1].detach().cpu().flatten()\n",
    "template_left_ear_pos, template_left_ear_dir = atlas.models[0].init_manifold[2].gd[0].detach().cpu().flatten(), atlas.models[0].init_manifold[2].gd[1].detach().cpu().flatten()\n",
    "\n",
    "plt.plot(optimised_template[:, 0].numpy(), optimised_template[:, 1].numpy(), '-', color='grey', lw=1.5)\n",
    "plt.plot(template[:, 0].numpy(), template[:, 1].numpy(), color='black', lw=0.8)\n",
    "\n",
    "# Plot initial positions and directions of the oriented translations\n",
    "plt.quiver(right_ear_tip_pos[0].numpy(), right_ear_tip_pos[1].numpy(),\n",
    "           right_ear_tip_dir[0].numpy(), right_ear_tip_dir[1].numpy(), scale=10.)\n",
    "plt.quiver(left_ear_tip_pos[0].numpy(), left_ear_tip_pos[1].numpy(),\n",
    "           left_ear_tip_dir[0].numpy(), left_ear_tip_dir[1].numpy(), scale=10.)\n",
    "\n",
    "# Plot optimised positions and directions of the oriented translations\n",
    "plt.quiver(template_right_ear_pos[0].numpy(), template_right_ear_pos[1].numpy(),\n",
    "           template_right_ear_dir[0].numpy(), template_right_ear_dir[1].numpy(), scale=10.)\n",
    "plt.quiver(template_left_ear_pos[0].numpy(), template_left_ear_pos[1].numpy(),\n",
    "           template_left_ear_dir[0].numpy(), template_left_ear_dir[1].numpy(), scale=10.)\n",
    "\n",
    "# Plot position correspondance\n",
    "plt.arrow(right_ear_tip_pos[0], right_ear_tip_pos[1], template_right_ear_pos[0] - right_ear_tip_pos[0], template_right_ear_pos[1] - right_ear_tip_pos[1], width=0.01, length_includes_head=True, head_width=0.08)\n",
    "plt.arrow(left_ear_tip_pos[0], left_ear_tip_pos[1], template_left_ear_pos[0] - left_ear_tip_pos[0], template_left_ear_pos[1] - left_ear_tip_pos[1], width=0.01, length_includes_head=True, head_width=0.08)\n",
    "plt.axis('equal')\n",
    "plt.show()"
   ]
  },
  {
   "cell_type": "code",
   "execution_count": 13,
   "metadata": {
    "autoscroll": false,
    "collapsed": false,
    "ein.hycell": false,
    "ein.tags": "worksheet-0",
    "slideshow": {
     "slide_type": "-"
    }
   },
   "outputs": [
    {
     "name": "stdout",
     "output_type": "stream",
     "text": [
      "Target 0: attachment=0.0128936767578125\n"
     ]
    },
    {
     "name": "stdout",
     "output_type": "stream",
     "text": [
      "Target 1: attachment=0.0106658935546875\n"
     ]
    },
    {
     "name": "stdout",
     "output_type": "stream",
     "text": [
      "Target 2: attachment=0.01139068603515625\n"
     ]
    },
    {
     "name": "stdout",
     "output_type": "stream",
     "text": [
      "Target 3: attachment=0.0084075927734375\n"
     ]
    },
    {
     "name": "stdout",
     "output_type": "stream",
     "text": [
      "Target 4: attachment=3.715301513671875\n"
     ]
    }
   ],
   "source": [
    "%matplotlib qt5\n",
    "it_per_snapshot = 2\n",
    "snapshots = int(shoot_it/it_per_snapshot)\n",
    "\n",
    "disp_targets = len(targets)\n",
    "\n",
    "for i in range(disp_targets):\n",
    "    silent_pos = optimised_template.clone()\n",
    "    silent_mom = atlas.models[i].init_manifold[0].cotan.detach().cpu().clone()\n",
    "    right_ear_trans_gd = (atlas.models[i].init_manifold[1].gd[0].detach().cpu().clone(),\n",
    "                          atlas.models[i].init_manifold[1].gd[1].detach().cpu().clone())\n",
    "    right_ear_trans_mom = (atlas.models[i].init_manifold[1].cotan[0].detach().cpu().clone(),\n",
    "                           atlas.models[i].init_manifold[1].cotan[1].detach().cpu().clone())\n",
    "    left_ear_trans_gd = (atlas.models[i].init_manifold[2].gd[0].detach().cpu().clone(),\n",
    "                          atlas.models[i].init_manifold[2].gd[1].detach().cpu().clone())\n",
    "    left_ear_trans_mom = (atlas.models[i].init_manifold[2].cotan[0].detach().cpu().clone(),\n",
    "                          atlas.models[i].init_manifold[2].cotan[1].detach().cpu().clone())\n",
    "    local_rotation_gd = atlas.models[i].init_manifold[3].gd.detach().cpu().clone()\n",
    "    local_rotation_mom = atlas.models[i].init_manifold[3].cotan.detach().cpu().clone()\n",
    "\n",
    "    silent = dm.DeformationModules.SilentLandmarks(2, silent_pos.shape[0], gd=silent_pos, cotan=silent_mom)\n",
    "    right_ear_trans = dm.DeformationModules.OrientedTranslations(2, 1, ear_sigma, coeff=coeff_oriented, gd=right_ear_trans_gd, cotan=right_ear_trans_mom)\n",
    "    left_ear_trans = dm.DeformationModules.OrientedTranslations(2, 1, ear_sigma, coeff=coeff_oriented, gd=left_ear_trans_gd, cotan=left_ear_trans_mom)\n",
    "    local_rot = dm.DeformationModules.LocalRotation(2, sigma_rotation, coeff=coeff_rotation, gd=local_rotation_gd, cotan=local_rotation_mom)\n",
    "    rigid_translation = dm.DeformationModules.GlobalTranslation(2, coeff=coeff_translation)\n",
    "\n",
    "    h = dm.HamiltonianDynamic.Hamiltonian([silent, right_ear_trans, left_ear_trans, local_rot, rigid_translation])\n",
    "    intermediate_states, _ = dm.HamiltonianDynamic.shoot(h, shoot_it, shoot_method, intermediates=True)\n",
    "\n",
    "\n",
    "    for j in range(snapshots):\n",
    "        pos = intermediate_states[it_per_snapshot*j].gd[0].numpy()\n",
    "        pos_right_ear_trans = intermediate_states[it_per_snapshot*j].gd[1][0].flatten().numpy()\n",
    "        pos_left_ear_trans = intermediate_states[it_per_snapshot*j].gd[2][0].flatten().numpy()\n",
    "        dir_right_ear_trans = intermediate_states[it_per_snapshot*j].gd[1][1].flatten().numpy()\n",
    "        dir_left_ear_trans = intermediate_states[it_per_snapshot*j].gd[2][1].flatten().numpy()\n",
    "\n",
    "        plt.subplot(disp_targets, snapshots + 1, i*snapshots + j + i + 1)\n",
    "        plt.plot(pos[:, 0], pos[:, 1], color='black')\n",
    "        plt.plot(pos_right_ear_trans[0], pos_right_ear_trans[1], 'x', color='red')\n",
    "        plt.plot(pos_left_ear_trans[0], pos_left_ear_trans[1], 'x', color='red')\n",
    "        plt.plot(targets[i].numpy()[:, 0], targets[i].numpy()[:, 1], color='blue')\n",
    "        plt.quiver(pos_right_ear_trans[0], pos_right_ear_trans[1],\n",
    "                   dir_right_ear_trans[0], dir_right_ear_trans[1], scale=10.)\n",
    "        plt.quiver(pos_left_ear_trans[0], pos_left_ear_trans[1],\n",
    "                   dir_left_ear_trans[0], dir_left_ear_trans[1], scale=10.)\n",
    "\n",
    "        plt.axis('equal')\n",
    "\n",
    "    final_pos = intermediate_states[-1].gd[0].numpy()\n",
    "    plt.subplot(disp_targets, snapshots + 1, i*snapshots + snapshots + i + 1)\n",
    "    plt.plot(targets[i].numpy()[:, 0], targets[i].numpy()[:, 1], color='blue')\n",
    "    plt.plot(final_pos[:, 0], final_pos[:, 1], color='black')\n",
    "    plt.axis('equal')\n",
    "\n",
    "    print(\"Target {i}: attachment={attachment}\".format(i=i, attachment=attachment(targets[i], torch.tensor(final_pos))))\n",
    "\n",
    "plt.show()"
   ]
  },
  {
   "cell_type": "code",
   "execution_count": null,
   "metadata": {
    "collapsed": false
   },
   "outputs": [],
   "source": []
  }
 ],
 "metadata": {
  "kernelspec": {
   "argv": [
    "python",
    "-m",
    "ipykernel_launcher",
    "-f",
    "{connection_file}"
   ],
   "display_name": "Python 3",
   "env": null,
   "interrupt_mode": "signal",
   "language": "python",
   "metadata": null,
   "name": "python3"
  },
  "name": "atlas_herd.ipynb"
 },
 "nbformat": 4,
 "nbformat_minor": 2
}
