{
 "cells": [
  {
   "cell_type": "code",
   "execution_count": 1,
   "metadata": {
    "autoscroll": false,
    "collapsed": false,
    "ein.hycell": false,
    "ein.tags": "worksheet-0",
    "slideshow": {
     "slide_type": "-"
    }
   },
   "outputs": [],
   "source": [
    "%load_ext autoreload\n",
    "%autoreload 2\n",
    "\n",
    "import pickle\n",
    "import math\n",
    "\n",
    "# The deformation module library is not automatically installed yet, we need to add its path manually\n",
    "import sys\n",
    "sys.path.append(\"../../\")\n",
    "\n",
    "import matplotlib.pyplot as plt\n",
    "import torch\n",
    "\n",
    "import implicitmodules.torch as dm\n",
    "\n",
    "torch.set_default_tensor_type(torch.FloatTensor)"
   ]
  },
  {
   "cell_type": "code",
   "execution_count": 2,
   "metadata": {
    "autoscroll": false,
    "collapsed": false,
    "ein.hycell": false,
    "ein.tags": "worksheet-0",
    "slideshow": {
     "slide_type": "-"
    }
   },
   "outputs": [
    {
     "name": "stdout",
     "output_type": "stream",
     "text": [
      "torch.Size([107, 2])\n",
      "14\n"
     ]
    }
   ],
   "source": [
    "data = pickle.load(open(\"herd.pickle\", 'rb'))\n",
    "\n",
    "ear_pos_mean = list(torch.mean(torch.stack(list(zip(*list(zip(*data))[1]))[i], dim=0), dim=0) for i in range(2))\n",
    "ear_pos_stdvar = list(torch.sqrt(torch.mean(torch.var(torch.stack(list(zip(*list(zip(*data))[1]))[i], dim=0), dim=0))) for i in range(2))\n",
    "\n",
    "right_ear_tip_pos = data[0][1][0]\n",
    "left_ear_tip_pos = data[0][1][1]\n",
    "right_ear_tip_dir = right_ear_tip_pos/torch.norm(right_ear_tip_pos)\n",
    "left_ear_tip_dir = left_ear_tip_pos/torch.norm(left_ear_tip_pos)\n",
    "\n",
    "# We need a better template than that\n",
    "template = data[0][0]\n",
    "template = dm.Utilities.gaussian_kernel_smooth(template, 0.1)\n",
    "herd = list(list(zip(*data))[0])[1:-1]\n",
    "\n",
    "print(template.shape)\n",
    "print(len(herd))\n",
    "\n",
    "ear_sigma = 0.6"
   ]
  },
  {
   "cell_type": "code",
   "execution_count": 3,
   "metadata": {
    "autoscroll": false,
    "collapsed": false,
    "ein.hycell": false,
    "ein.tags": "worksheet-0",
    "slideshow": {
     "slide_type": "-"
    }
   },
   "outputs": [],
   "source": [
    "%matplotlib qt5\n",
    "plt.plot(template[:, 0].numpy(), template[:, 1].numpy(), '--', color='black', lw=4.)\n",
    "for bunny in herd:\n",
    "    plt.plot(bunny.numpy()[:, 0], bunny.numpy()[:, 1], '-', color='C4')\n",
    "# plt.plot(ear_pos_mean[0][0].numpy(), ear_pos_mean[0][1].numpy(), 'X')\n",
    "# plt.plot(ear_pos_mean[1][0].numpy(), ear_pos_mean[1][1].numpy(), 'X')\n",
    "plt.quiver(right_ear_tip_pos[0].numpy(), right_ear_tip_pos[1].numpy(), right_ear_tip_dir[0].numpy(), right_ear_tip_dir[1].numpy(), color='red')\n",
    "plt.quiver(left_ear_tip_pos[0], left_ear_tip_pos[1], left_ear_tip_dir[0], left_ear_tip_dir[1], color='blue')\n",
    "plt.axis('equal')\n",
    "plt.show()\n"
   ]
  },
  {
   "cell_type": "code",
   "execution_count": 4,
   "metadata": {
    "autoscroll": false,
    "collapsed": false,
    "ein.hycell": false,
    "ein.tags": "worksheet-0",
    "slideshow": {
     "slide_type": "-"
    }
   },
   "outputs": [],
   "source": [
    "sigma_rotation = 4.\n",
    "coeff_rotation = 0.005\n",
    "coeff_translation = 0.5\n",
    "\n",
    "right_ear_translation = dm.DeformationModules.OrientedTranslations(2, 1, ear_sigma, gd=(right_ear_tip_pos.clone().unsqueeze(0).requires_grad_(), right_ear_tip_dir.clone().unsqueeze(0).requires_grad_()), label='right_ear_translation')\n",
    "left_ear_translation = dm.DeformationModules.OrientedTranslations(2, 1, ear_sigma, gd=(left_ear_tip_pos.clone().unsqueeze(0).requires_grad_(), left_ear_tip_dir.clone().unsqueeze(0).requires_grad_()), label='left_ear_translation')\n",
    "#rigid_rotation = dm.DeformationModules.LinearDeformation.build(torch.tensor([[0., -1.], [1., 0.]]), gd=torch.tensor([[0., 0.]], requires_grad=True))\n",
    "rigid_translation = dm.DeformationModules.GlobalTranslation(2, coeff_translation)\n",
    "local_rotation = dm.DeformationModules.LocalRotation(2, sigma_rotation, coeff=coeff_rotation, gd=torch.tensor([[0., 0.]], requires_grad=True))\n",
    "\n",
    "targets = herd\n",
    "\n",
    "atlas = dm.Models.Atlas(template, [right_ear_translation, left_ear_translation, local_rotation, rigid_translation], [dm.Attachment.VarifoldAttachment(2, [0.3, 1.])], len(targets), fit_gd=None, lam=100.)"
   ]
  },
  {
   "cell_type": "code",
   "execution_count": null,
   "metadata": {
    "autoscroll": false,
    "collapsed": false,
    "ein.hycell": false,
    "ein.tags": "worksheet-0",
    "slideshow": {
     "slide_type": "-"
    }
   },
   "outputs": [
    {
     "name": "stdout",
     "output_type": "stream",
     "text": [
      "Initial energy = 54922.344\n"
     ]
    },
    {
     "name": "stdout",
     "output_type": "stream",
     "text": [
      "================================================================================\n",
      "Iteration: 1 \n",
      "Total energy = 50368.226562 \n",
      "Attach cost = 50367.820312 \n",
      "Deformation cost = 0.406464\n"
     ]
    },
    {
     "name": "stdout",
     "output_type": "stream",
     "text": [
      "================================================================================\n",
      "Iteration: 2 \n",
      "Total energy = 48056.859375 \n",
      "Attach cost = 48051.246094 \n",
      "Deformation cost = 5.613342\n"
     ]
    },
    {
     "name": "stdout",
     "output_type": "stream",
     "text": [
      "================================================================================\n",
      "Iteration: 3 \n",
      "Total energy = 40174.871094 \n",
      "Attach cost = 40130.699219 \n",
      "Deformation cost = 44.174484\n"
     ]
    },
    {
     "name": "stdout",
     "output_type": "stream",
     "text": [
      "================================================================================\n",
      "Iteration: 4 \n",
      "Total energy = 35535.484375 \n",
      "Attach cost = 35463.296875 \n",
      "Deformation cost = 72.185493\n"
     ]
    },
    {
     "name": "stdout",
     "output_type": "stream",
     "text": [
      "================================================================================\n",
      "Iteration: 5 \n",
      "Total energy = 32838.804688 \n",
      "Attach cost = 32769.363281 \n",
      "Deformation cost = 69.442833\n"
     ]
    },
    {
     "name": "stdout",
     "output_type": "stream",
     "text": [
      "================================================================================\n",
      "Iteration: 6 \n",
      "Total energy = 31730.576172 \n",
      "Attach cost = 31667.824219 \n",
      "Deformation cost = 62.752781\n"
     ]
    },
    {
     "name": "stdout",
     "output_type": "stream",
     "text": [
      "================================================================================\n",
      "Iteration: 7 \n",
      "Total energy = 29782.144531 \n",
      "Attach cost = 29721.050781 \n",
      "Deformation cost = 61.096024\n"
     ]
    },
    {
     "name": "stdout",
     "output_type": "stream",
     "text": [
      "================================================================================\n",
      "Iteration: 8 \n",
      "Total energy = 28845.925781 \n",
      "Attach cost = 28786.900391 \n",
      "Deformation cost = 59.024494\n"
     ]
    },
    {
     "name": "stdout",
     "output_type": "stream",
     "text": [
      "================================================================================\n",
      "Iteration: 9 \n",
      "Total energy = 27441.234375 \n",
      "Attach cost = 27374.697266 \n",
      "Deformation cost = 66.534744\n"
     ]
    },
    {
     "name": "stdout",
     "output_type": "stream",
     "text": [
      "================================================================================\n",
      "Iteration: 10 \n",
      "Total energy = 26278.396484 \n",
      "Attach cost = 26203.058594 \n",
      "Deformation cost = 75.336418\n"
     ]
    },
    {
     "name": "stdout",
     "output_type": "stream",
     "text": [
      "================================================================================\n",
      "Iteration: 11 \n",
      "Total energy = 25957.093750 \n",
      "Attach cost = 25879.449219 \n",
      "Deformation cost = 77.646629\n"
     ]
    },
    {
     "name": "stdout",
     "output_type": "stream",
     "text": [
      "================================================================================\n",
      "Iteration: 12 \n",
      "Total energy = 24765.199219 \n",
      "Attach cost = 24690.015625 \n",
      "Deformation cost = 75.180565\n"
     ]
    },
    {
     "name": "stdout",
     "output_type": "stream",
     "text": [
      "================================================================================\n",
      "Iteration: 13 \n",
      "Total energy = 24220.722656 \n",
      "Attach cost = 24152.070312 \n",
      "Deformation cost = 68.653824\n"
     ]
    },
    {
     "name": "stdout",
     "output_type": "stream",
     "text": [
      "================================================================================\n",
      "Iteration: 14 \n",
      "Total energy = 23071.738281 \n",
      "Attach cost = 23003.384766 \n",
      "Deformation cost = 68.351021\n"
     ]
    },
    {
     "name": "stdout",
     "output_type": "stream",
     "text": [
      "================================================================================\n",
      "Iteration: 15 \n",
      "Total energy = 22714.824219 \n",
      "Attach cost = 22645.593750 \n",
      "Deformation cost = 69.227325\n"
     ]
    },
    {
     "name": "stdout",
     "output_type": "stream",
     "text": [
      "================================================================================\n",
      "Iteration: 16 \n",
      "Total energy = 22463.287109 \n",
      "Attach cost = 22393.890625 \n",
      "Deformation cost = 69.396729\n"
     ]
    },
    {
     "name": "stdout",
     "output_type": "stream",
     "text": [
      "================================================================================\n",
      "Iteration: 17 \n",
      "Total energy = 22013.830078 \n",
      "Attach cost = 21946.148438 \n",
      "Deformation cost = 67.683495\n"
     ]
    },
    {
     "name": "stdout",
     "output_type": "stream",
     "text": [
      "================================================================================\n",
      "Iteration: 18 \n",
      "Total energy = 21484.234375 \n",
      "Attach cost = 21418.546875 \n",
      "Deformation cost = 65.691101\n"
     ]
    },
    {
     "name": "stdout",
     "output_type": "stream",
     "text": [
      "================================================================================\n",
      "Iteration: 19 \n",
      "Total energy = 21284.601562 \n",
      "Attach cost = 21220.335938 \n",
      "Deformation cost = 64.265030\n"
     ]
    },
    {
     "name": "stdout",
     "output_type": "stream",
     "text": [
      "================================================================================\n",
      "Iteration: 20 \n",
      "Total energy = 20678.337891 \n",
      "Attach cost = 20613.902344 \n",
      "Deformation cost = 64.434479\n"
     ]
    },
    {
     "name": "stdout",
     "output_type": "stream",
     "text": [
      "================================================================================\n",
      "Iteration: 21 \n",
      "Total energy = 20236.890625 \n",
      "Attach cost = 20170.310547 \n",
      "Deformation cost = 66.578117\n"
     ]
    },
    {
     "name": "stdout",
     "output_type": "stream",
     "text": [
      "================================================================================\n",
      "Iteration: 22 \n",
      "Total energy = 19999.542969 \n",
      "Attach cost = 19930.755859 \n",
      "Deformation cost = 68.786339\n"
     ]
    },
    {
     "name": "stdout",
     "output_type": "stream",
     "text": [
      "================================================================================\n",
      "Iteration: 23 \n",
      "Total energy = 19224.837891 \n",
      "Attach cost = 19155.337891 \n",
      "Deformation cost = 69.498657\n"
     ]
    },
    {
     "name": "stdout",
     "output_type": "stream",
     "text": [
      "================================================================================\n",
      "Iteration: 24 \n",
      "Total energy = 19129.437500 \n",
      "Attach cost = 19059.732422 \n",
      "Deformation cost = 69.706406\n"
     ]
    },
    {
     "name": "stdout",
     "output_type": "stream",
     "text": [
      "================================================================================\n",
      "Iteration: 25 \n",
      "Total energy = 18879.251953 \n",
      "Attach cost = 18810.560547 \n",
      "Deformation cost = 68.693092\n"
     ]
    },
    {
     "name": "stdout",
     "output_type": "stream",
     "text": [
      "================================================================================\n",
      "Iteration: 26 \n",
      "Total energy = 18493.164062 \n",
      "Attach cost = 18426.496094 \n",
      "Deformation cost = 66.664406\n"
     ]
    },
    {
     "name": "stdout",
     "output_type": "stream",
     "text": [
      "================================================================================\n",
      "Iteration: 27 \n",
      "Total energy = 18268.408203 \n",
      "Attach cost = 18202.357422 \n",
      "Deformation cost = 66.048447\n"
     ]
    },
    {
     "name": "stdout",
     "output_type": "stream",
     "text": [
      "================================================================================\n",
      "Iteration: 28 \n",
      "Total energy = 18159.697266 \n",
      "Attach cost = 18093.341797 \n",
      "Deformation cost = 66.353546\n"
     ]
    },
    {
     "name": "stdout",
     "output_type": "stream",
     "text": [
      "================================================================================\n",
      "Iteration: 29 \n",
      "Total energy = 18105.716797 \n",
      "Attach cost = 18039.189453 \n",
      "Deformation cost = 66.526093\n"
     ]
    },
    {
     "name": "stdout",
     "output_type": "stream",
     "text": [
      "================================================================================\n",
      "Iteration: 30 \n",
      "Total energy = 18006.453125 \n",
      "Attach cost = 17939.732422 \n",
      "Deformation cost = 66.721184\n"
     ]
    },
    {
     "name": "stdout",
     "output_type": "stream",
     "text": [
      "================================================================================\n",
      "Iteration: 31 \n",
      "Total energy = 17825.763672 \n",
      "Attach cost = 17758.916016 \n",
      "Deformation cost = 66.845833\n"
     ]
    },
    {
     "name": "stdout",
     "output_type": "stream",
     "text": [
      "================================================================================\n",
      "Iteration: 32 \n",
      "Total energy = 17679.486328 \n",
      "Attach cost = 17613.027344 \n",
      "Deformation cost = 66.461334\n"
     ]
    },
    {
     "name": "stdout",
     "output_type": "stream",
     "text": [
      "================================================================================\n",
      "Iteration: 33 \n",
      "Total energy = 17627.947266 \n",
      "Attach cost = 17562.027344 \n",
      "Deformation cost = 65.918159\n"
     ]
    },
    {
     "name": "stdout",
     "output_type": "stream",
     "text": [
      "================================================================================\n",
      "Iteration: 34 \n",
      "Total energy = 17488.091797 \n",
      "Attach cost = 17422.267578 \n",
      "Deformation cost = 65.825241\n"
     ]
    },
    {
     "name": "stdout",
     "output_type": "stream",
     "text": [
      "================================================================================\n",
      "Iteration: 35 \n",
      "Total energy = 17420.234375 \n",
      "Attach cost = 17354.388672 \n",
      "Deformation cost = 65.842903\n"
     ]
    },
    {
     "name": "stdout",
     "output_type": "stream",
     "text": [
      "================================================================================\n",
      "Iteration: 36 \n",
      "Total energy = 17365.201172 \n",
      "Attach cost = 17299.601562 \n",
      "Deformation cost = 65.599304\n"
     ]
    },
    {
     "name": "stdout",
     "output_type": "stream",
     "text": [
      "================================================================================\n",
      "Iteration: 37 \n",
      "Total energy = 17308.105469 \n",
      "Attach cost = 17242.765625 \n",
      "Deformation cost = 65.342812\n"
     ]
    },
    {
     "name": "stdout",
     "output_type": "stream",
     "text": [
      "================================================================================\n",
      "Iteration: 38 \n",
      "Total energy = 17280.019531 \n",
      "Attach cost = 17214.761719 \n",
      "Deformation cost = 65.260155\n"
     ]
    },
    {
     "name": "stdout",
     "output_type": "stream",
     "text": [
      "================================================================================\n",
      "Iteration: 39 \n",
      "Total energy = 17267.875000 \n",
      "Attach cost = 17202.503906 \n",
      "Deformation cost = 65.373093\n"
     ]
    },
    {
     "name": "stdout",
     "output_type": "stream",
     "text": [
      "================================================================================\n",
      "Iteration: 40 \n",
      "Total energy = 17258.931641 \n",
      "Attach cost = 17193.425781 \n",
      "Deformation cost = 65.506241\n"
     ]
    },
    {
     "name": "stdout",
     "output_type": "stream",
     "text": [
      "================================================================================\n",
      "Iteration: 41 \n",
      "Total energy = 17244.810547 \n",
      "Attach cost = 17179.093750 \n",
      "Deformation cost = 65.716003\n"
     ]
    },
    {
     "name": "stdout",
     "output_type": "stream",
     "text": [
      "================================================================================\n",
      "Iteration: 42 \n",
      "Total energy = 17221.628906 \n",
      "Attach cost = 17155.501953 \n",
      "Deformation cost = 66.124916\n"
     ]
    },
    {
     "name": "stdout",
     "output_type": "stream",
     "text": [
      "================================================================================\n",
      "Iteration: 43 \n",
      "Total energy = 17197.656250 \n",
      "Attach cost = 17131.351562 \n",
      "Deformation cost = 66.305862\n"
     ]
    },
    {
     "name": "stdout",
     "output_type": "stream",
     "text": [
      "================================================================================\n",
      "Iteration: 44 \n",
      "Total energy = 17173.957031 \n",
      "Attach cost = 17107.560547 \n",
      "Deformation cost = 66.397751\n"
     ]
    },
    {
     "name": "stdout",
     "output_type": "stream",
     "text": [
      "================================================================================\n",
      "Iteration: 45 \n",
      "Total energy = 17155.527344 \n",
      "Attach cost = 17089.117188 \n",
      "Deformation cost = 66.412041\n"
     ]
    },
    {
     "name": "stdout",
     "output_type": "stream",
     "text": [
      "================================================================================\n",
      "Iteration: 46 \n",
      "Total energy = 17123.896484 \n",
      "Attach cost = 17057.373047 \n",
      "Deformation cost = 66.524765\n"
     ]
    },
    {
     "name": "stdout",
     "output_type": "stream",
     "text": [
      "================================================================================\n",
      "Iteration: 47 \n",
      "Total energy = 17054.001953 \n",
      "Attach cost = 16987.207031 \n",
      "Deformation cost = 66.795891\n"
     ]
    },
    {
     "name": "stdout",
     "output_type": "stream",
     "text": [
      "================================================================================\n",
      "Iteration: 48 \n",
      "Total energy = 17020.953125 \n",
      "Attach cost = 16953.458984 \n",
      "Deformation cost = 67.495155\n"
     ]
    },
    {
     "name": "stdout",
     "output_type": "stream",
     "text": [
      "================================================================================\n",
      "Iteration: 49 \n",
      "Total energy = 16906.773438 \n",
      "Attach cost = 16839.404297 \n",
      "Deformation cost = 67.370148\n"
     ]
    },
    {
     "name": "stdout",
     "output_type": "stream",
     "text": [
      "================================================================================\n",
      "Iteration: 50 \n",
      "Total energy = 16867.595703 \n",
      "Attach cost = 16800.312500 \n",
      "Deformation cost = 67.281075\n"
     ]
    },
    {
     "name": "stdout",
     "output_type": "stream",
     "text": [
      "================================================================================\n",
      "Iteration: 51 \n",
      "Total energy = 16821.869141 \n",
      "Attach cost = 16754.609375 \n",
      "Deformation cost = 67.261612\n"
     ]
    },
    {
     "name": "stdout",
     "output_type": "stream",
     "text": [
      "================================================================================\n",
      "Iteration: 52 \n",
      "Total energy = 16755.191406 \n",
      "Attach cost = 16688.093750 \n",
      "Deformation cost = 67.095894\n"
     ]
    },
    {
     "name": "stdout",
     "output_type": "stream",
     "text": [
      "================================================================================\n",
      "Iteration: 53 \n",
      "Total energy = 16650.412109 \n",
      "Attach cost = 16583.500000 \n",
      "Deformation cost = 66.914948\n"
     ]
    },
    {
     "name": "stdout",
     "output_type": "stream",
     "text": [
      "================================================================================\n",
      "Iteration: 54 \n",
      "Total energy = 16443.535156 \n",
      "Attach cost = 16377.061523 \n",
      "Deformation cost = 66.472977\n"
     ]
    },
    {
     "name": "stdout",
     "output_type": "stream",
     "text": [
      "================================================================================\n",
      "Iteration: 55 \n",
      "Total energy = 16261.002930 \n",
      "Attach cost = 16195.007812 \n",
      "Deformation cost = 65.993584\n"
     ]
    },
    {
     "name": "stdout",
     "output_type": "stream",
     "text": [
      "================================================================================\n",
      "Iteration: 56 \n",
      "Total energy = 16186.048828 \n",
      "Attach cost = 16120.139648 \n",
      "Deformation cost = 65.908424\n"
     ]
    },
    {
     "name": "stdout",
     "output_type": "stream",
     "text": [
      "================================================================================\n",
      "Iteration: 57 \n",
      "Total energy = 16103.151367 \n",
      "Attach cost = 16037.030273 \n",
      "Deformation cost = 66.121941\n"
     ]
    },
    {
     "name": "stdout",
     "output_type": "stream",
     "text": [
      "================================================================================\n",
      "Iteration: 58 \n",
      "Total energy = 15950.559570 \n",
      "Attach cost = 15883.721680 \n",
      "Deformation cost = 66.838921\n"
     ]
    },
    {
     "name": "stdout",
     "output_type": "stream",
     "text": [
      "================================================================================\n",
      "Iteration: 59 \n",
      "Total energy = 15774.423828 \n",
      "Attach cost = 15706.600586 \n",
      "Deformation cost = 67.823662\n"
     ]
    },
    {
     "name": "stdout",
     "output_type": "stream",
     "text": [
      "================================================================================\n",
      "Iteration: 60 \n",
      "Total energy = 15682.550781 \n",
      "Attach cost = 15613.572266 \n",
      "Deformation cost = 68.979820\n"
     ]
    },
    {
     "name": "stdout",
     "output_type": "stream",
     "text": [
      "================================================================================\n",
      "Iteration: 61 \n",
      "Total energy = 15397.876953 \n",
      "Attach cost = 15328.787109 \n",
      "Deformation cost = 69.090355\n"
     ]
    },
    {
     "name": "stdout",
     "output_type": "stream",
     "text": [
      "================================================================================\n",
      "Iteration: 62 \n",
      "Total energy = 15282.351562 \n",
      "Attach cost = 15213.462891 \n",
      "Deformation cost = 68.888214\n"
     ]
    },
    {
     "name": "stdout",
     "output_type": "stream",
     "text": [
      "================================================================================\n",
      "Iteration: 63 \n",
      "Total energy = 15164.083984 \n",
      "Attach cost = 15095.384766 \n",
      "Deformation cost = 68.699066\n"
     ]
    },
    {
     "name": "stdout",
     "output_type": "stream",
     "text": [
      "================================================================================\n",
      "Iteration: 64 \n",
      "Total energy = 15069.473633 \n",
      "Attach cost = 15001.156250 \n",
      "Deformation cost = 68.319008\n"
     ]
    },
    {
     "name": "stdout",
     "output_type": "stream",
     "text": [
      "================================================================================\n",
      "Iteration: 65 \n",
      "Total energy = 14924.296875 \n",
      "Attach cost = 14856.059570 \n",
      "Deformation cost = 68.235779\n"
     ]
    },
    {
     "name": "stdout",
     "output_type": "stream",
     "text": [
      "================================================================================\n",
      "Iteration: 66 \n",
      "Total energy = 14903.137695 \n",
      "Attach cost = 14835.073242 \n",
      "Deformation cost = 68.065353\n"
     ]
    },
    {
     "name": "stdout",
     "output_type": "stream",
     "text": [
      "================================================================================\n",
      "Iteration: 67 \n",
      "Total energy = 14890.862305 \n",
      "Attach cost = 14822.754883 \n",
      "Deformation cost = 68.107315\n"
     ]
    },
    {
     "name": "stdout",
     "output_type": "stream",
     "text": [
      "================================================================================\n",
      "Iteration: 68 \n",
      "Total energy = 14856.748047 \n",
      "Attach cost = 14788.538086 \n",
      "Deformation cost = 68.208260\n"
     ]
    },
    {
     "name": "stdout",
     "output_type": "stream",
     "text": [
      "================================================================================\n",
      "Iteration: 69 \n",
      "Total energy = 14847.258789 \n",
      "Attach cost = 14778.788086 \n",
      "Deformation cost = 68.468880\n"
     ]
    },
    {
     "name": "stdout",
     "output_type": "stream",
     "text": [
      "================================================================================\n",
      "Iteration: 70 \n",
      "Total energy = 14792.757812 \n",
      "Attach cost = 14724.364258 \n",
      "Deformation cost = 68.392891\n"
     ]
    },
    {
     "name": "stdout",
     "output_type": "stream",
     "text": [
      "================================================================================\n",
      "Iteration: 71 \n",
      "Total energy = 14770.755859 \n",
      "Attach cost = 14702.364258 \n",
      "Deformation cost = 68.392448\n"
     ]
    },
    {
     "name": "stdout",
     "output_type": "stream",
     "text": [
      "================================================================================\n",
      "Iteration: 72 \n",
      "Total energy = 14756.560547 \n",
      "Attach cost = 14688.138672 \n",
      "Deformation cost = 68.423698\n"
     ]
    },
    {
     "name": "stdout",
     "output_type": "stream",
     "text": [
      "================================================================================\n",
      "Iteration: 73 \n",
      "Total energy = 14751.200195 \n",
      "Attach cost = 14682.782227 \n",
      "Deformation cost = 68.415970\n"
     ]
    },
    {
     "name": "stdout",
     "output_type": "stream",
     "text": [
      "================================================================================\n",
      "Iteration: 74 \n",
      "Total energy = 14730.845703 \n",
      "Attach cost = 14662.401367 \n",
      "Deformation cost = 68.443497\n"
     ]
    },
    {
     "name": "stdout",
     "output_type": "stream",
     "text": [
      "================================================================================\n",
      "Iteration: 75 \n",
      "Total energy = 14715.432617 \n",
      "Attach cost = 14646.972656 \n",
      "Deformation cost = 68.459694\n"
     ]
    },
    {
     "name": "stdout",
     "output_type": "stream",
     "text": [
      "================================================================================\n",
      "Iteration: 76 \n",
      "Total energy = 14702.715820 \n",
      "Attach cost = 14634.257812 \n",
      "Deformation cost = 68.458061\n"
     ]
    },
    {
     "name": "stdout",
     "output_type": "stream",
     "text": [
      "================================================================================\n",
      "Iteration: 77 \n",
      "Total energy = 14690.564453 \n",
      "Attach cost = 14622.044922 \n",
      "Deformation cost = 68.518883\n"
     ]
    },
    {
     "name": "stdout",
     "output_type": "stream",
     "text": [
      "================================================================================\n",
      "Iteration: 78 \n",
      "Total energy = 14683.736328 \n",
      "Attach cost = 14614.955078 \n",
      "Deformation cost = 68.782585\n"
     ]
    },
    {
     "name": "stdout",
     "output_type": "stream",
     "text": [
      "================================================================================\n",
      "Iteration: 79 \n",
      "Total energy = 14664.783203 \n",
      "Attach cost = 14595.949219 \n",
      "Deformation cost = 68.832779\n"
     ]
    },
    {
     "name": "stdout",
     "output_type": "stream",
     "text": [
      "================================================================================\n",
      "Iteration: 80 \n",
      "Total energy = 14655.756836 \n",
      "Attach cost = 14586.815430 \n",
      "Deformation cost = 68.941673\n"
     ]
    },
    {
     "name": "stdout",
     "output_type": "stream",
     "text": [
      "================================================================================\n",
      "Iteration: 81 \n",
      "Total energy = 14647.948242 \n",
      "Attach cost = 14578.800781 \n",
      "Deformation cost = 69.147614\n"
     ]
    },
    {
     "name": "stdout",
     "output_type": "stream",
     "text": [
      "================================================================================\n",
      "Iteration: 82 \n",
      "Total energy = 14646.145508 \n",
      "Attach cost = 14576.879883 \n",
      "Deformation cost = 69.265152\n"
     ]
    },
    {
     "name": "stdout",
     "output_type": "stream",
     "text": [
      "================================================================================\n",
      "Iteration: 83 \n",
      "Total energy = 14641.561523 \n",
      "Attach cost = 14572.270508 \n",
      "Deformation cost = 69.291977\n"
     ]
    },
    {
     "name": "stdout",
     "output_type": "stream",
     "text": [
      "================================================================================\n",
      "Iteration: 84 \n",
      "Total energy = 14636.924805 \n",
      "Attach cost = 14567.600586 \n",
      "Deformation cost = 69.322037\n"
     ]
    },
    {
     "name": "stdout",
     "output_type": "stream",
     "text": [
      "================================================================================\n",
      "Iteration: 85 \n",
      "Total energy = 14631.115234 \n",
      "Attach cost = 14561.749023 \n",
      "Deformation cost = 69.365799\n"
     ]
    },
    {
     "name": "stdout",
     "output_type": "stream",
     "text": [
      "================================================================================\n",
      "Iteration: 86 \n",
      "Total energy = 14626.787109 \n",
      "Attach cost = 14557.385742 \n",
      "Deformation cost = 69.402206\n"
     ]
    },
    {
     "name": "stdout",
     "output_type": "stream",
     "text": [
      "================================================================================\n",
      "Iteration: 87 \n",
      "Total energy = 14624.843750 \n",
      "Attach cost = 14555.388672 \n",
      "Deformation cost = 69.454796\n"
     ]
    },
    {
     "name": "stdout",
     "output_type": "stream",
     "text": [
      "================================================================================\n",
      "Iteration: 88 \n",
      "Total energy = 14622.618164 \n",
      "Attach cost = 14553.179688 \n",
      "Deformation cost = 69.440834\n"
     ]
    },
    {
     "name": "stdout",
     "output_type": "stream",
     "text": [
      "================================================================================\n",
      "Iteration: 89 \n",
      "Total energy = 14620.661133 \n",
      "Attach cost = 14551.209961 \n",
      "Deformation cost = 69.451355\n"
     ]
    },
    {
     "name": "stdout",
     "output_type": "stream",
     "text": [
      "================================================================================\n",
      "Iteration: 90 \n",
      "Total energy = 14617.141602 \n",
      "Attach cost = 14547.634766 \n",
      "Deformation cost = 69.506691\n"
     ]
    },
    {
     "name": "stdout",
     "output_type": "stream",
     "text": [
      "================================================================================\n",
      "Iteration: 91 \n",
      "Total energy = 14612.687500 \n",
      "Attach cost = 14543.080078 \n",
      "Deformation cost = 69.608406\n"
     ]
    },
    {
     "name": "stdout",
     "output_type": "stream",
     "text": [
      "================================================================================\n",
      "Iteration: 92 \n",
      "Total energy = 14610.863281 \n",
      "Attach cost = 14541.187500 \n",
      "Deformation cost = 69.676292\n"
     ]
    },
    {
     "name": "stdout",
     "output_type": "stream",
     "text": [
      "================================================================================\n",
      "Iteration: 93 \n",
      "Total energy = 14608.001953 \n",
      "Attach cost = 14538.261719 \n",
      "Deformation cost = 69.740868\n"
     ]
    },
    {
     "name": "stdout",
     "output_type": "stream",
     "text": [
      "================================================================================\n",
      "Iteration: 94 \n",
      "Total energy = 14605.837891 \n",
      "Attach cost = 14536.076172 \n",
      "Deformation cost = 69.763222\n"
     ]
    },
    {
     "name": "stdout",
     "output_type": "stream",
     "text": [
      "================================================================================\n",
      "Iteration: 95 \n",
      "Total energy = 14603.335938 \n",
      "Attach cost = 14533.573242 \n",
      "Deformation cost = 69.762962\n"
     ]
    },
    {
     "name": "stdout",
     "output_type": "stream",
     "text": [
      "================================================================================\n",
      "Iteration: 96 \n",
      "Total energy = 14599.779297 \n",
      "Attach cost = 14530.041016 \n",
      "Deformation cost = 69.738220\n"
     ]
    },
    {
     "name": "stdout",
     "output_type": "stream",
     "text": [
      "================================================================================\n",
      "Iteration: 97 \n",
      "Total energy = 14596.850586 \n",
      "Attach cost = 14527.155273 \n",
      "Deformation cost = 69.695549\n"
     ]
    },
    {
     "name": "stdout",
     "output_type": "stream",
     "text": [
      "================================================================================\n",
      "Iteration: 98 \n",
      "Total energy = 14592.525391 \n",
      "Attach cost = 14522.851562 \n",
      "Deformation cost = 69.674477\n"
     ]
    },
    {
     "name": "stdout",
     "output_type": "stream",
     "text": [
      "================================================================================\n",
      "Iteration: 99 \n",
      "Total energy = 14589.110352 \n",
      "Attach cost = 14519.448242 \n",
      "Deformation cost = 69.662445\n"
     ]
    },
    {
     "name": "stdout",
     "output_type": "stream",
     "text": [
      "================================================================================\n",
      "Iteration: 100 \n",
      "Total energy = 14586.444336 \n",
      "Attach cost = 14516.789062 \n",
      "Deformation cost = 69.653732\n"
     ]
    },
    {
     "name": "stdout",
     "output_type": "stream",
     "text": [
      "================================================================================\n",
      "Iteration: 101 \n",
      "Total energy = 14583.408203 \n",
      "Attach cost = 14513.655273 \n",
      "Deformation cost = 69.753326\n"
     ]
    },
    {
     "name": "stdout",
     "output_type": "stream",
     "text": [
      "================================================================================\n",
      "Iteration: 102 \n",
      "Total energy = 14578.318359 \n",
      "Attach cost = 14508.562500 \n",
      "Deformation cost = 69.756363\n"
     ]
    },
    {
     "name": "stdout",
     "output_type": "stream",
     "text": [
      "================================================================================\n",
      "Iteration: 103 \n",
      "Total energy = 14574.629883 \n",
      "Attach cost = 14504.851562 \n",
      "Deformation cost = 69.778908\n"
     ]
    },
    {
     "name": "stdout",
     "output_type": "stream",
     "text": [
      "================================================================================\n",
      "Iteration: 104 \n",
      "Total energy = 14570.835938 \n",
      "Attach cost = 14501.005859 \n",
      "Deformation cost = 69.829536\n"
     ]
    },
    {
     "name": "stdout",
     "output_type": "stream",
     "text": [
      "================================================================================\n",
      "Iteration: 105 \n",
      "Total energy = 14566.898438 \n",
      "Attach cost = 14497.028320 \n",
      "Deformation cost = 69.869278\n"
     ]
    },
    {
     "name": "stdout",
     "output_type": "stream",
     "text": [
      "================================================================================\n",
      "Iteration: 106 \n",
      "Total energy = 14564.134766 \n",
      "Attach cost = 14494.264648 \n",
      "Deformation cost = 69.870071\n"
     ]
    },
    {
     "name": "stdout",
     "output_type": "stream",
     "text": [
      "================================================================================\n",
      "Iteration: 107 \n",
      "Total energy = 14561.775391 \n",
      "Attach cost = 14491.922852 \n",
      "Deformation cost = 69.852180\n"
     ]
    },
    {
     "name": "stdout",
     "output_type": "stream",
     "text": [
      "================================================================================\n",
      "Iteration: 108 \n",
      "Total energy = 14558.885742 \n",
      "Attach cost = 14489.088867 \n",
      "Deformation cost = 69.796974\n"
     ]
    },
    {
     "name": "stdout",
     "output_type": "stream",
     "text": [
      "================================================================================\n",
      "Iteration: 109 \n",
      "Total energy = 14555.447266 \n",
      "Attach cost = 14485.704102 \n",
      "Deformation cost = 69.741692\n"
     ]
    },
    {
     "name": "stdout",
     "output_type": "stream",
     "text": [
      "================================================================================\n",
      "Iteration: 110 \n",
      "Total energy = 14549.757812 \n",
      "Attach cost = 14480.087891 \n",
      "Deformation cost = 69.671188\n"
     ]
    },
    {
     "name": "stdout",
     "output_type": "stream",
     "text": [
      "================================================================================\n",
      "Iteration: 111 \n",
      "Total energy = 14546.734375 \n",
      "Attach cost = 14477.089844 \n",
      "Deformation cost = 69.644623\n"
     ]
    },
    {
     "name": "stdout",
     "output_type": "stream",
     "text": [
      "================================================================================\n",
      "Iteration: 112 \n",
      "Total energy = 14536.691406 \n",
      "Attach cost = 14467.019531 \n",
      "Deformation cost = 69.671524\n"
     ]
    },
    {
     "name": "stdout",
     "output_type": "stream",
     "text": [
      "================================================================================\n",
      "Iteration: 113 \n",
      "Total energy = 14529.475586 \n",
      "Attach cost = 14459.742188 \n",
      "Deformation cost = 69.734566\n"
     ]
    },
    {
     "name": "stdout",
     "output_type": "stream",
     "text": [
      "================================================================================\n",
      "Iteration: 114 \n",
      "Total energy = 14521.028320 \n",
      "Attach cost = 14451.199219 \n",
      "Deformation cost = 69.827774\n"
     ]
    },
    {
     "name": "stdout",
     "output_type": "stream",
     "text": [
      "================================================================================\n",
      "Iteration: 115 \n",
      "Total energy = 14508.570312 \n",
      "Attach cost = 14438.695312 \n",
      "Deformation cost = 69.874268\n"
     ]
    },
    {
     "name": "stdout",
     "output_type": "stream",
     "text": [
      "================================================================================\n",
      "Iteration: 116 \n",
      "Total energy = 14505.952148 \n",
      "Attach cost = 14436.105469 \n",
      "Deformation cost = 69.846451\n"
     ]
    },
    {
     "name": "stdout",
     "output_type": "stream",
     "text": [
      "================================================================================\n",
      "Iteration: 117 \n",
      "Total energy = 14485.513672 \n",
      "Attach cost = 14415.757812 \n",
      "Deformation cost = 69.756432\n"
     ]
    },
    {
     "name": "stdout",
     "output_type": "stream",
     "text": [
      "================================================================================\n",
      "Iteration: 118 \n",
      "Total energy = 14476.855469 \n",
      "Attach cost = 14407.217773 \n",
      "Deformation cost = 69.635498\n"
     ]
    },
    {
     "name": "stdout",
     "output_type": "stream",
     "text": [
      "================================================================================\n",
      "Iteration: 119 \n",
      "Total energy = 14460.549805 \n",
      "Attach cost = 14391.198242 \n",
      "Deformation cost = 69.351768\n"
     ]
    },
    {
     "name": "stdout",
     "output_type": "stream",
     "text": [
      "================================================================================\n",
      "Iteration: 120 \n",
      "Total energy = 14449.308594 \n",
      "Attach cost = 14380.201172 \n",
      "Deformation cost = 69.106148\n"
     ]
    },
    {
     "name": "stdout",
     "output_type": "stream",
     "text": [
      "================================================================================\n",
      "Iteration: 121 \n",
      "Total energy = 14438.102539 \n",
      "Attach cost = 14369.035156 \n",
      "Deformation cost = 69.066971\n"
     ]
    },
    {
     "name": "stdout",
     "output_type": "stream",
     "text": [
      "================================================================================\n",
      "Iteration: 122 \n",
      "Total energy = 14428.428711 \n",
      "Attach cost = 14359.313477 \n",
      "Deformation cost = 69.115051\n"
     ]
    },
    {
     "name": "stdout",
     "output_type": "stream",
     "text": [
      "================================================================================\n",
      "Iteration: 123 \n",
      "Total energy = 14420.166016 \n",
      "Attach cost = 14350.943359 \n",
      "Deformation cost = 69.220276\n"
     ]
    },
    {
     "name": "stdout",
     "output_type": "stream",
     "text": [
      "================================================================================\n",
      "Iteration: 124 \n",
      "Total energy = 14407.360352 \n",
      "Attach cost = 14337.874023 \n",
      "Deformation cost = 69.485672\n"
     ]
    },
    {
     "name": "stdout",
     "output_type": "stream",
     "text": [
      "================================================================================\n",
      "Iteration: 125 \n",
      "Total energy = 14399.288086 \n",
      "Attach cost = 14329.647461 \n",
      "Deformation cost = 69.639091\n"
     ]
    },
    {
     "name": "stdout",
     "output_type": "stream",
     "text": [
      "================================================================================\n",
      "Iteration: 126 \n",
      "Total energy = 14390.276367 \n",
      "Attach cost = 14320.528320 \n",
      "Deformation cost = 69.748108\n"
     ]
    },
    {
     "name": "stdout",
     "output_type": "stream",
     "text": [
      "================================================================================\n",
      "Iteration: 127 \n",
      "Total energy = 14382.691406 \n",
      "Attach cost = 14312.893555 \n",
      "Deformation cost = 69.799522\n"
     ]
    },
    {
     "name": "stdout",
     "output_type": "stream",
     "text": [
      "================================================================================\n",
      "Iteration: 128 \n",
      "Total energy = 14379.286133 \n",
      "Attach cost = 14309.500977 \n",
      "Deformation cost = 69.784454\n"
     ]
    },
    {
     "name": "stdout",
     "output_type": "stream",
     "text": [
      "================================================================================\n",
      "Iteration: 129 \n",
      "Total energy = 14373.870117 \n",
      "Attach cost = 14304.148438 \n",
      "Deformation cost = 69.720100\n"
     ]
    },
    {
     "name": "stdout",
     "output_type": "stream",
     "text": [
      "================================================================================\n",
      "Iteration: 130 \n",
      "Total energy = 14368.720703 \n",
      "Attach cost = 14299.061523 \n",
      "Deformation cost = 69.658363\n"
     ]
    },
    {
     "name": "stdout",
     "output_type": "stream",
     "text": [
      "================================================================================\n",
      "Iteration: 131 \n",
      "Total energy = 14363.409180 \n",
      "Attach cost = 14293.761719 \n",
      "Deformation cost = 69.647423\n"
     ]
    },
    {
     "name": "stdout",
     "output_type": "stream",
     "text": [
      "================================================================================\n",
      "Iteration: 132 \n",
      "Total energy = 14351.891602 \n",
      "Attach cost = 14282.303711 \n",
      "Deformation cost = 69.588715\n"
     ]
    },
    {
     "name": "stdout",
     "output_type": "stream",
     "text": [
      "================================================================================\n",
      "Iteration: 133 \n",
      "Total energy = 14350.238281 \n",
      "Attach cost = 14280.661133 \n",
      "Deformation cost = 69.576553\n"
     ]
    },
    {
     "name": "stdout",
     "output_type": "stream",
     "text": [
      "================================================================================\n",
      "Iteration: 134 \n",
      "Total energy = 14349.170898 \n",
      "Attach cost = 14279.582031 \n",
      "Deformation cost = 69.590820\n"
     ]
    },
    {
     "name": "stdout",
     "output_type": "stream",
     "text": [
      "================================================================================\n",
      "Iteration: 135 \n",
      "Total energy = 14348.737305 \n",
      "Attach cost = 14279.137695 \n",
      "Deformation cost = 69.599510\n"
     ]
    },
    {
     "name": "stdout",
     "output_type": "stream",
     "text": [
      "================================================================================\n",
      "Iteration: 136 \n",
      "Total energy = 14348.465820 \n",
      "Attach cost = 14278.862305 \n",
      "Deformation cost = 69.604675\n"
     ]
    },
    {
     "name": "stdout",
     "output_type": "stream",
     "text": [
      "================================================================================\n",
      "Iteration: 137 \n",
      "Total energy = 14347.588867 \n",
      "Attach cost = 14277.970703 \n",
      "Deformation cost = 69.617416\n"
     ]
    },
    {
     "name": "stdout",
     "output_type": "stream",
     "text": [
      "================================================================================\n",
      "Iteration: 138 \n",
      "Total energy = 14346.318359 \n",
      "Attach cost = 14276.686523 \n",
      "Deformation cost = 69.630234\n"
     ]
    },
    {
     "name": "stdout",
     "output_type": "stream",
     "text": [
      "================================================================================\n",
      "Iteration: 139 \n",
      "Total energy = 14345.732422 \n",
      "Attach cost = 14276.113281 \n",
      "Deformation cost = 69.618500\n"
     ]
    },
    {
     "name": "stdout",
     "output_type": "stream",
     "text": [
      "================================================================================\n",
      "Iteration: 140 \n",
      "Total energy = 14344.351562 \n",
      "Attach cost = 14274.732422 \n",
      "Deformation cost = 69.618584\n"
     ]
    },
    {
     "name": "stdout",
     "output_type": "stream",
     "text": [
      "================================================================================\n",
      "Iteration: 141 \n",
      "Total energy = 14343.429688 \n",
      "Attach cost = 14273.826172 \n",
      "Deformation cost = 69.602692\n"
     ]
    },
    {
     "name": "stdout",
     "output_type": "stream",
     "text": [
      "================================================================================\n",
      "Iteration: 142 \n",
      "Total energy = 14342.563477 \n",
      "Attach cost = 14272.988281 \n",
      "Deformation cost = 69.575607\n"
     ]
    },
    {
     "name": "stdout",
     "output_type": "stream",
     "text": [
      "================================================================================\n",
      "Iteration: 143 \n",
      "Total energy = 14341.629883 \n",
      "Attach cost = 14272.083008 \n",
      "Deformation cost = 69.545609\n"
     ]
    },
    {
     "name": "stdout",
     "output_type": "stream",
     "text": [
      "================================================================================\n",
      "Iteration: 144 \n",
      "Total energy = 14341.415039 \n",
      "Attach cost = 14271.915039 \n",
      "Deformation cost = 69.499153\n"
     ]
    },
    {
     "name": "stdout",
     "output_type": "stream",
     "text": [
      "================================================================================\n",
      "Iteration: 145 \n",
      "Total energy = 14340.087891 \n",
      "Attach cost = 14270.580078 \n",
      "Deformation cost = 69.507637\n"
     ]
    },
    {
     "name": "stdout",
     "output_type": "stream",
     "text": [
      "================================================================================\n",
      "Iteration: 146 \n",
      "Total energy = 14339.806641 \n",
      "Attach cost = 14270.287109 \n",
      "Deformation cost = 69.518478\n"
     ]
    },
    {
     "name": "stdout",
     "output_type": "stream",
     "text": [
      "================================================================================\n",
      "Iteration: 147 \n",
      "Total energy = 14339.519531 \n",
      "Attach cost = 14269.986328 \n",
      "Deformation cost = 69.532501\n"
     ]
    },
    {
     "name": "stdout",
     "output_type": "stream",
     "text": [
      "================================================================================\n",
      "Iteration: 148 \n",
      "Total energy = 14339.061523 \n",
      "Attach cost = 14269.505859 \n",
      "Deformation cost = 69.556122\n"
     ]
    },
    {
     "name": "stdout",
     "output_type": "stream",
     "text": [
      "================================================================================\n",
      "Iteration: 149 \n",
      "Total energy = 14338.016602 \n",
      "Attach cost = 14268.406250 \n",
      "Deformation cost = 69.611900\n"
     ]
    },
    {
     "name": "stdout",
     "output_type": "stream",
     "text": [
      "================================================================================\n",
      "Iteration: 150 \n",
      "Total energy = 14337.250977 \n",
      "Attach cost = 14267.570312 \n",
      "Deformation cost = 69.681267\n"
     ]
    },
    {
     "name": "stdout",
     "output_type": "stream",
     "text": [
      "================================================================================\n",
      "Iteration: 151 \n",
      "Total energy = 14336.104492 \n",
      "Attach cost = 14266.389648 \n",
      "Deformation cost = 69.714645\n"
     ]
    },
    {
     "name": "stdout",
     "output_type": "stream",
     "text": [
      "================================================================================\n",
      "Iteration: 152 \n",
      "Total energy = 14335.568359 \n",
      "Attach cost = 14265.867188 \n",
      "Deformation cost = 69.702972\n"
     ]
    },
    {
     "name": "stdout",
     "output_type": "stream",
     "text": [
      "================================================================================\n",
      "Iteration: 153 \n",
      "Total energy = 14335.046875 \n",
      "Attach cost = 14265.359375 \n",
      "Deformation cost = 69.686859\n"
     ]
    },
    {
     "name": "stdout",
     "output_type": "stream",
     "text": [
      "================================================================================\n",
      "Iteration: 154 \n",
      "Total energy = 14334.275391 \n",
      "Attach cost = 14264.613281 \n",
      "Deformation cost = 69.663040\n"
     ]
    },
    {
     "name": "stdout",
     "output_type": "stream",
     "text": [
      "================================================================================\n",
      "Iteration: 155 \n",
      "Total energy = 14332.458008 \n",
      "Attach cost = 14262.847656 \n",
      "Deformation cost = 69.609924\n"
     ]
    },
    {
     "name": "stdout",
     "output_type": "stream",
     "text": [
      "================================================================================\n",
      "Iteration: 156 \n",
      "Total energy = 14330.032227 \n",
      "Attach cost = 14260.505859 \n",
      "Deformation cost = 69.526794\n"
     ]
    },
    {
     "name": "stdout",
     "output_type": "stream",
     "text": [
      "================================================================================\n",
      "Iteration: 157 \n",
      "Total energy = 14327.570312 \n",
      "Attach cost = 14258.095703 \n",
      "Deformation cost = 69.475349\n"
     ]
    },
    {
     "name": "stdout",
     "output_type": "stream",
     "text": [
      "================================================================================\n",
      "Iteration: 158 \n",
      "Total energy = 14326.172852 \n",
      "Attach cost = 14256.713867 \n",
      "Deformation cost = 69.456772\n"
     ]
    },
    {
     "name": "stdout",
     "output_type": "stream",
     "text": [
      "================================================================================\n",
      "Iteration: 159 \n",
      "Total energy = 14325.229492 \n",
      "Attach cost = 14255.750977 \n",
      "Deformation cost = 69.478500\n"
     ]
    },
    {
     "name": "stdout",
     "output_type": "stream",
     "text": [
      "================================================================================\n",
      "Iteration: 160 \n",
      "Total energy = 14324.463867 \n",
      "Attach cost = 14254.960938 \n",
      "Deformation cost = 69.502495\n"
     ]
    },
    {
     "name": "stdout",
     "output_type": "stream",
     "text": [
      "================================================================================\n",
      "Iteration: 161 \n",
      "Total energy = 14322.106445 \n",
      "Attach cost = 14252.551758 \n",
      "Deformation cost = 69.556007\n"
     ]
    },
    {
     "name": "stdout",
     "output_type": "stream",
     "text": [
      "================================================================================\n",
      "Iteration: 162 \n",
      "Total energy = 14317.858398 \n",
      "Attach cost = 14248.233398 \n",
      "Deformation cost = 69.625130\n"
     ]
    },
    {
     "name": "stdout",
     "output_type": "stream",
     "text": [
      "================================================================================\n",
      "Iteration: 163 \n",
      "Total energy = 14313.871094 \n",
      "Attach cost = 14244.203125 \n",
      "Deformation cost = 69.668808\n"
     ]
    },
    {
     "name": "stdout",
     "output_type": "stream",
     "text": [
      "================================================================================\n",
      "Iteration: 164 \n",
      "Total energy = 14308.650391 \n",
      "Attach cost = 14238.964844 \n",
      "Deformation cost = 69.685898\n"
     ]
    },
    {
     "name": "stdout",
     "output_type": "stream",
     "text": [
      "================================================================================\n",
      "Iteration: 165 \n",
      "Total energy = 14305.768555 \n",
      "Attach cost = 14236.131836 \n",
      "Deformation cost = 69.636475\n"
     ]
    },
    {
     "name": "stdout",
     "output_type": "stream",
     "text": [
      "================================================================================\n",
      "Iteration: 166 \n",
      "Total energy = 14303.223633 \n",
      "Attach cost = 14233.647461 \n",
      "Deformation cost = 69.575737\n"
     ]
    },
    {
     "name": "stdout",
     "output_type": "stream",
     "text": [
      "================================================================================\n",
      "Iteration: 167 \n",
      "Total energy = 14300.251953 \n",
      "Attach cost = 14230.717773 \n",
      "Deformation cost = 69.534805\n"
     ]
    },
    {
     "name": "stdout",
     "output_type": "stream",
     "text": [
      "================================================================================\n",
      "Iteration: 168 \n",
      "Total energy = 14292.288086 \n",
      "Attach cost = 14222.816406 \n",
      "Deformation cost = 69.473251\n"
     ]
    },
    {
     "name": "stdout",
     "output_type": "stream",
     "text": [
      "================================================================================\n",
      "Iteration: 169 \n",
      "Total energy = 14288.308594 \n",
      "Attach cost = 14218.836914 \n",
      "Deformation cost = 69.468933\n"
     ]
    },
    {
     "name": "stdout",
     "output_type": "stream",
     "text": [
      "================================================================================\n",
      "Iteration: 170 \n",
      "Total energy = 14280.667969 \n",
      "Attach cost = 14211.170898 \n",
      "Deformation cost = 69.497383\n"
     ]
    },
    {
     "name": "stdout",
     "output_type": "stream",
     "text": [
      "================================================================================\n",
      "Iteration: 171 \n",
      "Total energy = 14277.637695 \n",
      "Attach cost = 14208.045898 \n",
      "Deformation cost = 69.593040\n"
     ]
    },
    {
     "name": "stdout",
     "output_type": "stream",
     "text": [
      "================================================================================\n",
      "Iteration: 172 \n",
      "Total energy = 14276.463867 \n",
      "Attach cost = 14206.800781 \n",
      "Deformation cost = 69.663162\n"
     ]
    },
    {
     "name": "stdout",
     "output_type": "stream",
     "text": [
      "================================================================================\n",
      "Iteration: 173 \n",
      "Total energy = 14275.605469 \n",
      "Attach cost = 14205.886719 \n",
      "Deformation cost = 69.716431\n"
     ]
    },
    {
     "name": "stdout",
     "output_type": "stream",
     "text": [
      "================================================================================\n",
      "Iteration: 174 \n",
      "Total energy = 14272.956055 \n",
      "Attach cost = 14203.090820 \n",
      "Deformation cost = 69.866173\n"
     ]
    },
    {
     "name": "stdout",
     "output_type": "stream",
     "text": [
      "================================================================================\n",
      "Iteration: 175 \n",
      "Total energy = 14271.627930 \n",
      "Attach cost = 14201.658203 \n",
      "Deformation cost = 69.969139\n"
     ]
    },
    {
     "name": "stdout",
     "output_type": "stream",
     "text": [
      "================================================================================\n",
      "Iteration: 176 \n",
      "Total energy = 14269.715820 \n",
      "Attach cost = 14199.665039 \n",
      "Deformation cost = 70.050079\n"
     ]
    },
    {
     "name": "stdout",
     "output_type": "stream",
     "text": [
      "================================================================================\n",
      "Iteration: 177 \n",
      "Total energy = 14268.657227 \n",
      "Attach cost = 14198.601562 \n",
      "Deformation cost = 70.055412\n"
     ]
    },
    {
     "name": "stdout",
     "output_type": "stream",
     "text": [
      "================================================================================\n",
      "Iteration: 178 \n",
      "Total energy = 14268.137695 \n",
      "Attach cost = 14198.101562 \n",
      "Deformation cost = 70.035080\n"
     ]
    },
    {
     "name": "stdout",
     "output_type": "stream",
     "text": [
      "================================================================================\n",
      "Iteration: 179 \n",
      "Total energy = 14267.388672 \n",
      "Attach cost = 14197.366211 \n",
      "Deformation cost = 70.021767\n"
     ]
    },
    {
     "name": "stdout",
     "output_type": "stream",
     "text": [
      "================================================================================\n",
      "Iteration: 180 \n",
      "Total energy = 14266.771484 \n",
      "Attach cost = 14196.762695 \n",
      "Deformation cost = 70.008354\n"
     ]
    },
    {
     "name": "stdout",
     "output_type": "stream",
     "text": [
      "================================================================================\n",
      "Iteration: 181 \n",
      "Total energy = 14266.171875 \n",
      "Attach cost = 14196.168945 \n",
      "Deformation cost = 70.001289\n"
     ]
    },
    {
     "name": "stdout",
     "output_type": "stream",
     "text": [
      "================================================================================\n",
      "Iteration: 182 \n",
      "Total energy = 14265.516602 \n",
      "Attach cost = 14195.542969 \n",
      "Deformation cost = 69.973450\n"
     ]
    },
    {
     "name": "stdout",
     "output_type": "stream",
     "text": [
      "================================================================================\n",
      "Iteration: 183 \n",
      "Total energy = 14264.862305 \n",
      "Attach cost = 14194.909180 \n",
      "Deformation cost = 69.951096\n"
     ]
    },
    {
     "name": "stdout",
     "output_type": "stream",
     "text": [
      "================================================================================\n",
      "Iteration: 184 \n",
      "Total energy = 14264.366211 \n",
      "Attach cost = 14194.411133 \n",
      "Deformation cost = 69.956131\n"
     ]
    },
    {
     "name": "stdout",
     "output_type": "stream",
     "text": [
      "================================================================================\n",
      "Iteration: 185 \n",
      "Total energy = 14263.361328 \n",
      "Attach cost = 14193.396484 \n",
      "Deformation cost = 69.964806\n"
     ]
    },
    {
     "name": "stdout",
     "output_type": "stream",
     "text": [
      "================================================================================\n",
      "Iteration: 186 \n",
      "Total energy = 14262.944336 \n",
      "Attach cost = 14192.993164 \n",
      "Deformation cost = 69.953545\n"
     ]
    },
    {
     "name": "stdout",
     "output_type": "stream",
     "text": [
      "================================================================================\n",
      "Iteration: 187 \n",
      "Total energy = 14262.567383 \n",
      "Attach cost = 14192.622070 \n",
      "Deformation cost = 69.942902\n"
     ]
    },
    {
     "name": "stdout",
     "output_type": "stream",
     "text": [
      "================================================================================\n",
      "Iteration: 188 \n",
      "Total energy = 14262.421875 \n",
      "Attach cost = 14192.492188 \n",
      "Deformation cost = 69.932243\n"
     ]
    },
    {
     "name": "stdout",
     "output_type": "stream",
     "text": [
      "================================================================================\n",
      "Iteration: 189 \n",
      "Total energy = 14262.312500 \n",
      "Attach cost = 14192.384766 \n",
      "Deformation cost = 69.925705\n"
     ]
    },
    {
     "name": "stdout",
     "output_type": "stream",
     "text": [
      "================================================================================\n",
      "Iteration: 190 \n",
      "Total energy = 14261.937500 \n",
      "Attach cost = 14192.028320 \n",
      "Deformation cost = 69.908440\n"
     ]
    },
    {
     "name": "stdout",
     "output_type": "stream",
     "text": [
      "================================================================================\n",
      "Iteration: 191 \n",
      "Total energy = 14261.381836 \n",
      "Attach cost = 14191.494141 \n",
      "Deformation cost = 69.887466\n"
     ]
    },
    {
     "name": "stdout",
     "output_type": "stream",
     "text": [
      "================================================================================\n",
      "Iteration: 192 \n",
      "Total energy = 14260.590820 \n",
      "Attach cost = 14190.734375 \n",
      "Deformation cost = 69.855911\n"
     ]
    },
    {
     "name": "stdout",
     "output_type": "stream",
     "text": [
      "================================================================================\n",
      "Iteration: 193 \n",
      "Total energy = 14260.246094 \n",
      "Attach cost = 14190.412109 \n",
      "Deformation cost = 69.834808\n"
     ]
    },
    {
     "name": "stdout",
     "output_type": "stream",
     "text": [
      "================================================================================\n",
      "Iteration: 194 \n",
      "Total energy = 14259.655273 \n",
      "Attach cost = 14189.835938 \n",
      "Deformation cost = 69.820168\n"
     ]
    },
    {
     "name": "stdout",
     "output_type": "stream",
     "text": [
      "================================================================================\n",
      "Iteration: 195 \n",
      "Total energy = 14259.287109 \n",
      "Attach cost = 14189.464844 \n",
      "Deformation cost = 69.821220\n"
     ]
    },
    {
     "name": "stdout",
     "output_type": "stream",
     "text": [
      "================================================================================\n",
      "Iteration: 196 \n",
      "Total energy = 14258.969727 \n",
      "Attach cost = 14189.144531 \n",
      "Deformation cost = 69.825607\n"
     ]
    },
    {
     "name": "stdout",
     "output_type": "stream",
     "text": [
      "================================================================================\n",
      "Iteration: 197 \n",
      "Total energy = 14258.393555 \n",
      "Attach cost = 14188.555664 \n",
      "Deformation cost = 69.838142\n"
     ]
    },
    {
     "name": "stdout",
     "output_type": "stream",
     "text": [
      "================================================================================\n",
      "Iteration: 198 \n",
      "Total energy = 14257.820312 \n",
      "Attach cost = 14187.954102 \n",
      "Deformation cost = 69.865364\n"
     ]
    },
    {
     "name": "stdout",
     "output_type": "stream",
     "text": [
      "================================================================================\n",
      "Iteration: 199 \n",
      "Total energy = 14256.771484 \n",
      "Attach cost = 14186.880859 \n",
      "Deformation cost = 69.889870\n"
     ]
    },
    {
     "name": "stdout",
     "output_type": "stream",
     "text": [
      "================================================================================\n",
      "Iteration: 200 \n",
      "Total energy = 14256.018555 \n",
      "Attach cost = 14186.105469 \n",
      "Deformation cost = 69.913887\n"
     ]
    },
    {
     "name": "stdout",
     "output_type": "stream",
     "text": [
      "================================================================================\n",
      "Iteration: 201 \n",
      "Total energy = 14255.514648 \n",
      "Attach cost = 14185.576172 \n",
      "Deformation cost = 69.939049\n"
     ]
    },
    {
     "name": "stdout",
     "output_type": "stream",
     "text": [
      "================================================================================\n",
      "Iteration: 202 \n",
      "Total energy = 14254.891602 \n",
      "Attach cost = 14184.920898 \n",
      "Deformation cost = 69.970444\n"
     ]
    },
    {
     "name": "stdout",
     "output_type": "stream",
     "text": [
      "================================================================================\n",
      "Iteration: 203 \n",
      "Total energy = 14254.191406 \n",
      "Attach cost = 14184.182617 \n",
      "Deformation cost = 70.010025\n"
     ]
    },
    {
     "name": "stdout",
     "output_type": "stream",
     "text": [
      "================================================================================\n",
      "Iteration: 204 \n",
      "Total energy = 14252.821289 \n",
      "Attach cost = 14182.791016 \n",
      "Deformation cost = 70.028732\n"
     ]
    },
    {
     "name": "stdout",
     "output_type": "stream",
     "text": [
      "================================================================================\n",
      "Iteration: 205 \n",
      "Total energy = 14251.374023 \n",
      "Attach cost = 14181.347656 \n",
      "Deformation cost = 70.026924\n"
     ]
    },
    {
     "name": "stdout",
     "output_type": "stream",
     "text": [
      "================================================================================\n",
      "Iteration: 206 \n",
      "Total energy = 14249.798828 \n",
      "Attach cost = 14179.789062 \n",
      "Deformation cost = 70.007851\n"
     ]
    },
    {
     "name": "stdout",
     "output_type": "stream",
     "text": [
      "================================================================================\n",
      "Iteration: 207 \n",
      "Total energy = 14248.025391 \n",
      "Attach cost = 14178.040039 \n",
      "Deformation cost = 69.983742\n"
     ]
    },
    {
     "name": "stdout",
     "output_type": "stream",
     "text": [
      "================================================================================\n",
      "Iteration: 208 \n",
      "Total energy = 14247.227539 \n",
      "Attach cost = 14177.261719 \n",
      "Deformation cost = 69.967072\n"
     ]
    },
    {
     "name": "stdout",
     "output_type": "stream",
     "text": [
      "================================================================================\n",
      "Iteration: 209 \n",
      "Total energy = 14245.100586 \n",
      "Attach cost = 14175.172852 \n",
      "Deformation cost = 69.925880\n"
     ]
    },
    {
     "name": "stdout",
     "output_type": "stream",
     "text": [
      "================================================================================\n",
      "Iteration: 210 \n",
      "Total energy = 14243.610352 \n",
      "Attach cost = 14173.709961 \n",
      "Deformation cost = 69.898880\n"
     ]
    },
    {
     "name": "stdout",
     "output_type": "stream",
     "text": [
      "================================================================================\n",
      "Iteration: 211 \n",
      "Total energy = 14241.390625 \n",
      "Attach cost = 14171.528320 \n",
      "Deformation cost = 69.862778\n"
     ]
    },
    {
     "name": "stdout",
     "output_type": "stream",
     "text": [
      "================================================================================\n",
      "Iteration: 212 \n",
      "Total energy = 14239.035156 \n",
      "Attach cost = 14169.205078 \n",
      "Deformation cost = 69.830742\n"
     ]
    },
    {
     "name": "stdout",
     "output_type": "stream",
     "text": [
      "================================================================================\n",
      "Iteration: 213 \n",
      "Total energy = 14235.770508 \n",
      "Attach cost = 14165.946289 \n",
      "Deformation cost = 69.822716\n"
     ]
    },
    {
     "name": "stdout",
     "output_type": "stream",
     "text": [
      "================================================================================\n",
      "Iteration: 214 \n",
      "Total energy = 14231.784180 \n",
      "Attach cost = 14161.901367 \n",
      "Deformation cost = 69.883881\n"
     ]
    },
    {
     "name": "stdout",
     "output_type": "stream",
     "text": [
      "================================================================================\n",
      "Iteration: 215 \n",
      "Total energy = 14230.142578 \n",
      "Attach cost = 14160.110352 \n",
      "Deformation cost = 70.034592\n"
     ]
    },
    {
     "name": "stdout",
     "output_type": "stream",
     "text": [
      "================================================================================\n",
      "Iteration: 216 \n",
      "Total energy = 14224.250000 \n",
      "Attach cost = 14154.170898 \n",
      "Deformation cost = 70.079399\n"
     ]
    },
    {
     "name": "stdout",
     "output_type": "stream",
     "text": [
      "================================================================================\n",
      "Iteration: 217 \n",
      "Total energy = 14222.866211 \n",
      "Attach cost = 14152.778320 \n",
      "Deformation cost = 70.088028\n"
     ]
    },
    {
     "name": "stdout",
     "output_type": "stream",
     "text": [
      "================================================================================\n",
      "Iteration: 218 \n",
      "Total energy = 14221.389648 \n",
      "Attach cost = 14151.276367 \n",
      "Deformation cost = 70.112915\n"
     ]
    },
    {
     "name": "stdout",
     "output_type": "stream",
     "text": [
      "================================================================================\n",
      "Iteration: 219 \n",
      "Total energy = 14220.364258 \n",
      "Attach cost = 14150.225586 \n",
      "Deformation cost = 70.137405\n"
     ]
    },
    {
     "name": "stdout",
     "output_type": "stream",
     "text": [
      "================================================================================\n",
      "Iteration: 220 \n",
      "Total energy = 14218.840820 \n",
      "Attach cost = 14148.697266 \n",
      "Deformation cost = 70.145737\n"
     ]
    },
    {
     "name": "stdout",
     "output_type": "stream",
     "text": [
      "================================================================================\n",
      "Iteration: 221 \n",
      "Total energy = 14213.755859 \n",
      "Attach cost = 14143.571289 \n",
      "Deformation cost = 70.185181\n"
     ]
    },
    {
     "name": "stdout",
     "output_type": "stream",
     "text": [
      "================================================================================\n",
      "Iteration: 222 \n",
      "Total energy = 14213.126953 \n",
      "Attach cost = 14142.930664 \n",
      "Deformation cost = 70.196472\n"
     ]
    },
    {
     "name": "stdout",
     "output_type": "stream",
     "text": [
      "================================================================================\n",
      "Iteration: 223 \n",
      "Total energy = 14210.459961 \n",
      "Attach cost = 14140.250000 \n",
      "Deformation cost = 70.210266\n"
     ]
    },
    {
     "name": "stdout",
     "output_type": "stream",
     "text": [
      "================================================================================\n",
      "Iteration: 224 \n",
      "Total energy = 14210.039062 \n",
      "Attach cost = 14139.824219 \n",
      "Deformation cost = 70.212997\n"
     ]
    },
    {
     "name": "stdout",
     "output_type": "stream",
     "text": [
      "================================================================================\n",
      "Iteration: 225 \n",
      "Total energy = 14209.576172 \n",
      "Attach cost = 14139.360352 \n",
      "Deformation cost = 70.215485\n"
     ]
    },
    {
     "name": "stdout",
     "output_type": "stream",
     "text": [
      "================================================================================\n",
      "Iteration: 226 \n",
      "Total energy = 14208.612305 \n",
      "Attach cost = 14138.391602 \n",
      "Deformation cost = 70.219719\n"
     ]
    },
    {
     "name": "stdout",
     "output_type": "stream",
     "text": [
      "================================================================================\n",
      "Iteration: 227 \n",
      "Total energy = 14207.681641 \n",
      "Attach cost = 14137.454102 \n",
      "Deformation cost = 70.227036\n"
     ]
    },
    {
     "name": "stdout",
     "output_type": "stream",
     "text": [
      "================================================================================\n",
      "Iteration: 228 \n",
      "Total energy = 14206.000977 \n",
      "Attach cost = 14135.774414 \n",
      "Deformation cost = 70.224892\n"
     ]
    },
    {
     "name": "stdout",
     "output_type": "stream",
     "text": [
      "================================================================================\n",
      "Iteration: 229 \n",
      "Total energy = 14205.013672 \n",
      "Attach cost = 14134.790039 \n",
      "Deformation cost = 70.221268\n"
     ]
    },
    {
     "name": "stdout",
     "output_type": "stream",
     "text": [
      "================================================================================\n",
      "Iteration: 230 \n",
      "Total energy = 14204.276367 \n",
      "Attach cost = 14134.055664 \n",
      "Deformation cost = 70.219421\n"
     ]
    },
    {
     "name": "stdout",
     "output_type": "stream",
     "text": [
      "================================================================================\n",
      "Iteration: 231 \n",
      "Total energy = 14203.763672 \n",
      "Attach cost = 14133.539062 \n",
      "Deformation cost = 70.224411\n"
     ]
    },
    {
     "name": "stdout",
     "output_type": "stream",
     "text": [
      "================================================================================\n",
      "Iteration: 232 \n",
      "Total energy = 14203.281250 \n",
      "Attach cost = 14133.054688 \n",
      "Deformation cost = 70.225990\n"
     ]
    },
    {
     "name": "stdout",
     "output_type": "stream",
     "text": [
      "================================================================================\n",
      "Iteration: 233 \n",
      "Total energy = 14202.967773 \n",
      "Attach cost = 14132.734375 \n",
      "Deformation cost = 70.234726\n"
     ]
    },
    {
     "name": "stdout",
     "output_type": "stream",
     "text": [
      "================================================================================\n",
      "Iteration: 234 \n",
      "Total energy = 14202.717773 \n",
      "Attach cost = 14132.467773 \n",
      "Deformation cost = 70.249054\n"
     ]
    },
    {
     "name": "stdout",
     "output_type": "stream",
     "text": [
      "================================================================================\n",
      "Iteration: 235 \n",
      "Total energy = 14202.536133 \n",
      "Attach cost = 14132.273438 \n",
      "Deformation cost = 70.260826\n"
     ]
    },
    {
     "name": "stdout",
     "output_type": "stream",
     "text": [
      "================================================================================\n",
      "Iteration: 236 \n",
      "Total energy = 14202.305664 \n",
      "Attach cost = 14132.009766 \n",
      "Deformation cost = 70.296829\n"
     ]
    },
    {
     "name": "stdout",
     "output_type": "stream",
     "text": [
      "================================================================================\n",
      "Iteration: 237 \n",
      "Total energy = 14201.770508 \n",
      "Attach cost = 14131.465820 \n",
      "Deformation cost = 70.303802\n"
     ]
    },
    {
     "name": "stdout",
     "output_type": "stream",
     "text": [
      "================================================================================\n",
      "Iteration: 238 \n",
      "Total energy = 14201.465820 \n",
      "Attach cost = 14131.165039 \n",
      "Deformation cost = 70.301865\n"
     ]
    },
    {
     "name": "stdout",
     "output_type": "stream",
     "text": [
      "================================================================================\n",
      "Iteration: 239 \n",
      "Total energy = 14201.240234 \n",
      "Attach cost = 14130.941406 \n",
      "Deformation cost = 70.297470\n"
     ]
    },
    {
     "name": "stdout",
     "output_type": "stream",
     "text": [
      "================================================================================\n",
      "Iteration: 240 \n",
      "Total energy = 14200.970703 \n",
      "Attach cost = 14130.681641 \n",
      "Deformation cost = 70.287506\n"
     ]
    },
    {
     "name": "stdout",
     "output_type": "stream",
     "text": [
      "================================================================================\n",
      "Iteration: 241 \n",
      "Total energy = 14200.710938 \n",
      "Attach cost = 14130.471680 \n",
      "Deformation cost = 70.240456\n"
     ]
    },
    {
     "name": "stdout",
     "output_type": "stream",
     "text": [
      "================================================================================\n",
      "Iteration: 242 \n",
      "Total energy = 14199.939453 \n",
      "Attach cost = 14129.707031 \n",
      "Deformation cost = 70.231575\n"
     ]
    },
    {
     "name": "stdout",
     "output_type": "stream",
     "text": [
      "================================================================================\n",
      "Iteration: 243 \n",
      "Total energy = 14199.440430 \n",
      "Attach cost = 14129.222656 \n",
      "Deformation cost = 70.217880\n"
     ]
    },
    {
     "name": "stdout",
     "output_type": "stream",
     "text": [
      "================================================================================\n",
      "Iteration: 244 \n",
      "Total energy = 14198.849609 \n",
      "Attach cost = 14128.660156 \n",
      "Deformation cost = 70.189545\n"
     ]
    },
    {
     "name": "stdout",
     "output_type": "stream",
     "text": [
      "================================================================================\n",
      "Iteration: 245 \n",
      "Total energy = 14198.745117 \n",
      "Attach cost = 14128.600586 \n",
      "Deformation cost = 70.144775\n"
     ]
    },
    {
     "name": "stdout",
     "output_type": "stream",
     "text": [
      "================================================================================\n",
      "Iteration: 246 \n",
      "Total energy = 14198.215820 \n",
      "Attach cost = 14128.064453 \n",
      "Deformation cost = 70.152847\n"
     ]
    },
    {
     "name": "stdout",
     "output_type": "stream",
     "text": [
      "================================================================================\n",
      "Iteration: 247 \n",
      "Total energy = 14198.020508 \n",
      "Attach cost = 14127.866211 \n",
      "Deformation cost = 70.154121\n"
     ]
    },
    {
     "name": "stdout",
     "output_type": "stream",
     "text": [
      "================================================================================\n",
      "Iteration: 248 \n",
      "Total energy = 14197.746094 \n",
      "Attach cost = 14127.594727 \n",
      "Deformation cost = 70.151619\n"
     ]
    },
    {
     "name": "stdout",
     "output_type": "stream",
     "text": [
      "================================================================================\n",
      "Iteration: 249 \n",
      "Total energy = 14197.171875 \n",
      "Attach cost = 14127.027344 \n",
      "Deformation cost = 70.144867\n"
     ]
    },
    {
     "name": "stdout",
     "output_type": "stream",
     "text": [
      "================================================================================\n",
      "Iteration: 250 \n",
      "Total energy = 14195.632812 \n",
      "Attach cost = 14125.501953 \n",
      "Deformation cost = 70.130264\n"
     ]
    },
    {
     "name": "stdout",
     "output_type": "stream",
     "text": [
      "================================================================================\n",
      "Iteration: 251 \n",
      "Total energy = 14192.877930 \n",
      "Attach cost = 14122.770508 \n",
      "Deformation cost = 70.107849\n"
     ]
    },
    {
     "name": "stdout",
     "output_type": "stream",
     "text": [
      "================================================================================\n",
      "Iteration: 252 \n",
      "Total energy = 14190.970703 \n",
      "Attach cost = 14120.873047 \n",
      "Deformation cost = 70.096504\n"
     ]
    },
    {
     "name": "stdout",
     "output_type": "stream",
     "text": [
      "================================================================================\n",
      "Iteration: 253 \n",
      "Total energy = 14187.269531 \n",
      "Attach cost = 14117.189453 \n",
      "Deformation cost = 70.081116\n"
     ]
    },
    {
     "name": "stdout",
     "output_type": "stream",
     "text": [
      "================================================================================\n",
      "Iteration: 254 \n",
      "Total energy = 14185.351562 \n",
      "Attach cost = 14115.269531 \n",
      "Deformation cost = 70.082657\n"
     ]
    },
    {
     "name": "stdout",
     "output_type": "stream",
     "text": [
      "================================================================================\n",
      "Iteration: 255 \n",
      "Total energy = 14184.012695 \n",
      "Attach cost = 14113.926758 \n",
      "Deformation cost = 70.087677\n"
     ]
    },
    {
     "name": "stdout",
     "output_type": "stream",
     "text": [
      "================================================================================\n",
      "Iteration: 256 \n",
      "Total energy = 14181.801758 \n",
      "Attach cost = 14111.708984 \n",
      "Deformation cost = 70.094193\n"
     ]
    },
    {
     "name": "stdout",
     "output_type": "stream",
     "text": [
      "================================================================================\n",
      "Iteration: 257 \n",
      "Total energy = 14177.614258 \n",
      "Attach cost = 14107.521484 \n",
      "Deformation cost = 70.094963\n"
     ]
    },
    {
     "name": "stdout",
     "output_type": "stream",
     "text": [
      "================================================================================\n",
      "Iteration: 258 \n",
      "Total energy = 14170.792969 \n",
      "Attach cost = 14100.737305 \n",
      "Deformation cost = 70.053986\n"
     ]
    },
    {
     "name": "stdout",
     "output_type": "stream",
     "text": [
      "================================================================================\n",
      "Iteration: 259 \n",
      "Total energy = 14166.746094 \n",
      "Attach cost = 14096.738281 \n",
      "Deformation cost = 70.008713\n"
     ]
    },
    {
     "name": "stdout",
     "output_type": "stream",
     "text": [
      "================================================================================\n",
      "Iteration: 260 \n",
      "Total energy = 14162.994141 \n",
      "Attach cost = 14093.014648 \n",
      "Deformation cost = 69.977722\n"
     ]
    },
    {
     "name": "stdout",
     "output_type": "stream",
     "text": [
      "================================================================================\n",
      "Iteration: 261 \n",
      "Total energy = 14161.706055 \n",
      "Attach cost = 14091.757812 \n",
      "Deformation cost = 69.948662\n"
     ]
    },
    {
     "name": "stdout",
     "output_type": "stream",
     "text": [
      "================================================================================\n",
      "Iteration: 262 \n",
      "Total energy = 14160.565430 \n",
      "Attach cost = 14090.658203 \n",
      "Deformation cost = 69.905128\n"
     ]
    },
    {
     "name": "stdout",
     "output_type": "stream",
     "text": [
      "================================================================================\n",
      "Iteration: 263 \n",
      "Total energy = 14158.492188 \n",
      "Attach cost = 14088.650391 \n",
      "Deformation cost = 69.842461\n"
     ]
    },
    {
     "name": "stdout",
     "output_type": "stream",
     "text": [
      "================================================================================\n",
      "Iteration: 264 \n",
      "Total energy = 14155.583008 \n",
      "Attach cost = 14085.830078 \n",
      "Deformation cost = 69.754601\n"
     ]
    },
    {
     "name": "stdout",
     "output_type": "stream",
     "text": [
      "================================================================================\n",
      "Iteration: 265 \n",
      "Total energy = 14152.732422 \n",
      "Attach cost = 14083.020508 \n",
      "Deformation cost = 69.712402\n"
     ]
    },
    {
     "name": "stdout",
     "output_type": "stream",
     "text": [
      "================================================================================\n",
      "Iteration: 266 \n",
      "Total energy = 14151.092773 \n",
      "Attach cost = 14081.343750 \n",
      "Deformation cost = 69.748131\n"
     ]
    },
    {
     "name": "stdout",
     "output_type": "stream",
     "text": [
      "================================================================================\n",
      "Iteration: 267 \n",
      "Total energy = 14148.859375 \n",
      "Attach cost = 14079.022461 \n",
      "Deformation cost = 69.836830\n"
     ]
    },
    {
     "name": "stdout",
     "output_type": "stream",
     "text": [
      "================================================================================\n",
      "Iteration: 268 \n",
      "Total energy = 14146.122070 \n",
      "Attach cost = 14076.203125 \n",
      "Deformation cost = 69.919380\n"
     ]
    },
    {
     "name": "stdout",
     "output_type": "stream",
     "text": [
      "================================================================================\n",
      "Iteration: 269 \n",
      "Total energy = 14143.119141 \n",
      "Attach cost = 14073.101562 \n",
      "Deformation cost = 70.017616\n"
     ]
    },
    {
     "name": "stdout",
     "output_type": "stream",
     "text": [
      "================================================================================\n",
      "Iteration: 270 \n",
      "Total energy = 14141.980469 \n",
      "Attach cost = 14071.927734 \n",
      "Deformation cost = 70.052628\n"
     ]
    },
    {
     "name": "stdout",
     "output_type": "stream",
     "text": [
      "================================================================================\n",
      "Iteration: 271 \n",
      "Total energy = 14141.176758 \n",
      "Attach cost = 14071.132812 \n",
      "Deformation cost = 70.046310\n"
     ]
    },
    {
     "name": "stdout",
     "output_type": "stream",
     "text": [
      "================================================================================\n",
      "Iteration: 272 \n",
      "Total energy = 14140.871094 \n",
      "Attach cost = 14070.835938 \n",
      "Deformation cost = 70.036156\n"
     ]
    },
    {
     "name": "stdout",
     "output_type": "stream",
     "text": [
      "================================================================================\n",
      "Iteration: 273 \n",
      "Total energy = 14139.977539 \n",
      "Attach cost = 14069.933594 \n",
      "Deformation cost = 70.042473\n"
     ]
    },
    {
     "name": "stdout",
     "output_type": "stream",
     "text": [
      "================================================================================\n",
      "Iteration: 274 \n",
      "Total energy = 14138.751953 \n",
      "Attach cost = 14068.650391 \n",
      "Deformation cost = 70.099747\n"
     ]
    },
    {
     "name": "stdout",
     "output_type": "stream",
     "text": [
      "================================================================================\n",
      "Iteration: 275 \n",
      "Total energy = 14137.095703 \n",
      "Attach cost = 14066.896484 \n",
      "Deformation cost = 70.197800\n"
     ]
    },
    {
     "name": "stdout",
     "output_type": "stream",
     "text": [
      "================================================================================\n",
      "Iteration: 276 \n",
      "Total energy = 14135.208984 \n",
      "Attach cost = 14064.857422 \n",
      "Deformation cost = 70.353706\n"
     ]
    },
    {
     "name": "stdout",
     "output_type": "stream",
     "text": [
      "================================================================================\n",
      "Iteration: 277 \n",
      "Total energy = 14134.642578 \n",
      "Attach cost = 14064.215820 \n",
      "Deformation cost = 70.426010\n"
     ]
    },
    {
     "name": "stdout",
     "output_type": "stream",
     "text": [
      "================================================================================\n",
      "Iteration: 278 \n",
      "Total energy = 14134.267578 \n",
      "Attach cost = 14063.834961 \n",
      "Deformation cost = 70.432724\n"
     ]
    },
    {
     "name": "stdout",
     "output_type": "stream",
     "text": [
      "================================================================================\n",
      "Iteration: 279 \n",
      "Total energy = 14133.787109 \n",
      "Attach cost = 14063.364258 \n",
      "Deformation cost = 70.424995\n"
     ]
    },
    {
     "name": "stdout",
     "output_type": "stream",
     "text": [
      "================================================================================\n",
      "Iteration: 280 \n",
      "Total energy = 14133.066406 \n",
      "Attach cost = 14062.651367 \n",
      "Deformation cost = 70.417053\n"
     ]
    },
    {
     "name": "stdout",
     "output_type": "stream",
     "text": [
      "================================================================================\n",
      "Iteration: 281 \n",
      "Total energy = 14132.441406 \n",
      "Attach cost = 14062.031250 \n",
      "Deformation cost = 70.410706\n"
     ]
    },
    {
     "name": "stdout",
     "output_type": "stream",
     "text": [
      "================================================================================\n",
      "Iteration: 282 \n",
      "Total energy = 14131.366211 \n",
      "Attach cost = 14060.955078 \n",
      "Deformation cost = 70.411400\n"
     ]
    },
    {
     "name": "stdout",
     "output_type": "stream",
     "text": [
      "================================================================================\n",
      "Iteration: 283 \n",
      "Total energy = 14130.914062 \n",
      "Attach cost = 14060.495117 \n",
      "Deformation cost = 70.420151\n"
     ]
    },
    {
     "name": "stdout",
     "output_type": "stream",
     "text": [
      "================================================================================\n",
      "Iteration: 284 \n",
      "Total energy = 14130.656250 \n",
      "Attach cost = 14060.231445 \n",
      "Deformation cost = 70.423935\n"
     ]
    },
    {
     "name": "stdout",
     "output_type": "stream",
     "text": [
      "================================================================================\n",
      "Iteration: 285 \n",
      "Total energy = 14130.201172 \n",
      "Attach cost = 14059.769531 \n",
      "Deformation cost = 70.429855\n"
     ]
    },
    {
     "name": "stdout",
     "output_type": "stream",
     "text": [
      "================================================================================\n",
      "Iteration: 286 \n",
      "Total energy = 14129.156250 \n",
      "Attach cost = 14058.718750 \n",
      "Deformation cost = 70.436623\n"
     ]
    },
    {
     "name": "stdout",
     "output_type": "stream",
     "text": [
      "================================================================================\n",
      "Iteration: 287 \n",
      "Total energy = 14127.263672 \n",
      "Attach cost = 14056.810547 \n",
      "Deformation cost = 70.454605\n"
     ]
    },
    {
     "name": "stdout",
     "output_type": "stream",
     "text": [
      "================================================================================\n",
      "Iteration: 288 \n",
      "Total energy = 14124.785156 \n",
      "Attach cost = 14054.307617 \n",
      "Deformation cost = 70.478539\n"
     ]
    },
    {
     "name": "stdout",
     "output_type": "stream",
     "text": [
      "================================================================================\n",
      "Iteration: 289 \n",
      "Total energy = 14123.289062 \n",
      "Attach cost = 14052.790039 \n",
      "Deformation cost = 70.499557\n"
     ]
    },
    {
     "name": "stdout",
     "output_type": "stream",
     "text": [
      "================================================================================\n",
      "Iteration: 290 \n",
      "Total energy = 14122.319336 \n",
      "Attach cost = 14051.832031 \n",
      "Deformation cost = 70.488617\n"
     ]
    },
    {
     "name": "stdout",
     "output_type": "stream",
     "text": [
      "================================================================================\n",
      "Iteration: 291 \n",
      "Total energy = 14121.862305 \n",
      "Attach cost = 14051.380859 \n",
      "Deformation cost = 70.481544\n"
     ]
    },
    {
     "name": "stdout",
     "output_type": "stream",
     "text": [
      "================================================================================\n",
      "Iteration: 292 \n",
      "Total energy = 14121.355469 \n",
      "Attach cost = 14050.879883 \n",
      "Deformation cost = 70.475441\n"
     ]
    },
    {
     "name": "stdout",
     "output_type": "stream",
     "text": [
      "================================================================================\n",
      "Iteration: 293 \n",
      "Total energy = 14119.851562 \n",
      "Attach cost = 14049.385742 \n",
      "Deformation cost = 70.464600\n"
     ]
    },
    {
     "name": "stdout",
     "output_type": "stream",
     "text": [
      "================================================================================\n",
      "Iteration: 294 \n",
      "Total energy = 14117.842773 \n",
      "Attach cost = 14047.381836 \n",
      "Deformation cost = 70.459877\n"
     ]
    },
    {
     "name": "stdout",
     "output_type": "stream",
     "text": [
      "================================================================================\n",
      "Iteration: 295 \n",
      "Total energy = 14115.274414 \n",
      "Attach cost = 14044.799805 \n",
      "Deformation cost = 70.475380\n"
     ]
    },
    {
     "name": "stdout",
     "output_type": "stream",
     "text": [
      "================================================================================\n",
      "Iteration: 296 \n",
      "Total energy = 14111.968750 \n",
      "Attach cost = 14041.458008 \n",
      "Deformation cost = 70.510803\n"
     ]
    },
    {
     "name": "stdout",
     "output_type": "stream",
     "text": [
      "================================================================================\n",
      "Iteration: 297 \n",
      "Total energy = 14108.536133 \n",
      "Attach cost = 14037.981445 \n",
      "Deformation cost = 70.555733\n"
     ]
    },
    {
     "name": "stdout",
     "output_type": "stream",
     "text": [
      "================================================================================\n",
      "Iteration: 298 \n",
      "Total energy = 14107.263672 \n",
      "Attach cost = 14036.627930 \n",
      "Deformation cost = 70.635422\n"
     ]
    },
    {
     "name": "stdout",
     "output_type": "stream",
     "text": [
      "================================================================================\n",
      "Iteration: 299 \n",
      "Total energy = 14102.028320 \n",
      "Attach cost = 14031.400391 \n",
      "Deformation cost = 70.628326\n"
     ]
    },
    {
     "name": "stdout",
     "output_type": "stream",
     "text": [
      "================================================================================\n",
      "Iteration: 300 \n",
      "Total energy = 14099.445312 \n",
      "Attach cost = 14028.827148 \n",
      "Deformation cost = 70.617180\n"
     ]
    },
    {
     "name": "stdout",
     "output_type": "stream",
     "text": [
      "================================================================================\n",
      "Iteration: 301 \n",
      "Total energy = 14095.542969 \n",
      "Attach cost = 14024.947266 \n",
      "Deformation cost = 70.596672\n"
     ]
    },
    {
     "name": "stdout",
     "output_type": "stream",
     "text": [
      "================================================================================\n",
      "Iteration: 302 \n",
      "Total energy = 14090.059570 \n",
      "Attach cost = 14019.497070 \n",
      "Deformation cost = 70.562737\n"
     ]
    },
    {
     "name": "stdout",
     "output_type": "stream",
     "text": [
      "================================================================================\n",
      "Iteration: 303 \n",
      "Total energy = 14087.800781 \n",
      "Attach cost = 14017.263672 \n",
      "Deformation cost = 70.536949\n"
     ]
    },
    {
     "name": "stdout",
     "output_type": "stream",
     "text": [
      "================================================================================\n",
      "Iteration: 304 \n",
      "Total energy = 14082.614258 \n",
      "Attach cost = 14012.108398 \n",
      "Deformation cost = 70.505775\n"
     ]
    },
    {
     "name": "stdout",
     "output_type": "stream",
     "text": [
      "================================================================================\n",
      "Iteration: 305 \n",
      "Total energy = 14080.152344 \n",
      "Attach cost = 14009.648438 \n",
      "Deformation cost = 70.503242\n"
     ]
    },
    {
     "name": "stdout",
     "output_type": "stream",
     "text": [
      "================================================================================\n",
      "Iteration: 306 \n",
      "Total energy = 14077.740234 \n",
      "Attach cost = 14007.220703 \n",
      "Deformation cost = 70.520638\n"
     ]
    },
    {
     "name": "stdout",
     "output_type": "stream",
     "text": [
      "================================================================================\n",
      "Iteration: 307 \n",
      "Total energy = 14075.393555 \n",
      "Attach cost = 14004.845703 \n",
      "Deformation cost = 70.549271\n"
     ]
    },
    {
     "name": "stdout",
     "output_type": "stream",
     "text": [
      "================================================================================\n",
      "Iteration: 308 \n",
      "Total energy = 14071.929688 \n",
      "Attach cost = 14001.289062 \n",
      "Deformation cost = 70.638885\n"
     ]
    },
    {
     "name": "stdout",
     "output_type": "stream",
     "text": [
      "================================================================================\n",
      "Iteration: 309 \n",
      "Total energy = 14070.698242 \n",
      "Attach cost = 13999.997070 \n",
      "Deformation cost = 70.700790\n"
     ]
    },
    {
     "name": "stdout",
     "output_type": "stream",
     "text": [
      "================================================================================\n",
      "Iteration: 310 \n",
      "Total energy = 14069.167969 \n",
      "Attach cost = 13998.482422 \n",
      "Deformation cost = 70.687050\n"
     ]
    },
    {
     "name": "stdout",
     "output_type": "stream",
     "text": [
      "================================================================================\n",
      "Iteration: 311 \n",
      "Total energy = 14068.411133 \n",
      "Attach cost = 13997.721680 \n",
      "Deformation cost = 70.692230\n"
     ]
    },
    {
     "name": "stdout",
     "output_type": "stream",
     "text": [
      "================================================================================\n",
      "Iteration: 312 \n",
      "Total energy = 14067.224609 \n",
      "Attach cost = 13996.523438 \n",
      "Deformation cost = 70.701370\n"
     ]
    },
    {
     "name": "stdout",
     "output_type": "stream",
     "text": [
      "================================================================================\n",
      "Iteration: 313 \n",
      "Total energy = 14065.440430 \n",
      "Attach cost = 13994.700195 \n",
      "Deformation cost = 70.740654\n"
     ]
    },
    {
     "name": "stdout",
     "output_type": "stream",
     "text": [
      "================================================================================\n",
      "Iteration: 314 \n",
      "Total energy = 14063.419922 \n",
      "Attach cost = 13992.659180 \n",
      "Deformation cost = 70.760414\n"
     ]
    },
    {
     "name": "stdout",
     "output_type": "stream",
     "text": [
      "================================================================================\n",
      "Iteration: 315 \n",
      "Total energy = 14062.282227 \n",
      "Attach cost = 13991.514648 \n",
      "Deformation cost = 70.767151\n"
     ]
    },
    {
     "name": "stdout",
     "output_type": "stream",
     "text": [
      "================================================================================\n",
      "Iteration: 316 \n",
      "Total energy = 14061.863281 \n",
      "Attach cost = 13991.089844 \n",
      "Deformation cost = 70.772499\n"
     ]
    },
    {
     "name": "stdout",
     "output_type": "stream",
     "text": [
      "================================================================================\n",
      "Iteration: 317 \n",
      "Total energy = 14061.550781 \n",
      "Attach cost = 13990.776367 \n",
      "Deformation cost = 70.774925\n"
     ]
    },
    {
     "name": "stdout",
     "output_type": "stream",
     "text": [
      "================================================================================\n",
      "Iteration: 318 \n",
      "Total energy = 14061.138672 \n",
      "Attach cost = 13990.359375 \n",
      "Deformation cost = 70.779213\n"
     ]
    },
    {
     "name": "stdout",
     "output_type": "stream",
     "text": [
      "================================================================================\n",
      "Iteration: 319 \n",
      "Total energy = 14059.558594 \n",
      "Attach cost = 13988.751953 \n",
      "Deformation cost = 70.806541\n"
     ]
    },
    {
     "name": "stdout",
     "output_type": "stream",
     "text": [
      "================================================================================\n",
      "Iteration: 320 \n",
      "Total energy = 14058.627930 \n",
      "Attach cost = 13987.799805 \n",
      "Deformation cost = 70.827797\n"
     ]
    },
    {
     "name": "stdout",
     "output_type": "stream",
     "text": [
      "================================================================================\n",
      "Iteration: 321 \n",
      "Total energy = 14058.155273 \n",
      "Attach cost = 13987.319336 \n",
      "Deformation cost = 70.835289\n"
     ]
    },
    {
     "name": "stdout",
     "output_type": "stream",
     "text": [
      "================================================================================\n",
      "Iteration: 322 \n",
      "Total energy = 14057.818359 \n",
      "Attach cost = 13986.986328 \n",
      "Deformation cost = 70.832253\n"
     ]
    },
    {
     "name": "stdout",
     "output_type": "stream",
     "text": [
      "================================================================================\n",
      "Iteration: 323 \n",
      "Total energy = 14057.615234 \n",
      "Attach cost = 13986.788086 \n",
      "Deformation cost = 70.823997\n"
     ]
    },
    {
     "name": "stdout",
     "output_type": "stream",
     "text": [
      "================================================================================\n",
      "Iteration: 324 \n",
      "Total energy = 14057.264648 \n",
      "Attach cost = 13986.459961 \n",
      "Deformation cost = 70.804115\n"
     ]
    },
    {
     "name": "stdout",
     "output_type": "stream",
     "text": [
      "================================================================================\n",
      "Iteration: 325 \n",
      "Total energy = 14056.766602 \n",
      "Attach cost = 13985.985352 \n",
      "Deformation cost = 70.780647\n"
     ]
    },
    {
     "name": "stdout",
     "output_type": "stream",
     "text": [
      "================================================================================\n",
      "Iteration: 326 \n",
      "Total energy = 14056.410156 \n",
      "Attach cost = 13985.649414 \n",
      "Deformation cost = 70.760124\n"
     ]
    },
    {
     "name": "stdout",
     "output_type": "stream",
     "text": [
      "================================================================================\n",
      "Iteration: 327 \n",
      "Total energy = 14055.968750 \n",
      "Attach cost = 13985.215820 \n",
      "Deformation cost = 70.753807\n"
     ]
    },
    {
     "name": "stdout",
     "output_type": "stream",
     "text": [
      "================================================================================\n",
      "Iteration: 328 \n",
      "Total energy = 14055.709961 \n",
      "Attach cost = 13984.950195 \n",
      "Deformation cost = 70.760040\n"
     ]
    },
    {
     "name": "stdout",
     "output_type": "stream",
     "text": [
      "================================================================================\n",
      "Iteration: 329 \n",
      "Total energy = 14055.545898 \n",
      "Attach cost = 13984.773438 \n",
      "Deformation cost = 70.772438\n"
     ]
    },
    {
     "name": "stdout",
     "output_type": "stream",
     "text": [
      "================================================================================\n",
      "Iteration: 330 \n",
      "Total energy = 14055.346680 \n",
      "Attach cost = 13984.559570 \n",
      "Deformation cost = 70.787994\n"
     ]
    },
    {
     "name": "stdout",
     "output_type": "stream",
     "text": [
      "================================================================================\n",
      "Iteration: 331 \n",
      "Total energy = 14055.150391 \n",
      "Attach cost = 13984.347656 \n",
      "Deformation cost = 70.802956\n"
     ]
    },
    {
     "name": "stdout",
     "output_type": "stream",
     "text": [
      "================================================================================\n",
      "Iteration: 332 \n",
      "Total energy = 14054.857422 \n",
      "Attach cost = 13984.038086 \n",
      "Deformation cost = 70.821960\n"
     ]
    },
    {
     "name": "stdout",
     "output_type": "stream",
     "text": [
      "================================================================================\n",
      "Iteration: 333 \n",
      "Total energy = 14054.517578 \n",
      "Attach cost = 13983.686523 \n",
      "Deformation cost = 70.830048\n"
     ]
    },
    {
     "name": "stdout",
     "output_type": "stream",
     "text": [
      "================================================================================\n",
      "Iteration: 334 \n",
      "Total energy = 14053.932617 \n",
      "Attach cost = 13983.089844 \n",
      "Deformation cost = 70.840996\n"
     ]
    },
    {
     "name": "stdout",
     "output_type": "stream",
     "text": [
      "================================================================================\n",
      "Iteration: 335 \n",
      "Total energy = 14053.742188 \n",
      "Attach cost = 13982.891602 \n",
      "Deformation cost = 70.848366\n"
     ]
    },
    {
     "name": "stdout",
     "output_type": "stream",
     "text": [
      "================================================================================\n",
      "Iteration: 336 \n",
      "Total energy = 14053.495117 \n",
      "Attach cost = 13982.645508 \n",
      "Deformation cost = 70.851059\n"
     ]
    },
    {
     "name": "stdout",
     "output_type": "stream",
     "text": [
      "================================================================================\n",
      "Iteration: 337 \n",
      "Total energy = 14053.303711 \n",
      "Attach cost = 13982.448242 \n",
      "Deformation cost = 70.854469\n"
     ]
    },
    {
     "name": "stdout",
     "output_type": "stream",
     "text": [
      "================================================================================\n",
      "Iteration: 338 \n",
      "Total energy = 14053.009766 \n",
      "Attach cost = 13982.146484 \n",
      "Deformation cost = 70.862793\n"
     ]
    },
    {
     "name": "stdout",
     "output_type": "stream",
     "text": [
      "================================================================================\n",
      "Iteration: 339 \n",
      "Total energy = 14052.474609 \n",
      "Attach cost = 13981.591797 \n",
      "Deformation cost = 70.883827\n"
     ]
    },
    {
     "name": "stdout",
     "output_type": "stream",
     "text": [
      "================================================================================\n",
      "Iteration: 340 \n",
      "Total energy = 14051.820312 \n",
      "Attach cost = 13980.909180 \n",
      "Deformation cost = 70.912506\n"
     ]
    },
    {
     "name": "stdout",
     "output_type": "stream",
     "text": [
      "================================================================================\n",
      "Iteration: 341 \n",
      "Total energy = 14051.114258 \n",
      "Attach cost = 13980.170898 \n",
      "Deformation cost = 70.941833\n"
     ]
    },
    {
     "name": "stdout",
     "output_type": "stream",
     "text": [
      "================================================================================\n",
      "Iteration: 342 \n",
      "Total energy = 14050.676758 \n",
      "Attach cost = 13979.729492 \n",
      "Deformation cost = 70.946007\n"
     ]
    },
    {
     "name": "stdout",
     "output_type": "stream",
     "text": [
      "================================================================================\n",
      "Iteration: 343 \n",
      "Total energy = 14050.394531 \n",
      "Attach cost = 13979.456055 \n",
      "Deformation cost = 70.939262\n"
     ]
    },
    {
     "name": "stdout",
     "output_type": "stream",
     "text": [
      "================================================================================\n",
      "Iteration: 344 \n",
      "Total energy = 14050.188477 \n",
      "Attach cost = 13979.254883 \n",
      "Deformation cost = 70.933960\n"
     ]
    },
    {
     "name": "stdout",
     "output_type": "stream",
     "text": [
      "================================================================================\n",
      "Iteration: 345 \n",
      "Total energy = 14049.459961 \n",
      "Attach cost = 13978.544922 \n",
      "Deformation cost = 70.914116\n"
     ]
    },
    {
     "name": "stdout",
     "output_type": "stream",
     "text": [
      "================================================================================\n",
      "Iteration: 346 \n",
      "Total energy = 14048.418945 \n",
      "Attach cost = 13977.528320 \n",
      "Deformation cost = 70.891777\n"
     ]
    },
    {
     "name": "stdout",
     "output_type": "stream",
     "text": [
      "================================================================================\n",
      "Iteration: 347 \n",
      "Total energy = 14047.666016 \n",
      "Attach cost = 13976.797852 \n",
      "Deformation cost = 70.868782\n"
     ]
    },
    {
     "name": "stdout",
     "output_type": "stream",
     "text": [
      "================================================================================\n",
      "Iteration: 348 \n",
      "Total energy = 14046.473633 \n",
      "Attach cost = 13975.587891 \n",
      "Deformation cost = 70.886063\n"
     ]
    },
    {
     "name": "stdout",
     "output_type": "stream",
     "text": [
      "================================================================================\n",
      "Iteration: 349 \n",
      "Total energy = 14045.715820 \n",
      "Attach cost = 13974.801758 \n",
      "Deformation cost = 70.914833\n"
     ]
    },
    {
     "name": "stdout",
     "output_type": "stream",
     "text": [
      "================================================================================\n",
      "Iteration: 350 \n",
      "Total energy = 14044.964844 \n",
      "Attach cost = 13974.017578 \n",
      "Deformation cost = 70.947609\n"
     ]
    },
    {
     "name": "stdout",
     "output_type": "stream",
     "text": [
      "================================================================================\n",
      "Iteration: 351 \n",
      "Total energy = 14043.520508 \n",
      "Attach cost = 13972.517578 \n",
      "Deformation cost = 71.004700\n"
     ]
    },
    {
     "name": "stdout",
     "output_type": "stream",
     "text": [
      "================================================================================\n",
      "Iteration: 352 \n",
      "Total energy = 14041.376953 \n",
      "Attach cost = 13970.268555 \n",
      "Deformation cost = 71.108696\n"
     ]
    },
    {
     "name": "stdout",
     "output_type": "stream",
     "text": [
      "================================================================================\n",
      "Iteration: 353 \n",
      "Total energy = 14038.263672 \n",
      "Attach cost = 13967.054688 \n",
      "Deformation cost = 71.208061\n"
     ]
    },
    {
     "name": "stdout",
     "output_type": "stream",
     "text": [
      "================================================================================\n",
      "Iteration: 354 \n",
      "Total energy = 14035.118164 \n",
      "Attach cost = 13963.849609 \n",
      "Deformation cost = 71.266136\n"
     ]
    },
    {
     "name": "stdout",
     "output_type": "stream",
     "text": [
      "================================================================================\n",
      "Iteration: 355 \n",
      "Total energy = 14032.149414 \n",
      "Attach cost = 13960.830078 \n",
      "Deformation cost = 71.319366\n"
     ]
    },
    {
     "name": "stdout",
     "output_type": "stream",
     "text": [
      "================================================================================\n",
      "Iteration: 356 \n",
      "Total energy = 14030.402344 \n",
      "Attach cost = 13959.071289 \n",
      "Deformation cost = 71.330879\n"
     ]
    },
    {
     "name": "stdout",
     "output_type": "stream",
     "text": [
      "================================================================================\n",
      "Iteration: 357 \n",
      "Total energy = 14028.912109 \n",
      "Attach cost = 13957.555664 \n",
      "Deformation cost = 71.356110\n"
     ]
    },
    {
     "name": "stdout",
     "output_type": "stream",
     "text": [
      "================================================================================\n",
      "Iteration: 358 \n",
      "Total energy = 14026.721680 \n",
      "Attach cost = 13955.303711 \n",
      "Deformation cost = 71.419014\n"
     ]
    },
    {
     "name": "stdout",
     "output_type": "stream",
     "text": [
      "================================================================================\n",
      "Iteration: 359 \n",
      "Total energy = 14024.183594 \n",
      "Attach cost = 13952.690430 \n",
      "Deformation cost = 71.494331\n"
     ]
    },
    {
     "name": "stdout",
     "output_type": "stream",
     "text": [
      "================================================================================\n",
      "Iteration: 360 \n",
      "Total energy = 14017.614258 \n",
      "Attach cost = 13945.888672 \n",
      "Deformation cost = 71.724182\n"
     ]
    },
    {
     "name": "stdout",
     "output_type": "stream",
     "text": [
      "================================================================================\n",
      "Iteration: 361 \n",
      "Total energy = 14012.780273 \n",
      "Attach cost = 13940.678711 \n",
      "Deformation cost = 72.101738\n"
     ]
    },
    {
     "name": "stdout",
     "output_type": "stream",
     "text": [
      "================================================================================\n",
      "Iteration: 362 \n",
      "Total energy = 14005.182617 \n",
      "Attach cost = 13933.166992 \n",
      "Deformation cost = 72.015656\n"
     ]
    },
    {
     "name": "stdout",
     "output_type": "stream",
     "text": [
      "================================================================================\n",
      "Iteration: 363 \n",
      "Total energy = 14000.926758 \n",
      "Attach cost = 13928.830078 \n",
      "Deformation cost = 72.096298\n"
     ]
    },
    {
     "name": "stdout",
     "output_type": "stream",
     "text": [
      "================================================================================\n",
      "Iteration: 364 \n",
      "Total energy = 13998.940430 \n",
      "Attach cost = 13926.844727 \n",
      "Deformation cost = 72.094772\n"
     ]
    },
    {
     "name": "stdout",
     "output_type": "stream",
     "text": [
      "================================================================================\n",
      "Iteration: 365 \n",
      "Total energy = 13996.072266 \n",
      "Attach cost = 13923.931641 \n",
      "Deformation cost = 72.140289\n"
     ]
    },
    {
     "name": "stdout",
     "output_type": "stream",
     "text": [
      "================================================================================\n",
      "Iteration: 366 \n",
      "Total energy = 13990.596680 \n",
      "Attach cost = 13918.372070 \n",
      "Deformation cost = 72.224220\n"
     ]
    },
    {
     "name": "stdout",
     "output_type": "stream",
     "text": [
      "================================================================================\n",
      "Iteration: 367 \n",
      "Total energy = 13984.783203 \n",
      "Attach cost = 13912.623047 \n",
      "Deformation cost = 72.160225\n"
     ]
    },
    {
     "name": "stdout",
     "output_type": "stream",
     "text": [
      "================================================================================\n",
      "Iteration: 368 \n",
      "Total energy = 13982.076172 \n",
      "Attach cost = 13909.887695 \n",
      "Deformation cost = 72.186981\n"
     ]
    },
    {
     "name": "stdout",
     "output_type": "stream",
     "text": [
      "================================================================================\n",
      "Iteration: 369 \n",
      "Total energy = 13980.620117 \n",
      "Attach cost = 13908.505859 \n",
      "Deformation cost = 72.112717\n"
     ]
    },
    {
     "name": "stdout",
     "output_type": "stream",
     "text": [
      "================================================================================\n",
      "Iteration: 370 \n",
      "Total energy = 13980.289062 \n",
      "Attach cost = 13908.133789 \n",
      "Deformation cost = 72.154915\n"
     ]
    },
    {
     "name": "stdout",
     "output_type": "stream",
     "text": [
      "================================================================================\n",
      "Iteration: 371 \n",
      "Total energy = 13979.621094 \n",
      "Attach cost = 13907.498047 \n",
      "Deformation cost = 72.121529\n"
     ]
    },
    {
     "name": "stdout",
     "output_type": "stream",
     "text": [
      "================================================================================\n",
      "Iteration: 372 \n",
      "Total energy = 13978.857422 \n",
      "Attach cost = 13906.753906 \n",
      "Deformation cost = 72.104340\n"
     ]
    },
    {
     "name": "stdout",
     "output_type": "stream",
     "text": [
      "================================================================================\n",
      "Iteration: 373 \n",
      "Total energy = 13977.561523 \n",
      "Attach cost = 13905.478516 \n",
      "Deformation cost = 72.083855\n"
     ]
    },
    {
     "name": "stdout",
     "output_type": "stream",
     "text": [
      "================================================================================\n",
      "Iteration: 374 \n",
      "Total energy = 13976.580078 \n",
      "Attach cost = 13904.484375 \n",
      "Deformation cost = 72.095406\n"
     ]
    },
    {
     "name": "stdout",
     "output_type": "stream",
     "text": [
      "================================================================================\n",
      "Iteration: 375 \n",
      "Total energy = 13975.721680 \n",
      "Attach cost = 13903.619141 \n",
      "Deformation cost = 72.102417\n"
     ]
    },
    {
     "name": "stdout",
     "output_type": "stream",
     "text": [
      "================================================================================\n",
      "Iteration: 376 \n",
      "Total energy = 13974.895508 \n",
      "Attach cost = 13902.782227 \n",
      "Deformation cost = 72.112923\n"
     ]
    },
    {
     "name": "stdout",
     "output_type": "stream",
     "text": [
      "================================================================================\n",
      "Iteration: 377 \n",
      "Total energy = 13973.846680 \n",
      "Attach cost = 13901.737305 \n",
      "Deformation cost = 72.107353\n"
     ]
    },
    {
     "name": "stdout",
     "output_type": "stream",
     "text": [
      "================================================================================\n",
      "Iteration: 378 \n",
      "Total energy = 13973.392578 \n",
      "Attach cost = 13901.265625 \n",
      "Deformation cost = 72.128143\n"
     ]
    },
    {
     "name": "stdout",
     "output_type": "stream",
     "text": [
      "================================================================================\n",
      "Iteration: 379 \n",
      "Total energy = 13972.973633 \n",
      "Attach cost = 13900.861328 \n",
      "Deformation cost = 72.113167\n"
     ]
    },
    {
     "name": "stdout",
     "output_type": "stream",
     "text": [
      "================================================================================\n",
      "Iteration: 380 \n",
      "Total energy = 13972.756836 \n",
      "Attach cost = 13900.647461 \n",
      "Deformation cost = 72.107857\n"
     ]
    },
    {
     "name": "stdout",
     "output_type": "stream",
     "text": [
      "================================================================================\n",
      "Iteration: 381 \n",
      "Total energy = 13972.207031 \n",
      "Attach cost = 13900.113281 \n",
      "Deformation cost = 72.092117\n"
     ]
    },
    {
     "name": "stdout",
     "output_type": "stream",
     "text": [
      "================================================================================\n",
      "Iteration: 382 \n",
      "Total energy = 13971.144531 \n",
      "Attach cost = 13899.075195 \n",
      "Deformation cost = 72.067802\n"
     ]
    },
    {
     "name": "stdout",
     "output_type": "stream",
     "text": [
      "================================================================================\n",
      "Iteration: 383 \n",
      "Total energy = 13970.281250 \n",
      "Attach cost = 13898.225586 \n",
      "Deformation cost = 72.054634\n"
     ]
    },
    {
     "name": "stdout",
     "output_type": "stream",
     "text": [
      "================================================================================\n",
      "Iteration: 384 \n",
      "Total energy = 13969.192383 \n",
      "Attach cost = 13897.160156 \n",
      "Deformation cost = 72.032234\n"
     ]
    },
    {
     "name": "stdout",
     "output_type": "stream",
     "text": [
      "================================================================================\n",
      "Iteration: 385 \n",
      "Total energy = 13968.603516 \n",
      "Attach cost = 13896.564453 \n",
      "Deformation cost = 72.037216\n"
     ]
    },
    {
     "name": "stdout",
     "output_type": "stream",
     "text": [
      "================================================================================\n",
      "Iteration: 386 \n",
      "Total energy = 13967.926758 \n",
      "Attach cost = 13895.883789 \n",
      "Deformation cost = 72.041115\n"
     ]
    },
    {
     "name": "stdout",
     "output_type": "stream",
     "text": [
      "================================================================================\n",
      "Iteration: 387 \n",
      "Total energy = 13967.385742 \n",
      "Attach cost = 13895.348633 \n",
      "Deformation cost = 72.036995\n"
     ]
    },
    {
     "name": "stdout",
     "output_type": "stream",
     "text": [
      "================================================================================\n",
      "Iteration: 388 \n",
      "Total energy = 13966.504883 \n",
      "Attach cost = 13894.478516 \n",
      "Deformation cost = 72.027748\n"
     ]
    },
    {
     "name": "stdout",
     "output_type": "stream",
     "text": [
      "================================================================================\n",
      "Iteration: 389 \n",
      "Total energy = 13965.943359 \n",
      "Attach cost = 13893.917969 \n",
      "Deformation cost = 72.025063\n"
     ]
    },
    {
     "name": "stdout",
     "output_type": "stream",
     "text": [
      "================================================================================\n",
      "Iteration: 390 \n",
      "Total energy = 13965.196289 \n",
      "Attach cost = 13893.176758 \n",
      "Deformation cost = 72.018684\n"
     ]
    },
    {
     "name": "stdout",
     "output_type": "stream",
     "text": [
      "================================================================================\n",
      "Iteration: 391 \n",
      "Total energy = 13964.335938 \n",
      "Attach cost = 13892.322266 \n",
      "Deformation cost = 72.014763\n"
     ]
    },
    {
     "name": "stdout",
     "output_type": "stream",
     "text": [
      "================================================================================\n",
      "Iteration: 392 \n",
      "Total energy = 13963.583984 \n",
      "Attach cost = 13891.570312 \n",
      "Deformation cost = 72.015022\n"
     ]
    },
    {
     "name": "stdout",
     "output_type": "stream",
     "text": [
      "================================================================================\n",
      "Iteration: 393 \n",
      "Total energy = 13962.103516 \n",
      "Attach cost = 13890.085938 \n",
      "Deformation cost = 72.018204\n"
     ]
    },
    {
     "name": "stdout",
     "output_type": "stream",
     "text": [
      "================================================================================\n",
      "Iteration: 394 \n",
      "Total energy = 13961.773438 \n",
      "Attach cost = 13889.758789 \n",
      "Deformation cost = 72.014236\n"
     ]
    },
    {
     "name": "stdout",
     "output_type": "stream",
     "text": [
      "================================================================================\n",
      "Iteration: 395 \n",
      "Total energy = 13959.837891 \n",
      "Attach cost = 13887.821289 \n",
      "Deformation cost = 72.016098\n"
     ]
    },
    {
     "name": "stdout",
     "output_type": "stream",
     "text": [
      "================================================================================\n",
      "Iteration: 396 \n",
      "Total energy = 13959.258789 \n",
      "Attach cost = 13887.244141 \n",
      "Deformation cost = 72.013664\n"
     ]
    },
    {
     "name": "stdout",
     "output_type": "stream",
     "text": [
      "================================================================================\n",
      "Iteration: 397 \n",
      "Total energy = 13958.743164 \n",
      "Attach cost = 13886.738281 \n",
      "Deformation cost = 72.004379\n"
     ]
    },
    {
     "name": "stdout",
     "output_type": "stream",
     "text": [
      "================================================================================\n",
      "Iteration: 398 \n",
      "Total energy = 13957.846680 \n",
      "Attach cost = 13885.863281 \n",
      "Deformation cost = 71.983170\n"
     ]
    },
    {
     "name": "stdout",
     "output_type": "stream",
     "text": [
      "================================================================================\n",
      "Iteration: 399 \n",
      "Total energy = 13956.055664 \n",
      "Attach cost = 13884.122070 \n",
      "Deformation cost = 71.933228\n"
     ]
    },
    {
     "name": "stdout",
     "output_type": "stream",
     "text": [
      "================================================================================\n",
      "Iteration: 400 \n",
      "Total energy = 13952.772461 \n",
      "Attach cost = 13880.916016 \n",
      "Deformation cost = 71.858376\n"
     ]
    },
    {
     "name": "stdout",
     "output_type": "stream",
     "text": [
      "================================================================================\n",
      "Iteration: 401 \n",
      "Total energy = 13948.502930 \n",
      "Attach cost = 13876.788086 \n",
      "Deformation cost = 71.713692\n"
     ]
    },
    {
     "name": "stdout",
     "output_type": "stream",
     "text": [
      "================================================================================\n",
      "Iteration: 402 \n",
      "Total energy = 13945.581055 \n",
      "Attach cost = 13873.936523 \n",
      "Deformation cost = 71.644157\n"
     ]
    },
    {
     "name": "stdout",
     "output_type": "stream",
     "text": [
      "================================================================================\n",
      "Iteration: 403 \n",
      "Total energy = 13942.850586 \n",
      "Attach cost = 13871.188477 \n",
      "Deformation cost = 71.663780\n"
     ]
    },
    {
     "name": "stdout",
     "output_type": "stream",
     "text": [
      "================================================================================\n",
      "Iteration: 404 \n",
      "Total energy = 13938.377930 \n",
      "Attach cost = 13866.765625 \n",
      "Deformation cost = 71.613632\n"
     ]
    },
    {
     "name": "stdout",
     "output_type": "stream",
     "text": [
      "================================================================================\n",
      "Iteration: 405 \n",
      "Total energy = 13934.163086 \n",
      "Attach cost = 13862.640625 \n",
      "Deformation cost = 71.522171\n"
     ]
    },
    {
     "name": "stdout",
     "output_type": "stream",
     "text": [
      "================================================================================\n",
      "Iteration: 406 \n",
      "Total energy = 13928.982422 \n",
      "Attach cost = 13857.629883 \n",
      "Deformation cost = 71.353004\n"
     ]
    },
    {
     "name": "stdout",
     "output_type": "stream",
     "text": [
      "================================================================================\n",
      "Iteration: 407 \n",
      "Total energy = 13926.774414 \n",
      "Attach cost = 13855.491211 \n",
      "Deformation cost = 71.283691\n"
     ]
    },
    {
     "name": "stdout",
     "output_type": "stream",
     "text": [
      "================================================================================\n",
      "Iteration: 408 \n",
      "Total energy = 13923.489258 \n",
      "Attach cost = 13852.299805 \n",
      "Deformation cost = 71.188744\n"
     ]
    },
    {
     "name": "stdout",
     "output_type": "stream",
     "text": [
      "================================================================================\n",
      "Iteration: 409 \n",
      "Total energy = 13920.592773 \n",
      "Attach cost = 13849.455078 \n",
      "Deformation cost = 71.136963\n"
     ]
    },
    {
     "name": "stdout",
     "output_type": "stream",
     "text": [
      "================================================================================\n",
      "Iteration: 410 \n",
      "Total energy = 13915.926758 \n",
      "Attach cost = 13844.788086 \n",
      "Deformation cost = 71.139565\n"
     ]
    },
    {
     "name": "stdout",
     "output_type": "stream",
     "text": [
      "================================================================================\n",
      "Iteration: 411 \n",
      "Total energy = 13913.031250 \n",
      "Attach cost = 13841.794922 \n",
      "Deformation cost = 71.236259\n"
     ]
    },
    {
     "name": "stdout",
     "output_type": "stream",
     "text": [
      "================================================================================\n",
      "Iteration: 412 \n",
      "Total energy = 13908.123047 \n",
      "Attach cost = 13836.820312 \n",
      "Deformation cost = 71.304001\n"
     ]
    },
    {
     "name": "stdout",
     "output_type": "stream",
     "text": [
      "================================================================================\n",
      "Iteration: 413 \n",
      "Total energy = 13906.001953 \n",
      "Attach cost = 13834.638672 \n",
      "Deformation cost = 71.363853\n"
     ]
    },
    {
     "name": "stdout",
     "output_type": "stream",
     "text": [
      "================================================================================\n",
      "Iteration: 414 \n",
      "Total energy = 13903.741211 \n",
      "Attach cost = 13832.271484 \n",
      "Deformation cost = 71.470352\n"
     ]
    },
    {
     "name": "stdout",
     "output_type": "stream",
     "text": [
      "================================================================================\n",
      "Iteration: 415 \n",
      "Total energy = 13901.670898 \n",
      "Attach cost = 13830.157227 \n",
      "Deformation cost = 71.514320\n"
     ]
    },
    {
     "name": "stdout",
     "output_type": "stream",
     "text": [
      "================================================================================\n",
      "Iteration: 416 \n",
      "Total energy = 13898.159180 \n",
      "Attach cost = 13826.617188 \n",
      "Deformation cost = 71.540733\n"
     ]
    },
    {
     "name": "stdout",
     "output_type": "stream",
     "text": [
      "================================================================================\n",
      "Iteration: 417 \n",
      "Total energy = 13890.531250 \n",
      "Attach cost = 13819.010742 \n",
      "Deformation cost = 71.519920\n"
     ]
    },
    {
     "name": "stdout",
     "output_type": "stream",
     "text": [
      "================================================================================\n",
      "Iteration: 418 \n",
      "Total energy = 13888.243164 \n",
      "Attach cost = 13816.790039 \n",
      "Deformation cost = 71.453331\n"
     ]
    },
    {
     "name": "stdout",
     "output_type": "stream",
     "text": [
      "================================================================================\n",
      "Iteration: 419 \n",
      "Total energy = 13887.196289 \n",
      "Attach cost = 13815.782227 \n",
      "Deformation cost = 71.413406\n"
     ]
    },
    {
     "name": "stdout",
     "output_type": "stream",
     "text": [
      "================================================================================\n",
      "Iteration: 420 \n",
      "Total energy = 13885.833008 \n",
      "Attach cost = 13814.464844 \n",
      "Deformation cost = 71.367332\n"
     ]
    },
    {
     "name": "stdout",
     "output_type": "stream",
     "text": [
      "================================================================================\n",
      "Iteration: 421 \n",
      "Total energy = 13883.288086 \n",
      "Attach cost = 13811.946289 \n",
      "Deformation cost = 71.342148\n"
     ]
    },
    {
     "name": "stdout",
     "output_type": "stream",
     "text": [
      "================================================================================\n",
      "Iteration: 422 \n",
      "Total energy = 13882.075195 \n",
      "Attach cost = 13810.700195 \n",
      "Deformation cost = 71.377220\n"
     ]
    },
    {
     "name": "stdout",
     "output_type": "stream",
     "text": [
      "================================================================================\n",
      "Iteration: 423 \n",
      "Total energy = 13877.005859 \n",
      "Attach cost = 13805.604492 \n",
      "Deformation cost = 71.401886\n"
     ]
    },
    {
     "name": "stdout",
     "output_type": "stream",
     "text": [
      "================================================================================\n",
      "Iteration: 424 \n",
      "Total energy = 13876.304688 \n",
      "Attach cost = 13804.894531 \n",
      "Deformation cost = 71.410690\n"
     ]
    },
    {
     "name": "stdout",
     "output_type": "stream",
     "text": [
      "================================================================================\n",
      "Iteration: 425 \n",
      "Total energy = 13869.564453 \n",
      "Attach cost = 13798.017578 \n",
      "Deformation cost = 71.545227\n"
     ]
    },
    {
     "name": "stdout",
     "output_type": "stream",
     "text": [
      "================================================================================\n",
      "Iteration: 426 \n",
      "Total energy = 13866.087891 \n",
      "Attach cost = 13794.503906 \n",
      "Deformation cost = 71.584793\n"
     ]
    },
    {
     "name": "stdout",
     "output_type": "stream",
     "text": [
      "================================================================================\n",
      "Iteration: 427 \n",
      "Total energy = 13860.559570 \n",
      "Attach cost = 13788.883789 \n",
      "Deformation cost = 71.677437\n"
     ]
    },
    {
     "name": "stdout",
     "output_type": "stream",
     "text": [
      "================================================================================\n",
      "Iteration: 428 \n",
      "Total energy = 13843.527344 \n",
      "Attach cost = 13771.373047 \n",
      "Deformation cost = 72.154121\n"
     ]
    },
    {
     "name": "stdout",
     "output_type": "stream",
     "text": [
      "================================================================================\n",
      "Iteration: 429 \n",
      "Total energy = 13830.349609 \n",
      "Attach cost = 13757.880859 \n",
      "Deformation cost = 72.468925\n"
     ]
    },
    {
     "name": "stdout",
     "output_type": "stream",
     "text": [
      "================================================================================\n",
      "Iteration: 430 \n",
      "Total energy = 13826.227539 \n",
      "Attach cost = 13753.639648 \n",
      "Deformation cost = 72.588531\n"
     ]
    },
    {
     "name": "stdout",
     "output_type": "stream",
     "text": [
      "================================================================================\n",
      "Iteration: 431 \n",
      "Total energy = 13820.641602 \n",
      "Attach cost = 13747.919922 \n",
      "Deformation cost = 72.722084\n"
     ]
    },
    {
     "name": "stdout",
     "output_type": "stream",
     "text": [
      "================================================================================\n",
      "Iteration: 432 \n",
      "Total energy = 13818.916016 \n",
      "Attach cost = 13746.152344 \n",
      "Deformation cost = 72.763199\n"
     ]
    },
    {
     "name": "stdout",
     "output_type": "stream",
     "text": [
      "================================================================================\n",
      "Iteration: 433 \n",
      "Total energy = 13817.441406 \n",
      "Attach cost = 13744.687500 \n",
      "Deformation cost = 72.755516\n"
     ]
    },
    {
     "name": "stdout",
     "output_type": "stream",
     "text": [
      "================================================================================\n",
      "Iteration: 434 \n",
      "Total energy = 13813.111328 \n",
      "Attach cost = 13740.286133 \n",
      "Deformation cost = 72.825066\n"
     ]
    },
    {
     "name": "stdout",
     "output_type": "stream",
     "text": [
      "================================================================================\n",
      "Iteration: 435 \n",
      "Total energy = 13805.202148 \n",
      "Attach cost = 13732.305664 \n",
      "Deformation cost = 72.896011\n"
     ]
    },
    {
     "name": "stdout",
     "output_type": "stream",
     "text": [
      "================================================================================\n",
      "Iteration: 436 \n",
      "Total energy = 13800.722656 \n",
      "Attach cost = 13727.897461 \n",
      "Deformation cost = 72.825401\n"
     ]
    },
    {
     "name": "stdout",
     "output_type": "stream",
     "text": [
      "================================================================================\n",
      "Iteration: 437 \n",
      "Total energy = 13799.077148 \n",
      "Attach cost = 13726.306641 \n",
      "Deformation cost = 72.772728\n"
     ]
    },
    {
     "name": "stdout",
     "output_type": "stream",
     "text": [
      "================================================================================\n",
      "Iteration: 438 \n",
      "Total energy = 13798.359375 \n",
      "Attach cost = 13725.574219 \n",
      "Deformation cost = 72.785851\n"
     ]
    },
    {
     "name": "stdout",
     "output_type": "stream",
     "text": [
      "================================================================================\n",
      "Iteration: 439 \n",
      "Total energy = 13797.786133 \n",
      "Attach cost = 13725.020508 \n",
      "Deformation cost = 72.765556\n"
     ]
    },
    {
     "name": "stdout",
     "output_type": "stream",
     "text": [
      "================================================================================\n",
      "Iteration: 440 \n",
      "Total energy = 13797.085938 \n",
      "Attach cost = 13724.326172 \n",
      "Deformation cost = 72.759399\n"
     ]
    },
    {
     "name": "stdout",
     "output_type": "stream",
     "text": [
      "================================================================================\n",
      "Iteration: 441 \n",
      "Total energy = 13795.566406 \n",
      "Attach cost = 13722.797852 \n",
      "Deformation cost = 72.769936\n"
     ]
    },
    {
     "name": "stdout",
     "output_type": "stream",
     "text": [
      "================================================================================\n",
      "Iteration: 442 \n",
      "Total energy = 13794.180664 \n",
      "Attach cost = 13721.382812 \n",
      "Deformation cost = 72.797440\n"
     ]
    },
    {
     "name": "stdout",
     "output_type": "stream",
     "text": [
      "================================================================================\n",
      "Iteration: 443 \n",
      "Total energy = 13792.980469 \n",
      "Attach cost = 13720.135742 \n",
      "Deformation cost = 72.843903\n"
     ]
    },
    {
     "name": "stdout",
     "output_type": "stream",
     "text": [
      "================================================================================\n",
      "Iteration: 444 \n",
      "Total energy = 13792.620117 \n",
      "Attach cost = 13719.758789 \n",
      "Deformation cost = 72.860550\n"
     ]
    },
    {
     "name": "stdout",
     "output_type": "stream",
     "text": [
      "================================================================================\n",
      "Iteration: 445 \n",
      "Total energy = 13792.384766 \n",
      "Attach cost = 13719.529297 \n",
      "Deformation cost = 72.855591\n"
     ]
    },
    {
     "name": "stdout",
     "output_type": "stream",
     "text": [
      "================================================================================\n",
      "Iteration: 446 \n",
      "Total energy = 13792.256836 \n",
      "Attach cost = 13719.397461 \n",
      "Deformation cost = 72.860817\n"
     ]
    },
    {
     "name": "stdout",
     "output_type": "stream",
     "text": [
      "================================================================================\n",
      "Iteration: 447 \n",
      "Total energy = 13791.796875 \n",
      "Attach cost = 13718.907227 \n",
      "Deformation cost = 72.888916\n"
     ]
    },
    {
     "name": "stdout",
     "output_type": "stream",
     "text": [
      "================================================================================\n",
      "Iteration: 448 \n",
      "Total energy = 13791.089844 \n",
      "Attach cost = 13718.140625 \n",
      "Deformation cost = 72.949837\n"
     ]
    },
    {
     "name": "stdout",
     "output_type": "stream",
     "text": [
      "================================================================================\n",
      "Iteration: 449 \n",
      "Total energy = 13790.269531 \n",
      "Attach cost = 13717.224609 \n",
      "Deformation cost = 73.047180\n"
     ]
    },
    {
     "name": "stdout",
     "output_type": "stream",
     "text": [
      "================================================================================\n",
      "Iteration: 450 \n",
      "Total energy = 13789.894531 \n",
      "Attach cost = 13716.793945 \n",
      "Deformation cost = 73.100433\n"
     ]
    },
    {
     "name": "stdout",
     "output_type": "stream",
     "text": [
      "================================================================================\n",
      "Iteration: 451 \n",
      "Total energy = 13789.668945 \n",
      "Attach cost = 13716.559570 \n",
      "Deformation cost = 73.111107\n"
     ]
    },
    {
     "name": "stdout",
     "output_type": "stream",
     "text": [
      "================================================================================\n",
      "Iteration: 452 \n",
      "Total energy = 13789.558594 \n",
      "Attach cost = 13716.450195 \n",
      "Deformation cost = 73.108932\n"
     ]
    },
    {
     "name": "stdout",
     "output_type": "stream",
     "text": [
      "================================================================================\n",
      "Iteration: 453 \n",
      "Total energy = 13789.460938 \n",
      "Attach cost = 13716.354492 \n",
      "Deformation cost = 73.106270\n"
     ]
    },
    {
     "name": "stdout",
     "output_type": "stream",
     "text": [
      "================================================================================\n",
      "Iteration: 454 \n",
      "Total energy = 13789.105469 \n",
      "Attach cost = 13716.007812 \n",
      "Deformation cost = 73.098419\n"
     ]
    },
    {
     "name": "stdout",
     "output_type": "stream",
     "text": [
      "================================================================================\n",
      "Iteration: 455 \n",
      "Total energy = 13788.715820 \n",
      "Attach cost = 13715.622070 \n",
      "Deformation cost = 73.094276\n"
     ]
    },
    {
     "name": "stdout",
     "output_type": "stream",
     "text": [
      "================================================================================\n",
      "Iteration: 456 \n",
      "Total energy = 13788.289062 \n",
      "Attach cost = 13715.196289 \n",
      "Deformation cost = 73.090813\n"
     ]
    },
    {
     "name": "stdout",
     "output_type": "stream",
     "text": [
      "================================================================================\n",
      "Iteration: 457 \n",
      "Total energy = 13788.005859 \n",
      "Attach cost = 13714.905273 \n",
      "Deformation cost = 73.099617\n"
     ]
    },
    {
     "name": "stdout",
     "output_type": "stream",
     "text": [
      "================================================================================\n",
      "Iteration: 458 \n",
      "Total energy = 13787.879883 \n",
      "Attach cost = 13714.773438 \n",
      "Deformation cost = 73.105949\n"
     ]
    },
    {
     "name": "stdout",
     "output_type": "stream",
     "text": [
      "================================================================================\n",
      "Iteration: 459 \n",
      "Total energy = 13787.777344 \n",
      "Attach cost = 13714.665039 \n",
      "Deformation cost = 73.112137\n"
     ]
    },
    {
     "name": "stdout",
     "output_type": "stream",
     "text": [
      "================================================================================\n",
      "Iteration: 460 \n",
      "Total energy = 13787.411133 \n",
      "Attach cost = 13714.275391 \n",
      "Deformation cost = 73.136330\n"
     ]
    },
    {
     "name": "stdout",
     "output_type": "stream",
     "text": [
      "================================================================================\n",
      "Iteration: 461 \n",
      "Total energy = 13786.782227 \n",
      "Attach cost = 13713.601562 \n",
      "Deformation cost = 73.179955\n"
     ]
    },
    {
     "name": "stdout",
     "output_type": "stream",
     "text": [
      "================================================================================\n",
      "Iteration: 462 \n",
      "Total energy = 13785.812500 \n",
      "Attach cost = 13712.546875 \n",
      "Deformation cost = 73.264000\n"
     ]
    },
    {
     "name": "stdout",
     "output_type": "stream",
     "text": [
      "================================================================================\n",
      "Iteration: 463 \n",
      "Total energy = 13785.263672 \n",
      "Attach cost = 13711.860352 \n",
      "Deformation cost = 73.402512\n"
     ]
    },
    {
     "name": "stdout",
     "output_type": "stream",
     "text": [
      "================================================================================\n",
      "Iteration: 464 \n",
      "Total energy = 13784.453125 \n",
      "Attach cost = 13711.088867 \n",
      "Deformation cost = 73.364197\n"
     ]
    },
    {
     "name": "stdout",
     "output_type": "stream",
     "text": [
      "================================================================================\n",
      "Iteration: 465 \n",
      "Total energy = 13784.138672 \n",
      "Attach cost = 13710.784180 \n",
      "Deformation cost = 73.355667\n"
     ]
    },
    {
     "name": "stdout",
     "output_type": "stream",
     "text": [
      "================================================================================\n",
      "Iteration: 466 \n",
      "Total energy = 13783.830078 \n",
      "Attach cost = 13710.473633 \n",
      "Deformation cost = 73.356674\n"
     ]
    },
    {
     "name": "stdout",
     "output_type": "stream",
     "text": [
      "================================================================================\n",
      "Iteration: 467 \n",
      "Total energy = 13783.259766 \n",
      "Attach cost = 13709.895508 \n",
      "Deformation cost = 73.364265\n"
     ]
    },
    {
     "name": "stdout",
     "output_type": "stream",
     "text": [
      "================================================================================\n",
      "Iteration: 468 \n",
      "Total energy = 13782.619141 \n",
      "Attach cost = 13709.217773 \n",
      "Deformation cost = 73.400024\n"
     ]
    },
    {
     "name": "stdout",
     "output_type": "stream",
     "text": [
      "================================================================================\n",
      "Iteration: 469 \n",
      "Total energy = 13781.826172 \n",
      "Attach cost = 13708.415039 \n",
      "Deformation cost = 73.410408\n"
     ]
    },
    {
     "name": "stdout",
     "output_type": "stream",
     "text": [
      "================================================================================\n",
      "Iteration: 470 \n",
      "Total energy = 13781.351562 \n",
      "Attach cost = 13707.927734 \n",
      "Deformation cost = 73.423836\n"
     ]
    },
    {
     "name": "stdout",
     "output_type": "stream",
     "text": [
      "================================================================================\n",
      "Iteration: 471 \n",
      "Total energy = 13781.208984 \n",
      "Attach cost = 13707.772461 \n",
      "Deformation cost = 73.437698\n"
     ]
    },
    {
     "name": "stdout",
     "output_type": "stream",
     "text": [
      "================================================================================\n",
      "Iteration: 472 \n",
      "Total energy = 13781.095703 \n",
      "Attach cost = 13707.652344 \n",
      "Deformation cost = 73.443062\n"
     ]
    },
    {
     "name": "stdout",
     "output_type": "stream",
     "text": [
      "================================================================================\n",
      "Iteration: 473 \n",
      "Total energy = 13780.866211 \n",
      "Attach cost = 13707.412109 \n",
      "Deformation cost = 73.452728\n"
     ]
    },
    {
     "name": "stdout",
     "output_type": "stream",
     "text": [
      "================================================================================\n",
      "Iteration: 474 \n",
      "Total energy = 13779.966797 \n",
      "Attach cost = 13706.481445 \n",
      "Deformation cost = 73.487091\n"
     ]
    },
    {
     "name": "stdout",
     "output_type": "stream",
     "text": [
      "================================================================================\n",
      "Iteration: 475 \n",
      "Total energy = 13778.882812 \n",
      "Attach cost = 13705.350586 \n",
      "Deformation cost = 73.533661\n"
     ]
    },
    {
     "name": "stdout",
     "output_type": "stream",
     "text": [
      "================================================================================\n",
      "Iteration: 476 \n",
      "Total energy = 13778.562500 \n",
      "Attach cost = 13705.025391 \n",
      "Deformation cost = 73.538475\n"
     ]
    },
    {
     "name": "stdout",
     "output_type": "stream",
     "text": [
      "================================================================================\n",
      "Iteration: 477 \n",
      "Total energy = 13777.778320 \n",
      "Attach cost = 13704.214844 \n",
      "Deformation cost = 73.562576\n"
     ]
    },
    {
     "name": "stdout",
     "output_type": "stream",
     "text": [
      "================================================================================\n",
      "Iteration: 478 \n",
      "Total energy = 13777.463867 \n",
      "Attach cost = 13703.899414 \n",
      "Deformation cost = 73.565018\n"
     ]
    },
    {
     "name": "stdout",
     "output_type": "stream",
     "text": [
      "================================================================================\n",
      "Iteration: 479 \n",
      "Total energy = 13777.305664 \n",
      "Attach cost = 13703.746094 \n",
      "Deformation cost = 73.559570\n"
     ]
    },
    {
     "name": "stdout",
     "output_type": "stream",
     "text": [
      "================================================================================\n",
      "Iteration: 480 \n",
      "Total energy = 13777.035156 \n",
      "Attach cost = 13703.480469 \n",
      "Deformation cost = 73.553452\n"
     ]
    },
    {
     "name": "stdout",
     "output_type": "stream",
     "text": [
      "================================================================================\n",
      "Iteration: 481 \n",
      "Total energy = 13776.422852 \n",
      "Attach cost = 13702.872070 \n",
      "Deformation cost = 73.552322\n"
     ]
    },
    {
     "name": "stdout",
     "output_type": "stream",
     "text": [
      "================================================================================\n",
      "Iteration: 482 \n",
      "Total energy = 13775.323242 \n",
      "Attach cost = 13701.755859 \n",
      "Deformation cost = 73.567871\n"
     ]
    },
    {
     "name": "stdout",
     "output_type": "stream",
     "text": [
      "================================================================================\n",
      "Iteration: 483 \n",
      "Total energy = 13774.766602 \n",
      "Attach cost = 13701.174805 \n",
      "Deformation cost = 73.590530\n"
     ]
    },
    {
     "name": "stdout",
     "output_type": "stream",
     "text": [
      "================================================================================\n",
      "Iteration: 484 \n",
      "Total energy = 13773.578125 \n",
      "Attach cost = 13699.945312 \n",
      "Deformation cost = 73.632622\n"
     ]
    },
    {
     "name": "stdout",
     "output_type": "stream",
     "text": [
      "================================================================================\n",
      "Iteration: 485 \n",
      "Total energy = 13773.007812 \n",
      "Attach cost = 13699.338867 \n",
      "Deformation cost = 73.670555\n"
     ]
    },
    {
     "name": "stdout",
     "output_type": "stream",
     "text": [
      "================================================================================\n",
      "Iteration: 486 \n",
      "Total energy = 13772.737305 \n",
      "Attach cost = 13699.046875 \n",
      "Deformation cost = 73.691132\n"
     ]
    },
    {
     "name": "stdout",
     "output_type": "stream",
     "text": [
      "================================================================================\n",
      "Iteration: 487 \n",
      "Total energy = 13772.436523 \n",
      "Attach cost = 13698.721680 \n",
      "Deformation cost = 73.714607\n"
     ]
    },
    {
     "name": "stdout",
     "output_type": "stream",
     "text": [
      "================================================================================\n",
      "Iteration: 488 \n",
      "Total energy = 13771.620117 \n",
      "Attach cost = 13697.842773 \n",
      "Deformation cost = 73.778503\n"
     ]
    },
    {
     "name": "stdout",
     "output_type": "stream",
     "text": [
      "================================================================================\n",
      "Iteration: 489 \n",
      "Total energy = 13771.050781 \n",
      "Attach cost = 13697.195312 \n",
      "Deformation cost = 73.855438\n"
     ]
    },
    {
     "name": "stdout",
     "output_type": "stream",
     "text": [
      "================================================================================\n",
      "Iteration: 490 \n",
      "Total energy = 13770.064453 \n",
      "Attach cost = 13696.139648 \n",
      "Deformation cost = 73.923592\n"
     ]
    },
    {
     "name": "stdout",
     "output_type": "stream",
     "text": [
      "================================================================================\n",
      "Iteration: 491 \n",
      "Total energy = 13769.383789 \n",
      "Attach cost = 13695.417969 \n",
      "Deformation cost = 73.966148\n"
     ]
    },
    {
     "name": "stdout",
     "output_type": "stream",
     "text": [
      "================================================================================\n",
      "Iteration: 492 \n",
      "Total energy = 13769.141602 \n",
      "Attach cost = 13695.167969 \n",
      "Deformation cost = 73.973900\n"
     ]
    },
    {
     "name": "stdout",
     "output_type": "stream",
     "text": [
      "================================================================================\n",
      "Iteration: 493 \n",
      "Total energy = 13768.830078 \n",
      "Attach cost = 13694.856445 \n",
      "Deformation cost = 73.972794\n"
     ]
    },
    {
     "name": "stdout",
     "output_type": "stream",
     "text": [
      "================================================================================\n",
      "Iteration: 494 \n",
      "Total energy = 13768.225586 \n",
      "Attach cost = 13694.244141 \n",
      "Deformation cost = 73.981689\n"
     ]
    },
    {
     "name": "stdout",
     "output_type": "stream",
     "text": [
      "================================================================================\n",
      "Iteration: 495 \n",
      "Total energy = 13767.536133 \n",
      "Attach cost = 13693.513672 \n",
      "Deformation cost = 74.020653\n"
     ]
    },
    {
     "name": "stdout",
     "output_type": "stream",
     "text": [
      "================================================================================\n",
      "Iteration: 496 \n",
      "Total energy = 13766.660156 \n",
      "Attach cost = 13692.617188 \n",
      "Deformation cost = 74.041901\n"
     ]
    },
    {
     "name": "stdout",
     "output_type": "stream",
     "text": [
      "================================================================================\n",
      "Iteration: 497 \n",
      "Total energy = 13766.030273 \n",
      "Attach cost = 13691.956055 \n",
      "Deformation cost = 74.074760\n"
     ]
    },
    {
     "name": "stdout",
     "output_type": "stream",
     "text": [
      "================================================================================\n",
      "Iteration: 498 \n",
      "Total energy = 13765.571289 \n",
      "Attach cost = 13691.468750 \n",
      "Deformation cost = 74.102028\n"
     ]
    },
    {
     "name": "stdout",
     "output_type": "stream",
     "text": [
      "================================================================================\n",
      "Iteration: 499 \n",
      "Total energy = 13764.740234 \n",
      "Attach cost = 13690.577148 \n",
      "Deformation cost = 74.162910\n"
     ]
    },
    {
     "name": "stdout",
     "output_type": "stream",
     "text": [
      "================================================================================\n",
      "Iteration: 500 \n",
      "Total energy = 13763.491211 \n",
      "Attach cost = 13689.275391 \n",
      "Deformation cost = 74.214806\n"
     ]
    },
    {
     "name": "stdout",
     "output_type": "stream",
     "text": [
      "================================================================================\n",
      "Iteration: 501 \n",
      "Total energy = 13761.892578 \n",
      "Attach cost = 13687.612305 \n",
      "Deformation cost = 74.281067\n"
     ]
    },
    {
     "name": "stdout",
     "output_type": "stream",
     "text": [
      "================================================================================\n",
      "Iteration: 502 \n",
      "Total energy = 13761.573242 \n",
      "Attach cost = 13687.256836 \n",
      "Deformation cost = 74.316391\n"
     ]
    },
    {
     "name": "stdout",
     "output_type": "stream",
     "text": [
      "================================================================================\n",
      "Iteration: 503 \n",
      "Total energy = 13761.105469 \n",
      "Attach cost = 13686.795898 \n",
      "Deformation cost = 74.308846\n"
     ]
    },
    {
     "name": "stdout",
     "output_type": "stream",
     "text": [
      "================================================================================\n",
      "Iteration: 504 \n",
      "Total energy = 13760.935547 \n",
      "Attach cost = 13686.635742 \n",
      "Deformation cost = 74.301010\n"
     ]
    },
    {
     "name": "stdout",
     "output_type": "stream",
     "text": [
      "================================================================================\n",
      "Iteration: 505 \n",
      "Total energy = 13760.001953 \n",
      "Attach cost = 13685.712891 \n",
      "Deformation cost = 74.289131\n"
     ]
    },
    {
     "name": "stdout",
     "output_type": "stream",
     "text": [
      "================================================================================\n",
      "Iteration: 506 \n",
      "Total energy = 13759.392578 \n",
      "Attach cost = 13685.042969 \n",
      "Deformation cost = 74.348366\n"
     ]
    },
    {
     "name": "stdout",
     "output_type": "stream",
     "text": [
      "================================================================================\n",
      "Iteration: 507 \n",
      "Total energy = 13758.344727 \n",
      "Attach cost = 13683.982422 \n",
      "Deformation cost = 74.360863\n"
     ]
    },
    {
     "name": "stdout",
     "output_type": "stream",
     "text": [
      "================================================================================\n",
      "Iteration: 508 \n",
      "Total energy = 13757.918945 \n",
      "Attach cost = 13683.516602 \n",
      "Deformation cost = 74.402237\n"
     ]
    },
    {
     "name": "stdout",
     "output_type": "stream",
     "text": [
      "================================================================================\n",
      "Iteration: 509 \n",
      "Total energy = 13757.759766 \n",
      "Attach cost = 13683.328125 \n",
      "Deformation cost = 74.432922\n"
     ]
    },
    {
     "name": "stdout",
     "output_type": "stream",
     "text": [
      "================================================================================\n",
      "Iteration: 510 \n",
      "Total energy = 13757.524414 \n",
      "Attach cost = 13683.052734 \n",
      "Deformation cost = 74.472023\n"
     ]
    },
    {
     "name": "stdout",
     "output_type": "stream",
     "text": [
      "================================================================================\n",
      "Iteration: 511 \n",
      "Total energy = 13757.249023 \n",
      "Attach cost = 13682.730469 \n",
      "Deformation cost = 74.518944\n"
     ]
    },
    {
     "name": "stdout",
     "output_type": "stream",
     "text": [
      "================================================================================\n",
      "Iteration: 512 \n",
      "Total energy = 13756.793945 \n",
      "Attach cost = 13682.233398 \n",
      "Deformation cost = 74.559319\n"
     ]
    },
    {
     "name": "stdout",
     "output_type": "stream",
     "text": [
      "================================================================================\n",
      "Iteration: 513 \n",
      "Total energy = 13756.227539 \n",
      "Attach cost = 13681.625000 \n",
      "Deformation cost = 74.601349\n"
     ]
    },
    {
     "name": "stdout",
     "output_type": "stream",
     "text": [
      "================================================================================\n",
      "Iteration: 514 \n",
      "Total energy = 13756.174805 \n",
      "Attach cost = 13681.568359 \n",
      "Deformation cost = 74.606133\n"
     ]
    },
    {
     "name": "stdout",
     "output_type": "stream",
     "text": [
      "================================================================================\n",
      "Iteration: 515 \n",
      "Total energy = 13755.992188 \n",
      "Attach cost = 13681.396484 \n",
      "Deformation cost = 74.596291\n"
     ]
    },
    {
     "name": "stdout",
     "output_type": "stream",
     "text": [
      "================================================================================\n",
      "Iteration: 516 \n",
      "Total energy = 13755.916016 \n",
      "Attach cost = 13681.328125 \n",
      "Deformation cost = 74.587845\n"
     ]
    },
    {
     "name": "stdout",
     "output_type": "stream",
     "text": [
      "================================================================================\n",
      "Iteration: 517 \n",
      "Total energy = 13755.724609 \n",
      "Attach cost = 13681.149414 \n",
      "Deformation cost = 74.573639\n"
     ]
    },
    {
     "name": "stdout",
     "output_type": "stream",
     "text": [
      "================================================================================\n",
      "Iteration: 518 \n",
      "Total energy = 13755.372070 \n",
      "Attach cost = 13680.806641 \n",
      "Deformation cost = 74.565010\n"
     ]
    },
    {
     "name": "stdout",
     "output_type": "stream",
     "text": [
      "================================================================================\n",
      "Iteration: 519 \n",
      "Total energy = 13754.814453 \n",
      "Attach cost = 13680.250977 \n",
      "Deformation cost = 74.561134\n"
     ]
    },
    {
     "name": "stdout",
     "output_type": "stream",
     "text": [
      "================================================================================\n",
      "Iteration: 520 \n",
      "Total energy = 13754.246094 \n",
      "Attach cost = 13679.655273 \n",
      "Deformation cost = 74.590065\n"
     ]
    },
    {
     "name": "stdout",
     "output_type": "stream",
     "text": [
      "================================================================================\n",
      "Iteration: 521 \n",
      "Total energy = 13753.854492 \n",
      "Attach cost = 13679.241211 \n",
      "Deformation cost = 74.611977\n"
     ]
    },
    {
     "name": "stdout",
     "output_type": "stream",
     "text": [
      "================================================================================\n",
      "Iteration: 522 \n",
      "Total energy = 13753.611328 \n",
      "Attach cost = 13678.968750 \n",
      "Deformation cost = 74.643486\n"
     ]
    },
    {
     "name": "stdout",
     "output_type": "stream",
     "text": [
      "================================================================================\n",
      "Iteration: 523 \n",
      "Total energy = 13753.491211 \n",
      "Attach cost = 13678.837891 \n",
      "Deformation cost = 74.653488\n"
     ]
    },
    {
     "name": "stdout",
     "output_type": "stream",
     "text": [
      "================================================================================\n",
      "Iteration: 524 \n",
      "Total energy = 13752.779297 \n",
      "Attach cost = 13678.079102 \n",
      "Deformation cost = 74.700592\n"
     ]
    },
    {
     "name": "stdout",
     "output_type": "stream",
     "text": [
      "================================================================================\n",
      "Iteration: 525 \n",
      "Total energy = 13752.084961 \n",
      "Attach cost = 13677.338867 \n",
      "Deformation cost = 74.745811\n"
     ]
    },
    {
     "name": "stdout",
     "output_type": "stream",
     "text": [
      "================================================================================\n",
      "Iteration: 526 \n",
      "Total energy = 13751.101562 \n",
      "Attach cost = 13676.375977 \n",
      "Deformation cost = 74.726280\n"
     ]
    },
    {
     "name": "stdout",
     "output_type": "stream",
     "text": [
      "================================================================================\n",
      "Iteration: 527 \n",
      "Total energy = 13749.002930 \n",
      "Attach cost = 13674.380859 \n",
      "Deformation cost = 74.622040\n"
     ]
    },
    {
     "name": "stdout",
     "output_type": "stream",
     "text": [
      "================================================================================\n",
      "Iteration: 528 \n",
      "Total energy = 13748.802734 \n",
      "Attach cost = 13674.226562 \n",
      "Deformation cost = 74.574768\n"
     ]
    },
    {
     "name": "stdout",
     "output_type": "stream",
     "text": [
      "================================================================================\n",
      "Iteration: 529 \n",
      "Total energy = 13748.223633 \n",
      "Attach cost = 13673.651367 \n",
      "Deformation cost = 74.572647\n"
     ]
    },
    {
     "name": "stdout",
     "output_type": "stream",
     "text": [
      "================================================================================\n",
      "Iteration: 530 \n",
      "Total energy = 13747.607422 \n",
      "Attach cost = 13673.043945 \n",
      "Deformation cost = 74.564690\n"
     ]
    },
    {
     "name": "stdout",
     "output_type": "stream",
     "text": [
      "================================================================================\n",
      "Iteration: 531 \n",
      "Total energy = 13746.905273 \n",
      "Attach cost = 13672.349609 \n",
      "Deformation cost = 74.556671\n"
     ]
    },
    {
     "name": "stdout",
     "output_type": "stream",
     "text": [
      "================================================================================\n",
      "Iteration: 532 \n",
      "Total energy = 13745.805664 \n",
      "Attach cost = 13671.239258 \n",
      "Deformation cost = 74.566498\n"
     ]
    },
    {
     "name": "stdout",
     "output_type": "stream",
     "text": [
      "================================================================================\n",
      "Iteration: 533 \n",
      "Total energy = 13744.783203 \n",
      "Attach cost = 13670.171875 \n",
      "Deformation cost = 74.611977\n"
     ]
    },
    {
     "name": "stdout",
     "output_type": "stream",
     "text": [
      "================================================================================\n",
      "Iteration: 534 \n",
      "Total energy = 13742.829102 \n",
      "Attach cost = 13668.141602 \n",
      "Deformation cost = 74.686699\n"
     ]
    },
    {
     "name": "stdout",
     "output_type": "stream",
     "text": [
      "================================================================================\n",
      "Iteration: 535 \n",
      "Total energy = 13741.769531 \n",
      "Attach cost = 13667.022461 \n",
      "Deformation cost = 74.747520\n"
     ]
    },
    {
     "name": "stdout",
     "output_type": "stream",
     "text": [
      "================================================================================\n",
      "Iteration: 536 \n",
      "Total energy = 13741.240234 \n",
      "Attach cost = 13666.436523 \n",
      "Deformation cost = 74.802025\n"
     ]
    },
    {
     "name": "stdout",
     "output_type": "stream",
     "text": [
      "================================================================================\n",
      "Iteration: 537 \n",
      "Total energy = 13740.861328 \n",
      "Attach cost = 13666.053711 \n",
      "Deformation cost = 74.810181\n"
     ]
    },
    {
     "name": "stdout",
     "output_type": "stream",
     "text": [
      "================================================================================\n",
      "Iteration: 538 \n",
      "Total energy = 13739.752930 \n",
      "Attach cost = 13664.924805 \n",
      "Deformation cost = 74.827057\n"
     ]
    },
    {
     "name": "stdout",
     "output_type": "stream",
     "text": [
      "================================================================================\n",
      "Iteration: 539 \n",
      "Total energy = 13737.625977 \n",
      "Attach cost = 13662.759766 \n",
      "Deformation cost = 74.867264\n"
     ]
    },
    {
     "name": "stdout",
     "output_type": "stream",
     "text": [
      "================================================================================\n",
      "Iteration: 540 \n",
      "Total energy = 13735.603516 \n",
      "Attach cost = 13660.656250 \n",
      "Deformation cost = 74.947342\n"
     ]
    },
    {
     "name": "stdout",
     "output_type": "stream",
     "text": [
      "================================================================================\n",
      "Iteration: 541 \n",
      "Total energy = 13733.837891 \n",
      "Attach cost = 13658.834961 \n",
      "Deformation cost = 75.003204\n"
     ]
    },
    {
     "name": "stdout",
     "output_type": "stream",
     "text": [
      "================================================================================\n",
      "Iteration: 542 \n",
      "Total energy = 13733.152344 \n",
      "Attach cost = 13658.165039 \n",
      "Deformation cost = 74.988419\n"
     ]
    },
    {
     "name": "stdout",
     "output_type": "stream",
     "text": [
      "================================================================================\n",
      "Iteration: 543 \n",
      "Total energy = 13732.846680 \n",
      "Attach cost = 13657.860352 \n",
      "Deformation cost = 74.986298\n"
     ]
    },
    {
     "name": "stdout",
     "output_type": "stream",
     "text": [
      "================================================================================\n",
      "Iteration: 544 \n",
      "Total energy = 13732.572266 \n",
      "Attach cost = 13657.588867 \n",
      "Deformation cost = 74.984161\n"
     ]
    },
    {
     "name": "stdout",
     "output_type": "stream",
     "text": [
      "================================================================================\n",
      "Iteration: 545 \n",
      "Total energy = 13731.435547 \n",
      "Attach cost = 13656.448242 \n",
      "Deformation cost = 74.988724\n"
     ]
    },
    {
     "name": "stdout",
     "output_type": "stream",
     "text": [
      "================================================================================\n",
      "Iteration: 546 \n",
      "Total energy = 13729.840820 \n",
      "Attach cost = 13654.816406 \n",
      "Deformation cost = 75.024559\n"
     ]
    },
    {
     "name": "stdout",
     "output_type": "stream",
     "text": [
      "================================================================================\n",
      "Iteration: 547 \n",
      "Total energy = 13729.135742 \n",
      "Attach cost = 13654.045898 \n",
      "Deformation cost = 75.090805\n"
     ]
    },
    {
     "name": "stdout",
     "output_type": "stream",
     "text": [
      "================================================================================\n",
      "Iteration: 548 \n",
      "Total energy = 13727.047852 \n",
      "Attach cost = 13651.946289 \n",
      "Deformation cost = 75.101418\n"
     ]
    },
    {
     "name": "stdout",
     "output_type": "stream",
     "text": [
      "================================================================================\n",
      "Iteration: 549 \n",
      "Total energy = 13726.322266 \n",
      "Attach cost = 13651.203125 \n",
      "Deformation cost = 75.119705\n"
     ]
    },
    {
     "name": "stdout",
     "output_type": "stream",
     "text": [
      "================================================================================\n",
      "Iteration: 550 \n",
      "Total energy = 13725.757812 \n",
      "Attach cost = 13650.609375 \n",
      "Deformation cost = 75.146942\n"
     ]
    },
    {
     "name": "stdout",
     "output_type": "stream",
     "text": [
      "================================================================================\n",
      "Iteration: 551 \n",
      "Total energy = 13724.405273 \n",
      "Attach cost = 13649.187500 \n",
      "Deformation cost = 75.218163\n"
     ]
    },
    {
     "name": "stdout",
     "output_type": "stream",
     "text": [
      "================================================================================\n",
      "Iteration: 552 \n",
      "Total energy = 13721.651367 \n",
      "Attach cost = 13646.230469 \n",
      "Deformation cost = 75.421890\n"
     ]
    },
    {
     "name": "stdout",
     "output_type": "stream",
     "text": [
      "================================================================================\n",
      "Iteration: 553 \n",
      "Total energy = 13719.919922 \n",
      "Attach cost = 13644.333008 \n",
      "Deformation cost = 75.584793\n"
     ]
    },
    {
     "name": "stdout",
     "output_type": "stream",
     "text": [
      "================================================================================\n",
      "Iteration: 554 \n",
      "Total energy = 13717.488281 \n",
      "Attach cost = 13641.767578 \n",
      "Deformation cost = 75.720093\n"
     ]
    },
    {
     "name": "stdout",
     "output_type": "stream",
     "text": [
      "================================================================================\n",
      "Iteration: 555 \n",
      "Total energy = 13715.474609 \n",
      "Attach cost = 13639.619141 \n",
      "Deformation cost = 75.855728\n"
     ]
    },
    {
     "name": "stdout",
     "output_type": "stream",
     "text": [
      "================================================================================\n",
      "Iteration: 556 \n",
      "Total energy = 13714.683594 \n",
      "Attach cost = 13638.781250 \n",
      "Deformation cost = 75.903221\n"
     ]
    },
    {
     "name": "stdout",
     "output_type": "stream",
     "text": [
      "================================================================================\n",
      "Iteration: 557 \n",
      "Total energy = 13713.132812 \n",
      "Attach cost = 13637.112305 \n",
      "Deformation cost = 76.021706\n"
     ]
    },
    {
     "name": "stdout",
     "output_type": "stream",
     "text": [
      "================================================================================\n",
      "Iteration: 558 \n",
      "Total energy = 13712.426758 \n",
      "Attach cost = 13636.292969 \n",
      "Deformation cost = 76.133720\n"
     ]
    },
    {
     "name": "stdout",
     "output_type": "stream",
     "text": [
      "================================================================================\n",
      "Iteration: 559 \n",
      "Total energy = 13711.209961 \n",
      "Attach cost = 13635.058594 \n",
      "Deformation cost = 76.153862\n"
     ]
    },
    {
     "name": "stdout",
     "output_type": "stream",
     "text": [
      "================================================================================\n",
      "Iteration: 560 \n",
      "Total energy = 13710.865234 \n",
      "Attach cost = 13634.699219 \n",
      "Deformation cost = 76.164490\n"
     ]
    },
    {
     "name": "stdout",
     "output_type": "stream",
     "text": [
      "================================================================================\n",
      "Iteration: 561 \n",
      "Total energy = 13710.428711 \n",
      "Attach cost = 13634.263672 \n",
      "Deformation cost = 76.164780\n"
     ]
    },
    {
     "name": "stdout",
     "output_type": "stream",
     "text": [
      "================================================================================\n",
      "Iteration: 562 \n",
      "Total energy = 13709.441406 \n",
      "Attach cost = 13633.260742 \n",
      "Deformation cost = 76.182243\n"
     ]
    },
    {
     "name": "stdout",
     "output_type": "stream",
     "text": [
      "================================================================================\n",
      "Iteration: 563 \n",
      "Total energy = 13708.578125 \n",
      "Attach cost = 13632.415039 \n",
      "Deformation cost = 76.162582\n"
     ]
    },
    {
     "name": "stdout",
     "output_type": "stream",
     "text": [
      "================================================================================\n",
      "Iteration: 564 \n",
      "Total energy = 13707.605469 \n",
      "Attach cost = 13631.430664 \n",
      "Deformation cost = 76.176514\n"
     ]
    },
    {
     "name": "stdout",
     "output_type": "stream",
     "text": [
      "================================================================================\n",
      "Iteration: 565 \n",
      "Total energy = 13707.221680 \n",
      "Attach cost = 13631.050781 \n",
      "Deformation cost = 76.169067\n"
     ]
    },
    {
     "name": "stdout",
     "output_type": "stream",
     "text": [
      "================================================================================\n",
      "Iteration: 566 \n",
      "Total energy = 13707.032227 \n",
      "Attach cost = 13630.875977 \n",
      "Deformation cost = 76.154915\n"
     ]
    },
    {
     "name": "stdout",
     "output_type": "stream",
     "text": [
      "================================================================================\n",
      "Iteration: 567 \n",
      "Total energy = 13706.833984 \n",
      "Attach cost = 13630.688477 \n",
      "Deformation cost = 76.146240\n"
     ]
    },
    {
     "name": "stdout",
     "output_type": "stream",
     "text": [
      "================================================================================\n",
      "Iteration: 568 \n",
      "Total energy = 13706.511719 \n",
      "Attach cost = 13630.378906 \n",
      "Deformation cost = 76.134338\n"
     ]
    },
    {
     "name": "stdout",
     "output_type": "stream",
     "text": [
      "================================================================================\n",
      "Iteration: 569 \n",
      "Total energy = 13706.220703 \n",
      "Attach cost = 13630.076172 \n",
      "Deformation cost = 76.145386\n"
     ]
    },
    {
     "name": "stdout",
     "output_type": "stream",
     "text": [
      "================================================================================\n",
      "Iteration: 570 \n",
      "Total energy = 13705.656250 \n",
      "Attach cost = 13629.509766 \n",
      "Deformation cost = 76.145691\n"
     ]
    },
    {
     "name": "stdout",
     "output_type": "stream",
     "text": [
      "================================================================================\n",
      "Iteration: 571 \n",
      "Total energy = 13705.398438 \n",
      "Attach cost = 13629.228516 \n",
      "Deformation cost = 76.169159\n"
     ]
    },
    {
     "name": "stdout",
     "output_type": "stream",
     "text": [
      "================================================================================\n",
      "Iteration: 572 \n",
      "Total energy = 13705.115234 \n",
      "Attach cost = 13628.907227 \n",
      "Deformation cost = 76.207710\n"
     ]
    },
    {
     "name": "stdout",
     "output_type": "stream",
     "text": [
      "================================================================================\n",
      "Iteration: 573 \n",
      "Total energy = 13704.943359 \n",
      "Attach cost = 13628.681641 \n",
      "Deformation cost = 76.260696\n"
     ]
    },
    {
     "name": "stdout",
     "output_type": "stream",
     "text": [
      "================================================================================\n",
      "Iteration: 574 \n",
      "Total energy = 13704.771484 \n",
      "Attach cost = 13628.496094 \n",
      "Deformation cost = 76.272972\n"
     ]
    },
    {
     "name": "stdout",
     "output_type": "stream",
     "text": [
      "================================================================================\n",
      "Iteration: 575 \n",
      "Total energy = 13704.721680 \n",
      "Attach cost = 13628.450195 \n",
      "Deformation cost = 76.271553\n"
     ]
    },
    {
     "name": "stdout",
     "output_type": "stream",
     "text": [
      "================================================================================\n",
      "Iteration: 576 \n",
      "Total energy = 13704.657227 \n",
      "Attach cost = 13628.383789 \n",
      "Deformation cost = 76.272583\n"
     ]
    },
    {
     "name": "stdout",
     "output_type": "stream",
     "text": [
      "================================================================================\n",
      "Iteration: 577 \n",
      "Total energy = 13704.526367 \n",
      "Attach cost = 13628.245117 \n",
      "Deformation cost = 76.279861\n"
     ]
    },
    {
     "name": "stdout",
     "output_type": "stream",
     "text": [
      "================================================================================\n",
      "Iteration: 578 \n",
      "Total energy = 13704.244141 \n",
      "Attach cost = 13627.940430 \n",
      "Deformation cost = 76.304672\n"
     ]
    },
    {
     "name": "stdout",
     "output_type": "stream",
     "text": [
      "================================================================================\n",
      "Iteration: 579 \n",
      "Total energy = 13704.071289 \n",
      "Attach cost = 13627.710938 \n",
      "Deformation cost = 76.360222\n"
     ]
    },
    {
     "name": "stdout",
     "output_type": "stream",
     "text": [
      "================================================================================\n",
      "Iteration: 580 \n",
      "Total energy = 13703.719727 \n",
      "Attach cost = 13627.348633 \n",
      "Deformation cost = 76.370941\n"
     ]
    },
    {
     "name": "stdout",
     "output_type": "stream",
     "text": [
      "================================================================================\n",
      "Iteration: 581 \n",
      "Total energy = 13703.556641 \n",
      "Attach cost = 13627.178711 \n",
      "Deformation cost = 76.378159\n"
     ]
    },
    {
     "name": "stdout",
     "output_type": "stream",
     "text": [
      "================================================================================\n",
      "Iteration: 582 \n",
      "Total energy = 13703.456055 \n",
      "Attach cost = 13627.072266 \n",
      "Deformation cost = 76.384727\n"
     ]
    },
    {
     "name": "stdout",
     "output_type": "stream",
     "text": [
      "================================================================================\n",
      "Iteration: 583 \n",
      "Total energy = 13703.326172 \n",
      "Attach cost = 13626.939453 \n",
      "Deformation cost = 76.389015\n"
     ]
    },
    {
     "name": "stdout",
     "output_type": "stream",
     "text": [
      "================================================================================\n",
      "Iteration: 584 \n",
      "Total energy = 13702.972656 \n",
      "Attach cost = 13626.577148 \n",
      "Deformation cost = 76.396065\n"
     ]
    },
    {
     "name": "stdout",
     "output_type": "stream",
     "text": [
      "================================================================================\n",
      "Iteration: 585 \n",
      "Total energy = 13702.368164 \n",
      "Attach cost = 13625.971680 \n",
      "Deformation cost = 76.397514\n"
     ]
    },
    {
     "name": "stdout",
     "output_type": "stream",
     "text": [
      "================================================================================\n",
      "Iteration: 586 \n",
      "Total energy = 13702.268555 \n",
      "Attach cost = 13625.858398 \n",
      "Deformation cost = 76.409798\n"
     ]
    },
    {
     "name": "stdout",
     "output_type": "stream",
     "text": [
      "================================================================================\n",
      "Iteration: 587 \n",
      "Total energy = 13701.306641 \n",
      "Attach cost = 13624.916016 \n",
      "Deformation cost = 76.387779\n"
     ]
    },
    {
     "name": "stdout",
     "output_type": "stream",
     "text": [
      "================================================================================\n",
      "Iteration: 588 \n",
      "Total energy = 13701.023438 \n",
      "Attach cost = 13624.649414 \n",
      "Deformation cost = 76.374222\n"
     ]
    },
    {
     "name": "stdout",
     "output_type": "stream",
     "text": [
      "================================================================================\n",
      "Iteration: 589 \n",
      "Total energy = 13700.817383 \n",
      "Attach cost = 13624.458008 \n",
      "Deformation cost = 76.360161\n"
     ]
    },
    {
     "name": "stdout",
     "output_type": "stream",
     "text": [
      "================================================================================\n",
      "Iteration: 590 \n",
      "Total energy = 13700.614258 \n",
      "Attach cost = 13624.263672 \n",
      "Deformation cost = 76.350761\n"
     ]
    },
    {
     "name": "stdout",
     "output_type": "stream",
     "text": [
      "================================================================================\n",
      "Iteration: 591 \n",
      "Total energy = 13699.957031 \n",
      "Attach cost = 13623.633789 \n",
      "Deformation cost = 76.324875\n"
     ]
    },
    {
     "name": "stdout",
     "output_type": "stream",
     "text": [
      "================================================================================\n",
      "Iteration: 592 \n",
      "Total energy = 13698.866211 \n",
      "Attach cost = 13622.571289 \n",
      "Deformation cost = 76.293007\n"
     ]
    },
    {
     "name": "stdout",
     "output_type": "stream",
     "text": [
      "================================================================================\n",
      "Iteration: 593 \n",
      "Total energy = 13698.105469 \n",
      "Attach cost = 13621.875000 \n",
      "Deformation cost = 76.232643\n"
     ]
    },
    {
     "name": "stdout",
     "output_type": "stream",
     "text": [
      "================================================================================\n",
      "Iteration: 594 \n",
      "Total energy = 13696.581055 \n",
      "Attach cost = 13620.329102 \n",
      "Deformation cost = 76.251343\n"
     ]
    },
    {
     "name": "stdout",
     "output_type": "stream",
     "text": [
      "================================================================================\n",
      "Iteration: 595 \n",
      "Total energy = 13695.960938 \n",
      "Attach cost = 13619.683594 \n",
      "Deformation cost = 76.277222\n"
     ]
    },
    {
     "name": "stdout",
     "output_type": "stream",
     "text": [
      "================================================================================\n",
      "Iteration: 596 \n",
      "Total energy = 13695.652344 \n",
      "Attach cost = 13619.355469 \n",
      "Deformation cost = 76.297913\n"
     ]
    },
    {
     "name": "stdout",
     "output_type": "stream",
     "text": [
      "================================================================================\n",
      "Iteration: 597 \n",
      "Total energy = 13695.129883 \n",
      "Attach cost = 13618.802734 \n",
      "Deformation cost = 76.328369\n"
     ]
    },
    {
     "name": "stdout",
     "output_type": "stream",
     "text": [
      "================================================================================\n",
      "Iteration: 598 \n",
      "Total energy = 13693.779297 \n",
      "Attach cost = 13617.360352 \n",
      "Deformation cost = 76.419861\n"
     ]
    },
    {
     "name": "stdout",
     "output_type": "stream",
     "text": [
      "================================================================================\n",
      "Iteration: 599 \n",
      "Total energy = 13692.136719 \n",
      "Attach cost = 13615.599609 \n",
      "Deformation cost = 76.538094\n"
     ]
    },
    {
     "name": "stdout",
     "output_type": "stream",
     "text": [
      "================================================================================\n",
      "Iteration: 600 \n",
      "Total energy = 13690.738281 \n",
      "Attach cost = 13614.008789 \n",
      "Deformation cost = 76.729324\n"
     ]
    },
    {
     "name": "stdout",
     "output_type": "stream",
     "text": [
      "================================================================================\n",
      "Iteration: 601 \n",
      "Total energy = 13689.579102 \n",
      "Attach cost = 13612.872070 \n",
      "Deformation cost = 76.707130\n"
     ]
    },
    {
     "name": "stdout",
     "output_type": "stream",
     "text": [
      "================================================================================\n",
      "Iteration: 602 \n",
      "Total energy = 13688.753906 \n",
      "Attach cost = 13612.082031 \n",
      "Deformation cost = 76.671310\n"
     ]
    },
    {
     "name": "stdout",
     "output_type": "stream",
     "text": [
      "================================================================================\n",
      "Iteration: 603 \n",
      "Total energy = 13687.744141 \n",
      "Attach cost = 13611.062500 \n",
      "Deformation cost = 76.680351\n"
     ]
    },
    {
     "name": "stdout",
     "output_type": "stream",
     "text": [
      "================================================================================\n",
      "Iteration: 604 \n",
      "Total energy = 13685.340820 \n",
      "Attach cost = 13608.642578 \n",
      "Deformation cost = 76.699020\n"
     ]
    },
    {
     "name": "stdout",
     "output_type": "stream",
     "text": [
      "================================================================================\n",
      "Iteration: 605 \n",
      "Total energy = 13683.821289 \n",
      "Attach cost = 13607.066406 \n",
      "Deformation cost = 76.755745\n"
     ]
    },
    {
     "name": "stdout",
     "output_type": "stream",
     "text": [
      "================================================================================\n",
      "Iteration: 606 \n",
      "Total energy = 13680.786133 \n",
      "Attach cost = 13603.953125 \n",
      "Deformation cost = 76.833084\n"
     ]
    },
    {
     "name": "stdout",
     "output_type": "stream",
     "text": [
      "================================================================================\n",
      "Iteration: 607 \n",
      "Total energy = 13679.536133 \n",
      "Attach cost = 13602.674805 \n",
      "Deformation cost = 76.859993\n"
     ]
    },
    {
     "name": "stdout",
     "output_type": "stream",
     "text": [
      "================================================================================\n",
      "Iteration: 608 \n",
      "Total energy = 13678.851562 \n",
      "Attach cost = 13601.988281 \n",
      "Deformation cost = 76.862617\n"
     ]
    },
    {
     "name": "stdout",
     "output_type": "stream",
     "text": [
      "================================================================================\n",
      "Iteration: 609 \n",
      "Total energy = 13678.255859 \n",
      "Attach cost = 13601.398438 \n",
      "Deformation cost = 76.856804\n"
     ]
    },
    {
     "name": "stdout",
     "output_type": "stream",
     "text": [
      "================================================================================\n",
      "Iteration: 610 \n",
      "Total energy = 13676.703125 \n",
      "Attach cost = 13599.842773 \n",
      "Deformation cost = 76.860611\n"
     ]
    },
    {
     "name": "stdout",
     "output_type": "stream",
     "text": [
      "================================================================================\n",
      "Iteration: 611 \n",
      "Total energy = 13673.930664 \n",
      "Attach cost = 13597.060547 \n",
      "Deformation cost = 76.869659\n"
     ]
    },
    {
     "name": "stdout",
     "output_type": "stream",
     "text": [
      "================================================================================\n",
      "Iteration: 612 \n",
      "Total energy = 13671.273438 \n",
      "Attach cost = 13594.335938 \n",
      "Deformation cost = 76.938126\n"
     ]
    },
    {
     "name": "stdout",
     "output_type": "stream",
     "text": [
      "================================================================================\n",
      "Iteration: 613 \n",
      "Total energy = 13669.852539 \n",
      "Attach cost = 13592.897461 \n",
      "Deformation cost = 76.955765\n"
     ]
    },
    {
     "name": "stdout",
     "output_type": "stream",
     "text": [
      "================================================================================\n",
      "Iteration: 614 \n",
      "Total energy = 13669.250977 \n",
      "Attach cost = 13592.274414 \n",
      "Deformation cost = 76.976158\n"
     ]
    },
    {
     "name": "stdout",
     "output_type": "stream",
     "text": [
      "================================================================================\n",
      "Iteration: 615 \n",
      "Total energy = 13668.881836 \n",
      "Attach cost = 13591.897461 \n",
      "Deformation cost = 76.985168\n"
     ]
    },
    {
     "name": "stdout",
     "output_type": "stream",
     "text": [
      "================================================================================\n",
      "Iteration: 616 \n",
      "Total energy = 13667.925781 \n",
      "Attach cost = 13590.921875 \n",
      "Deformation cost = 77.004761\n"
     ]
    },
    {
     "name": "stdout",
     "output_type": "stream",
     "text": [
      "================================================================================\n",
      "Iteration: 617 \n",
      "Total energy = 13665.896484 \n",
      "Attach cost = 13588.847656 \n",
      "Deformation cost = 77.049805\n"
     ]
    },
    {
     "name": "stdout",
     "output_type": "stream",
     "text": [
      "================================================================================\n",
      "Iteration: 618 \n",
      "Total energy = 13663.992188 \n",
      "Attach cost = 13586.887695 \n",
      "Deformation cost = 77.106499\n"
     ]
    },
    {
     "name": "stdout",
     "output_type": "stream",
     "text": [
      "================================================================================\n",
      "Iteration: 619 \n",
      "Total energy = 13663.641602 \n",
      "Attach cost = 13586.529297 \n",
      "Deformation cost = 77.112305\n"
     ]
    },
    {
     "name": "stdout",
     "output_type": "stream",
     "text": [
      "================================================================================\n",
      "Iteration: 620 \n",
      "Total energy = 13662.929688 \n",
      "Attach cost = 13585.803711 \n",
      "Deformation cost = 77.127075\n"
     ]
    },
    {
     "name": "stdout",
     "output_type": "stream",
     "text": [
      "================================================================================\n",
      "Iteration: 621 \n",
      "Total energy = 13662.675781 \n",
      "Attach cost = 13585.551758 \n",
      "Deformation cost = 77.122803\n"
     ]
    },
    {
     "name": "stdout",
     "output_type": "stream",
     "text": [
      "================================================================================\n",
      "Iteration: 622 \n",
      "Total energy = 13662.440430 \n",
      "Attach cost = 13585.324219 \n",
      "Deformation cost = 77.116463\n"
     ]
    },
    {
     "name": "stdout",
     "output_type": "stream",
     "text": [
      "================================================================================\n",
      "Iteration: 623 \n",
      "Total energy = 13661.925781 \n",
      "Attach cost = 13584.819336 \n",
      "Deformation cost = 77.105499\n"
     ]
    },
    {
     "name": "stdout",
     "output_type": "stream",
     "text": [
      "================================================================================\n",
      "Iteration: 624 \n",
      "Total energy = 13661.137695 \n",
      "Attach cost = 13584.040039 \n",
      "Deformation cost = 77.096344\n"
     ]
    },
    {
     "name": "stdout",
     "output_type": "stream",
     "text": [
      "================================================================================\n",
      "Iteration: 625 \n",
      "Total energy = 13660.789062 \n",
      "Attach cost = 13583.702148 \n",
      "Deformation cost = 77.087486\n"
     ]
    },
    {
     "name": "stdout",
     "output_type": "stream",
     "text": [
      "================================================================================\n",
      "Iteration: 626 \n",
      "Total energy = 13660.378906 \n",
      "Attach cost = 13583.291016 \n",
      "Deformation cost = 77.088593\n"
     ]
    },
    {
     "name": "stdout",
     "output_type": "stream",
     "text": [
      "================================================================================\n",
      "Iteration: 627 \n",
      "Total energy = 13660.194336 \n",
      "Attach cost = 13583.102539 \n",
      "Deformation cost = 77.090576\n"
     ]
    },
    {
     "name": "stdout",
     "output_type": "stream",
     "text": [
      "================================================================================\n",
      "Iteration: 628 \n",
      "Total energy = 13660.083008 \n",
      "Attach cost = 13582.992188 \n",
      "Deformation cost = 77.090363\n"
     ]
    },
    {
     "name": "stdout",
     "output_type": "stream",
     "text": [
      "================================================================================\n",
      "Iteration: 629 \n",
      "Total energy = 13659.763672 \n",
      "Attach cost = 13582.676758 \n",
      "Deformation cost = 77.085686\n"
     ]
    },
    {
     "name": "stdout",
     "output_type": "stream",
     "text": [
      "================================================================================\n",
      "Iteration: 630 \n",
      "Total energy = 13659.208008 \n",
      "Attach cost = 13582.135742 \n",
      "Deformation cost = 77.072327\n"
     ]
    },
    {
     "name": "stdout",
     "output_type": "stream",
     "text": [
      "================================================================================\n",
      "Iteration: 631 \n",
      "Total energy = 13658.275391 \n",
      "Attach cost = 13581.227539 \n",
      "Deformation cost = 77.047974\n"
     ]
    },
    {
     "name": "stdout",
     "output_type": "stream",
     "text": [
      "================================================================================\n",
      "Iteration: 632 \n",
      "Total energy = 13657.956055 \n",
      "Attach cost = 13580.899414 \n",
      "Deformation cost = 77.057899\n"
     ]
    },
    {
     "name": "stdout",
     "output_type": "stream",
     "text": [
      "================================================================================\n",
      "Iteration: 633 \n",
      "Total energy = 13656.959961 \n",
      "Attach cost = 13579.915039 \n",
      "Deformation cost = 77.046661\n"
     ]
    },
    {
     "name": "stdout",
     "output_type": "stream",
     "text": [
      "================================================================================\n",
      "Iteration: 634 \n",
      "Total energy = 13656.196289 \n",
      "Attach cost = 13579.139648 \n",
      "Deformation cost = 77.056801\n"
     ]
    },
    {
     "name": "stdout",
     "output_type": "stream",
     "text": [
      "================================================================================\n",
      "Iteration: 635 \n",
      "Total energy = 13655.493164 \n",
      "Attach cost = 13578.407227 \n",
      "Deformation cost = 77.086777\n"
     ]
    },
    {
     "name": "stdout",
     "output_type": "stream",
     "text": [
      "================================================================================\n",
      "Iteration: 636 \n",
      "Total energy = 13654.712891 \n",
      "Attach cost = 13577.583008 \n",
      "Deformation cost = 77.128654\n"
     ]
    },
    {
     "name": "stdout",
     "output_type": "stream",
     "text": [
      "================================================================================\n",
      "Iteration: 637 \n",
      "Total energy = 13653.088867 \n",
      "Attach cost = 13575.899414 \n",
      "Deformation cost = 77.189919\n"
     ]
    },
    {
     "name": "stdout",
     "output_type": "stream",
     "text": [
      "================================================================================\n",
      "Iteration: 638 \n",
      "Total energy = 13651.863281 \n",
      "Attach cost = 13574.573242 \n",
      "Deformation cost = 77.289955\n"
     ]
    },
    {
     "name": "stdout",
     "output_type": "stream",
     "text": [
      "================================================================================\n",
      "Iteration: 639 \n",
      "Total energy = 13649.703125 \n",
      "Attach cost = 13572.422852 \n",
      "Deformation cost = 77.280861\n"
     ]
    },
    {
     "name": "stdout",
     "output_type": "stream",
     "text": [
      "================================================================================\n",
      "Iteration: 640 \n",
      "Total energy = 13648.264648 \n",
      "Attach cost = 13571.006836 \n",
      "Deformation cost = 77.259132\n"
     ]
    },
    {
     "name": "stdout",
     "output_type": "stream",
     "text": [
      "================================================================================\n",
      "Iteration: 641 \n",
      "Total energy = 13646.386719 \n",
      "Attach cost = 13569.146484 \n",
      "Deformation cost = 77.239632\n"
     ]
    },
    {
     "name": "stdout",
     "output_type": "stream",
     "text": [
      "================================================================================\n",
      "Iteration: 642 \n",
      "Total energy = 13644.060547 \n",
      "Attach cost = 13566.822266 \n",
      "Deformation cost = 77.239761\n"
     ]
    },
    {
     "name": "stdout",
     "output_type": "stream",
     "text": [
      "================================================================================\n",
      "Iteration: 643 \n",
      "Total energy = 13642.809570 \n",
      "Attach cost = 13565.571289 \n",
      "Deformation cost = 77.237206\n"
     ]
    },
    {
     "name": "stdout",
     "output_type": "stream",
     "text": [
      "================================================================================\n",
      "Iteration: 644 \n",
      "Total energy = 13640.707031 \n",
      "Attach cost = 13563.449219 \n",
      "Deformation cost = 77.256935\n"
     ]
    },
    {
     "name": "stdout",
     "output_type": "stream",
     "text": [
      "================================================================================\n",
      "Iteration: 645 \n",
      "Total energy = 13639.142578 \n",
      "Attach cost = 13561.843750 \n",
      "Deformation cost = 77.298401\n"
     ]
    },
    {
     "name": "stdout",
     "output_type": "stream",
     "text": [
      "================================================================================\n",
      "Iteration: 646 \n",
      "Total energy = 13636.723633 \n",
      "Attach cost = 13559.353516 \n",
      "Deformation cost = 77.368591\n"
     ]
    },
    {
     "name": "stdout",
     "output_type": "stream",
     "text": [
      "================================================================================\n",
      "Iteration: 647 \n",
      "Total energy = 13633.050781 \n",
      "Attach cost = 13555.576172 \n",
      "Deformation cost = 77.473938\n"
     ]
    },
    {
     "name": "stdout",
     "output_type": "stream",
     "text": [
      "================================================================================\n",
      "Iteration: 648 \n",
      "Total energy = 13630.856445 \n",
      "Attach cost = 13553.309570 \n",
      "Deformation cost = 77.546280\n"
     ]
    },
    {
     "name": "stdout",
     "output_type": "stream",
     "text": [
      "================================================================================\n",
      "Iteration: 649 \n",
      "Total energy = 13626.710938 \n",
      "Attach cost = 13549.128906 \n",
      "Deformation cost = 77.581039\n"
     ]
    },
    {
     "name": "stdout",
     "output_type": "stream",
     "text": [
      "================================================================================\n",
      "Iteration: 650 \n",
      "Total energy = 13625.061523 \n",
      "Attach cost = 13547.513672 \n",
      "Deformation cost = 77.545311\n"
     ]
    },
    {
     "name": "stdout",
     "output_type": "stream",
     "text": [
      "================================================================================\n",
      "Iteration: 651 \n",
      "Total energy = 13623.968750 \n",
      "Attach cost = 13546.475586 \n",
      "Deformation cost = 77.492477\n"
     ]
    },
    {
     "name": "stdout",
     "output_type": "stream",
     "text": [
      "================================================================================\n",
      "Iteration: 652 \n",
      "Total energy = 13622.738281 \n",
      "Attach cost = 13545.308594 \n",
      "Deformation cost = 77.430328\n"
     ]
    },
    {
     "name": "stdout",
     "output_type": "stream",
     "text": [
      "================================================================================\n",
      "Iteration: 653 \n",
      "Total energy = 13619.887695 \n",
      "Attach cost = 13542.593750 \n",
      "Deformation cost = 77.294441\n"
     ]
    },
    {
     "name": "stdout",
     "output_type": "stream",
     "text": [
      "================================================================================\n",
      "Iteration: 654 \n",
      "Total energy = 13618.285156 \n",
      "Attach cost = 13541.034180 \n",
      "Deformation cost = 77.251373\n"
     ]
    },
    {
     "name": "stdout",
     "output_type": "stream",
     "text": [
      "================================================================================\n",
      "Iteration: 655 \n",
      "Total energy = 13615.318359 \n",
      "Attach cost = 13538.166016 \n",
      "Deformation cost = 77.153130\n"
     ]
    },
    {
     "name": "stdout",
     "output_type": "stream",
     "text": [
      "================================================================================\n",
      "Iteration: 656 \n",
      "Total energy = 13613.875000 \n",
      "Attach cost = 13536.715820 \n",
      "Deformation cost = 77.159904\n"
     ]
    },
    {
     "name": "stdout",
     "output_type": "stream",
     "text": [
      "================================================================================\n",
      "Iteration: 657 \n",
      "Total energy = 13613.133789 \n",
      "Attach cost = 13535.930664 \n",
      "Deformation cost = 77.204323\n"
     ]
    },
    {
     "name": "stdout",
     "output_type": "stream",
     "text": [
      "================================================================================\n",
      "Iteration: 658 \n",
      "Total energy = 13612.475586 \n",
      "Attach cost = 13535.234375 \n",
      "Deformation cost = 77.240540\n"
     ]
    },
    {
     "name": "stdout",
     "output_type": "stream",
     "text": [
      "================================================================================\n",
      "Iteration: 659 \n",
      "Total energy = 13612.057617 \n",
      "Attach cost = 13534.798828 \n",
      "Deformation cost = 77.257263\n"
     ]
    },
    {
     "name": "stdout",
     "output_type": "stream",
     "text": [
      "================================================================================\n",
      "Iteration: 660 \n",
      "Total energy = 13611.388672 \n",
      "Attach cost = 13534.114258 \n",
      "Deformation cost = 77.274643\n"
     ]
    },
    {
     "name": "stdout",
     "output_type": "stream",
     "text": [
      "================================================================================\n",
      "Iteration: 661 \n",
      "Total energy = 13610.982422 \n",
      "Attach cost = 13533.710938 \n",
      "Deformation cost = 77.273041\n"
     ]
    },
    {
     "name": "stdout",
     "output_type": "stream",
     "text": [
      "================================================================================\n",
      "Iteration: 662 \n",
      "Total energy = 13610.480469 \n",
      "Attach cost = 13533.211914 \n",
      "Deformation cost = 77.268776\n"
     ]
    },
    {
     "name": "stdout",
     "output_type": "stream",
     "text": [
      "================================================================================\n",
      "Iteration: 663 \n",
      "Total energy = 13609.696289 \n",
      "Attach cost = 13532.418945 \n",
      "Deformation cost = 77.277054\n"
     ]
    },
    {
     "name": "stdout",
     "output_type": "stream",
     "text": [
      "================================================================================\n",
      "Iteration: 664 \n",
      "Total energy = 13609.272461 \n",
      "Attach cost = 13531.993164 \n",
      "Deformation cost = 77.280106\n"
     ]
    },
    {
     "name": "stdout",
     "output_type": "stream",
     "text": [
      "================================================================================\n",
      "Iteration: 665 \n",
      "Total energy = 13608.608398 \n",
      "Attach cost = 13531.313477 \n",
      "Deformation cost = 77.294800\n"
     ]
    },
    {
     "name": "stdout",
     "output_type": "stream",
     "text": [
      "================================================================================\n",
      "Iteration: 666 \n",
      "Total energy = 13608.280273 \n",
      "Attach cost = 13530.977539 \n",
      "Deformation cost = 77.301559\n"
     ]
    },
    {
     "name": "stdout",
     "output_type": "stream",
     "text": [
      "================================================================================\n",
      "Iteration: 667 \n",
      "Total energy = 13608.046875 \n",
      "Attach cost = 13530.747070 \n",
      "Deformation cost = 77.301376\n"
     ]
    },
    {
     "name": "stdout",
     "output_type": "stream",
     "text": [
      "================================================================================\n",
      "Iteration: 668 \n",
      "Total energy = 13607.646484 \n",
      "Attach cost = 13530.353516 \n",
      "Deformation cost = 77.293777\n"
     ]
    },
    {
     "name": "stdout",
     "output_type": "stream",
     "text": [
      "================================================================================\n",
      "Iteration: 669 \n",
      "Total energy = 13606.778320 \n",
      "Attach cost = 13529.513672 \n",
      "Deformation cost = 77.263809\n"
     ]
    },
    {
     "name": "stdout",
     "output_type": "stream",
     "text": [
      "================================================================================\n",
      "Iteration: 670 \n",
      "Total energy = 13605.490234 \n",
      "Attach cost = 13528.285156 \n",
      "Deformation cost = 77.202934\n"
     ]
    },
    {
     "name": "stdout",
     "output_type": "stream",
     "text": [
      "================================================================================\n",
      "Iteration: 671 \n",
      "Total energy = 13604.973633 \n",
      "Attach cost = 13527.816406 \n",
      "Deformation cost = 77.155258\n"
     ]
    },
    {
     "name": "stdout",
     "output_type": "stream",
     "text": [
      "================================================================================\n",
      "Iteration: 672 \n",
      "Total energy = 13604.023438 \n",
      "Attach cost = 13526.918945 \n",
      "Deformation cost = 77.104340\n"
     ]
    },
    {
     "name": "stdout",
     "output_type": "stream",
     "text": [
      "================================================================================\n",
      "Iteration: 673 \n",
      "Total energy = 13603.345703 \n",
      "Attach cost = 13526.281250 \n",
      "Deformation cost = 77.065498\n"
     ]
    },
    {
     "name": "stdout",
     "output_type": "stream",
     "text": [
      "================================================================================\n",
      "Iteration: 674 \n",
      "Total energy = 13602.776367 \n",
      "Attach cost = 13525.741211 \n",
      "Deformation cost = 77.035286\n"
     ]
    },
    {
     "name": "stdout",
     "output_type": "stream",
     "text": [
      "================================================================================\n",
      "Iteration: 675 \n",
      "Total energy = 13601.485352 \n",
      "Attach cost = 13524.512695 \n",
      "Deformation cost = 76.972801\n"
     ]
    },
    {
     "name": "stdout",
     "output_type": "stream",
     "text": [
      "================================================================================\n",
      "Iteration: 676 \n",
      "Total energy = 13598.884766 \n",
      "Attach cost = 13522.041016 \n",
      "Deformation cost = 76.842865\n"
     ]
    },
    {
     "name": "stdout",
     "output_type": "stream",
     "text": [
      "================================================================================\n",
      "Iteration: 677 \n",
      "Total energy = 13597.423828 \n",
      "Attach cost = 13520.677734 \n",
      "Deformation cost = 76.747833\n"
     ]
    },
    {
     "name": "stdout",
     "output_type": "stream",
     "text": [
      "================================================================================\n",
      "Iteration: 678 \n",
      "Total energy = 13594.106445 \n",
      "Attach cost = 13517.502930 \n",
      "Deformation cost = 76.604263\n"
     ]
    },
    {
     "name": "stdout",
     "output_type": "stream",
     "text": [
      "================================================================================\n",
      "Iteration: 679 \n",
      "Total energy = 13591.639648 \n",
      "Attach cost = 13515.105469 \n",
      "Deformation cost = 76.534500\n"
     ]
    },
    {
     "name": "stdout",
     "output_type": "stream",
     "text": [
      "================================================================================\n",
      "Iteration: 680 \n",
      "Total energy = 13590.192383 \n",
      "Attach cost = 13513.678711 \n",
      "Deformation cost = 76.515076\n"
     ]
    },
    {
     "name": "stdout",
     "output_type": "stream",
     "text": [
      "================================================================================\n",
      "Iteration: 681 \n",
      "Total energy = 13588.775391 \n",
      "Attach cost = 13512.236328 \n",
      "Deformation cost = 76.538567\n"
     ]
    },
    {
     "name": "stdout",
     "output_type": "stream",
     "text": [
      "================================================================================\n",
      "Iteration: 682 \n",
      "Total energy = 13584.520508 \n",
      "Attach cost = 13507.920898 \n",
      "Deformation cost = 76.597771\n"
     ]
    },
    {
     "name": "stdout",
     "output_type": "stream",
     "text": [
      "================================================================================\n",
      "Iteration: 683 \n",
      "Total energy = 13579.666992 \n",
      "Attach cost = 13503.053711 \n",
      "Deformation cost = 76.614426\n"
     ]
    },
    {
     "name": "stdout",
     "output_type": "stream",
     "text": [
      "================================================================================\n",
      "Iteration: 684 \n",
      "Total energy = 13576.680664 \n",
      "Attach cost = 13500.078125 \n",
      "Deformation cost = 76.602509\n"
     ]
    },
    {
     "name": "stdout",
     "output_type": "stream",
     "text": [
      "================================================================================\n",
      "Iteration: 685 \n",
      "Total energy = 13574.006836 \n",
      "Attach cost = 13497.453125 \n",
      "Deformation cost = 76.553078\n"
     ]
    },
    {
     "name": "stdout",
     "output_type": "stream",
     "text": [
      "================================================================================\n",
      "Iteration: 686 \n",
      "Total energy = 13572.950195 \n",
      "Attach cost = 13496.452148 \n",
      "Deformation cost = 76.497726\n"
     ]
    },
    {
     "name": "stdout",
     "output_type": "stream",
     "text": [
      "================================================================================\n",
      "Iteration: 687 \n",
      "Total energy = 13571.775391 \n",
      "Attach cost = 13495.332031 \n",
      "Deformation cost = 76.441063\n"
     ]
    },
    {
     "name": "stdout",
     "output_type": "stream",
     "text": [
      "================================================================================\n",
      "Iteration: 688 \n",
      "Total energy = 13568.082031 \n",
      "Attach cost = 13491.797852 \n",
      "Deformation cost = 76.284737\n"
     ]
    },
    {
     "name": "stdout",
     "output_type": "stream",
     "text": [
      "================================================================================\n",
      "Iteration: 689 \n",
      "Total energy = 13564.553711 \n",
      "Attach cost = 13488.421875 \n",
      "Deformation cost = 76.131645\n"
     ]
    },
    {
     "name": "stdout",
     "output_type": "stream",
     "text": [
      "================================================================================\n",
      "Iteration: 690 \n",
      "Total energy = 13560.679688 \n",
      "Attach cost = 13484.632812 \n",
      "Deformation cost = 76.049248\n"
     ]
    },
    {
     "name": "stdout",
     "output_type": "stream",
     "text": [
      "================================================================================\n",
      "Iteration: 691 \n",
      "Total energy = 13558.185547 \n",
      "Attach cost = 13482.071289 \n",
      "Deformation cost = 76.115555\n"
     ]
    },
    {
     "name": "stdout",
     "output_type": "stream",
     "text": [
      "================================================================================\n",
      "Iteration: 692 \n",
      "Total energy = 13556.285156 \n",
      "Attach cost = 13480.093750 \n",
      "Deformation cost = 76.191399\n"
     ]
    },
    {
     "name": "stdout",
     "output_type": "stream",
     "text": [
      "================================================================================\n",
      "Iteration: 693 \n",
      "Total energy = 13554.832031 \n",
      "Attach cost = 13478.616211 \n",
      "Deformation cost = 76.218857\n"
     ]
    },
    {
     "name": "stdout",
     "output_type": "stream",
     "text": [
      "================================================================================\n",
      "Iteration: 694 \n",
      "Total energy = 13552.008789 \n",
      "Attach cost = 13475.783203 \n",
      "Deformation cost = 76.226501\n"
     ]
    },
    {
     "name": "stdout",
     "output_type": "stream",
     "text": [
      "================================================================================\n",
      "Iteration: 695 \n",
      "Total energy = 13544.477539 \n",
      "Attach cost = 13468.280273 \n",
      "Deformation cost = 76.198265\n"
     ]
    },
    {
     "name": "stdout",
     "output_type": "stream",
     "text": [
      "================================================================================\n",
      "Iteration: 696 \n",
      "Total energy = 13541.241211 \n",
      "Attach cost = 13465.139648 \n",
      "Deformation cost = 76.100586\n"
     ]
    },
    {
     "name": "stdout",
     "output_type": "stream",
     "text": [
      "================================================================================\n",
      "Iteration: 697 \n",
      "Total energy = 13537.802734 \n",
      "Attach cost = 13461.735352 \n",
      "Deformation cost = 76.066391\n"
     ]
    },
    {
     "name": "stdout",
     "output_type": "stream",
     "text": [
      "================================================================================\n",
      "Iteration: 698 \n",
      "Total energy = 13536.134766 \n",
      "Attach cost = 13460.107422 \n",
      "Deformation cost = 76.025887\n"
     ]
    },
    {
     "name": "stdout",
     "output_type": "stream",
     "text": [
      "================================================================================\n",
      "Iteration: 699 \n",
      "Total energy = 13534.175781 \n",
      "Attach cost = 13458.203125 \n",
      "Deformation cost = 75.974075\n"
     ]
    },
    {
     "name": "stdout",
     "output_type": "stream",
     "text": [
      "================================================================================\n",
      "Iteration: 700 \n",
      "Total energy = 13530.022461 \n",
      "Attach cost = 13454.152344 \n",
      "Deformation cost = 75.869682\n"
     ]
    },
    {
     "name": "stdout",
     "output_type": "stream",
     "text": [
      "================================================================================\n",
      "Iteration: 701 \n",
      "Total energy = 13525.307617 \n",
      "Attach cost = 13449.534180 \n",
      "Deformation cost = 75.774551\n"
     ]
    },
    {
     "name": "stdout",
     "output_type": "stream",
     "text": [
      "================================================================================\n",
      "Iteration: 702 \n",
      "Total energy = 13521.867188 \n",
      "Attach cost = 13446.046875 \n",
      "Deformation cost = 75.819664\n"
     ]
    },
    {
     "name": "stdout",
     "output_type": "stream",
     "text": [
      "================================================================================\n",
      "Iteration: 703 \n",
      "Total energy = 13518.431641 \n",
      "Attach cost = 13442.591797 \n",
      "Deformation cost = 75.838371\n"
     ]
    },
    {
     "name": "stdout",
     "output_type": "stream",
     "text": [
      "================================================================================\n",
      "Iteration: 704 \n",
      "Total energy = 13516.988281 \n",
      "Attach cost = 13441.106445 \n",
      "Deformation cost = 75.881378\n"
     ]
    },
    {
     "name": "stdout",
     "output_type": "stream",
     "text": [
      "================================================================================\n",
      "Iteration: 705 \n",
      "Total energy = 13515.073242 \n",
      "Attach cost = 13439.152344 \n",
      "Deformation cost = 75.921265\n"
     ]
    },
    {
     "name": "stdout",
     "output_type": "stream",
     "text": [
      "================================================================================\n",
      "Iteration: 706 \n",
      "Total energy = 13513.768555 \n",
      "Attach cost = 13437.879883 \n",
      "Deformation cost = 75.890770\n"
     ]
    },
    {
     "name": "stdout",
     "output_type": "stream",
     "text": [
      "================================================================================\n",
      "Iteration: 707 \n",
      "Total energy = 13511.558594 \n",
      "Attach cost = 13435.681641 \n",
      "Deformation cost = 75.876770\n"
     ]
    },
    {
     "name": "stdout",
     "output_type": "stream",
     "text": [
      "================================================================================\n",
      "Iteration: 708 \n",
      "Total energy = 13510.509766 \n",
      "Attach cost = 13434.667969 \n",
      "Deformation cost = 75.840691\n"
     ]
    },
    {
     "name": "stdout",
     "output_type": "stream",
     "text": [
      "================================================================================\n",
      "Iteration: 709 \n",
      "Total energy = 13509.680664 \n",
      "Attach cost = 13433.875000 \n",
      "Deformation cost = 75.805206\n"
     ]
    },
    {
     "name": "stdout",
     "output_type": "stream",
     "text": [
      "================================================================================\n",
      "Iteration: 710 \n",
      "Total energy = 13508.523438 \n",
      "Attach cost = 13432.770508 \n",
      "Deformation cost = 75.751709\n"
     ]
    },
    {
     "name": "stdout",
     "output_type": "stream",
     "text": [
      "================================================================================\n",
      "Iteration: 711 \n",
      "Total energy = 13506.772461 \n",
      "Attach cost = 13431.081055 \n",
      "Deformation cost = 75.690933\n"
     ]
    },
    {
     "name": "stdout",
     "output_type": "stream",
     "text": [
      "================================================================================\n",
      "Iteration: 712 \n",
      "Total energy = 13504.876953 \n",
      "Attach cost = 13429.255859 \n",
      "Deformation cost = 75.621475\n"
     ]
    },
    {
     "name": "stdout",
     "output_type": "stream",
     "text": [
      "================================================================================\n",
      "Iteration: 713 \n",
      "Total energy = 13503.365234 \n",
      "Attach cost = 13427.728516 \n",
      "Deformation cost = 75.637123\n"
     ]
    },
    {
     "name": "stdout",
     "output_type": "stream",
     "text": [
      "================================================================================\n",
      "Iteration: 714 \n",
      "Total energy = 13501.770508 \n",
      "Attach cost = 13426.105469 \n",
      "Deformation cost = 75.664909\n"
     ]
    },
    {
     "name": "stdout",
     "output_type": "stream",
     "text": [
      "================================================================================\n",
      "Iteration: 715 \n",
      "Total energy = 13500.284180 \n",
      "Attach cost = 13424.619141 \n",
      "Deformation cost = 75.663994\n"
     ]
    },
    {
     "name": "stdout",
     "output_type": "stream",
     "text": [
      "================================================================================\n",
      "Iteration: 716 \n",
      "Total energy = 13497.743164 \n",
      "Attach cost = 13422.101562 \n",
      "Deformation cost = 75.642769\n"
     ]
    },
    {
     "name": "stdout",
     "output_type": "stream",
     "text": [
      "================================================================================\n",
      "Iteration: 717 \n",
      "Total energy = 13495.348633 \n",
      "Attach cost = 13419.786133 \n",
      "Deformation cost = 75.563576\n"
     ]
    },
    {
     "name": "stdout",
     "output_type": "stream",
     "text": [
      "================================================================================\n",
      "Iteration: 718 \n",
      "Total energy = 13492.367188 \n",
      "Attach cost = 13416.867188 \n",
      "Deformation cost = 75.501007\n"
     ]
    },
    {
     "name": "stdout",
     "output_type": "stream",
     "text": [
      "================================================================================\n",
      "Iteration: 719 \n",
      "Total energy = 13490.822266 \n",
      "Attach cost = 13415.355469 \n",
      "Deformation cost = 75.466560\n"
     ]
    },
    {
     "name": "stdout",
     "output_type": "stream",
     "text": [
      "================================================================================\n",
      "Iteration: 720 \n",
      "Total energy = 13487.193359 \n",
      "Attach cost = 13411.852539 \n",
      "Deformation cost = 75.338730\n"
     ]
    },
    {
     "name": "stdout",
     "output_type": "stream",
     "text": [
      "================================================================================\n",
      "Iteration: 721 \n",
      "Total energy = 13485.383789 \n",
      "Attach cost = 13410.102539 \n",
      "Deformation cost = 75.282021\n"
     ]
    },
    {
     "name": "stdout",
     "output_type": "stream",
     "text": [
      "================================================================================\n",
      "Iteration: 722 \n",
      "Total energy = 13483.497070 \n",
      "Attach cost = 13408.247070 \n",
      "Deformation cost = 75.250298\n"
     ]
    },
    {
     "name": "stdout",
     "output_type": "stream",
     "text": [
      "================================================================================\n",
      "Iteration: 723 \n",
      "Total energy = 13482.168945 \n",
      "Attach cost = 13406.922852 \n",
      "Deformation cost = 75.246643\n"
     ]
    },
    {
     "name": "stdout",
     "output_type": "stream",
     "text": [
      "================================================================================\n",
      "Iteration: 724 \n",
      "Total energy = 13481.520508 \n",
      "Attach cost = 13406.249023 \n",
      "Deformation cost = 75.270500\n"
     ]
    },
    {
     "name": "stdout",
     "output_type": "stream",
     "text": [
      "================================================================================\n",
      "Iteration: 725 \n",
      "Total energy = 13480.661133 \n",
      "Attach cost = 13405.374023 \n",
      "Deformation cost = 75.286545\n"
     ]
    },
    {
     "name": "stdout",
     "output_type": "stream",
     "text": [
      "================================================================================\n",
      "Iteration: 726 \n",
      "Total energy = 13478.661133 \n",
      "Attach cost = 13403.319336 \n",
      "Deformation cost = 75.341637\n"
     ]
    },
    {
     "name": "stdout",
     "output_type": "stream",
     "text": [
      "================================================================================\n",
      "Iteration: 727 \n",
      "Total energy = 13477.405273 \n",
      "Attach cost = 13402.043945 \n",
      "Deformation cost = 75.361130\n"
     ]
    },
    {
     "name": "stdout",
     "output_type": "stream",
     "text": [
      "================================================================================\n",
      "Iteration: 728 \n",
      "Total energy = 13475.108398 \n",
      "Attach cost = 13399.758789 \n",
      "Deformation cost = 75.348480\n"
     ]
    },
    {
     "name": "stdout",
     "output_type": "stream",
     "text": [
      "================================================================================\n",
      "Iteration: 729 \n",
      "Total energy = 13473.372070 \n",
      "Attach cost = 13398.057617 \n",
      "Deformation cost = 75.313934\n"
     ]
    },
    {
     "name": "stdout",
     "output_type": "stream",
     "text": [
      "================================================================================\n",
      "Iteration: 730 \n",
      "Total energy = 13472.518555 \n",
      "Attach cost = 13397.232422 \n",
      "Deformation cost = 75.285797\n"
     ]
    },
    {
     "name": "stdout",
     "output_type": "stream",
     "text": [
      "================================================================================\n",
      "Iteration: 731 \n",
      "Total energy = 13472.035156 \n",
      "Attach cost = 13396.789062 \n",
      "Deformation cost = 75.246223\n"
     ]
    },
    {
     "name": "stdout",
     "output_type": "stream",
     "text": [
      "================================================================================\n",
      "Iteration: 732 \n",
      "Total energy = 13471.436523 \n",
      "Attach cost = 13396.248047 \n",
      "Deformation cost = 75.186638\n"
     ]
    },
    {
     "name": "stdout",
     "output_type": "stream",
     "text": [
      "================================================================================\n",
      "Iteration: 733 \n",
      "Total energy = 13470.500977 \n",
      "Attach cost = 13395.393555 \n",
      "Deformation cost = 75.107315\n"
     ]
    },
    {
     "name": "stdout",
     "output_type": "stream",
     "text": [
      "================================================================================\n",
      "Iteration: 734 \n",
      "Total energy = 13469.733398 \n",
      "Attach cost = 13394.764648 \n",
      "Deformation cost = 74.966476\n"
     ]
    },
    {
     "name": "stdout",
     "output_type": "stream",
     "text": [
      "================================================================================\n",
      "Iteration: 735 \n",
      "Total energy = 13468.339844 \n",
      "Attach cost = 13393.376953 \n",
      "Deformation cost = 74.965073\n"
     ]
    },
    {
     "name": "stdout",
     "output_type": "stream",
     "text": [
      "================================================================================\n",
      "Iteration: 736 \n",
      "Total energy = 13467.107422 \n",
      "Attach cost = 13392.125000 \n",
      "Deformation cost = 74.982697\n"
     ]
    },
    {
     "name": "stdout",
     "output_type": "stream",
     "text": [
      "================================================================================\n",
      "Iteration: 737 \n",
      "Total energy = 13466.128906 \n",
      "Attach cost = 13391.154297 \n",
      "Deformation cost = 74.974304\n"
     ]
    },
    {
     "name": "stdout",
     "output_type": "stream",
     "text": [
      "================================================================================\n",
      "Iteration: 738 \n",
      "Total energy = 13465.666992 \n",
      "Attach cost = 13390.729492 \n",
      "Deformation cost = 74.937889\n"
     ]
    },
    {
     "name": "stdout",
     "output_type": "stream",
     "text": [
      "================================================================================\n",
      "Iteration: 739 \n",
      "Total energy = 13464.945312 \n",
      "Attach cost = 13390.040039 \n",
      "Deformation cost = 74.906052\n"
     ]
    },
    {
     "name": "stdout",
     "output_type": "stream",
     "text": [
      "================================================================================\n",
      "Iteration: 740 \n",
      "Total energy = 13464.589844 \n",
      "Attach cost = 13389.705078 \n",
      "Deformation cost = 74.886086\n"
     ]
    },
    {
     "name": "stdout",
     "output_type": "stream",
     "text": [
      "================================================================================\n",
      "Iteration: 741 \n",
      "Total energy = 13464.271484 \n",
      "Attach cost = 13389.404297 \n",
      "Deformation cost = 74.866913\n"
     ]
    },
    {
     "name": "stdout",
     "output_type": "stream",
     "text": [
      "================================================================================\n",
      "Iteration: 742 \n",
      "Total energy = 13463.783203 \n",
      "Attach cost = 13388.925781 \n",
      "Deformation cost = 74.857071\n"
     ]
    },
    {
     "name": "stdout",
     "output_type": "stream",
     "text": [
      "================================================================================\n",
      "Iteration: 743 \n",
      "Total energy = 13463.192383 \n",
      "Attach cost = 13388.350586 \n",
      "Deformation cost = 74.843193\n"
     ]
    },
    {
     "name": "stdout",
     "output_type": "stream",
     "text": [
      "================================================================================\n",
      "Iteration: 744 \n",
      "Total energy = 13462.818359 \n",
      "Attach cost = 13387.974609 \n",
      "Deformation cost = 74.844902\n"
     ]
    },
    {
     "name": "stdout",
     "output_type": "stream",
     "text": [
      "================================================================================\n",
      "Iteration: 745 \n",
      "Total energy = 13462.541016 \n",
      "Attach cost = 13387.681641 \n",
      "Deformation cost = 74.859657\n"
     ]
    },
    {
     "name": "stdout",
     "output_type": "stream",
     "text": [
      "================================================================================\n",
      "Iteration: 746 \n",
      "Total energy = 13462.276367 \n",
      "Attach cost = 13387.403320 \n",
      "Deformation cost = 74.873093\n"
     ]
    },
    {
     "name": "stdout",
     "output_type": "stream",
     "text": [
      "================================================================================\n",
      "Iteration: 747 \n",
      "Total energy = 13461.723633 \n",
      "Attach cost = 13386.827148 \n",
      "Deformation cost = 74.896240\n"
     ]
    },
    {
     "name": "stdout",
     "output_type": "stream",
     "text": [
      "================================================================================\n",
      "Iteration: 748 \n",
      "Total energy = 13460.791016 \n",
      "Attach cost = 13385.845703 \n",
      "Deformation cost = 74.945473\n"
     ]
    },
    {
     "name": "stdout",
     "output_type": "stream",
     "text": [
      "================================================================================\n",
      "Iteration: 749 \n",
      "Total energy = 13459.675781 \n",
      "Attach cost = 13384.699219 \n",
      "Deformation cost = 74.976791\n"
     ]
    },
    {
     "name": "stdout",
     "output_type": "stream",
     "text": [
      "================================================================================\n",
      "Iteration: 750 \n",
      "Total energy = 13458.704102 \n",
      "Attach cost = 13383.711914 \n",
      "Deformation cost = 74.991386\n"
     ]
    },
    {
     "name": "stdout",
     "output_type": "stream",
     "text": [
      "================================================================================\n",
      "Iteration: 751 \n",
      "Total energy = 13457.812500 \n",
      "Attach cost = 13382.838867 \n",
      "Deformation cost = 74.973755\n"
     ]
    },
    {
     "name": "stdout",
     "output_type": "stream",
     "text": [
      "================================================================================\n",
      "Iteration: 752 \n",
      "Total energy = 13457.041016 \n",
      "Attach cost = 13382.091797 \n",
      "Deformation cost = 74.949837\n"
     ]
    },
    {
     "name": "stdout",
     "output_type": "stream",
     "text": [
      "================================================================================\n",
      "Iteration: 753 \n",
      "Total energy = 13455.248047 \n",
      "Attach cost = 13380.356445 \n",
      "Deformation cost = 74.893066\n"
     ]
    },
    {
     "name": "stdout",
     "output_type": "stream",
     "text": [
      "================================================================================\n",
      "Iteration: 754 \n",
      "Total energy = 13453.295898 \n",
      "Attach cost = 13378.407227 \n",
      "Deformation cost = 74.886116\n"
     ]
    },
    {
     "name": "stdout",
     "output_type": "stream",
     "text": [
      "================================================================================\n",
      "Iteration: 755 \n",
      "Total energy = 13450.999023 \n",
      "Attach cost = 13376.089844 \n",
      "Deformation cost = 74.907333\n"
     ]
    },
    {
     "name": "stdout",
     "output_type": "stream",
     "text": [
      "================================================================================\n",
      "Iteration: 756 \n",
      "Total energy = 13447.302734 \n",
      "Attach cost = 13372.307617 \n",
      "Deformation cost = 74.994698\n"
     ]
    },
    {
     "name": "stdout",
     "output_type": "stream",
     "text": [
      "================================================================================\n",
      "Iteration: 757 \n",
      "Total energy = 13445.515625 \n",
      "Attach cost = 13370.474609 \n",
      "Deformation cost = 75.039101\n"
     ]
    },
    {
     "name": "stdout",
     "output_type": "stream",
     "text": [
      "================================================================================\n",
      "Iteration: 758 \n",
      "Total energy = 13442.968750 \n",
      "Attach cost = 13367.875000 \n",
      "Deformation cost = 75.094093\n"
     ]
    },
    {
     "name": "stdout",
     "output_type": "stream",
     "text": [
      "================================================================================\n",
      "Iteration: 759 \n",
      "Total energy = 13440.757812 \n",
      "Attach cost = 13365.631836 \n",
      "Deformation cost = 75.124786\n"
     ]
    },
    {
     "name": "stdout",
     "output_type": "stream",
     "text": [
      "================================================================================\n",
      "Iteration: 760 \n",
      "Total energy = 13439.197266 \n",
      "Attach cost = 13364.087891 \n",
      "Deformation cost = 75.110474\n"
     ]
    },
    {
     "name": "stdout",
     "output_type": "stream",
     "text": [
      "================================================================================\n",
      "Iteration: 761 \n",
      "Total energy = 13438.004883 \n",
      "Attach cost = 13362.911133 \n",
      "Deformation cost = 75.093262\n"
     ]
    },
    {
     "name": "stdout",
     "output_type": "stream",
     "text": [
      "================================================================================\n",
      "Iteration: 762 \n",
      "Total energy = 13435.674805 \n",
      "Attach cost = 13360.626953 \n",
      "Deformation cost = 75.047585\n"
     ]
    },
    {
     "name": "stdout",
     "output_type": "stream",
     "text": [
      "================================================================================\n",
      "Iteration: 763 \n",
      "Total energy = 13435.066406 \n",
      "Attach cost = 13360.010742 \n",
      "Deformation cost = 75.054893\n"
     ]
    },
    {
     "name": "stdout",
     "output_type": "stream",
     "text": [
      "================================================================================\n",
      "Iteration: 764 \n",
      "Total energy = 13434.441406 \n",
      "Attach cost = 13359.375977 \n",
      "Deformation cost = 75.064476\n"
     ]
    },
    {
     "name": "stdout",
     "output_type": "stream",
     "text": [
      "================================================================================\n",
      "Iteration: 765 \n",
      "Total energy = 13433.140625 \n",
      "Attach cost = 13358.037109 \n",
      "Deformation cost = 75.103523\n"
     ]
    },
    {
     "name": "stdout",
     "output_type": "stream",
     "text": [
      "================================================================================\n",
      "Iteration: 766 \n",
      "Total energy = 13432.424805 \n",
      "Attach cost = 13357.284180 \n",
      "Deformation cost = 75.140266\n"
     ]
    },
    {
     "name": "stdout",
     "output_type": "stream",
     "text": [
      "================================================================================\n",
      "Iteration: 767 \n",
      "Total energy = 13431.478516 \n",
      "Attach cost = 13356.307617 \n",
      "Deformation cost = 75.170372\n"
     ]
    },
    {
     "name": "stdout",
     "output_type": "stream",
     "text": [
      "================================================================================\n",
      "Iteration: 768 \n",
      "Total energy = 13430.224609 \n",
      "Attach cost = 13355.001953 \n",
      "Deformation cost = 75.222816\n"
     ]
    },
    {
     "name": "stdout",
     "output_type": "stream",
     "text": [
      "================================================================================\n",
      "Iteration: 769 \n",
      "Total energy = 13429.576172 \n",
      "Attach cost = 13354.339844 \n",
      "Deformation cost = 75.236961\n"
     ]
    },
    {
     "name": "stdout",
     "output_type": "stream",
     "text": [
      "================================================================================\n",
      "Iteration: 770 \n",
      "Total energy = 13428.960938 \n",
      "Attach cost = 13353.732422 \n",
      "Deformation cost = 75.228317\n"
     ]
    },
    {
     "name": "stdout",
     "output_type": "stream",
     "text": [
      "================================================================================\n",
      "Iteration: 771 \n",
      "Total energy = 13427.576172 \n",
      "Attach cost = 13352.361328 \n",
      "Deformation cost = 75.215408\n"
     ]
    },
    {
     "name": "stdout",
     "output_type": "stream",
     "text": [
      "================================================================================\n",
      "Iteration: 772 \n",
      "Total energy = 13426.771484 \n",
      "Attach cost = 13351.546875 \n",
      "Deformation cost = 75.224426\n"
     ]
    },
    {
     "name": "stdout",
     "output_type": "stream",
     "text": [
      "================================================================================\n",
      "Iteration: 773 \n",
      "Total energy = 13426.346680 \n",
      "Attach cost = 13351.099609 \n",
      "Deformation cost = 75.245995\n"
     ]
    },
    {
     "name": "stdout",
     "output_type": "stream",
     "text": [
      "================================================================================\n",
      "Iteration: 774 \n",
      "Total energy = 13425.800781 \n",
      "Attach cost = 13350.537109 \n",
      "Deformation cost = 75.263351\n"
     ]
    },
    {
     "name": "stdout",
     "output_type": "stream",
     "text": [
      "================================================================================\n",
      "Iteration: 775 \n",
      "Total energy = 13425.402344 \n",
      "Attach cost = 13350.125000 \n",
      "Deformation cost = 75.277145\n"
     ]
    },
    {
     "name": "stdout",
     "output_type": "stream",
     "text": [
      "================================================================================\n",
      "Iteration: 776 \n",
      "Total energy = 13424.750000 \n",
      "Attach cost = 13349.451172 \n",
      "Deformation cost = 75.298508\n"
     ]
    },
    {
     "name": "stdout",
     "output_type": "stream",
     "text": [
      "================================================================================\n",
      "Iteration: 777 \n",
      "Total energy = 13424.271484 \n",
      "Attach cost = 13348.963867 \n",
      "Deformation cost = 75.308548\n"
     ]
    },
    {
     "name": "stdout",
     "output_type": "stream",
     "text": [
      "================================================================================\n",
      "Iteration: 778 \n",
      "Total energy = 13423.762695 \n",
      "Attach cost = 13348.458008 \n",
      "Deformation cost = 75.302826\n"
     ]
    },
    {
     "name": "stdout",
     "output_type": "stream",
     "text": [
      "================================================================================\n",
      "Iteration: 779 \n",
      "Total energy = 13423.469727 \n",
      "Attach cost = 13348.176758 \n",
      "Deformation cost = 75.291779\n"
     ]
    },
    {
     "name": "stdout",
     "output_type": "stream",
     "text": [
      "================================================================================\n",
      "Iteration: 780 \n",
      "Total energy = 13423.162109 \n",
      "Attach cost = 13347.882812 \n",
      "Deformation cost = 75.278717\n"
     ]
    },
    {
     "name": "stdout",
     "output_type": "stream",
     "text": [
      "================================================================================\n",
      "Iteration: 781 \n",
      "Total energy = 13422.305664 \n",
      "Attach cost = 13347.047852 \n",
      "Deformation cost = 75.256500\n"
     ]
    },
    {
     "name": "stdout",
     "output_type": "stream",
     "text": [
      "================================================================================\n",
      "Iteration: 782 \n",
      "Total energy = 13420.685547 \n",
      "Attach cost = 13345.470703 \n",
      "Deformation cost = 75.213905\n"
     ]
    },
    {
     "name": "stdout",
     "output_type": "stream",
     "text": [
      "================================================================================\n",
      "Iteration: 783 \n",
      "Total energy = 13419.545898 \n",
      "Attach cost = 13344.342773 \n",
      "Deformation cost = 75.202370\n"
     ]
    },
    {
     "name": "stdout",
     "output_type": "stream",
     "text": [
      "================================================================================\n",
      "Iteration: 784 \n",
      "Total energy = 13417.718750 \n",
      "Attach cost = 13342.528320 \n",
      "Deformation cost = 75.189026\n"
     ]
    },
    {
     "name": "stdout",
     "output_type": "stream",
     "text": [
      "================================================================================\n",
      "Iteration: 785 \n",
      "Total energy = 13416.440430 \n",
      "Attach cost = 13341.246094 \n",
      "Deformation cost = 75.194786\n"
     ]
    },
    {
     "name": "stdout",
     "output_type": "stream",
     "text": [
      "================================================================================\n",
      "Iteration: 786 \n",
      "Total energy = 13416.002930 \n",
      "Attach cost = 13340.798828 \n",
      "Deformation cost = 75.203926\n"
     ]
    },
    {
     "name": "stdout",
     "output_type": "stream",
     "text": [
      "================================================================================\n",
      "Iteration: 787 \n",
      "Total energy = 13414.833984 \n",
      "Attach cost = 13339.629883 \n",
      "Deformation cost = 75.202217\n"
     ]
    },
    {
     "name": "stdout",
     "output_type": "stream",
     "text": [
      "================================================================================\n",
      "Iteration: 788 \n",
      "Total energy = 13412.831055 \n",
      "Attach cost = 13337.651367 \n",
      "Deformation cost = 75.179642\n"
     ]
    },
    {
     "name": "stdout",
     "output_type": "stream",
     "text": [
      "================================================================================\n",
      "Iteration: 789 \n",
      "Total energy = 13412.114258 \n",
      "Attach cost = 13337.064453 \n",
      "Deformation cost = 75.047768\n"
     ]
    },
    {
     "name": "stdout",
     "output_type": "stream",
     "text": [
      "================================================================================\n",
      "Iteration: 790 \n",
      "Total energy = 13409.237305 \n",
      "Attach cost = 13334.198242 \n",
      "Deformation cost = 75.039139\n"
     ]
    },
    {
     "name": "stdout",
     "output_type": "stream",
     "text": [
      "================================================================================\n",
      "Iteration: 791 \n",
      "Total energy = 13408.163086 \n",
      "Attach cost = 13333.166016 \n",
      "Deformation cost = 74.998146\n"
     ]
    },
    {
     "name": "stdout",
     "output_type": "stream",
     "text": [
      "================================================================================\n",
      "Iteration: 792 \n",
      "Total energy = 13407.467773 \n",
      "Attach cost = 13332.520508 \n",
      "Deformation cost = 74.948387\n"
     ]
    },
    {
     "name": "stdout",
     "output_type": "stream",
     "text": [
      "================================================================================\n",
      "Iteration: 793 \n",
      "Total energy = 13406.308594 \n",
      "Attach cost = 13331.422852 \n",
      "Deformation cost = 74.886665\n"
     ]
    },
    {
     "name": "stdout",
     "output_type": "stream",
     "text": [
      "================================================================================\n",
      "Iteration: 794 \n",
      "Total energy = 13404.323242 \n",
      "Attach cost = 13329.537109 \n",
      "Deformation cost = 74.784760\n"
     ]
    },
    {
     "name": "stdout",
     "output_type": "stream",
     "text": [
      "================================================================================\n",
      "Iteration: 795 \n",
      "Total energy = 13403.317383 \n",
      "Attach cost = 13328.570312 \n",
      "Deformation cost = 74.745026\n"
     ]
    },
    {
     "name": "stdout",
     "output_type": "stream",
     "text": [
      "================================================================================\n",
      "Iteration: 796 \n",
      "Total energy = 13401.720703 \n",
      "Attach cost = 13326.995117 \n",
      "Deformation cost = 74.725487\n"
     ]
    },
    {
     "name": "stdout",
     "output_type": "stream",
     "text": [
      "================================================================================\n",
      "Iteration: 797 \n",
      "Total energy = 13399.844727 \n",
      "Attach cost = 13325.101562 \n",
      "Deformation cost = 74.742760\n"
     ]
    },
    {
     "name": "stdout",
     "output_type": "stream",
     "text": [
      "================================================================================\n",
      "Iteration: 798 \n",
      "Total energy = 13397.965820 \n",
      "Attach cost = 13323.171875 \n",
      "Deformation cost = 74.793472\n"
     ]
    },
    {
     "name": "stdout",
     "output_type": "stream",
     "text": [
      "================================================================================\n",
      "Iteration: 799 \n",
      "Total energy = 13395.944336 \n",
      "Attach cost = 13321.098633 \n",
      "Deformation cost = 74.844902\n"
     ]
    },
    {
     "name": "stdout",
     "output_type": "stream",
     "text": [
      "================================================================================\n",
      "Iteration: 800 \n",
      "Total energy = 13393.594727 \n",
      "Attach cost = 13318.720703 \n",
      "Deformation cost = 74.873360\n"
     ]
    },
    {
     "name": "stdout",
     "output_type": "stream",
     "text": [
      "================================================================================\n",
      "Iteration: 801 \n",
      "Total energy = 13391.649414 \n",
      "Attach cost = 13316.768555 \n",
      "Deformation cost = 74.880722\n"
     ]
    },
    {
     "name": "stdout",
     "output_type": "stream",
     "text": [
      "================================================================================\n",
      "Iteration: 802 \n",
      "Total energy = 13390.551758 \n",
      "Attach cost = 13315.671875 \n",
      "Deformation cost = 74.880219\n"
     ]
    },
    {
     "name": "stdout",
     "output_type": "stream",
     "text": [
      "================================================================================\n",
      "Iteration: 803 \n",
      "Total energy = 13387.764648 \n",
      "Attach cost = 13312.863281 \n",
      "Deformation cost = 74.899162\n"
     ]
    },
    {
     "name": "stdout",
     "output_type": "stream",
     "text": [
      "================================================================================\n",
      "Iteration: 804 \n",
      "Total energy = 13386.956055 \n",
      "Attach cost = 13312.044922 \n",
      "Deformation cost = 74.911446\n"
     ]
    },
    {
     "name": "stdout",
     "output_type": "stream",
     "text": [
      "================================================================================\n",
      "Iteration: 805 \n",
      "Total energy = 13385.873047 \n",
      "Attach cost = 13310.949219 \n",
      "Deformation cost = 74.923378\n"
     ]
    },
    {
     "name": "stdout",
     "output_type": "stream",
     "text": [
      "================================================================================\n",
      "Iteration: 806 \n",
      "Total energy = 13384.968750 \n",
      "Attach cost = 13310.036133 \n",
      "Deformation cost = 74.931625\n"
     ]
    },
    {
     "name": "stdout",
     "output_type": "stream",
     "text": [
      "================================================================================\n",
      "Iteration: 807 \n",
      "Total energy = 13383.460938 \n",
      "Attach cost = 13308.511719 \n",
      "Deformation cost = 74.946800\n"
     ]
    },
    {
     "name": "stdout",
     "output_type": "stream",
     "text": [
      "================================================================================\n",
      "Iteration: 808 \n",
      "Total energy = 13381.532227 \n",
      "Attach cost = 13306.557617 \n",
      "Deformation cost = 74.972588\n"
     ]
    },
    {
     "name": "stdout",
     "output_type": "stream",
     "text": [
      "================================================================================\n",
      "Iteration: 809 \n",
      "Total energy = 13379.073242 \n",
      "Attach cost = 13304.068359 \n",
      "Deformation cost = 75.004997\n"
     ]
    },
    {
     "name": "stdout",
     "output_type": "stream",
     "text": [
      "================================================================================\n",
      "Iteration: 810 \n",
      "Total energy = 13376.734375 \n",
      "Attach cost = 13301.717773 \n",
      "Deformation cost = 75.017876\n"
     ]
    },
    {
     "name": "stdout",
     "output_type": "stream",
     "text": [
      "================================================================================\n",
      "Iteration: 811 \n",
      "Total energy = 13375.218750 \n",
      "Attach cost = 13300.206055 \n",
      "Deformation cost = 75.012329\n"
     ]
    },
    {
     "name": "stdout",
     "output_type": "stream",
     "text": [
      "================================================================================\n",
      "Iteration: 812 \n",
      "Total energy = 13374.121094 \n",
      "Attach cost = 13299.125977 \n",
      "Deformation cost = 74.994308\n"
     ]
    },
    {
     "name": "stdout",
     "output_type": "stream",
     "text": [
      "================================================================================\n",
      "Iteration: 813 \n",
      "Total energy = 13370.884766 \n",
      "Attach cost = 13295.955078 \n",
      "Deformation cost = 74.930824\n"
     ]
    },
    {
     "name": "stdout",
     "output_type": "stream",
     "text": [
      "================================================================================\n",
      "Iteration: 814 \n",
      "Total energy = 13367.476562 \n",
      "Attach cost = 13292.599609 \n",
      "Deformation cost = 74.875153\n"
     ]
    },
    {
     "name": "stdout",
     "output_type": "stream",
     "text": [
      "================================================================================\n",
      "Iteration: 815 \n",
      "Total energy = 13365.265625 \n",
      "Attach cost = 13290.398438 \n",
      "Deformation cost = 74.866600\n"
     ]
    },
    {
     "name": "stdout",
     "output_type": "stream",
     "text": [
      "================================================================================\n",
      "Iteration: 816 \n",
      "Total energy = 13364.481445 \n",
      "Attach cost = 13289.583984 \n",
      "Deformation cost = 74.896652\n"
     ]
    },
    {
     "name": "stdout",
     "output_type": "stream",
     "text": [
      "================================================================================\n",
      "Iteration: 817 \n",
      "Total energy = 13363.607422 \n",
      "Attach cost = 13288.681641 \n",
      "Deformation cost = 74.926659\n"
     ]
    },
    {
     "name": "stdout",
     "output_type": "stream",
     "text": [
      "================================================================================\n",
      "Iteration: 818 \n",
      "Total energy = 13362.959961 \n",
      "Attach cost = 13288.004883 \n",
      "Deformation cost = 74.954727\n"
     ]
    },
    {
     "name": "stdout",
     "output_type": "stream",
     "text": [
      "================================================================================\n",
      "Iteration: 819 \n",
      "Total energy = 13361.717773 \n",
      "Attach cost = 13286.690430 \n",
      "Deformation cost = 75.026268\n"
     ]
    },
    {
     "name": "stdout",
     "output_type": "stream",
     "text": [
      "================================================================================\n",
      "Iteration: 820 \n",
      "Total energy = 13360.431641 \n",
      "Attach cost = 13285.351562 \n",
      "Deformation cost = 75.078285\n"
     ]
    },
    {
     "name": "stdout",
     "output_type": "stream",
     "text": [
      "================================================================================\n",
      "Iteration: 821 \n",
      "Total energy = 13359.357422 \n",
      "Attach cost = 13284.164062 \n",
      "Deformation cost = 75.193558\n"
     ]
    },
    {
     "name": "stdout",
     "output_type": "stream",
     "text": [
      "================================================================================\n",
      "Iteration: 822 \n",
      "Total energy = 13357.801758 \n",
      "Attach cost = 13282.626953 \n",
      "Deformation cost = 75.175163\n"
     ]
    },
    {
     "name": "stdout",
     "output_type": "stream",
     "text": [
      "================================================================================\n",
      "Iteration: 823 \n",
      "Total energy = 13356.567383 \n",
      "Attach cost = 13281.411133 \n",
      "Deformation cost = 75.156258\n"
     ]
    },
    {
     "name": "stdout",
     "output_type": "stream",
     "text": [
      "================================================================================\n",
      "Iteration: 824 \n",
      "Total energy = 13354.178711 \n",
      "Attach cost = 13278.999023 \n",
      "Deformation cost = 75.180618\n"
     ]
    },
    {
     "name": "stdout",
     "output_type": "stream",
     "text": [
      "================================================================================\n",
      "Iteration: 825 \n",
      "Total energy = 13351.350586 \n",
      "Attach cost = 13276.106445 \n",
      "Deformation cost = 75.242386\n"
     ]
    },
    {
     "name": "stdout",
     "output_type": "stream",
     "text": [
      "================================================================================\n",
      "Iteration: 826 \n",
      "Total energy = 13348.631836 \n",
      "Attach cost = 13273.291016 \n",
      "Deformation cost = 75.339867\n"
     ]
    },
    {
     "name": "stdout",
     "output_type": "stream",
     "text": [
      "================================================================================\n",
      "Iteration: 827 \n",
      "Total energy = 13346.255859 \n",
      "Attach cost = 13270.791992 \n",
      "Deformation cost = 75.464241\n"
     ]
    },
    {
     "name": "stdout",
     "output_type": "stream",
     "text": [
      "================================================================================\n",
      "Iteration: 828 \n",
      "Total energy = 13345.112305 \n",
      "Attach cost = 13269.565430 \n",
      "Deformation cost = 75.544693\n"
     ]
    },
    {
     "name": "stdout",
     "output_type": "stream",
     "text": [
      "================================================================================\n",
      "Iteration: 829 \n",
      "Total energy = 13343.469727 \n",
      "Attach cost = 13267.946289 \n",
      "Deformation cost = 75.524765\n"
     ]
    },
    {
     "name": "stdout",
     "output_type": "stream",
     "text": [
      "================================================================================\n",
      "Iteration: 830 \n",
      "Total energy = 13339.890625 \n",
      "Attach cost = 13264.408203 \n",
      "Deformation cost = 75.482544\n"
     ]
    },
    {
     "name": "stdout",
     "output_type": "stream",
     "text": [
      "================================================================================\n",
      "Iteration: 831 \n",
      "Total energy = 13336.041992 \n",
      "Attach cost = 13260.581055 \n",
      "Deformation cost = 75.460312\n"
     ]
    },
    {
     "name": "stdout",
     "output_type": "stream",
     "text": [
      "================================================================================\n",
      "Iteration: 832 \n",
      "Total energy = 13330.606445 \n",
      "Attach cost = 13255.161133 \n",
      "Deformation cost = 75.444969\n"
     ]
    },
    {
     "name": "stdout",
     "output_type": "stream",
     "text": [
      "================================================================================\n",
      "Iteration: 833 \n",
      "Total energy = 13328.965820 \n",
      "Attach cost = 13253.525391 \n",
      "Deformation cost = 75.438721\n"
     ]
    },
    {
     "name": "stdout",
     "output_type": "stream",
     "text": [
      "================================================================================\n",
      "Iteration: 834 \n",
      "Total energy = 13325.543945 \n",
      "Attach cost = 13250.089844 \n",
      "Deformation cost = 75.452812\n"
     ]
    },
    {
     "name": "stdout",
     "output_type": "stream",
     "text": [
      "================================================================================\n",
      "Iteration: 835 \n",
      "Total energy = 13323.134766 \n",
      "Attach cost = 13247.655273 \n",
      "Deformation cost = 75.479919\n"
     ]
    },
    {
     "name": "stdout",
     "output_type": "stream",
     "text": [
      "================================================================================\n",
      "Iteration: 836 \n",
      "Total energy = 13319.612305 \n",
      "Attach cost = 13244.101562 \n",
      "Deformation cost = 75.510368\n"
     ]
    },
    {
     "name": "stdout",
     "output_type": "stream",
     "text": [
      "================================================================================\n",
      "Iteration: 837 \n",
      "Total energy = 13315.169922 \n",
      "Attach cost = 13239.614258 \n",
      "Deformation cost = 75.554108\n"
     ]
    },
    {
     "name": "stdout",
     "output_type": "stream",
     "text": [
      "================================================================================\n",
      "Iteration: 838 \n",
      "Total energy = 13312.678711 \n",
      "Attach cost = 13237.116211 \n",
      "Deformation cost = 75.561966\n"
     ]
    },
    {
     "name": "stdout",
     "output_type": "stream",
     "text": [
      "================================================================================\n",
      "Iteration: 839 \n",
      "Total energy = 13308.477539 \n",
      "Attach cost = 13232.899414 \n",
      "Deformation cost = 75.578827\n"
     ]
    },
    {
     "name": "stdout",
     "output_type": "stream",
     "text": [
      "================================================================================\n",
      "Iteration: 840 \n",
      "Total energy = 13306.000000 \n",
      "Attach cost = 13230.426758 \n",
      "Deformation cost = 75.572105\n"
     ]
    },
    {
     "name": "stdout",
     "output_type": "stream",
     "text": [
      "================================================================================\n",
      "Iteration: 841 \n",
      "Total energy = 13304.523438 \n",
      "Attach cost = 13228.963867 \n",
      "Deformation cost = 75.558510\n"
     ]
    },
    {
     "name": "stdout",
     "output_type": "stream",
     "text": [
      "================================================================================\n",
      "Iteration: 842 \n",
      "Total energy = 13302.262695 \n",
      "Attach cost = 13226.719727 \n",
      "Deformation cost = 75.542038\n"
     ]
    },
    {
     "name": "stdout",
     "output_type": "stream",
     "text": [
      "================================================================================\n",
      "Iteration: 843 \n",
      "Total energy = 13297.840820 \n",
      "Attach cost = 13222.289062 \n",
      "Deformation cost = 75.551682\n"
     ]
    },
    {
     "name": "stdout",
     "output_type": "stream",
     "text": [
      "================================================================================\n",
      "Iteration: 844 \n",
      "Total energy = 13295.078125 \n",
      "Attach cost = 13219.507812 \n",
      "Deformation cost = 75.569069\n"
     ]
    },
    {
     "name": "stdout",
     "output_type": "stream",
     "text": [
      "================================================================================\n",
      "Iteration: 845 \n",
      "Total energy = 13290.124023 \n",
      "Attach cost = 13214.480469 \n",
      "Deformation cost = 75.644478\n"
     ]
    },
    {
     "name": "stdout",
     "output_type": "stream",
     "text": [
      "================================================================================\n",
      "Iteration: 846 \n",
      "Total energy = 13286.392578 \n",
      "Attach cost = 13210.641602 \n",
      "Deformation cost = 75.751625\n"
     ]
    },
    {
     "name": "stdout",
     "output_type": "stream",
     "text": [
      "================================================================================\n",
      "Iteration: 847 \n",
      "Total energy = 13283.542969 \n",
      "Attach cost = 13207.646484 \n",
      "Deformation cost = 75.896454\n"
     ]
    },
    {
     "name": "stdout",
     "output_type": "stream",
     "text": [
      "================================================================================\n",
      "Iteration: 848 \n",
      "Total energy = 13280.598633 \n",
      "Attach cost = 13204.619141 \n",
      "Deformation cost = 75.979141\n"
     ]
    },
    {
     "name": "stdout",
     "output_type": "stream",
     "text": [
      "================================================================================\n",
      "Iteration: 849 \n",
      "Total energy = 13278.018555 \n",
      "Attach cost = 13201.972656 \n",
      "Deformation cost = 76.048294\n"
     ]
    },
    {
     "name": "stdout",
     "output_type": "stream",
     "text": [
      "================================================================================\n",
      "Iteration: 850 \n",
      "Total energy = 13275.856445 \n",
      "Attach cost = 13199.744141 \n",
      "Deformation cost = 76.112473\n"
     ]
    },
    {
     "name": "stdout",
     "output_type": "stream",
     "text": [
      "================================================================================\n",
      "Iteration: 851 \n",
      "Total energy = 13274.767578 \n",
      "Attach cost = 13198.628906 \n",
      "Deformation cost = 76.139282\n"
     ]
    },
    {
     "name": "stdout",
     "output_type": "stream",
     "text": [
      "================================================================================\n",
      "Iteration: 852 \n",
      "Total energy = 13273.681641 \n",
      "Attach cost = 13197.543945 \n",
      "Deformation cost = 76.137390\n"
     ]
    },
    {
     "name": "stdout",
     "output_type": "stream",
     "text": [
      "================================================================================\n",
      "Iteration: 853 \n",
      "Total energy = 13272.356445 \n",
      "Attach cost = 13196.243164 \n",
      "Deformation cost = 76.113998\n"
     ]
    },
    {
     "name": "stdout",
     "output_type": "stream",
     "text": [
      "================================================================================\n",
      "Iteration: 854 \n",
      "Total energy = 13270.349609 \n",
      "Attach cost = 13194.261719 \n",
      "Deformation cost = 76.087242\n"
     ]
    },
    {
     "name": "stdout",
     "output_type": "stream",
     "text": [
      "================================================================================\n",
      "Iteration: 855 \n",
      "Total energy = 13269.378906 \n",
      "Attach cost = 13193.354492 \n",
      "Deformation cost = 76.025230\n"
     ]
    },
    {
     "name": "stdout",
     "output_type": "stream",
     "text": [
      "================================================================================\n",
      "Iteration: 856 \n",
      "Total energy = 13266.307617 \n",
      "Attach cost = 13190.271484 \n",
      "Deformation cost = 76.038589\n"
     ]
    },
    {
     "name": "stdout",
     "output_type": "stream",
     "text": [
      "================================================================================\n",
      "Iteration: 857 \n",
      "Total energy = 13265.650391 \n",
      "Attach cost = 13189.599609 \n",
      "Deformation cost = 76.052177\n"
     ]
    },
    {
     "name": "stdout",
     "output_type": "stream",
     "text": [
      "================================================================================\n",
      "Iteration: 858 \n",
      "Total energy = 13264.763672 \n",
      "Attach cost = 13188.695312 \n",
      "Deformation cost = 76.065956\n"
     ]
    },
    {
     "name": "stdout",
     "output_type": "stream",
     "text": [
      "================================================================================\n",
      "Iteration: 859 \n",
      "Total energy = 13263.583984 \n",
      "Attach cost = 13187.504883 \n",
      "Deformation cost = 76.079758\n"
     ]
    },
    {
     "name": "stdout",
     "output_type": "stream",
     "text": [
      "================================================================================\n",
      "Iteration: 860 \n",
      "Total energy = 13260.989258 \n",
      "Attach cost = 13184.860352 \n",
      "Deformation cost = 76.127808\n"
     ]
    },
    {
     "name": "stdout",
     "output_type": "stream",
     "text": [
      "================================================================================\n",
      "Iteration: 861 \n",
      "Total energy = 13258.623047 \n",
      "Attach cost = 13182.449219 \n",
      "Deformation cost = 76.173172\n"
     ]
    },
    {
     "name": "stdout",
     "output_type": "stream",
     "text": [
      "================================================================================\n",
      "Iteration: 862 \n",
      "Total energy = 13256.869141 \n",
      "Attach cost = 13180.687500 \n",
      "Deformation cost = 76.182053\n"
     ]
    },
    {
     "name": "stdout",
     "output_type": "stream",
     "text": [
      "================================================================================\n",
      "Iteration: 863 \n",
      "Total energy = 13255.918945 \n",
      "Attach cost = 13179.743164 \n",
      "Deformation cost = 76.176529\n"
     ]
    },
    {
     "name": "stdout",
     "output_type": "stream",
     "text": [
      "================================================================================\n",
      "Iteration: 864 \n",
      "Total energy = 13255.024414 \n",
      "Attach cost = 13178.852539 \n",
      "Deformation cost = 76.172485\n"
     ]
    },
    {
     "name": "stdout",
     "output_type": "stream",
     "text": [
      "================================================================================\n",
      "Iteration: 865 \n",
      "Total energy = 13252.836914 \n",
      "Attach cost = 13176.674805 \n",
      "Deformation cost = 76.163841\n"
     ]
    },
    {
     "name": "stdout",
     "output_type": "stream",
     "text": [
      "================================================================================\n",
      "Iteration: 866 \n",
      "Total energy = 13248.387695 \n",
      "Attach cost = 13172.218750 \n",
      "Deformation cost = 76.167091\n"
     ]
    },
    {
     "name": "stdout",
     "output_type": "stream",
     "text": [
      "================================================================================\n",
      "Iteration: 867 \n",
      "Total energy = 13243.222656 \n",
      "Attach cost = 13167.032227 \n",
      "Deformation cost = 76.190727\n"
     ]
    },
    {
     "name": "stdout",
     "output_type": "stream",
     "text": [
      "================================================================================\n",
      "Iteration: 868 \n",
      "Total energy = 13238.477539 \n",
      "Attach cost = 13162.258789 \n",
      "Deformation cost = 76.218758\n"
     ]
    },
    {
     "name": "stdout",
     "output_type": "stream",
     "text": [
      "================================================================================\n",
      "Iteration: 869 \n",
      "Total energy = 13235.729492 \n",
      "Attach cost = 13159.487305 \n",
      "Deformation cost = 76.242554\n"
     ]
    },
    {
     "name": "stdout",
     "output_type": "stream",
     "text": [
      "================================================================================\n",
      "Iteration: 870 \n",
      "Total energy = 13233.895508 \n",
      "Attach cost = 13157.628906 \n",
      "Deformation cost = 76.266647\n"
     ]
    },
    {
     "name": "stdout",
     "output_type": "stream",
     "text": [
      "================================================================================\n",
      "Iteration: 871 \n",
      "Total energy = 13232.012695 \n",
      "Attach cost = 13155.727539 \n",
      "Deformation cost = 76.286469\n"
     ]
    },
    {
     "name": "stdout",
     "output_type": "stream",
     "text": [
      "================================================================================\n",
      "Iteration: 872 \n",
      "Total energy = 13225.821289 \n",
      "Attach cost = 13149.468750 \n",
      "Deformation cost = 76.352600\n"
     ]
    },
    {
     "name": "stdout",
     "output_type": "stream",
     "text": [
      "================================================================================\n",
      "Iteration: 873 \n",
      "Total energy = 13222.237305 \n",
      "Attach cost = 13145.789062 \n",
      "Deformation cost = 76.447601\n"
     ]
    },
    {
     "name": "stdout",
     "output_type": "stream",
     "text": [
      "================================================================================\n",
      "Iteration: 874 \n",
      "Total energy = 13216.174805 \n",
      "Attach cost = 13139.708984 \n",
      "Deformation cost = 76.465332\n"
     ]
    },
    {
     "name": "stdout",
     "output_type": "stream",
     "text": [
      "================================================================================\n",
      "Iteration: 875 \n",
      "Total energy = 13213.608398 \n",
      "Attach cost = 13137.149414 \n",
      "Deformation cost = 76.460274\n"
     ]
    },
    {
     "name": "stdout",
     "output_type": "stream",
     "text": [
      "================================================================================\n",
      "Iteration: 876 \n",
      "Total energy = 13212.104492 \n",
      "Attach cost = 13135.634766 \n",
      "Deformation cost = 76.470078\n"
     ]
    },
    {
     "name": "stdout",
     "output_type": "stream",
     "text": [
      "================================================================================\n",
      "Iteration: 877 \n",
      "Total energy = 13209.595703 \n",
      "Attach cost = 13133.105469 \n",
      "Deformation cost = 76.491158\n"
     ]
    },
    {
     "name": "stdout",
     "output_type": "stream",
     "text": [
      "================================================================================\n",
      "Iteration: 878 \n",
      "Total energy = 13204.117188 \n",
      "Attach cost = 13127.540039 \n",
      "Deformation cost = 76.578690\n"
     ]
    },
    {
     "name": "stdout",
     "output_type": "stream",
     "text": [
      "================================================================================\n",
      "Iteration: 879 \n",
      "Total energy = 13197.101562 \n",
      "Attach cost = 13120.418945 \n",
      "Deformation cost = 76.684250\n"
     ]
    },
    {
     "name": "stdout",
     "output_type": "stream",
     "text": [
      "================================================================================\n",
      "Iteration: 880 \n",
      "Total energy = 13189.717773 \n",
      "Attach cost = 13112.934570 \n",
      "Deformation cost = 76.783447\n"
     ]
    },
    {
     "name": "stdout",
     "output_type": "stream",
     "text": [
      "================================================================================\n",
      "Iteration: 881 \n",
      "Total energy = 13185.997070 \n",
      "Attach cost = 13109.126953 \n",
      "Deformation cost = 76.870895\n"
     ]
    },
    {
     "name": "stdout",
     "output_type": "stream",
     "text": [
      "================================================================================\n",
      "Iteration: 882 \n",
      "Total energy = 13184.229492 \n",
      "Attach cost = 13107.355469 \n",
      "Deformation cost = 76.874176\n"
     ]
    },
    {
     "name": "stdout",
     "output_type": "stream",
     "text": [
      "================================================================================\n",
      "Iteration: 883 \n",
      "Total energy = 13183.493164 \n",
      "Attach cost = 13106.626953 \n",
      "Deformation cost = 76.867928\n"
     ]
    },
    {
     "name": "stdout",
     "output_type": "stream",
     "text": [
      "================================================================================\n",
      "Iteration: 884 \n",
      "Total energy = 13179.083984 \n",
      "Attach cost = 13102.194336 \n",
      "Deformation cost = 76.889015\n"
     ]
    },
    {
     "name": "stdout",
     "output_type": "stream",
     "text": [
      "================================================================================\n",
      "Iteration: 885 \n",
      "Total energy = 13176.108398 \n",
      "Attach cost = 13099.159180 \n",
      "Deformation cost = 76.948906\n"
     ]
    },
    {
     "name": "stdout",
     "output_type": "stream",
     "text": [
      "================================================================================\n",
      "Iteration: 886 \n",
      "Total energy = 13174.663086 \n",
      "Attach cost = 13097.575195 \n",
      "Deformation cost = 77.087669\n"
     ]
    },
    {
     "name": "stdout",
     "output_type": "stream",
     "text": [
      "================================================================================\n",
      "Iteration: 887 \n",
      "Total energy = 13173.310547 \n",
      "Attach cost = 13096.240234 \n",
      "Deformation cost = 77.071342\n"
     ]
    },
    {
     "name": "stdout",
     "output_type": "stream",
     "text": [
      "================================================================================\n",
      "Iteration: 888 \n",
      "Total energy = 13172.821289 \n",
      "Attach cost = 13095.745117 \n",
      "Deformation cost = 77.076691\n"
     ]
    },
    {
     "name": "stdout",
     "output_type": "stream",
     "text": [
      "================================================================================\n",
      "Iteration: 889 \n",
      "Total energy = 13171.948242 \n",
      "Attach cost = 13094.854492 \n",
      "Deformation cost = 77.095932\n"
     ]
    },
    {
     "name": "stdout",
     "output_type": "stream",
     "text": [
      "================================================================================\n",
      "Iteration: 890 \n",
      "Total energy = 13170.373047 \n",
      "Attach cost = 13093.231445 \n",
      "Deformation cost = 77.139572\n"
     ]
    },
    {
     "name": "stdout",
     "output_type": "stream",
     "text": [
      "================================================================================\n",
      "Iteration: 891 \n",
      "Total energy = 13168.845703 \n",
      "Attach cost = 13091.627930 \n",
      "Deformation cost = 77.217384\n"
     ]
    },
    {
     "name": "stdout",
     "output_type": "stream",
     "text": [
      "================================================================================\n",
      "Iteration: 892 \n",
      "Total energy = 13167.154297 \n",
      "Attach cost = 13089.915039 \n",
      "Deformation cost = 77.238815\n"
     ]
    },
    {
     "name": "stdout",
     "output_type": "stream",
     "text": [
      "================================================================================\n",
      "Iteration: 893 \n",
      "Total energy = 13165.533203 \n",
      "Attach cost = 13088.268555 \n",
      "Deformation cost = 77.263992\n"
     ]
    },
    {
     "name": "stdout",
     "output_type": "stream",
     "text": [
      "================================================================================\n",
      "Iteration: 894 \n",
      "Total energy = 13164.450195 \n",
      "Attach cost = 13087.158203 \n",
      "Deformation cost = 77.292236\n"
     ]
    },
    {
     "name": "stdout",
     "output_type": "stream",
     "text": [
      "================================================================================\n",
      "Iteration: 895 \n",
      "Total energy = 13162.866211 \n",
      "Attach cost = 13085.443359 \n",
      "Deformation cost = 77.423714\n"
     ]
    },
    {
     "name": "stdout",
     "output_type": "stream",
     "text": [
      "================================================================================\n",
      "Iteration: 896 \n",
      "Total energy = 13160.508789 \n",
      "Attach cost = 13083.063477 \n",
      "Deformation cost = 77.445694\n"
     ]
    },
    {
     "name": "stdout",
     "output_type": "stream",
     "text": [
      "================================================================================\n",
      "Iteration: 897 \n",
      "Total energy = 13159.793945 \n",
      "Attach cost = 13082.339844 \n",
      "Deformation cost = 77.453194\n"
     ]
    },
    {
     "name": "stdout",
     "output_type": "stream",
     "text": [
      "================================================================================\n",
      "Iteration: 898 \n",
      "Total energy = 13158.659180 \n",
      "Attach cost = 13081.182617 \n",
      "Deformation cost = 77.476448\n"
     ]
    },
    {
     "name": "stdout",
     "output_type": "stream",
     "text": [
      "================================================================================\n",
      "Iteration: 899 \n",
      "Total energy = 13156.392578 \n",
      "Attach cost = 13078.845703 \n",
      "Deformation cost = 77.544495\n"
     ]
    },
    {
     "name": "stdout",
     "output_type": "stream",
     "text": [
      "================================================================================\n",
      "Iteration: 900 \n",
      "Total energy = 13153.421875 \n",
      "Attach cost = 13075.795898 \n",
      "Deformation cost = 77.625786\n"
     ]
    },
    {
     "name": "stdout",
     "output_type": "stream",
     "text": [
      "================================================================================\n",
      "Iteration: 901 \n",
      "Total energy = 13151.927734 \n",
      "Attach cost = 13074.220703 \n",
      "Deformation cost = 77.706772\n"
     ]
    },
    {
     "name": "stdout",
     "output_type": "stream",
     "text": [
      "================================================================================\n",
      "Iteration: 902 \n",
      "Total energy = 13150.400391 \n",
      "Attach cost = 13072.705078 \n",
      "Deformation cost = 77.694931\n"
     ]
    },
    {
     "name": "stdout",
     "output_type": "stream",
     "text": [
      "================================================================================\n",
      "Iteration: 903 \n",
      "Total energy = 13149.685547 \n",
      "Attach cost = 13072.000977 \n",
      "Deformation cost = 77.683754\n"
     ]
    },
    {
     "name": "stdout",
     "output_type": "stream",
     "text": [
      "================================================================================\n",
      "Iteration: 904 \n",
      "Total energy = 13148.775391 \n",
      "Attach cost = 13071.089844 \n",
      "Deformation cost = 77.685440\n"
     ]
    },
    {
     "name": "stdout",
     "output_type": "stream",
     "text": [
      "================================================================================\n",
      "Iteration: 905 \n",
      "Total energy = 13146.902344 \n",
      "Attach cost = 13069.195312 \n",
      "Deformation cost = 77.707672\n"
     ]
    },
    {
     "name": "stdout",
     "output_type": "stream",
     "text": [
      "================================================================================\n",
      "Iteration: 906 \n",
      "Total energy = 13144.560547 \n",
      "Attach cost = 13066.805664 \n",
      "Deformation cost = 77.756416\n"
     ]
    },
    {
     "name": "stdout",
     "output_type": "stream",
     "text": [
      "================================================================================\n",
      "Iteration: 907 \n",
      "Total energy = 13142.143555 \n",
      "Attach cost = 13064.304688 \n",
      "Deformation cost = 77.838936\n"
     ]
    },
    {
     "name": "stdout",
     "output_type": "stream",
     "text": [
      "================================================================================\n",
      "Iteration: 908 \n",
      "Total energy = 13141.244141 \n",
      "Attach cost = 13063.369141 \n",
      "Deformation cost = 77.875534\n"
     ]
    },
    {
     "name": "stdout",
     "output_type": "stream",
     "text": [
      "================================================================================\n",
      "Iteration: 909 \n",
      "Total energy = 13140.425781 \n",
      "Attach cost = 13062.516602 \n",
      "Deformation cost = 77.909813\n"
     ]
    },
    {
     "name": "stdout",
     "output_type": "stream",
     "text": [
      "================================================================================\n",
      "Iteration: 910 \n",
      "Total energy = 13138.914062 \n",
      "Attach cost = 13060.951172 \n",
      "Deformation cost = 77.962914\n"
     ]
    },
    {
     "name": "stdout",
     "output_type": "stream",
     "text": [
      "================================================================================\n",
      "Iteration: 911 \n",
      "Total energy = 13136.048828 \n",
      "Attach cost = 13057.966797 \n",
      "Deformation cost = 78.082352\n"
     ]
    },
    {
     "name": "stdout",
     "output_type": "stream",
     "text": [
      "================================================================================\n",
      "Iteration: 912 \n",
      "Total energy = 13134.355469 \n",
      "Attach cost = 13056.085938 \n",
      "Deformation cost = 78.268974\n"
     ]
    },
    {
     "name": "stdout",
     "output_type": "stream",
     "text": [
      "================================================================================\n",
      "Iteration: 913 \n",
      "Total energy = 13132.147461 \n",
      "Attach cost = 13053.911133 \n",
      "Deformation cost = 78.235893\n"
     ]
    },
    {
     "name": "stdout",
     "output_type": "stream",
     "text": [
      "================================================================================\n",
      "Iteration: 914 \n",
      "Total energy = 13131.269531 \n",
      "Attach cost = 13053.036133 \n",
      "Deformation cost = 78.234612\n"
     ]
    },
    {
     "name": "stdout",
     "output_type": "stream",
     "text": [
      "================================================================================\n",
      "Iteration: 915 \n",
      "Total energy = 13130.587891 \n",
      "Attach cost = 13052.336914 \n",
      "Deformation cost = 78.250694\n"
     ]
    },
    {
     "name": "stdout",
     "output_type": "stream",
     "text": [
      "================================================================================\n",
      "Iteration: 916 \n",
      "Total energy = 13128.022461 \n",
      "Attach cost = 13049.656250 \n",
      "Deformation cost = 78.366638\n"
     ]
    },
    {
     "name": "stdout",
     "output_type": "stream",
     "text": [
      "================================================================================\n",
      "Iteration: 917 \n",
      "Total energy = 13124.332031 \n",
      "Attach cost = 13045.785156 \n",
      "Deformation cost = 78.547752\n"
     ]
    },
    {
     "name": "stdout",
     "output_type": "stream",
     "text": [
      "================================================================================\n",
      "Iteration: 918 \n",
      "Total energy = 13119.971680 \n",
      "Attach cost = 13041.176758 \n",
      "Deformation cost = 78.795158\n"
     ]
    },
    {
     "name": "stdout",
     "output_type": "stream",
     "text": [
      "================================================================================\n",
      "Iteration: 919 \n",
      "Total energy = 13115.708984 \n",
      "Attach cost = 13036.741211 \n",
      "Deformation cost = 78.967979\n"
     ]
    },
    {
     "name": "stdout",
     "output_type": "stream",
     "text": [
      "================================================================================\n",
      "Iteration: 920 \n",
      "Total energy = 13113.073242 \n",
      "Attach cost = 13033.981445 \n",
      "Deformation cost = 79.090775\n"
     ]
    },
    {
     "name": "stdout",
     "output_type": "stream",
     "text": [
      "================================================================================\n",
      "Iteration: 921 \n",
      "Total energy = 13111.046875 \n",
      "Attach cost = 13031.960938 \n",
      "Deformation cost = 79.083488\n"
     ]
    },
    {
     "name": "stdout",
     "output_type": "stream",
     "text": [
      "================================================================================\n",
      "Iteration: 922 \n",
      "Total energy = 13107.751953 \n",
      "Attach cost = 13028.646484 \n",
      "Deformation cost = 79.105911\n"
     ]
    },
    {
     "name": "stdout",
     "output_type": "stream",
     "text": [
      "================================================================================\n",
      "Iteration: 923 \n",
      "Total energy = 13103.381836 \n",
      "Attach cost = 13024.180664 \n",
      "Deformation cost = 79.202187\n"
     ]
    },
    {
     "name": "stdout",
     "output_type": "stream",
     "text": [
      "================================================================================\n",
      "Iteration: 924 \n",
      "Total energy = 13101.458984 \n",
      "Attach cost = 13022.171875 \n",
      "Deformation cost = 79.287933\n"
     ]
    },
    {
     "name": "stdout",
     "output_type": "stream",
     "text": [
      "================================================================================\n",
      "Iteration: 925 \n",
      "Total energy = 13098.722656 \n",
      "Attach cost = 13019.318359 \n",
      "Deformation cost = 79.405190\n"
     ]
    },
    {
     "name": "stdout",
     "output_type": "stream",
     "text": [
      "================================================================================\n",
      "Iteration: 926 \n",
      "Total energy = 13096.681641 \n",
      "Attach cost = 13017.149414 \n",
      "Deformation cost = 79.531403\n"
     ]
    },
    {
     "name": "stdout",
     "output_type": "stream",
     "text": [
      "================================================================================\n",
      "Iteration: 927 \n",
      "Total energy = 13095.200195 \n",
      "Attach cost = 13015.564453 \n",
      "Deformation cost = 79.638031\n"
     ]
    },
    {
     "name": "stdout",
     "output_type": "stream",
     "text": [
      "================================================================================\n",
      "Iteration: 928 \n",
      "Total energy = 13093.874023 \n",
      "Attach cost = 13014.185547 \n",
      "Deformation cost = 79.687408\n"
     ]
    },
    {
     "name": "stdout",
     "output_type": "stream",
     "text": [
      "================================================================================\n",
      "Iteration: 929 \n",
      "Total energy = 13091.022461 \n",
      "Attach cost = 13011.237305 \n",
      "Deformation cost = 79.785439\n"
     ]
    },
    {
     "name": "stdout",
     "output_type": "stream",
     "text": [
      "================================================================================\n",
      "Iteration: 930 \n",
      "Total energy = 13088.053711 \n",
      "Attach cost = 13008.147461 \n",
      "Deformation cost = 79.905006\n"
     ]
    },
    {
     "name": "stdout",
     "output_type": "stream",
     "text": [
      "================================================================================\n",
      "Iteration: 931 \n",
      "Total energy = 13085.862305 \n",
      "Attach cost = 13005.799805 \n",
      "Deformation cost = 80.061691\n"
     ]
    },
    {
     "name": "stdout",
     "output_type": "stream",
     "text": [
      "================================================================================\n",
      "Iteration: 932 \n",
      "Total energy = 13083.052734 \n",
      "Attach cost = 13002.859375 \n",
      "Deformation cost = 80.194138\n"
     ]
    },
    {
     "name": "stdout",
     "output_type": "stream",
     "text": [
      "================================================================================\n",
      "Iteration: 933 \n",
      "Total energy = 13081.700195 \n",
      "Attach cost = 13001.449219 \n",
      "Deformation cost = 80.250664\n"
     ]
    },
    {
     "name": "stdout",
     "output_type": "stream",
     "text": [
      "================================================================================\n",
      "Iteration: 934 \n",
      "Total energy = 13079.412109 \n",
      "Attach cost = 12999.044922 \n",
      "Deformation cost = 80.369034\n"
     ]
    },
    {
     "name": "stdout",
     "output_type": "stream",
     "text": [
      "================================================================================\n",
      "Iteration: 935 \n",
      "Total energy = 13076.068359 \n",
      "Attach cost = 12995.481445 \n",
      "Deformation cost = 80.586479\n"
     ]
    },
    {
     "name": "stdout",
     "output_type": "stream",
     "text": [
      "================================================================================\n",
      "Iteration: 936 \n",
      "Total energy = 13071.125977 \n",
      "Attach cost = 12990.308594 \n",
      "Deformation cost = 80.816345\n"
     ]
    },
    {
     "name": "stdout",
     "output_type": "stream",
     "text": [
      "================================================================================\n",
      "Iteration: 937 \n",
      "Total energy = 13065.877930 \n",
      "Attach cost = 12984.454102 \n",
      "Deformation cost = 81.423233\n"
     ]
    },
    {
     "name": "stdout",
     "output_type": "stream",
     "text": [
      "================================================================================\n",
      "Iteration: 938 \n",
      "Total energy = 13059.748047 \n",
      "Attach cost = 12978.244141 \n",
      "Deformation cost = 81.503464\n"
     ]
    },
    {
     "name": "stdout",
     "output_type": "stream",
     "text": [
      "================================================================================\n",
      "Iteration: 939 \n",
      "Total energy = 13057.853516 \n",
      "Attach cost = 12976.304688 \n",
      "Deformation cost = 81.547585\n"
     ]
    },
    {
     "name": "stdout",
     "output_type": "stream",
     "text": [
      "================================================================================\n",
      "Iteration: 940 \n",
      "Total energy = 13055.481445 \n",
      "Attach cost = 12973.893555 \n",
      "Deformation cost = 81.588226\n"
     ]
    },
    {
     "name": "stdout",
     "output_type": "stream",
     "text": [
      "================================================================================\n",
      "Iteration: 941 \n",
      "Total energy = 13050.229492 \n",
      "Attach cost = 12968.372070 \n",
      "Deformation cost = 81.858192\n"
     ]
    },
    {
     "name": "stdout",
     "output_type": "stream",
     "text": [
      "================================================================================\n",
      "Iteration: 942 \n",
      "Total energy = 13043.378906 \n",
      "Attach cost = 12961.312500 \n",
      "Deformation cost = 82.066139\n"
     ]
    },
    {
     "name": "stdout",
     "output_type": "stream",
     "text": [
      "================================================================================\n",
      "Iteration: 943 \n",
      "Total energy = 13040.535156 \n",
      "Attach cost = 12958.303711 \n",
      "Deformation cost = 82.230247\n"
     ]
    },
    {
     "name": "stdout",
     "output_type": "stream",
     "text": [
      "================================================================================\n",
      "Iteration: 944 \n",
      "Total energy = 13035.597656 \n",
      "Attach cost = 12953.196289 \n",
      "Deformation cost = 82.401100\n"
     ]
    },
    {
     "name": "stdout",
     "output_type": "stream",
     "text": [
      "================================================================================\n",
      "Iteration: 945 \n",
      "Total energy = 13034.115234 \n",
      "Attach cost = 12951.722656 \n",
      "Deformation cost = 82.392151\n"
     ]
    },
    {
     "name": "stdout",
     "output_type": "stream",
     "text": [
      "================================================================================\n",
      "Iteration: 946 \n",
      "Total energy = 13033.138672 \n",
      "Attach cost = 12950.560547 \n",
      "Deformation cost = 82.579353\n"
     ]
    },
    {
     "name": "stdout",
     "output_type": "stream",
     "text": [
      "================================================================================\n",
      "Iteration: 947 \n",
      "Total energy = 13032.203125 \n",
      "Attach cost = 12949.625000 \n",
      "Deformation cost = 82.578453\n"
     ]
    },
    {
     "name": "stdout",
     "output_type": "stream",
     "text": [
      "================================================================================\n",
      "Iteration: 948 \n",
      "Total energy = 13030.965820 \n",
      "Attach cost = 12948.322266 \n",
      "Deformation cost = 82.641891\n"
     ]
    },
    {
     "name": "stdout",
     "output_type": "stream",
     "text": [
      "================================================================================\n",
      "Iteration: 949 \n",
      "Total energy = 13030.572266 \n",
      "Attach cost = 12947.884766 \n",
      "Deformation cost = 82.687965\n"
     ]
    },
    {
     "name": "stdout",
     "output_type": "stream",
     "text": [
      "================================================================================\n",
      "Iteration: 950 \n",
      "Total energy = 13027.409180 \n",
      "Attach cost = 12944.648438 \n",
      "Deformation cost = 82.761787\n"
     ]
    },
    {
     "name": "stdout",
     "output_type": "stream",
     "text": [
      "================================================================================\n",
      "Iteration: 951 \n",
      "Total energy = 13026.242188 \n",
      "Attach cost = 12943.467773 \n",
      "Deformation cost = 82.773643\n"
     ]
    },
    {
     "name": "stdout",
     "output_type": "stream",
     "text": [
      "================================================================================\n",
      "Iteration: 952 \n",
      "Total energy = 13024.408203 \n",
      "Attach cost = 12941.571289 \n",
      "Deformation cost = 82.837166\n"
     ]
    },
    {
     "name": "stdout",
     "output_type": "stream",
     "text": [
      "================================================================================\n",
      "Iteration: 953 \n",
      "Total energy = 13023.733398 \n",
      "Attach cost = 12940.959961 \n",
      "Deformation cost = 82.771164\n"
     ]
    },
    {
     "name": "stdout",
     "output_type": "stream",
     "text": [
      "================================================================================\n",
      "Iteration: 954 \n",
      "Total energy = 13022.356445 \n",
      "Attach cost = 12939.568359 \n",
      "Deformation cost = 82.787872\n"
     ]
    },
    {
     "name": "stdout",
     "output_type": "stream",
     "text": [
      "================================================================================\n",
      "Iteration: 955 \n",
      "Total energy = 13021.655273 \n",
      "Attach cost = 12938.859375 \n",
      "Deformation cost = 82.795128\n"
     ]
    },
    {
     "name": "stdout",
     "output_type": "stream",
     "text": [
      "================================================================================\n",
      "Iteration: 956 \n",
      "Total energy = 13020.412109 \n",
      "Attach cost = 12937.625977 \n",
      "Deformation cost = 82.788261\n"
     ]
    },
    {
     "name": "stdout",
     "output_type": "stream",
     "text": [
      "================================================================================\n",
      "Iteration: 957 \n",
      "Total energy = 13018.082031 \n",
      "Attach cost = 12935.301758 \n",
      "Deformation cost = 82.781570\n"
     ]
    },
    {
     "name": "stdout",
     "output_type": "stream",
     "text": [
      "================================================================================\n",
      "Iteration: 958 \n",
      "Total energy = 13016.011719 \n",
      "Attach cost = 12933.325195 \n",
      "Deformation cost = 82.686996\n"
     ]
    },
    {
     "name": "stdout",
     "output_type": "stream",
     "text": [
      "================================================================================\n",
      "Iteration: 959 \n",
      "Total energy = 13011.477539 \n",
      "Attach cost = 12928.773438 \n",
      "Deformation cost = 82.704353\n"
     ]
    },
    {
     "name": "stdout",
     "output_type": "stream",
     "text": [
      "================================================================================\n",
      "Iteration: 960 \n",
      "Total energy = 13008.291016 \n",
      "Attach cost = 12925.593750 \n",
      "Deformation cost = 82.697304\n"
     ]
    },
    {
     "name": "stdout",
     "output_type": "stream",
     "text": [
      "================================================================================\n",
      "Iteration: 961 \n",
      "Total energy = 13005.896484 \n",
      "Attach cost = 12923.222656 \n",
      "Deformation cost = 82.673073\n"
     ]
    },
    {
     "name": "stdout",
     "output_type": "stream",
     "text": [
      "================================================================================\n",
      "Iteration: 962 \n",
      "Total energy = 13003.113281 \n",
      "Attach cost = 12920.458984 \n",
      "Deformation cost = 82.653137\n"
     ]
    },
    {
     "name": "stdout",
     "output_type": "stream",
     "text": [
      "================================================================================\n",
      "Iteration: 963 \n",
      "Total energy = 13001.708984 \n",
      "Attach cost = 12919.039062 \n",
      "Deformation cost = 82.671005\n"
     ]
    },
    {
     "name": "stdout",
     "output_type": "stream",
     "text": [
      "================================================================================\n",
      "Iteration: 964 \n",
      "Total energy = 13000.233398 \n",
      "Attach cost = 12917.538086 \n",
      "Deformation cost = 82.695267\n"
     ]
    },
    {
     "name": "stdout",
     "output_type": "stream",
     "text": [
      "================================================================================\n",
      "Iteration: 965 \n",
      "Total energy = 12999.035156 \n",
      "Attach cost = 12916.288086 \n",
      "Deformation cost = 82.748238\n"
     ]
    },
    {
     "name": "stdout",
     "output_type": "stream",
     "text": [
      "================================================================================\n",
      "Iteration: 966 \n",
      "Total energy = 12996.869141 \n",
      "Attach cost = 12913.991211 \n",
      "Deformation cost = 82.876335\n"
     ]
    },
    {
     "name": "stdout",
     "output_type": "stream",
     "text": [
      "================================================================================\n",
      "Iteration: 967 \n",
      "Total energy = 12992.920898 \n",
      "Attach cost = 12909.811523 \n",
      "Deformation cost = 83.108353\n"
     ]
    },
    {
     "name": "stdout",
     "output_type": "stream",
     "text": [
      "================================================================================\n",
      "Iteration: 968 \n",
      "Total energy = 12987.407227 \n",
      "Attach cost = 12903.961914 \n",
      "Deformation cost = 83.445518\n"
     ]
    },
    {
     "name": "stdout",
     "output_type": "stream",
     "text": [
      "================================================================================\n",
      "Iteration: 969 \n",
      "Total energy = 12984.019531 \n",
      "Attach cost = 12900.363281 \n",
      "Deformation cost = 83.656845\n"
     ]
    },
    {
     "name": "stdout",
     "output_type": "stream",
     "text": [
      "================================================================================\n",
      "Iteration: 970 \n",
      "Total energy = 12978.850586 \n",
      "Attach cost = 12895.044922 \n",
      "Deformation cost = 83.806061\n"
     ]
    },
    {
     "name": "stdout",
     "output_type": "stream",
     "text": [
      "================================================================================\n",
      "Iteration: 971 \n",
      "Total energy = 12973.076172 \n",
      "Attach cost = 12889.066406 \n",
      "Deformation cost = 84.008476\n"
     ]
    },
    {
     "name": "stdout",
     "output_type": "stream",
     "text": [
      "================================================================================\n",
      "Iteration: 972 \n",
      "Total energy = 12968.770508 \n",
      "Attach cost = 12884.578125 \n",
      "Deformation cost = 84.191154\n"
     ]
    },
    {
     "name": "stdout",
     "output_type": "stream",
     "text": [
      "================================================================================\n",
      "Iteration: 973 \n",
      "Total energy = 12963.782227 \n",
      "Attach cost = 12879.540039 \n",
      "Deformation cost = 84.243988\n"
     ]
    },
    {
     "name": "stdout",
     "output_type": "stream",
     "text": [
      "================================================================================\n",
      "Iteration: 974 \n",
      "Total energy = 12959.837891 \n",
      "Attach cost = 12875.502930 \n",
      "Deformation cost = 84.334877\n"
     ]
    },
    {
     "name": "stdout",
     "output_type": "stream",
     "text": [
      "================================================================================\n",
      "Iteration: 975 \n",
      "Total energy = 12957.370117 \n",
      "Attach cost = 12872.993164 \n",
      "Deformation cost = 84.377808\n"
     ]
    },
    {
     "name": "stdout",
     "output_type": "stream",
     "text": [
      "================================================================================\n",
      "Iteration: 976 \n",
      "Total energy = 12950.588867 \n",
      "Attach cost = 12865.977539 \n",
      "Deformation cost = 84.612251\n"
     ]
    },
    {
     "name": "stdout",
     "output_type": "stream",
     "text": [
      "================================================================================\n",
      "Iteration: 977 \n",
      "Total energy = 12945.666016 \n",
      "Attach cost = 12860.479492 \n",
      "Deformation cost = 85.185616\n"
     ]
    },
    {
     "name": "stdout",
     "output_type": "stream",
     "text": [
      "================================================================================\n",
      "Iteration: 978 \n",
      "Total energy = 12935.203125 \n",
      "Attach cost = 12849.910156 \n",
      "Deformation cost = 85.292412\n"
     ]
    },
    {
     "name": "stdout",
     "output_type": "stream",
     "text": [
      "================================================================================\n",
      "Iteration: 979 \n",
      "Total energy = 12928.968750 \n",
      "Attach cost = 12843.622070 \n",
      "Deformation cost = 85.346283\n"
     ]
    },
    {
     "name": "stdout",
     "output_type": "stream",
     "text": [
      "================================================================================\n",
      "Iteration: 980 \n",
      "Total energy = 12926.052734 \n",
      "Attach cost = 12840.457031 \n",
      "Deformation cost = 85.596512\n"
     ]
    },
    {
     "name": "stdout",
     "output_type": "stream",
     "text": [
      "================================================================================\n",
      "Iteration: 981 \n",
      "Total energy = 12923.603516 \n",
      "Attach cost = 12837.966797 \n",
      "Deformation cost = 85.636879\n"
     ]
    },
    {
     "name": "stdout",
     "output_type": "stream",
     "text": [
      "================================================================================\n",
      "Iteration: 982 \n",
      "Total energy = 12919.653320 \n",
      "Attach cost = 12833.861328 \n",
      "Deformation cost = 85.792763\n"
     ]
    },
    {
     "name": "stdout",
     "output_type": "stream",
     "text": [
      "================================================================================\n",
      "Iteration: 983 \n",
      "Total energy = 12913.122070 \n",
      "Attach cost = 12827.201172 \n",
      "Deformation cost = 85.921249\n"
     ]
    },
    {
     "name": "stdout",
     "output_type": "stream",
     "text": [
      "================================================================================\n",
      "Iteration: 984 \n",
      "Total energy = 12904.791992 \n",
      "Attach cost = 12818.461914 \n",
      "Deformation cost = 86.330421\n"
     ]
    },
    {
     "name": "stdout",
     "output_type": "stream",
     "text": [
      "================================================================================\n",
      "Iteration: 985 \n",
      "Total energy = 12895.706055 \n",
      "Attach cost = 12809.409180 \n",
      "Deformation cost = 86.296631\n"
     ]
    },
    {
     "name": "stdout",
     "output_type": "stream",
     "text": [
      "================================================================================\n",
      "Iteration: 986 \n",
      "Total energy = 12889.627930 \n",
      "Attach cost = 12803.456055 \n",
      "Deformation cost = 86.170700\n"
     ]
    },
    {
     "name": "stdout",
     "output_type": "stream",
     "text": [
      "================================================================================\n",
      "Iteration: 987 \n",
      "Total energy = 12885.680664 \n",
      "Attach cost = 12799.267578 \n",
      "Deformation cost = 86.413841\n"
     ]
    },
    {
     "name": "stdout",
     "output_type": "stream",
     "text": [
      "================================================================================\n",
      "Iteration: 988 \n",
      "Total energy = 12883.615234 \n",
      "Attach cost = 12797.277344 \n",
      "Deformation cost = 86.339378\n"
     ]
    },
    {
     "name": "stdout",
     "output_type": "stream",
     "text": [
      "================================================================================\n",
      "Iteration: 989 \n",
      "Total energy = 12882.000977 \n",
      "Attach cost = 12795.633789 \n",
      "Deformation cost = 86.365692\n"
     ]
    },
    {
     "name": "stdout",
     "output_type": "stream",
     "text": [
      "================================================================================\n",
      "Iteration: 990 \n",
      "Total energy = 12880.508789 \n",
      "Attach cost = 12794.057617 \n",
      "Deformation cost = 86.451782\n"
     ]
    },
    {
     "name": "stdout",
     "output_type": "stream",
     "text": [
      "================================================================================\n",
      "Iteration: 991 \n",
      "Total energy = 12877.481445 \n",
      "Attach cost = 12790.658203 \n",
      "Deformation cost = 86.823303\n"
     ]
    },
    {
     "name": "stdout",
     "output_type": "stream",
     "text": [
      "================================================================================\n",
      "Iteration: 992 \n",
      "Total energy = 12873.243164 \n",
      "Attach cost = 12786.282227 \n",
      "Deformation cost = 86.962532\n"
     ]
    },
    {
     "name": "stdout",
     "output_type": "stream",
     "text": [
      "================================================================================\n",
      "Iteration: 993 \n",
      "Total energy = 12868.335938 \n",
      "Attach cost = 12781.092773 \n",
      "Deformation cost = 87.243080\n"
     ]
    },
    {
     "name": "stdout",
     "output_type": "stream",
     "text": [
      "================================================================================\n",
      "Iteration: 994 \n",
      "Total energy = 12866.226562 \n",
      "Attach cost = 12779.177734 \n",
      "Deformation cost = 87.047981\n"
     ]
    },
    {
     "name": "stdout",
     "output_type": "stream",
     "text": [
      "================================================================================\n",
      "Iteration: 995 \n",
      "Total energy = 12864.688477 \n",
      "Attach cost = 12777.537109 \n",
      "Deformation cost = 87.152618\n"
     ]
    },
    {
     "name": "stdout",
     "output_type": "stream",
     "text": [
      "================================================================================\n",
      "Iteration: 996 \n",
      "Total energy = 12863.741211 \n",
      "Attach cost = 12776.541992 \n",
      "Deformation cost = 87.198982\n"
     ]
    },
    {
     "name": "stdout",
     "output_type": "stream",
     "text": [
      "================================================================================\n",
      "Iteration: 997 \n",
      "Total energy = 12862.388672 \n",
      "Attach cost = 12775.197266 \n",
      "Deformation cost = 87.190369\n"
     ]
    },
    {
     "name": "stdout",
     "output_type": "stream",
     "text": [
      "================================================================================\n",
      "Iteration: 998 \n",
      "Total energy = 12860.630859 \n",
      "Attach cost = 12773.463867 \n",
      "Deformation cost = 87.166801\n"
     ]
    },
    {
     "name": "stdout",
     "output_type": "stream",
     "text": [
      "================================================================================\n",
      "Iteration: 999 \n",
      "Total energy = 12859.791016 \n",
      "Attach cost = 12772.163086 \n",
      "Deformation cost = 87.627373\n"
     ]
    },
    {
     "name": "stdout",
     "output_type": "stream",
     "text": [
      "================================================================================\n",
      "Iteration: 1000 \n",
      "Total energy = 12856.802734 \n",
      "Attach cost = 12769.496094 \n",
      "Deformation cost = 87.307022\n"
     ]
    },
    {
     "name": "stdout",
     "output_type": "stream",
     "text": [
      "================================================================================\n",
      "Iteration: 1001 \n",
      "Total energy = 12855.822266 \n",
      "Attach cost = 12768.437500 \n",
      "Deformation cost = 87.384834\n"
     ]
    },
    {
     "name": "stdout",
     "output_type": "stream",
     "text": [
      "================================================================================\n",
      "Iteration: 1002 \n",
      "Total energy = 12854.300781 \n",
      "Attach cost = 12766.691406 \n",
      "Deformation cost = 87.610085\n"
     ]
    },
    {
     "name": "stdout",
     "output_type": "stream",
     "text": [
      "================================================================================\n",
      "Iteration: 1003 \n",
      "Total energy = 12853.257812 \n",
      "Attach cost = 12765.496094 \n",
      "Deformation cost = 87.762169\n"
     ]
    },
    {
     "name": "stdout",
     "output_type": "stream",
     "text": [
      "================================================================================\n",
      "Iteration: 1004 \n",
      "Total energy = 12852.342773 \n",
      "Attach cost = 12764.519531 \n",
      "Deformation cost = 87.822876\n"
     ]
    },
    {
     "name": "stdout",
     "output_type": "stream",
     "text": [
      "================================================================================\n",
      "Iteration: 1005 \n",
      "Total energy = 12851.657227 \n",
      "Attach cost = 12763.743164 \n",
      "Deformation cost = 87.914215\n"
     ]
    },
    {
     "name": "stdout",
     "output_type": "stream",
     "text": [
      "================================================================================\n",
      "Iteration: 1006 \n",
      "Total energy = 12849.361328 \n",
      "Attach cost = 12761.176758 \n",
      "Deformation cost = 88.186852\n"
     ]
    },
    {
     "name": "stdout",
     "output_type": "stream",
     "text": [
      "================================================================================\n",
      "Iteration: 1007 \n",
      "Total energy = 12847.424805 \n",
      "Attach cost = 12759.294922 \n",
      "Deformation cost = 88.129890\n"
     ]
    },
    {
     "name": "stdout",
     "output_type": "stream",
     "text": [
      "================================================================================\n",
      "Iteration: 1008 \n",
      "Total energy = 12845.857422 \n",
      "Attach cost = 12757.677734 \n",
      "Deformation cost = 88.177834\n"
     ]
    },
    {
     "name": "stdout",
     "output_type": "stream",
     "text": [
      "================================================================================\n",
      "Iteration: 1009 \n",
      "Total energy = 12845.310547 \n",
      "Attach cost = 12757.331055 \n",
      "Deformation cost = 87.978485\n"
     ]
    },
    {
     "name": "stdout",
     "output_type": "stream",
     "text": [
      "================================================================================\n",
      "Iteration: 1010 \n",
      "Total energy = 12844.679688 \n",
      "Attach cost = 12756.666992 \n",
      "Deformation cost = 88.012482\n"
     ]
    },
    {
     "name": "stdout",
     "output_type": "stream",
     "text": [
      "================================================================================\n",
      "Iteration: 1011 \n",
      "Total energy = 12843.990234 \n",
      "Attach cost = 12755.999023 \n",
      "Deformation cost = 87.991951\n"
     ]
    },
    {
     "name": "stdout",
     "output_type": "stream",
     "text": [
      "================================================================================\n",
      "Iteration: 1012 \n",
      "Total energy = 12843.076172 \n",
      "Attach cost = 12755.044922 \n",
      "Deformation cost = 88.032059\n"
     ]
    },
    {
     "name": "stdout",
     "output_type": "stream",
     "text": [
      "================================================================================\n",
      "Iteration: 1013 \n",
      "Total energy = 12841.872070 \n",
      "Attach cost = 12753.724609 \n",
      "Deformation cost = 88.148346\n"
     ]
    },
    {
     "name": "stdout",
     "output_type": "stream",
     "text": [
      "================================================================================\n",
      "Iteration: 1014 \n",
      "Total energy = 12840.442383 \n",
      "Attach cost = 12752.160156 \n",
      "Deformation cost = 88.281570\n"
     ]
    },
    {
     "name": "stdout",
     "output_type": "stream",
     "text": [
      "================================================================================\n",
      "Iteration: 1015 \n",
      "Total energy = 12838.855469 \n",
      "Attach cost = 12750.438477 \n",
      "Deformation cost = 88.416153\n"
     ]
    },
    {
     "name": "stdout",
     "output_type": "stream",
     "text": [
      "================================================================================\n",
      "Iteration: 1016 \n",
      "Total energy = 12836.528320 \n",
      "Attach cost = 12747.971680 \n",
      "Deformation cost = 88.556297\n"
     ]
    },
    {
     "name": "stdout",
     "output_type": "stream",
     "text": [
      "================================================================================\n",
      "Iteration: 1017 \n",
      "Total energy = 12835.805664 \n",
      "Attach cost = 12747.015625 \n",
      "Deformation cost = 88.792068\n"
     ]
    },
    {
     "name": "stdout",
     "output_type": "stream",
     "text": [
      "================================================================================\n",
      "Iteration: 1018 \n",
      "Total energy = 12835.036133 \n",
      "Attach cost = 12746.444336 \n",
      "Deformation cost = 88.590096\n"
     ]
    },
    {
     "name": "stdout",
     "output_type": "stream",
     "text": [
      "================================================================================\n",
      "Iteration: 1019 \n",
      "Total energy = 12833.899414 \n",
      "Attach cost = 12745.269531 \n",
      "Deformation cost = 88.629501\n"
     ]
    },
    {
     "name": "stdout",
     "output_type": "stream",
     "text": [
      "================================================================================\n",
      "Iteration: 1020 \n",
      "Total energy = 12833.683594 \n",
      "Attach cost = 12745.041992 \n",
      "Deformation cost = 88.640541\n"
     ]
    },
    {
     "name": "stdout",
     "output_type": "stream",
     "text": [
      "================================================================================\n",
      "Iteration: 1021 \n",
      "Total energy = 12833.276367 \n",
      "Attach cost = 12744.638672 \n",
      "Deformation cost = 88.639725\n"
     ]
    },
    {
     "name": "stdout",
     "output_type": "stream",
     "text": [
      "================================================================================\n",
      "Iteration: 1022 \n",
      "Total energy = 12832.822266 \n",
      "Attach cost = 12744.188477 \n",
      "Deformation cost = 88.633469\n"
     ]
    },
    {
     "name": "stdout",
     "output_type": "stream",
     "text": [
      "================================================================================\n",
      "Iteration: 1023 \n",
      "Total energy = 12830.742188 \n",
      "Attach cost = 12742.000977 \n",
      "Deformation cost = 88.741592\n"
     ]
    },
    {
     "name": "stdout",
     "output_type": "stream",
     "text": [
      "================================================================================\n",
      "Iteration: 1024 \n",
      "Total energy = 12828.560547 \n",
      "Attach cost = 12740.003906 \n",
      "Deformation cost = 88.556519\n"
     ]
    },
    {
     "name": "stdout",
     "output_type": "stream",
     "text": [
      "================================================================================\n",
      "Iteration: 1025 \n",
      "Total energy = 12826.375977 \n",
      "Attach cost = 12737.416016 \n",
      "Deformation cost = 88.958946\n"
     ]
    },
    {
     "name": "stdout",
     "output_type": "stream",
     "text": [
      "================================================================================\n",
      "Iteration: 1026 \n",
      "Total energy = 12824.537109 \n",
      "Attach cost = 12735.699219 \n",
      "Deformation cost = 88.839668\n"
     ]
    },
    {
     "name": "stdout",
     "output_type": "stream",
     "text": [
      "================================================================================\n",
      "Iteration: 1027 \n",
      "Total energy = 12823.889648 \n",
      "Attach cost = 12735.012695 \n",
      "Deformation cost = 88.876945\n"
     ]
    },
    {
     "name": "stdout",
     "output_type": "stream",
     "text": [
      "================================================================================\n",
      "Iteration: 1028 \n",
      "Total energy = 12823.221680 \n",
      "Attach cost = 12734.319336 \n",
      "Deformation cost = 88.900978\n"
     ]
    },
    {
     "name": "stdout",
     "output_type": "stream",
     "text": [
      "================================================================================\n",
      "Iteration: 1029 \n",
      "Total energy = 12820.390625 \n",
      "Attach cost = 12731.263672 \n",
      "Deformation cost = 89.125854\n"
     ]
    },
    {
     "name": "stdout",
     "output_type": "stream",
     "text": [
      "================================================================================\n",
      "Iteration: 1030 \n",
      "Total energy = 12819.434570 \n",
      "Attach cost = 12730.413086 \n",
      "Deformation cost = 89.021782\n"
     ]
    },
    {
     "name": "stdout",
     "output_type": "stream",
     "text": [
      "================================================================================\n",
      "Iteration: 1031 \n",
      "Total energy = 12815.369141 \n",
      "Attach cost = 12726.061523 \n",
      "Deformation cost = 89.306900\n"
     ]
    },
    {
     "name": "stdout",
     "output_type": "stream",
     "text": [
      "================================================================================\n",
      "Iteration: 1032 \n",
      "Total energy = 12812.422852 \n",
      "Attach cost = 12723.025391 \n",
      "Deformation cost = 89.398178\n"
     ]
    },
    {
     "name": "stdout",
     "output_type": "stream",
     "text": [
      "================================================================================\n",
      "Iteration: 1033 \n",
      "Total energy = 12810.875000 \n",
      "Attach cost = 12721.249023 \n",
      "Deformation cost = 89.628647\n"
     ]
    },
    {
     "name": "stdout",
     "output_type": "stream",
     "text": [
      "================================================================================\n",
      "Iteration: 1034 \n",
      "Total energy = 12809.392578 \n",
      "Attach cost = 12719.607422 \n",
      "Deformation cost = 89.783737\n"
     ]
    },
    {
     "name": "stdout",
     "output_type": "stream",
     "text": [
      "================================================================================\n",
      "Iteration: 1035 \n",
      "Total energy = 12807.578125 \n",
      "Attach cost = 12717.621094 \n",
      "Deformation cost = 89.957123\n"
     ]
    },
    {
     "name": "stdout",
     "output_type": "stream",
     "text": [
      "================================================================================\n",
      "Iteration: 1036 \n",
      "Total energy = 12801.738281 \n",
      "Attach cost = 12711.346680 \n",
      "Deformation cost = 90.392693\n"
     ]
    },
    {
     "name": "stdout",
     "output_type": "stream",
     "text": [
      "================================================================================\n",
      "Iteration: 1037 \n",
      "Total energy = 12800.118164 \n",
      "Attach cost = 12709.485352 \n",
      "Deformation cost = 90.632782\n"
     ]
    },
    {
     "name": "stdout",
     "output_type": "stream",
     "text": [
      "================================================================================\n",
      "Iteration: 1038 \n",
      "Total energy = 12797.125000 \n",
      "Attach cost = 12706.307617 \n",
      "Deformation cost = 90.817947\n"
     ]
    },
    {
     "name": "stdout",
     "output_type": "stream",
     "text": [
      "================================================================================\n",
      "Iteration: 1039 \n",
      "Total energy = 12795.302734 \n",
      "Attach cost = 12704.474609 \n",
      "Deformation cost = 90.827065\n"
     ]
    },
    {
     "name": "stdout",
     "output_type": "stream",
     "text": [
      "================================================================================\n",
      "Iteration: 1040 \n",
      "Total energy = 12793.147461 \n",
      "Attach cost = 12702.348633 \n",
      "Deformation cost = 90.799980\n"
     ]
    },
    {
     "name": "stdout",
     "output_type": "stream",
     "text": [
      "================================================================================\n",
      "Iteration: 1041 \n",
      "Total energy = 12789.269531 \n",
      "Attach cost = 12698.419922 \n",
      "Deformation cost = 90.849937\n"
     ]
    },
    {
     "name": "stdout",
     "output_type": "stream",
     "text": [
      "================================================================================\n",
      "Iteration: 1042 \n",
      "Total energy = 12781.935547 \n",
      "Attach cost = 12690.954102 \n",
      "Deformation cost = 90.981583\n"
     ]
    },
    {
     "name": "stdout",
     "output_type": "stream",
     "text": [
      "================================================================================\n",
      "Iteration: 1043 \n",
      "Total energy = 12775.735352 \n",
      "Attach cost = 12684.356445 \n",
      "Deformation cost = 91.377960\n"
     ]
    },
    {
     "name": "stdout",
     "output_type": "stream",
     "text": [
      "================================================================================\n",
      "Iteration: 1044 \n",
      "Total energy = 12773.608398 \n",
      "Attach cost = 12682.049805 \n",
      "Deformation cost = 91.557320\n"
     ]
    },
    {
     "name": "stdout",
     "output_type": "stream",
     "text": [
      "================================================================================\n",
      "Iteration: 1045 \n",
      "Total energy = 12767.287109 \n",
      "Attach cost = 12675.243164 \n",
      "Deformation cost = 92.044403\n"
     ]
    },
    {
     "name": "stdout",
     "output_type": "stream",
     "text": [
      "================================================================================\n",
      "Iteration: 1046 \n",
      "Total energy = 12765.744141 \n",
      "Attach cost = 12673.950195 \n",
      "Deformation cost = 91.794571\n"
     ]
    },
    {
     "name": "stdout",
     "output_type": "stream",
     "text": [
      "================================================================================\n",
      "Iteration: 1047 \n",
      "Total energy = 12761.542969 \n",
      "Attach cost = 12669.439453 \n",
      "Deformation cost = 92.104843\n"
     ]
    },
    {
     "name": "stdout",
     "output_type": "stream",
     "text": [
      "================================================================================\n",
      "Iteration: 1048 \n",
      "Total energy = 12760.192383 \n",
      "Attach cost = 12667.827148 \n",
      "Deformation cost = 92.365517\n"
     ]
    },
    {
     "name": "stdout",
     "output_type": "stream",
     "text": [
      "================================================================================\n",
      "Iteration: 1049 \n",
      "Total energy = 12759.081055 \n",
      "Attach cost = 12666.728516 \n",
      "Deformation cost = 92.354126\n"
     ]
    },
    {
     "name": "stdout",
     "output_type": "stream",
     "text": [
      "================================================================================\n",
      "Iteration: 1050 \n",
      "Total energy = 12757.765625 \n",
      "Attach cost = 12665.316406 \n",
      "Deformation cost = 92.449463\n"
     ]
    },
    {
     "name": "stdout",
     "output_type": "stream",
     "text": [
      "================================================================================\n",
      "Iteration: 1051 \n",
      "Total energy = 12755.838867 \n",
      "Attach cost = 12663.093750 \n",
      "Deformation cost = 92.747437\n"
     ]
    },
    {
     "name": "stdout",
     "output_type": "stream",
     "text": [
      "================================================================================\n",
      "Iteration: 1052 \n",
      "Total energy = 12753.943359 \n",
      "Attach cost = 12661.039062 \n",
      "Deformation cost = 92.903252\n"
     ]
    },
    {
     "name": "stdout",
     "output_type": "stream",
     "text": [
      "================================================================================\n",
      "Iteration: 1053 \n",
      "Total energy = 12750.250977 \n",
      "Attach cost = 12656.985352 \n",
      "Deformation cost = 93.265068\n"
     ]
    },
    {
     "name": "stdout",
     "output_type": "stream",
     "text": [
      "================================================================================\n",
      "Iteration: 1054 \n",
      "Total energy = 12747.230469 \n",
      "Attach cost = 12653.786133 \n",
      "Deformation cost = 93.443092\n"
     ]
    },
    {
     "name": "stdout",
     "output_type": "stream",
     "text": [
      "================================================================================\n",
      "Iteration: 1055 \n",
      "Total energy = 12743.827148 \n",
      "Attach cost = 12650.009766 \n",
      "Deformation cost = 93.815956\n"
     ]
    },
    {
     "name": "stdout",
     "output_type": "stream",
     "text": [
      "================================================================================\n",
      "Iteration: 1056 \n",
      "Total energy = 12742.642578 \n",
      "Attach cost = 12648.568359 \n",
      "Deformation cost = 94.074661\n"
     ]
    },
    {
     "name": "stdout",
     "output_type": "stream",
     "text": [
      "================================================================================\n",
      "Iteration: 1057 \n",
      "Total energy = 12740.935547 \n",
      "Attach cost = 12646.723633 \n",
      "Deformation cost = 94.213593\n"
     ]
    },
    {
     "name": "stdout",
     "output_type": "stream",
     "text": [
      "================================================================================\n",
      "Iteration: 1058 \n",
      "Total energy = 12739.498047 \n",
      "Attach cost = 12645.138672 \n",
      "Deformation cost = 94.358765\n"
     ]
    },
    {
     "name": "stdout",
     "output_type": "stream",
     "text": [
      "================================================================================\n",
      "Iteration: 1059 \n",
      "Total energy = 12734.582031 \n",
      "Attach cost = 12639.805664 \n",
      "Deformation cost = 94.777245\n"
     ]
    },
    {
     "name": "stdout",
     "output_type": "stream",
     "text": [
      "================================================================================\n",
      "Iteration: 1060 \n",
      "Total energy = 12731.438477 \n",
      "Attach cost = 12636.276367 \n",
      "Deformation cost = 95.161293\n"
     ]
    },
    {
     "name": "stdout",
     "output_type": "stream",
     "text": [
      "================================================================================\n",
      "Iteration: 1061 \n",
      "Total energy = 12729.478516 \n",
      "Attach cost = 12634.317383 \n",
      "Deformation cost = 95.161316\n"
     ]
    },
    {
     "name": "stdout",
     "output_type": "stream",
     "text": [
      "================================================================================\n",
      "Iteration: 1062 \n",
      "Total energy = 12728.518555 \n",
      "Attach cost = 12633.232422 \n",
      "Deformation cost = 95.286148\n"
     ]
    },
    {
     "name": "stdout",
     "output_type": "stream",
     "text": [
      "================================================================================\n",
      "Iteration: 1063 \n",
      "Total energy = 12728.230469 \n",
      "Attach cost = 12632.948242 \n",
      "Deformation cost = 95.281693\n"
     ]
    },
    {
     "name": "stdout",
     "output_type": "stream",
     "text": [
      "================================================================================\n",
      "Iteration: 1064 \n",
      "Total energy = 12727.425781 \n",
      "Attach cost = 12632.111328 \n",
      "Deformation cost = 95.314034\n"
     ]
    },
    {
     "name": "stdout",
     "output_type": "stream",
     "text": [
      "================================================================================\n",
      "Iteration: 1065 \n",
      "Total energy = 12726.113281 \n",
      "Attach cost = 12630.823242 \n",
      "Deformation cost = 95.291283\n"
     ]
    },
    {
     "name": "stdout",
     "output_type": "stream",
     "text": [
      "================================================================================\n",
      "Iteration: 1066 \n",
      "Total energy = 12721.538086 \n",
      "Attach cost = 12626.281250 \n",
      "Deformation cost = 95.256561\n"
     ]
    },
    {
     "name": "stdout",
     "output_type": "stream",
     "text": [
      "================================================================================\n",
      "Iteration: 1067 \n",
      "Total energy = 12720.236328 \n",
      "Attach cost = 12624.820312 \n",
      "Deformation cost = 95.415276\n"
     ]
    },
    {
     "name": "stdout",
     "output_type": "stream",
     "text": [
      "================================================================================\n",
      "Iteration: 1068 \n",
      "Total energy = 12718.077148 \n",
      "Attach cost = 12622.512695 \n",
      "Deformation cost = 95.562424\n"
     ]
    },
    {
     "name": "stdout",
     "output_type": "stream",
     "text": [
      "================================================================================\n",
      "Iteration: 1069 \n",
      "Total energy = 12717.101562 \n",
      "Attach cost = 12621.192383 \n",
      "Deformation cost = 95.909119\n"
     ]
    },
    {
     "name": "stdout",
     "output_type": "stream",
     "text": [
      "================================================================================\n",
      "Iteration: 1070 \n",
      "Total energy = 12716.778320 \n",
      "Attach cost = 12620.960938 \n",
      "Deformation cost = 95.817604\n"
     ]
    },
    {
     "name": "stdout",
     "output_type": "stream",
     "text": [
      "================================================================================\n",
      "Iteration: 1071 \n",
      "Total energy = 12716.516602 \n",
      "Attach cost = 12620.645508 \n",
      "Deformation cost = 95.872528\n"
     ]
    },
    {
     "name": "stdout",
     "output_type": "stream",
     "text": [
      "================================================================================\n",
      "Iteration: 1072 \n",
      "Total energy = 12715.369141 \n",
      "Attach cost = 12619.143555 \n",
      "Deformation cost = 96.225258\n"
     ]
    },
    {
     "name": "stdout",
     "output_type": "stream",
     "text": [
      "================================================================================\n",
      "Iteration: 1073 \n",
      "Total energy = 12714.571289 \n",
      "Attach cost = 12618.312500 \n",
      "Deformation cost = 96.259415\n"
     ]
    },
    {
     "name": "stdout",
     "output_type": "stream",
     "text": [
      "================================================================================\n",
      "Iteration: 1074 \n",
      "Total energy = 12712.984375 \n",
      "Attach cost = 12616.324219 \n",
      "Deformation cost = 96.660141\n"
     ]
    },
    {
     "name": "stdout",
     "output_type": "stream",
     "text": [
      "================================================================================\n",
      "Iteration: 1075 \n",
      "Total energy = 12710.662109 \n",
      "Attach cost = 12613.681641 \n",
      "Deformation cost = 96.978920\n"
     ]
    },
    {
     "name": "stdout",
     "output_type": "stream",
     "text": [
      "================================================================================\n",
      "Iteration: 1076 \n",
      "Total energy = 12709.316406 \n",
      "Attach cost = 12612.013672 \n",
      "Deformation cost = 97.301872\n"
     ]
    },
    {
     "name": "stdout",
     "output_type": "stream",
     "text": [
      "================================================================================\n",
      "Iteration: 1077 \n",
      "Total energy = 12707.725586 \n",
      "Attach cost = 12610.300781 \n",
      "Deformation cost = 97.423729\n"
     ]
    },
    {
     "name": "stdout",
     "output_type": "stream",
     "text": [
      "================================================================================\n",
      "Iteration: 1078 \n",
      "Total energy = 12706.481445 \n",
      "Attach cost = 12608.765625 \n",
      "Deformation cost = 97.714912\n"
     ]
    },
    {
     "name": "stdout",
     "output_type": "stream",
     "text": [
      "================================================================================\n",
      "Iteration: 1079 \n",
      "Total energy = 12705.682617 \n",
      "Attach cost = 12608.088867 \n",
      "Deformation cost = 97.594650\n"
     ]
    },
    {
     "name": "stdout",
     "output_type": "stream",
     "text": [
      "================================================================================\n",
      "Iteration: 1080 \n",
      "Total energy = 12704.936523 \n",
      "Attach cost = 12607.312500 \n",
      "Deformation cost = 97.622849\n"
     ]
    },
    {
     "name": "stdout",
     "output_type": "stream",
     "text": [
      "================================================================================\n",
      "Iteration: 1081 \n",
      "Total energy = 12701.965820 \n",
      "Attach cost = 12604.240234 \n",
      "Deformation cost = 97.724754\n"
     ]
    },
    {
     "name": "stdout",
     "output_type": "stream",
     "text": [
      "================================================================================\n",
      "Iteration: 1082 \n",
      "Total energy = 12700.525391 \n",
      "Attach cost = 12602.503906 \n",
      "Deformation cost = 98.020172\n"
     ]
    },
    {
     "name": "stdout",
     "output_type": "stream",
     "text": [
      "================================================================================\n",
      "Iteration: 1083 \n",
      "Total energy = 12699.488281 \n",
      "Attach cost = 12601.333008 \n",
      "Deformation cost = 98.155518\n"
     ]
    },
    {
     "name": "stdout",
     "output_type": "stream",
     "text": [
      "================================================================================\n",
      "Iteration: 1084 \n",
      "Total energy = 12699.043945 \n",
      "Attach cost = 12600.744141 \n",
      "Deformation cost = 98.298309\n"
     ]
    },
    {
     "name": "stdout",
     "output_type": "stream",
     "text": [
      "================================================================================\n",
      "Iteration: 1085 \n",
      "Total energy = 12697.756836 \n",
      "Attach cost = 12599.287109 \n",
      "Deformation cost = 98.469902\n"
     ]
    }
   ],
   "source": [
    "fitter = dm.Models.ModelFittingScipy(atlas, 1.)\n",
    "costs = fitter.fit(targets, 3000, options={'shoot_method': 'rk4'})"
   ]
  },
  {
   "cell_type": "code",
   "execution_count": null,
   "metadata": {
    "autoscroll": false,
    "collapsed": false,
    "ein.hycell": false,
    "ein.tags": "worksheet-0",
    "slideshow": {
     "slide_type": "-"
    }
   },
   "outputs": [],
   "source": [
    "%matplotlib qt5\n",
    "plt.plot(range(len(costs)), costs)\n",
    "plt.show()"
   ]
  },
  {
   "cell_type": "code",
   "execution_count": 8,
   "metadata": {
    "autoscroll": false,
    "collapsed": false,
    "ein.hycell": false,
    "ein.tags": "worksheet-0",
    "slideshow": {
     "slide_type": "-"
    }
   },
   "outputs": [
    {
     "name": "stdout",
     "output_type": "stream",
     "text": [
      "(tensor([[0.6164, 1.4765]], requires_grad=True), tensor([[0.3852, 0.9228]], requires_grad=True))\n",
      "(tensor([[-1.0290,  1.2253]], requires_grad=True), tensor([[-0.6431,  0.7658]], requires_grad=True))\n",
      "tensor([[0., 0.]], requires_grad=True)\n"
     ]
    }
   ],
   "source": [
    "print(atlas.models[0].init_manifold[1].gd)\n",
    "print(atlas.models[0].init_manifold[2].gd)\n",
    "print(atlas.models[0].init_manifold[3].gd)"
   ]
  },
  {
   "cell_type": "code",
   "execution_count": 9,
   "metadata": {
    "autoscroll": false,
    "collapsed": false,
    "ein.hycell": false,
    "ein.tags": "worksheet-0",
    "slideshow": {
     "slide_type": "-"
    }
   },
   "outputs": [],
   "source": [
    "%matplotlib qt5\n",
    "shoot_it = 10\n",
    "shoot_method = 'rk4'\n",
    "it_per_snapshot = 2\n",
    "snapshots = int(shoot_it/it_per_snapshot)\n",
    "\n",
    "disp_targets = len(targets)\n",
    "\n",
    "for i in range(disp_targets):\n",
    "    silent_pos = atlas.models[i].init_manifold[0].gd.detach().clone()\n",
    "    silent_mom = atlas.models[i].init_manifold[0].cotan.detach().clone()\n",
    "    right_ear_trans_gd = (atlas.models[i].init_manifold[1].gd[0].detach().clone(),\n",
    "                          atlas.models[i].init_manifold[1].gd[1].detach().clone())\n",
    "    right_ear_trans_mom = (atlas.models[i].init_manifold[1].cotan[0].detach().clone(),\n",
    "                           atlas.models[i].init_manifold[1].cotan[1].detach().clone())\n",
    "    left_ear_trans_gd = (atlas.models[i].init_manifold[2].gd[0].detach().clone(),\n",
    "                          atlas.models[i].init_manifold[2].gd[1].detach().clone())\n",
    "    left_ear_trans_mom = (atlas.models[i].init_manifold[2].cotan[0].detach().clone(),\n",
    "                          atlas.models[i].init_manifold[2].cotan[1].detach().clone())\n",
    "    local_rotation_gd = atlas.models[i].init_manifold[3].gd.detach().clone()\n",
    "    local_rotation_mom = atlas.models[i].init_manifold[3].cotan.detach().clone()\n",
    "\n",
    "    silent = dm.DeformationModules.SilentLandmarks(2, silent_pos.shape[0], gd=silent_pos, cotan=silent_mom)\n",
    "    right_ear_trans = dm.DeformationModules.OrientedTranslations(2, 1, ear_sigma, gd=right_ear_trans_gd, cotan=right_ear_trans_mom)\n",
    "    left_ear_trans = dm.DeformationModules.OrientedTranslations(2, 1, ear_sigma, gd=left_ear_trans_gd, cotan=left_ear_trans_mom)\n",
    "    #global_trans = dm.DeformationModules.GlobalTranslation(2)\n",
    "    local_rot = dm.DeformationModules.LocalRotation(2, sigma_rotation, coeff=coeff_rotation, gd=local_rotation_gd, cotan=local_rotation_mom)\n",
    "    rigid_translation = dm.DeformationModules.GlobalTranslation(2)\n",
    "\n",
    "    h = dm.HamiltonianDynamic.Hamiltonian([silent, right_ear_trans, left_ear_trans, local_rot, rigid_translation])\n",
    "    intermediate_states, _ = dm.HamiltonianDynamic.shoot(h, shoot_it, shoot_method, intermediates=True)\n",
    "\n",
    "    for j in range(snapshots):\n",
    "        pos = intermediate_states[it_per_snapshot*j].gd[0].numpy()\n",
    "        pos_right_ear_trans = intermediate_states[it_per_snapshot*j].gd[1][0].numpy()\n",
    "        pos_left_ear_trans = intermediate_states[it_per_snapshot*j].gd[2][0].numpy()\n",
    "\n",
    "        plt.subplot(disp_targets, snapshots + 1, i*snapshots + j + i + 1)\n",
    "        plt.plot(pos[:, 0], pos[:, 1])\n",
    "        plt.plot(pos_right_ear_trans[:, 0], pos_right_ear_trans[:, 1], 'x')\n",
    "        plt.plot(pos_left_ear_trans[:, 0], pos_left_ear_trans[:, 1], 'x')\n",
    "        plt.plot(targets[i].numpy()[:, 0], targets[i].numpy()[:, 1])\n",
    "        plt.axis('equal')\n",
    "\n",
    "\n",
    "    final_pos = intermediate_states[-1].gd[0].numpy()\n",
    "    plt.subplot(disp_targets, snapshots + 1, i*snapshots + snapshots + i + 1)\n",
    "    plt.plot(targets[i].numpy()[:, 0], targets[i].numpy()[:, 1])\n",
    "    plt.plot(final_pos[:, 0], final_pos[:, 1])\n",
    "    plt.axis('equal')\n",
    "\n",
    "plt.show()"
   ]
  },
  {
   "cell_type": "code",
   "execution_count": null,
   "metadata": {
    "autoscroll": false,
    "collapsed": false,
    "ein.hycell": false,
    "ein.tags": "worksheet-0",
    "slideshow": {
     "slide_type": "-"
    }
   },
   "outputs": [],
   "source": []
  }
 ],
 "metadata": {
  "kernelspec": {
   "display_name": "Python 3",
   "name": "python3"
  },
  "name": "atlas_herd.ipynb"
 },
 "nbformat": 4,
 "nbformat_minor": 2
}
