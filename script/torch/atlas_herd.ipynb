{
 "cells": [
  {
   "cell_type": "code",
   "execution_count": 1,
   "metadata": {
    "autoscroll": false,
    "collapsed": false,
    "ein.hycell": false,
    "ein.tags": "worksheet-0",
    "slideshow": {
     "slide_type": "-"
    }
   },
   "outputs": [],
   "source": [
    "%load_ext autoreload\n",
    "%autoreload 2\n",
    "\n",
    "import pickle\n",
    "import math\n",
    "\n",
    "# The deformation module library is not automatically installed yet, we need to add its path manually\n",
    "import sys\n",
    "sys.path.append(\"../../\")\n",
    "\n",
    "import matplotlib.pyplot as plt\n",
    "import torch\n",
    "\n",
    "import implicitmodules.torch as dm\n",
    "\n",
    "torch.set_default_tensor_type(torch.FloatTensor)\n",
    "dm.Utilities.set_compute_backend('torch')\n",
    "device = 'cpu'"
   ]
  },
  {
   "cell_type": "code",
   "execution_count": 2,
   "metadata": {
    "autoscroll": false,
    "collapsed": false,
    "ein.hycell": false,
    "ein.tags": "worksheet-0",
    "slideshow": {
     "slide_type": "-"
    }
   },
   "outputs": [
    {
     "name": "stdout",
     "output_type": "stream",
     "text": [
      "2\n"
     ]
    }
   ],
   "source": [
    "torch.manual_seed(1337)\n",
    "data = pickle.load(open(\"herd.pickle\", 'rb'))\n",
    "\n",
    "sigma_ear_tip_pos = 0.\n",
    "sigma_ear_tip_dir = 0.\n",
    "\n",
    "right_ear_tip_pos = data[0][1][0] + sigma_ear_tip_pos*torch.randn(1).item()\n",
    "left_ear_tip_pos = data[0][1][1] + sigma_ear_tip_pos*torch.randn(1).item()\n",
    "right_ear_tip_dir = right_ear_tip_pos/torch.norm(right_ear_tip_pos) + sigma_ear_tip_dir*torch.randn(1).item()\n",
    "left_ear_tip_dir = left_ear_tip_pos/torch.norm(left_ear_tip_pos) + sigma_ear_tip_dir*torch.randn(1).item()\n",
    "\n",
    "template = data[0][0]\n",
    "template = dm.Utilities.gaussian_kernel_smooth(template, 0.1)\n",
    "herd = list(list(zip(*data))[0])[1:3]\n",
    "\n",
    "deformable_template = dm.Models.DeformablePoints(template)\n",
    "deformable_herd = [dm.Models.DeformablePoints(bunny) for bunny in herd]\n",
    "\n",
    "print(len(herd))\n",
    "\n",
    "ear_sigma = 0.3"
   ]
  },
  {
   "cell_type": "code",
   "execution_count": 3,
   "metadata": {
    "autoscroll": false,
    "collapsed": false,
    "ein.hycell": false,
    "ein.tags": "worksheet-0",
    "slideshow": {
     "slide_type": "-"
    }
   },
   "outputs": [],
   "source": [
    "%matplotlib qt5\n",
    "#plt.plot(template[:, 0].numpy(), template[:, 1].numpy(), '--', color='black', lw=4.)\n",
    "plt.plot(template[:, 0].numpy(), template[:, 1].numpy(), '+', color='black', lw=4.)\n",
    "for bunny in herd:\n",
    "    plt.plot(bunny.numpy()[:, 0], bunny.numpy()[:, 1], '-', color='C4')\n",
    "    plt.plot(bunny.numpy()[:, 0], bunny.numpy()[:, 1], '*', color='C4')\n",
    "# plt.plot(ear_pos_mean[0][0].numpy(), ear_pos_mean[0][1].numpy(), 'X')\n",
    "# plt.plot(ear_pos_mean[1][0].numpy(), ear_pos_mean[1][1].numpy(), 'X')\n",
    "plt.quiver(right_ear_tip_pos[0].numpy(), right_ear_tip_pos[1].numpy(), right_ear_tip_dir[0].numpy(), right_ear_tip_dir[1].numpy(), color='red')\n",
    "plt.quiver(left_ear_tip_pos[0], left_ear_tip_pos[1], left_ear_tip_dir[0], left_ear_tip_dir[1], color='blue')\n",
    "plt.axis('equal')\n",
    "plt.show()\n"
   ]
  },
  {
   "cell_type": "code",
   "execution_count": 19,
   "metadata": {
    "autoscroll": false,
    "collapsed": false,
    "ein.hycell": false,
    "ein.tags": "worksheet-0",
    "slideshow": {
     "slide_type": "-"
    }
   },
   "outputs": [],
   "source": [
    "sigma_rotation = 15.\n",
    "coeff_oriented = 1e-2\n",
    "coeff_rotation = 1e-4\n",
    "coeff_translation = 1e-1\n",
    "right_ear_translation = dm.DeformationModules.OrientedTranslations(2, 1, ear_sigma, transport='vector', coeff=coeff_oriented, gd=(right_ear_tip_pos.clone().unsqueeze(0).requires_grad_(), right_ear_tip_dir.clone().unsqueeze(0).requires_grad_()), label='right_ear_translation')\n",
    "left_ear_translation = dm.DeformationModules.OrientedTranslations(2, 1, ear_sigma, transport='vector', coeff=coeff_oriented, gd=(left_ear_tip_pos.clone().unsqueeze(0).requires_grad_(), left_ear_tip_dir.clone().unsqueeze(0).requires_grad_()), label='left_ear_translation')\n",
    "local_rotation = dm.DeformationModules.LocalRotation(2, sigma_rotation, coeff=coeff_rotation, gd=torch.tensor([[0., 0.]], requires_grad=True))\n",
    "rigid_translation = dm.DeformationModules.GlobalTranslation(2, coeff_translation)\n",
    "\n",
    "attachment = dm.Attachment.VarifoldAttachment(2, [0.4, 2., 8.], backend='torch')\n",
    "targets = herd"
   ]
  },
  {
   "cell_type": "code",
   "execution_count": 20,
   "metadata": {
    "autoscroll": false,
    "collapsed": false,
    "ein.hycell": false,
    "ein.tags": "worksheet-0",
    "slideshow": {
     "slide_type": "-"
    }
   },
   "outputs": [],
   "source": [
    "right_ear_translation.to_(device)\n",
    "left_ear_translation.to_(device)\n",
    "local_rotation.to_(device)\n",
    "rigid_translation.to_(device)"
   ]
  },
  {
   "cell_type": "code",
   "execution_count": 21,
   "metadata": {
    "autoscroll": false,
    "collapsed": false,
    "ein.hycell": false,
    "ein.tags": "worksheet-0",
    "slideshow": {
     "slide_type": "-"
    }
   },
   "outputs": [],
   "source": [
    "atlas = dm.Models.AtlasModel(deformable_template, [right_ear_translation, left_ear_translation, local_rotation, rigid_translation], [attachment], len(targets), fit_gd=None, optimise_template=False, ht_sigma=0.1, ht_coeff=10., lam=100.)"
   ]
  },
  {
   "cell_type": "code",
   "execution_count": 22,
   "metadata": {
    "autoscroll": false,
    "collapsed": false,
    "ein.hycell": false,
    "ein.tags": "worksheet-0",
    "slideshow": {
     "slide_type": "-"
    }
   },
   "outputs": [],
   "source": [
    "shoot_solver = 'rk4'\n",
    "shoot_it = 10"
   ]
  },
  {
   "cell_type": "code",
   "execution_count": 23,
   "metadata": {
    "autoscroll": false,
    "collapsed": false,
    "ein.hycell": false,
    "ein.tags": "worksheet-0",
    "slideshow": {
     "slide_type": "-"
    }
   },
   "outputs": [
    {
     "ename": "SyntaxError",
     "evalue": "invalid syntax (<ipython-input-23-af91bd387c9d>, line 3)",
     "output_type": "error",
     "traceback": [
      "\u001b[0;36m  File \u001b[0;32m\"<ipython-input-23-af91bd387c9d>\"\u001b[0;36m, line \u001b[0;32m3\u001b[0m\n\u001b[0;31m    fitter_gd.fit(deformable_herd, 50, costs=costs, options={'shoot_solver': shoot_solver, 'shoot_it': shoot_it, 'verbose'=True})\u001b[0m\n\u001b[0m                                                                                                                          ^\u001b[0m\n\u001b[0;31mSyntaxError\u001b[0m\u001b[0;31m:\u001b[0m invalid syntax\n"
     ]
    }
   ],
   "source": [
    "costs = {}\n",
    "fitter_gd = dm.Models.Fitter(atlas, optimizer='gd')\n",
    "fitter_gd.fit(deformable_herd, 50, costs=costs, options={'shoot_solver': shoot_solver, 'shoot_it': shoot_it, 'verbose': True})\n",
    "\n",
    "fitter_lbfgs = dm.Models.Fitter(atlas, optimizer='torch_lbfgs')\n",
    "fitter_lbfgs.fit(deformable_herd, 50, costs=costs, options={'shoot_solver': shoot_solver, 'shoot_it': shoot_it, 'line_search_fn': 'strong_wolfe'})\n"
   ]
  },
  {
   "cell_type": "code",
   "execution_count": 19,
   "metadata": {
    "autoscroll": false,
    "collapsed": false,
    "ein.hycell": false,
    "ein.tags": "worksheet-0",
    "slideshow": {
     "slide_type": "-"
    }
   },
   "outputs": [],
   "source": [
    "%matplotlib qt5\n",
    "plt.plot(range(len(costs)), tuple(zip(*costs))[1], color='black', lw=0.5)\n",
    "plt.xlabel(\"It\")\n",
    "plt.ylabel(\"Cost\")\n",
    "plt.grid()\n",
    "plt.show()"
   ]
  },
  {
   "cell_type": "code",
   "execution_count": 14,
   "metadata": {
    "autoscroll": false,
    "collapsed": false,
    "ein.hycell": false,
    "ein.tags": "worksheet-0",
    "slideshow": {
     "slide_type": "-"
    }
   },
   "outputs": [
    {
     "name": "stdout",
     "output_type": "stream",
     "text": [
      "Atlas\n",
      "=====\n",
      "Template nb pts=107\n",
      "Population count=5\n",
      "Module count=4\n",
      "Hypertemplate=False\n",
      "Attachment=VarifoldAttachment2D_Torch (weight=1.0)\n",
      "  Sigmas=[4.0]\n",
      "Lambda=100.0\n",
      "Fit geometrical descriptors=None\n",
      "Precompute callback=False\n",
      "Model precompute callback=False\n",
      "Other parameters=False\n",
      "\n",
      "Modules\n",
      "=======\n",
      "Oriented translation\n",
      "  Label=right_ear_translation\n",
      "  Sigma=0.3\n",
      "  Coeff=0.01\n",
      "  Nb pts=1\n",
      "Oriented translation\n",
      "  Label=left_ear_translation\n",
      "  Sigma=0.3\n",
      "  Coeff=0.01\n",
      "  Nb pts=1\n",
      "Local constrained translation module\n",
      "  Type=Local rotation\n",
      "  Sigma=15.0\n",
      "  Coeff=0.0001\n",
      "Global translation\n",
      "  Coeff=0.1\n",
      "\n",
      "Fit informations\n",
      "================\n",
      "Iteration count=30\n",
      "Start cost=7797.1170654296875\n",
      "  Attach cost=7797.054382324219\n",
      "  Def cost=0.06264475124771707\n",
      "Final cost=376.69342136383057\n",
      "  Attach cost=375.8628845214844\n",
      "  Def cost=0.8305222988128662\n",
      "Integration scheme=rk4\n",
      "Integration steps=10\n"
     ]
    }
   ],
   "source": [
    "# Print recap\n",
    "print(atlas)\n",
    "print(\"\")\n",
    "print(\"Fit informations\")\n",
    "print(\"================\")\n",
    "print(\"Iteration count={it_count}\".format(it_count=len(costs)))\n",
    "print(\"Start cost={cost}\".format(cost=costs[0][2]))\n",
    "print(\"  Attach cost={cost}\".format(cost=costs[0][1]))\n",
    "print(\"  Def cost={cost}\".format(cost=costs[0][0]))\n",
    "print(\"Final cost={cost}\".format(cost=costs[-1][2]))\n",
    "print(\"  Attach cost={cost}\".format(cost=costs[-1][1]))\n",
    "print(\"  Def cost={cost}\".format(cost=costs[-1][0]))\n",
    "print(\"Integration scheme={scheme}\".format(scheme=shoot_method))\n",
    "print(\"Integration steps={steps}\".format(steps=shoot_it))"
   ]
  },
  {
   "cell_type": "code",
   "execution_count": 9,
   "metadata": {
    "autoscroll": false,
    "collapsed": false,
    "ein.hycell": false,
    "ein.tags": "worksheet-0",
    "slideshow": {
     "slide_type": "-"
    }
   },
   "outputs": [
    {
     "name": "stdout",
     "output_type": "stream",
     "text": [
      "Initial right ear tip direction: [0.38524430990219116, 0.9228146076202393]\n",
      "Optimised right ear tip direction: [0.38524430990219116, 0.9228146076202393]\n",
      "Initial left ear tip direction: [-0.6430988907814026, 0.7657831907272339]\n",
      "Optimised left ear tip direction: [-0.6430988907814026, 0.7657831907272339]\n"
     ]
    }
   ],
   "source": [
    "print(\"Initial right ear tip direction: {dir}\".format(dir=right_ear_tip_dir.tolist()))\n",
    "print(\"Optimised right ear tip direction: {dir}\".format(dir=atlas.registration_models[0].init_manifold[1].gd[1].detach().flatten().tolist()))\n",
    "print(\"Initial left ear tip direction: {dir}\".format(dir=left_ear_tip_dir.tolist()))\n",
    "print(\"Optimised left ear tip direction: {dir}\".format(dir=atlas.registration_models[0].init_manifold[2].gd[1].detach().flatten().tolist()))"
   ]
  },
  {
   "cell_type": "code",
   "execution_count": 10,
   "metadata": {
    "autoscroll": false,
    "collapsed": false,
    "ein.hycell": false,
    "ein.tags": "worksheet-0",
    "slideshow": {
     "slide_type": "-"
    }
   },
   "outputs": [
    {
     "name": "stdout",
     "output_type": "stream",
     "text": [
      "Optimised rotation center: [0.0, 0.0]\n"
     ]
    }
   ],
   "source": [
    "print(\"Optimised rotation center: {center}\".format(center=atlas.registration_models[0].init_manifold[3].gd.tolist()[0]))"
   ]
  },
  {
   "cell_type": "code",
   "execution_count": 11,
   "metadata": {
    "autoscroll": false,
    "collapsed": false,
    "ein.hycell": false,
    "ein.tags": "worksheet-0",
    "slideshow": {
     "slide_type": "-"
    }
   },
   "outputs": [],
   "source": [
    "# Compute optimised template\n",
    "optimised_template = atlas.compute_template()[0]\n",
    "optimised_template = optimised_template.cpu()"
   ]
  },
  {
   "cell_type": "code",
   "execution_count": 12,
   "metadata": {
    "collapsed": false
   },
   "outputs": [],
   "source": [
    "###############################################################################\n",
    "# Display the atlas.\n",
    "#\n",
    "\n",
    "intermediates = {}\n",
    "with torch.autograd.no_grad():\n",
    "    deformed_templates = atlas.compute_deformed(shoot_solver, shoot_it, intermediates=intermediates)\n",
    "\n",
    "row_count = math.ceil(math.sqrt(len(herd)))\n",
    "\n",
    "for i, deformed, bunny in zip(range(len(herd)), deformed_templates, herd):\n",
    "    plt.subplot(row_count, row_count, 1 + i)\n",
    "    plt.plot(deformed[0].detach()[:, 0].numpy(), deformed[0].detach()[:, 1].numpy())\n",
    "    # plt.quiver(deformed[0].detach()[:, 0].numpy(), deformed[0].detach()[:, 1].numpy(),\n",
    "               # deformed[0].grad[:, 0].numpy(), deformed[0].grad[:, 1].numpy())\n",
    "    plt.plot(bunny[:, 0].numpy(), bunny[:, 1].numpy())\n",
    "    plt.axis('equal')\n",
    "\n",
    "plt.show()\n"
   ]
  },
  {
   "cell_type": "code",
   "execution_count": 34,
   "metadata": {
    "autoscroll": false,
    "collapsed": false,
    "ein.hycell": false,
    "ein.tags": "worksheet-0",
    "slideshow": {
     "slide_type": "-"
    }
   },
   "outputs": [],
   "source": [
    "template_right_ear_pos, template_right_ear_dir = atlas.registration_models[0].init_manifold[1].gd[0].detach().cpu().flatten(), atlas.registration_models[0].init_manifold[1].gd[1].detach().cpu().flatten()\n",
    "template_left_ear_pos, template_left_ear_dir = atlas.registration_models[0].init_manifold[2].gd[0].detach().cpu().flatten(), atlas.registration_models[0].init_manifold[2].gd[1].detach().cpu().flatten()\n",
    "\n",
    "plt.plot(optimised_template[:, 0].numpy(), optimised_template[:, 1].numpy(), '-', color='grey', lw=1.5)\n",
    "plt.plot(template[:, 0].numpy(), template[:, 1].numpy(), color='black', lw=0.8)\n",
    "\n",
    "# Plot initial positions and directions of the oriented translations\n",
    "plt.quiver(right_ear_tip_pos[0].numpy(), right_ear_tip_pos[1].numpy(),\n",
    "           right_ear_tip_dir[0].numpy(), right_ear_tip_dir[1].numpy(), scale=10.)\n",
    "plt.quiver(left_ear_tip_pos[0].numpy(), left_ear_tip_pos[1].numpy(),\n",
    "           left_ear_tip_dir[0].numpy(), left_ear_tip_dir[1].numpy(), scale=10.)\n",
    "\n",
    "# Plot optimised positions and directions of the oriented translations\n",
    "plt.quiver(template_right_ear_pos[0].numpy(), template_right_ear_pos[1].numpy(),\n",
    "           template_right_ear_dir[0].numpy(), template_right_ear_dir[1].numpy(), scale=10.)\n",
    "plt.quiver(template_left_ear_pos[0].numpy(), template_left_ear_pos[1].numpy(),\n",
    "           template_left_ear_dir[0].numpy(), template_left_ear_dir[1].numpy(), scale=10.)\n",
    "\n",
    "# Plot position correspondance\n",
    "plt.arrow(right_ear_tip_pos[0], right_ear_tip_pos[1], template_right_ear_pos[0] - right_ear_tip_pos[0], template_right_ear_pos[1] - right_ear_tip_pos[1], width=0.01, length_includes_head=True, head_width=0.08)\n",
    "plt.arrow(left_ear_tip_pos[0], left_ear_tip_pos[1], template_left_ear_pos[0] - left_ear_tip_pos[0], template_left_ear_pos[1] - left_ear_tip_pos[1], width=0.01, length_includes_head=True, head_width=0.08)\n",
    "plt.axis('equal')\n",
    "plt.show()"
   ]
  },
  {
   "cell_type": "code",
   "execution_count": 33,
   "metadata": {
    "autoscroll": false,
    "collapsed": false,
    "ein.hycell": false,
    "ein.tags": "worksheet-0",
    "slideshow": {
     "slide_type": "-"
    }
   },
   "outputs": [
    {
     "ename": "AssertionError",
     "evalue": "",
     "output_type": "error",
     "traceback": [
      "\u001b[0;31m\u001b[0m",
      "\u001b[0;31mAssertionError\u001b[0mTraceback (most recent call last)",
      "\u001b[0;32m<ipython-input-33-27da42908c6a>\u001b[0m in \u001b[0;36m<module>\u001b[0;34m\u001b[0m\n\u001b[1;32m     26\u001b[0m \u001b[0;34m\u001b[0m\u001b[0m\n\u001b[1;32m     27\u001b[0m     \u001b[0mh\u001b[0m \u001b[0;34m=\u001b[0m \u001b[0mdm\u001b[0m\u001b[0;34m.\u001b[0m\u001b[0mHamiltonianDynamic\u001b[0m\u001b[0;34m.\u001b[0m\u001b[0mHamiltonian\u001b[0m\u001b[0;34m(\u001b[0m\u001b[0;34m[\u001b[0m\u001b[0msilent\u001b[0m\u001b[0;34m,\u001b[0m \u001b[0mright_ear_trans\u001b[0m\u001b[0;34m,\u001b[0m \u001b[0mleft_ear_trans\u001b[0m\u001b[0;34m,\u001b[0m \u001b[0mlocal_rot\u001b[0m\u001b[0;34m,\u001b[0m \u001b[0mrigid_translation\u001b[0m\u001b[0;34m]\u001b[0m\u001b[0;34m)\u001b[0m\u001b[0;34m\u001b[0m\u001b[0;34m\u001b[0m\u001b[0m\n\u001b[0;32m---> 28\u001b[0;31m     \u001b[0mintermediate_states\u001b[0m\u001b[0;34m,\u001b[0m \u001b[0m_\u001b[0m \u001b[0;34m=\u001b[0m \u001b[0mdm\u001b[0m\u001b[0;34m.\u001b[0m\u001b[0mHamiltonianDynamic\u001b[0m\u001b[0;34m.\u001b[0m\u001b[0mshoot\u001b[0m\u001b[0;34m(\u001b[0m\u001b[0mh\u001b[0m\u001b[0;34m,\u001b[0m \u001b[0mshoot_it\u001b[0m\u001b[0;34m,\u001b[0m \u001b[0mshoot_method\u001b[0m\u001b[0;34m,\u001b[0m \u001b[0mintermediates\u001b[0m\u001b[0;34m=\u001b[0m\u001b[0;32mTrue\u001b[0m\u001b[0;34m)\u001b[0m\u001b[0;34m\u001b[0m\u001b[0;34m\u001b[0m\u001b[0m\n\u001b[0m\u001b[1;32m     29\u001b[0m \u001b[0;34m\u001b[0m\u001b[0m\n\u001b[1;32m     30\u001b[0m \u001b[0;34m\u001b[0m\u001b[0m\n",
      "\u001b[0;32m~/diffeo/implicitmodules/implicitmodules/torch/HamiltonianDynamic/shooting.py\u001b[0m in \u001b[0;36mshoot\u001b[0;34m(h, solver, it, controls, intermediates)\u001b[0m\n\u001b[1;32m     43\u001b[0m         \u001b[0mDictionnary\u001b[0m \u001b[0mthat\u001b[0m \u001b[0mwill\u001b[0m \u001b[0mbe\u001b[0m \u001b[0mfilled\u001b[0m \u001b[0;32mwith\u001b[0m \u001b[0mintermediate\u001b[0m \u001b[0mstates\u001b[0m \u001b[0;32mand\u001b[0m \u001b[0mcontrols\u001b[0m\u001b[0;34m.\u001b[0m\u001b[0;34m\u001b[0m\u001b[0;34m\u001b[0m\u001b[0m\n\u001b[1;32m     44\u001b[0m     \"\"\"\n\u001b[0;32m---> 45\u001b[0;31m     \u001b[0;32massert\u001b[0m \u001b[0misinstance\u001b[0m\u001b[0;34m(\u001b[0m\u001b[0mintermediates\u001b[0m\u001b[0;34m,\u001b[0m \u001b[0mdict\u001b[0m\u001b[0;34m)\u001b[0m \u001b[0;32mor\u001b[0m \u001b[0mintermediates\u001b[0m \u001b[0;32mis\u001b[0m \u001b[0;32mNone\u001b[0m\u001b[0;34m\u001b[0m\u001b[0;34m\u001b[0m\u001b[0m\n\u001b[0m\u001b[1;32m     46\u001b[0m \u001b[0;34m\u001b[0m\u001b[0m\n\u001b[1;32m     47\u001b[0m     \u001b[0;32mif\u001b[0m \u001b[0msolver\u001b[0m \u001b[0;34m==\u001b[0m \u001b[0;34m\"torch_euler\"\u001b[0m\u001b[0;34m:\u001b[0m\u001b[0;34m\u001b[0m\u001b[0;34m\u001b[0m\u001b[0m\n",
      "\u001b[0;31mAssertionError\u001b[0m: "
     ]
    }
   ],
   "source": [
    "%matplotlib qt5\n",
    "it_per_snapshot = 2\n",
    "snapshots = int(shoot_it/it_per_snapshot)\n",
    "\n",
    "disp_targets = len(targets)\n",
    "\n",
    "for i in range(disp_targets):\n",
    "    silent_pos = optimised_template.clone()\n",
    "    silent_mom = atlas.registration_models[i].init_manifold[0].cotan.detach().cpu().clone()\n",
    "    right_ear_trans_gd = (atlas.registration_models[i].init_manifold[1].gd[0].detach().cpu().clone(),\n",
    "                          atlas.registration_models[i].init_manifold[1].gd[1].detach().cpu().clone())\n",
    "    right_ear_trans_mom = (atlas.registration_models[i].init_manifold[1].cotan[0].detach().cpu().clone(),\n",
    "                           atlas.registration_models[i].init_manifold[1].cotan[1].detach().cpu().clone())\n",
    "    left_ear_trans_gd = (atlas.registration_models[i].init_manifold[2].gd[0].detach().cpu().clone(),\n",
    "                          atlas.registration_models[i].init_manifold[2].gd[1].detach().cpu().clone())\n",
    "    left_ear_trans_mom = (atlas.registration_models[i].init_manifold[2].cotan[0].detach().cpu().clone(),\n",
    "                          atlas.registration_models[i].init_manifold[2].cotan[1].detach().cpu().clone())\n",
    "    local_rotation_gd = atlas.registration_models[i].init_manifold[3].gd.detach().cpu().clone()\n",
    "    local_rotation_mom = atlas.registration_models[i].init_manifold[3].cotan.detach().cpu().clone()\n",
    "\n",
    "    silent = dm.DeformationModules.SilentLandmarks(2, silent_pos.shape[0], gd=silent_pos, cotan=silent_mom)\n",
    "    right_ear_trans = dm.DeformationModules.OrientedTranslations(2, 1, ear_sigma, coeff=coeff_oriented, gd=right_ear_trans_gd, cotan=right_ear_trans_mom)\n",
    "    left_ear_trans = dm.DeformationModules.OrientedTranslations(2, 1, ear_sigma, coeff=coeff_oriented, gd=left_ear_trans_gd, cotan=left_ear_trans_mom)\n",
    "    local_rot = dm.DeformationModules.LocalRotation(2, sigma_rotation, coeff=coeff_rotation, gd=local_rotation_gd, cotan=local_rotation_mom)\n",
    "    rigid_translation = dm.DeformationModules.GlobalTranslation(2, coeff=coeff_translation)\n",
    "\n",
    "    h = dm.HamiltonianDynamic.Hamiltonian([silent, right_ear_trans, left_ear_trans, local_rot, rigid_translation])\n",
    "    intermediate_states, _ = dm.HamiltonianDynamic.shoot(h, shoot_it, shoot_method, intermediates=True)\n",
    "\n",
    "\n",
    "    for j in range(snapshots):\n",
    "        pos = intermediate_states[it_per_snapshot*j].gd[0].numpy()\n",
    "        pos_right_ear_trans = intermediate_states[it_per_snapshot*j].gd[1][0].flatten().numpy()\n",
    "        pos_left_ear_trans = intermediate_states[it_per_snapshot*j].gd[2][0].flatten().numpy()\n",
    "        dir_right_ear_trans = intermediate_states[it_per_snapshot*j].gd[1][1].flatten().numpy()\n",
    "        dir_left_ear_trans = intermediate_states[it_per_snapshot*j].gd[2][1].flatten().numpy()\n",
    "\n",
    "        plt.subplot(disp_targets, snapshots + 1, i*snapshots + j + i + 1)\n",
    "        plt.plot(pos[:, 0], pos[:, 1], color='black')\n",
    "        plt.plot(pos_right_ear_trans[0], pos_right_ear_trans[1], 'x', color='red')\n",
    "        plt.plot(pos_left_ear_trans[0], pos_left_ear_trans[1], 'x', color='red')\n",
    "        plt.plot(targets[i].numpy()[:, 0], targets[i].numpy()[:, 1], color='blue')\n",
    "        plt.quiver(pos_right_ear_trans[0], pos_right_ear_trans[1],\n",
    "                   dir_right_ear_trans[0], dir_right_ear_trans[1], scale=10.)\n",
    "        plt.quiver(pos_left_ear_trans[0], pos_left_ear_trans[1],\n",
    "                   dir_left_ear_trans[0], dir_left_ear_trans[1], scale=10.)\n",
    "\n",
    "        plt.axis('equal')\n",
    "\n",
    "    final_pos = intermediate_states[-1].gd[0].numpy()\n",
    "    plt.subplot(disp_targets, snapshots + 1, i*snapshots + snapshots + i + 1)\n",
    "    plt.plot(targets[i].numpy()[:, 0], targets[i].numpy()[:, 1], color='blue')\n",
    "    plt.plot(final_pos[:, 0], final_pos[:, 1], color='black')\n",
    "    plt.axis('equal')\n",
    "\n",
    "    print(\"Target {i}: attachment={attachment}\".format(i=i, attachment=attachment(targets[i], torch.tensor(final_pos))))\n",
    "\n",
    "plt.show()"
   ]
  },
  {
   "cell_type": "code",
   "execution_count": 32,
   "metadata": {
    "collapsed": false
   },
   "outputs": [],
   "source": []
  }
 ],
 "metadata": {
  "kernelspec": {
   "argv": [
    "python",
    "-m",
    "ipykernel_launcher",
    "-f",
    "{connection_file}"
   ],
   "display_name": "Python 3",
   "env": null,
   "interrupt_mode": "signal",
   "language": "python",
   "metadata": null,
   "name": "python3"
  },
  "name": "atlas_herd.ipynb"
 },
 "nbformat": 4,
 "nbformat_minor": 2
}
