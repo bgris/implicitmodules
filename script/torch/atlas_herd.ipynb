{
 "cells": [
  {
   "cell_type": "code",
   "execution_count": null,
   "metadata": {
    "autoscroll": false,
    "collapsed": false,
    "ein.hycell": false,
    "ein.tags": "worksheet-0",
    "slideshow": {
     "slide_type": "-"
    }
   },
   "outputs": [],
   "source": [
    "%load_ext autoreload\n",
    "%autoreload 2\n",
    "\n",
    "import pickle\n",
    "import math\n",
    "\n",
    "# The deformation module library is not automatically installed yet, we need to add its path manually\n",
    "import sys\n",
    "sys.path.append(\"../../\")\n",
    "\n",
    "import matplotlib.pyplot as plt\n",
    "import torch\n",
    "\n",
    "import implicitmodules.torch as dm\n",
    "\n",
    "torch.set_default_tensor_type(torch.FloatTensor)"
   ]
  },
  {
   "cell_type": "code",
   "execution_count": null,
   "metadata": {
    "autoscroll": false,
    "collapsed": false,
    "ein.hycell": false,
    "ein.tags": "worksheet-0",
    "slideshow": {
     "slide_type": "-"
    }
   },
   "outputs": [],
   "source": [
    "data = pickle.load(open(\"herd.pickle\", 'rb'))\n",
    "print(data[0])\n",
    "ear_pos_mean = list(torch.mean(torch.stack(list(zip(*list(zip(*data))[1]))[i], dim=0), dim=0) for i in range(2))\n",
    "ear_pos_stdvar = list(torch.sqrt(torch.mean(torch.var(torch.stack(list(zip(*list(zip(*data))[1]))[i], dim=0), dim=0))) for i in range(2))\n",
    "\n",
    "# We need a better template than that\n",
    "template = data[0][0]\n",
    "herd = list(list(zip(*data))[0])[:-1]\n",
    "\n",
    "ear_sigma = 1."
   ]
  },
  {
   "cell_type": "code",
   "execution_count": null,
   "metadata": {
    "autoscroll": false,
    "collapsed": false,
    "ein.hycell": false,
    "ein.tags": "worksheet-0",
    "slideshow": {
     "slide_type": "-"
    }
   },
   "outputs": [],
   "source": [
    "%matplotlib inline\n",
    "plt.plot(template[:, 0].numpy(), template[:, 1].numpy(), '--', color='black', lw=4.)\n",
    "for bunny in herd:\n",
    "    plt.plot(bunny.numpy()[:, 0], bunny.numpy()[:, 1], '-', color='C4')\n",
    "plt.plot(ear_pos_mean[0][0].numpy(), ear_pos_mean[0][1].numpy(), 'X')\n",
    "plt.plot(ear_pos_mean[1][0].numpy(), ear_pos_mean[1][1].numpy(), 'X')\n",
    "plt.axis('equal')\n",
    "plt.show()\n"
   ]
  },
  {
   "cell_type": "code",
   "execution_count": null,
   "metadata": {
    "autoscroll": false,
    "collapsed": false,
    "ein.hycell": false,
    "ein.tags": "worksheet-0",
    "slideshow": {
     "slide_type": "-"
    }
   },
   "outputs": [],
   "source": [
    "right_ear_translation = dm.DeformationModules.OrientedTranslations(2, 1, ear_sigma, gd=(ear_pos_mean[0].unsqueeze(0).requires_grad_(), (ear_pos_mean[0].unsqueeze(0)/torch.norm(ear_pos_mean[0])).requires_grad_()), label='right_ear_translation')\n",
    "left_ear_translation = dm.DeformationModules.OrientedTranslations(2, 1, ear_sigma, gd=(ear_pos_mean[1].unsqueeze(0).requires_grad_(), (ear_pos_mean[0].unsqueeze(0)/torch.norm(ear_pos_mean[1])).requires_grad_()), label='left_ear_translation')\n",
    "#rigid_rotation = dm.DeformationModules.LinearDeformation.build(torch.tensor([[0., -1.], [1., 0.]]), gd=torch.tensor([[0., 0.]], requires_grad=True))\n",
    "rigid_translation = dm.DeformationModules.GlobalTranslation(2)\n",
    "\n",
    "targets = herd\n",
    "\n",
    "atlas = dm.Models.Atlas(template, [right_ear_translation, left_ear_translation, rigid_translation], [dm.Attachment.VarifoldAttachment(2, [0.3])], len(targets), fit_gd=[True, True, True, False], lam=100.)"
   ]
  },
  {
   "cell_type": "code",
   "execution_count": null,
   "metadata": {
    "autoscroll": false,
    "collapsed": false,
    "ein.hycell": false,
    "ein.tags": "worksheet-0",
    "slideshow": {
     "slide_type": "-"
    }
   },
   "outputs": [],
   "source": [
    "fitter = dm.Models.ModelFittingScipy(atlas, 1.)\n",
    "costs = fitter.fit(targets, 500)"
   ]
  },
  {
   "cell_type": "code",
   "execution_count": null,
   "metadata": {
    "autoscroll": false,
    "collapsed": false,
    "ein.hycell": false,
    "ein.tags": "worksheet-0",
    "slideshow": {
     "slide_type": "-"
    }
   },
   "outputs": [],
   "source": [
    "%matplotlib qt5\n",
    "plt.plot(range(len(costs)), costs)\n",
    "plt.show()"
   ]
  },
  {
   "cell_type": "code",
   "execution_count": null,
   "metadata": {
    "autoscroll": false,
    "collapsed": false,
    "ein.hycell": false,
    "ein.tags": "worksheet-0",
    "slideshow": {
     "slide_type": "-"
    }
   },
   "outputs": [],
   "source": [
    "print(ear_pos_mean[0])\n",
    "print(right_ear_translation.manifold.gd)\n",
    "print(ear_pos_mean[1])\n",
    "print(left_ear_translation.manifold.gd)\n"
   ]
  },
  {
   "cell_type": "code",
   "execution_count": null,
   "metadata": {
    "autoscroll": false,
    "collapsed": false,
    "ein.hycell": false,
    "ein.tags": "worksheet-0",
    "slideshow": {
     "slide_type": "-"
    }
   },
   "outputs": [],
   "source": [
    "%matplotlib qt5\n",
    "shoot_it = 10\n",
    "shoot_method = 'euler'\n",
    "it_per_snapshot = 2\n",
    "snapshots = int(shoot_it/it_per_snapshot)\n",
    "\n",
    "for i in range(len(targets)):\n",
    "    silent_pos = atlas.models[i].init_manifold[0].gd.detach().clone()\n",
    "    silent_mom = atlas.models[i].init_manifold[0].cotan.detach().clone()\n",
    "    right_ear_trans_gd = (atlas.models[i].init_manifold[1].gd[0].detach().clone(),\n",
    "                          atlas.models[i].init_manifold[1].gd[1].detach().clone())\n",
    "    right_ear_trans_mom = (atlas.models[i].init_manifold[1].cotan[0].detach().clone(),\n",
    "                           atlas.models[i].init_manifold[1].cotan[1].detach().clone())\n",
    "    left_ear_trans_gd = (atlas.models[i].init_manifold[2].gd[0].detach().clone(),\n",
    "                          atlas.models[i].init_manifold[2].gd[1].detach().clone())\n",
    "    left_ear_trans_mom = (atlas.models[i].init_manifold[2].cotan[0].detach().clone(),\n",
    "                           atlas.models[i].init_manifold[2].cotan[1].detach().clone())\n",
    "\n",
    "    silent = dm.DeformationModules.SilentLandmarks(2, silent_pos.shape[0], gd=silent_pos, cotan=silent_mom)\n",
    "    right_ear_trans = dm.DeformationModules.OrientedTranslations(2, 1, ear_sigma, gd=right_ear_trans_gd, cotan=right_ear_trans_mom)\n",
    "    left_ear_trans = dm.DeformationModules.OrientedTranslations(2, 1, ear_sigma, gd=left_ear_trans_gd, cotan=left_ear_trans_mom)\n",
    "    global_trans = dm.DeformationModules.GlobalTranslation(2)\n",
    "\n",
    "    h = dm.HamiltonianDynamic.Hamiltonian([silent, right_ear_trans, left_ear_trans, global_trans])\n",
    "    intermediate_states, _ = dm.HamiltonianDynamic.shoot(h, shoot_it, shoot_method, intermediates=True)\n",
    "\n",
    "    for j in range(snapshots):\n",
    "        pos = intermediate_states[it_per_snapshot*j].gd[0].numpy()\n",
    "        pos_right_ear_trans = intermediate_states[it_per_snapshot*j].gd[1][0].numpy()\n",
    "        pos_left_ear_trans = intermediate_states[it_per_snapshot*j].gd[2][0].numpy()\n",
    "\n",
    "        plt.subplot(len(targets), snapshots + 1, i*snapshots + j + i + 1)\n",
    "        plt.plot(pos[:, 0], pos[:, 1])\n",
    "        plt.plot(pos_right_ear_trans[:, 0], pos_right_ear_trans[:, 1], 'x')\n",
    "        plt.plot(pos_left_ear_trans[:, 0], pos_left_ear_trans[:, 1], 'x') \n",
    "        plt.axis('equal')\n",
    "\n",
    "\n",
    "    final_pos = intermediate_states[-1].gd[0].numpy()\n",
    "    plt.subplot(len(targets), snapshots + 1, i*snapshots + snapshots + i + 1)\n",
    "    plt.plot(targets[i].numpy()[:, 0], targets[i].numpy()[:, 1])\n",
    "    plt.plot(final_pos[:, 0], final_pos[:, 1])\n",
    "    plt.axis('equal')\n",
    "\n",
    "plt.show()"
   ]
  },
  {
   "cell_type": "code",
   "execution_count": null,
   "metadata": {
    "autoscroll": false,
    "collapsed": false,
    "ein.hycell": false,
    "ein.tags": "worksheet-0",
    "slideshow": {
     "slide_type": "-"
    }
   },
   "outputs": [],
   "source": []
  }
 ],
 "metadata": {
  "kernelspec": {
   "display_name": "Python 3",
   "name": "python3"
  },
  "name": "Untitled1.ipynb"
 },
 "nbformat": 4,
 "nbformat_minor": 2
}
