{
 "cells": [
  {
   "cell_type": "code",
   "execution_count": null,
   "metadata": {
    "autoscroll": false,
    "collapsed": false,
    "ein.hycell": false,
    "ein.tags": "worksheet-0",
    "slideshow": {
     "slide_type": "-"
    }
   },
   "outputs": [],
   "source": [
    "%load_ext autoreload\n",
    "%autoreload 2\n",
    "\n",
    "import pickle\n",
    "import math\n",
    "\n",
    "# The deformation module library is not automatically installed yet, we need to add its path manually\n",
    "import sys\n",
    "sys.path.append(\"../../\")\n",
    "\n",
    "import matplotlib.pyplot as plt\n",
    "import torch\n",
    "\n",
    "import implicitmodules.torch as dm\n",
    "\n",
    "torch.set_default_tensor_type(torch.FloatTensor)\n",
    "dm.Utilities.set_compute_backend('torch')\n",
    "device = 'cuda:0'"
   ]
  },
  {
   "cell_type": "code",
   "execution_count": null,
   "metadata": {
    "autoscroll": false,
    "collapsed": false,
    "ein.hycell": false,
    "ein.tags": "worksheet-0",
    "slideshow": {
     "slide_type": "-"
    }
   },
   "outputs": [],
   "source": [
    "torch.manual_seed(1337)\n",
    "data = pickle.load(open(\"herd.pickle\", 'rb'))\n",
    "\n",
    "ear_pos_mean = list(torch.mean(torch.stack(list(zip(*list(zip(*data))[1]))[i], dim=0), dim=0) for i in range(2))\n",
    "ear_pos_stdvar = list(torch.sqrt(torch.mean(torch.var(torch.stack(list(zip(*list(zip(*data))[1]))[i], dim=0), dim=0))) for i in range(2))\n",
    "\n",
    "sigma_ear_tip_pos = 0.\n",
    "sigma_ear_tip_dir = 0.\n",
    "\n",
    "right_ear_tip_pos = data[0][1][0] + sigma_ear_tip_pos*torch.randn(1).item()\n",
    "left_ear_tip_pos = data[0][1][1] + sigma_ear_tip_pos*torch.randn(1).item()\n",
    "right_ear_tip_dir = right_ear_tip_pos/torch.norm(right_ear_tip_pos) + sigma_ear_tip_dir*torch.randn(1).item()\n",
    "left_ear_tip_dir = left_ear_tip_pos/torch.norm(left_ear_tip_pos) + sigma_ear_tip_dir*torch.randn(1).item()\n",
    "\n",
    "# We need a better template than that\n",
    "template = data[0][0]\n",
    "template = dm.Utilities.gaussian_kernel_smooth(template, 0.1)\n",
    "herd = list(list(zip(*data))[0])[1:3]\n",
    "\n",
    "print(len(herd))\n",
    "\n",
    "ear_sigma = 0.3"
   ]
  },
  {
   "cell_type": "code",
   "execution_count": null,
   "metadata": {
    "autoscroll": false,
    "collapsed": false,
    "ein.hycell": false,
    "ein.tags": "worksheet-0",
    "slideshow": {
     "slide_type": "-"
    }
   },
   "outputs": [],
   "source": [
    "%matplotlib qt5\n",
    "plt.plot(template[:, 0].numpy(), template[:, 1].numpy(), '--', color='black', lw=4.)\n",
    "for bunny in herd:\n",
    "    plt.plot(bunny.numpy()[:, 0], bunny.numpy()[:, 1], '-', color='C4')\n",
    "# plt.plot(ear_pos_mean[0][0].numpy(), ear_pos_mean[0][1].numpy(), 'X')\n",
    "# plt.plot(ear_pos_mean[1][0].numpy(), ear_pos_mean[1][1].numpy(), 'X')\n",
    "plt.quiver(right_ear_tip_pos[0].numpy(), right_ear_tip_pos[1].numpy(), right_ear_tip_dir[0].numpy(), right_ear_tip_dir[1].numpy(), color='red')\n",
    "plt.quiver(left_ear_tip_pos[0], left_ear_tip_pos[1], left_ear_tip_dir[0], left_ear_tip_dir[1], color='blue')\n",
    "plt.axis('equal')\n",
    "plt.show()\n"
   ]
  },
  {
   "cell_type": "code",
   "execution_count": null,
   "metadata": {
    "autoscroll": false,
    "collapsed": false,
    "ein.hycell": false,
    "ein.tags": "worksheet-0",
    "slideshow": {
     "slide_type": "-"
    }
   },
   "outputs": [],
   "source": [
    "sigma_rotation = 15.\n",
    "coeff_oriented = 1e0\n",
    "coeff_rotation = 1e-3\n",
    "coeff_translation = 1e-1\n",
    "right_ear_translation = dm.DeformationModules.OrientedTranslations(2, 1, ear_sigma, transport='vector', coeff=coeff_oriented, gd=(right_ear_tip_pos.clone().unsqueeze(0).requires_grad_(), right_ear_tip_dir.clone().unsqueeze(0).requires_grad_()), label='right_ear_translation')\n",
    "left_ear_translation = dm.DeformationModules.OrientedTranslations(2, 1, ear_sigma, transport='vector', coeff=coeff_oriented, gd=(left_ear_tip_pos.clone().unsqueeze(0).requires_grad_(), left_ear_tip_dir.clone().unsqueeze(0).requires_grad_()), label='left_ear_translation')\n",
    "local_rotation = dm.DeformationModules.LocalRotation(2, sigma_rotation, coeff=coeff_rotation, gd=torch.tensor([[0., 0.]], requires_grad=True))\n",
    "rigid_translation = dm.DeformationModules.GlobalTranslation(2, coeff_translation)\n",
    "\n",
    "attachment = dm.Attachment.VarifoldAttachment(2, [1., 4.], backend='torch')\n",
    "targets = herd"
   ]
  },
  {
   "cell_type": "code",
   "execution_count": null,
   "metadata": {
    "autoscroll": false,
    "collapsed": false,
    "ein.hycell": false,
    "ein.tags": "worksheet-0",
    "slideshow": {
     "slide_type": "-"
    }
   },
   "outputs": [],
   "source": [
    "right_ear_translation.to_(device)\n",
    "left_ear_translation.to_(device)\n",
    "local_rotation.to_(device)\n",
    "rigid_translation.to_(device)"
   ]
  },
  {
   "cell_type": "code",
   "execution_count": null,
   "metadata": {
    "autoscroll": false,
    "collapsed": false,
    "ein.hycell": false,
    "ein.tags": "worksheet-0",
    "slideshow": {
     "slide_type": "-"
    }
   },
   "outputs": [],
   "source": [
    "atlas = dm.Models.Atlas(template.clone().to(device=device), [right_ear_translation, left_ear_translation, local_rotation, rigid_translation], [attachment], len(targets), fit_gd=[True, True, False, False], optimise_template=False, ht_sigma=0.1, ht_coeff=10., lam=10.)"
   ]
  },
  {
   "cell_type": "code",
   "execution_count": null,
   "metadata": {
    "autoscroll": false,
    "collapsed": false,
    "ein.hycell": false,
    "ein.tags": "worksheet-0",
    "slideshow": {
     "slide_type": "-"
    }
   },
   "outputs": [],
   "source": [
    "shoot_method = 'rk4'\n",
    "shoot_it = 10"
   ]
  },
  {
   "cell_type": "code",
   "execution_count": null,
   "metadata": {
    "autoscroll": false,
    "collapsed": false,
    "ein.hycell": false,
    "ein.tags": "worksheet-0",
    "slideshow": {
     "slide_type": "-"
    }
   },
   "outputs": [],
   "source": [
    "fitter = dm.Models.ModelFittingScipy(atlas)\n",
    "costs = fitter.fit([target.clone().to(device=device) for target in targets], 40, options={'shoot_method': shoot_method, 'shoot_it': shoot_it})"
   ]
  },
  {
   "cell_type": "code",
   "execution_count": null,
   "metadata": {
    "autoscroll": false,
    "collapsed": false,
    "ein.hycell": false,
    "ein.tags": "worksheet-0",
    "slideshow": {
     "slide_type": "-"
    }
   },
   "outputs": [],
   "source": [
    "%matplotlib qt5\n",
    "plt.plot(range(len(costs)), tuple(zip(*costs))[1], color='black', lw=0.5)\n",
    "plt.xlabel(\"It\")\n",
    "plt.ylabel(\"Cost\")\n",
    "plt.grid()\n",
    "plt.show()"
   ]
  },
  {
   "cell_type": "code",
   "execution_count": null,
   "metadata": {
    "autoscroll": false,
    "collapsed": false,
    "ein.hycell": false,
    "ein.tags": "worksheet-0",
    "slideshow": {
     "slide_type": "-"
    }
   },
   "outputs": [],
   "source": [
    "# Print recap\n",
    "print(atlas)\n",
    "print(\"\")\n",
    "print(\"Fit informations\")\n",
    "print(\"================\")\n",
    "print(\"Iteration count={it_count}\".format(it_count=len(costs)))\n",
    "print(\"Start cost={cost}\".format(cost=costs[0][2]))\n",
    "print(\"  Attach cost={cost}\".format(cost=costs[0][1]))\n",
    "print(\"  Def cost={cost}\".format(cost=costs[0][0]))\n",
    "print(\"Final cost={cost}\".format(cost=costs[-1][2]))\n",
    "print(\"  Attach cost={cost}\".format(cost=costs[-1][1]))\n",
    "print(\"  Def cost={cost}\".format(cost=costs[-1][0]))\n",
    "print(\"Integration scheme={scheme}\".format(scheme=shoot_method))\n",
    "print(\"Integration steps={steps}\".format(steps=shoot_it))"
   ]
  },
  {
   "cell_type": "code",
   "execution_count": null,
   "metadata": {
    "autoscroll": false,
    "collapsed": false,
    "ein.hycell": false,
    "ein.tags": "worksheet-0",
    "slideshow": {
     "slide_type": "-"
    }
   },
   "outputs": [],
   "source": [
    "print(\"Initial right ear tip direction: {dir}\".format(dir=right_ear_tip_dir.tolist()))\n",
    "print(\"Optimised right ear tip direction: {dir}\".format(dir=atlas.models[0].init_manifold[1].gd[1].detach().flatten().tolist()))\n",
    "print(\"Initial left ear tip direction: {dir}\".format(dir=left_ear_tip_dir.tolist()))\n",
    "print(\"Optimised left ear tip direction: {dir}\".format(dir=atlas.models[0].init_manifold[2].gd[1].detach().flatten().tolist()))"
   ]
  },
  {
   "cell_type": "code",
   "execution_count": null,
   "metadata": {
    "autoscroll": false,
    "collapsed": false,
    "ein.hycell": false,
    "ein.tags": "worksheet-0",
    "slideshow": {
     "slide_type": "-"
    }
   },
   "outputs": [],
   "source": [
    "print(\"Optimised rotation center: {center}\".format(center=atlas.models[0].init_manifold[3].gd.tolist()[0]))"
   ]
  },
  {
   "cell_type": "code",
   "execution_count": null,
   "metadata": {
    "autoscroll": false,
    "collapsed": false,
    "ein.hycell": false,
    "ein.tags": "worksheet-0",
    "slideshow": {
     "slide_type": "-"
    }
   },
   "outputs": [],
   "source": [
    "# Compute optimised template\n",
    "optimised_template, _ = atlas.compute_template()\n",
    "optimised_template = optimised_template.cpu()"
   ]
  },
  {
   "cell_type": "code",
   "execution_count": null,
   "metadata": {
    "autoscroll": false,
    "collapsed": false,
    "ein.hycell": false,
    "ein.tags": "worksheet-0",
    "slideshow": {
     "slide_type": "-"
    }
   },
   "outputs": [],
   "source": [
    "template_right_ear_pos, template_right_ear_dir = atlas.models[0].init_manifold[1].gd[0].detach().cpu().flatten(), atlas.models[0].init_manifold[1].gd[1].detach().cpu().flatten()\n",
    "template_left_ear_pos, template_left_ear_dir = atlas.models[0].init_manifold[2].gd[0].detach().cpu().flatten(), atlas.models[0].init_manifold[2].gd[1].detach().cpu().flatten()\n",
    "\n",
    "plt.plot(optimised_template[:, 0].numpy(), optimised_template[:, 1].numpy(), '-', color='grey', lw=1.5)\n",
    "plt.plot(template[:, 0].numpy(), template[:, 1].numpy(), color='black', lw=0.8)\n",
    "\n",
    "# Plot initial positions and directions of the oriented translations\n",
    "plt.quiver(right_ear_tip_pos[0].numpy(), right_ear_tip_pos[1].numpy(),\n",
    "           right_ear_tip_dir[0].numpy(), right_ear_tip_dir[1].numpy(), scale=10.)\n",
    "plt.quiver(left_ear_tip_pos[0].numpy(), left_ear_tip_pos[1].numpy(),\n",
    "           left_ear_tip_dir[0].numpy(), left_ear_tip_dir[1].numpy(), scale=10.)\n",
    "\n",
    "# Plot optimised positions and directions of the oriented translations\n",
    "plt.quiver(template_right_ear_pos[0].numpy(), template_right_ear_pos[1].numpy(),\n",
    "           template_right_ear_dir[0].numpy(), template_right_ear_dir[1].numpy(), scale=10.)\n",
    "plt.quiver(template_left_ear_pos[0].numpy(), template_left_ear_pos[1].numpy(),\n",
    "           template_left_ear_dir[0].numpy(), template_left_ear_dir[1].numpy(), scale=10.)\n",
    "\n",
    "# Plot position correspondance\n",
    "plt.arrow(right_ear_tip_pos[0], right_ear_tip_pos[1], template_right_ear_pos[0] - right_ear_tip_pos[0], template_right_ear_pos[1] - right_ear_tip_pos[1], width=0.01, length_includes_head=True, head_width=0.08)\n",
    "plt.arrow(left_ear_tip_pos[0], left_ear_tip_pos[1], template_left_ear_pos[0] - left_ear_tip_pos[0], template_left_ear_pos[1] - left_ear_tip_pos[1], width=0.01, length_includes_head=True, head_width=0.08)\n",
    "plt.axis('equal')\n",
    "plt.show()"
   ]
  },
  {
   "cell_type": "code",
   "execution_count": null,
   "metadata": {
    "autoscroll": false,
    "collapsed": false,
    "ein.hycell": false,
    "ein.tags": "worksheet-0",
    "slideshow": {
     "slide_type": "-"
    }
   },
   "outputs": [],
   "source": [
    "%matplotlib qt5\n",
    "it_per_snapshot = 3\n",
    "snapshots = int(shoot_it/it_per_snapshot)\n",
    "\n",
    "disp_targets = len(targets)\n",
    "\n",
    "for i in range(disp_targets):\n",
    "    silent_pos = optimised_template.clone()\n",
    "    silent_mom = atlas.models[i].init_manifold[0].cotan.detach().cpu().clone()\n",
    "    right_ear_trans_gd = (atlas.models[i].init_manifold[1].gd[0].detach().cpu().clone(),\n",
    "                          atlas.models[i].init_manifold[1].gd[1].detach().cpu().clone())\n",
    "    right_ear_trans_mom = (atlas.models[i].init_manifold[1].cotan[0].detach().cpu().clone(),\n",
    "                           atlas.models[i].init_manifold[1].cotan[1].detach().cpu().clone())\n",
    "    left_ear_trans_gd = (atlas.models[i].init_manifold[2].gd[0].detach().cpu().clone(),\n",
    "                          atlas.models[i].init_manifold[2].gd[1].detach().cpu().clone())\n",
    "    left_ear_trans_mom = (atlas.models[i].init_manifold[2].cotan[0].detach().cpu().clone(),\n",
    "                          atlas.models[i].init_manifold[2].cotan[1].detach().cpu().clone())\n",
    "    local_rotation_gd = atlas.models[i].init_manifold[3].gd.detach().cpu().clone()\n",
    "    local_rotation_mom = atlas.models[i].init_manifold[3].cotan.detach().cpu().clone()\n",
    "\n",
    "    silent = dm.DeformationModules.SilentLandmarks(2, silent_pos.shape[0], gd=silent_pos, cotan=silent_mom)\n",
    "    right_ear_trans = dm.DeformationModules.OrientedTranslations(2, 1, ear_sigma, coeff=coeff_oriented, gd=right_ear_trans_gd, cotan=right_ear_trans_mom)\n",
    "    left_ear_trans = dm.DeformationModules.OrientedTranslations(2, 1, ear_sigma, coeff=coeff_oriented, gd=left_ear_trans_gd, cotan=left_ear_trans_mom)\n",
    "    local_rot = dm.DeformationModules.LocalRotation(2, sigma_rotation, coeff=coeff_rotation, gd=local_rotation_gd, cotan=local_rotation_mom)\n",
    "    rigid_translation = dm.DeformationModules.GlobalTranslation(2, coeff=coeff_translation)\n",
    "\n",
    "    h = dm.HamiltonianDynamic.Hamiltonian([silent, right_ear_trans, left_ear_trans, local_rot, rigid_translation])\n",
    "    intermediate_states, _ = dm.HamiltonianDynamic.shoot(h, shoot_it, shoot_method, intermediates=True)\n",
    "\n",
    "\n",
    "    for j in range(snapshots):\n",
    "        pos = intermediate_states[it_per_snapshot*j].gd[0].numpy()\n",
    "        pos_right_ear_trans = intermediate_states[it_per_snapshot*j].gd[1][0].flatten().numpy()\n",
    "        pos_left_ear_trans = intermediate_states[it_per_snapshot*j].gd[2][0].flatten().numpy()\n",
    "        dir_right_ear_trans = intermediate_states[it_per_snapshot*j].gd[1][1].flatten().numpy()\n",
    "        dir_left_ear_trans = intermediate_states[it_per_snapshot*j].gd[2][1].flatten().numpy()\n",
    "\n",
    "        plt.subplot(disp_targets, snapshots + 1, i*snapshots + j + i + 1)\n",
    "        plt.plot(pos[:, 0], pos[:, 1], color='black')\n",
    "        plt.plot(pos_right_ear_trans[0], pos_right_ear_trans[1], 'x', color='red')\n",
    "        plt.plot(pos_left_ear_trans[0], pos_left_ear_trans[1], 'x', color='red')\n",
    "        plt.plot(targets[i].numpy()[:, 0], targets[i].numpy()[:, 1], color='blue')\n",
    "        plt.quiver(pos_right_ear_trans[0], pos_right_ear_trans[1],\n",
    "                   dir_right_ear_trans[0], dir_right_ear_trans[1], scale=10.)\n",
    "        plt.quiver(pos_left_ear_trans[0], pos_left_ear_trans[1],\n",
    "                   dir_left_ear_trans[0], dir_left_ear_trans[1], scale=10.)\n",
    "\n",
    "        plt.axis('equal')\n",
    "\n",
    "    final_pos = intermediate_states[-1].gd[0].numpy()\n",
    "    plt.subplot(disp_targets, snapshots + 1, i*snapshots + snapshots + i + 1)\n",
    "    plt.plot(targets[i].numpy()[:, 0], targets[i].numpy()[:, 1], color='blue')\n",
    "    plt.plot(final_pos[:, 0], final_pos[:, 1], color='black')\n",
    "    plt.axis('equal')\n",
    "\n",
    "    print(\"Target {i}: attachment={attachment}\".format(i=i, attachment=attachment(targets[i], torch.tensor(final_pos))))\n",
    "\n",
    "plt.show()"
   ]
  }
 ],
 "metadata": {
  "kernelspec": {
   "display_name": "Python 3",
   "name": "python3"
  },
  "name": "atlas_herd.ipynb"
 },
 "nbformat": 4,
 "nbformat_minor": 2
}
