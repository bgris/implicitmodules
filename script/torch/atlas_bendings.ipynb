{
 "cells": [
  {
   "cell_type": "code",
   "execution_count": null,
   "metadata": {
    "autoscroll": false,
    "collapsed": false,
    "ein.hycell": false,
    "ein.tags": "worksheet-0",
    "slideshow": {
     "slide_type": "-"
    }
   },
   "outputs": [],
   "source": [
    "%load_ext autoreload\n",
    "%autoreload 2\n",
    "\n",
    "import pickle\n",
    "import math\n",
    "\n",
    "# The deformation module library is not automatically installed yet, we need to add its path manually\n",
    "import sys\n",
    "sys.path.append(\"../../\")\n",
    "\n",
    "import numpy as np\n",
    "import matplotlib.pyplot as plt\n",
    "import torch\n",
    "\n",
    "import implicitmodules.torch as dm\n",
    "\n",
    "torch.set_default_tensor_type(torch.FloatTensor)"
   ]
  },
  {
   "cell_type": "code",
   "execution_count": null,
   "metadata": {
    "autoscroll": false,
    "collapsed": false,
    "ein.hycell": false,
    "ein.tags": "worksheet-0",
    "slideshow": {
     "slide_type": "-"
    }
   },
   "outputs": [],
   "source": [
    "data = []\n",
    "with open(\"bendings.pickle\", 'rb') as f:\n",
    "    data = pickle.load(f)\n",
    "\n",
    "template = data[0][0]\n",
    "template = torch.unique_consecutive(template, dim=0)\n",
    "\n",
    "\n",
    "true_implicit1_points = data[0][1]\n",
    "true_C = data[0][2]\n",
    "bendings = data[1:]\n",
    "\n",
    "dataset = [torch.unique_consecutive(target, dim=0) for target in list(zip(*bendings))[0]]\n",
    "\n",
    "targets = dataset[:15]\n",
    "\n",
    "print(\"Dataset size: {size}\".format(size=len(targets)))"
   ]
  },
  {
   "cell_type": "code",
   "execution_count": null,
   "metadata": {
    "autoscroll": false,
    "collapsed": false,
    "ein.hycell": false,
    "ein.tags": "worksheet-0",
    "slideshow": {
     "slide_type": "-"
    }
   },
   "outputs": [],
   "source": [
    "%matplotlib qt5\n",
    "plt.plot(template[:, 0].numpy(), template[:, 1].numpy(), '--', color='black', lw=2.)\n",
    "for target in targets:\n",
    "    plt.plot(target[:, 0].numpy(), target[:, 1].numpy(), color='grey', lw=0.5)\n",
    "plt.plot(template[:, 0].numpy(), template[:, 1].numpy(), '--', color='black', lw=2.)\n",
    "plt.plot(true_implicit1_points[:, 0].numpy(), true_implicit1_points[:, 1].numpy(), 'x')\n",
    "plt.axis('equal')\n",
    "plt.show()"
   ]
  },
  {
   "cell_type": "code",
   "execution_count": null,
   "metadata": {
    "autoscroll": false,
    "collapsed": false,
    "ein.hycell": false,
    "ein.tags": "worksheet-0",
    "slideshow": {
     "slide_type": "-"
    }
   },
   "outputs": [],
   "source": [
    "sigma_implicit1 = 1.5\n",
    "\n",
    "implicit1_points = true_implicit1_points\n",
    "implicit1_R = torch.eye(2).repeat(implicit1_points.shape[0], 1, 1)\n",
    "C_init = torch.ones(implicit1_points.shape[0], 2, 1)\n",
    "implicit1 = dm.DeformationModules.ImplicitModule1(2, true_implicit1_points.shape[0], sigma_implicit1, C_init, nu=0.1, gd=(implicit1_points.clone().requires_grad_(), implicit1_R.clone().requires_grad_()))\n",
    "abc_init = torch.zeros(3, 2)\n",
    "abc_init[0] = torch.ones(2)"
   ]
  },
  {
   "cell_type": "code",
   "execution_count": null,
   "metadata": {
    "autoscroll": false,
    "collapsed": false,
    "ein.hycell": false,
    "ein.tags": "worksheet-0",
    "slideshow": {
     "slide_type": "-"
    }
   },
   "outputs": [],
   "source": [
    "def pol_order_1(pos, a, b, c):\n",
    "    return a + b*pos[:, 0] + c*pos[:, 1]\n",
    "\n",
    "def callback_compute_c(init_manifold, modules, parameters):\n",
    "    abc = parameters[-1]\n",
    "    a = abc[0].unsqueeze(1)\n",
    "    b = abc[1].unsqueeze(1)\n",
    "    c = abc[2].unsqueeze(1)\n",
    "    modules[1]._ImplicitModule1Base__C = pol_order_1(implicit1_points, a, b, c).transpose(0, 1).unsqueeze(2)"
   ]
  },
  {
   "cell_type": "code",
   "execution_count": null,
   "metadata": {
    "autoscroll": false,
    "collapsed": false,
    "ein.hycell": false,
    "ein.tags": "worksheet-0",
    "slideshow": {
     "slide_type": "-"
    }
   },
   "outputs": [],
   "source": [
    "atlas = dm.Models.Atlas(template, [implicit1], [dm.Attachment.L2NormAttachment()], len(targets), lam=10000., other_parameters=[abc_init.clone().requires_grad_()], model_precompute_callback=callback_compute_c)"
   ]
  },
  {
   "cell_type": "code",
   "execution_count": null,
   "metadata": {
    "autoscroll": false,
    "collapsed": false,
    "ein.hycell": false,
    "ein.tags": "worksheet-0",
    "slideshow": {
     "slide_type": "-"
    }
   },
   "outputs": [],
   "source": [
    "fitter = dm.Models.ModelFittingScipy(atlas, 1.)\n",
    "\n",
    "#with torch.autograd.detect_anomaly():\n",
    "costs = fitter.fit(targets, 150, options={'shoot_method': 'rk4', 'shoot_it': 10})"
   ]
  },
  {
   "cell_type": "code",
   "execution_count": null,
   "metadata": {
    "autoscroll": false,
    "collapsed": false,
    "ein.hycell": false,
    "ein.tags": "worksheet-0",
    "slideshow": {
     "slide_type": "-"
    }
   },
   "outputs": [],
   "source": [
    "plt.plot(range(len(costs)), costs)\n",
    "plt.show()"
   ]
  },
  {
   "cell_type": "code",
   "execution_count": null,
   "metadata": {
    "autoscroll": false,
    "collapsed": false,
    "ein.hycell": false,
    "ein.tags": "worksheet-0",
    "slideshow": {
     "slide_type": "-"
    }
   },
   "outputs": [],
   "source": [
    "abc_fit = atlas.parameters[-1].detach()\n",
    "print(abc_fit)\n",
    "C_fit = pol_order_1(implicit1_points, abc_fit[0].unsqueeze(1), abc_fit[1].unsqueeze(1), abc_fit[2].unsqueeze(1)).t().unsqueeze(2)\n",
    "\n",
    "print(torch.dot((true_C/torch.norm(true_C)).flatten(), (C_fit/torch.norm(C_fit)).flatten()))"
   ]
  },
  {
   "cell_type": "code",
   "execution_count": null,
   "metadata": {
    "autoscroll": false,
    "collapsed": false,
    "ein.hycell": false,
    "ein.tags": "worksheet-0",
    "slideshow": {
     "slide_type": "-"
    }
   },
   "outputs": [],
   "source": []
  }
 ],
 "metadata": {
  "kernelspec": {
   "display_name": "Python 3",
   "name": "python3"
  },
  "name": "Untitled2.ipynb"
 },
 "nbformat": 4,
 "nbformat_minor": 4
}
