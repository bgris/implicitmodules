{
 "cells": [
  {
   "cell_type": "code",
   "execution_count": null,
   "metadata": {
    "autoscroll": false,
    "collapsed": false,
    "ein.hycell": false,
    "ein.tags": "worksheet-0",
    "slideshow": {
     "slide_type": "-"
    }
   },
   "outputs": [],
   "source": [
    "%load_ext autoreload\n",
    "%autoreload 2\n",
    "\n",
    "import pickle\n",
    "import math\n",
    "\n",
    "# The deformation module library is not automatically installed yet, we need to add its path manually\n",
    "import sys\n",
    "sys.path.append(\"../../\")\n",
    "\n",
    "import numpy as np\n",
    "import matplotlib.pyplot as plt\n",
    "import torch\n",
    "\n",
    "import implicitmodules.torch as dm\n",
    "\n",
    "torch.set_default_tensor_type(torch.FloatTensor)"
   ]
  },
  {
   "cell_type": "code",
   "execution_count": null,
   "metadata": {
    "autoscroll": false,
    "collapsed": false,
    "ein.hycell": false,
    "ein.tags": "worksheet-0",
    "slideshow": {
     "slide_type": "-"
    }
   },
   "outputs": [],
   "source": [
    "# In this notebook, we try to fit a model of growth constant.\n",
    "# The dataset consists of bended rectangles, done by applying an implicit module of order 1 with known linear growth law.\n",
    "# To generate the dataset, simply execute \"python3 generate_bendings.py bendings.pickle nb_of_elem_in_dataset\".\n",
    "# We then fit a polynomial model of growth constants of order 2."
   ]
  },
  {
   "cell_type": "code",
   "execution_count": null,
   "metadata": {
    "autoscroll": false,
    "collapsed": false,
    "ein.hycell": false,
    "ein.tags": "worksheet-0",
    "slideshow": {
     "slide_type": "-"
    }
   },
   "outputs": [],
   "source": [
    "# Load our data\n",
    "data = []\n",
    "with open(\"bendings.pickle\", 'rb') as f:\n",
    "    data = pickle.load(f)\n",
    "\n",
    "template = data[0][0]\n",
    "template = torch.unique_consecutive(template, dim=0)\n",
    "\n",
    "\n",
    "true_implicit1_points = data[0][1]\n",
    "true_C = data[0][2]\n",
    "bendings = data[1:]\n",
    "\n",
    "# Make sure each points in each data element are consecutively unique (needed when dealing varifold attachment atm).\n",
    "dataset = [torch.unique_consecutive(target, dim=0) for target in list(zip(*bendings))[0]]\n",
    "\n",
    "targets = dataset[:15]\n",
    "\n",
    "print(\"Dataset size: {size}\".format(size=len(targets)))"
   ]
  },
  {
   "cell_type": "code",
   "execution_count": null,
   "metadata": {
    "autoscroll": false,
    "collapsed": false,
    "ein.hycell": false,
    "ein.tags": "worksheet-0",
    "slideshow": {
     "slide_type": "-"
    }
   },
   "outputs": [],
   "source": [
    "%matplotlib qt5\n",
    "\n",
    "# Display our data set and template\n",
    "plt.plot(template[:, 0].numpy(), template[:, 1].numpy(), '--', color='black', lw=2.)\n",
    "for target in targets:\n",
    "    plt.plot(target[:, 0].numpy(), target[:, 1].numpy(), color='grey', lw=0.5)\n",
    "plt.plot(template[:, 0].numpy(), template[:, 1].numpy(), '--', color='black', lw=2.)\n",
    "plt.plot(true_implicit1_points[:, 0].numpy(), true_implicit1_points[:, 1].numpy(), 'x')\n",
    "plt.axis('equal')\n",
    "plt.show()"
   ]
  },
  {
   "cell_type": "code",
   "execution_count": null,
   "metadata": {
    "autoscroll": false,
    "collapsed": false,
    "ein.hycell": false,
    "ein.tags": "worksheet-0",
    "slideshow": {
     "slide_type": "-"
    }
   },
   "outputs": [],
   "source": [
    "# Defines the implicit module of order 1 that will be used by the atlas.\n",
    "sigma_implicit1 = 1.5\n",
    "\n",
    "implicit1_points = true_implicit1_points\n",
    "implicit1_R = torch.eye(2).repeat(implicit1_points.shape[0], 1, 1)\n",
    "C_init = torch.ones(implicit1_points.shape[0], 2, 1)\n",
    "implicit1 = dm.DeformationModules.ImplicitModule1(2, true_implicit1_points.shape[0], sigma_implicit1, C_init, nu=0.1, gd=(implicit1_points.clone().requires_grad_(), implicit1_R.clone().requires_grad_()))\n",
    "\n",
    "# Initial coefficient for the polynomial model of the deformation constants\n",
    "abc_init = torch.zeros(6, 2)\n",
    "abc_init[0] = torch.ones(2)"
   ]
  },
  {
   "cell_type": "code",
   "execution_count": null,
   "metadata": {
    "autoscroll": false,
    "collapsed": false,
    "ein.hycell": false,
    "ein.tags": "worksheet-0",
    "slideshow": {
     "slide_type": "-"
    }
   },
   "outputs": [],
   "source": [
    "# The polynomial model we will try to fit on our deformation constants\n",
    "def pol_order_2(pos, a, b, c, d, e, f):\n",
    "    return a + b*pos[:, 0] + c*pos[:, 1] + d*pos[:, 0]**2 + e*pos[:, 1]**2 + f*pos[:, 0]*pos[:, 1]\n",
    "\n",
    "# Callback called by the atlas. Serves as glue for our model of deformation constants.\n",
    "def callback_compute_c(init_manifold, modules, parameters):\n",
    "    abc = parameters[-1]\n",
    "    a = abc[0].unsqueeze(1)\n",
    "    b = abc[1].unsqueeze(1)\n",
    "    c = abc[2].unsqueeze(1)\n",
    "    d = abc[3].unsqueeze(1)\n",
    "    e = abc[4].unsqueeze(1)\n",
    "    f = abc[5].unsqueeze(1)\n",
    "    modules[1]._ImplicitModule1Base__C = pol_order_2(implicit1_points, a, b, c, d, e, f).transpose(0, 1).unsqueeze(2)"
   ]
  },
  {
   "cell_type": "code",
   "execution_count": null,
   "metadata": {
    "autoscroll": false,
    "collapsed": false,
    "ein.hycell": false,
    "ein.tags": "worksheet-0",
    "slideshow": {
     "slide_type": "-"
    }
   },
   "outputs": [],
   "source": [
    "# Creation of the atlas. Uses L2 norm attachment for now.\n",
    "atlas = dm.Models.Atlas(template, [implicit1], [dm.Attachment.L2NormAttachment()], len(targets), lam=10000., other_parameters=[abc_init.clone().requires_grad_()], model_precompute_callback=callback_compute_c)"
   ]
  },
  {
   "cell_type": "code",
   "execution_count": null,
   "metadata": {
    "autoscroll": false,
    "collapsed": false,
    "ein.hycell": false,
    "ein.tags": "worksheet-0",
    "slideshow": {
     "slide_type": "-"
    }
   },
   "outputs": [],
   "source": [
    "# Fit the atlas\n",
    "fitter = dm.Models.ModelFittingScipy(atlas, 1.)\n",
    "costs = fitter.fit(targets, 150, options={'shoot_method': 'rk4', 'shoot_it': 10})"
   ]
  },
  {
   "cell_type": "code",
   "execution_count": null,
   "metadata": {
    "autoscroll": false,
    "collapsed": false,
    "ein.hycell": false,
    "ein.tags": "worksheet-0",
    "slideshow": {
     "slide_type": "-"
    }
   },
   "outputs": [],
   "source": [
    "plt.plot(range(len(costs)), costs)\n",
    "plt.show()"
   ]
  },
  {
   "cell_type": "code",
   "execution_count": null,
   "metadata": {
    "autoscroll": false,
    "collapsed": false,
    "ein.hycell": false,
    "ein.tags": "worksheet-0",
    "slideshow": {
     "slide_type": "-"
    }
   },
   "outputs": [],
   "source": [
    "# Retrieve the optimised coeffcient and then compare the generated growth constraint to the true one.\n",
    "abc_fit = atlas.parameters[-1].detach()\n",
    "print(abc_fit)\n",
    "C_fit = pol_order_2(implicit1_points, abc_fit[0].unsqueeze(1), abc_fit[1].unsqueeze(1), abc_fit[2].unsqueeze(1), abc_fit[3].unsqueeze(1), abc_fit[4].unsqueeze(1), abc_fit[5].unsqueeze(1)).t().unsqueeze(2)\n",
    "\n",
    "# The closer to 1. it is, the better.\n",
    "print(torch.dot((true_C/torch.norm(true_C)).flatten(), (C_fit/torch.norm(C_fit)).flatten()))"
   ]
  },
  {
   "cell_type": "code",
   "execution_count": null,
   "metadata": {
    "autoscroll": false,
    "collapsed": false,
    "ein.hycell": false,
    "ein.tags": "worksheet-0",
    "slideshow": {
     "slide_type": "-"
    }
   },
   "outputs": [],
   "source": []
  }
 ],
 "metadata": {
  "kernelspec": {
   "argv": [
    "python",
    "-m",
    "ipykernel_launcher",
    "-f",
    "{connection_file}"
   ],
   "display_name": "Python 3",
   "env": null,
   "interrupt_mode": "signal",
   "language": "python",
   "metadata": null,
   "name": "python3"
  },
  "name": "atlas_bendings.ipynb"
 },
 "nbformat": 4,
 "nbformat_minor": 4
}
