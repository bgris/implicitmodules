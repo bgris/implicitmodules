{
 "cells": [
  {
   "cell_type": "code",
   "execution_count": null,
   "metadata": {
    "autoscroll": false,
    "collapsed": false,
    "ein.hycell": false,
    "ein.tags": "worksheet-0",
    "slideshow": {
     "slide_type": "-"
    }
   },
   "outputs": [],
   "source": [
    "%reset\n",
    "%load_ext autoreload\n",
    "%autoreload 2\n",
    "\n",
    "import pickle\n",
    "import math\n",
    "\n",
    "# The deformation module library is not automatically installed yet, we need to add its path manually\n",
    "import sys\n",
    "sys.path.append(\"../../\")\n",
    "\n",
    "import numpy as np\n",
    "import matplotlib.pyplot as plt\n",
    "import torch\n",
    "from scipy.spatial import ConvexHull\n",
    "\n",
    "import implicitmodules.torch as dm\n",
    "\n",
    "torch.set_default_tensor_type(torch.DoubleTensor)"
   ]
  },
  {
   "cell_type": "code",
   "execution_count": null,
   "metadata": {
    "autoscroll": false,
    "collapsed": false,
    "ein.hycell": false,
    "ein.tags": "worksheet-0",
    "slideshow": {
     "slide_type": "-"
    }
   },
   "outputs": [],
   "source": [
    "data = pickle.load(open(\"../../data/basipetal.pkl\", 'rb'))\n",
    "\n",
    "Dx = 0.\n",
    "Dy = 0.\n",
    "height_source = 38.\n",
    "height_target = 100.\n",
    "\n",
    "source = torch.tensor(data['source_d'], dtype=torch.get_default_dtype())\n",
    "target = torch.tensor(data['target_d'], dtype=torch.get_default_dtype())\n",
    "source_curve = torch.tensor(data['source_c'], dtype=torch.get_default_dtype())\n",
    "target_curve = torch.tensor(data['target_c'], dtype=torch.get_default_dtype())\n",
    "\n",
    "smin, smax = torch.min(source_curve[:, 1]), torch.max(source_curve[:, 1])\n",
    "sscale = height_source / (smax - smin)\n",
    "source[:, 1] = Dy - sscale * (source[:, 1] - smax)\n",
    "source[:, 0] = Dx + sscale * (source[:, 0] - torch.mean(source_curve[:, 0]))\n",
    "source_curve[:, 1] = Dy - sscale * (source_curve[:, 1] - smax)\n",
    "source_curve[:, 0] = Dx + sscale * (source_curve[:, 0] - torch.mean(source_curve[:, 0]))\n",
    "\n",
    "source_curve = source_curve[source_curve[:, 0] <= 0]\n",
    "\n",
    "hull_fit = ConvexHull(source_curve)\n",
    "source_curve_convex = source_curve[hull_fit.vertices]\n",
    "\n",
    "aabb_source = dm.Utilities.AABB.build_from_points(source_curve)"
   ]
  },
  {
   "cell_type": "code",
   "execution_count": null,
   "metadata": {
    "autoscroll": false,
    "collapsed": false,
    "ein.hycell": false,
    "ein.tags": "worksheet-0",
    "slideshow": {
     "slide_type": "-"
    }
   },
   "outputs": [],
   "source": [
    "# pts_implicit1_step = 1.5\n",
    "# pts_implicit1_x, pts_implicit1_y = torch.meshgrid([\n",
    "#     torch.arange(0., aabb_source.xmin-pts_implicit1_step, step=-pts_implicit1_step),\n",
    "#     torch.arange(aabb_source.ymin, aabb_source.ymax+pts_implicit1_step, step=pts_implicit1_step)])\n",
    "\n",
    "# pts_implicit1 = dm.Utilities.grid2vec(pts_implicit1_x, pts_implicit1_y)\n",
    "# pts_implicit1_mask = dm.Utilities.is_inside_shape(source_curve_convex, pts_implicit1)\n",
    "# pts_implicit1 = pts_implicit1[pts_implicit1_mask]\n",
    "\n",
    "mesh_pts_x, mesh_pts_y = torch.meshgrid([torch.linspace(0, 1, 5), torch.linspace(0, 1, 5)])\n",
    "pts_implicit1 = dm.Utilities.grid2vec(mesh_pts_x, mesh_pts_y)\n",
    "source = pts_implicit1.clone()"
   ]
  },
  {
   "cell_type": "code",
   "execution_count": null,
   "metadata": {
    "autoscroll": false,
    "collapsed": false,
    "ein.hycell": false,
    "ein.tags": "worksheet-0",
    "slideshow": {
     "slide_type": "-"
    }
   },
   "outputs": [],
   "source": [
    "# A simple polynomial model of order 1\n",
    "def pol(pos, a, b, c):\n",
    "    return a + b*pos[:, 0] + c*pos[:, 1]"
   ]
  },
  {
   "cell_type": "code",
   "execution_count": null,
   "metadata": {
    "autoscroll": false,
    "collapsed": false,
    "ein.hycell": false,
    "ein.tags": "worksheet-0",
    "slideshow": {
     "slide_type": "-"
    }
   },
   "outputs": [],
   "source": [
    "# We create a target\n",
    "torch.manual_seed(1337)\n",
    "silent_curve_target = dm.DeformationModules.SilentLandmarks.build_from_points(source_curve)\n",
    "#silent_curve_target.manifold.fill_cotan(2.*torch.rand_like(source_curve).view(-1).requires_grad_())\n",
    "silent_dots_target = dm.DeformationModules.SilentLandmarks.build_from_points(source)\n",
    "#silent_dots_target.manifold.fill_cotan(2.*torch.rand_like(source).view(-1).requires_grad_())\n",
    "\n",
    "# The model parameters we use and would like to get back\n",
    "abc_gt = torch.tensor([[1., 0.], [4., 0.], [1., 1.]])\n",
    "\n",
    "th = 0. * math.pi * torch.ones(pts_implicit1.shape[0])\n",
    "R_target = torch.stack([dm.Utilities.rot2d(t) for t in th])\n",
    "C_target = pol(pts_implicit1, abc_gt[0].unsqueeze(1), abc_gt[1].unsqueeze(1), abc_gt[2].unsqueeze(1)).transpose(0, 1).unsqueeze(2)\n",
    "\n",
    "imp1_pts_cotan = 2.*torch.rand_like(pts_implicit1)\n",
    "imp1_R_cotan = torch.rand_like(R_target)\n",
    "\n",
    "implicit1_target = dm.DeformationModules.ImplicitModule1(dm.Manifolds.Stiefel(2, pts_implicit1.shape[0], gd=(pts_implicit1.view(-1).requires_grad_(), R_target.view(-1).requires_grad_()), cotan=(imp1_pts_cotan.clone().view(-1).requires_grad_(), imp1_R_cotan.clone().view(-1).requires_grad_())), C_target, .5, 0.01, 1.)\n",
    "\n",
    "compound_target = dm.DeformationModules.CompoundModule([silent_curve_target, silent_dots_target, implicit1_target])\n",
    "dm.HamiltonianDynamic.shoot(dm.HamiltonianDynamic.Hamiltonian(compound_target), 20, \"torch_euler\")\n",
    "\n",
    "target_curve = silent_curve_target.manifold.gd.detach().view(-1, 2)\n",
    "target = silent_dots_target.manifold.gd.detach().view(-1, 2)\n",
    "target = target + 0.007*torch.randn_like(target)\n",
    "pts_implicit1_target = implicit1_target.manifold.gd[0].detach().view(-1, 2)\n",
    "\n",
    "aabb_target = dm.Utilities.AABB.build_from_points(target_curve)"
   ]
  },
  {
   "cell_type": "code",
   "execution_count": null,
   "metadata": {
    "autoscroll": false,
    "collapsed": false,
    "ein.hycell": false,
    "ein.tags": "worksheet-0",
    "slideshow": {
     "slide_type": "-"
    }
   },
   "outputs": [],
   "source": [
    "plt.plot(target.numpy()[:, 0], target.numpy()[:, 1], '.')\n",
    "plt.plot(source.numpy()[:, 0], source.numpy()[:, 1], 'x')\n",
    "plt.show()"
   ]
  },
  {
   "cell_type": "code",
   "execution_count": null,
   "metadata": {
    "autoscroll": false,
    "collapsed": false,
    "ein.hycell": false,
    "ein.tags": "worksheet-0",
    "slideshow": {
     "slide_type": "-"
    }
   },
   "outputs": [],
   "source": [
    "implicit1_target1 = dm.DeformationModules.ImplicitModule1(dm.Manifolds.Stiefel(2, pts_implicit1.shape[0], gd=(pts_implicit1.view(-1).requires_grad_(), R_target.view(-1).requires_grad_()), cotan=(imp1_pts_cotan.clone().view(-1).requires_grad_(), imp1_R_cotan.clone().view(-1).requires_grad_())), C_target, .5, 0.01, 1.)\n",
    "\n",
    "model_target = dm.Models.ModelPointsRegistration(\n",
    "    [source],\n",
    "    [implicit1_target1],\n",
    "    [dm.Attachment.EuclideanPointwiseDistanceAttachement()],\n",
    "    other_parameters=[abc_gt])\n",
    "\n",
    "defor, att = model_target.compute([target])\n",
    "\n",
    "print(defor, att)"
   ]
  },
  {
   "cell_type": "code",
   "execution_count": null,
   "metadata": {
    "autoscroll": false,
    "collapsed": false,
    "ein.hycell": false,
    "ein.tags": "worksheet-0",
    "slideshow": {
     "slide_type": "-"
    }
   },
   "outputs": [],
   "source": [
    "def myParametricModel(modules, fitted_parameters):\n",
    "    abc = fitted_parameters[-1]\n",
    "    a = abc[0].unsqueeze(1)\n",
    "    b = abc[1].unsqueeze(1)\n",
    "    c = abc[2].unsqueeze(1)\n",
    "    modules[1]._ImplicitModule1__C = pol(pts_implicit1, a, b, c).transpose(0, 1).unsqueeze(2)"
   ]
  },
  {
   "cell_type": "code",
   "execution_count": null,
   "metadata": {
    "autoscroll": false,
    "collapsed": false,
    "ein.hycell": false,
    "ein.tags": "worksheet-0",
    "slideshow": {
     "slide_type": "-"
    }
   },
   "outputs": [],
   "source": [
    "torch.manual_seed(1337)\n",
    "sigma1 = 25.\n",
    "sigma1 = 40.\n",
    "nu1 = 0.01\n",
    "coeff1 = 0.5\n",
    "abc = torch.zeros(3, 2)\n",
    "abc[0, 0] = 1.\n",
    "abc[0, 1] = 1.\n",
    "noise_sigma = 0.2\n",
    "# abc = abc_gt.clone()\n",
    "# abc = abc + torch.normal(torch.zeros_like(abc), noise_sigma*torch.ones_like(abc))\n",
    "print(abc)\n",
    "print(abc_gt)\n",
    "C = pol(pts_implicit1, abc[0].unsqueeze(1), abc[1].unsqueeze(1), abc[2].unsqueeze(1)).t().unsqueeze(2)\n",
    "abc.requires_grad_()\n",
    "th = 0. * math.pi * torch.ones(pts_implicit1.shape[0])\n",
    "R = torch.stack([dm.Utilities.rot2d(t) for t in th])"
   ]
  },
  {
   "cell_type": "code",
   "execution_count": null,
   "metadata": {
    "autoscroll": false,
    "collapsed": false,
    "ein.hycell": false,
    "ein.tags": "worksheet-0",
    "slideshow": {
     "slide_type": "-"
    }
   },
   "outputs": [],
   "source": [
    "# Gradcheck\n",
    "torch.set_printoptions(precision=15)\n",
    "gradcheck1 = False\n",
    "gradcheck2 = False\n",
    "if gradcheck1:\n",
    "    print(\"Gradcheck for the first pass (moment fitting)...\")\n",
    "    implicit = dm.DeformationModules.ImplicitModule1(\n",
    "        dm.Manifolds.Stiefel(2, pts_implicit1.shape[0],\n",
    "                             gd=(pts_implicit1.view(-1).requires_grad_(),\n",
    "                                 R.view(-1).requires_grad_()),\n",
    "                             cotan=(0.1*torch.ones_like(pts_implicit1).view(-1).requires_grad_(),\n",
    "                                    0.1*torch.ones_like(R).view(-1).requires_grad_())),\n",
    "        C, sigma1, nu1, coeff1)\n",
    "\n",
    "    model = dm.Models.ModelPointsRegistration(\n",
    "        [source],\n",
    "        [implicit],\n",
    "        [dm.Attachment.EuclideanPointwiseDistanceAttachement()])\n",
    "\n",
    "    print(model.gradcheck([target], 1e-2))\n",
    "\n",
    "if gradcheck2:\n",
    "    print(\"Gradcheck for the second pass (polynome fitting)...\")\n",
    "    implicit = dm.DeformationModules.ImplicitModule1(\n",
    "        dm.Manifolds.Stiefel(2, pts_implicit1.shape[0],\n",
    "                    gd=(pts_implicit1.view(-1).requires_grad_(),\n",
    "                        R.view(-1).requires_grad_()),\n",
    "                    cotan=(0.1*torch.ones(pts_implicit1.shape).view(-1).requires_grad_(),\n",
    "                           0.1*torch.ones(R.shape).view(-1).requires_grad_())),\n",
    "        C, sigma1, nu1, coeff1)\n",
    "\n",
    "    model = dm.Models.ModelPointsRegistration(\n",
    "        [source],\n",
    "        [implicit],\n",
    "        [dm.Attachment.EuclideanPointwiseDistanceAttachement()],\n",
    "        other_parameters=[abc],\n",
    "        precompute_callback=myParametricModel,\n",
    "        fit_moments=False)\n",
    "\n",
    "    print(model.gradcheck([target], 10.))"
   ]
  },
  {
   "cell_type": "code",
   "execution_count": null,
   "metadata": {
    "autoscroll": false,
    "collapsed": false,
    "ein.hycell": false,
    "ein.tags": "worksheet-0",
    "slideshow": {
     "slide_type": "-"
    }
   },
   "outputs": [],
   "source": [
    "n_steps = 20\n",
    "n_moments = 10\n",
    "n_parametric = 10\n",
    "l = 1000.\n",
    "weight_curve = 0.1\n",
    "weight_dots = 10.\n",
    "\n",
    "mom_source = torch.zeros_like(source).view(-1).requires_grad_()\n",
    "mom_pts = torch.zeros_like(pts_implicit1).view(-1).requires_grad_()\n",
    "mom_R = torch.zeros_like(R).view(-1).requires_grad_()\n",
    "\n",
    "last_C = C\n",
    "last_abc = abc\n",
    "last_mom_source = mom_source\n",
    "last_mom_pts = mom_pts\n",
    "last_mom_R = mom_R\n",
    "\n",
    "abcs = []\n",
    "\n",
    "for i in range(n_steps):\n",
    "    print(\"Optimising moments...\")\n",
    "    # We first fit the moments\n",
    "    implicit1 = dm.DeformationModules.ImplicitModule1(\n",
    "        dm.Manifolds.Stiefel(2, pts_implicit1.shape[0],\n",
    "                             gd=(pts_implicit1.view(-1).requires_grad_(),\n",
    "                                 R.view(-1).requires_grad_()),\n",
    "                             cotan=(last_mom_pts, last_mom_R)),\n",
    "        last_C, sigma1, nu1, coeff1)\n",
    "\n",
    "    model = dm.Models.ModelPointsRegistration(\n",
    "        [source],\n",
    "        [implicit1],\n",
    "        [dm.Attachment.EuclideanPointwiseDistanceAttachement()])\n",
    "\n",
    "    model._Model__init_manifold[0].fill_cotan(last_mom_source)\n",
    "    model.compute_parameters()\n",
    "\n",
    "    fitter = dm.Models.ModelFittingScipy(model, 1., l)\n",
    "    fitter.fit([target], max_iter=n_moments)\n",
    "\n",
    "    last_mom_source = model.parameters[0].detach().clone().requires_grad_()\n",
    "    last_mom_pts = model.parameters[1].detach().clone().requires_grad_()\n",
    "    last_mom_R = model.parameters[2].detach().clone().requires_grad_()\n",
    "\n",
    "    # We then try to fit the polynomial model\n",
    "    print(\"=\"*80)\n",
    "    print(\"Optimising polynomial model parameters...\")\n",
    "    implicit1_2 = dm.DeformationModules.ImplicitModule1(\n",
    "        dm.Manifolds.Stiefel(2, pts_implicit1.shape[0],\n",
    "                    gd=(pts_implicit1.view(-1).requires_grad_(),\n",
    "                        R.view(-1).requires_grad_()),\n",
    "                    cotan=(last_mom_pts,\n",
    "                           last_mom_R)),\n",
    "        last_C, sigma1, nu1, coeff1)\n",
    "\n",
    "    model2 = dm.Models.ModelPointsRegistration(\n",
    "        [source],\n",
    "        [implicit1_2],\n",
    "        [dm.Attachment.EuclideanPointwiseDistanceAttachement()],\n",
    "        other_parameters=[last_abc],\n",
    "        precompute_callback=myParametricModel,\n",
    "        fit_moments=False)\n",
    "\n",
    "    model2._Model__init_manifold[0].fill_cotan(last_mom_source)\n",
    "    model2.compute_parameters() # TODO: is this necessary?\n",
    "\n",
    "    fitter2 = dm.Models.ModelFittingScipy(model2, 1., l)\n",
    "    fitter2.fit([target], max_iter=n_parametric)\n",
    "\n",
    "    last_abc = model2.parameters[0].detach().clone().requires_grad_()\n",
    "    abcs.append(last_abc.detach().clone())\n",
    "    last_C = pol(pts_implicit1, last_abc.detach()[0].unsqueeze(1), last_abc.detach()[1].unsqueeze(1), last_abc.detach()[2].unsqueeze(1)).transpose(0, 1).unsqueeze(2)\n",
    "    print(last_abc)"
   ]
  },
  {
   "cell_type": "code",
   "execution_count": null,
   "metadata": {
    "autoscroll": false,
    "collapsed": false,
    "ein.hycell": false,
    "ein.tags": "worksheet-0",
    "slideshow": {
     "slide_type": "-"
    }
   },
   "outputs": [],
   "source": [
    "azer = np.zeros([6, len(abcs)])\n",
    "for i in range(len(abcs)):\n",
    "    for j in range(6):\n",
    "        azer[j, i] = abcs[i].view(-1)[j].item()"
   ]
  },
  {
   "cell_type": "code",
   "execution_count": null,
   "metadata": {
    "autoscroll": false,
    "collapsed": false,
    "ein.hycell": false,
    "ein.tags": "worksheet-0",
    "slideshow": {
     "slide_type": "-"
    }
   },
   "outputs": [],
   "source": [
    "for i in range(6):\n",
    "    plt.subplot(2, 3, i+1)\n",
    "    plt.plot(range(len(abcs)), azer[i])\n",
    "    plt.plot([0., len(abcs)], [abc_gt.view(-1)[i]]*2)\n",
    "\n",
    "\n",
    "plt.show()"
   ]
  },
  {
   "cell_type": "code",
   "execution_count": null,
   "metadata": {
    "autoscroll": false,
    "collapsed": false,
    "ein.hycell": false,
    "ein.tags": "worksheet-0",
    "slideshow": {
     "slide_type": "-"
    }
   },
   "outputs": [],
   "source": [
    "a_ob = abcs[-1][0].detach().unsqueeze(1)\n",
    "b_ob = abcs[-1][1].detach().unsqueeze(1)\n",
    "c_ob = abcs[-1][2].detach().unsqueeze(1)\n",
    "obtained_C = pol(pts_implicit1, a_ob, b_ob, c_ob).transpose(0, 1).unsqueeze(2)"
   ]
  },
  {
   "cell_type": "code",
   "execution_count": null,
   "metadata": {
    "autoscroll": false,
    "collapsed": false,
    "ein.hycell": false,
    "ein.tags": "worksheet-0",
    "slideshow": {
     "slide_type": "-"
    }
   },
   "outputs": [],
   "source": [
    "print(torch.cat([C, obtained_C, C_target], dim=2))"
   ]
  },
  {
   "cell_type": "code",
   "execution_count": null,
   "metadata": {
    "autoscroll": false,
    "collapsed": false,
    "ein.hycell": false,
    "ein.tags": "worksheet-0",
    "slideshow": {
     "slide_type": "-"
    }
   },
   "outputs": [],
   "source": [
    "%matplotlib qt5\n",
    "from matplotlib.patches import Ellipse\n",
    "compound = dm.DeformationModules.CompoundModule(model.modules)\n",
    "compound.manifold.fill(model.init_manifold)\n",
    "inter = dm.HamiltonianDynamic.shoot(dm.HamiltonianDynamic.Hamiltonian(compound), 20, 'torch_euler')\n",
    "\n",
    "init = model.init_manifold.copy()\n",
    "\n",
    "init_dots = init[0].gd.detach().view(-1, 2)\n",
    "#init_curve = init[1].gd.detach().view(-1, 2)\n",
    "dots = compound[0].manifold.gd.detach().view(-1, 2)\n",
    "#curve = compound[1].manifold.gd.detach().view(-1, 2)\n",
    "\n",
    "plt.axis('equal')\n",
    "plt.plot(init_dots[:, 0].numpy(), init_dots[:, 1].numpy(), '.k')\n",
    "#plt.plot(init_curve[:, 0].numpy(), init_curve[:, 1].numpy(), color='black')\n",
    "\n",
    "plt.plot(dots[:, 0].numpy(), dots[:, 1].numpy(), '.r')\n",
    "#plt.plot(curve[:, 0].numpy(), curve[:, 1].numpy(), '--r')\n",
    "\n",
    "plt.plot(target[:, 0].numpy(), target[:, 1].numpy(), 'xb')\n",
    "#plt.plot(target_curve[:, 0].numpy(), target_curve[:, 1].numpy(), 'b')\n",
    "plt.show()"
   ]
  },
  {
   "cell_type": "code",
   "execution_count": null,
   "metadata": {
    "autoscroll": false,
    "collapsed": false,
    "ein.hycell": false,
    "ein.tags": "worksheet-0",
    "slideshow": {
     "slide_type": "-"
    }
   },
   "outputs": [],
   "source": [
    "\n",
    "plt.axis('equal')\n",
    "scale1 = 0.1\n",
    "scale2 = 0.025\n",
    "ax1 = plt.subplot(1, 2, 1)\n",
    "for i in range(pts_implicit1.shape[0]):\n",
    "    C_i = scale1*C_target[i, :, 0]\n",
    "    ell = Ellipse(xy=pts_implicit1[i], width=abs(C_i[0]), height=abs(C_i[1]), angle=0.)\n",
    "    ax1.add_artist(ell)\n",
    "\n",
    "ax2 = plt.subplot(1, 2, 2)\n",
    "for i in range(pts_implicit1.shape[0]):\n",
    "    C_i = scale2*obtained_C[i, :, 0]\n",
    "    ell = Ellipse(xy=pts_implicit1[i], width=abs(C_i[0]), height=abs(C_i[1]), angle=0.)\n",
    "    ax2.add_artist(ell)\n",
    "    "
   ]
  },
  {
   "cell_type": "code",
   "execution_count": null,
   "metadata": {
    "autoscroll": false,
    "collapsed": false,
    "ein.hycell": false,
    "ein.tags": "worksheet-0",
    "slideshow": {
     "slide_type": "-"
    }
   },
   "outputs": [],
   "source": [
    "abcs = [abc.detach().clone()]\n",
    "def log_abc(model):\n",
    "    abcs.append(model.parameters[-1].detach().clone())\n",
    "\n",
    "implicit1 = dm.DeformationModules.ImplicitModule1(\n",
    "    dm.Manifolds.Stiefel(2, pts_implicit1.shape[0],\n",
    "                         gd=(pts_implicit1.view(-1).requires_grad_(),\n",
    "                             R.view(-1).requires_grad_())),\n",
    "    C_target, 0.5, 0.01, 1.)\n",
    "\n",
    "#implicit0 = dm.DeformationModules.ImplicitModule0.build_from_points(2, pts_implicit1.shape[0], 0.15, 0.01, coeff=100, gd=pts_implicit1.view(-1).requires_grad_())\n",
    "\n",
    "model = dm.Models.ModelPointsRegistration(\n",
    "    [source],\n",
    "    [implicit1],\n",
    "    [dm.Attachment.EuclideanPointwiseDistanceAttachement()],\n",
    "    other_parameters=[abc],\n",
    "    precompute_callback=myParametricModel)\n",
    "\n",
    "fitter = dm.Models.ModelFittingScipy(model, 1., 10000., post_iteration_callback=log_abc)"
   ]
  },
  {
   "cell_type": "code",
   "execution_count": null,
   "metadata": {
    "autoscroll": false,
    "collapsed": false,
    "ein.hycell": false,
    "ein.tags": "worksheet-0",
    "slideshow": {
     "slide_type": "-"
    }
   },
   "outputs": [],
   "source": [
    "costs = fitter.fit([target], 150, log_interval=1)\n",
    "\n",
    "print(model.parameters[-1].detach().numpy())"
   ]
  },
  {
   "cell_type": "code",
   "execution_count": null,
   "metadata": {
    "autoscroll": false,
    "collapsed": false,
    "ein.hycell": false,
    "ein.tags": "worksheet-0",
    "slideshow": {
     "slide_type": "-"
    }
   },
   "outputs": [],
   "source": [
    "print(model.parameters[-1])\n",
    "print(abc_gt)"
   ]
  },
  {
   "cell_type": "code",
   "execution_count": null,
   "metadata": {
    "autoscroll": false,
    "collapsed": false,
    "ein.hycell": false,
    "ein.tags": "worksheet-0",
    "slideshow": {
     "slide_type": "-"
    }
   },
   "outputs": [],
   "source": [
    "plt.plot(range(len(costs)), costs)\n",
    "plt.show()"
   ]
  }
 ],
 "metadata": {
  "kernelspec": {
   "display_name": "Python 3",
   "name": "python3"
  },
  "name": "Untitled1.ipynb"
 },
 "nbformat": 4,
 "nbformat_minor": 2
}
