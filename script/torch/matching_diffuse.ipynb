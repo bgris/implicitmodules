{
 "cells": [
  {
   "cell_type": "code",
   "execution_count": null,
   "metadata": {
    "autoscroll": false,
    "ein.hycell": false,
    "ein.tags": "worksheet-0",
    "slideshow": {
     "slide_type": "-"
    }
   },
   "outputs": [],
   "source": [
    "%load_ext autoreload\n",
    "%autoreload 2\n",
    "\n",
    "import pickle\n",
    "import math\n",
    "import copy\n",
    "\n",
    "# The deformation module library is not automatically installed yet, we need to add its path manually\n",
    "import sys\n",
    "sys.path.append(\"../../\")\n",
    "\n",
    "import matplotlib.pyplot as plt\n",
    "import torch\n",
    "\n",
    "import implicitmodules.torch as dm\n",
    "\n",
    "torch.set_default_tensor_type(torch.FloatTensor)\n",
    "\n",
    "dm.Utilities.set_compute_backend('keops')"
   ]
  },
  {
   "cell_type": "code",
   "execution_count": null,
   "metadata": {
    "autoscroll": false,
    "ein.hycell": false,
    "ein.tags": "worksheet-0",
    "slideshow": {
     "slide_type": "-"
    }
   },
   "outputs": [],
   "source": [
    "# WIP\n",
    "# On va merge les deux .pkl en un seul dictionnary\n",
    "data_source = pickle.load(open(\"../../data/diffuse.pkl\", 'rb'))\n",
    "data_target = pickle.load(open(\"../../data/diffuset.pkl\", 'rb'))\n",
    "\n",
    "Dx = 0.\n",
    "Dy = 0.\n",
    "height_source = 32.\n",
    "height_target = 136.\n",
    "\n",
    "source = torch.tensor(data_source[1]).type(torch.get_default_dtype())\n",
    "target = torch.tensor(data_target[1]).type(torch.get_default_dtype())\n",
    "\n",
    "smin, smax = torch.min(source[:, 1]), torch.max(source[:, 1])\n",
    "sscale = height_source / (smax - smin)\n",
    "source[:, 1] = Dy - sscale * (source[:, 1] - smax)\n",
    "source[:, 0] = Dx + sscale * (source[:, 0] - torch.mean(source[:, 0]))\n",
    "\n",
    "tmin, tmax = torch.min(target[:, 1]), torch.max(target[:, 1])\n",
    "tscale = height_target / (tmax - tmin)\n",
    "target[:, 1] = - tscale * (target[:, 1] - tmax)\n",
    "target[:, 0] = tscale * (target[:, 0] - torch.mean(target[:, 0]))\n",
    "\n",
    "pos_source = source[source[:, 2] == 2, 0:2]\n",
    "pos_implicit0 = source[source[:, 2] == 1, 0:2]\n",
    "pos_implicit1 = source[source[:, 2] == 1, 0:2]\n",
    "pos_target = target[target[:, 2] == 2, 0:2]\n",
    "\n",
    "aabb = dm.Utilities.AABB.build_from_points(pos_target)\n",
    "aabb.squared()"
   ]
  },
  {
   "cell_type": "code",
   "execution_count": null,
   "metadata": {
    "autoscroll": false,
    "ein.hycell": false,
    "ein.tags": "worksheet-0",
    "slideshow": {
     "slide_type": "-"
    }
   },
   "outputs": [],
   "source": [
    "# Some plots\n",
    "%matplotlib qt5\n",
    "\n",
    "plt.subplot(2, 2, 1)\n",
    "plt.title(\"Source\")\n",
    "plt.xlabel(\"$x$\")\n",
    "plt.ylabel(\"$y$\")\n",
    "plt.plot(pos_source[:, 0].numpy(), pos_source[:, 1].numpy(), '-')\n",
    "plt.plot(pos_implicit1[:, 0].numpy(), pos_implicit1[:, 1].numpy(), '.')\n",
    "plt.plot(pos_implicit0[:, 0].numpy(), pos_implicit0[:, 1].numpy(), 'x')\n",
    "plt.axis('equal')\n",
    "\n",
    "plt.subplot(2, 2, 2)\n",
    "plt.title(\"Target\")\n",
    "plt.xlabel(\"$x$\")\n",
    "plt.ylabel(\"$y$\")\n",
    "plt.plot(pos_target[:, 0].numpy(), pos_target[:, 1].numpy(), '-')\n",
    "plt.axis('equal')\n",
    "\n",
    "plt.subplot(2, 2, 3)\n",
    "plt.imshow(data_source[0])\n",
    "\n",
    "plt.subplot(2, 2, 4)\n",
    "plt.imshow(data_target[0])\n",
    "\n",
    "plt.show()"
   ]
  },
  {
   "cell_type": "code",
   "execution_count": null,
   "metadata": {
    "autoscroll": false,
    "ein.hycell": false,
    "ein.tags": "worksheet-0",
    "slideshow": {
     "slide_type": "-"
    }
   },
   "outputs": [],
   "source": [
    "# Setting up the modules\n",
    "\n",
    "# Global translation module\n",
    "global_translation = dm.DeformationModules.GlobalTranslation(2)\n",
    "\n",
    "# Local translation module\n",
    "sigma0 = 15.\n",
    "nu0 = 0.001\n",
    "coeff0 = 100.\n",
    "implicit0 = dm.DeformationModules.ImplicitModule0(2, pos_implicit0.shape[0], sigma0, nu0, coeff0, gd=pos_implicit0.clone().requires_grad_())\n",
    "\n",
    "# Elastic module\n",
    "sigma1 = 15.\n",
    "nu1 = 0.001\n",
    "coeff1 = 0.01\n",
    "K = 10\n",
    "C = K * torch.ones(pos_implicit1.shape[0], 2, 1)\n",
    "\n",
    "th = 0. * math.pi * torch.ones(pos_implicit1.shape[0])\n",
    "R = torch.stack([dm.Utilities.rot2d(t) for t in th])\n",
    "\n",
    "implicit1 = dm.DeformationModules.ImplicitModule1(2, pos_implicit1.shape[0], sigma1, C, nu1, coeff1, gd=(pos_implicit1.clone().requires_grad_(), R.clone().requires_grad_()))"
   ]
  },
  {
   "cell_type": "code",
   "execution_count": null,
   "metadata": {
    "autoscroll": false,
    "ein.hycell": false,
    "ein.tags": "worksheet-0",
    "slideshow": {
     "slide_type": "-"
    }
   },
   "outputs": [],
   "source": [
    "# Setting up the model and start the fitting loop\n",
    "model = dm.Models.ModelPointsRegistration([pos_source], [global_translation, implicit0, implicit1], [dm.Attachment.VarifoldAttachment(2, [10., 50.], backend='torch')], lam=100.)\n",
    "fitter = dm.Models.ModelFittingScipy(model)"
   ]
  },
  {
   "cell_type": "code",
   "execution_count": null,
   "metadata": {
    "autoscroll": false,
    "ein.hycell": false,
    "ein.tags": "worksheet-0",
    "slideshow": {
     "slide_type": "-"
    }
   },
   "outputs": [],
   "source": [
    "costs = fitter.fit([pos_target], 50, log_interval=10)"
   ]
  },
  {
   "cell_type": "code",
   "execution_count": null,
   "metadata": {
    "autoscroll": false,
    "ein.hycell": false,
    "ein.tags": "worksheet-0",
    "slideshow": {
     "slide_type": "-"
    }
   },
   "outputs": [],
   "source": [
    "# Results\n",
    "modules = dm.DeformationModules.CompoundModule(copy.copy(model.modules))\n",
    "modules.manifold.fill(model.init_manifold)\n",
    "dm.HamiltonianDynamic.shoot(dm.HamiltonianDynamic.Hamiltonian(modules), 10, 'euler')\n",
    "out = modules.manifold[0].gd.detach().numpy()\n",
    "shot_implicit0 = modules.manifold[2].gd.detach().numpy()\n",
    "shot_implicit1 = modules.manifold[3].gd[0].detach().numpy()\n",
    "\n",
    "%matplotlib qt5\n",
    "plt.subplot(1, 3, 1)\n",
    "plt.title(\"Source\")\n",
    "plt.plot(pos_source[:, 0].numpy(), pos_source[:, 1].numpy(), '-')\n",
    "plt.plot(pos_implicit1[:, 0].numpy(), pos_implicit1[:, 1].numpy(), '.')\n",
    "plt.plot(pos_implicit0[:, 0].numpy(), pos_implicit0[:, 1].numpy(), 'x')\n",
    "plt.axis('equal')\n",
    "\n",
    "plt.subplot(1, 3, 2)\n",
    "plt.title(\"Deformed source\")\n",
    "plt.plot(out[:, 0], out[:, 1], '-')\n",
    "plt.plot(shot_implicit0[:, 0], shot_implicit0[:, 1], 'x')\n",
    "plt.plot(shot_implicit1[:, 0], shot_implicit1[:, 1], '.')\n",
    "plt.axis('equal')\n",
    "\n",
    "plt.subplot(1, 3, 3)\n",
    "plt.title(\"Deformed source and target\")\n",
    "plt.plot(pos_target[:, 0].numpy(), pos_target[:, 1].numpy(), '-')\n",
    "plt.plot(out[:, 0], out[:, 1], '-')\n",
    "plt.axis('equal')\n",
    "plt.show()"
   ]
  },
  {
   "cell_type": "code",
   "execution_count": null,
   "metadata": {
    "autoscroll": false,
    "ein.hycell": false,
    "ein.tags": "worksheet-0",
    "slideshow": {
     "slide_type": "-"
    }
   },
   "outputs": [],
   "source": [
    "# Evolution of the cost with iterations\n",
    "plt.title(\"Cost\")\n",
    "plt.xlabel(\"Iteration(s)\")\n",
    "plt.ylabel(\"Cost\")\n",
    "plt.plot(range(len(costs)), costs, lw=0.8)\n",
    "plt.grid()\n",
    "plt.show()"
   ]
  },
  {
   "cell_type": "code",
   "execution_count": null,
   "metadata": {
    "autoscroll": false,
    "ein.hycell": false,
    "ein.tags": "worksheet-0",
    "slideshow": {
     "slide_type": "-"
    }
   },
   "outputs": [],
   "source": []
  }
 ],
 "metadata": {
  "kernelspec": {
   "display_name": "Python 3",
   "language": "python",
   "name": "python3"
  },
  "language_info": {
   "codemirror_mode": {
    "name": "ipython",
    "version": 3
   },
   "file_extension": ".py",
   "mimetype": "text/x-python",
   "name": "python",
   "nbconvert_exporter": "python",
   "pygments_lexer": "ipython3",
   "version": "3.6.9"
  },
  "name": "matching_diffuse.ipynb"
 },
 "nbformat": 4,
 "nbformat_minor": 2
}
