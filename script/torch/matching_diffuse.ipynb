{
 "cells": [
  {
   "cell_type": "code",
   "execution_count": null,
   "metadata": {
    "autoscroll": false,
    "collapsed": false,
    "ein.hycell": false,
    "ein.tags": "worksheet-0",
    "slideshow": {
     "slide_type": "-"
    }
   },
   "outputs": [],
   "source": [
    "%reset\n",
    "%load_ext autoreload\n",
    "%autoreload 2\n",
    "\n",
    "import time\n",
    "import pickle\n",
    "import math\n",
    "\n",
    "# The deformation module library is not automatically installed yet, we need to add its path manually\n",
    "import sys\n",
    "sys.path.append(\"../../../\")\n",
    "\n",
    "import numpy as np\n",
    "import matplotlib.pyplot as plt\n",
    "import torch\n",
    "\n",
    "import implicitmodules.torch as dm\n",
    "\n",
    "torch.set_default_tensor_type(torch.DoubleTensor)"
   ]
  },
  {
   "cell_type": "code",
   "execution_count": null,
   "metadata": {
    "autoscroll": false,
    "collapsed": false,
    "ein.hycell": false,
    "ein.tags": "worksheet-0",
    "slideshow": {
     "slide_type": "-"
    }
   },
   "outputs": [],
   "source": [
    "# WIP\n",
    "# On va merge les deux .pkl en un seul dictionnary\n",
    "data_source = pickle.load(open(\"../data/diffuse.pkl\", 'rb'))\n",
    "data_target = pickle.load(open(\"../data/diffuset.pkl\", 'rb'))\n",
    "\n",
    "Dx = 0.\n",
    "Dy = 0.\n",
    "height_source = 32.\n",
    "height_target = 136.\n",
    "\n",
    "source = torch.tensor(data_source[1]).type(torch.get_default_dtype())\n",
    "target = torch.tensor(data_target[1]).type(torch.get_default_dtype())\n",
    "\n",
    "smin, smax = torch.min(source[:, 1]), torch.max(source[:, 1])\n",
    "sscale = height_source / (smax - smin)\n",
    "source[:, 1] = Dy - sscale * (source[:, 1] - smax)\n",
    "source[:, 0] = Dx + sscale * (source[:, 0] - torch.mean(source[:, 0]))\n",
    "\n",
    "tmin, tmax = torch.min(target[:, 1]), torch.max(target[:, 1])\n",
    "tscale = height_target / (tmax - tmin)\n",
    "target[:, 1] = - tscale * (target[:, 1] - tmax)\n",
    "target[:, 0] = tscale * (target[:, 0] - torch.mean(target[:, 0]))\n",
    "\n",
    "pos_source = source[source[:, 2] == 2, 0:2]\n",
    "pos_implicit0 = source[source[:, 2] == 1, 0:2]\n",
    "pos_implicit1 = source[source[:, 2] == 1, 0:2]\n",
    "pos_target = target[target[:, 2] == 2, 0:2]\n",
    "\n",
    "aabb = dm.usefulfunctions.AABB.build_from_points(pos_target)\n",
    "aabb.squared()"
   ]
  },
  {
   "cell_type": "code",
   "execution_count": null,
   "metadata": {
    "autoscroll": false,
    "collapsed": false,
    "ein.hycell": false,
    "ein.tags": "worksheet-0",
    "slideshow": {
     "slide_type": "-"
    }
   },
   "outputs": [],
   "source": [
    "# Some plots\n",
    "%matplotlib qt5\n",
    "\n",
    "plt.subplot(2, 2, 1)\n",
    "plt.axis(aabb.get_list())\n",
    "plt.title('Source')\n",
    "plt.xlabel('x')\n",
    "plt.ylabel('y')\n",
    "plt.plot(pos_source[:, 0].numpy(), pos_source[:, 1].numpy(), '-')\n",
    "plt.plot(pos_implicit1[:, 0].numpy(), pos_implicit1[:, 1].numpy(), '.')\n",
    "plt.plot(pos_implicit0[:, 0].numpy(), pos_implicit0[:, 1].numpy(), 'x')\n",
    "\n",
    "plt.subplot(2, 2, 2)\n",
    "plt.axis(aabb.get_list())\n",
    "plt.title('Target')\n",
    "plt.xlabel('x')\n",
    "plt.ylabel('y')\n",
    "plt.plot(pos_target[:, 0].numpy(), pos_target[:, 1].numpy(), '-')\n",
    "\n",
    "plt.subplot(2, 2, 3)\n",
    "plt.imshow(data_source[0])\n",
    "\n",
    "plt.subplot(2, 2, 4)\n",
    "plt.imshow(data_target[0])\n",
    "\n",
    "plt.show()"
   ]
  },
  {
   "cell_type": "code",
   "execution_count": null,
   "metadata": {
    "autoscroll": false,
    "collapsed": false,
    "ein.hycell": false,
    "ein.tags": "worksheet-0",
    "slideshow": {
     "slide_type": "-"
    }
   },
   "outputs": [],
   "source": [
    "# Setting up the modules\n",
    "# Local translation module\n",
    "sigma0 = 15.\n",
    "nu0 = 0.001\n",
    "coeff0 = 100.\n",
    "implicit0 = dm.implicitmodules.ImplicitModule0(dm.manifold.Landmarks(2, pos_implicit0.shape[0], gd=pos_implicit0.view(-1).requires_grad_()), sigma0, nu0, coeff0)\n",
    "\n",
    "# Global translation module\n",
    "sigma00 = 400.\n",
    "nu00 = 0.001\n",
    "coeff00 = 0.01\n",
    "implicit00 = dm.implicitmodules.ImplicitModule0(dm.manifold.Landmarks(2, 1, gd=torch.tensor([0., 0.], requires_grad=True)), sigma00, nu00, coeff00)\n",
    "\n",
    "# Elastic modules\n",
    "sigma1 = 15.\n",
    "nu1 = 0.001\n",
    "coeff1 = 0.01\n",
    "K = 10\n",
    "C = K * torch.ones(pos_implicit1.shape[0], 2, 1)\n",
    "\n",
    "th = 0. * math.pi * torch.ones(pos_implicit1.shape[0])\n",
    "R = torch.stack([dm.usefulfunctions.rot2d(t) for t in th])\n",
    "\n",
    "implicit1 = dm.implicitmodules.ImplicitModule1(dm.manifold.Stiefel(2, pos_implicit1.shape[0], gd=(pos_implicit1.view(-1).requires_grad_(), R.view(-1).requires_grad_())), C, sigma1, nu1, coeff1)"
   ]
  },
  {
   "cell_type": "code",
   "execution_count": null,
   "metadata": {
    "autoscroll": false,
    "collapsed": false,
    "ein.hycell": false,
    "ein.tags": "worksheet-0",
    "slideshow": {
     "slide_type": "-"
    }
   },
   "outputs": [],
   "source": [
    "# Setting up the model and start the fitting loop\n",
    "model = dm.models.ModelCompoundWithPointsRegistration((pos_source, torch.ones(pos_source.shape[0])), [implicit00, implicit1], [True, True, True], dm.attachement.VarifoldAttachement([10., 50.]))\n",
    "start_time = time.time()\n",
    "costs = model.fit((pos_target, torch.ones(pos_target.shape[0])), max_iter=100, l=1., lr=5e-2, log_interval=1)\n",
    "print(\"Elapsed time:\", time.time() - start_time)"
   ]
  },
  {
   "cell_type": "code",
   "execution_count": null,
   "metadata": {
    "autoscroll": false,
    "collapsed": false,
    "ein.hycell": false,
    "ein.tags": "worksheet-0",
    "slideshow": {
     "slide_type": "-"
    }
   },
   "outputs": [],
   "source": [
    "# Results\n",
    "%matplotlib qt5\n",
    "plt.subplot(1, 3, 1)\n",
    "plt.axis(aabb.get_list())\n",
    "plt.plot(pos_source[:, 0].numpy(), pos_source[:, 1].numpy(), '-')\n",
    "plt.plot(pos_implicit1[:, 0].numpy(), pos_implicit1[:, 1].numpy(), '.')\n",
    "plt.plot(pos_implicit0[:, 0].numpy(), pos_implicit0[:, 1].numpy(), 'x')\n",
    "\n",
    "plt.subplot(1, 3, 2)\n",
    "plt.axis(aabb.get_list())\n",
    "out = model.shot_manifold[0].gd.view(-1, 2).detach().numpy()\n",
    "#shot_implicit0 = model.shot_manifold[1].gd.view(-1, 2).detach().numpy()\n",
    "shot_implicit00 = model.shot_manifold[1].gd.view(-1, 2).detach().numpy()\n",
    "shot_implicit1 = model.shot_manifold[2].gd[0].view(-1, 2).detach().numpy()\n",
    "plt.plot(out[:, 0], out[:, 1], '-')\n",
    "#plt.plot(shot_implicit0[:, 0], shot_implicit0[:, 1], 'x')\n",
    "plt.plot(shot_implicit00[:, 0], shot_implicit00[:, 1], 'o')\n",
    "plt.plot(shot_implicit1[:, 0], shot_implicit1[:, 1], '.')\n",
    "\n",
    "plt.subplot(1, 3, 3)\n",
    "plt.axis(aabb.get_list())\n",
    "plt.plot(pos_target[:, 0].numpy(), pos_target[:, 1].numpy(), '-')\n",
    "plt.plot(out[:, 0], out[:, 1], '-')\n",
    "plt.show()"
   ]
  },
  {
   "cell_type": "code",
   "execution_count": null,
   "metadata": {
    "autoscroll": false,
    "collapsed": false,
    "ein.hycell": false,
    "ein.tags": "worksheet-0",
    "slideshow": {
     "slide_type": "-"
    }
   },
   "outputs": [],
   "source": [
    "# Evolution of the cost with iterations\n",
    "plt.title(\"Cost\")\n",
    "plt.xlabel(\"Iteration(s)\")\n",
    "plt.ylabel(\"Cost\")\n",
    "plt.plot(range(len(costs)), costs)\n",
    "plt.show()"
   ]
  }
 ],
 "metadata": {
  "kernelspec": {
   "display_name": "Python 3",
   "name": "python3"
  },
  "name": "matching_diffuse.ipynb"
 },
 "nbformat": 4,
 "nbformat_minor": 2
}
