{
 "cells": [
  {
   "cell_type": "code",
   "execution_count": null,
   "metadata": {
    "autoscroll": false,
    "collapsed": false,
    "ein.hycell": false,
    "ein.tags": "worksheet-0",
    "slideshow": {
     "slide_type": "-"
    }
   },
   "outputs": [],
   "source": [
    "%load_ext autoreload\n",
    "%autoreload 2\n",
    "\n",
    "import pickle\n",
    "import math\n",
    "\n",
    "# The deformation module library is not automatically installed yet, we need to add its path manually\n",
    "import sys\n",
    "sys.path.append(\"../../\")\n",
    "\n",
    "import numpy as np\n",
    "import matplotlib.pyplot as plt\n",
    "import torch\n",
    "from scipy.spatial import ConvexHull\n",
    "\n",
    "import implicitmodules.torch as dm\n",
    "\n",
    "torch.set_default_tensor_type(torch.FloatTensor)\n",
    "torch.set_printoptions(precision=12)"
   ]
  },
  {
   "cell_type": "code",
   "execution_count": null,
   "metadata": {
    "autoscroll": false,
    "collapsed": false,
    "ein.hycell": false,
    "ein.tags": "worksheet-0",
    "slideshow": {
     "slide_type": "-"
    }
   },
   "outputs": [],
   "source": [
    "data = pickle.load(open(\"../../data/basipetal.pkl\", 'rb'))\n",
    "\n",
    "Dx = 0.\n",
    "Dy = 0.\n",
    "height_source = 38.\n",
    "height_target = 100.\n",
    "\n",
    "source = torch.tensor(data['source_d'], dtype=torch.get_default_dtype())\n",
    "target = torch.tensor(data['target_d'], dtype=torch.get_default_dtype())\n",
    "source_curve = torch.tensor(data['source_c'], dtype=torch.get_default_dtype())\n",
    "target_curve = torch.tensor(data['target_c'], dtype=torch.get_default_dtype())\n",
    "\n",
    "smin, smax = torch.min(source_curve[:, 1]), torch.max(source_curve[:, 1])\n",
    "sscale = height_source / (smax - smin)\n",
    "source[:, 1] = Dy - sscale * (source[:, 1] - smax)\n",
    "source[:, 0] = Dx + sscale * (source[:, 0] - torch.mean(source_curve[:, 0]))\n",
    "source_curve[:, 1] = Dy - sscale * (source_curve[:, 1] - smax)\n",
    "source_curve[:, 0] = Dx + sscale * (source_curve[:, 0] - torch.mean(source_curve[:, 0]))\n",
    "\n",
    "tmin, tmax = torch.min(target_curve[:, 1]), torch.max(target_curve[:, 1])\n",
    "tscale = height_target / (tmax - tmin)\n",
    "target[:, 1] = - tscale * (target[:, 1] - tmax)\n",
    "target[:, 0] = tscale * (target[:, 0] - torch.mean(target_curve[:, 0]))\n",
    "target_curve[:, 1] = - tscale * (target_curve[:, 1] - tmax)\n",
    "target_curve[:, 0] = tscale * (target_curve[:, 0] - torch.mean(target_curve[:, 0]))\n",
    "\n",
    "source_curve_fit = source_curve.clone()\n",
    "source_curve_fit = source_curve_fit[source_curve_fit[:, 0] <= 0]\n",
    "target_curve_fit = target_curve.clone()\n",
    "target_curve_fit = target_curve_fit[target_curve_fit[:, 0] <= 0]\n",
    "\n",
    "hull_fit = ConvexHull(source_curve_fit)\n",
    "source_curve_fit_convex = source_curve_fit[hull_fit.vertices]\n",
    "hull = ConvexHull(source_curve)\n",
    "source_curve_convex = source_curve[hull.vertices]\n",
    "\n",
    "aabb = dm.Utilities.AABB.build_from_points(torch.cat([target_curve_fit, source_curve_fit]))\n",
    "aabb_source_fit = dm.Utilities.AABB.build_from_points(source_curve_fit)\n",
    "aabb_source = dm.Utilities.AABB.build_from_points(source_curve)\n",
    "aabb.squared()"
   ]
  },
  {
   "cell_type": "code",
   "execution_count": null,
   "metadata": {
    "autoscroll": false,
    "collapsed": false,
    "ein.hycell": false,
    "ein.tags": "worksheet-0",
    "slideshow": {
     "slide_type": "-"
    }
   },
   "outputs": [],
   "source": [
    "pts_implicit1_step = 1.5\n",
    "pts_implicit1_x, pts_implicit1_y = torch.meshgrid([\n",
    "    torch.arange(0., aabb_source_fit.xmin-pts_implicit1_step, step=-pts_implicit1_step),\n",
    "    torch.arange(aabb_source_fit.ymin, aabb_source_fit.ymax+pts_implicit1_step, step=pts_implicit1_step)])\n",
    "\n",
    "pts_implicit1 = dm.Utilities.grid2vec(pts_implicit1_x, pts_implicit1_y)\n",
    "pts_implicit1_mask = dm.Utilities.area_shape(pts_implicit1, shape=source_curve_fit)\n",
    "pts_implicit1 = pts_implicit1[pts_implicit1_mask]"
   ]
  },
  {
   "cell_type": "code",
   "execution_count": null,
   "metadata": {
    "autoscroll": false,
    "collapsed": false,
    "ein.hycell": false,
    "ein.tags": "worksheet-0",
    "slideshow": {
     "slide_type": "-"
    }
   },
   "outputs": [],
   "source": [
    "%matplotlib qt5\n",
    "\n",
    "plt.axis('equal')\n",
    "\n",
    "plt.subplot(1, 2, 1)\n",
    "plt.title(\"Source\")\n",
    "plt.xlabel(\"$x$\")\n",
    "plt.ylabel(\"$y$\")\n",
    "plt.plot(source_curve_fit[:, 0].numpy(), source_curve_fit[:, 1].numpy(), '-')\n",
    "plt.plot(source[:, 0].numpy(), source[:, 1].numpy(), 'x')\n",
    "plt.plot(pts_implicit1[:, 0].numpy(), pts_implicit1[:, 1].numpy(), '.')\n",
    "plt.axis('equal')\n",
    "\n",
    "plt.subplot(1, 2, 2)\n",
    "plt.title(\"Target\")\n",
    "plt.xlabel(\"$x$\")\n",
    "plt.ylabel(\"$y$\")\n",
    "plt.plot(target_curve_fit[:, 0].numpy(), target_curve_fit[:, 1].numpy(), '-')\n",
    "plt.plot(target[:, 0].numpy(), target[:, 1].numpy(), 'x')\n",
    "plt.axis('equal')\n",
    "\n",
    "plt.show()"
   ]
  },
  {
   "cell_type": "code",
   "execution_count": null,
   "metadata": {
    "autoscroll": false,
    "collapsed": false,
    "ein.hycell": false,
    "ein.tags": "worksheet-0",
    "slideshow": {
     "slide_type": "-"
    }
   },
   "outputs": [],
   "source": [
    "sigma1 = 25.\n",
    "nu1 = 0.001\n",
    "coeff_global_trans = 1.\n",
    "coeff1 = 1.\n",
    "C = torch.ones(pts_implicit1.shape[0], 2, 1, requires_grad=True)\n",
    "th = 0. * math.pi * torch.ones(pts_implicit1.shape[0])\n",
    "R = torch.stack([dm.Utilities.rot2d(t) for t in th])\n",
    "implicit1 = dm.DeformationModules.ImplicitModule1(2, pts_implicit1.shape[0], sigma1, C, nu1, coeff1, gd=(pts_implicit1.clone().requires_grad_(), R.clone().requires_grad_()))\n",
    "global_trans = dm.DeformationModules.GlobalTranslation(2, coeff=coeff_global_trans)"
   ]
  },
  {
   "cell_type": "code",
   "execution_count": null,
   "metadata": {
    "autoscroll": false,
    "collapsed": false,
    "ein.hycell": false,
    "ein.tags": "worksheet-0",
    "slideshow": {
     "slide_type": "-"
    }
   },
   "outputs": [],
   "source": [
    "# Setting up the model and start the fitting loop\n",
    "model = dm.Models.ModelPointsRegistration(\n",
    "    [source_curve_fit.clone(), source.clone()],\n",
    "    [implicit1, global_trans],\n",
    "    [dm.Attachment.VarifoldAttachment(2, [10., 50.], 0.1),\n",
    "     dm.Attachment.EuclideanPointwiseDistanceAttachment(50.)],\n",
    "    other_parameters=[('C', [implicit1.C])], lam=1000.)"
   ]
  },
  {
   "cell_type": "code",
   "execution_count": null,
   "metadata": {
    "autoscroll": false,
    "collapsed": false,
    "ein.hycell": false,
    "ein.tags": "worksheet-0",
    "slideshow": {
     "slide_type": "-"
    }
   },
   "outputs": [],
   "source": [
    "fitter = dm.Models.ModelFittingScipy(model)\n",
    "\n",
    "costs = fitter.fit([target_curve_fit, target], 500, options={}, disp=True)"
   ]
  },
  {
   "cell_type": "code",
   "execution_count": null,
   "metadata": {
    "autoscroll": false,
    "collapsed": false,
    "ein.hycell": false,
    "ein.tags": "worksheet-0",
    "slideshow": {
     "slide_type": "-"
    }
   },
   "outputs": [],
   "source": [
    "%matplotlib qt5\n",
    "plt.xlabel(\"Iteration\")\n",
    "plt.ylabel(\"Cost\")\n",
    "plt.plot(range(len(costs)), costs)\n",
    "plt.show()"
   ]
  },
  {
   "cell_type": "code",
   "execution_count": null,
   "metadata": {
    "autoscroll": false,
    "collapsed": false,
    "ein.hycell": false,
    "ein.tags": "worksheet-0",
    "slideshow": {
     "slide_type": "-"
    }
   },
   "outputs": [],
   "source": [
    "%matplotlib qt5\n",
    "C = model.modules[2].C.detach()\n",
    "R = model.modules[2].manifold.gd[1].detach()\n",
    "\n",
    "points = model.modules[1].manifold.gd.detach().view(-1, 2)\n",
    "out_curve = model.modules[0].manifold.gd.detach().view(-1, 2)\n",
    "ax = plt.subplot(111, aspect='equal')\n",
    "plt.axis('equal')\n",
    "plt.plot(source[:, 0].numpy(), source[:, 1].numpy(), '.')\n",
    "plt.plot(points[:, 0].numpy(), points[:, 1].numpy(), 'o')\n",
    "plt.plot(target[:, 0].numpy(), target[:, 1].numpy(), 'x')\n",
    "plt.plot(target_curve_fit[:, 0].numpy(), target_curve_fit[:, 1].numpy(), '--')\n",
    "plt.plot(out_curve[:, 0].numpy(), out_curve[:, 1].numpy(), '--')\n",
    "for i in range(points.shape[0]):\n",
    "   plt.plot([target[i, 0], points[i, 0]], [target[i, 1], points[i, 1]], '-')\n",
    "\n",
    "def_grids_c = model.compute_deformation_grid([aabb_source.xmin, aabb_source.ymin],\n",
    "                                             [aabb_source.width/2, aabb_source.height],\n",
    "                                             [8, 16])\n",
    "\n",
    "def_grid_c_x, def_grid_c_y = def_grids_c[0], def_grids_c[1]\n",
    "dm.Utilities.plot_grid(ax, def_grid_c_x.numpy(), def_grid_c_y.numpy(), color='C0')\n",
    "\n",
    "# dm.Utilities.plot_C_arrow(ax, source, C, R=R, scale=1., zorder=3, mutation_scale=10)\n",
    "# dm.Utilities.plot_C_ellipse(ax, pts_implicit1, C, R=R, scale=1., color='black')\n",
    "\n",
    "plt.xlabel(\"$x$\")\n",
    "plt.ylabel(\"$y$\")\n",
    "\n",
    "plt.show()"
   ]
  },
  {
   "cell_type": "code",
   "execution_count": null,
   "metadata": {
    "collapsed": false
   },
   "outputs": [],
   "source": []
  }
 ],
 "metadata": {
  "kernelspec": {
   "argv": [
    "python",
    "-m",
    "ipykernel_launcher",
    "-f",
    "{connection_file}"
   ],
   "display_name": "Python 3",
   "env": null,
   "interrupt_mode": "signal",
   "language": "python",
   "metadata": null,
   "name": "python3"
  },
  "name": "basipetal_c_learning.ipynb"
 },
 "nbformat": 4,
 "nbformat_minor": 2
}
