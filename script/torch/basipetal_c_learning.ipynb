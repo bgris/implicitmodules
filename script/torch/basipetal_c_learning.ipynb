{
 "cells": [
  {
   "cell_type": "code",
   "execution_count": null,
   "metadata": {
    "autoscroll": false,
    "collapsed": false,
    "ein.hycell": false,
    "ein.tags": "worksheet-0",
    "slideshow": {
     "slide_type": "-"
    }
   },
   "outputs": [],
   "source": [
    "%reset\n",
    "%load_ext autoreload\n",
    "%autoreload 2\n",
    "\n",
    "import pickle\n",
    "import math\n",
    "\n",
    "# The deformation module library is not automatically installed yet, we need to add its path manually\n",
    "import sys\n",
    "sys.path.append(\"../../\")\n",
    "\n",
    "import numpy as np\n",
    "import matplotlib.pyplot as plt\n",
    "import torch\n",
    "\n",
    "import implicitmodules.torch as dm\n",
    "\n",
    "torch.set_default_tensor_type(torch.DoubleTensor)"
   ]
  },
  {
   "cell_type": "code",
   "execution_count": null,
   "metadata": {
    "autoscroll": false,
    "collapsed": false,
    "ein.hycell": false,
    "ein.tags": "worksheet-0",
    "slideshow": {
     "slide_type": "-"
    }
   },
   "outputs": [],
   "source": [
    "data = pickle.load(open(\"../../data/basipetal_dots.pkl\", 'rb'))\n",
    "data_curve = pickle.load(open(\"../../data/basipetal_curve.pkl\", 'rb'))\n",
    "\n",
    "Dx = 0.\n",
    "Dy = 0.\n",
    "height_source = 38.\n",
    "height_target = 100.\n",
    "\n",
    "source = torch.tensor(data['source'])\n",
    "target = torch.tensor(data['target'])\n",
    "\n",
    "smin, smax = torch.min(source[:, 1]), torch.max(source[:, 1])\n",
    "sscale = height_source / (smax - smin)\n",
    "source[:, 1] = Dy - sscale * (source[:, 1] - smax)\n",
    "source[:, 0] = Dx + sscale * (source[:, 0] - torch.mean(source[:, 0]))\n",
    "\n",
    "tmin, tmax = torch.min(target[:, 1]), torch.max(target[:, 1])\n",
    "tscale = height_target / (tmax - tmin)\n",
    "target[:, 1] = - tscale * (target[:, 1] - tmax)\n",
    "target[:, 0] = tscale * (target[:, 0] - torch.mean(target[:, 0]))\n",
    "\n",
    "pos_implicit1 = source"
   ]
  },
  {
   "cell_type": "code",
   "execution_count": null,
   "metadata": {
    "autoscroll": false,
    "collapsed": false,
    "ein.hycell": false,
    "ein.tags": "worksheet-0",
    "slideshow": {
     "slide_type": "-"
    }
   },
   "outputs": [],
   "source": [
    "# Some plots\n",
    "%matplotlib qt5\n",
    "plt.axis('equal')\n",
    "#plt.subplot(1, 2, 1)\n",
    "plt.plot(pos_implicit1[:, 0].numpy(), pos_implicit1[:, 1].numpy(), '.')\n",
    "\n",
    "#plt.subplot(1, 2, 2)\n",
    "plt.plot(target[:, 0].numpy(), target[:, 1].numpy(), 'x')\n",
    "\n",
    "plt.show()"
   ]
  },
  {
   "cell_type": "code",
   "execution_count": null,
   "metadata": {
    "autoscroll": false,
    "collapsed": false,
    "ein.hycell": false,
    "ein.tags": "worksheet-0",
    "slideshow": {
     "slide_type": "-"
    }
   },
   "outputs": [],
   "source": [
    "sigma1 = 30.\n",
    "nu1 = 0.001\n",
    "coeff1 = 0.001\n",
    "C = torch.ones(pos_implicit1.shape[0], 2, 1, requires_grad=True)\n",
    "# K, L = 10, height_source\n",
    "# a, b = -2 / L ** 3, 3 / L ** 2\n",
    "# C[:, 1, 0] = (K * (a * (L - pos_implicit1[:, 1] + Dy) ** 3  + b * (L - pos_implicit1[:, 1] + Dy) ** 2))\n",
    "# C[:, 0, 0] = 1. * C[:, 1, 0]\n",
    "th = 0. * math.pi * torch.ones(pos_implicit1.shape[0])\n",
    "R = torch.stack([dm.usefulfunctions.rot2d(t) for t in th])\n",
    "\n",
    "implicit1 = dm.implicitmodules.ImplicitModule1(dm.manifold.Stiefel(2, pos_implicit1.shape[0], gd=(pos_implicit1.view(-1).requires_grad_(), R.view(-1).requires_grad_())), C, sigma1, nu1, coeff1)\n",
    "global_trans = dm.implicitmodules.ImplicitModule0.build_and_fill(2, 1, 10000., 0.001, 0.001, gd=torch.zeros(2, requires_grad=True))"
   ]
  },
  {
   "cell_type": "code",
   "execution_count": null,
   "metadata": {
    "autoscroll": false,
    "collapsed": false,
    "ein.hycell": false,
    "ein.tags": "worksheet-0",
    "slideshow": {
     "slide_type": "-"
    }
   },
   "outputs": [],
   "source": [
    "# Setting up the model and start the fitting loop\n",
    "model = dm.models.ModelCompoundWithPointsRegistration((pos_implicit1, torch.ones(pos_implicit1.shape[0])), [implicit1, global_trans], [True, True], dm.attachement.PointwiseDistanceAttachement(), parameters=[implicit1.C])"
   ]
  },
  {
   "cell_type": "code",
   "execution_count": null,
   "metadata": {
    "autoscroll": false,
    "collapsed": false,
    "ein.hycell": false,
    "ein.tags": "worksheet-0",
    "slideshow": {
     "slide_type": "-"
    }
   },
   "outputs": [],
   "source": [
    "costs = model.fit((target, torch.ones(target.shape[0])), max_iter=1000, l=1., lr=0.08, log_interval=1)"
   ]
  },
  {
   "cell_type": "code",
   "execution_count": null,
   "metadata": {
    "autoscroll": false,
    "collapsed": false,
    "ein.hycell": false,
    "ein.tags": "worksheet-0",
    "slideshow": {
     "slide_type": "-"
    }
   },
   "outputs": [],
   "source": [
    "plt.plot(range(len(costs)), costs)\n",
    "plt.show()"
   ]
  },
  {
   "cell_type": "code",
   "execution_count": null,
   "metadata": {
    "autoscroll": false,
    "collapsed": false,
    "ein.hycell": false,
    "ein.tags": "worksheet-0",
    "slideshow": {
     "slide_type": "-"
    }
   },
   "outputs": [],
   "source": [
    "%matplotlib qt5\n",
    "from matplotlib.patches import Ellipse\n",
    "\n",
    "C = model.modules[1].C\n",
    "points = model.modules[1].manifold.gd[0].detach().view(-1, 2)\n",
    "ax = plt.subplot(111, aspect='equal')\n",
    "plt.axis('equal')\n",
    "plt.plot(source[:, 0].numpy(), source[:, 1].numpy(), '.')\n",
    "plt.plot(points[:, 0].numpy(), points[:, 1].numpy(), 'o')\n",
    "plt.plot(target[:, 0].numpy(), target[:, 1].numpy(), 'x')\n",
    "for i in range(points.shape[0]):\n",
    "    plt.plot([target[i, 0], points[i, 0]], [target[i, 1], points[i, 1]], '-')\n",
    "\n",
    "epsix, epsiy = 0.0000001, 0.0000001\n",
    "for i in range(source.shape[0]):\n",
    "    C_i = C[i, :, 0]\n",
    "    ell = Ellipse(xy=source[i], width=C_i[0] + epsix, height=C_i[1] + epsiy, angle=0.)\n",
    "    ax.add_artist(ell)\n",
    "\n",
    "plt.show()"
   ]
  },
  {
   "cell_type": "code",
   "execution_count": null,
   "metadata": {
    "autoscroll": false,
    "collapsed": false,
    "ein.hycell": false,
    "ein.tags": "worksheet-0",
    "slideshow": {
     "slide_type": "-"
    }
   },
   "outputs": [],
   "source": [
    "source_curve = torch.tensor(curve['source'])\n",
    "target_curve = torch.tensor(curve['target'])\n",
    "\n",
    "\n",
    "Dx = 0.\n",
    "Dy = 0.\n",
    "height_source_curve = 38.\n",
    "height_target_curve = 100.\n",
    "\n",
    "smin_curve, smax_curve = torch.min(source_curve[:, 1]), torch.max(source_curve[:, 1])\n",
    "sscale_curve = height_source_curve / (smax_curve - smin_curve)\n",
    "source_curve[:, 1] = Dy - sscale_curve * (source_curve[:, 1] - smax_curve)\n",
    "source_curve[:, 0] = Dx + sscale_curve * (source_curve[:, 0] - torch.mean(source_curve[:, 0])) + torch.mean(source[:, 0])\n",
    "\n",
    "tmin_curve, tmax_curve = torch.min(target_curve[:, 1]), torch.max(target_curve[:, 1])\n",
    "tscale_curve = height_target_curve / (tmax_curve - tmin_curve)\n",
    "target_curve[:, 1] = tscale_curve * (target_curve[:, 1] - tmax_curve)\n",
    "target_curve[:, 0] = tscale_curve * (target_curve[:, 0] - torch.mean(target_curve[:, 0]))\n",
    "\n",
    "pos_source_curve = source_curve[source_curve[:, 2] == 2, 0:2]\n",
    "pos_target_curve = - target_curve[target_curve[:, 2] == 2, 0:2]\n",
    "\n",
    "aabb = dm.usefulfunctions.AABB.build_from_points(pos_target)\n",
    "aabb.squared()"
   ]
  },
  {
   "cell_type": "code",
   "execution_count": null,
   "metadata": {
    "autoscroll": false,
    "collapsed": false,
    "ein.hycell": false,
    "ein.tags": "worksheet-0",
    "slideshow": {
     "slide_type": "-"
    }
   },
   "outputs": [],
   "source": [
    "# # Some plots\n",
    "# %matplotlib qt5\n",
    "\n",
    "# plt.axis('equal')\n",
    "\n",
    "# plt.subplot(2, 2, 1)\n",
    "# plt.axis(aabb.get_list())\n",
    "# plt.title('Source')\n",
    "# plt.xlabel('x')\n",
    "# plt.ylabel('y')\n",
    "# plt.plot(pos_source_curve[:, 0].numpy(), pos_source_curve[:, 1].numpy(), '-')\n",
    "# plt.plot(source[:, 0].numpy(), source[:, 1].numpy(), 'x')\n",
    "\n",
    "# plt.subplot(2, 2, 2)\n",
    "# plt.axis(aabb.get_list())\n",
    "# plt.title('Target')\n",
    "# plt.xlabel('x')\n",
    "# plt.ylabel('y')\n",
    "# plt.plot(pos_target_curve[:, 0].numpy(), pos_target_curve[:, 1].numpy(), '-')\n",
    "\n",
    "# plt.subplot(2, 2, 3)\n",
    "# plt.imshow(data_source[0])\n",
    "\n",
    "# plt.subplot(2, 2, 4)\n",
    "# plt.imshow(data_target[0])\n",
    "\n",
    "# plt.show()"
   ]
  }
 ],
 "metadata": {
  "kernelspec": {
   "display_name": "Python 3",
   "name": "python3"
  },
  "name": "basipetal_c_learning.ipynb"
 },
 "nbformat": 4,
 "nbformat_minor": 2
}
