{
 "cells": [
  {
   "cell_type": "code",
   "execution_count": null,
   "metadata": {
    "autoscroll": false,
    "collapsed": false,
    "ein.hycell": false,
    "ein.tags": "worksheet-0",
    "slideshow": {
     "slide_type": "-"
    }
   },
   "outputs": [],
   "source": [
    "%reset\n",
    "%load_ext autoreload\n",
    "%autoreload 2\n",
    "\n",
    "import pickle\n",
    "import math\n",
    "\n",
    "# The deformation module library is not automatically installed yet, we need to add its path manually\n",
    "import sys\n",
    "sys.path.append(\"../../\")\n",
    "\n",
    "import numpy as np\n",
    "import matplotlib.pyplot as plt\n",
    "import torch\n",
    "\n",
    "import implicitmodules.torch as dm\n",
    "\n",
    "torch.set_default_tensor_type(torch.DoubleTensor)"
   ]
  },
  {
   "cell_type": "code",
   "execution_count": null,
   "metadata": {
    "autoscroll": false,
    "collapsed": false,
    "ein.hycell": false,
    "ein.tags": "worksheet-0",
    "slideshow": {
     "slide_type": "-"
    }
   },
   "outputs": [],
   "source": [
    "data = pickle.load(open(\"../../data/basipetal.pkl\", 'rb'))\n",
    "\n",
    "Dx = 0.\n",
    "Dy = 0.\n",
    "height_source = 38.\n",
    "height_target = 100.\n",
    "\n",
    "source = torch.tensor(data['source_d'])\n",
    "target = torch.tensor(data['target_d'])\n",
    "source_curve = torch.tensor(data['source_c'])\n",
    "target_curve = torch.tensor(data['target_c'])\n",
    "\n",
    "smin, smax = torch.min(source_curve[:, 1]), torch.max(source_curve[:, 1])\n",
    "sscale = height_source / (smax - smin)\n",
    "source[:, 1] = Dy - sscale * (source[:, 1] - smax)\n",
    "source[:, 0] = Dx + sscale * (source[:, 0] - torch.mean(source_curve[:, 0]))\n",
    "source_curve[:, 1] = Dy - sscale * (source_curve[:, 1] - smax)\n",
    "source_curve[:, 0] = Dx + sscale * (source_curve[:, 0] - torch.mean(source_curve[:, 0]))\n",
    "\n",
    "tmin, tmax = torch.min(target_curve[:, 1]), torch.max(target_curve[:, 1])\n",
    "tscale = height_target / (tmax - tmin)\n",
    "target[:, 1] = - tscale * (target[:, 1] - tmax)\n",
    "target[:, 0] = tscale * (target[:, 0] - torch.mean(target_curve[:, 0]))\n",
    "target_curve[:, 1] = - tscale * (target_curve[:, 1] - tmax)\n",
    "target_curve[:, 0] = tscale * (target_curve[:, 0] - torch.mean(target_curve[:, 0]))\n",
    "\n",
    "aabb = dm.usefulfunctions.AABB.build_from_points(torch.cat([target_curve, source_curve]))\n",
    "aabb.squared()"
   ]
  },
  {
   "cell_type": "code",
   "execution_count": null,
   "metadata": {
    "autoscroll": false,
    "collapsed": false,
    "ein.hycell": false,
    "ein.tags": "worksheet-0",
    "slideshow": {
     "slide_type": "-"
    }
   },
   "outputs": [],
   "source": [
    "%matplotlib qt5\n",
    "\n",
    "plt.axis('equal')\n",
    "\n",
    "plt.subplot(1, 2, 1)\n",
    "plt.axis(aabb.get_list())\n",
    "plt.title('Source')\n",
    "plt.xlabel('x')\n",
    "plt.ylabel('y')\n",
    "plt.plot(source_curve[:, 0].numpy(), source_curve[:, 1].numpy(), '-')\n",
    "plt.plot(source[:, 0].numpy(), source[:, 1].numpy(), 'x')\n",
    "\n",
    "plt.subplot(1, 2, 2)\n",
    "plt.axis(aabb.get_list())\n",
    "plt.title('Target')\n",
    "plt.xlabel('x')\n",
    "plt.ylabel('y')\n",
    "plt.plot(target_curve[:, 0].numpy(), target_curve[:, 1].numpy(), '-')\n",
    "plt.plot(target[:, 0].numpy(), target[:, 1].numpy(), 'x')\n",
    "\n",
    "plt.show()"
   ]
  },
  {
   "cell_type": "code",
   "execution_count": null,
   "metadata": {
    "autoscroll": false,
    "collapsed": false,
    "ein.hycell": false,
    "ein.tags": "worksheet-0",
    "slideshow": {
     "slide_type": "-"
    }
   },
   "outputs": [],
   "source": [
    "sigma1 = 30.\n",
    "nu1 = 0.001\n",
    "coeff1 = 0.001\n",
    "C = torch.ones(source.shape[0], 2, 1, requires_grad=True)\n",
    "th = 0. * math.pi * torch.ones(source.shape[0])\n",
    "R = torch.stack([dm.usefulfunctions.rot2d(t) for t in th])\n",
    "\n",
    "implicit1 = dm.implicitmodules.ImplicitModule1(dm.manifold.Stiefel(2, source.shape[0], gd=(source.view(-1).requires_grad_(), R.view(-1).requires_grad_())), C, sigma1, nu1, coeff1)\n",
    "#global_trans = dm.implicitmodules.ImplicitModule0.build_from_points(2, 1, 10000., 0.001, 0.001, gd=torch.zeros(2, requires_grad=True))\n",
    "global_trans = dm.globalmodules.GlobalTranslation(2, coeff=0.001)"
   ]
  },
  {
   "cell_type": "code",
   "execution_count": null,
   "metadata": {
    "autoscroll": false,
    "collapsed": false,
    "ein.hycell": false,
    "ein.tags": "worksheet-0",
    "slideshow": {
     "slide_type": "-"
    }
   },
   "outputs": [],
   "source": [
    "# Setting up the model and start the fitting loop\n",
    "model = dm.models.ModelCompoundWithPointsRegistration((source, torch.ones(source.shape[0])), [implicit1, global_trans], [True, True], dm.attachement.PointwiseDistanceAttachement(), parameters=[implicit1.C])\n",
    "costs = model.fit((target, torch.ones(target.shape[0])), max_iter=2000, l=1., lr=0.05, log_interval=50)"
   ]
  },
  {
   "cell_type": "code",
   "execution_count": null,
   "metadata": {
    "autoscroll": false,
    "collapsed": false,
    "ein.hycell": false,
    "ein.tags": "worksheet-0",
    "slideshow": {
     "slide_type": "-"
    }
   },
   "outputs": [],
   "source": [
    "plt.plot(range(len(costs)), costs)\n",
    "plt.show()"
   ]
  },
  {
   "cell_type": "code",
   "execution_count": null,
   "metadata": {
    "autoscroll": false,
    "collapsed": false,
    "ein.hycell": false,
    "ein.tags": "worksheet-0",
    "slideshow": {
     "slide_type": "-"
    }
   },
   "outputs": [],
   "source": [
    "%matplotlib qt5\n",
    "from matplotlib.patches import Ellipse\n",
    "\n",
    "C = model.modules[1].C\n",
    "points = model.modules[1].manifold.gd[0].detach().view(-1, 2)\n",
    "ax = plt.subplot(111, aspect='equal')\n",
    "plt.axis('equal')\n",
    "plt.plot(source[:, 0].numpy(), source[:, 1].numpy(), '.')\n",
    "plt.plot(points[:, 0].numpy(), points[:, 1].numpy(), 'o')\n",
    "plt.plot(target[:, 0].numpy(), target[:, 1].numpy(), 'x')\n",
    "for i in range(points.shape[0]):\n",
    "    plt.plot([target[i, 0], points[i, 0]], [target[i, 1], points[i, 1]], '-')\n",
    "\n",
    "epsix, epsiy = 0.0000001, 0.0000001\n",
    "for i in range(source.shape[0]):\n",
    "    C_i = C[i, :, 0]\n",
    "    ell = Ellipse(xy=source[i], width=C_i[0] + epsix, height=C_i[1] + epsiy, angle=0.)\n",
    "    ax.add_artist(ell)\n",
    "\n",
    "plt.show()"
   ]
  },
  {
   "cell_type": "code",
   "execution_count": null,
   "metadata": {
    "autoscroll": false,
    "collapsed": false,
    "ein.hycell": false,
    "ein.tags": "worksheet-0",
    "slideshow": {
     "slide_type": "-"
    }
   },
   "outputs": [],
   "source": [
    "source_mirrored = source.clone()\n",
    "source_mirrored[:, 0] = -source_mirrored[:, 0]\n",
    "source_c = torch.cat([source.clone(), source_mirrored])\n",
    "\n",
    "C_c = torch.cat([C.detach(), C.detach()])\n",
    "R_c = torch.cat([R, R])\n",
    "print(C_c.shape)\n",
    "print(source_c.shape)\n",
    "\n",
    "implicit_c = dm.implicitmodules.ImplicitModule1(dm.manifold.Stiefel(2, source_c.shape[0], gd=(source_c.view(-1).requires_grad_(), R_c.view(-1).requires_grad_())), C_c, sigma1, nu1, coeff1)\n",
    "global_trans_c = dm.implicitmodules.ImplicitModule0.build_from_points(2, 1, 1000., 0.001, 0.001, gd=torch.zeros(2, requires_grad=True))"
   ]
  },
  {
   "cell_type": "code",
   "execution_count": null,
   "metadata": {
    "autoscroll": false,
    "collapsed": false,
    "ein.hycell": false,
    "ein.tags": "worksheet-0",
    "slideshow": {
     "slide_type": "-"
    }
   },
   "outputs": [],
   "source": [
    "# Setting up the model and start the fitting loop\n",
    "model_c = dm.models.ModelCompoundWithPointsRegistration((source_curve, torch.ones(source_curve.shape[0])), [implicit_c, global_trans_c], [True, True], dm.attachement.VarifoldAttachement([10., 50.]))\n",
    "costs_c = model_c.fit((target_curve, torch.ones(target_curve.shape[0])), max_iter=100, l=1., lr=0.1, log_interval=1)"
   ]
  },
  {
   "cell_type": "code",
   "execution_count": null,
   "metadata": {
    "autoscroll": false,
    "collapsed": false,
    "ein.hycell": false,
    "ein.tags": "worksheet-0",
    "slideshow": {
     "slide_type": "-"
    }
   },
   "outputs": [],
   "source": [
    "plt.plot(range(len(costs_c)), costs_c)\n",
    "plt.show()"
   ]
  },
  {
   "cell_type": "code",
   "execution_count": null,
   "metadata": {
    "autoscroll": false,
    "collapsed": false,
    "ein.hycell": false,
    "ein.tags": "worksheet-0",
    "slideshow": {
     "slide_type": "-"
    }
   },
   "outputs": [],
   "source": [
    "# Some plots\n",
    "%matplotlib qt5\n",
    "\n",
    "fit_curve = model_c.modules[0].manifold.gd.detach().view(-1, 2)\n",
    "imp_points = model_c.modules[1].manifold.gd[0].detach().view(-1, 2)\n",
    "\n",
    "aabb = dm.usefulfunctions.AABB.build_from_points(torch.cat([target_curve, fit_curve]))\n",
    "\n",
    "#plt.axis(aabb.get_list())\n",
    "plt.axis('equal')\n",
    "plt.title('Source')\n",
    "plt.xlabel('x')\n",
    "plt.ylabel('y')\n",
    "plt.plot(source_c[:, 0].numpy(), source_c[:, 1].numpy(), '.')\n",
    "plt.plot(source_curve[:, 0].numpy(), source_curve[:, 1].numpy(), '-')\n",
    "#plt.plot(target[:, 0].numpy(), target[:, 1].numpy(), 'o')\n",
    "plt.plot(target_curve[:, 0].numpy(), target_curve[:, 1].numpy(), '-')\n",
    "plt.plot(fit_curve[:, 0].numpy(), fit_curve[:, 1].numpy(), '--')\n",
    "plt.plot(imp_points[:, 0].numpy(), imp_points[:, 1].numpy(), 'x')\n",
    "\n",
    "plt.show()\n"
   ]
  }
 ],
 "metadata": {
  "kernelspec": {
   "display_name": "Python 3",
   "name": "python3"
  },
  "name": "basipetal_c_learning.ipynb"
 },
 "nbformat": 4,
 "nbformat_minor": 2
}
