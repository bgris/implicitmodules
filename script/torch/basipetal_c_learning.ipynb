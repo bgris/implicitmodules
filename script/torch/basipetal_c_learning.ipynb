{
 "cells": [
  {
   "cell_type": "code",
   "execution_count": null,
   "metadata": {
    "autoscroll": false,
    "collapsed": false,
    "ein.hycell": false,
    "ein.tags": "worksheet-0",
    "slideshow": {
     "slide_type": "-"
    }
   },
   "outputs": [],
   "source": [
    "%reset\n",
    "%load_ext autoreload\n",
    "%autoreload 2\n",
    "\n",
    "import pickle\n",
    "import math\n",
    "\n",
    "# The deformation module library is not automatically installed yet, we need to add its path manually\n",
    "import sys\n",
    "sys.path.append(\"../../\")\n",
    "\n",
    "import numpy as np\n",
    "import matplotlib.pyplot as plt\n",
    "import torch\n",
    "from scipy.spatial import ConvexHull\n",
    "\n",
    "import implicitmodules.torch as dm\n",
    "\n",
    "torch.set_default_tensor_type(torch.DoubleTensor)"
   ]
  },
  {
   "cell_type": "code",
   "execution_count": null,
   "metadata": {
    "autoscroll": false,
    "collapsed": false,
    "ein.hycell": false,
    "ein.tags": "worksheet-0",
    "slideshow": {
     "slide_type": "-"
    }
   },
   "outputs": [],
   "source": [
    "data = pickle.load(open(\"../../data/basipetal.pkl\", 'rb'))\n",
    "\n",
    "Dx = 0.\n",
    "Dy = 0.\n",
    "height_source = 38.\n",
    "height_target = 100.\n",
    "\n",
    "source = torch.tensor(data['source_d'])\n",
    "target = torch.tensor(data['target_d'])\n",
    "source_curve = torch.tensor(data['source_c'])\n",
    "target_curve = torch.tensor(data['target_c'])\n",
    "\n",
    "smin, smax = torch.min(source_curve[:, 1]), torch.max(source_curve[:, 1])\n",
    "sscale = height_source / (smax - smin)\n",
    "source[:, 1] = Dy - sscale * (source[:, 1] - smax)\n",
    "source[:, 0] = Dx + sscale * (source[:, 0] - torch.mean(source_curve[:, 0]))\n",
    "source_curve[:, 1] = Dy - sscale * (source_curve[:, 1] - smax)\n",
    "source_curve[:, 0] = Dx + sscale * (source_curve[:, 0] - torch.mean(source_curve[:, 0]))\n",
    "\n",
    "tmin, tmax = torch.min(target_curve[:, 1]), torch.max(target_curve[:, 1])\n",
    "tscale = height_target / (tmax - tmin)\n",
    "target[:, 1] = - tscale * (target[:, 1] - tmax)\n",
    "target[:, 0] = tscale * (target[:, 0] - torch.mean(target_curve[:, 0]))\n",
    "target_curve[:, 1] = - tscale * (target_curve[:, 1] - tmax)\n",
    "target_curve[:, 0] = tscale * (target_curve[:, 0] - torch.mean(target_curve[:, 0]))\n",
    "\n",
    "source_curve_fit = source_curve.clone()\n",
    "source_curve_fit = source_curve_fit[source_curve_fit[:, 0] <= 0]\n",
    "target_curve_fit = target_curve.clone()\n",
    "target_curve_fit = target_curve_fit[target_curve_fit[:, 0] <= 0]\n",
    "\n",
    "hull_fit = ConvexHull(source_curve_fit)\n",
    "source_curve_fit_convex = source_curve_fit[hull_fit.vertices]\n",
    "hull = ConvexHull(source_curve)\n",
    "source_curve_convex = source_curve[hull.vertices]\n",
    "\n",
    "aabb = dm.usefulfunctions.AABB.build_from_points(torch.cat([target_curve_fit, source_curve_fit]))\n",
    "aabb_source_fit = dm.usefulfunctions.AABB.build_from_points(source_curve_fit)\n",
    "aabb_source = dm.usefulfunctions.AABB.build_from_points(source_curve)\n",
    "aabb.squared()"
   ]
  },
  {
   "cell_type": "code",
   "execution_count": null,
   "metadata": {
    "autoscroll": false,
    "collapsed": false,
    "ein.hycell": false,
    "ein.tags": "worksheet-0",
    "slideshow": {
     "slide_type": "-"
    }
   },
   "outputs": [],
   "source": [
    "pts_implicit1_step = 1.5\n",
    "pts_implicit1_x, pts_implicit1_y = torch.meshgrid([\n",
    "    torch.arange(0., aabb_source_fit.xmin-pts_implicit1_step, step=-pts_implicit1_step),\n",
    "    torch.arange(aabb_source_fit.ymin, aabb_source_fit.ymax+pts_implicit1_step, step=pts_implicit1_step)])\n",
    "\n",
    "pts_implicit1 = dm.usefulfunctions.grid2vec(pts_implicit1_x, pts_implicit1_y)\n",
    "pts_implicit1_mask = dm.usefulfunctions.is_inside_shape(source_curve_fit_convex, pts_implicit1)\n",
    "pts_implicit1 = pts_implicit1[pts_implicit1_mask]"
   ]
  },
  {
   "cell_type": "code",
   "execution_count": null,
   "metadata": {
    "autoscroll": false,
    "collapsed": false,
    "ein.hycell": false,
    "ein.tags": "worksheet-0",
    "slideshow": {
     "slide_type": "-"
    }
   },
   "outputs": [],
   "source": [
    "%matplotlib qt5\n",
    "\n",
    "plt.axis('equal')\n",
    "\n",
    "plt.subplot(1, 2, 1)\n",
    "plt.axis(aabb.get_list())\n",
    "plt.title('Source')\n",
    "plt.xlabel('x')\n",
    "plt.ylabel('y')\n",
    "plt.plot(source_curve_fit[:, 0].numpy(), source_curve_fit[:, 1].numpy(), '-')\n",
    "plt.plot(source[:, 0].numpy(), source[:, 1].numpy(), 'x')\n",
    "plt.plot(pts_implicit1[:, 0].numpy(), pts_implicit1[:, 1].numpy(), '.')\n",
    "\n",
    "plt.subplot(1, 2, 2)\n",
    "plt.axis(aabb.get_list())\n",
    "plt.title('Target')\n",
    "plt.xlabel('x')\n",
    "plt.ylabel('y')\n",
    "plt.plot(target_curve_fit[:, 0].numpy(), target_curve_fit[:, 1].numpy(), '-')\n",
    "plt.plot(target[:, 0].numpy(), target[:, 1].numpy(), 'x')\n",
    "\n",
    "plt.show()"
   ]
  },
  {
   "cell_type": "code",
   "execution_count": null,
   "metadata": {
    "autoscroll": false,
    "collapsed": false,
    "ein.hycell": false,
    "ein.tags": "worksheet-0",
    "slideshow": {
     "slide_type": "-"
    }
   },
   "outputs": [],
   "source": [
    "sigma1 = 25.\n",
    "nu1 = 0.001\n",
    "coeff1 = 0.001\n",
    "C = torch.ones(pts_implicit1.shape[0], 2, 1, requires_grad=True)\n",
    "th = 0. * math.pi * torch.ones(pts_implicit1.shape[0])\n",
    "R = torch.stack([dm.usefulfunctions.rot2d(t) for t in th])\n",
    "implicit1 = dm.implicitmodules.ImplicitModule1(dm.manifold.Stiefel(2, pts_implicit1.shape[0], gd=(pts_implicit1.view(-1).requires_grad_(), R.view(-1).requires_grad_())), C, sigma1, nu1, coeff1)\n",
    "global_trans = dm.globalmodules.GlobalTranslation(2, coeff=0.001)"
   ]
  },
  {
   "cell_type": "code",
   "execution_count": null,
   "metadata": {
    "autoscroll": false,
    "collapsed": false,
    "ein.hycell": false,
    "ein.tags": "worksheet-0",
    "slideshow": {
     "slide_type": "-"
    }
   },
   "outputs": [],
   "source": [
    "# Setting up the model and start the fitting loop\n",
    "model = dm.models.ModelCompoundWithPointsRegistration([(source_curve_fit, torch.zeros(source_curve_fit.shape[0])), (source, torch.ones(source.shape[0]))], [implicit1, global_trans], [True, True], [dm.attachement.VarifoldAttachement([10., 50.]), dm.attachement.PointwiseDistanceAttachement()], parameters=[implicit1.C])\n",
    "costs = model.fit([(target_curve_fit, torch.ones(target_curve_fit.shape[0])), (target, torch.ones(target.shape[0]))], max_iter=2000, l=1., lr=0.1, log_interval=10)"
   ]
  },
  {
   "cell_type": "code",
   "execution_count": null,
   "metadata": {
    "autoscroll": false,
    "collapsed": false,
    "ein.hycell": false,
    "ein.tags": "worksheet-0",
    "slideshow": {
     "slide_type": "-"
    }
   },
   "outputs": [],
   "source": [
    "plt.plot(range(len(costs)), costs)\n",
    "plt.show()"
   ]
  },
  {
   "cell_type": "code",
   "execution_count": null,
   "metadata": {
    "autoscroll": false,
    "collapsed": false,
    "ein.hycell": false,
    "ein.tags": "worksheet-0",
    "slideshow": {
     "slide_type": "-"
    }
   },
   "outputs": [],
   "source": [
    "%matplotlib qt5\n",
    "from matplotlib.patches import Ellipse\n",
    "\n",
    "C = model.modules[2].C.detach()\n",
    "points = model.modules[1].manifold.gd.detach().view(-1, 2)\n",
    "ax = plt.subplot(111, aspect='equal')\n",
    "plt.axis('equal')\n",
    "plt.plot(source[:, 0].numpy(), source[:, 1].numpy(), '.')\n",
    "plt.plot(points[:, 0].numpy(), points[:, 1].numpy(), 'o')\n",
    "plt.plot(target[:, 0].numpy(), target[:, 1].numpy(), 'x')\n",
    "for i in range(points.shape[0]):\n",
    "    plt.plot([target[i, 0], points[i, 0]], [target[i, 1], points[i, 1]], '-')\n",
    "\n",
    "def_grids_c = model.compute_deformation_grid(torch.tensor([aabb.xmin, aabb.ymin]),\n",
    "                                                        torch.tensor([aabb.width, aabb.height]),\n",
    "                                                          torch.tensor([32, 32]))\n",
    "def_grid_c_x, def_grid_c_y = def_grids_c[-1][0], def_grids[-1][1]\n",
    "dm.usefulfunctions.plot_grid(ax, def_grid_c_x.numpy(), def_grid_c_y.numpy(), color='C0')\n",
    "\n",
    "epsix, epsiy = 0.0000001, 0.0000001\n",
    "for i in range(source.shape[0]):\n",
    "    C_i = C[i, :, 0]\n",
    "    ell = Ellipse(xy=source[i], width=C_i[0] + epsix, height=C_i[1] + epsiy, angle=0.)\n",
    "    ax.add_artist(ell)\n",
    "\n",
    "plt.show()"
   ]
  },
  {
   "cell_type": "code",
   "execution_count": null,
   "metadata": {
    "autoscroll": false,
    "collapsed": false,
    "ein.hycell": false,
    "ein.tags": "worksheet-0",
    "slideshow": {
     "slide_type": "-"
    }
   },
   "outputs": [],
   "source": [
    "shoot_compound_c = dm.deformationmodules.CompoundModule(model.modules)\n",
    "shoot_compound_c.manifold.fill(model.init_manifold.copy())\n",
    "shot_c, controls_c = dm.shooting.shoot_euler(dm.hamiltonian.Hamiltonian(shoot_compound_c), 10)"
   ]
  },
  {
   "cell_type": "code",
   "execution_count": null,
   "metadata": {
    "autoscroll": false,
    "collapsed": false,
    "ein.hycell": false,
    "ein.tags": "worksheet-0",
    "slideshow": {
     "slide_type": "-"
    }
   },
   "outputs": [],
   "source": [
    "out_shot_c = []\n",
    "out_controls_c = []\n",
    "\n",
    "for i in range(len(shot)):\n",
    "    out_shot_c.append((shot_c[i][0].gd.detach().view(-1, 2).numpy(),\n",
    "                       shot_c[i][1].gd.detach().view(-1, 2).numpy(),\n",
    "                       (shot_c[i][2].gd[0].detach().view(-1, 2).numpy(),\n",
    "                        shot_c[i][2].gd[1].detach().view(-1, 2).numpy())))\n",
    "for i in range(len(controls)):\n",
    "    out_controls_c.append((controls_c[i][0].detach().numpy(),\n",
    "                           controls_c[i][1].detach().numpy(),\n",
    "                           controls_c[i][2].detach().numpy(),\n",
    "                           controls_c[i][3].detach().numpy()))"
   ]
  },
  {
   "cell_type": "code",
   "execution_count": null,
   "metadata": {
    "autoscroll": false,
    "collapsed": false,
    "ein.hycell": false,
    "ein.tags": "worksheet-0",
    "slideshow": {
     "slide_type": "-"
    }
   },
   "outputs": [],
   "source": [
    "source_mirrored = pts_implicit1.detach().clone()\n",
    "source_mirrored[:, 0] = -source_mirrored[:, 0]\n",
    "source_c = torch.cat([pts_implicit1.detach().clone(), source_mirrored])\n",
    "C_c = torch.cat([C.detach(), C.detach()])\n",
    "R_c = torch.cat([R, R])\n",
    "\n",
    "pts_implicit0_s = source_curve.detach().clone()\n",
    "m_scale = 5.4\n",
    "pts_implicit0_m_x, pts_implicit0_m_y = torch.meshgrid([\n",
    "    torch.arange(aabb_source.xmin, aabb_source.xmax, step=m_scale),\n",
    "    torch.arange(aabb_source.ymin, aabb_source.ymax, step=m_scale)])\n",
    "pts_implicit0_m = dm.usefulfunctions.grid2vec(pts_implicit0_m_x, pts_implicit0_m_y)\n",
    "pts_implicit0_m = pts_implicit0_m[dm.usefulfunctions.is_inside_shape(source_curve_convex, pts_implicit0_m)]"
   ]
  },
  {
   "cell_type": "code",
   "execution_count": null,
   "metadata": {
    "autoscroll": false,
    "collapsed": false,
    "ein.hycell": false,
    "ein.tags": "worksheet-0",
    "slideshow": {
     "slide_type": "-"
    }
   },
   "outputs": [],
   "source": [
    "plt.axis('equal')\n",
    "plt.plot(source_curve[:, 0].numpy(), source_curve[:, 1].numpy())\n",
    "plt.plot(source_c[:, 0].numpy(), source_c[:, 1].numpy(), '.')\n",
    "plt.plot(pts_implicit0_s[:, 0].numpy(), pts_implicit0_s[:, 1].numpy(), 'x')\n",
    "plt.plot(pts_implicit0_m[:, 0].numpy(), pts_implicit0_m[:, 1].numpy(), 'o')\n",
    "plt.show()"
   ]
  },
  {
   "cell_type": "code",
   "execution_count": null,
   "metadata": {
    "autoscroll": false,
    "collapsed": false,
    "ein.hycell": false,
    "ein.tags": "worksheet-0",
    "slideshow": {
     "slide_type": "-"
    }
   },
   "outputs": [],
   "source": [
    "implicit0_s = dm.implicitmodules.ImplicitModule0(dm.manifold.Landmarks(2, pts_implicit0_s.shape[0], gd=pts_implicit0_s.view(-1).requires_grad_()), 1., 0.001, 5.)\n",
    "implicit0_m = dm.implicitmodules.ImplicitModule0(dm.manifold.Landmarks(2, pts_implicit0_m.shape[0], gd=pts_implicit0_m.view(-1).requires_grad_()), m_scale, 0.001, 5.)\n",
    "implicit1_c = dm.implicitmodules.ImplicitModule1(dm.manifold.Stiefel(2, source_c.shape[0], gd=(source_c.view(-1).requires_grad_(), R_c.view(-1).requires_grad_())), C_c, sigma1, nu1, coeff1)\n",
    "global_trans_c = dm.implicitmodules.ImplicitModule0.build_from_points(2, 1, 1000., 0.001, 0.001, gd=torch.zeros(2, requires_grad=True))"
   ]
  },
  {
   "cell_type": "code",
   "execution_count": null,
   "metadata": {
    "autoscroll": false,
    "collapsed": false,
    "ein.hycell": false,
    "ein.tags": "worksheet-0",
    "slideshow": {
     "slide_type": "-"
    }
   },
   "outputs": [],
   "source": [
    "# Setting up the model and start the fitting loop\n",
    "model_c = dm.models.ModelCompoundWithPointsRegistration((source_curve, torch.ones(source_curve.shape[0])), [implicit1_c, implicit0_s, implicit0_m, global_trans_c], [True, True, True, True], dm.attachement.VarifoldAttachement([10., 50.]))\n",
    "costs_c = model_c.fit((target_curve, torch.ones(target_curve.shape[0])), max_iter=500, l=1., lr=0.1, log_interval=1)"
   ]
  },
  {
   "cell_type": "code",
   "execution_count": null,
   "metadata": {
    "autoscroll": false,
    "collapsed": false,
    "ein.hycell": false,
    "ein.tags": "worksheet-0",
    "slideshow": {
     "slide_type": "-"
    }
   },
   "outputs": [],
   "source": [
    "plt.plot(range(len(costs_c)), costs_c)\n",
    "plt.show()"
   ]
  },
  {
   "cell_type": "code",
   "execution_count": null,
   "metadata": {
    "autoscroll": false,
    "collapsed": false,
    "ein.hycell": false,
    "ein.tags": "worksheet-0",
    "slideshow": {
     "slide_type": "-"
    }
   },
   "outputs": [],
   "source": [
    "# Some plots\n",
    "%matplotlib qt5\n",
    "\n",
    "fit_curve = model_c.modules[0].manifold.gd.detach().view(-1, 2)\n",
    "imp_points = model_c.modules[1].manifold.gd[0].detach().view(-1, 2)\n",
    "\n",
    "aabb = dm.usefulfunctions.AABB.build_from_points(torch.cat([target_curve, fit_curve]))\n",
    "def_grids = model_c.compute_deformation_grid(torch.tensor([aabb.xmin, aabb.ymin]),\n",
    "                                                        torch.tensor([aabb.width, aabb.height]),\n",
    "                                                          torch.tensor([32, 32]))\n",
    "\n",
    "ax_c = plt.subplot(111, aspect='equal')\n",
    "plt.axis('equal')\n",
    "plt.title('Source')\n",
    "plt.xlabel('x')\n",
    "plt.ylabel('y')\n",
    "plt.plot(source_c[:, 0].numpy(), source_c[:, 1].numpy(), '.')\n",
    "dm.usefulfunctions.plot_grid(ax_c, def_grids[-1][0].numpy(), def_grids[-1][1].numpy(), color='C0')\n",
    "plt.plot(source_curve[:, 0].numpy(), source_curve[:, 1].numpy(), '-')\n",
    "plt.plot(target_curve[:, 0].numpy(), target_curve[:, 1].numpy(), '-')\n",
    "plt.plot(fit_curve[:, 0].numpy(), fit_curve[:, 1].numpy(), '--')\n",
    "plt.plot(imp_points[:, 0].numpy(), imp_points[:, 1].numpy(), 'x')\n",
    "\n",
    "plt.show()"
   ]
  },
  {
   "cell_type": "code",
   "execution_count": null,
   "metadata": {
    "autoscroll": false,
    "collapsed": false,
    "ein.hycell": false,
    "ein.tags": "worksheet-0",
    "slideshow": {
     "slide_type": "-"
    }
   },
   "outputs": [],
   "source": [
    "shoot_compound = dm.deformationmodules.CompoundModule(model_c.modules)\n",
    "shoot_compound.manifold.fill(model_c.init_manifold.copy())\n",
    "shot, controls = dm.shooting.shoot_euler(dm.hamiltonian.Hamiltonian(shoot_compound), 10)"
   ]
  },
  {
   "cell_type": "code",
   "execution_count": null,
   "metadata": {
    "autoscroll": false,
    "collapsed": false,
    "ein.hycell": false,
    "ein.tags": "worksheet-0",
    "slideshow": {
     "slide_type": "-"
    }
   },
   "outputs": [],
   "source": [
    "out_shot = []\n",
    "out_controls = []\n",
    "\n",
    "for i in range(len(shot)):\n",
    "    out_shot.append((shot[i][0].gd.detach().view(-1, 2).numpy(),\n",
    "                     (shot[i][1].gd[0].detach().view(-1, 2).numpy(),\n",
    "                     shot[i][1].gd[1].detach().view(-1, 2).numpy()),\n",
    "                     shot[i][2].gd.detach().view(-1, 2).numpy(),\n",
    "                     shot[i][3].gd.detach().view(-1, 2).numpy()))\n",
    "\n",
    "for i in range(len(controls)):\n",
    "    out_controls.append((controls[i][0].detach().numpy(),\n",
    "                         controls[i][1].detach().numpy(),\n",
    "                         controls[i][2].detach().numpy(),\n",
    "                         controls[i][3].detach().numpy(),\n",
    "                         controls[i][4].detach().numpy()))\n"
   ]
  },
  {
   "cell_type": "code",
   "execution_count": null,
   "metadata": {
    "autoscroll": false,
    "collapsed": false,
    "ein.hycell": false,
    "ein.tags": "worksheet-0",
    "slideshow": {
     "slide_type": "-"
    }
   },
   "outputs": [],
   "source": [
    "# We save results here\n",
    "result_output = {}\n",
    "# Initial data\n",
    "result_output['source_dots'] = source.numpy()\n",
    "result_output['source_curve'] = source_curve.numpy()\n",
    "result_output['target_dots'] = target.numpy()\n",
    "result_output['target_curve'] = target_curve.numpy()\n",
    "\n",
    "# When fitting C\n",
    "result_output['fit_c'] = C.detach().numpy()\n",
    "result_output['fit_c_cost'] = costs\n",
    "result_output['fit_c_curve'] = fit_curve.numpy()\n",
    "result_output['fit_c_dots'] = imp_points.numpy()\n",
    "result_output['fit_c_shot'] = out_shot_c\n",
    "result_output['fit_c_controls'] = out_controls_c\n",
    "result_output['fit_c_grid'] = def_grids_c\n",
    "\n",
    "# When using C\n",
    "result_output['fit_shot'] = out_shot\n",
    "result_output['fit_controls'] = out_controls\n",
    "result_output['fit_cost'] = costs_c\n",
    "result_output['fit_grid'] = def_grids\n",
    "\n",
    "import pickle\n",
    "pickle.dump(result_output, open(\"basipetal_data.pkl\", 'wb'))"
   ]
  },
  {
   "cell_type": "code",
   "execution_count": null,
   "metadata": {
    "autoscroll": false,
    "collapsed": false,
    "ein.hycell": false,
    "ein.tags": "worksheet-0",
    "slideshow": {
     "slide_type": "-"
    }
   },
   "outputs": [],
   "source": [
    "# We apply some deformation on the leaf shape\n",
    "# Some additive gaussian noise\n",
    "torch.manual_seed(1337)\n",
    "target_curve_deformed = target_curve.clone() + 0.8*torch.randn_like(target_curve)\n",
    "# Small translation\n",
    "target_curve_deformed = target_curve_deformed + torch.tensor([5., 5.]).repeat([target_curve.shape[0], 1])\n",
    "# Small rotation\n",
    "r = dm.usefulfunctions.rot2d(math.pi/16.)\n",
    "for i in range(target_curve_deformed.shape[0]):\n",
    "    target_curve_deformed[i] = torch.mm(target_curve_deformed[i].unsqueeze(0), r)\n",
    "\n",
    "aabb_deformed = dm.usefulfunctions.AABB.build_from_points(target_curve_deformed)"
   ]
  },
  {
   "cell_type": "code",
   "execution_count": null,
   "metadata": {
    "autoscroll": false,
    "collapsed": false,
    "ein.hycell": false,
    "ein.tags": "worksheet-0",
    "slideshow": {
     "slide_type": "-"
    }
   },
   "outputs": [],
   "source": [
    "plt.axis('equal')\n",
    "plt.plot(target_curve_deformed[:, 0].numpy(), target_curve_deformed[:, 1].numpy())\n",
    "plt.show()"
   ]
  },
  {
   "cell_type": "code",
   "execution_count": null,
   "metadata": {
    "autoscroll": false,
    "collapsed": false,
    "ein.hycell": false,
    "ein.tags": "worksheet-0",
    "slideshow": {
     "slide_type": "-"
    }
   },
   "outputs": [],
   "source": [
    "implicit0_s = dm.implicitmodules.ImplicitModule0(dm.manifold.Landmarks(2, pts_implicit0_s.shape[0], gd=pts_implicit0_s.view(-1).requires_grad_()), 1., 0.001, 5.)\n",
    "implicit0_m = dm.implicitmodules.ImplicitModule0(dm.manifold.Landmarks(2, pts_implicit0_m.shape[0], gd=pts_implicit0_m.view(-1).requires_grad_()), m_scale, 0.001, 5.)\n",
    "implicit1_c = dm.implicitmodules.ImplicitModule1(dm.manifold.Stiefel(2, source_c.shape[0], gd=(source_c.view(-1).requires_grad_(), R_c.view(-1).requires_grad_())), C_c, sigma1, nu1, coeff1)\n",
    "global_trans_c = dm.implicitmodules.ImplicitModule0.build_from_points(2, 1, 1000., 0.001, 0.001, gd=torch.zeros(2, requires_grad=True))"
   ]
  },
  {
   "cell_type": "code",
   "execution_count": null,
   "metadata": {
    "autoscroll": false,
    "collapsed": false,
    "ein.hycell": false,
    "ein.tags": "worksheet-0",
    "slideshow": {
     "slide_type": "-"
    }
   },
   "outputs": [],
   "source": [
    "# Setting up the model and start the fitting loop\n",
    "model_deformed = dm.models.ModelCompoundWithPointsRegistration((source_curve, torch.ones(source_curve.shape[0])), [implicit1_c, implicit0_s, implicit0_m, global_trans_c], [True, True, True, True], dm.attachement.VarifoldAttachement([10., 50.]))\n",
    "costs_deformed = model_deformed.fit((target_curve_deformed, torch.ones(target_curve_deformed.shape[0])), max_iter=500, l=1., lr=0.1, log_interval=1)"
   ]
  },
  {
   "cell_type": "code",
   "execution_count": null,
   "metadata": {
    "autoscroll": false,
    "collapsed": false,
    "ein.hycell": false,
    "ein.tags": "worksheet-0",
    "slideshow": {
     "slide_type": "-"
    }
   },
   "outputs": [],
   "source": [
    "# Some plots\n",
    "%matplotlib qt5\n",
    "\n",
    "fit_curve = model_deformed.modules[0].manifold.gd.detach().view(-1, 2)\n",
    "\n",
    "aabb = dm.usefulfunctions.AABB.build_from_points(torch.cat([target_curve, fit_curve]))\n",
    "def_grids_deformed = model_deformed.compute_deformation_grid(torch.tensor([aabb_deformed.xmin, aabb_deformed.ymin]),\n",
    "                                                             torch.tensor([aabb_deformed.width, aabb_deformed.height]),\n",
    "                                                             torch.tensor([32, 32]))\n",
    "\n",
    "ax_deformed = plt.subplot(111, aspect='equal')\n",
    "plt.axis('equal')\n",
    "plt.title('Source')\n",
    "plt.xlabel('x')\n",
    "plt.ylabel('y')\n",
    "dm.usefulfunctions.plot_grid(ax_deformed, def_grids_deformed[-1][0].numpy(), def_grids_deformed[-1][1].numpy(), color='C0')\n",
    "plt.plot(source_curve[:, 0].numpy(), source_curve[:, 1].numpy(), '-')\n",
    "plt.plot(target_curve_deformed[:, 0].numpy(), target_curve_deformed[:, 1].numpy(), '-')\n",
    "plt.plot(fit_curve[:, 0].numpy(), fit_curve[:, 1].numpy(), '--')\n",
    "\n",
    "plt.show()"
   ]
  },
  {
   "cell_type": "code",
   "execution_count": null,
   "metadata": {
    "autoscroll": false,
    "collapsed": false,
    "ein.hycell": false,
    "ein.tags": "worksheet-0",
    "slideshow": {
     "slide_type": "-"
    }
   },
   "outputs": [],
   "source": [
    "shoot_deformed = dm.deformationmodules.CompoundModule(model_deformed.modules)\n",
    "shoot_deformed.manifold.fill(model_deformed.init_manifold.copy())\n",
    "shot_deformed, controls_deformed = dm.shooting.shoot_euler(dm.hamiltonian.Hamiltonian(shoot_deformed), 10)"
   ]
  },
  {
   "cell_type": "code",
   "execution_count": null,
   "metadata": {
    "autoscroll": false,
    "collapsed": false,
    "ein.hycell": false,
    "ein.tags": "worksheet-0",
    "slideshow": {
     "slide_type": "-"
    }
   },
   "outputs": [],
   "source": [
    "out_shot_deformed = []\n",
    "out_controls_deformed = []\n",
    "\n",
    "for i in range(len(shot_deformed)):\n",
    "    out_shot_deformed.append((shot_deformed[i][0].gd.detach().view(-1, 2).numpy(),\n",
    "                              (shot_deformed[i][1].gd[0].detach().view(-1, 2).numpy(),\n",
    "                               shot_deformed[i][1].gd[1].detach().view(-1, 2).numpy()),\n",
    "                              shot_deformed[i][2].gd.detach().view(-1, 2).numpy(),\n",
    "                              shot_deformed[i][3].gd.detach().view(-1, 2).numpy()))\n",
    "\n",
    "for i in range(len(controls_deformed)):\n",
    "    out_controls_deformed.append((controls_deformed[i][0].detach().numpy(),\n",
    "                                  controls_deformed[i][1].detach().numpy(),\n",
    "                                  controls_deformed[i][2].detach().numpy(),\n",
    "                                  controls_deformed[i][3].detach().numpy(),\n",
    "                                  controls_deformed[i][4].detach().numpy()))\n"
   ]
  },
  {
   "cell_type": "code",
   "execution_count": null,
   "metadata": {
    "autoscroll": false,
    "collapsed": false,
    "ein.hycell": false,
    "ein.tags": "worksheet-0",
    "slideshow": {
     "slide_type": "-"
    }
   },
   "outputs": [],
   "source": [
    "deformed_output = {}\n",
    "\n",
    "deformed_output['deformed_target'] = target_curve_deformed.numpy()\n",
    "deformed_output['deformed_shot'] = out_shot_deformed\n",
    "deformed_output['deformed_controls'] = out_controls_deformed\n",
    "deformed_output['deformed_costs'] = costs_deformed\n",
    "deformed_output['deformed_grid'] = def_grids_deformed\n",
    "\n",
    "pickle.dump(deformed_output, open(\"basipetal_deformed_data.pkl\", 'wb'))"
   ]
  }
 ],
 "metadata": {
  "kernelspec": {
   "display_name": "Python 3",
   "name": "python3"
  },
  "name": "basipetal_c_learning.ipynb"
 },
 "nbformat": 4,
 "nbformat_minor": 2
}
