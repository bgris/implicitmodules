{
 "cells": [
  {
   "cell_type": "code",
   "execution_count": null,
   "metadata": {
    "autoscroll": false,
    "collapsed": false,
    "ein.hycell": false,
    "ein.tags": "worksheet-0",
    "slideshow": {
     "slide_type": "-"
    }
   },
   "outputs": [],
   "source": [
    "%load_ext autoreload\n",
    "%autoreload 2\n",
    "\n",
    "import pickle\n",
    "import math\n",
    "\n",
    "# The deformation module library is not automatically installed yet, we need to add its path manually\n",
    "import sys\n",
    "sys.path.append(\"../../\")\n",
    "\n",
    "import numpy as np\n",
    "import matplotlib.pyplot as plt\n",
    "import torch\n",
    "from scipy.spatial import ConvexHull\n",
    "\n",
    "import implicitmodules.torch as dm\n",
    "\n",
    "torch.set_default_tensor_type(torch.FloatTensor)\n",
    "torch.set_printoptions(precision=12)"
   ]
  },
  {
   "cell_type": "code",
   "execution_count": null,
   "metadata": {
    "autoscroll": false,
    "collapsed": false,
    "ein.hycell": false,
    "ein.tags": "worksheet-0",
    "slideshow": {
     "slide_type": "-"
    }
   },
   "outputs": [],
   "source": [
    "data = pickle.load(open(\"../../data/basipetal.pkl\", 'rb'))\n",
    "\n",
    "Dx = 0.\n",
    "Dy = 0.\n",
    "height_source = 38.\n",
    "height_target = 100.\n",
    "\n",
    "source = torch.tensor(data['source_d'], dtype=torch.get_default_dtype())\n",
    "target = torch.tensor(data['target_d'], dtype=torch.get_default_dtype())\n",
    "source_curve = torch.tensor(data['source_c'], dtype=torch.get_default_dtype())\n",
    "target_curve = torch.tensor(data['target_c'], dtype=torch.get_default_dtype())\n",
    "\n",
    "smin, smax = torch.min(source_curve[:, 1]), torch.max(source_curve[:, 1])\n",
    "sscale = height_source / (smax - smin)\n",
    "source[:, 1] = Dy - sscale * (source[:, 1] - smax)\n",
    "source[:, 0] = Dx + sscale * (source[:, 0] - torch.mean(source_curve[:, 0]))\n",
    "source_curve[:, 1] = Dy - sscale * (source_curve[:, 1] - smax)\n",
    "source_curve[:, 0] = Dx + sscale * (source_curve[:, 0] - torch.mean(source_curve[:, 0]))\n",
    "\n",
    "tmin, tmax = torch.min(target_curve[:, 1]), torch.max(target_curve[:, 1])\n",
    "tscale = height_target / (tmax - tmin)\n",
    "target[:, 1] = - tscale * (target[:, 1] - tmax)\n",
    "target[:, 0] = tscale * (target[:, 0] - torch.mean(target_curve[:, 0]))\n",
    "target_curve[:, 1] = - tscale * (target_curve[:, 1] - tmax)\n",
    "target_curve[:, 0] = tscale * (target_curve[:, 0] - torch.mean(target_curve[:, 0]))\n",
    "\n",
    "source_curve_fit = source_curve.clone()\n",
    "source_curve_fit = source_curve_fit[source_curve_fit[:, 0] <= 0]\n",
    "target_curve_fit = target_curve.clone()\n",
    "target_curve_fit = target_curve_fit[target_curve_fit[:, 0] <= 0]\n",
    "\n",
    "hull_fit = ConvexHull(source_curve_fit)\n",
    "source_curve_fit_convex = source_curve_fit[hull_fit.vertices]\n",
    "hull = ConvexHull(source_curve)\n",
    "source_curve_convex = source_curve[hull.vertices]\n",
    "\n",
    "aabb = dm.Utilities.AABB.build_from_points(torch.cat([target_curve_fit, source_curve_fit]))\n",
    "aabb_source_fit = dm.Utilities.AABB.build_from_points(source_curve_fit)\n",
    "aabb_source = dm.Utilities.AABB.build_from_points(source_curve)\n",
    "aabb.squared()"
   ]
  },
  {
   "cell_type": "code",
   "execution_count": null,
   "metadata": {
    "autoscroll": false,
    "collapsed": false,
    "ein.hycell": false,
    "ein.tags": "worksheet-0",
    "slideshow": {
     "slide_type": "-"
    }
   },
   "outputs": [],
   "source": [
    "pts_implicit1_step = 1.5\n",
    "pts_implicit1_x, pts_implicit1_y = torch.meshgrid([\n",
    "    torch.arange(0., aabb_source_fit.xmin-pts_implicit1_step, step=-pts_implicit1_step),\n",
    "    torch.arange(aabb_source_fit.ymin, aabb_source_fit.ymax+pts_implicit1_step, step=pts_implicit1_step)])\n",
    "\n",
    "pts_implicit1 = dm.Utilities.grid2vec(pts_implicit1_x, pts_implicit1_y)\n",
    "pts_implicit1_mask = dm.Utilities.area_shape(pts_implicit1, shape=source_curve_fit)\n",
    "pts_implicit1 = pts_implicit1[pts_implicit1_mask]"
   ]
  },
  {
   "cell_type": "code",
   "execution_count": null,
   "metadata": {
    "autoscroll": false,
    "collapsed": false,
    "ein.hycell": false,
    "ein.tags": "worksheet-0",
    "slideshow": {
     "slide_type": "-"
    }
   },
   "outputs": [],
   "source": [
    "%matplotlib qt5\n",
    "\n",
    "plt.axis('equal')\n",
    "\n",
    "plt.subplot(1, 2, 1)\n",
    "plt.title(\"Source\")\n",
    "plt.xlabel(\"$x$\")\n",
    "plt.ylabel(\"$y$\")\n",
    "plt.plot(source_curve_fit[:, 0].numpy(), source_curve_fit[:, 1].numpy(), '-')\n",
    "plt.plot(source[:, 0].numpy(), source[:, 1].numpy(), 'x')\n",
    "plt.plot(pts_implicit1[:, 0].numpy(), pts_implicit1[:, 1].numpy(), '.')\n",
    "plt.axis('equal')\n",
    "\n",
    "plt.subplot(1, 2, 2)\n",
    "plt.title(\"Target\")\n",
    "plt.xlabel(\"$x$\")\n",
    "plt.ylabel(\"$y$\")\n",
    "plt.plot(target_curve_fit[:, 0].numpy(), target_curve_fit[:, 1].numpy(), '-')\n",
    "plt.plot(target[:, 0].numpy(), target[:, 1].numpy(), 'x')\n",
    "plt.axis('equal')\n",
    "\n",
    "plt.show()"
   ]
  },
  {
   "cell_type": "code",
   "execution_count": null,
   "metadata": {
    "autoscroll": false,
    "collapsed": false,
    "ein.hycell": false,
    "ein.tags": "worksheet-0",
    "slideshow": {
     "slide_type": "-"
    }
   },
   "outputs": [],
   "source": [
    "sigma1 = 25.\n",
    "nu1 = 0.001\n",
    "coeff_global_trans = 1.\n",
    "coeff1 = 1.\n",
    "C = torch.ones(pts_implicit1.shape[0], 2, 1, requires_grad=True)\n",
    "th = 0. * math.pi * torch.ones(pts_implicit1.shape[0])\n",
    "R = torch.stack([dm.Utilities.rot2d(t) for t in th])\n",
    "implicit1 = dm.DeformationModules.ImplicitModule1(2, pts_implicit1.shape[0], sigma1, C, nu1, coeff1, gd=(pts_implicit1.clone().requires_grad_(), R.clone().requires_grad_()))\n",
    "global_trans = dm.DeformationModules.GlobalTranslation(2, coeff=coeff_global_trans)"
   ]
  },
  {
   "cell_type": "code",
   "execution_count": null,
   "metadata": {
    "autoscroll": false,
    "collapsed": false,
    "ein.hycell": false,
    "ein.tags": "worksheet-0",
    "slideshow": {
     "slide_type": "-"
    }
   },
   "outputs": [],
   "source": [
    "# Setting up the model and start the fitting loop\n",
    "model = dm.Models.ModelPointsRegistration(\n",
    "    [source_curve_fit.clone(), source.clone()],\n",
    "    [implicit1, global_trans],\n",
    "    [dm.Attachment.VarifoldAttachment(2, [10., 50.], 0.1),\n",
    "     dm.Attachment.EuclideanPointwiseDistanceAttachment(50.)],\n",
    "    other_parameters=[implicit1.C], lam=1000.)"
   ]
  },
  {
   "cell_type": "code",
   "execution_count": null,
   "metadata": {
    "autoscroll": false,
    "collapsed": false,
    "ein.hycell": false,
    "ein.tags": "worksheet-0",
    "slideshow": {
     "slide_type": "-"
    }
   },
   "outputs": [],
   "source": [
    "fitter = dm.Models.ModelFittingScipy(model, 1.)\n",
    "\n",
    "costs = fitter.fit([target_curve_fit, target], 500, options={}, disp=True)"
   ]
  },
  {
   "cell_type": "code",
   "execution_count": null,
   "metadata": {
    "autoscroll": false,
    "collapsed": false,
    "ein.hycell": false,
    "ein.tags": "worksheet-0",
    "slideshow": {
     "slide_type": "-"
    }
   },
   "outputs": [],
   "source": [
    "%matplotlib qt5\n",
    "plt.xlabel(\"Iteration\")\n",
    "plt.ylabel(\"Cost\")\n",
    "plt.plot(range(len(costs)), costs)\n",
    "plt.show()"
   ]
  },
  {
   "cell_type": "code",
   "execution_count": null,
   "metadata": {
    "autoscroll": false,
    "collapsed": false,
    "ein.hycell": false,
    "ein.tags": "worksheet-0",
    "slideshow": {
     "slide_type": "-"
    }
   },
   "outputs": [],
   "source": [
    "%matplotlib qt5\n",
    "C = model.modules[2].C.detach()\n",
    "R = model.modules[2].manifold.gd[1].detach()\n",
    "\n",
    "points = model.modules[1].manifold.gd.detach().view(-1, 2)\n",
    "out_curve = model.modules[0].manifold.gd.detach().view(-1, 2)\n",
    "ax = plt.subplot(111, aspect='equal')\n",
    "plt.axis('equal')\n",
    "plt.plot(source[:, 0].numpy(), source[:, 1].numpy(), '.')\n",
    "plt.plot(points[:, 0].numpy(), points[:, 1].numpy(), 'o')\n",
    "plt.plot(target[:, 0].numpy(), target[:, 1].numpy(), 'x')\n",
    "plt.plot(target_curve_fit[:, 0].numpy(), target_curve_fit[:, 1].numpy(), '--')\n",
    "plt.plot(out_curve[:, 0].numpy(), out_curve[:, 1].numpy(), '--')\n",
    "for i in range(points.shape[0]):\n",
    "   plt.plot([target[i, 0], points[i, 0]], [target[i, 1], points[i, 1]], '-')\n",
    "\n",
    "def_grids_c = model.compute_deformation_grid([aabb_source.xmin, aabb_source.ymin],\n",
    "                                             [aabb_source.width/2, aabb_source.height],\n",
    "                                             [8, 16])\n",
    "\n",
    "def_grid_c_x, def_grid_c_y = def_grids_c[0], def_grids_c[1]\n",
    "dm.Utilities.plot_grid(ax, def_grid_c_x.numpy(), def_grid_c_y.numpy(), color='C0')\n",
    "\n",
    "#dm.Utilities.plot_C_arrow(ax, source, C, R=R, scale=1., zorder=3, mutation_scale=10)\n",
    "#dm.Utilities.plot_C_ellipse(ax, pts_implicit1, C, R=R, scale=1., color='black')\n",
    "\n",
    "plt.xlabel(\"$x$\")\n",
    "plt.ylabel(\"$y$\")\n",
    "\n",
    "plt.show()"
   ]
  },
  {
   "cell_type": "code",
   "execution_count": null,
   "metadata": {
    "autoscroll": false,
    "collapsed": false,
    "ein.hycell": false,
    "ein.tags": "worksheet-0",
    "slideshow": {
     "slide_type": "-"
    }
   },
   "outputs": [],
   "source": [
    "#source_mirrored = pts_implicit1.detach().clone()\n",
    "#source_mirrored[:, 0] = -source_mirrored[:, 0]\n",
    "# We now use the learned C to fit the whole leaf.\n",
    "# We suppose C is symmetric around the vertical axis.\n",
    "\n",
    "# \n",
    "source_mirrored = torch.cat([pts_implicit1, torch.tensor([-1., 1])*pts_implicit1])\n",
    "C_mirrored = torch.cat([C.detach(), C.detach()])\n",
    "R_mirrored = torch.cat([R, R])\n",
    "\n",
    "pts_implicit0_small_scale = source_curve.detach().clone()\n",
    "m_scale = 5.4\n",
    "pts_implicit0_medium_scale_x, pts_implicit0_medium_scale_y = torch.meshgrid([\n",
    "    torch.arange(aabb_source.xmin, aabb_source.xmax, step=m_scale),\n",
    "    torch.arange(aabb_source.ymin, aabb_source.ymax, step=m_scale)])\n",
    "pts_implicit0_medium_scale = dm.Utilities.grid2vec(pts_implicit0_medium_scale_x, pts_implicit0_medium_scale_y)\n",
    "pts_implicit0_medium_scale = pts_implicit0_medium_scale[dm.Utilities.is_inside_shape(source_curve_convex, pts_implicit0_medium_scale)]"
   ]
  },
  {
   "cell_type": "code",
   "execution_count": null,
   "metadata": {
    "autoscroll": false,
    "collapsed": false,
    "ein.hycell": false,
    "ein.tags": "worksheet-0",
    "slideshow": {
     "slide_type": "-"
    }
   },
   "outputs": [],
   "source": [
    "plt.axis('equal')\n",
    "plt.plot(source_curve[:, 0].numpy(), source_curve[:, 1].numpy())\n",
    "plt.plot(source_mirrored[:, 0].numpy(), source_mirrored[:, 1].numpy(), '.')\n",
    "plt.plot(pts_implicit0_small_scale[:, 0].numpy(), pts_implicit0_small_scale[:, 1].numpy(), 'x')\n",
    "plt.plot(pts_implicit0_medium_scale[:, 0].numpy(), pts_implicit0_medium_scale[:, 1].numpy(), 'o')\n",
    "plt.show()"
   ]
  },
  {
   "cell_type": "code",
   "execution_count": null,
   "metadata": {
    "autoscroll": false,
    "collapsed": false,
    "ein.hycell": false,
    "ein.tags": "worksheet-0",
    "slideshow": {
     "slide_type": "-"
    }
   },
   "outputs": [],
   "source": [
    "nu0 = 0.001\n",
    "coeff0 = 5.\n",
    "scale_small = 1.\n",
    "\n",
    "implicit0_small = dm.DeformationModules.ImplicitModule0(dm.Manifolds.Landmarks(2, pts_implicit0_small_scale.shape[0], gd=pts_implicit0_small_scale.view(-1).requires_grad_()), scale_small, nu0, coeff0)\n",
    "implicit0_medium = dm.DeformationModules.ImplicitModule0(dm.Manifolds.Landmarks(2, pts_implicit0_medium_scale.shape[0], gd=pts_implicit0_medium_scale.view(-1).requires_grad_()), m_scale, nu0, coeff0)\n",
    "implicit1_mirrored = dm.DeformationModules.ImplicitModule1(dm.Manifolds.Stiefel(2, source_mirrored.shape[0], gd=(source_mirrored.view(-1).requires_grad_(), R_mirrored.view(-1).requires_grad_())), C_mirrored, sigma1, nu1, coeff1)\n",
    "global_trans = dm.DeformationModules.GlobalTranslation(2, coeff=coeff_global_trans)"
   ]
  },
  {
   "cell_type": "code",
   "execution_count": null,
   "metadata": {
    "autoscroll": false,
    "collapsed": false,
    "ein.hycell": false,
    "ein.tags": "worksheet-0",
    "slideshow": {
     "slide_type": "-"
    }
   },
   "outputs": [],
   "source": [
    "# Setting up the model and start the fitting loop\n",
    "model_mirrored = dm.Models.ModelPointsRegistration((source_curve,), [implicit1_mirrored, implicit0_small, implicit0_medium, global_trans], (dm.Attachment.VarifoldAttachement([10., 50.]),))"
   ]
  },
  {
   "cell_type": "code",
   "execution_count": null,
   "metadata": {
    "autoscroll": false,
    "collapsed": false,
    "ein.hycell": false,
    "ein.tags": "worksheet-0",
    "slideshow": {
     "slide_type": "-"
    }
   },
   "outputs": [],
   "source": [
    "fitter_mirrored = dm.Models.ModelFittingScipy(model_mirrored, 1., 1.)\n",
    "\n",
    "costs_mirrored = fitter_mirrored.fit((target_curve,), 500, log_interval=10)"
   ]
  },
  {
   "cell_type": "code",
   "execution_count": null,
   "metadata": {
    "autoscroll": false,
    "collapsed": false,
    "ein.hycell": false,
    "ein.tags": "worksheet-0",
    "slideshow": {
     "slide_type": "-"
    }
   },
   "outputs": [],
   "source": [
    "plt.xlabel(\"Iteration\")\n",
    "plt.ylabel(\"Cost\")\n",
    "plt.plot(range(len(costs_mirrored)), costs_mirrored)\n",
    "plt.show()"
   ]
  },
  {
   "cell_type": "code",
   "execution_count": null,
   "metadata": {
    "autoscroll": false,
    "collapsed": false,
    "ein.hycell": false,
    "ein.tags": "worksheet-0",
    "slideshow": {
     "slide_type": "-"
    }
   },
   "outputs": [],
   "source": [
    "# Some plots\n",
    "%matplotlib qt5\n",
    "\n",
    "fit_curve = model_mirrored.modules[0].manifold.gd.detach().view(-1, 2)\n",
    "imp_points = model_mirrored.modules[1].manifold.gd[0].detach().view(-1, 2)\n",
    "\n",
    "aabb = dm.Utilities.AABB.build_from_points(torch.cat([target_curve, fit_curve]))\n",
    "def_grids = model_mirrored.compute_deformation_grid(torch.tensor([aabb_source.xmin, aabb_source.ymin]),\n",
    "                                             torch.tensor([aabb_source.width, aabb_source.height]),\n",
    "                                             torch.tensor([32, 32]))\n",
    "\n",
    "ax = plt.subplot(111, aspect='equal')\n",
    "plt.axis('equal')\n",
    "plt.title('Source')\n",
    "plt.xlabel('x')\n",
    "plt.ylabel('y')\n",
    "plt.plot(source_mirrored[:, 0].numpy(), source_mirrored[:, 1].numpy(), '.')\n",
    "dm.Utilities.plot_grid(ax, def_grids[-1][0].numpy(), def_grids[-1][1].numpy(), color='C0')\n",
    "plt.plot(source_curve[:, 0].numpy(), source_curve[:, 1].numpy(), '-')\n",
    "plt.plot(target_curve[:, 0].numpy(), target_curve[:, 1].numpy(), '-')\n",
    "plt.plot(fit_curve[:, 0].numpy(), fit_curve[:, 1].numpy(), '--')\n",
    "plt.plot(imp_points[:, 0].numpy(), imp_points[:, 1].numpy(), 'x')\n",
    "\n",
    "plt.show()"
   ]
  },
  {
   "cell_type": "code",
   "execution_count": null,
   "metadata": {
    "autoscroll": false,
    "collapsed": false,
    "ein.hycell": false,
    "ein.tags": "worksheet-0",
    "slideshow": {
     "slide_type": "-"
    }
   },
   "outputs": [],
   "source": [
    "# We apply some deformation on the leaf shape\n",
    "# Some additive gaussian noise\n",
    "torch.manual_seed(1337)\n",
    "target_curve_deformed = target_curve + 0.8*torch.randn_like(target_curve)\n",
    "# Small translation\n",
    "target_curve_deformed = target_curve_deformed + torch.tensor([5., 5.]).repeat([target_curve.shape[0], 1])\n",
    "# Small rotation\n",
    "r = dm.Utilities.rot2d(math.pi/16.)\n",
    "for i in range(target_curve_deformed.shape[0]):\n",
    "    target_curve_deformed[i] = torch.mm(target_curve_deformed[i].unsqueeze(0), r)\n",
    "\n",
    "aabb_deformed = dm.Utilities.AABB.build_from_points(target_curve_deformed)"
   ]
  },
  {
   "cell_type": "code",
   "execution_count": null,
   "metadata": {
    "autoscroll": false,
    "collapsed": false,
    "ein.hycell": false,
    "ein.tags": "worksheet-0",
    "slideshow": {
     "slide_type": "-"
    }
   },
   "outputs": [],
   "source": [
    "plt.title(\"Deformed target\")\n",
    "plt.xlabel(\"$x$\")\n",
    "plt.ylabel(\"$y$\")\n",
    "plt.axis('equal')\n",
    "plt.plot(target_curve_deformed[:, 0].numpy(), target_curve_deformed[:, 1].numpy())\n",
    "plt.show()"
   ]
  },
  {
   "cell_type": "code",
   "execution_count": null,
   "metadata": {
    "autoscroll": false,
    "collapsed": false,
    "ein.hycell": false,
    "ein.tags": "worksheet-0",
    "slideshow": {
     "slide_type": "-"
    }
   },
   "outputs": [],
   "source": [
    "implicit0_small = dm.DeformationModules.ImplicitModule0(dm.Manifolds.Landmarks(2, pts_implicit0_small_scale.shape[0], gd=pts_implicit0_small_scale.view(-1).requires_grad_()), 1., 0.001, 5.)\n",
    "implicit0_medium = dm.DeformationModules.ImplicitModule0(dm.Manifolds.Landmarks(2, pts_implicit0_medium_scale.shape[0], gd=pts_implicit0_medium_scale.view(-1).requires_grad_()), m_scale, 0.001, 5.)\n",
    "implicit1_mirrored = dm.DeformationModules.ImplicitModule1(dm.Manifolds.Stiefel(2, source_mirrored.shape[0], gd=(source_mirrored.view(-1).requires_grad_(), R_mirrored.view(-1).requires_grad_())), C_mirrored, sigma1, nu1, coeff1)\n",
    "global_trans = dm.DeformationModules.GlobalTranslation(2, coeff=coeff_global_trans)"
   ]
  },
  {
   "cell_type": "code",
   "execution_count": null,
   "metadata": {
    "autoscroll": false,
    "collapsed": false,
    "ein.hycell": false,
    "ein.tags": "worksheet-0",
    "slideshow": {
     "slide_type": "-"
    }
   },
   "outputs": [],
   "source": [
    "# Setting up the model and start the fitting loop\n",
    "model_deformed = dm.Models.ModelPointsRegistration((source_curve,), [implicit1_mirrored, implicit0_small, implicit0_medium, global_trans], (dm.Attachment.VarifoldAttachement([10., 50.]),))\n",
    "\n",
    "fitter_deformed = dm.Models.ModelFittingScipy(model_deformed, 1., 1.)"
   ]
  },
  {
   "cell_type": "code",
   "execution_count": null,
   "metadata": {
    "autoscroll": false,
    "collapsed": false,
    "ein.hycell": false,
    "ein.tags": "worksheet-0",
    "slideshow": {
     "slide_type": "-"
    }
   },
   "outputs": [],
   "source": [
    "costs_deformed = fitter_deformed.fit((target_curve_deformed,), 500, log_interval=1)"
   ]
  },
  {
   "cell_type": "code",
   "execution_count": null,
   "metadata": {
    "autoscroll": false,
    "collapsed": false,
    "ein.hycell": false,
    "ein.tags": "worksheet-0",
    "slideshow": {
     "slide_type": "-"
    }
   },
   "outputs": [],
   "source": [
    "plt.plot(range(len(costs_deformed)), costs_deformed)\n",
    "plt.show()"
   ]
  },
  {
   "cell_type": "code",
   "execution_count": null,
   "metadata": {
    "autoscroll": false,
    "collapsed": false,
    "ein.hycell": false,
    "ein.tags": "worksheet-0",
    "slideshow": {
     "slide_type": "-"
    }
   },
   "outputs": [],
   "source": [
    "# Some plots\n",
    "%matplotlib qt5\n",
    "\n",
    "fit_curve = model_deformed.modules[0].manifold.gd.detach().view(-1, 2)\n",
    "\n",
    "aabb = dm.Utilities.AABB.build_from_points(torch.cat([target_curve, fit_curve]))\n",
    "def_grids_deformed = model_deformed.compute_deformation_grid(torch.tensor([aabb_source.xmin, aabb_source.ymin]),\n",
    "                                                             torch.tensor([aabb_source.width, aabb_source.height]),\n",
    "                                                             torch.tensor([32, 32]))\n",
    "\n",
    "ax = plt.subplot(111, aspect='equal')\n",
    "plt.axis('equal')\n",
    "plt.xlabel(\"$x$\")\n",
    "plt.ylabel(\"$y$\")\n",
    "dm.Utilities.plot_grid(ax, def_grids_deformed[-1][0].numpy(), def_grids_deformed[-1][1].numpy(), color='C0')\n",
    "plt.plot(source_curve[:, 0].numpy(), source_curve[:, 1].numpy(), '-')\n",
    "plt.plot(target_curve_deformed[:, 0].numpy(), target_curve_deformed[:, 1].numpy(), '-')\n",
    "plt.plot(fit_curve[:, 0].numpy(), fit_curve[:, 1].numpy(), '--')\n",
    "\n",
    "plt.show()"
   ]
  }
 ],
 "metadata": {
  "kernelspec": {
   "display_name": "Python 3",
   "name": "python3"
  },
  "name": "basipetal_c_learning.ipynb"
 },
 "nbformat": 4,
 "nbformat_minor": 2
}
