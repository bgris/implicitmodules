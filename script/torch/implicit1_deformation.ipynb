{
 "cells": [
  {
   "cell_type": "code",
   "execution_count": null,
   "metadata": {
    "autoscroll": false,
    "collapsed": false,
    "ein.hycell": false,
    "ein.tags": "worksheet-0",
    "slideshow": {
     "slide_type": "-"
    }
   },
   "outputs": [],
   "source": [
    "%load_ext autoreload\n",
    "%autoreload 2\n",
    "\n",
    "import pickle\n",
    "import math\n",
    "import copy\n",
    "\n",
    "# The deformation module library is not automatically installed yet, we need to add its path manually\n",
    "import sys\n",
    "sys.path.append(\"../../\")\n",
    "\n",
    "import numpy as np\n",
    "import matplotlib.pyplot as plt\n",
    "import torch\n",
    "\n",
    "import implicitmodules.torch as dm\n",
    "\n",
    "torch.set_default_tensor_type(torch.FloatTensor)\n",
    "\n",
    "dm.Utilities.set_compute_backend('torch')"
   ]
  },
  {
   "cell_type": "code",
   "execution_count": null,
   "metadata": {
    "autoscroll": false,
    "collapsed": false,
    "ein.hycell": false,
    "ein.tags": "worksheet-0",
    "slideshow": {
     "slide_type": "-"
    }
   },
   "outputs": [],
   "source": [
    "def generate_square(width_density, center, width):\n",
    "    points = torch.zeros(4*width_density, 2)\n",
    "    points[0:width_density, 0] = torch.linspace(0., 1., width_density)\n",
    "    points[width_density:2*width_density, 1] = torch.linspace(0., 1., width_density)\n",
    "    points[width_density:2*width_density, 0] = 1.\n",
    "    points[2*width_density:3*width_density, 0] = torch.linspace(1., 0., width_density)\n",
    "    points[2*width_density:3*width_density, 1] = 1.\n",
    "    points[3*width_density:4*width_density, 1] = torch.linspace(1., 0., width_density)\n",
    "    return width*(points - torch.tensor([0.5, 0.5])) + center\n",
    "\n",
    "width_density = 100\n",
    "silent_points = generate_square(width_density, torch.tensor([0., 0.]), 0.5)\n",
    "silent_points = silent_points*torch.tensor([1., 3.])\n",
    "aabb = dm.Utilities.AABB.build_from_points(silent_points).scale(0.98)\n",
    "\n",
    "implicit1_points = aabb.fill_uniform_density(10.)\n",
    "implicit1_points = implicit1_points - torch.mean(implicit1_points, dim=0)\n",
    "implicit1_cotan = torch.zeros_like(implicit1_points)\n",
    "implicit1_cotan[0, 0] = 50.\n",
    "implicit1_R = torch.eye(2).repeat(implicit1_points.shape[0], 1, 1)\n",
    "implicit1_cotan_R = torch.zeros_like(implicit1_R)"
   ]
  },
  {
   "cell_type": "code",
   "execution_count": null,
   "metadata": {
    "autoscroll": false,
    "collapsed": false,
    "ein.hycell": false,
    "ein.tags": "worksheet-0",
    "slideshow": {
     "slide_type": "-"
    }
   },
   "outputs": [],
   "source": [
    "def shoot(C, moment_scale):\n",
    "    silent = dm.DeformationModules.SilentLandmarks(2, silent_points.shape[0], gd=silent_points.clone().requires_grad_())\n",
    "\n",
    "    implicit1 = dm.DeformationModules.ImplicitModule1(2, implicit1_points.shape[0], 2., C, nu=0.01, gd=(implicit1_points.clone().requires_grad_(), implicit1_R.clone().requires_grad_()), cotan=(moment_scale*implicit1_cotan.clone().requires_grad_(), implicit1_cotan_R.clone().requires_grad_()))\n",
    "\n",
    "    dm.HamiltonianDynamic.shoot(dm.HamiltonianDynamic.Hamiltonian([silent, implicit1]), 100, 'euler')\n",
    "\n",
    "    return silent.manifold.gd.detach(), implicit1.manifold.gd[0].detach()\n",
    "\n",
    "def shoot_and_plot(C, moment_scale):\n",
    "    out_silent, out_implicit1 = shoot(C, moment_scale)\n",
    "\n",
    "    aabb = dm.Utilities.AABB.build_from_points(torch.cat([out_silent, silent_points])).squared()\n",
    "\n",
    "    plt.subplot(1, 3, 1)\n",
    "    plt.plot(silent_points[:, 0].numpy(), silent_points[:, 1].numpy())\n",
    "    plt.plot(implicit1_points[:, 0].numpy(), implicit1_points[:, 1].numpy(), '.')\n",
    "    plt.axis(aabb.get_list())\n",
    "\n",
    "    plt.subplot(1, 3, 2)\n",
    "    plt.plot(out_silent[:, 0].numpy(), out_silent[:, 1].numpy())\n",
    "    plt.plot(out_implicit1[:, 0].numpy(), out_implicit1[:, 1].numpy(), '.')\n",
    "    plt.axis(aabb.get_list())\n",
    "\n",
    "    ax = plt.subplot(1, 3, 3)\n",
    "    plt.plot(implicit1_points[:, 0].numpy(), implicit1_points[:, 1].numpy(), '.')\n",
    "    dm.Utilities.plot_C_arrow(ax, implicit1_points, C, color='red', mutation_scale=10., scale=0.2)\n",
    "    plt.axis(aabb.get_list())\n",
    "\n",
    "    plt.show()"
   ]
  },
  {
   "cell_type": "code",
   "execution_count": null,
   "metadata": {
    "autoscroll": false,
    "collapsed": false,
    "ein.hycell": false,
    "ein.tags": "worksheet-0",
    "slideshow": {
     "slide_type": "-"
    }
   },
   "outputs": [],
   "source": [
    "C = torch.ones(implicit1_points.shape[0], 2, 1)\n",
    "#C[:, 1, 0] = 2.*torch.abs(implicit1_points[:, 0] - torch.mean(implicit1_points, dim=0)[0] + aabb.width)/aabb.width\n",
    "C[:, 1] = -C[:, 1]\n",
    "\n",
    "shoot_and_plot(C, -2)"
   ]
  },
  {
   "cell_type": "code",
   "execution_count": null,
   "metadata": {
    "autoscroll": false,
    "collapsed": false,
    "ein.hycell": false,
    "ein.tags": "worksheet-0",
    "slideshow": {
     "slide_type": "-"
    }
   },
   "outputs": [],
   "source": [
    "C = torch.zeros(implicit1_points.shape[0], 2, 1)\n",
    "C[int(implicit1_points.shape[0]/2):, 1, 0] = 1.\n",
    "\n",
    "shoot_and_plot(C, 3.)"
   ]
  },
  {
   "cell_type": "code",
   "execution_count": null,
   "metadata": {
    "autoscroll": false,
    "collapsed": false,
    "ein.hycell": false,
    "ein.tags": "worksheet-0",
    "slideshow": {
     "slide_type": "-"
    }
   },
   "outputs": [],
   "source": [
    "%matplotlib qt5\n",
    "\n",
    "C = torch.zeros(implicit1_points.shape[0], 2, 1)\n",
    "C[:, 0] = ((5.*implicit1_points[:, 1])**2).unsqueeze(1)\n",
    "\n",
    "shoot_and_plot(C, -110.)"
   ]
  }
 ],
 "metadata": {
  "kernelspec": {
   "display_name": "Python 3",
   "name": "python3"
  },
  "name": "implicit1_deformation.ipynb"
 },
 "nbformat": 4,
 "nbformat_minor": 2
}
