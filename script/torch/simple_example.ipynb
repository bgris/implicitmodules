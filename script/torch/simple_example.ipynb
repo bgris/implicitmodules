{
 "cells": [
  {
   "cell_type": "code",
   "execution_count": 1,
   "metadata": {
    "autoscroll": false,
    "collapsed": false,
    "ein.hycell": false,
    "ein.tags": "worksheet-0",
    "slideshow": {
     "slide_type": "-"
    }
   },
   "outputs": [],
   "source": [
    "%load_ext autoreload\n",
    "%autoreload 2\n",
    "import sys\n",
    "sys.path.append(\"../../\")\n",
    "\n",
    "import torch\n",
    "import numpy as np\n",
    "import matplotlib.pyplot as plt\n",
    "\n",
    "import implicitmodules.torch as im"
   ]
  },
  {
   "cell_type": "code",
   "execution_count": 2,
   "metadata": {
    "autoscroll": false,
    "collapsed": false,
    "ein.hycell": false,
    "ein.tags": "worksheet-0",
    "slideshow": {
     "slide_type": "-"
    }
   },
   "outputs": [],
   "source": [
    "dim = 2\n",
    "sigma = 2.\n",
    "sigma1 = 2.\n",
    "nb_pts = 2\n",
    "\n",
    "it = 10"
   ]
  },
  {
   "cell_type": "code",
   "execution_count": 3,
   "metadata": {
    "autoscroll": false,
    "collapsed": false,
    "ein.hycell": false,
    "ein.tags": "worksheet-0",
    "slideshow": {
     "slide_type": "-"
    }
   },
   "outputs": [
    {
     "name": "stdout",
     "output_type": "stream",
     "text": [
      "Initial\n",
      "trans\n",
      "tensor([[-2.,  0.],\n",
      "        [ 2.,  0.]], grad_fn=<ViewBackward>)\n",
      "tensor([[ 0.0000, -0.5000],\n",
      "        [ 0.0000,  0.5000]], grad_fn=<ViewBackward>)\n",
      "trans1\n",
      "tensor([[-2.,  0.],\n",
      "        [ 2.,  0.]], grad_fn=<ViewBackward>)\n",
      "tensor([[ 0.0000, -0.5000],\n",
      "        [ 0.0000,  0.5000]], grad_fn=<ViewBackward>)\n",
      "Final\n",
      "trans\n",
      "tensor([[-1.8070, -1.7571],\n",
      "        [ 1.8070,  1.7571]], grad_fn=<ViewBackward>)\n",
      "tensor([[ 0.0978, -0.4682],\n",
      "        [-0.0978,  0.4682]], grad_fn=<ViewBackward>)\n",
      "tensor([[ 0.1866, -0.9442],\n",
      "        [-0.1866,  0.9442]], grad_fn=<ViewBackward>)\n",
      "trans1\n",
      "tensor([[-1.8070, -1.7571],\n",
      "        [ 1.8070,  1.7571]], grad_fn=<ViewBackward>)\n",
      "tensor([[ 0.0978, -0.4682],\n",
      "        [-0.0978,  0.4682]], grad_fn=<ViewBackward>)\n",
      "tensor([[ 0.1866, -0.9442],\n",
      "        [-0.1866,  0.9442]], grad_fn=<ViewBackward>)\n"
     ]
    }
   ],
   "source": [
    "gd_trans = torch.tensor([[-2., 0.], [2., 0.]], requires_grad=True).view(-1)\n",
    "mom_trans = torch.tensor([[0., -0.5], [0., 0.5]], requires_grad=True).view(-1)\n",
    "\n",
    "gd_trans1 = torch.tensor([[-2., 0.], [2., 0.]], requires_grad=True).view(-1)\n",
    "mom_trans1 = torch.tensor([[0., -0.5], [0., 0.5]], requires_grad=True).view(-1)\n",
    "\n",
    "trans = im.DeformationModules.Translations(im.Manifolds.Landmarks(dim, nb_pts, gd=gd_trans, cotan=mom_trans), sigma)\n",
    "trans1 = im.DeformationModules.Translations(im.Manifolds.Landmarks(dim, nb_pts, gd=gd_trans1, cotan=mom_trans1), sigma1)\n",
    "hamiltonian = im.HamiltonianDynamic.Hamiltonian([trans, trans1])\n",
    "\n",
    "intermediate_states, intermediate_controls = im.HamiltonianDynamic.shoot(hamiltonian, it, \"torch_euler\")\n",
    "\n",
    "print(\"Initial\")\n",
    "print(\"trans\")\n",
    "print(gd_trans.view(-1, 2))\n",
    "print(mom_trans.view(-1, 2))\n",
    "print(\"trans1\")\n",
    "print(gd_trans1.view(-1, 2))\n",
    "print(mom_trans1.view(-1, 2))\n",
    "\n",
    "print(\"Final\")\n",
    "print(\"trans\")\n",
    "print(trans.manifold.gd.view(-1, 2))\n",
    "print(trans.manifold.cotan.view(-1, 2))\n",
    "print(trans.controls.view(-1, 2))\n",
    "print(\"trans1\")\n",
    "print(trans1.manifold.gd.view(-1, 2))\n",
    "print(trans1.manifold.cotan.view(-1, 2))\n",
    "print(trans1.controls.view(-1, 2))"
   ]
  },
  {
   "cell_type": "code",
   "execution_count": 4,
   "metadata": {
    "autoscroll": false,
    "collapsed": false,
    "ein.hycell": false,
    "ein.tags": "worksheet-0",
    "slideshow": {
     "slide_type": "-"
    }
   },
   "outputs": [
    {
     "name": "stdout",
     "output_type": "stream",
     "text": [
      "Initial\n",
      "trans\n",
      "tensor([[-2.,  0.],\n",
      "        [ 2.,  0.]], grad_fn=<ViewBackward>)\n",
      "tensor([[ 0.0000, -0.5000],\n",
      "        [ 0.0000,  0.5000]], grad_fn=<ViewBackward>)\n",
      "trans1\n",
      "tensor([[-2.,  0.],\n",
      "        [ 2.,  0.]], grad_fn=<ViewBackward>)\n",
      "tensor([[ 0.0000, -0.5000],\n",
      "        [ 0.0000,  0.5000]], grad_fn=<ViewBackward>)\n",
      "Final\n",
      "trans\n",
      "tensor([[-1.8070, -1.7571],\n",
      "        [ 1.8070,  1.7571]], grad_fn=<ViewBackward>)\n",
      "tensor([[ 0.0978, -0.4682],\n",
      "        [-0.0978,  0.4682]], grad_fn=<ViewBackward>)\n",
      "tensor([[ 0.1866, -0.9442],\n",
      "        [-0.1866,  0.9442]], grad_fn=<ViewBackward>)\n",
      "trans1\n",
      "tensor([[-1.8070, -1.7571],\n",
      "        [ 1.8070,  1.7571]], grad_fn=<ViewBackward>)\n",
      "tensor([[ 0.0978, -0.4682],\n",
      "        [-0.0978,  0.4682]], grad_fn=<ViewBackward>)\n",
      "tensor([[ 0.1866, -0.9442],\n",
      "        [-0.1866,  0.9442]], grad_fn=<ViewBackward>)\n"
     ]
    }
   ],
   "source": [
    "gd_trans = torch.tensor([[-2., 0.], [2., 0.]], requires_grad=True).view(-1)\n",
    "mom_trans = torch.tensor([[0., -0.5], [0., 0.5]], requires_grad=True).view(-1)\n",
    "\n",
    "gd_trans1 = torch.tensor([[-2., 0.], [2., 0.]], requires_grad=True).view(-1)\n",
    "mom_trans1 = torch.tensor([[0., -0.5], [0., 0.5]], requires_grad=True).view(-1)\n",
    "\n",
    "trans = im.DeformationModules.Translations(im.Manifolds.Landmarks(dim, nb_pts, gd=gd_trans, cotan=mom_trans), sigma)\n",
    "trans1 = im.DeformationModules.Translations(im.Manifolds.Landmarks(dim, nb_pts, gd=gd_trans1, cotan=mom_trans1), sigma1)\n",
    "hamiltonian = im.HamiltonianDynamic.Hamiltonian([trans, trans1])\n",
    "\n",
    "intermediate_states_tdq, intermediate_controls_tdq = im.HamiltonianDynamic.shoot(hamiltonian, it, 'euler')\n",
    "print(\"Initial\")\n",
    "print(\"trans\")\n",
    "print(gd_trans.view(-1, 2))\n",
    "print(mom_trans.view(-1, 2))\n",
    "print(\"trans1\")\n",
    "print(gd_trans1.view(-1, 2))\n",
    "print(mom_trans1.view(-1, 2))\n",
    "\n",
    "print(\"Final\")\n",
    "print(\"trans\")\n",
    "print(trans.manifold.gd.view(-1, 2))\n",
    "print(trans.manifold.cotan.view(-1, 2))\n",
    "print(trans.controls.view(-1, 2))\n",
    "print(\"trans1\")\n",
    "print(trans1.manifold.gd.view(-1, 2))\n",
    "print(trans1.manifold.cotan.view(-1, 2))\n",
    "print(trans1.controls.view(-1, 2))"
   ]
  },
  {
   "cell_type": "code",
   "execution_count": 12,
   "metadata": {
    "autoscroll": false,
    "collapsed": false,
    "ein.hycell": false,
    "ein.tags": "worksheet-0",
    "slideshow": {
     "slide_type": "-"
    }
   },
   "outputs": [],
   "source": [
    "# We compare intermediate states and controls of each shooting methods\n",
    "for i in range(it):\n",
    "    assert torch.allclose(intermediate_states[i][0].gd, intermediate_states_tdq[i][0].gd)\n",
    "    assert torch.allclose(intermediate_states[i][0].cotan, intermediate_states_tdq[i][0].cotan)\n",
    "    assert torch.allclose(intermediate_states[i][1].gd, intermediate_states_tdq[i][1].gd)\n",
    "    assert torch.allclose(intermediate_states[i][1].cotan, intermediate_states_tdq[i][1].cotan)\n",
    "    assert torch.allclose(intermediate_controls[i][0], intermediate_controls_tdq[i][0])\n",
    "    assert torch.allclose(intermediate_controls[i][1], intermediate_controls_tdq[i][1])"
   ]
  },
  {
   "cell_type": "code",
   "execution_count": null,
   "metadata": {
    "autoscroll": false,
    "collapsed": false,
    "ein.hycell": false,
    "ein.tags": "worksheet-0",
    "slideshow": {
     "slide_type": "-"
    }
   },
   "outputs": [],
   "source": [
    "nx, ny = 100, 100\n",
    "sx, sy = 10, 10\n",
    "x, y = torch.meshgrid([torch.arange(0, nx), torch.arange(0, ny)])\n",
    "x = sx*(x.type(torch.FloatTensor)/nx - 0.5)\n",
    "y = sy*(y.type(torch.FloatTensor)/ny - 0.5)\n",
    "u, v = dm.usefulfunctions.vec2grid(trans(dm.usefulfunctions.grid2vec(x, y).type(torch.FloatTensor)), nx, ny)"
   ]
  },
  {
   "cell_type": "code",
   "execution_count": null,
   "metadata": {
    "autoscroll": false,
    "collapsed": false,
    "ein.hycell": false,
    "ein.tags": "worksheet-0",
    "slideshow": {
     "slide_type": "-"
    }
   },
   "outputs": [],
   "source": [
    "%matplotlib qt5\n",
    "\n",
    "plt.quiver(x.numpy(), y.numpy(), u.detach().numpy(), v.detach().numpy())\n",
    "plt.show()"
   ]
  }
 ],
 "metadata": {
  "kernelspec": {
   "display_name": "Python 3",
   "name": "python3"
  },
  "name": "simple_example.ipynb"
 },
 "nbformat": 4,
 "nbformat_minor": 2
}
