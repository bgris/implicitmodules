{
 "cells": [
  {
   "cell_type": "code",
   "execution_count": null,
   "metadata": {
    "autoscroll": false,
    "collapsed": false,
    "ein.hycell": false,
    "ein.tags": "worksheet-0",
    "slideshow": {
     "slide_type": "-"
    }
   },
   "outputs": [],
   "source": [
    "%reset\n",
    "%load_ext autoreload\n",
    "%autoreload 2\n",
    "import sys\n",
    "sys.path.append(\"../../\")\n",
    "\n",
    "import torch\n",
    "import matplotlib.pyplot as plt\n",
    "\n",
    "import implicitmodules.torch as dm"
   ]
  },
  {
   "cell_type": "code",
   "execution_count": null,
   "metadata": {
    "autoscroll": false,
    "collapsed": false,
    "ein.hycell": false,
    "ein.tags": "worksheet-0",
    "slideshow": {
     "slide_type": "-"
    }
   },
   "outputs": [],
   "source": [
    "dim = 2\n",
    "sigma = 2.\n",
    "sigma1 = 2.\n",
    "nb_pts = 2\n",
    "\n",
    "gd_trans = torch.tensor([[-2., 0.], [2., 0.]], requires_grad=True).view(-1)\n",
    "mom_trans = torch.tensor([[0., -0.5], [0., 0.5]], requires_grad=True).view(-1)\n",
    "\n",
    "gd_trans1 = torch.tensor([[-2., 0.], [2., 0.]], requires_grad=True).view(-1)\n",
    "mom_trans1 = torch.tensor([[0., -0.5], [0., 0.5]], requires_grad=True).view(-1)\n",
    "\n",
    "landmarks = dm.Manifolds.Landmarks(dim, nb_pts, gd=gd_trans, cotan=mom_trans)\n",
    "landmarks1 = dm.Manifolds.Landmarks(dim, nb_pts, gd=gd_trans1, cotan=mom_trans1)\n",
    "\n",
    "trans = dm.DeformationModules.Translations(landmarks, sigma)\n",
    "trans1 = dm.DeformationModules.Translations(landmarks1, sigma1)\n",
    "combination = dm.DeformationModules.CompoundModule([trans, trans1])\n",
    "hamiltonian = dm.HamiltonianDynamic.Hamiltonian(combination)"
   ]
  },
  {
   "cell_type": "code",
   "execution_count": null,
   "metadata": {
    "autoscroll": false,
    "collapsed": false,
    "ein.hycell": false,
    "ein.tags": "worksheet-0",
    "slideshow": {
     "slide_type": "-"
    }
   },
   "outputs": [],
   "source": [
    "dm.HamiltonianDynamic.shoot_euler(hamiltonian, it=10)\n",
    "print(\"Initial\")\n",
    "print(\"trans\")\n",
    "print(gd_trans.view(-1, 2))\n",
    "print(mom_trans.view(-1, 2))\n",
    "print(\"trans1\")\n",
    "print(gd_trans1.view(-1, 2))\n",
    "print(mom_trans1.view(-1, 2))\n",
    "\n",
    "print(\"Final\")\n",
    "print(\"trans\")\n",
    "print(trans.manifold.gd.view(-1, 2))\n",
    "print(trans.manifold.cotan.view(-1, 2))\n",
    "print(trans.controls.view(-1, 2))\n",
    "print(\"trans1\")\n",
    "print(trans1.manifold.gd.view(-1, 2))\n",
    "print(trans1.manifold.cotan.view(-1, 2))\n",
    "print(trans1.controls.view(-1, 2))\n"
   ]
  },
  {
   "cell_type": "code",
   "execution_count": null,
   "metadata": {
    "autoscroll": false,
    "collapsed": false,
    "ein.hycell": false,
    "ein.tags": "worksheet-0",
    "slideshow": {
     "slide_type": "-"
    }
   },
   "outputs": [],
   "source": [
    "nx, ny = 100, 100\n",
    "sx, sy = 10, 10\n",
    "x, y = torch.meshgrid([torch.arange(0, nx), torch.arange(0, ny)])\n",
    "x = sx*(x.type(torch.FloatTensor)/nx - 0.5)\n",
    "y = sy*(y.type(torch.FloatTensor)/ny - 0.5)\n",
    "u, v = dm.Utilities.vec2grid(trans(dm.Utilities.grid2vec(x, y).type(torch.FloatTensor)), nx, ny)"
   ]
  },
  {
   "cell_type": "code",
   "execution_count": null,
   "metadata": {
    "autoscroll": false,
    "collapsed": false,
    "ein.hycell": false,
    "ein.tags": "worksheet-0",
    "slideshow": {
     "slide_type": "-"
    }
   },
   "outputs": [],
   "source": [
    "%matplotlib qt5\n",
    "\n",
    "plt.quiver(x.numpy(), y.numpy(), u.detach().numpy(), v.detach().numpy())\n",
    "plt.show()"
   ]
  }
 ],
 "metadata": {
  "kernelspec": {
   "display_name": "Python 3",
   "name": "python3"
  },
  "name": "simple_example.ipynb"
 },
 "nbformat": 4,
 "nbformat_minor": 2
}
