{
 "cells": [
  {
   "cell_type": "code",
   "execution_count": null,
   "metadata": {
    "collapsed": false
   },
   "outputs": [],
   "source": [
    "%load_ext autoreload\n",
    "%autoreload 2\n",
    "\n",
    "import sys\n",
    "import math\n",
    "import pickle\n",
    "import random\n",
    "\n",
    "import torch\n",
    "import matplotlib.pyplot as plt\n",
    "from mpl_toolkits.mplot3d import Axes3D\n",
    "import pymesh\n",
    "\n",
    "sys.path.append(\"../../\")\n",
    "\n",
    "import implicitmodules.torch as dm"
   ]
  },
  {
   "cell_type": "code",
   "execution_count": null,
   "metadata": {
    "collapsed": false
   },
   "outputs": [],
   "source": [
    "source_boudin = dm.Utilities.generate_boudin(0.8, 0.5, 1., 0.3, 40, 20, 10)\n",
    "target_boudin = dm.Utilities.generate_boudin(0.75, 0.6, 0.8, 0.1, 40, 20, 10) + torch.tensor([0.15, 0.])"
   ]
  },
  {
   "cell_type": "code",
   "execution_count": null,
   "metadata": {
    "collapsed": false
   },
   "outputs": [],
   "source": [
    "%matplotlib qt5\n",
    "plt.plot(source_boudin[:, 0].numpy(), source_boudin[:, 1].numpy())\n",
    "plt.plot(target_boudin[:, 0].numpy(), target_boudin[:, 1].numpy())\n",
    "plt.axis('equal')\n",
    "plt.show()"
   ]
  },
  {
   "cell_type": "code",
   "execution_count": null,
   "metadata": {
    "collapsed": false
   },
   "outputs": [],
   "source": [
    "aabb = dm.Utilities.AABB.build_from_points(source_boudin).scale(1.2)\n",
    "\n",
    "implicit1_points = dm.Utilities.fill_area_uniform_density(dm.Utilities.area_shape, aabb, 50., shape=source_boudin)\n",
    "implicit1_rot = dm.Utilities.rot2d(0.).repeat(implicit1_points.shape[0], 1, 1)\n",
    "\n",
    "implicit1_c = torch.zeros(implicit1_points.shape[0], 2, 1)\n",
    "implicit1_c[:, 0, 0] = 1.\n",
    "\n",
    "angles = torch.zeros(implicit1_points.shape[0], requires_grad=True)\n",
    "\n",
    "print(implicit1_points.shape)"
   ]
  },
  {
   "cell_type": "code",
   "execution_count": null,
   "metadata": {
    "collapsed": false
   },
   "outputs": [],
   "source": [
    "%matplotlib qt5\n",
    "plt.plot(source_boudin[:, 0].numpy(), source_boudin[:, 1].numpy())\n",
    "plt.plot(implicit1_points[:, 0].numpy(), implicit1_points[:, 1].numpy(), '.')\n",
    "plt.axis('equal')\n",
    "plt.show()"
   ]
  },
  {
   "cell_type": "code",
   "execution_count": null,
   "metadata": {
    "collapsed": false
   },
   "outputs": [],
   "source": [
    "sigma = 0.3\n",
    "\n",
    "global_translation = dm.DeformationModules.GlobalTranslation(2)\n",
    "\n",
    "implicit1 = dm.DeformationModules.ImplicitModule1(2, implicit1_points.shape[0], sigma, implicit1_c, nu=0.1, gd=(implicit1_points, implicit1_rot))"
   ]
  },
  {
   "cell_type": "code",
   "execution_count": null,
   "metadata": {
    "collapsed": false
   },
   "outputs": [],
   "source": [
    "source_deformable = dm.Models.DeformablePoints(source_boudin)\n",
    "target_deformable = dm.Models.DeformablePoints(target_boudin)\n",
    "\n",
    "def precompute(init_manifold, modules, parameters):\n",
    "    rot = dm.Utilities.rot2d_vec(parameters['angles']['params'][0])\n",
    "\n",
    "    init_manifold[2].gd = (init_manifold[2].gd[0], rot)\n",
    "\n",
    "\n",
    "sigmas_varifold = [0.1, 0.6]\n",
    "attachment = dm.Attachment.VarifoldAttachment(2, sigmas_varifold)\n",
    "\n",
    "model = dm.Models.RegistrationModel([source_deformable], [global_translation, implicit1], [attachment], lam=1000., precompute_callback=precompute, other_parameters={'angles': {'params': [angles]}})"
   ]
  },
  {
   "cell_type": "code",
   "execution_count": null,
   "metadata": {
    "collapsed": false
   },
   "outputs": [],
   "source": [
    "shoot_solver = 'euler'\n",
    "shoot_it = 10\n",
    "\n",
    "costs = {}\n",
    "fitter = dm.Models.Fitter(model, optimizer='torch_lbfgs')\n",
    "\n",
    "fitter.fit(target_deformable, 50, costs=costs, options={'shoot_solver': shoot_solver, 'shoot_it': shoot_it, 'line_search_fn': 'strong_wolfe'})"
   ]
  },
  {
   "cell_type": "code",
   "execution_count": null,
   "metadata": {
    "collapsed": false
   },
   "outputs": [],
   "source": [
    "intermediates = {}\n",
    "deformed = model.compute_deformed(shoot_solver, shoot_it, intermediates=intermediates)[0][0].detach()"
   ]
  },
  {
   "cell_type": "code",
   "execution_count": null,
   "metadata": {
    "collapsed": false
   },
   "outputs": [],
   "source": [
    "basis = model.init_manifold[2].gd[1].detach()"
   ]
  },
  {
   "cell_type": "code",
   "execution_count": null,
   "metadata": {
    "collapsed": false
   },
   "outputs": [],
   "source": [
    "def plot_2d_basis(points, basis, **kwords):\n",
    "    plt.quiver(points[:, 0].numpy(), points[:, 1].numpy(), basis[:, 0, 0].numpy(), basis[:, 1, 0].numpy(), color='blue', headlength=0., headwidth=0., **kwords)\n",
    "    plt.quiver(points[:, 0].numpy(), points[:, 1].numpy(), basis[:, 0, 1].numpy(), basis[:, 1, 1].numpy(), color='red', headlength=0.,headwidth=0., **kwords)\n"
   ]
  },
  {
   "cell_type": "code",
   "execution_count": null,
   "metadata": {
    "collapsed": false
   },
   "outputs": [],
   "source": [
    "%matplotlib qt5\n",
    "plt.plot(source_boudin[:, 0].numpy(), source_boudin[:, 1].numpy(), lw=0.4, color='black')\n",
    "plt.plot(target_boudin[:, 0].numpy(), target_boudin[:, 1].numpy(), lw=1., color='green')\n",
    "plt.plot(deformed[:, 0].numpy(), deformed[:, 1].numpy(), lw=1., color='blue')\n",
    "plt.axis('equal')\n",
    "plt.show()"
   ]
  },
  {
   "cell_type": "code",
   "execution_count": null,
   "metadata": {
    "collapsed": false
   },
   "outputs": [],
   "source": [
    "%matplotlib qt5\n",
    "plt.plot(source_boudin[:, 0].numpy(), source_boudin[:, 1].numpy(), lw=1., color='black')\n",
    "plot_2d_basis(implicit1_points, basis, scale=30.)\n",
    "plt.axis('equal')\n",
    "plt.show()\n"
   ]
  },
  {
   "cell_type": "code",
   "execution_count": null,
   "metadata": {
    "collapsed": false
   },
   "outputs": [],
   "source": []
  }
 ],
 "metadata": {
  "kernelspec": {
   "argv": [
    "python",
    "-m",
    "ipykernel_launcher",
    "-f",
    "{connection_file}"
   ],
   "display_name": "Python 3",
   "env": null,
   "interrupt_mode": "signal",
   "language": "python",
   "metadata": null,
   "name": "python3"
  },
  "name": "Untitled9.ipynb"
 },
 "nbformat": 4,
 "nbformat_minor": 4
}
