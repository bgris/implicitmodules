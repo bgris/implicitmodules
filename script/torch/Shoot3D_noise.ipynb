{
 "cells": [
  {
   "cell_type": "code",
   "execution_count": 1,
   "metadata": {},
   "outputs": [],
   "source": [
    "%load_ext autoreload\n",
    "%autoreload 2\n",
    "\n",
    "import sys\n",
    "import copy\n",
    "import math\n",
    "import pickle\n",
    "\n",
    "#sys.path.append(\"../../\")\n",
    "\n",
    "import numpy as np\n",
    "import torch\n",
    "import matplotlib.pyplot as plt\n",
    "from mpl_toolkits.mplot3d import Axes3D\n",
    "import meshio\n",
    "\n",
    "#import implicitmodules.torch as dm"
   ]
  },
  {
   "cell_type": "code",
   "execution_count": 2,
   "metadata": {},
   "outputs": [],
   "source": [
    "import os\n",
    "os.chdir('/home/gris/algos/implicitmodules')\n",
    "#os.chdir('/home/gris/projects_py3/implicitmodules')"
   ]
  },
  {
   "cell_type": "code",
   "execution_count": 3,
   "metadata": {},
   "outputs": [],
   "source": [
    "import implicitmodules.torch as dm\n",
    "torch.set_default_tensor_type(torch.FloatTensor)\n",
    "\n",
    "dm.Utilities.set_compute_backend('torch')"
   ]
  },
  {
   "cell_type": "code",
   "execution_count": 4,
   "metadata": {},
   "outputs": [],
   "source": [
    "def set_aspect_equal_3d(ax):\n",
    "    \"\"\"Fix equal aspect bug for 3D plots.\"\"\"\n",
    "\n",
    "    xlim = ax.get_xlim3d()\n",
    "    ylim = ax.get_ylim3d()\n",
    "    zlim = ax.get_zlim3d()\n",
    "\n",
    "    from numpy import mean\n",
    "    xmean = mean(xlim)\n",
    "    ymean = mean(ylim)\n",
    "    zmean = mean(zlim)\n",
    "\n",
    "    plot_radius = max([abs(lim - mean_)\n",
    "                       for lims, mean_ in ((xlim, xmean),\n",
    "                                           (ylim, ymean),\n",
    "                                           (zlim, zmean))\n",
    "                       for lim in lims])\n",
    "\n",
    "    ax.set_xlim3d([xmean - plot_radius, xmean + plot_radius])\n",
    "    ax.set_ylim3d([ymean - plot_radius, ymean + plot_radius])\n",
    "    ax.set_zlim3d([zmean - plot_radius, zmean + plot_radius])"
   ]
  },
  {
   "cell_type": "code",
   "execution_count": 5,
   "metadata": {},
   "outputs": [],
   "source": [
    "dim = 3\n",
    "\n",
    "rmin_rigid = 1\n",
    "rmax_rigid = 4.5\n",
    "N_layerrigid = 4\n",
    "rlist_rigid = torch.linspace(rmin_rigid, rmax_rigid, N_layerrigid)\n",
    "\n",
    "rmin_growth = 5.2\n",
    "rmax_growth = 6.\n",
    "N_layergrowth = 2\n",
    "rlist_growth = torch.linspace(rmin_growth, rmax_growth, N_layergrowth)\n"
   ]
  },
  {
   "cell_type": "code",
   "execution_count": 6,
   "metadata": {},
   "outputs": [],
   "source": [
    "Nangle = 40\n",
    "theta = torch.linspace(0., 2. * math.pi, Nangle)\n",
    "gap = 0.5\n",
    "\n",
    "R_list =  torch.stack([torch.cat([torch.cat([dm.Utilities.rot2d(a), torch.zeros([2,1])], dim=1), torch.tensor([[0., 0., 1.]])]) for a in theta])\n"
   ]
  },
  {
   "cell_type": "code",
   "execution_count": null,
   "metadata": {},
   "outputs": [],
   "source": []
  },
  {
   "cell_type": "code",
   "execution_count": 7,
   "metadata": {},
   "outputs": [],
   "source": [
    "pts1_toprigid = torch.cat([torch.tensor([[r * math.cos(th), r * math.sin(th), gap] for th in theta]) for r in rlist_rigid])\n",
    "C_toprigid = torch.zeros([pts1_toprigid.shape[0], dim, 1])\n",
    "R_toprigid = torch.cat([R_list.clone() for r in rlist_rigid])\n",
    "\n",
    "pts1_midrigid = torch.cat([torch.tensor([[r * math.cos(th), r * math.sin(th), 0.] for th in theta]) for r in rlist_rigid])\n",
    "C_midrigid = torch.zeros([pts1_toprigid.shape[0], dim, 1])\n",
    "R_midrigid = torch.cat([R_list.clone() for r in rlist_rigid])\n",
    "\n",
    "pts1_downrigid = torch.cat([torch.tensor([[r * math.cos(th), r * math.sin(th), -gap] for th in theta]) for r in rlist_rigid])\n",
    "C_downrigid = torch.zeros([pts1_toprigid.shape[0], dim, 1])\n",
    "R_downrigid = torch.cat([R_list.clone() for r in rlist_rigid])"
   ]
  },
  {
   "cell_type": "code",
   "execution_count": 8,
   "metadata": {},
   "outputs": [],
   "source": [
    "Nb_ptslayerrigid = pts1_toprigid.shape[0]"
   ]
  },
  {
   "cell_type": "code",
   "execution_count": 9,
   "metadata": {},
   "outputs": [],
   "source": [
    "k=4\n",
    "costheta2 = torch.cat([torch.tensor([math.cos(k*th) for th in theta]), torch.tensor([math.cos(k * th) for th in theta])])"
   ]
  },
  {
   "cell_type": "code",
   "execution_count": 10,
   "metadata": {},
   "outputs": [],
   "source": [
    "Nper = 6\n",
    "eps = 0."
   ]
  },
  {
   "cell_type": "code",
   "execution_count": 11,
   "metadata": {},
   "outputs": [],
   "source": [
    "pts1_topgrowth = torch.cat([torch.tensor([[r * (1 + eps * math.cos(Nper * th)) * math.cos(th), r * (1 + eps * math.cos(Nper * th)) * math.sin(th), gap] for th in theta]) for r in rlist_growth])\n",
    "C_topgrowth = torch.zeros([pts1_topgrowth.shape[0], dim, 1])\n",
    "C_topgrowth[:, 1, :] = 1. + costheta2.view(-1, 1)\n",
    "R_topgrowth = torch.cat([R_list.clone() for r in rlist_growth])\n",
    "\n",
    "pts1_midgrowth = torch.cat([torch.tensor([[r * (1 + eps * math.cos(Nper * th)) * math.cos(th), r * (1 + eps * math.cos(Nper * th)) * math.sin(th), 0.] for th in theta]) for r in rlist_growth])\n",
    "C_midgrowth = torch.zeros([pts1_topgrowth.shape[0], dim, 1])\n",
    "C_midgrowth[:, 1, :] = 1.\n",
    "R_midgrowth = torch.cat([R_list.clone() for r in rlist_growth])\n",
    "\n",
    "pts1_downgrowth = torch.cat([torch.tensor([[r * (1 + eps * math.cos(Nper * th)) * math.cos(th), r * (1 + eps * math.cos(Nper * th)) * math.sin(th), -gap] for th in theta]) for r in rlist_growth])\n",
    "C_downgrowth = torch.zeros([pts1_topgrowth.shape[0], dim, 1])\n",
    "C_downgrowth[:, 1, :] = 1. - costheta2.view(-1, 1)\n",
    "R_downgrowth = torch.cat([R_list.clone() for r in rlist_growth])"
   ]
  },
  {
   "cell_type": "code",
   "execution_count": 12,
   "metadata": {},
   "outputs": [],
   "source": [
    "Nb_ptslayergrowth = pts1_topgrowth.shape[0]"
   ]
  },
  {
   "cell_type": "code",
   "execution_count": 13,
   "metadata": {},
   "outputs": [],
   "source": [
    "pts_implicit1 = torch.cat([pts1_toprigid, pts1_midrigid, pts1_downrigid, pts1_topgrowth, pts1_midgrowth, pts1_downgrowth])\n",
    "C = torch.cat([C_toprigid, C_midrigid, C_downrigid, C_topgrowth, C_midgrowth, C_downgrowth])\n",
    "R = torch.cat([R_toprigid, R_midrigid, R_downrigid, R_topgrowth, R_midgrowth, R_downgrowth])"
   ]
  },
  {
   "cell_type": "code",
   "execution_count": 14,
   "metadata": {},
   "outputs": [
    {
     "data": {
      "text/plain": [
       "torch.Size([80, 3])"
      ]
     },
     "execution_count": 14,
     "metadata": {},
     "output_type": "execute_result"
    }
   ],
   "source": [
    "pts1_midgrowth.shape"
   ]
  },
  {
   "cell_type": "code",
   "execution_count": 15,
   "metadata": {},
   "outputs": [
    {
     "name": "stdout",
     "output_type": "stream",
     "text": [
      "torch.Size([720, 3]) torch.Size([720, 3, 1]) torch.Size([720, 3, 3])\n"
     ]
    }
   ],
   "source": [
    "print(pts_implicit1.shape, C.shape, R.shape)"
   ]
  },
  {
   "cell_type": "code",
   "execution_count": 16,
   "metadata": {},
   "outputs": [],
   "source": [
    "%matplotlib qt5\n",
    "ax = plt.subplot()\n",
    "plt.plot(pts_implicit1[:, 0].numpy(), pts_implicit1[:, 1].numpy(), '.')\n",
    "dm.Utilities.plot_C_ellipse(ax, pts_implicit1[:,:2], C[:,:2,:], R=R[:, :2, :2], c_index=0, alpha=0.1, scale=1, color='r')\n",
    "plt.axis('equal')\n",
    "plt.show()"
   ]
  },
  {
   "cell_type": "code",
   "execution_count": 17,
   "metadata": {},
   "outputs": [],
   "source": [
    "%matplotlib qt5\n",
    "ax = plt.subplot()\n",
    "plt.plot(pts_implicit1[:, 0].numpy(), pts_implicit1[:, 1].numpy(), '.')\n",
    "Nr = 3 * Nb_ptslayerrigid\n",
    "N0 = 3 * Nb_ptslayerrigid + Nangle\n",
    "dm.Utilities.plot_C_ellipse(ax, pts_implicit1[:Nr,:2], C[:Nr,:2,:], R=R[:Nr, :2, :2], c_index=0, alpha=0.1, scale=1, color='r')\n",
    "dm.Utilities.plot_C_ellipse(ax, pts_implicit1[Nr : Nr + 2*Nangle,:2], C[Nr : Nr + 2*Nangle,:2,:], R=R[Nr : Nr + 2*Nangle, :2, :2], c_index=0, alpha=0.1, scale=1, color='r')\n",
    "nm = N0 + 7\n",
    "nM = N0 + 12\n",
    "plt.plot(pts_implicit1[nm : nM , 0].numpy(), pts_implicit1[nm : nM, 1].numpy(), 'x')\n",
    "nm = N0 + 7 - Nangle\n",
    "nM = N0 + 12 - Nangle\n",
    "plt.plot(pts_implicit1[nm : nM , 0].numpy(), pts_implicit1[nm : nM, 1].numpy(), 'x')\n",
    "\n",
    "plt.axis('equal')\n",
    "plt.show()"
   ]
  },
  {
   "cell_type": "code",
   "execution_count": 45,
   "metadata": {},
   "outputs": [
    {
     "data": {
      "text/plain": [
       "480"
      ]
     },
     "execution_count": 45,
     "metadata": {},
     "output_type": "execute_result"
    }
   ],
   "source": [
    "Nr"
   ]
  },
  {
   "cell_type": "code",
   "execution_count": 18,
   "metadata": {},
   "outputs": [],
   "source": [
    "%matplotlib qt5\n",
    "fig = plt.figure()\n",
    "ax = fig.add_subplot(111, projection='3d')\n",
    "ax.scatter(pts_implicit1[:, 0].numpy(), pts_implicit1[:, 1].numpy(), pts_implicit1[:, 2].numpy(), marker='.', color='b')\n",
    "N0 = 3 * Nb_ptslayerrigid + Nangle\n",
    "N1 = 3 * Nb_ptslayerrigid + Nangle + Nb_ptslayergrowth\n",
    "N2 = 3 * Nb_ptslayerrigid + Nangle + 2 * Nb_ptslayergrowth\n",
    "plt.plot(pts_implicit1[N0:N0 + Nangle, 0].numpy(), pts_implicit1[N0:N0 + Nangle, 1].numpy(), pts_implicit1[N0:N0 + Nangle, 2].numpy(), 'b')\n",
    "plt.plot(pts_implicit1[N1:N1 + Nangle, 0].numpy(), pts_implicit1[N1:N1 + Nangle, 1].numpy(), pts_implicit1[N1:N1 + Nangle, 2].numpy(), 'b')\n",
    "plt.plot(pts_implicit1[N2:N2 + Nangle, 0].numpy(), pts_implicit1[N2:N2 + Nangle, 1].numpy(), pts_implicit1[N2:N2 + Nangle, 2].numpy(), 'b')\n",
    "\n",
    "set_aspect_equal_3d(ax)\n",
    "plt.show()"
   ]
  },
  {
   "cell_type": "code",
   "execution_count": 20,
   "metadata": {},
   "outputs": [
    {
     "data": {
      "text/plain": [
       "4"
      ]
     },
     "execution_count": 20,
     "metadata": {},
     "output_type": "execute_result"
    }
   ],
   "source": [
    "k\n"
   ]
  },
  {
   "cell_type": "code",
   "execution_count": 21,
   "metadata": {},
   "outputs": [
    {
     "data": {
      "text/plain": [
       "40"
      ]
     },
     "execution_count": 21,
     "metadata": {},
     "output_type": "execute_result"
    }
   ],
   "source": [
    "Nangle"
   ]
  },
  {
   "cell_type": "code",
   "execution_count": 22,
   "metadata": {},
   "outputs": [
    {
     "data": {
      "text/plain": [
       "8"
      ]
     },
     "execution_count": 22,
     "metadata": {},
     "output_type": "execute_result"
    }
   ],
   "source": [
    "int(Nangle/(k+1)) "
   ]
  },
  {
   "cell_type": "raw",
   "metadata": {},
   "source": [
    "%matplotlib qt5\n",
    "fig = plt.figure()\n",
    "ax = fig.add_subplot(111, projection='3d')\n",
    "#ax.scatter(pts_implicit1[:, 0].numpy(), pts_implicit1[:, 1].numpy(), pts_implicit1[:, 2].numpy(), marker='.', color='b')\n",
    "#ax.scatter(pts[:, 0].numpy(), pts[:, 1].numpy(), pts[:, 2].numpy(), marker='x', color='r')\n",
    "N00 = 0\n",
    "for i in range(3 * (N_layerrigid)):\n",
    "    plt.plot(pts[N00:N00 + Nangle, 0].numpy(), pts[N00:N00 + Nangle, 1].numpy(), pts[N00:N00 + Nangle, 2].numpy(), "
   ]
  },
  {
   "cell_type": "raw",
   "metadata": {},
   "source": [
    "#pts = implicit1.manifold.gd[0].view(-1, dim).detach()\n",
    "t= 0\n",
    "Nr = 3 * Nb_ptslayerrigid \n",
    "pts = intermediate_states[t].gd[0][0].view(-1, dim).detach()"
   ]
  },
  {
   "cell_type": "code",
   "execution_count": 19,
   "metadata": {},
   "outputs": [],
   "source": [
    "sigma1 = 2.\n",
    "nu = 0.01\n",
    "cotan_pts = torch.zeros_like(pts_implicit1)\n",
    "nm = N0 + 7\n",
    "nM = N0 + 12\n",
    "cot = 3000\n",
    "cotan_pts[nm : nM  , 2] = cot\n",
    "nm = N0 + 7 - Nangle\n",
    "nM = N0 + 12 - Nangle\n",
    "cotan_pts[nm : nM  , 2] = cot\n",
    "cotan_R = torch.zeros_like(R)\n",
    "implicit1 = dm.DeformationModules.ImplicitModule1.build_and_fill(dim, pts_implicit1.shape[0], C, sigma1, nu, coeff=1., gd=(pts_implicit1.view(-1).requires_grad_(), R.view(-1).requires_grad_()),  cotan = (cotan_pts.view(-1).requires_grad_(), cotan_R.view(-1).requires_grad_()))"
   ]
  },
  {
   "cell_type": "code",
   "execution_count": 20,
   "metadata": {
    "scrolled": false
   },
   "outputs": [],
   "source": [
    "intermediate_states, intermediate_controls = dm.HamiltonianDynamic.shoot(dm.HamiltonianDynamic.Hamiltonian([implicit1]), 5, 'euler', intermediates=True)"
   ]
  },
  {
   "cell_type": "code",
   "execution_count": 24,
   "metadata": {
    "scrolled": true
   },
   "outputs": [
    {
     "data": {
      "text/plain": [
       "'/home/gris/algos/implicitmodules'"
      ]
     },
     "execution_count": 24,
     "metadata": {},
     "output_type": "execute_result"
    }
   ],
   "source": [
    "pwd"
   ]
  },
  {
   "cell_type": "code",
   "execution_count": 66,
   "metadata": {
    "scrolled": true
   },
   "outputs": [],
   "source": [
    "pickle.dump({'intermediate_states':intermediate_states, 'intermediate_controls':intermediate_controls, 'sigma1':sigma1, 'rmin_rigid':rmin_rigid, 'rmax_rigid':rmax_rigid, 'N_layerrigid':N_layerrigid, 'rmin_growth':rmin_growth, 'rmax_growth':rmax_growth, 'N_layergrowth':N_layergrowth, 'Nangle':Nangle, 'gap':gap}, open(\"../../Results/ImplicitModules/3D/DiskFolding/shoot4_8.pkl\", 'wb'))"
   ]
  },
  {
   "cell_type": "code",
   "execution_count": 23,
   "metadata": {},
   "outputs": [],
   "source": [
    "res = pickle.load(open(\"../../Results/ImplicitModules/3D/DiskFolding/shoot4_8.pkl\", 'rb'))\n",
    "intermediate_states = res['intermediate_states']"
   ]
  },
  {
   "cell_type": "code",
   "execution_count": 29,
   "metadata": {},
   "outputs": [
    {
     "name": "stdout",
     "output_type": "stream",
     "text": [
      "[[tensor([0.0019])], [tensor([0.0020])], [tensor([0.0021])], [tensor([0.0018])], [tensor([0.0012])], [tensor([0.0017])], [tensor([0.0018])], [tensor([0.0016])]]\n"
     ]
    }
   ],
   "source": [
    "print(intermediate_controls)"
   ]
  },
  {
   "cell_type": "code",
   "execution_count": 22,
   "metadata": {},
   "outputs": [],
   "source": [
    "pts = implicit1.manifold.gd[0].view(-1, dim).detach()\n",
    "t=-1\n",
    "pts = intermediate_states[t].gd[0][0].view(-1, dim).detach()\n",
    "%matplotlib qt5\n",
    "fig = plt.figure()\n",
    "ax = fig.add_subplot(111, projection='3d')\n",
    "#ax.scatter(pts_implicit1[:, 0].numpy(), pts_implicit1[:, 1].numpy(), pts_implicit1[:, 2].numpy(), marker='o', color='b')\n",
    "ax.scatter(pts[:, 0].numpy(), pts[:, 1].numpy(), pts[:, 2].numpy(), marker='x', color='r')\n",
    "plt.plot(pts[N0:N0 + Nangle, 0].numpy(), pts[N0:N0 + Nangle, 1].numpy(), pts[N0:N0 + Nangle, 2].numpy(), 'b')\n",
    "plt.plot(pts[N1:N1 + Nangle, 0].numpy(), pts[N1:N1 + Nangle, 1].numpy(), pts[N1:N1 + Nangle, 2].numpy(), 'b')\n",
    "plt.plot(pts[N2:N2 + Nangle, 0].numpy(), pts[N2:N2 + Nangle, 1].numpy(), pts[N2:N2 + Nangle, 2].numpy(), 'b')\n",
    "\n",
    "set_aspect_equal_3d(ax)\n",
    "plt.show()"
   ]
  },
  {
   "cell_type": "code",
   "execution_count": 23,
   "metadata": {},
   "outputs": [],
   "source": [
    "pts_relaunch = implicit1.manifold.gd[0].clone()\n",
    "R_relaunch = implicit1.manifold.gd[1].clone()"
   ]
  },
  {
   "cell_type": "code",
   "execution_count": 24,
   "metadata": {},
   "outputs": [],
   "source": [
    "#pts1_toprigid = torch.cat([torch.tensor([[r * math.cos(th), r * math.sin(th), gap] for th in theta]) for r in rlist_rigid])\n",
    "C_toprigid_r = torch.zeros([pts1_toprigid.shape[0], dim, 1])\n",
    "#R_toprigid = torch.cat([R_list.clone() for r in rlist_rigid])\n",
    "\n",
    "#pts1_midrigid = torch.cat([torch.tensor([[r * math.cos(th), r * math.sin(th), 0.] for th in theta]) for r in rlist_rigid])\n",
    "C_midrigid_r = torch.zeros([pts1_toprigid.shape[0], dim, 1])\n",
    "#R_midrigid = torch.cat([R_list.clone() for r in rlist_rigid])\n",
    "\n",
    "#pts1_downrigid = torch.cat([torch.tensor([[r * math.cos(th), r * math.sin(th), -gap] for th in theta]) for r in rlist_rigid])\n",
    "C_downrigid_r = torch.zeros([pts1_toprigid.shape[0], dim, 1])\n",
    "#R_downrigid = torch.cat([R_list.clone() for r in rlist_rigid])"
   ]
  },
  {
   "cell_type": "code",
   "execution_count": 25,
   "metadata": {},
   "outputs": [],
   "source": [
    "#pts1_topgrowth = torch.cat([torch.tensor([[r * (1 + eps * math.cos(Nper * th)) * math.cos(th), r * (1 + eps * math.cos(Nper * th)) * math.sin(th), gap] for th in theta]) for r in rlist_growth])\n",
    "C_topgrowth_r = torch.zeros([pts1_topgrowth.shape[0], dim, 1])\n",
    "C_topgrowth_r[:, 1, :] = 1. #+ costheta2.view(-1, 1)\n",
    "#R_topgrowth = torch.cat([R_list.clone() for r in rlist_growth])\n",
    "\n",
    "#pts1_midgrowth = torch.cat([torch.tensor([[r * (1 + eps * math.cos(Nper * th)) * math.cos(th), r * (1 + eps * math.cos(Nper * th)) * math.sin(th), 0.] for th in theta]) for r in rlist_growth])\n",
    "C_midgrowth_r = torch.zeros([pts1_topgrowth.shape[0], dim, 1])\n",
    "C_midgrowth_r[:, 1, :] = 1.\n",
    "#R_midgrowth = torch.cat([R_list.clone() for r in rlist_growth])\n",
    "\n",
    "#pts1_downgrowth = torch.cat([torch.tensor([[r * (1 + eps * math.cos(Nper * th)) * math.cos(th), r * (1 + eps * math.cos(Nper * th)) * math.sin(th), -gap] for th in theta]) for r in rlist_growth])\n",
    "C_downgrowth_r = torch.zeros([pts1_topgrowth.shape[0], dim, 1])\n",
    "C_downgrowth_r[:, 1, :] = 1.# - costheta2.view(-1, 1)\n",
    "#R_downgrowth = torch.cat([R_list.clone() for r in rlist_growth])"
   ]
  },
  {
   "cell_type": "code",
   "execution_count": 26,
   "metadata": {},
   "outputs": [],
   "source": [
    "C_r = torch.cat([C_toprigid_r, C_midrigid_r, C_downrigid_r, C_topgrowth_r, C_midgrowth_r, C_downgrowth_r])\n"
   ]
  },
  {
   "cell_type": "code",
   "execution_count": 55,
   "metadata": {},
   "outputs": [],
   "source": [
    "nnr = C_toprigid_r.shape[0]"
   ]
  },
  {
   "cell_type": "code",
   "execution_count": 57,
   "metadata": {},
   "outputs": [],
   "source": [
    "nng = C_topgrowth_r.shape[0]"
   ]
  },
  {
   "cell_type": "code",
   "execution_count": 28,
   "metadata": {},
   "outputs": [
    {
     "data": {
      "text/plain": [
       "torch.Size([2160])"
      ]
     },
     "execution_count": 28,
     "metadata": {},
     "output_type": "execute_result"
    }
   ],
   "source": [
    "pts_relaunch.shape"
   ]
  },
  {
   "cell_type": "code",
   "execution_count": 47,
   "metadata": {},
   "outputs": [],
   "source": [
    "sigma1 = 2.\n",
    "nu = 0.01\n",
    "cotan_pts = torch.zeros_like(pts_implicit1)\n",
    "nm = N0 + 7\n",
    "nM = N0 + 12\n",
    "cot = -300\n",
    "cotan_pts[nm : nM  , 2] = cot\n",
    "nm = N0 + 7 - Nangle\n",
    "nM = N0 + 12 - Nangle\n",
    "cotan_pts[nm : nM  , 2] = cot\n",
    "cotan_R = torch.zeros_like(R)"
   ]
  },
  {
   "cell_type": "code",
   "execution_count": 48,
   "metadata": {},
   "outputs": [],
   "source": [
    "implicit1_r = dm.DeformationModules.ImplicitModule1.build_and_fill(dim, pts_implicit1.shape[0], C_r, sigma1, nu, coeff=1., gd=(pts_relaunch.view(-1).requires_grad_(), R_relaunch.view(-1).requires_grad_()),  cotan = (cotan_pts.view(-1).requires_grad_(), cotan_R.view(-1).requires_grad_()))"
   ]
  },
  {
   "cell_type": "code",
   "execution_count": 49,
   "metadata": {},
   "outputs": [],
   "source": [
    "intermediate_states, intermediate_controls = dm.HamiltonianDynamic.shoot(dm.HamiltonianDynamic.Hamiltonian([implicit1_r]), 5, 'euler', intermediates=True)"
   ]
  },
  {
   "cell_type": "code",
   "execution_count": 76,
   "metadata": {},
   "outputs": [],
   "source": [
    "pts = implicit1.manifold.gd[0].view(-1, dim).detach()\n",
    "t=-1\n",
    "pts = intermediate_states[t].gd[0][0].view(-1, dim).detach()\n",
    "%matplotlib qt5\n",
    "fig = plt.figure()\n",
    "ax = fig.add_subplot(111, projection='3d')\n",
    "#ax.scatter(pts_relaunch.view(-1,3)[:, 0].detach().numpy(), pts_relaunch.view(-1,3)[:, 1].detach().numpy(), pts_relaunch.view(-1,3)[:, 2].detach().numpy(), marker='o', color='b')\n",
    "ax.scatter(pts[:, 0].numpy(), pts[:, 1].numpy(), pts[:, 2].numpy(), marker='x', color='r')\n",
    "plt.plot(pts[N0:N0 + Nangle, 0].numpy(), pts[N0:N0 + Nangle, 1].numpy(), pts[N0:N0 + Nangle, 2].numpy(), 'b')\n",
    "plt.plot(pts[N1:N1 + Nangle, 0].numpy(), pts[N1:N1 + Nangle, 1].numpy(), pts[N1:N1 + Nangle, 2].numpy(), 'b')\n",
    "plt.plot(pts[N2:N2 + Nangle, 0].numpy(), pts[N2:N2 + Nangle, 1].numpy(), pts[N2:N2 + Nangle, 2].numpy(), 'b')\n",
    "\n",
    "\n",
    "#ax.scatter(pts_relaunch.view(-1,3)[:, 0].detach().numpy(), pts_relaunch.view(-1,3)[:, 1].detach().numpy(), pts_relaunch.view(-1,3)[:, 2].detach().numpy(), marker='o', color='b')\n",
    "#ax.scatter(pts[:, 0].numpy(), pts[:, 1].numpy(), pts[:, 2].numpy(), marker='x', color='r')\n",
    "plt.plot(pts_r[N0:N0 + Nangle, 0].numpy(), pts_r[N0:N0 + Nangle, 1].numpy(), pts_r[N0:N0 + Nangle, 2].numpy(), 'g')\n",
    "plt.plot(pts_r[N1:N1 + Nangle, 0].numpy(), pts_r[N1:N1 + Nangle, 1].numpy(), pts_r[N1:N1 + Nangle, 2].numpy(), 'g')\n",
    "plt.plot(pts_r[N2:N2 + Nangle, 0].numpy(), pts_r[N2:N2 + Nangle, 1].numpy(), pts_r[N2:N2 + Nangle, 2].numpy(), 'g')\n",
    "\n",
    "\n",
    "\n",
    "set_aspect_equal_3d(ax)\n",
    "plt.show()"
   ]
  },
  {
   "cell_type": "code",
   "execution_count": 42,
   "metadata": {},
   "outputs": [
    {
     "data": {
      "text/plain": [
       "[[tensor([-0.5206])],\n",
       " [tensor([-0.3787])],\n",
       " [tensor([-0.2962])],\n",
       " [tensor([-0.2514])],\n",
       " [tensor([-0.2247])]]"
      ]
     },
     "execution_count": 42,
     "metadata": {},
     "output_type": "execute_result"
    }
   ],
   "source": [
    "intermediate_controls"
   ]
  },
  {
   "cell_type": "code",
   "execution_count": 70,
   "metadata": {},
   "outputs": [],
   "source": [
    "pts_r = pts_relaunch.view(-1,3).detach()"
   ]
  },
  {
   "cell_type": "code",
   "execution_count": 71,
   "metadata": {},
   "outputs": [],
   "source": [
    "%matplotlib qt5\n",
    "ax = plt.subplot()\n",
    "nmin = 3*nnr + 2*nng\n",
    "nmax = 3*nnr+3*nng\n",
    "plt.plot(pts_r[nmin:nmax, 0].detach().numpy(), pts_r[nmin:nmax, 1].detach().numpy(), '.')\n",
    "dm.Utilities.plot_C_ellipse(ax, pts_r[nmin:nmax,:2], C_r[nmin:nmax,:2,:], R=R[nmin:nmax, :2, :2], c_index=0, alpha=0.1, scale=1, color='r')\n",
    "plt.axis('equal')\n",
    "plt.show()"
   ]
  },
  {
   "cell_type": "code",
   "execution_count": null,
   "metadata": {},
   "outputs": [],
   "source": []
  },
  {
   "cell_type": "code",
   "execution_count": 73,
   "metadata": {},
   "outputs": [],
   "source": [
    "fig = plt.figure()\n",
    "ax = fig.add_subplot(111, projection='3d')\n",
    "ax.scatter(pts_relaunch.view(-1,3)[:, 0].detach().numpy(), pts_relaunch.view(-1,3)[:, 1].detach().numpy(), pts_relaunch.view(-1,3)[:, 2].detach().numpy(), marker='o', color='b')\n",
    "#ax.scatter(pts[:, 0].numpy(), pts[:, 1].numpy(), pts[:, 2].numpy(), marker='x', color='r')\n",
    "plt.plot(pts_r[N0:N0 + Nangle, 0].numpy(), pts_r[N0:N0 + Nangle, 1].numpy(), pts_r[N0:N0 + Nangle, 2].numpy(), 'b')\n",
    "plt.plot(pts_r[N1:N1 + Nangle, 0].numpy(), pts_r[N1:N1 + Nangle, 1].numpy(), pts_r[N1:N1 + Nangle, 2].numpy(), 'b')\n",
    "plt.plot(pts_r[N2:N2 + Nangle, 0].numpy(), pts_r[N2:N2 + Nangle, 1].numpy(), pts_r[N2:N2 + Nangle, 2].numpy(), 'b')\n",
    "\n",
    "set_aspect_equal_3d(ax)\n",
    "plt.show()"
   ]
  },
  {
   "cell_type": "code",
   "execution_count": null,
   "metadata": {},
   "outputs": [],
   "source": [
    "N00 = 0\n",
    "for i in range(3 * (N_layerrigid)):\n",
    "    plt.plot(pts[N00:N00 + Nangle, 0].numpy(), pts[N00:N00 + Nangle, 1].numpy(), pts[N00:N00 + Nangle, 2].numpy(), 'k')\n",
    "    N00 += Nangle\n",
    "#N00 = 3 * N_layerrigid\n",
    "for i in range(3 * (N_layergrowth)):\n",
    "    plt.plot(pts[N00:N00 + Nangle, 0].numpy(), pts[N00:N00 + Nangle, 1].numpy(), pts[N00:N00 + Nangle, 2].numpy(), 'k')\n",
    "    N00 += Nangle\n",
    "N00 = 0\n",
    "#for i in range(Nangle):\n",
    "#    plt.plot(pts[N00:N0:Nangle+1, 0].numpy(), pts[N00:N0:Nangle+1, 1].numpy(), pts[N00:N0:Nangle+1, 2].numpy(), 'b')\n",
    "#    N00 += N_layerrigid\n",
    "\n",
    "N00 = 0\n",
    "for j in range(3):\n",
    "    N00 = j * Nb_ptslayerrigid\n",
    "    for i in range(Nangle):\n",
    "        plt.plot(pts[N00:N00 + Nb_ptslayerrigid:Nangle, 0].numpy(), pts[N00:N00 +Nb_ptslayerrigid:Nangle, 1].numpy(), pts[N00:N00 + Nb_ptslayerrigid:Nangle, 2].numpy(), 'k')\n",
    "        N00 += 1\n",
    "        \n",
    "        \n",
    "N00 = 0\n",
    "for j in range(3):\n",
    "    N00 = Nr + j * Nb_ptslayergrowth\n",
    "    for i in range(Nangle):\n",
    "        plt.plot(pts[N00:N00 + Nb_ptslayergrowth:Nangle, 0].numpy(), pts[N00:N00 +Nb_ptslayergrowth:Nangle, 1].numpy(), pts[N00:N00 + Nb_ptslayergrowth:Nangle, 2].numpy(), 'k')\n",
    "        N00 += 1\n",
    "\n",
    "N00 = Nr\n",
    "for i in range(int(pts.shape[0]/3)):\n",
    "        plt.plot(pts[N00::Nangle, 0].numpy(), pts[N00::Nangle, 1].numpy(), pts[N00::Nangle, 2].numpy(), 'k')\n",
    "        N00 +=1"
   ]
  },
  {
   "cell_type": "code",
   "execution_count": 24,
   "metadata": {},
   "outputs": [],
   "source": [
    "def save3Dplot(t, elev, azim, name):\n",
    "\n",
    "    #pts = implicit1.manifold.gd[0].view(-1, dim).detach()\n",
    "    #t= 0\n",
    "    Nr = 3 * Nb_ptslayerrigid \n",
    "    #pts = intermediate_states[t].gd[0][0].view(-1, dim).detach()\n",
    "    #%matplotlib qt5\n",
    "    fig = plt.figure()\n",
    "    ax = fig.add_subplot(111, projection='3d')\n",
    "    #ax.scatter(pts_implicit1[:, 0].numpy(), pts_implicit1[:, 1].numpy(), pts_implicit1[:, 2].numpy(), marker='.', color='b')\n",
    "    #ax.scatter(pts[:, 0].numpy(), pts[:, 1].numpy(), pts[:, 2].numpy(), marker='x', color='r')\n",
    "\n",
    "    #t= 8\n",
    "    Nr = 3 * Nb_ptslayerrigid \n",
    "    pts = intermediate_states[t].gd[0][0].view(-1, dim).detach()\n",
    "    #%matplotlib qt5\n",
    "    #fig = plt.figure()\n",
    "    #ax = fig.add_subplot(111, projection='3d')\n",
    "    #ax.scatter(pts_implicit1[:, 0].numpy(), pts_implicit1[:, 1].numpy(), pts_implicit1[:, 2].numpy(), marker='.', color='b')\n",
    "    #ax.scatter(pts[:, 0].numpy(), pts[:, 1].numpy(), pts[:, 2].numpy(), marker='x', color='r')\n",
    "    N00 = 0\n",
    "    for i in range(3 * (N_layerrigid)):\n",
    "        plt.plot(pts[N00:N00 + Nangle, 0].numpy(), pts[N00:N00 + Nangle, 1].numpy(), pts[N00:N00 + Nangle, 2].numpy(), '-b')\n",
    "        N00 += Nangle\n",
    "    #N00 = 3 * N_layerrigid\n",
    "    for i in range(3 * (N_layergrowth)):\n",
    "        plt.plot(pts[N00:N00 + Nangle, 0].numpy(), pts[N00:N00 + Nangle, 1].numpy(), pts[N00:N00 + Nangle, 2].numpy(), '-r')\n",
    "        N00 += Nangle\n",
    "    N00 = 0\n",
    "    #for i in range(Nangle):\n",
    "    #    plt.plot(pts[N00:N0:Nangle+1, 0].numpy(), pts[N00:N0:Nangle+1, 1].numpy(), pts[N00:N0:Nangle+1, 2].numpy(), 'b')\n",
    "    #    N00 += N_layerrigid\n",
    "\n",
    "    N00 = 0\n",
    "    for j in range(3):\n",
    "        N00 = j * Nb_ptslayerrigid\n",
    "        for i in range(Nangle):\n",
    "            plt.plot(pts[N00:N00 + Nb_ptslayerrigid:Nangle, 0].numpy(), pts[N00:N00 +Nb_ptslayerrigid:Nangle, 1].numpy(), pts[N00:N00 + Nb_ptslayerrigid:Nangle, 2].numpy(), '-b')\n",
    "            N00 += 1\n",
    "\n",
    "\n",
    "    N00 = 0\n",
    "    for j in range(3):\n",
    "        N00 = Nr + j * Nb_ptslayergrowth\n",
    "        for i in range(Nangle):\n",
    "            plt.plot(pts[N00:N00 + Nb_ptslayergrowth:Nangle, 0].numpy(), pts[N00:N00 +Nb_ptslayergrowth:Nangle, 1].numpy(), pts[N00:N00 + Nb_ptslayergrowth:Nangle, 2].numpy(), '-r')\n",
    "            N00 += 1\n",
    "\n",
    "\n",
    "    N00 = Nr + Nangle\n",
    "    for i in range(int(pts.shape[0]/3)):\n",
    "            plt.plot(pts[N00::2*Nangle, 0].numpy(), pts[N00::2*Nangle, 1].numpy(), pts[N00::2*Nangle, 2].numpy(), 'r')\n",
    "            N00 +=1\n",
    "\n",
    "\n",
    "\n",
    "    set_aspect_equal_3d(ax)\n",
    "    #ax.view_init(elev=20., azim=50)\n",
    "    #ax.view_init(elev=40., azim=50)\n",
    "    #ax.view_init(elev=40., azim=20)\n",
    "    ax.view_init(elev=elev, azim=azim)\n",
    "    plt.show()\n",
    "    plt.savefig(name, format='pdf', bbox_inches = 'tight')\n",
    "    plt.close('all')"
   ]
  },
  {
   "cell_type": "code",
   "execution_count": 25,
   "metadata": {},
   "outputs": [],
   "source": [
    "t=0\n",
    "elevlist = [0., 20., 40.]\n",
    "azimlist = [0., 20, 50.]\n",
    "for elev in elevlist:\n",
    "    for azim in azimlist:\n",
    "        for t in range(9):\n",
    "            name = \"../../Results/ImplicitModules/3D/DiskFolding/shoot4_8_t__\" + str(t) + '_elev_' + str(int(elev)) + '_azim' + str(int(azim)) + '.pdf'\n",
    "            save3Dplot(t, elev, azim, name)"
   ]
  },
  {
   "cell_type": "code",
   "execution_count": 25,
   "metadata": {},
   "outputs": [],
   "source": [
    "%matplotlib qt5\n",
    "name = \"../../Results/ImplicitModules/3D/DiskFolding/shoot4_8__Ctop.pdf\"\n",
    "#fig=plt.figure()\n",
    "ax = plt.subplot()\n",
    "plt.plot(pts_implicit1[:, 0].numpy(), pts_implicit1[:, 1].numpy(), '.')\n",
    "Nr = 3 * Nb_ptslayerrigid\n",
    "N0 = 3 * Nb_ptslayerrigid + 2 * Nangle\n",
    "N1 = 3 * Nb_ptslayerrigid + 4 *Nangle\n",
    "dm.Utilities.plot_C_ellipse(ax, pts_implicit1[:Nr,:2], C[:Nr,:2,:], R=R[:Nr, :2, :2], c_index=0, alpha=0.1, scale=1, color='r')\n",
    "dm.Utilities.plot_C_ellipse(ax, pts_implicit1[Nr : Nr + 2*Nangle,:2], C[Nr : Nr + 2*Nangle,:2,:], R=R[Nr : Nr + 2*Nangle, :2, :2], c_index=0, scale=0.5, color='r')\n",
    "#dm.Utilities.plot_C_ellipse(ax, pts_implicit1[N0 : N1, :2], C[N0 : N1,:2,:], R=R[N0 : N1, :2, :2], c_index=0, scale=0.5, color='r')\n",
    "#dm.Utilities.plot_C_ellipse(ax, pts_implicit1[N1:,:2], C[N1:,:2,:], R=R[N1:, :2, :2], c_index=0, scale=0.5, color='r')\n",
    "plt.axis('equal')\n",
    "ax.set_title('Top layer')\n",
    "plt.show()\n",
    "#plt.savefig(name, format='pdf', bbox_inches = 'tight')\n",
    "#plt.close('all')"
   ]
  },
  {
   "cell_type": "code",
   "execution_count": 26,
   "metadata": {
    "scrolled": true
   },
   "outputs": [
    {
     "data": {
      "text/plain": [
       "9"
      ]
     },
     "execution_count": 26,
     "metadata": {},
     "output_type": "execute_result"
    }
   ],
   "source": [
    "len(intermediate_states)"
   ]
  },
  {
   "cell_type": "code",
   "execution_count": 55,
   "metadata": {},
   "outputs": [
    {
     "data": {
      "text/plain": [
       "120"
      ]
     },
     "execution_count": 55,
     "metadata": {},
     "output_type": "execute_result"
    }
   ],
   "source": [
    "Nangle * N_layerrigid"
   ]
  },
  {
   "cell_type": "code",
   "execution_count": 56,
   "metadata": {},
   "outputs": [
    {
     "data": {
      "text/plain": [
       "120"
      ]
     },
     "execution_count": 56,
     "metadata": {},
     "output_type": "execute_result"
    }
   ],
   "source": [
    "Nb_ptslayerrigid"
   ]
  },
  {
   "cell_type": "code",
   "execution_count": 26,
   "metadata": {
    "scrolled": true
   },
   "outputs": [
    {
     "data": {
      "text/plain": [
       "720"
      ]
     },
     "execution_count": 26,
     "metadata": {},
     "output_type": "execute_result"
    }
   ],
   "source": [
    "pts.shape[0]"
   ]
  }
 ],
 "metadata": {
  "kernelspec": {
   "display_name": "Python 3",
   "language": "python",
   "name": "python3"
  },
  "language_info": {
   "codemirror_mode": {
    "name": "ipython",
    "version": 3
   },
   "file_extension": ".py",
   "mimetype": "text/x-python",
   "name": "python",
   "nbconvert_exporter": "python",
   "pygments_lexer": "ipython3",
   "version": "3.5.2"
  }
 },
 "nbformat": 4,
 "nbformat_minor": 2
}
