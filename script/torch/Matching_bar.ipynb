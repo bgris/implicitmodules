{
 "cells": [
  {
   "cell_type": "code",
   "execution_count": null,
   "metadata": {
    "collapsed": false
   },
   "outputs": [],
   "source": [
    "%load_ext autoreload\n",
    "%autoreload 2\n",
    "\n",
    "import sys\n",
    "sys.path.append(\"../../\")\n",
    "\n",
    "import math\n",
    "import scipy\n",
    "import torch\n",
    "import matplotlib.pyplot as plt\n",
    "\n",
    "import implicitmodules.torch as dm"
   ]
  },
  {
   "cell_type": "code",
   "execution_count": null,
   "metadata": {
    "collapsed": false
   },
   "outputs": [],
   "source": [
    "source_image = dm.Utilities.load_greyscale_image(\"../../data/images/bar_a.png\", origin='lower')\n",
    "target_image = dm.Utilities.load_greyscale_image(\"../../data/images/bar_b.png\", origin='lower')\n",
    "\n",
    "%matplotlib qt5\n",
    "plt.subplot(1, 2, 1)\n",
    "plt.title(\"Source image\")\n",
    "plt.imshow(source_image, origin='lower')\n",
    "\n",
    "plt.subplot(1, 2, 2)\n",
    "plt.title(\"Target image\")\n",
    "plt.imshow(target_image, origin='lower')\n",
    "\n",
    "plt.show()"
   ]
  },
  {
   "cell_type": "code",
   "execution_count": null,
   "metadata": {
    "collapsed": false
   },
   "outputs": [],
   "source": [
    "pos, im0 = dm.Utilities.sample_from_greyscale(source_image, 0., centered=False, normalise_weights=False, normalise_position=False)\n",
    "im1 = dm.Utilities.deformed_intensities(pos-0.5, im0.view_as(source_image))\n",
    "\n",
    "plt.subplot(1, 2, 1)\n",
    "plt.imshow(im0.view_as(source_image), origin='lower')\n",
    "\n",
    "plt.subplot(1, 2, 2)\n",
    "plt.imshow(im1, origin='lower')\n",
    "\n",
    "plt.show()"
   ]
  },
  {
   "cell_type": "code",
   "execution_count": null,
   "metadata": {
    "collapsed": false
   },
   "outputs": [],
   "source": [
    "sig_smooth = 15\n",
    "im0 = torch.tensor(scipy.ndimage.gaussian_filter(source_image, sig_smooth))\n",
    "im1 = torch.tensor(scipy.ndimage.gaussian_filter(target_image, sig_smooth))"
   ]
  },
  {
   "cell_type": "code",
   "execution_count": null,
   "metadata": {
    "collapsed": false
   },
   "outputs": [],
   "source": [
    "center = torch.tensor([[55., 85.]])"
   ]
  },
  {
   "cell_type": "code",
   "execution_count": null,
   "metadata": {
    "collapsed": false
   },
   "outputs": [],
   "source": [
    "%matplotlib qt5\n",
    "\n",
    "plt.subplot(1, 2, 1)\n",
    "plt.title(\"Source image\")\n",
    "plt.imshow(im0, origin='lower')\n",
    "plt.plot(center[0, 0].numpy(), center[0, 1].numpy(), 'x')\n",
    "\n",
    "plt.subplot(1, 2, 2)\n",
    "plt.title(\"Target image\")\n",
    "plt.imshow(im1, origin='lower')\n",
    "\n",
    "plt.show()"
   ]
  },
  {
   "cell_type": "code",
   "execution_count": null,
   "metadata": {
    "collapsed": false
   },
   "outputs": [],
   "source": [
    "translation = dm.DeformationModules.ImplicitModule0(2, 1, 200., nu=0.1, gd=center.clone().requires_grad_())"
   ]
  },
  {
   "cell_type": "code",
   "execution_count": null,
   "metadata": {
    "collapsed": false
   },
   "outputs": [],
   "source": [
    "model = dm.Models.ModelImageRegistration(im0, [translation], dm.Attachment.EuclideanPointwiseDistanceAttachment(), fit_gd=[False], lam=100.)"
   ]
  },
  {
   "cell_type": "code",
   "execution_count": null,
   "metadata": {
    "collapsed": false
   },
   "outputs": [],
   "source": [
    "shoot_solver='rk4'\n",
    "shoot_it = 10\n",
    "\n",
    "costs = {}\n",
    "fitter = dm.Models.Fitter(model, optimizer='torch_lbfgs')"
   ]
  },
  {
   "cell_type": "code",
   "execution_count": null,
   "metadata": {
    "collapsed": false,
    "scrolled": true
   },
   "outputs": [],
   "source": [
    "fitter.fit(im1.clone(), 100, costs=costs, options={'shoot_it': shoot_it, 'line_search_fn': 'strong_wolfe'})"
   ]
  },
  {
   "cell_type": "code",
   "execution_count": null,
   "metadata": {
    "collapsed": false
   },
   "outputs": [],
   "source": [
    "intermediates = {}\n",
    "with torch.autograd.no_grad():\n",
    "    deformed_image = model.compute_deformed(shoot_solver, shoot_it, intermediates=intermediates)\n",
    "\n",
    "translation_center = model.init_manifold[1].gd.detach().flatten().tolist()\n",
    "translation_moment = model.init_manifold[1].cotan.detach().flatten().tolist()\n",
    "translation_center_end = intermediates['states'][-1][1].gd.flatten().tolist()\n",
    "\n",
    "print(translation_center)\n",
    "print(translation_center_end)\n",
    "print(translation_moment)"
   ]
  },
  {
   "cell_type": "code",
   "execution_count": null,
   "metadata": {
    "collapsed": false
   },
   "outputs": [],
   "source": [
    "%matplotlib qt5\n",
    "plt.subplot(1, 3, 1)\n",
    "plt.title(\"Source image\")\n",
    "plt.imshow(source_image, origin='lower')\n",
    "plt.plot(center.flatten().tolist()[0], center.flatten().tolist()[1], 'X')\n",
    "\n",
    "plt.subplot(1, 3, 2)\n",
    "plt.title(\"Fitted image\")\n",
    "plt.imshow(deformed_image, origin='lower')\n",
    "plt.plot(translation_center[0], translation_center[1], 'X')\n",
    "plt.plot(translation_center_end[0], translation_center_end[1], 'X')\n",
    "plt.quiver(translation_center[0], translation_center[1],\n",
    "           translation_moment[0], translation_moment[1])\n",
    "\n",
    "plt.subplot(1, 3, 3)\n",
    "plt.title(\"target image\")\n",
    "plt.imshow(target_image, origin='lower')\n",
    "\n",
    "plt.show()"
   ]
  },
  {
   "cell_type": "code",
   "execution_count": null,
   "metadata": {
    "collapsed": false
   },
   "outputs": [],
   "source": []
  }
 ],
 "metadata": {
  "kernelspec": {
   "argv": [
    "python",
    "-m",
    "ipykernel_launcher",
    "-f",
    "{connection_file}"
   ],
   "display_name": "Python 3",
   "env": null,
   "interrupt_mode": "signal",
   "language": "python",
   "metadata": null,
   "name": "python3"
  },
  "language_info": {
   "codemirror_mode": {
    "name": "ipython",
    "version": 3
   },
   "file_extension": ".py",
   "mimetype": "text/x-python",
   "name": "python",
   "nbconvert_exporter": "python",
   "pygments_lexer": "ipython3",
   "version": "3.6.9"
  },
  "name": "Matching_bar.ipynb"
 },
 "nbformat": 4,
 "nbformat_minor": 2
}
