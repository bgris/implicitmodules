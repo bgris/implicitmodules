{
 "cells": [
  {
   "cell_type": "code",
   "execution_count": 1,
   "metadata": {},
   "outputs": [],
   "source": [
    "%load_ext autoreload\n",
    "%autoreload 2\n",
    "\n",
    "import sys\n",
    "sys.path.append(\"../../\")\n",
    "\n",
    "import math\n",
    "import scipy\n",
    "import torch\n",
    "import matplotlib.pyplot as plt\n",
    "\n",
    "import implicitmodules.torch as dm"
   ]
  },
  {
   "cell_type": "code",
   "execution_count": 2,
   "metadata": {},
   "outputs": [],
   "source": [
    "source_image = dm.Utilities.load_greyscale_image(\"../../data/images/bar_a.png\", origin='lower')\n",
    "target_image = dm.Utilities.load_greyscale_image(\"../../data/images/bar_b.png\", origin='lower')"
   ]
  },
  {
   "cell_type": "code",
   "execution_count": 3,
   "metadata": {},
   "outputs": [
    {
     "data": {
      "image/png": "[encoded data removed]",
      "text/plain": [
       "<Figure size 432x288 with 2 Axes>"
      ]
     },
     "metadata": {},
     "output_type": "display_data"
    }
   ],
   "source": [
    "#%matplotlib qt5\n",
    "plt.subplot(1, 2, 1)\n",
    "plt.title(\"Source image\")\n",
    "plt.imshow(source_image, origin='lower')\n",
    "\n",
    "plt.subplot(1, 2, 2)\n",
    "plt.title(\"Target image\")\n",
    "plt.imshow(target_image, origin='lower')\n",
    "\n",
    "plt.show()"
   ]
  },
  {
   "cell_type": "code",
   "execution_count": 4,
   "metadata": {},
   "outputs": [],
   "source": [
    "sig_smooth = 15\n",
    "im0 = torch.tensor(scipy.ndimage.gaussian_filter(source_image, sig_smooth))\n",
    "im1 = torch.tensor(scipy.ndimage.gaussian_filter(target_image, sig_smooth))"
   ]
  },
  {
   "cell_type": "code",
   "execution_count": 5,
   "metadata": {},
   "outputs": [],
   "source": [
    "center = torch.tensor([[100., 100.]])"
   ]
  },
  {
   "cell_type": "code",
   "execution_count": 6,
   "metadata": {},
   "outputs": [
    {
     "data": {
      "image/png": "[encoded data removed]",
      "text/plain": [
       "<Figure size 432x288 with 2 Axes>"
      ]
     },
     "metadata": {},
     "output_type": "display_data"
    }
   ],
   "source": [
    "#%matplotlib qt5\n",
    "\n",
    "plt.subplot(1, 2, 1)\n",
    "plt.title(\"Source image\")\n",
    "plt.imshow(im0, origin='lower')\n",
    "plt.plot(center[0, 0].numpy(), center[0, 1].numpy(), 'x')\n",
    "\n",
    "plt.subplot(1, 2, 2)\n",
    "plt.title(\"Target image\")\n",
    "plt.imshow(im1, origin='lower')\n",
    "\n",
    "plt.show()"
   ]
  },
  {
   "cell_type": "code",
   "execution_count": 7,
   "metadata": {},
   "outputs": [],
   "source": [
    "translation = dm.DeformationModules.ImplicitModule0(2, 1, 200., nu=0.1, gd=center.clone().requires_grad_())"
   ]
  },
  {
   "cell_type": "code",
   "execution_count": 8,
   "metadata": {},
   "outputs": [],
   "source": [
    "source = dm.Models.DeformableImage(im0.t())\n",
    "target = dm.Models.DeformableImage(im1.t())"
   ]
  },
  {
   "cell_type": "code",
   "execution_count": 9,
   "metadata": {},
   "outputs": [
    {
     "name": "stdout",
     "output_type": "stream",
     "text": [
      "tensor([[100., 100.]], requires_grad=True)\n"
     ]
    }
   ],
   "source": [
    "model = dm.Models.RegistrationModel(source, [translation], dm.Attachment.EuclideanPointwiseDistanceAttachment(), fit_gd=[True], lam=100.)"
   ]
  },
  {
   "cell_type": "code",
   "execution_count": 10,
   "metadata": {},
   "outputs": [],
   "source": [
    "shoot_solver='rk4'\n",
    "shoot_it = 10\n",
    "\n",
    "costs = {}\n",
    "fitter = dm.Models.Fitter(model, optimizer='torch_lbfgs')"
   ]
  },
  {
   "cell_type": "code",
   "execution_count": 11,
   "metadata": {
    "scrolled": true
   },
   "outputs": [
    {
     "name": "stdout",
     "output_type": "stream",
     "text": [
      "Starting optimization with method torch LBFGS\n",
      "Initial cost={'deformation': 0.0, 'attach': 35674.7265625}\n",
      "================================================================================\n",
      "Time: 14.967525104999368\n",
      "Iteration: 0\n",
      "Costs\n",
      "deformation=5356.970703125\n",
      "attach=9259.0615234375\n",
      "Total cost=14616.0322265625\n",
      "================================================================================\n",
      "Time: 22.496501595000154\n",
      "Iteration: 1\n",
      "Costs\n",
      "deformation=5356.978515625\n",
      "attach=9259.052734375\n",
      "Total cost=14616.03125\n",
      "================================================================================\n",
      "Time: 26.008057961000304\n",
      "Iteration: 2\n",
      "Costs\n",
      "deformation=5356.978515625\n",
      "attach=9259.052734375\n",
      "Total cost=14616.03125\n",
      "================================================================================\n",
      "Optimisation process exited with message: Convergence achieved.\n",
      "Final cost=14616.03125\n",
      "Model evaluation count=44\n",
      "Time elapsed = 26.008286996002425\n"
     ]
    }
   ],
   "source": [
    "fitter.fit(target, 100, costs=costs, options={'shoot_it': shoot_it, 'line_search_fn': 'strong_wolfe'})"
   ]
  },
  {
   "cell_type": "code",
   "execution_count": 12,
   "metadata": {},
   "outputs": [
    {
     "name": "stdout",
     "output_type": "stream",
     "text": [
      "[99.9999771118164, 99.99989318847656]\n",
      "[194.35496520996094, 128.87196350097656]\n",
      "[0.0030486953910440207, 0.0009328208980150521]\n"
     ]
    }
   ],
   "source": [
    "intermediates = {}\n",
    "with torch.autograd.no_grad():\n",
    "    deformed_image = model.compute_deformed(shoot_solver, shoot_it, intermediates=intermediates)[0].t()\n",
    "\n",
    "translation_center = model.init_manifold[1].gd.detach().flatten().tolist()\n",
    "translation_moment = model.init_manifold[1].cotan.detach().flatten().tolist()\n",
    "translation_center_end = intermediates['states'][-1][1].gd.flatten().tolist()\n",
    "\n",
    "print(translation_center)\n",
    "print(translation_center_end)\n",
    "print(translation_moment)"
   ]
  },
  {
   "cell_type": "code",
   "execution_count": 17,
   "metadata": {},
   "outputs": [
    {
     "data": {
      "image/png": "[encoded data removed]",
      "text/plain": [
       "<Figure size 432x288 with 3 Axes>"
      ]
     },
     "metadata": {},
     "output_type": "display_data"
    }
   ],
   "source": [
    "#%matplotlib qt5\n",
    "plt.subplot(1, 3, 1)\n",
    "plt.title(\"Source image\")\n",
    "plt.imshow(im0, origin='lower')\n",
    "plt.plot(center.flatten().tolist()[0], center.flatten().tolist()[1], 'X')\n",
    "plt.quiver(translation_center[0], translation_center[1],\n",
    "           translation_moment[0], translation_moment[1])\n",
    "\n",
    "plt.subplot(1, 3, 2)\n",
    "plt.title(\"Fitted image\")\n",
    "plt.imshow(deformed_image, origin='lower')\n",
    "#plt.plot(translation_center[0], translation_center[1], 'X')\n",
    "plt.plot(translation_center_end[0], translation_center_end[1], 'X')\n",
    "\n",
    "plt.subplot(1, 3, 3)\n",
    "plt.title(\"target image\")\n",
    "plt.imshow(im1, origin='lower')\n",
    "\n",
    "plt.show()"
   ]
  },
  {
   "cell_type": "code",
   "execution_count": null,
   "metadata": {},
   "outputs": [],
   "source": []
  }
 ],
 "metadata": {
  "kernelspec": {
   "display_name": "Python 3",
   "language": "python",
   "name": "python3"
  },
  "language_info": {
   "codemirror_mode": {
    "name": "ipython",
    "version": 3
   },
   "file_extension": ".py",
   "mimetype": "text/x-python",
   "name": "python",
   "nbconvert_exporter": "python",
   "pygments_lexer": "ipython3",
   "version": "3.6.9"
  },
  "name": "Matching_bar.ipynb"
 },
 "nbformat": 4,
 "nbformat_minor": 2
}
