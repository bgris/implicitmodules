{
 "cells": [
  {
   "cell_type": "code",
   "execution_count": 92,
   "metadata": {},
   "outputs": [],
   "source": [
    "\n",
    "import sys\n",
    "sys.path.append(\"../../\")\n",
    "\n",
    "import math\n",
    "import scipy\n",
    "import torch\n",
    "import matplotlib.pyplot as plt\n",
    "import numpy as np\n",
    "import implicitmodules.torch as dm"
   ]
  },
  {
   "cell_type": "code",
   "execution_count": 48,
   "metadata": {},
   "outputs": [
    {
     "data": {
      "image/png": "[encoded data removed]",
      "text/plain": [
       "<Figure size 432x288 with 2 Axes>"
      ]
     },
     "metadata": {},
     "output_type": "display_data"
    }
   ],
   "source": [
    "\n",
    "source_image = dm.Utilities.load_greyscale_image(\"../../data/images/cross_+.png\")\n",
    "target_image = dm.Utilities.load_greyscale_image(\"../../data/images/cross_x.png\")\n",
    "source_image = dm.Utilities.load_greyscale_image(\"../../data/images/bar_a.png\")\n",
    "target_image = dm.Utilities.load_greyscale_image(\"../../data/images/bar_b.png\")\n",
    "\n",
    "plt.subplot(1, 2, 1)\n",
    "plt.title(\"Source image\")\n",
    "plt.imshow(source_image)\n",
    "\n",
    "plt.subplot(1, 2, 2)\n",
    "plt.title(\"Target image\")\n",
    "plt.imshow(target_image)\n",
    "\n",
    "plt.show()"
   ]
  },
  {
   "cell_type": "code",
   "execution_count": 70,
   "metadata": {},
   "outputs": [],
   "source": [
    "sig_smooth = 5\n",
    "im0 = torch.tensor(scipy.ndimage.gaussian_filter(source_image, sig_smooth))\n",
    "im1 = torch.tensor(scipy.ndimage.gaussian_filter(target_image, sig_smooth))"
   ]
  },
  {
   "cell_type": "code",
   "execution_count": 71,
   "metadata": {},
   "outputs": [
    {
     "data": {
      "image/png": "[encoded data removed]",
      "text/plain": [
       "<Figure size 432x288 with 2 Axes>"
      ]
     },
     "metadata": {},
     "output_type": "display_data"
    }
   ],
   "source": [
    "\n",
    "plt.subplot(1, 2, 1)\n",
    "plt.title(\"Source image\")\n",
    "plt.imshow(im0)\n",
    "\n",
    "plt.subplot(1, 2, 2)\n",
    "plt.title(\"Target image\")\n",
    "plt.imshow(im1)\n",
    "\n",
    "plt.show()"
   ]
  },
  {
   "cell_type": "code",
   "execution_count": 74,
   "metadata": {},
   "outputs": [],
   "source": [
    "\n",
    "center = torch.tensor([[10., 13.]])\n",
    "\n",
    "rotation = dm.DeformationModules.LocalRotation(2, 35., gd=center.clone().requires_grad_())\n",
    "translation = dm.DeformationModules.ImplicitModule0(2, 1, 300, nu=0.1, gd=center.clone().requires_grad_())\n"
   ]
  },
  {
   "cell_type": "code",
   "execution_count": 75,
   "metadata": {},
   "outputs": [],
   "source": [
    "model = dm.Models.ModelImageRegistration(im0, [translation], dm.Attachment.EuclideanPointwiseDistanceAttachment(), fit_gd=[True], lam=100.)"
   ]
  },
  {
   "cell_type": "code",
   "execution_count": 76,
   "metadata": {},
   "outputs": [],
   "source": [
    "\n",
    "shoot_solver='rk4'\n",
    "shoot_it = 10\n",
    "\n",
    "costs = {}\n",
    "fitter = dm.Models.Fitter(model, optimizer='scipy_l-bfgs-b')"
   ]
  },
  {
   "cell_type": "code",
   "execution_count": 77,
   "metadata": {
    "scrolled": true
   },
   "outputs": [
    {
     "name": "stdout",
     "output_type": "stream",
     "text": [
      "Starting optimization with method Scipy L-BFGS-B\n",
      "Initial cost={'deformation': 0.0, 'attach': 29083.388671875, 'total': 29083.388671875}\n"
     ]
    },
    {
     "name": "stderr",
     "output_type": "stream",
     "text": [
      "../../implicitmodules/torch/Models/optimizer_scipy.py:43: OptimizeWarning: Unknown solver options: line_search_fn\n",
      "  scipy_res = minimize(self.__evaluate(target, shoot_solver, shoot_it), x0, method=self.__scipy_method, jac=self.__need_grad, tol=tol, callback=_post_iteration_callback, options=options)\n"
     ]
    },
    {
     "name": "stdout",
     "output_type": "stream",
     "text": [
      "================================================================================\n",
      "Time: 3.5823798699857434\n",
      "Iteration: 0\n",
      "Costs\n",
      "deformation=499.41058349609375\n",
      "attach=20197.232421875\n",
      "total=20696.642578125\n",
      "================================================================================\n",
      "Time: 4.450171997988946\n",
      "Iteration: 1\n",
      "Costs\n",
      "deformation=468.2892150878906\n",
      "attach=20170.060546875\n",
      "total=20638.349609375\n",
      "================================================================================\n",
      "Time: 5.757375970992143\n",
      "Iteration: 2\n",
      "Costs\n",
      "deformation=2182.4970703125\n",
      "attach=14471.8173828125\n",
      "total=16654.314453125\n",
      "================================================================================\n",
      "Time: 8.09970469099062\n",
      "Iteration: 3\n",
      "Costs\n",
      "deformation=4738.69287109375\n",
      "attach=9886.8583984375\n",
      "total=14625.55078125\n",
      "================================================================================\n",
      "Time: 8.971159597989754\n",
      "Iteration: 4\n",
      "Costs\n",
      "deformation=5258.0361328125\n",
      "attach=8872.990234375\n",
      "total=14131.0263671875\n",
      "================================================================================\n",
      "Time: 10.235794226988219\n",
      "Iteration: 5\n",
      "Costs\n",
      "deformation=5463.70458984375\n",
      "attach=4782.39990234375\n",
      "total=10246.1044921875\n",
      "================================================================================\n",
      "Time: 11.17314272999647\n",
      "Iteration: 6\n",
      "Costs\n",
      "deformation=5282.25390625\n",
      "attach=4733.27490234375\n",
      "total=10015.529296875\n",
      "================================================================================\n",
      "Time: 12.259801025997149\n",
      "Iteration: 7\n",
      "Costs\n",
      "deformation=5199.912109375\n",
      "attach=4789.97998046875\n",
      "total=9989.892578125\n",
      "================================================================================\n",
      "Time: 12.695668416999979\n",
      "Iteration: 8\n",
      "Costs\n",
      "deformation=5194.11865234375\n",
      "attach=4795.5556640625\n",
      "total=9989.673828125\n",
      "================================================================================\n",
      "Time: 13.113724361988716\n",
      "Iteration: 9\n",
      "Costs\n",
      "deformation=5193.64404296875\n",
      "attach=4796.0263671875\n",
      "total=9989.669921875\n",
      "================================================================================\n",
      "Time: 18.62006034499791\n",
      "Iteration: 10\n",
      "Costs\n",
      "deformation=5193.64404296875\n",
      "attach=4796.0263671875\n",
      "total=9989.669921875\n",
      "================================================================================\n",
      "Optimisation process exited with message: b'CONVERGENCE: REL_REDUCTION_OF_F_<=_FACTR*EPSMCH'\n",
      "Final cost=9989.669921875\n",
      "Model evaluation count=39\n",
      "Time elapsed = 18.62339246099873\n"
     ]
    }
   ],
   "source": [
    "#fitter.fit(target_image.clone(), 100, costs=costs, options={'shoot_solver': shoot_solver, 'shoot_it': shoot_it, 'line_search_fn': 'strong_wolfe'})\n",
    "fitter.fit(im1.clone(), 100, costs=costs, options={'shoot_it': shoot_it, 'line_search_fn': 'strong_wolfe'})\n"
   ]
  },
  {
   "cell_type": "code",
   "execution_count": 95,
   "metadata": {},
   "outputs": [
    {
     "name": "stdout",
     "output_type": "stream",
     "text": [
      "Fitted rotatation center: [[9.999957084655762, 12.99976634979248]]\n"
     ]
    },
    {
     "data": {
      "image/png": "[encoded data removed]",
      "text/plain": [
       "<Figure size 432x288 with 3 Axes>"
      ]
     },
     "metadata": {},
     "output_type": "display_data"
    }
   ],
   "source": [
    "\n",
    "with torch.autograd.no_grad():\n",
    "    deformed_image = model.compute_deformed(shoot_solver, shoot_it)\n",
    "\n",
    "fitted_center = model.init_manifold[1].gd.detach()\n",
    "depl = fitted_center + 10000 *model.init_manifold[1].cotan.detach()\n",
    "test = np.array([[0, 150]])\n",
    "print(\"Fitted rotatation center: {center}\".format(center=fitted_center.detach().tolist()))\n",
    "\n",
    "plt.subplot(1, 3, 1)\n",
    "plt.title(\"Source image\")\n",
    "plt.imshow(source_image)\n",
    "plt.plot(center.numpy()[0, 0], center.numpy()[0, 1], 'X')\n",
    "\n",
    "plt.subplot(1, 3, 2)\n",
    "plt.title(\"Fitted image\")\n",
    "plt.imshow(deformed_image)\n",
    "plt.plot(fitted_center.numpy()[0, 0], fitted_center.numpy()[0, 1], 'X')\n",
    "plt.plot(depl.numpy()[0, 0], depl.numpy()[0, 1], '+')\n",
    "plt.plot(test[0, 0], test[0, 1], '+')\n",
    "\n",
    "plt.subplot(1, 3, 3)\n",
    "plt.title(\"target image\")\n",
    "plt.imshow(target_image)\n",
    "\n",
    "plt.show()\n",
    "\n"
   ]
  },
  {
   "cell_type": "code",
   "execution_count": 97,
   "metadata": {},
   "outputs": [],
   "source": [
    "\n",
    "\n",
    "from implicitmodules.torch.Models import Model\n",
    "from implicitmodules.torch.Utilities import sample_from_greyscale, deformed_intensities, AABB\n",
    "from implicitmodules.torch.DeformationModules import SilentLandmarks, CompoundModule\n",
    "from implicitmodules.torch.HamiltonianDynamic import shoot, Hamiltonian\n",
    "\n"
   ]
  },
  {
   "cell_type": "code",
   "execution_count": 102,
   "metadata": {},
   "outputs": [
    {
     "data": {
      "text/plain": [
       "[tensor([[  0.5000, 199.5000],\n",
       "         [  1.5000, 199.5000],\n",
       "         [  2.5000, 199.5000],\n",
       "         ...,\n",
       "         [197.5000,   0.5000],\n",
       "         [198.5000,   0.5000],\n",
       "         [199.5000,   0.5000]], requires_grad=True),\n",
       " tensor([[10.0000, 12.9998]], requires_grad=True)]"
      ]
     },
     "execution_count": 102,
     "metadata": {},
     "output_type": "execute_result"
    }
   ],
   "source": [
    "model.init_manifold.gd"
   ]
  },
  {
   "cell_type": "code",
   "execution_count": 100,
   "metadata": {},
   "outputs": [],
   "source": [
    "\n",
    "compound = CompoundModule(model.modules)\n",
    "compound.manifold.fill_gd([manifold.gd for manifold in model.init_manifold])\n",
    "compound.manifold.fill_cotan([manifold.cotan for manifold in model.init_manifold])\n",
    "\n",
    "# # Forward shooting\n",
    "shoot(Hamiltonian(compound), shoot_solver, 10)\n"
   ]
  },
  {
   "cell_type": "code",
   "execution_count": 105,
   "metadata": {},
   "outputs": [
    {
     "data": {
      "text/plain": [
       "[tensor([[ 76.9917, 224.1329],\n",
       "         [ 78.0059, 224.1374],\n",
       "         [ 79.0194, 224.1418],\n",
       "         ...,\n",
       "         [274.6872,  25.3557],\n",
       "         [275.5439,  25.3095],\n",
       "         [276.4001,  25.2632]], grad_fn=<ViewBackward>),\n",
       " tensor([[102.4719,  42.7793]], grad_fn=<ViewBackward>)]"
      ]
     },
     "execution_count": 105,
     "metadata": {},
     "output_type": "execute_result"
    }
   ],
   "source": [
    "compound.manifold.gd"
   ]
  },
  {
   "cell_type": "code",
   "execution_count": 103,
   "metadata": {
    "scrolled": true
   },
   "outputs": [
    {
     "data": {
      "text/plain": [
       "[tensor([[  0.5000, 199.5000],\n",
       "         [  1.5000, 199.5000],\n",
       "         [  2.5000, 199.5000],\n",
       "         ...,\n",
       "         [197.5000,   0.5000],\n",
       "         [198.5000,   0.5000],\n",
       "         [199.5000,   0.5000]], requires_grad=True),\n",
       " tensor([[10.0000, 12.9998]], requires_grad=True)]"
      ]
     },
     "execution_count": 103,
     "metadata": {},
     "output_type": "execute_result"
    }
   ],
   "source": [
    "model.init_manifold.gd"
   ]
  },
  {
   "cell_type": "code",
   "execution_count": 104,
   "metadata": {},
   "outputs": [
    {
     "data": {
      "text/plain": [
       "[tensor([[0.0027, 0.0009],\n",
       "         [0.0027, 0.0009],\n",
       "         [0.0027, 0.0009],\n",
       "         ...,\n",
       "         [0.0026, 0.0008],\n",
       "         [0.0026, 0.0008],\n",
       "         [0.0026, 0.0008]], requires_grad=True),\n",
       " tensor([[0.0032, 0.0011]], requires_grad=True)]"
      ]
     },
     "execution_count": 104,
     "metadata": {},
     "output_type": "execute_result"
    }
   ],
   "source": [
    "model.init_manifold.cotan"
   ]
  },
  {
   "cell_type": "code",
   "execution_count": 83,
   "metadata": {},
   "outputs": [
    {
     "data": {
      "text/plain": [
       "tensor([[0.0032, 0.0011]], requires_grad=True)"
      ]
     },
     "execution_count": 83,
     "metadata": {},
     "output_type": "execute_result"
    }
   ],
   "source": [
    "model.init_manifold[1].cotan"
   ]
  },
  {
   "cell_type": "code",
   "execution_count": 90,
   "metadata": {},
   "outputs": [
    {
     "data": {
      "text/plain": [
       "tensor([[-0.0032, -0.0011]])"
      ]
     },
     "execution_count": 90,
     "metadata": {},
     "output_type": "execute_result"
    }
   ],
   "source": [
    "translation.manifold.cotan"
   ]
  },
  {
   "cell_type": "code",
   "execution_count": 91,
   "metadata": {},
   "outputs": [
    {
     "data": {
      "text/plain": [
       "tensor([[-92.3637, -30.1157]], grad_fn=<DivBackward0>)"
      ]
     },
     "execution_count": 91,
     "metadata": {},
     "output_type": "execute_result"
    }
   ],
   "source": [
    "translation.controls"
   ]
  },
  {
   "cell_type": "code",
   "execution_count": null,
   "metadata": {},
   "outputs": [],
   "source": []
  },
  {
   "cell_type": "code",
   "execution_count": null,
   "metadata": {},
   "outputs": [],
   "source": []
  },
  {
   "cell_type": "code",
   "execution_count": null,
   "metadata": {},
   "outputs": [],
   "source": []
  }
 ],
 "metadata": {
  "kernelspec": {
   "display_name": "Python 3",
   "language": "python",
   "name": "python3"
  },
  "language_info": {
   "codemirror_mode": {
    "name": "ipython",
    "version": 3
   },
   "file_extension": ".py",
   "mimetype": "text/x-python",
   "name": "python",
   "nbconvert_exporter": "python",
   "pygments_lexer": "ipython3",
   "version": "3.6.9"
  }
 },
 "nbformat": 4,
 "nbformat_minor": 2
}
