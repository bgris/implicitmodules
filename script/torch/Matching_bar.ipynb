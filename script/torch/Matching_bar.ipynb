{
 "cells": [
  {
   "cell_type": "code",
   "execution_count": 1,
   "metadata": {},
   "outputs": [],
   "source": [
    "%load_ext autoreload\n",
    "%autoreload 2\n",
    "\n",
    "import sys\n",
    "sys.path.append(\"../../\")\n",
    "\n",
    "import math\n",
    "import scipy\n",
    "import torch\n",
    "import matplotlib.pyplot as plt\n",
    "\n",
    "import implicitmodules.torch as dm"
   ]
  },
  {
   "cell_type": "code",
   "execution_count": 2,
   "metadata": {},
   "outputs": [
    {
     "data": {
      "image/png": "[encoded data removed]",
      "text/plain": [
       "<Figure size 432x288 with 2 Axes>"
      ]
     },
     "metadata": {},
     "output_type": "display_data"
    }
   ],
   "source": [
    "source_image = dm.Utilities.load_greyscale_image(\"../../data/images/bar_a.png\", origin='lower')\n",
    "target_image = dm.Utilities.load_greyscale_image(\"../../data/images/bar_b.png\", origin='lower')\n",
    "\n",
    "#%matplotlib qt5\n",
    "plt.subplot(1, 2, 1)\n",
    "plt.title(\"Source image\")\n",
    "plt.imshow(source_image, origin='lower')\n",
    "\n",
    "plt.subplot(1, 2, 2)\n",
    "plt.title(\"Target image\")\n",
    "plt.imshow(target_image, origin='lower')\n",
    "\n",
    "plt.show()"
   ]
  },
  {
   "cell_type": "code",
   "execution_count": 3,
   "metadata": {},
   "outputs": [
    {
     "data": {
      "image/png": "[encoded data removed]",
      "text/plain": [
       "<Figure size 432x288 with 2 Axes>"
      ]
     },
     "metadata": {},
     "output_type": "display_data"
    }
   ],
   "source": [
    "pos, im0 = dm.Utilities.sample_from_greyscale(source_image, 0., centered=False, normalise_weights=False, normalise_position=False)\n",
    "im1 = dm.Utilities.deformed_intensities(pos-0.5, im0.view_as(source_image))\n",
    "\n",
    "plt.subplot(1, 2, 1)\n",
    "plt.imshow(im0.view_as(source_image), origin='lower')\n",
    "\n",
    "plt.subplot(1, 2, 2)\n",
    "plt.imshow(im1, origin='lower')\n",
    "\n",
    "plt.show()"
   ]
  },
  {
   "cell_type": "code",
   "execution_count": 4,
   "metadata": {},
   "outputs": [],
   "source": [
    "sig_smooth = 15\n",
    "im0 = torch.tensor(scipy.ndimage.gaussian_filter(source_image, sig_smooth))\n",
    "im1 = torch.tensor(scipy.ndimage.gaussian_filter(target_image, sig_smooth))"
   ]
  },
  {
   "cell_type": "code",
   "execution_count": 5,
   "metadata": {},
   "outputs": [],
   "source": [
    "center = torch.tensor([[55., 85.]])"
   ]
  },
  {
   "cell_type": "code",
   "execution_count": 6,
   "metadata": {},
   "outputs": [
    {
     "data": {
      "image/png": "[encoded data removed]",
      "text/plain": [
       "<Figure size 432x288 with 2 Axes>"
      ]
     },
     "metadata": {},
     "output_type": "display_data"
    }
   ],
   "source": [
    "#%matplotlib qt5\n",
    "\n",
    "plt.subplot(1, 2, 1)\n",
    "plt.title(\"Source image\")\n",
    "plt.imshow(im0, origin='lower')\n",
    "plt.plot(center[0, 0].numpy(), center[0, 1].numpy(), 'x')\n",
    "\n",
    "plt.subplot(1, 2, 2)\n",
    "plt.title(\"Target image\")\n",
    "plt.imshow(im1, origin='lower')\n",
    "\n",
    "plt.show()"
   ]
  },
  {
   "cell_type": "code",
   "execution_count": 7,
   "metadata": {},
   "outputs": [],
   "source": [
    "translation = dm.DeformationModules.ImplicitModule0(2, 1, 200., nu=0.1, gd=center.clone().requires_grad_())"
   ]
  },
  {
   "cell_type": "code",
   "execution_count": 8,
   "metadata": {},
   "outputs": [],
   "source": [
    "model = dm.Models.ModelImageRegistration(im0, [translation], dm.Attachment.EuclideanPointwiseDistanceAttachment(), fit_gd=[False], lam=100.)"
   ]
  },
  {
   "cell_type": "code",
   "execution_count": 17,
   "metadata": {},
   "outputs": [],
   "source": [
    "shoot_solver='rk4'\n",
    "shoot_it = 10\n",
    "\n",
    "costs = {}\n",
    "fitter = dm.Models.Fitter(model, optimizer='torch_lbfgs')"
   ]
  },
  {
   "cell_type": "code",
   "execution_count": 18,
   "metadata": {
    "scrolled": true
   },
   "outputs": [
    {
     "name": "stdout",
     "output_type": "stream",
     "text": [
      "Starting optimization with method torch LBFGS\n",
      "Initial cost={'deformation': 4806.79296875, 'attach': 6156.73779296875, 'total': 10963.53125}\n",
      "================================================================================\n",
      "Time: 4.053732715001388\n",
      "Iteration: 0\n",
      "Costs\n",
      "deformation=4806.79296875\n",
      "attach=6156.73779296875\n",
      "total=10963.53125\n",
      "================================================================================\n",
      "Time: 9.06130097100322\n",
      "Iteration: 1\n",
      "Costs\n",
      "deformation=4806.79296875\n",
      "attach=6156.73876953125\n",
      "total=10963.53125\n",
      "================================================================================\n",
      "Optimisation process exited with message: Convergence achieved.\n",
      "Final cost=10963.53125\n",
      "Model evaluation count=11\n",
      "Time elapsed = 9.061747689000185\n"
     ]
    }
   ],
   "source": [
    "fitter.fit(im1.clone(), 100, costs=costs, options={'shoot_it': shoot_it, 'line_search_fn': 'strong_wolfe'})"
   ]
  },
  {
   "cell_type": "code",
   "execution_count": 11,
   "metadata": {},
   "outputs": [
    {
     "name": "stdout",
     "output_type": "stream",
     "text": [
      "==========================\n",
      "tensor([144.0818, 113.2361])\n",
      "tensor([174.5000,  84.5000])\n",
      "----------------------------\n",
      "tensor([174.5000,  84.5000])\n",
      "tensor([144.0818, 113.2361])\n",
      "----------------------------\n",
      "tensor([87.3938, 56.8901])\n",
      "tensor([55.0000, 85.0000])\n",
      "tensor([87.3938, 56.8901])\n"
     ]
    }
   ],
   "source": [
    "intermediates = {}\n",
    "with torch.autograd.no_grad():\n",
    "    deformed_image = model.compute_deformed(shoot_solver, shoot_it, intermediates=intermediates)\n",
    "\n",
    "    "
   ]
  },
  {
   "cell_type": "code",
   "execution_count": 12,
   "metadata": {},
   "outputs": [],
   "source": [
    "source_pos, source_weight = dm.Utilities.sample_from_greyscale(im0, 0., centered=False, normalise_weights=False, normalise_position=False)"
   ]
  },
  {
   "cell_type": "code",
   "execution_count": 14,
   "metadata": {},
   "outputs": [],
   "source": [
    "compound = dm.DeformationModules.CompoundModule(model.modules)\n",
    "compound.manifold.fill_gd([manifold.gd for manifold in model.init_manifold])\n",
    "#silent = dm.DeformationModules.SilentLandmarks(2, source_pos.shape[0], gd=gd_pos)\n",
    "compound.manifold.fill_cotan([manifold.cotan for manifold in model.init_manifold])\n",
    "dm.HamiltonianDynamic.shoot(dm.HamiltonianDynamic.Hamiltonian(compound), shoot_solver, shoot_it)\n",
    "\n",
    "deformed_translation_center = compound.manifold.gd[1][0].detach()\n",
    "\n",
    "translation_center = model.init_manifold[1].gd.detach().flatten().tolist()\n",
    "translation_moment = model.init_manifold[1].cotan.detach().flatten().tolist()"
   ]
  },
  {
   "cell_type": "code",
   "execution_count": 16,
   "metadata": {},
   "outputs": [
    {
     "data": {
      "image/png": "[encoded data removed]",
      "text/plain": [
       "<Figure size 432x288 with 3 Axes>"
      ]
     },
     "metadata": {},
     "output_type": "display_data"
    }
   ],
   "source": [
    "#%matplotlib qt5\n",
    "plt.subplot(1, 3, 1)\n",
    "plt.title(\"Source image\")\n",
    "plt.imshow(source_image, origin='lower')\n",
    "plt.plot(center.flatten().tolist()[0], center.flatten().tolist()[1], 'X')\n",
    "plt.quiver(translation_center[0], translation_center[1],\n",
    "           translation_moment[0], translation_moment[1])\n",
    "\n",
    "plt.subplot(1, 3, 2)\n",
    "plt.title(\"Fitted image\")\n",
    "plt.imshow(deformed_image, origin='lower')\n",
    "#plt.imshow(im02.detach())#, origin='lower')\n",
    "plt.plot(deformed_translation_center[0], deformed_translation_center[1], 'X')\n",
    "\n",
    "\n",
    "plt.subplot(1, 3, 3)\n",
    "plt.title(\"target image\")\n",
    "plt.imshow(target_image, origin='lower')\n",
    "\n",
    "plt.show()"
   ]
  },
  {
   "cell_type": "code",
   "execution_count": null,
   "metadata": {},
   "outputs": [],
   "source": []
  },
  {
   "cell_type": "code",
   "execution_count": null,
   "metadata": {},
   "outputs": [],
   "source": []
  }
 ],
 "metadata": {
  "kernelspec": {
   "display_name": "Python 3",
   "language": "python",
   "name": "python3"
  },
  "language_info": {
   "codemirror_mode": {
    "name": "ipython",
    "version": 3
   },
   "file_extension": ".py",
   "mimetype": "text/x-python",
   "name": "python",
   "nbconvert_exporter": "python",
   "pygments_lexer": "ipython3",
   "version": "3.6.9"
  },
  "name": "Matching_bar.ipynb"
 },
 "nbformat": 4,
 "nbformat_minor": 2
}
