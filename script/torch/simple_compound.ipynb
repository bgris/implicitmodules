{
 "cells": [
  {
   "cell_type": "code",
   "execution_count": null,
   "metadata": {
    "autoscroll": false,
    "collapsed": false,
    "ein.hycell": false,
    "ein.tags": "worksheet-0",
    "slideshow": {
     "slide_type": "-"
    }
   },
   "outputs": [],
   "source": [
    "%load_ext autoreload\n",
    "%autoreload 2\n",
    "\n",
    "# The deformation module library is not automatically installed yet, we need to add its path manually\n",
    "import sys\n",
    "sys.path.append(\"../../\")\n",
    "\n",
    "import torch\n",
    "import numpy as np\n",
    "import matplotlib.pyplot as plt\n",
    "\n",
    "import implicitmodules.torch as dm\n",
    "\n",
    "torch.manual_seed(1337)\n",
    "torch.set_default_tensor_type(torch.DoubleTensor)"
   ]
  },
  {
   "cell_type": "code",
   "execution_count": null,
   "metadata": {
    "autoscroll": false,
    "collapsed": false,
    "ein.hycell": false,
    "ein.tags": "worksheet-0",
    "slideshow": {
     "slide_type": "-"
    }
   },
   "outputs": [],
   "source": [
    "dim = 2\n",
    "\n",
    "nb_pts_trans = 10\n",
    "nb_pts_trans2 = 5\n",
    "nb_pts_silent = 25\n",
    "\n",
    "gd_trans = torch.randn(nb_pts_trans, dim, requires_grad=True)\n",
    "gd_trans2 = torch.randn(nb_pts_trans2, dim, requires_grad=True)\n",
    "gd_silent = torch.randn(nb_pts_silent, dim, requires_grad=True)\n",
    "\n",
    "mom_trans = torch.randn(nb_pts_trans, dim, requires_grad=True)\n",
    "mom_trans2 = torch.randn(nb_pts_trans2, dim, requires_grad=True)\n",
    "mom_silent = torch.randn(nb_pts_silent, dim, requires_grad=True)"
   ]
  },
  {
   "cell_type": "code",
   "execution_count": null,
   "metadata": {
    "autoscroll": false,
    "collapsed": false,
    "ein.hycell": false,
    "ein.tags": "worksheet-0",
    "slideshow": {
     "slide_type": "-"
    }
   },
   "outputs": [],
   "source": [
    "sigma = 0.1\n",
    "\n",
    "trans = dm.DeformationModules.Translations(2, nb_pts_trans, sigma, gd=gd_trans, cotan=mom_trans)\n",
    "trans2 = dm.DeformationModules.Translations(2, nb_pts_trans2, sigma, gd=gd_trans2, cotan=mom_trans2)\n",
    "silent = dm.DeformationModules.SilentLandmarks(2, nb_pts_silent, gd=gd_silent, cotan=mom_silent)\n",
    "\n",
    "compound = dm.DeformationModules.CompoundModule([trans, trans2, silent])"
   ]
  },
  {
   "cell_type": "code",
   "execution_count": null,
   "metadata": {
    "autoscroll": false,
    "collapsed": false,
    "ein.hycell": false,
    "ein.tags": "worksheet-0",
    "slideshow": {
     "slide_type": "-"
    }
   },
   "outputs": [],
   "source": [
    "hamiltonian = dm.HamiltonianDynamic.Hamiltonian(compound)"
   ]
  },
  {
   "cell_type": "code",
   "execution_count": null,
   "metadata": {
    "autoscroll": false,
    "collapsed": false,
    "ein.hycell": false,
    "ein.tags": "worksheet-0",
    "slideshow": {
     "slide_type": "-"
    }
   },
   "outputs": [],
   "source": [
    "out = dm.HamiltonianDynamic.shoot(hamiltonian, 10, 'torch_euler')"
   ]
  },
  {
   "cell_type": "code",
   "execution_count": null,
   "metadata": {
    "autoscroll": false,
    "collapsed": false,
    "ein.hycell": false,
    "ein.tags": "worksheet-0",
    "slideshow": {
     "slide_type": "-"
    }
   },
   "outputs": [],
   "source": [
    "nx, ny = 100, 100\n",
    "sx, sy = 10, 10\n",
    "x, y = torch.meshgrid([torch.arange(0, nx), torch.arange(0, ny)])\n",
    "x = sx*(x.type(torch.get_default_dtype())/nx - 0.5)\n",
    "y = sy*(y.type(torch.get_default_dtype())/ny - 0.5)\n",
    "u, v = dm.Utilities.vec2grid(compound(dm.Utilities.grid2vec(x, y)), nx, ny)\n",
    "\n",
    "plt.quiver(x.numpy(), y.numpy(), u.detach().numpy(), v.detach().numpy())\n",
    "plt.show()"
   ]
  },
  {
   "cell_type": "code",
   "execution_count": null,
   "metadata": {
    "autoscroll": false,
    "collapsed": false,
    "ein.hycell": false,
    "ein.tags": "worksheet-0",
    "slideshow": {
     "slide_type": "-"
    }
   },
   "outputs": [],
   "source": []
  }
 ],
 "metadata": {
  "kernelspec": {
   "display_name": "Python 3",
   "name": "python3"
  },
  "name": "simple_compound.ipynb"
 },
 "nbformat": 4,
 "nbformat_minor": 2
}
