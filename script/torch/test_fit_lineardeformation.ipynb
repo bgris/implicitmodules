{
 "cells": [
  {
   "cell_type": "code",
   "execution_count": null,
   "metadata": {
    "autoscroll": false,
    "collapsed": false,
    "ein.hycell": false,
    "ein.tags": "worksheet-0",
    "slideshow": {
     "slide_type": "-"
    }
   },
   "outputs": [],
   "source": [
    "%load_ext autoreload\n",
    "%autoreload 2\n",
    "\n",
    "import math\n",
    "\n",
    "# The deformation module library is not automatically installed yet, we need to add its path manually\n",
    "import sys\n",
    "sys.path.append(\"../../\")\n",
    "\n",
    "import matplotlib.pyplot as plt\n",
    "import torch\n",
    "\n",
    "import implicitmodules.torch as dm"
   ]
  },
  {
   "cell_type": "code",
   "execution_count": null,
   "metadata": {
    "autoscroll": false,
    "collapsed": false,
    "ein.hycell": false,
    "ein.tags": "worksheet-0",
    "slideshow": {
     "slide_type": "-"
    }
   },
   "outputs": [],
   "source": [
    "N = 10\n",
    "extend = 1.\n",
    "sigma_noise = 0.001\n",
    "source = torch.zeros(2*N, 2)\n",
    "source[:N, 0] = torch.linspace(-extend/2., extend/2., N)\n",
    "source[N:, 1] = torch.linspace(-extend/2., extend/2., N)\n",
    "source = source + sigma_noise*torch.randn_like(source)\n",
    "\n",
    "lineardef = torch.mm(dm.Utilities.rot2d(math.pi/16), 0.5*torch.tensor([[1., 0.], [0., 1.]]))\n",
    "target = torch.bmm(source.view(-1, 1, 2), lineardef.repeat(2*N, 1, 1)).view(-1, 2)\n",
    "target = target + sigma_noise*torch.randn_like(target)"
   ]
  },
  {
   "cell_type": "code",
   "execution_count": null,
   "metadata": {
    "autoscroll": false,
    "collapsed": false,
    "ein.hycell": false,
    "ein.tags": "worksheet-0",
    "slideshow": {
     "slide_type": "-"
    }
   },
   "outputs": [],
   "source": [
    "plt.plot(source[:, 0].numpy(), source[:, 1].numpy(), '.', color='blue')\n",
    "plt.plot(target[:, 0].numpy(), target[:, 1].numpy(), '.', color='red')\n",
    "plt.axis('equal')\n",
    "plt.show()"
   ]
  },
  {
   "cell_type": "code",
   "execution_count": null,
   "metadata": {
    "autoscroll": false,
    "collapsed": false,
    "ein.hycell": false,
    "ein.tags": "worksheet-0",
    "slideshow": {
     "slide_type": "-"
    }
   },
   "outputs": [],
   "source": [
    "lineardefmodule = dm.DeformationModules.LinearDeformation.build(torch.eye(2, requires_grad=True), gd=torch.zeros(1, 2, requires_grad=True))\n",
    "\n",
    "model = dm.Models.ModelPointsRegistration([source.clone()], [lineardefmodule], [dm.Attachment.EuclideanPointwiseDistanceAttachment()], other_parameters=[lineardefmodule.A], lam=1000., fit_moments=True)"
   ]
  },
  {
   "cell_type": "code",
   "execution_count": null,
   "metadata": {
    "autoscroll": false,
    "collapsed": false,
    "ein.hycell": false,
    "ein.tags": "worksheet-0",
    "slideshow": {
     "slide_type": "-"
    }
   },
   "outputs": [],
   "source": [
    "modelfitter = dm.Models.ModelFittingScipy(model, 1.)\n",
    "costs = modelfitter.fit([target.clone()], 55, options={'shoot_method': 'torch_euler'})"
   ]
  },
  {
   "cell_type": "code",
   "execution_count": null,
   "metadata": {
    "autoscroll": false,
    "collapsed": false,
    "ein.hycell": false,
    "ein.tags": "worksheet-0",
    "slideshow": {
     "slide_type": "-"
    }
   },
   "outputs": [],
   "source": [
    "deformed_source = model.modules[0].manifold.gd.detach()\n",
    "control = model.modules[1].controls.detach()\n",
    "cotan = model.modules[1].manifold.cotan\n",
    "lindef_opti = model.modules[1].A\n",
    "\n",
    "print(control)\n",
    "print(cotan)\n",
    "print(lindef_opti)\n",
    "\n",
    "%matplotlib qt5\n",
    "plt.plot(deformed_source[:, 0].numpy(), deformed_source[:, 1].numpy(), '.', color='green')\n",
    "plt.plot(source[:, 0].numpy(), source[:, 1].numpy(), '.', color='blue')\n",
    "plt.plot(target[:, 0].numpy(), target[:, 1].numpy(), '.', color='red')\n",
    "\n",
    "for i in range(source.shape[0]):\n",
    "    plt.plot([source[i, 0].numpy(), deformed_source[i, 0].numpy()],\n",
    "             [source[i, 1].numpy(), deformed_source[i, 1].numpy()], color='black')\n",
    "\n",
    "plt.axis('equal')\n",
    "plt.show()\n"
   ]
  },
  {
   "cell_type": "code",
   "execution_count": null,
   "metadata": {
    "autoscroll": false,
    "collapsed": false,
    "ein.hycell": false,
    "ein.tags": "worksheet-0",
    "slideshow": {
     "slide_type": "-"
    }
   },
   "outputs": [],
   "source": []
  }
 ],
 "metadata": {
  "kernelspec": {
   "display_name": "Python 3",
   "name": "python3"
  },
  "name": "Untitled1.ipynb"
 },
 "nbformat": 4,
 "nbformat_minor": 2
}
