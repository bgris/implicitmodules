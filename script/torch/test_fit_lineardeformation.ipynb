{
 "cells": [
  {
   "cell_type": "code",
   "execution_count": 1,
   "metadata": {
    "autoscroll": false,
    "ein.hycell": false,
    "ein.tags": "worksheet-0",
    "slideshow": {
     "slide_type": "-"
    }
   },
   "outputs": [],
   "source": [
    "%load_ext autoreload\n",
    "%autoreload 2\n",
    "\n",
    "import math\n",
    "\n",
    "# The deformation module library is not automatically installed yet, we need to add its path manually\n",
    "import sys\n",
    "sys.path.append(\"../../\")\n",
    "\n",
    "import matplotlib.pyplot as plt\n",
    "import torch\n",
    "\n",
    "import implicitmodules.torch as dm"
   ]
  },
  {
   "cell_type": "code",
   "execution_count": 25,
   "metadata": {
    "autoscroll": false,
    "ein.hycell": false,
    "ein.tags": "worksheet-0",
    "slideshow": {
     "slide_type": "-"
    }
   },
   "outputs": [],
   "source": [
    "N = 10\n",
    "extend = 1.\n",
    "sigma_noise = 0.00\n",
    "source = torch.zeros(2*N, 2)\n",
    "source[:N, 0] = torch.linspace(-extend/2., extend/2., N)\n",
    "source[N:, 1] = torch.linspace(-extend/2., extend/2., N)\n",
    "source = source + sigma_noise*torch.randn_like(source)\n",
    "\n",
    "lineardef = torch.mm(dm.Utilities.rot2d(2*math.pi/3), 1.*torch.tensor([[1., 0.], [0., 1.]]))\n",
    "target = torch.bmm(source.view(-1, 1, 2), lineardef.transpose(0,1).repeat(2*N, 1, 1)).view(-1, 2)\n",
    "target = target + sigma_noise*torch.randn_like(target)"
   ]
  },
  {
   "cell_type": "code",
   "execution_count": 26,
   "metadata": {
    "autoscroll": false,
    "ein.hycell": false,
    "ein.tags": "worksheet-0",
    "slideshow": {
     "slide_type": "-"
    }
   },
   "outputs": [],
   "source": [
    "plt.plot(source[:, 0].numpy(), source[:, 1].numpy(), '-', color='blue')\n",
    "plt.plot(target[:, 0].numpy(), target[:, 1].numpy(), '-', color='red')\n",
    "plt.axis('equal')\n",
    "plt.show()"
   ]
  },
  {
   "cell_type": "code",
   "execution_count": 27,
   "metadata": {},
   "outputs": [
    {
     "data": {
      "text/plain": [
       "tensor([-0.5000,  0.0000])"
      ]
     },
     "execution_count": 27,
     "metadata": {},
     "output_type": "execute_result"
    }
   ],
   "source": [
    "source[0]"
   ]
  },
  {
   "cell_type": "code",
   "execution_count": 79,
   "metadata": {
    "autoscroll": false,
    "ein.hycell": false,
    "ein.tags": "worksheet-0",
    "slideshow": {
     "slide_type": "-"
    }
   },
   "outputs": [],
   "source": [
    "#lineardefmodule = dm.DeformationModules.LinearDeformation.build(torch.eye(2, requires_grad=True), gd=torch.zeros(1, 2, requires_grad=True))\n",
    "#model = dm.Models.ModelPointsRegistration([source.clone()], [lineardefmodule], [dm.Attachment.EuclideanPointwiseDistanceAttachment()], other_parameters=[lineardefmodule.A], lam=100., fit_moments=True)\n",
    "\n",
    "#lineardefmodule = dm.DeformationModules.LocalRotation.build(2, 1, 1., coeff=1., gd=torch.zeros(1, 2, requires_grad=True))\n",
    "\n",
    "sigtensor = torch.tensor(1., requires_grad=True)\n",
    "lineardefmodule = dm.DeformationModules.LocalLinear.build(2, torch.eye(2, requires_grad=True), sigtensor, coeff=1., gd=torch.zeros(1, 2, requires_grad=True))\n",
    "\n",
    "\n",
    "model = dm.Models.ModelPointsRegistration([source.clone()], [lineardefmodule], [dm.Attachment.EuclideanPointwiseDistanceAttachment()], other_parameters=[lineardefmodule.A, sigtensor], lam=100., fit_moments=True)"
   ]
  },
  {
   "cell_type": "code",
   "execution_count": 80,
   "metadata": {},
   "outputs": [
    {
     "data": {
      "text/plain": [
       "tensor(1., requires_grad=True)"
      ]
     },
     "execution_count": 80,
     "metadata": {},
     "output_type": "execute_result"
    }
   ],
   "source": [
    "lineardefmodule.sigma"
   ]
  },
  {
   "cell_type": "code",
   "execution_count": 81,
   "metadata": {
    "autoscroll": false,
    "ein.hycell": false,
    "ein.tags": "worksheet-0",
    "scrolled": true,
    "slideshow": {
     "slide_type": "-"
    }
   },
   "outputs": [
    {
     "name": "stdout",
     "output_type": "stream",
     "text": [
      "Initial energy = 962.250\n",
      "================================================================================\n",
      "Iteration: 1 \n",
      "Total energy = 753.892273 \n",
      "Attach cost = 753.476746 \n",
      "Deformation cost = 0.415551\n",
      "================================================================================\n",
      "Iteration: 2 \n",
      "Total energy = 555.318054 \n",
      "Attach cost = 554.695984 \n",
      "Deformation cost = 0.622068\n",
      "================================================================================\n",
      "Iteration: 3 \n",
      "Total energy = 555.090881 \n",
      "Attach cost = 554.447083 \n",
      "Deformation cost = 0.643773\n",
      "================================================================================\n",
      "Iteration: 4 \n",
      "Total energy = 551.502563 \n",
      "Attach cost = 551.277039 \n",
      "Deformation cost = 0.225539\n",
      "================================================================================\n",
      "Iteration: 5 \n",
      "Total energy = 551.415161 \n",
      "Attach cost = 551.150940 \n",
      "Deformation cost = 0.264205\n",
      "================================================================================\n",
      "Iteration: 6 \n",
      "Total energy = 551.408813 \n",
      "Attach cost = 551.262146 \n",
      "Deformation cost = 0.146678\n",
      "================================================================================\n",
      "Iteration: 7 \n",
      "Total energy = 551.363892 \n",
      "Attach cost = 551.189880 \n",
      "Deformation cost = 0.174015\n",
      "================================================================================\n",
      "Iteration: 8 \n",
      "Total energy = 551.338562 \n",
      "Attach cost = 551.142822 \n",
      "Deformation cost = 0.195711\n",
      "================================================================================\n",
      "Iteration: 9 \n",
      "Total energy = 551.302124 \n",
      "Attach cost = 551.116150 \n",
      "Deformation cost = 0.185969\n",
      "================================================================================\n",
      "Iteration: 10 \n",
      "Total energy = 551.189270 \n",
      "Attach cost = 551.051208 \n",
      "Deformation cost = 0.138065\n",
      "================================================================================\n",
      "Iteration: 11 \n",
      "Total energy = 551.032349 \n",
      "Attach cost = 550.970337 \n",
      "Deformation cost = 0.062013\n",
      "================================================================================\n",
      "Iteration: 12 \n",
      "Total energy = 550.967834 \n",
      "Attach cost = 550.952759 \n",
      "Deformation cost = 0.015096\n",
      "================================================================================\n",
      "Iteration: 13 \n",
      "Total energy = 550.921143 \n",
      "Attach cost = 550.919312 \n",
      "Deformation cost = 0.001835\n",
      "================================================================================\n",
      "Iteration: 14 \n",
      "Total energy = 550.906311 \n",
      "Attach cost = 550.906250 \n",
      "Deformation cost = 0.000081\n",
      "================================================================================\n",
      "Iteration: 15 \n",
      "Total energy = 550.901184 \n",
      "Attach cost = 550.901184 \n",
      "Deformation cost = 0.000007\n",
      "================================================================================\n",
      "Iteration: 16 \n",
      "Total energy = 550.883667 \n",
      "Attach cost = 550.881714 \n",
      "Deformation cost = 0.001964\n",
      "================================================================================\n",
      "Iteration: 17 \n",
      "Total energy = 550.872925 \n",
      "Attach cost = 550.869507 \n",
      "Deformation cost = 0.003404\n",
      "================================================================================\n",
      "Iteration: 18 \n",
      "Total energy = 550.843323 \n",
      "Attach cost = 550.828674 \n",
      "Deformation cost = 0.014635\n",
      "================================================================================\n",
      "Iteration: 19 \n",
      "Total energy = 550.833740 \n",
      "Attach cost = 550.820801 \n",
      "Deformation cost = 0.012952\n",
      "================================================================================\n",
      "Iteration: 20 \n",
      "Total energy = 550.815308 \n",
      "Attach cost = 550.812317 \n",
      "Deformation cost = 0.002978\n",
      "================================================================================\n",
      "Iteration: 21 \n",
      "Total energy = 550.792847 \n",
      "Attach cost = 550.779419 \n",
      "Deformation cost = 0.013436\n",
      "================================================================================\n",
      "Iteration: 22 \n",
      "Total energy = 550.772888 \n",
      "Attach cost = 550.753235 \n",
      "Deformation cost = 0.019630\n",
      "================================================================================\n",
      "Iteration: 23 \n",
      "Total energy = 550.757629 \n",
      "Attach cost = 550.737061 \n",
      "Deformation cost = 0.020582\n",
      "================================================================================\n",
      "Iteration: 24 \n",
      "Total energy = 550.722412 \n",
      "Attach cost = 550.700134 \n",
      "Deformation cost = 0.022267\n",
      "================================================================================\n",
      "Iteration: 25 \n",
      "Total energy = 550.348633 \n",
      "Attach cost = 550.343628 \n",
      "Deformation cost = 0.005011\n",
      "================================================================================\n",
      "Iteration: 26 \n",
      "Total energy = 550.299927 \n",
      "Attach cost = 550.244629 \n",
      "Deformation cost = 0.055319\n",
      "================================================================================\n",
      "Iteration: 27 \n",
      "Total energy = 550.129517 \n",
      "Attach cost = 550.022522 \n",
      "Deformation cost = 0.107005\n",
      "================================================================================\n",
      "Iteration: 28 \n",
      "Total energy = 550.057861 \n",
      "Attach cost = 549.984619 \n",
      "Deformation cost = 0.073216\n",
      "================================================================================\n",
      "Iteration: 29 \n",
      "Total energy = 550.030640 \n",
      "Attach cost = 549.940613 \n",
      "Deformation cost = 0.090039\n",
      "================================================================================\n",
      "Iteration: 30 \n",
      "Total energy = 549.996216 \n",
      "Attach cost = 549.887878 \n",
      "Deformation cost = 0.108336\n",
      "================================================================================\n",
      "Iteration: 31 \n",
      "Total energy = 544.116211 \n",
      "Attach cost = 543.491821 \n",
      "Deformation cost = 0.624364\n",
      "================================================================================\n",
      "Iteration: 32 \n",
      "Total energy = 543.773865 \n",
      "Attach cost = 543.127991 \n",
      "Deformation cost = 0.645866\n",
      "================================================================================\n",
      "Iteration: 33 \n",
      "Total energy = 432.063843 \n",
      "Attach cost = 427.822784 \n",
      "Deformation cost = 4.241070\n",
      "================================================================================\n",
      "Iteration: 34 \n",
      "Total energy = 394.193268 \n",
      "Attach cost = 391.906555 \n",
      "Deformation cost = 2.286705\n",
      "================================================================================\n",
      "Iteration: 35 \n",
      "Total energy = 318.487122 \n",
      "Attach cost = 313.378967 \n",
      "Deformation cost = 5.108140\n",
      "================================================================================\n",
      "Iteration: 36 \n",
      "Total energy = 281.325256 \n",
      "Attach cost = 276.018890 \n",
      "Deformation cost = 5.306380\n",
      "================================================================================\n",
      "Iteration: 37 \n",
      "Total energy = 241.871094 \n",
      "Attach cost = 231.326416 \n",
      "Deformation cost = 10.544676\n",
      "================================================================================\n",
      "Iteration: 38 \n",
      "Total energy = 203.552979 \n",
      "Attach cost = 190.081711 \n",
      "Deformation cost = 13.471260\n",
      "================================================================================\n",
      "Iteration: 39 \n",
      "Total energy = 189.561920 \n",
      "Attach cost = 174.230774 \n",
      "Deformation cost = 15.331153\n",
      "================================================================================\n",
      "Iteration: 40 \n",
      "Total energy = 182.358215 \n",
      "Attach cost = 165.348083 \n",
      "Deformation cost = 17.010138\n",
      "================================================================================\n",
      "Iteration: 41 \n",
      "Total energy = 178.898331 \n",
      "Attach cost = 160.502869 \n",
      "Deformation cost = 18.395456\n",
      "================================================================================\n",
      "Iteration: 42 \n",
      "Total energy = 166.125061 \n",
      "Attach cost = 146.270676 \n",
      "Deformation cost = 19.854389\n",
      "================================================================================\n",
      "Iteration: 43 \n",
      "Total energy = 140.828598 \n",
      "Attach cost = 114.167130 \n",
      "Deformation cost = 26.661470\n",
      "================================================================================\n",
      "Iteration: 44 \n",
      "Total energy = 113.412827 \n",
      "Attach cost = 85.751953 \n",
      "Deformation cost = 27.660870\n",
      "================================================================================\n",
      "Iteration: 45 \n",
      "Total energy = 80.643776 \n",
      "Attach cost = 52.490852 \n",
      "Deformation cost = 28.152924\n",
      "================================================================================\n",
      "Iteration: 46 \n",
      "Total energy = 65.902206 \n",
      "Attach cost = 37.215908 \n",
      "Deformation cost = 28.686300\n",
      "================================================================================\n",
      "Iteration: 47 \n",
      "Total energy = 52.604874 \n",
      "Attach cost = 23.415619 \n",
      "Deformation cost = 29.189253\n"
     ]
    },
    {
     "name": "stdout",
     "output_type": "stream",
     "text": [
      "================================================================================\n",
      "Iteration: 48 \n",
      "Total energy = 49.526997 \n",
      "Attach cost = 20.536568 \n",
      "Deformation cost = 28.990429\n",
      "================================================================================\n",
      "Iteration: 49 \n",
      "Total energy = 43.238853 \n",
      "Attach cost = 15.747263 \n",
      "Deformation cost = 27.491589\n",
      "================================================================================\n",
      "Iteration: 50 \n",
      "Total energy = 38.554695 \n",
      "Attach cost = 12.342288 \n",
      "Deformation cost = 26.212406\n",
      "================================================================================\n",
      "Iteration: 51 \n",
      "Total energy = 36.080513 \n",
      "Attach cost = 10.041378 \n",
      "Deformation cost = 26.039135\n",
      "================================================================================\n",
      "Iteration: 52 \n",
      "Total energy = 34.107613 \n",
      "Attach cost = 7.491438 \n",
      "Deformation cost = 26.616173\n",
      "================================================================================\n",
      "Iteration: 53 \n",
      "Total energy = 34.042526 \n",
      "Attach cost = 7.398759 \n",
      "Deformation cost = 26.643766\n",
      "================================================================================\n",
      "Iteration: 54 \n",
      "Total energy = 34.003746 \n",
      "Attach cost = 7.394913 \n",
      "Deformation cost = 26.608833\n",
      "================================================================================\n",
      "Iteration: 55 \n",
      "Total energy = 33.941410 \n",
      "Attach cost = 7.322059 \n",
      "Deformation cost = 26.619352\n",
      "================================================================================\n",
      "Optimisation process exited with message: b'STOP: TOTAL NO. of ITERATIONS REACHED LIMIT'\n",
      "Final energy = 33.941410064697266\n",
      "Closure evaluations = 97\n",
      "Time elapsed = 52.308082580566406\n"
     ]
    }
   ],
   "source": [
    "shoot_meth = 'rk4'\n",
    "modelfitter = dm.Models.ModelFittingScipy(model, 1.)\n",
    "costs = modelfitter.fit([target.clone()], 55, options={'shoot_method': shoot_meth})"
   ]
  },
  {
   "cell_type": "code",
   "execution_count": 82,
   "metadata": {},
   "outputs": [],
   "source": [
    "compound = dm.DeformationModules.CompoundModule(model.modules)\n",
    "man = model.init_manifold.clone()\n",
    "#co1 = torch.zeros_like(source)\n",
    "#co1[0,1] = -10\n",
    "#man[0].fill_cotan(co1)\n",
    "compound.manifold.fill(man)\n"
   ]
  },
  {
   "cell_type": "code",
   "execution_count": 83,
   "metadata": {},
   "outputs": [],
   "source": [
    "#shoot_meth = 'rk4'\n",
    "intermediate_states_opt, intermediate_controls_opt = dm.HamiltonianDynamic.shoot(dm.HamiltonianDynamic.Hamiltonian(compound), 10, shoot_meth, intermediates=True)"
   ]
  },
  {
   "cell_type": "code",
   "execution_count": 84,
   "metadata": {},
   "outputs": [
    {
     "data": {
      "text/plain": [
       "40"
      ]
     },
     "execution_count": 84,
     "metadata": {},
     "output_type": "execute_result"
    }
   ],
   "source": [
    "len(intermediate_controls_opt)"
   ]
  },
  {
   "cell_type": "code",
   "execution_count": 85,
   "metadata": {
    "autoscroll": false,
    "ein.hycell": false,
    "ein.tags": "worksheet-0",
    "scrolled": true,
    "slideshow": {
     "slide_type": "-"
    }
   },
   "outputs": [
    {
     "name": "stdout",
     "output_type": "stream",
     "text": [
      "[tensor([]), tensor(-0.1223)]\n",
      "tensor([[-14.7312,  -4.1077],\n",
      "        [-12.2527,  -5.4001],\n",
      "        [ -9.4240,  -7.3860],\n",
      "        [ -5.7431,  -5.0788],\n",
      "        [ -1.8445,  -1.7505],\n",
      "        [  1.7370,   1.6591],\n",
      "        [  4.8438,   4.5254],\n",
      "        [  8.2038,   5.9924],\n",
      "        [ 12.0033,   4.6170],\n",
      "        [ 15.5251,   1.7673],\n",
      "        [  2.9518, -13.8637],\n",
      "        [  5.7907, -11.0358],\n",
      "        [  8.1420,  -8.1355],\n",
      "        [  5.4337,  -5.3011],\n",
      "        [  1.7513,  -1.9322],\n",
      "        [ -1.6537,   2.0101],\n",
      "        [ -4.3445,   5.9116],\n",
      "        [ -5.6973,   9.3847],\n",
      "        [ -4.3297,  12.1094],\n",
      "        [ -2.7734,  14.5751]], requires_grad=True)\n",
      "tensor([[-2.7807e-06,  7.8163e-07]], requires_grad=True)\n",
      "tensor([[-1.6111e-03,  4.7351e+00],\n",
      "        [-4.7337e+00,  6.1912e-04]], requires_grad=True)\n"
     ]
    }
   ],
   "source": [
    "t = -1\n",
    "\n",
    "\n",
    "cotan0 = model.init_manifold.cotan[0]\n",
    "cotan1 = model.init_manifold.cotan[1]\n",
    "lindef_opti = model.modules[1].A\n",
    "\n",
    "print(control)\n",
    "print(cotan0)\n",
    "print(cotan1)\n",
    "print(lindef_opti)\n",
    "\n",
    "%matplotlib qt5\n",
    "plt.plot(source[:, 0].numpy(), source[:, 1].numpy(), 'o', color='blue')\n",
    "plt.plot(target[:, 0].numpy(), target[:, 1].numpy(), 'o', color='red')\n",
    "#plt.plot(deformed_source[:, 0].numpy(), deformed_source[:, 1].numpy(), 'x', color='green')\n",
    "for t in range(11):\n",
    "    deformed_source = intermediate_states_opt[t].gd[0].detach()\n",
    "    plt.plot(deformed_source[:, 0].numpy(), deformed_source[:, 1].numpy(), '.', color='green')\n",
    "plt.plot(deformed_source[:, 0].numpy(), deformed_source[:, 1].numpy(), 'x', color='green')    \n",
    "    \n",
    "#for i in range(source.shape[0]):\n",
    "#    plt.plot([source[i, 0].numpy(), deformed_source[i, 0].numpy()],\n",
    "#             [source[i, 1].numpy(), deformed_source[i, 1].numpy()], color='black')\n",
    "\n",
    "plt.axis('equal')\n",
    "plt.show()\n"
   ]
  },
  {
   "cell_type": "code",
   "execution_count": 86,
   "metadata": {},
   "outputs": [
    {
     "data": {
      "text/plain": [
       "tensor(2.3670, requires_grad=True)"
      ]
     },
     "execution_count": 86,
     "metadata": {},
     "output_type": "execute_result"
    }
   ],
   "source": [
    "lineardefmodule.sigma"
   ]
  },
  {
   "cell_type": "code",
   "execution_count": 87,
   "metadata": {
    "autoscroll": false,
    "ein.hycell": false,
    "ein.tags": "worksheet-0",
    "slideshow": {
     "slide_type": "-"
    }
   },
   "outputs": [
    {
     "data": {
      "text/plain": [
       "[[tensor([]), tensor(-2.8433)],\n",
       " [tensor([]), tensor(-2.8567)],\n",
       " [tensor([]), tensor(-2.8173)],\n",
       " [tensor([]), tensor(-2.8782)],\n",
       " [tensor([]), tensor(-2.8433)],\n",
       " [tensor([]), tensor(-2.8567)],\n",
       " [tensor([]), tensor(-2.8173)],\n",
       " [tensor([]), tensor(-2.8783)],\n",
       " [tensor([]), tensor(-2.8433)],\n",
       " [tensor([]), tensor(-2.8567)],\n",
       " [tensor([]), tensor(-2.8174)],\n",
       " [tensor([]), tensor(-2.8782)],\n",
       " [tensor([]), tensor(-2.8433)],\n",
       " [tensor([]), tensor(-2.8567)],\n",
       " [tensor([]), tensor(-2.8174)],\n",
       " [tensor([]), tensor(-2.8782)],\n",
       " [tensor([]), tensor(-2.8433)],\n",
       " [tensor([]), tensor(-2.8567)],\n",
       " [tensor([]), tensor(-2.8174)],\n",
       " [tensor([]), tensor(-2.8782)],\n",
       " [tensor([]), tensor(-2.8433)],\n",
       " [tensor([]), tensor(-2.8567)],\n",
       " [tensor([]), tensor(-2.8175)],\n",
       " [tensor([]), tensor(-2.8782)],\n",
       " [tensor([]), tensor(-2.8433)],\n",
       " [tensor([]), tensor(-2.8567)],\n",
       " [tensor([]), tensor(-2.8175)],\n",
       " [tensor([]), tensor(-2.8782)],\n",
       " [tensor([]), tensor(-2.8433)],\n",
       " [tensor([]), tensor(-2.8568)],\n",
       " [tensor([]), tensor(-2.8175)],\n",
       " [tensor([]), tensor(-2.8782)],\n",
       " [tensor([]), tensor(-2.8434)],\n",
       " [tensor([]), tensor(-2.8568)],\n",
       " [tensor([]), tensor(-2.8175)],\n",
       " [tensor([]), tensor(-2.8783)],\n",
       " [tensor([]), tensor(-2.8434)],\n",
       " [tensor([]), tensor(-2.8568)],\n",
       " [tensor([]), tensor(-2.8174)],\n",
       " [tensor([]), tensor(-2.8783)]]"
      ]
     },
     "execution_count": 87,
     "metadata": {},
     "output_type": "execute_result"
    }
   ],
   "source": [
    "intermediate_controls_opt"
   ]
  },
  {
   "cell_type": "code",
   "execution_count": 81,
   "metadata": {},
   "outputs": [
    {
     "data": {
      "text/plain": [
       "[tensor([], requires_grad=True), tensor(112.0549, grad_fn=<DivBackward0>)]"
      ]
     },
     "execution_count": 81,
     "metadata": {},
     "output_type": "execute_result"
    }
   ],
   "source": [
    "lineardefmodule"
   ]
  },
  {
   "cell_type": "code",
   "execution_count": 91,
   "metadata": {},
   "outputs": [
    {
     "data": {
      "text/plain": [
       "[[tensor([]), tensor(112.0549)],\n",
       " [tensor([]), tensor(1675.3818)],\n",
       " [tensor([]), tensor(46747552.)],\n",
       " [tensor([]), tensor(1.0216e+21)],\n",
       " [tensor([]), tensor(inf)],\n",
       " [tensor([]), tensor(nan)],\n",
       " [tensor([]), tensor(nan)],\n",
       " [tensor([]), tensor(nan)],\n",
       " [tensor([]), tensor(nan)],\n",
       " [tensor([]), tensor(nan)],\n",
       " [tensor([]), tensor(nan)],\n",
       " [tensor([]), tensor(nan)],\n",
       " [tensor([]), tensor(nan)],\n",
       " [tensor([]), tensor(nan)],\n",
       " [tensor([]), tensor(nan)],\n",
       " [tensor([]), tensor(nan)],\n",
       " [tensor([]), tensor(nan)],\n",
       " [tensor([]), tensor(nan)],\n",
       " [tensor([]), tensor(nan)],\n",
       " [tensor([]), tensor(nan)],\n",
       " [tensor([]), tensor(nan)],\n",
       " [tensor([]), tensor(nan)],\n",
       " [tensor([]), tensor(nan)],\n",
       " [tensor([]), tensor(nan)],\n",
       " [tensor([]), tensor(nan)],\n",
       " [tensor([]), tensor(nan)],\n",
       " [tensor([]), tensor(nan)],\n",
       " [tensor([]), tensor(nan)],\n",
       " [tensor([]), tensor(nan)],\n",
       " [tensor([]), tensor(nan)],\n",
       " [tensor([]), tensor(nan)],\n",
       " [tensor([]), tensor(nan)],\n",
       " [tensor([]), tensor(nan)],\n",
       " [tensor([]), tensor(nan)],\n",
       " [tensor([]), tensor(nan)],\n",
       " [tensor([]), tensor(nan)],\n",
       " [tensor([]), tensor(nan)],\n",
       " [tensor([]), tensor(nan)],\n",
       " [tensor([]), tensor(nan)],\n",
       " [tensor([]), tensor(nan)]]"
      ]
     },
     "execution_count": 91,
     "metadata": {},
     "output_type": "execute_result"
    }
   ],
   "source": [
    "intermediate_controls_opt"
   ]
  },
  {
   "cell_type": "code",
   "execution_count": null,
   "metadata": {},
   "outputs": [],
   "source": []
  },
  {
   "cell_type": "code",
   "execution_count": null,
   "metadata": {},
   "outputs": [],
   "source": []
  }
 ],
 "metadata": {
  "kernelspec": {
   "display_name": "Python 3",
   "language": "python",
   "name": "python3"
  },
  "language_info": {
   "codemirror_mode": {
    "name": "ipython",
    "version": 3
   },
   "file_extension": ".py",
   "mimetype": "text/x-python",
   "name": "python",
   "nbconvert_exporter": "python",
   "pygments_lexer": "ipython3",
   "version": "3.5.2"
  },
  "name": "Untitled1.ipynb"
 },
 "nbformat": 4,
 "nbformat_minor": 2
}
