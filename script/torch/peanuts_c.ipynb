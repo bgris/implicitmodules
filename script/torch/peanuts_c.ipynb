{
 "cells": [
  {
   "cell_type": "code",
   "execution_count": null,
   "metadata": {},
   "outputs": [],
   "source": [
    "%load_ext autoreload\n",
    "%autoreload 2\n",
    "\n",
    "import sys\n",
    "import math\n",
    "import pickle\n",
    "\n",
    "import torch\n",
    "import matplotlib.pyplot as plt\n",
    "\n",
    "sys.path.append(\"../../\")\n",
    "\n",
    "import implicitmodules.torch as dm"
   ]
  },
  {
   "cell_type": "code",
   "execution_count": null,
   "metadata": {},
   "outputs": [],
   "source": [
    "torch.set_default_dtype(torch.float32)\n",
    "\n",
    "data = pickle.load(open(\"../../data/peanuts.pickle\", 'rb'))\n",
    "\n",
    "peanuts_count = 6\n",
    "peanuts = [torch.tensor(peanut[:-1], dtype=torch.get_default_dtype()) for peanut in data[0][1:peanuts_count+1]]\n",
    "\n",
    "template = dm.Utilities.generate_unit_circle(200)\n",
    "template = dm.Utilities.linear_transform(template, torch.tensor([[1.3, 0.], [0., 0.5]]))\n",
    "template = dm.Utilities.close_shape(template)\n",
    "\n",
    "deformable_template = dm.Models.DeformablePoints(template.clone().requires_grad_(False))\n",
    "deformable_peanuts = [dm.Models.DeformablePoints(peanut) for peanut in peanuts]\n",
    "\n",
    "point_left_scale = torch.tensor([[-1., 0.]])\n",
    "point_right_scale = torch.tensor([[1., 0.]])"
   ]
  },
  {
   "cell_type": "code",
   "execution_count": null,
   "metadata": {},
   "outputs": [],
   "source": [
    "%matplotlib qt5\n",
    "\n",
    "plt.plot(template[:, 0].numpy(), template[:, 1].numpy(), '--', color='xkcd:blue')\n",
    "plt.plot(point_left_scale[0, 0].numpy(), point_left_scale[0, 1].numpy(), 'x', color='xkcd:blue')\n",
    "plt.plot(point_right_scale[0, 0].numpy(), point_right_scale[0, 1].numpy(), 'x', color='xkcd:blue')\n",
    "for peanut in peanuts:\n",
    "    plt.plot(peanut[:, 0].numpy(), peanut[:, 1].numpy(), lw=0.4, color='xkcd:light blue')\n",
    "\n",
    "plt.axis('equal')\n",
    "plt.show()"
   ]
  },
  {
   "cell_type": "code",
   "execution_count": null,
   "metadata": {},
   "outputs": [],
   "source": [
    "def generate_implicit1_gd():\n",
    "    area = lambda x, **kwargs: dm.Utilities.area_shape(x, **kwargs) | dm.Utilities.area_polyline_outline(x, **kwargs)\n",
    "    return dm.Utilities.fill_area_uniform_density(area, template_aabb.scale(1.3), 40., shape=template, polyline=template, width=0.2)\n",
    "\n",
    "template_aabb = dm.Utilities.AABB.build_from_points(template)\n",
    "#implicit_gd = dm.Utilities.fill_area_uniform_density(dm.Utilities.area_shape, template_aabb, 40., shape=template)\n",
    "\n",
    "# implicit_gd = template_aabb.scale([1.5, 2.]).fill_uniform_density(40.)\n",
    "implicit_gd = generate_implicit1_gd()\n",
    "implicit_r = dm.Utilities.rot2d(0.).repeat(implicit_gd.shape[0], 1, 1)\n",
    "implicit_c = torch.randn(implicit_gd.shape[0], 2, 2) + 1.\n",
    "print(implicit_c.shape)"
   ]
  },
  {
   "cell_type": "code",
   "execution_count": null,
   "metadata": {},
   "outputs": [],
   "source": [
    "plt.plot(template[:, 0].numpy(), template[:, 1].numpy(), '--', color='xkcd:blue')\n",
    "plt.plot(implicit_gd[:, 0].numpy(), implicit_gd[:, 1].numpy(), 'o')\n",
    "plt.axis('equal')\n",
    "plt.show()"
   ]
  },
  {
   "cell_type": "code",
   "execution_count": null,
   "metadata": {},
   "outputs": [],
   "source": [
    "implicit1_scale = 0.35\n",
    "\n",
    "implicit1 = dm.DeformationModules.ImplicitModule1(2, implicit_gd.shape[0], implicit1_scale, implicit_c.clone().requires_grad_(), nu=0.01, gd=(implicit_gd, implicit_r))\n",
    "global_translation = dm.DeformationModules.GlobalTranslation(2)"
   ]
  },
  {
   "cell_type": "code",
   "execution_count": null,
   "metadata": {},
   "outputs": [],
   "source": [
    "sigmas_varifold = [0.4, 2.5]\n",
    "attachment = dm.Attachment.VarifoldAttachment(2, sigmas_varifold)\n",
    "\n",
    "def precompute(init_manifold, modules, parameters):\n",
    "    modules[2].C = parameters['C']['params'][0]\n",
    "\n",
    "atlas = dm.Models.AtlasModel(deformable_template, [global_translation, implicit1], [attachment], len(peanuts), lam=100., optimise_template=True, ht_sigma=0.4, ht_it=10, ht_coeff=.5, ht_nu=0.05, fit_gd=None, other_parameters={'C': {'params': [implicit1.C]}}, model_precompute_callback=precompute)\n"
   ]
  },
  {
   "cell_type": "code",
   "execution_count": null,
   "metadata": {},
   "outputs": [],
   "source": [
    "shoot_solver = 'euler'\n",
    "shoot_it = 10\n",
    "# print(hex(id(implicit1.C)))\n",
    "# print(hex(id(atlas.parameters['C']['params'][0])))\n",
    "# print(hex(id(atlas.registration_models[0].modules[2].C)))\n",
    "# print(hex(id(atlas.registration_models[1].modules[2].C)))\n",
    "# print(hex(id(atlas.registration_models[2].modules[2].C)))\n",
    "costs = {}\n",
    "fitter = dm.Models.Fitter(atlas, optimizer='torch_lbfgs')\n",
    "\n",
    "fitter.fit(deformable_peanuts, 20, costs=costs, options={'shoot_solver': shoot_solver, 'shoot_it': shoot_it, 'line_search_fn': 'strong_wolfe'})"
   ]
  },
  {
   "cell_type": "code",
   "execution_count": null,
   "metadata": {},
   "outputs": [],
   "source": [
    "ht = atlas.compute_template()[0].detach()\n",
    "\n",
    "learned_c = implicit1.C.detach()\n",
    "\n",
    "plt.plot(template[:, 0].numpy(), template[:, 1].numpy(), '--')\n",
    "plt.plot(ht[:, 0].numpy(), ht[:, 1].numpy())\n",
    "\n",
    "plt.axis('equal')\n",
    "plt.show()"
   ]
  },
  {
   "cell_type": "code",
   "execution_count": null,
   "metadata": {},
   "outputs": [],
   "source": [
    "var_c = (implicit_c - learned_c)/learned_c\n",
    "print(torch.mean(torch.abs(var_c)))"
   ]
  },
  {
   "cell_type": "code",
   "execution_count": null,
   "metadata": {},
   "outputs": [],
   "source": [
    "intermediates = {}\n",
    "with torch.autograd.no_grad():\n",
    "    deformed_templates = atlas.compute_deformed(shoot_solver, shoot_it, intermediates=intermediates)\n",
    "\n",
    "row_count = math.ceil(math.sqrt(len(peanuts)))\n",
    "\n",
    "for i, deformed, peanut in zip(range(len(peanuts)), deformed_templates, peanuts):\n",
    "    plt.subplot(row_count, row_count, 1 + i)\n",
    "    plt.plot(ht[:, 0].numpy(), ht[:, 1].numpy(), color='xkcd:light blue', lw=0.5)\n",
    "    plt.plot(deformed[0].detach()[:, 0].numpy(), deformed[0].detach()[:, 1].numpy(), color='black')\n",
    "    plt.plot(peanut[:, 0].numpy(), peanut[:, 1].numpy())\n",
    "    plt.axis('equal')\n",
    "\n",
    "plt.show()"
   ]
  },
  {
   "cell_type": "code",
   "execution_count": null,
   "metadata": {},
   "outputs": [],
   "source": []
  },
  {
   "cell_type": "code",
   "execution_count": null,
   "metadata": {},
   "outputs": [],
   "source": [
    "ax = plt.subplot(2, 2, 1)\n",
    "plt.plot(implicit_gd[:, 0].numpy(), implicit_gd[:, 1].numpy(), '.')\n",
    "dm.Utilities.plot_C_arrows(ax, implicit_gd, implicit_c, c_index=0, color='blue', mutation_scale=10., scale=0.1)\n",
    "plt.axis('equal')\n",
    "\n",
    "ax = plt.subplot(2, 2, 2)\n",
    "plt.plot(implicit_gd[:, 0].numpy(), implicit_gd[:, 1].numpy(), '.')\n",
    "dm.Utilities.plot_C_arrows(ax, implicit_gd, implicit_c, c_index=1, color='blue', mutation_scale=10., scale=0.1)\n",
    "plt.axis('equal')\n",
    "\n",
    "ax = plt.subplot(2, 2, 3)\n",
    "plt.plot(implicit_gd[:, 0].numpy(), implicit_gd[:, 1].numpy(), '.')\n",
    "dm.Utilities.plot_C_arrows(ax, implicit_gd, learned_c, c_index=0, color='blue', mutation_scale=10., scale=0.1)\n",
    "plt.axis('equal')\n",
    "\n",
    "ax = plt.subplot(2, 2, 4)\n",
    "plt.plot(implicit_gd[:, 0].numpy(), implicit_gd[:, 1].numpy(), '.')\n",
    "dm.Utilities.plot_C_arrows(ax, implicit_gd, learned_c, c_index=1, color='blue', mutation_scale=10., scale=0.1)\n",
    "\n",
    "plt.axis('equal')\n",
    "plt.show()"
   ]
  }
 ],
 "metadata": {
  "kernelspec": {
   "display_name": "Python 3",
   "language": "python",
   "name": "python3"
  },
  "language_info": {
   "codemirror_mode": {
    "name": "ipython",
    "version": 3
   },
   "file_extension": ".py",
   "mimetype": "text/x-python",
   "name": "python",
   "nbconvert_exporter": "python",
   "pygments_lexer": "ipython3",
   "version": "3.6.9"
  },
  "name": "Untitled8.ipynb"
 },
 "nbformat": 4,
 "nbformat_minor": 4
}
