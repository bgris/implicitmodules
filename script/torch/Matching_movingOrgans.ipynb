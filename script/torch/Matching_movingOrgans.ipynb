{
 "cells": [
  {
   "cell_type": "code",
   "execution_count": 1,
   "metadata": {},
   "outputs": [
    {
     "name": "stdout",
     "output_type": "stream",
     "text": [
      "[pyKeOps]: Warning, no cuda detected. Switching to cpu only.\n"
     ]
    },
    {
     "name": "stderr",
     "output_type": "stream",
     "text": [
      "/home/rosa/DefmodEnv/lib/python3.7/site-packages/torch/cuda/__init__.py:52: UserWarning: CUDA initialization: Found no NVIDIA driver on your system. Please check that you have an NVIDIA GPU and installed a driver from http://www.nvidia.com/Download/index.aspx (Triggered internally at  /pytorch/c10/cuda/CUDAFunctions.cpp:100.)\n",
      "  return torch._C._cuda_getDeviceCount() > 0\n"
     ]
    }
   ],
   "source": [
    "import json\n",
    "import csv\n",
    "\n",
    "import sys\n",
    "sys.path.append(\"../../\")\n",
    "sys.path.append(\"/home/rosa/DefmodEnv/lib/python3.7/site-packages/\")\n",
    "\n",
    "import numpy as np\n",
    "import matplotlib.pyplot as plt\n",
    "import torch\n",
    "import copy\n",
    "import math\n",
    "import pickle\n",
    "\n",
    "import implicitmodules.torch as dm\n",
    "from implicitmodules.torch.HamiltonianDynamic import Hamiltonian, shoot\n",
    "from implicitmodules.torch.MultiShape import MultiShapeHamiltonian\n",
    "\n",
    "torch.set_default_tensor_type(torch.DoubleTensor)"
   ]
  },
  {
   "cell_type": "code",
   "execution_count": 2,
   "metadata": {},
   "outputs": [],
   "source": [
    "source = np.load('../../data/organs_source.npy', allow_pickle=True).tolist()\n",
    "target = np.load('../../data/organs_target.npy', allow_pickle=True).tolist()"
   ]
  },
  {
   "cell_type": "code",
   "execution_count": 3,
   "metadata": {},
   "outputs": [
    {
     "data": {
      "text/plain": [
       "torch.float64"
      ]
     },
     "execution_count": 3,
     "metadata": {},
     "output_type": "execute_result"
    }
   ],
   "source": [
    "torch.tensor([[-8, -1]], dtype=torch.float64).dtype"
   ]
  },
  {
   "cell_type": "code",
   "execution_count": 4,
   "metadata": {},
   "outputs": [
    {
     "data": {
      "image/png": "[encoded data removed]",
      "text/plain": [
       "<Figure size 432x288 with 1 Axes>"
      ]
     },
     "metadata": {
      "needs_background": "light"
     },
     "output_type": "display_data"
    }
   ],
   "source": [
    "boundary0 = dm.MultiShape.Boundary(source[0])\n",
    "boundary1 = dm.MultiShape.Boundary(source[1])\n",
    "\n",
    "source_deformable0 = dm.Models.DeformablePoints(source[0])\n",
    "source_deformable1 = dm.Models.DeformablePoints(source[1])\n",
    "target_deformable0 = dm.Models.DeformablePoints(target[0])\n",
    "target_deformable1 = dm.Models.DeformablePoints(target[1])\n",
    "\n",
    "plt.plot(source[0][:,0].detach(), source[0][:,1].detach(), '-b')\n",
    "plt.plot(source[1][:,0].detach(), source[1][:,1].detach(), '-b')\n",
    "plt.plot(target[0][:,0].detach(), target[0][:,1].detach(), '-r')\n",
    "plt.plot(target[1][:,0].detach(), target[1][:,1].detach(), '-r')\n",
    "plt.axis('equal')\n",
    "plt.show()\n",
    "\n",
    "\n",
    "scale_scaling = 1.2\n",
    "scaling = dm.DeformationModules.LocalScaling(2, scale_scaling, gd=torch.tensor([[-8, -1]], dtype=torch.float64, requires_grad=True))\n",
    "scale_rotation = 15\n",
    "rotation = dm.DeformationModules.LocalRotation(2, scale_rotation, gd=torch.tensor([[-7.2, 7]], dtype=torch.float64, requires_grad=True))\n",
    "scale_transl = 10\n",
    "translation = dm.DeformationModules.GlobalTranslation(2)\n",
    "\n",
    "\n",
    "attach = dm.Attachment.EuclideanPointwiseDistanceAttachment()\n",
    "\n",
    "shoot_solver = 'torch_euler'\n",
    "shoot_it = 10"
   ]
  },
  {
   "cell_type": "code",
   "execution_count": 5,
   "metadata": {},
   "outputs": [],
   "source": [
    "compound_man = dm.MultiShape.MultishapeCompoundManifold.MultishapeCompoundManifold([dm.Manifolds.CompoundManifold([source_deformable0.silent_module.manifold.clone(requires_grad=True), rotation.manifold.clone(requires_grad=True), boundary0.silent_module.manifold.clone(requires_grad=True)]),                                                                                    dm.Manifolds.CompoundManifold([source_deformable1.silent_module.manifold.clone(requires_grad=True), scaling.manifold.clone(requires_grad=True), translation.manifold.clone(requires_grad=True), boundary1.silent_module.manifold.clone(requires_grad=True)]), dm.Manifolds.CompoundManifold([boundary0.silent_module.manifold.clone(requires_grad=True), boundary1.silent_module.manifold.clone(requires_grad=True)])])\n",
    "sigma_bck = 0.5\n",
    "constraints0 = dm.Constraints.Constraints.ConstraintsPointIdentityBackground(0, compound_man)\n",
    "constraints1 = dm.Constraints.Constraints.ConstraintsPointIdentityBackground(1, compound_man)\n",
    "constraints = dm.Constraints.Constraints.CompoundConstraints([constraints0, constraints1])\n",
    "\n",
    "model = dm.Models.RegistrationModelMultishape([boundary0, boundary1], [source_deformable0, source_deformable1], [[rotation], [scaling, translation]], [attach, attach], sigma_bck, lam=10., constraints=constraints)\n",
    "multishape = dm.MultiShape.MultiShape.MultiShapeModules(model.modules, sigma_bck)"
   ]
  },
  {
   "cell_type": "code",
   "execution_count": 6,
   "metadata": {},
   "outputs": [],
   "source": [
    "multishape = dm.MultiShape.MultiShape.MultiShapeModules(model.modules, 0.1)\n",
    "multishape.manifold.fill_gd(model.init_manifold.gd)\n",
    "multishape.manifold.fill_cotan(model.init_manifold.cotan)\n",
    "Ham = MultiShapeHamiltonian.Hamiltonian_multishape(multishape, constraints)\n"
   ]
  },
  {
   "cell_type": "code",
   "execution_count": 7,
   "metadata": {},
   "outputs": [
    {
     "data": {
      "text/plain": [
       "<implicitmodules.torch.Manifolds.Landmark.Landmarks at 0x7fd141025710>"
      ]
     },
     "execution_count": 7,
     "metadata": {},
     "output_type": "execute_result"
    }
   ],
   "source": [
    "Ham.module.manifold[2][0]"
   ]
  },
  {
   "cell_type": "code",
   "execution_count": null,
   "metadata": {},
   "outputs": [],
   "source": [
    "fitter = dm.Models.Fitter(model)\n",
    "shoot_solver = 'torch_euler'\n",
    "costs = fitter.fit([target_deformable0, target_deformable1], 40, options={'shoot_solver': shoot_solver, 'shoot_it': shoot_it})"
   ]
  },
  {
   "cell_type": "code",
   "execution_count": null,
   "metadata": {},
   "outputs": [],
   "source": []
  },
  {
   "cell_type": "code",
   "execution_count": null,
   "metadata": {},
   "outputs": [],
   "source": []
  }
 ],
 "metadata": {
  "kernelspec": {
   "display_name": "Python 3",
   "language": "python",
   "name": "python3"
  },
  "language_info": {
   "codemirror_mode": {
    "name": "ipython",
    "version": 3
   },
   "file_extension": ".py",
   "mimetype": "text/x-python",
   "name": "python",
   "nbconvert_exporter": "python",
   "pygments_lexer": "ipython3",
   "version": "3.7.4"
  }
 },
 "nbformat": 4,
 "nbformat_minor": 2
}
