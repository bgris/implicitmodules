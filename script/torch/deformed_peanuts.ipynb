{
 "cells": [
  {
   "cell_type": "code",
   "execution_count": null,
   "metadata": {
    "autoscroll": false,
    "collapsed": false,
    "ein.hycell": false,
    "ein.tags": "worksheet-0",
    "slideshow": {
     "slide_type": "-"
    }
   },
   "outputs": [],
   "source": [
    "import sys\n",
    "import copy\n",
    "import math\n",
    "import pickle\n",
    "\n",
    "sys.path.append(\"../../\")\n",
    "\n",
    "import numpy as np\n",
    "import torch\n",
    "import matplotlib.pyplot as plt\n",
    "\n",
    "import implicitmodules.torch as dm"
   ]
  },
  {
   "cell_type": "code",
   "execution_count": null,
   "metadata": {
    "autoscroll": false,
    "collapsed": false,
    "ein.hycell": false,
    "ein.tags": "worksheet-0",
    "slideshow": {
     "slide_type": "-"
    }
   },
   "outputs": [],
   "source": [
    "def sample(pts_silent, pts_implicit1, R, C, sigma):\n",
    "    # We first pick a random index in pts_silent and get the normal position\n",
    "    # We substract 1 to the possible index so we can easily get the tangent vector\n",
    "    # ind = np.asscalar(np.random.choice(pts_silent.shape[0] - 1, 1))\n",
    "    # tan = (pts_silent[ind + 1] - pts_silent[ind]).numpy()\n",
    "    # norm = np.array([tan[1], -tan[0]])\n",
    "    # norm /= np.linalg.norm(norm)\n",
    "    # norm *= -150.\n",
    "    # cotan = torch.zeros_like(pts_silent)\n",
    "    # cotan[ind] = torch.tensor(norm)\n",
    "\n",
    "    cotan = 20.*torch.randn_like(pts_silent)\n",
    "    \n",
    "    silent = dm.DeformationModules.SilentLandmarks.build_from_points(pts_silent)\n",
    "    silent.manifold.fill_cotan(cotan.view(-1).requires_grad_())\n",
    "    implicit1 = dm.DeformationModules.ImplicitModule1.build_and_fill(2, pts_implicit1.shape[0], C, sigma, 0.001, gd=(pts_implicit1.view(-1).requires_grad_(), R.view(-1).requires_grad_()))\n",
    "\n",
    "    dm.HamiltonianDynamic.shoot(dm.HamiltonianDynamic.Hamiltonian([silent, implicit1]), 20, 'midpoint')\n",
    "\n",
    "    return silent.manifold.gd.detach().view(-1, 2)\n"
   ]
  },
  {
   "cell_type": "code",
   "execution_count": null,
   "metadata": {
    "autoscroll": false,
    "collapsed": false,
    "ein.hycell": false,
    "ein.tags": "worksheet-0",
    "slideshow": {
     "slide_type": "-"
    }
   },
   "outputs": [],
   "source": [
    "peanut = torch.tensor(pickle.load(open(\"../../data/peanuts.pickle\", 'rb'))[0][0]).type(torch.get_default_dtype())\n",
    "\n",
    "aabb_peanut = dm.Utilities.AABB.build_from_points(peanut)\n",
    "\n",
    "density = 30\n",
    "\n",
    "pts_implicit1 = dm.Utilities.fill_aabb(aabb_peanut, density)\n",
    "\n",
    "print(aabb_peanut.area*density)\n",
    "print(pts_implicit1.shape[0])"
   ]
  },
  {
   "cell_type": "code",
   "execution_count": null,
   "metadata": {
    "autoscroll": false,
    "collapsed": false,
    "ein.hycell": false,
    "ein.tags": "worksheet-0",
    "slideshow": {
     "slide_type": "-"
    }
   },
   "outputs": [],
   "source": [
    "plt.plot(peanut.numpy()[:, 0], peanut.numpy()[:, 1])\n",
    "plt.plot(pts_implicit1.numpy()[:, 0], pts_implicit1.numpy()[:, 1], '.')\n",
    "plt.axis('equal')\n",
    "plt.show()"
   ]
  },
  {
   "cell_type": "code",
   "execution_count": null,
   "metadata": {
    "autoscroll": false,
    "collapsed": false,
    "ein.hycell": false,
    "ein.tags": "worksheet-0",
    "slideshow": {
     "slide_type": "-"
    }
   },
   "outputs": [],
   "source": [
    "C = torch.zeros(pts_implicit1.shape[0], 2, 2)\n",
    "C[pts_implicit1[:, 0] >= 0, 0, 0] = -10.\n",
    "C[pts_implicit1[:, 0] >= 0, 1, 0] = 5.\n",
    "C[pts_implicit1[:, 0] < 0, 0, 1] = 20.\n",
    "C[pts_implicit1[:, 0] < 0, 1, 1] = 8.\n",
    "\n",
    "%matplotlib qt5\n",
    "ax = plt.subplot()\n",
    "dm.Utilities.plot_C_ellipse(ax, pts_implicit1, C, c_index=0, scale=0.01, color='red')\n",
    "dm.Utilities.plot_C_ellipse(ax, pts_implicit1, C, c_index=1, scale=0.01, color='blue')\n",
    "dm.Utilities.plot_C_arrow(ax, pts_implicit1, C, c_index=0, scale=0.01, color='black', zorder=3, mutation_scale=10)\n",
    "dm.Utilities.plot_C_arrow(ax, pts_implicit1, C, c_index=1, scale=0.01, color='black', zorder=3, mutation_scale=10)\n",
    "plt.axis(aabb_peanut.get_list())\n",
    "plt.axis('equal')\n",
    "plt.show()"
   ]
  },
  {
   "cell_type": "code",
   "execution_count": null,
   "metadata": {
    "autoscroll": false,
    "collapsed": false,
    "ein.hycell": false,
    "ein.tags": "worksheet-0",
    "slideshow": {
     "slide_type": "-"
    }
   },
   "outputs": [],
   "source": [
    "angles = 0. * math.pi * torch.ones(pts_implicit1.shape[0])\n",
    "R = torch.stack([dm.Utilities.rot2d(a) for a in angles])\n",
    "\n",
    "my_sample = sample(peanut, pts_implicit1, R, C, 0.5)\n",
    "\n",
    "ax = plt.subplot()\n",
    "plt.plot(peanut[:, 0].numpy(), peanut[:, 1].numpy(), '--')\n",
    "plt.plot(my_sample[:, 0].numpy(), my_sample[:, 1].numpy())\n",
    "plt.axis('equal')\n",
    "plt.show()"
   ]
  },
  {
   "cell_type": "code",
   "execution_count": null,
   "metadata": {
    "autoscroll": false,
    "collapsed": false,
    "ein.hycell": false,
    "ein.tags": "worksheet-0",
    "slideshow": {
     "slide_type": "-"
    }
   },
   "outputs": [],
   "source": [
    "sample_count = 40\n",
    "samples = [peanut.tolist()]\n",
    "for i in range(sample_count):\n",
    "    print(\"Generating sample\", i)\n",
    "    samples.append(sample(peanut, pts_implicit1, R, C, 0.4).tolist())"
   ]
  },
  {
   "cell_type": "code",
   "execution_count": null,
   "metadata": {
    "autoscroll": false,
    "collapsed": false,
    "ein.hycell": false,
    "ein.tags": "worksheet-0",
    "slideshow": {
     "slide_type": "-"
    }
   },
   "outputs": [],
   "source": [
    "# Does not work somehow\n",
    "\n",
    "nb_plot_row = 5\n",
    "nb_plot_col = 5\n",
    "cur_plot_index = 0\n",
    "while True:\n",
    "    for i in range(nb_plot_row):\n",
    "        for j in range(nb_plot_col):\n",
    "            if cur_plot_index < len(samples):\n",
    "                plt.subplot(nb_plot_row, nb_plot_col, nb_plot_row*i+j+1)\n",
    "                plt.plot(np.asarray(samples[cur_plot_index])[:, 0], np.asarray(samples[cur_plot_index])[:, 1])\n",
    "                cur_plot_index = cur_plot_index + 1\n",
    "            else:\n",
    "                plt.show()\n",
    "                break\n",
    "\n",
    "    plt.show()        "
   ]
  },
  {
   "cell_type": "code",
   "execution_count": null,
   "metadata": {
    "autoscroll": false,
    "collapsed": false,
    "ein.hycell": false,
    "ein.tags": "worksheet-0",
    "slideshow": {
     "slide_type": "-"
    }
   },
   "outputs": [],
   "source": [
    "pickle.dump(samples, open(\"../../data/deformed_peanuts.pkl\", 'wb'))"
   ]
  }
 ],
 "metadata": {
  "kernelspec": {
   "argv": [
    "python",
    "-m",
    "ipykernel_launcher",
    "-f",
    "{connection_file}"
   ],
   "display_name": "Python 3",
   "env": null,
   "interrupt_mode": "signal",
   "language": "python",
   "metadata": null,
   "name": "python3"
  },
  "name": "Untitled.ipynb"
 },
 "nbformat": 4,
 "nbformat_minor": 2
}
