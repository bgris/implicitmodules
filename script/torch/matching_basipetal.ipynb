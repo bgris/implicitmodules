{
 "cells": [
  {
   "cell_type": "code",
   "execution_count": 1,
   "metadata": {
    "autoscroll": false,
    "collapsed": false,
    "ein.hycell": false,
    "ein.tags": "worksheet-0",
    "slideshow": {
     "slide_type": "-"
    }
   },
   "outputs": [],
   "source": [
    "%load_ext autoreload\n",
    "%autoreload 2\n",
    "\n",
    "import pickle\n",
    "import math\n",
    "import copy\n",
    "\n",
    "# The deformation module library is not automatically installed yet, we need to add its path manually\n",
    "import sys\n",
    "sys.path.append(\"../../\")\n",
    "\n",
    "import numpy as np\n",
    "import matplotlib.pyplot as plt\n",
    "import torch\n",
    "\n",
    "import implicitmodules.torch as dm\n",
    "\n",
    "torch.set_default_tensor_type(torch.FloatTensor)\n",
    "\n",
    "dm.Utilities.set_compute_backend('torch')"
   ]
  },
  {
   "cell_type": "code",
   "execution_count": 2,
   "metadata": {
    "autoscroll": false,
    "collapsed": false,
    "ein.hycell": false,
    "ein.tags": "worksheet-0",
    "slideshow": {
     "slide_type": "-"
    }
   },
   "outputs": [
    {
     "data": {
      "text/plain": [
       "<implicitmodules.torch.Utilities.aabb.AABB at 0x7fd2c2a64b70>"
      ]
     },
     "execution_count": 2,
     "metadata": {},
     "output_type": "execute_result"
    }
   ],
   "source": [
    "# WIP\n",
    "# On va merge les deux .pkl en un seul dictionnary\n",
    "data_source = pickle.load(open(\"../../data/leafbasi.pkl\", 'rb'))\n",
    "data_target = pickle.load(open(\"../../data/leafbasit.pkl\", 'rb'))\n",
    "\n",
    "Dx = 0.\n",
    "Dy = 0.\n",
    "height_source = 38.\n",
    "height_target = 100.\n",
    "\n",
    "source = torch.tensor(data_source[1]).type(torch.get_default_dtype())\n",
    "target = torch.tensor(data_target[1]).type(torch.get_default_dtype())\n",
    "\n",
    "smin, smax = torch.min(source[:, 1]), torch.max(source[:, 1])\n",
    "sscale = height_source / (smax - smin)\n",
    "source[:, 1] = Dy - sscale * (source[:, 1] - smax)\n",
    "source[:, 0] = Dx + sscale * (source[:, 0] - torch.mean(source[:, 0]))\n",
    "\n",
    "tmin, tmax = torch.min(target[:, 1]), torch.max(target[:, 1])\n",
    "tscale = height_target / (tmax - tmin)\n",
    "target[:, 1] = - tscale * (target[:, 1] - tmax)\n",
    "target[:, 0] = tscale * (target[:, 0] - torch.mean(target[:, 0]))\n",
    "\n",
    "pos_source = source[source[:, 2] == 2, 0:2]\n",
    "pos_source = torch.tensor(np.delete(pos_source.numpy(), 3, axis=0))\n",
    "pos_implicit0 = source[source[:, 2] == 1, 0:2]\n",
    "pos_implicit1 = source[source[:, 2] == 1, 0:2]\n",
    "pos_target = target[target[:, 2] == 2, 0:2]\n",
    "\n",
    "aabb = dm.Utilities.AABB.build_from_points(pos_target)\n",
    "aabb.squared()"
   ]
  },
  {
   "cell_type": "code",
   "execution_count": 3,
   "metadata": {
    "autoscroll": false,
    "collapsed": false,
    "ein.hycell": false,
    "ein.tags": "worksheet-0",
    "slideshow": {
     "slide_type": "-"
    }
   },
   "outputs": [],
   "source": [
    "# Some plots\n",
    "%matplotlib qt5\n",
    "\n",
    "plt.subplot(2, 2, 1)\n",
    "plt.axis(aabb.totuple())\n",
    "plt.title('Source')\n",
    "plt.xlabel('x')\n",
    "plt.ylabel('y')\n",
    "plt.plot(pos_source[:, 0].numpy(), pos_source[:, 1].numpy(), '-')\n",
    "plt.plot(pos_implicit1[:, 0].numpy(), pos_implicit1[:, 1].numpy(), '.')\n",
    "plt.plot(pos_implicit0[:, 0].numpy(), pos_implicit0[:, 1].numpy(), 'x')\n",
    "plt.axis('equal')\n",
    "\n",
    "plt.subplot(2, 2, 2)\n",
    "plt.axis(aabb.totuple())\n",
    "plt.title('Target')\n",
    "plt.xlabel('x')\n",
    "plt.ylabel('y')\n",
    "plt.plot(pos_target[:, 0].numpy(), pos_target[:, 1].numpy(), '-')\n",
    "plt.axis('equal')\n",
    "\n",
    "plt.subplot(2, 2, 3)\n",
    "plt.imshow(data_source[0])\n",
    "\n",
    "plt.subplot(2, 2, 4)\n",
    "plt.imshow(data_target[0])\n",
    "\n",
    "plt.show()"
   ]
  },
  {
   "cell_type": "code",
   "execution_count": 4,
   "metadata": {
    "autoscroll": false,
    "collapsed": false,
    "ein.hycell": false,
    "ein.tags": "worksheet-0",
    "slideshow": {
     "slide_type": "-"
    }
   },
   "outputs": [],
   "source": [
    "# Setting up the modules\n",
    "\n",
    "# Global translation module\n",
    "global_translation = dm.DeformationModules.GlobalTranslation(2)\n",
    "\n",
    "# Local translation module\n",
    "sigma0 = 15.\n",
    "nu0 = 0.001\n",
    "coeff0 = 100.\n",
    "implicit0 = dm.DeformationModules.ImplicitModule0(2, pos_implicit0.shape[0], sigma0, nu0, coeff0, gd=pos_implicit0.clone().requires_grad_())\n",
    "\n",
    "# Elastic modules\n",
    "sigma1 = 30.\n",
    "nu1 = 0.001\n",
    "coeff1 = 0.01\n",
    "C = torch.zeros(pos_implicit1.shape[0], 2, 1)\n",
    "K, L = 10, height_source\n",
    "a, b = -2 / L ** 3, 3 / L ** 2\n",
    "C[:, 1, 0] = (K * (a * (L - pos_implicit1[:, 1] + Dy) ** 3  + b * (L - pos_implicit1[:, 1] + Dy) ** 2))\n",
    "C[:, 0, 0] = 1. * C[:, 1, 0]\n",
    "th = 0. * math.pi * torch.ones(pos_implicit1.shape[0])\n",
    "R = torch.stack([dm.Utilities.rot2d(t) for t in th])\n",
    "\n",
    "implicit1 = dm.DeformationModules.ImplicitModule1(2, pos_implicit1.shape[0], sigma1, C, nu=nu1, coeff=coeff1, gd=(pos_implicit1.clone().requires_grad_(), R.clone().requires_grad_()))"
   ]
  },
  {
   "cell_type": "code",
   "execution_count": 5,
   "metadata": {
    "autoscroll": false,
    "collapsed": false,
    "ein.hycell": false,
    "ein.tags": "worksheet-0",
    "slideshow": {
     "slide_type": "-"
    }
   },
   "outputs": [],
   "source": [
    "# Setting up the model and start the fitting loop\n",
    "model = dm.Models.ModelPointsRegistration([pos_source.clone()], [global_translation, implicit0, implicit1], [dm.Attachment.VarifoldAttachment(2, [20., 60.], backend='torch')], lam=100.)\n",
    "fitter = dm.Models.ModelFittingScipy(model)"
   ]
  },
  {
   "cell_type": "code",
   "execution_count": 6,
   "metadata": {
    "collapsed": false
   },
   "outputs": [],
   "source": [
    "shoot_method = 'euler'\n",
    "shoot_it = 10"
   ]
  },
  {
   "cell_type": "code",
   "execution_count": 7,
   "metadata": {
    "autoscroll": false,
    "collapsed": false,
    "ein.hycell": false,
    "ein.tags": "worksheet-0",
    "slideshow": {
     "slide_type": "-"
    }
   },
   "outputs": [
    {
     "name": "stdout",
     "output_type": "stream",
     "text": [
      "Initial energy = 1813580.500\n"
     ]
    },
    {
     "name": "stdout",
     "output_type": "stream",
     "text": [
      "================================================================================\n",
      "Time: 4.175846422091126\n",
      "Iteration: 1 \n",
      "Total energy = 1170181.375 \n",
      "Attach cost = 1170137.25 \n",
      "Deformation cost = 44.0951042175293\n"
     ]
    },
    {
     "name": "stdout",
     "output_type": "stream",
     "text": [
      "================================================================================\n",
      "Time: 7.013536680024117\n",
      "Iteration: 2 \n",
      "Total energy = 906520.1875 \n",
      "Attach cost = 906370.3125 \n",
      "Deformation cost = 149.8910369873047\n"
     ]
    },
    {
     "name": "stdout",
     "output_type": "stream",
     "text": [
      "================================================================================\n",
      "Time: 8.419079469982535\n",
      "Iteration: 3 \n",
      "Total energy = 349651.1875 \n",
      "Attach cost = 349108.0 \n",
      "Deformation cost = 543.180908203125\n"
     ]
    },
    {
     "name": "stdout",
     "output_type": "stream",
     "text": [
      "================================================================================\n",
      "Time: 11.170904641970992\n",
      "Iteration: 4 \n",
      "Total energy = 60782.1484375 \n",
      "Attach cost = 60062.890625 \n",
      "Deformation cost = 719.2579956054688\n"
     ]
    },
    {
     "name": "stdout",
     "output_type": "stream",
     "text": [
      "================================================================================\n",
      "Time: 12.651352376909927\n",
      "Iteration: 5 \n",
      "Total energy = 49618.5703125 \n",
      "Attach cost = 48848.046875 \n",
      "Deformation cost = 770.5241088867188\n"
     ]
    },
    {
     "name": "stdout",
     "output_type": "stream",
     "text": [
      "================================================================================\n",
      "Time: 14.178781975060701\n",
      "Iteration: 6 \n",
      "Total energy = 47663.83203125 \n",
      "Attach cost = 46920.1171875 \n",
      "Deformation cost = 743.7149658203125\n"
     ]
    },
    {
     "name": "stdout",
     "output_type": "stream",
     "text": [
      "================================================================================\n",
      "Time: 15.612261892063543\n",
      "Iteration: 7 \n",
      "Total energy = 47656.6015625 \n",
      "Attach cost = 46910.15625 \n",
      "Deformation cost = 746.4454956054688\n"
     ]
    },
    {
     "name": "stdout",
     "output_type": "stream",
     "text": [
      "================================================================================\n",
      "Time: 18.483120071003214\n",
      "Iteration: 8 \n",
      "Total energy = 47655.91015625 \n",
      "Attach cost = 46909.5703125 \n",
      "Deformation cost = 746.33984375\n"
     ]
    },
    {
     "name": "stdout",
     "output_type": "stream",
     "text": [
      "================================================================================\n",
      "Time: 21.30247601890005\n",
      "Iteration: 9 \n",
      "Total energy = 47652.90234375 \n",
      "Attach cost = 46907.03125 \n",
      "Deformation cost = 745.8729248046875\n"
     ]
    },
    {
     "name": "stdout",
     "output_type": "stream",
     "text": [
      "================================================================================\n",
      "Time: 22.781809905078262\n",
      "Iteration: 10 \n",
      "Total energy = 47644.66796875 \n",
      "Attach cost = 46899.8046875 \n",
      "Deformation cost = 744.864501953125\n"
     ]
    },
    {
     "name": "stdout",
     "output_type": "stream",
     "text": [
      "================================================================================\n",
      "Time: 24.2295765040908\n",
      "Iteration: 11 \n",
      "Total energy = 47617.46875 \n",
      "Attach cost = 46874.609375 \n",
      "Deformation cost = 742.86083984375\n"
     ]
    },
    {
     "name": "stdout",
     "output_type": "stream",
     "text": [
      "================================================================================\n",
      "Time: 25.636205493006855\n",
      "Iteration: 12 \n",
      "Total energy = 47550.8125 \n",
      "Attach cost = 46810.9375 \n",
      "Deformation cost = 739.8742065429688\n"
     ]
    },
    {
     "name": "stdout",
     "output_type": "stream",
     "text": [
      "================================================================================\n",
      "Time: 27.015999217052013\n",
      "Iteration: 13 \n",
      "Total energy = 47365.94921875 \n",
      "Attach cost = 46631.0546875 \n",
      "Deformation cost = 734.8960571289062\n"
     ]
    },
    {
     "name": "stdout",
     "output_type": "stream",
     "text": [
      "================================================================================\n",
      "Time: 28.486450403928757\n",
      "Iteration: 14 \n",
      "Total energy = 46799.01171875 \n",
      "Attach cost = 46072.4609375 \n",
      "Deformation cost = 726.5508422851562\n"
     ]
    },
    {
     "name": "stdout",
     "output_type": "stream",
     "text": [
      "================================================================================\n",
      "Time: 32.72883751196787\n",
      "Iteration: 15 \n",
      "Total energy = 44275.9296875 \n",
      "Attach cost = 43565.625 \n",
      "Deformation cost = 710.3045654296875\n"
     ]
    },
    {
     "name": "stdout",
     "output_type": "stream",
     "text": [
      "================================================================================\n",
      "Time: 35.60085224104114\n",
      "Iteration: 16 \n",
      "Total energy = 43674.94140625 \n",
      "Attach cost = 42959.1796875 \n",
      "Deformation cost = 715.7617797851562\n"
     ]
    },
    {
     "name": "stdout",
     "output_type": "stream",
     "text": [
      "================================================================================\n",
      "Time: 37.02270320197567\n",
      "Iteration: 17 \n",
      "Total energy = 40041.05078125 \n",
      "Attach cost = 39273.046875 \n",
      "Deformation cost = 768.0025024414062\n"
     ]
    },
    {
     "name": "stdout",
     "output_type": "stream",
     "text": [
      "================================================================================\n",
      "Time: 38.491498704999685\n",
      "Iteration: 18 \n",
      "Total energy = 39563.06640625 \n",
      "Attach cost = 38774.0234375 \n",
      "Deformation cost = 789.04443359375\n"
     ]
    },
    {
     "name": "stdout",
     "output_type": "stream",
     "text": [
      "================================================================================\n",
      "Time: 39.92067113891244\n",
      "Iteration: 19 \n",
      "Total energy = 38988.109375 \n",
      "Attach cost = 38193.9453125 \n",
      "Deformation cost = 794.1624755859375\n"
     ]
    },
    {
     "name": "stdout",
     "output_type": "stream",
     "text": [
      "================================================================================\n",
      "Time: 41.331283688079566\n",
      "Iteration: 20 \n",
      "Total energy = 38686.0703125 \n",
      "Attach cost = 37890.625 \n",
      "Deformation cost = 795.4434204101562\n"
     ]
    },
    {
     "name": "stdout",
     "output_type": "stream",
     "text": [
      "================================================================================\n",
      "Time: 42.752117621013895\n",
      "Iteration: 21 \n",
      "Total energy = 37730.51953125 \n",
      "Attach cost = 36935.15625 \n",
      "Deformation cost = 795.3619384765625\n"
     ]
    },
    {
     "name": "stdout",
     "output_type": "stream",
     "text": [
      "================================================================================\n",
      "Time: 44.2771763720084\n",
      "Iteration: 22 \n",
      "Total energy = 36674.59375 \n",
      "Attach cost = 35883.7890625 \n",
      "Deformation cost = 790.802734375\n"
     ]
    },
    {
     "name": "stdout",
     "output_type": "stream",
     "text": [
      "================================================================================\n",
      "Time: 45.80205652094446\n",
      "Iteration: 23 \n",
      "Total energy = 34975.71484375 \n",
      "Attach cost = 34162.5 \n",
      "Deformation cost = 813.2137451171875\n"
     ]
    },
    {
     "name": "stdout",
     "output_type": "stream",
     "text": [
      "================================================================================\n",
      "Time: 47.29344388493337\n",
      "Iteration: 24 \n",
      "Total energy = 33524.79296875 \n",
      "Attach cost = 32686.5234375 \n",
      "Deformation cost = 838.27001953125\n"
     ]
    },
    {
     "name": "stdout",
     "output_type": "stream",
     "text": [
      "================================================================================\n",
      "Time: 50.16196626191959\n",
      "Iteration: 25 \n",
      "Total energy = 32585.82421875 \n",
      "Attach cost = 31730.2734375 \n",
      "Deformation cost = 855.5514526367188\n"
     ]
    },
    {
     "name": "stdout",
     "output_type": "stream",
     "text": [
      "================================================================================\n",
      "Time: 53.152602853951976\n",
      "Iteration: 26 \n",
      "Total energy = 32272.759765625 \n",
      "Attach cost = 31410.3515625 \n",
      "Deformation cost = 862.40869140625\n"
     ]
    },
    {
     "name": "stdout",
     "output_type": "stream",
     "text": [
      "================================================================================\n",
      "Time: 54.58075379091315\n",
      "Iteration: 27 \n",
      "Total energy = 31879.533203125 \n",
      "Attach cost = 31023.046875 \n",
      "Deformation cost = 856.4860229492188\n"
     ]
    },
    {
     "name": "stdout",
     "output_type": "stream",
     "text": [
      "================================================================================\n",
      "Time: 55.99422756792046\n",
      "Iteration: 28 \n",
      "Total energy = 31184.666015625 \n",
      "Attach cost = 30319.53125 \n",
      "Deformation cost = 865.1345825195312\n"
     ]
    },
    {
     "name": "stdout",
     "output_type": "stream",
     "text": [
      "================================================================================\n",
      "Time: 57.39692919002846\n",
      "Iteration: 29 \n",
      "Total energy = 30548.310546875 \n",
      "Attach cost = 29671.6796875 \n",
      "Deformation cost = 876.6310424804688\n"
     ]
    },
    {
     "name": "stdout",
     "output_type": "stream",
     "text": [
      "================================================================================\n",
      "Time: 60.31729691289365\n",
      "Iteration: 30 \n",
      "Total energy = 30319.61328125 \n",
      "Attach cost = 29427.9296875 \n",
      "Deformation cost = 891.6835327148438\n"
     ]
    },
    {
     "name": "stdout",
     "output_type": "stream",
     "text": [
      "================================================================================\n",
      "Time: 61.7612081610132\n",
      "Iteration: 31 \n",
      "Total energy = 29959.26953125 \n",
      "Attach cost = 29049.0234375 \n",
      "Deformation cost = 910.2451171875\n"
     ]
    },
    {
     "name": "stdout",
     "output_type": "stream",
     "text": [
      "================================================================================\n",
      "Time: 63.124896321911365\n",
      "Iteration: 32 \n",
      "Total energy = 29597.84375 \n",
      "Attach cost = 28674.8046875 \n",
      "Deformation cost = 923.0383911132812\n"
     ]
    },
    {
     "name": "stdout",
     "output_type": "stream",
     "text": [
      "================================================================================\n",
      "Time: 64.54627177794464\n",
      "Iteration: 33 \n",
      "Total energy = 29526.40625 \n",
      "Attach cost = 28597.4609375 \n",
      "Deformation cost = 928.9461669921875\n"
     ]
    },
    {
     "name": "stdout",
     "output_type": "stream",
     "text": [
      "================================================================================\n",
      "Time: 66.0295654849615\n",
      "Iteration: 34 \n",
      "Total energy = 29458.775390625 \n",
      "Attach cost = 28511.328125 \n",
      "Deformation cost = 947.44775390625\n"
     ]
    },
    {
     "name": "stdout",
     "output_type": "stream",
     "text": [
      "================================================================================\n",
      "Time: 67.49563656491227\n",
      "Iteration: 35 \n",
      "Total energy = 29432.845703125 \n",
      "Attach cost = 28493.1640625 \n",
      "Deformation cost = 939.6817626953125\n"
     ]
    },
    {
     "name": "stdout",
     "output_type": "stream",
     "text": [
      "================================================================================\n",
      "Time: 68.91312305489555\n",
      "Iteration: 36 \n",
      "Total energy = 29427.439453125 \n",
      "Attach cost = 28485.15625 \n",
      "Deformation cost = 942.28271484375\n"
     ]
    },
    {
     "name": "stdout",
     "output_type": "stream",
     "text": [
      "================================================================================\n",
      "Time: 70.47218667599373\n",
      "Iteration: 37 \n",
      "Total energy = 29424.97265625 \n",
      "Attach cost = 28480.6640625 \n",
      "Deformation cost = 944.3080444335938\n"
     ]
    },
    {
     "name": "stdout",
     "output_type": "stream",
     "text": [
      "================================================================================\n",
      "Time: 71.97469987301156\n",
      "Iteration: 38 \n",
      "Total energy = 29423.185546875 \n",
      "Attach cost = 28478.515625 \n",
      "Deformation cost = 944.6697998046875\n"
     ]
    },
    {
     "name": "stdout",
     "output_type": "stream",
     "text": [
      "================================================================================\n",
      "Time: 73.41382108000107\n",
      "Iteration: 39 \n",
      "Total energy = 29416.64453125 \n",
      "Attach cost = 28470.3125 \n",
      "Deformation cost = 946.332275390625\n"
     ]
    },
    {
     "name": "stdout",
     "output_type": "stream",
     "text": [
      "================================================================================\n",
      "Time: 74.84998879302293\n",
      "Iteration: 40 \n",
      "Total energy = 29406.802734375 \n",
      "Attach cost = 28458.59375 \n",
      "Deformation cost = 948.2095947265625\n",
      "================================================================================\n",
      "Optimisation process exited with message: b'STOP: TOTAL NO. of ITERATIONS REACHED LIMIT'\n",
      "Final energy = 29406.802734375\n",
      "Closure evaluations = 52\n",
      "Time elapsed = 74.85131214605644\n"
     ]
    }
   ],
   "source": [
    "costs = fitter.fit([pos_target], 40, log_interval=1, options={'shoot_method': shoot_method, 'shoot_it': shoot_it})"
   ]
  },
  {
   "cell_type": "code",
   "execution_count": 8,
   "metadata": {
    "autoscroll": false,
    "collapsed": false,
    "ein.hycell": false,
    "ein.tags": "worksheet-0",
    "slideshow": {
     "slide_type": "-"
    }
   },
   "outputs": [],
   "source": [
    "# Results\n",
    "intermediate_states, _ = model.compute_deformed(shoot_method, shoot_it, intermediates=True)\n",
    "\n",
    "deformed_source = intermediate_states[-1][0].gd\n",
    "deformed_implicit0 = intermediate_states[-1][2].gd\n",
    "deformed_implicit1 = intermediate_states[-1][3].gd[0]\n",
    "\n",
    "%matplotlib qt5\n",
    "plt.subplot(1, 3, 1)\n",
    "plt.title(\"Source\")\n",
    "plt.axis(aabb.totuple())\n",
    "plt.plot(pos_source[:, 0].numpy(), pos_source[:, 1].numpy(), '-')\n",
    "plt.plot(pos_implicit1[:, 0].numpy(), pos_implicit1[:, 1].numpy(), '.')\n",
    "plt.plot(pos_implicit0[:, 0].numpy(), pos_implicit0[:, 1].numpy(), 'x')\n",
    "plt.axis('equal')\n",
    "\n",
    "plt.subplot(1, 3, 2)\n",
    "plt.title(\"Deformed source\")\n",
    "plt.axis(aabb.totuple())\n",
    "plt.plot(deformed_source[:, 0], deformed_source[:, 1], '-')\n",
    "plt.plot(deformed_implicit0[:, 0], deformed_implicit0[:, 1], 'x')\n",
    "plt.plot(deformed_implicit1[:, 0], deformed_implicit1[:, 1], '.')\n",
    "plt.axis('equal')\n",
    "\n",
    "plt.subplot(1, 3, 3)\n",
    "plt.title(\"Deformed source and target\")\n",
    "plt.axis(aabb.totuple())\n",
    "plt.plot(pos_target[:, 0].numpy(), pos_target[:, 1].numpy(), '-')\n",
    "plt.plot(deformed_source[:, 0], deformed_source[:, 1], '-')\n",
    "plt.axis('equal')\n",
    "plt.show()"
   ]
  },
  {
   "cell_type": "code",
   "execution_count": 142,
   "metadata": {
    "collapsed": false
   },
   "outputs": [
    {
     "name": "stdout",
     "output_type": "stream",
     "text": [
      "[tensor([-0.0180]), tensor([0.0365]), tensor([0.0865]), tensor([0.1399]), tensor([0.2030]), tensor([0.2786]), tensor([0.3508]), tensor([0.3607]), tensor([0.3003]), tensor([0.2561])]\n"
     ]
    }
   ],
   "source": [
    "modules = dm.DeformationModules.CompoundModule(copy.copy(model.modules))\n",
    "modules.manifold.fill(model.init_manifold.clone(), copy=True)\n",
    "\n",
    "intermediate_states, intermediate_controls = dm.HamiltonianDynamic.shoot(dm.HamiltonianDynamic.Hamiltonian(modules), shoot_it, shoot_method, intermediates=True)\n",
    "\n",
    "implicit0_controls = [control[2] for control in intermediate_controls]\n",
    "implicit1_controls = [control[3] for control in intermediate_controls]\n",
    "\n",
    "print(implicit1_controls)"
   ]
  },
  {
   "cell_type": "code",
   "execution_count": 149,
   "metadata": {
    "autoscroll": false,
    "collapsed": false,
    "ein.hycell": false,
    "ein.tags": "worksheet-0",
    "slideshow": {
     "slide_type": "-"
    }
   },
   "outputs": [],
   "source": [
    "modules = dm.DeformationModules.CompoundModule(copy.copy(model.modules))\n",
    "modules.manifold.fill(model.init_manifold.clone(), copy=True)\n",
    "\n",
    "silent = copy.copy(modules[0])\n",
    "deformation_grid = dm.DeformationModules.DeformationGrid(dm.Utilities.AABB.build_from_points(pos_source).scale(1.2), [32, 32])\n",
    "implicit1 = copy.copy(modules[3])\n",
    "\n",
    "# silent.manifold.fill(model.init_manifold[0], copy=True)\n",
    "# silent.manifold.fill_cotan_zeros()\n",
    "# implicit0.manifold.fill(model.init_manifold[3], copy=True)\n",
    "# implicit1.manifold.fill_cotan_zeros()\n",
    "\n",
    "controls = [[torch.tensor([]), torch.tensor([]), control] for control in implicit1_controls]\n",
    "\n",
    "dm.HamiltonianDynamic.shoot(dm.HamiltonianDynamic.Hamiltonian([silent, deformation_grid, implicit1]), shoot_it, shoot_method, controls=controls)\n",
    "\n",
    "deformed_source = silent.manifold.gd.detach()\n",
    "deformed_grid = deformation_grid.togrid()\n",
    "deformed_implicit1 = implicit1.manifold.gd[0].detach()\n",
    "\n",
    "ax = plt.subplot()\n",
    "plt.plot(pos_source[:, 0].numpy(), pos_source[:, 1].numpy(), '--', color='black')\n",
    "plt.plot(deformed_source[:, 0].numpy(), deformed_source[:, 1].numpy(), '-', color='black')\n",
    "dm.Utilities.plot_grid(ax, deformed_grid[0], deformed_grid[1], color='xkcd:light blue', lw=0.5)\n",
    "plt.plot(deformed_implicit1[:, 0].numpy(), deformed_implicit1[:, 1].numpy(), 'x')\n",
    "plt.axis('equal')\n",
    "plt.show()"
   ]
  },
  {
   "cell_type": "code",
   "execution_count": 155,
   "metadata": {
    "collapsed": false
   },
   "outputs": [],
   "source": [
    "modules = dm.DeformationModules.CompoundModule(copy.copy(model.modules))\n",
    "modules.manifold.fill(model.init_manifold.clone(), copy=True)\n",
    "\n",
    "silent = copy.copy(modules[0])\n",
    "deformation_grid = dm.DeformationModules.DeformationGrid(dm.Utilities.AABB.build_from_points(pos_source).scale(1.2), [32, 32])\n",
    "implicit0 = copy.copy(modules[2])\n",
    "\n",
    "controls = [[torch.tensor([]), torch.tensor([]), control] for control in implicit0_controls]\n",
    "\n",
    "dm.HamiltonianDynamic.shoot(dm.HamiltonianDynamic.Hamiltonian([silent, deformation_grid, implicit0]), shoot_it, shoot_method, controls=controls)\n",
    "\n",
    "deformed_source = silent.manifold.gd.detach()\n",
    "deformed_grid = deformation_grid.togrid()\n",
    "deformed_implicit0 = implicit0.manifold.gd.detach()\n",
    "\n",
    "ax = plt.subplot()\n",
    "plt.plot(pos_source[:, 0].numpy(), pos_source[:, 1].numpy(), '--', color='black')\n",
    "plt.plot(deformed_source[:, 0].numpy(), deformed_source[:, 1].numpy(), '-', color='black')\n",
    "dm.Utilities.plot_grid(ax, deformed_grid[0], deformed_grid[1], color='xkcd:light blue', lw=0.5)\n",
    "plt.plot(deformed_implicit0[:, 0].numpy(), deformed_implicit0[:, 1].numpy(), 'x')\n",
    "plt.axis('equal')\n",
    "plt.show()"
   ]
  }
 ],
 "metadata": {
  "kernelspec": {
   "argv": [
    "python",
    "-m",
    "ipykernel_launcher",
    "-f",
    "{connection_file}"
   ],
   "display_name": "Python 3",
   "env": null,
   "interrupt_mode": "signal",
   "language": "python",
   "metadata": null,
   "name": "python3"
  },
  "name": "matching_basipetal.ipynb"
 },
 "nbformat": 4,
 "nbformat_minor": 2
}
