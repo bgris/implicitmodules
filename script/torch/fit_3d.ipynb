{
 "cells": [
  {
   "cell_type": "code",
   "execution_count": null,
   "metadata": {
    "autoscroll": false,
    "collapsed": false,
    "ein.hycell": false,
    "ein.tags": "worksheet-0",
    "slideshow": {
     "slide_type": "-"
    }
   },
   "outputs": [],
   "source": [
    "%load_ext autoreload\n",
    "%autoreload 2\n",
    "\n",
    "import sys\n",
    "import copy\n",
    "import math\n",
    "import pickle\n",
    "\n",
    "sys.path.append(\"../../\")\n",
    "\n",
    "import numpy as np\n",
    "import torch\n",
    "import matplotlib.pyplot as plt\n",
    "from mpl_toolkits.mplot3d import Axes3D\n",
    "import meshio\n",
    "\n",
    "import implicitmodules.torch as dm\n",
    "\n",
    "torch.set_default_tensor_type(torch.FloatTensor)\n",
    "\n",
    "dm.Utilities.set_compute_backend('torch')"
   ]
  },
  {
   "cell_type": "code",
   "execution_count": null,
   "metadata": {
    "autoscroll": false,
    "collapsed": false,
    "ein.hycell": false,
    "ein.tags": "worksheet-0",
    "slideshow": {
     "slide_type": "-"
    }
   },
   "outputs": [],
   "source": [
    "mesh = meshio.read(\"../../data/sphere.stl\")\n",
    "\n",
    "source = torch.tensor(mesh.points).to(dtype=torch.get_default_dtype())\n",
    "source = source[::5, :].contiguous()\n",
    "\n",
    "target = source * torch.tensor([1., 1., 2.])"
   ]
  },
  {
   "cell_type": "code",
   "execution_count": null,
   "metadata": {
    "autoscroll": false,
    "collapsed": false,
    "ein.hycell": false,
    "ein.tags": "worksheet-0",
    "slideshow": {
     "slide_type": "-"
    }
   },
   "outputs": [],
   "source": [
    "def set_aspect_equal_3d(ax):\n",
    "    \"\"\"Fix equal aspect bug for 3D plots.\"\"\"\n",
    "\n",
    "    xlim = ax.get_xlim3d()\n",
    "    ylim = ax.get_ylim3d()\n",
    "    zlim = ax.get_zlim3d()\n",
    "\n",
    "    from numpy import mean\n",
    "    xmean = mean(xlim)\n",
    "    ymean = mean(ylim)\n",
    "    zmean = mean(zlim)\n",
    "\n",
    "    plot_radius = max([abs(lim - mean_)\n",
    "                       for lims, mean_ in ((xlim, xmean),\n",
    "                                           (ylim, ymean),\n",
    "                                           (zlim, zmean))\n",
    "                       for lim in lims])\n",
    "\n",
    "    ax.set_xlim3d([xmean - plot_radius, xmean + plot_radius])\n",
    "    ax.set_ylim3d([ymean - plot_radius, ymean + plot_radius])\n",
    "    ax.set_zlim3d([zmean - plot_radius, zmean + plot_radius])"
   ]
  },
  {
   "cell_type": "code",
   "execution_count": null,
   "metadata": {
    "autoscroll": false,
    "collapsed": false,
    "ein.hycell": false,
    "ein.tags": "worksheet-0",
    "slideshow": {
     "slide_type": "-"
    }
   },
   "outputs": [],
   "source": [
    "%matplotlib qt5\n",
    "fig = plt.figure()\n",
    "\n",
    "ax = fig.add_subplot(121, projection='3d')\n",
    "ax.scatter(source[:, 0].numpy(), source[:, 1].numpy(), source[:, 2].numpy(), marker='o')\n",
    "set_aspect_equal_3d(ax)\n",
    "\n",
    "ax = fig.add_subplot(122, projection='3d')\n",
    "ax.scatter(target[:, 0].numpy(), target[:, 1].numpy(), target[:, 2].numpy(), marker='o')\n",
    "set_aspect_equal_3d(ax)\n",
    "\n",
    "plt.show()"
   ]
  },
  {
   "cell_type": "code",
   "execution_count": null,
   "metadata": {
    "autoscroll": false,
    "collapsed": false,
    "ein.hycell": false,
    "ein.tags": "worksheet-0",
    "slideshow": {
     "slide_type": "-"
    }
   },
   "outputs": [],
   "source": [
    "device = 'cpu'\n",
    "\n",
    "source = source.to(device=device)\n",
    "target = target.to(device=device)\n",
    "\n",
    "nu = 0.01\n",
    "\n",
    "sigma0 = 0.2\n",
    "implicit0 = dm.DeformationModules.create_deformation_module('implicit_order_0', dim=3, nb_pts=source.shape[0], sigma=sigma0, nu=nu, coeff=1., gd=source.view(-1).requires_grad_())\n",
    "\n",
    "mini, maxi = -1.2, 1.2\n",
    "nb_pts = 5\n",
    "\n",
    "grid_xyz = torch.meshgrid([torch.linspace(mini, maxi, nb_pts), torch.linspace(mini, maxi, nb_pts), torch.linspace(mini, maxi, nb_pts)])\n",
    "\n",
    "pts_implicit1 = dm.Utilities.grid2vec(grid_xyz[0], grid_xyz[1], grid_xyz[2]).to(device=device)\n",
    "R = torch.stack([torch.eye(3) for a in pts_implicit1]).to(device=device)\n",
    "C = torch.tensor([[0., 0., 1.]]).repeat(pts_implicit1.shape[0], 1).unsqueeze(2).to(device=device)\n",
    "\n",
    "sigma1 = 0.7\n",
    "\n",
    "implicit1 = dm.DeformationModules.create_deformation_module('implicit_order_1', dim=3, nb_pts=pts_implicit1.shape[0], C=C, sigma=sigma1, nu=nu, gd=(pts_implicit1.view(-1).requires_grad_(), R.view(-1).requires_grad_()))"
   ]
  },
  {
   "cell_type": "code",
   "execution_count": null,
   "metadata": {
    "autoscroll": false,
    "collapsed": false,
    "ein.hycell": false,
    "ein.tags": "worksheet-0",
    "slideshow": {
     "slide_type": "-"
    }
   },
   "outputs": [],
   "source": [
    "model = dm.Models.ModelPointsRegistration([source], [implicit1], [dm.Attachment.EnergyAttachement()])\n",
    "fitter = dm.Models.ModelFittingScipy(model, 10.)\n",
    "\n",
    "costs = fitter.fit([target], 50, log_interval=1)"
   ]
  },
  {
   "cell_type": "code",
   "execution_count": null,
   "metadata": {
    "autoscroll": false,
    "collapsed": false,
    "ein.hycell": false,
    "ein.tags": "worksheet-0",
    "slideshow": {
     "slide_type": "-"
    }
   },
   "outputs": [],
   "source": [
    "trans = model.modules[0].manifold.gd.to('cpu').detach().view(-1, 3)\n",
    "target = target.to('cpu')    \n",
    "\n",
    "%matplotlib qt5\n",
    "fig = plt.figure()\n",
    "ax = fig.add_subplot(111, projection='3d')\n",
    "ax.scatter(trans[:, 0].numpy(), trans[:, 1].numpy(), trans[:, 2].numpy(), marker='o', color='b')\n",
    "ax.scatter(target[:, 0].numpy(), target[:, 1].numpy(), target[:, 2].numpy(), marker='o', color='r')\n",
    "set_aspect_equal_3d(ax)\n",
    "plt.show()\n"
   ]
  },
  {
   "cell_type": "code",
   "execution_count": null,
   "metadata": {
    "autoscroll": false,
    "collapsed": false,
    "ein.hycell": false,
    "ein.tags": "worksheet-0",
    "slideshow": {
     "slide_type": "-"
    }
   },
   "outputs": [],
   "source": []
  }
 ],
 "metadata": {
  "kernelspec": {
   "display_name": "Python 3",
   "name": "python3"
  },
  "name": "fit_3d.ipynb"
 },
 "nbformat": 4,
 "nbformat_minor": 2
}
