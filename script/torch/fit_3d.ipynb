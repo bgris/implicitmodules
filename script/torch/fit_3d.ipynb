{
 "cells": [
  {
   "cell_type": "code",
   "execution_count": null,
   "metadata": {
    "autoscroll": false,
    "collapsed": false,
    "ein.hycell": false,
    "ein.tags": "worksheet-0",
    "slideshow": {
     "slide_type": "-"
    }
   },
   "outputs": [],
   "source": [
    "%load_ext autoreload\n",
    "%autoreload 2\n",
    "\n",
    "import sys\n",
    "import copy\n",
    "import math\n",
    "import pickle\n",
    "\n",
    "sys.path.append(\"../../\")\n",
    "\n",
    "import numpy as np\n",
    "import torch\n",
    "import matplotlib.pyplot as plt\n",
    "from mpl_toolkits.mplot3d import Axes3D\n",
    "import meshio\n",
    "\n",
    "import implicitmodules.torch as dm\n",
    "\n",
    "#torch.set_num_threads(6)\n",
    "torch.set_default_tensor_type(torch.FloatTensor)"
   ]
  },
  {
   "cell_type": "code",
   "execution_count": null,
   "metadata": {
    "autoscroll": false,
    "collapsed": false,
    "ein.hycell": false,
    "ein.tags": "worksheet-0",
    "slideshow": {
     "slide_type": "-"
    }
   },
   "outputs": [],
   "source": [
    "source = torch.zeros(8, 3)\n",
    "source[0, 0] = -1.\n",
    "source[0, 1] = -1.\n",
    "source[0, 2] = -1.\n",
    "\n",
    "source[1, 0] = -1.\n",
    "source[1, 1] = 1.\n",
    "source[1, 2] = -1.\n",
    "\n",
    "source[2, 0] = -1\n",
    "source[2, 1] = 1.\n",
    "source[2, 2] = 1.\n",
    "\n",
    "source[3, 0] = -1\n",
    "source[3, 1] = -1.\n",
    "source[3, 2] = 1.\n",
    "\n",
    "source[4, 0] = 1.\n",
    "source[4, 1] = -1.\n",
    "source[4, 2] = -1.\n",
    "\n",
    "source[5, 0] = 1.\n",
    "source[5, 1] = 1.\n",
    "source[5, 2] = -1.\n",
    "\n",
    "source[6, 0] = 1\n",
    "source[6, 1] = 1.\n",
    "source[6, 2] = 1.\n",
    "\n",
    "source[7, 0] = 1\n",
    "source[7, 1] = -1.\n",
    "source[7, 2] = 1.\n",
    "\n",
    "mesh = meshio.read(\"../../data/sphere.stl\")\n",
    "\n",
    "source = torch.tensor(mesh.points).to(dtype=torch.get_default_dtype())\n",
    "source = source[::5, :].contiguous()\n",
    "\n",
    "target = source * torch.tensor([1., 1., 1.5])\n",
    "\n",
    "%matplotlib qt5\n",
    "fig = plt.figure()\n",
    "ax = fig.add_subplot(111, projection='3d')\n",
    "ax.scatter(source[:, 0].numpy(), source[:, 1].numpy(), source[:, 2].numpy(), marker='o')\n",
    "plt.show()"
   ]
  },
  {
   "cell_type": "code",
   "execution_count": null,
   "metadata": {
    "autoscroll": false,
    "collapsed": false,
    "ein.hycell": false,
    "ein.tags": "worksheet-0",
    "slideshow": {
     "slide_type": "-"
    }
   },
   "outputs": [],
   "source": [
    "sigma0 = 0.2\n",
    "nu0 = 0.01\n",
    "implicit0 = dm.DeformationModules.ImplicitModule0.build_from_points(3, source.shape[0], sigma0, nu0, coeff=1., gd=source.view(-1).requires_grad_())"
   ]
  },
  {
   "cell_type": "code",
   "execution_count": null,
   "metadata": {
    "autoscroll": false,
    "collapsed": false,
    "ein.hycell": false,
    "ein.tags": "worksheet-0",
    "slideshow": {
     "slide_type": "-"
    }
   },
   "outputs": [],
   "source": [
    "model = dm.Models.ModelPointsRegistration([source], [implicit0], [dm.Attachment.EuclideanPointwiseDistanceAttachement()])\n",
    "fitter = dm.Models.ModelFittingScipy(model, 1.)\n",
    "\n",
    "costs = fitter.fit([target], 100, log_interval=10)"
   ]
  },
  {
   "cell_type": "code",
   "execution_count": null,
   "metadata": {
    "autoscroll": false,
    "collapsed": false,
    "ein.hycell": false,
    "ein.tags": "worksheet-0",
    "slideshow": {
     "slide_type": "-"
    }
   },
   "outputs": [],
   "source": []
  }
 ],
 "metadata": {
  "kernelspec": {
   "argv": [
    "python",
    "-m",
    "ipykernel_launcher",
    "-f",
    "{connection_file}"
   ],
   "display_name": "Python 3",
   "env": null,
   "interrupt_mode": "signal",
   "language": "python",
   "metadata": null,
   "name": "python3"
  },
  "name": "Untitled.ipynb"
 },
 "nbformat": 4,
 "nbformat_minor": 2
}
