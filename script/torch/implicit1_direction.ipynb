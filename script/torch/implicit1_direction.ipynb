{
 "cells": [
  {
   "cell_type": "code",
   "execution_count": null,
   "metadata": {
    "autoscroll": false,
    "collapsed": false,
    "ein.hycell": false,
    "ein.tags": "worksheet-0",
    "slideshow": {
     "slide_type": "-"
    }
   },
   "outputs": [],
   "source": [
    "%load_ext autoreload\n",
    "%autoreload 2\n",
    "\n",
    "import sys\n",
    "import math\n",
    "import pickle\n",
    "import random\n",
    "\n",
    "import torch\n",
    "import matplotlib.pyplot as plt\n",
    "from mpl_toolkits.mplot3d import Axes3D\n",
    "import pymesh\n",
    "\n",
    "sys.path.append(\"../../\")\n",
    "\n",
    "import implicitmodules.torch as dm"
   ]
  },
  {
   "cell_type": "code",
   "execution_count": null,
   "metadata": {
    "autoscroll": false,
    "collapsed": false,
    "ein.hycell": false,
    "ein.tags": "worksheet-0",
    "slideshow": {
     "slide_type": "-"
    }
   },
   "outputs": [],
   "source": [
    "seed = 1337\n",
    "refinement_order = 2\n",
    "sigma = 2.\n",
    "sphere_count = 5\n",
    "spheres = []\n",
    "spheres_data = []\n",
    "\n",
    "random.seed(seed)\n",
    "\n",
    "sphere_mesh = pymesh.generate_icosphere(0.5, [0., 0., 0.], refinement_order)\n",
    "sphere_points = torch.tensor(sphere_mesh.vertices, dtype=torch.get_default_dtype())\n",
    "sphere_triangles = torch.tensor(sphere_mesh.faces, dtype=torch.long)\n",
    "\n",
    "# axis = random.randint(0, 2)\n",
    "axis = 0\n",
    "scale = random.gauss(0., sigma)\n",
    "scale_matrix = torch.eye(3)\n",
    "scale_matrix[axis, axis] = scale\n",
    "rot_matrix = dm.Utilities.rot3d_z(math.pi/3.) @ dm.Utilities.rot3d_x(2*math.pi/3.)\n",
    "trans_matrix = rot_matrix @ scale_matrix\n",
    "\n",
    "source_points = sphere_points\n",
    "source_triangles = sphere_triangles\n",
    "target_points = dm.Utilities.linear_transform(sphere_points, trans_matrix)\n",
    "target_triangles = sphere_triangles\n",
    "\n",
    "source_deformable = dm.Models.DeformableMesh(source_points, source_triangles)\n",
    "target_deformable = dm.Models.DeformableMesh(target_points, target_triangles)\n",
    "\n",
    "print(\"Vertices count={vertices_count}\".format(vertices_count=sphere_points.shape[0]))"
   ]
  },
  {
   "cell_type": "code",
   "execution_count": null,
   "metadata": {
    "autoscroll": false,
    "collapsed": false,
    "ein.hycell": false,
    "ein.tags": "worksheet-0",
    "slideshow": {
     "slide_type": "-"
    }
   },
   "outputs": [],
   "source": [
    "%matplotlib qt5\n",
    "ax = plt.subplot(projection='3d')\n",
    "ax.plot_trisurf(source_points[:, 0].numpy(), source_points[:, 1].numpy(), source_points[:, 2].numpy(), triangles=source_triangles)\n",
    "ax.plot_trisurf(target_points[:, 0].numpy(), target_points[:, 1].numpy(), target_points[:, 2].numpy(), triangles=target_triangles, color= (0,1,0,0.2), edgecolor=(0, 1, 0, 0.2))\n",
    "dm.Utilities.set_aspect_equal_3d(ax)\n",
    "plt.show()"
   ]
  },
  {
   "cell_type": "code",
   "execution_count": null,
   "metadata": {
    "autoscroll": false,
    "collapsed": false,
    "ein.hycell": false,
    "ein.tags": "worksheet-0",
    "slideshow": {
     "slide_type": "-"
    }
   },
   "outputs": [],
   "source": [
    "sigma = 0.3\n",
    "points_density = 200\n",
    "aabb = dm.Utilities.AABB.build_from_points(torch.tensor(sphere_mesh.vertices)).scale(1.2)\n",
    "\n",
    "implicit1_points = aabb.fill_uniform_density(points_density)\n",
    "implicit1_points = implicit1_points[torch.where(0.55 > torch.norm(implicit1_points, dim=1))]\n",
    "print(implicit1_points.shape)\n",
    "implicit1_rot = torch.eye(3).repeat(implicit1_points.shape[0], 1, 1)\n",
    "\n",
    "implicit1_c = torch.zeros(implicit1_points.shape[0], 3, 1)\n",
    "implicit1_c[:, 0, 0] = 1.\n",
    "\n",
    "angles = torch.zeros(implicit1_points.shape[0], 3, requires_grad=True)"
   ]
  },
  {
   "cell_type": "code",
   "execution_count": null,
   "metadata": {
    "collapsed": false
   },
   "outputs": [],
   "source": [
    "%matplotlib qt5\n",
    "ax = plt.subplot(projection='3d')\n",
    "ax.set_proj_type('ortho')\n",
    "ax.plot_trisurf(source_points[:, 0].numpy(), source_points[:, 1].numpy(), source_points[:, 2].numpy(), triangles=source_triangles, color= (1,1,0,0.1))\n",
    "plt.plot(implicit1_points[:, 0].numpy(), implicit1_points[:, 1].numpy(), implicit1_points[:, 2].numpy(), '.')\n",
    "dm.Utilities.set_aspect_equal_3d(ax)\n",
    "plt.show()"
   ]
  },
  {
   "cell_type": "code",
   "execution_count": null,
   "metadata": {
    "autoscroll": false,
    "collapsed": false,
    "ein.hycell": false,
    "ein.tags": "worksheet-0",
    "slideshow": {
     "slide_type": "-"
    }
   },
   "outputs": [],
   "source": [
    "global_translation = dm.DeformationModules.GlobalTranslation(3)\n",
    "\n",
    "implicit1 = dm.DeformationModules.ImplicitModule1(3, implicit1_points.shape[0], sigma, implicit1_c, nu=0.1, gd=(implicit1_points, implicit1_rot))"
   ]
  },
  {
   "cell_type": "code",
   "execution_count": null,
   "metadata": {
    "autoscroll": false,
    "collapsed": false,
    "ein.hycell": false,
    "ein.tags": "worksheet-0",
    "slideshow": {
     "slide_type": "slide"
    }
   },
   "outputs": [],
   "source": [
    "def precompute(init_manifold, modules, parameters):\n",
    "    rot_x = dm.Utilities.rot3d_x_vec(parameters['angles']['params'][0][:, 0])\n",
    "    rot_y = dm.Utilities.rot3d_y_vec(parameters['angles']['params'][0][:, 1])\n",
    "    rot_z = dm.Utilities.rot3d_z_vec(parameters['angles']['params'][0][:, 2])\n",
    "\n",
    "    basis = torch.einsum('nik, nkl, nlj->nij', rot_z, rot_y, rot_x)\n",
    "    init_manifold[2].gd = (init_manifold[2].gd[0], basis)\n",
    "\n",
    "\n",
    "sigmas_varifold = [0.5]\n",
    "attachment = dm.Attachment.VarifoldAttachment(3, sigmas_varifold)\n",
    "\n",
    "model = dm.Models.RegistrationModel([source_deformable], [global_translation, implicit1], [attachment], lam=10000., precompute_callback=precompute, other_parameters={'angles': {'params': [angles]}})"
   ]
  },
  {
   "cell_type": "code",
   "execution_count": null,
   "metadata": {
    "autoscroll": false,
    "collapsed": false,
    "ein.hycell": false,
    "ein.tags": "worksheet-0",
    "slideshow": {
     "slide_type": "-"
    }
   },
   "outputs": [],
   "source": [
    "shoot_solver = 'euler'\n",
    "shoot_it = 10\n",
    "\n",
    "costs = {}\n",
    "fitter = dm.Models.Fitter(model, optimizer='torch_lbfgs')\n",
    "\n",
    "fitter.fit(target_deformable, 50, costs=costs, options={'shoot_solver': shoot_solver, 'shoot_it': shoot_it, 'line_search_fn': 'strong_wolfe'})"
   ]
  },
  {
   "cell_type": "code",
   "execution_count": null,
   "metadata": {
    "autoscroll": false,
    "collapsed": false,
    "ein.hycell": false,
    "ein.tags": "worksheet-0",
    "slideshow": {
     "slide_type": "-"
    }
   },
   "outputs": [],
   "source": [
    "intermediates = {}\n",
    "deformed = model.compute_deformed(shoot_solver, shoot_it, intermediates=intermediates)[0][0].detach()"
   ]
  },
  {
   "cell_type": "code",
   "execution_count": null,
   "metadata": {
    "autoscroll": false,
    "collapsed": false,
    "ein.hycell": false,
    "ein.tags": "worksheet-0",
    "slideshow": {
     "slide_type": "-"
    }
   },
   "outputs": [],
   "source": [
    "print(model.init_manifold[2].gd[1])\n",
    "basis = model.init_manifold[2].gd[1].detach()"
   ]
  },
  {
   "cell_type": "code",
   "execution_count": null,
   "metadata": {
    "collapsed": false
   },
   "outputs": [],
   "source": [
    "orth = torch.einsum('nik, njk->nij', basis, basis)"
   ]
  },
  {
   "cell_type": "code",
   "execution_count": null,
   "metadata": {
    "autoscroll": false,
    "collapsed": false,
    "ein.hycell": false,
    "ein.tags": "worksheet-0",
    "slideshow": {
     "slide_type": "-"
    }
   },
   "outputs": [],
   "source": [
    "print(angles)"
   ]
  },
  {
   "cell_type": "code",
   "execution_count": null,
   "metadata": {
    "autoscroll": false,
    "collapsed": false,
    "ein.hycell": false,
    "ein.tags": "worksheet-0",
    "slideshow": {
     "slide_type": "-"
    }
   },
   "outputs": [],
   "source": [
    "print(intermediates['controls'])"
   ]
  },
  {
   "cell_type": "code",
   "execution_count": null,
   "metadata": {
    "collapsed": false
   },
   "outputs": [],
   "source": [
    "print(basis[0])\n",
    "print(basis[0, :, 0])\n",
    "print(basis[0, :, 1])\n"
   ]
  },
  {
   "cell_type": "code",
   "execution_count": null,
   "metadata": {
    "collapsed": false
   },
   "outputs": [],
   "source": [
    "alpha_true = rot_matrix[:, 0]\n",
    "print(alpha_true)\n",
    "n = torch.norm(basis[:, :, 0] - alpha_true.repeat(basis.shape[0], 1), dim=1)\n",
    "#inside_mask = 0.5 > torch.norm(implicit1_points, dim=1)\n",
    "indices = torch.where(0.51 >= torch.norm(implicit1_points, dim=1))[0].tolist()\n",
    "#points_inside = torch.select(\n",
    "inside_mask = torch.where(0.6 > torch.norm(implicit1_points, dim=1), torch.ones(implicit1_points.shape[0]), torch.zeros(implicit1_points.shape[0]))\n",
    "print(torch.stack([n, inside_mask], dim=1))"
   ]
  },
  {
   "cell_type": "code",
   "execution_count": null,
   "metadata": {
    "collapsed": false
   },
   "outputs": [],
   "source": [
    "def plot_basis(ax, points, basis, **kwords):\n",
    "    ax.quiver(points[:, 0].numpy(), points[:, 1].numpy(), points[:, 2].numpy(), basis[:, 0, 0].numpy(), basis[:, 1, 0].numpy(), basis[:, 2, 0].numpy(), color='blue', **kwords)"
   ]
  },
  {
   "cell_type": "code",
   "execution_count": null,
   "metadata": {
    "autoscroll": false,
    "collapsed": false,
    "ein.hycell": false,
    "ein.tags": "worksheet-0",
    "slideshow": {
     "slide_type": "-"
    }
   },
   "outputs": [],
   "source": [
    "%matplotlib qt5\n",
    "ax = plt.subplot(projection='3d')\n",
    "ax.plot_trisurf(source_points[:, 0].numpy(), source_points[:, 1].numpy(), source_points[:, 2].numpy(), triangles=source_triangles, color= (1,1,0,0.1))\n",
    "#ax.plot_trisurf(deformed[:, 0].numpy(), deformed[:, 1].numpy(), deformed[:, 2].numpy(), triangles=source_triangles, color= (0,1,0,0.1), edgecolor=(0, 1, 0, 0.1))\n",
    "\n",
    "ax.quiver(implicit1_points[indices, 0].numpy(), implicit1_points[indices, 1].numpy(), implicit1_points[indices, 2].numpy(), basis[indices, 0, 0].numpy(), basis[indices, 1, 0].numpy(), basis[indices, 2, 0].numpy(), length=0.1, color='blue')\n",
    "\n",
    "ax.quiver(implicit1_points[indices, 0].numpy(), implicit1_points[indices, 1].numpy(), implicit1_points[indices, 2].numpy(), torch.ones(len(indices)).numpy(), torch.zeros(len(indices)).numpy(), torch.zeros(len(indices)).numpy(), length=0.1, color='red')\n",
    "\n",
    "ax.quiver(implicit1_points[indices, 0].numpy(), implicit1_points[indices, 1].numpy(), implicit1_points[indices, 2].numpy(), alpha_true[0]*torch.ones(len(indices)).numpy(), alpha_true[1]*torch.ones(len(indices)).numpy(), alpha_true[2]*torch.ones(len(indices)).numpy(), length=0.1, color='black')\n",
    "#ax.quiver(implicit1_points[:, 0].numpy(), implicit1_points[:, 1].numpy(), implicit1_points[:, 2].numpy(), basis[:, 0, 1].numpy(), basis[:, 1, 1].numpy(), basis[:, 2, 1].numpy(), length=0.1, color='red')\n",
    "#ax.quiver(implicit1_points[:, 0].numpy(), implicit1_points[:, 1].numpy(), implicit1_points[:, 2].numpy(), basis[:, 0, 2].numpy(), basis[:, 1, 2].numpy(), basis[:, 2, 2].numpy(), length=0.1, color='green')\n",
    "dm.Utilities.set_aspect_equal_3d(ax)\n",
    "plt.show()"
   ]
  },
  {
   "cell_type": "code",
   "execution_count": null,
   "metadata": {
    "autoscroll": false,
    "collapsed": false,
    "ein.hycell": false,
    "ein.tags": "worksheet-0",
    "slideshow": {
     "slide_type": "-"
    }
   },
   "outputs": [],
   "source": []
  }
 ],
 "metadata": {
  "kernelspec": {
   "argv": [
    "python",
    "-m",
    "ipykernel_launcher",
    "-f",
    "{connection_file}"
   ],
   "display_name": "Python 3",
   "env": null,
   "interrupt_mode": "signal",
   "language": "python",
   "metadata": null,
   "name": "python3"
  },
  "name": "implicit1_direction.ipynb"
 },
 "nbformat": 4,
 "nbformat_minor": 4
}
