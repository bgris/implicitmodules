{
 "cells": [
  {
   "cell_type": "code",
   "execution_count": null,
   "metadata": {
    "collapsed": false
   },
   "outputs": [],
   "source": [
    "%load_ext autoreload\n",
    "%autoreload 2\n",
    "\n",
    "import sys\n",
    "import math\n",
    "import pickle\n",
    "import random\n",
    "\n",
    "import torch\n",
    "import matplotlib.pyplot as plt\n",
    "from mpl_toolkits.mplot3d import Axes3D\n",
    "import pymesh\n",
    "\n",
    "sys.path.append(\"../../\")\n",
    "\n",
    "import implicitmodules.torch as dm"
   ]
  },
  {
   "cell_type": "code",
   "execution_count": null,
   "metadata": {
    "collapsed": false
   },
   "outputs": [],
   "source": [
    "seed = 1337\n",
    "refinement_order = 2\n",
    "sigma = 2.\n",
    "sphere_count = 5\n",
    "spheres = []\n",
    "spheres_data = []\n",
    "\n",
    "random.seed(seed)\n",
    "\n",
    "sphere_mesh = pymesh.generate_icosphere(0.5, [0., 0., 0.], refinement_order)\n",
    "sphere_points = torch.tensor(sphere_mesh.vertices, dtype=torch.get_default_dtype())\n",
    "sphere_triangles = torch.tensor(sphere_mesh.faces, dtype=torch.long)\n",
    "\n",
    "# axis = random.randint(0, 2)\n",
    "axis = 0\n",
    "scale = random.gauss(0., sigma)\n",
    "scale_matrix = torch.eye(3)\n",
    "scale_matrix[axis, axis] = scale\n",
    "rot_matrix = torch.eye(3)\n",
    "rot_matrix[0:2, 0:2] = dm.Utilities.rot2d(math.pi/3.)\n",
    "trans_matrix = rot_matrix @ scale_matrix\n",
    "rot_matrix = torch.eye(3)\n",
    "rot_matrix[1:3, 1:3] = dm.Utilities.rot2d(2.*math.pi/3.)\n",
    "trans_matrix = rot_matrix @ trans_matrix\n",
    "\n",
    "source_points = sphere_points\n",
    "source_triangles = sphere_triangles\n",
    "target_points = dm.Utilities.linear_transform(sphere_points, trans_matrix)\n",
    "target_triangles = sphere_triangles\n",
    "\n",
    "source_deformable = dm.Models.DeformableMesh(source_points, source_triangles)\n",
    "target_deformable = dm.Models.DeformableMesh(target_points, target_triangles)\n",
    "\n",
    "print(\"Vertices count={vertices_count}\".format(vertices_count=sphere_points.shape[0]))"
   ]
  },
  {
   "cell_type": "code",
   "execution_count": null,
   "metadata": {
    "collapsed": false
   },
   "outputs": [],
   "source": [
    "%matplotlib qt5\n",
    "ax = plt.subplot(projection='3d')\n",
    "ax.plot_trisurf(source_points[:, 0].numpy(), source_points[:, 1].numpy(), source_points[:, 2].numpy(), triangles=source_triangles)\n",
    "ax.plot_trisurf(target_points[:, 0].numpy(), target_points[:, 1].numpy(), target_points[:, 2].numpy(), triangles=target_triangles, color= (0,1,0,0.2), edgecolor=(0, 1, 0, 0.2))\n",
    "dm.Utilities.set_aspect_equal_3d(ax)\n",
    "plt.show()"
   ]
  },
  {
   "cell_type": "code",
   "execution_count": null,
   "metadata": {
    "collapsed": false
   },
   "outputs": [],
   "source": [
    "sigma = 0.5\n",
    "aabb = dm.Utilities.AABB.build_from_points(torch.tensor(sphere_mesh.vertices))\n",
    "\n",
    "implicit1_points = aabb.fill_uniform_density(50)\n",
    "implicit1_rot = torch.eye(3).repeat(implicit1_points.shape[0], 1, 1)\n",
    "\n",
    "# implicit1_c = 0.2*torch.randn(implicit1_points.shape[0], 3, 1) + 1.\n",
    "# implicit1_c.requires_grad_()\n",
    "\n",
    "# implicit1_c = torch.zeros(implicit1_points.shape[0], 3, 3)\n",
    "# implicit1_c[:, 0, 0] = 1.\n",
    "# implicit1_c[:, 1, 1] = 1.\n",
    "# implicit1_c[:, 2, 2] = 1.\n",
    "implicit1_c = torch.zeros(implicit1_points.shape[0], 3, 1)\n",
    "implicit1_c[:, 0, 0] = 1."
   ]
  },
  {
   "cell_type": "code",
   "execution_count": null,
   "metadata": {
    "collapsed": false
   },
   "outputs": [],
   "source": [
    "global_translation = dm.DeformationModules.GlobalTranslation(3)\n",
    "\n",
    "implicit1 = dm.DeformationModules.ImplicitModule1(3, implicit1_points.shape[0], sigma, implicit1_c, nu=0.1, gd=(implicit1_points, implicit1_rot.requires_grad_()))"
   ]
  },
  {
   "cell_type": "code",
   "execution_count": null,
   "metadata": {
    "collapsed": false
   },
   "outputs": [],
   "source": [
    "sigmas_varifold = [0.5]\n",
    "attachment = dm.Attachment.VarifoldAttachment(3, sigmas_varifold)\n",
    "\n",
    "model = dm.Models.RegistrationModel([source_deformable], [global_translation, implicit1], [attachment], fit_gd=[False, (False, True)], lam=10000.)"
   ]
  },
  {
   "cell_type": "code",
   "execution_count": null,
   "metadata": {
    "collapsed": false
   },
   "outputs": [],
   "source": [
    "shoot_solver = 'euler'\n",
    "shoot_it = 10\n",
    "\n",
    "costs = {}\n",
    "fitter = dm.Models.Fitter(model, optimizer='torch_lbfgs')\n",
    "\n",
    "fitter.fit(target_deformable, 50, costs=costs, options={'shoot_solver': shoot_solver, 'shoot_it': shoot_it, 'line_search_fn': 'strong_wolfe'})"
   ]
  },
  {
   "cell_type": "code",
   "execution_count": null,
   "metadata": {
    "collapsed": false
   },
   "outputs": [],
   "source": [
    "intermediates = {}\n",
    "deformed = model.compute_deformed(shoot_solver, shoot_it, intermediates=intermediates)[0][0].detach()"
   ]
  },
  {
   "cell_type": "code",
   "execution_count": null,
   "metadata": {
    "collapsed": false
   },
   "outputs": [],
   "source": [
    "print(model.init_manifold[2].gd[1])"
   ]
  },
  {
   "cell_type": "code",
   "execution_count": null,
   "metadata": {
    "collapsed": false
   },
   "outputs": [],
   "source": [
    "print(intermediates['controls'])"
   ]
  },
  {
   "cell_type": "code",
   "execution_count": null,
   "metadata": {
    "collapsed": false
   },
   "outputs": [],
   "source": [
    "%matplotlib qt5\n",
    "ax = plt.subplot(projection='3d')\n",
    "ax.plot_trisurf(target_points[:, 0].numpy(), target_points[:, 1].numpy(), target_points[:, 2].numpy(), triangles=source_triangles)\n",
    "ax.plot_trisurf(deformed[:, 0].numpy(), deformed[:, 1].numpy(), deformed[:, 2].numpy(), triangles=source_triangles, color= (0,1,0,0.2), edgecolor=(0, 1, 0, 0.2))\n",
    "dm.Utilities.set_aspect_equal_3d(ax)\n",
    "plt.show()\n"
   ]
  },
  {
   "cell_type": "code",
   "execution_count": null,
   "metadata": {
    "collapsed": false
   },
   "outputs": [],
   "source": [
    "with open(\"deformed_sphere.pickle\", 'wb') as f:\n",
    "    pickle.dump([template_points, deformed, target_points, triangles], f)"
   ]
  }
 ],
 "metadata": {
  "kernelspec": {
   "argv": [
    "python",
    "-m",
    "ipykernel_launcher",
    "-f",
    "{connection_file}"
   ],
   "display_name": "Python 3",
   "env": null,
   "interrupt_mode": "signal",
   "language": "python",
   "metadata": null,
   "name": "python3"
  },
  "name": "Untitled9.ipynb"
 },
 "nbformat": 4,
 "nbformat_minor": 4
}
