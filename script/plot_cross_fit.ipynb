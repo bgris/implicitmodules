{
 "cells": [
  {
   "cell_type": "code",
   "execution_count": 1,
   "metadata": {},
   "outputs": [],
   "source": [
    "%matplotlib inline"
   ]
  },
  {
   "cell_type": "markdown",
   "metadata": {},
   "source": [
    "\n",
    "# Fitting an image and points\n",
    "\n",
    "In this example, we will fit a cross onto the same cross, but rotated. We will take advantage of this knowledge and use a rotation deformation module. We will also add some noise on the initial center guess to show how to fit the geometrical descriptors. In addition to images, we add points at the extremity of each branch that will also get matched in order to illustrate multi deformables matching. This also helps the fitting process by adding more information to the model.\n",
    "\n",
    "\n"
   ]
  },
  {
   "cell_type": "markdown",
   "metadata": {},
   "source": [
    "Import relevant modules.\n",
    "\n",
    "\n"
   ]
  },
  {
   "cell_type": "code",
   "execution_count": 2,
   "metadata": {},
   "outputs": [],
   "source": [
    "import sys\n",
    "sys.path.append(\"../\")\n",
    "\n",
    "import math\n",
    "\n",
    "import torch\n",
    "import matplotlib.pyplot as plt\n",
    "import scipy.ndimage\n",
    "\n",
    "import imodal\n",
    "\n",
    "imodal.Utilities.set_compute_backend('torch')"
   ]
  },
  {
   "cell_type": "markdown",
   "metadata": {},
   "source": [
    "Load image data and generate dots.\n",
    "\n",
    "\n"
   ]
  },
  {
   "cell_type": "code",
   "execution_count": 3,
   "metadata": {},
   "outputs": [],
   "source": [
    "source_image = imodal.Utilities.load_greyscale_image(\"../data/images/cross_+_30.png\", origin='lower')\n",
    "target_image = imodal.Utilities.load_greyscale_image(\"../data/images/cross_+.png\", origin='lower')\n",
    "\n",
    "# Smoothing\n",
    "sig_smooth = 0.\n",
    "source_image = torch.tensor(scipy.ndimage.gaussian_filter(source_image, sig_smooth))\n",
    "target_image = torch.tensor(scipy.ndimage.gaussian_filter(target_image, sig_smooth))\n",
    "\n",
    "extent_length = 31.\n",
    "extent = imodal.Utilities.AABB(0., extent_length, 0., extent_length)\n",
    "\n",
    "dots = torch.tensor([[0., 0.5],\n",
    "                     [0.5, 0.],\n",
    "                     [0., -0.5],\n",
    "                     [-0.5, 0.]])\n",
    "\n",
    "source_dots = 0.6*extent_length*imodal.Utilities.linear_transform(dots, imodal.Utilities.rot2d(math.pi/3)) + extent_length*torch.tensor([0.5, 0.5])\n",
    "\n",
    "target_dots = 0.6*extent_length*imodal.Utilities.linear_transform(dots, imodal.Utilities.rot2d(math.pi/1)) + extent_length*torch.tensor([0.5, 0.5])\n",
    "\n",
    "center = extent_length*torch.tensor([[0.3, 0.1]])"
   ]
  },
  {
   "cell_type": "markdown",
   "metadata": {},
   "source": [
    "Plot everything.\n",
    "\n",
    "\n"
   ]
  },
  {
   "cell_type": "code",
   "execution_count": 4,
   "metadata": {},
   "outputs": [
    {
     "data": {
      "image/png": "[encoded data removed]",
      "text/plain": [
       "<Figure size 432x288 with 2 Axes>"
      ]
     },
     "metadata": {},
     "output_type": "display_data"
    }
   ],
   "source": [
    "plt.subplot(1, 2, 1)\n",
    "plt.title(\"Source image\")\n",
    "plt.imshow(source_image, origin='lower', extent=extent.totuple())\n",
    "plt.plot(source_dots.numpy()[:, 0], source_dots.numpy()[:, 1], '.')\n",
    "plt.plot(center.numpy()[:, 0], center.numpy()[:, 1], '.')\n",
    "\n",
    "plt.subplot(1, 2, 2)\n",
    "plt.title(\"Target image\")\n",
    "plt.imshow(target_image, origin='lower', extent=extent.totuple())\n",
    "plt.plot(target_dots.numpy()[:, 0], target_dots.numpy()[:, 1], '.')\n",
    "\n",
    "plt.show()"
   ]
  },
  {
   "cell_type": "markdown",
   "metadata": {},
   "source": [
    "We know that the target cross is the result of some rotation at its origin,\n",
    "so we use a local rotation deformation module, with an imprecise center\n",
    "position to simulate data aquisition noise.\n",
    "\n",
    "\n"
   ]
  },
  {
   "cell_type": "code",
   "execution_count": 5,
   "metadata": {},
   "outputs": [],
   "source": [
    "rotation = imodal.DeformationModules.LocalRotation(2, 2.*extent_length, gd=center)"
   ]
  },
  {
   "cell_type": "markdown",
   "metadata": {},
   "source": [
    "Create the model by setting `True` for `fit_gd` so that it also optimize the\n",
    "rotation center.\n",
    "\n",
    "\n"
   ]
  },
  {
   "cell_type": "code",
   "execution_count": 9,
   "metadata": {},
   "outputs": [],
   "source": [
    "source_deformable = imodal.Models.DeformableImage(source_image, output='bitmap', extent='match', backward=False)\n",
    "target_deformable = imodal.Models.DeformableImage(target_image, output='bitmap', extent='match', backward=False)\n",
    "\n",
    "source_dots_deformable = imodal.Models.DeformablePoints(source_dots)\n",
    "target_dots_deformable = imodal.Models.DeformablePoints(target_dots)\n",
    "\n",
    "attachment = imodal.Attachment.L2NormAttachment(transform=None)\n",
    "\n",
    "model = imodal.Models.RegistrationModel([source_deformable, source_dots_deformable], [rotation], [attachment, imodal.Attachment.EuclideanPointwiseDistanceAttachment()], fit_gd=[True], lam=1000.)"
   ]
  },
  {
   "cell_type": "markdown",
   "metadata": {},
   "source": [
    "Fit the model.\n",
    "\n",
    "\n"
   ]
  },
  {
   "cell_type": "code",
   "execution_count": 10,
   "metadata": {
    "scrolled": true
   },
   "outputs": [
    {
     "name": "stdout",
     "output_type": "stream",
     "text": [
      "Starting optimization with method torch LBFGS, using solver rk4 with 10 iterations.\n",
      "Initial cost={'deformation': 9.157991735504899e-30, 'attach': 262755.8125}\n",
      "1e-10\n",
      "Evaluated model with costs=262755.8125\n",
      "Evaluated model with costs=261066.3581254743\n",
      "Evaluated model with costs=260254.06347546354\n",
      "Evaluated model with costs=250906.5535352826\n",
      "Evaluated model with costs=224634.6916885376\n",
      "Evaluated model with costs=245559.5577392578\n",
      "Evaluated model with costs=196331.46520996094\n",
      "Evaluated model with costs=197909.15858459473\n",
      "Evaluated model with costs=195637.1006011963\n",
      "Evaluated model with costs=195481.48300170898\n",
      "Evaluated model with costs=194995.31466674805\n",
      "Evaluated model with costs=192565.94577026367\n",
      "Evaluated model with costs=182698.12182617188\n",
      "Evaluated model with costs=174426.18408203125\n",
      "Evaluated model with costs=223519.50329589844\n",
      "Evaluated model with costs=163150.3877105713\n",
      "Evaluated model with costs=289461.5544433594\n",
      "Evaluated model with costs=260938.7130126953\n",
      "Evaluated model with costs=157008.8620300293\n",
      "Evaluated model with costs=105772.54931640625\n",
      "Evaluated model with costs=127365.18640136719\n",
      "Evaluated model with costs=91335.27716064453\n",
      "Evaluated model with costs=196950.13842773438\n",
      "Evaluated model with costs=83168.38317871094\n",
      "Evaluated model with costs=165963.62817382812\n",
      "Evaluated model with costs=65670.92529296875\n",
      "================================================================================\n",
      "Time: 22.810141186997498\n",
      "Iteration: 0\n",
      "Costs\n",
      "deformation=1121.76904296875\n",
      "attach=64549.15625\n",
      "Total cost=65670.92529296875\n",
      "1e-10\n",
      "Evaluated model with costs=65670.92529296875\n",
      "Evaluated model with costs=90237.33618164062\n",
      "Evaluated model with costs=59771.076171875\n",
      "Evaluated model with costs=58297.68395996094\n",
      "Evaluated model with costs=58284.96252441406\n",
      "Evaluated model with costs=58282.27038574219\n",
      "Evaluated model with costs=58282.59289550781\n",
      "Evaluated model with costs=58282.25378417969\n",
      "Evaluated model with costs=58282.61242675781\n",
      "Evaluated model with costs=58282.26550292969\n",
      "Evaluated model with costs=58282.25769042969\n",
      "Evaluated model with costs=58282.25378417969\n",
      "Evaluated model with costs=58282.60070800781\n",
      "Evaluated model with costs=58282.606201171875\n",
      "Evaluated model with costs=58282.26110839844\n",
      "Evaluated model with costs=58282.25378417969\n",
      "Evaluated model with costs=58282.25378417969\n",
      "Evaluated model with costs=58282.25378417969\n",
      "================================================================================\n",
      "Time: 38.414951234997716\n",
      "Iteration: 1\n",
      "Costs\n",
      "deformation=1123.5623779296875\n",
      "attach=57158.69140625\n",
      "Total cost=58282.25378417969\n",
      "1e-10\n",
      "Evaluated model with costs=58282.25378417969\n",
      "Evaluated model with costs=58282.60070800781\n",
      "Evaluated model with costs=58282.606201171875\n",
      "Evaluated model with costs=58282.26110839844\n",
      "Evaluated model with costs=58282.25378417969\n",
      "Evaluated model with costs=58282.25378417969\n",
      "Evaluated model with costs=58282.25378417969\n",
      "================================================================================\n",
      "Time: 43.73363799599974\n",
      "Iteration: 2\n",
      "Costs\n",
      "deformation=1123.5623779296875\n",
      "attach=57158.69140625\n",
      "Total cost=58282.25378417969\n",
      "================================================================================\n",
      "Optimisation process exited with message: Convergence achieved.\n",
      "Final cost=58282.25378417969\n",
      "Model evaluation count=51\n",
      "Time elapsed = 43.733833717997186\n"
     ]
    }
   ],
   "source": [
    "shoot_solver = 'rk4'\n",
    "shoot_it = 10\n",
    "max_it = 100\n",
    "\n",
    "costs = {}\n",
    "fitter = imodal.Models.Fitter(model, optimizer='torch_lbfgs')\n",
    "\n",
    "fitter.fit([target_deformable, target_dots_deformable], max_it, costs=costs, options={'shoot_solver': shoot_solver, 'shoot_it': shoot_it, 'line_search_fn': 'strong_wolfe'})"
   ]
  },
  {
   "cell_type": "markdown",
   "metadata": {},
   "source": [
    "Plot total cost evolution.\n",
    "\n",
    "\n"
   ]
  },
  {
   "cell_type": "code",
   "execution_count": 11,
   "metadata": {},
   "outputs": [
    {
     "data": {
      "image/png": "[encoded data removed]",
      "text/plain": [
       "<Figure size 432x288 with 1 Axes>"
      ]
     },
     "metadata": {},
     "output_type": "display_data"
    }
   ],
   "source": [
    "total_costs = [sum(cost) for cost in list(map(list, zip(*costs.values())))]\n",
    "\n",
    "plt.title(\"Total cost evolution\")\n",
    "plt.xlabel(\"Iteration\")\n",
    "plt.ylabel(\"Cost\")\n",
    "plt.grid(True)\n",
    "plt.plot(range(len(total_costs)), total_costs, color='black', lw=0.7)\n",
    "plt.show()"
   ]
  },
  {
   "cell_type": "markdown",
   "metadata": {},
   "source": [
    "Compute the final deformed source and plot it.\n",
    "\n",
    "\n"
   ]
  },
  {
   "cell_type": "code",
   "execution_count": 12,
   "metadata": {},
   "outputs": [
    {
     "name": "stdout",
     "output_type": "stream",
     "text": [
      "Fitted rotatation center: [[15.523761749267578, 15.479267120361328]]\n"
     ]
    },
    {
     "data": {
      "image/png": "[encoded data removed]",
      "text/plain": [
       "<Figure size 432x288 with 3 Axes>"
      ]
     },
     "metadata": {},
     "output_type": "display_data"
    }
   ],
   "source": [
    "with torch.autograd.no_grad():\n",
    "    model.deformables[0].output = 'bitmap'\n",
    "    deformed = model.compute_deformed(shoot_solver, shoot_it)\n",
    "\n",
    "    deformed_image = deformed[0][0].view_as(source_image)\n",
    "    deformed_dots = deformed[1][0]\n",
    "\n",
    "fitted_center = model.init_manifold[2].gd.detach()\n",
    "\n",
    "print(\"Fitted rotatation center: {center}\".format(center=fitted_center.detach().tolist()))\n",
    "\n",
    "plt.subplot(1, 3, 1)\n",
    "plt.title(\"Source image\")\n",
    "plt.imshow(source_image.numpy(), origin='lower', extent=extent.totuple())\n",
    "plt.plot(source_dots.numpy()[:, 0], source_dots.numpy()[:, 1], '.')\n",
    "plt.plot(center.numpy()[0, 0], center.numpy()[0, 1], 'X')\n",
    "plt.axis('off')\n",
    "\n",
    "plt.subplot(1, 3, 2)\n",
    "plt.title(\"Fitted image\")\n",
    "plt.imshow(deformed_image.numpy(), origin='lower', extent=extent.totuple())\n",
    "plt.plot(deformed_dots.numpy()[:, 0], deformed_dots.numpy()[:, 1], '.')\n",
    "plt.plot(fitted_center.numpy()[0, 0], fitted_center.numpy()[0, 1], 'X')\n",
    "plt.axis('off')\n",
    "\n",
    "plt.subplot(1, 3, 3)\n",
    "plt.title(\"Target image\")\n",
    "plt.imshow(target_image.numpy(), origin='lower', extent=extent.totuple())\n",
    "plt.plot(target_dots.numpy()[:, 0], target_dots.numpy()[:, 1], '.')\n",
    "plt.axis('off')\n",
    "\n",
    "plt.show()"
   ]
  },
  {
   "cell_type": "code",
   "execution_count": null,
   "metadata": {},
   "outputs": [],
   "source": []
  }
 ],
 "metadata": {
  "kernelspec": {
   "display_name": "Python 3",
   "language": "python",
   "name": "python3"
  },
  "language_info": {
   "codemirror_mode": {
    "name": "ipython",
    "version": 3
   },
   "file_extension": ".py",
   "mimetype": "text/x-python",
   "name": "python",
   "nbconvert_exporter": "python",
   "pygments_lexer": "ipython3",
   "version": "3.6.9"
  }
 },
 "nbformat": 4,
 "nbformat_minor": 1
}
