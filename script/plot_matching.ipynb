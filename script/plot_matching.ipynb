{
  "cells": [
    {
      "cell_type": "code",
      "execution_count": null,
      "metadata": {
        "collapsed": false
      },
      "outputs": [],
      "source": [
        "%matplotlib inline"
      ]
    },
    {
      "cell_type": "markdown",
      "metadata": {},
      "source": [
        "\n# Unstructured Shape Matching\n\nIn this tutorial, we register two curves with IMODAL without deformation prior.\nTo achieve this, a local translation deformation module is used.\n\n"
      ]
    },
    {
      "cell_type": "markdown",
      "metadata": {},
      "source": [
        "## Initialization\n\nImport relevant Python modules.\n\n\n"
      ]
    },
    {
      "cell_type": "code",
      "execution_count": null,
      "metadata": {
        "collapsed": false
      },
      "outputs": [],
      "source": [
        "import sys\nsys.path.append(\"../\")\n\nimport math\nimport copy\n\nimport torch\nimport matplotlib.pyplot as plt\n\nimport imodal\n\nimodal.Utilities.set_compute_backend('torch')"
      ]
    },
    {
      "cell_type": "markdown",
      "metadata": {},
      "source": [
        "First, we generate the **source** (circle) and the **target** (square) and plot them.\n\n\n"
      ]
    },
    {
      "cell_type": "code",
      "execution_count": null,
      "metadata": {
        "collapsed": false
      },
      "outputs": [],
      "source": [
        "# nb_points_source = 50\n# radius = 1.\n# source = radius*imodal.Utilities.generate_unit_circle(nb_points_source)\n\nnb_points_square_side = 12\nsource = imodal.Utilities.generate_unit_square(nb_points_square_side)\nsource = imodal.Utilities.linear_transform(source, imodal.Utilities.rot2d(-math.pi/14.))\n\n\nnb_points_square_side = 4\ntarget = 0.7*imodal.Utilities.generate_unit_square(nb_points_square_side)\ntarget = imodal.Utilities.linear_transform(target, imodal.Utilities.rot2d(math.pi/18.))\n\n\nplt.figure(figsize=[4., 4.])\n\nimodal.Utilities.plot_closed_shape(source, color='black')\nimodal.Utilities.plot_closed_shape(target, color='red')\n\nplt.axis('equal')\n\nplt.subplots_adjust(left=0.1, right=0.9, top=0.9, bottom=0.1)\nplt.show()"
      ]
    },
    {
      "cell_type": "markdown",
      "metadata": {},
      "source": [
        "From these objects, **DeformablePoints** are created to be used for the registration.\nThis is a sub class of **Deformables** which represents geometrical objects that can be deformed by the framework.\n\n\n"
      ]
    },
    {
      "cell_type": "code",
      "execution_count": null,
      "metadata": {
        "collapsed": false
      },
      "outputs": [],
      "source": [
        "source_deformable = imodal.Models.DeformablePoints(source)\ntarget_deformable = imodal.Models.DeformablePoints(target)"
      ]
    },
    {
      "cell_type": "markdown",
      "metadata": {},
      "source": [
        "We define the local translation module **translation**: we need to specify the gaussian\nkernel scale (**sigma_translation**). We initialize its geometrical descriptor (**gd**) with the source points.\n\n\n"
      ]
    },
    {
      "cell_type": "code",
      "execution_count": null,
      "metadata": {
        "collapsed": false
      },
      "outputs": [],
      "source": [
        "sigma_translation = 1.\n# sigma_translation1 = 0.1\n# sigma_translation2 = 0.2\ntranslation = imodal.DeformationModules.ImplicitModule0(2, source.shape[0], sigma_translation, nu=1e-4, gd=source)\n# translation1 = imodal.DeformationModules.ImplicitModule0(2, source.shape[0], sigma_translation1, gd=source, nu=0.1)\n# translation2 = imodal.DeformationModules.ImplicitModule0(2, source.shape[0], sigma_translation2, gd=source, nu=0.1)"
      ]
    },
    {
      "cell_type": "markdown",
      "metadata": {},
      "source": [
        "The distance between the deformed source and the target is measured using the\nvarifold framework, which does not require point correspondance. The spatial\nkernel is a scalar gaussian kernel for which we specify the scale **sigma_varifold**.\n\n\n"
      ]
    },
    {
      "cell_type": "code",
      "execution_count": null,
      "metadata": {
        "collapsed": false
      },
      "outputs": [],
      "source": [
        "sigma_varifold = [0.5]\nattachment = imodal.Attachment.VarifoldAttachment(2, sigma_varifold, backend='torch')"
      ]
    },
    {
      "cell_type": "markdown",
      "metadata": {},
      "source": [
        "## Registration\n\nWe create the registration model.\nThe **lam** parameter is the weight of the attachment term of the total energy to minimize.\n\n\n"
      ]
    },
    {
      "cell_type": "code",
      "execution_count": null,
      "metadata": {
        "collapsed": false
      },
      "outputs": [],
      "source": [
        "model = imodal.Models.RegistrationModel(source_deformable, [translation], attachment, lam=100.)"
      ]
    },
    {
      "cell_type": "markdown",
      "metadata": {},
      "source": [
        "We launch the energy minimization using the **Fitter** class.\nWe specify the ODE solver algorithm **shoot_solver** and the number of iteration steps **shoot_it** used to integrate the shooting equation.\nThe optimizer can be manually selected. Here, we select Pytorch's LBFGS algorithm with strong Wolfe termination conditions.\n**max_iter** defines the maximum number of iteration for the optimization.\n\n\n"
      ]
    },
    {
      "cell_type": "code",
      "execution_count": null,
      "metadata": {
        "collapsed": false
      },
      "outputs": [],
      "source": [
        "shoot_solver = 'euler'\nshoot_it = 10\n\nfitter = imodal.Models.Fitter(model, optimizer='torch_lbfgs')\nmax_iter = 10\n\nfitter.fit(target_deformable, max_iter, options={'line_search_fn': 'strong_wolfe', 'shoot_solver': shoot_solver, 'shoot_it': shoot_it})"
      ]
    },
    {
      "cell_type": "markdown",
      "metadata": {},
      "source": [
        "## Displaying results\n\nWe compute the optimized deformation.\n\n\n"
      ]
    },
    {
      "cell_type": "code",
      "execution_count": null,
      "metadata": {
        "collapsed": false
      },
      "outputs": [],
      "source": [
        "intermediates = {}\nwith torch.autograd.no_grad():\n    deformed = model.compute_deformed(shoot_solver, shoot_it, intermediates=intermediates)[0][0]"
      ]
    },
    {
      "cell_type": "markdown",
      "metadata": {},
      "source": [
        "We display the result.\n\n\n"
      ]
    },
    {
      "cell_type": "code",
      "execution_count": null,
      "metadata": {
        "collapsed": false
      },
      "outputs": [],
      "source": [
        "display_index = [0, 3, 7, 10]\nplt.figure(figsize=[3.*len(display_index), 3.])\nfor count, i in enumerate(display_index):\n    plt.subplot(1, len(display_index), 1+count).set_title(\"t={}\".format(i/10.))\n\n    deformed_i = intermediates['states'][i][0].gd\n\n    imodal.Utilities.plot_closed_shape(source, color='black')\n    imodal.Utilities.plot_closed_shape(target, color='red')\n\n    imodal.Utilities.plot_closed_shape(deformed_i, color='blue')\n    plt.axis('equal')\n    plt.axis('off')\n\nplt.subplots_adjust(left=0., right=1., top=1., bottom=0.)\nplt.show()"
      ]
    },
    {
      "cell_type": "markdown",
      "metadata": {},
      "source": [
        "In order to visualize the deformation, we will compute the grid deformation.\nWe first retrieve the modules and initialize their manifolds (with initial values of geometrical descriptor and momentum).\n\n\n"
      ]
    },
    {
      "cell_type": "code",
      "execution_count": null,
      "metadata": {
        "collapsed": false
      },
      "outputs": [],
      "source": [
        "modules = imodal.DeformationModules.CompoundModule(copy.copy(model.modules))\nmodules.manifold.fill(model.init_manifold.clone())"
      ]
    },
    {
      "cell_type": "markdown",
      "metadata": {},
      "source": [
        "We initialize a grid built from a bounding box and a grid resolution.\nWe create a bounding box **aabb** around the source, scaled with a 1.3 factor to enhance the visualization of the deformation.\nThen, we define the grid resolution **grid_resolution** from the size of each grid gap **square_size**.\nFinally, we create a silent deformation module **deformation_grid** whose geometrical descriptor is made of the grid points.\n\n\n"
      ]
    },
    {
      "cell_type": "code",
      "execution_count": null,
      "metadata": {
        "collapsed": false
      },
      "outputs": [],
      "source": [
        "aabb = imodal.Utilities.AABB.build_from_points(source).scale(1.3)\nsquare_size = 0.05\ngrid_resolution = [math.floor(aabb.width/square_size),\n                   math.floor(aabb.height/square_size)]\n\ndeformation_grid = imodal.DeformationModules.DeformationGrid(aabb, grid_resolution)"
      ]
    },
    {
      "cell_type": "markdown",
      "metadata": {},
      "source": [
        "We inject the newly created deformation module **deformation_grid** into the list of deformation modules **modules_grid**.\nWe create the hamiltonian structure **hamiltonian** allowing us to integrate the shooting equation.\nWe then recompute the deformation, now tracking the grid deformation.\n\n\n"
      ]
    },
    {
      "cell_type": "code",
      "execution_count": null,
      "metadata": {
        "collapsed": false
      },
      "outputs": [],
      "source": [
        "modules_grid = [*modules, deformation_grid]\nhamiltonian = imodal.HamiltonianDynamic.Hamiltonian(modules_grid)\n\nintermediates_grid = {}\nwith torch.autograd.no_grad():\n    imodal.HamiltonianDynamic.shoot(hamiltonian, shoot_solver, shoot_it, intermediates=intermediates_grid)"
      ]
    },
    {
      "cell_type": "markdown",
      "metadata": {},
      "source": [
        "We display the result along with the deformation grid.\n\n\n"
      ]
    },
    {
      "cell_type": "code",
      "execution_count": null,
      "metadata": {
        "collapsed": false
      },
      "outputs": [],
      "source": [
        "display_index = [0, 3, 7, 10]\nplt.figure(figsize=[3.*len(display_index), 3.])\nfor count, i in enumerate(display_index):\n    ax = plt.subplot(1, len(display_index), 1+count)\n    # ax.set_title(\"t={}\".format(i/10.))\n\n    deformed_i = intermediates_grid['states'][i][0].gd\n\n    deformation_grid.manifold.fill_gd(intermediates_grid['states'][i][-1].gd)\n    grid_x, grid_y = deformation_grid.togrid()\n\n    imodal.Utilities.plot_grid(ax, grid_x, grid_y, color='xkcd:light blue')\n    imodal.Utilities.plot_closed_shape(source, color='black')\n    imodal.Utilities.plot_closed_shape(target, color='red')\n\n    imodal.Utilities.plot_closed_shape(deformed_i, color='blue')\n    plt.axis('equal')\n    plt.axis('off')\n\nplt.subplots_adjust(left=0., right=1., top=1., bottom=0.)\nplt.show()"
      ]
    }
  ],
  "metadata": {
    "kernelspec": {
      "display_name": "Python 3",
      "language": "python",
      "name": "python3"
    },
    "language_info": {
      "codemirror_mode": {
        "name": "ipython",
        "version": 3
      },
      "file_extension": ".py",
      "mimetype": "text/x-python",
      "name": "python",
      "nbconvert_exporter": "python",
      "pygments_lexer": "ipython3",
      "version": "3.6.7"
    }
  },
  "nbformat": 4,
  "nbformat_minor": 0
}