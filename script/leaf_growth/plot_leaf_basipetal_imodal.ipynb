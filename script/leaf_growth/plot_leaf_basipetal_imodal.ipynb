{
  "cells": [
    {
      "cell_type": "code",
      "execution_count": null,
      "metadata": {
        "collapsed": false
      },
      "outputs": [],
      "source": [
        "%matplotlib inline"
      ]
    },
    {
      "cell_type": "markdown",
      "metadata": {},
      "source": [
        "\n# Basipetal Leaf Growth Model using Implicit Modules\n\n1. Curve and dots registration using implicit modules of order 1, learning the growth model tensor.\n2. Curve registration using implicit modules of order with learned growth model tensor.\n\n"
      ]
    },
    {
      "cell_type": "markdown",
      "metadata": {},
      "source": [
        "Import relevant Python modules.\n\n\n"
      ]
    },
    {
      "cell_type": "code",
      "execution_count": null,
      "metadata": {
        "collapsed": false
      },
      "outputs": [],
      "source": [
        "assert False\n\nimport sys\nsys.path.append(\"../../\")\nimport math\nimport copy\nimport pickle\n\nimport torch\n\nimport matplotlib.pyplot as plt\n\ntorch.set_default_dtype(torch.float64)\n\nimport imodal\n\nimodal.Utilities.set_compute_backend('torch')"
      ]
    },
    {
      "cell_type": "markdown",
      "metadata": {},
      "source": [
        "## Learning the growth model tensor\n\nWe load the data (shape and dots of the source and target leaves), rescale it and center it.\n\n\n"
      ]
    },
    {
      "cell_type": "code",
      "execution_count": null,
      "metadata": {
        "collapsed": false
      },
      "outputs": [],
      "source": [
        "with open(\"../../data/basipetal.pickle\", 'rb') as f:\n    data = pickle.load(f)\n\ndots_source = torch.tensor(data['dots_source'], dtype=torch.get_default_dtype())\ndots_target = torch.tensor(data['dots_target'], dtype=torch.get_default_dtype())\nshape_source = imodal.Utilities.close_shape(torch.tensor(data['shape_source']).type(torch.get_default_dtype()))\nshape_target = imodal.Utilities.close_shape(torch.tensor(data['shape_target']).type(torch.get_default_dtype()))\n\naabb_source = imodal.Utilities.AABB.build_from_points(shape_source)\naabb_target = imodal.Utilities.AABB.build_from_points(shape_target)"
      ]
    },
    {
      "cell_type": "markdown",
      "metadata": {},
      "source": [
        "Plot source and target.\n\n\n"
      ]
    },
    {
      "cell_type": "code",
      "execution_count": null,
      "metadata": {
        "collapsed": false
      },
      "outputs": [],
      "source": [
        "plt.subplot(1, 2, 1)\nplt.plot(shape_source[:, 0].numpy(), shape_source[:, 1].numpy(), color='blue')\nplt.plot(dots_source[:, 0].numpy(), dots_source[:, 1].numpy(), '.', color='blue')\nplt.axis('equal')\n\nplt.subplot(1, 2, 2)\nplt.plot(shape_target[:, 0].numpy(), shape_target[:, 1].numpy(), color='blue')\nplt.plot(dots_target[:, 0].numpy(), dots_target[:, 1].numpy(), '.', color='blue')\nplt.axis('equal')\nplt.show()"
      ]
    },
    {
      "cell_type": "markdown",
      "metadata": {},
      "source": [
        "We now sample the points that will be used by the implicit deformation\nmodule of order 1 (growth module).\n\n\n"
      ]
    },
    {
      "cell_type": "code",
      "execution_count": null,
      "metadata": {
        "collapsed": false
      },
      "outputs": [],
      "source": [
        "# Build AABB (Axis Aligned Bounding Box) around the source shape and uniformly sample points for the growth module.\n#\n\ngrowth_scale = 30.\npoints_density = 0.25\n\naabb_source = imodal.Utilities.AABB.build_from_points(shape_source)\n\npoints_growth = imodal.Utilities.fill_area_uniform_density(imodal.Utilities.area_shape, aabb_source, points_density, shape=shape_source)\n\n# Initial normal frames for the growth module.\nrot_growth = torch.stack([imodal.Utilities.rot2d(0.)]*points_growth.shape[0], axis=0)"
      ]
    },
    {
      "cell_type": "markdown",
      "metadata": {},
      "source": [
        "Plot points of the growth module.\n\n\n"
      ]
    },
    {
      "cell_type": "code",
      "execution_count": null,
      "metadata": {
        "collapsed": false
      },
      "outputs": [],
      "source": [
        "plt.plot(shape_source[:, 0].numpy(), shape_source[:, 1].numpy(), color='black')\nplt.plot(points_growth[:, 0].numpy(), points_growth[:, 1].numpy(), 'o', color='blue')\nplt.axis('equal')\nplt.show()"
      ]
    },
    {
      "cell_type": "markdown",
      "metadata": {},
      "source": [
        "Create the deformation model with a combination of 3 modules : implicit module\nof order 1 (growth model), implicit module of order 0 (small corrections) and\na global translation.\n\n\n"
      ]
    },
    {
      "cell_type": "markdown",
      "metadata": {},
      "source": [
        "Create and initialize the global translation module.\n\n\n"
      ]
    },
    {
      "cell_type": "code",
      "execution_count": null,
      "metadata": {
        "collapsed": false
      },
      "outputs": [],
      "source": [
        "global_translation = imodal.DeformationModules.GlobalTranslation(2)"
      ]
    },
    {
      "cell_type": "markdown",
      "metadata": {},
      "source": [
        "Create and initialize the growth module.\n\n\n"
      ]
    },
    {
      "cell_type": "code",
      "execution_count": null,
      "metadata": {
        "collapsed": false
      },
      "outputs": [],
      "source": [
        "nu = 0.001\ncoeff_growth = 0.001\nscale_growth = 30.\n\nC = torch.empty(points_growth.shape[0], 2, 1)\n\ngrowth = imodal.DeformationModules.ImplicitModule1(2, points_growth.shape[0], scale_growth, C, coeff=coeff_growth, nu=nu, gd=(points_growth, rot_growth))"
      ]
    },
    {
      "cell_type": "markdown",
      "metadata": {},
      "source": [
        "Create and initialize local translations module.\n\n\n"
      ]
    },
    {
      "cell_type": "code",
      "execution_count": null,
      "metadata": {
        "collapsed": false
      },
      "outputs": [],
      "source": [
        "coeff_small = 1.\nscale_small = 5.\npoints_small = shape_source.clone()\nsmall_scale_translations = imodal.DeformationModules.ImplicitModule0(2, points_small.shape[0], scale_small, coeff=coeff_small, nu=nu, gd=points_small)"
      ]
    },
    {
      "cell_type": "markdown",
      "metadata": {},
      "source": [
        "Define our growth factor model.\n\n\n"
      ]
    },
    {
      "cell_type": "code",
      "execution_count": null,
      "metadata": {
        "collapsed": false
      },
      "outputs": [],
      "source": [
        "# The polynomial model for our growth factor.\ndef pol(pos, a, b, c, d):\n    return a + b*pos[:, 1]  + c*pos[:, 1]**2 + d*pos[:, 1]**3\n\n# Callback called when evaluating the model to compute the growth factor from parameters.\ndef callback_compute_c(init_manifold, modules, parameters, deformables):\n    abcd = parameters['abcd']['params'][0]\n    a = abcd[0].unsqueeze(1)\n    b = abcd[1].unsqueeze(1)\n    c = abcd[2].unsqueeze(1)\n    d = abcd[3].unsqueeze(1)\n    modules[3].C = pol(init_manifold[3].gd[0], a, b, c, d).transpose(0, 1).unsqueeze(2)\n\n# Initial parameters of our growth factor model.\nabcd = torch.zeros(4, 2)\nabcd[0] = 0.1 * torch.ones(2)\nabcd.requires_grad_()"
      ]
    },
    {
      "cell_type": "markdown",
      "metadata": {},
      "source": [
        "Define deformables used by the registration model.\n\n\n"
      ]
    },
    {
      "cell_type": "code",
      "execution_count": null,
      "metadata": {
        "collapsed": false
      },
      "outputs": [],
      "source": [
        "deformable_shape_source = imodal.Models.DeformablePoints(shape_source)\ndeformable_shape_target = imodal.Models.DeformablePoints(shape_target)\ndeformable_dots_source = imodal.Models.DeformablePoints(dots_source)\ndeformable_dots_target = imodal.Models.DeformablePoints(dots_target)"
      ]
    },
    {
      "cell_type": "markdown",
      "metadata": {},
      "source": [
        "## Registration\nDefine the registration model.\n\n\n"
      ]
    },
    {
      "cell_type": "code",
      "execution_count": null,
      "metadata": {
        "collapsed": false
      },
      "outputs": [],
      "source": [
        "model = imodal.Models.RegistrationModel(\n    [deformable_shape_source, deformable_dots_source],\n    [global_translation, growth, small_scale_translations],\n    [imodal.Attachment.VarifoldAttachment(2, [20., 120.], backend='torch'),\n     imodal.Attachment.EuclideanPointwiseDistanceAttachment(10.)],\n    lam=10., other_parameters={'abcd': {'params': [abcd]}},\n    precompute_callback=callback_compute_c)"
      ]
    },
    {
      "cell_type": "markdown",
      "metadata": {},
      "source": [
        "Fitting using Torch LBFGS optimizer.\n\n\n"
      ]
    },
    {
      "cell_type": "code",
      "execution_count": null,
      "metadata": {
        "collapsed": false
      },
      "outputs": [],
      "source": [
        "shoot_solver = 'euler'\nshoot_it = 10\n\ncosts = {}\nfitter = imodal.Models.Fitter(model, optimizer='torch_lbfgs')\nfitter.fit([deformable_shape_target, deformable_dots_target], 50, costs=costs, options={'shoot_solver': shoot_solver, 'shoot_it': shoot_it, 'line_search_fn': 'strong_wolfe'})"
      ]
    },
    {
      "cell_type": "markdown",
      "metadata": {},
      "source": [
        "Compute optimized deformation trajectory.\n\n\n"
      ]
    },
    {
      "cell_type": "code",
      "execution_count": null,
      "metadata": {
        "collapsed": false
      },
      "outputs": [],
      "source": [
        "intermediates = {}\nwith torch.autograd.no_grad():\n    deformed = model.compute_deformed(shoot_solver, shoot_it, intermediates=intermediates)\n    deformed_shape = deformed[0][0]\n    deformed_dots = deformed[1][0]\ndeformed_growth = intermediates['states'][-1][3].gd[0]\ndeformed_growth_rot = intermediates['states'][-1][3].gd[1]\nglobal_translation_controls = [control[2] for control in intermediates['controls']]\ngrowth_controls = [control[3] for control in intermediates['controls']]"
      ]
    },
    {
      "cell_type": "markdown",
      "metadata": {},
      "source": [
        "Plot results.\n\n\n"
      ]
    },
    {
      "cell_type": "code",
      "execution_count": null,
      "metadata": {
        "collapsed": false
      },
      "outputs": [],
      "source": [
        "plt.subplot(1, 3, 1)\nplt.title(\"Source\")\nplt.plot(shape_source[:, 0].numpy(), shape_source[:, 1].numpy(), '-')\nplt.plot(points_growth[:, 0].numpy(), points_growth[:, 1].numpy(), '.')\nplt.axis(aabb_target.totuple())\nplt.axis('equal')\n\nplt.subplot(1, 3, 2)\nplt.title(\"Deformed source\")\nplt.plot(deformed_shape[:, 0], deformed_shape[:, 1], '-')\nplt.plot(deformed_dots[:, 0], deformed_dots[:, 1], '.')\nplt.axis(aabb_target.totuple())\nplt.axis('equal')\n\nplt.subplot(1, 3, 3)\nplt.title(\"Deformed source and target\")\nplt.plot(shape_target[:, 0].numpy(), shape_target[:, 1].numpy(), '-')\nplt.plot(deformed_shape[:, 0], deformed_shape[:, 1], '-')\nplt.plot(deformed_growth[:, 0], deformed_growth[:, 1], '.')\nplt.axis(aabb_target.totuple())\nplt.axis('equal')\nplt.show()"
      ]
    },
    {
      "cell_type": "markdown",
      "metadata": {},
      "source": [
        "Evaluate learned growth factor.\n\n\n"
      ]
    },
    {
      "cell_type": "code",
      "execution_count": null,
      "metadata": {
        "collapsed": false
      },
      "outputs": [],
      "source": [
        "learned_abcd = abcd.detach()\nlearned_C = pol(model.init_manifold[3].gd[0].detach(),\n                learned_abcd[0].unsqueeze(1),\n                learned_abcd[1].unsqueeze(1),\n                learned_abcd[2].unsqueeze(1),\n                learned_abcd[3].unsqueeze(1)).transpose(0, 1).unsqueeze(2).detach()\nprint(\"Learned growth constants model parameters:\\n {}\".format(learned_abcd))"
      ]
    },
    {
      "cell_type": "markdown",
      "metadata": {},
      "source": [
        "Plot learned growth factor.\n\n\n"
      ]
    },
    {
      "cell_type": "code",
      "execution_count": null,
      "metadata": {
        "collapsed": false
      },
      "outputs": [],
      "source": [
        "ax = plt.subplot()\nplt.plot(shape_source[:, 0].numpy(), shape_source[:, 1].numpy(), '-')\nimodal.Utilities.plot_C_ellipses(ax, points_growth, learned_C, R=deformed_growth_rot, scale=1.)\nplt.axis(aabb_source.squared().totuple())\nplt.axis('equal')\nplt.show()"
      ]
    },
    {
      "cell_type": "markdown",
      "metadata": {},
      "source": [
        "Recompute the learned deformation trajectory this time with the grid\ndeformation to visualize growth.\n\n\n"
      ]
    },
    {
      "cell_type": "code",
      "execution_count": null,
      "metadata": {
        "collapsed": false
      },
      "outputs": [],
      "source": [
        "# We extract the modules of the models and fill the right manifolds.\nmodules = imodal.DeformationModules.CompoundModule(copy.copy(model.modules))\nmodules.manifold.fill(model.init_manifold.clone())\nsilent_shape = copy.copy(modules[0])\nsilent_dots = copy.copy(modules[1])\nglobal_translation = copy.copy(modules[2])\ngrowth = copy.copy(modules[3])\n\n# Define the deformation grid.\nsquare_size = 1.\ngrowth_grid_resolution = [math.floor(aabb_source.width/square_size),\n                          math.floor(aabb_source.height/square_size)]\ndeformation_grid = imodal.DeformationModules.DeformationGrid(aabb_source, growth_grid_resolution)\n\n# We construct the controls we will give will shooting.\ncontrols = [[torch.tensor([]), torch.tensor([]), torch.tensor([]), global_translation_control, growth_control] for growth_control, global_translation_control in zip(growth_controls, global_translation_controls)]\n\n# Reshoot.\nintermediates_growth = {}\nwith torch.autograd.no_grad():\n    imodal.HamiltonianDynamic.shoot(imodal.HamiltonianDynamic.Hamiltonian([silent_shape, silent_dots, deformation_grid, global_translation, growth]), shoot_solver, shoot_it, controls=controls, intermediates=intermediates_growth)\n\n# Store final deformation.\nshoot_deformed_shape = silent_shape.manifold.gd.detach()\nshoot_deformed_dots = silent_dots.manifold.gd.detach()\nshoot_deformed_grid = deformation_grid.togrid()"
      ]
    },
    {
      "cell_type": "markdown",
      "metadata": {},
      "source": [
        "Plot the deformation grid.\n\n\n"
      ]
    },
    {
      "cell_type": "code",
      "execution_count": null,
      "metadata": {
        "collapsed": false
      },
      "outputs": [],
      "source": [
        "ax = plt.subplot()\nplt.plot(shape_source[:, 0].numpy(), shape_source[:, 1].numpy(), '--', color='black')\nplt.plot(dots_source[:, 0].numpy(), dots_source[:, 1].numpy(), '.', color='black')\nplt.plot(shape_target[:, 0].numpy(), shape_target[:, 1].numpy(), '.-', color='red')\nplt.plot(dots_target[:, 0].numpy(), dots_target[:, 1].numpy(), '.', color='black')\nplt.plot(shoot_deformed_shape[:, 0].numpy(), shoot_deformed_shape[:, 1].numpy())\nplt.plot(shoot_deformed_dots[:, 0].numpy(), shoot_deformed_dots[:, 1].numpy(), '.')\nimodal.Utilities.plot_grid(ax, shoot_deformed_grid[0], shoot_deformed_grid[1], color='xkcd:light blue', lw=0.4)\nplt.axis('equal')\n\nplt.show()"
      ]
    },
    {
      "cell_type": "markdown",
      "metadata": {},
      "source": [
        "## Perform curve registration using the previously learned growth factor\n\n\n"
      ]
    },
    {
      "cell_type": "markdown",
      "metadata": {},
      "source": [
        "Redefine deformation modules.\n\n\n"
      ]
    },
    {
      "cell_type": "code",
      "execution_count": null,
      "metadata": {
        "collapsed": false
      },
      "outputs": [],
      "source": [
        "global_translation = imodal.DeformationModules.GlobalTranslation(2)\n\ngrowth = imodal.DeformationModules.ImplicitModule1(2, points_growth.shape[0], scale_growth, learned_C, coeff=coeff_growth, nu=nu, gd=(points_growth, rot_growth))\n\nsmall_scale_translation = imodal.DeformationModules.ImplicitModule0(2, shape_source.shape[0], scale_small, coeff=coeff_small, nu=nu, gd=shape_source)"
      ]
    },
    {
      "cell_type": "markdown",
      "metadata": {},
      "source": [
        "Redefine deformables and registration model.\n\n\n"
      ]
    },
    {
      "cell_type": "code",
      "execution_count": null,
      "metadata": {
        "collapsed": false
      },
      "outputs": [],
      "source": [
        "deformable_shape_source = imodal.Models.DeformablePoints(shape_source)\ndeformable_shape_target = imodal.Models.DeformablePoints(shape_target)\n\nrefit_model = imodal.Models.RegistrationModel([deformable_shape_source],\n                [global_translation, growth, small_scale_translation],\n                [imodal.Attachment.VarifoldAttachment(2, [20., 120.], backend='torch')],\n                lam=10.)"
      ]
    },
    {
      "cell_type": "markdown",
      "metadata": {},
      "source": [
        "Fitting using Torch LBFGS optimizer.\n\n\n"
      ]
    },
    {
      "cell_type": "code",
      "execution_count": null,
      "metadata": {
        "collapsed": false
      },
      "outputs": [],
      "source": [
        "shoot_solver = 'euler'\nshoot_it = 10\n\ncosts = {}\nfitter = imodal.Models.Fitter(refit_model, optimizer='torch_lbfgs')\nfitter.fit([deformable_shape_target], 50, costs=costs, options={'shoot_solver': shoot_solver, 'shoot_it': shoot_it, 'line_search_fn': 'strong_wolfe'})"
      ]
    },
    {
      "cell_type": "markdown",
      "metadata": {},
      "source": [
        "Compute optimized deformation trajectory.\n\n\n"
      ]
    },
    {
      "cell_type": "code",
      "execution_count": null,
      "metadata": {
        "collapsed": false
      },
      "outputs": [],
      "source": [
        "intermediates = {}\nwith torch.autograd.no_grad():\n    deformed = refit_model.compute_deformed(shoot_solver, shoot_it, intermediates=intermediates)\n    deformed_shape = deformed[0][0]\ndeformed_growth = intermediates['states'][-1][2].gd[0]\ndeformed_growth_rot = intermediates['states'][-1][2].gd[1]"
      ]
    },
    {
      "cell_type": "markdown",
      "metadata": {},
      "source": [
        "Plot results.\n\n\n"
      ]
    },
    {
      "cell_type": "code",
      "execution_count": null,
      "metadata": {
        "collapsed": false
      },
      "outputs": [],
      "source": [
        "plt.subplot(1, 3, 1)\nplt.title(\"Source\")\nplt.plot(shape_source[:, 0].numpy(), shape_source[:, 1].numpy(), '-')\nplt.plot(points_growth[:, 0].numpy(), points_growth[:, 1].numpy(), '.')\nplt.axis(aabb_target.totuple())\nplt.axis('equal')\n\nplt.subplot(1, 3, 2)\nplt.title(\"Deformed source\")\nplt.plot(deformed_shape[:, 0], deformed_shape[:, 1], '-')\nplt.axis(aabb_target.totuple())\nplt.axis('equal')\n\nplt.subplot(1, 3, 3)\nplt.title(\"Deformed source and target\")\nplt.plot(shape_target[:, 0].numpy(), shape_target[:, 1].numpy(), '-')\nplt.plot(deformed_shape[:, 0], deformed_shape[:, 1], '-')\nplt.plot(deformed_growth[:, 0], deformed_growth[:, 1], '.')\nplt.axis(aabb_target.totuple())\nplt.axis('equal')\nplt.show()"
      ]
    },
    {
      "cell_type": "markdown",
      "metadata": {},
      "source": [
        "Recompute the learned deformation trajectory this time with the grid\ndeformation to visualize growth.\n\n\n"
      ]
    },
    {
      "cell_type": "code",
      "execution_count": null,
      "metadata": {
        "collapsed": false
      },
      "outputs": [],
      "source": [
        "modules = imodal.DeformationModules.CompoundModule(copy.copy(refit_model.modules))\nmodules.manifold.fill(refit_model.init_manifold)\n\nsquare_size = 1.\ngrid_resolution = [math.floor(aabb_source.width/square_size),\n                   math.floor(aabb_source.height/square_size)]\ndeformation_grid = imodal.DeformationModules.DeformationGrid(aabb_source, growth_grid_resolution)\n\ncontrols = [control[1:] for control in intermediates['controls']]\n\ndeformable_shape = imodal.Models.DeformablePoints(shape_source)\ndeformable_shape.silent_module.manifold.cotan = refit_model.init_manifold[0].cotan\ndeformable_grid = imodal.Models.DeformableGrid(aabb_source, grid_resolution)\n\nintermediates = {}\nwith torch.autograd.no_grad():\n    imodal.Models.deformables_compute_deformed([deformable_shape, deformable_grid], modules[1:], shoot_solver, shoot_it, intermediates=intermediates, controls=controls)"
      ]
    },
    {
      "cell_type": "markdown",
      "metadata": {},
      "source": [
        "Plot the growth trajectory.\n\n\n"
      ]
    },
    {
      "cell_type": "code",
      "execution_count": null,
      "metadata": {
        "collapsed": false
      },
      "outputs": [],
      "source": [
        "indices = [0, 3, 7, 10]\n\nfig = plt.figure(figsize=[5.*len(indices), 5.])\nfor i, index in enumerate(indices):\n    state = intermediates['states'][index]\n\n    ax = plt.subplot(1, len(indices), i + 1)\n    deformable_grid.silent_module.manifold.fill_gd(state[1].gd)\n    grid_x, grid_y = deformable_grid.silent_module.togrid()\n    imodal.Utilities.plot_grid(ax, grid_x, grid_y, color='xkcd:light blue', lw=0.4)\n\n    plt.plot(shape_source[:, 0].numpy(), shape_source[:, 1].numpy(), color='black')\n    plt.plot(shape_target[:, 0].numpy(), shape_target[:, 1].numpy(), color='red')\n    plt.plot(state[0].gd[:, 0].numpy(), state[0].gd[:, 1].numpy())\n\n    plt.axis('equal')\n    plt.axis('off')\n\nfig.tight_layout()\nplt.show()"
      ]
    }
  ],
  "metadata": {
    "kernelspec": {
      "display_name": "Python 3",
      "language": "python",
      "name": "python3"
    },
    "language_info": {
      "codemirror_mode": {
        "name": "ipython",
        "version": 3
      },
      "file_extension": ".py",
      "mimetype": "text/x-python",
      "name": "python",
      "nbconvert_exporter": "python",
      "pygments_lexer": "ipython3",
      "version": "3.6.7"
    }
  },
  "nbformat": 4,
  "nbformat_minor": 0
}